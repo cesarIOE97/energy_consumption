{
 "cells": [
  {
   "attachments": {},
   "cell_type": "markdown",
   "metadata": {},
   "source": [
    "# Analysis for Performance and Energy Consumption"
   ]
  },
  {
   "attachments": {},
   "cell_type": "markdown",
   "metadata": {},
   "source": [
    "## Extract information"
   ]
  },
  {
   "cell_type": "code",
   "execution_count": 12,
   "metadata": {},
   "outputs": [],
   "source": [
    "# Libraries\n",
    "\n",
    "import sys\n",
    "import os\n",
    "import glob\n",
    "import webbrowser\n",
    "import natsort\n",
    "import pandas as pd\n",
    "import matplotlib.pyplot as plt\n",
    "import seaborn as sns\n",
    "import plotly\n",
    "import plotly.express as px\n",
    "import plotly.graph_objects as go\n",
    "from sklearn.preprocessing import MaxAbsScaler\n",
    "from IPython.display import display, HTML\n"
   ]
  },
  {
   "cell_type": "code",
   "execution_count": 13,
   "metadata": {},
   "outputs": [],
   "source": [
    "# Directory\n",
    "actual_directory = os.getcwd() + '/'  \n",
    "\n",
    "python_releaseDates = {\n",
    "    'Python 3.13.0a0': '2023-06-07',\n",
    "    'Python 3.12.0b1': '2023-05-22',\n",
    "    'Python 3.11.3': '2023-04-05',\n",
    "    'Python 3.10.11': '2023-04-05',\n",
    "    'Python 3.9.16': '2022-12-06',\n",
    "    'Python 3.8.16': '2022-12-06',\n",
    "    'Python 3.7.16': '2022-12-06',\n",
    "    'Python 3.6.15': '2021-09-04',\n",
    "    'Python 3.5.10': '2020-09-05',\n",
    "    'Python 3.4.10': '2019-03-18',\n",
    "    'Python 3.3.7': '2017-09-19',\n",
    "    'Python 3.2.6': '2014-10-11',\n",
    "    'Python 3.1.5': '2012-04-09',\n",
    "    'Python 3.0.1': '2009-02-13',\n",
    "    'Python 2.7.18': '2020-04-20',\n",
    "    'Python 2.6.9': '2013-10-29',\n",
    "    'Python 2.5.6': '2011-05-26',\n",
    "}\n",
    "\n",
    "cplusplus_releaseDates = {\n",
    "    'g++-4.4 4.4.7': '2012-03-13',\n",
    "    'g++-4.6 4.6.4': '2013-04-12',\n",
    "    'g++-4.7 4.7.4': '2014-06-12',\n",
    "    'g++-4.8 4.8.5': '2015-06-23',\n",
    "    'g++-4.9 4.9.3': '2015-06-26',\n",
    "    'g++-5 5.5.0': '2017-10-10',\n",
    "    'g++-6 6.5.0': '2018-10-26',\n",
    "    'g++-7 7.5.0': '2019-11-14',\n",
    "    'g++-8 8.5.0': '2021-05-14',\n",
    "    'g++-8 ': '2021-05-14',\n",
    "    'g++-9 9.5.0': '2022-05-27',\n",
    "    'g++-10 10.4.0': '2022-06-28',\n",
    "    'g++-10 10.5.0': '2023-07-07',\n",
    "    'g++-11 11.4.0': '2023-05-29',\n",
    "    'g++-12 12.3.0': '2023-05-08',\n",
    "    'g++-13 13.1.0': '2023-04-26',\n",
    "}\n",
    "\n",
    "java_releaseDates = {\n",
    "    '1.8.0_362': '2023-04-18',\n",
    "    '9.0.4': '2018-01-16',\n",
    "    '10.0.2': '2018-07-17',\n",
    "    '11.0.19': '2020-10-20',\n",
    "    '12.0.2': '2019-07-16',\n",
    "    '13.0.2': '2020-01-14',\n",
    "    '14.0.2': '2020-07-14',\n",
    "    '15.0.2': '2021-01-19',\n",
    "    '16.0.2': '2021-07-20',\n",
    "    '17.0.7': '2023-04-18',\n",
    "    '18.0.2-ea': '2022-07-19',\n",
    "    '19.0.2': '2023-01-17',\n",
    "    '20.0.2': '2023-07-18',\n",
    "}\n",
    "\n",
    "js_releaseDates = {\n",
    "    '20.5.1': '2023-08-09',\n",
    "    '19.9.0': '2023-04-10',\n",
    "    '18.17.1': '2023-08-08',\n",
    "    '17.9.1': '2022-06-01',\n",
    "    '16.20.2': '2023-08-08',\n",
    "    '15.14.0': '2021-04-06',\n",
    "    '14.21.3': '2023-02-16',\n",
    "    '13.14.0': '2020-04-29',\n",
    "    '12.22.12': '2022-04-05',\n",
    "    '11.15.0': '2019-04-30',\n",
    "    '10.24.1': '2021-04-06',\n",
    "    '9.11.2': '2018-06-12',\n",
    "    '8.17.0': '2019-12-17',\n",
    "    '7.10.1': '2017-07-11',\n",
    "    '6.17.1': '2019-04-03',\n",
    "    '5.12.0': '2016-06-23',\n",
    "    '4.9.1': '2018-03-29',\n",
    "    '3.3.1': '2015-09-15',\n",
    "    '2.5.0': '2015-07-28',\n",
    "    '1.8.4': '2015-07-09',\n",
    "    '0.12.18': '2017-02-22',\n",
    "    '0.10.48': '2016-10-18',\n",
    "    '0.8.28': '2014-07-31'\n",
    "}\n",
    "\n",
    "# Function to get release date for a given Python version\n",
    "def get_release_date(version):\n",
    "    if language == 'python':\n",
    "        return python_releaseDates.get(version, 'Unknown')\n",
    "    elif language == 'c++':\n",
    "        return cplusplus_releaseDates.get(version, 'Unknown')\n",
    "    elif language == 'java':\n",
    "        return java_releaseDates.get(version, 'Unknown')\n",
    "    elif language == 'js':\n",
    "        return js_releaseDates.get(version, 'Unknown')\n",
    "\n",
    "# Function to convert \"g\", \"m\" or KiB to \"byte\"\n",
    "def convert_g_to_byte(value):\n",
    "    value_str = str(value)\n",
    "    if value_str[:-1] == \"\":\n",
    "        Byte_value = 0\n",
    "    elif value_str[-1].lower() == 'g':\n",
    "        g_value = float(value_str[:-1])\n",
    "        Byte_value = g_value * 1024 * 1024 * 1024  # 1 giga = 1,000,000,000\n",
    "    elif value_str[-1].lower() == 'm':\n",
    "        m_value = float(value_str[:-1])\n",
    "        Byte_value = m_value * 1024 * 1024 # 1 giga = 1,000,000\n",
    "    else:\n",
    "        k_value = float(value_str)\n",
    "        Byte_value = k_value * 1024 # 1 kilo = 1,000\n",
    "    return int(Byte_value)\n",
    "\n",
    "def convert_toUnit(column):\n",
    "    column = column.apply(convert_g_to_byte)\n",
    "    column = pd.to_numeric(column, errors='coerce')\n",
    "    return column\n",
    "    \n",
    "def Data_normalized(df, tool):\n",
    "    df_data = df[['version', 'release_date', 'path', 'appplication']]\n",
    "    if tool == \"turbostat\": \n",
    "        df_metric = df.loc[:, ~df.columns.isin(['version', 'release_date', 'path', 'appplication'])]\n",
    "    elif tool == \"top\":\n",
    "        df_metric = df[['virt', 'res', 'shr', 'percent_cpu', 'percent_mem',\n",
    "                    'nTH', 'P', 'SWAP', 'CODE', 'DATA', 'nMaj',\n",
    "                    'nDRT', 'USED']]\n",
    "\n",
    "    transformer = MaxAbsScaler().fit(df_metric)\n",
    "    scaled = transformer.transform(df_metric)\n",
    "\n",
    "    df_norm = pd.DataFrame(scaled, columns=df_metric.columns)\n",
    "    df = pd.concat([df_data,df_norm.reindex(df_data.index)], axis=1)\n",
    "    return df\n",
    "\n",
    "# Function to extract information in every file\n",
    "def from_CSVfile(file, directory, tool):\n",
    "     # Read CSV file\n",
    "    df = pd.read_csv(file)\n",
    "    if language == 'js': df['version'] = df['version'].str.replace('v', '')\n",
    "    \n",
    "    # New column 'release_date' as the second \n",
    "    df['release_date'] = df['version'].apply(get_release_date)\n",
    "    df.insert(1, 'release_date', df.pop('release_date'))\n",
    "\n",
    "    # Convert date into datetime\n",
    "    df['release_date'] = pd.to_datetime(df['release_date'])\n",
    "\n",
    "    # New column 'path' as the third\n",
    "    df['path'] = directory\n",
    "    df.insert(2, 'path', df.pop('path'))\n",
    "\n",
    "    # Clean and remove the unnecessary rows\n",
    "    df.replace(to_replace='-', value=0, inplace=True)\n",
    "\n",
    "    # Apply the conversion function to the DataFrame column\n",
    "    if tool == \"top\":\n",
    "        df = df.dropna(subset=['command'])\n",
    "        df['virt'] = convert_toUnit(df['virt'])\n",
    "        df['res'] = convert_toUnit(df['res'])\n",
    "        df['shr'] = convert_toUnit(df['shr'])\n",
    "        df['CODE'] = convert_toUnit(df['CODE'])\n",
    "        df['DATA'] = convert_toUnit(df['DATA'])\n",
    "        df['SWAP'] = convert_toUnit(df['SWAP'])\n",
    "        df['USED'] = convert_toUnit(df['USED'])\n",
    "\n",
    "    # Changes in the 'version' column\n",
    "    if language == 'python': df['version'] = df['version'].str.replace('Python ', '')\n",
    "    if language == 'c++': df['version'] = df['version'].str.split().str[0]\n",
    "    #if language == 'js': df['version'] = df['version'].apply(lambda x: 'v' + x)\n",
    "\n",
    "    # with pd.option_context('display.max_rows', None, 'display.max_columns', None):  # more options can be specified also\n",
    "    #     print(df)\n",
    "\n",
    "    return df\n",
    "\n",
    "# Extract all information from ALL files\n",
    "def from_CSVfiles(tool, norm):\n",
    "\n",
    "    all_df = pd.DataFrame()\n",
    "\n",
    "    extra = ''\n",
    "    if tool == \"turbostat\": extra = \"_performance\"\n",
    "\n",
    "    list_directories = next(os.walk(language))[1]\n",
    "    list_directories.sort()\n",
    "\n",
    "    for directory_name in list_directories:\n",
    "        if directory_name != \"older\" and directory_name != \"test\" and directory_name != \"general_plots\":\n",
    "            path=language + '/' + directory_name + '/' + tool + '/'\n",
    "            if tool != \"top\": path = path + tool + extra\n",
    "            if tool == \"top\":\n",
    "\n",
    "                df = pd.DataFrame()\n",
    "                list_files = os.listdir(path)\n",
    "\n",
    "                # Get list of all files only in the given directory\n",
    "                list_files = natsort.natsorted(list_files)\n",
    "\n",
    "                for file_name in list_files:\n",
    "                    if file_name.startswith(\"temp_top_data_\") and file_name.endswith('.csv'):\n",
    "                        df_Top = from_CSVfile(path + file_name, directory_name, tool)\n",
    "                        df = pd.concat([df, df_Top])\n",
    "\n",
    "                df.to_csv(path + \"top_data_allVersions.csv\", index=False)\n",
    "            else:\n",
    "                df = from_CSVfile(path + '_data_allVersions.csv', directory_name, tool)\n",
    "                if norm: df = Data_normalized(df, tool)\n",
    "            all_df = pd.concat([all_df, df])\n",
    "\n",
    "    return all_df"
   ]
  },
  {
   "cell_type": "code",
   "execution_count": 14,
   "metadata": {},
   "outputs": [
    {
     "ename": "FileNotFoundError",
     "evalue": "[Errno 2] No such file or directory: 'js/general_plots_v1/perf/perf_data_allVersions.csv'",
     "output_type": "error",
     "traceback": [
      "\u001b[0;31m---------------------------------------------------------------------------\u001b[0m",
      "\u001b[0;31mFileNotFoundError\u001b[0m                         Traceback (most recent call last)",
      "Cell \u001b[0;32mIn[14], line 3\u001b[0m\n\u001b[1;32m      1\u001b[0m language \u001b[39m=\u001b[39m \u001b[39m\"\u001b[39m\u001b[39mjs\u001b[39m\u001b[39m\"\u001b[39m\n\u001b[0;32m----> 3\u001b[0m df \u001b[39m=\u001b[39m from_CSVfiles(\u001b[39m\"\u001b[39;49m\u001b[39mperf\u001b[39;49m\u001b[39m\"\u001b[39;49m, norm\u001b[39m=\u001b[39;49m\u001b[39mFalse\u001b[39;49;00m)\n",
      "Cell \u001b[0;32mIn[13], line 204\u001b[0m, in \u001b[0;36mfrom_CSVfiles\u001b[0;34m(tool, norm)\u001b[0m\n\u001b[1;32m    202\u001b[0m     df\u001b[39m.\u001b[39mto_csv(path \u001b[39m+\u001b[39m \u001b[39m\"\u001b[39m\u001b[39mtop_data_allVersions.csv\u001b[39m\u001b[39m\"\u001b[39m, index\u001b[39m=\u001b[39m\u001b[39mFalse\u001b[39;00m)\n\u001b[1;32m    203\u001b[0m \u001b[39melse\u001b[39;00m:\n\u001b[0;32m--> 204\u001b[0m     df \u001b[39m=\u001b[39m from_CSVfile(path \u001b[39m+\u001b[39;49m \u001b[39m'\u001b[39;49m\u001b[39m_data_allVersions.csv\u001b[39;49m\u001b[39m'\u001b[39;49m, directory_name, tool)\n\u001b[1;32m    205\u001b[0m     \u001b[39mif\u001b[39;00m norm: df \u001b[39m=\u001b[39m Data_normalized(df, tool)\n\u001b[1;32m    206\u001b[0m all_df \u001b[39m=\u001b[39m pd\u001b[39m.\u001b[39mconcat([all_df, df])\n",
      "Cell \u001b[0;32mIn[13], line 136\u001b[0m, in \u001b[0;36mfrom_CSVfile\u001b[0;34m(file, directory, tool)\u001b[0m\n\u001b[1;32m    134\u001b[0m \u001b[39mdef\u001b[39;00m \u001b[39mfrom_CSVfile\u001b[39m(file, directory, tool):\n\u001b[1;32m    135\u001b[0m      \u001b[39m# Read CSV file\u001b[39;00m\n\u001b[0;32m--> 136\u001b[0m     df \u001b[39m=\u001b[39m pd\u001b[39m.\u001b[39;49mread_csv(file)\n\u001b[1;32m    137\u001b[0m     \u001b[39mif\u001b[39;00m language \u001b[39m==\u001b[39m \u001b[39m'\u001b[39m\u001b[39mjs\u001b[39m\u001b[39m'\u001b[39m: df[\u001b[39m'\u001b[39m\u001b[39mversion\u001b[39m\u001b[39m'\u001b[39m] \u001b[39m=\u001b[39m df[\u001b[39m'\u001b[39m\u001b[39mversion\u001b[39m\u001b[39m'\u001b[39m]\u001b[39m.\u001b[39mstr\u001b[39m.\u001b[39mreplace(\u001b[39m'\u001b[39m\u001b[39mv\u001b[39m\u001b[39m'\u001b[39m, \u001b[39m'\u001b[39m\u001b[39m'\u001b[39m)\n\u001b[1;32m    139\u001b[0m     \u001b[39m# New column 'release_date' as the second \u001b[39;00m\n",
      "File \u001b[0;32m~/.pyenv/versions/3.11.3/lib/python3.11/site-packages/pandas/io/parsers/readers.py:912\u001b[0m, in \u001b[0;36mread_csv\u001b[0;34m(filepath_or_buffer, sep, delimiter, header, names, index_col, usecols, dtype, engine, converters, true_values, false_values, skipinitialspace, skiprows, skipfooter, nrows, na_values, keep_default_na, na_filter, verbose, skip_blank_lines, parse_dates, infer_datetime_format, keep_date_col, date_parser, date_format, dayfirst, cache_dates, iterator, chunksize, compression, thousands, decimal, lineterminator, quotechar, quoting, doublequote, escapechar, comment, encoding, encoding_errors, dialect, on_bad_lines, delim_whitespace, low_memory, memory_map, float_precision, storage_options, dtype_backend)\u001b[0m\n\u001b[1;32m    899\u001b[0m kwds_defaults \u001b[39m=\u001b[39m _refine_defaults_read(\n\u001b[1;32m    900\u001b[0m     dialect,\n\u001b[1;32m    901\u001b[0m     delimiter,\n\u001b[0;32m   (...)\u001b[0m\n\u001b[1;32m    908\u001b[0m     dtype_backend\u001b[39m=\u001b[39mdtype_backend,\n\u001b[1;32m    909\u001b[0m )\n\u001b[1;32m    910\u001b[0m kwds\u001b[39m.\u001b[39mupdate(kwds_defaults)\n\u001b[0;32m--> 912\u001b[0m \u001b[39mreturn\u001b[39;00m _read(filepath_or_buffer, kwds)\n",
      "File \u001b[0;32m~/.pyenv/versions/3.11.3/lib/python3.11/site-packages/pandas/io/parsers/readers.py:577\u001b[0m, in \u001b[0;36m_read\u001b[0;34m(filepath_or_buffer, kwds)\u001b[0m\n\u001b[1;32m    574\u001b[0m _validate_names(kwds\u001b[39m.\u001b[39mget(\u001b[39m\"\u001b[39m\u001b[39mnames\u001b[39m\u001b[39m\"\u001b[39m, \u001b[39mNone\u001b[39;00m))\n\u001b[1;32m    576\u001b[0m \u001b[39m# Create the parser.\u001b[39;00m\n\u001b[0;32m--> 577\u001b[0m parser \u001b[39m=\u001b[39m TextFileReader(filepath_or_buffer, \u001b[39m*\u001b[39;49m\u001b[39m*\u001b[39;49mkwds)\n\u001b[1;32m    579\u001b[0m \u001b[39mif\u001b[39;00m chunksize \u001b[39mor\u001b[39;00m iterator:\n\u001b[1;32m    580\u001b[0m     \u001b[39mreturn\u001b[39;00m parser\n",
      "File \u001b[0;32m~/.pyenv/versions/3.11.3/lib/python3.11/site-packages/pandas/io/parsers/readers.py:1407\u001b[0m, in \u001b[0;36mTextFileReader.__init__\u001b[0;34m(self, f, engine, **kwds)\u001b[0m\n\u001b[1;32m   1404\u001b[0m     \u001b[39mself\u001b[39m\u001b[39m.\u001b[39moptions[\u001b[39m\"\u001b[39m\u001b[39mhas_index_names\u001b[39m\u001b[39m\"\u001b[39m] \u001b[39m=\u001b[39m kwds[\u001b[39m\"\u001b[39m\u001b[39mhas_index_names\u001b[39m\u001b[39m\"\u001b[39m]\n\u001b[1;32m   1406\u001b[0m \u001b[39mself\u001b[39m\u001b[39m.\u001b[39mhandles: IOHandles \u001b[39m|\u001b[39m \u001b[39mNone\u001b[39;00m \u001b[39m=\u001b[39m \u001b[39mNone\u001b[39;00m\n\u001b[0;32m-> 1407\u001b[0m \u001b[39mself\u001b[39m\u001b[39m.\u001b[39m_engine \u001b[39m=\u001b[39m \u001b[39mself\u001b[39;49m\u001b[39m.\u001b[39;49m_make_engine(f, \u001b[39mself\u001b[39;49m\u001b[39m.\u001b[39;49mengine)\n",
      "File \u001b[0;32m~/.pyenv/versions/3.11.3/lib/python3.11/site-packages/pandas/io/parsers/readers.py:1661\u001b[0m, in \u001b[0;36mTextFileReader._make_engine\u001b[0;34m(self, f, engine)\u001b[0m\n\u001b[1;32m   1659\u001b[0m     \u001b[39mif\u001b[39;00m \u001b[39m\"\u001b[39m\u001b[39mb\u001b[39m\u001b[39m\"\u001b[39m \u001b[39mnot\u001b[39;00m \u001b[39min\u001b[39;00m mode:\n\u001b[1;32m   1660\u001b[0m         mode \u001b[39m+\u001b[39m\u001b[39m=\u001b[39m \u001b[39m\"\u001b[39m\u001b[39mb\u001b[39m\u001b[39m\"\u001b[39m\n\u001b[0;32m-> 1661\u001b[0m \u001b[39mself\u001b[39m\u001b[39m.\u001b[39mhandles \u001b[39m=\u001b[39m get_handle(\n\u001b[1;32m   1662\u001b[0m     f,\n\u001b[1;32m   1663\u001b[0m     mode,\n\u001b[1;32m   1664\u001b[0m     encoding\u001b[39m=\u001b[39;49m\u001b[39mself\u001b[39;49m\u001b[39m.\u001b[39;49moptions\u001b[39m.\u001b[39;49mget(\u001b[39m\"\u001b[39;49m\u001b[39mencoding\u001b[39;49m\u001b[39m\"\u001b[39;49m, \u001b[39mNone\u001b[39;49;00m),\n\u001b[1;32m   1665\u001b[0m     compression\u001b[39m=\u001b[39;49m\u001b[39mself\u001b[39;49m\u001b[39m.\u001b[39;49moptions\u001b[39m.\u001b[39;49mget(\u001b[39m\"\u001b[39;49m\u001b[39mcompression\u001b[39;49m\u001b[39m\"\u001b[39;49m, \u001b[39mNone\u001b[39;49;00m),\n\u001b[1;32m   1666\u001b[0m     memory_map\u001b[39m=\u001b[39;49m\u001b[39mself\u001b[39;49m\u001b[39m.\u001b[39;49moptions\u001b[39m.\u001b[39;49mget(\u001b[39m\"\u001b[39;49m\u001b[39mmemory_map\u001b[39;49m\u001b[39m\"\u001b[39;49m, \u001b[39mFalse\u001b[39;49;00m),\n\u001b[1;32m   1667\u001b[0m     is_text\u001b[39m=\u001b[39;49mis_text,\n\u001b[1;32m   1668\u001b[0m     errors\u001b[39m=\u001b[39;49m\u001b[39mself\u001b[39;49m\u001b[39m.\u001b[39;49moptions\u001b[39m.\u001b[39;49mget(\u001b[39m\"\u001b[39;49m\u001b[39mencoding_errors\u001b[39;49m\u001b[39m\"\u001b[39;49m, \u001b[39m\"\u001b[39;49m\u001b[39mstrict\u001b[39;49m\u001b[39m\"\u001b[39;49m),\n\u001b[1;32m   1669\u001b[0m     storage_options\u001b[39m=\u001b[39;49m\u001b[39mself\u001b[39;49m\u001b[39m.\u001b[39;49moptions\u001b[39m.\u001b[39;49mget(\u001b[39m\"\u001b[39;49m\u001b[39mstorage_options\u001b[39;49m\u001b[39m\"\u001b[39;49m, \u001b[39mNone\u001b[39;49;00m),\n\u001b[1;32m   1670\u001b[0m )\n\u001b[1;32m   1671\u001b[0m \u001b[39massert\u001b[39;00m \u001b[39mself\u001b[39m\u001b[39m.\u001b[39mhandles \u001b[39mis\u001b[39;00m \u001b[39mnot\u001b[39;00m \u001b[39mNone\u001b[39;00m\n\u001b[1;32m   1672\u001b[0m f \u001b[39m=\u001b[39m \u001b[39mself\u001b[39m\u001b[39m.\u001b[39mhandles\u001b[39m.\u001b[39mhandle\n",
      "File \u001b[0;32m~/.pyenv/versions/3.11.3/lib/python3.11/site-packages/pandas/io/common.py:859\u001b[0m, in \u001b[0;36mget_handle\u001b[0;34m(path_or_buf, mode, encoding, compression, memory_map, is_text, errors, storage_options)\u001b[0m\n\u001b[1;32m    854\u001b[0m \u001b[39melif\u001b[39;00m \u001b[39misinstance\u001b[39m(handle, \u001b[39mstr\u001b[39m):\n\u001b[1;32m    855\u001b[0m     \u001b[39m# Check whether the filename is to be opened in binary mode.\u001b[39;00m\n\u001b[1;32m    856\u001b[0m     \u001b[39m# Binary mode does not support 'encoding' and 'newline'.\u001b[39;00m\n\u001b[1;32m    857\u001b[0m     \u001b[39mif\u001b[39;00m ioargs\u001b[39m.\u001b[39mencoding \u001b[39mand\u001b[39;00m \u001b[39m\"\u001b[39m\u001b[39mb\u001b[39m\u001b[39m\"\u001b[39m \u001b[39mnot\u001b[39;00m \u001b[39min\u001b[39;00m ioargs\u001b[39m.\u001b[39mmode:\n\u001b[1;32m    858\u001b[0m         \u001b[39m# Encoding\u001b[39;00m\n\u001b[0;32m--> 859\u001b[0m         handle \u001b[39m=\u001b[39m \u001b[39mopen\u001b[39;49m(\n\u001b[1;32m    860\u001b[0m             handle,\n\u001b[1;32m    861\u001b[0m             ioargs\u001b[39m.\u001b[39;49mmode,\n\u001b[1;32m    862\u001b[0m             encoding\u001b[39m=\u001b[39;49mioargs\u001b[39m.\u001b[39;49mencoding,\n\u001b[1;32m    863\u001b[0m             errors\u001b[39m=\u001b[39;49merrors,\n\u001b[1;32m    864\u001b[0m             newline\u001b[39m=\u001b[39;49m\u001b[39m\"\u001b[39;49m\u001b[39m\"\u001b[39;49m,\n\u001b[1;32m    865\u001b[0m         )\n\u001b[1;32m    866\u001b[0m     \u001b[39melse\u001b[39;00m:\n\u001b[1;32m    867\u001b[0m         \u001b[39m# Binary mode\u001b[39;00m\n\u001b[1;32m    868\u001b[0m         handle \u001b[39m=\u001b[39m \u001b[39mopen\u001b[39m(handle, ioargs\u001b[39m.\u001b[39mmode)\n",
      "\u001b[0;31mFileNotFoundError\u001b[0m: [Errno 2] No such file or directory: 'js/general_plots_v1/perf/perf_data_allVersions.csv'"
     ]
    }
   ],
   "source": [
    "language = \"js\"\n",
    "\n",
    "df = from_CSVfiles(\"perf\", norm=False)"
   ]
  },
  {
   "cell_type": "code",
   "execution_count": null,
   "metadata": {},
   "outputs": [],
   "source": [
    "def custom_hover(program, x, y, mean, diff, percent_diff):\n",
    "    percent_difffromMean = 0 if mean == 0 else 100 * (y/mean)\n",
    "    return f'Version: {x}<br>Program: {program}<br><b><i>Percentage Difference:</i> {percent_diff:.2f}%</b><br>Difference: {diff:.2f}<br><b><i>Percentage Difference from Mean:</i> {percent_difffromMean:.2f}%</b><br>Difference From Mean: {y:.2f}<br>Mean: {mean:.2f}<br>'\n"
   ]
  },
  {
   "cell_type": "code",
   "execution_count": null,
   "metadata": {},
   "outputs": [
    {
     "data": {
      "text/html": [
       "<div>\n",
       "<style scoped>\n",
       "    .dataframe tbody tr th:only-of-type {\n",
       "        vertical-align: middle;\n",
       "    }\n",
       "\n",
       "    .dataframe tbody tr th {\n",
       "        vertical-align: top;\n",
       "    }\n",
       "\n",
       "    .dataframe thead th {\n",
       "        text-align: right;\n",
       "    }\n",
       "</style>\n",
       "<table border=\"1\" class=\"dataframe\">\n",
       "  <thead>\n",
       "    <tr style=\"text-align: right;\">\n",
       "      <th></th>\n",
       "      <th>path</th>\n",
       "      <th>version</th>\n",
       "      <th>virt</th>\n",
       "    </tr>\n",
       "  </thead>\n",
       "  <tbody>\n",
       "    <tr>\n",
       "      <th>8</th>\n",
       "      <td>binaryTrees_21_original_v1</td>\n",
       "      <td>19.9.0</td>\n",
       "      <td>6.219736e+09</td>\n",
       "    </tr>\n",
       "    <tr>\n",
       "      <th>12</th>\n",
       "      <td>binaryTrees_21_original_v7</td>\n",
       "      <td>8.17.0</td>\n",
       "      <td>1.806563e+09</td>\n",
       "    </tr>\n",
       "    <tr>\n",
       "      <th>36</th>\n",
       "      <td>binaryTrees_21_v7</td>\n",
       "      <td>9.11.2</td>\n",
       "      <td>1.674272e+09</td>\n",
       "    </tr>\n",
       "    <tr>\n",
       "      <th>69</th>\n",
       "      <td>nbody_50000000</td>\n",
       "      <td>19.9.0</td>\n",
       "      <td>1.014264e+09</td>\n",
       "    </tr>\n",
       "    <tr>\n",
       "      <th>84</th>\n",
       "      <td>nbody_50000000_original</td>\n",
       "      <td>19.9.0</td>\n",
       "      <td>1.014096e+09</td>\n",
       "    </tr>\n",
       "  </tbody>\n",
       "</table>\n",
       "</div>"
      ],
      "text/plain": [
       "                          path version          virt\n",
       "8   binaryTrees_21_original_v1  19.9.0  6.219736e+09\n",
       "12  binaryTrees_21_original_v7  8.17.0  1.806563e+09\n",
       "36           binaryTrees_21_v7  9.11.2  1.674272e+09\n",
       "69              nbody_50000000  19.9.0  1.014264e+09\n",
       "84     nbody_50000000_original  19.9.0  1.014096e+09"
      ]
     },
     "metadata": {},
     "output_type": "display_data"
    },
    {
     "data": {
      "text/html": [
       "<div>\n",
       "<style scoped>\n",
       "    .dataframe tbody tr th:only-of-type {\n",
       "        vertical-align: middle;\n",
       "    }\n",
       "\n",
       "    .dataframe tbody tr th {\n",
       "        vertical-align: top;\n",
       "    }\n",
       "\n",
       "    .dataframe thead th {\n",
       "        text-align: right;\n",
       "    }\n",
       "</style>\n",
       "<table border=\"1\" class=\"dataframe\">\n",
       "  <thead>\n",
       "    <tr style=\"text-align: right;\">\n",
       "      <th></th>\n",
       "      <th>path</th>\n",
       "      <th>version</th>\n",
       "      <th>virt</th>\n",
       "    </tr>\n",
       "  </thead>\n",
       "  <tbody>\n",
       "    <tr>\n",
       "      <th>3</th>\n",
       "      <td>binaryTrees_21_original_v1</td>\n",
       "      <td>14.21.3</td>\n",
       "      <td>2.533270e+09</td>\n",
       "    </tr>\n",
       "    <tr>\n",
       "      <th>14</th>\n",
       "      <td>binaryTrees_21_original_v7</td>\n",
       "      <td>10.24.1</td>\n",
       "      <td>9.451342e+08</td>\n",
       "    </tr>\n",
       "    <tr>\n",
       "      <th>26</th>\n",
       "      <td>binaryTrees_21_v7</td>\n",
       "      <td>0.10.48</td>\n",
       "      <td>8.989883e+08</td>\n",
       "    </tr>\n",
       "    <tr>\n",
       "      <th>60</th>\n",
       "      <td>nbody_50000000</td>\n",
       "      <td>10.24.1</td>\n",
       "      <td>5.618975e+08</td>\n",
       "    </tr>\n",
       "    <tr>\n",
       "      <th>75</th>\n",
       "      <td>nbody_50000000_original</td>\n",
       "      <td>10.24.1</td>\n",
       "      <td>5.618770e+08</td>\n",
       "    </tr>\n",
       "  </tbody>\n",
       "</table>\n",
       "</div>"
      ],
      "text/plain": [
       "                          path  version          virt\n",
       "3   binaryTrees_21_original_v1  14.21.3  2.533270e+09\n",
       "14  binaryTrees_21_original_v7  10.24.1  9.451342e+08\n",
       "26           binaryTrees_21_v7  0.10.48  8.989883e+08\n",
       "60              nbody_50000000  10.24.1  5.618975e+08\n",
       "75     nbody_50000000_original  10.24.1  5.618770e+08"
      ]
     },
     "metadata": {},
     "output_type": "display_data"
    },
    {
     "name": "stderr",
     "output_type": "stream",
     "text": [
      "/tmp/ipykernel_107093/3395108535.py:28: SettingWithCopyWarning:\n",
      "\n",
      "\n",
      "A value is trying to be set on a copy of a slice from a DataFrame.\n",
      "Try using .loc[row_indexer,col_indexer] = value instead\n",
      "\n",
      "See the caveats in the documentation: https://pandas.pydata.org/pandas-docs/stable/user_guide/indexing.html#returning-a-view-versus-a-copy\n",
      "\n",
      "/tmp/ipykernel_107093/3395108535.py:29: SettingWithCopyWarning:\n",
      "\n",
      "\n",
      "A value is trying to be set on a copy of a slice from a DataFrame.\n",
      "Try using .loc[row_indexer,col_indexer] = value instead\n",
      "\n",
      "See the caveats in the documentation: https://pandas.pydata.org/pandas-docs/stable/user_guide/indexing.html#returning-a-view-versus-a-copy\n",
      "\n",
      "/tmp/ipykernel_107093/3395108535.py:30: SettingWithCopyWarning:\n",
      "\n",
      "\n",
      "A value is trying to be set on a copy of a slice from a DataFrame.\n",
      "Try using .loc[row_indexer,col_indexer] = value instead\n",
      "\n",
      "See the caveats in the documentation: https://pandas.pydata.org/pandas-docs/stable/user_guide/indexing.html#returning-a-view-versus-a-copy\n",
      "\n",
      "/tmp/ipykernel_107093/3395108535.py:28: SettingWithCopyWarning:\n",
      "\n",
      "\n",
      "A value is trying to be set on a copy of a slice from a DataFrame.\n",
      "Try using .loc[row_indexer,col_indexer] = value instead\n",
      "\n",
      "See the caveats in the documentation: https://pandas.pydata.org/pandas-docs/stable/user_guide/indexing.html#returning-a-view-versus-a-copy\n",
      "\n",
      "/tmp/ipykernel_107093/3395108535.py:29: SettingWithCopyWarning:\n",
      "\n",
      "\n",
      "A value is trying to be set on a copy of a slice from a DataFrame.\n",
      "Try using .loc[row_indexer,col_indexer] = value instead\n",
      "\n",
      "See the caveats in the documentation: https://pandas.pydata.org/pandas-docs/stable/user_guide/indexing.html#returning-a-view-versus-a-copy\n",
      "\n",
      "/tmp/ipykernel_107093/3395108535.py:30: SettingWithCopyWarning:\n",
      "\n",
      "\n",
      "A value is trying to be set on a copy of a slice from a DataFrame.\n",
      "Try using .loc[row_indexer,col_indexer] = value instead\n",
      "\n",
      "See the caveats in the documentation: https://pandas.pydata.org/pandas-docs/stable/user_guide/indexing.html#returning-a-view-versus-a-copy\n",
      "\n",
      "/tmp/ipykernel_107093/3395108535.py:28: SettingWithCopyWarning:\n",
      "\n",
      "\n",
      "A value is trying to be set on a copy of a slice from a DataFrame.\n",
      "Try using .loc[row_indexer,col_indexer] = value instead\n",
      "\n",
      "See the caveats in the documentation: https://pandas.pydata.org/pandas-docs/stable/user_guide/indexing.html#returning-a-view-versus-a-copy\n",
      "\n",
      "/tmp/ipykernel_107093/3395108535.py:29: SettingWithCopyWarning:\n",
      "\n",
      "\n",
      "A value is trying to be set on a copy of a slice from a DataFrame.\n",
      "Try using .loc[row_indexer,col_indexer] = value instead\n",
      "\n",
      "See the caveats in the documentation: https://pandas.pydata.org/pandas-docs/stable/user_guide/indexing.html#returning-a-view-versus-a-copy\n",
      "\n",
      "/tmp/ipykernel_107093/3395108535.py:30: SettingWithCopyWarning:\n",
      "\n",
      "\n",
      "A value is trying to be set on a copy of a slice from a DataFrame.\n",
      "Try using .loc[row_indexer,col_indexer] = value instead\n",
      "\n",
      "See the caveats in the documentation: https://pandas.pydata.org/pandas-docs/stable/user_guide/indexing.html#returning-a-view-versus-a-copy\n",
      "\n",
      "/tmp/ipykernel_107093/3395108535.py:28: SettingWithCopyWarning:\n",
      "\n",
      "\n",
      "A value is trying to be set on a copy of a slice from a DataFrame.\n",
      "Try using .loc[row_indexer,col_indexer] = value instead\n",
      "\n",
      "See the caveats in the documentation: https://pandas.pydata.org/pandas-docs/stable/user_guide/indexing.html#returning-a-view-versus-a-copy\n",
      "\n",
      "/tmp/ipykernel_107093/3395108535.py:29: SettingWithCopyWarning:\n",
      "\n",
      "\n",
      "A value is trying to be set on a copy of a slice from a DataFrame.\n",
      "Try using .loc[row_indexer,col_indexer] = value instead\n",
      "\n",
      "See the caveats in the documentation: https://pandas.pydata.org/pandas-docs/stable/user_guide/indexing.html#returning-a-view-versus-a-copy\n",
      "\n",
      "/tmp/ipykernel_107093/3395108535.py:30: SettingWithCopyWarning:\n",
      "\n",
      "\n",
      "A value is trying to be set on a copy of a slice from a DataFrame.\n",
      "Try using .loc[row_indexer,col_indexer] = value instead\n",
      "\n",
      "See the caveats in the documentation: https://pandas.pydata.org/pandas-docs/stable/user_guide/indexing.html#returning-a-view-versus-a-copy\n",
      "\n",
      "/tmp/ipykernel_107093/3395108535.py:28: SettingWithCopyWarning:\n",
      "\n",
      "\n",
      "A value is trying to be set on a copy of a slice from a DataFrame.\n",
      "Try using .loc[row_indexer,col_indexer] = value instead\n",
      "\n",
      "See the caveats in the documentation: https://pandas.pydata.org/pandas-docs/stable/user_guide/indexing.html#returning-a-view-versus-a-copy\n",
      "\n",
      "/tmp/ipykernel_107093/3395108535.py:29: SettingWithCopyWarning:\n",
      "\n",
      "\n",
      "A value is trying to be set on a copy of a slice from a DataFrame.\n",
      "Try using .loc[row_indexer,col_indexer] = value instead\n",
      "\n",
      "See the caveats in the documentation: https://pandas.pydata.org/pandas-docs/stable/user_guide/indexing.html#returning-a-view-versus-a-copy\n",
      "\n",
      "/tmp/ipykernel_107093/3395108535.py:30: SettingWithCopyWarning:\n",
      "\n",
      "\n",
      "A value is trying to be set on a copy of a slice from a DataFrame.\n",
      "Try using .loc[row_indexer,col_indexer] = value instead\n",
      "\n",
      "See the caveats in the documentation: https://pandas.pydata.org/pandas-docs/stable/user_guide/indexing.html#returning-a-view-versus-a-copy\n",
      "\n"
     ]
    },
    {
     "data": {
      "application/vnd.plotly.v1+json": {
       "config": {
        "plotlyServerURL": "https://plot.ly"
       },
       "data": [
        {
         "hovertemplate": [
          "Version: 11.15.0<br>Program: binaryTrees_21_original_v1<br><b><i>Percentage Difference:</i> nan%</b><br>Difference: nan<br><b><i>Percentage Difference from Mean:</i> -16.18%</b><br>Difference From Mean: -556072045.07<br>Mean: 3436720158.30<br>",
          "Version: 12.22.12<br>Program: binaryTrees_21_original_v1<br><b><i>Percentage Difference:</i> -1.04%</b><br>Difference: -29923249.23<br><b><i>Percentage Difference from Mean:</i> -17.05%</b><br>Difference From Mean: -585995294.30<br>Mean: 3436720158.30<br>",
          "Version: 13.14.0<br>Program: binaryTrees_21_original_v1<br><b><i>Percentage Difference:</i> 5.26%</b><br>Difference: 150078805.33<br><b><i>Percentage Difference from Mean:</i> -12.68%</b><br>Difference From Mean: -435916488.97<br>Mean: 3436720158.30<br>",
          "Version: 14.21.3<br>Program: binaryTrees_21_original_v1<br><b><i>Percentage Difference:</i> -15.58%</b><br>Difference: -467534165.33<br><b><i>Percentage Difference from Mean:</i> -26.29%</b><br>Difference From Mean: -903450654.30<br>Mean: 3436720158.30<br>",
          "Version: 15.14.0<br>Program: binaryTrees_21_original_v1<br><b><i>Percentage Difference:</i> 1.53%</b><br>Difference: 38638498.91<br><b><i>Percentage Difference from Mean:</i> -25.16%</b><br>Difference From Mean: -864812155.39<br>Mean: 3436720158.30<br>",
          "Version: 16.20.2<br>Program: binaryTrees_21_original_v1<br><b><i>Percentage Difference:</i> 1.63%</b><br>Difference: 41917711.18<br><b><i>Percentage Difference from Mean:</i> -23.94%</b><br>Difference From Mean: -822894444.22<br>Mean: 3436720158.30<br>",
          "Version: 17.9.1<br>Program: binaryTrees_21_original_v1<br><b><i>Percentage Difference:</i> -0.35%</b><br>Difference: -9110750.61<br><b><i>Percentage Difference from Mean:</i> -24.21%</b><br>Difference From Mean: -832005194.83<br>Mean: 3436720158.30<br>",
          "Version: 18.17.1<br>Program: binaryTrees_21_original_v1<br><b><i>Percentage Difference:</i> 14.92%</b><br>Difference: 388696449.86<br><b><i>Percentage Difference from Mean:</i> -12.90%</b><br>Difference From Mean: -443308744.97<br>Mean: 3436720158.30<br>",
          "Version: 19.9.0<br>Program: binaryTrees_21_original_v1<br><b><i>Percentage Difference:</i> 107.78%</b><br>Difference: 3226324650.67<br><b><i>Percentage Difference from Mean:</i> 80.98%</b><br>Difference From Mean: 2783015905.70<br>Mean: 3436720158.30<br>",
          "Version: 20.5.1<br>Program: binaryTrees_21_original_v1<br><b><i>Percentage Difference:</i> -1.95%</b><br>Difference: -121576789.33<br><b><i>Percentage Difference from Mean:</i> 77.44%</b><br>Difference From Mean: 2661439116.36<br>Mean: 3436720158.30<br>"
         ],
         "name": "binaryTrees_21_original_v1 - Mean: 3436720158.30",
         "text": [
          null,
          -1.0387679457734555,
          5.264584009091289,
          -15.58029837510836,
          1.5252423339909615,
          1.6298293380032414,
          -0.34855998851009984,
          14.922801738583269,
          107.78086287424058,
          -1.9546937053651292
         ],
         "type": "bar",
         "x": [
          "11.15.0",
          "12.22.12",
          "13.14.0",
          "14.21.3",
          "15.14.0",
          "16.20.2",
          "17.9.1",
          "18.17.1",
          "19.9.0",
          "20.5.1"
         ],
         "y": [
          null,
          -29923249.230769157,
          150078805.3333335,
          -467534165.3333335,
          38638498.909090996,
          41917711.177865505,
          -9110750.608695507,
          388696449.8550725,
          3226324650.6666665,
          -121576789.33333302
         ]
        },
        {
         "hovertemplate": [
          "Version: 6.17.1<br>Program: binaryTrees_21_original_v7<br><b><i>Percentage Difference:</i> nan%</b><br>Difference: nan<br><b><i>Percentage Difference from Mean:</i> 9.59%</b><br>Difference From Mean: 128352078.97<br>Mean: 1337921257.91<br>",
          "Version: 7.10.1<br>Program: binaryTrees_21_original_v7<br><b><i>Percentage Difference:</i> 3.45%</b><br>Difference: 50546915.56<br><b><i>Percentage Difference from Mean:</i> 13.37%</b><br>Difference From Mean: 178898994.53<br>Mean: 1337921257.91<br>",
          "Version: 8.17.0<br>Program: binaryTrees_21_original_v7<br><b><i>Percentage Difference:</i> 19.10%</b><br>Difference: 289742714.14<br><b><i>Percentage Difference from Mean:</i> 35.03%</b><br>Difference From Mean: 468641708.67<br>Mean: 1337921257.91<br>",
          "Version: 9.11.2<br>Program: binaryTrees_21_original_v7<br><b><i>Percentage Difference:</i> -0.94%</b><br>Difference: -16935273.41<br><b><i>Percentage Difference from Mean:</i> 33.76%</b><br>Difference From Mean: 451706435.26<br>Mean: 1337921257.91<br>",
          "Version: 10.24.1<br>Program: binaryTrees_21_original_v7<br><b><i>Percentage Difference:</i> -47.19%</b><br>Difference: -844493522.82<br><b><i>Percentage Difference from Mean:</i> -29.36%</b><br>Difference From Mean: -392787087.56<br>Mean: 1337921257.91<br>",
          "Version: 11.15.0<br>Program: binaryTrees_21_original_v7<br><b><i>Percentage Difference:</i> 0.83%</b><br>Difference: 7854682.35<br><b><i>Percentage Difference from Mean:</i> -28.77%</b><br>Difference From Mean: -384932405.21<br>Mean: 1337921257.91<br>",
          "Version: 12.22.12<br>Program: binaryTrees_21_original_v7<br><b><i>Percentage Difference:</i> 35.82%</b><br>Difference: 341341295.87<br><b><i>Percentage Difference from Mean:</i> -3.26%</b><br>Difference From Mean: -43591109.34<br>Mean: 1337921257.91<br>",
          "Version: 13.14.0<br>Program: binaryTrees_21_original_v7<br><b><i>Percentage Difference:</i> -1.97%</b><br>Difference: -25515739.43<br><b><i>Percentage Difference from Mean:</i> -5.17%</b><br>Difference From Mean: -69106848.77<br>Mean: 1337921257.91<br>",
          "Version: 14.21.3<br>Program: binaryTrees_21_original_v7<br><b><i>Percentage Difference:</i> -4.33%</b><br>Difference: -54953340.34<br><b><i>Percentage Difference from Mean:</i> -9.27%</b><br>Difference From Mean: -124060189.11<br>Mean: 1337921257.91<br>",
          "Version: 15.14.0<br>Program: binaryTrees_21_original_v7<br><b><i>Percentage Difference:</i> -5.69%</b><br>Difference: -69040186.51<br><b><i>Percentage Difference from Mean:</i> -14.43%</b><br>Difference From Mean: -193100375.63<br>Mean: 1337921257.91<br>",
          "Version: 16.20.2<br>Program: binaryTrees_21_original_v7<br><b><i>Percentage Difference:</i> 1.35%</b><br>Difference: 15432930.08<br><b><i>Percentage Difference from Mean:</i> -13.28%</b><br>Difference From Mean: -177667445.55<br>Mean: 1337921257.91<br>",
          "Version: 17.9.1<br>Program: binaryTrees_21_original_v7<br><b><i>Percentage Difference:</i> 2.45%</b><br>Difference: 28464156.33<br><b><i>Percentage Difference from Mean:</i> -11.15%</b><br>Difference From Mean: -149203289.22<br>Mean: 1337921257.91<br>",
          "Version: 18.17.1<br>Program: binaryTrees_21_original_v7<br><b><i>Percentage Difference:</i> -1.85%</b><br>Difference: -21959218.38<br><b><i>Percentage Difference from Mean:</i> -12.79%</b><br>Difference From Mean: -171162507.60<br>Mean: 1337921257.91<br>",
          "Version: 19.9.0<br>Program: binaryTrees_21_original_v7<br><b><i>Percentage Difference:</i> 36.46%</b><br>Difference: 425374003.97<br><b><i>Percentage Difference from Mean:</i> 19.00%</b><br>Difference From Mean: 254211496.37<br>Mean: 1337921257.91<br>",
          "Version: 20.5.1<br>Program: binaryTrees_21_original_v7<br><b><i>Percentage Difference:</i> -1.91%</b><br>Difference: -30410952.18<br><b><i>Percentage Difference from Mean:</i> 16.73%</b><br>Difference From Mean: 223800544.19<br>Mean: 1337921257.91<br>"
         ],
         "name": "binaryTrees_21_original_v7 - Mean: 1337921257.91",
         "text": [
          null,
          3.4473051022536616,
          19.101980849533984,
          -0.9374305642801839,
          -47.188223899497736,
          0.8310653237738608,
          35.817973620190216,
          -1.9713470675726374,
          -4.33107789026298,
          -5.687651436299657,
          1.348065039406765,
          2.453269795686319,
          -1.847302636802739,
          36.457751343608535,
          -1.910076411567485
         ],
         "type": "bar",
         "x": [
          "6.17.1",
          "7.10.1",
          "8.17.0",
          "9.11.2",
          "10.24.1",
          "11.15.0",
          "12.22.12",
          "13.14.0",
          "14.21.3",
          "15.14.0",
          "16.20.2",
          "17.9.1",
          "18.17.1",
          "19.9.0",
          "20.5.1"
         ],
         "y": [
          null,
          50546915.55555558,
          289742714.14379096,
          -16935273.41176486,
          -844493522.8235294,
          7854682.352941155,
          341341295.8655462,
          -25515739.428571463,
          -54953340.34285712,
          -69040186.51428556,
          15432930.077921867,
          28464156.33201599,
          -21959218.379862785,
          425374003.9699249,
          -30410952.180451155
         ]
        },
        {
         "hovertemplate": [
          "Version: 0.8.28<br>Program: binaryTrees_21_v7<br><b><i>Percentage Difference:</i> nan%</b><br>Difference: nan<br><b><i>Percentage Difference from Mean:</i> -31.33%</b><br>Difference From Mean: -412438700.76<br>Mean: 1316295259.92<br>",
          "Version: 0.10.48<br>Program: binaryTrees_21_v7<br><b><i>Percentage Difference:</i> -0.54%</b><br>Difference: -4868234.59<br><b><i>Percentage Difference from Mean:</i> -31.70%</b><br>Difference From Mean: -417306935.35<br>Mean: 1316295259.92<br>",
          "Version: 0.12.18<br>Program: binaryTrees_21_v7<br><b><i>Percentage Difference:</i> 40.05%</b><br>Difference: 360039508.69<br><b><i>Percentage Difference from Mean:</i> -4.35%</b><br>Difference From Mean: -57267426.66<br>Mean: 1316295259.92<br>",
          "Version: 1.8.4<br>Program: binaryTrees_21_v7<br><b><i>Percentage Difference:</i> 18.52%</b><br>Difference: 233192673.09<br><b><i>Percentage Difference from Mean:</i> 13.37%</b><br>Difference From Mean: 175925246.43<br>Mean: 1316295259.92<br>",
          "Version: 2.5.0<br>Program: binaryTrees_21_v7<br><b><i>Percentage Difference:</i> 2.66%</b><br>Difference: 39676120.85<br><b><i>Percentage Difference from Mean:</i> 16.38%</b><br>Difference From Mean: 215601367.28<br>Mean: 1316295259.92<br>",
          "Version: 3.3.1<br>Program: binaryTrees_21_v7<br><b><i>Percentage Difference:</i> -6.08%</b><br>Difference: -93151404.46<br><b><i>Percentage Difference from Mean:</i> 9.30%</b><br>Difference From Mean: 122449962.82<br>Mean: 1316295259.92<br>",
          "Version: 4.9.1<br>Program: binaryTrees_21_v7<br><b><i>Percentage Difference:</i> -5.14%</b><br>Difference: -73915858.03<br><b><i>Percentage Difference from Mean:</i> 3.69%</b><br>Difference From Mean: 48534104.78<br>Mean: 1316295259.92<br>",
          "Version: 5.12.0<br>Program: binaryTrees_21_v7<br><b><i>Percentage Difference:</i> 1.13%</b><br>Difference: 15445052.24<br><b><i>Percentage Difference from Mean:</i> 4.86%</b><br>Difference From Mean: 63979157.02<br>Mean: 1316295259.92<br>",
          "Version: 6.17.1<br>Program: binaryTrees_21_v7<br><b><i>Percentage Difference:</i> 6.96%</b><br>Difference: 96004992.84<br><b><i>Percentage Difference from Mean:</i> 12.15%</b><br>Difference From Mean: 159984149.86<br>Mean: 1316295259.92<br>",
          "Version: 7.10.1<br>Program: binaryTrees_21_v7<br><b><i>Percentage Difference:</i> -7.25%</b><br>Difference: -107014826.67<br><b><i>Percentage Difference from Mean:</i> 4.02%</b><br>Difference From Mean: 52969323.19<br>Mean: 1316295259.92<br>",
          "Version: 8.17.0<br>Program: binaryTrees_21_v7<br><b><i>Percentage Difference:</i> 22.07%</b><br>Difference: 302173511.95<br><b><i>Percentage Difference from Mean:</i> 26.98%</b><br>Difference From Mean: 355142835.14<br>Mean: 1316295259.92<br>",
          "Version: 9.11.2<br>Program: binaryTrees_21_v7<br><b><i>Percentage Difference:</i> 0.17%</b><br>Difference: 2833468.24<br><b><i>Percentage Difference from Mean:</i> 27.20%</b><br>Difference From Mean: 357976303.37<br>Mean: 1316295259.92<br>",
          "Version: 10.24.1<br>Program: binaryTrees_21_v7<br><b><i>Percentage Difference:</i> -43.13%</b><br>Difference: -722030667.29<br><b><i>Percentage Difference from Mean:</i> -27.66%</b><br>Difference From Mean: -364054363.92<br>Mean: 1316295259.92<br>",
          "Version: 11.15.0<br>Program: binaryTrees_21_v7<br><b><i>Percentage Difference:</i> 0.76%</b><br>Difference: 7231175.11<br><b><i>Percentage Difference from Mean:</i> -27.11%</b><br>Difference From Mean: -356823188.81<br>Mean: 1316295259.92<br>",
          "Version: 12.22.12<br>Program: binaryTrees_21_v7<br><b><i>Percentage Difference:</i> 54.21%</b><br>Difference: 520137477.69<br><b><i>Percentage Difference from Mean:</i> 12.41%</b><br>Difference From Mean: 163314288.88<br>Mean: 1316295259.92<br>",
          "Version: 13.14.0<br>Program: binaryTrees_21_v7<br><b><i>Percentage Difference:</i> -12.04%</b><br>Difference: -178111400.23<br><b><i>Percentage Difference from Mean:</i> -1.12%</b><br>Difference From Mean: -14797111.35<br>Mean: 1316295259.92<br>",
          "Version: 14.21.3<br>Program: binaryTrees_21_v7<br><b><i>Percentage Difference:</i> -9.03%</b><br>Difference: -117552274.29<br><b><i>Percentage Difference from Mean:</i> -10.05%</b><br>Difference From Mean: -132349385.64<br>Mean: 1316295259.92<br>",
          "Version: 15.14.0<br>Program: binaryTrees_21_v7<br><b><i>Percentage Difference:</i> 2.88%</b><br>Difference: 34067495.90<br><b><i>Percentage Difference from Mean:</i> -7.47%</b><br>Difference From Mean: -98281889.74<br>Mean: 1316295259.92<br>",
          "Version: 16.20.2<br>Program: binaryTrees_21_v7<br><b><i>Percentage Difference:</i> 0.23%</b><br>Difference: 2747671.27<br><b><i>Percentage Difference from Mean:</i> -7.26%</b><br>Difference From Mean: -95534218.47<br>Mean: 1316295259.92<br>",
          "Version: 17.9.1<br>Program: binaryTrees_21_v7<br><b><i>Percentage Difference:</i> -6.12%</b><br>Difference: -74704871.72<br><b><i>Percentage Difference from Mean:</i> -12.93%</b><br>Difference From Mean: -170239090.18<br>Mean: 1316295259.92<br>",
          "Version: 18.17.1<br>Program: binaryTrees_21_v7<br><b><i>Percentage Difference:</i> 1.11%</b><br>Difference: 12698543.86<br><b><i>Percentage Difference from Mean:</i> -11.97%</b><br>Difference From Mean: -157540546.32<br>Mean: 1316295259.92<br>",
          "Version: 19.9.0<br>Program: binaryTrees_21_v7<br><b><i>Percentage Difference:</i> 38.21%</b><br>Difference: 442705022.78<br><b><i>Percentage Difference from Mean:</i> 21.66%</b><br>Difference From Mean: 285164476.46<br>Mean: 1316295259.92<br>",
          "Version: 20.5.1<br>Program: binaryTrees_21_v7<br><b><i>Percentage Difference:</i> -0.60%</b><br>Difference: -9572834.49<br><b><i>Percentage Difference from Mean:</i> 20.94%</b><br>Difference From Mean: 275591641.97<br>Mean: 1316295259.92<br>"
         ],
         "name": "binaryTrees_21_v7 - Mean: 1316295259.92",
         "text": [
          null,
          -0.5386069877063027,
          40.04940874658964,
          18.52164558470426,
          2.6588644693021246,
          -6.080789187023672,
          -5.1375223954074345,
          1.1316471226879399,
          6.955500417761695,
          -7.248954768174631,
          22.068307007630537,
          0.16952277464958865,
          -43.125063049719806,
          0.7593850612262587,
          54.21079918319525,
          -12.037729843864831,
          -9.032073876919744,
          2.8774538292687613,
          0.2255862981468848,
          -6.119532748719081,
          1.1080210722795414,
          38.2052402967634,
          -0.5977568007953016
         ],
         "type": "bar",
         "x": [
          "0.8.28",
          "0.10.48",
          "0.12.18",
          "1.8.4",
          "2.5.0",
          "3.3.1",
          "4.9.1",
          "5.12.0",
          "6.17.1",
          "7.10.1",
          "8.17.0",
          "9.11.2",
          "10.24.1",
          "11.15.0",
          "12.22.12",
          "13.14.0",
          "14.21.3",
          "15.14.0",
          "16.20.2",
          "17.9.1",
          "18.17.1",
          "19.9.0",
          "20.5.1"
         ],
         "y": [
          null,
          -4868234.586466193,
          360039508.6917293,
          233192673.08978343,
          39676120.84705877,
          -93151404.46315789,
          -73915858.03095984,
          15445052.235294104,
          96004992.83660126,
          -107014826.66666651,
          302173511.9477124,
          2833468.2352941036,
          -722030667.2941177,
          7231175.111111164,
          520137477.6888888,
          -178111400.22857141,
          -117552274.28571415,
          34067495.89610386,
          2747671.272727251,
          -74704871.715415,
          12698543.860869408,
          442705022.78095245,
          -9572834.486215591
         ]
        },
        {
         "hovertemplate": [
          "Version: 0.8.28<br>Program: nbody_50000000<br><b><i>Percentage Difference:</i> nan%</b><br>Difference: nan<br><b><i>Percentage Difference from Mean:</i> -6.74%</b><br>Difference From Mean: -47668001.39<br>Mean: 707427105.39<br>",
          "Version: 0.10.48<br>Program: nbody_50000000<br><b><i>Percentage Difference:</i> 0.20%</b><br>Difference: 1327104.00<br><b><i>Percentage Difference from Mean:</i> -6.55%</b><br>Difference From Mean: -46340897.39<br>Mean: 707427105.39<br>",
          "Version: 0.12.18<br>Program: nbody_50000000<br><b><i>Percentage Difference:</i> 2.84%</b><br>Difference: 18796544.00<br><b><i>Percentage Difference from Mean:</i> -3.89%</b><br>Difference From Mean: -27544353.39<br>Mean: 707427105.39<br>",
          "Version: 1.8.4<br>Program: nbody_50000000<br><b><i>Percentage Difference:</i> 4.21%</b><br>Difference: 28626944.00<br><b><i>Percentage Difference from Mean:</i> 0.15%</b><br>Difference From Mean: 1082590.61<br>Mean: 707427105.39<br>",
          "Version: 2.5.0<br>Program: nbody_50000000<br><b><i>Percentage Difference:</i> 0.39%</b><br>Difference: 2772992.00<br><b><i>Percentage Difference from Mean:</i> 0.55%</b><br>Difference From Mean: 3855582.61<br>Mean: 707427105.39<br>",
          "Version: 3.3.1<br>Program: nbody_50000000<br><b><i>Percentage Difference:</i> 8.62%</b><br>Difference: 61300736.00<br><b><i>Percentage Difference from Mean:</i> 9.21%</b><br>Difference From Mean: 65156318.61<br>Mean: 707427105.39<br>",
          "Version: 4.9.1<br>Program: nbody_50000000<br><b><i>Percentage Difference:</i> 0.63%</b><br>Difference: 4878336.00<br><b><i>Percentage Difference from Mean:</i> 9.90%</b><br>Difference From Mean: 70034654.61<br>Mean: 707427105.39<br>",
          "Version: 5.12.0<br>Program: nbody_50000000<br><b><i>Percentage Difference:</i> 0.14%</b><br>Difference: 1052672.00<br><b><i>Percentage Difference from Mean:</i> 10.05%</b><br>Difference From Mean: 71087326.61<br>Mean: 707427105.39<br>",
          "Version: 6.17.1<br>Program: nbody_50000000<br><b><i>Percentage Difference:</i> -3.46%</b><br>Difference: -26923008.00<br><b><i>Percentage Difference from Mean:</i> 6.24%</b><br>Difference From Mean: 44164318.61<br>Mean: 707427105.39<br>",
          "Version: 7.10.1<br>Program: nbody_50000000<br><b><i>Percentage Difference:</i> -8.72%</b><br>Difference: -65548288.00<br><b><i>Percentage Difference from Mean:</i> -3.02%</b><br>Difference From Mean: -21383969.39<br>Mean: 707427105.39<br>",
          "Version: 8.17.0<br>Program: nbody_50000000<br><b><i>Percentage Difference:</i> 28.91%</b><br>Difference: 198344704.00<br><b><i>Percentage Difference from Mean:</i> 25.01%</b><br>Difference From Mean: 176960734.61<br>Mean: 707427105.39<br>",
          "Version: 9.11.2<br>Program: nbody_50000000<br><b><i>Percentage Difference:</i> 0.12%</b><br>Difference: 1093632.00<br><b><i>Percentage Difference from Mean:</i> 25.17%</b><br>Difference From Mean: 178054366.61<br>Mean: 707427105.39<br>",
          "Version: 10.24.1<br>Program: nbody_50000000<br><b><i>Percentage Difference:</i> -36.54%</b><br>Difference: -323584000.00<br><b><i>Percentage Difference from Mean:</i> -20.57%</b><br>Difference From Mean: -145529633.39<br>Mean: 707427105.39<br>",
          "Version: 11.15.0<br>Program: nbody_50000000<br><b><i>Percentage Difference:</i> 0.16%</b><br>Difference: 925696.00<br><b><i>Percentage Difference from Mean:</i> -20.44%</b><br>Difference From Mean: -144603937.39<br>Mean: 707427105.39<br>",
          "Version: 12.22.12<br>Program: nbody_50000000<br><b><i>Percentage Difference:</i> 1.10%</b><br>Difference: 6217728.00<br><b><i>Percentage Difference from Mean:</i> -19.56%</b><br>Difference From Mean: -138386209.39<br>Mean: 707427105.39<br>",
          "Version: 13.14.0<br>Program: nbody_50000000<br><b><i>Percentage Difference:</i> 4.28%</b><br>Difference: 24350720.00<br><b><i>Percentage Difference from Mean:</i> -16.12%</b><br>Difference From Mean: -114035489.39<br>Mean: 707427105.39<br>",
          "Version: 14.21.3<br>Program: nbody_50000000<br><b><i>Percentage Difference:</i> 0.35%</b><br>Difference: 2068480.00<br><b><i>Percentage Difference from Mean:</i> -15.83%</b><br>Difference From Mean: -111967009.39<br>Mean: 707427105.39<br>",
          "Version: 15.14.0<br>Program: nbody_50000000<br><b><i>Percentage Difference:</i> -0.42%</b><br>Difference: -2502656.00<br><b><i>Percentage Difference from Mean:</i> -16.18%</b><br>Difference From Mean: -114469665.39<br>Mean: 707427105.39<br>",
          "Version: 16.20.2<br>Program: nbody_50000000<br><b><i>Percentage Difference:</i> 1.19%</b><br>Difference: 7053312.00<br><b><i>Percentage Difference from Mean:</i> -15.18%</b><br>Difference From Mean: -107416353.39<br>Mean: 707427105.39<br>",
          "Version: 17.9.1<br>Program: nbody_50000000<br><b><i>Percentage Difference:</i> -0.08%</b><br>Difference: -483328.00<br><b><i>Percentage Difference from Mean:</i> -15.25%</b><br>Difference From Mean: -107899681.39<br>Mean: 707427105.39<br>",
          "Version: 18.17.1<br>Program: nbody_50000000<br><b><i>Percentage Difference:</i> 2.18%</b><br>Difference: 13086720.00<br><b><i>Percentage Difference from Mean:</i> -13.40%</b><br>Difference From Mean: -94812961.39<br>Mean: 707427105.39<br>",
          "Version: 19.9.0<br>Program: nbody_50000000<br><b><i>Percentage Difference:</i> 65.56%</b><br>Difference: 401649664.00<br><b><i>Percentage Difference from Mean:</i> 43.37%</b><br>Difference From Mean: 306836702.61<br>Mean: 707427105.39<br>",
          "Version: 20.5.1<br>Program: nbody_50000000<br><b><i>Percentage Difference:</i> -0.20%</b><br>Difference: -2011136.00<br><b><i>Percentage Difference from Mean:</i> 43.09%</b><br>Difference From Mean: 304825566.61<br>Mean: 707427105.39<br>"
         ],
         "name": "nbody_50000000 - Mean: 707427105.39",
         "text": [
          null,
          0.20114978208773948,
          2.8432818250536007,
          4.210570707344541,
          0.3913837757839156,
          8.618336567752927,
          0.6314316161150302,
          0.13539855645119392,
          -3.4582541945734957,
          -8.721266090444379,
          28.911404194852253,
          0.12365977352197799,
          -36.54328297453072,
          0.16474464579900872,
          1.1047391709361865,
          4.279256582641122,
          0.34858598339211344,
          -0.4202894563064108,
          1.1895140399958537,
          -0.08055322315291269,
          2.1828392624121173,
          65.56323714262791,
          -0.19828529660007588
         ],
         "type": "bar",
         "x": [
          "0.8.28",
          "0.10.48",
          "0.12.18",
          "1.8.4",
          "2.5.0",
          "3.3.1",
          "4.9.1",
          "5.12.0",
          "6.17.1",
          "7.10.1",
          "8.17.0",
          "9.11.2",
          "10.24.1",
          "11.15.0",
          "12.22.12",
          "13.14.0",
          "14.21.3",
          "15.14.0",
          "16.20.2",
          "17.9.1",
          "18.17.1",
          "19.9.0",
          "20.5.1"
         ],
         "y": [
          null,
          1327104,
          18796544,
          28626944,
          2772992,
          61300736,
          4878336,
          1052672,
          -26923008,
          -65548288,
          198344704,
          1093632,
          -323584000,
          925696,
          6217728,
          24350720,
          2068480,
          -2502656,
          7053312,
          -483328,
          13086720,
          401649664,
          -2011136
         ]
        },
        {
         "hovertemplate": [
          "Version: 6.17.1<br>Program: nbody_50000000_original<br><b><i>Percentage Difference:</i> nan%</b><br>Difference: nan<br><b><i>Percentage Difference from Mean:</i> 7.53%</b><br>Difference From Mean: 52540211.20<br>Mean: 697416908.80<br>",
          "Version: 7.10.1<br>Program: nbody_50000000_original<br><b><i>Percentage Difference:</i> -16.32%</b><br>Difference: -122404864.00<br><b><i>Percentage Difference from Mean:</i> -10.02%</b><br>Difference From Mean: -69864652.80<br>Mean: 697416908.80<br>",
          "Version: 8.17.0<br>Program: nbody_50000000_original<br><b><i>Percentage Difference:</i> 40.93%</b><br>Difference: 256872448.00<br><b><i>Percentage Difference from Mean:</i> 26.81%</b><br>Difference From Mean: 187007795.20<br>Mean: 697416908.80<br>",
          "Version: 9.11.2<br>Program: nbody_50000000_original<br><b><i>Percentage Difference:</i> 0.06%</b><br>Difference: 552960.00<br><b><i>Percentage Difference from Mean:</i> 26.89%</b><br>Difference From Mean: 187560755.20<br>Mean: 697416908.80<br>",
          "Version: 10.24.1<br>Program: nbody_50000000_original<br><b><i>Percentage Difference:</i> -36.51%</b><br>Difference: -323100672.00<br><b><i>Percentage Difference from Mean:</i> -19.43%</b><br>Difference From Mean: -135539916.80<br>Mean: 697416908.80<br>",
          "Version: 11.15.0<br>Program: nbody_50000000_original<br><b><i>Percentage Difference:</i> 0.16%</b><br>Difference: 909312.00<br><b><i>Percentage Difference from Mean:</i> -19.30%</b><br>Difference From Mean: -134630604.80<br>Mean: 697416908.80<br>",
          "Version: 12.22.12<br>Program: nbody_50000000_original<br><b><i>Percentage Difference:</i> 1.11%</b><br>Difference: 6254592.00<br><b><i>Percentage Difference from Mean:</i> -18.41%</b><br>Difference From Mean: -128376012.80<br>Mean: 697416908.80<br>",
          "Version: 13.14.0<br>Program: nbody_50000000_original<br><b><i>Percentage Difference:</i> 4.33%</b><br>Difference: 24662016.00<br><b><i>Percentage Difference from Mean:</i> -14.87%</b><br>Difference From Mean: -103713996.80<br>Mean: 697416908.80<br>",
          "Version: 14.21.3<br>Program: nbody_50000000_original<br><b><i>Percentage Difference:</i> 0.27%</b><br>Difference: 1589248.00<br><b><i>Percentage Difference from Mean:</i> -14.64%</b><br>Difference From Mean: -102124748.80<br>Mean: 697416908.80<br>",
          "Version: 15.14.0<br>Program: nbody_50000000_original<br><b><i>Percentage Difference:</i> -0.39%</b><br>Difference: -2306048.00<br><b><i>Percentage Difference from Mean:</i> -14.97%</b><br>Difference From Mean: -104430796.80<br>Mean: 697416908.80<br>",
          "Version: 16.20.2<br>Program: nbody_50000000_original<br><b><i>Percentage Difference:</i> 1.19%</b><br>Difference: 7045120.00<br><b><i>Percentage Difference from Mean:</i> -13.96%</b><br>Difference From Mean: -97385676.80<br>Mean: 697416908.80<br>",
          "Version: 17.9.1<br>Program: nbody_50000000_original<br><b><i>Percentage Difference:</i> -0.09%</b><br>Difference: -540672.00<br><b><i>Percentage Difference from Mean:</i> -14.04%</b><br>Difference From Mean: -97926348.80<br>Mean: 697416908.80<br>",
          "Version: 18.17.1<br>Program: nbody_50000000_original<br><b><i>Percentage Difference:</i> 2.22%</b><br>Difference: 13295616.00<br><b><i>Percentage Difference from Mean:</i> -12.13%</b><br>Difference From Mean: -84630732.80<br>Mean: 697416908.80<br>",
          "Version: 19.9.0<br>Program: nbody_50000000_original<br><b><i>Percentage Difference:</i> 65.49%</b><br>Difference: 401309696.00<br><b><i>Percentage Difference from Mean:</i> 45.41%</b><br>Difference From Mean: 316678963.20<br>Mean: 697416908.80<br>",
          "Version: 20.5.1<br>Program: nbody_50000000_original<br><b><i>Percentage Difference:</i> -0.18%</b><br>Difference: -1843200.00<br><b><i>Percentage Difference from Mean:</i> 45.14%</b><br>Difference From Mean: 314835763.20<br>Mean: 697416908.80<br>"
         ],
         "name": "nbody_50000000_original - Mean: 697416908.80",
         "text": [
          null,
          -16.321581692563967,
          40.93243957679278,
          0.06252199848095774,
          -36.5094719497915,
          0.16183470990034365,
          1.1113618003042225,
          4.333961965362865,
          0.26768405003207985,
          -0.3873808786596489,
          1.1880750421352282,
          -0.09010730961417357,
          2.217819076250338,
          65.48935203133564,
          -0.18175796301831415
         ],
         "type": "bar",
         "x": [
          "6.17.1",
          "7.10.1",
          "8.17.0",
          "9.11.2",
          "10.24.1",
          "11.15.0",
          "12.22.12",
          "13.14.0",
          "14.21.3",
          "15.14.0",
          "16.20.2",
          "17.9.1",
          "18.17.1",
          "19.9.0",
          "20.5.1"
         ],
         "y": [
          null,
          -122404864,
          256872448,
          552960,
          -323100672,
          909312,
          6254592,
          24662016,
          1589248,
          -2306048,
          7045120,
          -540672,
          13295616,
          401309696,
          -1843200
         ]
        }
       ],
       "layout": {
        "template": {
         "data": {
          "bar": [
           {
            "error_x": {
             "color": "#2a3f5f"
            },
            "error_y": {
             "color": "#2a3f5f"
            },
            "marker": {
             "line": {
              "color": "#E5ECF6",
              "width": 0.5
             },
             "pattern": {
              "fillmode": "overlay",
              "size": 10,
              "solidity": 0.2
             }
            },
            "type": "bar"
           }
          ],
          "barpolar": [
           {
            "marker": {
             "line": {
              "color": "#E5ECF6",
              "width": 0.5
             },
             "pattern": {
              "fillmode": "overlay",
              "size": 10,
              "solidity": 0.2
             }
            },
            "type": "barpolar"
           }
          ],
          "carpet": [
           {
            "aaxis": {
             "endlinecolor": "#2a3f5f",
             "gridcolor": "white",
             "linecolor": "white",
             "minorgridcolor": "white",
             "startlinecolor": "#2a3f5f"
            },
            "baxis": {
             "endlinecolor": "#2a3f5f",
             "gridcolor": "white",
             "linecolor": "white",
             "minorgridcolor": "white",
             "startlinecolor": "#2a3f5f"
            },
            "type": "carpet"
           }
          ],
          "choropleth": [
           {
            "colorbar": {
             "outlinewidth": 0,
             "ticks": ""
            },
            "type": "choropleth"
           }
          ],
          "contour": [
           {
            "colorbar": {
             "outlinewidth": 0,
             "ticks": ""
            },
            "colorscale": [
             [
              0,
              "#0d0887"
             ],
             [
              0.1111111111111111,
              "#46039f"
             ],
             [
              0.2222222222222222,
              "#7201a8"
             ],
             [
              0.3333333333333333,
              "#9c179e"
             ],
             [
              0.4444444444444444,
              "#bd3786"
             ],
             [
              0.5555555555555556,
              "#d8576b"
             ],
             [
              0.6666666666666666,
              "#ed7953"
             ],
             [
              0.7777777777777778,
              "#fb9f3a"
             ],
             [
              0.8888888888888888,
              "#fdca26"
             ],
             [
              1,
              "#f0f921"
             ]
            ],
            "type": "contour"
           }
          ],
          "contourcarpet": [
           {
            "colorbar": {
             "outlinewidth": 0,
             "ticks": ""
            },
            "type": "contourcarpet"
           }
          ],
          "heatmap": [
           {
            "colorbar": {
             "outlinewidth": 0,
             "ticks": ""
            },
            "colorscale": [
             [
              0,
              "#0d0887"
             ],
             [
              0.1111111111111111,
              "#46039f"
             ],
             [
              0.2222222222222222,
              "#7201a8"
             ],
             [
              0.3333333333333333,
              "#9c179e"
             ],
             [
              0.4444444444444444,
              "#bd3786"
             ],
             [
              0.5555555555555556,
              "#d8576b"
             ],
             [
              0.6666666666666666,
              "#ed7953"
             ],
             [
              0.7777777777777778,
              "#fb9f3a"
             ],
             [
              0.8888888888888888,
              "#fdca26"
             ],
             [
              1,
              "#f0f921"
             ]
            ],
            "type": "heatmap"
           }
          ],
          "heatmapgl": [
           {
            "colorbar": {
             "outlinewidth": 0,
             "ticks": ""
            },
            "colorscale": [
             [
              0,
              "#0d0887"
             ],
             [
              0.1111111111111111,
              "#46039f"
             ],
             [
              0.2222222222222222,
              "#7201a8"
             ],
             [
              0.3333333333333333,
              "#9c179e"
             ],
             [
              0.4444444444444444,
              "#bd3786"
             ],
             [
              0.5555555555555556,
              "#d8576b"
             ],
             [
              0.6666666666666666,
              "#ed7953"
             ],
             [
              0.7777777777777778,
              "#fb9f3a"
             ],
             [
              0.8888888888888888,
              "#fdca26"
             ],
             [
              1,
              "#f0f921"
             ]
            ],
            "type": "heatmapgl"
           }
          ],
          "histogram": [
           {
            "marker": {
             "pattern": {
              "fillmode": "overlay",
              "size": 10,
              "solidity": 0.2
             }
            },
            "type": "histogram"
           }
          ],
          "histogram2d": [
           {
            "colorbar": {
             "outlinewidth": 0,
             "ticks": ""
            },
            "colorscale": [
             [
              0,
              "#0d0887"
             ],
             [
              0.1111111111111111,
              "#46039f"
             ],
             [
              0.2222222222222222,
              "#7201a8"
             ],
             [
              0.3333333333333333,
              "#9c179e"
             ],
             [
              0.4444444444444444,
              "#bd3786"
             ],
             [
              0.5555555555555556,
              "#d8576b"
             ],
             [
              0.6666666666666666,
              "#ed7953"
             ],
             [
              0.7777777777777778,
              "#fb9f3a"
             ],
             [
              0.8888888888888888,
              "#fdca26"
             ],
             [
              1,
              "#f0f921"
             ]
            ],
            "type": "histogram2d"
           }
          ],
          "histogram2dcontour": [
           {
            "colorbar": {
             "outlinewidth": 0,
             "ticks": ""
            },
            "colorscale": [
             [
              0,
              "#0d0887"
             ],
             [
              0.1111111111111111,
              "#46039f"
             ],
             [
              0.2222222222222222,
              "#7201a8"
             ],
             [
              0.3333333333333333,
              "#9c179e"
             ],
             [
              0.4444444444444444,
              "#bd3786"
             ],
             [
              0.5555555555555556,
              "#d8576b"
             ],
             [
              0.6666666666666666,
              "#ed7953"
             ],
             [
              0.7777777777777778,
              "#fb9f3a"
             ],
             [
              0.8888888888888888,
              "#fdca26"
             ],
             [
              1,
              "#f0f921"
             ]
            ],
            "type": "histogram2dcontour"
           }
          ],
          "mesh3d": [
           {
            "colorbar": {
             "outlinewidth": 0,
             "ticks": ""
            },
            "type": "mesh3d"
           }
          ],
          "parcoords": [
           {
            "line": {
             "colorbar": {
              "outlinewidth": 0,
              "ticks": ""
             }
            },
            "type": "parcoords"
           }
          ],
          "pie": [
           {
            "automargin": true,
            "type": "pie"
           }
          ],
          "scatter": [
           {
            "fillpattern": {
             "fillmode": "overlay",
             "size": 10,
             "solidity": 0.2
            },
            "type": "scatter"
           }
          ],
          "scatter3d": [
           {
            "line": {
             "colorbar": {
              "outlinewidth": 0,
              "ticks": ""
             }
            },
            "marker": {
             "colorbar": {
              "outlinewidth": 0,
              "ticks": ""
             }
            },
            "type": "scatter3d"
           }
          ],
          "scattercarpet": [
           {
            "marker": {
             "colorbar": {
              "outlinewidth": 0,
              "ticks": ""
             }
            },
            "type": "scattercarpet"
           }
          ],
          "scattergeo": [
           {
            "marker": {
             "colorbar": {
              "outlinewidth": 0,
              "ticks": ""
             }
            },
            "type": "scattergeo"
           }
          ],
          "scattergl": [
           {
            "marker": {
             "colorbar": {
              "outlinewidth": 0,
              "ticks": ""
             }
            },
            "type": "scattergl"
           }
          ],
          "scattermapbox": [
           {
            "marker": {
             "colorbar": {
              "outlinewidth": 0,
              "ticks": ""
             }
            },
            "type": "scattermapbox"
           }
          ],
          "scatterpolar": [
           {
            "marker": {
             "colorbar": {
              "outlinewidth": 0,
              "ticks": ""
             }
            },
            "type": "scatterpolar"
           }
          ],
          "scatterpolargl": [
           {
            "marker": {
             "colorbar": {
              "outlinewidth": 0,
              "ticks": ""
             }
            },
            "type": "scatterpolargl"
           }
          ],
          "scatterternary": [
           {
            "marker": {
             "colorbar": {
              "outlinewidth": 0,
              "ticks": ""
             }
            },
            "type": "scatterternary"
           }
          ],
          "surface": [
           {
            "colorbar": {
             "outlinewidth": 0,
             "ticks": ""
            },
            "colorscale": [
             [
              0,
              "#0d0887"
             ],
             [
              0.1111111111111111,
              "#46039f"
             ],
             [
              0.2222222222222222,
              "#7201a8"
             ],
             [
              0.3333333333333333,
              "#9c179e"
             ],
             [
              0.4444444444444444,
              "#bd3786"
             ],
             [
              0.5555555555555556,
              "#d8576b"
             ],
             [
              0.6666666666666666,
              "#ed7953"
             ],
             [
              0.7777777777777778,
              "#fb9f3a"
             ],
             [
              0.8888888888888888,
              "#fdca26"
             ],
             [
              1,
              "#f0f921"
             ]
            ],
            "type": "surface"
           }
          ],
          "table": [
           {
            "cells": {
             "fill": {
              "color": "#EBF0F8"
             },
             "line": {
              "color": "white"
             }
            },
            "header": {
             "fill": {
              "color": "#C8D4E3"
             },
             "line": {
              "color": "white"
             }
            },
            "type": "table"
           }
          ]
         },
         "layout": {
          "annotationdefaults": {
           "arrowcolor": "#2a3f5f",
           "arrowhead": 0,
           "arrowwidth": 1
          },
          "autotypenumbers": "strict",
          "coloraxis": {
           "colorbar": {
            "outlinewidth": 0,
            "ticks": ""
           }
          },
          "colorscale": {
           "diverging": [
            [
             0,
             "#8e0152"
            ],
            [
             0.1,
             "#c51b7d"
            ],
            [
             0.2,
             "#de77ae"
            ],
            [
             0.3,
             "#f1b6da"
            ],
            [
             0.4,
             "#fde0ef"
            ],
            [
             0.5,
             "#f7f7f7"
            ],
            [
             0.6,
             "#e6f5d0"
            ],
            [
             0.7,
             "#b8e186"
            ],
            [
             0.8,
             "#7fbc41"
            ],
            [
             0.9,
             "#4d9221"
            ],
            [
             1,
             "#276419"
            ]
           ],
           "sequential": [
            [
             0,
             "#0d0887"
            ],
            [
             0.1111111111111111,
             "#46039f"
            ],
            [
             0.2222222222222222,
             "#7201a8"
            ],
            [
             0.3333333333333333,
             "#9c179e"
            ],
            [
             0.4444444444444444,
             "#bd3786"
            ],
            [
             0.5555555555555556,
             "#d8576b"
            ],
            [
             0.6666666666666666,
             "#ed7953"
            ],
            [
             0.7777777777777778,
             "#fb9f3a"
            ],
            [
             0.8888888888888888,
             "#fdca26"
            ],
            [
             1,
             "#f0f921"
            ]
           ],
           "sequentialminus": [
            [
             0,
             "#0d0887"
            ],
            [
             0.1111111111111111,
             "#46039f"
            ],
            [
             0.2222222222222222,
             "#7201a8"
            ],
            [
             0.3333333333333333,
             "#9c179e"
            ],
            [
             0.4444444444444444,
             "#bd3786"
            ],
            [
             0.5555555555555556,
             "#d8576b"
            ],
            [
             0.6666666666666666,
             "#ed7953"
            ],
            [
             0.7777777777777778,
             "#fb9f3a"
            ],
            [
             0.8888888888888888,
             "#fdca26"
            ],
            [
             1,
             "#f0f921"
            ]
           ]
          },
          "colorway": [
           "#636efa",
           "#EF553B",
           "#00cc96",
           "#ab63fa",
           "#FFA15A",
           "#19d3f3",
           "#FF6692",
           "#B6E880",
           "#FF97FF",
           "#FECB52"
          ],
          "font": {
           "color": "#2a3f5f"
          },
          "geo": {
           "bgcolor": "white",
           "lakecolor": "white",
           "landcolor": "#E5ECF6",
           "showlakes": true,
           "showland": true,
           "subunitcolor": "white"
          },
          "hoverlabel": {
           "align": "left"
          },
          "hovermode": "closest",
          "mapbox": {
           "style": "light"
          },
          "paper_bgcolor": "white",
          "plot_bgcolor": "#E5ECF6",
          "polar": {
           "angularaxis": {
            "gridcolor": "white",
            "linecolor": "white",
            "ticks": ""
           },
           "bgcolor": "#E5ECF6",
           "radialaxis": {
            "gridcolor": "white",
            "linecolor": "white",
            "ticks": ""
           }
          },
          "scene": {
           "xaxis": {
            "backgroundcolor": "#E5ECF6",
            "gridcolor": "white",
            "gridwidth": 2,
            "linecolor": "white",
            "showbackground": true,
            "ticks": "",
            "zerolinecolor": "white"
           },
           "yaxis": {
            "backgroundcolor": "#E5ECF6",
            "gridcolor": "white",
            "gridwidth": 2,
            "linecolor": "white",
            "showbackground": true,
            "ticks": "",
            "zerolinecolor": "white"
           },
           "zaxis": {
            "backgroundcolor": "#E5ECF6",
            "gridcolor": "white",
            "gridwidth": 2,
            "linecolor": "white",
            "showbackground": true,
            "ticks": "",
            "zerolinecolor": "white"
           }
          },
          "shapedefaults": {
           "line": {
            "color": "#2a3f5f"
           }
          },
          "ternary": {
           "aaxis": {
            "gridcolor": "white",
            "linecolor": "white",
            "ticks": ""
           },
           "baxis": {
            "gridcolor": "white",
            "linecolor": "white",
            "ticks": ""
           },
           "bgcolor": "#E5ECF6",
           "caxis": {
            "gridcolor": "white",
            "linecolor": "white",
            "ticks": ""
           }
          },
          "title": {
           "x": 0.05
          },
          "xaxis": {
           "automargin": true,
           "gridcolor": "white",
           "linecolor": "white",
           "ticks": "",
           "title": {
            "standoff": 15
           },
           "zerolinecolor": "white",
           "zerolinewidth": 2
          },
          "yaxis": {
           "automargin": true,
           "gridcolor": "white",
           "linecolor": "white",
           "ticks": "",
           "title": {
            "standoff": 15
           },
           "zerolinecolor": "white",
           "zerolinewidth": 2
          }
         }
        },
        "title": {
         "text": "Comparison of virt"
        },
        "xaxis": {
         "categoryarray": [
          "0.8.28",
          "0.10.48",
          "0.12.18",
          "1.8.4",
          "2.5.0",
          "3.3.1",
          "4.9.1",
          "5.12.0",
          "6.17.1",
          "7.10.1",
          "8.17.0",
          "9.11.2",
          "10.24.1",
          "11.15.0",
          "12.22.12",
          "13.14.0",
          "14.21.3",
          "15.14.0",
          "16.20.2",
          "17.9.1",
          "18.17.1",
          "19.9.0",
          "20.5.1"
         ],
         "categoryorder": "array",
         "title": {
          "text": "version"
         }
        },
        "yaxis": {
         "title": {
          "text": "Difference from Mean of virt"
         },
         "zeroline": false
        }
       }
      }
     },
     "metadata": {},
     "output_type": "display_data"
    }
   ],
   "source": [
    "language = \"js\"\n",
    "x_data = \"version\"\n",
    "y_data = \"virt\"\n",
    "color_data = \"path\"\n",
    "type = \"barTop\"\n",
    "diff = True\n",
    "\n",
    "df = from_CSVfiles(\"top\", norm=False)\n",
    "\n",
    "\n",
    "if type == \"barTop\": df = df.groupby([x_data,color_data], sort=False)[[y_data]].mean().reset_index()\n",
    "if type == \"lineTop\": df = df.groupby([x_data,color_data], sort=False)[[y_data]].mean().reset_index()\n",
    "\n",
    "mean_per_program = df.groupby(color_data)[y_data].mean()\n",
    "max_per_program = df.groupby(color_data)[y_data].idxmax()\n",
    "max_energy_df = df.loc[max_per_program, [color_data, x_data, y_data]]\n",
    "display(max_energy_df)\n",
    "min_per_program = df.groupby(color_data)[y_data].idxmin()\n",
    "min_energy_df = df.loc[min_per_program, [color_data, x_data, y_data]]\n",
    "display(min_energy_df)\n",
    "df['DifferenceFromMean'] = df.apply(lambda row: row[y_data] - mean_per_program[row[color_data]], axis=1)\n",
    "\n",
    "# Create grouped bar traces for each program\n",
    "bar_traces = []\n",
    "for program in df[color_data].unique():\n",
    "    program_df = df[df[color_data] == program]\n",
    "    mean = mean_per_program[program]\n",
    "    program_df['Difference'] = program_df[y_data].diff()\n",
    "    program_df['Percentage_Difference'] = program_df[y_data].pct_change()*100\n",
    "    program_df['Percentage_DifferenceFromMean'] = program_df.apply(lambda row: 0 if (mean == 0) else 100 * (row[\"DifferenceFromMean\"] / mean), axis=1)\n",
    "    hover_texts = [custom_hover(program, x, y, mean, diff, percent_diff) for x, y, diff, percent_diff in zip(program_df[x_data], program_df['DifferenceFromMean'],program_df['Difference'],program_df['Percentage_Difference'])]\n",
    "    if diff:\n",
    "        min = program_df[program_df['Difference'] == program_df['Difference'].min()]\n",
    "        max = program_df[program_df['Difference'] == program_df['Difference'].max()]\n",
    "        bar_trace = go.Bar(x=program_df[x_data], y=program_df['Difference'],\n",
    "                            name=f'{program} - Mean: { format(mean_per_program[program], \".2f\")}',\n",
    "                            hovertemplate=hover_texts,\n",
    "                            text=program_df[\"Percentage_Difference\"])\n",
    "    else:\n",
    "        min = program_df[program_df['DifferenceFromMean'] == program_df['DifferenceFromMean'].min()]\n",
    "        max = program_df[program_df['DifferenceFromMean'] == program_df['DifferenceFromMean'].max()]\n",
    "        bar_trace = go.Bar(x=program_df[x_data], y=program_df['DifferenceFromMean'],\n",
    "                           name=f'{program} - Mean: { format(mean_per_program[program], \".2f\")}',\n",
    "                           hovertemplate=hover_texts,\n",
    "                           text=program_df[\"Percentage_DifferenceFromMean\"])\n",
    "    \n",
    "    bar_traces.append(bar_trace)\n",
    "    # bar_traces.append(median_trace)\n",
    "\n",
    "layout = go.Layout(title='Comparison of ' + y_data,\n",
    "                       xaxis=dict(title=x_data),\n",
    "                       yaxis=dict(title='Difference from Mean of ' + y_data, zeroline=False))\n",
    "        \n",
    "fig = go.Figure(data=bar_traces, layout=layout)\n",
    "if language == 'js': fig.update_xaxes(categoryorder='array', categoryarray= ['0.8.28', '0.10.48', '0.12.18', '1.8.4', '2.5.0', '3.3.1', '4.9.1', '5.12.0', '6.17.1', '7.10.1', '8.17.0', '9.11.2', '10.24.1', '11.15.0', '12.22.12', '13.14.0', '14.21.3', '15.14.0', '16.20.2', '17.9.1', '18.17.1', '19.9.0', '20.5.1'])\n",
    "\n",
    "# for _, row in max_energy_df.iterrows():\n",
    "#     fig.add_annotation(\n",
    "#         text=f\"Max: {row[y_data]} ({row[color_data]} {row[x_data]})\",\n",
    "#         x=row[x_data],\n",
    "#         y=row[y_data],\n",
    "#     )\n",
    "\n",
    "fig.show()\n"
   ]
  },
  {
   "cell_type": "code",
   "execution_count": null,
   "metadata": {},
   "outputs": [
    {
     "data": {
      "application/vnd.plotly.v1+json": {
       "config": {
        "plotlyServerURL": "https://plot.ly"
       },
       "data": [
        {
         "alignmentgroup": "True",
         "hovertemplate": "Variable=Value1<br>Category=%{x}<br>Value=%{y}<extra></extra>",
         "legendgroup": "Value1",
         "marker": {
          "color": "#636efa",
          "pattern": {
           "shape": ""
          }
         },
         "name": "Value1",
         "offsetgroup": "Value1",
         "orientation": "v",
         "showlegend": true,
         "textposition": "auto",
         "type": "bar",
         "x": [
          "Category A",
          "Category B",
          "Category C",
          "Category D"
         ],
         "xaxis": "x",
         "y": [
          10,
          15,
          7,
          12
         ],
         "yaxis": "y"
        },
        {
         "alignmentgroup": "True",
         "hovertemplate": "Variable=Value2<br>Category=%{x}<br>Value=%{y}<extra></extra>",
         "legendgroup": "Value2",
         "marker": {
          "color": "#EF553B",
          "pattern": {
           "shape": ""
          }
         },
         "name": "Value2",
         "offsetgroup": "Value2",
         "orientation": "v",
         "showlegend": true,
         "textposition": "auto",
         "type": "bar",
         "x": [
          "Category A",
          "Category B",
          "Category C",
          "Category D"
         ],
         "xaxis": "x",
         "y": [
          5,
          9,
          4,
          8
         ],
         "yaxis": "y"
        },
        {
         "alignmentgroup": "True",
         "hovertemplate": "Variable=Value3<br>Category=%{x}<br>Value=%{y}<extra></extra>",
         "legendgroup": "Value3",
         "marker": {
          "color": "#00cc96",
          "pattern": {
           "shape": ""
          }
         },
         "name": "Value3",
         "offsetgroup": "Value3",
         "orientation": "v",
         "showlegend": true,
         "textposition": "auto",
         "type": "bar",
         "x": [
          "Category A",
          "Category B",
          "Category C",
          "Category D"
         ],
         "xaxis": "x",
         "y": [
          8,
          12,
          6,
          10
         ],
         "yaxis": "y"
        },
        {
         "alignmentgroup": "True",
         "hovertemplate": "Variable=Value4<br>Category=%{x}<br>Value=%{y}<extra></extra>",
         "legendgroup": "Value4",
         "marker": {
          "color": "#ab63fa",
          "pattern": {
           "shape": ""
          }
         },
         "name": "Value4",
         "offsetgroup": "Value4",
         "orientation": "v",
         "showlegend": true,
         "textposition": "auto",
         "type": "bar",
         "x": [
          "Category A",
          "Category B",
          "Category C",
          "Category D"
         ],
         "xaxis": "x",
         "y": [
          6,
          11,
          5,
          9
         ],
         "yaxis": "y"
        },
        {
         "alignmentgroup": "True",
         "hovertemplate": "Variable=LineValue<br>Category=%{x}<br>Value=%{y}<extra></extra>",
         "legendgroup": "LineValue",
         "marker": {
          "color": "#FFA15A",
          "pattern": {
           "shape": ""
          }
         },
         "name": "LineValue",
         "offsetgroup": "LineValue",
         "orientation": "v",
         "showlegend": true,
         "textposition": "auto",
         "type": "bar",
         "x": [
          "Category A",
          "Category B",
          "Category C",
          "Category D"
         ],
         "xaxis": "x",
         "y": [
          3,
          6,
          4,
          5
         ],
         "yaxis": "y"
        },
        {
         "hovertemplate": "Category=%{x}<br>Line Data=%{y}<extra></extra>",
         "legendgroup": "",
         "line": {
          "color": "#636efa",
          "dash": "solid"
         },
         "marker": {
          "symbol": "circle"
         },
         "mode": "lines",
         "name": "",
         "orientation": "v",
         "showlegend": false,
         "type": "scatter",
         "x": [
          "Category A",
          "Category B",
          "Category C",
          "Category D"
         ],
         "xaxis": "x",
         "y": [
          3,
          6,
          4,
          5
         ],
         "yaxis": "y"
        }
       ],
       "layout": {
        "barmode": "relative",
        "legend": {
         "title": {
          "text": "Variables"
         },
         "tracegroupgap": 0
        },
        "template": {
         "data": {
          "bar": [
           {
            "error_x": {
             "color": "#2a3f5f"
            },
            "error_y": {
             "color": "#2a3f5f"
            },
            "marker": {
             "line": {
              "color": "#E5ECF6",
              "width": 0.5
             },
             "pattern": {
              "fillmode": "overlay",
              "size": 10,
              "solidity": 0.2
             }
            },
            "type": "bar"
           }
          ],
          "barpolar": [
           {
            "marker": {
             "line": {
              "color": "#E5ECF6",
              "width": 0.5
             },
             "pattern": {
              "fillmode": "overlay",
              "size": 10,
              "solidity": 0.2
             }
            },
            "type": "barpolar"
           }
          ],
          "carpet": [
           {
            "aaxis": {
             "endlinecolor": "#2a3f5f",
             "gridcolor": "white",
             "linecolor": "white",
             "minorgridcolor": "white",
             "startlinecolor": "#2a3f5f"
            },
            "baxis": {
             "endlinecolor": "#2a3f5f",
             "gridcolor": "white",
             "linecolor": "white",
             "minorgridcolor": "white",
             "startlinecolor": "#2a3f5f"
            },
            "type": "carpet"
           }
          ],
          "choropleth": [
           {
            "colorbar": {
             "outlinewidth": 0,
             "ticks": ""
            },
            "type": "choropleth"
           }
          ],
          "contour": [
           {
            "colorbar": {
             "outlinewidth": 0,
             "ticks": ""
            },
            "colorscale": [
             [
              0,
              "#0d0887"
             ],
             [
              0.1111111111111111,
              "#46039f"
             ],
             [
              0.2222222222222222,
              "#7201a8"
             ],
             [
              0.3333333333333333,
              "#9c179e"
             ],
             [
              0.4444444444444444,
              "#bd3786"
             ],
             [
              0.5555555555555556,
              "#d8576b"
             ],
             [
              0.6666666666666666,
              "#ed7953"
             ],
             [
              0.7777777777777778,
              "#fb9f3a"
             ],
             [
              0.8888888888888888,
              "#fdca26"
             ],
             [
              1,
              "#f0f921"
             ]
            ],
            "type": "contour"
           }
          ],
          "contourcarpet": [
           {
            "colorbar": {
             "outlinewidth": 0,
             "ticks": ""
            },
            "type": "contourcarpet"
           }
          ],
          "heatmap": [
           {
            "colorbar": {
             "outlinewidth": 0,
             "ticks": ""
            },
            "colorscale": [
             [
              0,
              "#0d0887"
             ],
             [
              0.1111111111111111,
              "#46039f"
             ],
             [
              0.2222222222222222,
              "#7201a8"
             ],
             [
              0.3333333333333333,
              "#9c179e"
             ],
             [
              0.4444444444444444,
              "#bd3786"
             ],
             [
              0.5555555555555556,
              "#d8576b"
             ],
             [
              0.6666666666666666,
              "#ed7953"
             ],
             [
              0.7777777777777778,
              "#fb9f3a"
             ],
             [
              0.8888888888888888,
              "#fdca26"
             ],
             [
              1,
              "#f0f921"
             ]
            ],
            "type": "heatmap"
           }
          ],
          "heatmapgl": [
           {
            "colorbar": {
             "outlinewidth": 0,
             "ticks": ""
            },
            "colorscale": [
             [
              0,
              "#0d0887"
             ],
             [
              0.1111111111111111,
              "#46039f"
             ],
             [
              0.2222222222222222,
              "#7201a8"
             ],
             [
              0.3333333333333333,
              "#9c179e"
             ],
             [
              0.4444444444444444,
              "#bd3786"
             ],
             [
              0.5555555555555556,
              "#d8576b"
             ],
             [
              0.6666666666666666,
              "#ed7953"
             ],
             [
              0.7777777777777778,
              "#fb9f3a"
             ],
             [
              0.8888888888888888,
              "#fdca26"
             ],
             [
              1,
              "#f0f921"
             ]
            ],
            "type": "heatmapgl"
           }
          ],
          "histogram": [
           {
            "marker": {
             "pattern": {
              "fillmode": "overlay",
              "size": 10,
              "solidity": 0.2
             }
            },
            "type": "histogram"
           }
          ],
          "histogram2d": [
           {
            "colorbar": {
             "outlinewidth": 0,
             "ticks": ""
            },
            "colorscale": [
             [
              0,
              "#0d0887"
             ],
             [
              0.1111111111111111,
              "#46039f"
             ],
             [
              0.2222222222222222,
              "#7201a8"
             ],
             [
              0.3333333333333333,
              "#9c179e"
             ],
             [
              0.4444444444444444,
              "#bd3786"
             ],
             [
              0.5555555555555556,
              "#d8576b"
             ],
             [
              0.6666666666666666,
              "#ed7953"
             ],
             [
              0.7777777777777778,
              "#fb9f3a"
             ],
             [
              0.8888888888888888,
              "#fdca26"
             ],
             [
              1,
              "#f0f921"
             ]
            ],
            "type": "histogram2d"
           }
          ],
          "histogram2dcontour": [
           {
            "colorbar": {
             "outlinewidth": 0,
             "ticks": ""
            },
            "colorscale": [
             [
              0,
              "#0d0887"
             ],
             [
              0.1111111111111111,
              "#46039f"
             ],
             [
              0.2222222222222222,
              "#7201a8"
             ],
             [
              0.3333333333333333,
              "#9c179e"
             ],
             [
              0.4444444444444444,
              "#bd3786"
             ],
             [
              0.5555555555555556,
              "#d8576b"
             ],
             [
              0.6666666666666666,
              "#ed7953"
             ],
             [
              0.7777777777777778,
              "#fb9f3a"
             ],
             [
              0.8888888888888888,
              "#fdca26"
             ],
             [
              1,
              "#f0f921"
             ]
            ],
            "type": "histogram2dcontour"
           }
          ],
          "mesh3d": [
           {
            "colorbar": {
             "outlinewidth": 0,
             "ticks": ""
            },
            "type": "mesh3d"
           }
          ],
          "parcoords": [
           {
            "line": {
             "colorbar": {
              "outlinewidth": 0,
              "ticks": ""
             }
            },
            "type": "parcoords"
           }
          ],
          "pie": [
           {
            "automargin": true,
            "type": "pie"
           }
          ],
          "scatter": [
           {
            "fillpattern": {
             "fillmode": "overlay",
             "size": 10,
             "solidity": 0.2
            },
            "type": "scatter"
           }
          ],
          "scatter3d": [
           {
            "line": {
             "colorbar": {
              "outlinewidth": 0,
              "ticks": ""
             }
            },
            "marker": {
             "colorbar": {
              "outlinewidth": 0,
              "ticks": ""
             }
            },
            "type": "scatter3d"
           }
          ],
          "scattercarpet": [
           {
            "marker": {
             "colorbar": {
              "outlinewidth": 0,
              "ticks": ""
             }
            },
            "type": "scattercarpet"
           }
          ],
          "scattergeo": [
           {
            "marker": {
             "colorbar": {
              "outlinewidth": 0,
              "ticks": ""
             }
            },
            "type": "scattergeo"
           }
          ],
          "scattergl": [
           {
            "marker": {
             "colorbar": {
              "outlinewidth": 0,
              "ticks": ""
             }
            },
            "type": "scattergl"
           }
          ],
          "scattermapbox": [
           {
            "marker": {
             "colorbar": {
              "outlinewidth": 0,
              "ticks": ""
             }
            },
            "type": "scattermapbox"
           }
          ],
          "scatterpolar": [
           {
            "marker": {
             "colorbar": {
              "outlinewidth": 0,
              "ticks": ""
             }
            },
            "type": "scatterpolar"
           }
          ],
          "scatterpolargl": [
           {
            "marker": {
             "colorbar": {
              "outlinewidth": 0,
              "ticks": ""
             }
            },
            "type": "scatterpolargl"
           }
          ],
          "scatterternary": [
           {
            "marker": {
             "colorbar": {
              "outlinewidth": 0,
              "ticks": ""
             }
            },
            "type": "scatterternary"
           }
          ],
          "surface": [
           {
            "colorbar": {
             "outlinewidth": 0,
             "ticks": ""
            },
            "colorscale": [
             [
              0,
              "#0d0887"
             ],
             [
              0.1111111111111111,
              "#46039f"
             ],
             [
              0.2222222222222222,
              "#7201a8"
             ],
             [
              0.3333333333333333,
              "#9c179e"
             ],
             [
              0.4444444444444444,
              "#bd3786"
             ],
             [
              0.5555555555555556,
              "#d8576b"
             ],
             [
              0.6666666666666666,
              "#ed7953"
             ],
             [
              0.7777777777777778,
              "#fb9f3a"
             ],
             [
              0.8888888888888888,
              "#fdca26"
             ],
             [
              1,
              "#f0f921"
             ]
            ],
            "type": "surface"
           }
          ],
          "table": [
           {
            "cells": {
             "fill": {
              "color": "#EBF0F8"
             },
             "line": {
              "color": "white"
             }
            },
            "header": {
             "fill": {
              "color": "#C8D4E3"
             },
             "line": {
              "color": "white"
             }
            },
            "type": "table"
           }
          ]
         },
         "layout": {
          "annotationdefaults": {
           "arrowcolor": "#2a3f5f",
           "arrowhead": 0,
           "arrowwidth": 1
          },
          "autotypenumbers": "strict",
          "coloraxis": {
           "colorbar": {
            "outlinewidth": 0,
            "ticks": ""
           }
          },
          "colorscale": {
           "diverging": [
            [
             0,
             "#8e0152"
            ],
            [
             0.1,
             "#c51b7d"
            ],
            [
             0.2,
             "#de77ae"
            ],
            [
             0.3,
             "#f1b6da"
            ],
            [
             0.4,
             "#fde0ef"
            ],
            [
             0.5,
             "#f7f7f7"
            ],
            [
             0.6,
             "#e6f5d0"
            ],
            [
             0.7,
             "#b8e186"
            ],
            [
             0.8,
             "#7fbc41"
            ],
            [
             0.9,
             "#4d9221"
            ],
            [
             1,
             "#276419"
            ]
           ],
           "sequential": [
            [
             0,
             "#0d0887"
            ],
            [
             0.1111111111111111,
             "#46039f"
            ],
            [
             0.2222222222222222,
             "#7201a8"
            ],
            [
             0.3333333333333333,
             "#9c179e"
            ],
            [
             0.4444444444444444,
             "#bd3786"
            ],
            [
             0.5555555555555556,
             "#d8576b"
            ],
            [
             0.6666666666666666,
             "#ed7953"
            ],
            [
             0.7777777777777778,
             "#fb9f3a"
            ],
            [
             0.8888888888888888,
             "#fdca26"
            ],
            [
             1,
             "#f0f921"
            ]
           ],
           "sequentialminus": [
            [
             0,
             "#0d0887"
            ],
            [
             0.1111111111111111,
             "#46039f"
            ],
            [
             0.2222222222222222,
             "#7201a8"
            ],
            [
             0.3333333333333333,
             "#9c179e"
            ],
            [
             0.4444444444444444,
             "#bd3786"
            ],
            [
             0.5555555555555556,
             "#d8576b"
            ],
            [
             0.6666666666666666,
             "#ed7953"
            ],
            [
             0.7777777777777778,
             "#fb9f3a"
            ],
            [
             0.8888888888888888,
             "#fdca26"
            ],
            [
             1,
             "#f0f921"
            ]
           ]
          },
          "colorway": [
           "#636efa",
           "#EF553B",
           "#00cc96",
           "#ab63fa",
           "#FFA15A",
           "#19d3f3",
           "#FF6692",
           "#B6E880",
           "#FF97FF",
           "#FECB52"
          ],
          "font": {
           "color": "#2a3f5f"
          },
          "geo": {
           "bgcolor": "white",
           "lakecolor": "white",
           "landcolor": "#E5ECF6",
           "showlakes": true,
           "showland": true,
           "subunitcolor": "white"
          },
          "hoverlabel": {
           "align": "left"
          },
          "hovermode": "closest",
          "mapbox": {
           "style": "light"
          },
          "paper_bgcolor": "white",
          "plot_bgcolor": "#E5ECF6",
          "polar": {
           "angularaxis": {
            "gridcolor": "white",
            "linecolor": "white",
            "ticks": ""
           },
           "bgcolor": "#E5ECF6",
           "radialaxis": {
            "gridcolor": "white",
            "linecolor": "white",
            "ticks": ""
           }
          },
          "scene": {
           "xaxis": {
            "backgroundcolor": "#E5ECF6",
            "gridcolor": "white",
            "gridwidth": 2,
            "linecolor": "white",
            "showbackground": true,
            "ticks": "",
            "zerolinecolor": "white"
           },
           "yaxis": {
            "backgroundcolor": "#E5ECF6",
            "gridcolor": "white",
            "gridwidth": 2,
            "linecolor": "white",
            "showbackground": true,
            "ticks": "",
            "zerolinecolor": "white"
           },
           "zaxis": {
            "backgroundcolor": "#E5ECF6",
            "gridcolor": "white",
            "gridwidth": 2,
            "linecolor": "white",
            "showbackground": true,
            "ticks": "",
            "zerolinecolor": "white"
           }
          },
          "shapedefaults": {
           "line": {
            "color": "#2a3f5f"
           }
          },
          "ternary": {
           "aaxis": {
            "gridcolor": "white",
            "linecolor": "white",
            "ticks": ""
           },
           "baxis": {
            "gridcolor": "white",
            "linecolor": "white",
            "ticks": ""
           },
           "bgcolor": "#E5ECF6",
           "caxis": {
            "gridcolor": "white",
            "linecolor": "white",
            "ticks": ""
           }
          },
          "title": {
           "x": 0.05
          },
          "xaxis": {
           "automargin": true,
           "gridcolor": "white",
           "linecolor": "white",
           "ticks": "",
           "title": {
            "standoff": 15
           },
           "zerolinecolor": "white",
           "zerolinewidth": 2
          },
          "yaxis": {
           "automargin": true,
           "gridcolor": "white",
           "linecolor": "white",
           "ticks": "",
           "title": {
            "standoff": 15
           },
           "zerolinecolor": "white",
           "zerolinewidth": 2
          }
         }
        },
        "title": {
         "text": "Bar Plot with Multiple Variables"
        },
        "xaxis": {
         "anchor": "y",
         "domain": [
          0,
          1
         ],
         "title": {
          "text": "Categories"
         }
        },
        "yaxis": {
         "anchor": "x",
         "domain": [
          0,
          1
         ],
         "title": {
          "text": "Values"
         }
        }
       }
      }
     },
     "metadata": {},
     "output_type": "display_data"
    }
   ],
   "source": [
    "import pandas as pd\n",
    "import plotly.express as px\n",
    "\n",
    "# Create a sample DataFrame (replace this with your data)\n",
    "data = {\n",
    "    'Category': ['Category A', 'Category B', 'Category C', 'Category D'],\n",
    "    'Value1': [10, 15, 7, 12],\n",
    "    'Value2': [5, 9, 4, 8],\n",
    "    'Value3': [8, 12, 6, 10],\n",
    "    'Value4': [6, 11, 5, 9],\n",
    "    'LineValue': [3, 6, 4, 5]  # New column for the line plot\n",
    "}\n",
    "\n",
    "df = pd.DataFrame(data)\n",
    "\n",
    "# Melt the DataFrame\n",
    "df_melted = pd.melt(df, id_vars=['Category'], var_name='Variable', value_name='Value')\n",
    "\n",
    "# Create the bar plot\n",
    "fig = px.bar(df_melted, x='Category', y='Value', color='Variable', title='Bar Plot with Multiple Variables')\n",
    "\n",
    "# Customize the layout if needed (e.g., axis labels, title, legend, etc.)\n",
    "fig.update_layout(\n",
    "    xaxis_title='Categories',\n",
    "    yaxis_title='Values',\n",
    "    legend_title='Variables'\n",
    ")\n",
    "\n",
    "# Create the line plot trace\n",
    "line_trace = px.line(df, x='Category', y='LineValue', title='Line Plot', labels={'LineValue': 'Line Data'})\n",
    "\n",
    "# Add the line trace to the existing figure\n",
    "fig.add_trace(line_trace.data[0])\n",
    "\n",
    "# Show the combined plot\n",
    "fig.show()\n"
   ]
  },
  {
   "cell_type": "code",
   "execution_count": null,
   "metadata": {},
   "outputs": [
    {
     "data": {
      "text/html": [
       "<div>\n",
       "<style scoped>\n",
       "    .dataframe tbody tr th:only-of-type {\n",
       "        vertical-align: middle;\n",
       "    }\n",
       "\n",
       "    .dataframe tbody tr th {\n",
       "        vertical-align: top;\n",
       "    }\n",
       "\n",
       "    .dataframe thead th {\n",
       "        text-align: right;\n",
       "    }\n",
       "</style>\n",
       "<table border=\"1\" class=\"dataframe\">\n",
       "  <thead>\n",
       "    <tr style=\"text-align: right;\">\n",
       "      <th></th>\n",
       "      <th>Category</th>\n",
       "      <th>Value1</th>\n",
       "      <th>Value2</th>\n",
       "      <th>Value3</th>\n",
       "      <th>Value4</th>\n",
       "    </tr>\n",
       "  </thead>\n",
       "  <tbody>\n",
       "    <tr>\n",
       "      <th>0</th>\n",
       "      <td>Category A</td>\n",
       "      <td>10</td>\n",
       "      <td>5</td>\n",
       "      <td>8</td>\n",
       "      <td>6</td>\n",
       "    </tr>\n",
       "    <tr>\n",
       "      <th>1</th>\n",
       "      <td>Category B</td>\n",
       "      <td>15</td>\n",
       "      <td>9</td>\n",
       "      <td>12</td>\n",
       "      <td>11</td>\n",
       "    </tr>\n",
       "    <tr>\n",
       "      <th>2</th>\n",
       "      <td>Category C</td>\n",
       "      <td>7</td>\n",
       "      <td>4</td>\n",
       "      <td>6</td>\n",
       "      <td>5</td>\n",
       "    </tr>\n",
       "    <tr>\n",
       "      <th>3</th>\n",
       "      <td>Category D</td>\n",
       "      <td>12</td>\n",
       "      <td>8</td>\n",
       "      <td>10</td>\n",
       "      <td>9</td>\n",
       "    </tr>\n",
       "  </tbody>\n",
       "</table>\n",
       "</div>"
      ],
      "text/plain": [
       "     Category  Value1  Value2  Value3  Value4\n",
       "0  Category A      10       5       8       6\n",
       "1  Category B      15       9      12      11\n",
       "2  Category C       7       4       6       5\n",
       "3  Category D      12       8      10       9"
      ]
     },
     "execution_count": 4,
     "metadata": {},
     "output_type": "execute_result"
    }
   ],
   "source": [
    "df"
   ]
  },
  {
   "cell_type": "code",
   "execution_count": null,
   "metadata": {},
   "outputs": [
    {
     "data": {
      "text/html": [
       "<div>\n",
       "<style scoped>\n",
       "    .dataframe tbody tr th:only-of-type {\n",
       "        vertical-align: middle;\n",
       "    }\n",
       "\n",
       "    .dataframe tbody tr th {\n",
       "        vertical-align: top;\n",
       "    }\n",
       "\n",
       "    .dataframe thead th {\n",
       "        text-align: right;\n",
       "    }\n",
       "</style>\n",
       "<table border=\"1\" class=\"dataframe\">\n",
       "  <thead>\n",
       "    <tr style=\"text-align: right;\">\n",
       "      <th></th>\n",
       "      <th>Category</th>\n",
       "      <th>Variable</th>\n",
       "      <th>Value</th>\n",
       "    </tr>\n",
       "  </thead>\n",
       "  <tbody>\n",
       "    <tr>\n",
       "      <th>0</th>\n",
       "      <td>Category A</td>\n",
       "      <td>Value1</td>\n",
       "      <td>10</td>\n",
       "    </tr>\n",
       "    <tr>\n",
       "      <th>1</th>\n",
       "      <td>Category B</td>\n",
       "      <td>Value1</td>\n",
       "      <td>15</td>\n",
       "    </tr>\n",
       "    <tr>\n",
       "      <th>2</th>\n",
       "      <td>Category C</td>\n",
       "      <td>Value1</td>\n",
       "      <td>7</td>\n",
       "    </tr>\n",
       "    <tr>\n",
       "      <th>3</th>\n",
       "      <td>Category D</td>\n",
       "      <td>Value1</td>\n",
       "      <td>12</td>\n",
       "    </tr>\n",
       "    <tr>\n",
       "      <th>4</th>\n",
       "      <td>Category A</td>\n",
       "      <td>Value2</td>\n",
       "      <td>5</td>\n",
       "    </tr>\n",
       "    <tr>\n",
       "      <th>5</th>\n",
       "      <td>Category B</td>\n",
       "      <td>Value2</td>\n",
       "      <td>9</td>\n",
       "    </tr>\n",
       "    <tr>\n",
       "      <th>6</th>\n",
       "      <td>Category C</td>\n",
       "      <td>Value2</td>\n",
       "      <td>4</td>\n",
       "    </tr>\n",
       "    <tr>\n",
       "      <th>7</th>\n",
       "      <td>Category D</td>\n",
       "      <td>Value2</td>\n",
       "      <td>8</td>\n",
       "    </tr>\n",
       "    <tr>\n",
       "      <th>8</th>\n",
       "      <td>Category A</td>\n",
       "      <td>Value3</td>\n",
       "      <td>8</td>\n",
       "    </tr>\n",
       "    <tr>\n",
       "      <th>9</th>\n",
       "      <td>Category B</td>\n",
       "      <td>Value3</td>\n",
       "      <td>12</td>\n",
       "    </tr>\n",
       "    <tr>\n",
       "      <th>10</th>\n",
       "      <td>Category C</td>\n",
       "      <td>Value3</td>\n",
       "      <td>6</td>\n",
       "    </tr>\n",
       "    <tr>\n",
       "      <th>11</th>\n",
       "      <td>Category D</td>\n",
       "      <td>Value3</td>\n",
       "      <td>10</td>\n",
       "    </tr>\n",
       "    <tr>\n",
       "      <th>12</th>\n",
       "      <td>Category A</td>\n",
       "      <td>Value4</td>\n",
       "      <td>6</td>\n",
       "    </tr>\n",
       "    <tr>\n",
       "      <th>13</th>\n",
       "      <td>Category B</td>\n",
       "      <td>Value4</td>\n",
       "      <td>11</td>\n",
       "    </tr>\n",
       "    <tr>\n",
       "      <th>14</th>\n",
       "      <td>Category C</td>\n",
       "      <td>Value4</td>\n",
       "      <td>5</td>\n",
       "    </tr>\n",
       "    <tr>\n",
       "      <th>15</th>\n",
       "      <td>Category D</td>\n",
       "      <td>Value4</td>\n",
       "      <td>9</td>\n",
       "    </tr>\n",
       "  </tbody>\n",
       "</table>\n",
       "</div>"
      ],
      "text/plain": [
       "      Category Variable  Value\n",
       "0   Category A   Value1     10\n",
       "1   Category B   Value1     15\n",
       "2   Category C   Value1      7\n",
       "3   Category D   Value1     12\n",
       "4   Category A   Value2      5\n",
       "5   Category B   Value2      9\n",
       "6   Category C   Value2      4\n",
       "7   Category D   Value2      8\n",
       "8   Category A   Value3      8\n",
       "9   Category B   Value3     12\n",
       "10  Category C   Value3      6\n",
       "11  Category D   Value3     10\n",
       "12  Category A   Value4      6\n",
       "13  Category B   Value4     11\n",
       "14  Category C   Value4      5\n",
       "15  Category D   Value4      9"
      ]
     },
     "execution_count": 3,
     "metadata": {},
     "output_type": "execute_result"
    }
   ],
   "source": [
    "df_melted"
   ]
  },
  {
   "cell_type": "code",
   "execution_count": 18,
   "metadata": {},
   "outputs": [
    {
     "name": "stdout",
     "output_type": "stream",
     "text": [
      "\n",
      "                    <div class=\"row\">\n",
      "            <column>Hola<column>Hola</div>\n",
      "                    <div class=\"row\">\n",
      "            <column>Hola<column>Hola</div>\n",
      "                    <div class=\"row\">\n",
      "            <column>Hola</div>\n"
     ]
    }
   ],
   "source": [
    "div_html = ''\n",
    "flag = True\n",
    "\n",
    "for i in range(0,5):\n",
    "\n",
    "    if flag:\n",
    "        div_html = div_html + '''\n",
    "                    <div class=\"row\">\n",
    "            '''\n",
    "    div_html = div_html + \"<column>Hola\"\n",
    "    if not flag:\n",
    "        div_html = div_html + '''</div>''' \n",
    "        flag = True\n",
    "    else:\n",
    "        flag = False\n",
    "if not flag:\n",
    "    div_html = div_html + '''</div>''' \n",
    "\n",
    "print(div_html)"
   ]
  }
 ],
 "metadata": {
  "kernelspec": {
   "display_name": "Python 3 (Spyder)",
   "language": "python3",
   "name": "python3"
  },
  "language_info": {
   "codemirror_mode": {
    "name": "ipython",
    "version": 3
   },
   "file_extension": ".py",
   "mimetype": "text/x-python",
   "name": "python",
   "nbconvert_exporter": "python",
   "pygments_lexer": "ipython3",
   "version": "3.11.3"
  }
 },
 "nbformat": 4,
 "nbformat_minor": 4
}
