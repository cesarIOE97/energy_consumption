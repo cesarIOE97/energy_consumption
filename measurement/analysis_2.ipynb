{
 "cells": [
  {
   "attachments": {},
   "cell_type": "markdown",
   "metadata": {},
   "source": [
    "# Analysis for Performance and Energy Consumption"
   ]
  },
  {
   "attachments": {},
   "cell_type": "markdown",
   "metadata": {},
   "source": [
    "## Extract information"
   ]
  },
  {
   "cell_type": "code",
   "execution_count": 3,
   "metadata": {},
   "outputs": [],
   "source": [
    "# Libraries\n",
    "\n",
    "import sys\n",
    "import os\n",
    "import glob\n",
    "import webbrowser\n",
    "import natsort\n",
    "import pandas as pd\n",
    "import matplotlib.pyplot as plt\n",
    "import seaborn as sns\n",
    "import plotly\n",
    "import plotly.express as px\n",
    "import plotly.graph_objects as go\n",
    "from sklearn.preprocessing import MaxAbsScaler\n",
    "from IPython.display import display, HTML\n"
   ]
  },
  {
   "cell_type": "code",
   "execution_count": 4,
   "metadata": {},
   "outputs": [],
   "source": [
    "# Directory\n",
    "actual_directory = os.getcwd() + '/'  \n",
    "\n",
    "python_releaseDates = {\n",
    "    'Python 3.13.0a0': '2023-06-07',\n",
    "    'Python 3.12.0b1': '2023-05-22',\n",
    "    'Python 3.11.3': '2023-04-05',\n",
    "    'Python 3.10.11': '2023-04-05',\n",
    "    'Python 3.9.16': '2022-12-06',\n",
    "    'Python 3.8.16': '2022-12-06',\n",
    "    'Python 3.7.16': '2022-12-06',\n",
    "    'Python 3.6.15': '2021-09-04',\n",
    "    'Python 3.5.10': '2020-09-05',\n",
    "    'Python 3.4.10': '2019-03-18',\n",
    "    'Python 3.3.7': '2017-09-19',\n",
    "    'Python 3.2.6': '2014-10-11',\n",
    "    'Python 3.1.5': '2012-04-09',\n",
    "    'Python 3.0.1': '2009-02-13',\n",
    "    'Python 2.7.18': '2020-04-20',\n",
    "    'Python 2.6.9': '2013-10-29',\n",
    "    'Python 2.5.6': '2011-05-26',\n",
    "}\n",
    "\n",
    "cplusplus_releaseDates = {\n",
    "    'g++-4.4 4.4.7': '2012-03-13',\n",
    "    'g++-4.6 4.6.4': '2013-04-12',\n",
    "    'g++-4.7 4.7.4': '2014-06-12',\n",
    "    'g++-4.8 4.8.5': '2015-06-23',\n",
    "    'g++-4.9 4.9.3': '2015-06-26',\n",
    "    'g++-5 5.5.0': '2017-10-10',\n",
    "    'g++-6 6.5.0': '2018-10-26',\n",
    "    'g++-7 7.5.0': '2019-11-14',\n",
    "    'g++-8 8.5.0': '2021-05-14',\n",
    "    'g++-8 ': '2021-05-14',\n",
    "    'g++-9 9.5.0': '2022-05-27',\n",
    "    'g++-10 10.4.0': '2022-06-28',\n",
    "    'g++-10 10.5.0': '2023-07-07',\n",
    "    'g++-11 11.4.0': '2023-05-29',\n",
    "    'g++-12 12.3.0': '2023-05-08',\n",
    "    'g++-13 13.1.0': '2023-04-26',\n",
    "}\n",
    "\n",
    "java_releaseDates = {\n",
    "    '1.8.0_362': '2023-04-18',\n",
    "    '9.0.4': '2018-01-16',\n",
    "    '10.0.2': '2018-07-17',\n",
    "    '11.0.19': '2020-10-20',\n",
    "    '12.0.2': '2019-07-16',\n",
    "    '13.0.2': '2020-01-14',\n",
    "    '14.0.2': '2020-07-14',\n",
    "    '15.0.2': '2021-01-19',\n",
    "    '16.0.2': '2021-07-20',\n",
    "    '17.0.7': '2023-04-18',\n",
    "    '18.0.2-ea': '2022-07-19',\n",
    "    '19.0.2': '2023-01-17',\n",
    "    '20.0.2': '2023-07-18',\n",
    "}\n",
    "\n",
    "js_releaseDates = {\n",
    "    '20.5.1': '2023-08-09',\n",
    "    '19.9.0': '2023-04-10',\n",
    "    '18.17.1': '2023-08-08',\n",
    "    '17.9.1': '2022-06-01',\n",
    "    '16.20.2': '2023-08-08',\n",
    "    '15.14.0': '2021-04-06',\n",
    "    '14.21.3': '2023-02-16',\n",
    "    '13.14.0': '2020-04-29',\n",
    "    '12.22.12': '2022-04-05',\n",
    "    '11.15.0': '2019-04-30',\n",
    "    '10.24.1': '2021-04-06',\n",
    "    '9.11.2': '2018-06-12',\n",
    "    '8.17.0': '2019-12-17',\n",
    "    '7.10.1': '2017-07-11',\n",
    "    '6.17.1': '2019-04-03',\n",
    "    '5.12.0': '2016-06-23',\n",
    "    '4.9.1': '2018-03-29',\n",
    "    '3.3.1': '2015-09-15',\n",
    "    '2.5.0': '2015-07-28',\n",
    "    '1.8.4': '2015-07-09',\n",
    "    '0.12.18': '2017-02-22',\n",
    "    '0.10.48': '2016-10-18',\n",
    "    '0.8.28': '2014-07-31'\n",
    "}\n",
    "\n",
    "# Function to get release date for a given Python version\n",
    "def get_release_date(version):\n",
    "    if language == 'python':\n",
    "        return python_releaseDates.get(version, 'Unknown')\n",
    "    elif language == 'c++':\n",
    "        return cplusplus_releaseDates.get(version, 'Unknown')\n",
    "    elif language == 'java':\n",
    "        return java_releaseDates.get(version, 'Unknown')\n",
    "    elif language == 'js':\n",
    "        return js_releaseDates.get(version, 'Unknown')\n",
    "\n",
    "# Function to convert \"g\", \"m\" or KiB to \"byte\"\n",
    "def convert_g_to_byte(value):\n",
    "    value_str = str(value)\n",
    "    if value_str[:-1] == \"\":\n",
    "        Byte_value = 0\n",
    "    elif value_str[-1].lower() == 'g':\n",
    "        g_value = float(value_str[:-1])\n",
    "        Byte_value = g_value * 1024 * 1024 * 1024  # 1 giga = 1,000,000,000\n",
    "    elif value_str[-1].lower() == 'm':\n",
    "        m_value = float(value_str[:-1])\n",
    "        Byte_value = m_value * 1024 * 1024 # 1 giga = 1,000,000\n",
    "    else:\n",
    "        k_value = float(value_str)\n",
    "        Byte_value = k_value * 1024 # 1 kilo = 1,000\n",
    "    return int(Byte_value)\n",
    "\n",
    "def convert_toUnit(column):\n",
    "    column = column.apply(convert_g_to_byte)\n",
    "    column = pd.to_numeric(column, errors='coerce')\n",
    "    return column\n",
    "    \n",
    "def Data_normalized(df, tool):\n",
    "    df_data = df[['version', 'release_date', 'path', 'appplication']]\n",
    "    if tool == \"turbostat\": \n",
    "        df_metric = df.loc[:, ~df.columns.isin(['version', 'release_date', 'path', 'appplication'])]\n",
    "    elif tool == \"top\":\n",
    "        df_metric = df[['virt', 'res', 'shr', 'percent_cpu', 'percent_mem',\n",
    "                    'nTH', 'P', 'SWAP', 'CODE', 'DATA', 'nMaj',\n",
    "                    'nDRT', 'USED']]\n",
    "\n",
    "    transformer = MaxAbsScaler().fit(df_metric)\n",
    "    scaled = transformer.transform(df_metric)\n",
    "\n",
    "    df_norm = pd.DataFrame(scaled, columns=df_metric.columns)\n",
    "    df = pd.concat([df_data,df_norm.reindex(df_data.index)], axis=1)\n",
    "    return df\n",
    "\n",
    "# Function to extract information in every file\n",
    "def from_CSVfile(file, directory, tool):\n",
    "     # Read CSV file\n",
    "    df = pd.read_csv(file)\n",
    "    if language == 'js': df['version'] = df['version'].str.replace('v', '')\n",
    "    \n",
    "    # New column 'release_date' as the second \n",
    "    df['release_date'] = df['version'].apply(get_release_date)\n",
    "    df.insert(1, 'release_date', df.pop('release_date'))\n",
    "\n",
    "    # Convert date into datetime\n",
    "    df['release_date'] = pd.to_datetime(df['release_date'])\n",
    "\n",
    "    # New column 'path' as the third\n",
    "    df['path'] = directory\n",
    "    df.insert(2, 'path', df.pop('path'))\n",
    "\n",
    "    # Clean and remove the unnecessary rows\n",
    "    df.replace(to_replace='-', value=0, inplace=True)\n",
    "\n",
    "    # Apply the conversion function to the DataFrame column\n",
    "    if tool == \"top\":\n",
    "        df = df.dropna(subset=['command'])\n",
    "        df['virt'] = convert_toUnit(df['virt'])\n",
    "        df['res'] = convert_toUnit(df['res'])\n",
    "        df['shr'] = convert_toUnit(df['shr'])\n",
    "        df['CODE'] = convert_toUnit(df['CODE'])\n",
    "        df['DATA'] = convert_toUnit(df['DATA'])\n",
    "        df['SWAP'] = convert_toUnit(df['SWAP'])\n",
    "        df['USED'] = convert_toUnit(df['USED'])\n",
    "\n",
    "    # Changes in the 'version' column\n",
    "    if language == 'python': df['version'] = df['version'].str.replace('Python ', '')\n",
    "    if language == 'c++': df['version'] = df['version'].str.split().str[0]\n",
    "\n",
    "    # with pd.option_context('display.max_rows', None, 'display.max_columns', None):  # more options can be specified also\n",
    "    #     print(df)\n",
    "\n",
    "    return df\n",
    "\n",
    "# Extract all information from ALL files\n",
    "def from_CSVfiles(tool, norm):\n",
    "\n",
    "    all_df = pd.DataFrame()\n",
    "\n",
    "    extra = ''\n",
    "    if tool == \"turbostat\": extra = \"_performance\"\n",
    "\n",
    "    list_directories = next(os.walk(language))[1]\n",
    "    list_directories.sort()\n",
    "\n",
    "    for directory_name in list_directories:\n",
    "        if directory_name != \"older\" and directory_name != \"test\" and directory_name != \"general_plots\":\n",
    "            path=language + '/' + directory_name + '/' + tool + '/'\n",
    "            if tool != \"top\": path = path + tool + extra\n",
    "            if tool == \"top\":\n",
    "\n",
    "                df = pd.DataFrame()\n",
    "                list_files = os.listdir(path)\n",
    "\n",
    "                # Get list of all files only in the given directory\n",
    "                list_files = natsort.natsorted(list_files)\n",
    "\n",
    "                for file_name in list_files:\n",
    "                    if file_name.startswith(\"temp_top_data_\") and file_name.endswith('.csv'):\n",
    "                        df_Top = from_CSVfile(path + file_name, directory_name, tool)\n",
    "                        df = pd.concat([df, df_Top])\n",
    "\n",
    "                df.to_csv(path + \"top_data_allVersions.csv\", index=False)\n",
    "            else:\n",
    "                df = from_CSVfile(path + '_data_allVersions.csv', directory_name, tool)\n",
    "                if norm: df = Data_normalized(df, tool)\n",
    "            all_df = pd.concat([all_df, df])\n",
    "\n",
    "    return all_df"
   ]
  },
  {
   "cell_type": "code",
   "execution_count": 7,
   "metadata": {},
   "outputs": [
    {
     "data": {
      "text/html": [
       "<div>\n",
       "<style scoped>\n",
       "    .dataframe tbody tr th:only-of-type {\n",
       "        vertical-align: middle;\n",
       "    }\n",
       "\n",
       "    .dataframe tbody tr th {\n",
       "        vertical-align: top;\n",
       "    }\n",
       "\n",
       "    .dataframe thead th {\n",
       "        text-align: right;\n",
       "    }\n",
       "</style>\n",
       "<table border=\"1\" class=\"dataframe\">\n",
       "  <thead>\n",
       "    <tr style=\"text-align: right;\">\n",
       "      <th></th>\n",
       "      <th>version</th>\n",
       "      <th>release_date</th>\n",
       "      <th>path</th>\n",
       "      <th>appplication</th>\n",
       "      <th>CPU_Utilization</th>\n",
       "      <th>CPI</th>\n",
       "      <th>Retiring</th>\n",
       "      <th>Frontend_Bound</th>\n",
       "      <th>Bad_Speculation</th>\n",
       "      <th>Backend_Bound</th>\n",
       "      <th>...</th>\n",
       "      <th>percent_LLC_load_misses</th>\n",
       "      <th>L1_icache_load_misses</th>\n",
       "      <th>dTLB_loads</th>\n",
       "      <th>dTLB_load_misses</th>\n",
       "      <th>percent_dTLB_load_misses</th>\n",
       "      <th>iTLB_loads</th>\n",
       "      <th>iTLB_load_misses</th>\n",
       "      <th>percent_iTLB_load_misses</th>\n",
       "      <th>block_rq_issue</th>\n",
       "      <th>block_rq_complete</th>\n",
       "    </tr>\n",
       "  </thead>\n",
       "  <tbody>\n",
       "    <tr>\n",
       "      <th>0</th>\n",
       "      <td>0.8.28</td>\n",
       "      <td>2014-07-31</td>\n",
       "      <td>nbody_50000000</td>\n",
       "      <td>nbody_6.js 50000000</td>\n",
       "      <td>0.98</td>\n",
       "      <td>0.33</td>\n",
       "      <td>0.65</td>\n",
       "      <td>0.31</td>\n",
       "      <td>0.02</td>\n",
       "      <td>0.02</td>\n",
       "      <td>...</td>\n",
       "      <td>0.54%</td>\n",
       "      <td>76630266</td>\n",
       "      <td>69674451505</td>\n",
       "      <td>899710</td>\n",
       "      <td>0.00%</td>\n",
       "      <td>429894</td>\n",
       "      <td>236485</td>\n",
       "      <td>55.01%</td>\n",
       "      <td>0</td>\n",
       "      <td>0</td>\n",
       "    </tr>\n",
       "    <tr>\n",
       "      <th>1</th>\n",
       "      <td>0.10.48</td>\n",
       "      <td>2016-10-18</td>\n",
       "      <td>nbody_50000000</td>\n",
       "      <td>nbody_6.js 50000000</td>\n",
       "      <td>0.99</td>\n",
       "      <td>0.33</td>\n",
       "      <td>0.65</td>\n",
       "      <td>0.30</td>\n",
       "      <td>0.03</td>\n",
       "      <td>0.03</td>\n",
       "      <td>...</td>\n",
       "      <td>1.34%</td>\n",
       "      <td>40139174</td>\n",
       "      <td>68735245598</td>\n",
       "      <td>1475756</td>\n",
       "      <td>0.00%</td>\n",
       "      <td>261148</td>\n",
       "      <td>561246</td>\n",
       "      <td>214.91%</td>\n",
       "      <td>0</td>\n",
       "      <td>0</td>\n",
       "    </tr>\n",
       "    <tr>\n",
       "      <th>2</th>\n",
       "      <td>0.12.18</td>\n",
       "      <td>2017-02-22</td>\n",
       "      <td>nbody_50000000</td>\n",
       "      <td>nbody_6.js 50000000</td>\n",
       "      <td>1.00</td>\n",
       "      <td>0.40</td>\n",
       "      <td>0.57</td>\n",
       "      <td>0.05</td>\n",
       "      <td>0.00</td>\n",
       "      <td>0.39</td>\n",
       "      <td>...</td>\n",
       "      <td>35.79%</td>\n",
       "      <td>558921</td>\n",
       "      <td>21030626587</td>\n",
       "      <td>338</td>\n",
       "      <td>0.00%</td>\n",
       "      <td>5252</td>\n",
       "      <td>4914</td>\n",
       "      <td>93.56%</td>\n",
       "      <td>0</td>\n",
       "      <td>0</td>\n",
       "    </tr>\n",
       "    <tr>\n",
       "      <th>3</th>\n",
       "      <td>1.8.4</td>\n",
       "      <td>2015-07-09</td>\n",
       "      <td>nbody_50000000</td>\n",
       "      <td>nbody_6.js 50000000</td>\n",
       "      <td>1.00</td>\n",
       "      <td>0.40</td>\n",
       "      <td>0.57</td>\n",
       "      <td>0.04</td>\n",
       "      <td>0.00</td>\n",
       "      <td>0.39</td>\n",
       "      <td>...</td>\n",
       "      <td>24.07%</td>\n",
       "      <td>565886</td>\n",
       "      <td>21118730979</td>\n",
       "      <td>94</td>\n",
       "      <td>0.00%</td>\n",
       "      <td>4224</td>\n",
       "      <td>3291</td>\n",
       "      <td>77.91%</td>\n",
       "      <td>0</td>\n",
       "      <td>0</td>\n",
       "    </tr>\n",
       "    <tr>\n",
       "      <th>4</th>\n",
       "      <td>2.5.0</td>\n",
       "      <td>2015-07-28</td>\n",
       "      <td>nbody_50000000</td>\n",
       "      <td>nbody_6.js 50000000</td>\n",
       "      <td>1.00</td>\n",
       "      <td>0.42</td>\n",
       "      <td>0.54</td>\n",
       "      <td>0.03</td>\n",
       "      <td>0.00</td>\n",
       "      <td>0.43</td>\n",
       "      <td>...</td>\n",
       "      <td>24.05%</td>\n",
       "      <td>594613</td>\n",
       "      <td>21084415286</td>\n",
       "      <td>101</td>\n",
       "      <td>0.00%</td>\n",
       "      <td>5738</td>\n",
       "      <td>5504</td>\n",
       "      <td>95.92%</td>\n",
       "      <td>0</td>\n",
       "      <td>0</td>\n",
       "    </tr>\n",
       "    <tr>\n",
       "      <th>5</th>\n",
       "      <td>3.3.1</td>\n",
       "      <td>2015-09-15</td>\n",
       "      <td>nbody_50000000</td>\n",
       "      <td>nbody_6.js 50000000</td>\n",
       "      <td>1.00</td>\n",
       "      <td>0.41</td>\n",
       "      <td>0.53</td>\n",
       "      <td>0.06</td>\n",
       "      <td>0.00</td>\n",
       "      <td>0.40</td>\n",
       "      <td>...</td>\n",
       "      <td>21.02%</td>\n",
       "      <td>435292</td>\n",
       "      <td>10963450267</td>\n",
       "      <td>10250</td>\n",
       "      <td>0.00%</td>\n",
       "      <td>54093</td>\n",
       "      <td>20468</td>\n",
       "      <td>37.84%</td>\n",
       "      <td>0</td>\n",
       "      <td>0</td>\n",
       "    </tr>\n",
       "    <tr>\n",
       "      <th>6</th>\n",
       "      <td>4.9.1</td>\n",
       "      <td>2018-03-29</td>\n",
       "      <td>nbody_50000000</td>\n",
       "      <td>nbody_6.js 50000000</td>\n",
       "      <td>1.00</td>\n",
       "      <td>0.41</td>\n",
       "      <td>0.53</td>\n",
       "      <td>0.08</td>\n",
       "      <td>0.00</td>\n",
       "      <td>0.40</td>\n",
       "      <td>...</td>\n",
       "      <td>15.55%</td>\n",
       "      <td>417019</td>\n",
       "      <td>10940921311</td>\n",
       "      <td>132</td>\n",
       "      <td>0.00%</td>\n",
       "      <td>2338</td>\n",
       "      <td>3421</td>\n",
       "      <td>146.32%</td>\n",
       "      <td>0</td>\n",
       "      <td>0</td>\n",
       "    </tr>\n",
       "    <tr>\n",
       "      <th>7</th>\n",
       "      <td>5.12.0</td>\n",
       "      <td>2016-06-23</td>\n",
       "      <td>nbody_50000000</td>\n",
       "      <td>nbody_6.js 50000000</td>\n",
       "      <td>1.00</td>\n",
       "      <td>0.41</td>\n",
       "      <td>0.53</td>\n",
       "      <td>0.06</td>\n",
       "      <td>0.00</td>\n",
       "      <td>0.40</td>\n",
       "      <td>...</td>\n",
       "      <td>32.15%</td>\n",
       "      <td>1816134</td>\n",
       "      <td>10941592609</td>\n",
       "      <td>39</td>\n",
       "      <td>0.00%</td>\n",
       "      <td>4899</td>\n",
       "      <td>3364</td>\n",
       "      <td>68.67%</td>\n",
       "      <td>0</td>\n",
       "      <td>0</td>\n",
       "    </tr>\n",
       "    <tr>\n",
       "      <th>8</th>\n",
       "      <td>6.17.1</td>\n",
       "      <td>2019-04-03</td>\n",
       "      <td>nbody_50000000</td>\n",
       "      <td>nbody_6.js 50000000</td>\n",
       "      <td>1.00</td>\n",
       "      <td>0.41</td>\n",
       "      <td>0.54</td>\n",
       "      <td>0.07</td>\n",
       "      <td>0.00</td>\n",
       "      <td>0.39</td>\n",
       "      <td>...</td>\n",
       "      <td>12.12%</td>\n",
       "      <td>423388</td>\n",
       "      <td>10978811091</td>\n",
       "      <td>23</td>\n",
       "      <td>0.00%</td>\n",
       "      <td>3874</td>\n",
       "      <td>3205</td>\n",
       "      <td>82.73%</td>\n",
       "      <td>0</td>\n",
       "      <td>0</td>\n",
       "    </tr>\n",
       "    <tr>\n",
       "      <th>9</th>\n",
       "      <td>7.10.1</td>\n",
       "      <td>2017-07-11</td>\n",
       "      <td>nbody_50000000</td>\n",
       "      <td>nbody_6.js 50000000</td>\n",
       "      <td>1.00</td>\n",
       "      <td>0.41</td>\n",
       "      <td>0.54</td>\n",
       "      <td>0.06</td>\n",
       "      <td>0.01</td>\n",
       "      <td>0.39</td>\n",
       "      <td>...</td>\n",
       "      <td>33.38%</td>\n",
       "      <td>576502</td>\n",
       "      <td>10994349440</td>\n",
       "      <td>16651</td>\n",
       "      <td>0.00%</td>\n",
       "      <td>58936</td>\n",
       "      <td>22113</td>\n",
       "      <td>37.52%</td>\n",
       "      <td>0</td>\n",
       "      <td>0</td>\n",
       "    </tr>\n",
       "    <tr>\n",
       "      <th>10</th>\n",
       "      <td>8.17.0</td>\n",
       "      <td>2019-12-17</td>\n",
       "      <td>nbody_50000000</td>\n",
       "      <td>nbody_6.js 50000000</td>\n",
       "      <td>1.00</td>\n",
       "      <td>0.39</td>\n",
       "      <td>0.58</td>\n",
       "      <td>0.08</td>\n",
       "      <td>0.00</td>\n",
       "      <td>0.33</td>\n",
       "      <td>...</td>\n",
       "      <td>14.48%</td>\n",
       "      <td>443424</td>\n",
       "      <td>10182377494</td>\n",
       "      <td>361</td>\n",
       "      <td>0.00%</td>\n",
       "      <td>2614</td>\n",
       "      <td>4089</td>\n",
       "      <td>156.43%</td>\n",
       "      <td>0</td>\n",
       "      <td>0</td>\n",
       "    </tr>\n",
       "    <tr>\n",
       "      <th>11</th>\n",
       "      <td>9.11.2</td>\n",
       "      <td>2018-06-12</td>\n",
       "      <td>nbody_50000000</td>\n",
       "      <td>nbody_6.js 50000000</td>\n",
       "      <td>1.00</td>\n",
       "      <td>0.39</td>\n",
       "      <td>0.58</td>\n",
       "      <td>0.08</td>\n",
       "      <td>0.00</td>\n",
       "      <td>0.33</td>\n",
       "      <td>...</td>\n",
       "      <td>16.91%</td>\n",
       "      <td>493243</td>\n",
       "      <td>10262893657</td>\n",
       "      <td>911</td>\n",
       "      <td>0.00%</td>\n",
       "      <td>2748</td>\n",
       "      <td>6644</td>\n",
       "      <td>241.78%</td>\n",
       "      <td>0</td>\n",
       "      <td>0</td>\n",
       "    </tr>\n",
       "    <tr>\n",
       "      <th>12</th>\n",
       "      <td>10.24.1</td>\n",
       "      <td>2021-04-06</td>\n",
       "      <td>nbody_50000000</td>\n",
       "      <td>nbody_6.js 50000000</td>\n",
       "      <td>0.99</td>\n",
       "      <td>0.41</td>\n",
       "      <td>0.54</td>\n",
       "      <td>0.03</td>\n",
       "      <td>0.00</td>\n",
       "      <td>0.42</td>\n",
       "      <td>...</td>\n",
       "      <td>100.86%</td>\n",
       "      <td>2043888</td>\n",
       "      <td>10362722610</td>\n",
       "      <td>20561</td>\n",
       "      <td>0.00%</td>\n",
       "      <td>14195</td>\n",
       "      <td>4657</td>\n",
       "      <td>32.81%</td>\n",
       "      <td>0</td>\n",
       "      <td>2</td>\n",
       "    </tr>\n",
       "    <tr>\n",
       "      <th>13</th>\n",
       "      <td>11.15.0</td>\n",
       "      <td>2019-04-30</td>\n",
       "      <td>nbody_50000000</td>\n",
       "      <td>nbody_6.js 50000000</td>\n",
       "      <td>1.00</td>\n",
       "      <td>0.40</td>\n",
       "      <td>0.56</td>\n",
       "      <td>0.03</td>\n",
       "      <td>0.00</td>\n",
       "      <td>0.41</td>\n",
       "      <td>...</td>\n",
       "      <td>13.87%</td>\n",
       "      <td>456109</td>\n",
       "      <td>10317747086</td>\n",
       "      <td>227</td>\n",
       "      <td>0.00%</td>\n",
       "      <td>6585</td>\n",
       "      <td>3929</td>\n",
       "      <td>59.67%</td>\n",
       "      <td>0</td>\n",
       "      <td>0</td>\n",
       "    </tr>\n",
       "    <tr>\n",
       "      <th>14</th>\n",
       "      <td>12.22.12</td>\n",
       "      <td>2022-04-05</td>\n",
       "      <td>nbody_50000000</td>\n",
       "      <td>nbody_6.js 50000000</td>\n",
       "      <td>0.99</td>\n",
       "      <td>0.42</td>\n",
       "      <td>0.53</td>\n",
       "      <td>0.02</td>\n",
       "      <td>0.00</td>\n",
       "      <td>0.45</td>\n",
       "      <td>...</td>\n",
       "      <td>16.89%</td>\n",
       "      <td>532815</td>\n",
       "      <td>10462494105</td>\n",
       "      <td>116</td>\n",
       "      <td>0.00%</td>\n",
       "      <td>4987</td>\n",
       "      <td>5899</td>\n",
       "      <td>118.29%</td>\n",
       "      <td>0</td>\n",
       "      <td>0</td>\n",
       "    </tr>\n",
       "    <tr>\n",
       "      <th>15</th>\n",
       "      <td>13.14.0</td>\n",
       "      <td>2020-04-29</td>\n",
       "      <td>nbody_50000000</td>\n",
       "      <td>nbody_6.js 50000000</td>\n",
       "      <td>1.00</td>\n",
       "      <td>0.40</td>\n",
       "      <td>0.56</td>\n",
       "      <td>0.02</td>\n",
       "      <td>0.00</td>\n",
       "      <td>0.42</td>\n",
       "      <td>...</td>\n",
       "      <td>16.74%</td>\n",
       "      <td>386010</td>\n",
       "      <td>10846182219</td>\n",
       "      <td>180</td>\n",
       "      <td>0.00%</td>\n",
       "      <td>3978</td>\n",
       "      <td>5748</td>\n",
       "      <td>144.49%</td>\n",
       "      <td>0</td>\n",
       "      <td>0</td>\n",
       "    </tr>\n",
       "    <tr>\n",
       "      <th>16</th>\n",
       "      <td>14.21.3</td>\n",
       "      <td>2023-02-16</td>\n",
       "      <td>nbody_50000000</td>\n",
       "      <td>nbody_6.js 50000000</td>\n",
       "      <td>1.00</td>\n",
       "      <td>0.41</td>\n",
       "      <td>0.55</td>\n",
       "      <td>0.02</td>\n",
       "      <td>0.00</td>\n",
       "      <td>0.42</td>\n",
       "      <td>...</td>\n",
       "      <td>13.13%</td>\n",
       "      <td>608137</td>\n",
       "      <td>20771451641</td>\n",
       "      <td>653</td>\n",
       "      <td>0.00%</td>\n",
       "      <td>3281</td>\n",
       "      <td>8278</td>\n",
       "      <td>252.30%</td>\n",
       "      <td>0</td>\n",
       "      <td>0</td>\n",
       "    </tr>\n",
       "    <tr>\n",
       "      <th>17</th>\n",
       "      <td>15.14.0</td>\n",
       "      <td>2021-04-06</td>\n",
       "      <td>nbody_50000000</td>\n",
       "      <td>nbody_6.js 50000000</td>\n",
       "      <td>1.00</td>\n",
       "      <td>0.40</td>\n",
       "      <td>0.57</td>\n",
       "      <td>0.05</td>\n",
       "      <td>0.00</td>\n",
       "      <td>0.38</td>\n",
       "      <td>...</td>\n",
       "      <td>17.64%</td>\n",
       "      <td>524515</td>\n",
       "      <td>20737225377</td>\n",
       "      <td>7</td>\n",
       "      <td>0.00%</td>\n",
       "      <td>3192</td>\n",
       "      <td>5963</td>\n",
       "      <td>186.81%</td>\n",
       "      <td>0</td>\n",
       "      <td>0</td>\n",
       "    </tr>\n",
       "    <tr>\n",
       "      <th>18</th>\n",
       "      <td>16.20.2</td>\n",
       "      <td>2023-08-08</td>\n",
       "      <td>nbody_50000000</td>\n",
       "      <td>nbody_6.js 50000000</td>\n",
       "      <td>1.00</td>\n",
       "      <td>0.42</td>\n",
       "      <td>0.53</td>\n",
       "      <td>0.03</td>\n",
       "      <td>0.00</td>\n",
       "      <td>0.44</td>\n",
       "      <td>...</td>\n",
       "      <td>5.20%</td>\n",
       "      <td>606880</td>\n",
       "      <td>20616440006</td>\n",
       "      <td>125</td>\n",
       "      <td>0.00%</td>\n",
       "      <td>2985</td>\n",
       "      <td>4676</td>\n",
       "      <td>156.65%</td>\n",
       "      <td>0</td>\n",
       "      <td>0</td>\n",
       "    </tr>\n",
       "    <tr>\n",
       "      <th>19</th>\n",
       "      <td>17.9.1</td>\n",
       "      <td>2022-06-01</td>\n",
       "      <td>nbody_50000000</td>\n",
       "      <td>nbody_6.js 50000000</td>\n",
       "      <td>1.00</td>\n",
       "      <td>0.42</td>\n",
       "      <td>0.54</td>\n",
       "      <td>0.03</td>\n",
       "      <td>0.00</td>\n",
       "      <td>0.43</td>\n",
       "      <td>...</td>\n",
       "      <td>11.74%</td>\n",
       "      <td>509063</td>\n",
       "      <td>20952165609</td>\n",
       "      <td>7</td>\n",
       "      <td>0.00%</td>\n",
       "      <td>3554</td>\n",
       "      <td>5311</td>\n",
       "      <td>149.44%</td>\n",
       "      <td>0</td>\n",
       "      <td>0</td>\n",
       "    </tr>\n",
       "    <tr>\n",
       "      <th>20</th>\n",
       "      <td>18.17.1</td>\n",
       "      <td>2023-08-08</td>\n",
       "      <td>nbody_50000000</td>\n",
       "      <td>nbody_6.js 50000000</td>\n",
       "      <td>1.00</td>\n",
       "      <td>0.39</td>\n",
       "      <td>0.58</td>\n",
       "      <td>0.05</td>\n",
       "      <td>0.00</td>\n",
       "      <td>0.36</td>\n",
       "      <td>...</td>\n",
       "      <td>13.75%</td>\n",
       "      <td>504446</td>\n",
       "      <td>20740715967</td>\n",
       "      <td>202</td>\n",
       "      <td>0.00%</td>\n",
       "      <td>3385</td>\n",
       "      <td>6474</td>\n",
       "      <td>191.26%</td>\n",
       "      <td>0</td>\n",
       "      <td>0</td>\n",
       "    </tr>\n",
       "    <tr>\n",
       "      <th>21</th>\n",
       "      <td>19.9.0</td>\n",
       "      <td>2023-04-10</td>\n",
       "      <td>nbody_50000000</td>\n",
       "      <td>nbody_6.js 50000000</td>\n",
       "      <td>1.00</td>\n",
       "      <td>0.39</td>\n",
       "      <td>0.58</td>\n",
       "      <td>0.05</td>\n",
       "      <td>0.00</td>\n",
       "      <td>0.36</td>\n",
       "      <td>...</td>\n",
       "      <td>8.35%</td>\n",
       "      <td>612251</td>\n",
       "      <td>20647024830</td>\n",
       "      <td>7</td>\n",
       "      <td>0.00%</td>\n",
       "      <td>4671</td>\n",
       "      <td>6301</td>\n",
       "      <td>134.90%</td>\n",
       "      <td>0</td>\n",
       "      <td>0</td>\n",
       "    </tr>\n",
       "    <tr>\n",
       "      <th>22</th>\n",
       "      <td>20.5.1</td>\n",
       "      <td>2023-08-09</td>\n",
       "      <td>nbody_50000000</td>\n",
       "      <td>nbody_6.js 50000000</td>\n",
       "      <td>1.00</td>\n",
       "      <td>0.39</td>\n",
       "      <td>0.59</td>\n",
       "      <td>0.05</td>\n",
       "      <td>0.00</td>\n",
       "      <td>0.36</td>\n",
       "      <td>...</td>\n",
       "      <td>1.30%</td>\n",
       "      <td>623048</td>\n",
       "      <td>20122793414</td>\n",
       "      <td>55</td>\n",
       "      <td>0.00%</td>\n",
       "      <td>5518</td>\n",
       "      <td>5927</td>\n",
       "      <td>107.41%</td>\n",
       "      <td>0</td>\n",
       "      <td>0</td>\n",
       "    </tr>\n",
       "  </tbody>\n",
       "</table>\n",
       "<p>23 rows × 56 columns</p>\n",
       "</div>"
      ],
      "text/plain": [
       "     version release_date            path         appplication  \\\n",
       "0     0.8.28   2014-07-31  nbody_50000000  nbody_6.js 50000000   \n",
       "1    0.10.48   2016-10-18  nbody_50000000  nbody_6.js 50000000   \n",
       "2    0.12.18   2017-02-22  nbody_50000000  nbody_6.js 50000000   \n",
       "3      1.8.4   2015-07-09  nbody_50000000  nbody_6.js 50000000   \n",
       "4      2.5.0   2015-07-28  nbody_50000000  nbody_6.js 50000000   \n",
       "5      3.3.1   2015-09-15  nbody_50000000  nbody_6.js 50000000   \n",
       "6      4.9.1   2018-03-29  nbody_50000000  nbody_6.js 50000000   \n",
       "7     5.12.0   2016-06-23  nbody_50000000  nbody_6.js 50000000   \n",
       "8     6.17.1   2019-04-03  nbody_50000000  nbody_6.js 50000000   \n",
       "9     7.10.1   2017-07-11  nbody_50000000  nbody_6.js 50000000   \n",
       "10    8.17.0   2019-12-17  nbody_50000000  nbody_6.js 50000000   \n",
       "11    9.11.2   2018-06-12  nbody_50000000  nbody_6.js 50000000   \n",
       "12   10.24.1   2021-04-06  nbody_50000000  nbody_6.js 50000000   \n",
       "13   11.15.0   2019-04-30  nbody_50000000  nbody_6.js 50000000   \n",
       "14  12.22.12   2022-04-05  nbody_50000000  nbody_6.js 50000000   \n",
       "15   13.14.0   2020-04-29  nbody_50000000  nbody_6.js 50000000   \n",
       "16   14.21.3   2023-02-16  nbody_50000000  nbody_6.js 50000000   \n",
       "17   15.14.0   2021-04-06  nbody_50000000  nbody_6.js 50000000   \n",
       "18   16.20.2   2023-08-08  nbody_50000000  nbody_6.js 50000000   \n",
       "19    17.9.1   2022-06-01  nbody_50000000  nbody_6.js 50000000   \n",
       "20   18.17.1   2023-08-08  nbody_50000000  nbody_6.js 50000000   \n",
       "21    19.9.0   2023-04-10  nbody_50000000  nbody_6.js 50000000   \n",
       "22    20.5.1   2023-08-09  nbody_50000000  nbody_6.js 50000000   \n",
       "\n",
       "    CPU_Utilization   CPI  Retiring  Frontend_Bound  Bad_Speculation  \\\n",
       "0              0.98  0.33      0.65            0.31             0.02   \n",
       "1              0.99  0.33      0.65            0.30             0.03   \n",
       "2              1.00  0.40      0.57            0.05             0.00   \n",
       "3              1.00  0.40      0.57            0.04             0.00   \n",
       "4              1.00  0.42      0.54            0.03             0.00   \n",
       "5              1.00  0.41      0.53            0.06             0.00   \n",
       "6              1.00  0.41      0.53            0.08             0.00   \n",
       "7              1.00  0.41      0.53            0.06             0.00   \n",
       "8              1.00  0.41      0.54            0.07             0.00   \n",
       "9              1.00  0.41      0.54            0.06             0.01   \n",
       "10             1.00  0.39      0.58            0.08             0.00   \n",
       "11             1.00  0.39      0.58            0.08             0.00   \n",
       "12             0.99  0.41      0.54            0.03             0.00   \n",
       "13             1.00  0.40      0.56            0.03             0.00   \n",
       "14             0.99  0.42      0.53            0.02             0.00   \n",
       "15             1.00  0.40      0.56            0.02             0.00   \n",
       "16             1.00  0.41      0.55            0.02             0.00   \n",
       "17             1.00  0.40      0.57            0.05             0.00   \n",
       "18             1.00  0.42      0.53            0.03             0.00   \n",
       "19             1.00  0.42      0.54            0.03             0.00   \n",
       "20             1.00  0.39      0.58            0.05             0.00   \n",
       "21             1.00  0.39      0.58            0.05             0.00   \n",
       "22             1.00  0.39      0.59            0.05             0.00   \n",
       "\n",
       "    Backend_Bound  ...  percent_LLC_load_misses  L1_icache_load_misses  \\\n",
       "0            0.02  ...                    0.54%               76630266   \n",
       "1            0.03  ...                    1.34%               40139174   \n",
       "2            0.39  ...                   35.79%                 558921   \n",
       "3            0.39  ...                   24.07%                 565886   \n",
       "4            0.43  ...                   24.05%                 594613   \n",
       "5            0.40  ...                   21.02%                 435292   \n",
       "6            0.40  ...                   15.55%                 417019   \n",
       "7            0.40  ...                   32.15%                1816134   \n",
       "8            0.39  ...                   12.12%                 423388   \n",
       "9            0.39  ...                   33.38%                 576502   \n",
       "10           0.33  ...                   14.48%                 443424   \n",
       "11           0.33  ...                   16.91%                 493243   \n",
       "12           0.42  ...                  100.86%                2043888   \n",
       "13           0.41  ...                   13.87%                 456109   \n",
       "14           0.45  ...                   16.89%                 532815   \n",
       "15           0.42  ...                   16.74%                 386010   \n",
       "16           0.42  ...                   13.13%                 608137   \n",
       "17           0.38  ...                   17.64%                 524515   \n",
       "18           0.44  ...                    5.20%                 606880   \n",
       "19           0.43  ...                   11.74%                 509063   \n",
       "20           0.36  ...                   13.75%                 504446   \n",
       "21           0.36  ...                    8.35%                 612251   \n",
       "22           0.36  ...                    1.30%                 623048   \n",
       "\n",
       "     dTLB_loads  dTLB_load_misses  percent_dTLB_load_misses iTLB_loads  \\\n",
       "0   69674451505            899710                     0.00%     429894   \n",
       "1   68735245598           1475756                     0.00%     261148   \n",
       "2   21030626587               338                     0.00%       5252   \n",
       "3   21118730979                94                     0.00%       4224   \n",
       "4   21084415286               101                     0.00%       5738   \n",
       "5   10963450267             10250                     0.00%      54093   \n",
       "6   10940921311               132                     0.00%       2338   \n",
       "7   10941592609                39                     0.00%       4899   \n",
       "8   10978811091                23                     0.00%       3874   \n",
       "9   10994349440             16651                     0.00%      58936   \n",
       "10  10182377494               361                     0.00%       2614   \n",
       "11  10262893657               911                     0.00%       2748   \n",
       "12  10362722610             20561                     0.00%      14195   \n",
       "13  10317747086               227                     0.00%       6585   \n",
       "14  10462494105               116                     0.00%       4987   \n",
       "15  10846182219               180                     0.00%       3978   \n",
       "16  20771451641               653                     0.00%       3281   \n",
       "17  20737225377                 7                     0.00%       3192   \n",
       "18  20616440006               125                     0.00%       2985   \n",
       "19  20952165609                 7                     0.00%       3554   \n",
       "20  20740715967               202                     0.00%       3385   \n",
       "21  20647024830                 7                     0.00%       4671   \n",
       "22  20122793414                55                     0.00%       5518   \n",
       "\n",
       "    iTLB_load_misses percent_iTLB_load_misses  block_rq_issue  \\\n",
       "0             236485                   55.01%               0   \n",
       "1             561246                  214.91%               0   \n",
       "2               4914                   93.56%               0   \n",
       "3               3291                   77.91%               0   \n",
       "4               5504                   95.92%               0   \n",
       "5              20468                   37.84%               0   \n",
       "6               3421                  146.32%               0   \n",
       "7               3364                   68.67%               0   \n",
       "8               3205                   82.73%               0   \n",
       "9              22113                   37.52%               0   \n",
       "10              4089                  156.43%               0   \n",
       "11              6644                  241.78%               0   \n",
       "12              4657                   32.81%               0   \n",
       "13              3929                   59.67%               0   \n",
       "14              5899                  118.29%               0   \n",
       "15              5748                  144.49%               0   \n",
       "16              8278                  252.30%               0   \n",
       "17              5963                  186.81%               0   \n",
       "18              4676                  156.65%               0   \n",
       "19              5311                  149.44%               0   \n",
       "20              6474                  191.26%               0   \n",
       "21              6301                  134.90%               0   \n",
       "22              5927                  107.41%               0   \n",
       "\n",
       "    block_rq_complete  \n",
       "0                   0  \n",
       "1                   0  \n",
       "2                   0  \n",
       "3                   0  \n",
       "4                   0  \n",
       "5                   0  \n",
       "6                   0  \n",
       "7                   0  \n",
       "8                   0  \n",
       "9                   0  \n",
       "10                  0  \n",
       "11                  0  \n",
       "12                  2  \n",
       "13                  0  \n",
       "14                  0  \n",
       "15                  0  \n",
       "16                  0  \n",
       "17                  0  \n",
       "18                  0  \n",
       "19                  0  \n",
       "20                  0  \n",
       "21                  0  \n",
       "22                  0  \n",
       "\n",
       "[23 rows x 56 columns]"
      ]
     },
     "execution_count": 7,
     "metadata": {},
     "output_type": "execute_result"
    }
   ],
   "source": [
    "language = \"js\"\n",
    "\n",
    "df = from_CSVfiles(\"perf\", norm=False)\n",
    "df"
   ]
  },
  {
   "cell_type": "code",
   "execution_count": 158,
   "metadata": {},
   "outputs": [
    {
     "data": {
      "text/html": [
       "<div>\n",
       "<style scoped>\n",
       "    .dataframe tbody tr th:only-of-type {\n",
       "        vertical-align: middle;\n",
       "    }\n",
       "\n",
       "    .dataframe tbody tr th {\n",
       "        vertical-align: top;\n",
       "    }\n",
       "\n",
       "    .dataframe thead th {\n",
       "        text-align: right;\n",
       "    }\n",
       "</style>\n",
       "<table border=\"1\" class=\"dataframe\">\n",
       "  <thead>\n",
       "    <tr style=\"text-align: right;\">\n",
       "      <th></th>\n",
       "      <th>version</th>\n",
       "      <th>release_date</th>\n",
       "      <th>path</th>\n",
       "      <th>appplication</th>\n",
       "      <th>CPU_Utilization</th>\n",
       "      <th>CPI</th>\n",
       "      <th>Retiring</th>\n",
       "      <th>Frontend_Bound</th>\n",
       "      <th>Bad_Speculation</th>\n",
       "      <th>Backend_Bound</th>\n",
       "      <th>...</th>\n",
       "      <th>percent_LLC_load_misses</th>\n",
       "      <th>L1_icache_load_misses</th>\n",
       "      <th>dTLB_loads</th>\n",
       "      <th>dTLB_load_misses</th>\n",
       "      <th>percent_dTLB_load_misses</th>\n",
       "      <th>iTLB_loads</th>\n",
       "      <th>iTLB_load_misses</th>\n",
       "      <th>percent_iTLB_load_misses</th>\n",
       "      <th>block_rq_issue</th>\n",
       "      <th>block_rq_complete</th>\n",
       "    </tr>\n",
       "  </thead>\n",
       "  <tbody>\n",
       "    <tr>\n",
       "      <th>0</th>\n",
       "      <td>2.5.6</td>\n",
       "      <td>2011-05-26</td>\n",
       "      <td>binaryTrees_21</td>\n",
       "      <td>binarytrees_compatible_all.py 21</td>\n",
       "      <td>1.0</td>\n",
       "      <td>NaN</td>\n",
       "      <td>NaN</td>\n",
       "      <td>NaN</td>\n",
       "      <td>NaN</td>\n",
       "      <td>NaN</td>\n",
       "      <td>...</td>\n",
       "      <td>(0.00%)</td>\n",
       "      <td>&lt;not</td>\n",
       "      <td>&lt;not</td>\n",
       "      <td>&lt;not</td>\n",
       "      <td>(0.00%)</td>\n",
       "      <td>&lt;not</td>\n",
       "      <td>&lt;not</td>\n",
       "      <td>(0.00%)</td>\n",
       "      <td>0</td>\n",
       "      <td>7</td>\n",
       "    </tr>\n",
       "    <tr>\n",
       "      <th>1</th>\n",
       "      <td>2.7.18</td>\n",
       "      <td>2020-04-20</td>\n",
       "      <td>binaryTrees_21</td>\n",
       "      <td>binarytrees_compatible_all.py 21</td>\n",
       "      <td>1.0</td>\n",
       "      <td>NaN</td>\n",
       "      <td>NaN</td>\n",
       "      <td>NaN</td>\n",
       "      <td>NaN</td>\n",
       "      <td>NaN</td>\n",
       "      <td>...</td>\n",
       "      <td>(0.00%)</td>\n",
       "      <td>&lt;not</td>\n",
       "      <td>&lt;not</td>\n",
       "      <td>&lt;not</td>\n",
       "      <td>(0.00%)</td>\n",
       "      <td>&lt;not</td>\n",
       "      <td>&lt;not</td>\n",
       "      <td>(0.00%)</td>\n",
       "      <td>0</td>\n",
       "      <td>0</td>\n",
       "    </tr>\n",
       "    <tr>\n",
       "      <th>2</th>\n",
       "      <td>3.0.1</td>\n",
       "      <td>2009-02-13</td>\n",
       "      <td>binaryTrees_21</td>\n",
       "      <td>binarytrees_compatible_all.py 21</td>\n",
       "      <td>1.0</td>\n",
       "      <td>NaN</td>\n",
       "      <td>NaN</td>\n",
       "      <td>NaN</td>\n",
       "      <td>NaN</td>\n",
       "      <td>NaN</td>\n",
       "      <td>...</td>\n",
       "      <td>(0.00%)</td>\n",
       "      <td>&lt;not</td>\n",
       "      <td>&lt;not</td>\n",
       "      <td>&lt;not</td>\n",
       "      <td>(0.00%)</td>\n",
       "      <td>&lt;not</td>\n",
       "      <td>&lt;not</td>\n",
       "      <td>(0.00%)</td>\n",
       "      <td>0</td>\n",
       "      <td>0</td>\n",
       "    </tr>\n",
       "    <tr>\n",
       "      <th>3</th>\n",
       "      <td>3.4.10</td>\n",
       "      <td>2019-03-18</td>\n",
       "      <td>binaryTrees_21</td>\n",
       "      <td>binarytrees_compatible_all.py 21</td>\n",
       "      <td>1.0</td>\n",
       "      <td>NaN</td>\n",
       "      <td>NaN</td>\n",
       "      <td>NaN</td>\n",
       "      <td>NaN</td>\n",
       "      <td>NaN</td>\n",
       "      <td>...</td>\n",
       "      <td>(0.00%)</td>\n",
       "      <td>&lt;not</td>\n",
       "      <td>&lt;not</td>\n",
       "      <td>&lt;not</td>\n",
       "      <td>(0.00%)</td>\n",
       "      <td>&lt;not</td>\n",
       "      <td>&lt;not</td>\n",
       "      <td>(0.00%)</td>\n",
       "      <td>0</td>\n",
       "      <td>0</td>\n",
       "    </tr>\n",
       "    <tr>\n",
       "      <th>4</th>\n",
       "      <td>3.5.10</td>\n",
       "      <td>2020-09-05</td>\n",
       "      <td>binaryTrees_21</td>\n",
       "      <td>binarytrees_compatible_all.py 21</td>\n",
       "      <td>1.0</td>\n",
       "      <td>NaN</td>\n",
       "      <td>NaN</td>\n",
       "      <td>NaN</td>\n",
       "      <td>NaN</td>\n",
       "      <td>NaN</td>\n",
       "      <td>...</td>\n",
       "      <td>(0.00%)</td>\n",
       "      <td>&lt;not</td>\n",
       "      <td>&lt;not</td>\n",
       "      <td>&lt;not</td>\n",
       "      <td>(0.00%)</td>\n",
       "      <td>&lt;not</td>\n",
       "      <td>&lt;not</td>\n",
       "      <td>(0.00%)</td>\n",
       "      <td>0</td>\n",
       "      <td>0</td>\n",
       "    </tr>\n",
       "    <tr>\n",
       "      <th>...</th>\n",
       "      <td>...</td>\n",
       "      <td>...</td>\n",
       "      <td>...</td>\n",
       "      <td>...</td>\n",
       "      <td>...</td>\n",
       "      <td>...</td>\n",
       "      <td>...</td>\n",
       "      <td>...</td>\n",
       "      <td>...</td>\n",
       "      <td>...</td>\n",
       "      <td>...</td>\n",
       "      <td>...</td>\n",
       "      <td>...</td>\n",
       "      <td>...</td>\n",
       "      <td>...</td>\n",
       "      <td>...</td>\n",
       "      <td>...</td>\n",
       "      <td>...</td>\n",
       "      <td>...</td>\n",
       "      <td>...</td>\n",
       "      <td>...</td>\n",
       "    </tr>\n",
       "    <tr>\n",
       "      <th>8</th>\n",
       "      <td>3.9.16</td>\n",
       "      <td>2022-12-06</td>\n",
       "      <td>nbody_50000000_OOflag</td>\n",
       "      <td>nbody.py 50000000</td>\n",
       "      <td>1.0</td>\n",
       "      <td>0.37</td>\n",
       "      <td>0.69</td>\n",
       "      <td>0.18</td>\n",
       "      <td>0.10</td>\n",
       "      <td>0.03</td>\n",
       "      <td>...</td>\n",
       "      <td>1.49%</td>\n",
       "      <td>384999620</td>\n",
       "      <td>1688075244004</td>\n",
       "      <td>10427123</td>\n",
       "      <td>0.00%</td>\n",
       "      <td>3809743</td>\n",
       "      <td>9326817</td>\n",
       "      <td>244.81%</td>\n",
       "      <td>0</td>\n",
       "      <td>0</td>\n",
       "    </tr>\n",
       "    <tr>\n",
       "      <th>9</th>\n",
       "      <td>3.10.11</td>\n",
       "      <td>2023-04-05</td>\n",
       "      <td>nbody_50000000_OOflag</td>\n",
       "      <td>nbody.py 50000000</td>\n",
       "      <td>1.0</td>\n",
       "      <td>0.37</td>\n",
       "      <td>0.68</td>\n",
       "      <td>0.20</td>\n",
       "      <td>0.09</td>\n",
       "      <td>0.03</td>\n",
       "      <td>...</td>\n",
       "      <td>11.52%</td>\n",
       "      <td>162406520</td>\n",
       "      <td>1607564461488</td>\n",
       "      <td>26796</td>\n",
       "      <td>0.00%</td>\n",
       "      <td>1511021</td>\n",
       "      <td>1039678</td>\n",
       "      <td>68.81%</td>\n",
       "      <td>0</td>\n",
       "      <td>0</td>\n",
       "    </tr>\n",
       "    <tr>\n",
       "      <th>10</th>\n",
       "      <td>3.11.3</td>\n",
       "      <td>2023-04-05</td>\n",
       "      <td>nbody_50000000_OOflag</td>\n",
       "      <td>nbody.py 50000000</td>\n",
       "      <td>1.0</td>\n",
       "      <td>0.35</td>\n",
       "      <td>0.74</td>\n",
       "      <td>0.07</td>\n",
       "      <td>0.09</td>\n",
       "      <td>0.11</td>\n",
       "      <td>...</td>\n",
       "      <td>1.70%</td>\n",
       "      <td>57304013</td>\n",
       "      <td>1035679690311</td>\n",
       "      <td>3279</td>\n",
       "      <td>0.00%</td>\n",
       "      <td>766279</td>\n",
       "      <td>59731889</td>\n",
       "      <td>7795.06%</td>\n",
       "      <td>0</td>\n",
       "      <td>0</td>\n",
       "    </tr>\n",
       "    <tr>\n",
       "      <th>11</th>\n",
       "      <td>3.12.0b1</td>\n",
       "      <td>2023-05-22</td>\n",
       "      <td>nbody_50000000_OOflag</td>\n",
       "      <td>nbody.py 50000000</td>\n",
       "      <td>1.0</td>\n",
       "      <td>0.37</td>\n",
       "      <td>0.66</td>\n",
       "      <td>0.15</td>\n",
       "      <td>0.10</td>\n",
       "      <td>0.09</td>\n",
       "      <td>...</td>\n",
       "      <td>1.58%</td>\n",
       "      <td>58596192</td>\n",
       "      <td>1063319634315</td>\n",
       "      <td>118254</td>\n",
       "      <td>0.00%</td>\n",
       "      <td>34202834</td>\n",
       "      <td>323741378</td>\n",
       "      <td>946.53%</td>\n",
       "      <td>0</td>\n",
       "      <td>0</td>\n",
       "    </tr>\n",
       "    <tr>\n",
       "      <th>12</th>\n",
       "      <td>3.13.0a0</td>\n",
       "      <td>2023-06-07</td>\n",
       "      <td>nbody_50000000_OOflag</td>\n",
       "      <td>nbody.py 50000000</td>\n",
       "      <td>1.0</td>\n",
       "      <td>0.36</td>\n",
       "      <td>0.66</td>\n",
       "      <td>0.11</td>\n",
       "      <td>0.12</td>\n",
       "      <td>0.11</td>\n",
       "      <td>...</td>\n",
       "      <td>2.42%</td>\n",
       "      <td>74383335</td>\n",
       "      <td>1081642666089</td>\n",
       "      <td>181141</td>\n",
       "      <td>0.00%</td>\n",
       "      <td>3369897</td>\n",
       "      <td>4210434</td>\n",
       "      <td>124.94%</td>\n",
       "      <td>0</td>\n",
       "      <td>0</td>\n",
       "    </tr>\n",
       "  </tbody>\n",
       "</table>\n",
       "<p>91 rows × 56 columns</p>\n",
       "</div>"
      ],
      "text/plain": [
       "     version release_date                   path  \\\n",
       "0      2.5.6   2011-05-26         binaryTrees_21   \n",
       "1     2.7.18   2020-04-20         binaryTrees_21   \n",
       "2      3.0.1   2009-02-13         binaryTrees_21   \n",
       "3     3.4.10   2019-03-18         binaryTrees_21   \n",
       "4     3.5.10   2020-09-05         binaryTrees_21   \n",
       "..       ...          ...                    ...   \n",
       "8     3.9.16   2022-12-06  nbody_50000000_OOflag   \n",
       "9    3.10.11   2023-04-05  nbody_50000000_OOflag   \n",
       "10    3.11.3   2023-04-05  nbody_50000000_OOflag   \n",
       "11  3.12.0b1   2023-05-22  nbody_50000000_OOflag   \n",
       "12  3.13.0a0   2023-06-07  nbody_50000000_OOflag   \n",
       "\n",
       "                        appplication  CPU_Utilization   CPI  Retiring  \\\n",
       "0   binarytrees_compatible_all.py 21              1.0   NaN       NaN   \n",
       "1   binarytrees_compatible_all.py 21              1.0   NaN       NaN   \n",
       "2   binarytrees_compatible_all.py 21              1.0   NaN       NaN   \n",
       "3   binarytrees_compatible_all.py 21              1.0   NaN       NaN   \n",
       "4   binarytrees_compatible_all.py 21              1.0   NaN       NaN   \n",
       "..                               ...              ...   ...       ...   \n",
       "8                  nbody.py 50000000              1.0  0.37      0.69   \n",
       "9                  nbody.py 50000000              1.0  0.37      0.68   \n",
       "10                 nbody.py 50000000              1.0  0.35      0.74   \n",
       "11                 nbody.py 50000000              1.0  0.37      0.66   \n",
       "12                 nbody.py 50000000              1.0  0.36      0.66   \n",
       "\n",
       "    Frontend_Bound  Bad_Speculation  Backend_Bound  ...  \\\n",
       "0              NaN              NaN            NaN  ...   \n",
       "1              NaN              NaN            NaN  ...   \n",
       "2              NaN              NaN            NaN  ...   \n",
       "3              NaN              NaN            NaN  ...   \n",
       "4              NaN              NaN            NaN  ...   \n",
       "..             ...              ...            ...  ...   \n",
       "8             0.18             0.10           0.03  ...   \n",
       "9             0.20             0.09           0.03  ...   \n",
       "10            0.07             0.09           0.11  ...   \n",
       "11            0.15             0.10           0.09  ...   \n",
       "12            0.11             0.12           0.11  ...   \n",
       "\n",
       "    percent_LLC_load_misses  L1_icache_load_misses     dTLB_loads  \\\n",
       "0                   (0.00%)                   <not           <not   \n",
       "1                   (0.00%)                   <not           <not   \n",
       "2                   (0.00%)                   <not           <not   \n",
       "3                   (0.00%)                   <not           <not   \n",
       "4                   (0.00%)                   <not           <not   \n",
       "..                      ...                    ...            ...   \n",
       "8                     1.49%              384999620  1688075244004   \n",
       "9                    11.52%              162406520  1607564461488   \n",
       "10                    1.70%               57304013  1035679690311   \n",
       "11                    1.58%               58596192  1063319634315   \n",
       "12                    2.42%               74383335  1081642666089   \n",
       "\n",
       "    dTLB_load_misses  percent_dTLB_load_misses iTLB_loads  iTLB_load_misses  \\\n",
       "0               <not                   (0.00%)       <not              <not   \n",
       "1               <not                   (0.00%)       <not              <not   \n",
       "2               <not                   (0.00%)       <not              <not   \n",
       "3               <not                   (0.00%)       <not              <not   \n",
       "4               <not                   (0.00%)       <not              <not   \n",
       "..               ...                       ...        ...               ...   \n",
       "8           10427123                     0.00%    3809743           9326817   \n",
       "9              26796                     0.00%    1511021           1039678   \n",
       "10              3279                     0.00%     766279          59731889   \n",
       "11            118254                     0.00%   34202834         323741378   \n",
       "12            181141                     0.00%    3369897           4210434   \n",
       "\n",
       "   percent_iTLB_load_misses block_rq_issue block_rq_complete  \n",
       "0                   (0.00%)              0                 7  \n",
       "1                   (0.00%)              0                 0  \n",
       "2                   (0.00%)              0                 0  \n",
       "3                   (0.00%)              0                 0  \n",
       "4                   (0.00%)              0                 0  \n",
       "..                      ...            ...               ...  \n",
       "8                   244.81%              0                 0  \n",
       "9                    68.81%              0                 0  \n",
       "10                 7795.06%              0                 0  \n",
       "11                  946.53%              0                 0  \n",
       "12                  124.94%              0                 0  \n",
       "\n",
       "[91 rows x 56 columns]"
      ]
     },
     "execution_count": 158,
     "metadata": {},
     "output_type": "execute_result"
    }
   ],
   "source": [
    "language = \"python\"\n",
    "\n",
    "df = from_CSVfiles(\"perf\", norm=False)\n",
    "df"
   ]
  },
  {
   "cell_type": "code",
   "execution_count": 128,
   "metadata": {},
   "outputs": [],
   "source": [
    "def custom_hover(program, x, y, mean, diff, percent_diff):\n",
    "    percent_difffromMean = 0 if mean == 0 else 100 * (y/mean)\n",
    "    return f'Version: {x}<br>Program: {program}<br><b><i>Percentage Difference:</i> {percent_diff:.2f}%</b><br>Difference: {diff:.2f}<br><b><i>Percentage Difference from Mean:</i> {percent_difffromMean:.2f}%</b><br>Difference From Mean: {y:.2f}<br>Mean: {mean:.2f}<br>'\n"
   ]
  },
  {
   "cell_type": "code",
   "execution_count": 153,
   "metadata": {},
   "outputs": [
    {
     "data": {
      "text/html": [
       "<div>\n",
       "<style scoped>\n",
       "    .dataframe tbody tr th:only-of-type {\n",
       "        vertical-align: middle;\n",
       "    }\n",
       "\n",
       "    .dataframe tbody tr th {\n",
       "        vertical-align: top;\n",
       "    }\n",
       "\n",
       "    .dataframe thead th {\n",
       "        text-align: right;\n",
       "    }\n",
       "</style>\n",
       "<table border=\"1\" class=\"dataframe\">\n",
       "  <thead>\n",
       "    <tr style=\"text-align: right;\">\n",
       "      <th></th>\n",
       "      <th>path</th>\n",
       "      <th>version</th>\n",
       "      <th>virt</th>\n",
       "    </tr>\n",
       "  </thead>\n",
       "  <tbody>\n",
       "    <tr>\n",
       "      <th>12</th>\n",
       "      <td>binaryTrees_21</td>\n",
       "      <td>g++-12</td>\n",
       "      <td>271328051.2</td>\n",
       "    </tr>\n",
       "    <tr>\n",
       "      <th>15</th>\n",
       "      <td>binaryTrees_21_O3flag</td>\n",
       "      <td>g++-4.6</td>\n",
       "      <td>272122880.0</td>\n",
       "    </tr>\n",
       "    <tr>\n",
       "      <th>37</th>\n",
       "      <td>nbody_50000000</td>\n",
       "      <td>g++-9</td>\n",
       "      <td>6656000.0</td>\n",
       "    </tr>\n",
       "    <tr>\n",
       "      <th>42</th>\n",
       "      <td>nbody_50000000_O3flag</td>\n",
       "      <td>g++-4.4</td>\n",
       "      <td>6647808.0</td>\n",
       "    </tr>\n",
       "  </tbody>\n",
       "</table>\n",
       "</div>"
      ],
      "text/plain": [
       "                     path  version         virt\n",
       "12         binaryTrees_21   g++-12  271328051.2\n",
       "15  binaryTrees_21_O3flag  g++-4.6  272122880.0\n",
       "37         nbody_50000000    g++-9    6656000.0\n",
       "42  nbody_50000000_O3flag  g++-4.4    6647808.0"
      ]
     },
     "metadata": {},
     "output_type": "display_data"
    },
    {
     "data": {
      "text/html": [
       "<div>\n",
       "<style scoped>\n",
       "    .dataframe tbody tr th:only-of-type {\n",
       "        vertical-align: middle;\n",
       "    }\n",
       "\n",
       "    .dataframe tbody tr th {\n",
       "        vertical-align: top;\n",
       "    }\n",
       "\n",
       "    .dataframe thead th {\n",
       "        text-align: right;\n",
       "    }\n",
       "</style>\n",
       "<table border=\"1\" class=\"dataframe\">\n",
       "  <thead>\n",
       "    <tr style=\"text-align: right;\">\n",
       "      <th></th>\n",
       "      <th>path</th>\n",
       "      <th>version</th>\n",
       "      <th>virt</th>\n",
       "    </tr>\n",
       "  </thead>\n",
       "  <tbody>\n",
       "    <tr>\n",
       "      <th>4</th>\n",
       "      <td>binaryTrees_21</td>\n",
       "      <td>g++-4.9</td>\n",
       "      <td>2.702119e+08</td>\n",
       "    </tr>\n",
       "    <tr>\n",
       "      <th>23</th>\n",
       "      <td>binaryTrees_21_O3flag</td>\n",
       "      <td>g++-9</td>\n",
       "      <td>2.708767e+08</td>\n",
       "    </tr>\n",
       "    <tr>\n",
       "      <th>28</th>\n",
       "      <td>nbody_50000000</td>\n",
       "      <td>g++-4.4</td>\n",
       "      <td>6.651904e+06</td>\n",
       "    </tr>\n",
       "    <tr>\n",
       "      <th>45</th>\n",
       "      <td>nbody_50000000_O3flag</td>\n",
       "      <td>g++-4.8</td>\n",
       "      <td>6.643712e+06</td>\n",
       "    </tr>\n",
       "  </tbody>\n",
       "</table>\n",
       "</div>"
      ],
      "text/plain": [
       "                     path  version          virt\n",
       "4          binaryTrees_21  g++-4.9  2.702119e+08\n",
       "23  binaryTrees_21_O3flag    g++-9  2.708767e+08\n",
       "28         nbody_50000000  g++-4.4  6.651904e+06\n",
       "45  nbody_50000000_O3flag  g++-4.8  6.643712e+06"
      ]
     },
     "metadata": {},
     "output_type": "display_data"
    },
    {
     "name": "stderr",
     "output_type": "stream",
     "text": [
      "/tmp/ipykernel_258091/4105815730.py:28: SettingWithCopyWarning:\n",
      "\n",
      "\n",
      "A value is trying to be set on a copy of a slice from a DataFrame.\n",
      "Try using .loc[row_indexer,col_indexer] = value instead\n",
      "\n",
      "See the caveats in the documentation: https://pandas.pydata.org/pandas-docs/stable/user_guide/indexing.html#returning-a-view-versus-a-copy\n",
      "\n",
      "/tmp/ipykernel_258091/4105815730.py:29: SettingWithCopyWarning:\n",
      "\n",
      "\n",
      "A value is trying to be set on a copy of a slice from a DataFrame.\n",
      "Try using .loc[row_indexer,col_indexer] = value instead\n",
      "\n",
      "See the caveats in the documentation: https://pandas.pydata.org/pandas-docs/stable/user_guide/indexing.html#returning-a-view-versus-a-copy\n",
      "\n",
      "/tmp/ipykernel_258091/4105815730.py:30: SettingWithCopyWarning:\n",
      "\n",
      "\n",
      "A value is trying to be set on a copy of a slice from a DataFrame.\n",
      "Try using .loc[row_indexer,col_indexer] = value instead\n",
      "\n",
      "See the caveats in the documentation: https://pandas.pydata.org/pandas-docs/stable/user_guide/indexing.html#returning-a-view-versus-a-copy\n",
      "\n",
      "/tmp/ipykernel_258091/4105815730.py:28: SettingWithCopyWarning:\n",
      "\n",
      "\n",
      "A value is trying to be set on a copy of a slice from a DataFrame.\n",
      "Try using .loc[row_indexer,col_indexer] = value instead\n",
      "\n",
      "See the caveats in the documentation: https://pandas.pydata.org/pandas-docs/stable/user_guide/indexing.html#returning-a-view-versus-a-copy\n",
      "\n",
      "/tmp/ipykernel_258091/4105815730.py:29: SettingWithCopyWarning:\n",
      "\n",
      "\n",
      "A value is trying to be set on a copy of a slice from a DataFrame.\n",
      "Try using .loc[row_indexer,col_indexer] = value instead\n",
      "\n",
      "See the caveats in the documentation: https://pandas.pydata.org/pandas-docs/stable/user_guide/indexing.html#returning-a-view-versus-a-copy\n",
      "\n",
      "/tmp/ipykernel_258091/4105815730.py:30: SettingWithCopyWarning:\n",
      "\n",
      "\n",
      "A value is trying to be set on a copy of a slice from a DataFrame.\n",
      "Try using .loc[row_indexer,col_indexer] = value instead\n",
      "\n",
      "See the caveats in the documentation: https://pandas.pydata.org/pandas-docs/stable/user_guide/indexing.html#returning-a-view-versus-a-copy\n",
      "\n",
      "/tmp/ipykernel_258091/4105815730.py:28: SettingWithCopyWarning:\n",
      "\n",
      "\n",
      "A value is trying to be set on a copy of a slice from a DataFrame.\n",
      "Try using .loc[row_indexer,col_indexer] = value instead\n",
      "\n",
      "See the caveats in the documentation: https://pandas.pydata.org/pandas-docs/stable/user_guide/indexing.html#returning-a-view-versus-a-copy\n",
      "\n",
      "/tmp/ipykernel_258091/4105815730.py:29: SettingWithCopyWarning:\n",
      "\n",
      "\n",
      "A value is trying to be set on a copy of a slice from a DataFrame.\n",
      "Try using .loc[row_indexer,col_indexer] = value instead\n",
      "\n",
      "See the caveats in the documentation: https://pandas.pydata.org/pandas-docs/stable/user_guide/indexing.html#returning-a-view-versus-a-copy\n",
      "\n",
      "/tmp/ipykernel_258091/4105815730.py:30: SettingWithCopyWarning:\n",
      "\n",
      "\n",
      "A value is trying to be set on a copy of a slice from a DataFrame.\n",
      "Try using .loc[row_indexer,col_indexer] = value instead\n",
      "\n",
      "See the caveats in the documentation: https://pandas.pydata.org/pandas-docs/stable/user_guide/indexing.html#returning-a-view-versus-a-copy\n",
      "\n",
      "/tmp/ipykernel_258091/4105815730.py:28: SettingWithCopyWarning:\n",
      "\n",
      "\n",
      "A value is trying to be set on a copy of a slice from a DataFrame.\n",
      "Try using .loc[row_indexer,col_indexer] = value instead\n",
      "\n",
      "See the caveats in the documentation: https://pandas.pydata.org/pandas-docs/stable/user_guide/indexing.html#returning-a-view-versus-a-copy\n",
      "\n",
      "/tmp/ipykernel_258091/4105815730.py:29: SettingWithCopyWarning:\n",
      "\n",
      "\n",
      "A value is trying to be set on a copy of a slice from a DataFrame.\n",
      "Try using .loc[row_indexer,col_indexer] = value instead\n",
      "\n",
      "See the caveats in the documentation: https://pandas.pydata.org/pandas-docs/stable/user_guide/indexing.html#returning-a-view-versus-a-copy\n",
      "\n",
      "/tmp/ipykernel_258091/4105815730.py:30: SettingWithCopyWarning:\n",
      "\n",
      "\n",
      "A value is trying to be set on a copy of a slice from a DataFrame.\n",
      "Try using .loc[row_indexer,col_indexer] = value instead\n",
      "\n",
      "See the caveats in the documentation: https://pandas.pydata.org/pandas-docs/stable/user_guide/indexing.html#returning-a-view-versus-a-copy\n",
      "\n"
     ]
    },
    {
     "data": {
      "application/vnd.plotly.v1+json": {
       "config": {
        "plotlyServerURL": "https://plot.ly"
       },
       "data": [
        {
         "hovertemplate": [
          "Version: g++-4.4<br>Program: binaryTrees_21<br><b><i>Percentage Difference:</i> nan%</b><br>Difference: nan<br><b><i>Percentage Difference from Mean:</i> -0.03%</b><br>Difference From Mean: -88318.96<br>Mean: 270560306.16<br>",
          "Version: g++-4.6<br>Program: binaryTrees_21<br><b><i>Percentage Difference:</i> -0.07%</b><br>Difference: -192453.49<br><b><i>Percentage Difference from Mean:</i> -0.10%</b><br>Difference From Mean: -280772.44<br>Mean: 270560306.16<br>",
          "Version: g++-4.7<br>Program: binaryTrees_21<br><b><i>Percentage Difference:</i> 0.01%</b><br>Difference: 19309.71<br><b><i>Percentage Difference from Mean:</i> -0.10%</b><br>Difference From Mean: -261462.73<br>Mean: 270560306.16<br>",
          "Version: g++-4.8<br>Program: binaryTrees_21<br><b><i>Percentage Difference:</i> 0.16%</b><br>Difference: 444123.43<br><b><i>Percentage Difference from Mean:</i> 0.07%</b><br>Difference From Mean: 182660.70<br>Mean: 270560306.16<br>",
          "Version: g++-4.9<br>Program: binaryTrees_21<br><b><i>Percentage Difference:</i> -0.20%</b><br>Difference: -531017.14<br><b><i>Percentage Difference from Mean:</i> -0.13%</b><br>Difference From Mean: -348356.44<br>Mean: 270560306.16<br>",
          "Version: g++-5<br>Program: binaryTrees_21<br><b><i>Percentage Difference:</i> 0.12%</b><br>Difference: 328265.14<br><b><i>Percentage Difference from Mean:</i> -0.01%</b><br>Difference From Mean: -20091.30<br>Mean: 270560306.16<br>",
          "Version: g++-6<br>Program: binaryTrees_21<br><b><i>Percentage Difference:</i> 0.06%</b><br>Difference: 157052.34<br><b><i>Percentage Difference from Mean:</i> 0.05%</b><br>Difference From Mean: 136961.04<br>Mean: 270560306.16<br>",
          "Version: g++-7<br>Program: binaryTrees_21<br><b><i>Percentage Difference:</i> -0.10%</b><br>Difference: -261324.80<br><b><i>Percentage Difference from Mean:</i> -0.05%</b><br>Difference From Mean: -124363.76<br>Mean: 270560306.16<br>",
          "Version: g++-8<br>Program: binaryTrees_21<br><b><i>Percentage Difference:</i> 0.10%</b><br>Difference: 261324.80<br><b><i>Percentage Difference from Mean:</i> 0.05%</b><br>Difference From Mean: 136961.04<br>Mean: 270560306.16<br>",
          "Version: g++-9<br>Program: binaryTrees_21<br><b><i>Percentage Difference:</i> -0.11%</b><br>Difference: -288358.40<br><b><i>Percentage Difference from Mean:</i> -0.06%</b><br>Difference From Mean: -151397.36<br>Mean: 270560306.16<br>",
          "Version: g++-10<br>Program: binaryTrees_21<br><b><i>Percentage Difference:</i> -0.05%</b><br>Difference: -144179.20<br><b><i>Percentage Difference from Mean:</i> -0.11%</b><br>Difference From Mean: -295576.56<br>Mean: 270560306.16<br>",
          "Version: g++-11<br>Program: binaryTrees_21<br><b><i>Percentage Difference:</i> 0.21%</b><br>Difference: 558694.40<br><b><i>Percentage Difference from Mean:</i> 0.10%</b><br>Difference From Mean: 263117.84<br>Mean: 270560306.16<br>",
          "Version: g++-12<br>Program: binaryTrees_21<br><b><i>Percentage Difference:</i> 0.19%</b><br>Difference: 504627.20<br><b><i>Percentage Difference from Mean:</i> 0.28%</b><br>Difference From Mean: 767745.04<br>Mean: 270560306.16<br>",
          "Version: g++-13<br>Program: binaryTrees_21<br><b><i>Percentage Difference:</i> -0.25%</b><br>Difference: -684851.20<br><b><i>Percentage Difference from Mean:</i> 0.03%</b><br>Difference From Mean: 82893.84<br>Mean: 270560306.16<br>"
         ],
         "name": "binaryTrees_21 - Mean: 270560306.16",
         "text": [
          null,
          -0.07115468322860252,
          0.007144349414955897,
          0.16430829778553147,
          -0.1961333101359264,
          0.12148431747900368,
          0.05805138542529509,
          -0.09653765725198271,
          0.09663094250005333,
          -0.10652431145045105,
          -0.053318953373171496,
          0.20672116588311695,
          0.1863307067559994,
          -0.2524070758519459
         ],
         "type": "bar",
         "x": [
          "g++-4.4",
          "g++-4.6",
          "g++-4.7",
          "g++-4.8",
          "g++-4.9",
          "g++-5",
          "g++-6",
          "g++-7",
          "g++-8",
          "g++-9",
          "g++-10",
          "g++-11",
          "g++-12",
          "g++-13"
         ],
         "y": [
          null,
          -192453.48571425676,
          19309.71428567171,
          444123.42857146263,
          -531017.1428571343,
          328265.14285713434,
          157052.34285712242,
          -261324.80000001192,
          261324.80000001192,
          -288358.39999997616,
          -144179.19999998808,
          558694.3999999762,
          504627.1999999881,
          -684851.1999999881
         ]
        },
        {
         "hovertemplate": [
          "Version: g++-4.4<br>Program: binaryTrees_21_O3flag<br><b><i>Percentage Difference:</i> nan%</b><br>Difference: nan<br><b><i>Percentage Difference from Mean:</i> 0.10%</b><br>Difference From Mean: 282038.86<br>Mean: 271570505.14<br>",
          "Version: g++-4.6<br>Program: binaryTrees_21_O3flag<br><b><i>Percentage Difference:</i> 0.10%</b><br>Difference: 270336.00<br><b><i>Percentage Difference from Mean:</i> 0.20%</b><br>Difference From Mean: 552374.86<br>Mean: 271570505.14<br>",
          "Version: g++-4.7<br>Program: binaryTrees_21_O3flag<br><b><i>Percentage Difference:</i> -0.30%</b><br>Difference: -807936.00<br><b><i>Percentage Difference from Mean:</i> -0.09%</b><br>Difference From Mean: -255561.14<br>Mean: 271570505.14<br>",
          "Version: g++-4.8<br>Program: binaryTrees_21_O3flag<br><b><i>Percentage Difference:</i> 0.17%</b><br>Difference: 470016.00<br><b><i>Percentage Difference from Mean:</i> 0.08%</b><br>Difference From Mean: 214454.86<br>Mean: 271570505.14<br>",
          "Version: g++-4.9<br>Program: binaryTrees_21_O3flag<br><b><i>Percentage Difference:</i> -0.02%</b><br>Difference: -52224.00<br><b><i>Percentage Difference from Mean:</i> 0.06%</b><br>Difference From Mean: 162230.86<br>Mean: 271570505.14<br>",
          "Version: g++-5<br>Program: binaryTrees_21_O3flag<br><b><i>Percentage Difference:</i> -0.11%</b><br>Difference: -303104.00<br><b><i>Percentage Difference from Mean:</i> -0.05%</b><br>Difference From Mean: -140873.14<br>Mean: 271570505.14<br>",
          "Version: g++-6<br>Program: binaryTrees_21_O3flag<br><b><i>Percentage Difference:</i> 0.11%</b><br>Difference: 303104.00<br><b><i>Percentage Difference from Mean:</i> 0.06%</b><br>Difference From Mean: 162230.86<br>Mean: 271570505.14<br>",
          "Version: g++-7<br>Program: binaryTrees_21_O3flag<br><b><i>Percentage Difference:</i> -0.08%</b><br>Difference: -221184.00<br><b><i>Percentage Difference from Mean:</i> -0.02%</b><br>Difference From Mean: -58953.14<br>Mean: 271570505.14<br>",
          "Version: g++-8<br>Program: binaryTrees_21_O3flag<br><b><i>Percentage Difference:</i> -0.22%</b><br>Difference: -589824.00<br><b><i>Percentage Difference from Mean:</i> -0.24%</b><br>Difference From Mean: -648777.14<br>Mean: 271570505.14<br>",
          "Version: g++-9<br>Program: binaryTrees_21_O3flag<br><b><i>Percentage Difference:</i> -0.02%</b><br>Difference: -45056.00<br><b><i>Percentage Difference from Mean:</i> -0.26%</b><br>Difference From Mean: -693833.14<br>Mean: 271570505.14<br>",
          "Version: g++-10<br>Program: binaryTrees_21_O3flag<br><b><i>Percentage Difference:</i> 0.37%</b><br>Difference: 991232.00<br><b><i>Percentage Difference from Mean:</i> 0.11%</b><br>Difference From Mean: 297398.86<br>Mean: 271570505.14<br>",
          "Version: g++-11<br>Program: binaryTrees_21_O3flag<br><b><i>Percentage Difference:</i> 0.05%</b><br>Difference: 139264.00<br><b><i>Percentage Difference from Mean:</i> 0.16%</b><br>Difference From Mean: 436662.86<br>Mean: 271570505.14<br>",
          "Version: g++-12<br>Program: binaryTrees_21_O3flag<br><b><i>Percentage Difference:</i> -0.41%</b><br>Difference: -1103872.00<br><b><i>Percentage Difference from Mean:</i> -0.25%</b><br>Difference From Mean: -667209.14<br>Mean: 271570505.14<br>",
          "Version: g++-13<br>Program: binaryTrees_21_O3flag<br><b><i>Percentage Difference:</i> 0.38%</b><br>Difference: 1025024.00<br><b><i>Percentage Difference from Mean:</i> 0.13%</b><br>Difference From Mean: 357814.86<br>Mean: 271570505.14<br>"
         ],
         "name": "binaryTrees_21_O3flag - Mean: 271570505.14",
         "text": [
          null,
          0.09944214463557532,
          -0.29690116465032057,
          0.17323631093464353,
          -0.01921519130418936,
          -0.1115448968209698,
          0.1116694584031297,
          -0.08139762740989598,
          -0.21723716565842377,
          -0.016630633627146008,
          0.3659347970725202,
          0.05122487721096469,
          -0.4058245994458476,
          0.3783726573780788
         ],
         "type": "bar",
         "x": [
          "g++-4.4",
          "g++-4.6",
          "g++-4.7",
          "g++-4.8",
          "g++-4.9",
          "g++-5",
          "g++-6",
          "g++-7",
          "g++-8",
          "g++-9",
          "g++-10",
          "g++-11",
          "g++-12",
          "g++-13"
         ],
         "y": [
          null,
          270336,
          -807936,
          470016,
          -52224,
          -303104,
          303104,
          -221184,
          -589824,
          -45056,
          991232,
          139264,
          -1103872,
          1025024
         ]
        },
        {
         "hovertemplate": [
          "Version: g++-4.4<br>Program: nbody_50000000<br><b><i>Percentage Difference:</i> nan%</b><br>Difference: nan<br><b><i>Percentage Difference from Mean:</i> -0.02%</b><br>Difference From Mean: -1170.29<br>Mean: 6653074.29<br>",
          "Version: g++-4.6<br>Program: nbody_50000000<br><b><i>Percentage Difference:</i> 0.00%</b><br>Difference: 0.00<br><b><i>Percentage Difference from Mean:</i> -0.02%</b><br>Difference From Mean: -1170.29<br>Mean: 6653074.29<br>",
          "Version: g++-4.7<br>Program: nbody_50000000<br><b><i>Percentage Difference:</i> 0.00%</b><br>Difference: 0.00<br><b><i>Percentage Difference from Mean:</i> -0.02%</b><br>Difference From Mean: -1170.29<br>Mean: 6653074.29<br>",
          "Version: g++-4.8<br>Program: nbody_50000000<br><b><i>Percentage Difference:</i> 0.00%</b><br>Difference: 0.00<br><b><i>Percentage Difference from Mean:</i> -0.02%</b><br>Difference From Mean: -1170.29<br>Mean: 6653074.29<br>",
          "Version: g++-4.9<br>Program: nbody_50000000<br><b><i>Percentage Difference:</i> 0.00%</b><br>Difference: 0.00<br><b><i>Percentage Difference from Mean:</i> -0.02%</b><br>Difference From Mean: -1170.29<br>Mean: 6653074.29<br>",
          "Version: g++-5<br>Program: nbody_50000000<br><b><i>Percentage Difference:</i> 0.00%</b><br>Difference: 0.00<br><b><i>Percentage Difference from Mean:</i> -0.02%</b><br>Difference From Mean: -1170.29<br>Mean: 6653074.29<br>",
          "Version: g++-6<br>Program: nbody_50000000<br><b><i>Percentage Difference:</i> 0.00%</b><br>Difference: 0.00<br><b><i>Percentage Difference from Mean:</i> -0.02%</b><br>Difference From Mean: -1170.29<br>Mean: 6653074.29<br>",
          "Version: g++-7<br>Program: nbody_50000000<br><b><i>Percentage Difference:</i> 0.00%</b><br>Difference: 0.00<br><b><i>Percentage Difference from Mean:</i> -0.02%</b><br>Difference From Mean: -1170.29<br>Mean: 6653074.29<br>",
          "Version: g++-8<br>Program: nbody_50000000<br><b><i>Percentage Difference:</i> 0.00%</b><br>Difference: 0.00<br><b><i>Percentage Difference from Mean:</i> -0.02%</b><br>Difference From Mean: -1170.29<br>Mean: 6653074.29<br>",
          "Version: g++-9<br>Program: nbody_50000000<br><b><i>Percentage Difference:</i> 0.06%</b><br>Difference: 4096.00<br><b><i>Percentage Difference from Mean:</i> 0.04%</b><br>Difference From Mean: 2925.71<br>Mean: 6653074.29<br>",
          "Version: g++-10<br>Program: nbody_50000000<br><b><i>Percentage Difference:</i> 0.00%</b><br>Difference: 0.00<br><b><i>Percentage Difference from Mean:</i> 0.04%</b><br>Difference From Mean: 2925.71<br>Mean: 6653074.29<br>",
          "Version: g++-11<br>Program: nbody_50000000<br><b><i>Percentage Difference:</i> 0.00%</b><br>Difference: 0.00<br><b><i>Percentage Difference from Mean:</i> 0.04%</b><br>Difference From Mean: 2925.71<br>Mean: 6653074.29<br>",
          "Version: g++-12<br>Program: nbody_50000000<br><b><i>Percentage Difference:</i> 0.00%</b><br>Difference: 0.00<br><b><i>Percentage Difference from Mean:</i> 0.04%</b><br>Difference From Mean: 2925.71<br>Mean: 6653074.29<br>",
          "Version: g++-13<br>Program: nbody_50000000<br><b><i>Percentage Difference:</i> -0.06%</b><br>Difference: -4096.00<br><b><i>Percentage Difference from Mean:</i> -0.02%</b><br>Difference From Mean: -1170.29<br>Mean: 6653074.29<br>"
         ],
         "name": "nbody_50000000 - Mean: 6653074.29",
         "text": [
          null,
          0,
          0,
          0,
          0,
          0,
          0,
          0,
          0,
          0.06157635467980427,
          0,
          0,
          0,
          -0.06153846153845732
         ],
         "type": "bar",
         "x": [
          "g++-4.4",
          "g++-4.6",
          "g++-4.7",
          "g++-4.8",
          "g++-4.9",
          "g++-5",
          "g++-6",
          "g++-7",
          "g++-8",
          "g++-9",
          "g++-10",
          "g++-11",
          "g++-12",
          "g++-13"
         ],
         "y": [
          null,
          0,
          0,
          0,
          0,
          0,
          0,
          0,
          0,
          4096,
          0,
          0,
          0,
          -4096
         ]
        },
        {
         "hovertemplate": [
          "Version: g++-4.4<br>Program: nbody_50000000_O3flag<br><b><i>Percentage Difference:</i> nan%</b><br>Difference: nan<br><b><i>Percentage Difference from Mean:</i> 0.04%</b><br>Difference From Mean: 2340.57<br>Mean: 6645467.43<br>",
          "Version: g++-4.6<br>Program: nbody_50000000_O3flag<br><b><i>Percentage Difference:</i> 0.00%</b><br>Difference: 0.00<br><b><i>Percentage Difference from Mean:</i> 0.04%</b><br>Difference From Mean: 2340.57<br>Mean: 6645467.43<br>",
          "Version: g++-4.7<br>Program: nbody_50000000_O3flag<br><b><i>Percentage Difference:</i> 0.00%</b><br>Difference: 0.00<br><b><i>Percentage Difference from Mean:</i> 0.04%</b><br>Difference From Mean: 2340.57<br>Mean: 6645467.43<br>",
          "Version: g++-4.8<br>Program: nbody_50000000_O3flag<br><b><i>Percentage Difference:</i> -0.06%</b><br>Difference: -4096.00<br><b><i>Percentage Difference from Mean:</i> -0.03%</b><br>Difference From Mean: -1755.43<br>Mean: 6645467.43<br>",
          "Version: g++-4.9<br>Program: nbody_50000000_O3flag<br><b><i>Percentage Difference:</i> 0.00%</b><br>Difference: 0.00<br><b><i>Percentage Difference from Mean:</i> -0.03%</b><br>Difference From Mean: -1755.43<br>Mean: 6645467.43<br>",
          "Version: g++-5<br>Program: nbody_50000000_O3flag<br><b><i>Percentage Difference:</i> 0.00%</b><br>Difference: 0.00<br><b><i>Percentage Difference from Mean:</i> -0.03%</b><br>Difference From Mean: -1755.43<br>Mean: 6645467.43<br>",
          "Version: g++-6<br>Program: nbody_50000000_O3flag<br><b><i>Percentage Difference:</i> 0.00%</b><br>Difference: 0.00<br><b><i>Percentage Difference from Mean:</i> -0.03%</b><br>Difference From Mean: -1755.43<br>Mean: 6645467.43<br>",
          "Version: g++-7<br>Program: nbody_50000000_O3flag<br><b><i>Percentage Difference:</i> 0.00%</b><br>Difference: 0.00<br><b><i>Percentage Difference from Mean:</i> -0.03%</b><br>Difference From Mean: -1755.43<br>Mean: 6645467.43<br>",
          "Version: g++-8<br>Program: nbody_50000000_O3flag<br><b><i>Percentage Difference:</i> 0.00%</b><br>Difference: 0.00<br><b><i>Percentage Difference from Mean:</i> -0.03%</b><br>Difference From Mean: -1755.43<br>Mean: 6645467.43<br>",
          "Version: g++-9<br>Program: nbody_50000000_O3flag<br><b><i>Percentage Difference:</i> 0.00%</b><br>Difference: 0.00<br><b><i>Percentage Difference from Mean:</i> -0.03%</b><br>Difference From Mean: -1755.43<br>Mean: 6645467.43<br>",
          "Version: g++-10<br>Program: nbody_50000000_O3flag<br><b><i>Percentage Difference:</i> 0.06%</b><br>Difference: 4096.00<br><b><i>Percentage Difference from Mean:</i> 0.04%</b><br>Difference From Mean: 2340.57<br>Mean: 6645467.43<br>",
          "Version: g++-11<br>Program: nbody_50000000_O3flag<br><b><i>Percentage Difference:</i> 0.00%</b><br>Difference: 0.00<br><b><i>Percentage Difference from Mean:</i> 0.04%</b><br>Difference From Mean: 2340.57<br>Mean: 6645467.43<br>",
          "Version: g++-12<br>Program: nbody_50000000_O3flag<br><b><i>Percentage Difference:</i> -0.06%</b><br>Difference: -4096.00<br><b><i>Percentage Difference from Mean:</i> -0.03%</b><br>Difference From Mean: -1755.43<br>Mean: 6645467.43<br>",
          "Version: g++-13<br>Program: nbody_50000000_O3flag<br><b><i>Percentage Difference:</i> 0.06%</b><br>Difference: 4096.00<br><b><i>Percentage Difference from Mean:</i> 0.04%</b><br>Difference From Mean: 2340.57<br>Mean: 6645467.43<br>"
         ],
         "name": "nbody_50000000_O3flag - Mean: 6645467.43",
         "text": [
          null,
          0,
          0,
          -0.06161429451633227,
          0,
          0,
          0,
          0,
          0,
          0,
          0.06165228113439447,
          0,
          -0.06161429451633227,
          0.06165228113439447
         ],
         "type": "bar",
         "x": [
          "g++-4.4",
          "g++-4.6",
          "g++-4.7",
          "g++-4.8",
          "g++-4.9",
          "g++-5",
          "g++-6",
          "g++-7",
          "g++-8",
          "g++-9",
          "g++-10",
          "g++-11",
          "g++-12",
          "g++-13"
         ],
         "y": [
          null,
          0,
          0,
          -4096,
          0,
          0,
          0,
          0,
          0,
          0,
          4096,
          0,
          -4096,
          4096
         ]
        }
       ],
       "layout": {
        "template": {
         "data": {
          "bar": [
           {
            "error_x": {
             "color": "#2a3f5f"
            },
            "error_y": {
             "color": "#2a3f5f"
            },
            "marker": {
             "line": {
              "color": "#E5ECF6",
              "width": 0.5
             },
             "pattern": {
              "fillmode": "overlay",
              "size": 10,
              "solidity": 0.2
             }
            },
            "type": "bar"
           }
          ],
          "barpolar": [
           {
            "marker": {
             "line": {
              "color": "#E5ECF6",
              "width": 0.5
             },
             "pattern": {
              "fillmode": "overlay",
              "size": 10,
              "solidity": 0.2
             }
            },
            "type": "barpolar"
           }
          ],
          "carpet": [
           {
            "aaxis": {
             "endlinecolor": "#2a3f5f",
             "gridcolor": "white",
             "linecolor": "white",
             "minorgridcolor": "white",
             "startlinecolor": "#2a3f5f"
            },
            "baxis": {
             "endlinecolor": "#2a3f5f",
             "gridcolor": "white",
             "linecolor": "white",
             "minorgridcolor": "white",
             "startlinecolor": "#2a3f5f"
            },
            "type": "carpet"
           }
          ],
          "choropleth": [
           {
            "colorbar": {
             "outlinewidth": 0,
             "ticks": ""
            },
            "type": "choropleth"
           }
          ],
          "contour": [
           {
            "colorbar": {
             "outlinewidth": 0,
             "ticks": ""
            },
            "colorscale": [
             [
              0,
              "#0d0887"
             ],
             [
              0.1111111111111111,
              "#46039f"
             ],
             [
              0.2222222222222222,
              "#7201a8"
             ],
             [
              0.3333333333333333,
              "#9c179e"
             ],
             [
              0.4444444444444444,
              "#bd3786"
             ],
             [
              0.5555555555555556,
              "#d8576b"
             ],
             [
              0.6666666666666666,
              "#ed7953"
             ],
             [
              0.7777777777777778,
              "#fb9f3a"
             ],
             [
              0.8888888888888888,
              "#fdca26"
             ],
             [
              1,
              "#f0f921"
             ]
            ],
            "type": "contour"
           }
          ],
          "contourcarpet": [
           {
            "colorbar": {
             "outlinewidth": 0,
             "ticks": ""
            },
            "type": "contourcarpet"
           }
          ],
          "heatmap": [
           {
            "colorbar": {
             "outlinewidth": 0,
             "ticks": ""
            },
            "colorscale": [
             [
              0,
              "#0d0887"
             ],
             [
              0.1111111111111111,
              "#46039f"
             ],
             [
              0.2222222222222222,
              "#7201a8"
             ],
             [
              0.3333333333333333,
              "#9c179e"
             ],
             [
              0.4444444444444444,
              "#bd3786"
             ],
             [
              0.5555555555555556,
              "#d8576b"
             ],
             [
              0.6666666666666666,
              "#ed7953"
             ],
             [
              0.7777777777777778,
              "#fb9f3a"
             ],
             [
              0.8888888888888888,
              "#fdca26"
             ],
             [
              1,
              "#f0f921"
             ]
            ],
            "type": "heatmap"
           }
          ],
          "heatmapgl": [
           {
            "colorbar": {
             "outlinewidth": 0,
             "ticks": ""
            },
            "colorscale": [
             [
              0,
              "#0d0887"
             ],
             [
              0.1111111111111111,
              "#46039f"
             ],
             [
              0.2222222222222222,
              "#7201a8"
             ],
             [
              0.3333333333333333,
              "#9c179e"
             ],
             [
              0.4444444444444444,
              "#bd3786"
             ],
             [
              0.5555555555555556,
              "#d8576b"
             ],
             [
              0.6666666666666666,
              "#ed7953"
             ],
             [
              0.7777777777777778,
              "#fb9f3a"
             ],
             [
              0.8888888888888888,
              "#fdca26"
             ],
             [
              1,
              "#f0f921"
             ]
            ],
            "type": "heatmapgl"
           }
          ],
          "histogram": [
           {
            "marker": {
             "pattern": {
              "fillmode": "overlay",
              "size": 10,
              "solidity": 0.2
             }
            },
            "type": "histogram"
           }
          ],
          "histogram2d": [
           {
            "colorbar": {
             "outlinewidth": 0,
             "ticks": ""
            },
            "colorscale": [
             [
              0,
              "#0d0887"
             ],
             [
              0.1111111111111111,
              "#46039f"
             ],
             [
              0.2222222222222222,
              "#7201a8"
             ],
             [
              0.3333333333333333,
              "#9c179e"
             ],
             [
              0.4444444444444444,
              "#bd3786"
             ],
             [
              0.5555555555555556,
              "#d8576b"
             ],
             [
              0.6666666666666666,
              "#ed7953"
             ],
             [
              0.7777777777777778,
              "#fb9f3a"
             ],
             [
              0.8888888888888888,
              "#fdca26"
             ],
             [
              1,
              "#f0f921"
             ]
            ],
            "type": "histogram2d"
           }
          ],
          "histogram2dcontour": [
           {
            "colorbar": {
             "outlinewidth": 0,
             "ticks": ""
            },
            "colorscale": [
             [
              0,
              "#0d0887"
             ],
             [
              0.1111111111111111,
              "#46039f"
             ],
             [
              0.2222222222222222,
              "#7201a8"
             ],
             [
              0.3333333333333333,
              "#9c179e"
             ],
             [
              0.4444444444444444,
              "#bd3786"
             ],
             [
              0.5555555555555556,
              "#d8576b"
             ],
             [
              0.6666666666666666,
              "#ed7953"
             ],
             [
              0.7777777777777778,
              "#fb9f3a"
             ],
             [
              0.8888888888888888,
              "#fdca26"
             ],
             [
              1,
              "#f0f921"
             ]
            ],
            "type": "histogram2dcontour"
           }
          ],
          "mesh3d": [
           {
            "colorbar": {
             "outlinewidth": 0,
             "ticks": ""
            },
            "type": "mesh3d"
           }
          ],
          "parcoords": [
           {
            "line": {
             "colorbar": {
              "outlinewidth": 0,
              "ticks": ""
             }
            },
            "type": "parcoords"
           }
          ],
          "pie": [
           {
            "automargin": true,
            "type": "pie"
           }
          ],
          "scatter": [
           {
            "fillpattern": {
             "fillmode": "overlay",
             "size": 10,
             "solidity": 0.2
            },
            "type": "scatter"
           }
          ],
          "scatter3d": [
           {
            "line": {
             "colorbar": {
              "outlinewidth": 0,
              "ticks": ""
             }
            },
            "marker": {
             "colorbar": {
              "outlinewidth": 0,
              "ticks": ""
             }
            },
            "type": "scatter3d"
           }
          ],
          "scattercarpet": [
           {
            "marker": {
             "colorbar": {
              "outlinewidth": 0,
              "ticks": ""
             }
            },
            "type": "scattercarpet"
           }
          ],
          "scattergeo": [
           {
            "marker": {
             "colorbar": {
              "outlinewidth": 0,
              "ticks": ""
             }
            },
            "type": "scattergeo"
           }
          ],
          "scattergl": [
           {
            "marker": {
             "colorbar": {
              "outlinewidth": 0,
              "ticks": ""
             }
            },
            "type": "scattergl"
           }
          ],
          "scattermapbox": [
           {
            "marker": {
             "colorbar": {
              "outlinewidth": 0,
              "ticks": ""
             }
            },
            "type": "scattermapbox"
           }
          ],
          "scatterpolar": [
           {
            "marker": {
             "colorbar": {
              "outlinewidth": 0,
              "ticks": ""
             }
            },
            "type": "scatterpolar"
           }
          ],
          "scatterpolargl": [
           {
            "marker": {
             "colorbar": {
              "outlinewidth": 0,
              "ticks": ""
             }
            },
            "type": "scatterpolargl"
           }
          ],
          "scatterternary": [
           {
            "marker": {
             "colorbar": {
              "outlinewidth": 0,
              "ticks": ""
             }
            },
            "type": "scatterternary"
           }
          ],
          "surface": [
           {
            "colorbar": {
             "outlinewidth": 0,
             "ticks": ""
            },
            "colorscale": [
             [
              0,
              "#0d0887"
             ],
             [
              0.1111111111111111,
              "#46039f"
             ],
             [
              0.2222222222222222,
              "#7201a8"
             ],
             [
              0.3333333333333333,
              "#9c179e"
             ],
             [
              0.4444444444444444,
              "#bd3786"
             ],
             [
              0.5555555555555556,
              "#d8576b"
             ],
             [
              0.6666666666666666,
              "#ed7953"
             ],
             [
              0.7777777777777778,
              "#fb9f3a"
             ],
             [
              0.8888888888888888,
              "#fdca26"
             ],
             [
              1,
              "#f0f921"
             ]
            ],
            "type": "surface"
           }
          ],
          "table": [
           {
            "cells": {
             "fill": {
              "color": "#EBF0F8"
             },
             "line": {
              "color": "white"
             }
            },
            "header": {
             "fill": {
              "color": "#C8D4E3"
             },
             "line": {
              "color": "white"
             }
            },
            "type": "table"
           }
          ]
         },
         "layout": {
          "annotationdefaults": {
           "arrowcolor": "#2a3f5f",
           "arrowhead": 0,
           "arrowwidth": 1
          },
          "autotypenumbers": "strict",
          "coloraxis": {
           "colorbar": {
            "outlinewidth": 0,
            "ticks": ""
           }
          },
          "colorscale": {
           "diverging": [
            [
             0,
             "#8e0152"
            ],
            [
             0.1,
             "#c51b7d"
            ],
            [
             0.2,
             "#de77ae"
            ],
            [
             0.3,
             "#f1b6da"
            ],
            [
             0.4,
             "#fde0ef"
            ],
            [
             0.5,
             "#f7f7f7"
            ],
            [
             0.6,
             "#e6f5d0"
            ],
            [
             0.7,
             "#b8e186"
            ],
            [
             0.8,
             "#7fbc41"
            ],
            [
             0.9,
             "#4d9221"
            ],
            [
             1,
             "#276419"
            ]
           ],
           "sequential": [
            [
             0,
             "#0d0887"
            ],
            [
             0.1111111111111111,
             "#46039f"
            ],
            [
             0.2222222222222222,
             "#7201a8"
            ],
            [
             0.3333333333333333,
             "#9c179e"
            ],
            [
             0.4444444444444444,
             "#bd3786"
            ],
            [
             0.5555555555555556,
             "#d8576b"
            ],
            [
             0.6666666666666666,
             "#ed7953"
            ],
            [
             0.7777777777777778,
             "#fb9f3a"
            ],
            [
             0.8888888888888888,
             "#fdca26"
            ],
            [
             1,
             "#f0f921"
            ]
           ],
           "sequentialminus": [
            [
             0,
             "#0d0887"
            ],
            [
             0.1111111111111111,
             "#46039f"
            ],
            [
             0.2222222222222222,
             "#7201a8"
            ],
            [
             0.3333333333333333,
             "#9c179e"
            ],
            [
             0.4444444444444444,
             "#bd3786"
            ],
            [
             0.5555555555555556,
             "#d8576b"
            ],
            [
             0.6666666666666666,
             "#ed7953"
            ],
            [
             0.7777777777777778,
             "#fb9f3a"
            ],
            [
             0.8888888888888888,
             "#fdca26"
            ],
            [
             1,
             "#f0f921"
            ]
           ]
          },
          "colorway": [
           "#636efa",
           "#EF553B",
           "#00cc96",
           "#ab63fa",
           "#FFA15A",
           "#19d3f3",
           "#FF6692",
           "#B6E880",
           "#FF97FF",
           "#FECB52"
          ],
          "font": {
           "color": "#2a3f5f"
          },
          "geo": {
           "bgcolor": "white",
           "lakecolor": "white",
           "landcolor": "#E5ECF6",
           "showlakes": true,
           "showland": true,
           "subunitcolor": "white"
          },
          "hoverlabel": {
           "align": "left"
          },
          "hovermode": "closest",
          "mapbox": {
           "style": "light"
          },
          "paper_bgcolor": "white",
          "plot_bgcolor": "#E5ECF6",
          "polar": {
           "angularaxis": {
            "gridcolor": "white",
            "linecolor": "white",
            "ticks": ""
           },
           "bgcolor": "#E5ECF6",
           "radialaxis": {
            "gridcolor": "white",
            "linecolor": "white",
            "ticks": ""
           }
          },
          "scene": {
           "xaxis": {
            "backgroundcolor": "#E5ECF6",
            "gridcolor": "white",
            "gridwidth": 2,
            "linecolor": "white",
            "showbackground": true,
            "ticks": "",
            "zerolinecolor": "white"
           },
           "yaxis": {
            "backgroundcolor": "#E5ECF6",
            "gridcolor": "white",
            "gridwidth": 2,
            "linecolor": "white",
            "showbackground": true,
            "ticks": "",
            "zerolinecolor": "white"
           },
           "zaxis": {
            "backgroundcolor": "#E5ECF6",
            "gridcolor": "white",
            "gridwidth": 2,
            "linecolor": "white",
            "showbackground": true,
            "ticks": "",
            "zerolinecolor": "white"
           }
          },
          "shapedefaults": {
           "line": {
            "color": "#2a3f5f"
           }
          },
          "ternary": {
           "aaxis": {
            "gridcolor": "white",
            "linecolor": "white",
            "ticks": ""
           },
           "baxis": {
            "gridcolor": "white",
            "linecolor": "white",
            "ticks": ""
           },
           "bgcolor": "#E5ECF6",
           "caxis": {
            "gridcolor": "white",
            "linecolor": "white",
            "ticks": ""
           }
          },
          "title": {
           "x": 0.05
          },
          "xaxis": {
           "automargin": true,
           "gridcolor": "white",
           "linecolor": "white",
           "ticks": "",
           "title": {
            "standoff": 15
           },
           "zerolinecolor": "white",
           "zerolinewidth": 2
          },
          "yaxis": {
           "automargin": true,
           "gridcolor": "white",
           "linecolor": "white",
           "ticks": "",
           "title": {
            "standoff": 15
           },
           "zerolinecolor": "white",
           "zerolinewidth": 2
          }
         }
        },
        "title": {
         "text": "Comparison of virt"
        },
        "xaxis": {
         "title": {
          "text": "version"
         }
        },
        "yaxis": {
         "title": {
          "text": "Difference from Mean of virt"
         },
         "zeroline": false
        }
       }
      }
     },
     "metadata": {},
     "output_type": "display_data"
    }
   ],
   "source": [
    "language = \"c++\"\n",
    "x_data = \"version\"\n",
    "y_data = \"virt\"\n",
    "color_data = \"path\"\n",
    "type = \"barTop\"\n",
    "diff = True\n",
    "\n",
    "df = from_CSVfiles(\"top\", norm=False)\n",
    "\n",
    "\n",
    "if type == \"barTop\": df = df.groupby([x_data,color_data], sort=False)[[y_data]].mean().reset_index()\n",
    "if type == \"lineTop\": df = df.groupby([x_data,color_data], sort=False)[[y_data]].mean().reset_index()\n",
    "\n",
    "mean_per_program = df.groupby(color_data)[y_data].mean()\n",
    "max_per_program = df.groupby(color_data)[y_data].idxmax()\n",
    "max_energy_df = df.loc[max_per_program, [color_data, x_data, y_data]]\n",
    "display(max_energy_df)\n",
    "min_per_program = df.groupby(color_data)[y_data].idxmin()\n",
    "min_energy_df = df.loc[min_per_program, [color_data, x_data, y_data]]\n",
    "display(min_energy_df)\n",
    "df['DifferenceFromMean'] = df.apply(lambda row: row[y_data] - mean_per_program[row[color_data]], axis=1)\n",
    "\n",
    "# Create grouped bar traces for each program\n",
    "bar_traces = []\n",
    "for program in df[color_data].unique():\n",
    "    program_df = df[df[color_data] == program]\n",
    "    mean = mean_per_program[program]\n",
    "    program_df['Difference'] = program_df[y_data].diff()\n",
    "    program_df['Percentage_Difference'] = program_df[y_data].pct_change()*100\n",
    "    program_df['Percentage_DifferenceFromMean'] = program_df.apply(lambda row: 0 if (mean == 0) else 100 * (row[\"DifferenceFromMean\"] / mean), axis=1)\n",
    "    hover_texts = [custom_hover(program, x, y, mean, diff, percent_diff) for x, y, diff, percent_diff in zip(program_df[x_data], program_df['DifferenceFromMean'],program_df['Difference'],program_df['Percentage_Difference'])]\n",
    "    if diff:\n",
    "        min = program_df[program_df['Difference'] == program_df['Difference'].min()]\n",
    "        max = program_df[program_df['Difference'] == program_df['Difference'].max()]\n",
    "        bar_trace = go.Bar(x=program_df[x_data], y=program_df['Difference'],\n",
    "                            name=f'{program} - Mean: { format(mean_per_program[program], \".2f\")}',\n",
    "                            hovertemplate=hover_texts,\n",
    "                            text=program_df[\"Percentage_Difference\"])\n",
    "    else:\n",
    "        min = program_df[program_df['DifferenceFromMean'] == program_df['DifferenceFromMean'].min()]\n",
    "        max = program_df[program_df['DifferenceFromMean'] == program_df['DifferenceFromMean'].max()]\n",
    "        bar_trace = go.Bar(x=program_df[x_data], y=program_df['DifferenceFromMean'],\n",
    "                           name=f'{program} - Mean: { format(mean_per_program[program], \".2f\")}',\n",
    "                           hovertemplate=hover_texts,\n",
    "                           text=program_df[\"Percentage_DifferenceFromMean\"])\n",
    "    \n",
    "    bar_traces.append(bar_trace)\n",
    "    # bar_traces.append(median_trace)\n",
    "\n",
    "layout = go.Layout(title='Comparison of ' + y_data,\n",
    "                       xaxis=dict(title=x_data),\n",
    "                       yaxis=dict(title='Difference from Mean of ' + y_data, zeroline=False))\n",
    "        \n",
    "fig = go.Figure(data=bar_traces, layout=layout)\n",
    "\n",
    "# for _, row in max_energy_df.iterrows():\n",
    "#     fig.add_annotation(\n",
    "#         text=f\"Max: {row[y_data]} ({row[color_data]} {row[x_data]})\",\n",
    "#         x=row[x_data],\n",
    "#         y=row[y_data],\n",
    "#     )\n",
    "\n",
    "fig.show()\n"
   ]
  }
 ],
 "metadata": {
  "kernelspec": {
   "display_name": "Python 3 (Spyder)",
   "language": "python3",
   "name": "python3"
  },
  "language_info": {
   "codemirror_mode": {
    "name": "ipython",
    "version": 3
   },
   "file_extension": ".py",
   "mimetype": "text/x-python",
   "name": "python",
   "nbconvert_exporter": "python",
   "pygments_lexer": "ipython3",
   "version": "3.11.3"
  }
 },
 "nbformat": 4,
 "nbformat_minor": 4
}
