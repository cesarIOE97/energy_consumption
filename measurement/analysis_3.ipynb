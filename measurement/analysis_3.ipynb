{
 "cells": [
  {
   "attachments": {},
   "cell_type": "markdown",
   "metadata": {},
   "source": [
    "# Analysis for Performance and Energy Consumption"
   ]
  },
  {
   "attachments": {},
   "cell_type": "markdown",
   "metadata": {},
   "source": [
    "## Extract information"
   ]
  },
  {
   "cell_type": "code",
   "execution_count": 4,
   "metadata": {},
   "outputs": [],
   "source": [
    "# Libraries\n",
    "\n",
    "import sys\n",
    "import os\n",
    "import glob\n",
    "import webbrowser\n",
    "import natsort\n",
    "import pandas as pd\n",
    "import matplotlib.pyplot as plt\n",
    "import seaborn as sns\n",
    "import plotly\n",
    "import plotly.express as px\n",
    "import plotly.graph_objects as go\n",
    "from sklearn.preprocessing import MaxAbsScaler\n",
    "from IPython.display import display, HTML\n"
   ]
  },
  {
   "cell_type": "code",
   "execution_count": 5,
   "metadata": {},
   "outputs": [],
   "source": [
    "# Directory\n",
    "actual_directory = os.getcwd() + '/'  \n",
    "\n",
    "python_releaseDates = {\n",
    "    'Python 3.13.0a0': '2023-06-07',\n",
    "    'Python 3.12.0b1': '2023-05-22',\n",
    "    'Python 3.11.3': '2023-04-05',\n",
    "    'Python 3.10.11': '2023-04-05',\n",
    "    'Python 3.9.16': '2022-12-06',\n",
    "    'Python 3.8.16': '2022-12-06',\n",
    "    'Python 3.7.16': '2022-12-06',\n",
    "    'Python 3.6.15': '2021-09-04',\n",
    "    'Python 3.5.10': '2020-09-05',\n",
    "    'Python 3.4.10': '2019-03-18',\n",
    "    'Python 3.3.7': '2017-09-19',\n",
    "    'Python 3.2.6': '2014-10-11',\n",
    "    'Python 3.1.5': '2012-04-09',\n",
    "    'Python 3.0.1': '2009-02-13',\n",
    "    'Python 2.7.18': '2020-04-20',\n",
    "    'Python 2.6.9': '2013-10-29',\n",
    "    'Python 2.5.6': '2011-05-26',\n",
    "}\n",
    "\n",
    "cplusplus_releaseDates = {\n",
    "    'g++-4.4 4.4.7': '2012-03-13',\n",
    "    'g++-4.6 4.6.4': '2013-04-12',\n",
    "    'g++-4.7 4.7.4': '2014-06-12',\n",
    "    'g++-4.8 4.8.5': '2015-06-23',\n",
    "    'g++-4.9 4.9.3': '2015-06-26',\n",
    "    'g++-5 5.5.0': '2017-10-10',\n",
    "    'g++-6 6.5.0': '2018-10-26',\n",
    "    'g++-7 7.5.0': '2019-11-14',\n",
    "    'g++-8 8.5.0': '2021-05-14',\n",
    "    'g++-8 ': '2021-05-14',\n",
    "    'g++-9 9.5.0': '2022-05-27',\n",
    "    'g++-10 10.4.0': '2022-06-28',\n",
    "    'g++-10 10.5.0': '2023-07-07',\n",
    "    'g++-11 11.4.0': '2023-05-29',\n",
    "    'g++-12 12.3.0': '2023-05-08',\n",
    "    'g++-13 13.1.0': '2023-04-26',\n",
    "}\n",
    "\n",
    "java_releaseDates = {\n",
    "    '1.8.0_362': '2023-04-18',\n",
    "    '9.0.4': '2018-01-16',\n",
    "    '10.0.2': '2018-07-17',\n",
    "    '11.0.19': '2020-10-20',\n",
    "    '12.0.2': '2019-07-16',\n",
    "    '13.0.2': '2020-01-14',\n",
    "    '14.0.2': '2020-07-14',\n",
    "    '15.0.2': '2021-01-19',\n",
    "    '16.0.2': '2021-07-20',\n",
    "    '17.0.7': '2023-04-18',\n",
    "    '18.0.2-ea': '2022-07-19',\n",
    "    '19.0.2': '2023-01-17',\n",
    "    '20.0.2': '2023-07-18',\n",
    "}\n",
    "\n",
    "js_releaseDates = {\n",
    "    '20.5.1': '2023-08-09',\n",
    "    '19.9.0': '2023-04-10',\n",
    "    '18.17.1': '2023-08-08',\n",
    "    '17.9.1': '2022-06-01',\n",
    "    '16.20.2': '2023-08-08',\n",
    "    '15.14.0': '2021-04-06',\n",
    "    '14.21.3': '2023-02-16',\n",
    "    '13.14.0': '2020-04-29',\n",
    "    '12.22.12': '2022-04-05',\n",
    "    '11.15.0': '2019-04-30',\n",
    "    '10.24.1': '2021-04-06',\n",
    "    '9.11.2': '2018-06-12',\n",
    "    '8.17.0': '2019-12-17',\n",
    "    '7.10.1': '2017-07-11',\n",
    "    '6.17.1': '2019-04-03',\n",
    "    '5.12.0': '2016-06-23',\n",
    "    '4.9.1': '2018-03-29',\n",
    "    '3.3.1': '2015-09-15',\n",
    "    '2.5.0': '2015-07-28',\n",
    "    '1.8.4': '2015-07-09',\n",
    "    '0.12.18': '2017-02-22',\n",
    "    '0.10.48': '2016-10-18',\n",
    "    '0.8.28': '2014-07-31'\n",
    "}\n",
    "\n",
    "# Function to get release date for a given Python version\n",
    "def get_release_date(version):\n",
    "    if language == 'python':\n",
    "        return python_releaseDates.get(version, 'Unknown')\n",
    "    elif language == 'c++':\n",
    "        return cplusplus_releaseDates.get(version, 'Unknown')\n",
    "    elif language == 'java':\n",
    "        return java_releaseDates.get(version, 'Unknown')\n",
    "    elif language == 'js':\n",
    "        return js_releaseDates.get(version, 'Unknown')\n",
    "\n",
    "# Function to convert \"g\", \"m\" or KiB to \"byte\"\n",
    "def convert_g_to_byte(value):\n",
    "    value_str = str(value)\n",
    "    if value_str[:-1] == \"\":\n",
    "        Byte_value = 0\n",
    "    elif value_str[-1].lower() == 'g':\n",
    "        g_value = float(value_str[:-1])\n",
    "        Byte_value = g_value * 1024 * 1024 * 1024  # 1 giga = 1,000,000,000\n",
    "    elif value_str[-1].lower() == 'm':\n",
    "        m_value = float(value_str[:-1])\n",
    "        Byte_value = m_value * 1024 * 1024 # 1 giga = 1,000,000\n",
    "    elif value_str[-1].lower() == 'k':\n",
    "        k_value = float(value_str[:-1])\n",
    "        Byte_value = k_value * 1024 # 1 kilo = 1,000\n",
    "    else:\n",
    "        k_value = float(value_str)\n",
    "        Byte_value = k_value * 1024 # 1 kilo = 1,000\n",
    "    return int(Byte_value)\n",
    "\n",
    "def convert_toUnit(column):\n",
    "    column = column.apply(convert_g_to_byte)\n",
    "    column = pd.to_numeric(column, errors='coerce')\n",
    "    return column\n",
    "    \n",
    "def Data_normalized(df, tool):\n",
    "    df_data = df[['version', 'release_date', 'path', 'appplication']]\n",
    "    if tool == \"turbostat\": \n",
    "        df_metric = df.loc[:, ~df.columns.isin(['version', 'release_date', 'path', 'appplication'])]\n",
    "    elif tool == \"top\":\n",
    "        df_metric = df[['virt', 'res', 'shr', 'percent_cpu', 'percent_mem',\n",
    "                    'nTH', 'P', 'SWAP', 'CODE', 'DATA', 'nMaj',\n",
    "                    'nDRT', 'USED']]\n",
    "\n",
    "    transformer = MaxAbsScaler().fit(df_metric)\n",
    "    scaled = transformer.transform(df_metric)\n",
    "\n",
    "    df_norm = pd.DataFrame(scaled, columns=df_metric.columns)\n",
    "    df = pd.concat([df_data,df_norm.reindex(df_data.index)], axis=1)\n",
    "    return df\n",
    "\n",
    "# Function to extract information in every file\n",
    "def from_CSVfile(file, directory, tool):\n",
    "     # Read CSV file\n",
    "    df = pd.read_csv(file)\n",
    "    if language == 'js': df['version'] = df['version'].str.replace('v', '')\n",
    "    \n",
    "    # New column 'release_date' as the second \n",
    "    df['release_date'] = df['version'].apply(get_release_date)\n",
    "    df.insert(1, 'release_date', df.pop('release_date'))\n",
    "\n",
    "    # Convert date into datetime\n",
    "    df['release_date'] = pd.to_datetime(df['release_date'])\n",
    "\n",
    "    # New column 'path' as the third\n",
    "    df['path'] = directory\n",
    "    df.insert(2, 'path', df.pop('path'))\n",
    "\n",
    "    # Clean and remove the unnecessary rows\n",
    "    df.replace(to_replace='-', value=0, inplace=True)\n",
    "\n",
    "    # Apply the conversion function to the DataFrame column\n",
    "    if tool == \"top\":\n",
    "        df = df.dropna(subset=['command'])\n",
    "        df['virt'] = convert_toUnit(df['virt'])\n",
    "        df['res'] = convert_toUnit(df['res'])\n",
    "        df['shr'] = convert_toUnit(df['shr'])\n",
    "        df['CODE'] = convert_toUnit(df['CODE'])\n",
    "        df['DATA'] = convert_toUnit(df['DATA'])\n",
    "        df['SWAP'] = convert_toUnit(df['SWAP'])\n",
    "        df['USED'] = convert_toUnit(df['USED'])\n",
    "        df['nMin'] = convert_toUnit(df['nMin'])\n",
    "        df['nMaj'] = convert_toUnit(df['nMaj'])\n",
    "\n",
    "    # Changes in the 'version' column\n",
    "    if language == 'python': df['version'] = df['version'].str.replace('Python ', '')\n",
    "    if language == 'c++': df['version'] = df['version'].str.split().str[0]\n",
    "\n",
    "    # with pd.option_context('display.max_rows', None, 'display.max_columns', None):  # more options can be specified also\n",
    "    #     print(df)\n",
    "\n",
    "    return df\n",
    "\n",
    "# Extract all information from ALL files\n",
    "def from_CSVfiles(tool, norm):\n",
    "\n",
    "    all_df = pd.DataFrame()\n",
    "\n",
    "    list_directories = next(os.walk(language))[1]\n",
    "    list_directories.sort()\n",
    "\n",
    "    for directory_name in list_directories:\n",
    "        # if directory_name != \"older\" and directory_name != \"test\" and directory_name != \"general_plots\" and directory_name != \"general_plots_v1\":\n",
    "        \n",
    "        if directory_name == \"binaryTrees_21_original\":\n",
    "\n",
    "            path = language + '/' + directory_name + '/' + tool + '/'\n",
    "            if tool == \"perf\": path = path + tool + extra\n",
    "\n",
    "            if tool == \"top\":\n",
    "\n",
    "                df = pd.DataFrame()\n",
    "                list_files = os.listdir(path)\n",
    "\n",
    "                # Get list of all files only in the given directory\n",
    "                list_files = natsort.natsorted(list_files)\n",
    "\n",
    "                for file_name in list_files:\n",
    "                    if file_name.startswith(\"temp_top_data_\") and file_name.endswith('.csv'):\n",
    "                        df_Top = from_CSVfile(path + file_name, directory_name, tool)\n",
    "                        df = pd.concat([df, df_Top])\n",
    "\n",
    "                df.to_csv(path + \"top_data_allVersions.csv\", index=False)\n",
    "            elif tool == \"turbostat\":\n",
    "\n",
    "                df = pd.DataFrame()\n",
    "                list_files = os.listdir(path)\n",
    "\n",
    "                # Get list of all files only in the given directory\n",
    "                list_files = natsort.natsorted(list_files)\n",
    "\n",
    "                for file_name in list_files:\n",
    "                    if file_name.startswith(\"turbostat_performance_data\") and file_name.endswith('.csv') and file_name != \"turbostat_performance_data_allVersions.csv\":\n",
    "                        df_Top = from_CSVfile(path + file_name, directory_name, tool)\n",
    "                        df = pd.concat([df, df_Top])\n",
    "\n",
    "            else:\n",
    "                df = from_CSVfile(path + '_data_allVersions.csv', directory_name, tool)\n",
    "                if norm: df = Data_normalized(df, tool)\n",
    "            all_df = pd.concat([all_df, df])\n",
    "\n",
    "    return all_df"
   ]
  },
  {
   "cell_type": "code",
   "execution_count": 6,
   "metadata": {},
   "outputs": [
    {
     "data": {
      "text/html": [
       "<div>\n",
       "<style scoped>\n",
       "    .dataframe tbody tr th:only-of-type {\n",
       "        vertical-align: middle;\n",
       "    }\n",
       "\n",
       "    .dataframe tbody tr th {\n",
       "        vertical-align: top;\n",
       "    }\n",
       "\n",
       "    .dataframe thead th {\n",
       "        text-align: right;\n",
       "    }\n",
       "</style>\n",
       "<table border=\"1\" class=\"dataframe\">\n",
       "  <thead>\n",
       "    <tr style=\"text-align: right;\">\n",
       "      <th></th>\n",
       "      <th>test</th>\n",
       "      <th>release_date</th>\n",
       "      <th>path</th>\n",
       "      <th>version</th>\n",
       "      <th>appplication</th>\n",
       "      <th>time_elapsed</th>\n",
       "      <th>usec</th>\n",
       "      <th>Time_Of_Day_Seconds</th>\n",
       "      <th>APIC</th>\n",
       "      <th>X2APIC</th>\n",
       "      <th>...</th>\n",
       "      <th>Pkg%pc9</th>\n",
       "      <th>Pk%pc10</th>\n",
       "      <th>CPU%LPI</th>\n",
       "      <th>SYS%LPI</th>\n",
       "      <th>Pkg_J</th>\n",
       "      <th>Cor_J</th>\n",
       "      <th>GFX_J</th>\n",
       "      <th>RAM_J</th>\n",
       "      <th>PKG_%</th>\n",
       "      <th>RAM_%</th>\n",
       "    </tr>\n",
       "  </thead>\n",
       "  <tbody>\n",
       "    <tr>\n",
       "      <th>0</th>\n",
       "      <td>1</td>\n",
       "      <td>2012-03-13</td>\n",
       "      <td>binaryTrees_21_original</td>\n",
       "      <td>g++-4.4</td>\n",
       "      <td>binaryTrees_2.c 21</td>\n",
       "      <td>19.012345</td>\n",
       "      <td>1575</td>\n",
       "      <td>1.692782e+09</td>\n",
       "      <td>0</td>\n",
       "      <td>0</td>\n",
       "      <td>...</td>\n",
       "      <td>0.0</td>\n",
       "      <td>0.0</td>\n",
       "      <td>0.0</td>\n",
       "      <td>0.0</td>\n",
       "      <td>276.73</td>\n",
       "      <td>228.10</td>\n",
       "      <td>0.26</td>\n",
       "      <td>14.03</td>\n",
       "      <td>0.0</td>\n",
       "      <td>0.0</td>\n",
       "    </tr>\n",
       "    <tr>\n",
       "      <th>1</th>\n",
       "      <td>2</td>\n",
       "      <td>2012-03-13</td>\n",
       "      <td>binaryTrees_21_original</td>\n",
       "      <td>g++-4.4</td>\n",
       "      <td>binaryTrees_2.c 21</td>\n",
       "      <td>19.068004</td>\n",
       "      <td>1643</td>\n",
       "      <td>1.692782e+09</td>\n",
       "      <td>0</td>\n",
       "      <td>0</td>\n",
       "      <td>...</td>\n",
       "      <td>0.0</td>\n",
       "      <td>0.0</td>\n",
       "      <td>0.0</td>\n",
       "      <td>0.0</td>\n",
       "      <td>283.23</td>\n",
       "      <td>234.26</td>\n",
       "      <td>0.28</td>\n",
       "      <td>14.00</td>\n",
       "      <td>0.0</td>\n",
       "      <td>0.0</td>\n",
       "    </tr>\n",
       "    <tr>\n",
       "      <th>2</th>\n",
       "      <td>3</td>\n",
       "      <td>2012-03-13</td>\n",
       "      <td>binaryTrees_21_original</td>\n",
       "      <td>g++-4.4</td>\n",
       "      <td>binaryTrees_2.c 21</td>\n",
       "      <td>19.485950</td>\n",
       "      <td>1584</td>\n",
       "      <td>1.692782e+09</td>\n",
       "      <td>0</td>\n",
       "      <td>0</td>\n",
       "      <td>...</td>\n",
       "      <td>0.0</td>\n",
       "      <td>0.0</td>\n",
       "      <td>0.0</td>\n",
       "      <td>0.0</td>\n",
       "      <td>292.54</td>\n",
       "      <td>242.32</td>\n",
       "      <td>0.27</td>\n",
       "      <td>14.19</td>\n",
       "      <td>0.0</td>\n",
       "      <td>0.0</td>\n",
       "    </tr>\n",
       "    <tr>\n",
       "      <th>3</th>\n",
       "      <td>4</td>\n",
       "      <td>2012-03-13</td>\n",
       "      <td>binaryTrees_21_original</td>\n",
       "      <td>g++-4.4</td>\n",
       "      <td>binaryTrees_2.c 21</td>\n",
       "      <td>19.485471</td>\n",
       "      <td>1601</td>\n",
       "      <td>1.692782e+09</td>\n",
       "      <td>0</td>\n",
       "      <td>0</td>\n",
       "      <td>...</td>\n",
       "      <td>0.0</td>\n",
       "      <td>0.0</td>\n",
       "      <td>0.0</td>\n",
       "      <td>0.0</td>\n",
       "      <td>293.64</td>\n",
       "      <td>243.25</td>\n",
       "      <td>0.28</td>\n",
       "      <td>14.27</td>\n",
       "      <td>0.0</td>\n",
       "      <td>0.0</td>\n",
       "    </tr>\n",
       "    <tr>\n",
       "      <th>4</th>\n",
       "      <td>5</td>\n",
       "      <td>2012-03-13</td>\n",
       "      <td>binaryTrees_21_original</td>\n",
       "      <td>g++-4.4</td>\n",
       "      <td>binaryTrees_2.c 21</td>\n",
       "      <td>19.006089</td>\n",
       "      <td>1641</td>\n",
       "      <td>1.692782e+09</td>\n",
       "      <td>0</td>\n",
       "      <td>0</td>\n",
       "      <td>...</td>\n",
       "      <td>0.0</td>\n",
       "      <td>0.0</td>\n",
       "      <td>0.0</td>\n",
       "      <td>0.0</td>\n",
       "      <td>284.07</td>\n",
       "      <td>234.74</td>\n",
       "      <td>0.27</td>\n",
       "      <td>13.97</td>\n",
       "      <td>0.0</td>\n",
       "      <td>0.0</td>\n",
       "    </tr>\n",
       "    <tr>\n",
       "      <th>...</th>\n",
       "      <td>...</td>\n",
       "      <td>...</td>\n",
       "      <td>...</td>\n",
       "      <td>...</td>\n",
       "      <td>...</td>\n",
       "      <td>...</td>\n",
       "      <td>...</td>\n",
       "      <td>...</td>\n",
       "      <td>...</td>\n",
       "      <td>...</td>\n",
       "      <td>...</td>\n",
       "      <td>...</td>\n",
       "      <td>...</td>\n",
       "      <td>...</td>\n",
       "      <td>...</td>\n",
       "      <td>...</td>\n",
       "      <td>...</td>\n",
       "      <td>...</td>\n",
       "      <td>...</td>\n",
       "      <td>...</td>\n",
       "      <td>...</td>\n",
       "    </tr>\n",
       "    <tr>\n",
       "      <th>5</th>\n",
       "      <td>6</td>\n",
       "      <td>2023-04-26</td>\n",
       "      <td>binaryTrees_21_original</td>\n",
       "      <td>g++-13</td>\n",
       "      <td>binaryTrees_2.c 21</td>\n",
       "      <td>20.287041</td>\n",
       "      <td>1659</td>\n",
       "      <td>1.692786e+09</td>\n",
       "      <td>0</td>\n",
       "      <td>0</td>\n",
       "      <td>...</td>\n",
       "      <td>0.0</td>\n",
       "      <td>0.0</td>\n",
       "      <td>0.0</td>\n",
       "      <td>0.0</td>\n",
       "      <td>309.72</td>\n",
       "      <td>256.90</td>\n",
       "      <td>0.28</td>\n",
       "      <td>14.76</td>\n",
       "      <td>0.0</td>\n",
       "      <td>0.0</td>\n",
       "    </tr>\n",
       "    <tr>\n",
       "      <th>6</th>\n",
       "      <td>7</td>\n",
       "      <td>2023-04-26</td>\n",
       "      <td>binaryTrees_21_original</td>\n",
       "      <td>g++-13</td>\n",
       "      <td>binaryTrees_2.c 21</td>\n",
       "      <td>19.587371</td>\n",
       "      <td>1647</td>\n",
       "      <td>1.692786e+09</td>\n",
       "      <td>0</td>\n",
       "      <td>0</td>\n",
       "      <td>...</td>\n",
       "      <td>0.0</td>\n",
       "      <td>0.0</td>\n",
       "      <td>0.0</td>\n",
       "      <td>0.0</td>\n",
       "      <td>296.12</td>\n",
       "      <td>245.20</td>\n",
       "      <td>0.29</td>\n",
       "      <td>14.47</td>\n",
       "      <td>0.0</td>\n",
       "      <td>0.0</td>\n",
       "    </tr>\n",
       "    <tr>\n",
       "      <th>7</th>\n",
       "      <td>8</td>\n",
       "      <td>2023-04-26</td>\n",
       "      <td>binaryTrees_21_original</td>\n",
       "      <td>g++-13</td>\n",
       "      <td>binaryTrees_2.c 21</td>\n",
       "      <td>20.397967</td>\n",
       "      <td>1678</td>\n",
       "      <td>1.692786e+09</td>\n",
       "      <td>0</td>\n",
       "      <td>0</td>\n",
       "      <td>...</td>\n",
       "      <td>0.0</td>\n",
       "      <td>0.0</td>\n",
       "      <td>0.0</td>\n",
       "      <td>0.0</td>\n",
       "      <td>293.94</td>\n",
       "      <td>240.95</td>\n",
       "      <td>0.28</td>\n",
       "      <td>14.87</td>\n",
       "      <td>0.0</td>\n",
       "      <td>0.0</td>\n",
       "    </tr>\n",
       "    <tr>\n",
       "      <th>8</th>\n",
       "      <td>9</td>\n",
       "      <td>2023-04-26</td>\n",
       "      <td>binaryTrees_21_original</td>\n",
       "      <td>g++-13</td>\n",
       "      <td>binaryTrees_2.c 21</td>\n",
       "      <td>19.797566</td>\n",
       "      <td>1581</td>\n",
       "      <td>1.692786e+09</td>\n",
       "      <td>0</td>\n",
       "      <td>0</td>\n",
       "      <td>...</td>\n",
       "      <td>0.0</td>\n",
       "      <td>0.0</td>\n",
       "      <td>0.0</td>\n",
       "      <td>0.0</td>\n",
       "      <td>291.21</td>\n",
       "      <td>239.59</td>\n",
       "      <td>0.28</td>\n",
       "      <td>14.61</td>\n",
       "      <td>0.0</td>\n",
       "      <td>0.0</td>\n",
       "    </tr>\n",
       "    <tr>\n",
       "      <th>9</th>\n",
       "      <td>10</td>\n",
       "      <td>2023-04-26</td>\n",
       "      <td>binaryTrees_21_original</td>\n",
       "      <td>g++-13</td>\n",
       "      <td>binaryTrees_2.c 21</td>\n",
       "      <td>20.948406</td>\n",
       "      <td>1589</td>\n",
       "      <td>1.692786e+09</td>\n",
       "      <td>0</td>\n",
       "      <td>0</td>\n",
       "      <td>...</td>\n",
       "      <td>0.0</td>\n",
       "      <td>0.0</td>\n",
       "      <td>0.0</td>\n",
       "      <td>0.0</td>\n",
       "      <td>264.71</td>\n",
       "      <td>210.28</td>\n",
       "      <td>0.28</td>\n",
       "      <td>15.17</td>\n",
       "      <td>0.0</td>\n",
       "      <td>0.0</td>\n",
       "    </tr>\n",
       "  </tbody>\n",
       "</table>\n",
       "<p>140 rows × 63 columns</p>\n",
       "</div>"
      ],
      "text/plain": [
       "    test release_date                     path  version        appplication  \\\n",
       "0      1   2012-03-13  binaryTrees_21_original  g++-4.4  binaryTrees_2.c 21   \n",
       "1      2   2012-03-13  binaryTrees_21_original  g++-4.4  binaryTrees_2.c 21   \n",
       "2      3   2012-03-13  binaryTrees_21_original  g++-4.4  binaryTrees_2.c 21   \n",
       "3      4   2012-03-13  binaryTrees_21_original  g++-4.4  binaryTrees_2.c 21   \n",
       "4      5   2012-03-13  binaryTrees_21_original  g++-4.4  binaryTrees_2.c 21   \n",
       "..   ...          ...                      ...      ...                 ...   \n",
       "5      6   2023-04-26  binaryTrees_21_original   g++-13  binaryTrees_2.c 21   \n",
       "6      7   2023-04-26  binaryTrees_21_original   g++-13  binaryTrees_2.c 21   \n",
       "7      8   2023-04-26  binaryTrees_21_original   g++-13  binaryTrees_2.c 21   \n",
       "8      9   2023-04-26  binaryTrees_21_original   g++-13  binaryTrees_2.c 21   \n",
       "9     10   2023-04-26  binaryTrees_21_original   g++-13  binaryTrees_2.c 21   \n",
       "\n",
       "    time_elapsed  usec  Time_Of_Day_Seconds  APIC  X2APIC  ...  Pkg%pc9  \\\n",
       "0      19.012345  1575         1.692782e+09     0       0  ...      0.0   \n",
       "1      19.068004  1643         1.692782e+09     0       0  ...      0.0   \n",
       "2      19.485950  1584         1.692782e+09     0       0  ...      0.0   \n",
       "3      19.485471  1601         1.692782e+09     0       0  ...      0.0   \n",
       "4      19.006089  1641         1.692782e+09     0       0  ...      0.0   \n",
       "..           ...   ...                  ...   ...     ...  ...      ...   \n",
       "5      20.287041  1659         1.692786e+09     0       0  ...      0.0   \n",
       "6      19.587371  1647         1.692786e+09     0       0  ...      0.0   \n",
       "7      20.397967  1678         1.692786e+09     0       0  ...      0.0   \n",
       "8      19.797566  1581         1.692786e+09     0       0  ...      0.0   \n",
       "9      20.948406  1589         1.692786e+09     0       0  ...      0.0   \n",
       "\n",
       "    Pk%pc10  CPU%LPI  SYS%LPI   Pkg_J   Cor_J  GFX_J  RAM_J  PKG_%  RAM_%  \n",
       "0       0.0      0.0      0.0  276.73  228.10   0.26  14.03    0.0    0.0  \n",
       "1       0.0      0.0      0.0  283.23  234.26   0.28  14.00    0.0    0.0  \n",
       "2       0.0      0.0      0.0  292.54  242.32   0.27  14.19    0.0    0.0  \n",
       "3       0.0      0.0      0.0  293.64  243.25   0.28  14.27    0.0    0.0  \n",
       "4       0.0      0.0      0.0  284.07  234.74   0.27  13.97    0.0    0.0  \n",
       "..      ...      ...      ...     ...     ...    ...    ...    ...    ...  \n",
       "5       0.0      0.0      0.0  309.72  256.90   0.28  14.76    0.0    0.0  \n",
       "6       0.0      0.0      0.0  296.12  245.20   0.29  14.47    0.0    0.0  \n",
       "7       0.0      0.0      0.0  293.94  240.95   0.28  14.87    0.0    0.0  \n",
       "8       0.0      0.0      0.0  291.21  239.59   0.28  14.61    0.0    0.0  \n",
       "9       0.0      0.0      0.0  264.71  210.28   0.28  15.17    0.0    0.0  \n",
       "\n",
       "[140 rows x 63 columns]"
      ]
     },
     "execution_count": 6,
     "metadata": {},
     "output_type": "execute_result"
    }
   ],
   "source": [
    "language = \"c++\"\n",
    "\n",
    "df = from_CSVfiles(\"turbostat\", norm=False)\n",
    "df"
   ]
  },
  {
   "cell_type": "code",
   "execution_count": 65,
   "metadata": {},
   "outputs": [
    {
     "data": {
      "text/html": [
       "<div>\n",
       "<style scoped>\n",
       "    .dataframe tbody tr th:only-of-type {\n",
       "        vertical-align: middle;\n",
       "    }\n",
       "\n",
       "    .dataframe tbody tr th {\n",
       "        vertical-align: top;\n",
       "    }\n",
       "\n",
       "    .dataframe thead th {\n",
       "        text-align: right;\n",
       "    }\n",
       "</style>\n",
       "<table border=\"1\" class=\"dataframe\">\n",
       "  <thead>\n",
       "    <tr style=\"text-align: right;\">\n",
       "      <th></th>\n",
       "      <th>version</th>\n",
       "      <th>path</th>\n",
       "      <th>Pkg_J</th>\n",
       "      <th>Cor_J</th>\n",
       "      <th>RAM_J</th>\n",
       "      <th>time_elapsed</th>\n",
       "    </tr>\n",
       "  </thead>\n",
       "  <tbody>\n",
       "    <tr>\n",
       "      <th>0</th>\n",
       "      <td>g++-4.4</td>\n",
       "      <td>binaryTrees_21_original</td>\n",
       "      <td>291.800</td>\n",
       "      <td>241.565</td>\n",
       "      <td>14.165</td>\n",
       "      <td>19.269851</td>\n",
       "    </tr>\n",
       "    <tr>\n",
       "      <th>1</th>\n",
       "      <td>g++-4.6</td>\n",
       "      <td>binaryTrees_21_original</td>\n",
       "      <td>277.860</td>\n",
       "      <td>229.085</td>\n",
       "      <td>13.790</td>\n",
       "      <td>18.632323</td>\n",
       "    </tr>\n",
       "    <tr>\n",
       "      <th>2</th>\n",
       "      <td>g++-4.7</td>\n",
       "      <td>binaryTrees_21_original</td>\n",
       "      <td>279.755</td>\n",
       "      <td>231.575</td>\n",
       "      <td>13.855</td>\n",
       "      <td>18.763978</td>\n",
       "    </tr>\n",
       "    <tr>\n",
       "      <th>3</th>\n",
       "      <td>g++-4.8</td>\n",
       "      <td>binaryTrees_21_original</td>\n",
       "      <td>280.020</td>\n",
       "      <td>231.135</td>\n",
       "      <td>13.845</td>\n",
       "      <td>18.770183</td>\n",
       "    </tr>\n",
       "    <tr>\n",
       "      <th>4</th>\n",
       "      <td>g++-4.9</td>\n",
       "      <td>binaryTrees_21_original</td>\n",
       "      <td>275.015</td>\n",
       "      <td>226.885</td>\n",
       "      <td>13.740</td>\n",
       "      <td>18.530828</td>\n",
       "    </tr>\n",
       "    <tr>\n",
       "      <th>5</th>\n",
       "      <td>g++-5</td>\n",
       "      <td>binaryTrees_21_original</td>\n",
       "      <td>271.960</td>\n",
       "      <td>223.825</td>\n",
       "      <td>13.710</td>\n",
       "      <td>18.495283</td>\n",
       "    </tr>\n",
       "    <tr>\n",
       "      <th>6</th>\n",
       "      <td>g++-6</td>\n",
       "      <td>binaryTrees_21_original</td>\n",
       "      <td>275.320</td>\n",
       "      <td>225.695</td>\n",
       "      <td>13.895</td>\n",
       "      <td>18.846100</td>\n",
       "    </tr>\n",
       "    <tr>\n",
       "      <th>7</th>\n",
       "      <td>g++-7</td>\n",
       "      <td>binaryTrees_21_original</td>\n",
       "      <td>283.110</td>\n",
       "      <td>232.200</td>\n",
       "      <td>14.065</td>\n",
       "      <td>19.115922</td>\n",
       "    </tr>\n",
       "    <tr>\n",
       "      <th>8</th>\n",
       "      <td>g++-8</td>\n",
       "      <td>binaryTrees_21_original</td>\n",
       "      <td>283.805</td>\n",
       "      <td>234.205</td>\n",
       "      <td>14.040</td>\n",
       "      <td>19.102328</td>\n",
       "    </tr>\n",
       "    <tr>\n",
       "      <th>9</th>\n",
       "      <td>g++-9</td>\n",
       "      <td>binaryTrees_21_original</td>\n",
       "      <td>289.715</td>\n",
       "      <td>238.970</td>\n",
       "      <td>14.340</td>\n",
       "      <td>19.674847</td>\n",
       "    </tr>\n",
       "    <tr>\n",
       "      <th>10</th>\n",
       "      <td>g++-10</td>\n",
       "      <td>binaryTrees_21_original</td>\n",
       "      <td>288.445</td>\n",
       "      <td>237.465</td>\n",
       "      <td>14.255</td>\n",
       "      <td>19.560124</td>\n",
       "    </tr>\n",
       "    <tr>\n",
       "      <th>11</th>\n",
       "      <td>g++-11</td>\n",
       "      <td>binaryTrees_21_original</td>\n",
       "      <td>294.060</td>\n",
       "      <td>243.140</td>\n",
       "      <td>14.390</td>\n",
       "      <td>19.722264</td>\n",
       "    </tr>\n",
       "    <tr>\n",
       "      <th>12</th>\n",
       "      <td>g++-12</td>\n",
       "      <td>binaryTrees_21_original</td>\n",
       "      <td>292.690</td>\n",
       "      <td>241.770</td>\n",
       "      <td>14.565</td>\n",
       "      <td>19.864070</td>\n",
       "    </tr>\n",
       "    <tr>\n",
       "      <th>13</th>\n",
       "      <td>g++-13</td>\n",
       "      <td>binaryTrees_21_original</td>\n",
       "      <td>294.590</td>\n",
       "      <td>243.200</td>\n",
       "      <td>14.495</td>\n",
       "      <td>19.771586</td>\n",
       "    </tr>\n",
       "  </tbody>\n",
       "</table>\n",
       "</div>"
      ],
      "text/plain": [
       "    version                     path    Pkg_J    Cor_J   RAM_J  time_elapsed\n",
       "0   g++-4.4  binaryTrees_21_original  291.800  241.565  14.165     19.269851\n",
       "1   g++-4.6  binaryTrees_21_original  277.860  229.085  13.790     18.632323\n",
       "2   g++-4.7  binaryTrees_21_original  279.755  231.575  13.855     18.763978\n",
       "3   g++-4.8  binaryTrees_21_original  280.020  231.135  13.845     18.770183\n",
       "4   g++-4.9  binaryTrees_21_original  275.015  226.885  13.740     18.530828\n",
       "5     g++-5  binaryTrees_21_original  271.960  223.825  13.710     18.495283\n",
       "6     g++-6  binaryTrees_21_original  275.320  225.695  13.895     18.846100\n",
       "7     g++-7  binaryTrees_21_original  283.110  232.200  14.065     19.115922\n",
       "8     g++-8  binaryTrees_21_original  283.805  234.205  14.040     19.102328\n",
       "9     g++-9  binaryTrees_21_original  289.715  238.970  14.340     19.674847\n",
       "10   g++-10  binaryTrees_21_original  288.445  237.465  14.255     19.560124\n",
       "11   g++-11  binaryTrees_21_original  294.060  243.140  14.390     19.722264\n",
       "12   g++-12  binaryTrees_21_original  292.690  241.770  14.565     19.864070\n",
       "13   g++-13  binaryTrees_21_original  294.590  243.200  14.495     19.771586"
      ]
     },
     "execution_count": 65,
     "metadata": {},
     "output_type": "execute_result"
    }
   ],
   "source": [
    "df_median = df.groupby([\"version\",\"path\"], sort=False)[[\"Pkg_J\",\"Cor_J\",\"RAM_J\", \"time_elapsed\"]].median().reset_index()\n",
    "df_median"
   ]
  },
  {
   "cell_type": "code",
   "execution_count": 132,
   "metadata": {},
   "outputs": [
    {
     "data": {
      "application/vnd.plotly.v1+json": {
       "config": {
        "plotlyServerURL": "https://plot.ly"
       },
       "data": [
        {
         "hovertemplate": "version=g++-4.4<br>time_elapsed=%{x}<br>Pkg_J=%{y}<extra></extra>",
         "legendgroup": "g++-4.4",
         "marker": {
          "color": "#636efa",
          "symbol": "circle"
         },
         "mode": "markers",
         "name": "g++-4.4",
         "orientation": "v",
         "showlegend": true,
         "type": "scatter",
         "x": [
          19.012345,
          19.068004,
          19.48595,
          19.485471,
          19.006089,
          19.268487,
          19.271215,
          19.474061,
          19.79699,
          19.25266
         ],
         "xaxis": "x",
         "y": [
          276.73,
          283.23,
          292.54,
          293.64,
          284.07,
          287.17,
          291.53,
          293.55,
          298.61,
          292.07
         ],
         "yaxis": "y"
        },
        {
         "hovertemplate": "version=g++-4.6<br>time_elapsed=%{x}<br>Pkg_J=%{y}<extra></extra>",
         "legendgroup": "g++-4.6",
         "marker": {
          "color": "#EF553B",
          "symbol": "circle"
         },
         "mode": "markers",
         "name": "g++-4.6",
         "orientation": "v",
         "showlegend": true,
         "type": "scatter",
         "x": [
          18.45464,
          18.380234,
          18.344352,
          18.547231,
          18.600965,
          18.796496,
          18.774649,
          18.733993,
          18.663682,
          18.66999
         ],
         "xaxis": "x",
         "y": [
          269.19,
          269.33,
          271.38,
          280.13,
          278.99,
          275.38,
          279.64,
          276.84,
          279,
          278.88
         ],
         "yaxis": "y"
        },
        {
         "hovertemplate": "version=g++-4.7<br>time_elapsed=%{x}<br>Pkg_J=%{y}<extra></extra>",
         "legendgroup": "g++-4.7",
         "marker": {
          "color": "#00cc96",
          "symbol": "circle"
         },
         "mode": "markers",
         "name": "g++-4.7",
         "orientation": "v",
         "showlegend": true,
         "type": "scatter",
         "x": [
          18.649621,
          18.665314,
          18.606044,
          18.718517,
          18.707071,
          19.11845,
          18.809439,
          18.816295,
          18.996665,
          19.192968
         ],
         "xaxis": "x",
         "y": [
          270.35,
          279.98,
          279.53,
          283.89,
          282.44,
          277.3,
          283.81,
          281.06,
          275.63,
          274.91
         ],
         "yaxis": "y"
        },
        {
         "hovertemplate": "version=g++-4.8<br>time_elapsed=%{x}<br>Pkg_J=%{y}<extra></extra>",
         "legendgroup": "g++-4.8",
         "marker": {
          "color": "#ab63fa",
          "symbol": "circle"
         },
         "mode": "markers",
         "name": "g++-4.8",
         "orientation": "v",
         "showlegend": true,
         "type": "scatter",
         "x": [
          18.514033,
          18.728872,
          18.711322,
          18.60818,
          18.712145,
          18.905862,
          18.936769,
          18.821412,
          18.906184,
          18.811494
         ],
         "xaxis": "x",
         "y": [
          270.8,
          278.26,
          280.91,
          274.76,
          281.36,
          285.65,
          270.03,
          281.31,
          281.33,
          279.13
         ],
         "yaxis": "y"
        },
        {
         "hovertemplate": "version=g++-4.9<br>time_elapsed=%{x}<br>Pkg_J=%{y}<extra></extra>",
         "legendgroup": "g++-4.9",
         "marker": {
          "color": "#FFA15A",
          "symbol": "circle"
         },
         "mode": "markers",
         "name": "g++-4.9",
         "orientation": "v",
         "showlegend": true,
         "type": "scatter",
         "x": [
          18.395804,
          18.363616,
          18.423788,
          18.514807,
          18.471405,
          18.755247,
          18.725226,
          18.54685,
          18.778535,
          18.687344
         ],
         "xaxis": "x",
         "y": [
          269.7,
          273.86,
          270.55,
          281.56,
          276.88,
          268.72,
          276.19,
          276.35,
          271.26,
          276.17
         ],
         "yaxis": "y"
        },
        {
         "hovertemplate": "version=g++-5<br>time_elapsed=%{x}<br>Pkg_J=%{y}<extra></extra>",
         "legendgroup": "g++-5",
         "marker": {
          "color": "#19d3f3",
          "symbol": "circle"
         },
         "mode": "markers",
         "name": "g++-5",
         "orientation": "v",
         "showlegend": true,
         "type": "scatter",
         "x": [
          18.229085,
          18.21793,
          18.185922,
          18.346837,
          18.74941,
          18.302186,
          18.64373,
          18.799245,
          18.962127,
          18.661617
         ],
         "xaxis": "x",
         "y": [
          266.37,
          272.14,
          273.27,
          276.74,
          269.28,
          271.78,
          270.5,
          272.5,
          267.42,
          274.26
         ],
         "yaxis": "y"
        },
        {
         "hovertemplate": "version=g++-6<br>time_elapsed=%{x}<br>Pkg_J=%{y}<extra></extra>",
         "legendgroup": "g++-6",
         "marker": {
          "color": "#FF6692",
          "symbol": "circle"
         },
         "mode": "markers",
         "name": "g++-6",
         "orientation": "v",
         "showlegend": true,
         "type": "scatter",
         "x": [
          18.535857,
          18.670766,
          18.720573,
          18.650063,
          18.777439,
          19.150556,
          19.153943,
          19.116595,
          19.00819,
          18.914761
         ],
         "xaxis": "x",
         "y": [
          269.48,
          281.78,
          278.86,
          282.06,
          282.84,
          273.75,
          273.98,
          271.36,
          276.66,
          271.33
         ],
         "yaxis": "y"
        },
        {
         "hovertemplate": "version=g++-7<br>time_elapsed=%{x}<br>Pkg_J=%{y}<extra></extra>",
         "legendgroup": "g++-7",
         "marker": {
          "color": "#B6E880",
          "symbol": "circle"
         },
         "mode": "markers",
         "name": "g++-7",
         "orientation": "v",
         "showlegend": true,
         "type": "scatter",
         "x": [
          18.922215,
          18.9776,
          19.019648,
          19.012149,
          19.031726,
          19.524324,
          19.767512,
          19.200118,
          19.777524,
          19.652129
         ],
         "xaxis": "x",
         "y": [
          279.77,
          280.13,
          291.17,
          286.18,
          288.02,
          281.75,
          284.35,
          287.38,
          281.87,
          278.25
         ],
         "yaxis": "y"
        },
        {
         "hovertemplate": "version=g++-8<br>time_elapsed=%{x}<br>Pkg_J=%{y}<extra></extra>",
         "legendgroup": "g++-8",
         "marker": {
          "color": "#FF97FF",
          "symbol": "circle"
         },
         "mode": "markers",
         "name": "g++-8",
         "orientation": "v",
         "showlegend": true,
         "type": "scatter",
         "x": [
          18.895485,
          18.969705,
          19.189305,
          19.079588,
          19.061486,
          20.189262,
          20.290944,
          19.049993,
          19.125067,
          19.697991
         ],
         "xaxis": "x",
         "y": [
          278.09,
          284.56,
          283.05,
          284.93,
          287.02,
          304.4,
          352.36,
          276.9,
          280.69,
          273.23
         ],
         "yaxis": "y"
        },
        {
         "hovertemplate": "version=g++-9<br>time_elapsed=%{x}<br>Pkg_J=%{y}<extra></extra>",
         "legendgroup": "g++-9",
         "marker": {
          "color": "#FECB52",
          "symbol": "circle"
         },
         "mode": "markers",
         "name": "g++-9",
         "orientation": "v",
         "showlegend": true,
         "type": "scatter",
         "x": [
          19.382183,
          19.402305,
          19.529972,
          19.79632,
          19.472186,
          19.610724,
          19.73897,
          20.079884,
          20.065399,
          20.163658
         ],
         "xaxis": "x",
         "y": [
          288.96,
          291.21,
          290.62,
          292,
          294.08,
          289.67,
          289.76,
          287.17,
          286.6,
          281.55
         ],
         "yaxis": "y"
        },
        {
         "hovertemplate": "version=g++-10<br>time_elapsed=%{x}<br>Pkg_J=%{y}<extra></extra>",
         "legendgroup": "g++-10",
         "marker": {
          "color": "#636efa",
          "symbol": "circle"
         },
         "mode": "markers",
         "name": "g++-10",
         "orientation": "v",
         "showlegend": true,
         "type": "scatter",
         "x": [
          19.198182,
          19.261238,
          19.531092,
          19.195272,
          19.40385,
          19.589156,
          20.036617,
          19.994316,
          20.031973,
          19.690765
         ],
         "xaxis": "x",
         "y": [
          275.79,
          285.48,
          291.66,
          288.9,
          294.17,
          290.75,
          287.99,
          287.16,
          286.31,
          293.54
         ],
         "yaxis": "y"
        },
        {
         "hovertemplate": "version=g++-11<br>time_elapsed=%{x}<br>Pkg_J=%{y}<extra></extra>",
         "legendgroup": "g++-11",
         "marker": {
          "color": "#EF553B",
          "symbol": "circle"
         },
         "mode": "markers",
         "name": "g++-11",
         "orientation": "v",
         "showlegend": true,
         "type": "scatter",
         "x": [
          19.393586,
          19.461703,
          19.533421,
          20.048278,
          19.826333,
          19.674986,
          19.769541,
          20.0185,
          19.618648,
          20.817297
         ],
         "xaxis": "x",
         "y": [
          286.25,
          304.56,
          294.95,
          297.5,
          299.43,
          299.54,
          290.95,
          285.99,
          293.17,
          269.07
         ],
         "yaxis": "y"
        },
        {
         "hovertemplate": "version=g++-12<br>time_elapsed=%{x}<br>Pkg_J=%{y}<extra></extra>",
         "legendgroup": "g++-12",
         "marker": {
          "color": "#00cc96",
          "symbol": "circle"
         },
         "mode": "markers",
         "name": "g++-12",
         "orientation": "v",
         "showlegend": true,
         "type": "scatter",
         "x": [
          19.594491,
          19.611646,
          19.45969,
          19.801702,
          19.731188,
          20.012951,
          20.194771,
          19.926438,
          20.195806,
          20.441522
         ],
         "xaxis": "x",
         "y": [
          282.32,
          292.88,
          292.5,
          294.83,
          296.52,
          300.36,
          290.87,
          293.35,
          289.18,
          281.43
         ],
         "yaxis": "y"
        },
        {
         "hovertemplate": "version=g++-13<br>time_elapsed=%{x}<br>Pkg_J=%{y}<extra></extra>",
         "legendgroup": "g++-13",
         "marker": {
          "color": "#ab63fa",
          "symbol": "circle"
         },
         "mode": "markers",
         "name": "g++-13",
         "orientation": "v",
         "showlegend": true,
         "type": "scatter",
         "x": [
          19.228001,
          19.285689,
          19.812221,
          19.745607,
          19.578513,
          20.287041,
          19.587371,
          20.397967,
          19.797566,
          20.948406
         ],
         "xaxis": "x",
         "y": [
          281.68,
          295.24,
          298.2,
          292.67,
          296.15,
          309.72,
          296.12,
          293.94,
          291.21,
          264.71
         ],
         "yaxis": "y"
        },
        {
         "hovertemplate": "<b>OLS trendline</b><br>Pkg_J = 10.8543 * time_elapsed + 75.1278<br>R<sup>2</sup>=0.337110<br><br>time_elapsed=%{x}<br>Pkg_J=%{y} <b>(trend)</b><extra></extra>",
         "legendgroup": "Overall Trendline",
         "line": {
          "color": "#FFA15A"
         },
         "mode": "lines",
         "name": "Overall Trendline",
         "showlegend": true,
         "type": "scatter",
         "x": [
          18.185922,
          18.21793,
          18.229085,
          18.302186,
          18.344352,
          18.346837,
          18.363616,
          18.380234,
          18.395804,
          18.423788,
          18.45464,
          18.471405,
          18.514033,
          18.514807,
          18.535857,
          18.54685,
          18.547231,
          18.600965,
          18.606044,
          18.60818,
          18.64373,
          18.649621,
          18.650063,
          18.661617,
          18.663682,
          18.665314,
          18.66999,
          18.670766,
          18.687344,
          18.707071,
          18.711322,
          18.712145,
          18.718517,
          18.720573,
          18.725226,
          18.728872,
          18.733993,
          18.74941,
          18.755247,
          18.774649,
          18.777439,
          18.778535,
          18.796496,
          18.799245,
          18.809439,
          18.811494,
          18.816295,
          18.821412,
          18.895485,
          18.905862,
          18.906184,
          18.914761,
          18.922215,
          18.936769,
          18.962127,
          18.969705,
          18.9776,
          18.996665,
          19.006089,
          19.00819,
          19.012149,
          19.012345,
          19.019648,
          19.031726,
          19.049993,
          19.061486,
          19.068004,
          19.079588,
          19.116595,
          19.11845,
          19.125067,
          19.150556,
          19.153943,
          19.189305,
          19.192968,
          19.195272,
          19.198182,
          19.200118,
          19.228001,
          19.25266,
          19.261238,
          19.268487,
          19.271215,
          19.285689,
          19.382183,
          19.393586,
          19.402305,
          19.40385,
          19.45969,
          19.461703,
          19.472186,
          19.474061,
          19.485471,
          19.48595,
          19.524324,
          19.529972,
          19.531092,
          19.533421,
          19.578513,
          19.587371,
          19.589156,
          19.594491,
          19.610724,
          19.611646,
          19.618648,
          19.652129,
          19.674986,
          19.690765,
          19.697991,
          19.731188,
          19.73897,
          19.745607,
          19.767512,
          19.769541,
          19.777524,
          19.79632,
          19.79699,
          19.797566,
          19.801702,
          19.812221,
          19.826333,
          19.926438,
          19.994316,
          20.012951,
          20.0185,
          20.031973,
          20.036617,
          20.048278,
          20.065399,
          20.079884,
          20.163658,
          20.189262,
          20.194771,
          20.195806,
          20.287041,
          20.290944,
          20.397967,
          20.441522,
          20.817297,
          20.948406
         ],
         "xaxis": "x",
         "y": [
          272.52264343099125,
          272.87006676782926,
          272.99114610182164,
          273.78460377947084,
          274.2422847473887,
          274.26925759767744,
          274.45138132202146,
          274.6317575095863,
          274.80075842668725,
          275.1045041983092,
          275.4393800039868,
          275.6213517686109,
          276.08404740728656,
          276.0924486089459,
          276.3209309021364,
          276.4402518450838,
          276.4443873203192,
          277.0276304339675,
          277.0827592495074,
          277.1059439610634,
          277.49181310704546,
          277.55575558634166,
          277.56055317178533,
          277.6859633577959,
          277.7083774164866,
          277.72609157812485,
          277.7768461245837,
          277.7852690347745,
          277.9652110517109,
          278.17933315136736,
          278.22547463489957,
          278.23440769557874,
          278.3035710766813,
          278.3258874469806,
          278.3763923453281,
          278.4159669981059,
          278.47155169280563,
          278.63889190725297,
          278.70224825620085,
          278.9128427195016,
          278.94312612083183,
          278.9550223960498,
          279.1499758624628,
          279.17981423889887,
          279.2904626235442,
          279.31276813957777,
          279.36487946925035,
          279.42042074688715,
          280.2244287708063,
          280.33706348607643,
          280.34055855963504,
          280.4336555966276,
          280.5145632932282,
          280.6725362763681,
          280.94777874623617,
          281.0300323717847,
          281.1157267995633,
          281.32266337531985,
          281.4249539753687,
          281.4477587876248,
          281.4907308255698,
          281.49285826164896,
          281.5721269641273,
          281.7032247853698,
          281.90149965708997,
          282.0262477328923,
          282.0969958367885,
          282.22273165077036,
          282.6244154618915,
          282.6445501247831,
          282.7163728009846,
          282.99303717966075,
          283.02980057761965,
          283.4136291216482,
          283.4533882969431,
          283.47839652513835,
          283.50998243835375,
          283.53099629676785,
          283.8336457875531,
          284.1013011256901,
          284.1944090169484,
          284.2730915890785,
          284.30270202593476,
          284.4598066678178,
          285.5071781832155,
          285.63094937510385,
          285.72558771782724,
          285.74235755834883,
          286.34845975558187,
          286.3703093924556,
          286.48409465989107,
          286.5044464080969,
          286.62829357984526,
          286.6334927731202,
          287.0500143654666,
          287.1113192581953,
          287.12347603579025,
          287.1487556206283,
          287.63819617001286,
          287.7343432556699,
          287.75371811996183,
          287.8116256275234,
          287.98782292279,
          287.9978305557743,
          288.0738321242741,
          288.4372437945026,
          288.68533974583056,
          288.8566092044649,
          288.9350421284836,
          289.29537118725057,
          289.3798390830039,
          289.45187884451957,
          289.6896415348919,
          289.711664840017,
          289.798314443178,
          290.0023312214587,
          290.00960357948424,
          290.01585563653305,
          290.06074887950865,
          290.1749249005096,
          290.32810029820575,
          291.4146665670814,
          292.15143241492854,
          292.3537016564299,
          292.41393197685335,
          292.56017149876095,
          292.61057870871707,
          292.73715030115864,
          292.9229861843754,
          293.0802102231813,
          293.98951547875083,
          294.26742809798355,
          294.32722424777864,
          294.3384584127882,
          295.3287473448182,
          295.37111154388344,
          296.5327676229392,
          297.0055251659278,
          301.0842868630132,
          302.50737878595424
         ],
         "yaxis": "y"
        }
       ],
       "layout": {
        "legend": {
         "title": {
          "text": "version"
         },
         "tracegroupgap": 0
        },
        "margin": {
         "t": 60
        },
        "template": {
         "data": {
          "bar": [
           {
            "error_x": {
             "color": "#2a3f5f"
            },
            "error_y": {
             "color": "#2a3f5f"
            },
            "marker": {
             "line": {
              "color": "#E5ECF6",
              "width": 0.5
             },
             "pattern": {
              "fillmode": "overlay",
              "size": 10,
              "solidity": 0.2
             }
            },
            "type": "bar"
           }
          ],
          "barpolar": [
           {
            "marker": {
             "line": {
              "color": "#E5ECF6",
              "width": 0.5
             },
             "pattern": {
              "fillmode": "overlay",
              "size": 10,
              "solidity": 0.2
             }
            },
            "type": "barpolar"
           }
          ],
          "carpet": [
           {
            "aaxis": {
             "endlinecolor": "#2a3f5f",
             "gridcolor": "white",
             "linecolor": "white",
             "minorgridcolor": "white",
             "startlinecolor": "#2a3f5f"
            },
            "baxis": {
             "endlinecolor": "#2a3f5f",
             "gridcolor": "white",
             "linecolor": "white",
             "minorgridcolor": "white",
             "startlinecolor": "#2a3f5f"
            },
            "type": "carpet"
           }
          ],
          "choropleth": [
           {
            "colorbar": {
             "outlinewidth": 0,
             "ticks": ""
            },
            "type": "choropleth"
           }
          ],
          "contour": [
           {
            "colorbar": {
             "outlinewidth": 0,
             "ticks": ""
            },
            "colorscale": [
             [
              0,
              "#0d0887"
             ],
             [
              0.1111111111111111,
              "#46039f"
             ],
             [
              0.2222222222222222,
              "#7201a8"
             ],
             [
              0.3333333333333333,
              "#9c179e"
             ],
             [
              0.4444444444444444,
              "#bd3786"
             ],
             [
              0.5555555555555556,
              "#d8576b"
             ],
             [
              0.6666666666666666,
              "#ed7953"
             ],
             [
              0.7777777777777778,
              "#fb9f3a"
             ],
             [
              0.8888888888888888,
              "#fdca26"
             ],
             [
              1,
              "#f0f921"
             ]
            ],
            "type": "contour"
           }
          ],
          "contourcarpet": [
           {
            "colorbar": {
             "outlinewidth": 0,
             "ticks": ""
            },
            "type": "contourcarpet"
           }
          ],
          "heatmap": [
           {
            "colorbar": {
             "outlinewidth": 0,
             "ticks": ""
            },
            "colorscale": [
             [
              0,
              "#0d0887"
             ],
             [
              0.1111111111111111,
              "#46039f"
             ],
             [
              0.2222222222222222,
              "#7201a8"
             ],
             [
              0.3333333333333333,
              "#9c179e"
             ],
             [
              0.4444444444444444,
              "#bd3786"
             ],
             [
              0.5555555555555556,
              "#d8576b"
             ],
             [
              0.6666666666666666,
              "#ed7953"
             ],
             [
              0.7777777777777778,
              "#fb9f3a"
             ],
             [
              0.8888888888888888,
              "#fdca26"
             ],
             [
              1,
              "#f0f921"
             ]
            ],
            "type": "heatmap"
           }
          ],
          "heatmapgl": [
           {
            "colorbar": {
             "outlinewidth": 0,
             "ticks": ""
            },
            "colorscale": [
             [
              0,
              "#0d0887"
             ],
             [
              0.1111111111111111,
              "#46039f"
             ],
             [
              0.2222222222222222,
              "#7201a8"
             ],
             [
              0.3333333333333333,
              "#9c179e"
             ],
             [
              0.4444444444444444,
              "#bd3786"
             ],
             [
              0.5555555555555556,
              "#d8576b"
             ],
             [
              0.6666666666666666,
              "#ed7953"
             ],
             [
              0.7777777777777778,
              "#fb9f3a"
             ],
             [
              0.8888888888888888,
              "#fdca26"
             ],
             [
              1,
              "#f0f921"
             ]
            ],
            "type": "heatmapgl"
           }
          ],
          "histogram": [
           {
            "marker": {
             "pattern": {
              "fillmode": "overlay",
              "size": 10,
              "solidity": 0.2
             }
            },
            "type": "histogram"
           }
          ],
          "histogram2d": [
           {
            "colorbar": {
             "outlinewidth": 0,
             "ticks": ""
            },
            "colorscale": [
             [
              0,
              "#0d0887"
             ],
             [
              0.1111111111111111,
              "#46039f"
             ],
             [
              0.2222222222222222,
              "#7201a8"
             ],
             [
              0.3333333333333333,
              "#9c179e"
             ],
             [
              0.4444444444444444,
              "#bd3786"
             ],
             [
              0.5555555555555556,
              "#d8576b"
             ],
             [
              0.6666666666666666,
              "#ed7953"
             ],
             [
              0.7777777777777778,
              "#fb9f3a"
             ],
             [
              0.8888888888888888,
              "#fdca26"
             ],
             [
              1,
              "#f0f921"
             ]
            ],
            "type": "histogram2d"
           }
          ],
          "histogram2dcontour": [
           {
            "colorbar": {
             "outlinewidth": 0,
             "ticks": ""
            },
            "colorscale": [
             [
              0,
              "#0d0887"
             ],
             [
              0.1111111111111111,
              "#46039f"
             ],
             [
              0.2222222222222222,
              "#7201a8"
             ],
             [
              0.3333333333333333,
              "#9c179e"
             ],
             [
              0.4444444444444444,
              "#bd3786"
             ],
             [
              0.5555555555555556,
              "#d8576b"
             ],
             [
              0.6666666666666666,
              "#ed7953"
             ],
             [
              0.7777777777777778,
              "#fb9f3a"
             ],
             [
              0.8888888888888888,
              "#fdca26"
             ],
             [
              1,
              "#f0f921"
             ]
            ],
            "type": "histogram2dcontour"
           }
          ],
          "mesh3d": [
           {
            "colorbar": {
             "outlinewidth": 0,
             "ticks": ""
            },
            "type": "mesh3d"
           }
          ],
          "parcoords": [
           {
            "line": {
             "colorbar": {
              "outlinewidth": 0,
              "ticks": ""
             }
            },
            "type": "parcoords"
           }
          ],
          "pie": [
           {
            "automargin": true,
            "type": "pie"
           }
          ],
          "scatter": [
           {
            "fillpattern": {
             "fillmode": "overlay",
             "size": 10,
             "solidity": 0.2
            },
            "type": "scatter"
           }
          ],
          "scatter3d": [
           {
            "line": {
             "colorbar": {
              "outlinewidth": 0,
              "ticks": ""
             }
            },
            "marker": {
             "colorbar": {
              "outlinewidth": 0,
              "ticks": ""
             }
            },
            "type": "scatter3d"
           }
          ],
          "scattercarpet": [
           {
            "marker": {
             "colorbar": {
              "outlinewidth": 0,
              "ticks": ""
             }
            },
            "type": "scattercarpet"
           }
          ],
          "scattergeo": [
           {
            "marker": {
             "colorbar": {
              "outlinewidth": 0,
              "ticks": ""
             }
            },
            "type": "scattergeo"
           }
          ],
          "scattergl": [
           {
            "marker": {
             "colorbar": {
              "outlinewidth": 0,
              "ticks": ""
             }
            },
            "type": "scattergl"
           }
          ],
          "scattermapbox": [
           {
            "marker": {
             "colorbar": {
              "outlinewidth": 0,
              "ticks": ""
             }
            },
            "type": "scattermapbox"
           }
          ],
          "scatterpolar": [
           {
            "marker": {
             "colorbar": {
              "outlinewidth": 0,
              "ticks": ""
             }
            },
            "type": "scatterpolar"
           }
          ],
          "scatterpolargl": [
           {
            "marker": {
             "colorbar": {
              "outlinewidth": 0,
              "ticks": ""
             }
            },
            "type": "scatterpolargl"
           }
          ],
          "scatterternary": [
           {
            "marker": {
             "colorbar": {
              "outlinewidth": 0,
              "ticks": ""
             }
            },
            "type": "scatterternary"
           }
          ],
          "surface": [
           {
            "colorbar": {
             "outlinewidth": 0,
             "ticks": ""
            },
            "colorscale": [
             [
              0,
              "#0d0887"
             ],
             [
              0.1111111111111111,
              "#46039f"
             ],
             [
              0.2222222222222222,
              "#7201a8"
             ],
             [
              0.3333333333333333,
              "#9c179e"
             ],
             [
              0.4444444444444444,
              "#bd3786"
             ],
             [
              0.5555555555555556,
              "#d8576b"
             ],
             [
              0.6666666666666666,
              "#ed7953"
             ],
             [
              0.7777777777777778,
              "#fb9f3a"
             ],
             [
              0.8888888888888888,
              "#fdca26"
             ],
             [
              1,
              "#f0f921"
             ]
            ],
            "type": "surface"
           }
          ],
          "table": [
           {
            "cells": {
             "fill": {
              "color": "#EBF0F8"
             },
             "line": {
              "color": "white"
             }
            },
            "header": {
             "fill": {
              "color": "#C8D4E3"
             },
             "line": {
              "color": "white"
             }
            },
            "type": "table"
           }
          ]
         },
         "layout": {
          "annotationdefaults": {
           "arrowcolor": "#2a3f5f",
           "arrowhead": 0,
           "arrowwidth": 1
          },
          "autotypenumbers": "strict",
          "coloraxis": {
           "colorbar": {
            "outlinewidth": 0,
            "ticks": ""
           }
          },
          "colorscale": {
           "diverging": [
            [
             0,
             "#8e0152"
            ],
            [
             0.1,
             "#c51b7d"
            ],
            [
             0.2,
             "#de77ae"
            ],
            [
             0.3,
             "#f1b6da"
            ],
            [
             0.4,
             "#fde0ef"
            ],
            [
             0.5,
             "#f7f7f7"
            ],
            [
             0.6,
             "#e6f5d0"
            ],
            [
             0.7,
             "#b8e186"
            ],
            [
             0.8,
             "#7fbc41"
            ],
            [
             0.9,
             "#4d9221"
            ],
            [
             1,
             "#276419"
            ]
           ],
           "sequential": [
            [
             0,
             "#0d0887"
            ],
            [
             0.1111111111111111,
             "#46039f"
            ],
            [
             0.2222222222222222,
             "#7201a8"
            ],
            [
             0.3333333333333333,
             "#9c179e"
            ],
            [
             0.4444444444444444,
             "#bd3786"
            ],
            [
             0.5555555555555556,
             "#d8576b"
            ],
            [
             0.6666666666666666,
             "#ed7953"
            ],
            [
             0.7777777777777778,
             "#fb9f3a"
            ],
            [
             0.8888888888888888,
             "#fdca26"
            ],
            [
             1,
             "#f0f921"
            ]
           ],
           "sequentialminus": [
            [
             0,
             "#0d0887"
            ],
            [
             0.1111111111111111,
             "#46039f"
            ],
            [
             0.2222222222222222,
             "#7201a8"
            ],
            [
             0.3333333333333333,
             "#9c179e"
            ],
            [
             0.4444444444444444,
             "#bd3786"
            ],
            [
             0.5555555555555556,
             "#d8576b"
            ],
            [
             0.6666666666666666,
             "#ed7953"
            ],
            [
             0.7777777777777778,
             "#fb9f3a"
            ],
            [
             0.8888888888888888,
             "#fdca26"
            ],
            [
             1,
             "#f0f921"
            ]
           ]
          },
          "colorway": [
           "#636efa",
           "#EF553B",
           "#00cc96",
           "#ab63fa",
           "#FFA15A",
           "#19d3f3",
           "#FF6692",
           "#B6E880",
           "#FF97FF",
           "#FECB52"
          ],
          "font": {
           "color": "#2a3f5f"
          },
          "geo": {
           "bgcolor": "white",
           "lakecolor": "white",
           "landcolor": "#E5ECF6",
           "showlakes": true,
           "showland": true,
           "subunitcolor": "white"
          },
          "hoverlabel": {
           "align": "left"
          },
          "hovermode": "closest",
          "mapbox": {
           "style": "light"
          },
          "paper_bgcolor": "white",
          "plot_bgcolor": "#E5ECF6",
          "polar": {
           "angularaxis": {
            "gridcolor": "white",
            "linecolor": "white",
            "ticks": ""
           },
           "bgcolor": "#E5ECF6",
           "radialaxis": {
            "gridcolor": "white",
            "linecolor": "white",
            "ticks": ""
           }
          },
          "scene": {
           "xaxis": {
            "backgroundcolor": "#E5ECF6",
            "gridcolor": "white",
            "gridwidth": 2,
            "linecolor": "white",
            "showbackground": true,
            "ticks": "",
            "zerolinecolor": "white"
           },
           "yaxis": {
            "backgroundcolor": "#E5ECF6",
            "gridcolor": "white",
            "gridwidth": 2,
            "linecolor": "white",
            "showbackground": true,
            "ticks": "",
            "zerolinecolor": "white"
           },
           "zaxis": {
            "backgroundcolor": "#E5ECF6",
            "gridcolor": "white",
            "gridwidth": 2,
            "linecolor": "white",
            "showbackground": true,
            "ticks": "",
            "zerolinecolor": "white"
           }
          },
          "shapedefaults": {
           "line": {
            "color": "#2a3f5f"
           }
          },
          "ternary": {
           "aaxis": {
            "gridcolor": "white",
            "linecolor": "white",
            "ticks": ""
           },
           "baxis": {
            "gridcolor": "white",
            "linecolor": "white",
            "ticks": ""
           },
           "bgcolor": "#E5ECF6",
           "caxis": {
            "gridcolor": "white",
            "linecolor": "white",
            "ticks": ""
           }
          },
          "title": {
           "x": 0.05
          },
          "xaxis": {
           "automargin": true,
           "gridcolor": "white",
           "linecolor": "white",
           "ticks": "",
           "title": {
            "standoff": 15
           },
           "zerolinecolor": "white",
           "zerolinewidth": 2
          },
          "yaxis": {
           "automargin": true,
           "gridcolor": "white",
           "linecolor": "white",
           "ticks": "",
           "title": {
            "standoff": 15
           },
           "zerolinecolor": "white",
           "zerolinewidth": 2
          }
         }
        },
        "xaxis": {
         "anchor": "y",
         "domain": [
          0,
          1
         ],
         "title": {
          "text": "time_elapsed"
         }
        },
        "yaxis": {
         "anchor": "x",
         "domain": [
          0,
          1
         ],
         "title": {
          "text": "Pkg_J"
         }
        }
       }
      }
     },
     "metadata": {},
     "output_type": "display_data"
    }
   ],
   "source": [
    "import statsmodels.api as sm\n",
    "\n",
    "fig = px.scatter(df, x='time_elapsed', y='Pkg_J', color='version', trendline=\"ols\", trendline_scope=\"overall\")\n",
    "fig.show()"
   ]
  },
  {
   "cell_type": "code",
   "execution_count": 106,
   "metadata": {},
   "outputs": [
    {
     "data": {
      "application/vnd.plotly.v1+json": {
       "config": {
        "plotlyServerURL": "https://plot.ly"
       },
       "data": [
        {
         "hovertemplate": "version=g++-4.4<br>time_elapsed=%{x}<br>Pkg_J=%{y}<extra></extra>",
         "legendgroup": "g++-4.4",
         "marker": {
          "color": "#636efa",
          "symbol": "circle"
         },
         "mode": "markers",
         "name": "g++-4.4",
         "orientation": "v",
         "showlegend": true,
         "type": "scatter",
         "x": [
          19.012345,
          19.068004,
          19.48595,
          19.485471,
          19.006089,
          19.268487,
          19.271215,
          19.474061,
          19.79699,
          19.25266
         ],
         "xaxis": "x",
         "y": [
          276.73,
          283.23,
          292.54,
          293.64,
          284.07,
          287.17,
          291.53,
          293.55,
          298.61,
          292.07
         ],
         "yaxis": "y"
        },
        {
         "alignmentgroup": "True",
         "hovertemplate": "version=g++-4.4<br>time_elapsed=%{x}<extra></extra>",
         "legendgroup": "g++-4.4",
         "marker": {
          "color": "#636efa",
          "symbol": "circle"
         },
         "name": "g++-4.4",
         "notched": true,
         "offsetgroup": "g++-4.4",
         "showlegend": false,
         "type": "box",
         "x": [
          19.012345,
          19.068004,
          19.48595,
          19.485471,
          19.006089,
          19.268487,
          19.271215,
          19.474061,
          19.79699,
          19.25266
         ],
         "xaxis": "x3",
         "yaxis": "y3"
        },
        {
         "alignmentgroup": "True",
         "hovertemplate": "version=g++-4.4<br>Pkg_J=%{y}<extra></extra>",
         "legendgroup": "g++-4.4",
         "marker": {
          "color": "#636efa",
          "symbol": "circle"
         },
         "name": "g++-4.4",
         "notched": true,
         "offsetgroup": "g++-4.4",
         "showlegend": false,
         "type": "box",
         "xaxis": "x2",
         "y": [
          276.73,
          283.23,
          292.54,
          293.64,
          284.07,
          287.17,
          291.53,
          293.55,
          298.61,
          292.07
         ],
         "yaxis": "y2"
        },
        {
         "hovertemplate": "version=g++-4.6<br>time_elapsed=%{x}<br>Pkg_J=%{y}<extra></extra>",
         "legendgroup": "g++-4.6",
         "marker": {
          "color": "#EF553B",
          "symbol": "circle"
         },
         "mode": "markers",
         "name": "g++-4.6",
         "orientation": "v",
         "showlegend": true,
         "type": "scatter",
         "x": [
          18.45464,
          18.380234,
          18.344352,
          18.547231,
          18.600965,
          18.796496,
          18.774649,
          18.733993,
          18.663682,
          18.66999
         ],
         "xaxis": "x",
         "y": [
          269.19,
          269.33,
          271.38,
          280.13,
          278.99,
          275.38,
          279.64,
          276.84,
          279,
          278.88
         ],
         "yaxis": "y"
        },
        {
         "alignmentgroup": "True",
         "hovertemplate": "version=g++-4.6<br>time_elapsed=%{x}<extra></extra>",
         "legendgroup": "g++-4.6",
         "marker": {
          "color": "#EF553B",
          "symbol": "circle"
         },
         "name": "g++-4.6",
         "notched": true,
         "offsetgroup": "g++-4.6",
         "showlegend": false,
         "type": "box",
         "x": [
          18.45464,
          18.380234,
          18.344352,
          18.547231,
          18.600965,
          18.796496,
          18.774649,
          18.733993,
          18.663682,
          18.66999
         ],
         "xaxis": "x3",
         "yaxis": "y3"
        },
        {
         "alignmentgroup": "True",
         "hovertemplate": "version=g++-4.6<br>Pkg_J=%{y}<extra></extra>",
         "legendgroup": "g++-4.6",
         "marker": {
          "color": "#EF553B",
          "symbol": "circle"
         },
         "name": "g++-4.6",
         "notched": true,
         "offsetgroup": "g++-4.6",
         "showlegend": false,
         "type": "box",
         "xaxis": "x2",
         "y": [
          269.19,
          269.33,
          271.38,
          280.13,
          278.99,
          275.38,
          279.64,
          276.84,
          279,
          278.88
         ],
         "yaxis": "y2"
        },
        {
         "hovertemplate": "version=g++-4.7<br>time_elapsed=%{x}<br>Pkg_J=%{y}<extra></extra>",
         "legendgroup": "g++-4.7",
         "marker": {
          "color": "#00cc96",
          "symbol": "circle"
         },
         "mode": "markers",
         "name": "g++-4.7",
         "orientation": "v",
         "showlegend": true,
         "type": "scatter",
         "x": [
          18.649621,
          18.665314,
          18.606044,
          18.718517,
          18.707071,
          19.11845,
          18.809439,
          18.816295,
          18.996665,
          19.192968
         ],
         "xaxis": "x",
         "y": [
          270.35,
          279.98,
          279.53,
          283.89,
          282.44,
          277.3,
          283.81,
          281.06,
          275.63,
          274.91
         ],
         "yaxis": "y"
        },
        {
         "alignmentgroup": "True",
         "hovertemplate": "version=g++-4.7<br>time_elapsed=%{x}<extra></extra>",
         "legendgroup": "g++-4.7",
         "marker": {
          "color": "#00cc96",
          "symbol": "circle"
         },
         "name": "g++-4.7",
         "notched": true,
         "offsetgroup": "g++-4.7",
         "showlegend": false,
         "type": "box",
         "x": [
          18.649621,
          18.665314,
          18.606044,
          18.718517,
          18.707071,
          19.11845,
          18.809439,
          18.816295,
          18.996665,
          19.192968
         ],
         "xaxis": "x3",
         "yaxis": "y3"
        },
        {
         "alignmentgroup": "True",
         "hovertemplate": "version=g++-4.7<br>Pkg_J=%{y}<extra></extra>",
         "legendgroup": "g++-4.7",
         "marker": {
          "color": "#00cc96",
          "symbol": "circle"
         },
         "name": "g++-4.7",
         "notched": true,
         "offsetgroup": "g++-4.7",
         "showlegend": false,
         "type": "box",
         "xaxis": "x2",
         "y": [
          270.35,
          279.98,
          279.53,
          283.89,
          282.44,
          277.3,
          283.81,
          281.06,
          275.63,
          274.91
         ],
         "yaxis": "y2"
        },
        {
         "hovertemplate": "version=g++-4.8<br>time_elapsed=%{x}<br>Pkg_J=%{y}<extra></extra>",
         "legendgroup": "g++-4.8",
         "marker": {
          "color": "#ab63fa",
          "symbol": "circle"
         },
         "mode": "markers",
         "name": "g++-4.8",
         "orientation": "v",
         "showlegend": true,
         "type": "scatter",
         "x": [
          18.514033,
          18.728872,
          18.711322,
          18.60818,
          18.712145,
          18.905862,
          18.936769,
          18.821412,
          18.906184,
          18.811494
         ],
         "xaxis": "x",
         "y": [
          270.8,
          278.26,
          280.91,
          274.76,
          281.36,
          285.65,
          270.03,
          281.31,
          281.33,
          279.13
         ],
         "yaxis": "y"
        },
        {
         "alignmentgroup": "True",
         "hovertemplate": "version=g++-4.8<br>time_elapsed=%{x}<extra></extra>",
         "legendgroup": "g++-4.8",
         "marker": {
          "color": "#ab63fa",
          "symbol": "circle"
         },
         "name": "g++-4.8",
         "notched": true,
         "offsetgroup": "g++-4.8",
         "showlegend": false,
         "type": "box",
         "x": [
          18.514033,
          18.728872,
          18.711322,
          18.60818,
          18.712145,
          18.905862,
          18.936769,
          18.821412,
          18.906184,
          18.811494
         ],
         "xaxis": "x3",
         "yaxis": "y3"
        },
        {
         "alignmentgroup": "True",
         "hovertemplate": "version=g++-4.8<br>Pkg_J=%{y}<extra></extra>",
         "legendgroup": "g++-4.8",
         "marker": {
          "color": "#ab63fa",
          "symbol": "circle"
         },
         "name": "g++-4.8",
         "notched": true,
         "offsetgroup": "g++-4.8",
         "showlegend": false,
         "type": "box",
         "xaxis": "x2",
         "y": [
          270.8,
          278.26,
          280.91,
          274.76,
          281.36,
          285.65,
          270.03,
          281.31,
          281.33,
          279.13
         ],
         "yaxis": "y2"
        },
        {
         "hovertemplate": "version=g++-4.9<br>time_elapsed=%{x}<br>Pkg_J=%{y}<extra></extra>",
         "legendgroup": "g++-4.9",
         "marker": {
          "color": "#FFA15A",
          "symbol": "circle"
         },
         "mode": "markers",
         "name": "g++-4.9",
         "orientation": "v",
         "showlegend": true,
         "type": "scatter",
         "x": [
          18.395804,
          18.363616,
          18.423788,
          18.514807,
          18.471405,
          18.755247,
          18.725226,
          18.54685,
          18.778535,
          18.687344
         ],
         "xaxis": "x",
         "y": [
          269.7,
          273.86,
          270.55,
          281.56,
          276.88,
          268.72,
          276.19,
          276.35,
          271.26,
          276.17
         ],
         "yaxis": "y"
        },
        {
         "alignmentgroup": "True",
         "hovertemplate": "version=g++-4.9<br>time_elapsed=%{x}<extra></extra>",
         "legendgroup": "g++-4.9",
         "marker": {
          "color": "#FFA15A",
          "symbol": "circle"
         },
         "name": "g++-4.9",
         "notched": true,
         "offsetgroup": "g++-4.9",
         "showlegend": false,
         "type": "box",
         "x": [
          18.395804,
          18.363616,
          18.423788,
          18.514807,
          18.471405,
          18.755247,
          18.725226,
          18.54685,
          18.778535,
          18.687344
         ],
         "xaxis": "x3",
         "yaxis": "y3"
        },
        {
         "alignmentgroup": "True",
         "hovertemplate": "version=g++-4.9<br>Pkg_J=%{y}<extra></extra>",
         "legendgroup": "g++-4.9",
         "marker": {
          "color": "#FFA15A",
          "symbol": "circle"
         },
         "name": "g++-4.9",
         "notched": true,
         "offsetgroup": "g++-4.9",
         "showlegend": false,
         "type": "box",
         "xaxis": "x2",
         "y": [
          269.7,
          273.86,
          270.55,
          281.56,
          276.88,
          268.72,
          276.19,
          276.35,
          271.26,
          276.17
         ],
         "yaxis": "y2"
        },
        {
         "hovertemplate": "version=g++-5<br>time_elapsed=%{x}<br>Pkg_J=%{y}<extra></extra>",
         "legendgroup": "g++-5",
         "marker": {
          "color": "#19d3f3",
          "symbol": "circle"
         },
         "mode": "markers",
         "name": "g++-5",
         "orientation": "v",
         "showlegend": true,
         "type": "scatter",
         "x": [
          18.229085,
          18.21793,
          18.185922,
          18.346837,
          18.74941,
          18.302186,
          18.64373,
          18.799245,
          18.962127,
          18.661617
         ],
         "xaxis": "x",
         "y": [
          266.37,
          272.14,
          273.27,
          276.74,
          269.28,
          271.78,
          270.5,
          272.5,
          267.42,
          274.26
         ],
         "yaxis": "y"
        },
        {
         "alignmentgroup": "True",
         "hovertemplate": "version=g++-5<br>time_elapsed=%{x}<extra></extra>",
         "legendgroup": "g++-5",
         "marker": {
          "color": "#19d3f3",
          "symbol": "circle"
         },
         "name": "g++-5",
         "notched": true,
         "offsetgroup": "g++-5",
         "showlegend": false,
         "type": "box",
         "x": [
          18.229085,
          18.21793,
          18.185922,
          18.346837,
          18.74941,
          18.302186,
          18.64373,
          18.799245,
          18.962127,
          18.661617
         ],
         "xaxis": "x3",
         "yaxis": "y3"
        },
        {
         "alignmentgroup": "True",
         "hovertemplate": "version=g++-5<br>Pkg_J=%{y}<extra></extra>",
         "legendgroup": "g++-5",
         "marker": {
          "color": "#19d3f3",
          "symbol": "circle"
         },
         "name": "g++-5",
         "notched": true,
         "offsetgroup": "g++-5",
         "showlegend": false,
         "type": "box",
         "xaxis": "x2",
         "y": [
          266.37,
          272.14,
          273.27,
          276.74,
          269.28,
          271.78,
          270.5,
          272.5,
          267.42,
          274.26
         ],
         "yaxis": "y2"
        },
        {
         "hovertemplate": "version=g++-6<br>time_elapsed=%{x}<br>Pkg_J=%{y}<extra></extra>",
         "legendgroup": "g++-6",
         "marker": {
          "color": "#FF6692",
          "symbol": "circle"
         },
         "mode": "markers",
         "name": "g++-6",
         "orientation": "v",
         "showlegend": true,
         "type": "scatter",
         "x": [
          18.535857,
          18.670766,
          18.720573,
          18.650063,
          18.777439,
          19.150556,
          19.153943,
          19.116595,
          19.00819,
          18.914761
         ],
         "xaxis": "x",
         "y": [
          269.48,
          281.78,
          278.86,
          282.06,
          282.84,
          273.75,
          273.98,
          271.36,
          276.66,
          271.33
         ],
         "yaxis": "y"
        },
        {
         "alignmentgroup": "True",
         "hovertemplate": "version=g++-6<br>time_elapsed=%{x}<extra></extra>",
         "legendgroup": "g++-6",
         "marker": {
          "color": "#FF6692",
          "symbol": "circle"
         },
         "name": "g++-6",
         "notched": true,
         "offsetgroup": "g++-6",
         "showlegend": false,
         "type": "box",
         "x": [
          18.535857,
          18.670766,
          18.720573,
          18.650063,
          18.777439,
          19.150556,
          19.153943,
          19.116595,
          19.00819,
          18.914761
         ],
         "xaxis": "x3",
         "yaxis": "y3"
        },
        {
         "alignmentgroup": "True",
         "hovertemplate": "version=g++-6<br>Pkg_J=%{y}<extra></extra>",
         "legendgroup": "g++-6",
         "marker": {
          "color": "#FF6692",
          "symbol": "circle"
         },
         "name": "g++-6",
         "notched": true,
         "offsetgroup": "g++-6",
         "showlegend": false,
         "type": "box",
         "xaxis": "x2",
         "y": [
          269.48,
          281.78,
          278.86,
          282.06,
          282.84,
          273.75,
          273.98,
          271.36,
          276.66,
          271.33
         ],
         "yaxis": "y2"
        },
        {
         "hovertemplate": "version=g++-7<br>time_elapsed=%{x}<br>Pkg_J=%{y}<extra></extra>",
         "legendgroup": "g++-7",
         "marker": {
          "color": "#B6E880",
          "symbol": "circle"
         },
         "mode": "markers",
         "name": "g++-7",
         "orientation": "v",
         "showlegend": true,
         "type": "scatter",
         "x": [
          18.922215,
          18.9776,
          19.019648,
          19.012149,
          19.031726,
          19.524324,
          19.767512,
          19.200118,
          19.777524,
          19.652129
         ],
         "xaxis": "x",
         "y": [
          279.77,
          280.13,
          291.17,
          286.18,
          288.02,
          281.75,
          284.35,
          287.38,
          281.87,
          278.25
         ],
         "yaxis": "y"
        },
        {
         "alignmentgroup": "True",
         "hovertemplate": "version=g++-7<br>time_elapsed=%{x}<extra></extra>",
         "legendgroup": "g++-7",
         "marker": {
          "color": "#B6E880",
          "symbol": "circle"
         },
         "name": "g++-7",
         "notched": true,
         "offsetgroup": "g++-7",
         "showlegend": false,
         "type": "box",
         "x": [
          18.922215,
          18.9776,
          19.019648,
          19.012149,
          19.031726,
          19.524324,
          19.767512,
          19.200118,
          19.777524,
          19.652129
         ],
         "xaxis": "x3",
         "yaxis": "y3"
        },
        {
         "alignmentgroup": "True",
         "hovertemplate": "version=g++-7<br>Pkg_J=%{y}<extra></extra>",
         "legendgroup": "g++-7",
         "marker": {
          "color": "#B6E880",
          "symbol": "circle"
         },
         "name": "g++-7",
         "notched": true,
         "offsetgroup": "g++-7",
         "showlegend": false,
         "type": "box",
         "xaxis": "x2",
         "y": [
          279.77,
          280.13,
          291.17,
          286.18,
          288.02,
          281.75,
          284.35,
          287.38,
          281.87,
          278.25
         ],
         "yaxis": "y2"
        },
        {
         "hovertemplate": "version=g++-8<br>time_elapsed=%{x}<br>Pkg_J=%{y}<extra></extra>",
         "legendgroup": "g++-8",
         "marker": {
          "color": "#FF97FF",
          "symbol": "circle"
         },
         "mode": "markers",
         "name": "g++-8",
         "orientation": "v",
         "showlegend": true,
         "type": "scatter",
         "x": [
          18.895485,
          18.969705,
          19.189305,
          19.079588,
          19.061486,
          20.189262,
          20.290944,
          19.049993,
          19.125067,
          19.697991
         ],
         "xaxis": "x",
         "y": [
          278.09,
          284.56,
          283.05,
          284.93,
          287.02,
          304.4,
          352.36,
          276.9,
          280.69,
          273.23
         ],
         "yaxis": "y"
        },
        {
         "alignmentgroup": "True",
         "hovertemplate": "version=g++-8<br>time_elapsed=%{x}<extra></extra>",
         "legendgroup": "g++-8",
         "marker": {
          "color": "#FF97FF",
          "symbol": "circle"
         },
         "name": "g++-8",
         "notched": true,
         "offsetgroup": "g++-8",
         "showlegend": false,
         "type": "box",
         "x": [
          18.895485,
          18.969705,
          19.189305,
          19.079588,
          19.061486,
          20.189262,
          20.290944,
          19.049993,
          19.125067,
          19.697991
         ],
         "xaxis": "x3",
         "yaxis": "y3"
        },
        {
         "alignmentgroup": "True",
         "hovertemplate": "version=g++-8<br>Pkg_J=%{y}<extra></extra>",
         "legendgroup": "g++-8",
         "marker": {
          "color": "#FF97FF",
          "symbol": "circle"
         },
         "name": "g++-8",
         "notched": true,
         "offsetgroup": "g++-8",
         "showlegend": false,
         "type": "box",
         "xaxis": "x2",
         "y": [
          278.09,
          284.56,
          283.05,
          284.93,
          287.02,
          304.4,
          352.36,
          276.9,
          280.69,
          273.23
         ],
         "yaxis": "y2"
        },
        {
         "hovertemplate": "version=g++-9<br>time_elapsed=%{x}<br>Pkg_J=%{y}<extra></extra>",
         "legendgroup": "g++-9",
         "marker": {
          "color": "#FECB52",
          "symbol": "circle"
         },
         "mode": "markers",
         "name": "g++-9",
         "orientation": "v",
         "showlegend": true,
         "type": "scatter",
         "x": [
          19.382183,
          19.402305,
          19.529972,
          19.79632,
          19.472186,
          19.610724,
          19.73897,
          20.079884,
          20.065399,
          20.163658
         ],
         "xaxis": "x",
         "y": [
          288.96,
          291.21,
          290.62,
          292,
          294.08,
          289.67,
          289.76,
          287.17,
          286.6,
          281.55
         ],
         "yaxis": "y"
        },
        {
         "alignmentgroup": "True",
         "hovertemplate": "version=g++-9<br>time_elapsed=%{x}<extra></extra>",
         "legendgroup": "g++-9",
         "marker": {
          "color": "#FECB52",
          "symbol": "circle"
         },
         "name": "g++-9",
         "notched": true,
         "offsetgroup": "g++-9",
         "showlegend": false,
         "type": "box",
         "x": [
          19.382183,
          19.402305,
          19.529972,
          19.79632,
          19.472186,
          19.610724,
          19.73897,
          20.079884,
          20.065399,
          20.163658
         ],
         "xaxis": "x3",
         "yaxis": "y3"
        },
        {
         "alignmentgroup": "True",
         "hovertemplate": "version=g++-9<br>Pkg_J=%{y}<extra></extra>",
         "legendgroup": "g++-9",
         "marker": {
          "color": "#FECB52",
          "symbol": "circle"
         },
         "name": "g++-9",
         "notched": true,
         "offsetgroup": "g++-9",
         "showlegend": false,
         "type": "box",
         "xaxis": "x2",
         "y": [
          288.96,
          291.21,
          290.62,
          292,
          294.08,
          289.67,
          289.76,
          287.17,
          286.6,
          281.55
         ],
         "yaxis": "y2"
        },
        {
         "hovertemplate": "version=g++-10<br>time_elapsed=%{x}<br>Pkg_J=%{y}<extra></extra>",
         "legendgroup": "g++-10",
         "marker": {
          "color": "#636efa",
          "symbol": "circle"
         },
         "mode": "markers",
         "name": "g++-10",
         "orientation": "v",
         "showlegend": true,
         "type": "scatter",
         "x": [
          19.198182,
          19.261238,
          19.531092,
          19.195272,
          19.40385,
          19.589156,
          20.036617,
          19.994316,
          20.031973,
          19.690765
         ],
         "xaxis": "x",
         "y": [
          275.79,
          285.48,
          291.66,
          288.9,
          294.17,
          290.75,
          287.99,
          287.16,
          286.31,
          293.54
         ],
         "yaxis": "y"
        },
        {
         "alignmentgroup": "True",
         "hovertemplate": "version=g++-10<br>time_elapsed=%{x}<extra></extra>",
         "legendgroup": "g++-10",
         "marker": {
          "color": "#636efa",
          "symbol": "circle"
         },
         "name": "g++-10",
         "notched": true,
         "offsetgroup": "g++-10",
         "showlegend": false,
         "type": "box",
         "x": [
          19.198182,
          19.261238,
          19.531092,
          19.195272,
          19.40385,
          19.589156,
          20.036617,
          19.994316,
          20.031973,
          19.690765
         ],
         "xaxis": "x3",
         "yaxis": "y3"
        },
        {
         "alignmentgroup": "True",
         "hovertemplate": "version=g++-10<br>Pkg_J=%{y}<extra></extra>",
         "legendgroup": "g++-10",
         "marker": {
          "color": "#636efa",
          "symbol": "circle"
         },
         "name": "g++-10",
         "notched": true,
         "offsetgroup": "g++-10",
         "showlegend": false,
         "type": "box",
         "xaxis": "x2",
         "y": [
          275.79,
          285.48,
          291.66,
          288.9,
          294.17,
          290.75,
          287.99,
          287.16,
          286.31,
          293.54
         ],
         "yaxis": "y2"
        },
        {
         "hovertemplate": "version=g++-11<br>time_elapsed=%{x}<br>Pkg_J=%{y}<extra></extra>",
         "legendgroup": "g++-11",
         "marker": {
          "color": "#EF553B",
          "symbol": "circle"
         },
         "mode": "markers",
         "name": "g++-11",
         "orientation": "v",
         "showlegend": true,
         "type": "scatter",
         "x": [
          19.393586,
          19.461703,
          19.533421,
          20.048278,
          19.826333,
          19.674986,
          19.769541,
          20.0185,
          19.618648,
          20.817297
         ],
         "xaxis": "x",
         "y": [
          286.25,
          304.56,
          294.95,
          297.5,
          299.43,
          299.54,
          290.95,
          285.99,
          293.17,
          269.07
         ],
         "yaxis": "y"
        },
        {
         "alignmentgroup": "True",
         "hovertemplate": "version=g++-11<br>time_elapsed=%{x}<extra></extra>",
         "legendgroup": "g++-11",
         "marker": {
          "color": "#EF553B",
          "symbol": "circle"
         },
         "name": "g++-11",
         "notched": true,
         "offsetgroup": "g++-11",
         "showlegend": false,
         "type": "box",
         "x": [
          19.393586,
          19.461703,
          19.533421,
          20.048278,
          19.826333,
          19.674986,
          19.769541,
          20.0185,
          19.618648,
          20.817297
         ],
         "xaxis": "x3",
         "yaxis": "y3"
        },
        {
         "alignmentgroup": "True",
         "hovertemplate": "version=g++-11<br>Pkg_J=%{y}<extra></extra>",
         "legendgroup": "g++-11",
         "marker": {
          "color": "#EF553B",
          "symbol": "circle"
         },
         "name": "g++-11",
         "notched": true,
         "offsetgroup": "g++-11",
         "showlegend": false,
         "type": "box",
         "xaxis": "x2",
         "y": [
          286.25,
          304.56,
          294.95,
          297.5,
          299.43,
          299.54,
          290.95,
          285.99,
          293.17,
          269.07
         ],
         "yaxis": "y2"
        },
        {
         "hovertemplate": "version=g++-12<br>time_elapsed=%{x}<br>Pkg_J=%{y}<extra></extra>",
         "legendgroup": "g++-12",
         "marker": {
          "color": "#00cc96",
          "symbol": "circle"
         },
         "mode": "markers",
         "name": "g++-12",
         "orientation": "v",
         "showlegend": true,
         "type": "scatter",
         "x": [
          19.594491,
          19.611646,
          19.45969,
          19.801702,
          19.731188,
          20.012951,
          20.194771,
          19.926438,
          20.195806,
          20.441522
         ],
         "xaxis": "x",
         "y": [
          282.32,
          292.88,
          292.5,
          294.83,
          296.52,
          300.36,
          290.87,
          293.35,
          289.18,
          281.43
         ],
         "yaxis": "y"
        },
        {
         "alignmentgroup": "True",
         "hovertemplate": "version=g++-12<br>time_elapsed=%{x}<extra></extra>",
         "legendgroup": "g++-12",
         "marker": {
          "color": "#00cc96",
          "symbol": "circle"
         },
         "name": "g++-12",
         "notched": true,
         "offsetgroup": "g++-12",
         "showlegend": false,
         "type": "box",
         "x": [
          19.594491,
          19.611646,
          19.45969,
          19.801702,
          19.731188,
          20.012951,
          20.194771,
          19.926438,
          20.195806,
          20.441522
         ],
         "xaxis": "x3",
         "yaxis": "y3"
        },
        {
         "alignmentgroup": "True",
         "hovertemplate": "version=g++-12<br>Pkg_J=%{y}<extra></extra>",
         "legendgroup": "g++-12",
         "marker": {
          "color": "#00cc96",
          "symbol": "circle"
         },
         "name": "g++-12",
         "notched": true,
         "offsetgroup": "g++-12",
         "showlegend": false,
         "type": "box",
         "xaxis": "x2",
         "y": [
          282.32,
          292.88,
          292.5,
          294.83,
          296.52,
          300.36,
          290.87,
          293.35,
          289.18,
          281.43
         ],
         "yaxis": "y2"
        },
        {
         "hovertemplate": "version=g++-13<br>time_elapsed=%{x}<br>Pkg_J=%{y}<extra></extra>",
         "legendgroup": "g++-13",
         "marker": {
          "color": "#ab63fa",
          "symbol": "circle"
         },
         "mode": "markers",
         "name": "g++-13",
         "orientation": "v",
         "showlegend": true,
         "type": "scatter",
         "x": [
          19.228001,
          19.285689,
          19.812221,
          19.745607,
          19.578513,
          20.287041,
          19.587371,
          20.397967,
          19.797566,
          20.948406
         ],
         "xaxis": "x",
         "y": [
          281.68,
          295.24,
          298.2,
          292.67,
          296.15,
          309.72,
          296.12,
          293.94,
          291.21,
          264.71
         ],
         "yaxis": "y"
        },
        {
         "alignmentgroup": "True",
         "hovertemplate": "version=g++-13<br>time_elapsed=%{x}<extra></extra>",
         "legendgroup": "g++-13",
         "marker": {
          "color": "#ab63fa",
          "symbol": "circle"
         },
         "name": "g++-13",
         "notched": true,
         "offsetgroup": "g++-13",
         "showlegend": false,
         "type": "box",
         "x": [
          19.228001,
          19.285689,
          19.812221,
          19.745607,
          19.578513,
          20.287041,
          19.587371,
          20.397967,
          19.797566,
          20.948406
         ],
         "xaxis": "x3",
         "yaxis": "y3"
        },
        {
         "alignmentgroup": "True",
         "hovertemplate": "version=g++-13<br>Pkg_J=%{y}<extra></extra>",
         "legendgroup": "g++-13",
         "marker": {
          "color": "#ab63fa",
          "symbol": "circle"
         },
         "name": "g++-13",
         "notched": true,
         "offsetgroup": "g++-13",
         "showlegend": false,
         "type": "box",
         "xaxis": "x2",
         "y": [
          281.68,
          295.24,
          298.2,
          292.67,
          296.15,
          309.72,
          296.12,
          293.94,
          291.21,
          264.71
         ],
         "yaxis": "y2"
        }
       ],
       "layout": {
        "height": 1500,
        "legend": {
         "title": {
          "text": "version"
         },
         "tracegroupgap": 0
        },
        "margin": {
         "t": 60
        },
        "template": {
         "data": {
          "bar": [
           {
            "error_x": {
             "color": "#2a3f5f"
            },
            "error_y": {
             "color": "#2a3f5f"
            },
            "marker": {
             "line": {
              "color": "#E5ECF6",
              "width": 0.5
             },
             "pattern": {
              "fillmode": "overlay",
              "size": 10,
              "solidity": 0.2
             }
            },
            "type": "bar"
           }
          ],
          "barpolar": [
           {
            "marker": {
             "line": {
              "color": "#E5ECF6",
              "width": 0.5
             },
             "pattern": {
              "fillmode": "overlay",
              "size": 10,
              "solidity": 0.2
             }
            },
            "type": "barpolar"
           }
          ],
          "carpet": [
           {
            "aaxis": {
             "endlinecolor": "#2a3f5f",
             "gridcolor": "white",
             "linecolor": "white",
             "minorgridcolor": "white",
             "startlinecolor": "#2a3f5f"
            },
            "baxis": {
             "endlinecolor": "#2a3f5f",
             "gridcolor": "white",
             "linecolor": "white",
             "minorgridcolor": "white",
             "startlinecolor": "#2a3f5f"
            },
            "type": "carpet"
           }
          ],
          "choropleth": [
           {
            "colorbar": {
             "outlinewidth": 0,
             "ticks": ""
            },
            "type": "choropleth"
           }
          ],
          "contour": [
           {
            "colorbar": {
             "outlinewidth": 0,
             "ticks": ""
            },
            "colorscale": [
             [
              0,
              "#0d0887"
             ],
             [
              0.1111111111111111,
              "#46039f"
             ],
             [
              0.2222222222222222,
              "#7201a8"
             ],
             [
              0.3333333333333333,
              "#9c179e"
             ],
             [
              0.4444444444444444,
              "#bd3786"
             ],
             [
              0.5555555555555556,
              "#d8576b"
             ],
             [
              0.6666666666666666,
              "#ed7953"
             ],
             [
              0.7777777777777778,
              "#fb9f3a"
             ],
             [
              0.8888888888888888,
              "#fdca26"
             ],
             [
              1,
              "#f0f921"
             ]
            ],
            "type": "contour"
           }
          ],
          "contourcarpet": [
           {
            "colorbar": {
             "outlinewidth": 0,
             "ticks": ""
            },
            "type": "contourcarpet"
           }
          ],
          "heatmap": [
           {
            "colorbar": {
             "outlinewidth": 0,
             "ticks": ""
            },
            "colorscale": [
             [
              0,
              "#0d0887"
             ],
             [
              0.1111111111111111,
              "#46039f"
             ],
             [
              0.2222222222222222,
              "#7201a8"
             ],
             [
              0.3333333333333333,
              "#9c179e"
             ],
             [
              0.4444444444444444,
              "#bd3786"
             ],
             [
              0.5555555555555556,
              "#d8576b"
             ],
             [
              0.6666666666666666,
              "#ed7953"
             ],
             [
              0.7777777777777778,
              "#fb9f3a"
             ],
             [
              0.8888888888888888,
              "#fdca26"
             ],
             [
              1,
              "#f0f921"
             ]
            ],
            "type": "heatmap"
           }
          ],
          "heatmapgl": [
           {
            "colorbar": {
             "outlinewidth": 0,
             "ticks": ""
            },
            "colorscale": [
             [
              0,
              "#0d0887"
             ],
             [
              0.1111111111111111,
              "#46039f"
             ],
             [
              0.2222222222222222,
              "#7201a8"
             ],
             [
              0.3333333333333333,
              "#9c179e"
             ],
             [
              0.4444444444444444,
              "#bd3786"
             ],
             [
              0.5555555555555556,
              "#d8576b"
             ],
             [
              0.6666666666666666,
              "#ed7953"
             ],
             [
              0.7777777777777778,
              "#fb9f3a"
             ],
             [
              0.8888888888888888,
              "#fdca26"
             ],
             [
              1,
              "#f0f921"
             ]
            ],
            "type": "heatmapgl"
           }
          ],
          "histogram": [
           {
            "marker": {
             "pattern": {
              "fillmode": "overlay",
              "size": 10,
              "solidity": 0.2
             }
            },
            "type": "histogram"
           }
          ],
          "histogram2d": [
           {
            "colorbar": {
             "outlinewidth": 0,
             "ticks": ""
            },
            "colorscale": [
             [
              0,
              "#0d0887"
             ],
             [
              0.1111111111111111,
              "#46039f"
             ],
             [
              0.2222222222222222,
              "#7201a8"
             ],
             [
              0.3333333333333333,
              "#9c179e"
             ],
             [
              0.4444444444444444,
              "#bd3786"
             ],
             [
              0.5555555555555556,
              "#d8576b"
             ],
             [
              0.6666666666666666,
              "#ed7953"
             ],
             [
              0.7777777777777778,
              "#fb9f3a"
             ],
             [
              0.8888888888888888,
              "#fdca26"
             ],
             [
              1,
              "#f0f921"
             ]
            ],
            "type": "histogram2d"
           }
          ],
          "histogram2dcontour": [
           {
            "colorbar": {
             "outlinewidth": 0,
             "ticks": ""
            },
            "colorscale": [
             [
              0,
              "#0d0887"
             ],
             [
              0.1111111111111111,
              "#46039f"
             ],
             [
              0.2222222222222222,
              "#7201a8"
             ],
             [
              0.3333333333333333,
              "#9c179e"
             ],
             [
              0.4444444444444444,
              "#bd3786"
             ],
             [
              0.5555555555555556,
              "#d8576b"
             ],
             [
              0.6666666666666666,
              "#ed7953"
             ],
             [
              0.7777777777777778,
              "#fb9f3a"
             ],
             [
              0.8888888888888888,
              "#fdca26"
             ],
             [
              1,
              "#f0f921"
             ]
            ],
            "type": "histogram2dcontour"
           }
          ],
          "mesh3d": [
           {
            "colorbar": {
             "outlinewidth": 0,
             "ticks": ""
            },
            "type": "mesh3d"
           }
          ],
          "parcoords": [
           {
            "line": {
             "colorbar": {
              "outlinewidth": 0,
              "ticks": ""
             }
            },
            "type": "parcoords"
           }
          ],
          "pie": [
           {
            "automargin": true,
            "type": "pie"
           }
          ],
          "scatter": [
           {
            "fillpattern": {
             "fillmode": "overlay",
             "size": 10,
             "solidity": 0.2
            },
            "type": "scatter"
           }
          ],
          "scatter3d": [
           {
            "line": {
             "colorbar": {
              "outlinewidth": 0,
              "ticks": ""
             }
            },
            "marker": {
             "colorbar": {
              "outlinewidth": 0,
              "ticks": ""
             }
            },
            "type": "scatter3d"
           }
          ],
          "scattercarpet": [
           {
            "marker": {
             "colorbar": {
              "outlinewidth": 0,
              "ticks": ""
             }
            },
            "type": "scattercarpet"
           }
          ],
          "scattergeo": [
           {
            "marker": {
             "colorbar": {
              "outlinewidth": 0,
              "ticks": ""
             }
            },
            "type": "scattergeo"
           }
          ],
          "scattergl": [
           {
            "marker": {
             "colorbar": {
              "outlinewidth": 0,
              "ticks": ""
             }
            },
            "type": "scattergl"
           }
          ],
          "scattermapbox": [
           {
            "marker": {
             "colorbar": {
              "outlinewidth": 0,
              "ticks": ""
             }
            },
            "type": "scattermapbox"
           }
          ],
          "scatterpolar": [
           {
            "marker": {
             "colorbar": {
              "outlinewidth": 0,
              "ticks": ""
             }
            },
            "type": "scatterpolar"
           }
          ],
          "scatterpolargl": [
           {
            "marker": {
             "colorbar": {
              "outlinewidth": 0,
              "ticks": ""
             }
            },
            "type": "scatterpolargl"
           }
          ],
          "scatterternary": [
           {
            "marker": {
             "colorbar": {
              "outlinewidth": 0,
              "ticks": ""
             }
            },
            "type": "scatterternary"
           }
          ],
          "surface": [
           {
            "colorbar": {
             "outlinewidth": 0,
             "ticks": ""
            },
            "colorscale": [
             [
              0,
              "#0d0887"
             ],
             [
              0.1111111111111111,
              "#46039f"
             ],
             [
              0.2222222222222222,
              "#7201a8"
             ],
             [
              0.3333333333333333,
              "#9c179e"
             ],
             [
              0.4444444444444444,
              "#bd3786"
             ],
             [
              0.5555555555555556,
              "#d8576b"
             ],
             [
              0.6666666666666666,
              "#ed7953"
             ],
             [
              0.7777777777777778,
              "#fb9f3a"
             ],
             [
              0.8888888888888888,
              "#fdca26"
             ],
             [
              1,
              "#f0f921"
             ]
            ],
            "type": "surface"
           }
          ],
          "table": [
           {
            "cells": {
             "fill": {
              "color": "#EBF0F8"
             },
             "line": {
              "color": "white"
             }
            },
            "header": {
             "fill": {
              "color": "#C8D4E3"
             },
             "line": {
              "color": "white"
             }
            },
            "type": "table"
           }
          ]
         },
         "layout": {
          "annotationdefaults": {
           "arrowcolor": "#2a3f5f",
           "arrowhead": 0,
           "arrowwidth": 1
          },
          "autotypenumbers": "strict",
          "coloraxis": {
           "colorbar": {
            "outlinewidth": 0,
            "ticks": ""
           }
          },
          "colorscale": {
           "diverging": [
            [
             0,
             "#8e0152"
            ],
            [
             0.1,
             "#c51b7d"
            ],
            [
             0.2,
             "#de77ae"
            ],
            [
             0.3,
             "#f1b6da"
            ],
            [
             0.4,
             "#fde0ef"
            ],
            [
             0.5,
             "#f7f7f7"
            ],
            [
             0.6,
             "#e6f5d0"
            ],
            [
             0.7,
             "#b8e186"
            ],
            [
             0.8,
             "#7fbc41"
            ],
            [
             0.9,
             "#4d9221"
            ],
            [
             1,
             "#276419"
            ]
           ],
           "sequential": [
            [
             0,
             "#0d0887"
            ],
            [
             0.1111111111111111,
             "#46039f"
            ],
            [
             0.2222222222222222,
             "#7201a8"
            ],
            [
             0.3333333333333333,
             "#9c179e"
            ],
            [
             0.4444444444444444,
             "#bd3786"
            ],
            [
             0.5555555555555556,
             "#d8576b"
            ],
            [
             0.6666666666666666,
             "#ed7953"
            ],
            [
             0.7777777777777778,
             "#fb9f3a"
            ],
            [
             0.8888888888888888,
             "#fdca26"
            ],
            [
             1,
             "#f0f921"
            ]
           ],
           "sequentialminus": [
            [
             0,
             "#0d0887"
            ],
            [
             0.1111111111111111,
             "#46039f"
            ],
            [
             0.2222222222222222,
             "#7201a8"
            ],
            [
             0.3333333333333333,
             "#9c179e"
            ],
            [
             0.4444444444444444,
             "#bd3786"
            ],
            [
             0.5555555555555556,
             "#d8576b"
            ],
            [
             0.6666666666666666,
             "#ed7953"
            ],
            [
             0.7777777777777778,
             "#fb9f3a"
            ],
            [
             0.8888888888888888,
             "#fdca26"
            ],
            [
             1,
             "#f0f921"
            ]
           ]
          },
          "colorway": [
           "#636efa",
           "#EF553B",
           "#00cc96",
           "#ab63fa",
           "#FFA15A",
           "#19d3f3",
           "#FF6692",
           "#B6E880",
           "#FF97FF",
           "#FECB52"
          ],
          "font": {
           "color": "#2a3f5f"
          },
          "geo": {
           "bgcolor": "white",
           "lakecolor": "white",
           "landcolor": "#E5ECF6",
           "showlakes": true,
           "showland": true,
           "subunitcolor": "white"
          },
          "hoverlabel": {
           "align": "left"
          },
          "hovermode": "closest",
          "mapbox": {
           "style": "light"
          },
          "paper_bgcolor": "white",
          "plot_bgcolor": "#E5ECF6",
          "polar": {
           "angularaxis": {
            "gridcolor": "white",
            "linecolor": "white",
            "ticks": ""
           },
           "bgcolor": "#E5ECF6",
           "radialaxis": {
            "gridcolor": "white",
            "linecolor": "white",
            "ticks": ""
           }
          },
          "scene": {
           "xaxis": {
            "backgroundcolor": "#E5ECF6",
            "gridcolor": "white",
            "gridwidth": 2,
            "linecolor": "white",
            "showbackground": true,
            "ticks": "",
            "zerolinecolor": "white"
           },
           "yaxis": {
            "backgroundcolor": "#E5ECF6",
            "gridcolor": "white",
            "gridwidth": 2,
            "linecolor": "white",
            "showbackground": true,
            "ticks": "",
            "zerolinecolor": "white"
           },
           "zaxis": {
            "backgroundcolor": "#E5ECF6",
            "gridcolor": "white",
            "gridwidth": 2,
            "linecolor": "white",
            "showbackground": true,
            "ticks": "",
            "zerolinecolor": "white"
           }
          },
          "shapedefaults": {
           "line": {
            "color": "#2a3f5f"
           }
          },
          "ternary": {
           "aaxis": {
            "gridcolor": "white",
            "linecolor": "white",
            "ticks": ""
           },
           "baxis": {
            "gridcolor": "white",
            "linecolor": "white",
            "ticks": ""
           },
           "bgcolor": "#E5ECF6",
           "caxis": {
            "gridcolor": "white",
            "linecolor": "white",
            "ticks": ""
           }
          },
          "title": {
           "x": 0.05
          },
          "xaxis": {
           "automargin": true,
           "gridcolor": "white",
           "linecolor": "white",
           "ticks": "",
           "title": {
            "standoff": 15
           },
           "zerolinecolor": "white",
           "zerolinewidth": 2
          },
          "yaxis": {
           "automargin": true,
           "gridcolor": "white",
           "linecolor": "white",
           "ticks": "",
           "title": {
            "standoff": 15
           },
           "zerolinecolor": "white",
           "zerolinewidth": 2
          }
         }
        },
        "width": 1500,
        "xaxis": {
         "anchor": "y",
         "domain": [
          0,
          0.7363
         ],
         "title": {
          "text": "time_elapsed"
         }
        },
        "xaxis2": {
         "anchor": "y2",
         "domain": [
          0.7413,
          1
         ],
         "matches": "x2",
         "showgrid": false,
         "showline": false,
         "showticklabels": false,
         "ticks": ""
        },
        "xaxis3": {
         "anchor": "y3",
         "domain": [
          0,
          0.7363
         ],
         "matches": "x",
         "showgrid": true,
         "showticklabels": false
        },
        "xaxis4": {
         "anchor": "y4",
         "domain": [
          0.7413,
          1
         ],
         "matches": "x2",
         "showgrid": false,
         "showline": false,
         "showticklabels": false,
         "ticks": ""
        },
        "yaxis": {
         "anchor": "x",
         "domain": [
          0,
          0.7326
         ],
         "title": {
          "text": "Pkg_J"
         }
        },
        "yaxis2": {
         "anchor": "x2",
         "domain": [
          0,
          0.7326
         ],
         "matches": "y",
         "showgrid": true,
         "showticklabels": false
        },
        "yaxis3": {
         "anchor": "x3",
         "domain": [
          0.7426,
          1
         ],
         "matches": "y3",
         "showgrid": false,
         "showline": false,
         "showticklabels": false,
         "ticks": ""
        },
        "yaxis4": {
         "anchor": "x4",
         "domain": [
          0.7426,
          1
         ],
         "matches": "y3",
         "showgrid": true,
         "showline": false,
         "showticklabels": false,
         "ticks": ""
        }
       }
      }
     },
     "metadata": {},
     "output_type": "display_data"
    }
   ],
   "source": [
    "fig = px.scatter(df, x='time_elapsed', y='Pkg_J', color='version', marginal_x=\"box\", marginal_y=\"box\", height=1500, width=1500,)\n",
    "fig.show()"
   ]
  },
  {
   "cell_type": "code",
   "execution_count": 24,
   "metadata": {},
   "outputs": [],
   "source": [
    "import plotly.figure_factory as ff"
   ]
  },
  {
   "cell_type": "code",
   "execution_count": 66,
   "metadata": {},
   "outputs": [
    {
     "data": {
      "application/vnd.plotly.v1+json": {
       "config": {
        "plotlyServerURL": "https://plot.ly"
       },
       "data": [
        {
         "marker": {
          "color": "rgb(31, 119, 180)"
         },
         "showlegend": false,
         "type": "histogram",
         "x": [
          19.198182,
          19.261238,
          19.531092,
          19.195272,
          19.40385,
          19.589156,
          20.036617,
          19.994316,
          20.031973,
          19.690765
         ],
         "xaxis": "x",
         "yaxis": "y"
        },
        {
         "marker": {
          "color": "rgb(255, 127, 14)"
         },
         "showlegend": false,
         "type": "histogram",
         "x": [
          19.393586,
          19.461703,
          19.533421,
          20.048278,
          19.826333,
          19.674986,
          19.769541,
          20.0185,
          19.618648,
          20.817297
         ],
         "xaxis": "x",
         "yaxis": "y"
        },
        {
         "marker": {
          "color": "rgb(44, 160, 44)"
         },
         "showlegend": false,
         "type": "histogram",
         "x": [
          19.594491,
          19.611646,
          19.45969,
          19.801702,
          19.731188,
          20.012951,
          20.194771,
          19.926438,
          20.195806,
          20.441522
         ],
         "xaxis": "x",
         "yaxis": "y"
        },
        {
         "marker": {
          "color": "rgb(214, 39, 40)"
         },
         "showlegend": false,
         "type": "histogram",
         "x": [
          19.228001,
          19.285689,
          19.812221,
          19.745607,
          19.578513,
          20.287041,
          19.587371,
          20.397967,
          19.797566,
          20.948406
         ],
         "xaxis": "x",
         "yaxis": "y"
        },
        {
         "marker": {
          "color": "rgb(148, 103, 189)"
         },
         "showlegend": false,
         "type": "histogram",
         "x": [
          19.012345,
          19.068004,
          19.48595,
          19.485471,
          19.006089,
          19.268487,
          19.271215,
          19.474061,
          19.79699,
          19.25266
         ],
         "xaxis": "x",
         "yaxis": "y"
        },
        {
         "marker": {
          "color": "rgb(140, 86, 75)"
         },
         "showlegend": false,
         "type": "histogram",
         "x": [
          18.45464,
          18.380234,
          18.344352,
          18.547231,
          18.600965,
          18.796496,
          18.774649,
          18.733993,
          18.663682,
          18.66999
         ],
         "xaxis": "x",
         "yaxis": "y"
        },
        {
         "marker": {
          "color": "rgb(227, 119, 194)"
         },
         "showlegend": false,
         "type": "histogram",
         "x": [
          18.649621,
          18.665314,
          18.606044,
          18.718517,
          18.707071,
          19.11845,
          18.809439,
          18.816295,
          18.996665,
          19.192968
         ],
         "xaxis": "x",
         "yaxis": "y"
        },
        {
         "marker": {
          "color": "rgb(127, 127, 127)"
         },
         "showlegend": false,
         "type": "histogram",
         "x": [
          18.514033,
          18.728872,
          18.711322,
          18.60818,
          18.712145,
          18.905862,
          18.936769,
          18.821412,
          18.906184,
          18.811494
         ],
         "xaxis": "x",
         "yaxis": "y"
        },
        {
         "marker": {
          "color": "rgb(188, 189, 34)"
         },
         "showlegend": false,
         "type": "histogram",
         "x": [
          18.395804,
          18.363616,
          18.423788,
          18.514807,
          18.471405,
          18.755247,
          18.725226,
          18.54685,
          18.778535,
          18.687344
         ],
         "xaxis": "x",
         "yaxis": "y"
        },
        {
         "marker": {
          "color": "rgb(23, 190, 207)"
         },
         "showlegend": false,
         "type": "histogram",
         "x": [
          18.229085,
          18.21793,
          18.185922,
          18.346837,
          18.74941,
          18.302186,
          18.64373,
          18.799245,
          18.962127,
          18.661617
         ],
         "xaxis": "x",
         "yaxis": "y"
        },
        {
         "marker": {
          "color": "rgb(31, 119, 180)"
         },
         "showlegend": false,
         "type": "histogram",
         "x": [
          18.535857,
          18.670766,
          18.720573,
          18.650063,
          18.777439,
          19.150556,
          19.153943,
          19.116595,
          19.00819,
          18.914761
         ],
         "xaxis": "x",
         "yaxis": "y"
        },
        {
         "marker": {
          "color": "rgb(255, 127, 14)"
         },
         "showlegend": false,
         "type": "histogram",
         "x": [
          18.922215,
          18.9776,
          19.019648,
          19.012149,
          19.031726,
          19.524324,
          19.767512,
          19.200118,
          19.777524,
          19.652129
         ],
         "xaxis": "x",
         "yaxis": "y"
        },
        {
         "marker": {
          "color": "rgb(44, 160, 44)"
         },
         "showlegend": false,
         "type": "histogram",
         "x": [
          18.895485,
          18.969705,
          19.189305,
          19.079588,
          19.061486,
          20.189262,
          20.290944,
          19.049993,
          19.125067,
          19.697991
         ],
         "xaxis": "x",
         "yaxis": "y"
        },
        {
         "marker": {
          "color": "rgb(214, 39, 40)"
         },
         "showlegend": false,
         "type": "histogram",
         "x": [
          19.382183,
          19.402305,
          19.529972,
          19.79632,
          19.472186,
          19.610724,
          19.73897,
          20.079884,
          20.065399,
          20.163658
         ],
         "xaxis": "x",
         "yaxis": "y"
        },
        {
         "marker": {
          "color": "rgb(31, 119, 180)",
          "size": 6
         },
         "mode": "markers",
         "name": "g++-10",
         "showlegend": true,
         "type": "scatter",
         "x": [
          275.79,
          285.48,
          291.66,
          288.9,
          294.17,
          290.75,
          287.99,
          287.16,
          286.31,
          293.54
         ],
         "xaxis": "x2",
         "y": [
          19.198182,
          19.261238,
          19.531092,
          19.195272,
          19.40385,
          19.589156,
          20.036617,
          19.994316,
          20.031973,
          19.690765
         ],
         "yaxis": "y2"
        },
        {
         "marker": {
          "color": "rgb(255, 127, 14)",
          "size": 6
         },
         "mode": "markers",
         "name": "g++-11",
         "showlegend": true,
         "type": "scatter",
         "x": [
          286.25,
          304.56,
          294.95,
          297.5,
          299.43,
          299.54,
          290.95,
          285.99,
          293.17,
          269.07
         ],
         "xaxis": "x2",
         "y": [
          19.393586,
          19.461703,
          19.533421,
          20.048278,
          19.826333,
          19.674986,
          19.769541,
          20.0185,
          19.618648,
          20.817297
         ],
         "yaxis": "y2"
        },
        {
         "marker": {
          "color": "rgb(44, 160, 44)",
          "size": 6
         },
         "mode": "markers",
         "name": "g++-12",
         "showlegend": true,
         "type": "scatter",
         "x": [
          282.32,
          292.88,
          292.5,
          294.83,
          296.52,
          300.36,
          290.87,
          293.35,
          289.18,
          281.43
         ],
         "xaxis": "x2",
         "y": [
          19.594491,
          19.611646,
          19.45969,
          19.801702,
          19.731188,
          20.012951,
          20.194771,
          19.926438,
          20.195806,
          20.441522
         ],
         "yaxis": "y2"
        },
        {
         "marker": {
          "color": "rgb(214, 39, 40)",
          "size": 6
         },
         "mode": "markers",
         "name": "g++-13",
         "showlegend": true,
         "type": "scatter",
         "x": [
          281.68,
          295.24,
          298.2,
          292.67,
          296.15,
          309.72,
          296.12,
          293.94,
          291.21,
          264.71
         ],
         "xaxis": "x2",
         "y": [
          19.228001,
          19.285689,
          19.812221,
          19.745607,
          19.578513,
          20.287041,
          19.587371,
          20.397967,
          19.797566,
          20.948406
         ],
         "yaxis": "y2"
        },
        {
         "marker": {
          "color": "rgb(148, 103, 189)",
          "size": 6
         },
         "mode": "markers",
         "name": "g++-4.4",
         "showlegend": true,
         "type": "scatter",
         "x": [
          276.73,
          283.23,
          292.54,
          293.64,
          284.07,
          287.17,
          291.53,
          293.55,
          298.61,
          292.07
         ],
         "xaxis": "x2",
         "y": [
          19.012345,
          19.068004,
          19.48595,
          19.485471,
          19.006089,
          19.268487,
          19.271215,
          19.474061,
          19.79699,
          19.25266
         ],
         "yaxis": "y2"
        },
        {
         "marker": {
          "color": "rgb(140, 86, 75)",
          "size": 6
         },
         "mode": "markers",
         "name": "g++-4.6",
         "showlegend": true,
         "type": "scatter",
         "x": [
          269.19,
          269.33,
          271.38,
          280.13,
          278.99,
          275.38,
          279.64,
          276.84,
          279,
          278.88
         ],
         "xaxis": "x2",
         "y": [
          18.45464,
          18.380234,
          18.344352,
          18.547231,
          18.600965,
          18.796496,
          18.774649,
          18.733993,
          18.663682,
          18.66999
         ],
         "yaxis": "y2"
        },
        {
         "marker": {
          "color": "rgb(227, 119, 194)",
          "size": 6
         },
         "mode": "markers",
         "name": "g++-4.7",
         "showlegend": true,
         "type": "scatter",
         "x": [
          270.35,
          279.98,
          279.53,
          283.89,
          282.44,
          277.3,
          283.81,
          281.06,
          275.63,
          274.91
         ],
         "xaxis": "x2",
         "y": [
          18.649621,
          18.665314,
          18.606044,
          18.718517,
          18.707071,
          19.11845,
          18.809439,
          18.816295,
          18.996665,
          19.192968
         ],
         "yaxis": "y2"
        },
        {
         "marker": {
          "color": "rgb(127, 127, 127)",
          "size": 6
         },
         "mode": "markers",
         "name": "g++-4.8",
         "showlegend": true,
         "type": "scatter",
         "x": [
          270.8,
          278.26,
          280.91,
          274.76,
          281.36,
          285.65,
          270.03,
          281.31,
          281.33,
          279.13
         ],
         "xaxis": "x2",
         "y": [
          18.514033,
          18.728872,
          18.711322,
          18.60818,
          18.712145,
          18.905862,
          18.936769,
          18.821412,
          18.906184,
          18.811494
         ],
         "yaxis": "y2"
        },
        {
         "marker": {
          "color": "rgb(188, 189, 34)",
          "size": 6
         },
         "mode": "markers",
         "name": "g++-4.9",
         "showlegend": true,
         "type": "scatter",
         "x": [
          269.7,
          273.86,
          270.55,
          281.56,
          276.88,
          268.72,
          276.19,
          276.35,
          271.26,
          276.17
         ],
         "xaxis": "x2",
         "y": [
          18.395804,
          18.363616,
          18.423788,
          18.514807,
          18.471405,
          18.755247,
          18.725226,
          18.54685,
          18.778535,
          18.687344
         ],
         "yaxis": "y2"
        },
        {
         "marker": {
          "color": "rgb(23, 190, 207)",
          "size": 6
         },
         "mode": "markers",
         "name": "g++-5",
         "showlegend": true,
         "type": "scatter",
         "x": [
          266.37,
          272.14,
          273.27,
          276.74,
          269.28,
          271.78,
          270.5,
          272.5,
          267.42,
          274.26
         ],
         "xaxis": "x2",
         "y": [
          18.229085,
          18.21793,
          18.185922,
          18.346837,
          18.74941,
          18.302186,
          18.64373,
          18.799245,
          18.962127,
          18.661617
         ],
         "yaxis": "y2"
        },
        {
         "marker": {
          "color": "rgb(31, 119, 180)",
          "size": 6
         },
         "mode": "markers",
         "name": "g++-6",
         "showlegend": true,
         "type": "scatter",
         "x": [
          269.48,
          281.78,
          278.86,
          282.06,
          282.84,
          273.75,
          273.98,
          271.36,
          276.66,
          271.33
         ],
         "xaxis": "x2",
         "y": [
          18.535857,
          18.670766,
          18.720573,
          18.650063,
          18.777439,
          19.150556,
          19.153943,
          19.116595,
          19.00819,
          18.914761
         ],
         "yaxis": "y2"
        },
        {
         "marker": {
          "color": "rgb(255, 127, 14)",
          "size": 6
         },
         "mode": "markers",
         "name": "g++-7",
         "showlegend": true,
         "type": "scatter",
         "x": [
          279.77,
          280.13,
          291.17,
          286.18,
          288.02,
          281.75,
          284.35,
          287.38,
          281.87,
          278.25
         ],
         "xaxis": "x2",
         "y": [
          18.922215,
          18.9776,
          19.019648,
          19.012149,
          19.031726,
          19.524324,
          19.767512,
          19.200118,
          19.777524,
          19.652129
         ],
         "yaxis": "y2"
        },
        {
         "marker": {
          "color": "rgb(44, 160, 44)",
          "size": 6
         },
         "mode": "markers",
         "name": "g++-8",
         "showlegend": true,
         "type": "scatter",
         "x": [
          278.09,
          284.56,
          283.05,
          284.93,
          287.02,
          304.4,
          352.36,
          276.9,
          280.69,
          273.23
         ],
         "xaxis": "x2",
         "y": [
          18.895485,
          18.969705,
          19.189305,
          19.079588,
          19.061486,
          20.189262,
          20.290944,
          19.049993,
          19.125067,
          19.697991
         ],
         "yaxis": "y2"
        },
        {
         "marker": {
          "color": "rgb(214, 39, 40)",
          "size": 6
         },
         "mode": "markers",
         "name": "g++-9",
         "showlegend": true,
         "type": "scatter",
         "x": [
          288.96,
          291.21,
          290.62,
          292,
          294.08,
          289.67,
          289.76,
          287.17,
          286.6,
          281.55
         ],
         "xaxis": "x2",
         "y": [
          19.382183,
          19.402305,
          19.529972,
          19.79632,
          19.472186,
          19.610724,
          19.73897,
          20.079884,
          20.065399,
          20.163658
         ],
         "yaxis": "y2"
        },
        {
         "marker": {
          "color": "rgb(31, 119, 180)",
          "size": 6
         },
         "mode": "markers",
         "name": "g++-10",
         "showlegend": false,
         "type": "scatter",
         "x": [
          14.04,
          14.08,
          14.21,
          14.05,
          14.19,
          14.3,
          14.54,
          14.55,
          14.58,
          14.35
         ],
         "xaxis": "x3",
         "y": [
          19.198182,
          19.261238,
          19.531092,
          19.195272,
          19.40385,
          19.589156,
          20.036617,
          19.994316,
          20.031973,
          19.690765
         ],
         "yaxis": "y3"
        },
        {
         "marker": {
          "color": "rgb(255, 127, 14)",
          "size": 6
         },
         "mode": "markers",
         "name": "g++-11",
         "showlegend": false,
         "type": "scatter",
         "x": [
          14.15,
          14.22,
          14.23,
          14.62,
          14.42,
          14.36,
          14.43,
          14.5,
          14.31,
          14.98
         ],
         "xaxis": "x3",
         "y": [
          19.393586,
          19.461703,
          19.533421,
          20.048278,
          19.826333,
          19.674986,
          19.769541,
          20.0185,
          19.618648,
          20.817297
         ],
         "yaxis": "y3"
        },
        {
         "marker": {
          "color": "rgb(44, 160, 44)",
          "size": 6
         },
         "mode": "markers",
         "name": "g++-12",
         "showlegend": false,
         "type": "scatter",
         "x": [
          14.41,
          14.42,
          14.34,
          14.52,
          14.5,
          14.61,
          14.78,
          14.61,
          14.81,
          14.92
         ],
         "xaxis": "x3",
         "y": [
          19.594491,
          19.611646,
          19.45969,
          19.801702,
          19.731188,
          20.012951,
          20.194771,
          19.926438,
          20.195806,
          20.441522
         ],
         "yaxis": "y3"
        },
        {
         "marker": {
          "color": "rgb(214, 39, 40)",
          "size": 6
         },
         "mode": "markers",
         "name": "g++-13",
         "showlegend": false,
         "type": "scatter",
         "x": [
          14.18,
          14.21,
          14.48,
          14.51,
          14.48,
          14.76,
          14.47,
          14.87,
          14.61,
          15.17
         ],
         "xaxis": "x3",
         "y": [
          19.228001,
          19.285689,
          19.812221,
          19.745607,
          19.578513,
          20.287041,
          19.587371,
          20.397967,
          19.797566,
          20.948406
         ],
         "yaxis": "y3"
        },
        {
         "marker": {
          "color": "rgb(148, 103, 189)",
          "size": 6
         },
         "mode": "markers",
         "name": "g++-4.4",
         "showlegend": false,
         "type": "scatter",
         "x": [
          14.03,
          14,
          14.19,
          14.27,
          13.97,
          14.15,
          14.18,
          14.22,
          14.43,
          14.08
         ],
         "xaxis": "x3",
         "y": [
          19.012345,
          19.068004,
          19.48595,
          19.485471,
          19.006089,
          19.268487,
          19.271215,
          19.474061,
          19.79699,
          19.25266
         ],
         "yaxis": "y3"
        },
        {
         "marker": {
          "color": "rgb(140, 86, 75)",
          "size": 6
         },
         "mode": "markers",
         "name": "g++-4.6",
         "showlegend": false,
         "type": "scatter",
         "x": [
          13.65,
          13.62,
          13.57,
          13.74,
          13.79,
          13.82,
          13.88,
          13.85,
          13.79,
          13.8
         ],
         "xaxis": "x3",
         "y": [
          18.45464,
          18.380234,
          18.344352,
          18.547231,
          18.600965,
          18.796496,
          18.774649,
          18.733993,
          18.663682,
          18.66999
         ],
         "yaxis": "y3"
        },
        {
         "marker": {
          "color": "rgb(227, 119, 194)",
          "size": 6
         },
         "mode": "markers",
         "name": "g++-4.7",
         "showlegend": false,
         "type": "scatter",
         "x": [
          13.76,
          13.75,
          13.68,
          13.83,
          13.85,
          14.05,
          13.9,
          13.86,
          13.93,
          14.1
         ],
         "xaxis": "x3",
         "y": [
          18.649621,
          18.665314,
          18.606044,
          18.718517,
          18.707071,
          19.11845,
          18.809439,
          18.816295,
          18.996665,
          19.192968
         ],
         "yaxis": "y3"
        },
        {
         "marker": {
          "color": "rgb(127, 127, 127)",
          "size": 6
         },
         "mode": "markers",
         "name": "g++-4.8",
         "showlegend": false,
         "type": "scatter",
         "x": [
          13.7,
          13.85,
          13.81,
          13.78,
          13.84,
          13.98,
          13.93,
          13.83,
          13.89,
          13.89
         ],
         "xaxis": "x3",
         "y": [
          18.514033,
          18.728872,
          18.711322,
          18.60818,
          18.712145,
          18.905862,
          18.936769,
          18.821412,
          18.906184,
          18.811494
         ],
         "yaxis": "y3"
        },
        {
         "marker": {
          "color": "rgb(188, 189, 34)",
          "size": 6
         },
         "mode": "markers",
         "name": "g++-4.9",
         "showlegend": false,
         "type": "scatter",
         "x": [
          13.64,
          13.64,
          13.61,
          13.73,
          13.72,
          13.87,
          13.86,
          13.75,
          13.89,
          13.82
         ],
         "xaxis": "x3",
         "y": [
          18.395804,
          18.363616,
          18.423788,
          18.514807,
          18.471405,
          18.755247,
          18.725226,
          18.54685,
          18.778535,
          18.687344
         ],
         "yaxis": "y3"
        },
        {
         "marker": {
          "color": "rgb(23, 190, 207)",
          "size": 6
         },
         "mode": "markers",
         "name": "g++-5",
         "showlegend": false,
         "type": "scatter",
         "x": [
          13.56,
          13.55,
          13.47,
          13.66,
          13.89,
          13.57,
          13.76,
          13.92,
          13.97,
          13.77
         ],
         "xaxis": "x3",
         "y": [
          18.229085,
          18.21793,
          18.185922,
          18.346837,
          18.74941,
          18.302186,
          18.64373,
          18.799245,
          18.962127,
          18.661617
         ],
         "yaxis": "y3"
        },
        {
         "marker": {
          "color": "rgb(31, 119, 180)",
          "size": 6
         },
         "mode": "markers",
         "name": "g++-6",
         "showlegend": false,
         "type": "scatter",
         "x": [
          13.67,
          13.76,
          13.73,
          13.74,
          13.9,
          13.96,
          14.01,
          14,
          13.98,
          13.89
         ],
         "xaxis": "x3",
         "y": [
          18.535857,
          18.670766,
          18.720573,
          18.650063,
          18.777439,
          19.150556,
          19.153943,
          19.116595,
          19.00819,
          18.914761
         ],
         "yaxis": "y3"
        },
        {
         "marker": {
          "color": "rgb(255, 127, 14)",
          "size": 6
         },
         "mode": "markers",
         "name": "g++-7",
         "showlegend": false,
         "type": "scatter",
         "x": [
          13.97,
          13.92,
          13.94,
          14.02,
          13.99,
          14.28,
          14.41,
          14.11,
          14.35,
          14.35
         ],
         "xaxis": "x3",
         "y": [
          18.922215,
          18.9776,
          19.019648,
          19.012149,
          19.031726,
          19.524324,
          19.767512,
          19.200118,
          19.777524,
          19.652129
         ],
         "yaxis": "y3"
        },
        {
         "marker": {
          "color": "rgb(44, 160, 44)",
          "size": 6
         },
         "mode": "markers",
         "name": "g++-8",
         "showlegend": false,
         "type": "scatter",
         "x": [
          13.9,
          13.94,
          14.03,
          14.04,
          14.04,
          16.53,
          16.68,
          13.93,
          14.06,
          14.36
         ],
         "xaxis": "x3",
         "y": [
          18.895485,
          18.969705,
          19.189305,
          19.079588,
          19.061486,
          20.189262,
          20.290944,
          19.049993,
          19.125067,
          19.697991
         ],
         "yaxis": "y3"
        },
        {
         "marker": {
          "color": "rgb(214, 39, 40)",
          "size": 6
         },
         "mode": "markers",
         "name": "g++-9",
         "showlegend": false,
         "type": "scatter",
         "x": [
          14.23,
          14.18,
          14.3,
          14.48,
          14.26,
          14.33,
          14.35,
          14.45,
          14.57,
          14.61
         ],
         "xaxis": "x3",
         "y": [
          19.382183,
          19.402305,
          19.529972,
          19.79632,
          19.472186,
          19.610724,
          19.73897,
          20.079884,
          20.065399,
          20.163658
         ],
         "yaxis": "y3"
        },
        {
         "marker": {
          "color": "rgb(31, 119, 180)",
          "size": 6
         },
         "mode": "markers",
         "name": "g++-10",
         "showlegend": false,
         "type": "scatter",
         "x": [
          19.198182,
          19.261238,
          19.531092,
          19.195272,
          19.40385,
          19.589156,
          20.036617,
          19.994316,
          20.031973,
          19.690765
         ],
         "xaxis": "x4",
         "y": [
          275.79,
          285.48,
          291.66,
          288.9,
          294.17,
          290.75,
          287.99,
          287.16,
          286.31,
          293.54
         ],
         "yaxis": "y4"
        },
        {
         "marker": {
          "color": "rgb(255, 127, 14)",
          "size": 6
         },
         "mode": "markers",
         "name": "g++-11",
         "showlegend": false,
         "type": "scatter",
         "x": [
          19.393586,
          19.461703,
          19.533421,
          20.048278,
          19.826333,
          19.674986,
          19.769541,
          20.0185,
          19.618648,
          20.817297
         ],
         "xaxis": "x4",
         "y": [
          286.25,
          304.56,
          294.95,
          297.5,
          299.43,
          299.54,
          290.95,
          285.99,
          293.17,
          269.07
         ],
         "yaxis": "y4"
        },
        {
         "marker": {
          "color": "rgb(44, 160, 44)",
          "size": 6
         },
         "mode": "markers",
         "name": "g++-12",
         "showlegend": false,
         "type": "scatter",
         "x": [
          19.594491,
          19.611646,
          19.45969,
          19.801702,
          19.731188,
          20.012951,
          20.194771,
          19.926438,
          20.195806,
          20.441522
         ],
         "xaxis": "x4",
         "y": [
          282.32,
          292.88,
          292.5,
          294.83,
          296.52,
          300.36,
          290.87,
          293.35,
          289.18,
          281.43
         ],
         "yaxis": "y4"
        },
        {
         "marker": {
          "color": "rgb(214, 39, 40)",
          "size": 6
         },
         "mode": "markers",
         "name": "g++-13",
         "showlegend": false,
         "type": "scatter",
         "x": [
          19.228001,
          19.285689,
          19.812221,
          19.745607,
          19.578513,
          20.287041,
          19.587371,
          20.397967,
          19.797566,
          20.948406
         ],
         "xaxis": "x4",
         "y": [
          281.68,
          295.24,
          298.2,
          292.67,
          296.15,
          309.72,
          296.12,
          293.94,
          291.21,
          264.71
         ],
         "yaxis": "y4"
        },
        {
         "marker": {
          "color": "rgb(148, 103, 189)",
          "size": 6
         },
         "mode": "markers",
         "name": "g++-4.4",
         "showlegend": false,
         "type": "scatter",
         "x": [
          19.012345,
          19.068004,
          19.48595,
          19.485471,
          19.006089,
          19.268487,
          19.271215,
          19.474061,
          19.79699,
          19.25266
         ],
         "xaxis": "x4",
         "y": [
          276.73,
          283.23,
          292.54,
          293.64,
          284.07,
          287.17,
          291.53,
          293.55,
          298.61,
          292.07
         ],
         "yaxis": "y4"
        },
        {
         "marker": {
          "color": "rgb(140, 86, 75)",
          "size": 6
         },
         "mode": "markers",
         "name": "g++-4.6",
         "showlegend": false,
         "type": "scatter",
         "x": [
          18.45464,
          18.380234,
          18.344352,
          18.547231,
          18.600965,
          18.796496,
          18.774649,
          18.733993,
          18.663682,
          18.66999
         ],
         "xaxis": "x4",
         "y": [
          269.19,
          269.33,
          271.38,
          280.13,
          278.99,
          275.38,
          279.64,
          276.84,
          279,
          278.88
         ],
         "yaxis": "y4"
        },
        {
         "marker": {
          "color": "rgb(227, 119, 194)",
          "size": 6
         },
         "mode": "markers",
         "name": "g++-4.7",
         "showlegend": false,
         "type": "scatter",
         "x": [
          18.649621,
          18.665314,
          18.606044,
          18.718517,
          18.707071,
          19.11845,
          18.809439,
          18.816295,
          18.996665,
          19.192968
         ],
         "xaxis": "x4",
         "y": [
          270.35,
          279.98,
          279.53,
          283.89,
          282.44,
          277.3,
          283.81,
          281.06,
          275.63,
          274.91
         ],
         "yaxis": "y4"
        },
        {
         "marker": {
          "color": "rgb(127, 127, 127)",
          "size": 6
         },
         "mode": "markers",
         "name": "g++-4.8",
         "showlegend": false,
         "type": "scatter",
         "x": [
          18.514033,
          18.728872,
          18.711322,
          18.60818,
          18.712145,
          18.905862,
          18.936769,
          18.821412,
          18.906184,
          18.811494
         ],
         "xaxis": "x4",
         "y": [
          270.8,
          278.26,
          280.91,
          274.76,
          281.36,
          285.65,
          270.03,
          281.31,
          281.33,
          279.13
         ],
         "yaxis": "y4"
        },
        {
         "marker": {
          "color": "rgb(188, 189, 34)",
          "size": 6
         },
         "mode": "markers",
         "name": "g++-4.9",
         "showlegend": false,
         "type": "scatter",
         "x": [
          18.395804,
          18.363616,
          18.423788,
          18.514807,
          18.471405,
          18.755247,
          18.725226,
          18.54685,
          18.778535,
          18.687344
         ],
         "xaxis": "x4",
         "y": [
          269.7,
          273.86,
          270.55,
          281.56,
          276.88,
          268.72,
          276.19,
          276.35,
          271.26,
          276.17
         ],
         "yaxis": "y4"
        },
        {
         "marker": {
          "color": "rgb(23, 190, 207)",
          "size": 6
         },
         "mode": "markers",
         "name": "g++-5",
         "showlegend": false,
         "type": "scatter",
         "x": [
          18.229085,
          18.21793,
          18.185922,
          18.346837,
          18.74941,
          18.302186,
          18.64373,
          18.799245,
          18.962127,
          18.661617
         ],
         "xaxis": "x4",
         "y": [
          266.37,
          272.14,
          273.27,
          276.74,
          269.28,
          271.78,
          270.5,
          272.5,
          267.42,
          274.26
         ],
         "yaxis": "y4"
        },
        {
         "marker": {
          "color": "rgb(31, 119, 180)",
          "size": 6
         },
         "mode": "markers",
         "name": "g++-6",
         "showlegend": false,
         "type": "scatter",
         "x": [
          18.535857,
          18.670766,
          18.720573,
          18.650063,
          18.777439,
          19.150556,
          19.153943,
          19.116595,
          19.00819,
          18.914761
         ],
         "xaxis": "x4",
         "y": [
          269.48,
          281.78,
          278.86,
          282.06,
          282.84,
          273.75,
          273.98,
          271.36,
          276.66,
          271.33
         ],
         "yaxis": "y4"
        },
        {
         "marker": {
          "color": "rgb(255, 127, 14)",
          "size": 6
         },
         "mode": "markers",
         "name": "g++-7",
         "showlegend": false,
         "type": "scatter",
         "x": [
          18.922215,
          18.9776,
          19.019648,
          19.012149,
          19.031726,
          19.524324,
          19.767512,
          19.200118,
          19.777524,
          19.652129
         ],
         "xaxis": "x4",
         "y": [
          279.77,
          280.13,
          291.17,
          286.18,
          288.02,
          281.75,
          284.35,
          287.38,
          281.87,
          278.25
         ],
         "yaxis": "y4"
        },
        {
         "marker": {
          "color": "rgb(44, 160, 44)",
          "size": 6
         },
         "mode": "markers",
         "name": "g++-8",
         "showlegend": false,
         "type": "scatter",
         "x": [
          18.895485,
          18.969705,
          19.189305,
          19.079588,
          19.061486,
          20.189262,
          20.290944,
          19.049993,
          19.125067,
          19.697991
         ],
         "xaxis": "x4",
         "y": [
          278.09,
          284.56,
          283.05,
          284.93,
          287.02,
          304.4,
          352.36,
          276.9,
          280.69,
          273.23
         ],
         "yaxis": "y4"
        },
        {
         "marker": {
          "color": "rgb(214, 39, 40)",
          "size": 6
         },
         "mode": "markers",
         "name": "g++-9",
         "showlegend": false,
         "type": "scatter",
         "x": [
          19.382183,
          19.402305,
          19.529972,
          19.79632,
          19.472186,
          19.610724,
          19.73897,
          20.079884,
          20.065399,
          20.163658
         ],
         "xaxis": "x4",
         "y": [
          288.96,
          291.21,
          290.62,
          292,
          294.08,
          289.67,
          289.76,
          287.17,
          286.6,
          281.55
         ],
         "yaxis": "y4"
        },
        {
         "marker": {
          "color": "rgb(31, 119, 180)"
         },
         "showlegend": false,
         "type": "histogram",
         "x": [
          275.79,
          285.48,
          291.66,
          288.9,
          294.17,
          290.75,
          287.99,
          287.16,
          286.31,
          293.54
         ],
         "xaxis": "x5",
         "yaxis": "y5"
        },
        {
         "marker": {
          "color": "rgb(255, 127, 14)"
         },
         "showlegend": false,
         "type": "histogram",
         "x": [
          286.25,
          304.56,
          294.95,
          297.5,
          299.43,
          299.54,
          290.95,
          285.99,
          293.17,
          269.07
         ],
         "xaxis": "x5",
         "yaxis": "y5"
        },
        {
         "marker": {
          "color": "rgb(44, 160, 44)"
         },
         "showlegend": false,
         "type": "histogram",
         "x": [
          282.32,
          292.88,
          292.5,
          294.83,
          296.52,
          300.36,
          290.87,
          293.35,
          289.18,
          281.43
         ],
         "xaxis": "x5",
         "yaxis": "y5"
        },
        {
         "marker": {
          "color": "rgb(214, 39, 40)"
         },
         "showlegend": false,
         "type": "histogram",
         "x": [
          281.68,
          295.24,
          298.2,
          292.67,
          296.15,
          309.72,
          296.12,
          293.94,
          291.21,
          264.71
         ],
         "xaxis": "x5",
         "yaxis": "y5"
        },
        {
         "marker": {
          "color": "rgb(148, 103, 189)"
         },
         "showlegend": false,
         "type": "histogram",
         "x": [
          276.73,
          283.23,
          292.54,
          293.64,
          284.07,
          287.17,
          291.53,
          293.55,
          298.61,
          292.07
         ],
         "xaxis": "x5",
         "yaxis": "y5"
        },
        {
         "marker": {
          "color": "rgb(140, 86, 75)"
         },
         "showlegend": false,
         "type": "histogram",
         "x": [
          269.19,
          269.33,
          271.38,
          280.13,
          278.99,
          275.38,
          279.64,
          276.84,
          279,
          278.88
         ],
         "xaxis": "x5",
         "yaxis": "y5"
        },
        {
         "marker": {
          "color": "rgb(227, 119, 194)"
         },
         "showlegend": false,
         "type": "histogram",
         "x": [
          270.35,
          279.98,
          279.53,
          283.89,
          282.44,
          277.3,
          283.81,
          281.06,
          275.63,
          274.91
         ],
         "xaxis": "x5",
         "yaxis": "y5"
        },
        {
         "marker": {
          "color": "rgb(127, 127, 127)"
         },
         "showlegend": false,
         "type": "histogram",
         "x": [
          270.8,
          278.26,
          280.91,
          274.76,
          281.36,
          285.65,
          270.03,
          281.31,
          281.33,
          279.13
         ],
         "xaxis": "x5",
         "yaxis": "y5"
        },
        {
         "marker": {
          "color": "rgb(188, 189, 34)"
         },
         "showlegend": false,
         "type": "histogram",
         "x": [
          269.7,
          273.86,
          270.55,
          281.56,
          276.88,
          268.72,
          276.19,
          276.35,
          271.26,
          276.17
         ],
         "xaxis": "x5",
         "yaxis": "y5"
        },
        {
         "marker": {
          "color": "rgb(23, 190, 207)"
         },
         "showlegend": false,
         "type": "histogram",
         "x": [
          266.37,
          272.14,
          273.27,
          276.74,
          269.28,
          271.78,
          270.5,
          272.5,
          267.42,
          274.26
         ],
         "xaxis": "x5",
         "yaxis": "y5"
        },
        {
         "marker": {
          "color": "rgb(31, 119, 180)"
         },
         "showlegend": false,
         "type": "histogram",
         "x": [
          269.48,
          281.78,
          278.86,
          282.06,
          282.84,
          273.75,
          273.98,
          271.36,
          276.66,
          271.33
         ],
         "xaxis": "x5",
         "yaxis": "y5"
        },
        {
         "marker": {
          "color": "rgb(255, 127, 14)"
         },
         "showlegend": false,
         "type": "histogram",
         "x": [
          279.77,
          280.13,
          291.17,
          286.18,
          288.02,
          281.75,
          284.35,
          287.38,
          281.87,
          278.25
         ],
         "xaxis": "x5",
         "yaxis": "y5"
        },
        {
         "marker": {
          "color": "rgb(44, 160, 44)"
         },
         "showlegend": false,
         "type": "histogram",
         "x": [
          278.09,
          284.56,
          283.05,
          284.93,
          287.02,
          304.4,
          352.36,
          276.9,
          280.69,
          273.23
         ],
         "xaxis": "x5",
         "yaxis": "y5"
        },
        {
         "marker": {
          "color": "rgb(214, 39, 40)"
         },
         "showlegend": false,
         "type": "histogram",
         "x": [
          288.96,
          291.21,
          290.62,
          292,
          294.08,
          289.67,
          289.76,
          287.17,
          286.6,
          281.55
         ],
         "xaxis": "x5",
         "yaxis": "y5"
        },
        {
         "marker": {
          "color": "rgb(31, 119, 180)",
          "size": 6
         },
         "mode": "markers",
         "name": "g++-10",
         "showlegend": false,
         "type": "scatter",
         "x": [
          14.04,
          14.08,
          14.21,
          14.05,
          14.19,
          14.3,
          14.54,
          14.55,
          14.58,
          14.35
         ],
         "xaxis": "x6",
         "y": [
          275.79,
          285.48,
          291.66,
          288.9,
          294.17,
          290.75,
          287.99,
          287.16,
          286.31,
          293.54
         ],
         "yaxis": "y6"
        },
        {
         "marker": {
          "color": "rgb(255, 127, 14)",
          "size": 6
         },
         "mode": "markers",
         "name": "g++-11",
         "showlegend": false,
         "type": "scatter",
         "x": [
          14.15,
          14.22,
          14.23,
          14.62,
          14.42,
          14.36,
          14.43,
          14.5,
          14.31,
          14.98
         ],
         "xaxis": "x6",
         "y": [
          286.25,
          304.56,
          294.95,
          297.5,
          299.43,
          299.54,
          290.95,
          285.99,
          293.17,
          269.07
         ],
         "yaxis": "y6"
        },
        {
         "marker": {
          "color": "rgb(44, 160, 44)",
          "size": 6
         },
         "mode": "markers",
         "name": "g++-12",
         "showlegend": false,
         "type": "scatter",
         "x": [
          14.41,
          14.42,
          14.34,
          14.52,
          14.5,
          14.61,
          14.78,
          14.61,
          14.81,
          14.92
         ],
         "xaxis": "x6",
         "y": [
          282.32,
          292.88,
          292.5,
          294.83,
          296.52,
          300.36,
          290.87,
          293.35,
          289.18,
          281.43
         ],
         "yaxis": "y6"
        },
        {
         "marker": {
          "color": "rgb(214, 39, 40)",
          "size": 6
         },
         "mode": "markers",
         "name": "g++-13",
         "showlegend": false,
         "type": "scatter",
         "x": [
          14.18,
          14.21,
          14.48,
          14.51,
          14.48,
          14.76,
          14.47,
          14.87,
          14.61,
          15.17
         ],
         "xaxis": "x6",
         "y": [
          281.68,
          295.24,
          298.2,
          292.67,
          296.15,
          309.72,
          296.12,
          293.94,
          291.21,
          264.71
         ],
         "yaxis": "y6"
        },
        {
         "marker": {
          "color": "rgb(148, 103, 189)",
          "size": 6
         },
         "mode": "markers",
         "name": "g++-4.4",
         "showlegend": false,
         "type": "scatter",
         "x": [
          14.03,
          14,
          14.19,
          14.27,
          13.97,
          14.15,
          14.18,
          14.22,
          14.43,
          14.08
         ],
         "xaxis": "x6",
         "y": [
          276.73,
          283.23,
          292.54,
          293.64,
          284.07,
          287.17,
          291.53,
          293.55,
          298.61,
          292.07
         ],
         "yaxis": "y6"
        },
        {
         "marker": {
          "color": "rgb(140, 86, 75)",
          "size": 6
         },
         "mode": "markers",
         "name": "g++-4.6",
         "showlegend": false,
         "type": "scatter",
         "x": [
          13.65,
          13.62,
          13.57,
          13.74,
          13.79,
          13.82,
          13.88,
          13.85,
          13.79,
          13.8
         ],
         "xaxis": "x6",
         "y": [
          269.19,
          269.33,
          271.38,
          280.13,
          278.99,
          275.38,
          279.64,
          276.84,
          279,
          278.88
         ],
         "yaxis": "y6"
        },
        {
         "marker": {
          "color": "rgb(227, 119, 194)",
          "size": 6
         },
         "mode": "markers",
         "name": "g++-4.7",
         "showlegend": false,
         "type": "scatter",
         "x": [
          13.76,
          13.75,
          13.68,
          13.83,
          13.85,
          14.05,
          13.9,
          13.86,
          13.93,
          14.1
         ],
         "xaxis": "x6",
         "y": [
          270.35,
          279.98,
          279.53,
          283.89,
          282.44,
          277.3,
          283.81,
          281.06,
          275.63,
          274.91
         ],
         "yaxis": "y6"
        },
        {
         "marker": {
          "color": "rgb(127, 127, 127)",
          "size": 6
         },
         "mode": "markers",
         "name": "g++-4.8",
         "showlegend": false,
         "type": "scatter",
         "x": [
          13.7,
          13.85,
          13.81,
          13.78,
          13.84,
          13.98,
          13.93,
          13.83,
          13.89,
          13.89
         ],
         "xaxis": "x6",
         "y": [
          270.8,
          278.26,
          280.91,
          274.76,
          281.36,
          285.65,
          270.03,
          281.31,
          281.33,
          279.13
         ],
         "yaxis": "y6"
        },
        {
         "marker": {
          "color": "rgb(188, 189, 34)",
          "size": 6
         },
         "mode": "markers",
         "name": "g++-4.9",
         "showlegend": false,
         "type": "scatter",
         "x": [
          13.64,
          13.64,
          13.61,
          13.73,
          13.72,
          13.87,
          13.86,
          13.75,
          13.89,
          13.82
         ],
         "xaxis": "x6",
         "y": [
          269.7,
          273.86,
          270.55,
          281.56,
          276.88,
          268.72,
          276.19,
          276.35,
          271.26,
          276.17
         ],
         "yaxis": "y6"
        },
        {
         "marker": {
          "color": "rgb(23, 190, 207)",
          "size": 6
         },
         "mode": "markers",
         "name": "g++-5",
         "showlegend": false,
         "type": "scatter",
         "x": [
          13.56,
          13.55,
          13.47,
          13.66,
          13.89,
          13.57,
          13.76,
          13.92,
          13.97,
          13.77
         ],
         "xaxis": "x6",
         "y": [
          266.37,
          272.14,
          273.27,
          276.74,
          269.28,
          271.78,
          270.5,
          272.5,
          267.42,
          274.26
         ],
         "yaxis": "y6"
        },
        {
         "marker": {
          "color": "rgb(31, 119, 180)",
          "size": 6
         },
         "mode": "markers",
         "name": "g++-6",
         "showlegend": false,
         "type": "scatter",
         "x": [
          13.67,
          13.76,
          13.73,
          13.74,
          13.9,
          13.96,
          14.01,
          14,
          13.98,
          13.89
         ],
         "xaxis": "x6",
         "y": [
          269.48,
          281.78,
          278.86,
          282.06,
          282.84,
          273.75,
          273.98,
          271.36,
          276.66,
          271.33
         ],
         "yaxis": "y6"
        },
        {
         "marker": {
          "color": "rgb(255, 127, 14)",
          "size": 6
         },
         "mode": "markers",
         "name": "g++-7",
         "showlegend": false,
         "type": "scatter",
         "x": [
          13.97,
          13.92,
          13.94,
          14.02,
          13.99,
          14.28,
          14.41,
          14.11,
          14.35,
          14.35
         ],
         "xaxis": "x6",
         "y": [
          279.77,
          280.13,
          291.17,
          286.18,
          288.02,
          281.75,
          284.35,
          287.38,
          281.87,
          278.25
         ],
         "yaxis": "y6"
        },
        {
         "marker": {
          "color": "rgb(44, 160, 44)",
          "size": 6
         },
         "mode": "markers",
         "name": "g++-8",
         "showlegend": false,
         "type": "scatter",
         "x": [
          13.9,
          13.94,
          14.03,
          14.04,
          14.04,
          16.53,
          16.68,
          13.93,
          14.06,
          14.36
         ],
         "xaxis": "x6",
         "y": [
          278.09,
          284.56,
          283.05,
          284.93,
          287.02,
          304.4,
          352.36,
          276.9,
          280.69,
          273.23
         ],
         "yaxis": "y6"
        },
        {
         "marker": {
          "color": "rgb(214, 39, 40)",
          "size": 6
         },
         "mode": "markers",
         "name": "g++-9",
         "showlegend": false,
         "type": "scatter",
         "x": [
          14.23,
          14.18,
          14.3,
          14.48,
          14.26,
          14.33,
          14.35,
          14.45,
          14.57,
          14.61
         ],
         "xaxis": "x6",
         "y": [
          288.96,
          291.21,
          290.62,
          292,
          294.08,
          289.67,
          289.76,
          287.17,
          286.6,
          281.55
         ],
         "yaxis": "y6"
        },
        {
         "marker": {
          "color": "rgb(31, 119, 180)",
          "size": 6
         },
         "mode": "markers",
         "name": "g++-10",
         "showlegend": false,
         "type": "scatter",
         "x": [
          19.198182,
          19.261238,
          19.531092,
          19.195272,
          19.40385,
          19.589156,
          20.036617,
          19.994316,
          20.031973,
          19.690765
         ],
         "xaxis": "x7",
         "y": [
          14.04,
          14.08,
          14.21,
          14.05,
          14.19,
          14.3,
          14.54,
          14.55,
          14.58,
          14.35
         ],
         "yaxis": "y7"
        },
        {
         "marker": {
          "color": "rgb(255, 127, 14)",
          "size": 6
         },
         "mode": "markers",
         "name": "g++-11",
         "showlegend": false,
         "type": "scatter",
         "x": [
          19.393586,
          19.461703,
          19.533421,
          20.048278,
          19.826333,
          19.674986,
          19.769541,
          20.0185,
          19.618648,
          20.817297
         ],
         "xaxis": "x7",
         "y": [
          14.15,
          14.22,
          14.23,
          14.62,
          14.42,
          14.36,
          14.43,
          14.5,
          14.31,
          14.98
         ],
         "yaxis": "y7"
        },
        {
         "marker": {
          "color": "rgb(44, 160, 44)",
          "size": 6
         },
         "mode": "markers",
         "name": "g++-12",
         "showlegend": false,
         "type": "scatter",
         "x": [
          19.594491,
          19.611646,
          19.45969,
          19.801702,
          19.731188,
          20.012951,
          20.194771,
          19.926438,
          20.195806,
          20.441522
         ],
         "xaxis": "x7",
         "y": [
          14.41,
          14.42,
          14.34,
          14.52,
          14.5,
          14.61,
          14.78,
          14.61,
          14.81,
          14.92
         ],
         "yaxis": "y7"
        },
        {
         "marker": {
          "color": "rgb(214, 39, 40)",
          "size": 6
         },
         "mode": "markers",
         "name": "g++-13",
         "showlegend": false,
         "type": "scatter",
         "x": [
          19.228001,
          19.285689,
          19.812221,
          19.745607,
          19.578513,
          20.287041,
          19.587371,
          20.397967,
          19.797566,
          20.948406
         ],
         "xaxis": "x7",
         "y": [
          14.18,
          14.21,
          14.48,
          14.51,
          14.48,
          14.76,
          14.47,
          14.87,
          14.61,
          15.17
         ],
         "yaxis": "y7"
        },
        {
         "marker": {
          "color": "rgb(148, 103, 189)",
          "size": 6
         },
         "mode": "markers",
         "name": "g++-4.4",
         "showlegend": false,
         "type": "scatter",
         "x": [
          19.012345,
          19.068004,
          19.48595,
          19.485471,
          19.006089,
          19.268487,
          19.271215,
          19.474061,
          19.79699,
          19.25266
         ],
         "xaxis": "x7",
         "y": [
          14.03,
          14,
          14.19,
          14.27,
          13.97,
          14.15,
          14.18,
          14.22,
          14.43,
          14.08
         ],
         "yaxis": "y7"
        },
        {
         "marker": {
          "color": "rgb(140, 86, 75)",
          "size": 6
         },
         "mode": "markers",
         "name": "g++-4.6",
         "showlegend": false,
         "type": "scatter",
         "x": [
          18.45464,
          18.380234,
          18.344352,
          18.547231,
          18.600965,
          18.796496,
          18.774649,
          18.733993,
          18.663682,
          18.66999
         ],
         "xaxis": "x7",
         "y": [
          13.65,
          13.62,
          13.57,
          13.74,
          13.79,
          13.82,
          13.88,
          13.85,
          13.79,
          13.8
         ],
         "yaxis": "y7"
        },
        {
         "marker": {
          "color": "rgb(227, 119, 194)",
          "size": 6
         },
         "mode": "markers",
         "name": "g++-4.7",
         "showlegend": false,
         "type": "scatter",
         "x": [
          18.649621,
          18.665314,
          18.606044,
          18.718517,
          18.707071,
          19.11845,
          18.809439,
          18.816295,
          18.996665,
          19.192968
         ],
         "xaxis": "x7",
         "y": [
          13.76,
          13.75,
          13.68,
          13.83,
          13.85,
          14.05,
          13.9,
          13.86,
          13.93,
          14.1
         ],
         "yaxis": "y7"
        },
        {
         "marker": {
          "color": "rgb(127, 127, 127)",
          "size": 6
         },
         "mode": "markers",
         "name": "g++-4.8",
         "showlegend": false,
         "type": "scatter",
         "x": [
          18.514033,
          18.728872,
          18.711322,
          18.60818,
          18.712145,
          18.905862,
          18.936769,
          18.821412,
          18.906184,
          18.811494
         ],
         "xaxis": "x7",
         "y": [
          13.7,
          13.85,
          13.81,
          13.78,
          13.84,
          13.98,
          13.93,
          13.83,
          13.89,
          13.89
         ],
         "yaxis": "y7"
        },
        {
         "marker": {
          "color": "rgb(188, 189, 34)",
          "size": 6
         },
         "mode": "markers",
         "name": "g++-4.9",
         "showlegend": false,
         "type": "scatter",
         "x": [
          18.395804,
          18.363616,
          18.423788,
          18.514807,
          18.471405,
          18.755247,
          18.725226,
          18.54685,
          18.778535,
          18.687344
         ],
         "xaxis": "x7",
         "y": [
          13.64,
          13.64,
          13.61,
          13.73,
          13.72,
          13.87,
          13.86,
          13.75,
          13.89,
          13.82
         ],
         "yaxis": "y7"
        },
        {
         "marker": {
          "color": "rgb(23, 190, 207)",
          "size": 6
         },
         "mode": "markers",
         "name": "g++-5",
         "showlegend": false,
         "type": "scatter",
         "x": [
          18.229085,
          18.21793,
          18.185922,
          18.346837,
          18.74941,
          18.302186,
          18.64373,
          18.799245,
          18.962127,
          18.661617
         ],
         "xaxis": "x7",
         "y": [
          13.56,
          13.55,
          13.47,
          13.66,
          13.89,
          13.57,
          13.76,
          13.92,
          13.97,
          13.77
         ],
         "yaxis": "y7"
        },
        {
         "marker": {
          "color": "rgb(31, 119, 180)",
          "size": 6
         },
         "mode": "markers",
         "name": "g++-6",
         "showlegend": false,
         "type": "scatter",
         "x": [
          18.535857,
          18.670766,
          18.720573,
          18.650063,
          18.777439,
          19.150556,
          19.153943,
          19.116595,
          19.00819,
          18.914761
         ],
         "xaxis": "x7",
         "y": [
          13.67,
          13.76,
          13.73,
          13.74,
          13.9,
          13.96,
          14.01,
          14,
          13.98,
          13.89
         ],
         "yaxis": "y7"
        },
        {
         "marker": {
          "color": "rgb(255, 127, 14)",
          "size": 6
         },
         "mode": "markers",
         "name": "g++-7",
         "showlegend": false,
         "type": "scatter",
         "x": [
          18.922215,
          18.9776,
          19.019648,
          19.012149,
          19.031726,
          19.524324,
          19.767512,
          19.200118,
          19.777524,
          19.652129
         ],
         "xaxis": "x7",
         "y": [
          13.97,
          13.92,
          13.94,
          14.02,
          13.99,
          14.28,
          14.41,
          14.11,
          14.35,
          14.35
         ],
         "yaxis": "y7"
        },
        {
         "marker": {
          "color": "rgb(44, 160, 44)",
          "size": 6
         },
         "mode": "markers",
         "name": "g++-8",
         "showlegend": false,
         "type": "scatter",
         "x": [
          18.895485,
          18.969705,
          19.189305,
          19.079588,
          19.061486,
          20.189262,
          20.290944,
          19.049993,
          19.125067,
          19.697991
         ],
         "xaxis": "x7",
         "y": [
          13.9,
          13.94,
          14.03,
          14.04,
          14.04,
          16.53,
          16.68,
          13.93,
          14.06,
          14.36
         ],
         "yaxis": "y7"
        },
        {
         "marker": {
          "color": "rgb(214, 39, 40)",
          "size": 6
         },
         "mode": "markers",
         "name": "g++-9",
         "showlegend": false,
         "type": "scatter",
         "x": [
          19.382183,
          19.402305,
          19.529972,
          19.79632,
          19.472186,
          19.610724,
          19.73897,
          20.079884,
          20.065399,
          20.163658
         ],
         "xaxis": "x7",
         "y": [
          14.23,
          14.18,
          14.3,
          14.48,
          14.26,
          14.33,
          14.35,
          14.45,
          14.57,
          14.61
         ],
         "yaxis": "y7"
        },
        {
         "marker": {
          "color": "rgb(31, 119, 180)",
          "size": 6
         },
         "mode": "markers",
         "name": "g++-10",
         "showlegend": false,
         "type": "scatter",
         "x": [
          275.79,
          285.48,
          291.66,
          288.9,
          294.17,
          290.75,
          287.99,
          287.16,
          286.31,
          293.54
         ],
         "xaxis": "x8",
         "y": [
          14.04,
          14.08,
          14.21,
          14.05,
          14.19,
          14.3,
          14.54,
          14.55,
          14.58,
          14.35
         ],
         "yaxis": "y8"
        },
        {
         "marker": {
          "color": "rgb(255, 127, 14)",
          "size": 6
         },
         "mode": "markers",
         "name": "g++-11",
         "showlegend": false,
         "type": "scatter",
         "x": [
          286.25,
          304.56,
          294.95,
          297.5,
          299.43,
          299.54,
          290.95,
          285.99,
          293.17,
          269.07
         ],
         "xaxis": "x8",
         "y": [
          14.15,
          14.22,
          14.23,
          14.62,
          14.42,
          14.36,
          14.43,
          14.5,
          14.31,
          14.98
         ],
         "yaxis": "y8"
        },
        {
         "marker": {
          "color": "rgb(44, 160, 44)",
          "size": 6
         },
         "mode": "markers",
         "name": "g++-12",
         "showlegend": false,
         "type": "scatter",
         "x": [
          282.32,
          292.88,
          292.5,
          294.83,
          296.52,
          300.36,
          290.87,
          293.35,
          289.18,
          281.43
         ],
         "xaxis": "x8",
         "y": [
          14.41,
          14.42,
          14.34,
          14.52,
          14.5,
          14.61,
          14.78,
          14.61,
          14.81,
          14.92
         ],
         "yaxis": "y8"
        },
        {
         "marker": {
          "color": "rgb(214, 39, 40)",
          "size": 6
         },
         "mode": "markers",
         "name": "g++-13",
         "showlegend": false,
         "type": "scatter",
         "x": [
          281.68,
          295.24,
          298.2,
          292.67,
          296.15,
          309.72,
          296.12,
          293.94,
          291.21,
          264.71
         ],
         "xaxis": "x8",
         "y": [
          14.18,
          14.21,
          14.48,
          14.51,
          14.48,
          14.76,
          14.47,
          14.87,
          14.61,
          15.17
         ],
         "yaxis": "y8"
        },
        {
         "marker": {
          "color": "rgb(148, 103, 189)",
          "size": 6
         },
         "mode": "markers",
         "name": "g++-4.4",
         "showlegend": false,
         "type": "scatter",
         "x": [
          276.73,
          283.23,
          292.54,
          293.64,
          284.07,
          287.17,
          291.53,
          293.55,
          298.61,
          292.07
         ],
         "xaxis": "x8",
         "y": [
          14.03,
          14,
          14.19,
          14.27,
          13.97,
          14.15,
          14.18,
          14.22,
          14.43,
          14.08
         ],
         "yaxis": "y8"
        },
        {
         "marker": {
          "color": "rgb(140, 86, 75)",
          "size": 6
         },
         "mode": "markers",
         "name": "g++-4.6",
         "showlegend": false,
         "type": "scatter",
         "x": [
          269.19,
          269.33,
          271.38,
          280.13,
          278.99,
          275.38,
          279.64,
          276.84,
          279,
          278.88
         ],
         "xaxis": "x8",
         "y": [
          13.65,
          13.62,
          13.57,
          13.74,
          13.79,
          13.82,
          13.88,
          13.85,
          13.79,
          13.8
         ],
         "yaxis": "y8"
        },
        {
         "marker": {
          "color": "rgb(227, 119, 194)",
          "size": 6
         },
         "mode": "markers",
         "name": "g++-4.7",
         "showlegend": false,
         "type": "scatter",
         "x": [
          270.35,
          279.98,
          279.53,
          283.89,
          282.44,
          277.3,
          283.81,
          281.06,
          275.63,
          274.91
         ],
         "xaxis": "x8",
         "y": [
          13.76,
          13.75,
          13.68,
          13.83,
          13.85,
          14.05,
          13.9,
          13.86,
          13.93,
          14.1
         ],
         "yaxis": "y8"
        },
        {
         "marker": {
          "color": "rgb(127, 127, 127)",
          "size": 6
         },
         "mode": "markers",
         "name": "g++-4.8",
         "showlegend": false,
         "type": "scatter",
         "x": [
          270.8,
          278.26,
          280.91,
          274.76,
          281.36,
          285.65,
          270.03,
          281.31,
          281.33,
          279.13
         ],
         "xaxis": "x8",
         "y": [
          13.7,
          13.85,
          13.81,
          13.78,
          13.84,
          13.98,
          13.93,
          13.83,
          13.89,
          13.89
         ],
         "yaxis": "y8"
        },
        {
         "marker": {
          "color": "rgb(188, 189, 34)",
          "size": 6
         },
         "mode": "markers",
         "name": "g++-4.9",
         "showlegend": false,
         "type": "scatter",
         "x": [
          269.7,
          273.86,
          270.55,
          281.56,
          276.88,
          268.72,
          276.19,
          276.35,
          271.26,
          276.17
         ],
         "xaxis": "x8",
         "y": [
          13.64,
          13.64,
          13.61,
          13.73,
          13.72,
          13.87,
          13.86,
          13.75,
          13.89,
          13.82
         ],
         "yaxis": "y8"
        },
        {
         "marker": {
          "color": "rgb(23, 190, 207)",
          "size": 6
         },
         "mode": "markers",
         "name": "g++-5",
         "showlegend": false,
         "type": "scatter",
         "x": [
          266.37,
          272.14,
          273.27,
          276.74,
          269.28,
          271.78,
          270.5,
          272.5,
          267.42,
          274.26
         ],
         "xaxis": "x8",
         "y": [
          13.56,
          13.55,
          13.47,
          13.66,
          13.89,
          13.57,
          13.76,
          13.92,
          13.97,
          13.77
         ],
         "yaxis": "y8"
        },
        {
         "marker": {
          "color": "rgb(31, 119, 180)",
          "size": 6
         },
         "mode": "markers",
         "name": "g++-6",
         "showlegend": false,
         "type": "scatter",
         "x": [
          269.48,
          281.78,
          278.86,
          282.06,
          282.84,
          273.75,
          273.98,
          271.36,
          276.66,
          271.33
         ],
         "xaxis": "x8",
         "y": [
          13.67,
          13.76,
          13.73,
          13.74,
          13.9,
          13.96,
          14.01,
          14,
          13.98,
          13.89
         ],
         "yaxis": "y8"
        },
        {
         "marker": {
          "color": "rgb(255, 127, 14)",
          "size": 6
         },
         "mode": "markers",
         "name": "g++-7",
         "showlegend": false,
         "type": "scatter",
         "x": [
          279.77,
          280.13,
          291.17,
          286.18,
          288.02,
          281.75,
          284.35,
          287.38,
          281.87,
          278.25
         ],
         "xaxis": "x8",
         "y": [
          13.97,
          13.92,
          13.94,
          14.02,
          13.99,
          14.28,
          14.41,
          14.11,
          14.35,
          14.35
         ],
         "yaxis": "y8"
        },
        {
         "marker": {
          "color": "rgb(44, 160, 44)",
          "size": 6
         },
         "mode": "markers",
         "name": "g++-8",
         "showlegend": false,
         "type": "scatter",
         "x": [
          278.09,
          284.56,
          283.05,
          284.93,
          287.02,
          304.4,
          352.36,
          276.9,
          280.69,
          273.23
         ],
         "xaxis": "x8",
         "y": [
          13.9,
          13.94,
          14.03,
          14.04,
          14.04,
          16.53,
          16.68,
          13.93,
          14.06,
          14.36
         ],
         "yaxis": "y8"
        },
        {
         "marker": {
          "color": "rgb(214, 39, 40)",
          "size": 6
         },
         "mode": "markers",
         "name": "g++-9",
         "showlegend": false,
         "type": "scatter",
         "x": [
          288.96,
          291.21,
          290.62,
          292,
          294.08,
          289.67,
          289.76,
          287.17,
          286.6,
          281.55
         ],
         "xaxis": "x8",
         "y": [
          14.23,
          14.18,
          14.3,
          14.48,
          14.26,
          14.33,
          14.35,
          14.45,
          14.57,
          14.61
         ],
         "yaxis": "y8"
        },
        {
         "marker": {
          "color": "rgb(31, 119, 180)"
         },
         "showlegend": false,
         "type": "histogram",
         "x": [
          14.04,
          14.08,
          14.21,
          14.05,
          14.19,
          14.3,
          14.54,
          14.55,
          14.58,
          14.35
         ],
         "xaxis": "x9",
         "yaxis": "y9"
        },
        {
         "marker": {
          "color": "rgb(255, 127, 14)"
         },
         "showlegend": false,
         "type": "histogram",
         "x": [
          14.15,
          14.22,
          14.23,
          14.62,
          14.42,
          14.36,
          14.43,
          14.5,
          14.31,
          14.98
         ],
         "xaxis": "x9",
         "yaxis": "y9"
        },
        {
         "marker": {
          "color": "rgb(44, 160, 44)"
         },
         "showlegend": false,
         "type": "histogram",
         "x": [
          14.41,
          14.42,
          14.34,
          14.52,
          14.5,
          14.61,
          14.78,
          14.61,
          14.81,
          14.92
         ],
         "xaxis": "x9",
         "yaxis": "y9"
        },
        {
         "marker": {
          "color": "rgb(214, 39, 40)"
         },
         "showlegend": false,
         "type": "histogram",
         "x": [
          14.18,
          14.21,
          14.48,
          14.51,
          14.48,
          14.76,
          14.47,
          14.87,
          14.61,
          15.17
         ],
         "xaxis": "x9",
         "yaxis": "y9"
        },
        {
         "marker": {
          "color": "rgb(148, 103, 189)"
         },
         "showlegend": false,
         "type": "histogram",
         "x": [
          14.03,
          14,
          14.19,
          14.27,
          13.97,
          14.15,
          14.18,
          14.22,
          14.43,
          14.08
         ],
         "xaxis": "x9",
         "yaxis": "y9"
        },
        {
         "marker": {
          "color": "rgb(140, 86, 75)"
         },
         "showlegend": false,
         "type": "histogram",
         "x": [
          13.65,
          13.62,
          13.57,
          13.74,
          13.79,
          13.82,
          13.88,
          13.85,
          13.79,
          13.8
         ],
         "xaxis": "x9",
         "yaxis": "y9"
        },
        {
         "marker": {
          "color": "rgb(227, 119, 194)"
         },
         "showlegend": false,
         "type": "histogram",
         "x": [
          13.76,
          13.75,
          13.68,
          13.83,
          13.85,
          14.05,
          13.9,
          13.86,
          13.93,
          14.1
         ],
         "xaxis": "x9",
         "yaxis": "y9"
        },
        {
         "marker": {
          "color": "rgb(127, 127, 127)"
         },
         "showlegend": false,
         "type": "histogram",
         "x": [
          13.7,
          13.85,
          13.81,
          13.78,
          13.84,
          13.98,
          13.93,
          13.83,
          13.89,
          13.89
         ],
         "xaxis": "x9",
         "yaxis": "y9"
        },
        {
         "marker": {
          "color": "rgb(188, 189, 34)"
         },
         "showlegend": false,
         "type": "histogram",
         "x": [
          13.64,
          13.64,
          13.61,
          13.73,
          13.72,
          13.87,
          13.86,
          13.75,
          13.89,
          13.82
         ],
         "xaxis": "x9",
         "yaxis": "y9"
        },
        {
         "marker": {
          "color": "rgb(23, 190, 207)"
         },
         "showlegend": false,
         "type": "histogram",
         "x": [
          13.56,
          13.55,
          13.47,
          13.66,
          13.89,
          13.57,
          13.76,
          13.92,
          13.97,
          13.77
         ],
         "xaxis": "x9",
         "yaxis": "y9"
        },
        {
         "marker": {
          "color": "rgb(31, 119, 180)"
         },
         "showlegend": false,
         "type": "histogram",
         "x": [
          13.67,
          13.76,
          13.73,
          13.74,
          13.9,
          13.96,
          14.01,
          14,
          13.98,
          13.89
         ],
         "xaxis": "x9",
         "yaxis": "y9"
        },
        {
         "marker": {
          "color": "rgb(255, 127, 14)"
         },
         "showlegend": false,
         "type": "histogram",
         "x": [
          13.97,
          13.92,
          13.94,
          14.02,
          13.99,
          14.28,
          14.41,
          14.11,
          14.35,
          14.35
         ],
         "xaxis": "x9",
         "yaxis": "y9"
        },
        {
         "marker": {
          "color": "rgb(44, 160, 44)"
         },
         "showlegend": false,
         "type": "histogram",
         "x": [
          13.9,
          13.94,
          14.03,
          14.04,
          14.04,
          16.53,
          16.68,
          13.93,
          14.06,
          14.36
         ],
         "xaxis": "x9",
         "yaxis": "y9"
        },
        {
         "marker": {
          "color": "rgb(214, 39, 40)"
         },
         "showlegend": false,
         "type": "histogram",
         "x": [
          14.23,
          14.18,
          14.3,
          14.48,
          14.26,
          14.33,
          14.35,
          14.45,
          14.57,
          14.61
         ],
         "xaxis": "x9",
         "yaxis": "y9"
        }
       ],
       "layout": {
        "barmode": "stack",
        "height": 1000,
        "showlegend": true,
        "template": {
         "data": {
          "bar": [
           {
            "error_x": {
             "color": "#2a3f5f"
            },
            "error_y": {
             "color": "#2a3f5f"
            },
            "marker": {
             "line": {
              "color": "#E5ECF6",
              "width": 0.5
             },
             "pattern": {
              "fillmode": "overlay",
              "size": 10,
              "solidity": 0.2
             }
            },
            "type": "bar"
           }
          ],
          "barpolar": [
           {
            "marker": {
             "line": {
              "color": "#E5ECF6",
              "width": 0.5
             },
             "pattern": {
              "fillmode": "overlay",
              "size": 10,
              "solidity": 0.2
             }
            },
            "type": "barpolar"
           }
          ],
          "carpet": [
           {
            "aaxis": {
             "endlinecolor": "#2a3f5f",
             "gridcolor": "white",
             "linecolor": "white",
             "minorgridcolor": "white",
             "startlinecolor": "#2a3f5f"
            },
            "baxis": {
             "endlinecolor": "#2a3f5f",
             "gridcolor": "white",
             "linecolor": "white",
             "minorgridcolor": "white",
             "startlinecolor": "#2a3f5f"
            },
            "type": "carpet"
           }
          ],
          "choropleth": [
           {
            "colorbar": {
             "outlinewidth": 0,
             "ticks": ""
            },
            "type": "choropleth"
           }
          ],
          "contour": [
           {
            "colorbar": {
             "outlinewidth": 0,
             "ticks": ""
            },
            "colorscale": [
             [
              0,
              "#0d0887"
             ],
             [
              0.1111111111111111,
              "#46039f"
             ],
             [
              0.2222222222222222,
              "#7201a8"
             ],
             [
              0.3333333333333333,
              "#9c179e"
             ],
             [
              0.4444444444444444,
              "#bd3786"
             ],
             [
              0.5555555555555556,
              "#d8576b"
             ],
             [
              0.6666666666666666,
              "#ed7953"
             ],
             [
              0.7777777777777778,
              "#fb9f3a"
             ],
             [
              0.8888888888888888,
              "#fdca26"
             ],
             [
              1,
              "#f0f921"
             ]
            ],
            "type": "contour"
           }
          ],
          "contourcarpet": [
           {
            "colorbar": {
             "outlinewidth": 0,
             "ticks": ""
            },
            "type": "contourcarpet"
           }
          ],
          "heatmap": [
           {
            "colorbar": {
             "outlinewidth": 0,
             "ticks": ""
            },
            "colorscale": [
             [
              0,
              "#0d0887"
             ],
             [
              0.1111111111111111,
              "#46039f"
             ],
             [
              0.2222222222222222,
              "#7201a8"
             ],
             [
              0.3333333333333333,
              "#9c179e"
             ],
             [
              0.4444444444444444,
              "#bd3786"
             ],
             [
              0.5555555555555556,
              "#d8576b"
             ],
             [
              0.6666666666666666,
              "#ed7953"
             ],
             [
              0.7777777777777778,
              "#fb9f3a"
             ],
             [
              0.8888888888888888,
              "#fdca26"
             ],
             [
              1,
              "#f0f921"
             ]
            ],
            "type": "heatmap"
           }
          ],
          "heatmapgl": [
           {
            "colorbar": {
             "outlinewidth": 0,
             "ticks": ""
            },
            "colorscale": [
             [
              0,
              "#0d0887"
             ],
             [
              0.1111111111111111,
              "#46039f"
             ],
             [
              0.2222222222222222,
              "#7201a8"
             ],
             [
              0.3333333333333333,
              "#9c179e"
             ],
             [
              0.4444444444444444,
              "#bd3786"
             ],
             [
              0.5555555555555556,
              "#d8576b"
             ],
             [
              0.6666666666666666,
              "#ed7953"
             ],
             [
              0.7777777777777778,
              "#fb9f3a"
             ],
             [
              0.8888888888888888,
              "#fdca26"
             ],
             [
              1,
              "#f0f921"
             ]
            ],
            "type": "heatmapgl"
           }
          ],
          "histogram": [
           {
            "marker": {
             "pattern": {
              "fillmode": "overlay",
              "size": 10,
              "solidity": 0.2
             }
            },
            "type": "histogram"
           }
          ],
          "histogram2d": [
           {
            "colorbar": {
             "outlinewidth": 0,
             "ticks": ""
            },
            "colorscale": [
             [
              0,
              "#0d0887"
             ],
             [
              0.1111111111111111,
              "#46039f"
             ],
             [
              0.2222222222222222,
              "#7201a8"
             ],
             [
              0.3333333333333333,
              "#9c179e"
             ],
             [
              0.4444444444444444,
              "#bd3786"
             ],
             [
              0.5555555555555556,
              "#d8576b"
             ],
             [
              0.6666666666666666,
              "#ed7953"
             ],
             [
              0.7777777777777778,
              "#fb9f3a"
             ],
             [
              0.8888888888888888,
              "#fdca26"
             ],
             [
              1,
              "#f0f921"
             ]
            ],
            "type": "histogram2d"
           }
          ],
          "histogram2dcontour": [
           {
            "colorbar": {
             "outlinewidth": 0,
             "ticks": ""
            },
            "colorscale": [
             [
              0,
              "#0d0887"
             ],
             [
              0.1111111111111111,
              "#46039f"
             ],
             [
              0.2222222222222222,
              "#7201a8"
             ],
             [
              0.3333333333333333,
              "#9c179e"
             ],
             [
              0.4444444444444444,
              "#bd3786"
             ],
             [
              0.5555555555555556,
              "#d8576b"
             ],
             [
              0.6666666666666666,
              "#ed7953"
             ],
             [
              0.7777777777777778,
              "#fb9f3a"
             ],
             [
              0.8888888888888888,
              "#fdca26"
             ],
             [
              1,
              "#f0f921"
             ]
            ],
            "type": "histogram2dcontour"
           }
          ],
          "mesh3d": [
           {
            "colorbar": {
             "outlinewidth": 0,
             "ticks": ""
            },
            "type": "mesh3d"
           }
          ],
          "parcoords": [
           {
            "line": {
             "colorbar": {
              "outlinewidth": 0,
              "ticks": ""
             }
            },
            "type": "parcoords"
           }
          ],
          "pie": [
           {
            "automargin": true,
            "type": "pie"
           }
          ],
          "scatter": [
           {
            "fillpattern": {
             "fillmode": "overlay",
             "size": 10,
             "solidity": 0.2
            },
            "type": "scatter"
           }
          ],
          "scatter3d": [
           {
            "line": {
             "colorbar": {
              "outlinewidth": 0,
              "ticks": ""
             }
            },
            "marker": {
             "colorbar": {
              "outlinewidth": 0,
              "ticks": ""
             }
            },
            "type": "scatter3d"
           }
          ],
          "scattercarpet": [
           {
            "marker": {
             "colorbar": {
              "outlinewidth": 0,
              "ticks": ""
             }
            },
            "type": "scattercarpet"
           }
          ],
          "scattergeo": [
           {
            "marker": {
             "colorbar": {
              "outlinewidth": 0,
              "ticks": ""
             }
            },
            "type": "scattergeo"
           }
          ],
          "scattergl": [
           {
            "marker": {
             "colorbar": {
              "outlinewidth": 0,
              "ticks": ""
             }
            },
            "type": "scattergl"
           }
          ],
          "scattermapbox": [
           {
            "marker": {
             "colorbar": {
              "outlinewidth": 0,
              "ticks": ""
             }
            },
            "type": "scattermapbox"
           }
          ],
          "scatterpolar": [
           {
            "marker": {
             "colorbar": {
              "outlinewidth": 0,
              "ticks": ""
             }
            },
            "type": "scatterpolar"
           }
          ],
          "scatterpolargl": [
           {
            "marker": {
             "colorbar": {
              "outlinewidth": 0,
              "ticks": ""
             }
            },
            "type": "scatterpolargl"
           }
          ],
          "scatterternary": [
           {
            "marker": {
             "colorbar": {
              "outlinewidth": 0,
              "ticks": ""
             }
            },
            "type": "scatterternary"
           }
          ],
          "surface": [
           {
            "colorbar": {
             "outlinewidth": 0,
             "ticks": ""
            },
            "colorscale": [
             [
              0,
              "#0d0887"
             ],
             [
              0.1111111111111111,
              "#46039f"
             ],
             [
              0.2222222222222222,
              "#7201a8"
             ],
             [
              0.3333333333333333,
              "#9c179e"
             ],
             [
              0.4444444444444444,
              "#bd3786"
             ],
             [
              0.5555555555555556,
              "#d8576b"
             ],
             [
              0.6666666666666666,
              "#ed7953"
             ],
             [
              0.7777777777777778,
              "#fb9f3a"
             ],
             [
              0.8888888888888888,
              "#fdca26"
             ],
             [
              1,
              "#f0f921"
             ]
            ],
            "type": "surface"
           }
          ],
          "table": [
           {
            "cells": {
             "fill": {
              "color": "#EBF0F8"
             },
             "line": {
              "color": "white"
             }
            },
            "header": {
             "fill": {
              "color": "#C8D4E3"
             },
             "line": {
              "color": "white"
             }
            },
            "type": "table"
           }
          ]
         },
         "layout": {
          "annotationdefaults": {
           "arrowcolor": "#2a3f5f",
           "arrowhead": 0,
           "arrowwidth": 1
          },
          "autotypenumbers": "strict",
          "coloraxis": {
           "colorbar": {
            "outlinewidth": 0,
            "ticks": ""
           }
          },
          "colorscale": {
           "diverging": [
            [
             0,
             "#8e0152"
            ],
            [
             0.1,
             "#c51b7d"
            ],
            [
             0.2,
             "#de77ae"
            ],
            [
             0.3,
             "#f1b6da"
            ],
            [
             0.4,
             "#fde0ef"
            ],
            [
             0.5,
             "#f7f7f7"
            ],
            [
             0.6,
             "#e6f5d0"
            ],
            [
             0.7,
             "#b8e186"
            ],
            [
             0.8,
             "#7fbc41"
            ],
            [
             0.9,
             "#4d9221"
            ],
            [
             1,
             "#276419"
            ]
           ],
           "sequential": [
            [
             0,
             "#0d0887"
            ],
            [
             0.1111111111111111,
             "#46039f"
            ],
            [
             0.2222222222222222,
             "#7201a8"
            ],
            [
             0.3333333333333333,
             "#9c179e"
            ],
            [
             0.4444444444444444,
             "#bd3786"
            ],
            [
             0.5555555555555556,
             "#d8576b"
            ],
            [
             0.6666666666666666,
             "#ed7953"
            ],
            [
             0.7777777777777778,
             "#fb9f3a"
            ],
            [
             0.8888888888888888,
             "#fdca26"
            ],
            [
             1,
             "#f0f921"
            ]
           ],
           "sequentialminus": [
            [
             0,
             "#0d0887"
            ],
            [
             0.1111111111111111,
             "#46039f"
            ],
            [
             0.2222222222222222,
             "#7201a8"
            ],
            [
             0.3333333333333333,
             "#9c179e"
            ],
            [
             0.4444444444444444,
             "#bd3786"
            ],
            [
             0.5555555555555556,
             "#d8576b"
            ],
            [
             0.6666666666666666,
             "#ed7953"
            ],
            [
             0.7777777777777778,
             "#fb9f3a"
            ],
            [
             0.8888888888888888,
             "#fdca26"
            ],
            [
             1,
             "#f0f921"
            ]
           ]
          },
          "colorway": [
           "#636efa",
           "#EF553B",
           "#00cc96",
           "#ab63fa",
           "#FFA15A",
           "#19d3f3",
           "#FF6692",
           "#B6E880",
           "#FF97FF",
           "#FECB52"
          ],
          "font": {
           "color": "#2a3f5f"
          },
          "geo": {
           "bgcolor": "white",
           "lakecolor": "white",
           "landcolor": "#E5ECF6",
           "showlakes": true,
           "showland": true,
           "subunitcolor": "white"
          },
          "hoverlabel": {
           "align": "left"
          },
          "hovermode": "closest",
          "mapbox": {
           "style": "light"
          },
          "paper_bgcolor": "white",
          "plot_bgcolor": "#E5ECF6",
          "polar": {
           "angularaxis": {
            "gridcolor": "white",
            "linecolor": "white",
            "ticks": ""
           },
           "bgcolor": "#E5ECF6",
           "radialaxis": {
            "gridcolor": "white",
            "linecolor": "white",
            "ticks": ""
           }
          },
          "scene": {
           "xaxis": {
            "backgroundcolor": "#E5ECF6",
            "gridcolor": "white",
            "gridwidth": 2,
            "linecolor": "white",
            "showbackground": true,
            "ticks": "",
            "zerolinecolor": "white"
           },
           "yaxis": {
            "backgroundcolor": "#E5ECF6",
            "gridcolor": "white",
            "gridwidth": 2,
            "linecolor": "white",
            "showbackground": true,
            "ticks": "",
            "zerolinecolor": "white"
           },
           "zaxis": {
            "backgroundcolor": "#E5ECF6",
            "gridcolor": "white",
            "gridwidth": 2,
            "linecolor": "white",
            "showbackground": true,
            "ticks": "",
            "zerolinecolor": "white"
           }
          },
          "shapedefaults": {
           "line": {
            "color": "#2a3f5f"
           }
          },
          "ternary": {
           "aaxis": {
            "gridcolor": "white",
            "linecolor": "white",
            "ticks": ""
           },
           "baxis": {
            "gridcolor": "white",
            "linecolor": "white",
            "ticks": ""
           },
           "bgcolor": "#E5ECF6",
           "caxis": {
            "gridcolor": "white",
            "linecolor": "white",
            "ticks": ""
           }
          },
          "title": {
           "x": 0.05
          },
          "xaxis": {
           "automargin": true,
           "gridcolor": "white",
           "linecolor": "white",
           "ticks": "",
           "title": {
            "standoff": 15
           },
           "zerolinecolor": "white",
           "zerolinewidth": 2
          },
          "yaxis": {
           "automargin": true,
           "gridcolor": "white",
           "linecolor": "white",
           "ticks": "",
           "title": {
            "standoff": 15
           },
           "zerolinecolor": "white",
           "zerolinewidth": 2
          }
         }
        },
        "title": {
         "text": "Scatterplot Matrix"
        },
        "width": 1000,
        "xaxis": {
         "anchor": "y",
         "domain": [
          0,
          0.2888888888888889
         ]
        },
        "xaxis2": {
         "anchor": "y2",
         "domain": [
          0.35555555555555557,
          0.6444444444444445
         ]
        },
        "xaxis3": {
         "anchor": "y3",
         "domain": [
          0.7111111111111111,
          1
         ]
        },
        "xaxis4": {
         "anchor": "y4",
         "domain": [
          0,
          0.2888888888888889
         ]
        },
        "xaxis5": {
         "anchor": "y5",
         "domain": [
          0.35555555555555557,
          0.6444444444444445
         ]
        },
        "xaxis6": {
         "anchor": "y6",
         "domain": [
          0.7111111111111111,
          1
         ]
        },
        "xaxis7": {
         "anchor": "y7",
         "domain": [
          0,
          0.2888888888888889
         ],
         "title": {
          "text": "time_elapsed"
         }
        },
        "xaxis8": {
         "anchor": "y8",
         "domain": [
          0.35555555555555557,
          0.6444444444444445
         ],
         "title": {
          "text": "Pkg_J"
         }
        },
        "xaxis9": {
         "anchor": "y9",
         "domain": [
          0.7111111111111111,
          1
         ],
         "title": {
          "text": "RAM_J"
         }
        },
        "yaxis": {
         "anchor": "x",
         "domain": [
          0.7333333333333333,
          1
         ],
         "title": {
          "text": "time_elapsed"
         }
        },
        "yaxis2": {
         "anchor": "x2",
         "domain": [
          0.7333333333333333,
          1
         ]
        },
        "yaxis3": {
         "anchor": "x3",
         "domain": [
          0.7333333333333333,
          1
         ]
        },
        "yaxis4": {
         "anchor": "x4",
         "domain": [
          0.36666666666666664,
          0.6333333333333333
         ],
         "title": {
          "text": "Pkg_J"
         }
        },
        "yaxis5": {
         "anchor": "x5",
         "domain": [
          0.36666666666666664,
          0.6333333333333333
         ]
        },
        "yaxis6": {
         "anchor": "x6",
         "domain": [
          0.36666666666666664,
          0.6333333333333333
         ]
        },
        "yaxis7": {
         "anchor": "x7",
         "domain": [
          0,
          0.26666666666666666
         ],
         "title": {
          "text": "RAM_J"
         }
        },
        "yaxis8": {
         "anchor": "x8",
         "domain": [
          0,
          0.26666666666666666
         ]
        },
        "yaxis9": {
         "anchor": "x9",
         "domain": [
          0,
          0.26666666666666666
         ]
        }
       }
      }
     },
     "metadata": {},
     "output_type": "display_data"
    }
   ],
   "source": [
    "fig = ff.create_scatterplotmatrix(df[['time_elapsed', 'Pkg_J', 'RAM_J', 'version']], \n",
    "                                  height=1000,\n",
    "                                  width=1000,\n",
    "                                  diag='histogram',\n",
    "                                  index='version')\n",
    "fig.show()"
   ]
  },
  {
   "cell_type": "code",
   "execution_count": 67,
   "metadata": {},
   "outputs": [
    {
     "data": {
      "application/vnd.plotly.v1+json": {
       "config": {
        "plotlyServerURL": "https://plot.ly"
       },
       "data": [
        {
         "marker": {
          "color": "rgb(31, 119, 180)"
         },
         "showlegend": false,
         "type": "histogram",
         "x": [
          19.560124000000002
         ],
         "xaxis": "x",
         "yaxis": "y"
        },
        {
         "marker": {
          "color": "rgb(255, 127, 14)"
         },
         "showlegend": false,
         "type": "histogram",
         "x": [
          19.7222635
         ],
         "xaxis": "x",
         "yaxis": "y"
        },
        {
         "marker": {
          "color": "rgb(44, 160, 44)"
         },
         "showlegend": false,
         "type": "histogram",
         "x": [
          19.864069999999998
         ],
         "xaxis": "x",
         "yaxis": "y"
        },
        {
         "marker": {
          "color": "rgb(214, 39, 40)"
         },
         "showlegend": false,
         "type": "histogram",
         "x": [
          19.771586499999998
         ],
         "xaxis": "x",
         "yaxis": "y"
        },
        {
         "marker": {
          "color": "rgb(148, 103, 189)"
         },
         "showlegend": false,
         "type": "histogram",
         "x": [
          19.269851000000003
         ],
         "xaxis": "x",
         "yaxis": "y"
        },
        {
         "marker": {
          "color": "rgb(140, 86, 75)"
         },
         "showlegend": false,
         "type": "histogram",
         "x": [
          18.6323235
         ],
         "xaxis": "x",
         "yaxis": "y"
        },
        {
         "marker": {
          "color": "rgb(227, 119, 194)"
         },
         "showlegend": false,
         "type": "histogram",
         "x": [
          18.763978
         ],
         "xaxis": "x",
         "yaxis": "y"
        },
        {
         "marker": {
          "color": "rgb(127, 127, 127)"
         },
         "showlegend": false,
         "type": "histogram",
         "x": [
          18.770183
         ],
         "xaxis": "x",
         "yaxis": "y"
        },
        {
         "marker": {
          "color": "rgb(188, 189, 34)"
         },
         "showlegend": false,
         "type": "histogram",
         "x": [
          18.5308285
         ],
         "xaxis": "x",
         "yaxis": "y"
        },
        {
         "marker": {
          "color": "rgb(23, 190, 207)"
         },
         "showlegend": false,
         "type": "histogram",
         "x": [
          18.4952835
         ],
         "xaxis": "x",
         "yaxis": "y"
        },
        {
         "marker": {
          "color": "rgb(31, 119, 180)"
         },
         "showlegend": false,
         "type": "histogram",
         "x": [
          18.8461
         ],
         "xaxis": "x",
         "yaxis": "y"
        },
        {
         "marker": {
          "color": "rgb(255, 127, 14)"
         },
         "showlegend": false,
         "type": "histogram",
         "x": [
          19.115921999999998
         ],
         "xaxis": "x",
         "yaxis": "y"
        },
        {
         "marker": {
          "color": "rgb(44, 160, 44)"
         },
         "showlegend": false,
         "type": "histogram",
         "x": [
          19.1023275
         ],
         "xaxis": "x",
         "yaxis": "y"
        },
        {
         "marker": {
          "color": "rgb(214, 39, 40)"
         },
         "showlegend": false,
         "type": "histogram",
         "x": [
          19.674847
         ],
         "xaxis": "x",
         "yaxis": "y"
        },
        {
         "marker": {
          "color": "rgb(31, 119, 180)",
          "size": 6
         },
         "mode": "markers",
         "name": "g++-10",
         "showlegend": true,
         "type": "scatter",
         "x": [
          288.445
         ],
         "xaxis": "x2",
         "y": [
          19.560124000000002
         ],
         "yaxis": "y2"
        },
        {
         "marker": {
          "color": "rgb(255, 127, 14)",
          "size": 6
         },
         "mode": "markers",
         "name": "g++-11",
         "showlegend": true,
         "type": "scatter",
         "x": [
          294.06
         ],
         "xaxis": "x2",
         "y": [
          19.7222635
         ],
         "yaxis": "y2"
        },
        {
         "marker": {
          "color": "rgb(44, 160, 44)",
          "size": 6
         },
         "mode": "markers",
         "name": "g++-12",
         "showlegend": true,
         "type": "scatter",
         "x": [
          292.69
         ],
         "xaxis": "x2",
         "y": [
          19.864069999999998
         ],
         "yaxis": "y2"
        },
        {
         "marker": {
          "color": "rgb(214, 39, 40)",
          "size": 6
         },
         "mode": "markers",
         "name": "g++-13",
         "showlegend": true,
         "type": "scatter",
         "x": [
          294.59000000000003
         ],
         "xaxis": "x2",
         "y": [
          19.771586499999998
         ],
         "yaxis": "y2"
        },
        {
         "marker": {
          "color": "rgb(148, 103, 189)",
          "size": 6
         },
         "mode": "markers",
         "name": "g++-4.4",
         "showlegend": true,
         "type": "scatter",
         "x": [
          291.79999999999995
         ],
         "xaxis": "x2",
         "y": [
          19.269851000000003
         ],
         "yaxis": "y2"
        },
        {
         "marker": {
          "color": "rgb(140, 86, 75)",
          "size": 6
         },
         "mode": "markers",
         "name": "g++-4.6",
         "showlegend": true,
         "type": "scatter",
         "x": [
          277.86
         ],
         "xaxis": "x2",
         "y": [
          18.6323235
         ],
         "yaxis": "y2"
        },
        {
         "marker": {
          "color": "rgb(227, 119, 194)",
          "size": 6
         },
         "mode": "markers",
         "name": "g++-4.7",
         "showlegend": true,
         "type": "scatter",
         "x": [
          279.755
         ],
         "xaxis": "x2",
         "y": [
          18.763978
         ],
         "yaxis": "y2"
        },
        {
         "marker": {
          "color": "rgb(127, 127, 127)",
          "size": 6
         },
         "mode": "markers",
         "name": "g++-4.8",
         "showlegend": true,
         "type": "scatter",
         "x": [
          280.02
         ],
         "xaxis": "x2",
         "y": [
          18.770183
         ],
         "yaxis": "y2"
        },
        {
         "marker": {
          "color": "rgb(188, 189, 34)",
          "size": 6
         },
         "mode": "markers",
         "name": "g++-4.9",
         "showlegend": true,
         "type": "scatter",
         "x": [
          275.015
         ],
         "xaxis": "x2",
         "y": [
          18.5308285
         ],
         "yaxis": "y2"
        },
        {
         "marker": {
          "color": "rgb(23, 190, 207)",
          "size": 6
         },
         "mode": "markers",
         "name": "g++-5",
         "showlegend": true,
         "type": "scatter",
         "x": [
          271.96
         ],
         "xaxis": "x2",
         "y": [
          18.4952835
         ],
         "yaxis": "y2"
        },
        {
         "marker": {
          "color": "rgb(31, 119, 180)",
          "size": 6
         },
         "mode": "markers",
         "name": "g++-6",
         "showlegend": true,
         "type": "scatter",
         "x": [
          275.32000000000005
         ],
         "xaxis": "x2",
         "y": [
          18.8461
         ],
         "yaxis": "y2"
        },
        {
         "marker": {
          "color": "rgb(255, 127, 14)",
          "size": 6
         },
         "mode": "markers",
         "name": "g++-7",
         "showlegend": true,
         "type": "scatter",
         "x": [
          283.11
         ],
         "xaxis": "x2",
         "y": [
          19.115921999999998
         ],
         "yaxis": "y2"
        },
        {
         "marker": {
          "color": "rgb(44, 160, 44)",
          "size": 6
         },
         "mode": "markers",
         "name": "g++-8",
         "showlegend": true,
         "type": "scatter",
         "x": [
          283.805
         ],
         "xaxis": "x2",
         "y": [
          19.1023275
         ],
         "yaxis": "y2"
        },
        {
         "marker": {
          "color": "rgb(214, 39, 40)",
          "size": 6
         },
         "mode": "markers",
         "name": "g++-9",
         "showlegend": true,
         "type": "scatter",
         "x": [
          289.71500000000003
         ],
         "xaxis": "x2",
         "y": [
          19.674847
         ],
         "yaxis": "y2"
        },
        {
         "marker": {
          "color": "rgb(31, 119, 180)",
          "size": 6
         },
         "mode": "markers",
         "name": "g++-10",
         "showlegend": false,
         "type": "scatter",
         "x": [
          14.255
         ],
         "xaxis": "x3",
         "y": [
          19.560124000000002
         ],
         "yaxis": "y3"
        },
        {
         "marker": {
          "color": "rgb(255, 127, 14)",
          "size": 6
         },
         "mode": "markers",
         "name": "g++-11",
         "showlegend": false,
         "type": "scatter",
         "x": [
          14.39
         ],
         "xaxis": "x3",
         "y": [
          19.7222635
         ],
         "yaxis": "y3"
        },
        {
         "marker": {
          "color": "rgb(44, 160, 44)",
          "size": 6
         },
         "mode": "markers",
         "name": "g++-12",
         "showlegend": false,
         "type": "scatter",
         "x": [
          14.565
         ],
         "xaxis": "x3",
         "y": [
          19.864069999999998
         ],
         "yaxis": "y3"
        },
        {
         "marker": {
          "color": "rgb(214, 39, 40)",
          "size": 6
         },
         "mode": "markers",
         "name": "g++-13",
         "showlegend": false,
         "type": "scatter",
         "x": [
          14.495000000000001
         ],
         "xaxis": "x3",
         "y": [
          19.771586499999998
         ],
         "yaxis": "y3"
        },
        {
         "marker": {
          "color": "rgb(148, 103, 189)",
          "size": 6
         },
         "mode": "markers",
         "name": "g++-4.4",
         "showlegend": false,
         "type": "scatter",
         "x": [
          14.165
         ],
         "xaxis": "x3",
         "y": [
          19.269851000000003
         ],
         "yaxis": "y3"
        },
        {
         "marker": {
          "color": "rgb(140, 86, 75)",
          "size": 6
         },
         "mode": "markers",
         "name": "g++-4.6",
         "showlegend": false,
         "type": "scatter",
         "x": [
          13.79
         ],
         "xaxis": "x3",
         "y": [
          18.6323235
         ],
         "yaxis": "y3"
        },
        {
         "marker": {
          "color": "rgb(227, 119, 194)",
          "size": 6
         },
         "mode": "markers",
         "name": "g++-4.7",
         "showlegend": false,
         "type": "scatter",
         "x": [
          13.855
         ],
         "xaxis": "x3",
         "y": [
          18.763978
         ],
         "yaxis": "y3"
        },
        {
         "marker": {
          "color": "rgb(127, 127, 127)",
          "size": 6
         },
         "mode": "markers",
         "name": "g++-4.8",
         "showlegend": false,
         "type": "scatter",
         "x": [
          13.844999999999999
         ],
         "xaxis": "x3",
         "y": [
          18.770183
         ],
         "yaxis": "y3"
        },
        {
         "marker": {
          "color": "rgb(188, 189, 34)",
          "size": 6
         },
         "mode": "markers",
         "name": "g++-4.9",
         "showlegend": false,
         "type": "scatter",
         "x": [
          13.74
         ],
         "xaxis": "x3",
         "y": [
          18.5308285
         ],
         "yaxis": "y3"
        },
        {
         "marker": {
          "color": "rgb(23, 190, 207)",
          "size": 6
         },
         "mode": "markers",
         "name": "g++-5",
         "showlegend": false,
         "type": "scatter",
         "x": [
          13.71
         ],
         "xaxis": "x3",
         "y": [
          18.4952835
         ],
         "yaxis": "y3"
        },
        {
         "marker": {
          "color": "rgb(31, 119, 180)",
          "size": 6
         },
         "mode": "markers",
         "name": "g++-6",
         "showlegend": false,
         "type": "scatter",
         "x": [
          13.895
         ],
         "xaxis": "x3",
         "y": [
          18.8461
         ],
         "yaxis": "y3"
        },
        {
         "marker": {
          "color": "rgb(255, 127, 14)",
          "size": 6
         },
         "mode": "markers",
         "name": "g++-7",
         "showlegend": false,
         "type": "scatter",
         "x": [
          14.065
         ],
         "xaxis": "x3",
         "y": [
          19.115921999999998
         ],
         "yaxis": "y3"
        },
        {
         "marker": {
          "color": "rgb(44, 160, 44)",
          "size": 6
         },
         "mode": "markers",
         "name": "g++-8",
         "showlegend": false,
         "type": "scatter",
         "x": [
          14.04
         ],
         "xaxis": "x3",
         "y": [
          19.1023275
         ],
         "yaxis": "y3"
        },
        {
         "marker": {
          "color": "rgb(214, 39, 40)",
          "size": 6
         },
         "mode": "markers",
         "name": "g++-9",
         "showlegend": false,
         "type": "scatter",
         "x": [
          14.34
         ],
         "xaxis": "x3",
         "y": [
          19.674847
         ],
         "yaxis": "y3"
        },
        {
         "marker": {
          "color": "rgb(31, 119, 180)",
          "size": 6
         },
         "mode": "markers",
         "name": "g++-10",
         "showlegend": false,
         "type": "scatter",
         "x": [
          19.560124000000002
         ],
         "xaxis": "x4",
         "y": [
          288.445
         ],
         "yaxis": "y4"
        },
        {
         "marker": {
          "color": "rgb(255, 127, 14)",
          "size": 6
         },
         "mode": "markers",
         "name": "g++-11",
         "showlegend": false,
         "type": "scatter",
         "x": [
          19.7222635
         ],
         "xaxis": "x4",
         "y": [
          294.06
         ],
         "yaxis": "y4"
        },
        {
         "marker": {
          "color": "rgb(44, 160, 44)",
          "size": 6
         },
         "mode": "markers",
         "name": "g++-12",
         "showlegend": false,
         "type": "scatter",
         "x": [
          19.864069999999998
         ],
         "xaxis": "x4",
         "y": [
          292.69
         ],
         "yaxis": "y4"
        },
        {
         "marker": {
          "color": "rgb(214, 39, 40)",
          "size": 6
         },
         "mode": "markers",
         "name": "g++-13",
         "showlegend": false,
         "type": "scatter",
         "x": [
          19.771586499999998
         ],
         "xaxis": "x4",
         "y": [
          294.59000000000003
         ],
         "yaxis": "y4"
        },
        {
         "marker": {
          "color": "rgb(148, 103, 189)",
          "size": 6
         },
         "mode": "markers",
         "name": "g++-4.4",
         "showlegend": false,
         "type": "scatter",
         "x": [
          19.269851000000003
         ],
         "xaxis": "x4",
         "y": [
          291.79999999999995
         ],
         "yaxis": "y4"
        },
        {
         "marker": {
          "color": "rgb(140, 86, 75)",
          "size": 6
         },
         "mode": "markers",
         "name": "g++-4.6",
         "showlegend": false,
         "type": "scatter",
         "x": [
          18.6323235
         ],
         "xaxis": "x4",
         "y": [
          277.86
         ],
         "yaxis": "y4"
        },
        {
         "marker": {
          "color": "rgb(227, 119, 194)",
          "size": 6
         },
         "mode": "markers",
         "name": "g++-4.7",
         "showlegend": false,
         "type": "scatter",
         "x": [
          18.763978
         ],
         "xaxis": "x4",
         "y": [
          279.755
         ],
         "yaxis": "y4"
        },
        {
         "marker": {
          "color": "rgb(127, 127, 127)",
          "size": 6
         },
         "mode": "markers",
         "name": "g++-4.8",
         "showlegend": false,
         "type": "scatter",
         "x": [
          18.770183
         ],
         "xaxis": "x4",
         "y": [
          280.02
         ],
         "yaxis": "y4"
        },
        {
         "marker": {
          "color": "rgb(188, 189, 34)",
          "size": 6
         },
         "mode": "markers",
         "name": "g++-4.9",
         "showlegend": false,
         "type": "scatter",
         "x": [
          18.5308285
         ],
         "xaxis": "x4",
         "y": [
          275.015
         ],
         "yaxis": "y4"
        },
        {
         "marker": {
          "color": "rgb(23, 190, 207)",
          "size": 6
         },
         "mode": "markers",
         "name": "g++-5",
         "showlegend": false,
         "type": "scatter",
         "x": [
          18.4952835
         ],
         "xaxis": "x4",
         "y": [
          271.96
         ],
         "yaxis": "y4"
        },
        {
         "marker": {
          "color": "rgb(31, 119, 180)",
          "size": 6
         },
         "mode": "markers",
         "name": "g++-6",
         "showlegend": false,
         "type": "scatter",
         "x": [
          18.8461
         ],
         "xaxis": "x4",
         "y": [
          275.32000000000005
         ],
         "yaxis": "y4"
        },
        {
         "marker": {
          "color": "rgb(255, 127, 14)",
          "size": 6
         },
         "mode": "markers",
         "name": "g++-7",
         "showlegend": false,
         "type": "scatter",
         "x": [
          19.115921999999998
         ],
         "xaxis": "x4",
         "y": [
          283.11
         ],
         "yaxis": "y4"
        },
        {
         "marker": {
          "color": "rgb(44, 160, 44)",
          "size": 6
         },
         "mode": "markers",
         "name": "g++-8",
         "showlegend": false,
         "type": "scatter",
         "x": [
          19.1023275
         ],
         "xaxis": "x4",
         "y": [
          283.805
         ],
         "yaxis": "y4"
        },
        {
         "marker": {
          "color": "rgb(214, 39, 40)",
          "size": 6
         },
         "mode": "markers",
         "name": "g++-9",
         "showlegend": false,
         "type": "scatter",
         "x": [
          19.674847
         ],
         "xaxis": "x4",
         "y": [
          289.71500000000003
         ],
         "yaxis": "y4"
        },
        {
         "marker": {
          "color": "rgb(31, 119, 180)"
         },
         "showlegend": false,
         "type": "histogram",
         "x": [
          288.445
         ],
         "xaxis": "x5",
         "yaxis": "y5"
        },
        {
         "marker": {
          "color": "rgb(255, 127, 14)"
         },
         "showlegend": false,
         "type": "histogram",
         "x": [
          294.06
         ],
         "xaxis": "x5",
         "yaxis": "y5"
        },
        {
         "marker": {
          "color": "rgb(44, 160, 44)"
         },
         "showlegend": false,
         "type": "histogram",
         "x": [
          292.69
         ],
         "xaxis": "x5",
         "yaxis": "y5"
        },
        {
         "marker": {
          "color": "rgb(214, 39, 40)"
         },
         "showlegend": false,
         "type": "histogram",
         "x": [
          294.59000000000003
         ],
         "xaxis": "x5",
         "yaxis": "y5"
        },
        {
         "marker": {
          "color": "rgb(148, 103, 189)"
         },
         "showlegend": false,
         "type": "histogram",
         "x": [
          291.79999999999995
         ],
         "xaxis": "x5",
         "yaxis": "y5"
        },
        {
         "marker": {
          "color": "rgb(140, 86, 75)"
         },
         "showlegend": false,
         "type": "histogram",
         "x": [
          277.86
         ],
         "xaxis": "x5",
         "yaxis": "y5"
        },
        {
         "marker": {
          "color": "rgb(227, 119, 194)"
         },
         "showlegend": false,
         "type": "histogram",
         "x": [
          279.755
         ],
         "xaxis": "x5",
         "yaxis": "y5"
        },
        {
         "marker": {
          "color": "rgb(127, 127, 127)"
         },
         "showlegend": false,
         "type": "histogram",
         "x": [
          280.02
         ],
         "xaxis": "x5",
         "yaxis": "y5"
        },
        {
         "marker": {
          "color": "rgb(188, 189, 34)"
         },
         "showlegend": false,
         "type": "histogram",
         "x": [
          275.015
         ],
         "xaxis": "x5",
         "yaxis": "y5"
        },
        {
         "marker": {
          "color": "rgb(23, 190, 207)"
         },
         "showlegend": false,
         "type": "histogram",
         "x": [
          271.96
         ],
         "xaxis": "x5",
         "yaxis": "y5"
        },
        {
         "marker": {
          "color": "rgb(31, 119, 180)"
         },
         "showlegend": false,
         "type": "histogram",
         "x": [
          275.32000000000005
         ],
         "xaxis": "x5",
         "yaxis": "y5"
        },
        {
         "marker": {
          "color": "rgb(255, 127, 14)"
         },
         "showlegend": false,
         "type": "histogram",
         "x": [
          283.11
         ],
         "xaxis": "x5",
         "yaxis": "y5"
        },
        {
         "marker": {
          "color": "rgb(44, 160, 44)"
         },
         "showlegend": false,
         "type": "histogram",
         "x": [
          283.805
         ],
         "xaxis": "x5",
         "yaxis": "y5"
        },
        {
         "marker": {
          "color": "rgb(214, 39, 40)"
         },
         "showlegend": false,
         "type": "histogram",
         "x": [
          289.71500000000003
         ],
         "xaxis": "x5",
         "yaxis": "y5"
        },
        {
         "marker": {
          "color": "rgb(31, 119, 180)",
          "size": 6
         },
         "mode": "markers",
         "name": "g++-10",
         "showlegend": false,
         "type": "scatter",
         "x": [
          14.255
         ],
         "xaxis": "x6",
         "y": [
          288.445
         ],
         "yaxis": "y6"
        },
        {
         "marker": {
          "color": "rgb(255, 127, 14)",
          "size": 6
         },
         "mode": "markers",
         "name": "g++-11",
         "showlegend": false,
         "type": "scatter",
         "x": [
          14.39
         ],
         "xaxis": "x6",
         "y": [
          294.06
         ],
         "yaxis": "y6"
        },
        {
         "marker": {
          "color": "rgb(44, 160, 44)",
          "size": 6
         },
         "mode": "markers",
         "name": "g++-12",
         "showlegend": false,
         "type": "scatter",
         "x": [
          14.565
         ],
         "xaxis": "x6",
         "y": [
          292.69
         ],
         "yaxis": "y6"
        },
        {
         "marker": {
          "color": "rgb(214, 39, 40)",
          "size": 6
         },
         "mode": "markers",
         "name": "g++-13",
         "showlegend": false,
         "type": "scatter",
         "x": [
          14.495000000000001
         ],
         "xaxis": "x6",
         "y": [
          294.59000000000003
         ],
         "yaxis": "y6"
        },
        {
         "marker": {
          "color": "rgb(148, 103, 189)",
          "size": 6
         },
         "mode": "markers",
         "name": "g++-4.4",
         "showlegend": false,
         "type": "scatter",
         "x": [
          14.165
         ],
         "xaxis": "x6",
         "y": [
          291.79999999999995
         ],
         "yaxis": "y6"
        },
        {
         "marker": {
          "color": "rgb(140, 86, 75)",
          "size": 6
         },
         "mode": "markers",
         "name": "g++-4.6",
         "showlegend": false,
         "type": "scatter",
         "x": [
          13.79
         ],
         "xaxis": "x6",
         "y": [
          277.86
         ],
         "yaxis": "y6"
        },
        {
         "marker": {
          "color": "rgb(227, 119, 194)",
          "size": 6
         },
         "mode": "markers",
         "name": "g++-4.7",
         "showlegend": false,
         "type": "scatter",
         "x": [
          13.855
         ],
         "xaxis": "x6",
         "y": [
          279.755
         ],
         "yaxis": "y6"
        },
        {
         "marker": {
          "color": "rgb(127, 127, 127)",
          "size": 6
         },
         "mode": "markers",
         "name": "g++-4.8",
         "showlegend": false,
         "type": "scatter",
         "x": [
          13.844999999999999
         ],
         "xaxis": "x6",
         "y": [
          280.02
         ],
         "yaxis": "y6"
        },
        {
         "marker": {
          "color": "rgb(188, 189, 34)",
          "size": 6
         },
         "mode": "markers",
         "name": "g++-4.9",
         "showlegend": false,
         "type": "scatter",
         "x": [
          13.74
         ],
         "xaxis": "x6",
         "y": [
          275.015
         ],
         "yaxis": "y6"
        },
        {
         "marker": {
          "color": "rgb(23, 190, 207)",
          "size": 6
         },
         "mode": "markers",
         "name": "g++-5",
         "showlegend": false,
         "type": "scatter",
         "x": [
          13.71
         ],
         "xaxis": "x6",
         "y": [
          271.96
         ],
         "yaxis": "y6"
        },
        {
         "marker": {
          "color": "rgb(31, 119, 180)",
          "size": 6
         },
         "mode": "markers",
         "name": "g++-6",
         "showlegend": false,
         "type": "scatter",
         "x": [
          13.895
         ],
         "xaxis": "x6",
         "y": [
          275.32000000000005
         ],
         "yaxis": "y6"
        },
        {
         "marker": {
          "color": "rgb(255, 127, 14)",
          "size": 6
         },
         "mode": "markers",
         "name": "g++-7",
         "showlegend": false,
         "type": "scatter",
         "x": [
          14.065
         ],
         "xaxis": "x6",
         "y": [
          283.11
         ],
         "yaxis": "y6"
        },
        {
         "marker": {
          "color": "rgb(44, 160, 44)",
          "size": 6
         },
         "mode": "markers",
         "name": "g++-8",
         "showlegend": false,
         "type": "scatter",
         "x": [
          14.04
         ],
         "xaxis": "x6",
         "y": [
          283.805
         ],
         "yaxis": "y6"
        },
        {
         "marker": {
          "color": "rgb(214, 39, 40)",
          "size": 6
         },
         "mode": "markers",
         "name": "g++-9",
         "showlegend": false,
         "type": "scatter",
         "x": [
          14.34
         ],
         "xaxis": "x6",
         "y": [
          289.71500000000003
         ],
         "yaxis": "y6"
        },
        {
         "marker": {
          "color": "rgb(31, 119, 180)",
          "size": 6
         },
         "mode": "markers",
         "name": "g++-10",
         "showlegend": false,
         "type": "scatter",
         "x": [
          19.560124000000002
         ],
         "xaxis": "x7",
         "y": [
          14.255
         ],
         "yaxis": "y7"
        },
        {
         "marker": {
          "color": "rgb(255, 127, 14)",
          "size": 6
         },
         "mode": "markers",
         "name": "g++-11",
         "showlegend": false,
         "type": "scatter",
         "x": [
          19.7222635
         ],
         "xaxis": "x7",
         "y": [
          14.39
         ],
         "yaxis": "y7"
        },
        {
         "marker": {
          "color": "rgb(44, 160, 44)",
          "size": 6
         },
         "mode": "markers",
         "name": "g++-12",
         "showlegend": false,
         "type": "scatter",
         "x": [
          19.864069999999998
         ],
         "xaxis": "x7",
         "y": [
          14.565
         ],
         "yaxis": "y7"
        },
        {
         "marker": {
          "color": "rgb(214, 39, 40)",
          "size": 6
         },
         "mode": "markers",
         "name": "g++-13",
         "showlegend": false,
         "type": "scatter",
         "x": [
          19.771586499999998
         ],
         "xaxis": "x7",
         "y": [
          14.495000000000001
         ],
         "yaxis": "y7"
        },
        {
         "marker": {
          "color": "rgb(148, 103, 189)",
          "size": 6
         },
         "mode": "markers",
         "name": "g++-4.4",
         "showlegend": false,
         "type": "scatter",
         "x": [
          19.269851000000003
         ],
         "xaxis": "x7",
         "y": [
          14.165
         ],
         "yaxis": "y7"
        },
        {
         "marker": {
          "color": "rgb(140, 86, 75)",
          "size": 6
         },
         "mode": "markers",
         "name": "g++-4.6",
         "showlegend": false,
         "type": "scatter",
         "x": [
          18.6323235
         ],
         "xaxis": "x7",
         "y": [
          13.79
         ],
         "yaxis": "y7"
        },
        {
         "marker": {
          "color": "rgb(227, 119, 194)",
          "size": 6
         },
         "mode": "markers",
         "name": "g++-4.7",
         "showlegend": false,
         "type": "scatter",
         "x": [
          18.763978
         ],
         "xaxis": "x7",
         "y": [
          13.855
         ],
         "yaxis": "y7"
        },
        {
         "marker": {
          "color": "rgb(127, 127, 127)",
          "size": 6
         },
         "mode": "markers",
         "name": "g++-4.8",
         "showlegend": false,
         "type": "scatter",
         "x": [
          18.770183
         ],
         "xaxis": "x7",
         "y": [
          13.844999999999999
         ],
         "yaxis": "y7"
        },
        {
         "marker": {
          "color": "rgb(188, 189, 34)",
          "size": 6
         },
         "mode": "markers",
         "name": "g++-4.9",
         "showlegend": false,
         "type": "scatter",
         "x": [
          18.5308285
         ],
         "xaxis": "x7",
         "y": [
          13.74
         ],
         "yaxis": "y7"
        },
        {
         "marker": {
          "color": "rgb(23, 190, 207)",
          "size": 6
         },
         "mode": "markers",
         "name": "g++-5",
         "showlegend": false,
         "type": "scatter",
         "x": [
          18.4952835
         ],
         "xaxis": "x7",
         "y": [
          13.71
         ],
         "yaxis": "y7"
        },
        {
         "marker": {
          "color": "rgb(31, 119, 180)",
          "size": 6
         },
         "mode": "markers",
         "name": "g++-6",
         "showlegend": false,
         "type": "scatter",
         "x": [
          18.8461
         ],
         "xaxis": "x7",
         "y": [
          13.895
         ],
         "yaxis": "y7"
        },
        {
         "marker": {
          "color": "rgb(255, 127, 14)",
          "size": 6
         },
         "mode": "markers",
         "name": "g++-7",
         "showlegend": false,
         "type": "scatter",
         "x": [
          19.115921999999998
         ],
         "xaxis": "x7",
         "y": [
          14.065
         ],
         "yaxis": "y7"
        },
        {
         "marker": {
          "color": "rgb(44, 160, 44)",
          "size": 6
         },
         "mode": "markers",
         "name": "g++-8",
         "showlegend": false,
         "type": "scatter",
         "x": [
          19.1023275
         ],
         "xaxis": "x7",
         "y": [
          14.04
         ],
         "yaxis": "y7"
        },
        {
         "marker": {
          "color": "rgb(214, 39, 40)",
          "size": 6
         },
         "mode": "markers",
         "name": "g++-9",
         "showlegend": false,
         "type": "scatter",
         "x": [
          19.674847
         ],
         "xaxis": "x7",
         "y": [
          14.34
         ],
         "yaxis": "y7"
        },
        {
         "marker": {
          "color": "rgb(31, 119, 180)",
          "size": 6
         },
         "mode": "markers",
         "name": "g++-10",
         "showlegend": false,
         "type": "scatter",
         "x": [
          288.445
         ],
         "xaxis": "x8",
         "y": [
          14.255
         ],
         "yaxis": "y8"
        },
        {
         "marker": {
          "color": "rgb(255, 127, 14)",
          "size": 6
         },
         "mode": "markers",
         "name": "g++-11",
         "showlegend": false,
         "type": "scatter",
         "x": [
          294.06
         ],
         "xaxis": "x8",
         "y": [
          14.39
         ],
         "yaxis": "y8"
        },
        {
         "marker": {
          "color": "rgb(44, 160, 44)",
          "size": 6
         },
         "mode": "markers",
         "name": "g++-12",
         "showlegend": false,
         "type": "scatter",
         "x": [
          292.69
         ],
         "xaxis": "x8",
         "y": [
          14.565
         ],
         "yaxis": "y8"
        },
        {
         "marker": {
          "color": "rgb(214, 39, 40)",
          "size": 6
         },
         "mode": "markers",
         "name": "g++-13",
         "showlegend": false,
         "type": "scatter",
         "x": [
          294.59000000000003
         ],
         "xaxis": "x8",
         "y": [
          14.495000000000001
         ],
         "yaxis": "y8"
        },
        {
         "marker": {
          "color": "rgb(148, 103, 189)",
          "size": 6
         },
         "mode": "markers",
         "name": "g++-4.4",
         "showlegend": false,
         "type": "scatter",
         "x": [
          291.79999999999995
         ],
         "xaxis": "x8",
         "y": [
          14.165
         ],
         "yaxis": "y8"
        },
        {
         "marker": {
          "color": "rgb(140, 86, 75)",
          "size": 6
         },
         "mode": "markers",
         "name": "g++-4.6",
         "showlegend": false,
         "type": "scatter",
         "x": [
          277.86
         ],
         "xaxis": "x8",
         "y": [
          13.79
         ],
         "yaxis": "y8"
        },
        {
         "marker": {
          "color": "rgb(227, 119, 194)",
          "size": 6
         },
         "mode": "markers",
         "name": "g++-4.7",
         "showlegend": false,
         "type": "scatter",
         "x": [
          279.755
         ],
         "xaxis": "x8",
         "y": [
          13.855
         ],
         "yaxis": "y8"
        },
        {
         "marker": {
          "color": "rgb(127, 127, 127)",
          "size": 6
         },
         "mode": "markers",
         "name": "g++-4.8",
         "showlegend": false,
         "type": "scatter",
         "x": [
          280.02
         ],
         "xaxis": "x8",
         "y": [
          13.844999999999999
         ],
         "yaxis": "y8"
        },
        {
         "marker": {
          "color": "rgb(188, 189, 34)",
          "size": 6
         },
         "mode": "markers",
         "name": "g++-4.9",
         "showlegend": false,
         "type": "scatter",
         "x": [
          275.015
         ],
         "xaxis": "x8",
         "y": [
          13.74
         ],
         "yaxis": "y8"
        },
        {
         "marker": {
          "color": "rgb(23, 190, 207)",
          "size": 6
         },
         "mode": "markers",
         "name": "g++-5",
         "showlegend": false,
         "type": "scatter",
         "x": [
          271.96
         ],
         "xaxis": "x8",
         "y": [
          13.71
         ],
         "yaxis": "y8"
        },
        {
         "marker": {
          "color": "rgb(31, 119, 180)",
          "size": 6
         },
         "mode": "markers",
         "name": "g++-6",
         "showlegend": false,
         "type": "scatter",
         "x": [
          275.32000000000005
         ],
         "xaxis": "x8",
         "y": [
          13.895
         ],
         "yaxis": "y8"
        },
        {
         "marker": {
          "color": "rgb(255, 127, 14)",
          "size": 6
         },
         "mode": "markers",
         "name": "g++-7",
         "showlegend": false,
         "type": "scatter",
         "x": [
          283.11
         ],
         "xaxis": "x8",
         "y": [
          14.065
         ],
         "yaxis": "y8"
        },
        {
         "marker": {
          "color": "rgb(44, 160, 44)",
          "size": 6
         },
         "mode": "markers",
         "name": "g++-8",
         "showlegend": false,
         "type": "scatter",
         "x": [
          283.805
         ],
         "xaxis": "x8",
         "y": [
          14.04
         ],
         "yaxis": "y8"
        },
        {
         "marker": {
          "color": "rgb(214, 39, 40)",
          "size": 6
         },
         "mode": "markers",
         "name": "g++-9",
         "showlegend": false,
         "type": "scatter",
         "x": [
          289.71500000000003
         ],
         "xaxis": "x8",
         "y": [
          14.34
         ],
         "yaxis": "y8"
        },
        {
         "marker": {
          "color": "rgb(31, 119, 180)"
         },
         "showlegend": false,
         "type": "histogram",
         "x": [
          14.255
         ],
         "xaxis": "x9",
         "yaxis": "y9"
        },
        {
         "marker": {
          "color": "rgb(255, 127, 14)"
         },
         "showlegend": false,
         "type": "histogram",
         "x": [
          14.39
         ],
         "xaxis": "x9",
         "yaxis": "y9"
        },
        {
         "marker": {
          "color": "rgb(44, 160, 44)"
         },
         "showlegend": false,
         "type": "histogram",
         "x": [
          14.565
         ],
         "xaxis": "x9",
         "yaxis": "y9"
        },
        {
         "marker": {
          "color": "rgb(214, 39, 40)"
         },
         "showlegend": false,
         "type": "histogram",
         "x": [
          14.495000000000001
         ],
         "xaxis": "x9",
         "yaxis": "y9"
        },
        {
         "marker": {
          "color": "rgb(148, 103, 189)"
         },
         "showlegend": false,
         "type": "histogram",
         "x": [
          14.165
         ],
         "xaxis": "x9",
         "yaxis": "y9"
        },
        {
         "marker": {
          "color": "rgb(140, 86, 75)"
         },
         "showlegend": false,
         "type": "histogram",
         "x": [
          13.79
         ],
         "xaxis": "x9",
         "yaxis": "y9"
        },
        {
         "marker": {
          "color": "rgb(227, 119, 194)"
         },
         "showlegend": false,
         "type": "histogram",
         "x": [
          13.855
         ],
         "xaxis": "x9",
         "yaxis": "y9"
        },
        {
         "marker": {
          "color": "rgb(127, 127, 127)"
         },
         "showlegend": false,
         "type": "histogram",
         "x": [
          13.844999999999999
         ],
         "xaxis": "x9",
         "yaxis": "y9"
        },
        {
         "marker": {
          "color": "rgb(188, 189, 34)"
         },
         "showlegend": false,
         "type": "histogram",
         "x": [
          13.74
         ],
         "xaxis": "x9",
         "yaxis": "y9"
        },
        {
         "marker": {
          "color": "rgb(23, 190, 207)"
         },
         "showlegend": false,
         "type": "histogram",
         "x": [
          13.71
         ],
         "xaxis": "x9",
         "yaxis": "y9"
        },
        {
         "marker": {
          "color": "rgb(31, 119, 180)"
         },
         "showlegend": false,
         "type": "histogram",
         "x": [
          13.895
         ],
         "xaxis": "x9",
         "yaxis": "y9"
        },
        {
         "marker": {
          "color": "rgb(255, 127, 14)"
         },
         "showlegend": false,
         "type": "histogram",
         "x": [
          14.065
         ],
         "xaxis": "x9",
         "yaxis": "y9"
        },
        {
         "marker": {
          "color": "rgb(44, 160, 44)"
         },
         "showlegend": false,
         "type": "histogram",
         "x": [
          14.04
         ],
         "xaxis": "x9",
         "yaxis": "y9"
        },
        {
         "marker": {
          "color": "rgb(214, 39, 40)"
         },
         "showlegend": false,
         "type": "histogram",
         "x": [
          14.34
         ],
         "xaxis": "x9",
         "yaxis": "y9"
        }
       ],
       "layout": {
        "barmode": "stack",
        "height": 1000,
        "showlegend": true,
        "template": {
         "data": {
          "bar": [
           {
            "error_x": {
             "color": "#2a3f5f"
            },
            "error_y": {
             "color": "#2a3f5f"
            },
            "marker": {
             "line": {
              "color": "#E5ECF6",
              "width": 0.5
             },
             "pattern": {
              "fillmode": "overlay",
              "size": 10,
              "solidity": 0.2
             }
            },
            "type": "bar"
           }
          ],
          "barpolar": [
           {
            "marker": {
             "line": {
              "color": "#E5ECF6",
              "width": 0.5
             },
             "pattern": {
              "fillmode": "overlay",
              "size": 10,
              "solidity": 0.2
             }
            },
            "type": "barpolar"
           }
          ],
          "carpet": [
           {
            "aaxis": {
             "endlinecolor": "#2a3f5f",
             "gridcolor": "white",
             "linecolor": "white",
             "minorgridcolor": "white",
             "startlinecolor": "#2a3f5f"
            },
            "baxis": {
             "endlinecolor": "#2a3f5f",
             "gridcolor": "white",
             "linecolor": "white",
             "minorgridcolor": "white",
             "startlinecolor": "#2a3f5f"
            },
            "type": "carpet"
           }
          ],
          "choropleth": [
           {
            "colorbar": {
             "outlinewidth": 0,
             "ticks": ""
            },
            "type": "choropleth"
           }
          ],
          "contour": [
           {
            "colorbar": {
             "outlinewidth": 0,
             "ticks": ""
            },
            "colorscale": [
             [
              0,
              "#0d0887"
             ],
             [
              0.1111111111111111,
              "#46039f"
             ],
             [
              0.2222222222222222,
              "#7201a8"
             ],
             [
              0.3333333333333333,
              "#9c179e"
             ],
             [
              0.4444444444444444,
              "#bd3786"
             ],
             [
              0.5555555555555556,
              "#d8576b"
             ],
             [
              0.6666666666666666,
              "#ed7953"
             ],
             [
              0.7777777777777778,
              "#fb9f3a"
             ],
             [
              0.8888888888888888,
              "#fdca26"
             ],
             [
              1,
              "#f0f921"
             ]
            ],
            "type": "contour"
           }
          ],
          "contourcarpet": [
           {
            "colorbar": {
             "outlinewidth": 0,
             "ticks": ""
            },
            "type": "contourcarpet"
           }
          ],
          "heatmap": [
           {
            "colorbar": {
             "outlinewidth": 0,
             "ticks": ""
            },
            "colorscale": [
             [
              0,
              "#0d0887"
             ],
             [
              0.1111111111111111,
              "#46039f"
             ],
             [
              0.2222222222222222,
              "#7201a8"
             ],
             [
              0.3333333333333333,
              "#9c179e"
             ],
             [
              0.4444444444444444,
              "#bd3786"
             ],
             [
              0.5555555555555556,
              "#d8576b"
             ],
             [
              0.6666666666666666,
              "#ed7953"
             ],
             [
              0.7777777777777778,
              "#fb9f3a"
             ],
             [
              0.8888888888888888,
              "#fdca26"
             ],
             [
              1,
              "#f0f921"
             ]
            ],
            "type": "heatmap"
           }
          ],
          "heatmapgl": [
           {
            "colorbar": {
             "outlinewidth": 0,
             "ticks": ""
            },
            "colorscale": [
             [
              0,
              "#0d0887"
             ],
             [
              0.1111111111111111,
              "#46039f"
             ],
             [
              0.2222222222222222,
              "#7201a8"
             ],
             [
              0.3333333333333333,
              "#9c179e"
             ],
             [
              0.4444444444444444,
              "#bd3786"
             ],
             [
              0.5555555555555556,
              "#d8576b"
             ],
             [
              0.6666666666666666,
              "#ed7953"
             ],
             [
              0.7777777777777778,
              "#fb9f3a"
             ],
             [
              0.8888888888888888,
              "#fdca26"
             ],
             [
              1,
              "#f0f921"
             ]
            ],
            "type": "heatmapgl"
           }
          ],
          "histogram": [
           {
            "marker": {
             "pattern": {
              "fillmode": "overlay",
              "size": 10,
              "solidity": 0.2
             }
            },
            "type": "histogram"
           }
          ],
          "histogram2d": [
           {
            "colorbar": {
             "outlinewidth": 0,
             "ticks": ""
            },
            "colorscale": [
             [
              0,
              "#0d0887"
             ],
             [
              0.1111111111111111,
              "#46039f"
             ],
             [
              0.2222222222222222,
              "#7201a8"
             ],
             [
              0.3333333333333333,
              "#9c179e"
             ],
             [
              0.4444444444444444,
              "#bd3786"
             ],
             [
              0.5555555555555556,
              "#d8576b"
             ],
             [
              0.6666666666666666,
              "#ed7953"
             ],
             [
              0.7777777777777778,
              "#fb9f3a"
             ],
             [
              0.8888888888888888,
              "#fdca26"
             ],
             [
              1,
              "#f0f921"
             ]
            ],
            "type": "histogram2d"
           }
          ],
          "histogram2dcontour": [
           {
            "colorbar": {
             "outlinewidth": 0,
             "ticks": ""
            },
            "colorscale": [
             [
              0,
              "#0d0887"
             ],
             [
              0.1111111111111111,
              "#46039f"
             ],
             [
              0.2222222222222222,
              "#7201a8"
             ],
             [
              0.3333333333333333,
              "#9c179e"
             ],
             [
              0.4444444444444444,
              "#bd3786"
             ],
             [
              0.5555555555555556,
              "#d8576b"
             ],
             [
              0.6666666666666666,
              "#ed7953"
             ],
             [
              0.7777777777777778,
              "#fb9f3a"
             ],
             [
              0.8888888888888888,
              "#fdca26"
             ],
             [
              1,
              "#f0f921"
             ]
            ],
            "type": "histogram2dcontour"
           }
          ],
          "mesh3d": [
           {
            "colorbar": {
             "outlinewidth": 0,
             "ticks": ""
            },
            "type": "mesh3d"
           }
          ],
          "parcoords": [
           {
            "line": {
             "colorbar": {
              "outlinewidth": 0,
              "ticks": ""
             }
            },
            "type": "parcoords"
           }
          ],
          "pie": [
           {
            "automargin": true,
            "type": "pie"
           }
          ],
          "scatter": [
           {
            "fillpattern": {
             "fillmode": "overlay",
             "size": 10,
             "solidity": 0.2
            },
            "type": "scatter"
           }
          ],
          "scatter3d": [
           {
            "line": {
             "colorbar": {
              "outlinewidth": 0,
              "ticks": ""
             }
            },
            "marker": {
             "colorbar": {
              "outlinewidth": 0,
              "ticks": ""
             }
            },
            "type": "scatter3d"
           }
          ],
          "scattercarpet": [
           {
            "marker": {
             "colorbar": {
              "outlinewidth": 0,
              "ticks": ""
             }
            },
            "type": "scattercarpet"
           }
          ],
          "scattergeo": [
           {
            "marker": {
             "colorbar": {
              "outlinewidth": 0,
              "ticks": ""
             }
            },
            "type": "scattergeo"
           }
          ],
          "scattergl": [
           {
            "marker": {
             "colorbar": {
              "outlinewidth": 0,
              "ticks": ""
             }
            },
            "type": "scattergl"
           }
          ],
          "scattermapbox": [
           {
            "marker": {
             "colorbar": {
              "outlinewidth": 0,
              "ticks": ""
             }
            },
            "type": "scattermapbox"
           }
          ],
          "scatterpolar": [
           {
            "marker": {
             "colorbar": {
              "outlinewidth": 0,
              "ticks": ""
             }
            },
            "type": "scatterpolar"
           }
          ],
          "scatterpolargl": [
           {
            "marker": {
             "colorbar": {
              "outlinewidth": 0,
              "ticks": ""
             }
            },
            "type": "scatterpolargl"
           }
          ],
          "scatterternary": [
           {
            "marker": {
             "colorbar": {
              "outlinewidth": 0,
              "ticks": ""
             }
            },
            "type": "scatterternary"
           }
          ],
          "surface": [
           {
            "colorbar": {
             "outlinewidth": 0,
             "ticks": ""
            },
            "colorscale": [
             [
              0,
              "#0d0887"
             ],
             [
              0.1111111111111111,
              "#46039f"
             ],
             [
              0.2222222222222222,
              "#7201a8"
             ],
             [
              0.3333333333333333,
              "#9c179e"
             ],
             [
              0.4444444444444444,
              "#bd3786"
             ],
             [
              0.5555555555555556,
              "#d8576b"
             ],
             [
              0.6666666666666666,
              "#ed7953"
             ],
             [
              0.7777777777777778,
              "#fb9f3a"
             ],
             [
              0.8888888888888888,
              "#fdca26"
             ],
             [
              1,
              "#f0f921"
             ]
            ],
            "type": "surface"
           }
          ],
          "table": [
           {
            "cells": {
             "fill": {
              "color": "#EBF0F8"
             },
             "line": {
              "color": "white"
             }
            },
            "header": {
             "fill": {
              "color": "#C8D4E3"
             },
             "line": {
              "color": "white"
             }
            },
            "type": "table"
           }
          ]
         },
         "layout": {
          "annotationdefaults": {
           "arrowcolor": "#2a3f5f",
           "arrowhead": 0,
           "arrowwidth": 1
          },
          "autotypenumbers": "strict",
          "coloraxis": {
           "colorbar": {
            "outlinewidth": 0,
            "ticks": ""
           }
          },
          "colorscale": {
           "diverging": [
            [
             0,
             "#8e0152"
            ],
            [
             0.1,
             "#c51b7d"
            ],
            [
             0.2,
             "#de77ae"
            ],
            [
             0.3,
             "#f1b6da"
            ],
            [
             0.4,
             "#fde0ef"
            ],
            [
             0.5,
             "#f7f7f7"
            ],
            [
             0.6,
             "#e6f5d0"
            ],
            [
             0.7,
             "#b8e186"
            ],
            [
             0.8,
             "#7fbc41"
            ],
            [
             0.9,
             "#4d9221"
            ],
            [
             1,
             "#276419"
            ]
           ],
           "sequential": [
            [
             0,
             "#0d0887"
            ],
            [
             0.1111111111111111,
             "#46039f"
            ],
            [
             0.2222222222222222,
             "#7201a8"
            ],
            [
             0.3333333333333333,
             "#9c179e"
            ],
            [
             0.4444444444444444,
             "#bd3786"
            ],
            [
             0.5555555555555556,
             "#d8576b"
            ],
            [
             0.6666666666666666,
             "#ed7953"
            ],
            [
             0.7777777777777778,
             "#fb9f3a"
            ],
            [
             0.8888888888888888,
             "#fdca26"
            ],
            [
             1,
             "#f0f921"
            ]
           ],
           "sequentialminus": [
            [
             0,
             "#0d0887"
            ],
            [
             0.1111111111111111,
             "#46039f"
            ],
            [
             0.2222222222222222,
             "#7201a8"
            ],
            [
             0.3333333333333333,
             "#9c179e"
            ],
            [
             0.4444444444444444,
             "#bd3786"
            ],
            [
             0.5555555555555556,
             "#d8576b"
            ],
            [
             0.6666666666666666,
             "#ed7953"
            ],
            [
             0.7777777777777778,
             "#fb9f3a"
            ],
            [
             0.8888888888888888,
             "#fdca26"
            ],
            [
             1,
             "#f0f921"
            ]
           ]
          },
          "colorway": [
           "#636efa",
           "#EF553B",
           "#00cc96",
           "#ab63fa",
           "#FFA15A",
           "#19d3f3",
           "#FF6692",
           "#B6E880",
           "#FF97FF",
           "#FECB52"
          ],
          "font": {
           "color": "#2a3f5f"
          },
          "geo": {
           "bgcolor": "white",
           "lakecolor": "white",
           "landcolor": "#E5ECF6",
           "showlakes": true,
           "showland": true,
           "subunitcolor": "white"
          },
          "hoverlabel": {
           "align": "left"
          },
          "hovermode": "closest",
          "mapbox": {
           "style": "light"
          },
          "paper_bgcolor": "white",
          "plot_bgcolor": "#E5ECF6",
          "polar": {
           "angularaxis": {
            "gridcolor": "white",
            "linecolor": "white",
            "ticks": ""
           },
           "bgcolor": "#E5ECF6",
           "radialaxis": {
            "gridcolor": "white",
            "linecolor": "white",
            "ticks": ""
           }
          },
          "scene": {
           "xaxis": {
            "backgroundcolor": "#E5ECF6",
            "gridcolor": "white",
            "gridwidth": 2,
            "linecolor": "white",
            "showbackground": true,
            "ticks": "",
            "zerolinecolor": "white"
           },
           "yaxis": {
            "backgroundcolor": "#E5ECF6",
            "gridcolor": "white",
            "gridwidth": 2,
            "linecolor": "white",
            "showbackground": true,
            "ticks": "",
            "zerolinecolor": "white"
           },
           "zaxis": {
            "backgroundcolor": "#E5ECF6",
            "gridcolor": "white",
            "gridwidth": 2,
            "linecolor": "white",
            "showbackground": true,
            "ticks": "",
            "zerolinecolor": "white"
           }
          },
          "shapedefaults": {
           "line": {
            "color": "#2a3f5f"
           }
          },
          "ternary": {
           "aaxis": {
            "gridcolor": "white",
            "linecolor": "white",
            "ticks": ""
           },
           "baxis": {
            "gridcolor": "white",
            "linecolor": "white",
            "ticks": ""
           },
           "bgcolor": "#E5ECF6",
           "caxis": {
            "gridcolor": "white",
            "linecolor": "white",
            "ticks": ""
           }
          },
          "title": {
           "x": 0.05
          },
          "xaxis": {
           "automargin": true,
           "gridcolor": "white",
           "linecolor": "white",
           "ticks": "",
           "title": {
            "standoff": 15
           },
           "zerolinecolor": "white",
           "zerolinewidth": 2
          },
          "yaxis": {
           "automargin": true,
           "gridcolor": "white",
           "linecolor": "white",
           "ticks": "",
           "title": {
            "standoff": 15
           },
           "zerolinecolor": "white",
           "zerolinewidth": 2
          }
         }
        },
        "title": {
         "text": "Scatterplot Matrix"
        },
        "width": 1000,
        "xaxis": {
         "anchor": "y",
         "domain": [
          0,
          0.2888888888888889
         ]
        },
        "xaxis2": {
         "anchor": "y2",
         "domain": [
          0.35555555555555557,
          0.6444444444444445
         ]
        },
        "xaxis3": {
         "anchor": "y3",
         "domain": [
          0.7111111111111111,
          1
         ]
        },
        "xaxis4": {
         "anchor": "y4",
         "domain": [
          0,
          0.2888888888888889
         ]
        },
        "xaxis5": {
         "anchor": "y5",
         "domain": [
          0.35555555555555557,
          0.6444444444444445
         ]
        },
        "xaxis6": {
         "anchor": "y6",
         "domain": [
          0.7111111111111111,
          1
         ]
        },
        "xaxis7": {
         "anchor": "y7",
         "domain": [
          0,
          0.2888888888888889
         ],
         "title": {
          "text": "time_elapsed"
         }
        },
        "xaxis8": {
         "anchor": "y8",
         "domain": [
          0.35555555555555557,
          0.6444444444444445
         ],
         "title": {
          "text": "Pkg_J"
         }
        },
        "xaxis9": {
         "anchor": "y9",
         "domain": [
          0.7111111111111111,
          1
         ],
         "title": {
          "text": "RAM_J"
         }
        },
        "yaxis": {
         "anchor": "x",
         "domain": [
          0.7333333333333333,
          1
         ],
         "title": {
          "text": "time_elapsed"
         }
        },
        "yaxis2": {
         "anchor": "x2",
         "domain": [
          0.7333333333333333,
          1
         ]
        },
        "yaxis3": {
         "anchor": "x3",
         "domain": [
          0.7333333333333333,
          1
         ]
        },
        "yaxis4": {
         "anchor": "x4",
         "domain": [
          0.36666666666666664,
          0.6333333333333333
         ],
         "title": {
          "text": "Pkg_J"
         }
        },
        "yaxis5": {
         "anchor": "x5",
         "domain": [
          0.36666666666666664,
          0.6333333333333333
         ]
        },
        "yaxis6": {
         "anchor": "x6",
         "domain": [
          0.36666666666666664,
          0.6333333333333333
         ]
        },
        "yaxis7": {
         "anchor": "x7",
         "domain": [
          0,
          0.26666666666666666
         ],
         "title": {
          "text": "RAM_J"
         }
        },
        "yaxis8": {
         "anchor": "x8",
         "domain": [
          0,
          0.26666666666666666
         ]
        },
        "yaxis9": {
         "anchor": "x9",
         "domain": [
          0,
          0.26666666666666666
         ]
        }
       }
      }
     },
     "metadata": {},
     "output_type": "display_data"
    }
   ],
   "source": [
    "fig = ff.create_scatterplotmatrix(df_median[['time_elapsed', 'Pkg_J', 'RAM_J', 'version']], \n",
    "                                  height=1000,\n",
    "                                  width=1000,\n",
    "                                  diag='histogram',\n",
    "                                  index='version')\n",
    "fig.show()"
   ]
  },
  {
   "cell_type": "code",
   "execution_count": 93,
   "metadata": {},
   "outputs": [
    {
     "data": {
      "text/html": [
       "<div>\n",
       "<style scoped>\n",
       "    .dataframe tbody tr th:only-of-type {\n",
       "        vertical-align: middle;\n",
       "    }\n",
       "\n",
       "    .dataframe tbody tr th {\n",
       "        vertical-align: top;\n",
       "    }\n",
       "\n",
       "    .dataframe thead th {\n",
       "        text-align: right;\n",
       "    }\n",
       "</style>\n",
       "<table border=\"1\" class=\"dataframe\">\n",
       "  <thead>\n",
       "    <tr style=\"text-align: right;\">\n",
       "      <th></th>\n",
       "      <th>time_elapsed</th>\n",
       "      <th>Avg_MHz</th>\n",
       "      <th>Busy%</th>\n",
       "      <th>IPC</th>\n",
       "      <th>IRQ</th>\n",
       "      <th>POLL</th>\n",
       "      <th>C1%</th>\n",
       "      <th>C1E%</th>\n",
       "      <th>C3%</th>\n",
       "      <th>C6%</th>\n",
       "      <th>...</th>\n",
       "      <th>CPU%c7</th>\n",
       "      <th>CoreTmp</th>\n",
       "      <th>PkgTmp</th>\n",
       "      <th>GFX%rc6</th>\n",
       "      <th>GFXMHz</th>\n",
       "      <th>GFXAMHz</th>\n",
       "      <th>Totl%C0</th>\n",
       "      <th>Any%C0</th>\n",
       "      <th>GFX%C0</th>\n",
       "      <th>CPUGFX%</th>\n",
       "    </tr>\n",
       "  </thead>\n",
       "  <tbody>\n",
       "    <tr>\n",
       "      <th>time_elapsed</th>\n",
       "      <td>1.000000</td>\n",
       "      <td>0.068107</td>\n",
       "      <td>0.192450</td>\n",
       "      <td>-0.596731</td>\n",
       "      <td>0.456779</td>\n",
       "      <td>0.219338</td>\n",
       "      <td>0.193786</td>\n",
       "      <td>0.214358</td>\n",
       "      <td>0.209081</td>\n",
       "      <td>0.334349</td>\n",
       "      <td>...</td>\n",
       "      <td>-0.293323</td>\n",
       "      <td>0.470129</td>\n",
       "      <td>0.502612</td>\n",
       "      <td>0.169322</td>\n",
       "      <td>0.247453</td>\n",
       "      <td>NaN</td>\n",
       "      <td>0.195840</td>\n",
       "      <td>-0.380930</td>\n",
       "      <td>-0.435948</td>\n",
       "      <td>-0.472884</td>\n",
       "    </tr>\n",
       "    <tr>\n",
       "      <th>Avg_MHz</th>\n",
       "      <td>0.068107</td>\n",
       "      <td>1.000000</td>\n",
       "      <td>0.949295</td>\n",
       "      <td>-0.639685</td>\n",
       "      <td>0.127118</td>\n",
       "      <td>0.664125</td>\n",
       "      <td>0.843616</td>\n",
       "      <td>0.896732</td>\n",
       "      <td>0.863040</td>\n",
       "      <td>0.562058</td>\n",
       "      <td>...</td>\n",
       "      <td>-0.854500</td>\n",
       "      <td>-0.081253</td>\n",
       "      <td>-0.066351</td>\n",
       "      <td>0.214902</td>\n",
       "      <td>-0.068422</td>\n",
       "      <td>NaN</td>\n",
       "      <td>0.943248</td>\n",
       "      <td>0.135033</td>\n",
       "      <td>-0.004125</td>\n",
       "      <td>0.011713</td>\n",
       "    </tr>\n",
       "    <tr>\n",
       "      <th>Busy%</th>\n",
       "      <td>0.192450</td>\n",
       "      <td>0.949295</td>\n",
       "      <td>1.000000</td>\n",
       "      <td>-0.649045</td>\n",
       "      <td>0.275152</td>\n",
       "      <td>0.656393</td>\n",
       "      <td>0.909427</td>\n",
       "      <td>0.923712</td>\n",
       "      <td>0.891452</td>\n",
       "      <td>0.663989</td>\n",
       "      <td>...</td>\n",
       "      <td>-0.946757</td>\n",
       "      <td>0.082701</td>\n",
       "      <td>0.101449</td>\n",
       "      <td>0.227728</td>\n",
       "      <td>-0.025784</td>\n",
       "      <td>NaN</td>\n",
       "      <td>0.998492</td>\n",
       "      <td>-0.016913</td>\n",
       "      <td>-0.055614</td>\n",
       "      <td>-0.043858</td>\n",
       "    </tr>\n",
       "    <tr>\n",
       "      <th>IPC</th>\n",
       "      <td>-0.596731</td>\n",
       "      <td>-0.639685</td>\n",
       "      <td>-0.649045</td>\n",
       "      <td>1.000000</td>\n",
       "      <td>-0.301365</td>\n",
       "      <td>-0.530760</td>\n",
       "      <td>-0.634232</td>\n",
       "      <td>-0.563347</td>\n",
       "      <td>-0.531579</td>\n",
       "      <td>-0.442463</td>\n",
       "      <td>...</td>\n",
       "      <td>0.633362</td>\n",
       "      <td>-0.127857</td>\n",
       "      <td>-0.151094</td>\n",
       "      <td>-0.190811</td>\n",
       "      <td>-0.069360</td>\n",
       "      <td>NaN</td>\n",
       "      <td>-0.645058</td>\n",
       "      <td>0.102184</td>\n",
       "      <td>0.240681</td>\n",
       "      <td>0.251673</td>\n",
       "    </tr>\n",
       "    <tr>\n",
       "      <th>IRQ</th>\n",
       "      <td>0.456779</td>\n",
       "      <td>0.127118</td>\n",
       "      <td>0.275152</td>\n",
       "      <td>-0.301365</td>\n",
       "      <td>1.000000</td>\n",
       "      <td>0.182587</td>\n",
       "      <td>0.230824</td>\n",
       "      <td>0.279776</td>\n",
       "      <td>0.359766</td>\n",
       "      <td>0.795369</td>\n",
       "      <td>...</td>\n",
       "      <td>-0.555162</td>\n",
       "      <td>0.479205</td>\n",
       "      <td>0.536046</td>\n",
       "      <td>0.100105</td>\n",
       "      <td>-0.027448</td>\n",
       "      <td>NaN</td>\n",
       "      <td>0.291727</td>\n",
       "      <td>-0.943534</td>\n",
       "      <td>-0.093802</td>\n",
       "      <td>-0.147461</td>\n",
       "    </tr>\n",
       "    <tr>\n",
       "      <th>POLL</th>\n",
       "      <td>0.219338</td>\n",
       "      <td>0.664125</td>\n",
       "      <td>0.656393</td>\n",
       "      <td>-0.530760</td>\n",
       "      <td>0.182587</td>\n",
       "      <td>1.000000</td>\n",
       "      <td>0.570681</td>\n",
       "      <td>0.681866</td>\n",
       "      <td>0.649342</td>\n",
       "      <td>0.509147</td>\n",
       "      <td>...</td>\n",
       "      <td>-0.628899</td>\n",
       "      <td>0.015621</td>\n",
       "      <td>0.049007</td>\n",
       "      <td>0.213706</td>\n",
       "      <td>-0.032209</td>\n",
       "      <td>NaN</td>\n",
       "      <td>0.651839</td>\n",
       "      <td>0.009984</td>\n",
       "      <td>-0.095825</td>\n",
       "      <td>-0.098435</td>\n",
       "    </tr>\n",
       "    <tr>\n",
       "      <th>C1%</th>\n",
       "      <td>0.193786</td>\n",
       "      <td>0.843616</td>\n",
       "      <td>0.909427</td>\n",
       "      <td>-0.634232</td>\n",
       "      <td>0.230824</td>\n",
       "      <td>0.570681</td>\n",
       "      <td>1.000000</td>\n",
       "      <td>0.790677</td>\n",
       "      <td>0.717365</td>\n",
       "      <td>0.509290</td>\n",
       "      <td>...</td>\n",
       "      <td>-0.858664</td>\n",
       "      <td>0.018379</td>\n",
       "      <td>0.031918</td>\n",
       "      <td>0.306434</td>\n",
       "      <td>-0.027028</td>\n",
       "      <td>NaN</td>\n",
       "      <td>0.909934</td>\n",
       "      <td>-0.019958</td>\n",
       "      <td>-0.170989</td>\n",
       "      <td>-0.154625</td>\n",
       "    </tr>\n",
       "    <tr>\n",
       "      <th>C1E%</th>\n",
       "      <td>0.214358</td>\n",
       "      <td>0.896732</td>\n",
       "      <td>0.923712</td>\n",
       "      <td>-0.563347</td>\n",
       "      <td>0.279776</td>\n",
       "      <td>0.681866</td>\n",
       "      <td>0.790677</td>\n",
       "      <td>1.000000</td>\n",
       "      <td>0.933318</td>\n",
       "      <td>0.687771</td>\n",
       "      <td>...</td>\n",
       "      <td>-0.895891</td>\n",
       "      <td>0.066967</td>\n",
       "      <td>0.088624</td>\n",
       "      <td>0.236198</td>\n",
       "      <td>-0.025132</td>\n",
       "      <td>NaN</td>\n",
       "      <td>0.921857</td>\n",
       "      <td>-0.025989</td>\n",
       "      <td>-0.047873</td>\n",
       "      <td>-0.041727</td>\n",
       "    </tr>\n",
       "    <tr>\n",
       "      <th>C3%</th>\n",
       "      <td>0.209081</td>\n",
       "      <td>0.863040</td>\n",
       "      <td>0.891452</td>\n",
       "      <td>-0.531579</td>\n",
       "      <td>0.359766</td>\n",
       "      <td>0.649342</td>\n",
       "      <td>0.717365</td>\n",
       "      <td>0.933318</td>\n",
       "      <td>1.000000</td>\n",
       "      <td>0.752257</td>\n",
       "      <td>...</td>\n",
       "      <td>-0.884374</td>\n",
       "      <td>0.134988</td>\n",
       "      <td>0.163151</td>\n",
       "      <td>0.172945</td>\n",
       "      <td>-0.042543</td>\n",
       "      <td>NaN</td>\n",
       "      <td>0.887375</td>\n",
       "      <td>-0.095814</td>\n",
       "      <td>-0.005547</td>\n",
       "      <td>0.002550</td>\n",
       "    </tr>\n",
       "    <tr>\n",
       "      <th>C6%</th>\n",
       "      <td>0.334349</td>\n",
       "      <td>0.562058</td>\n",
       "      <td>0.663989</td>\n",
       "      <td>-0.442463</td>\n",
       "      <td>0.795369</td>\n",
       "      <td>0.509147</td>\n",
       "      <td>0.509290</td>\n",
       "      <td>0.687771</td>\n",
       "      <td>0.752257</td>\n",
       "      <td>1.000000</td>\n",
       "      <td>...</td>\n",
       "      <td>-0.841668</td>\n",
       "      <td>0.340964</td>\n",
       "      <td>0.395172</td>\n",
       "      <td>0.136172</td>\n",
       "      <td>-0.073616</td>\n",
       "      <td>NaN</td>\n",
       "      <td>0.671625</td>\n",
       "      <td>-0.629711</td>\n",
       "      <td>0.012703</td>\n",
       "      <td>-0.022963</td>\n",
       "    </tr>\n",
       "    <tr>\n",
       "      <th>C7s%</th>\n",
       "      <td>0.021084</td>\n",
       "      <td>0.297209</td>\n",
       "      <td>0.279340</td>\n",
       "      <td>-0.222202</td>\n",
       "      <td>0.070062</td>\n",
       "      <td>0.449100</td>\n",
       "      <td>0.182891</td>\n",
       "      <td>0.305797</td>\n",
       "      <td>0.317717</td>\n",
       "      <td>0.239579</td>\n",
       "      <td>...</td>\n",
       "      <td>-0.264949</td>\n",
       "      <td>-0.024045</td>\n",
       "      <td>-0.011224</td>\n",
       "      <td>0.139709</td>\n",
       "      <td>-0.050443</td>\n",
       "      <td>NaN</td>\n",
       "      <td>0.276290</td>\n",
       "      <td>0.015901</td>\n",
       "      <td>-0.042598</td>\n",
       "      <td>-0.041842</td>\n",
       "    </tr>\n",
       "    <tr>\n",
       "      <th>C8%</th>\n",
       "      <td>0.334464</td>\n",
       "      <td>0.313326</td>\n",
       "      <td>0.471300</td>\n",
       "      <td>-0.336851</td>\n",
       "      <td>0.879418</td>\n",
       "      <td>0.346791</td>\n",
       "      <td>0.420253</td>\n",
       "      <td>0.478604</td>\n",
       "      <td>0.521689</td>\n",
       "      <td>0.834892</td>\n",
       "      <td>...</td>\n",
       "      <td>-0.691231</td>\n",
       "      <td>0.437115</td>\n",
       "      <td>0.483482</td>\n",
       "      <td>0.079124</td>\n",
       "      <td>-0.097888</td>\n",
       "      <td>NaN</td>\n",
       "      <td>0.482676</td>\n",
       "      <td>-0.779695</td>\n",
       "      <td>0.020914</td>\n",
       "      <td>-0.018328</td>\n",
       "    </tr>\n",
       "    <tr>\n",
       "      <th>C9%</th>\n",
       "      <td>0.379137</td>\n",
       "      <td>-0.085636</td>\n",
       "      <td>0.066012</td>\n",
       "      <td>-0.137674</td>\n",
       "      <td>0.915503</td>\n",
       "      <td>-0.002995</td>\n",
       "      <td>0.057653</td>\n",
       "      <td>0.056682</td>\n",
       "      <td>0.133392</td>\n",
       "      <td>0.621930</td>\n",
       "      <td>...</td>\n",
       "      <td>-0.345720</td>\n",
       "      <td>0.538260</td>\n",
       "      <td>0.579247</td>\n",
       "      <td>-0.049126</td>\n",
       "      <td>-0.032415</td>\n",
       "      <td>NaN</td>\n",
       "      <td>0.081723</td>\n",
       "      <td>-0.943872</td>\n",
       "      <td>-0.032035</td>\n",
       "      <td>-0.090685</td>\n",
       "    </tr>\n",
       "    <tr>\n",
       "      <th>C10%</th>\n",
       "      <td>-0.399859</td>\n",
       "      <td>-0.296402</td>\n",
       "      <td>-0.455515</td>\n",
       "      <td>0.363605</td>\n",
       "      <td>-0.942666</td>\n",
       "      <td>-0.289056</td>\n",
       "      <td>-0.407429</td>\n",
       "      <td>-0.439048</td>\n",
       "      <td>-0.494633</td>\n",
       "      <td>-0.850805</td>\n",
       "      <td>...</td>\n",
       "      <td>0.693484</td>\n",
       "      <td>-0.500906</td>\n",
       "      <td>-0.548044</td>\n",
       "      <td>-0.059041</td>\n",
       "      <td>0.061492</td>\n",
       "      <td>NaN</td>\n",
       "      <td>-0.468745</td>\n",
       "      <td>0.859896</td>\n",
       "      <td>0.027388</td>\n",
       "      <td>0.074652</td>\n",
       "    </tr>\n",
       "    <tr>\n",
       "      <th>CPU%c1</th>\n",
       "      <td>0.317237</td>\n",
       "      <td>0.811367</td>\n",
       "      <td>0.916425</td>\n",
       "      <td>-0.617030</td>\n",
       "      <td>0.604021</td>\n",
       "      <td>0.597984</td>\n",
       "      <td>0.861864</td>\n",
       "      <td>0.870589</td>\n",
       "      <td>0.848913</td>\n",
       "      <td>0.830733</td>\n",
       "      <td>...</td>\n",
       "      <td>-0.991468</td>\n",
       "      <td>0.204868</td>\n",
       "      <td>0.241437</td>\n",
       "      <td>0.265705</td>\n",
       "      <td>-0.031212</td>\n",
       "      <td>NaN</td>\n",
       "      <td>0.927354</td>\n",
       "      <td>-0.383790</td>\n",
       "      <td>-0.108474</td>\n",
       "      <td>-0.119021</td>\n",
       "    </tr>\n",
       "    <tr>\n",
       "      <th>CPU%c3</th>\n",
       "      <td>0.197873</td>\n",
       "      <td>0.819194</td>\n",
       "      <td>0.843325</td>\n",
       "      <td>-0.516490</td>\n",
       "      <td>0.331619</td>\n",
       "      <td>0.631175</td>\n",
       "      <td>0.670682</td>\n",
       "      <td>0.901049</td>\n",
       "      <td>0.967418</td>\n",
       "      <td>0.720822</td>\n",
       "      <td>...</td>\n",
       "      <td>-0.838745</td>\n",
       "      <td>0.088703</td>\n",
       "      <td>0.115498</td>\n",
       "      <td>0.165535</td>\n",
       "      <td>-0.051590</td>\n",
       "      <td>NaN</td>\n",
       "      <td>0.840312</td>\n",
       "      <td>-0.079052</td>\n",
       "      <td>0.000486</td>\n",
       "      <td>0.010165</td>\n",
       "    </tr>\n",
       "    <tr>\n",
       "      <th>CPU%c6</th>\n",
       "      <td>0.344543</td>\n",
       "      <td>0.190644</td>\n",
       "      <td>0.316256</td>\n",
       "      <td>-0.266207</td>\n",
       "      <td>0.902556</td>\n",
       "      <td>0.257211</td>\n",
       "      <td>0.197144</td>\n",
       "      <td>0.337692</td>\n",
       "      <td>0.411210</td>\n",
       "      <td>0.886821</td>\n",
       "      <td>...</td>\n",
       "      <td>-0.585401</td>\n",
       "      <td>0.424773</td>\n",
       "      <td>0.479609</td>\n",
       "      <td>0.026077</td>\n",
       "      <td>-0.056485</td>\n",
       "      <td>NaN</td>\n",
       "      <td>0.333377</td>\n",
       "      <td>-0.836240</td>\n",
       "      <td>0.025918</td>\n",
       "      <td>-0.028501</td>\n",
       "    </tr>\n",
       "    <tr>\n",
       "      <th>CPU%c7</th>\n",
       "      <td>-0.293323</td>\n",
       "      <td>-0.854500</td>\n",
       "      <td>-0.946757</td>\n",
       "      <td>0.633362</td>\n",
       "      <td>-0.555162</td>\n",
       "      <td>-0.628899</td>\n",
       "      <td>-0.858664</td>\n",
       "      <td>-0.895891</td>\n",
       "      <td>-0.884374</td>\n",
       "      <td>-0.841668</td>\n",
       "      <td>...</td>\n",
       "      <td>1.000000</td>\n",
       "      <td>-0.201196</td>\n",
       "      <td>-0.235959</td>\n",
       "      <td>-0.234938</td>\n",
       "      <td>0.037147</td>\n",
       "      <td>NaN</td>\n",
       "      <td>-0.953841</td>\n",
       "      <td>0.319951</td>\n",
       "      <td>0.071945</td>\n",
       "      <td>0.079824</td>\n",
       "    </tr>\n",
       "    <tr>\n",
       "      <th>CoreTmp</th>\n",
       "      <td>0.470129</td>\n",
       "      <td>-0.081253</td>\n",
       "      <td>0.082701</td>\n",
       "      <td>-0.127857</td>\n",
       "      <td>0.479205</td>\n",
       "      <td>0.015621</td>\n",
       "      <td>0.018379</td>\n",
       "      <td>0.066967</td>\n",
       "      <td>0.134988</td>\n",
       "      <td>0.340964</td>\n",
       "      <td>...</td>\n",
       "      <td>-0.201196</td>\n",
       "      <td>1.000000</td>\n",
       "      <td>0.986074</td>\n",
       "      <td>-0.388518</td>\n",
       "      <td>0.083657</td>\n",
       "      <td>NaN</td>\n",
       "      <td>0.079385</td>\n",
       "      <td>-0.458491</td>\n",
       "      <td>0.031520</td>\n",
       "      <td>-0.013636</td>\n",
       "    </tr>\n",
       "    <tr>\n",
       "      <th>PkgTmp</th>\n",
       "      <td>0.502612</td>\n",
       "      <td>-0.066351</td>\n",
       "      <td>0.101449</td>\n",
       "      <td>-0.151094</td>\n",
       "      <td>0.536046</td>\n",
       "      <td>0.049007</td>\n",
       "      <td>0.031918</td>\n",
       "      <td>0.088624</td>\n",
       "      <td>0.163151</td>\n",
       "      <td>0.395172</td>\n",
       "      <td>...</td>\n",
       "      <td>-0.235959</td>\n",
       "      <td>0.986074</td>\n",
       "      <td>1.000000</td>\n",
       "      <td>-0.341627</td>\n",
       "      <td>0.113207</td>\n",
       "      <td>NaN</td>\n",
       "      <td>0.098624</td>\n",
       "      <td>-0.514378</td>\n",
       "      <td>-0.000531</td>\n",
       "      <td>-0.049744</td>\n",
       "    </tr>\n",
       "    <tr>\n",
       "      <th>GFX%rc6</th>\n",
       "      <td>0.169322</td>\n",
       "      <td>0.214902</td>\n",
       "      <td>0.227728</td>\n",
       "      <td>-0.190811</td>\n",
       "      <td>0.100105</td>\n",
       "      <td>0.213706</td>\n",
       "      <td>0.306434</td>\n",
       "      <td>0.236198</td>\n",
       "      <td>0.172945</td>\n",
       "      <td>0.136172</td>\n",
       "      <td>...</td>\n",
       "      <td>-0.234938</td>\n",
       "      <td>-0.388518</td>\n",
       "      <td>-0.341627</td>\n",
       "      <td>1.000000</td>\n",
       "      <td>0.064360</td>\n",
       "      <td>NaN</td>\n",
       "      <td>0.229198</td>\n",
       "      <td>-0.101059</td>\n",
       "      <td>-0.680747</td>\n",
       "      <td>-0.672435</td>\n",
       "    </tr>\n",
       "    <tr>\n",
       "      <th>GFXMHz</th>\n",
       "      <td>0.247453</td>\n",
       "      <td>-0.068422</td>\n",
       "      <td>-0.025784</td>\n",
       "      <td>-0.069360</td>\n",
       "      <td>-0.027448</td>\n",
       "      <td>-0.032209</td>\n",
       "      <td>-0.027028</td>\n",
       "      <td>-0.025132</td>\n",
       "      <td>-0.042543</td>\n",
       "      <td>-0.073616</td>\n",
       "      <td>...</td>\n",
       "      <td>0.037147</td>\n",
       "      <td>0.083657</td>\n",
       "      <td>0.113207</td>\n",
       "      <td>0.064360</td>\n",
       "      <td>1.000000</td>\n",
       "      <td>NaN</td>\n",
       "      <td>-0.024421</td>\n",
       "      <td>0.024651</td>\n",
       "      <td>-0.225247</td>\n",
       "      <td>-0.233421</td>\n",
       "    </tr>\n",
       "    <tr>\n",
       "      <th>GFXAMHz</th>\n",
       "      <td>NaN</td>\n",
       "      <td>NaN</td>\n",
       "      <td>NaN</td>\n",
       "      <td>NaN</td>\n",
       "      <td>NaN</td>\n",
       "      <td>NaN</td>\n",
       "      <td>NaN</td>\n",
       "      <td>NaN</td>\n",
       "      <td>NaN</td>\n",
       "      <td>NaN</td>\n",
       "      <td>...</td>\n",
       "      <td>NaN</td>\n",
       "      <td>NaN</td>\n",
       "      <td>NaN</td>\n",
       "      <td>NaN</td>\n",
       "      <td>NaN</td>\n",
       "      <td>NaN</td>\n",
       "      <td>NaN</td>\n",
       "      <td>NaN</td>\n",
       "      <td>NaN</td>\n",
       "      <td>NaN</td>\n",
       "    </tr>\n",
       "    <tr>\n",
       "      <th>Totl%C0</th>\n",
       "      <td>0.195840</td>\n",
       "      <td>0.943248</td>\n",
       "      <td>0.998492</td>\n",
       "      <td>-0.645058</td>\n",
       "      <td>0.291727</td>\n",
       "      <td>0.651839</td>\n",
       "      <td>0.909934</td>\n",
       "      <td>0.921857</td>\n",
       "      <td>0.887375</td>\n",
       "      <td>0.671625</td>\n",
       "      <td>...</td>\n",
       "      <td>-0.953841</td>\n",
       "      <td>0.079385</td>\n",
       "      <td>0.098624</td>\n",
       "      <td>0.229198</td>\n",
       "      <td>-0.024421</td>\n",
       "      <td>NaN</td>\n",
       "      <td>1.000000</td>\n",
       "      <td>-0.035098</td>\n",
       "      <td>-0.057085</td>\n",
       "      <td>-0.046397</td>\n",
       "    </tr>\n",
       "    <tr>\n",
       "      <th>Any%C0</th>\n",
       "      <td>-0.380930</td>\n",
       "      <td>0.135033</td>\n",
       "      <td>-0.016913</td>\n",
       "      <td>0.102184</td>\n",
       "      <td>-0.943534</td>\n",
       "      <td>0.009984</td>\n",
       "      <td>-0.019958</td>\n",
       "      <td>-0.025989</td>\n",
       "      <td>-0.095814</td>\n",
       "      <td>-0.629711</td>\n",
       "      <td>...</td>\n",
       "      <td>0.319951</td>\n",
       "      <td>-0.458491</td>\n",
       "      <td>-0.514378</td>\n",
       "      <td>-0.101059</td>\n",
       "      <td>0.024651</td>\n",
       "      <td>NaN</td>\n",
       "      <td>-0.035098</td>\n",
       "      <td>1.000000</td>\n",
       "      <td>0.092347</td>\n",
       "      <td>0.153467</td>\n",
       "    </tr>\n",
       "    <tr>\n",
       "      <th>GFX%C0</th>\n",
       "      <td>-0.435948</td>\n",
       "      <td>-0.004125</td>\n",
       "      <td>-0.055614</td>\n",
       "      <td>0.240681</td>\n",
       "      <td>-0.093802</td>\n",
       "      <td>-0.095825</td>\n",
       "      <td>-0.170989</td>\n",
       "      <td>-0.047873</td>\n",
       "      <td>-0.005547</td>\n",
       "      <td>0.012703</td>\n",
       "      <td>...</td>\n",
       "      <td>0.071945</td>\n",
       "      <td>0.031520</td>\n",
       "      <td>-0.000531</td>\n",
       "      <td>-0.680747</td>\n",
       "      <td>-0.225247</td>\n",
       "      <td>NaN</td>\n",
       "      <td>-0.057085</td>\n",
       "      <td>0.092347</td>\n",
       "      <td>1.000000</td>\n",
       "      <td>0.992428</td>\n",
       "    </tr>\n",
       "    <tr>\n",
       "      <th>CPUGFX%</th>\n",
       "      <td>-0.472884</td>\n",
       "      <td>0.011713</td>\n",
       "      <td>-0.043858</td>\n",
       "      <td>0.251673</td>\n",
       "      <td>-0.147461</td>\n",
       "      <td>-0.098435</td>\n",
       "      <td>-0.154625</td>\n",
       "      <td>-0.041727</td>\n",
       "      <td>0.002550</td>\n",
       "      <td>-0.022963</td>\n",
       "      <td>...</td>\n",
       "      <td>0.079824</td>\n",
       "      <td>-0.013636</td>\n",
       "      <td>-0.049744</td>\n",
       "      <td>-0.672435</td>\n",
       "      <td>-0.233421</td>\n",
       "      <td>NaN</td>\n",
       "      <td>-0.046397</td>\n",
       "      <td>0.153467</td>\n",
       "      <td>0.992428</td>\n",
       "      <td>1.000000</td>\n",
       "    </tr>\n",
       "  </tbody>\n",
       "</table>\n",
       "<p>27 rows × 27 columns</p>\n",
       "</div>"
      ],
      "text/plain": [
       "              time_elapsed   Avg_MHz     Busy%       IPC       IRQ      POLL  \\\n",
       "time_elapsed      1.000000  0.068107  0.192450 -0.596731  0.456779  0.219338   \n",
       "Avg_MHz           0.068107  1.000000  0.949295 -0.639685  0.127118  0.664125   \n",
       "Busy%             0.192450  0.949295  1.000000 -0.649045  0.275152  0.656393   \n",
       "IPC              -0.596731 -0.639685 -0.649045  1.000000 -0.301365 -0.530760   \n",
       "IRQ               0.456779  0.127118  0.275152 -0.301365  1.000000  0.182587   \n",
       "POLL              0.219338  0.664125  0.656393 -0.530760  0.182587  1.000000   \n",
       "C1%               0.193786  0.843616  0.909427 -0.634232  0.230824  0.570681   \n",
       "C1E%              0.214358  0.896732  0.923712 -0.563347  0.279776  0.681866   \n",
       "C3%               0.209081  0.863040  0.891452 -0.531579  0.359766  0.649342   \n",
       "C6%               0.334349  0.562058  0.663989 -0.442463  0.795369  0.509147   \n",
       "C7s%              0.021084  0.297209  0.279340 -0.222202  0.070062  0.449100   \n",
       "C8%               0.334464  0.313326  0.471300 -0.336851  0.879418  0.346791   \n",
       "C9%               0.379137 -0.085636  0.066012 -0.137674  0.915503 -0.002995   \n",
       "C10%             -0.399859 -0.296402 -0.455515  0.363605 -0.942666 -0.289056   \n",
       "CPU%c1            0.317237  0.811367  0.916425 -0.617030  0.604021  0.597984   \n",
       "CPU%c3            0.197873  0.819194  0.843325 -0.516490  0.331619  0.631175   \n",
       "CPU%c6            0.344543  0.190644  0.316256 -0.266207  0.902556  0.257211   \n",
       "CPU%c7           -0.293323 -0.854500 -0.946757  0.633362 -0.555162 -0.628899   \n",
       "CoreTmp           0.470129 -0.081253  0.082701 -0.127857  0.479205  0.015621   \n",
       "PkgTmp            0.502612 -0.066351  0.101449 -0.151094  0.536046  0.049007   \n",
       "GFX%rc6           0.169322  0.214902  0.227728 -0.190811  0.100105  0.213706   \n",
       "GFXMHz            0.247453 -0.068422 -0.025784 -0.069360 -0.027448 -0.032209   \n",
       "GFXAMHz                NaN       NaN       NaN       NaN       NaN       NaN   \n",
       "Totl%C0           0.195840  0.943248  0.998492 -0.645058  0.291727  0.651839   \n",
       "Any%C0           -0.380930  0.135033 -0.016913  0.102184 -0.943534  0.009984   \n",
       "GFX%C0           -0.435948 -0.004125 -0.055614  0.240681 -0.093802 -0.095825   \n",
       "CPUGFX%          -0.472884  0.011713 -0.043858  0.251673 -0.147461 -0.098435   \n",
       "\n",
       "                   C1%      C1E%       C3%       C6%  ...    CPU%c7   CoreTmp  \\\n",
       "time_elapsed  0.193786  0.214358  0.209081  0.334349  ... -0.293323  0.470129   \n",
       "Avg_MHz       0.843616  0.896732  0.863040  0.562058  ... -0.854500 -0.081253   \n",
       "Busy%         0.909427  0.923712  0.891452  0.663989  ... -0.946757  0.082701   \n",
       "IPC          -0.634232 -0.563347 -0.531579 -0.442463  ...  0.633362 -0.127857   \n",
       "IRQ           0.230824  0.279776  0.359766  0.795369  ... -0.555162  0.479205   \n",
       "POLL          0.570681  0.681866  0.649342  0.509147  ... -0.628899  0.015621   \n",
       "C1%           1.000000  0.790677  0.717365  0.509290  ... -0.858664  0.018379   \n",
       "C1E%          0.790677  1.000000  0.933318  0.687771  ... -0.895891  0.066967   \n",
       "C3%           0.717365  0.933318  1.000000  0.752257  ... -0.884374  0.134988   \n",
       "C6%           0.509290  0.687771  0.752257  1.000000  ... -0.841668  0.340964   \n",
       "C7s%          0.182891  0.305797  0.317717  0.239579  ... -0.264949 -0.024045   \n",
       "C8%           0.420253  0.478604  0.521689  0.834892  ... -0.691231  0.437115   \n",
       "C9%           0.057653  0.056682  0.133392  0.621930  ... -0.345720  0.538260   \n",
       "C10%         -0.407429 -0.439048 -0.494633 -0.850805  ...  0.693484 -0.500906   \n",
       "CPU%c1        0.861864  0.870589  0.848913  0.830733  ... -0.991468  0.204868   \n",
       "CPU%c3        0.670682  0.901049  0.967418  0.720822  ... -0.838745  0.088703   \n",
       "CPU%c6        0.197144  0.337692  0.411210  0.886821  ... -0.585401  0.424773   \n",
       "CPU%c7       -0.858664 -0.895891 -0.884374 -0.841668  ...  1.000000 -0.201196   \n",
       "CoreTmp       0.018379  0.066967  0.134988  0.340964  ... -0.201196  1.000000   \n",
       "PkgTmp        0.031918  0.088624  0.163151  0.395172  ... -0.235959  0.986074   \n",
       "GFX%rc6       0.306434  0.236198  0.172945  0.136172  ... -0.234938 -0.388518   \n",
       "GFXMHz       -0.027028 -0.025132 -0.042543 -0.073616  ...  0.037147  0.083657   \n",
       "GFXAMHz            NaN       NaN       NaN       NaN  ...       NaN       NaN   \n",
       "Totl%C0       0.909934  0.921857  0.887375  0.671625  ... -0.953841  0.079385   \n",
       "Any%C0       -0.019958 -0.025989 -0.095814 -0.629711  ...  0.319951 -0.458491   \n",
       "GFX%C0       -0.170989 -0.047873 -0.005547  0.012703  ...  0.071945  0.031520   \n",
       "CPUGFX%      -0.154625 -0.041727  0.002550 -0.022963  ...  0.079824 -0.013636   \n",
       "\n",
       "                PkgTmp   GFX%rc6    GFXMHz  GFXAMHz   Totl%C0    Any%C0  \\\n",
       "time_elapsed  0.502612  0.169322  0.247453      NaN  0.195840 -0.380930   \n",
       "Avg_MHz      -0.066351  0.214902 -0.068422      NaN  0.943248  0.135033   \n",
       "Busy%         0.101449  0.227728 -0.025784      NaN  0.998492 -0.016913   \n",
       "IPC          -0.151094 -0.190811 -0.069360      NaN -0.645058  0.102184   \n",
       "IRQ           0.536046  0.100105 -0.027448      NaN  0.291727 -0.943534   \n",
       "POLL          0.049007  0.213706 -0.032209      NaN  0.651839  0.009984   \n",
       "C1%           0.031918  0.306434 -0.027028      NaN  0.909934 -0.019958   \n",
       "C1E%          0.088624  0.236198 -0.025132      NaN  0.921857 -0.025989   \n",
       "C3%           0.163151  0.172945 -0.042543      NaN  0.887375 -0.095814   \n",
       "C6%           0.395172  0.136172 -0.073616      NaN  0.671625 -0.629711   \n",
       "C7s%         -0.011224  0.139709 -0.050443      NaN  0.276290  0.015901   \n",
       "C8%           0.483482  0.079124 -0.097888      NaN  0.482676 -0.779695   \n",
       "C9%           0.579247 -0.049126 -0.032415      NaN  0.081723 -0.943872   \n",
       "C10%         -0.548044 -0.059041  0.061492      NaN -0.468745  0.859896   \n",
       "CPU%c1        0.241437  0.265705 -0.031212      NaN  0.927354 -0.383790   \n",
       "CPU%c3        0.115498  0.165535 -0.051590      NaN  0.840312 -0.079052   \n",
       "CPU%c6        0.479609  0.026077 -0.056485      NaN  0.333377 -0.836240   \n",
       "CPU%c7       -0.235959 -0.234938  0.037147      NaN -0.953841  0.319951   \n",
       "CoreTmp       0.986074 -0.388518  0.083657      NaN  0.079385 -0.458491   \n",
       "PkgTmp        1.000000 -0.341627  0.113207      NaN  0.098624 -0.514378   \n",
       "GFX%rc6      -0.341627  1.000000  0.064360      NaN  0.229198 -0.101059   \n",
       "GFXMHz        0.113207  0.064360  1.000000      NaN -0.024421  0.024651   \n",
       "GFXAMHz            NaN       NaN       NaN      NaN       NaN       NaN   \n",
       "Totl%C0       0.098624  0.229198 -0.024421      NaN  1.000000 -0.035098   \n",
       "Any%C0       -0.514378 -0.101059  0.024651      NaN -0.035098  1.000000   \n",
       "GFX%C0       -0.000531 -0.680747 -0.225247      NaN -0.057085  0.092347   \n",
       "CPUGFX%      -0.049744 -0.672435 -0.233421      NaN -0.046397  0.153467   \n",
       "\n",
       "                GFX%C0   CPUGFX%  \n",
       "time_elapsed -0.435948 -0.472884  \n",
       "Avg_MHz      -0.004125  0.011713  \n",
       "Busy%        -0.055614 -0.043858  \n",
       "IPC           0.240681  0.251673  \n",
       "IRQ          -0.093802 -0.147461  \n",
       "POLL         -0.095825 -0.098435  \n",
       "C1%          -0.170989 -0.154625  \n",
       "C1E%         -0.047873 -0.041727  \n",
       "C3%          -0.005547  0.002550  \n",
       "C6%           0.012703 -0.022963  \n",
       "C7s%         -0.042598 -0.041842  \n",
       "C8%           0.020914 -0.018328  \n",
       "C9%          -0.032035 -0.090685  \n",
       "C10%          0.027388  0.074652  \n",
       "CPU%c1       -0.108474 -0.119021  \n",
       "CPU%c3        0.000486  0.010165  \n",
       "CPU%c6        0.025918 -0.028501  \n",
       "CPU%c7        0.071945  0.079824  \n",
       "CoreTmp       0.031520 -0.013636  \n",
       "PkgTmp       -0.000531 -0.049744  \n",
       "GFX%rc6      -0.680747 -0.672435  \n",
       "GFXMHz       -0.225247 -0.233421  \n",
       "GFXAMHz            NaN       NaN  \n",
       "Totl%C0      -0.057085 -0.046397  \n",
       "Any%C0        0.092347  0.153467  \n",
       "GFX%C0        1.000000  0.992428  \n",
       "CPUGFX%       0.992428  1.000000  \n",
       "\n",
       "[27 rows x 27 columns]"
      ]
     },
     "execution_count": 93,
     "metadata": {},
     "output_type": "execute_result"
    }
   ],
   "source": [
    "df[['time_elapsed','Avg_MHz', 'Busy%', 'IPC', 'IRQ', 'POLL', 'C1%','C1E%','C3%','C6%','C7s%','C8%','C9%','C10%','CPU%c1','CPU%c3','CPU%c6','CPU%c7','CoreTmp','PkgTmp','GFX%rc6','GFXMHz','GFXAMHz','Totl%C0','Any%C0','GFX%C0','CPUGFX%']].corr()"
   ]
  },
  {
   "cell_type": "code",
   "execution_count": 95,
   "metadata": {},
   "outputs": [
    {
     "data": {
      "application/vnd.plotly.v1+json": {
       "config": {
        "plotlyServerURL": "https://plot.ly"
       },
       "data": [
        {
         "dimensions": [
          {
           "label": "time_elapsed",
           "values": [
            19.012345,
            19.068004,
            19.48595,
            19.485471,
            19.006089,
            19.268487,
            19.271215,
            19.474061,
            19.79699,
            19.25266,
            18.45464,
            18.380234,
            18.344352,
            18.547231,
            18.600965,
            18.796496,
            18.774649,
            18.733993,
            18.663682,
            18.66999,
            18.649621,
            18.665314,
            18.606044,
            18.718517,
            18.707071,
            19.11845,
            18.809439,
            18.816295,
            18.996665,
            19.192968,
            18.514033,
            18.728872,
            18.711322,
            18.60818,
            18.712145,
            18.905862,
            18.936769,
            18.821412,
            18.906184,
            18.811494,
            18.395804,
            18.363616,
            18.423788,
            18.514807,
            18.471405,
            18.755247,
            18.725226,
            18.54685,
            18.778535,
            18.687344,
            18.229085,
            18.21793,
            18.185922,
            18.346837,
            18.74941,
            18.302186,
            18.64373,
            18.799245,
            18.962127,
            18.661617,
            18.535857,
            18.670766,
            18.720573,
            18.650063,
            18.777439,
            19.150556,
            19.153943,
            19.116595,
            19.00819,
            18.914761,
            18.922215,
            18.9776,
            19.019648,
            19.012149,
            19.031726,
            19.524324,
            19.767512,
            19.200118,
            19.777524,
            19.652129,
            18.895485,
            18.969705,
            19.189305,
            19.079588,
            19.061486,
            20.189262,
            20.290944,
            19.049993,
            19.125067,
            19.697991,
            19.382183,
            19.402305,
            19.529972,
            19.79632,
            19.472186,
            19.610724,
            19.73897,
            20.079884,
            20.065399,
            20.163658,
            19.198182,
            19.261238,
            19.531092,
            19.195272,
            19.40385,
            19.589156,
            20.036617,
            19.994316,
            20.031973,
            19.690765,
            19.393586,
            19.461703,
            19.533421,
            20.048278,
            19.826333,
            19.674986,
            19.769541,
            20.0185,
            19.618648,
            20.817297,
            19.594491,
            19.611646,
            19.45969,
            19.801702,
            19.731188,
            20.012951,
            20.194771,
            19.926438,
            20.195806,
            20.441522,
            19.228001,
            19.285689,
            19.812221,
            19.745607,
            19.578513,
            20.287041,
            19.587371,
            20.397967,
            19.797566,
            20.948406
           ]
          },
          {
           "label": "Avg_MHz",
           "values": [
            471,
            467,
            465,
            460,
            466,
            464,
            464,
            463,
            465,
            463,
            465,
            468,
            465,
            464,
            464,
            457,
            459,
            459,
            462,
            461,
            467,
            467,
            465,
            464,
            462,
            456,
            462,
            461,
            455,
            453,
            464,
            461,
            461,
            464,
            462,
            462,
            455,
            460,
            457,
            458,
            465,
            463,
            463,
            461,
            461,
            456,
            456,
            459,
            457,
            458,
            463,
            462,
            462,
            461,
            450,
            462,
            452,
            452,
            447,
            454,
            465,
            463,
            463,
            463,
            464,
            451,
            453,
            455,
            455,
            456,
            469,
            466,
            466,
            464,
            465,
            456,
            453,
            461,
            452,
            452,
            466,
            464,
            457,
            460,
            461,
            541,
            675,
            458,
            459,
            446,
            476,
            466,
            465,
            459,
            464,
            462,
            460,
            451,
            453,
            449,
            469,
            467,
            461,
            468,
            466,
            461,
            454,
            454,
            451,
            461,
            468,
            465,
            463,
            456,
            458,
            462,
            457,
            453,
            461,
            437,
            468,
            466,
            468,
            464,
            467,
            460,
            456,
            462,
            455,
            449,
            468,
            469,
            460,
            460,
            463,
            464,
            463,
            455,
            458,
            432
           ]
          },
          {
           "label": "Busy%",
           "values": [
            12.8,
            12.7,
            12.72,
            12.69,
            12.74,
            12.69,
            12.72,
            12.69,
            12.73,
            12.71,
            12.78,
            12.77,
            12.72,
            12.73,
            12.77,
            12.69,
            12.7,
            12.71,
            12.76,
            12.73,
            12.79,
            12.79,
            12.74,
            12.73,
            12.72,
            12.75,
            12.73,
            12.74,
            12.68,
            12.71,
            12.75,
            12.74,
            12.71,
            12.74,
            12.74,
            12.8,
            12.68,
            12.71,
            12.72,
            12.75,
            12.78,
            12.73,
            12.69,
            12.71,
            12.73,
            12.71,
            12.67,
            12.73,
            12.76,
            12.74,
            12.76,
            12.75,
            12.72,
            12.75,
            12.69,
            12.75,
            12.68,
            12.75,
            12.7,
            12.7,
            12.75,
            12.68,
            12.66,
            12.72,
            12.78,
            12.67,
            12.68,
            12.72,
            12.72,
            12.69,
            12.78,
            12.68,
            12.73,
            12.72,
            12.72,
            12.71,
            12.73,
            12.72,
            12.69,
            12.68,
            12.77,
            12.74,
            12.68,
            12.7,
            12.72,
            16.22,
            19.23,
            12.7,
            12.78,
            12.72,
            13.06,
            12.75,
            12.77,
            12.7,
            12.72,
            12.74,
            12.73,
            12.67,
            12.71,
            12.72,
            12.76,
            12.74,
            12.69,
            12.73,
            12.77,
            12.75,
            12.73,
            12.75,
            12.7,
            12.72,
            12.71,
            12.68,
            12.66,
            12.76,
            12.67,
            12.76,
            12.68,
            12.68,
            12.72,
            12.78,
            12.7,
            12.66,
            12.72,
            12.68,
            12.71,
            12.71,
            12.67,
            12.73,
            12.67,
            12.7,
            12.76,
            12.74,
            12.67,
            12.69,
            12.69,
            12.71,
            12.72,
            12.73,
            12.69,
            12.72
           ]
          },
          {
           "label": "IPC",
           "values": [
            2.45,
            2.46,
            2.42,
            2.45,
            2.48,
            2.46,
            2.46,
            2.44,
            2.38,
            2.46,
            2.55,
            2.54,
            2.56,
            2.54,
            2.54,
            2.55,
            2.54,
            2.54,
            2.54,
            2.54,
            2.51,
            2.51,
            2.53,
            2.52,
            2.53,
            2.51,
            2.52,
            2.53,
            2.53,
            2.51,
            2.54,
            2.53,
            2.54,
            2.54,
            2.53,
            2.51,
            2.54,
            2.53,
            2.53,
            2.54,
            2.56,
            2.57,
            2.57,
            2.56,
            2.57,
            2.56,
            2.56,
            2.57,
            2.55,
            2.55,
            2.61,
            2.62,
            2.62,
            2.6,
            2.61,
            2.6,
            2.61,
            2.59,
            2.6,
            2.6,
            2.6,
            2.59,
            2.58,
            2.59,
            2.58,
            2.59,
            2.58,
            2.58,
            2.59,
            2.6,
            2.53,
            2.53,
            2.53,
            2.54,
            2.54,
            2.52,
            2.51,
            2.53,
            2.51,
            2.52,
            2.55,
            2.54,
            2.55,
            2.56,
            2.55,
            2.24,
            2.19,
            2.57,
            2.56,
            2.56,
            2.5,
            2.53,
            2.52,
            2.52,
            2.53,
            2.53,
            2.52,
            2.53,
            2.52,
            2.53,
            2.52,
            2.52,
            2.52,
            2.53,
            2.52,
            2.52,
            2.5,
            2.51,
            2.51,
            2.5,
            2.5,
            2.51,
            2.51,
            2.49,
            2.51,
            2.5,
            2.51,
            2.51,
            2.51,
            2.5,
            2.49,
            2.49,
            2.5,
            2.48,
            2.47,
            2.48,
            2.48,
            2.48,
            2.48,
            2.49,
            2.53,
            2.52,
            2.5,
            2.51,
            2.51,
            2.42,
            2.51,
            2.46,
            2.52,
            2.52
           ]
          },
          {
           "label": "IRQ",
           "values": [
            11317,
            10934,
            26731,
            32799,
            12974,
            33469,
            25197,
            21310,
            22950,
            28294,
            10411,
            10332,
            9966,
            19630,
            20938,
            33858,
            20624,
            21235,
            25065,
            22611,
            10593,
            10553,
            12638,
            21382,
            21212,
            33283,
            24382,
            24344,
            18051,
            32270,
            10325,
            25136,
            20282,
            18689,
            22664,
            27288,
            29586,
            23027,
            21940,
            21559,
            9918,
            9984,
            9868,
            20440,
            19809,
            29747,
            20360,
            24234,
            20460,
            20967,
            10375,
            10219,
            18595,
            19165,
            31006,
            32966,
            21794,
            21696,
            35136,
            21629,
            10092,
            16584,
            14158,
            20627,
            25102,
            31310,
            31827,
            32109,
            20317,
            15452,
            10958,
            10159,
            19786,
            21665,
            28394,
            33227,
            38150,
            23423,
            36082,
            35991,
            10540,
            16714,
            30082,
            21577,
            22765,
            37458,
            48877,
            20965,
            20533,
            33121,
            12699,
            16634,
            30448,
            34438,
            22659,
            21188,
            21943,
            36773,
            37595,
            20660,
            10806,
            12303,
            30406,
            18990,
            22195,
            23156,
            36792,
            37842,
            39546,
            22340,
            11167,
            21524,
            18965,
            37593,
            22309,
            20608,
            21905,
            35988,
            21123,
            17736,
            10856,
            10277,
            10668,
            33066,
            20410,
            21919,
            35331,
            21494,
            34707,
            16364,
            10911,
            13877,
            34973,
            35472,
            21130,
            21974,
            22227,
            37536,
            21685,
            15165
           ]
          },
          {
           "label": "POLL",
           "values": [
            141,
            18,
            12,
            11,
            10,
            28,
            43,
            12,
            960,
            22,
            49,
            36,
            12,
            8,
            54,
            41,
            10,
            13,
            61,
            14,
            20,
            35,
            43,
            6,
            14,
            22,
            22,
            42,
            48,
            15,
            45,
            14,
            6,
            67,
            16,
            169,
            55,
            16,
            12,
            25,
            32,
            17,
            12,
            20,
            13,
            14,
            16,
            15,
            33,
            13,
            30,
            21,
            23,
            11,
            18,
            26,
            20,
            36,
            17,
            21,
            14,
            13,
            27,
            15,
            33,
            11,
            41,
            54,
            22,
            13,
            38,
            10,
            22,
            28,
            33,
            35,
            31,
            24,
            8,
            37,
            28,
            42,
            13,
            20,
            16,
            254,
            1464,
            5,
            50,
            15,
            1098,
            34,
            41,
            9,
            42,
            30,
            15,
            26,
            12,
            22,
            29,
            43,
            18,
            38,
            56,
            184,
            23,
            37,
            15,
            22,
            33,
            18,
            14,
            687,
            26,
            38,
            13,
            42,
            12,
            46,
            39,
            37,
            31,
            55,
            12,
            25,
            25,
            20,
            45,
            39,
            17,
            43,
            39,
            26,
            29,
            26,
            26,
            39,
            40,
            48
           ]
          },
          {
           "label": "C1%",
           "values": [
            0.14,
            0.03,
            0.06,
            0.05,
            0.05,
            0.04,
            0.07,
            0.04,
            0.07,
            0.02,
            0.14,
            0.12,
            0.05,
            0.06,
            0.06,
            0.04,
            0.04,
            0.07,
            0.04,
            0.04,
            0.07,
            0.05,
            0.08,
            0.04,
            0.04,
            0.14,
            0.03,
            0.03,
            0.03,
            0.13,
            0.08,
            0.14,
            0.03,
            0.08,
            0.05,
            0.05,
            0.04,
            0.04,
            0.03,
            0.14,
            0.08,
            0.1,
            0.05,
            0.05,
            0.02,
            0.07,
            0.07,
            0.11,
            0.12,
            0.14,
            0.1,
            0.05,
            0.11,
            0.04,
            0.02,
            0.03,
            0.02,
            0.03,
            0.05,
            0.03,
            0.11,
            0.02,
            0.04,
            0.02,
            0.05,
            0.03,
            0.04,
            0.08,
            0.02,
            0.04,
            0.08,
            0.04,
            0.06,
            0.08,
            0.03,
            0.05,
            0.03,
            0.07,
            0.15,
            0.11,
            0.06,
            0.05,
            0.02,
            0.05,
            0.06,
            0.81,
            0.88,
            0.09,
            0.05,
            0.03,
            0.19,
            0.12,
            0.13,
            0.15,
            0.09,
            0.15,
            0.09,
            0.15,
            0.09,
            0.03,
            0.09,
            0.1,
            0.08,
            0.12,
            0.04,
            0.03,
            0.05,
            0.04,
            0.03,
            0.12,
            0.08,
            0.03,
            0.03,
            0.06,
            0.03,
            0.06,
            0.02,
            0.04,
            0.09,
            0.08,
            0.08,
            0.05,
            0.06,
            0.02,
            0.06,
            0.07,
            0.08,
            0.02,
            0.03,
            0.04,
            0.12,
            0.07,
            0.06,
            0.06,
            0.03,
            0.04,
            0.08,
            0.07,
            0.06,
            0.04
           ]
          },
          {
           "label": "C1E%",
           "values": [
            0.04,
            0.03,
            0.03,
            0.04,
            0.03,
            0.01,
            0.01,
            0.04,
            0.03,
            0.06,
            0.03,
            0.02,
            0.04,
            0.03,
            0.08,
            0.03,
            0.02,
            0.04,
            0.07,
            0.02,
            0.03,
            0.04,
            0.05,
            0.02,
            0.04,
            0.05,
            0.04,
            0.03,
            0.04,
            0.02,
            0.03,
            0.06,
            0.03,
            0.06,
            0.02,
            0.05,
            0.01,
            0.04,
            0.04,
            0.04,
            0.05,
            0.02,
            0.03,
            0.02,
            0.02,
            0.03,
            0.02,
            0.01,
            0.06,
            0.03,
            0.06,
            0.03,
            0.03,
            0.04,
            0.04,
            0.06,
            0.02,
            0.05,
            0.04,
            0.03,
            0.03,
            0.04,
            0.04,
            0.03,
            0.08,
            0.03,
            0.02,
            0.06,
            0.05,
            0.02,
            0.15,
            0.01,
            0.04,
            0.04,
            0.03,
            0.05,
            0.06,
            0.06,
            0.05,
            0.03,
            0.04,
            0.02,
            0.01,
            0.03,
            0.04,
            0.21,
            0.72,
            0.04,
            0.09,
            0.04,
            0.09,
            0.06,
            0.07,
            0.09,
            0.06,
            0.03,
            0.03,
            0.04,
            0.02,
            0.03,
            0.05,
            0.02,
            0.03,
            0.02,
            0.07,
            0.07,
            0.05,
            0.07,
            0.05,
            0.04,
            0.03,
            0.02,
            0.03,
            0.07,
            0.04,
            0.08,
            0.04,
            0.03,
            0.06,
            0.04,
            0.02,
            0.02,
            0.03,
            0.02,
            0.05,
            0.02,
            0.02,
            0.05,
            0.05,
            0.05,
            0.07,
            0.02,
            0.02,
            0.02,
            0.03,
            0.03,
            0.03,
            0.05,
            0.08,
            0.06
           ]
          },
          {
           "label": "C3%",
           "values": [
            0.01,
            0.01,
            0.01,
            0.04,
            0.01,
            0.01,
            0.01,
            0.01,
            0.03,
            0.02,
            0.02,
            0.01,
            0.01,
            0.03,
            0.05,
            0.01,
            0.01,
            0.01,
            0.04,
            0.03,
            0.02,
            0.04,
            0.02,
            0.01,
            0.01,
            0.02,
            0.04,
            0.01,
            0.01,
            0.01,
            0.02,
            0.01,
            0.03,
            0.03,
            0.02,
            0.05,
            0.01,
            0.01,
            0.04,
            0.04,
            0.02,
            0.02,
            0.01,
            0.01,
            0.01,
            0.02,
            0.02,
            0.04,
            0.04,
            0.01,
            0.01,
            0.02,
            0.02,
            0.02,
            0.02,
            0.07,
            0.01,
            0.05,
            0.02,
            0.01,
            0.01,
            0.01,
            0.01,
            0.04,
            0.04,
            0.01,
            0.01,
            0.01,
            0.04,
            0.02,
            0.01,
            0.01,
            0.02,
            0.01,
            0.02,
            0.05,
            0.06,
            0.02,
            0.05,
            0.01,
            0.01,
            0.02,
            0.02,
            0.01,
            0.02,
            0.09,
            0.54,
            0.01,
            0.03,
            0.01,
            0.02,
            0.02,
            0.05,
            0.05,
            0.01,
            0.02,
            0.02,
            0.02,
            0.02,
            0.03,
            0.01,
            0.02,
            0.02,
            0.01,
            0.04,
            0.03,
            0.04,
            0.07,
            0.05,
            0.02,
            0.01,
            0.01,
            0.01,
            0.02,
            0.03,
            0.05,
            0.01,
            0.02,
            0.02,
            0.02,
            0.01,
            0.01,
            0.01,
            0.05,
            0.01,
            0.01,
            0.01,
            0.02,
            0.01,
            0.03,
            0.02,
            0.02,
            0.01,
            0.02,
            0.01,
            0.01,
            0.02,
            0.05,
            0.03,
            0.04
           ]
          },
          {
           "label": "C6%",
           "values": [
            0.15,
            0.17,
            0.35,
            0.41,
            0.15,
            0.47,
            0.39,
            0.35,
            0.29,
            0.34,
            0.21,
            0.16,
            0.14,
            0.29,
            0.31,
            0.41,
            0.27,
            0.32,
            0.55,
            0.39,
            0.15,
            0.21,
            0.18,
            0.35,
            0.33,
            0.5,
            0.32,
            0.32,
            0.25,
            0.59,
            0.1,
            0.35,
            0.27,
            0.25,
            0.28,
            0.56,
            0.54,
            0.43,
            0.32,
            0.26,
            0.12,
            0.14,
            0.11,
            0.36,
            0.35,
            0.5,
            0.28,
            0.36,
            0.33,
            0.3,
            0.12,
            0.12,
            0.32,
            0.32,
            0.39,
            0.44,
            0.23,
            0.41,
            0.64,
            0.38,
            0.08,
            0.2,
            0.15,
            0.27,
            0.39,
            0.44,
            0.53,
            0.61,
            0.35,
            0.22,
            0.14,
            0.14,
            0.34,
            0.27,
            0.57,
            0.57,
            0.64,
            0.36,
            0.43,
            0.4,
            0.13,
            0.2,
            0.49,
            0.27,
            0.27,
            0.58,
            2.03,
            0.24,
            0.34,
            0.59,
            0.24,
            0.18,
            0.46,
            0.37,
            0.26,
            0.29,
            0.28,
            0.46,
            0.54,
            0.3,
            0.13,
            0.13,
            0.39,
            0.18,
            0.42,
            0.38,
            0.58,
            0.64,
            0.46,
            0.3,
            0.1,
            0.29,
            0.23,
            0.68,
            0.35,
            0.34,
            0.24,
            0.41,
            0.3,
            0.25,
            0.11,
            0.15,
            0.14,
            0.35,
            0.22,
            0.23,
            0.63,
            0.3,
            0.43,
            0.29,
            0.11,
            0.17,
            0.5,
            0.58,
            0.38,
            0.35,
            0.31,
            0.46,
            0.28,
            0.21
           ]
          },
          {
           "label": "C7s%",
           "values": [
            0,
            0,
            0,
            0,
            0,
            0,
            0,
            0,
            0.01,
            0,
            0,
            0,
            0,
            0,
            0,
            0,
            0,
            0,
            0,
            0,
            0,
            0.01,
            0,
            0,
            0,
            0,
            0.01,
            0,
            0,
            0,
            0,
            0,
            0,
            0.01,
            0,
            0,
            0,
            0,
            0,
            0,
            0.01,
            0,
            0,
            0,
            0,
            0,
            0,
            0,
            0,
            0,
            0,
            0,
            0,
            0,
            0,
            0,
            0,
            0,
            0,
            0,
            0,
            0,
            0,
            0,
            0,
            0.01,
            0,
            0,
            0,
            0,
            0,
            0,
            0,
            0,
            0,
            0,
            0,
            0,
            0,
            0,
            0,
            0,
            0,
            0,
            0,
            0,
            0.01,
            0,
            0,
            0,
            0,
            0,
            0,
            0,
            0,
            0,
            0,
            0,
            0,
            0,
            0,
            0,
            0,
            0,
            0,
            0,
            0,
            0,
            0,
            0,
            0,
            0,
            0,
            0.01,
            0,
            0,
            0,
            0,
            0,
            0,
            0,
            0,
            0,
            0,
            0,
            0,
            0,
            0,
            0,
            0,
            0,
            0,
            0,
            0,
            0.01,
            0,
            0,
            0,
            0,
            0
           ]
          },
          {
           "label": "C8%",
           "values": [
            5.17,
            4.59,
            5.48,
            6.66,
            3.77,
            6.24,
            5.22,
            4.96,
            5.05,
            6,
            4.15,
            4.31,
            4.37,
            5.73,
            6.44,
            7.49,
            6.15,
            5.7,
            6.61,
            5.86,
            4.29,
            4.35,
            4.35,
            5.48,
            5.18,
            7.11,
            6.27,
            6.3,
            5.41,
            7.03,
            4.05,
            5.88,
            5.26,
            5.41,
            5.63,
            7.42,
            6.06,
            6.16,
            5.64,
            5.61,
            3.45,
            4.04,
            4.15,
            4.91,
            5.42,
            6.68,
            5.53,
            6.08,
            6.13,
            5.79,
            4.58,
            4.35,
            5.22,
            5.57,
            6.59,
            7.16,
            5.57,
            6.22,
            7.21,
            5.43,
            3.23,
            5.37,
            4.56,
            5.61,
            6.49,
            6.01,
            6.61,
            7.17,
            5.56,
            5.01,
            4.87,
            3.84,
            5.54,
            5.74,
            5.99,
            7.25,
            7.4,
            5.65,
            6.7,
            6.65,
            4.39,
            5.53,
            6.06,
            5.52,
            5.06,
            9.31,
            10.93,
            5.19,
            5.06,
            7.31,
            5.92,
            4.75,
            6.4,
            6.75,
            5.45,
            5.69,
            5.81,
            6.03,
            7.12,
            4.27,
            4.36,
            4.38,
            6.04,
            5.37,
            6.07,
            6.39,
            7.28,
            7.37,
            7.23,
            5.52,
            4.64,
            4.74,
            4.15,
            7.74,
            5.69,
            5.93,
            4.94,
            6.35,
            4.83,
            5.42,
            3.91,
            3.42,
            4.29,
            6.52,
            4.54,
            6.08,
            7.11,
            5.99,
            6.1,
            5,
            4.41,
            4.23,
            6.83,
            6.5,
            4.77,
            4.62,
            5.41,
            7.15,
            6.16,
            5.28
           ]
          },
          {
           "label": "C9%",
           "values": [
            0.07,
            0.03,
            4.11,
            6.34,
            0.57,
            5.23,
            4.46,
            3.52,
            2.92,
            5.28,
            0.09,
            0.04,
            0.04,
            1.43,
            2.52,
            5.84,
            2.66,
            3.46,
            3.68,
            3.23,
            0.08,
            0.03,
            0.86,
            2.3,
            2.34,
            5.97,
            4.32,
            4.65,
            2.56,
            5.83,
            0.1,
            3.85,
            2.62,
            2.24,
            2.96,
            4.94,
            6.51,
            3.52,
            3.76,
            4.58,
            0.08,
            0.12,
            0.11,
            3.13,
            3.66,
            6.22,
            3.05,
            4.84,
            3.68,
            3.87,
            0.07,
            0.07,
            1.5,
            2.04,
            6.23,
            4.11,
            5.12,
            4.54,
            5.63,
            4.16,
            0.04,
            1.64,
            1.63,
            3.17,
            3.65,
            6.61,
            6.1,
            6.52,
            3.74,
            1.45,
            0.1,
            0.07,
            2.16,
            2.48,
            3.86,
            6.06,
            5.52,
            4.3,
            5.85,
            6.09,
            0.16,
            1.67,
            6.21,
            3.76,
            3.91,
            6.47,
            4.26,
            4.31,
            3.76,
            5.68,
            0.13,
            1.72,
            5.83,
            6.16,
            3.81,
            3.28,
            4.12,
            5.89,
            5.85,
            2.76,
            0.09,
            0.73,
            4.75,
            3.39,
            3.89,
            4.54,
            6.21,
            5.56,
            5.38,
            4.37,
            0.09,
            1.82,
            2.52,
            5.99,
            4.16,
            3.54,
            3.98,
            5.74,
            3.2,
            2.11,
            0.05,
            0.04,
            0.07,
            7.47,
            2.32,
            4.83,
            6.56,
            3.46,
            5.94,
            1.23,
            0.11,
            1.03,
            6.25,
            6.63,
            3.17,
            3.18,
            4.67,
            6.46,
            3.2,
            0.89
           ]
          },
          {
           "label": "C10%",
           "values": [
            81.54,
            82.37,
            77.12,
            73.62,
            82.61,
            75.16,
            77,
            78.28,
            78.78,
            75.44,
            82.53,
            82.5,
            82.55,
            79.61,
            77.67,
            73.32,
            78.04,
            77.58,
            76.14,
            77.6,
            82.5,
            82.41,
            81.64,
            78.97,
            79.23,
            73.31,
            76.12,
            75.8,
            78.92,
            73.52,
            82.81,
            76.84,
            78.96,
            79.09,
            78.19,
            74,
            74.01,
            76.98,
            77.34,
            76.48,
            83.35,
            82.77,
            82.77,
            78.71,
            77.69,
            73.64,
            78.25,
            75.72,
            76.77,
            77,
            82.23,
            82.55,
            80,
            79.14,
            73.86,
            75.26,
            76.23,
            75.82,
            73.56,
            77.14,
            83.68,
            79.96,
            80.82,
            78.04,
            76.4,
            74.05,
            73.88,
            72.67,
            77.39,
            80.45,
            81.79,
            83.14,
            79.02,
            78.57,
            76.67,
            73.1,
            73.39,
            76.7,
            73.92,
            73.87,
            82.36,
            79.7,
            74.37,
            77.55,
            77.83,
            66.18,
            61.3,
            77.32,
            77.79,
            73.48,
            80.27,
            80.31,
            74.16,
            73.58,
            77.5,
            77.7,
            76.83,
            74.6,
            73.49,
            79.77,
            82.44,
            81.81,
            75.86,
            78.09,
            76.59,
            75.7,
            72.91,
            73.35,
            73.95,
            76.79,
            82.27,
            80.3,
            80.3,
            72.5,
            76.92,
            77.15,
            77.98,
            74.57,
            78.68,
            79.24,
            83.05,
            83.57,
            82.6,
            72.73,
            80.01,
            75.95,
            72.75,
            77.31,
            74.6,
            80.58,
            82.33,
            81.65,
            73.51,
            73.35,
            78.8,
            78.94,
            76.66,
            72.88,
            77.39,
            80.7
           ]
          },
          {
           "label": "CPU%c1",
           "values": [
            13.36,
            13.14,
            13.52,
            13.73,
            13.15,
            13.77,
            13.48,
            13.45,
            13.43,
            13.67,
            13.42,
            13.06,
            13.24,
            13.45,
            13.57,
            13.86,
            13.44,
            13.54,
            13.67,
            13.45,
            12.92,
            13.19,
            13.22,
            13.39,
            13.52,
            13.94,
            13.56,
            13.55,
            13.36,
            13.92,
            13.27,
            13.77,
            13.37,
            13.54,
            13.43,
            13.64,
            13.73,
            13.52,
            13.48,
            13.69,
            13.27,
            13.3,
            13.13,
            13.43,
            13.39,
            13.78,
            13.34,
            13.67,
            13.41,
            13.55,
            13.39,
            13.26,
            13.54,
            13.44,
            13.77,
            13.89,
            13.29,
            13.52,
            13.98,
            13.53,
            13.32,
            13.31,
            13.26,
            13.43,
            13.69,
            13.7,
            13.78,
            13.95,
            13.45,
            13.29,
            13.57,
            12.97,
            13.44,
            13.61,
            13.69,
            13.92,
            13.92,
            13.68,
            14.14,
            13.97,
            13.24,
            13.06,
            13.64,
            13.43,
            13.57,
            17.34,
            19.97,
            13.61,
            13.66,
            13.84,
            13.71,
            13.53,
            13.96,
            14.18,
            13.61,
            13.34,
            13.28,
            14.13,
            14.01,
            13.45,
            13.25,
            13.32,
            13.71,
            13.52,
            13.52,
            13.51,
            13.95,
            13.98,
            14.02,
            13.59,
            13.15,
            13.35,
            13.2,
            14.05,
            13.43,
            13.53,
            13.45,
            13.9,
            13.59,
            13.43,
            13.12,
            13.16,
            13.22,
            13.75,
            13.26,
            13.38,
            13.91,
            13.33,
            13.91,
            13.34,
            13.49,
            13.07,
            13.83,
            13.85,
            13.38,
            13.47,
            13.52,
            13.96,
            13.56,
            13.28
           ]
          },
          {
           "label": "CPU%c3",
           "values": [
            0.02,
            0.02,
            0.03,
            0.05,
            0.01,
            0.01,
            0.02,
            0.02,
            0.03,
            0.02,
            0.05,
            0.01,
            0.01,
            0.03,
            0.05,
            0.01,
            0.01,
            0.01,
            0.04,
            0.04,
            0.01,
            0.06,
            0.02,
            0.01,
            0.01,
            0.02,
            0.03,
            0.01,
            0.01,
            0.01,
            0.04,
            0.01,
            0.04,
            0.03,
            0.03,
            0.06,
            0.01,
            0.01,
            0.07,
            0.05,
            0.01,
            0.01,
            0.01,
            0.01,
            0.01,
            0.02,
            0.02,
            0.03,
            0.03,
            0.02,
            0.02,
            0.02,
            0.02,
            0.02,
            0.03,
            0.06,
            0.01,
            0.05,
            0.01,
            0.02,
            0.01,
            0.01,
            0.01,
            0.02,
            0.05,
            0.01,
            0.01,
            0.01,
            0.06,
            0.03,
            0.02,
            0.01,
            0.02,
            0.02,
            0.02,
            0.04,
            0.08,
            0.04,
            0.02,
            0.01,
            0.02,
            0.02,
            0.02,
            0.02,
            0.02,
            0.07,
            0.4,
            0.01,
            0.03,
            0.01,
            0.03,
            0.03,
            0.05,
            0.04,
            0.01,
            0.02,
            0.02,
            0.02,
            0.03,
            0.03,
            0.02,
            0.03,
            0.02,
            0.01,
            0.05,
            0.03,
            0.04,
            0.08,
            0.03,
            0.02,
            0.01,
            0.02,
            0.01,
            0.03,
            0.04,
            0.05,
            0.02,
            0.02,
            0.02,
            0.02,
            0.01,
            0.01,
            0.02,
            0.03,
            0.01,
            0.01,
            0.01,
            0.02,
            0.02,
            0.03,
            0.04,
            0.01,
            0.01,
            0.02,
            0.01,
            0.01,
            0.03,
            0.06,
            0.03,
            0.03
           ]
          },
          {
           "label": "CPU%c6",
           "values": [
            0.22,
            0.29,
            0.47,
            0.62,
            0.23,
            0.8,
            0.62,
            0.59,
            0.49,
            0.58,
            0.27,
            0.24,
            0.21,
            0.43,
            0.44,
            0.66,
            0.43,
            0.52,
            0.76,
            0.54,
            0.17,
            0.28,
            0.29,
            0.56,
            0.52,
            0.58,
            0.47,
            0.54,
            0.42,
            0.72,
            0.15,
            0.49,
            0.43,
            0.39,
            0.35,
            0.69,
            0.8,
            0.65,
            0.48,
            0.36,
            0.16,
            0.23,
            0.16,
            0.52,
            0.52,
            0.68,
            0.36,
            0.49,
            0.46,
            0.41,
            0.2,
            0.18,
            0.51,
            0.51,
            0.59,
            0.71,
            0.33,
            0.56,
            0.93,
            0.59,
            0.13,
            0.34,
            0.23,
            0.42,
            0.5,
            0.61,
            0.72,
            0.78,
            0.51,
            0.36,
            0.21,
            0.23,
            0.53,
            0.44,
            0.88,
            0.81,
            0.84,
            0.59,
            0.62,
            0.53,
            0.15,
            0.26,
            0.73,
            0.39,
            0.44,
            0.65,
            1.35,
            0.39,
            0.52,
            0.89,
            0.25,
            0.29,
            0.68,
            0.58,
            0.4,
            0.36,
            0.4,
            0.72,
            0.7,
            0.48,
            0.19,
            0.17,
            0.52,
            0.26,
            0.52,
            0.55,
            0.81,
            0.85,
            0.74,
            0.45,
            0.15,
            0.48,
            0.38,
            0.99,
            0.47,
            0.44,
            0.41,
            0.68,
            0.48,
            0.36,
            0.18,
            0.25,
            0.23,
            0.5,
            0.32,
            0.37,
            0.97,
            0.42,
            0.7,
            0.44,
            0.18,
            0.23,
            0.73,
            0.83,
            0.6,
            0.51,
            0.49,
            0.66,
            0.36,
            0.25
           ]
          },
          {
           "label": "CPU%c7",
           "values": [
            73.61,
            73.86,
            73.26,
            72.91,
            73.87,
            72.72,
            73.17,
            73.27,
            73.32,
            73.02,
            73.48,
            73.91,
            73.81,
            73.36,
            73.17,
            72.78,
            73.41,
            73.21,
            72.77,
            73.25,
            74.1,
            73.67,
            73.73,
            73.31,
            73.23,
            72.7,
            73.21,
            73.17,
            73.53,
            72.64,
            73.79,
            73,
            73.46,
            73.31,
            73.45,
            72.8,
            72.78,
            73.11,
            73.25,
            73.16,
            73.78,
            73.72,
            74.01,
            73.33,
            73.35,
            72.81,
            73.6,
            73.07,
            73.33,
            73.28,
            73.63,
            73.8,
            73.21,
            73.28,
            72.92,
            72.59,
            73.69,
            73.12,
            72.37,
            73.17,
            73.79,
            73.66,
            73.84,
            73.41,
            72.98,
            73.02,
            72.82,
            72.53,
            73.26,
            73.63,
            73.43,
            74.11,
            73.28,
            73.21,
            72.69,
            72.52,
            72.44,
            72.97,
            72.53,
            72.81,
            73.82,
            73.92,
            72.94,
            73.46,
            73.25,
            65.72,
            59.05,
            73.28,
            73.01,
            72.54,
            72.96,
            73.4,
            72.54,
            72.5,
            73.25,
            73.54,
            73.57,
            72.47,
            72.55,
            73.31,
            73.78,
            73.75,
            73.05,
            73.47,
            73.14,
            73.16,
            72.47,
            72.34,
            72.51,
            73.22,
            73.98,
            73.47,
            73.75,
            72.17,
            73.4,
            73.22,
            73.45,
            72.72,
            73.2,
            73.42,
            74,
            73.92,
            73.81,
            73.03,
            73.7,
            73.54,
            72.43,
            73.5,
            72.71,
            73.49,
            73.53,
            73.95,
            72.76,
            72.61,
            73.32,
            73.29,
            73.24,
            72.58,
            73.36,
            73.71
           ]
          },
          {
           "label": "CoreTmp",
           "values": [
            58,
            66,
            65,
            65,
            64,
            65,
            68,
            68,
            69,
            67,
            61,
            67,
            65,
            66,
            68,
            67,
            70,
            70,
            68,
            68,
            65,
            64,
            65,
            66,
            67,
            67,
            68,
            68,
            70,
            69,
            61,
            65,
            67,
            68,
            66,
            68,
            68,
            67,
            68,
            68,
            61,
            64,
            68,
            66,
            67,
            67,
            70,
            67,
            71,
            68,
            61,
            64,
            65,
            66,
            68,
            68,
            70,
            70,
            68,
            68,
            64,
            67,
            68,
            66,
            67,
            68,
            68,
            68,
            70,
            71,
            62,
            67,
            66,
            66,
            68,
            69,
            68,
            68,
            69,
            69,
            62,
            67,
            66,
            68,
            68,
            71,
            69,
            68,
            68,
            69,
            64,
            64,
            66,
            68,
            67,
            71,
            71,
            70,
            70,
            69,
            62,
            65,
            66,
            67,
            66,
            70,
            68,
            69,
            70,
            70,
            66,
            67,
            69,
            68,
            70,
            68,
            71,
            69,
            69,
            69,
            64,
            67,
            66,
            68,
            70,
            70,
            68,
            71,
            70,
            71,
            62,
            67,
            67,
            68,
            69,
            68,
            68,
            70,
            71,
            71
           ]
          },
          {
           "label": "PkgTmp",
           "values": [
            58,
            66,
            65,
            65,
            64,
            66,
            68,
            68,
            70,
            67,
            62,
            67,
            65,
            66,
            68,
            68,
            70,
            70,
            68,
            68,
            66,
            64,
            65,
            66,
            67,
            68,
            68,
            68,
            70,
            69,
            61,
            65,
            68,
            68,
            66,
            68,
            68,
            67,
            68,
            68,
            61,
            64,
            68,
            66,
            67,
            68,
            70,
            67,
            71,
            68,
            61,
            64,
            65,
            66,
            68,
            68,
            70,
            70,
            69,
            68,
            64,
            67,
            68,
            66,
            67,
            68,
            69,
            69,
            70,
            71,
            62,
            67,
            66,
            66,
            68,
            69,
            69,
            68,
            70,
            69,
            63,
            67,
            67,
            68,
            68,
            71,
            70,
            68,
            68,
            70,
            64,
            65,
            67,
            68,
            67,
            71,
            71,
            70,
            70,
            69,
            62,
            65,
            67,
            67,
            66,
            70,
            69,
            70,
            70,
            70,
            66,
            68,
            69,
            69,
            70,
            68,
            72,
            70,
            69,
            69,
            65,
            67,
            66,
            69,
            70,
            70,
            69,
            71,
            70,
            71,
            62,
            67,
            67,
            68,
            69,
            68,
            68,
            70,
            72,
            71
           ]
          },
          {
           "label": "GFX%rc6",
           "values": [
            98.59,
            98.33,
            98.34,
            98.41,
            98.41,
            98.3,
            98.22,
            98.36,
            98.3,
            98.3,
            98.53,
            98.28,
            98.4,
            98.25,
            98.25,
            98.37,
            98.24,
            98.26,
            98.28,
            98.22,
            98.51,
            98.48,
            98.39,
            98.35,
            98.28,
            98.45,
            98.28,
            98.24,
            98.35,
            98.45,
            98.58,
            98.37,
            98.41,
            98.27,
            98.35,
            98.27,
            98.41,
            98.36,
            98.3,
            98.25,
            98.59,
            98.35,
            98.39,
            98.33,
            98.23,
            98.45,
            98.27,
            98.27,
            98.35,
            98.26,
            98.55,
            98.33,
            98.38,
            98.29,
            98.4,
            98.36,
            98.26,
            98.3,
            98.45,
            98.23,
            98.5,
            98.25,
            98.38,
            98.27,
            98.25,
            98.55,
            98.43,
            98.41,
            98.33,
            98.29,
            98.54,
            98.38,
            98.41,
            98.28,
            98.27,
            98.43,
            98.39,
            98.24,
            98.47,
            98.37,
            98.46,
            98.26,
            98.46,
            98.31,
            98.3,
            98.49,
            98.61,
            98.35,
            98.26,
            98.43,
            98.51,
            98.31,
            98.32,
            98.43,
            98.27,
            98.38,
            98.36,
            98.72,
            98.45,
            98.3,
            98.62,
            98.33,
            98.41,
            98.32,
            98.29,
            98.32,
            98.44,
            98.41,
            98.45,
            98.22,
            98.55,
            98.29,
            98.42,
            98.5,
            98.39,
            98.28,
            98.29,
            98.54,
            98.29,
            98.33,
            98.57,
            98.33,
            98.41,
            98.39,
            98.28,
            98.4,
            98.41,
            98.34,
            98.44,
            98.29,
            98.61,
            98.3,
            98.53,
            98.37,
            98.24,
            98.31,
            98.24,
            98.48,
            98.35,
            98.31
           ]
          },
          {
           "label": "GFXMHz",
           "values": [
            300,
            300,
            300,
            300,
            300,
            300,
            300,
            300,
            300,
            300,
            300,
            300,
            300,
            300,
            300,
            300,
            300,
            300,
            300,
            300,
            300,
            300,
            300,
            300,
            300,
            300,
            300,
            300,
            300,
            300,
            300,
            300,
            300,
            300,
            300,
            300,
            300,
            300,
            300,
            300,
            300,
            300,
            300,
            300,
            300,
            300,
            300,
            300,
            300,
            300,
            300,
            300,
            300,
            300,
            300,
            300,
            300,
            300,
            300,
            300,
            300,
            300,
            300,
            300,
            300,
            300,
            300,
            300,
            300,
            300,
            300,
            300,
            300,
            300,
            300,
            300,
            300,
            300,
            300,
            300,
            300,
            300,
            300,
            300,
            300,
            300,
            300,
            300,
            300,
            300,
            300,
            300,
            300,
            300,
            300,
            300,
            300,
            300,
            300,
            300,
            300,
            300,
            300,
            300,
            300,
            300,
            300,
            300,
            300,
            300,
            300,
            300,
            300,
            300,
            300,
            300,
            350,
            350,
            350,
            350,
            350,
            300,
            300,
            300,
            300,
            300,
            300,
            300,
            300,
            300,
            300,
            300,
            300,
            300,
            300,
            300,
            300,
            300,
            300,
            300
           ]
          },
          {
           "label": "GFXAMHz",
           "values": [
            300,
            300,
            300,
            300,
            300,
            300,
            300,
            300,
            300,
            300,
            300,
            300,
            300,
            300,
            300,
            300,
            300,
            300,
            300,
            300,
            300,
            300,
            300,
            300,
            300,
            300,
            300,
            300,
            300,
            300,
            300,
            300,
            300,
            300,
            300,
            300,
            300,
            300,
            300,
            300,
            300,
            300,
            300,
            300,
            300,
            300,
            300,
            300,
            300,
            300,
            300,
            300,
            300,
            300,
            300,
            300,
            300,
            300,
            300,
            300,
            300,
            300,
            300,
            300,
            300,
            300,
            300,
            300,
            300,
            300,
            300,
            300,
            300,
            300,
            300,
            300,
            300,
            300,
            300,
            300,
            300,
            300,
            300,
            300,
            300,
            300,
            300,
            300,
            300,
            300,
            300,
            300,
            300,
            300,
            300,
            300,
            300,
            300,
            300,
            300,
            300,
            300,
            300,
            300,
            300,
            300,
            300,
            300,
            300,
            300,
            300,
            300,
            300,
            300,
            300,
            300,
            300,
            300,
            300,
            300,
            300,
            300,
            300,
            300,
            300,
            300,
            300,
            300,
            300,
            300,
            300,
            300,
            300,
            300,
            300,
            300,
            300,
            300,
            300,
            300
           ]
          },
          {
           "label": "Totl%C0",
           "values": [
            102.13,
            101.67,
            101.75,
            101.68,
            101.43,
            101.7,
            101.61,
            101.64,
            101.75,
            101.85,
            102.27,
            101.59,
            101.94,
            101.98,
            101.98,
            101.69,
            101.71,
            101.7,
            101.96,
            101.71,
            101.24,
            102.03,
            101.44,
            101.76,
            101.97,
            101.91,
            101.79,
            101.93,
            101.39,
            101.65,
            102.13,
            102,
            101.54,
            102.03,
            101.78,
            102.29,
            101.62,
            101.75,
            101.84,
            101.94,
            102.03,
            101.98,
            101.34,
            101.87,
            101.92,
            101.7,
            101.2,
            101.95,
            101.37,
            101.51,
            102.25,
            102.06,
            101.96,
            102.08,
            101.69,
            102.08,
            101.05,
            101.83,
            101.83,
            101.81,
            102.14,
            101.63,
            101.42,
            101.91,
            102.29,
            101.35,
            101.59,
            101.81,
            101.68,
            101.52,
            102.31,
            101.02,
            101.84,
            102,
            101.99,
            101.78,
            101.68,
            102.01,
            101.69,
            101.56,
            101.94,
            101.1,
            101.58,
            101.59,
            101.86,
            126.88,
            147.18,
            101.8,
            102.28,
            101.91,
            103.96,
            101.91,
            102.24,
            101.85,
            101.92,
            101.27,
            101.19,
            101.65,
            101.72,
            101.96,
            101.69,
            101.94,
            101.64,
            101.98,
            101.85,
            101.72,
            101.92,
            101.96,
            101.8,
            101.7,
            101.45,
            101.49,
            101.02,
            102.23,
            101.5,
            101.93,
            101.53,
            101.66,
            101.7,
            102.22,
            101.45,
            101.46,
            101.92,
            101.58,
            100.96,
            101.44,
            101.57,
            101.27,
            101.62,
            101.66,
            102.22,
            101.46,
            101.56,
            101.55,
            101.47,
            101.83,
            101.81,
            101.87,
            101.63,
            101.77
           ]
          },
          {
           "label": "Any%C0",
           "values": [
            99.53,
            99.53,
            99.14,
            98.85,
            99.46,
            98.9,
            99.18,
            99.23,
            99.26,
            99.08,
            99.51,
            99.54,
            99.51,
            99.33,
            99.25,
            98.74,
            99.23,
            99.19,
            99.11,
            99.19,
            99.53,
            99.52,
            99.47,
            99.26,
            99.25,
            98.82,
            99.18,
            99.15,
            99.27,
            98.8,
            99.52,
            99.09,
            99.27,
            99.37,
            99.25,
            99.11,
            98.87,
            99.19,
            99.2,
            99.18,
            99.55,
            99.52,
            99.52,
            99.27,
            99.27,
            98.87,
            99.19,
            99.17,
            99.2,
            99.21,
            99.52,
            99.51,
            99.32,
            99.28,
            98.83,
            99.03,
            99.15,
            99.13,
            98.74,
            99.13,
            99.52,
            99.39,
            99.43,
            99.27,
            99.16,
            98.82,
            98.81,
            98.8,
            99.18,
            99.37,
            99.48,
            99.55,
            99.29,
            99.27,
            99.08,
            98.73,
            98.72,
            99.15,
            98.74,
            98.71,
            99.52,
            99.44,
            98.88,
            99.25,
            99.21,
            98.92,
            99.18,
            99.22,
            99.19,
            98.91,
            99.51,
            99.41,
            98.97,
            98.8,
            99.26,
            99.22,
            99.18,
            98.79,
            98.73,
            99.3,
            99.53,
            99.48,
            98.94,
            99.38,
            99.24,
            99.14,
            98.79,
            98.77,
            98.76,
            99.17,
            99.52,
            99.28,
            99.34,
            98.68,
            99.17,
            99.24,
            99.18,
            98.74,
            99.2,
            99.44,
            99.51,
            99.53,
            99.53,
            98.85,
            99.32,
            99.19,
            98.69,
            99.21,
            98.73,
            99.39,
            99.5,
            99.49,
            98.75,
            98.72,
            99.21,
            99.24,
            99.15,
            98.84,
            99.19,
            99.49
           ]
          },
          {
           "label": "GFX%C0",
           "values": [
            1.45,
            1.53,
            1.4,
            1.45,
            1.44,
            1.44,
            1.51,
            1.39,
            1.43,
            1.46,
            1.39,
            1.52,
            1.45,
            1.55,
            1.5,
            1.47,
            1.52,
            1.5,
            1.47,
            1.51,
            1.44,
            1.38,
            1.42,
            1.45,
            1.5,
            1.42,
            1.48,
            1.5,
            1.43,
            1.44,
            1.43,
            1.44,
            1.37,
            1.47,
            1.45,
            1.49,
            1.44,
            1.39,
            1.45,
            1.48,
            1.41,
            1.51,
            1.38,
            1.46,
            1.55,
            1.41,
            1.51,
            1.49,
            1.45,
            1.49,
            1.44,
            1.52,
            1.43,
            1.5,
            1.49,
            1.42,
            1.52,
            1.51,
            1.45,
            1.49,
            1.39,
            1.52,
            1.37,
            1.51,
            1.53,
            1.34,
            1.45,
            1.45,
            1.45,
            1.46,
            1.45,
            1.42,
            1.38,
            1.5,
            1.49,
            1.42,
            1.45,
            1.49,
            1.37,
            1.46,
            1.4,
            1.5,
            1.37,
            1.46,
            1.47,
            1.35,
            1.45,
            1.41,
            1.48,
            1.47,
            1.34,
            1.4,
            1.43,
            1.4,
            1.47,
            1.4,
            1.42,
            1.21,
            1.44,
            1.42,
            1.41,
            1.43,
            1.41,
            1.47,
            1.46,
            1.43,
            1.44,
            1.46,
            1.43,
            1.49,
            1.37,
            1.44,
            1.38,
            1.44,
            1.43,
            1.42,
            1.47,
            1.32,
            1.41,
            1.34,
            1.36,
            1.45,
            1.41,
            1.4,
            1.44,
            1.41,
            1.45,
            1.42,
            1.43,
            1.44,
            1.38,
            1.46,
            1.35,
            1.46,
            1.49,
            1.41,
            1.48,
            1.36,
            1.4,
            1.37
           ]
          },
          {
           "label": "CPUGFX%",
           "values": [
            1.43,
            1.5,
            1.38,
            1.43,
            1.42,
            1.41,
            1.49,
            1.36,
            1.4,
            1.43,
            1.38,
            1.5,
            1.43,
            1.53,
            1.48,
            1.45,
            1.49,
            1.47,
            1.44,
            1.48,
            1.42,
            1.36,
            1.4,
            1.43,
            1.47,
            1.39,
            1.46,
            1.48,
            1.41,
            1.41,
            1.41,
            1.42,
            1.35,
            1.45,
            1.42,
            1.47,
            1.42,
            1.36,
            1.43,
            1.46,
            1.39,
            1.49,
            1.36,
            1.43,
            1.52,
            1.39,
            1.49,
            1.47,
            1.43,
            1.46,
            1.42,
            1.5,
            1.4,
            1.47,
            1.46,
            1.4,
            1.49,
            1.48,
            1.42,
            1.47,
            1.38,
            1.5,
            1.35,
            1.49,
            1.5,
            1.32,
            1.41,
            1.41,
            1.43,
            1.43,
            1.43,
            1.41,
            1.36,
            1.48,
            1.47,
            1.39,
            1.42,
            1.46,
            1.34,
            1.43,
            1.39,
            1.48,
            1.35,
            1.44,
            1.44,
            1.33,
            1.43,
            1.38,
            1.45,
            1.44,
            1.32,
            1.38,
            1.4,
            1.38,
            1.45,
            1.38,
            1.39,
            1.19,
            1.41,
            1.4,
            1.39,
            1.41,
            1.39,
            1.44,
            1.43,
            1.4,
            1.41,
            1.43,
            1.4,
            1.46,
            1.35,
            1.41,
            1.35,
            1.4,
            1.4,
            1.39,
            1.44,
            1.29,
            1.38,
            1.33,
            1.33,
            1.43,
            1.39,
            1.37,
            1.42,
            1.38,
            1.42,
            1.39,
            1.39,
            1.41,
            1.36,
            1.44,
            1.32,
            1.43,
            1.46,
            1.37,
            1.45,
            1.34,
            1.37,
            1.36
           ]
          },
          {
           "label": "Pkg_J",
           "values": [
            276.73,
            283.23,
            292.54,
            293.64,
            284.07,
            287.17,
            291.53,
            293.55,
            298.61,
            292.07,
            269.19,
            269.33,
            271.38,
            280.13,
            278.99,
            275.38,
            279.64,
            276.84,
            279,
            278.88,
            270.35,
            279.98,
            279.53,
            283.89,
            282.44,
            277.3,
            283.81,
            281.06,
            275.63,
            274.91,
            270.8,
            278.26,
            280.91,
            274.76,
            281.36,
            285.65,
            270.03,
            281.31,
            281.33,
            279.13,
            269.7,
            273.86,
            270.55,
            281.56,
            276.88,
            268.72,
            276.19,
            276.35,
            271.26,
            276.17,
            266.37,
            272.14,
            273.27,
            276.74,
            269.28,
            271.78,
            270.5,
            272.5,
            267.42,
            274.26,
            269.48,
            281.78,
            278.86,
            282.06,
            282.84,
            273.75,
            273.98,
            271.36,
            276.66,
            271.33,
            279.77,
            280.13,
            291.17,
            286.18,
            288.02,
            281.75,
            284.35,
            287.38,
            281.87,
            278.25,
            278.09,
            284.56,
            283.05,
            284.93,
            287.02,
            304.4,
            352.36,
            276.9,
            280.69,
            273.23,
            288.96,
            291.21,
            290.62,
            292,
            294.08,
            289.67,
            289.76,
            287.17,
            286.6,
            281.55,
            275.79,
            285.48,
            291.66,
            288.9,
            294.17,
            290.75,
            287.99,
            287.16,
            286.31,
            293.54,
            286.25,
            304.56,
            294.95,
            297.5,
            299.43,
            299.54,
            290.95,
            285.99,
            293.17,
            269.07,
            282.32,
            292.88,
            292.5,
            294.83,
            296.52,
            300.36,
            290.87,
            293.35,
            289.18,
            281.43,
            281.68,
            295.24,
            298.2,
            292.67,
            296.15,
            309.72,
            296.12,
            293.94,
            291.21,
            264.71
           ]
          },
          {
           "label": "Cor_J",
           "values": [
            228.1,
            234.26,
            242.32,
            243.25,
            234.74,
            237.03,
            241.19,
            242.81,
            246.94,
            241.94,
            222.08,
            222.08,
            223.89,
            232.11,
            230.44,
            226.54,
            230.76,
            227.84,
            230.46,
            230.33,
            222.65,
            231.98,
            231.17,
            235.18,
            233.62,
            227.54,
            234.74,
            232.07,
            226.15,
            225.1,
            223.35,
            229.98,
            232.36,
            226.07,
            232.61,
            236.22,
            220.88,
            232.41,
            232.26,
            230.01,
            222.73,
            226.41,
            222.86,
            233.48,
            228.87,
            219.92,
            227.36,
            227.94,
            222.23,
            227.48,
            219.8,
            224.88,
            226.05,
            228.93,
            220.53,
            224.2,
            221.96,
            223.45,
            218.27,
            225.66,
            222.23,
            233.57,
            230.3,
            233.47,
            233.99,
            224.04,
            224.27,
            221.55,
            227.12,
            222.05,
            231.33,
            231.09,
            241.81,
            236.7,
            238.45,
            230.95,
            233.07,
            237.24,
            230.48,
            227.15,
            230,
            235.58,
            233.39,
            235.02,
            237.16,
            251.25,
            297.36,
            227.41,
            230.82,
            221.96,
            239.38,
            241.15,
            239.85,
            240.45,
            243.41,
            238.56,
            238.44,
            235.18,
            234.45,
            229.31,
            226.79,
            235.88,
            241.01,
            238.94,
            243.73,
            239.68,
            235.99,
            235.29,
            234.28,
            242.11,
            236.81,
            254.04,
            244.23,
            245.16,
            247.83,
            248.01,
            239.31,
            234.05,
            242.05,
            215.04,
            232.36,
            242.18,
            242.04,
            243.43,
            244.9,
            248.32,
            238.59,
            241.5,
            236.82,
            228.27,
            232.76,
            245.45,
            246.72,
            241.35,
            245.05,
            256.9,
            245.2,
            240.95,
            239.59,
            210.28
           ]
          },
          {
           "label": "GFX_J",
           "values": [
            0.26,
            0.28,
            0.27,
            0.28,
            0.27,
            0.27,
            0.28,
            0.27,
            0.28,
            0.27,
            0.25,
            0.28,
            0.27,
            0.28,
            0.28,
            0.28,
            0.28,
            0.27,
            0.27,
            0.28,
            0.25,
            0.25,
            0.26,
            0.27,
            0.27,
            0.27,
            0.28,
            0.28,
            0.27,
            0.28,
            0.25,
            0.27,
            0.25,
            0.27,
            0.27,
            0.28,
            0.27,
            0.26,
            0.28,
            0.27,
            0.25,
            0.28,
            0.25,
            0.27,
            0.28,
            0.27,
            0.28,
            0.28,
            0.27,
            0.28,
            0.25,
            0.27,
            0.26,
            0.27,
            0.28,
            0.26,
            0.28,
            0.28,
            0.27,
            0.28,
            0.25,
            0.28,
            0.26,
            0.27,
            0.28,
            0.25,
            0.27,
            0.27,
            0.28,
            0.28,
            0.26,
            0.26,
            0.26,
            0.28,
            0.28,
            0.28,
            0.28,
            0.29,
            0.27,
            0.28,
            0.26,
            0.28,
            0.26,
            0.28,
            0.27,
            0.27,
            0.29,
            0.27,
            0.28,
            0.28,
            0.25,
            0.27,
            0.28,
            0.28,
            0.28,
            0.27,
            0.28,
            0.25,
            0.29,
            0.28,
            0.26,
            0.28,
            0.27,
            0.28,
            0.28,
            0.28,
            0.29,
            0.29,
            0.29,
            0.29,
            0.25,
            0.28,
            0.27,
            0.28,
            0.28,
            0.28,
            0.29,
            0.28,
            0.29,
            0.28,
            0.27,
            0.28,
            0.27,
            0.27,
            0.28,
            0.28,
            0.29,
            0.28,
            0.29,
            0.29,
            0.26,
            0.28,
            0.26,
            0.29,
            0.29,
            0.28,
            0.29,
            0.28,
            0.28,
            0.28
           ]
          },
          {
           "label": "RAM_J",
           "values": [
            14.03,
            14,
            14.19,
            14.27,
            13.97,
            14.15,
            14.18,
            14.22,
            14.43,
            14.08,
            13.65,
            13.62,
            13.57,
            13.74,
            13.79,
            13.82,
            13.88,
            13.85,
            13.79,
            13.8,
            13.76,
            13.75,
            13.68,
            13.83,
            13.85,
            14.05,
            13.9,
            13.86,
            13.93,
            14.1,
            13.7,
            13.85,
            13.81,
            13.78,
            13.84,
            13.98,
            13.93,
            13.83,
            13.89,
            13.89,
            13.64,
            13.64,
            13.61,
            13.73,
            13.72,
            13.87,
            13.86,
            13.75,
            13.89,
            13.82,
            13.56,
            13.55,
            13.47,
            13.66,
            13.89,
            13.57,
            13.76,
            13.92,
            13.97,
            13.77,
            13.67,
            13.76,
            13.73,
            13.74,
            13.9,
            13.96,
            14.01,
            14,
            13.98,
            13.89,
            13.97,
            13.92,
            13.94,
            14.02,
            13.99,
            14.28,
            14.41,
            14.11,
            14.35,
            14.35,
            13.9,
            13.94,
            14.03,
            14.04,
            14.04,
            16.53,
            16.68,
            13.93,
            14.06,
            14.36,
            14.23,
            14.18,
            14.3,
            14.48,
            14.26,
            14.33,
            14.35,
            14.45,
            14.57,
            14.61,
            14.04,
            14.08,
            14.21,
            14.05,
            14.19,
            14.3,
            14.54,
            14.55,
            14.58,
            14.35,
            14.15,
            14.22,
            14.23,
            14.62,
            14.42,
            14.36,
            14.43,
            14.5,
            14.31,
            14.98,
            14.41,
            14.42,
            14.34,
            14.52,
            14.5,
            14.61,
            14.78,
            14.61,
            14.81,
            14.92,
            14.18,
            14.21,
            14.48,
            14.51,
            14.48,
            14.76,
            14.47,
            14.87,
            14.61,
            15.17
           ]
          }
         ],
         "domain": {
          "x": [
           0,
           1
          ],
          "y": [
           0,
           1
          ]
         },
         "name": "",
         "type": "parcoords"
        }
       ],
       "layout": {
        "legend": {
         "tracegroupgap": 0
        },
        "margin": {
         "t": 60
        },
        "template": {
         "data": {
          "bar": [
           {
            "error_x": {
             "color": "#2a3f5f"
            },
            "error_y": {
             "color": "#2a3f5f"
            },
            "marker": {
             "line": {
              "color": "#E5ECF6",
              "width": 0.5
             },
             "pattern": {
              "fillmode": "overlay",
              "size": 10,
              "solidity": 0.2
             }
            },
            "type": "bar"
           }
          ],
          "barpolar": [
           {
            "marker": {
             "line": {
              "color": "#E5ECF6",
              "width": 0.5
             },
             "pattern": {
              "fillmode": "overlay",
              "size": 10,
              "solidity": 0.2
             }
            },
            "type": "barpolar"
           }
          ],
          "carpet": [
           {
            "aaxis": {
             "endlinecolor": "#2a3f5f",
             "gridcolor": "white",
             "linecolor": "white",
             "minorgridcolor": "white",
             "startlinecolor": "#2a3f5f"
            },
            "baxis": {
             "endlinecolor": "#2a3f5f",
             "gridcolor": "white",
             "linecolor": "white",
             "minorgridcolor": "white",
             "startlinecolor": "#2a3f5f"
            },
            "type": "carpet"
           }
          ],
          "choropleth": [
           {
            "colorbar": {
             "outlinewidth": 0,
             "ticks": ""
            },
            "type": "choropleth"
           }
          ],
          "contour": [
           {
            "colorbar": {
             "outlinewidth": 0,
             "ticks": ""
            },
            "colorscale": [
             [
              0,
              "#0d0887"
             ],
             [
              0.1111111111111111,
              "#46039f"
             ],
             [
              0.2222222222222222,
              "#7201a8"
             ],
             [
              0.3333333333333333,
              "#9c179e"
             ],
             [
              0.4444444444444444,
              "#bd3786"
             ],
             [
              0.5555555555555556,
              "#d8576b"
             ],
             [
              0.6666666666666666,
              "#ed7953"
             ],
             [
              0.7777777777777778,
              "#fb9f3a"
             ],
             [
              0.8888888888888888,
              "#fdca26"
             ],
             [
              1,
              "#f0f921"
             ]
            ],
            "type": "contour"
           }
          ],
          "contourcarpet": [
           {
            "colorbar": {
             "outlinewidth": 0,
             "ticks": ""
            },
            "type": "contourcarpet"
           }
          ],
          "heatmap": [
           {
            "colorbar": {
             "outlinewidth": 0,
             "ticks": ""
            },
            "colorscale": [
             [
              0,
              "#0d0887"
             ],
             [
              0.1111111111111111,
              "#46039f"
             ],
             [
              0.2222222222222222,
              "#7201a8"
             ],
             [
              0.3333333333333333,
              "#9c179e"
             ],
             [
              0.4444444444444444,
              "#bd3786"
             ],
             [
              0.5555555555555556,
              "#d8576b"
             ],
             [
              0.6666666666666666,
              "#ed7953"
             ],
             [
              0.7777777777777778,
              "#fb9f3a"
             ],
             [
              0.8888888888888888,
              "#fdca26"
             ],
             [
              1,
              "#f0f921"
             ]
            ],
            "type": "heatmap"
           }
          ],
          "heatmapgl": [
           {
            "colorbar": {
             "outlinewidth": 0,
             "ticks": ""
            },
            "colorscale": [
             [
              0,
              "#0d0887"
             ],
             [
              0.1111111111111111,
              "#46039f"
             ],
             [
              0.2222222222222222,
              "#7201a8"
             ],
             [
              0.3333333333333333,
              "#9c179e"
             ],
             [
              0.4444444444444444,
              "#bd3786"
             ],
             [
              0.5555555555555556,
              "#d8576b"
             ],
             [
              0.6666666666666666,
              "#ed7953"
             ],
             [
              0.7777777777777778,
              "#fb9f3a"
             ],
             [
              0.8888888888888888,
              "#fdca26"
             ],
             [
              1,
              "#f0f921"
             ]
            ],
            "type": "heatmapgl"
           }
          ],
          "histogram": [
           {
            "marker": {
             "pattern": {
              "fillmode": "overlay",
              "size": 10,
              "solidity": 0.2
             }
            },
            "type": "histogram"
           }
          ],
          "histogram2d": [
           {
            "colorbar": {
             "outlinewidth": 0,
             "ticks": ""
            },
            "colorscale": [
             [
              0,
              "#0d0887"
             ],
             [
              0.1111111111111111,
              "#46039f"
             ],
             [
              0.2222222222222222,
              "#7201a8"
             ],
             [
              0.3333333333333333,
              "#9c179e"
             ],
             [
              0.4444444444444444,
              "#bd3786"
             ],
             [
              0.5555555555555556,
              "#d8576b"
             ],
             [
              0.6666666666666666,
              "#ed7953"
             ],
             [
              0.7777777777777778,
              "#fb9f3a"
             ],
             [
              0.8888888888888888,
              "#fdca26"
             ],
             [
              1,
              "#f0f921"
             ]
            ],
            "type": "histogram2d"
           }
          ],
          "histogram2dcontour": [
           {
            "colorbar": {
             "outlinewidth": 0,
             "ticks": ""
            },
            "colorscale": [
             [
              0,
              "#0d0887"
             ],
             [
              0.1111111111111111,
              "#46039f"
             ],
             [
              0.2222222222222222,
              "#7201a8"
             ],
             [
              0.3333333333333333,
              "#9c179e"
             ],
             [
              0.4444444444444444,
              "#bd3786"
             ],
             [
              0.5555555555555556,
              "#d8576b"
             ],
             [
              0.6666666666666666,
              "#ed7953"
             ],
             [
              0.7777777777777778,
              "#fb9f3a"
             ],
             [
              0.8888888888888888,
              "#fdca26"
             ],
             [
              1,
              "#f0f921"
             ]
            ],
            "type": "histogram2dcontour"
           }
          ],
          "mesh3d": [
           {
            "colorbar": {
             "outlinewidth": 0,
             "ticks": ""
            },
            "type": "mesh3d"
           }
          ],
          "parcoords": [
           {
            "line": {
             "colorbar": {
              "outlinewidth": 0,
              "ticks": ""
             }
            },
            "type": "parcoords"
           }
          ],
          "pie": [
           {
            "automargin": true,
            "type": "pie"
           }
          ],
          "scatter": [
           {
            "fillpattern": {
             "fillmode": "overlay",
             "size": 10,
             "solidity": 0.2
            },
            "type": "scatter"
           }
          ],
          "scatter3d": [
           {
            "line": {
             "colorbar": {
              "outlinewidth": 0,
              "ticks": ""
             }
            },
            "marker": {
             "colorbar": {
              "outlinewidth": 0,
              "ticks": ""
             }
            },
            "type": "scatter3d"
           }
          ],
          "scattercarpet": [
           {
            "marker": {
             "colorbar": {
              "outlinewidth": 0,
              "ticks": ""
             }
            },
            "type": "scattercarpet"
           }
          ],
          "scattergeo": [
           {
            "marker": {
             "colorbar": {
              "outlinewidth": 0,
              "ticks": ""
             }
            },
            "type": "scattergeo"
           }
          ],
          "scattergl": [
           {
            "marker": {
             "colorbar": {
              "outlinewidth": 0,
              "ticks": ""
             }
            },
            "type": "scattergl"
           }
          ],
          "scattermapbox": [
           {
            "marker": {
             "colorbar": {
              "outlinewidth": 0,
              "ticks": ""
             }
            },
            "type": "scattermapbox"
           }
          ],
          "scatterpolar": [
           {
            "marker": {
             "colorbar": {
              "outlinewidth": 0,
              "ticks": ""
             }
            },
            "type": "scatterpolar"
           }
          ],
          "scatterpolargl": [
           {
            "marker": {
             "colorbar": {
              "outlinewidth": 0,
              "ticks": ""
             }
            },
            "type": "scatterpolargl"
           }
          ],
          "scatterternary": [
           {
            "marker": {
             "colorbar": {
              "outlinewidth": 0,
              "ticks": ""
             }
            },
            "type": "scatterternary"
           }
          ],
          "surface": [
           {
            "colorbar": {
             "outlinewidth": 0,
             "ticks": ""
            },
            "colorscale": [
             [
              0,
              "#0d0887"
             ],
             [
              0.1111111111111111,
              "#46039f"
             ],
             [
              0.2222222222222222,
              "#7201a8"
             ],
             [
              0.3333333333333333,
              "#9c179e"
             ],
             [
              0.4444444444444444,
              "#bd3786"
             ],
             [
              0.5555555555555556,
              "#d8576b"
             ],
             [
              0.6666666666666666,
              "#ed7953"
             ],
             [
              0.7777777777777778,
              "#fb9f3a"
             ],
             [
              0.8888888888888888,
              "#fdca26"
             ],
             [
              1,
              "#f0f921"
             ]
            ],
            "type": "surface"
           }
          ],
          "table": [
           {
            "cells": {
             "fill": {
              "color": "#EBF0F8"
             },
             "line": {
              "color": "white"
             }
            },
            "header": {
             "fill": {
              "color": "#C8D4E3"
             },
             "line": {
              "color": "white"
             }
            },
            "type": "table"
           }
          ]
         },
         "layout": {
          "annotationdefaults": {
           "arrowcolor": "#2a3f5f",
           "arrowhead": 0,
           "arrowwidth": 1
          },
          "autotypenumbers": "strict",
          "coloraxis": {
           "colorbar": {
            "outlinewidth": 0,
            "ticks": ""
           }
          },
          "colorscale": {
           "diverging": [
            [
             0,
             "#8e0152"
            ],
            [
             0.1,
             "#c51b7d"
            ],
            [
             0.2,
             "#de77ae"
            ],
            [
             0.3,
             "#f1b6da"
            ],
            [
             0.4,
             "#fde0ef"
            ],
            [
             0.5,
             "#f7f7f7"
            ],
            [
             0.6,
             "#e6f5d0"
            ],
            [
             0.7,
             "#b8e186"
            ],
            [
             0.8,
             "#7fbc41"
            ],
            [
             0.9,
             "#4d9221"
            ],
            [
             1,
             "#276419"
            ]
           ],
           "sequential": [
            [
             0,
             "#0d0887"
            ],
            [
             0.1111111111111111,
             "#46039f"
            ],
            [
             0.2222222222222222,
             "#7201a8"
            ],
            [
             0.3333333333333333,
             "#9c179e"
            ],
            [
             0.4444444444444444,
             "#bd3786"
            ],
            [
             0.5555555555555556,
             "#d8576b"
            ],
            [
             0.6666666666666666,
             "#ed7953"
            ],
            [
             0.7777777777777778,
             "#fb9f3a"
            ],
            [
             0.8888888888888888,
             "#fdca26"
            ],
            [
             1,
             "#f0f921"
            ]
           ],
           "sequentialminus": [
            [
             0,
             "#0d0887"
            ],
            [
             0.1111111111111111,
             "#46039f"
            ],
            [
             0.2222222222222222,
             "#7201a8"
            ],
            [
             0.3333333333333333,
             "#9c179e"
            ],
            [
             0.4444444444444444,
             "#bd3786"
            ],
            [
             0.5555555555555556,
             "#d8576b"
            ],
            [
             0.6666666666666666,
             "#ed7953"
            ],
            [
             0.7777777777777778,
             "#fb9f3a"
            ],
            [
             0.8888888888888888,
             "#fdca26"
            ],
            [
             1,
             "#f0f921"
            ]
           ]
          },
          "colorway": [
           "#636efa",
           "#EF553B",
           "#00cc96",
           "#ab63fa",
           "#FFA15A",
           "#19d3f3",
           "#FF6692",
           "#B6E880",
           "#FF97FF",
           "#FECB52"
          ],
          "font": {
           "color": "#2a3f5f"
          },
          "geo": {
           "bgcolor": "white",
           "lakecolor": "white",
           "landcolor": "#E5ECF6",
           "showlakes": true,
           "showland": true,
           "subunitcolor": "white"
          },
          "hoverlabel": {
           "align": "left"
          },
          "hovermode": "closest",
          "mapbox": {
           "style": "light"
          },
          "paper_bgcolor": "white",
          "plot_bgcolor": "#E5ECF6",
          "polar": {
           "angularaxis": {
            "gridcolor": "white",
            "linecolor": "white",
            "ticks": ""
           },
           "bgcolor": "#E5ECF6",
           "radialaxis": {
            "gridcolor": "white",
            "linecolor": "white",
            "ticks": ""
           }
          },
          "scene": {
           "xaxis": {
            "backgroundcolor": "#E5ECF6",
            "gridcolor": "white",
            "gridwidth": 2,
            "linecolor": "white",
            "showbackground": true,
            "ticks": "",
            "zerolinecolor": "white"
           },
           "yaxis": {
            "backgroundcolor": "#E5ECF6",
            "gridcolor": "white",
            "gridwidth": 2,
            "linecolor": "white",
            "showbackground": true,
            "ticks": "",
            "zerolinecolor": "white"
           },
           "zaxis": {
            "backgroundcolor": "#E5ECF6",
            "gridcolor": "white",
            "gridwidth": 2,
            "linecolor": "white",
            "showbackground": true,
            "ticks": "",
            "zerolinecolor": "white"
           }
          },
          "shapedefaults": {
           "line": {
            "color": "#2a3f5f"
           }
          },
          "ternary": {
           "aaxis": {
            "gridcolor": "white",
            "linecolor": "white",
            "ticks": ""
           },
           "baxis": {
            "gridcolor": "white",
            "linecolor": "white",
            "ticks": ""
           },
           "bgcolor": "#E5ECF6",
           "caxis": {
            "gridcolor": "white",
            "linecolor": "white",
            "ticks": ""
           }
          },
          "title": {
           "x": 0.05
          },
          "xaxis": {
           "automargin": true,
           "gridcolor": "white",
           "linecolor": "white",
           "ticks": "",
           "title": {
            "standoff": 15
           },
           "zerolinecolor": "white",
           "zerolinewidth": 2
          },
          "yaxis": {
           "automargin": true,
           "gridcolor": "white",
           "linecolor": "white",
           "ticks": "",
           "title": {
            "standoff": 15
           },
           "zerolinecolor": "white",
           "zerolinewidth": 2
          }
         }
        }
       }
      }
     },
     "metadata": {},
     "output_type": "display_data"
    }
   ],
   "source": [
    "fig = px.parallel_coordinates(df[['time_elapsed','Avg_MHz', 'Busy%', 'IPC', 'IRQ', 'POLL', 'C1%','C1E%','C3%','C6%','C7s%','C8%','C9%','C10%','CPU%c1','CPU%c3','CPU%c6','CPU%c7','CoreTmp','PkgTmp','GFX%rc6','GFXMHz','GFXAMHz','Totl%C0','Any%C0','GFX%C0','CPUGFX%','Pkg_J','Cor_J','GFX_J','RAM_J']],\n",
    "                              \n",
    ")\n",
    "\n",
    "fig.show()"
   ]
  },
  {
   "cell_type": "code",
   "execution_count": 96,
   "metadata": {},
   "outputs": [
    {
     "data": {
      "application/vnd.plotly.v1+json": {
       "config": {
        "plotlyServerURL": "https://plot.ly"
       },
       "data": [
        {
         "colorscale": [
          [
           0,
           "#000004"
          ],
          [
           0.1111111111111111,
           "#1b0c41"
          ],
          [
           0.2222222222222222,
           "#4a0c6b"
          ],
          [
           0.3333333333333333,
           "#781c6d"
          ],
          [
           0.4444444444444444,
           "#a52c60"
          ],
          [
           0.5555555555555556,
           "#cf4446"
          ],
          [
           0.6666666666666666,
           "#ed6925"
          ],
          [
           0.7777777777777778,
           "#fb9b06"
          ],
          [
           0.8888888888888888,
           "#f7d13d"
          ],
          [
           1,
           "#fcffa4"
          ]
         ],
         "reversescale": true,
         "showscale": true,
         "type": "heatmap",
         "x": [
          "time_elapsed",
          "Avg_MHz",
          "Busy%",
          "IPC",
          "IRQ",
          "POLL",
          "C1%",
          "C1E%",
          "C3%",
          "C6%",
          "C7s%",
          "C8%",
          "C9%",
          "C10%",
          "CPU%c1",
          "CPU%c3",
          "CPU%c6",
          "CPU%c7",
          "CoreTmp",
          "PkgTmp",
          "GFX%rc6",
          "GFXMHz",
          "GFXAMHz",
          "Totl%C0",
          "Any%C0",
          "GFX%C0",
          "CPUGFX%",
          "Pkg_J",
          "Cor_J",
          "GFX_J",
          "RAM_J"
         ],
         "xgap": 1,
         "y": [
          "time_elapsed",
          "Avg_MHz",
          "Busy%",
          "IPC",
          "IRQ",
          "POLL",
          "C1%",
          "C1E%",
          "C3%",
          "C6%",
          "C7s%",
          "C8%",
          "C9%",
          "C10%",
          "CPU%c1",
          "CPU%c3",
          "CPU%c6",
          "CPU%c7",
          "CoreTmp",
          "PkgTmp",
          "GFX%rc6",
          "GFXMHz",
          "GFXAMHz",
          "Totl%C0",
          "Any%C0",
          "GFX%C0",
          "CPUGFX%",
          "Pkg_J",
          "Cor_J",
          "GFX_J",
          "RAM_J"
         ],
         "ygap": 1,
         "z": [
          [
           1,
           0.07,
           0.19,
           -0.6,
           0.46,
           0.22,
           0.19,
           0.21,
           0.21,
           0.33,
           0.02,
           0.33,
           0.38,
           -0.4,
           0.32,
           0.2,
           0.34,
           -0.29,
           0.47,
           0.5,
           0.17,
           0.25,
           null,
           0.2,
           -0.38,
           -0.44,
           -0.47,
           0.58,
           0.48,
           0.44,
           0.87
          ],
          [
           0.07,
           1,
           0.95,
           -0.64,
           0.13,
           0.66,
           0.84,
           0.9,
           0.86,
           0.56,
           0.3,
           0.31,
           -0.09,
           -0.3,
           0.81,
           0.82,
           0.19,
           -0.85,
           -0.08,
           -0.07,
           0.21,
           -0.07,
           null,
           0.94,
           0.14,
           0,
           0.01,
           0.61,
           0.64,
           0.01,
           0.49
          ],
          [
           0.19,
           0.95,
           1,
           -0.65,
           0.28,
           0.66,
           0.91,
           0.92,
           0.89,
           0.66,
           0.28,
           0.47,
           0.07,
           -0.46,
           0.92,
           0.84,
           0.32,
           -0.95,
           0.08,
           0.1,
           0.23,
           -0.03,
           null,
           1,
           -0.02,
           -0.06,
           -0.04,
           0.54,
           0.54,
           0.08,
           0.62
          ],
          [
           -0.6,
           -0.64,
           -0.65,
           1,
           -0.3,
           -0.53,
           -0.63,
           -0.56,
           -0.53,
           -0.44,
           -0.22,
           -0.34,
           -0.14,
           0.36,
           -0.62,
           -0.52,
           -0.27,
           0.63,
           -0.13,
           -0.15,
           -0.19,
           -0.07,
           null,
           -0.65,
           0.1,
           0.24,
           0.25,
           -0.76,
           -0.73,
           -0.22,
           -0.79
          ],
          [
           0.46,
           0.13,
           0.28,
           -0.3,
           1,
           0.18,
           0.23,
           0.28,
           0.36,
           0.8,
           0.07,
           0.88,
           0.92,
           -0.94,
           0.6,
           0.33,
           0.9,
           -0.56,
           0.48,
           0.54,
           0.1,
           -0.03,
           null,
           0.29,
           -0.94,
           -0.09,
           -0.15,
           0.35,
           0.29,
           0.4,
           0.48
          ],
          [
           0.22,
           0.66,
           0.66,
           -0.53,
           0.18,
           1,
           0.57,
           0.68,
           0.65,
           0.51,
           0.45,
           0.35,
           0,
           -0.29,
           0.6,
           0.63,
           0.26,
           -0.63,
           0.02,
           0.05,
           0.21,
           -0.03,
           null,
           0.65,
           0.01,
           -0.1,
           -0.1,
           0.49,
           0.49,
           0.03,
           0.44
          ],
          [
           0.19,
           0.84,
           0.91,
           -0.63,
           0.23,
           0.57,
           1,
           0.79,
           0.72,
           0.51,
           0.18,
           0.42,
           0.06,
           -0.41,
           0.86,
           0.67,
           0.2,
           -0.86,
           0.02,
           0.03,
           0.31,
           -0.03,
           null,
           0.91,
           -0.02,
           -0.17,
           -0.15,
           0.45,
           0.45,
           -0.01,
           0.61
          ],
          [
           0.21,
           0.9,
           0.92,
           -0.56,
           0.28,
           0.68,
           0.79,
           1,
           0.93,
           0.69,
           0.31,
           0.48,
           0.06,
           -0.44,
           0.87,
           0.9,
           0.34,
           -0.9,
           0.07,
           0.09,
           0.24,
           -0.03,
           null,
           0.92,
           -0.03,
           -0.05,
           -0.04,
           0.54,
           0.54,
           0.11,
           0.57
          ],
          [
           0.21,
           0.86,
           0.89,
           -0.53,
           0.36,
           0.65,
           0.72,
           0.93,
           1,
           0.75,
           0.32,
           0.52,
           0.13,
           -0.49,
           0.85,
           0.97,
           0.41,
           -0.88,
           0.13,
           0.16,
           0.17,
           -0.04,
           null,
           0.89,
           -0.1,
           -0.01,
           0,
           0.54,
           0.54,
           0.17,
           0.54
          ],
          [
           0.33,
           0.56,
           0.66,
           -0.44,
           0.8,
           0.51,
           0.51,
           0.69,
           0.75,
           1,
           0.24,
           0.83,
           0.62,
           -0.85,
           0.83,
           0.72,
           0.89,
           -0.84,
           0.34,
           0.4,
           0.14,
           -0.07,
           null,
           0.67,
           -0.63,
           0.01,
           -0.02,
           0.48,
           0.45,
           0.34,
           0.54
          ],
          [
           0.02,
           0.3,
           0.28,
           -0.22,
           0.07,
           0.45,
           0.18,
           0.31,
           0.32,
           0.24,
           1,
           0.08,
           -0.01,
           -0.1,
           0.24,
           0.3,
           0.13,
           -0.26,
           -0.02,
           -0.01,
           0.14,
           -0.05,
           null,
           0.28,
           0.02,
           -0.04,
           -0.04,
           0.2,
           0.2,
           -0.06,
           0.13
          ],
          [
           0.33,
           0.31,
           0.47,
           -0.34,
           0.88,
           0.35,
           0.42,
           0.48,
           0.52,
           0.83,
           0.08,
           1,
           0.78,
           -0.95,
           0.72,
           0.5,
           0.83,
           -0.69,
           0.44,
           0.48,
           0.08,
           -0.1,
           null,
           0.48,
           -0.78,
           0.02,
           -0.02,
           0.32,
           0.28,
           0.36,
           0.49
          ],
          [
           0.38,
           -0.09,
           0.07,
           -0.14,
           0.92,
           0,
           0.06,
           0.06,
           0.13,
           0.62,
           -0.01,
           0.78,
           1,
           -0.9,
           0.4,
           0.11,
           0.8,
           -0.35,
           0.54,
           0.58,
           -0.05,
           -0.03,
           null,
           0.08,
           -0.94,
           -0.03,
           -0.09,
           0.22,
           0.17,
           0.41,
           0.34
          ],
          [
           -0.4,
           -0.3,
           -0.46,
           0.36,
           -0.94,
           -0.29,
           -0.41,
           -0.44,
           -0.49,
           -0.85,
           -0.1,
           -0.95,
           -0.9,
           1,
           -0.73,
           -0.46,
           -0.87,
           0.69,
           -0.5,
           -0.55,
           -0.06,
           0.06,
           null,
           -0.47,
           0.86,
           0.03,
           0.07,
           -0.39,
           -0.34,
           -0.4,
           -0.53
          ],
          [
           0.32,
           0.81,
           0.92,
           -0.62,
           0.6,
           0.6,
           0.86,
           0.87,
           0.85,
           0.83,
           0.24,
           0.72,
           0.4,
           -0.73,
           1,
           0.8,
           0.6,
           -0.99,
           0.2,
           0.24,
           0.27,
           -0.03,
           null,
           0.93,
           -0.38,
           -0.11,
           -0.12,
           0.54,
           0.52,
           0.19,
           0.68
          ],
          [
           0.2,
           0.82,
           0.84,
           -0.52,
           0.33,
           0.63,
           0.67,
           0.9,
           0.97,
           0.72,
           0.3,
           0.5,
           0.11,
           -0.46,
           0.8,
           1,
           0.39,
           -0.84,
           0.09,
           0.12,
           0.17,
           -0.05,
           null,
           0.84,
           -0.08,
           0,
           0.01,
           0.52,
           0.53,
           0.17,
           0.51
          ],
          [
           0.34,
           0.19,
           0.32,
           -0.27,
           0.9,
           0.26,
           0.2,
           0.34,
           0.41,
           0.89,
           0.13,
           0.83,
           0.8,
           -0.87,
           0.6,
           0.39,
           1,
           -0.59,
           0.42,
           0.48,
           0.03,
           -0.06,
           null,
           0.33,
           -0.84,
           0.03,
           -0.03,
           0.33,
           0.29,
           0.4,
           0.41
          ],
          [
           -0.29,
           -0.85,
           -0.95,
           0.63,
           -0.56,
           -0.63,
           -0.86,
           -0.9,
           -0.88,
           -0.84,
           -0.26,
           -0.69,
           -0.35,
           0.69,
           -0.99,
           -0.84,
           -0.59,
           1,
           -0.2,
           -0.24,
           -0.23,
           0.04,
           null,
           -0.95,
           0.32,
           0.07,
           0.08,
           -0.56,
           -0.54,
           -0.19,
           -0.68
          ],
          [
           0.47,
           -0.08,
           0.08,
           -0.13,
           0.48,
           0.02,
           0.02,
           0.07,
           0.13,
           0.34,
           -0.02,
           0.44,
           0.54,
           -0.5,
           0.2,
           0.09,
           0.42,
           -0.2,
           1,
           0.99,
           -0.39,
           0.08,
           null,
           0.08,
           -0.46,
           0.03,
           -0.01,
           0.23,
           0.16,
           0.57,
           0.43
          ],
          [
           0.5,
           -0.07,
           0.1,
           -0.15,
           0.54,
           0.05,
           0.03,
           0.09,
           0.16,
           0.4,
           -0.01,
           0.48,
           0.58,
           -0.55,
           0.24,
           0.12,
           0.48,
           -0.24,
           0.99,
           1,
           -0.34,
           0.11,
           null,
           0.1,
           -0.51,
           0,
           -0.05,
           0.25,
           0.17,
           0.57,
           0.45
          ],
          [
           0.17,
           0.21,
           0.23,
           -0.19,
           0.1,
           0.21,
           0.31,
           0.24,
           0.17,
           0.14,
           0.14,
           0.08,
           -0.05,
           -0.06,
           0.27,
           0.17,
           0.03,
           -0.23,
           -0.39,
           -0.34,
           1,
           0.06,
           null,
           0.23,
           -0.1,
           -0.68,
           -0.67,
           0,
           -0.01,
           -0.56,
           0.21
          ],
          [
           0.25,
           -0.07,
           -0.03,
           -0.07,
           -0.03,
           -0.03,
           -0.03,
           -0.03,
           -0.04,
           -0.07,
           -0.05,
           -0.1,
           -0.03,
           0.06,
           -0.03,
           -0.05,
           -0.06,
           0.04,
           0.08,
           0.11,
           0.06,
           1,
           null,
           -0.02,
           0.02,
           -0.23,
           -0.23,
           0.01,
           -0.02,
           0.15,
           0.17
          ],
          [
           null,
           null,
           null,
           null,
           null,
           null,
           null,
           null,
           null,
           null,
           null,
           null,
           null,
           null,
           null,
           null,
           null,
           null,
           null,
           null,
           null,
           null,
           null,
           null,
           null,
           null,
           null,
           null,
           null,
           null,
           null
          ],
          [
           0.2,
           0.94,
           1,
           -0.65,
           0.29,
           0.65,
           0.91,
           0.92,
           0.89,
           0.67,
           0.28,
           0.48,
           0.08,
           -0.47,
           0.93,
           0.84,
           0.33,
           -0.95,
           0.08,
           0.1,
           0.23,
           -0.02,
           null,
           1,
           -0.04,
           -0.06,
           -0.05,
           0.54,
           0.54,
           0.09,
           0.63
          ],
          [
           -0.38,
           0.14,
           -0.02,
           0.1,
           -0.94,
           0.01,
           -0.02,
           -0.03,
           -0.1,
           -0.63,
           0.02,
           -0.78,
           -0.94,
           0.86,
           -0.38,
           -0.08,
           -0.84,
           0.32,
           -0.46,
           -0.51,
           -0.1,
           0.02,
           null,
           -0.04,
           1,
           0.09,
           0.15,
           -0.15,
           -0.1,
           -0.35,
           -0.31
          ],
          [
           -0.44,
           0,
           -0.06,
           0.24,
           -0.09,
           -0.1,
           -0.17,
           -0.05,
           -0.01,
           0.01,
           -0.04,
           0.02,
           -0.03,
           0.03,
           -0.11,
           0,
           0.03,
           0.07,
           0.03,
           0,
           -0.68,
           -0.23,
           null,
           -0.06,
           0.09,
           1,
           0.99,
           -0.13,
           -0.09,
           0.49,
           -0.33
          ],
          [
           -0.47,
           0.01,
           -0.04,
           0.25,
           -0.15,
           -0.1,
           -0.15,
           -0.04,
           0,
           -0.02,
           -0.04,
           -0.02,
           -0.09,
           0.07,
           -0.12,
           0.01,
           -0.03,
           0.08,
           -0.01,
           -0.05,
           -0.67,
           -0.23,
           null,
           -0.05,
           0.15,
           0.99,
           1,
           -0.16,
           -0.12,
           0.45,
           -0.36
          ],
          [
           0.58,
           0.61,
           0.54,
           -0.76,
           0.35,
           0.49,
           0.45,
           0.54,
           0.54,
           0.48,
           0.2,
           0.32,
           0.22,
           -0.39,
           0.54,
           0.52,
           0.33,
           -0.56,
           0.23,
           0.25,
           0,
           0.01,
           null,
           0.54,
           -0.15,
           -0.13,
           -0.16,
           1,
           0.99,
           0.37,
           0.7
          ],
          [
           0.48,
           0.64,
           0.54,
           -0.73,
           0.29,
           0.49,
           0.45,
           0.54,
           0.54,
           0.45,
           0.2,
           0.28,
           0.17,
           -0.34,
           0.52,
           0.53,
           0.29,
           -0.54,
           0.16,
           0.17,
           -0.01,
           -0.02,
           null,
           0.54,
           -0.1,
           -0.09,
           -0.12,
           0.99,
           1,
           0.32,
           0.62
          ],
          [
           0.44,
           0.01,
           0.08,
           -0.22,
           0.4,
           0.03,
           -0.01,
           0.11,
           0.17,
           0.34,
           -0.06,
           0.36,
           0.41,
           -0.4,
           0.19,
           0.17,
           0.4,
           -0.19,
           0.57,
           0.57,
           -0.56,
           0.15,
           null,
           0.09,
           -0.35,
           0.49,
           0.45,
           0.37,
           0.32,
           1,
           0.41
          ],
          [
           0.87,
           0.49,
           0.62,
           -0.79,
           0.48,
           0.44,
           0.61,
           0.57,
           0.54,
           0.54,
           0.13,
           0.49,
           0.34,
           -0.53,
           0.68,
           0.51,
           0.41,
           -0.68,
           0.43,
           0.45,
           0.21,
           0.17,
           null,
           0.63,
           -0.31,
           -0.33,
           -0.36,
           0.7,
           0.62,
           0.41,
           1
          ]
         ]
        }
       ],
       "layout": {
        "annotations": [
         {
          "font": {
           "color": "#FFFFFF"
          },
          "showarrow": false,
          "text": "1.0",
          "x": "time_elapsed",
          "xref": "x",
          "y": "time_elapsed",
          "yref": "y"
         },
         {
          "font": {
           "color": "#FFFFFF"
          },
          "showarrow": false,
          "text": "0.07",
          "x": "Avg_MHz",
          "xref": "x",
          "y": "time_elapsed",
          "yref": "y"
         },
         {
          "font": {
           "color": "#FFFFFF"
          },
          "showarrow": false,
          "text": "0.19",
          "x": "Busy%",
          "xref": "x",
          "y": "time_elapsed",
          "yref": "y"
         },
         {
          "font": {
           "color": "#FFFFFF"
          },
          "showarrow": false,
          "text": "-0.6",
          "x": "IPC",
          "xref": "x",
          "y": "time_elapsed",
          "yref": "y"
         },
         {
          "font": {
           "color": "#FFFFFF"
          },
          "showarrow": false,
          "text": "0.46",
          "x": "IRQ",
          "xref": "x",
          "y": "time_elapsed",
          "yref": "y"
         },
         {
          "font": {
           "color": "#FFFFFF"
          },
          "showarrow": false,
          "text": "0.22",
          "x": "POLL",
          "xref": "x",
          "y": "time_elapsed",
          "yref": "y"
         },
         {
          "font": {
           "color": "#FFFFFF"
          },
          "showarrow": false,
          "text": "0.19",
          "x": "C1%",
          "xref": "x",
          "y": "time_elapsed",
          "yref": "y"
         },
         {
          "font": {
           "color": "#FFFFFF"
          },
          "showarrow": false,
          "text": "0.21",
          "x": "C1E%",
          "xref": "x",
          "y": "time_elapsed",
          "yref": "y"
         },
         {
          "font": {
           "color": "#FFFFFF"
          },
          "showarrow": false,
          "text": "0.21",
          "x": "C3%",
          "xref": "x",
          "y": "time_elapsed",
          "yref": "y"
         },
         {
          "font": {
           "color": "#FFFFFF"
          },
          "showarrow": false,
          "text": "0.33",
          "x": "C6%",
          "xref": "x",
          "y": "time_elapsed",
          "yref": "y"
         },
         {
          "font": {
           "color": "#FFFFFF"
          },
          "showarrow": false,
          "text": "0.02",
          "x": "C7s%",
          "xref": "x",
          "y": "time_elapsed",
          "yref": "y"
         },
         {
          "font": {
           "color": "#FFFFFF"
          },
          "showarrow": false,
          "text": "0.33",
          "x": "C8%",
          "xref": "x",
          "y": "time_elapsed",
          "yref": "y"
         },
         {
          "font": {
           "color": "#FFFFFF"
          },
          "showarrow": false,
          "text": "0.38",
          "x": "C9%",
          "xref": "x",
          "y": "time_elapsed",
          "yref": "y"
         },
         {
          "font": {
           "color": "#FFFFFF"
          },
          "showarrow": false,
          "text": "-0.4",
          "x": "C10%",
          "xref": "x",
          "y": "time_elapsed",
          "yref": "y"
         },
         {
          "font": {
           "color": "#FFFFFF"
          },
          "showarrow": false,
          "text": "0.32",
          "x": "CPU%c1",
          "xref": "x",
          "y": "time_elapsed",
          "yref": "y"
         },
         {
          "font": {
           "color": "#FFFFFF"
          },
          "showarrow": false,
          "text": "0.2",
          "x": "CPU%c3",
          "xref": "x",
          "y": "time_elapsed",
          "yref": "y"
         },
         {
          "font": {
           "color": "#FFFFFF"
          },
          "showarrow": false,
          "text": "0.34",
          "x": "CPU%c6",
          "xref": "x",
          "y": "time_elapsed",
          "yref": "y"
         },
         {
          "font": {
           "color": "#FFFFFF"
          },
          "showarrow": false,
          "text": "-0.29",
          "x": "CPU%c7",
          "xref": "x",
          "y": "time_elapsed",
          "yref": "y"
         },
         {
          "font": {
           "color": "#FFFFFF"
          },
          "showarrow": false,
          "text": "0.47",
          "x": "CoreTmp",
          "xref": "x",
          "y": "time_elapsed",
          "yref": "y"
         },
         {
          "font": {
           "color": "#FFFFFF"
          },
          "showarrow": false,
          "text": "0.5",
          "x": "PkgTmp",
          "xref": "x",
          "y": "time_elapsed",
          "yref": "y"
         },
         {
          "font": {
           "color": "#FFFFFF"
          },
          "showarrow": false,
          "text": "0.17",
          "x": "GFX%rc6",
          "xref": "x",
          "y": "time_elapsed",
          "yref": "y"
         },
         {
          "font": {
           "color": "#FFFFFF"
          },
          "showarrow": false,
          "text": "0.25",
          "x": "GFXMHz",
          "xref": "x",
          "y": "time_elapsed",
          "yref": "y"
         },
         {
          "font": {
           "color": "#FFFFFF"
          },
          "showarrow": false,
          "text": "nan",
          "x": "GFXAMHz",
          "xref": "x",
          "y": "time_elapsed",
          "yref": "y"
         },
         {
          "font": {
           "color": "#FFFFFF"
          },
          "showarrow": false,
          "text": "0.2",
          "x": "Totl%C0",
          "xref": "x",
          "y": "time_elapsed",
          "yref": "y"
         },
         {
          "font": {
           "color": "#FFFFFF"
          },
          "showarrow": false,
          "text": "-0.38",
          "x": "Any%C0",
          "xref": "x",
          "y": "time_elapsed",
          "yref": "y"
         },
         {
          "font": {
           "color": "#FFFFFF"
          },
          "showarrow": false,
          "text": "-0.44",
          "x": "GFX%C0",
          "xref": "x",
          "y": "time_elapsed",
          "yref": "y"
         },
         {
          "font": {
           "color": "#FFFFFF"
          },
          "showarrow": false,
          "text": "-0.47",
          "x": "CPUGFX%",
          "xref": "x",
          "y": "time_elapsed",
          "yref": "y"
         },
         {
          "font": {
           "color": "#FFFFFF"
          },
          "showarrow": false,
          "text": "0.58",
          "x": "Pkg_J",
          "xref": "x",
          "y": "time_elapsed",
          "yref": "y"
         },
         {
          "font": {
           "color": "#FFFFFF"
          },
          "showarrow": false,
          "text": "0.48",
          "x": "Cor_J",
          "xref": "x",
          "y": "time_elapsed",
          "yref": "y"
         },
         {
          "font": {
           "color": "#FFFFFF"
          },
          "showarrow": false,
          "text": "0.44",
          "x": "GFX_J",
          "xref": "x",
          "y": "time_elapsed",
          "yref": "y"
         },
         {
          "font": {
           "color": "#FFFFFF"
          },
          "showarrow": false,
          "text": "0.87",
          "x": "RAM_J",
          "xref": "x",
          "y": "time_elapsed",
          "yref": "y"
         },
         {
          "font": {
           "color": "#FFFFFF"
          },
          "showarrow": false,
          "text": "0.07",
          "x": "time_elapsed",
          "xref": "x",
          "y": "Avg_MHz",
          "yref": "y"
         },
         {
          "font": {
           "color": "#FFFFFF"
          },
          "showarrow": false,
          "text": "1.0",
          "x": "Avg_MHz",
          "xref": "x",
          "y": "Avg_MHz",
          "yref": "y"
         },
         {
          "font": {
           "color": "#FFFFFF"
          },
          "showarrow": false,
          "text": "0.95",
          "x": "Busy%",
          "xref": "x",
          "y": "Avg_MHz",
          "yref": "y"
         },
         {
          "font": {
           "color": "#FFFFFF"
          },
          "showarrow": false,
          "text": "-0.64",
          "x": "IPC",
          "xref": "x",
          "y": "Avg_MHz",
          "yref": "y"
         },
         {
          "font": {
           "color": "#FFFFFF"
          },
          "showarrow": false,
          "text": "0.13",
          "x": "IRQ",
          "xref": "x",
          "y": "Avg_MHz",
          "yref": "y"
         },
         {
          "font": {
           "color": "#FFFFFF"
          },
          "showarrow": false,
          "text": "0.66",
          "x": "POLL",
          "xref": "x",
          "y": "Avg_MHz",
          "yref": "y"
         },
         {
          "font": {
           "color": "#FFFFFF"
          },
          "showarrow": false,
          "text": "0.84",
          "x": "C1%",
          "xref": "x",
          "y": "Avg_MHz",
          "yref": "y"
         },
         {
          "font": {
           "color": "#FFFFFF"
          },
          "showarrow": false,
          "text": "0.9",
          "x": "C1E%",
          "xref": "x",
          "y": "Avg_MHz",
          "yref": "y"
         },
         {
          "font": {
           "color": "#FFFFFF"
          },
          "showarrow": false,
          "text": "0.86",
          "x": "C3%",
          "xref": "x",
          "y": "Avg_MHz",
          "yref": "y"
         },
         {
          "font": {
           "color": "#FFFFFF"
          },
          "showarrow": false,
          "text": "0.56",
          "x": "C6%",
          "xref": "x",
          "y": "Avg_MHz",
          "yref": "y"
         },
         {
          "font": {
           "color": "#FFFFFF"
          },
          "showarrow": false,
          "text": "0.3",
          "x": "C7s%",
          "xref": "x",
          "y": "Avg_MHz",
          "yref": "y"
         },
         {
          "font": {
           "color": "#FFFFFF"
          },
          "showarrow": false,
          "text": "0.31",
          "x": "C8%",
          "xref": "x",
          "y": "Avg_MHz",
          "yref": "y"
         },
         {
          "font": {
           "color": "#FFFFFF"
          },
          "showarrow": false,
          "text": "-0.09",
          "x": "C9%",
          "xref": "x",
          "y": "Avg_MHz",
          "yref": "y"
         },
         {
          "font": {
           "color": "#FFFFFF"
          },
          "showarrow": false,
          "text": "-0.3",
          "x": "C10%",
          "xref": "x",
          "y": "Avg_MHz",
          "yref": "y"
         },
         {
          "font": {
           "color": "#FFFFFF"
          },
          "showarrow": false,
          "text": "0.81",
          "x": "CPU%c1",
          "xref": "x",
          "y": "Avg_MHz",
          "yref": "y"
         },
         {
          "font": {
           "color": "#FFFFFF"
          },
          "showarrow": false,
          "text": "0.82",
          "x": "CPU%c3",
          "xref": "x",
          "y": "Avg_MHz",
          "yref": "y"
         },
         {
          "font": {
           "color": "#FFFFFF"
          },
          "showarrow": false,
          "text": "0.19",
          "x": "CPU%c6",
          "xref": "x",
          "y": "Avg_MHz",
          "yref": "y"
         },
         {
          "font": {
           "color": "#FFFFFF"
          },
          "showarrow": false,
          "text": "-0.85",
          "x": "CPU%c7",
          "xref": "x",
          "y": "Avg_MHz",
          "yref": "y"
         },
         {
          "font": {
           "color": "#FFFFFF"
          },
          "showarrow": false,
          "text": "-0.08",
          "x": "CoreTmp",
          "xref": "x",
          "y": "Avg_MHz",
          "yref": "y"
         },
         {
          "font": {
           "color": "#FFFFFF"
          },
          "showarrow": false,
          "text": "-0.07",
          "x": "PkgTmp",
          "xref": "x",
          "y": "Avg_MHz",
          "yref": "y"
         },
         {
          "font": {
           "color": "#FFFFFF"
          },
          "showarrow": false,
          "text": "0.21",
          "x": "GFX%rc6",
          "xref": "x",
          "y": "Avg_MHz",
          "yref": "y"
         },
         {
          "font": {
           "color": "#FFFFFF"
          },
          "showarrow": false,
          "text": "-0.07",
          "x": "GFXMHz",
          "xref": "x",
          "y": "Avg_MHz",
          "yref": "y"
         },
         {
          "font": {
           "color": "#FFFFFF"
          },
          "showarrow": false,
          "text": "nan",
          "x": "GFXAMHz",
          "xref": "x",
          "y": "Avg_MHz",
          "yref": "y"
         },
         {
          "font": {
           "color": "#FFFFFF"
          },
          "showarrow": false,
          "text": "0.94",
          "x": "Totl%C0",
          "xref": "x",
          "y": "Avg_MHz",
          "yref": "y"
         },
         {
          "font": {
           "color": "#FFFFFF"
          },
          "showarrow": false,
          "text": "0.14",
          "x": "Any%C0",
          "xref": "x",
          "y": "Avg_MHz",
          "yref": "y"
         },
         {
          "font": {
           "color": "#FFFFFF"
          },
          "showarrow": false,
          "text": "-0.0",
          "x": "GFX%C0",
          "xref": "x",
          "y": "Avg_MHz",
          "yref": "y"
         },
         {
          "font": {
           "color": "#FFFFFF"
          },
          "showarrow": false,
          "text": "0.01",
          "x": "CPUGFX%",
          "xref": "x",
          "y": "Avg_MHz",
          "yref": "y"
         },
         {
          "font": {
           "color": "#FFFFFF"
          },
          "showarrow": false,
          "text": "0.61",
          "x": "Pkg_J",
          "xref": "x",
          "y": "Avg_MHz",
          "yref": "y"
         },
         {
          "font": {
           "color": "#FFFFFF"
          },
          "showarrow": false,
          "text": "0.64",
          "x": "Cor_J",
          "xref": "x",
          "y": "Avg_MHz",
          "yref": "y"
         },
         {
          "font": {
           "color": "#FFFFFF"
          },
          "showarrow": false,
          "text": "0.01",
          "x": "GFX_J",
          "xref": "x",
          "y": "Avg_MHz",
          "yref": "y"
         },
         {
          "font": {
           "color": "#FFFFFF"
          },
          "showarrow": false,
          "text": "0.49",
          "x": "RAM_J",
          "xref": "x",
          "y": "Avg_MHz",
          "yref": "y"
         },
         {
          "font": {
           "color": "#FFFFFF"
          },
          "showarrow": false,
          "text": "0.19",
          "x": "time_elapsed",
          "xref": "x",
          "y": "Busy%",
          "yref": "y"
         },
         {
          "font": {
           "color": "#FFFFFF"
          },
          "showarrow": false,
          "text": "0.95",
          "x": "Avg_MHz",
          "xref": "x",
          "y": "Busy%",
          "yref": "y"
         },
         {
          "font": {
           "color": "#FFFFFF"
          },
          "showarrow": false,
          "text": "1.0",
          "x": "Busy%",
          "xref": "x",
          "y": "Busy%",
          "yref": "y"
         },
         {
          "font": {
           "color": "#FFFFFF"
          },
          "showarrow": false,
          "text": "-0.65",
          "x": "IPC",
          "xref": "x",
          "y": "Busy%",
          "yref": "y"
         },
         {
          "font": {
           "color": "#FFFFFF"
          },
          "showarrow": false,
          "text": "0.28",
          "x": "IRQ",
          "xref": "x",
          "y": "Busy%",
          "yref": "y"
         },
         {
          "font": {
           "color": "#FFFFFF"
          },
          "showarrow": false,
          "text": "0.66",
          "x": "POLL",
          "xref": "x",
          "y": "Busy%",
          "yref": "y"
         },
         {
          "font": {
           "color": "#FFFFFF"
          },
          "showarrow": false,
          "text": "0.91",
          "x": "C1%",
          "xref": "x",
          "y": "Busy%",
          "yref": "y"
         },
         {
          "font": {
           "color": "#FFFFFF"
          },
          "showarrow": false,
          "text": "0.92",
          "x": "C1E%",
          "xref": "x",
          "y": "Busy%",
          "yref": "y"
         },
         {
          "font": {
           "color": "#FFFFFF"
          },
          "showarrow": false,
          "text": "0.89",
          "x": "C3%",
          "xref": "x",
          "y": "Busy%",
          "yref": "y"
         },
         {
          "font": {
           "color": "#FFFFFF"
          },
          "showarrow": false,
          "text": "0.66",
          "x": "C6%",
          "xref": "x",
          "y": "Busy%",
          "yref": "y"
         },
         {
          "font": {
           "color": "#FFFFFF"
          },
          "showarrow": false,
          "text": "0.28",
          "x": "C7s%",
          "xref": "x",
          "y": "Busy%",
          "yref": "y"
         },
         {
          "font": {
           "color": "#FFFFFF"
          },
          "showarrow": false,
          "text": "0.47",
          "x": "C8%",
          "xref": "x",
          "y": "Busy%",
          "yref": "y"
         },
         {
          "font": {
           "color": "#FFFFFF"
          },
          "showarrow": false,
          "text": "0.07",
          "x": "C9%",
          "xref": "x",
          "y": "Busy%",
          "yref": "y"
         },
         {
          "font": {
           "color": "#FFFFFF"
          },
          "showarrow": false,
          "text": "-0.46",
          "x": "C10%",
          "xref": "x",
          "y": "Busy%",
          "yref": "y"
         },
         {
          "font": {
           "color": "#FFFFFF"
          },
          "showarrow": false,
          "text": "0.92",
          "x": "CPU%c1",
          "xref": "x",
          "y": "Busy%",
          "yref": "y"
         },
         {
          "font": {
           "color": "#FFFFFF"
          },
          "showarrow": false,
          "text": "0.84",
          "x": "CPU%c3",
          "xref": "x",
          "y": "Busy%",
          "yref": "y"
         },
         {
          "font": {
           "color": "#FFFFFF"
          },
          "showarrow": false,
          "text": "0.32",
          "x": "CPU%c6",
          "xref": "x",
          "y": "Busy%",
          "yref": "y"
         },
         {
          "font": {
           "color": "#FFFFFF"
          },
          "showarrow": false,
          "text": "-0.95",
          "x": "CPU%c7",
          "xref": "x",
          "y": "Busy%",
          "yref": "y"
         },
         {
          "font": {
           "color": "#FFFFFF"
          },
          "showarrow": false,
          "text": "0.08",
          "x": "CoreTmp",
          "xref": "x",
          "y": "Busy%",
          "yref": "y"
         },
         {
          "font": {
           "color": "#FFFFFF"
          },
          "showarrow": false,
          "text": "0.1",
          "x": "PkgTmp",
          "xref": "x",
          "y": "Busy%",
          "yref": "y"
         },
         {
          "font": {
           "color": "#FFFFFF"
          },
          "showarrow": false,
          "text": "0.23",
          "x": "GFX%rc6",
          "xref": "x",
          "y": "Busy%",
          "yref": "y"
         },
         {
          "font": {
           "color": "#FFFFFF"
          },
          "showarrow": false,
          "text": "-0.03",
          "x": "GFXMHz",
          "xref": "x",
          "y": "Busy%",
          "yref": "y"
         },
         {
          "font": {
           "color": "#FFFFFF"
          },
          "showarrow": false,
          "text": "nan",
          "x": "GFXAMHz",
          "xref": "x",
          "y": "Busy%",
          "yref": "y"
         },
         {
          "font": {
           "color": "#FFFFFF"
          },
          "showarrow": false,
          "text": "1.0",
          "x": "Totl%C0",
          "xref": "x",
          "y": "Busy%",
          "yref": "y"
         },
         {
          "font": {
           "color": "#FFFFFF"
          },
          "showarrow": false,
          "text": "-0.02",
          "x": "Any%C0",
          "xref": "x",
          "y": "Busy%",
          "yref": "y"
         },
         {
          "font": {
           "color": "#FFFFFF"
          },
          "showarrow": false,
          "text": "-0.06",
          "x": "GFX%C0",
          "xref": "x",
          "y": "Busy%",
          "yref": "y"
         },
         {
          "font": {
           "color": "#FFFFFF"
          },
          "showarrow": false,
          "text": "-0.04",
          "x": "CPUGFX%",
          "xref": "x",
          "y": "Busy%",
          "yref": "y"
         },
         {
          "font": {
           "color": "#FFFFFF"
          },
          "showarrow": false,
          "text": "0.54",
          "x": "Pkg_J",
          "xref": "x",
          "y": "Busy%",
          "yref": "y"
         },
         {
          "font": {
           "color": "#FFFFFF"
          },
          "showarrow": false,
          "text": "0.54",
          "x": "Cor_J",
          "xref": "x",
          "y": "Busy%",
          "yref": "y"
         },
         {
          "font": {
           "color": "#FFFFFF"
          },
          "showarrow": false,
          "text": "0.08",
          "x": "GFX_J",
          "xref": "x",
          "y": "Busy%",
          "yref": "y"
         },
         {
          "font": {
           "color": "#FFFFFF"
          },
          "showarrow": false,
          "text": "0.62",
          "x": "RAM_J",
          "xref": "x",
          "y": "Busy%",
          "yref": "y"
         },
         {
          "font": {
           "color": "#FFFFFF"
          },
          "showarrow": false,
          "text": "-0.6",
          "x": "time_elapsed",
          "xref": "x",
          "y": "IPC",
          "yref": "y"
         },
         {
          "font": {
           "color": "#FFFFFF"
          },
          "showarrow": false,
          "text": "-0.64",
          "x": "Avg_MHz",
          "xref": "x",
          "y": "IPC",
          "yref": "y"
         },
         {
          "font": {
           "color": "#FFFFFF"
          },
          "showarrow": false,
          "text": "-0.65",
          "x": "Busy%",
          "xref": "x",
          "y": "IPC",
          "yref": "y"
         },
         {
          "font": {
           "color": "#FFFFFF"
          },
          "showarrow": false,
          "text": "1.0",
          "x": "IPC",
          "xref": "x",
          "y": "IPC",
          "yref": "y"
         },
         {
          "font": {
           "color": "#FFFFFF"
          },
          "showarrow": false,
          "text": "-0.3",
          "x": "IRQ",
          "xref": "x",
          "y": "IPC",
          "yref": "y"
         },
         {
          "font": {
           "color": "#FFFFFF"
          },
          "showarrow": false,
          "text": "-0.53",
          "x": "POLL",
          "xref": "x",
          "y": "IPC",
          "yref": "y"
         },
         {
          "font": {
           "color": "#FFFFFF"
          },
          "showarrow": false,
          "text": "-0.63",
          "x": "C1%",
          "xref": "x",
          "y": "IPC",
          "yref": "y"
         },
         {
          "font": {
           "color": "#FFFFFF"
          },
          "showarrow": false,
          "text": "-0.56",
          "x": "C1E%",
          "xref": "x",
          "y": "IPC",
          "yref": "y"
         },
         {
          "font": {
           "color": "#FFFFFF"
          },
          "showarrow": false,
          "text": "-0.53",
          "x": "C3%",
          "xref": "x",
          "y": "IPC",
          "yref": "y"
         },
         {
          "font": {
           "color": "#FFFFFF"
          },
          "showarrow": false,
          "text": "-0.44",
          "x": "C6%",
          "xref": "x",
          "y": "IPC",
          "yref": "y"
         },
         {
          "font": {
           "color": "#FFFFFF"
          },
          "showarrow": false,
          "text": "-0.22",
          "x": "C7s%",
          "xref": "x",
          "y": "IPC",
          "yref": "y"
         },
         {
          "font": {
           "color": "#FFFFFF"
          },
          "showarrow": false,
          "text": "-0.34",
          "x": "C8%",
          "xref": "x",
          "y": "IPC",
          "yref": "y"
         },
         {
          "font": {
           "color": "#FFFFFF"
          },
          "showarrow": false,
          "text": "-0.14",
          "x": "C9%",
          "xref": "x",
          "y": "IPC",
          "yref": "y"
         },
         {
          "font": {
           "color": "#FFFFFF"
          },
          "showarrow": false,
          "text": "0.36",
          "x": "C10%",
          "xref": "x",
          "y": "IPC",
          "yref": "y"
         },
         {
          "font": {
           "color": "#FFFFFF"
          },
          "showarrow": false,
          "text": "-0.62",
          "x": "CPU%c1",
          "xref": "x",
          "y": "IPC",
          "yref": "y"
         },
         {
          "font": {
           "color": "#FFFFFF"
          },
          "showarrow": false,
          "text": "-0.52",
          "x": "CPU%c3",
          "xref": "x",
          "y": "IPC",
          "yref": "y"
         },
         {
          "font": {
           "color": "#FFFFFF"
          },
          "showarrow": false,
          "text": "-0.27",
          "x": "CPU%c6",
          "xref": "x",
          "y": "IPC",
          "yref": "y"
         },
         {
          "font": {
           "color": "#FFFFFF"
          },
          "showarrow": false,
          "text": "0.63",
          "x": "CPU%c7",
          "xref": "x",
          "y": "IPC",
          "yref": "y"
         },
         {
          "font": {
           "color": "#FFFFFF"
          },
          "showarrow": false,
          "text": "-0.13",
          "x": "CoreTmp",
          "xref": "x",
          "y": "IPC",
          "yref": "y"
         },
         {
          "font": {
           "color": "#FFFFFF"
          },
          "showarrow": false,
          "text": "-0.15",
          "x": "PkgTmp",
          "xref": "x",
          "y": "IPC",
          "yref": "y"
         },
         {
          "font": {
           "color": "#FFFFFF"
          },
          "showarrow": false,
          "text": "-0.19",
          "x": "GFX%rc6",
          "xref": "x",
          "y": "IPC",
          "yref": "y"
         },
         {
          "font": {
           "color": "#FFFFFF"
          },
          "showarrow": false,
          "text": "-0.07",
          "x": "GFXMHz",
          "xref": "x",
          "y": "IPC",
          "yref": "y"
         },
         {
          "font": {
           "color": "#FFFFFF"
          },
          "showarrow": false,
          "text": "nan",
          "x": "GFXAMHz",
          "xref": "x",
          "y": "IPC",
          "yref": "y"
         },
         {
          "font": {
           "color": "#FFFFFF"
          },
          "showarrow": false,
          "text": "-0.65",
          "x": "Totl%C0",
          "xref": "x",
          "y": "IPC",
          "yref": "y"
         },
         {
          "font": {
           "color": "#FFFFFF"
          },
          "showarrow": false,
          "text": "0.1",
          "x": "Any%C0",
          "xref": "x",
          "y": "IPC",
          "yref": "y"
         },
         {
          "font": {
           "color": "#FFFFFF"
          },
          "showarrow": false,
          "text": "0.24",
          "x": "GFX%C0",
          "xref": "x",
          "y": "IPC",
          "yref": "y"
         },
         {
          "font": {
           "color": "#FFFFFF"
          },
          "showarrow": false,
          "text": "0.25",
          "x": "CPUGFX%",
          "xref": "x",
          "y": "IPC",
          "yref": "y"
         },
         {
          "font": {
           "color": "#FFFFFF"
          },
          "showarrow": false,
          "text": "-0.76",
          "x": "Pkg_J",
          "xref": "x",
          "y": "IPC",
          "yref": "y"
         },
         {
          "font": {
           "color": "#FFFFFF"
          },
          "showarrow": false,
          "text": "-0.73",
          "x": "Cor_J",
          "xref": "x",
          "y": "IPC",
          "yref": "y"
         },
         {
          "font": {
           "color": "#FFFFFF"
          },
          "showarrow": false,
          "text": "-0.22",
          "x": "GFX_J",
          "xref": "x",
          "y": "IPC",
          "yref": "y"
         },
         {
          "font": {
           "color": "#FFFFFF"
          },
          "showarrow": false,
          "text": "-0.79",
          "x": "RAM_J",
          "xref": "x",
          "y": "IPC",
          "yref": "y"
         },
         {
          "font": {
           "color": "#FFFFFF"
          },
          "showarrow": false,
          "text": "0.46",
          "x": "time_elapsed",
          "xref": "x",
          "y": "IRQ",
          "yref": "y"
         },
         {
          "font": {
           "color": "#FFFFFF"
          },
          "showarrow": false,
          "text": "0.13",
          "x": "Avg_MHz",
          "xref": "x",
          "y": "IRQ",
          "yref": "y"
         },
         {
          "font": {
           "color": "#FFFFFF"
          },
          "showarrow": false,
          "text": "0.28",
          "x": "Busy%",
          "xref": "x",
          "y": "IRQ",
          "yref": "y"
         },
         {
          "font": {
           "color": "#FFFFFF"
          },
          "showarrow": false,
          "text": "-0.3",
          "x": "IPC",
          "xref": "x",
          "y": "IRQ",
          "yref": "y"
         },
         {
          "font": {
           "color": "#FFFFFF"
          },
          "showarrow": false,
          "text": "1.0",
          "x": "IRQ",
          "xref": "x",
          "y": "IRQ",
          "yref": "y"
         },
         {
          "font": {
           "color": "#FFFFFF"
          },
          "showarrow": false,
          "text": "0.18",
          "x": "POLL",
          "xref": "x",
          "y": "IRQ",
          "yref": "y"
         },
         {
          "font": {
           "color": "#FFFFFF"
          },
          "showarrow": false,
          "text": "0.23",
          "x": "C1%",
          "xref": "x",
          "y": "IRQ",
          "yref": "y"
         },
         {
          "font": {
           "color": "#FFFFFF"
          },
          "showarrow": false,
          "text": "0.28",
          "x": "C1E%",
          "xref": "x",
          "y": "IRQ",
          "yref": "y"
         },
         {
          "font": {
           "color": "#FFFFFF"
          },
          "showarrow": false,
          "text": "0.36",
          "x": "C3%",
          "xref": "x",
          "y": "IRQ",
          "yref": "y"
         },
         {
          "font": {
           "color": "#FFFFFF"
          },
          "showarrow": false,
          "text": "0.8",
          "x": "C6%",
          "xref": "x",
          "y": "IRQ",
          "yref": "y"
         },
         {
          "font": {
           "color": "#FFFFFF"
          },
          "showarrow": false,
          "text": "0.07",
          "x": "C7s%",
          "xref": "x",
          "y": "IRQ",
          "yref": "y"
         },
         {
          "font": {
           "color": "#FFFFFF"
          },
          "showarrow": false,
          "text": "0.88",
          "x": "C8%",
          "xref": "x",
          "y": "IRQ",
          "yref": "y"
         },
         {
          "font": {
           "color": "#FFFFFF"
          },
          "showarrow": false,
          "text": "0.92",
          "x": "C9%",
          "xref": "x",
          "y": "IRQ",
          "yref": "y"
         },
         {
          "font": {
           "color": "#FFFFFF"
          },
          "showarrow": false,
          "text": "-0.94",
          "x": "C10%",
          "xref": "x",
          "y": "IRQ",
          "yref": "y"
         },
         {
          "font": {
           "color": "#FFFFFF"
          },
          "showarrow": false,
          "text": "0.6",
          "x": "CPU%c1",
          "xref": "x",
          "y": "IRQ",
          "yref": "y"
         },
         {
          "font": {
           "color": "#FFFFFF"
          },
          "showarrow": false,
          "text": "0.33",
          "x": "CPU%c3",
          "xref": "x",
          "y": "IRQ",
          "yref": "y"
         },
         {
          "font": {
           "color": "#FFFFFF"
          },
          "showarrow": false,
          "text": "0.9",
          "x": "CPU%c6",
          "xref": "x",
          "y": "IRQ",
          "yref": "y"
         },
         {
          "font": {
           "color": "#FFFFFF"
          },
          "showarrow": false,
          "text": "-0.56",
          "x": "CPU%c7",
          "xref": "x",
          "y": "IRQ",
          "yref": "y"
         },
         {
          "font": {
           "color": "#FFFFFF"
          },
          "showarrow": false,
          "text": "0.48",
          "x": "CoreTmp",
          "xref": "x",
          "y": "IRQ",
          "yref": "y"
         },
         {
          "font": {
           "color": "#FFFFFF"
          },
          "showarrow": false,
          "text": "0.54",
          "x": "PkgTmp",
          "xref": "x",
          "y": "IRQ",
          "yref": "y"
         },
         {
          "font": {
           "color": "#FFFFFF"
          },
          "showarrow": false,
          "text": "0.1",
          "x": "GFX%rc6",
          "xref": "x",
          "y": "IRQ",
          "yref": "y"
         },
         {
          "font": {
           "color": "#FFFFFF"
          },
          "showarrow": false,
          "text": "-0.03",
          "x": "GFXMHz",
          "xref": "x",
          "y": "IRQ",
          "yref": "y"
         },
         {
          "font": {
           "color": "#FFFFFF"
          },
          "showarrow": false,
          "text": "nan",
          "x": "GFXAMHz",
          "xref": "x",
          "y": "IRQ",
          "yref": "y"
         },
         {
          "font": {
           "color": "#FFFFFF"
          },
          "showarrow": false,
          "text": "0.29",
          "x": "Totl%C0",
          "xref": "x",
          "y": "IRQ",
          "yref": "y"
         },
         {
          "font": {
           "color": "#FFFFFF"
          },
          "showarrow": false,
          "text": "-0.94",
          "x": "Any%C0",
          "xref": "x",
          "y": "IRQ",
          "yref": "y"
         },
         {
          "font": {
           "color": "#FFFFFF"
          },
          "showarrow": false,
          "text": "-0.09",
          "x": "GFX%C0",
          "xref": "x",
          "y": "IRQ",
          "yref": "y"
         },
         {
          "font": {
           "color": "#FFFFFF"
          },
          "showarrow": false,
          "text": "-0.15",
          "x": "CPUGFX%",
          "xref": "x",
          "y": "IRQ",
          "yref": "y"
         },
         {
          "font": {
           "color": "#FFFFFF"
          },
          "showarrow": false,
          "text": "0.35",
          "x": "Pkg_J",
          "xref": "x",
          "y": "IRQ",
          "yref": "y"
         },
         {
          "font": {
           "color": "#FFFFFF"
          },
          "showarrow": false,
          "text": "0.29",
          "x": "Cor_J",
          "xref": "x",
          "y": "IRQ",
          "yref": "y"
         },
         {
          "font": {
           "color": "#FFFFFF"
          },
          "showarrow": false,
          "text": "0.4",
          "x": "GFX_J",
          "xref": "x",
          "y": "IRQ",
          "yref": "y"
         },
         {
          "font": {
           "color": "#FFFFFF"
          },
          "showarrow": false,
          "text": "0.48",
          "x": "RAM_J",
          "xref": "x",
          "y": "IRQ",
          "yref": "y"
         },
         {
          "font": {
           "color": "#FFFFFF"
          },
          "showarrow": false,
          "text": "0.22",
          "x": "time_elapsed",
          "xref": "x",
          "y": "POLL",
          "yref": "y"
         },
         {
          "font": {
           "color": "#FFFFFF"
          },
          "showarrow": false,
          "text": "0.66",
          "x": "Avg_MHz",
          "xref": "x",
          "y": "POLL",
          "yref": "y"
         },
         {
          "font": {
           "color": "#FFFFFF"
          },
          "showarrow": false,
          "text": "0.66",
          "x": "Busy%",
          "xref": "x",
          "y": "POLL",
          "yref": "y"
         },
         {
          "font": {
           "color": "#FFFFFF"
          },
          "showarrow": false,
          "text": "-0.53",
          "x": "IPC",
          "xref": "x",
          "y": "POLL",
          "yref": "y"
         },
         {
          "font": {
           "color": "#FFFFFF"
          },
          "showarrow": false,
          "text": "0.18",
          "x": "IRQ",
          "xref": "x",
          "y": "POLL",
          "yref": "y"
         },
         {
          "font": {
           "color": "#FFFFFF"
          },
          "showarrow": false,
          "text": "1.0",
          "x": "POLL",
          "xref": "x",
          "y": "POLL",
          "yref": "y"
         },
         {
          "font": {
           "color": "#FFFFFF"
          },
          "showarrow": false,
          "text": "0.57",
          "x": "C1%",
          "xref": "x",
          "y": "POLL",
          "yref": "y"
         },
         {
          "font": {
           "color": "#FFFFFF"
          },
          "showarrow": false,
          "text": "0.68",
          "x": "C1E%",
          "xref": "x",
          "y": "POLL",
          "yref": "y"
         },
         {
          "font": {
           "color": "#FFFFFF"
          },
          "showarrow": false,
          "text": "0.65",
          "x": "C3%",
          "xref": "x",
          "y": "POLL",
          "yref": "y"
         },
         {
          "font": {
           "color": "#FFFFFF"
          },
          "showarrow": false,
          "text": "0.51",
          "x": "C6%",
          "xref": "x",
          "y": "POLL",
          "yref": "y"
         },
         {
          "font": {
           "color": "#FFFFFF"
          },
          "showarrow": false,
          "text": "0.45",
          "x": "C7s%",
          "xref": "x",
          "y": "POLL",
          "yref": "y"
         },
         {
          "font": {
           "color": "#FFFFFF"
          },
          "showarrow": false,
          "text": "0.35",
          "x": "C8%",
          "xref": "x",
          "y": "POLL",
          "yref": "y"
         },
         {
          "font": {
           "color": "#FFFFFF"
          },
          "showarrow": false,
          "text": "-0.0",
          "x": "C9%",
          "xref": "x",
          "y": "POLL",
          "yref": "y"
         },
         {
          "font": {
           "color": "#FFFFFF"
          },
          "showarrow": false,
          "text": "-0.29",
          "x": "C10%",
          "xref": "x",
          "y": "POLL",
          "yref": "y"
         },
         {
          "font": {
           "color": "#FFFFFF"
          },
          "showarrow": false,
          "text": "0.6",
          "x": "CPU%c1",
          "xref": "x",
          "y": "POLL",
          "yref": "y"
         },
         {
          "font": {
           "color": "#FFFFFF"
          },
          "showarrow": false,
          "text": "0.63",
          "x": "CPU%c3",
          "xref": "x",
          "y": "POLL",
          "yref": "y"
         },
         {
          "font": {
           "color": "#FFFFFF"
          },
          "showarrow": false,
          "text": "0.26",
          "x": "CPU%c6",
          "xref": "x",
          "y": "POLL",
          "yref": "y"
         },
         {
          "font": {
           "color": "#FFFFFF"
          },
          "showarrow": false,
          "text": "-0.63",
          "x": "CPU%c7",
          "xref": "x",
          "y": "POLL",
          "yref": "y"
         },
         {
          "font": {
           "color": "#FFFFFF"
          },
          "showarrow": false,
          "text": "0.02",
          "x": "CoreTmp",
          "xref": "x",
          "y": "POLL",
          "yref": "y"
         },
         {
          "font": {
           "color": "#FFFFFF"
          },
          "showarrow": false,
          "text": "0.05",
          "x": "PkgTmp",
          "xref": "x",
          "y": "POLL",
          "yref": "y"
         },
         {
          "font": {
           "color": "#FFFFFF"
          },
          "showarrow": false,
          "text": "0.21",
          "x": "GFX%rc6",
          "xref": "x",
          "y": "POLL",
          "yref": "y"
         },
         {
          "font": {
           "color": "#FFFFFF"
          },
          "showarrow": false,
          "text": "-0.03",
          "x": "GFXMHz",
          "xref": "x",
          "y": "POLL",
          "yref": "y"
         },
         {
          "font": {
           "color": "#FFFFFF"
          },
          "showarrow": false,
          "text": "nan",
          "x": "GFXAMHz",
          "xref": "x",
          "y": "POLL",
          "yref": "y"
         },
         {
          "font": {
           "color": "#FFFFFF"
          },
          "showarrow": false,
          "text": "0.65",
          "x": "Totl%C0",
          "xref": "x",
          "y": "POLL",
          "yref": "y"
         },
         {
          "font": {
           "color": "#FFFFFF"
          },
          "showarrow": false,
          "text": "0.01",
          "x": "Any%C0",
          "xref": "x",
          "y": "POLL",
          "yref": "y"
         },
         {
          "font": {
           "color": "#FFFFFF"
          },
          "showarrow": false,
          "text": "-0.1",
          "x": "GFX%C0",
          "xref": "x",
          "y": "POLL",
          "yref": "y"
         },
         {
          "font": {
           "color": "#FFFFFF"
          },
          "showarrow": false,
          "text": "-0.1",
          "x": "CPUGFX%",
          "xref": "x",
          "y": "POLL",
          "yref": "y"
         },
         {
          "font": {
           "color": "#FFFFFF"
          },
          "showarrow": false,
          "text": "0.49",
          "x": "Pkg_J",
          "xref": "x",
          "y": "POLL",
          "yref": "y"
         },
         {
          "font": {
           "color": "#FFFFFF"
          },
          "showarrow": false,
          "text": "0.49",
          "x": "Cor_J",
          "xref": "x",
          "y": "POLL",
          "yref": "y"
         },
         {
          "font": {
           "color": "#FFFFFF"
          },
          "showarrow": false,
          "text": "0.03",
          "x": "GFX_J",
          "xref": "x",
          "y": "POLL",
          "yref": "y"
         },
         {
          "font": {
           "color": "#FFFFFF"
          },
          "showarrow": false,
          "text": "0.44",
          "x": "RAM_J",
          "xref": "x",
          "y": "POLL",
          "yref": "y"
         },
         {
          "font": {
           "color": "#FFFFFF"
          },
          "showarrow": false,
          "text": "0.19",
          "x": "time_elapsed",
          "xref": "x",
          "y": "C1%",
          "yref": "y"
         },
         {
          "font": {
           "color": "#FFFFFF"
          },
          "showarrow": false,
          "text": "0.84",
          "x": "Avg_MHz",
          "xref": "x",
          "y": "C1%",
          "yref": "y"
         },
         {
          "font": {
           "color": "#FFFFFF"
          },
          "showarrow": false,
          "text": "0.91",
          "x": "Busy%",
          "xref": "x",
          "y": "C1%",
          "yref": "y"
         },
         {
          "font": {
           "color": "#FFFFFF"
          },
          "showarrow": false,
          "text": "-0.63",
          "x": "IPC",
          "xref": "x",
          "y": "C1%",
          "yref": "y"
         },
         {
          "font": {
           "color": "#FFFFFF"
          },
          "showarrow": false,
          "text": "0.23",
          "x": "IRQ",
          "xref": "x",
          "y": "C1%",
          "yref": "y"
         },
         {
          "font": {
           "color": "#FFFFFF"
          },
          "showarrow": false,
          "text": "0.57",
          "x": "POLL",
          "xref": "x",
          "y": "C1%",
          "yref": "y"
         },
         {
          "font": {
           "color": "#FFFFFF"
          },
          "showarrow": false,
          "text": "1.0",
          "x": "C1%",
          "xref": "x",
          "y": "C1%",
          "yref": "y"
         },
         {
          "font": {
           "color": "#FFFFFF"
          },
          "showarrow": false,
          "text": "0.79",
          "x": "C1E%",
          "xref": "x",
          "y": "C1%",
          "yref": "y"
         },
         {
          "font": {
           "color": "#FFFFFF"
          },
          "showarrow": false,
          "text": "0.72",
          "x": "C3%",
          "xref": "x",
          "y": "C1%",
          "yref": "y"
         },
         {
          "font": {
           "color": "#FFFFFF"
          },
          "showarrow": false,
          "text": "0.51",
          "x": "C6%",
          "xref": "x",
          "y": "C1%",
          "yref": "y"
         },
         {
          "font": {
           "color": "#FFFFFF"
          },
          "showarrow": false,
          "text": "0.18",
          "x": "C7s%",
          "xref": "x",
          "y": "C1%",
          "yref": "y"
         },
         {
          "font": {
           "color": "#FFFFFF"
          },
          "showarrow": false,
          "text": "0.42",
          "x": "C8%",
          "xref": "x",
          "y": "C1%",
          "yref": "y"
         },
         {
          "font": {
           "color": "#FFFFFF"
          },
          "showarrow": false,
          "text": "0.06",
          "x": "C9%",
          "xref": "x",
          "y": "C1%",
          "yref": "y"
         },
         {
          "font": {
           "color": "#FFFFFF"
          },
          "showarrow": false,
          "text": "-0.41",
          "x": "C10%",
          "xref": "x",
          "y": "C1%",
          "yref": "y"
         },
         {
          "font": {
           "color": "#FFFFFF"
          },
          "showarrow": false,
          "text": "0.86",
          "x": "CPU%c1",
          "xref": "x",
          "y": "C1%",
          "yref": "y"
         },
         {
          "font": {
           "color": "#FFFFFF"
          },
          "showarrow": false,
          "text": "0.67",
          "x": "CPU%c3",
          "xref": "x",
          "y": "C1%",
          "yref": "y"
         },
         {
          "font": {
           "color": "#FFFFFF"
          },
          "showarrow": false,
          "text": "0.2",
          "x": "CPU%c6",
          "xref": "x",
          "y": "C1%",
          "yref": "y"
         },
         {
          "font": {
           "color": "#FFFFFF"
          },
          "showarrow": false,
          "text": "-0.86",
          "x": "CPU%c7",
          "xref": "x",
          "y": "C1%",
          "yref": "y"
         },
         {
          "font": {
           "color": "#FFFFFF"
          },
          "showarrow": false,
          "text": "0.02",
          "x": "CoreTmp",
          "xref": "x",
          "y": "C1%",
          "yref": "y"
         },
         {
          "font": {
           "color": "#FFFFFF"
          },
          "showarrow": false,
          "text": "0.03",
          "x": "PkgTmp",
          "xref": "x",
          "y": "C1%",
          "yref": "y"
         },
         {
          "font": {
           "color": "#FFFFFF"
          },
          "showarrow": false,
          "text": "0.31",
          "x": "GFX%rc6",
          "xref": "x",
          "y": "C1%",
          "yref": "y"
         },
         {
          "font": {
           "color": "#FFFFFF"
          },
          "showarrow": false,
          "text": "-0.03",
          "x": "GFXMHz",
          "xref": "x",
          "y": "C1%",
          "yref": "y"
         },
         {
          "font": {
           "color": "#FFFFFF"
          },
          "showarrow": false,
          "text": "nan",
          "x": "GFXAMHz",
          "xref": "x",
          "y": "C1%",
          "yref": "y"
         },
         {
          "font": {
           "color": "#FFFFFF"
          },
          "showarrow": false,
          "text": "0.91",
          "x": "Totl%C0",
          "xref": "x",
          "y": "C1%",
          "yref": "y"
         },
         {
          "font": {
           "color": "#FFFFFF"
          },
          "showarrow": false,
          "text": "-0.02",
          "x": "Any%C0",
          "xref": "x",
          "y": "C1%",
          "yref": "y"
         },
         {
          "font": {
           "color": "#FFFFFF"
          },
          "showarrow": false,
          "text": "-0.17",
          "x": "GFX%C0",
          "xref": "x",
          "y": "C1%",
          "yref": "y"
         },
         {
          "font": {
           "color": "#FFFFFF"
          },
          "showarrow": false,
          "text": "-0.15",
          "x": "CPUGFX%",
          "xref": "x",
          "y": "C1%",
          "yref": "y"
         },
         {
          "font": {
           "color": "#FFFFFF"
          },
          "showarrow": false,
          "text": "0.45",
          "x": "Pkg_J",
          "xref": "x",
          "y": "C1%",
          "yref": "y"
         },
         {
          "font": {
           "color": "#FFFFFF"
          },
          "showarrow": false,
          "text": "0.45",
          "x": "Cor_J",
          "xref": "x",
          "y": "C1%",
          "yref": "y"
         },
         {
          "font": {
           "color": "#FFFFFF"
          },
          "showarrow": false,
          "text": "-0.01",
          "x": "GFX_J",
          "xref": "x",
          "y": "C1%",
          "yref": "y"
         },
         {
          "font": {
           "color": "#FFFFFF"
          },
          "showarrow": false,
          "text": "0.61",
          "x": "RAM_J",
          "xref": "x",
          "y": "C1%",
          "yref": "y"
         },
         {
          "font": {
           "color": "#FFFFFF"
          },
          "showarrow": false,
          "text": "0.21",
          "x": "time_elapsed",
          "xref": "x",
          "y": "C1E%",
          "yref": "y"
         },
         {
          "font": {
           "color": "#FFFFFF"
          },
          "showarrow": false,
          "text": "0.9",
          "x": "Avg_MHz",
          "xref": "x",
          "y": "C1E%",
          "yref": "y"
         },
         {
          "font": {
           "color": "#FFFFFF"
          },
          "showarrow": false,
          "text": "0.92",
          "x": "Busy%",
          "xref": "x",
          "y": "C1E%",
          "yref": "y"
         },
         {
          "font": {
           "color": "#FFFFFF"
          },
          "showarrow": false,
          "text": "-0.56",
          "x": "IPC",
          "xref": "x",
          "y": "C1E%",
          "yref": "y"
         },
         {
          "font": {
           "color": "#FFFFFF"
          },
          "showarrow": false,
          "text": "0.28",
          "x": "IRQ",
          "xref": "x",
          "y": "C1E%",
          "yref": "y"
         },
         {
          "font": {
           "color": "#FFFFFF"
          },
          "showarrow": false,
          "text": "0.68",
          "x": "POLL",
          "xref": "x",
          "y": "C1E%",
          "yref": "y"
         },
         {
          "font": {
           "color": "#FFFFFF"
          },
          "showarrow": false,
          "text": "0.79",
          "x": "C1%",
          "xref": "x",
          "y": "C1E%",
          "yref": "y"
         },
         {
          "font": {
           "color": "#FFFFFF"
          },
          "showarrow": false,
          "text": "1.0",
          "x": "C1E%",
          "xref": "x",
          "y": "C1E%",
          "yref": "y"
         },
         {
          "font": {
           "color": "#FFFFFF"
          },
          "showarrow": false,
          "text": "0.93",
          "x": "C3%",
          "xref": "x",
          "y": "C1E%",
          "yref": "y"
         },
         {
          "font": {
           "color": "#FFFFFF"
          },
          "showarrow": false,
          "text": "0.69",
          "x": "C6%",
          "xref": "x",
          "y": "C1E%",
          "yref": "y"
         },
         {
          "font": {
           "color": "#FFFFFF"
          },
          "showarrow": false,
          "text": "0.31",
          "x": "C7s%",
          "xref": "x",
          "y": "C1E%",
          "yref": "y"
         },
         {
          "font": {
           "color": "#FFFFFF"
          },
          "showarrow": false,
          "text": "0.48",
          "x": "C8%",
          "xref": "x",
          "y": "C1E%",
          "yref": "y"
         },
         {
          "font": {
           "color": "#FFFFFF"
          },
          "showarrow": false,
          "text": "0.06",
          "x": "C9%",
          "xref": "x",
          "y": "C1E%",
          "yref": "y"
         },
         {
          "font": {
           "color": "#FFFFFF"
          },
          "showarrow": false,
          "text": "-0.44",
          "x": "C10%",
          "xref": "x",
          "y": "C1E%",
          "yref": "y"
         },
         {
          "font": {
           "color": "#FFFFFF"
          },
          "showarrow": false,
          "text": "0.87",
          "x": "CPU%c1",
          "xref": "x",
          "y": "C1E%",
          "yref": "y"
         },
         {
          "font": {
           "color": "#FFFFFF"
          },
          "showarrow": false,
          "text": "0.9",
          "x": "CPU%c3",
          "xref": "x",
          "y": "C1E%",
          "yref": "y"
         },
         {
          "font": {
           "color": "#FFFFFF"
          },
          "showarrow": false,
          "text": "0.34",
          "x": "CPU%c6",
          "xref": "x",
          "y": "C1E%",
          "yref": "y"
         },
         {
          "font": {
           "color": "#FFFFFF"
          },
          "showarrow": false,
          "text": "-0.9",
          "x": "CPU%c7",
          "xref": "x",
          "y": "C1E%",
          "yref": "y"
         },
         {
          "font": {
           "color": "#FFFFFF"
          },
          "showarrow": false,
          "text": "0.07",
          "x": "CoreTmp",
          "xref": "x",
          "y": "C1E%",
          "yref": "y"
         },
         {
          "font": {
           "color": "#FFFFFF"
          },
          "showarrow": false,
          "text": "0.09",
          "x": "PkgTmp",
          "xref": "x",
          "y": "C1E%",
          "yref": "y"
         },
         {
          "font": {
           "color": "#FFFFFF"
          },
          "showarrow": false,
          "text": "0.24",
          "x": "GFX%rc6",
          "xref": "x",
          "y": "C1E%",
          "yref": "y"
         },
         {
          "font": {
           "color": "#FFFFFF"
          },
          "showarrow": false,
          "text": "-0.03",
          "x": "GFXMHz",
          "xref": "x",
          "y": "C1E%",
          "yref": "y"
         },
         {
          "font": {
           "color": "#FFFFFF"
          },
          "showarrow": false,
          "text": "nan",
          "x": "GFXAMHz",
          "xref": "x",
          "y": "C1E%",
          "yref": "y"
         },
         {
          "font": {
           "color": "#FFFFFF"
          },
          "showarrow": false,
          "text": "0.92",
          "x": "Totl%C0",
          "xref": "x",
          "y": "C1E%",
          "yref": "y"
         },
         {
          "font": {
           "color": "#FFFFFF"
          },
          "showarrow": false,
          "text": "-0.03",
          "x": "Any%C0",
          "xref": "x",
          "y": "C1E%",
          "yref": "y"
         },
         {
          "font": {
           "color": "#FFFFFF"
          },
          "showarrow": false,
          "text": "-0.05",
          "x": "GFX%C0",
          "xref": "x",
          "y": "C1E%",
          "yref": "y"
         },
         {
          "font": {
           "color": "#FFFFFF"
          },
          "showarrow": false,
          "text": "-0.04",
          "x": "CPUGFX%",
          "xref": "x",
          "y": "C1E%",
          "yref": "y"
         },
         {
          "font": {
           "color": "#FFFFFF"
          },
          "showarrow": false,
          "text": "0.54",
          "x": "Pkg_J",
          "xref": "x",
          "y": "C1E%",
          "yref": "y"
         },
         {
          "font": {
           "color": "#FFFFFF"
          },
          "showarrow": false,
          "text": "0.54",
          "x": "Cor_J",
          "xref": "x",
          "y": "C1E%",
          "yref": "y"
         },
         {
          "font": {
           "color": "#FFFFFF"
          },
          "showarrow": false,
          "text": "0.11",
          "x": "GFX_J",
          "xref": "x",
          "y": "C1E%",
          "yref": "y"
         },
         {
          "font": {
           "color": "#FFFFFF"
          },
          "showarrow": false,
          "text": "0.57",
          "x": "RAM_J",
          "xref": "x",
          "y": "C1E%",
          "yref": "y"
         },
         {
          "font": {
           "color": "#FFFFFF"
          },
          "showarrow": false,
          "text": "0.21",
          "x": "time_elapsed",
          "xref": "x",
          "y": "C3%",
          "yref": "y"
         },
         {
          "font": {
           "color": "#FFFFFF"
          },
          "showarrow": false,
          "text": "0.86",
          "x": "Avg_MHz",
          "xref": "x",
          "y": "C3%",
          "yref": "y"
         },
         {
          "font": {
           "color": "#FFFFFF"
          },
          "showarrow": false,
          "text": "0.89",
          "x": "Busy%",
          "xref": "x",
          "y": "C3%",
          "yref": "y"
         },
         {
          "font": {
           "color": "#FFFFFF"
          },
          "showarrow": false,
          "text": "-0.53",
          "x": "IPC",
          "xref": "x",
          "y": "C3%",
          "yref": "y"
         },
         {
          "font": {
           "color": "#FFFFFF"
          },
          "showarrow": false,
          "text": "0.36",
          "x": "IRQ",
          "xref": "x",
          "y": "C3%",
          "yref": "y"
         },
         {
          "font": {
           "color": "#FFFFFF"
          },
          "showarrow": false,
          "text": "0.65",
          "x": "POLL",
          "xref": "x",
          "y": "C3%",
          "yref": "y"
         },
         {
          "font": {
           "color": "#FFFFFF"
          },
          "showarrow": false,
          "text": "0.72",
          "x": "C1%",
          "xref": "x",
          "y": "C3%",
          "yref": "y"
         },
         {
          "font": {
           "color": "#FFFFFF"
          },
          "showarrow": false,
          "text": "0.93",
          "x": "C1E%",
          "xref": "x",
          "y": "C3%",
          "yref": "y"
         },
         {
          "font": {
           "color": "#FFFFFF"
          },
          "showarrow": false,
          "text": "1.0",
          "x": "C3%",
          "xref": "x",
          "y": "C3%",
          "yref": "y"
         },
         {
          "font": {
           "color": "#FFFFFF"
          },
          "showarrow": false,
          "text": "0.75",
          "x": "C6%",
          "xref": "x",
          "y": "C3%",
          "yref": "y"
         },
         {
          "font": {
           "color": "#FFFFFF"
          },
          "showarrow": false,
          "text": "0.32",
          "x": "C7s%",
          "xref": "x",
          "y": "C3%",
          "yref": "y"
         },
         {
          "font": {
           "color": "#FFFFFF"
          },
          "showarrow": false,
          "text": "0.52",
          "x": "C8%",
          "xref": "x",
          "y": "C3%",
          "yref": "y"
         },
         {
          "font": {
           "color": "#FFFFFF"
          },
          "showarrow": false,
          "text": "0.13",
          "x": "C9%",
          "xref": "x",
          "y": "C3%",
          "yref": "y"
         },
         {
          "font": {
           "color": "#FFFFFF"
          },
          "showarrow": false,
          "text": "-0.49",
          "x": "C10%",
          "xref": "x",
          "y": "C3%",
          "yref": "y"
         },
         {
          "font": {
           "color": "#FFFFFF"
          },
          "showarrow": false,
          "text": "0.85",
          "x": "CPU%c1",
          "xref": "x",
          "y": "C3%",
          "yref": "y"
         },
         {
          "font": {
           "color": "#FFFFFF"
          },
          "showarrow": false,
          "text": "0.97",
          "x": "CPU%c3",
          "xref": "x",
          "y": "C3%",
          "yref": "y"
         },
         {
          "font": {
           "color": "#FFFFFF"
          },
          "showarrow": false,
          "text": "0.41",
          "x": "CPU%c6",
          "xref": "x",
          "y": "C3%",
          "yref": "y"
         },
         {
          "font": {
           "color": "#FFFFFF"
          },
          "showarrow": false,
          "text": "-0.88",
          "x": "CPU%c7",
          "xref": "x",
          "y": "C3%",
          "yref": "y"
         },
         {
          "font": {
           "color": "#FFFFFF"
          },
          "showarrow": false,
          "text": "0.13",
          "x": "CoreTmp",
          "xref": "x",
          "y": "C3%",
          "yref": "y"
         },
         {
          "font": {
           "color": "#FFFFFF"
          },
          "showarrow": false,
          "text": "0.16",
          "x": "PkgTmp",
          "xref": "x",
          "y": "C3%",
          "yref": "y"
         },
         {
          "font": {
           "color": "#FFFFFF"
          },
          "showarrow": false,
          "text": "0.17",
          "x": "GFX%rc6",
          "xref": "x",
          "y": "C3%",
          "yref": "y"
         },
         {
          "font": {
           "color": "#FFFFFF"
          },
          "showarrow": false,
          "text": "-0.04",
          "x": "GFXMHz",
          "xref": "x",
          "y": "C3%",
          "yref": "y"
         },
         {
          "font": {
           "color": "#FFFFFF"
          },
          "showarrow": false,
          "text": "nan",
          "x": "GFXAMHz",
          "xref": "x",
          "y": "C3%",
          "yref": "y"
         },
         {
          "font": {
           "color": "#FFFFFF"
          },
          "showarrow": false,
          "text": "0.89",
          "x": "Totl%C0",
          "xref": "x",
          "y": "C3%",
          "yref": "y"
         },
         {
          "font": {
           "color": "#FFFFFF"
          },
          "showarrow": false,
          "text": "-0.1",
          "x": "Any%C0",
          "xref": "x",
          "y": "C3%",
          "yref": "y"
         },
         {
          "font": {
           "color": "#FFFFFF"
          },
          "showarrow": false,
          "text": "-0.01",
          "x": "GFX%C0",
          "xref": "x",
          "y": "C3%",
          "yref": "y"
         },
         {
          "font": {
           "color": "#FFFFFF"
          },
          "showarrow": false,
          "text": "0.0",
          "x": "CPUGFX%",
          "xref": "x",
          "y": "C3%",
          "yref": "y"
         },
         {
          "font": {
           "color": "#FFFFFF"
          },
          "showarrow": false,
          "text": "0.54",
          "x": "Pkg_J",
          "xref": "x",
          "y": "C3%",
          "yref": "y"
         },
         {
          "font": {
           "color": "#FFFFFF"
          },
          "showarrow": false,
          "text": "0.54",
          "x": "Cor_J",
          "xref": "x",
          "y": "C3%",
          "yref": "y"
         },
         {
          "font": {
           "color": "#FFFFFF"
          },
          "showarrow": false,
          "text": "0.17",
          "x": "GFX_J",
          "xref": "x",
          "y": "C3%",
          "yref": "y"
         },
         {
          "font": {
           "color": "#FFFFFF"
          },
          "showarrow": false,
          "text": "0.54",
          "x": "RAM_J",
          "xref": "x",
          "y": "C3%",
          "yref": "y"
         },
         {
          "font": {
           "color": "#FFFFFF"
          },
          "showarrow": false,
          "text": "0.33",
          "x": "time_elapsed",
          "xref": "x",
          "y": "C6%",
          "yref": "y"
         },
         {
          "font": {
           "color": "#FFFFFF"
          },
          "showarrow": false,
          "text": "0.56",
          "x": "Avg_MHz",
          "xref": "x",
          "y": "C6%",
          "yref": "y"
         },
         {
          "font": {
           "color": "#FFFFFF"
          },
          "showarrow": false,
          "text": "0.66",
          "x": "Busy%",
          "xref": "x",
          "y": "C6%",
          "yref": "y"
         },
         {
          "font": {
           "color": "#FFFFFF"
          },
          "showarrow": false,
          "text": "-0.44",
          "x": "IPC",
          "xref": "x",
          "y": "C6%",
          "yref": "y"
         },
         {
          "font": {
           "color": "#FFFFFF"
          },
          "showarrow": false,
          "text": "0.8",
          "x": "IRQ",
          "xref": "x",
          "y": "C6%",
          "yref": "y"
         },
         {
          "font": {
           "color": "#FFFFFF"
          },
          "showarrow": false,
          "text": "0.51",
          "x": "POLL",
          "xref": "x",
          "y": "C6%",
          "yref": "y"
         },
         {
          "font": {
           "color": "#FFFFFF"
          },
          "showarrow": false,
          "text": "0.51",
          "x": "C1%",
          "xref": "x",
          "y": "C6%",
          "yref": "y"
         },
         {
          "font": {
           "color": "#FFFFFF"
          },
          "showarrow": false,
          "text": "0.69",
          "x": "C1E%",
          "xref": "x",
          "y": "C6%",
          "yref": "y"
         },
         {
          "font": {
           "color": "#FFFFFF"
          },
          "showarrow": false,
          "text": "0.75",
          "x": "C3%",
          "xref": "x",
          "y": "C6%",
          "yref": "y"
         },
         {
          "font": {
           "color": "#FFFFFF"
          },
          "showarrow": false,
          "text": "1.0",
          "x": "C6%",
          "xref": "x",
          "y": "C6%",
          "yref": "y"
         },
         {
          "font": {
           "color": "#FFFFFF"
          },
          "showarrow": false,
          "text": "0.24",
          "x": "C7s%",
          "xref": "x",
          "y": "C6%",
          "yref": "y"
         },
         {
          "font": {
           "color": "#FFFFFF"
          },
          "showarrow": false,
          "text": "0.83",
          "x": "C8%",
          "xref": "x",
          "y": "C6%",
          "yref": "y"
         },
         {
          "font": {
           "color": "#FFFFFF"
          },
          "showarrow": false,
          "text": "0.62",
          "x": "C9%",
          "xref": "x",
          "y": "C6%",
          "yref": "y"
         },
         {
          "font": {
           "color": "#FFFFFF"
          },
          "showarrow": false,
          "text": "-0.85",
          "x": "C10%",
          "xref": "x",
          "y": "C6%",
          "yref": "y"
         },
         {
          "font": {
           "color": "#FFFFFF"
          },
          "showarrow": false,
          "text": "0.83",
          "x": "CPU%c1",
          "xref": "x",
          "y": "C6%",
          "yref": "y"
         },
         {
          "font": {
           "color": "#FFFFFF"
          },
          "showarrow": false,
          "text": "0.72",
          "x": "CPU%c3",
          "xref": "x",
          "y": "C6%",
          "yref": "y"
         },
         {
          "font": {
           "color": "#FFFFFF"
          },
          "showarrow": false,
          "text": "0.89",
          "x": "CPU%c6",
          "xref": "x",
          "y": "C6%",
          "yref": "y"
         },
         {
          "font": {
           "color": "#FFFFFF"
          },
          "showarrow": false,
          "text": "-0.84",
          "x": "CPU%c7",
          "xref": "x",
          "y": "C6%",
          "yref": "y"
         },
         {
          "font": {
           "color": "#FFFFFF"
          },
          "showarrow": false,
          "text": "0.34",
          "x": "CoreTmp",
          "xref": "x",
          "y": "C6%",
          "yref": "y"
         },
         {
          "font": {
           "color": "#FFFFFF"
          },
          "showarrow": false,
          "text": "0.4",
          "x": "PkgTmp",
          "xref": "x",
          "y": "C6%",
          "yref": "y"
         },
         {
          "font": {
           "color": "#FFFFFF"
          },
          "showarrow": false,
          "text": "0.14",
          "x": "GFX%rc6",
          "xref": "x",
          "y": "C6%",
          "yref": "y"
         },
         {
          "font": {
           "color": "#FFFFFF"
          },
          "showarrow": false,
          "text": "-0.07",
          "x": "GFXMHz",
          "xref": "x",
          "y": "C6%",
          "yref": "y"
         },
         {
          "font": {
           "color": "#FFFFFF"
          },
          "showarrow": false,
          "text": "nan",
          "x": "GFXAMHz",
          "xref": "x",
          "y": "C6%",
          "yref": "y"
         },
         {
          "font": {
           "color": "#FFFFFF"
          },
          "showarrow": false,
          "text": "0.67",
          "x": "Totl%C0",
          "xref": "x",
          "y": "C6%",
          "yref": "y"
         },
         {
          "font": {
           "color": "#FFFFFF"
          },
          "showarrow": false,
          "text": "-0.63",
          "x": "Any%C0",
          "xref": "x",
          "y": "C6%",
          "yref": "y"
         },
         {
          "font": {
           "color": "#FFFFFF"
          },
          "showarrow": false,
          "text": "0.01",
          "x": "GFX%C0",
          "xref": "x",
          "y": "C6%",
          "yref": "y"
         },
         {
          "font": {
           "color": "#FFFFFF"
          },
          "showarrow": false,
          "text": "-0.02",
          "x": "CPUGFX%",
          "xref": "x",
          "y": "C6%",
          "yref": "y"
         },
         {
          "font": {
           "color": "#FFFFFF"
          },
          "showarrow": false,
          "text": "0.48",
          "x": "Pkg_J",
          "xref": "x",
          "y": "C6%",
          "yref": "y"
         },
         {
          "font": {
           "color": "#FFFFFF"
          },
          "showarrow": false,
          "text": "0.45",
          "x": "Cor_J",
          "xref": "x",
          "y": "C6%",
          "yref": "y"
         },
         {
          "font": {
           "color": "#FFFFFF"
          },
          "showarrow": false,
          "text": "0.34",
          "x": "GFX_J",
          "xref": "x",
          "y": "C6%",
          "yref": "y"
         },
         {
          "font": {
           "color": "#FFFFFF"
          },
          "showarrow": false,
          "text": "0.54",
          "x": "RAM_J",
          "xref": "x",
          "y": "C6%",
          "yref": "y"
         },
         {
          "font": {
           "color": "#FFFFFF"
          },
          "showarrow": false,
          "text": "0.02",
          "x": "time_elapsed",
          "xref": "x",
          "y": "C7s%",
          "yref": "y"
         },
         {
          "font": {
           "color": "#FFFFFF"
          },
          "showarrow": false,
          "text": "0.3",
          "x": "Avg_MHz",
          "xref": "x",
          "y": "C7s%",
          "yref": "y"
         },
         {
          "font": {
           "color": "#FFFFFF"
          },
          "showarrow": false,
          "text": "0.28",
          "x": "Busy%",
          "xref": "x",
          "y": "C7s%",
          "yref": "y"
         },
         {
          "font": {
           "color": "#FFFFFF"
          },
          "showarrow": false,
          "text": "-0.22",
          "x": "IPC",
          "xref": "x",
          "y": "C7s%",
          "yref": "y"
         },
         {
          "font": {
           "color": "#FFFFFF"
          },
          "showarrow": false,
          "text": "0.07",
          "x": "IRQ",
          "xref": "x",
          "y": "C7s%",
          "yref": "y"
         },
         {
          "font": {
           "color": "#FFFFFF"
          },
          "showarrow": false,
          "text": "0.45",
          "x": "POLL",
          "xref": "x",
          "y": "C7s%",
          "yref": "y"
         },
         {
          "font": {
           "color": "#FFFFFF"
          },
          "showarrow": false,
          "text": "0.18",
          "x": "C1%",
          "xref": "x",
          "y": "C7s%",
          "yref": "y"
         },
         {
          "font": {
           "color": "#FFFFFF"
          },
          "showarrow": false,
          "text": "0.31",
          "x": "C1E%",
          "xref": "x",
          "y": "C7s%",
          "yref": "y"
         },
         {
          "font": {
           "color": "#FFFFFF"
          },
          "showarrow": false,
          "text": "0.32",
          "x": "C3%",
          "xref": "x",
          "y": "C7s%",
          "yref": "y"
         },
         {
          "font": {
           "color": "#FFFFFF"
          },
          "showarrow": false,
          "text": "0.24",
          "x": "C6%",
          "xref": "x",
          "y": "C7s%",
          "yref": "y"
         },
         {
          "font": {
           "color": "#FFFFFF"
          },
          "showarrow": false,
          "text": "1.0",
          "x": "C7s%",
          "xref": "x",
          "y": "C7s%",
          "yref": "y"
         },
         {
          "font": {
           "color": "#FFFFFF"
          },
          "showarrow": false,
          "text": "0.08",
          "x": "C8%",
          "xref": "x",
          "y": "C7s%",
          "yref": "y"
         },
         {
          "font": {
           "color": "#FFFFFF"
          },
          "showarrow": false,
          "text": "-0.01",
          "x": "C9%",
          "xref": "x",
          "y": "C7s%",
          "yref": "y"
         },
         {
          "font": {
           "color": "#FFFFFF"
          },
          "showarrow": false,
          "text": "-0.1",
          "x": "C10%",
          "xref": "x",
          "y": "C7s%",
          "yref": "y"
         },
         {
          "font": {
           "color": "#FFFFFF"
          },
          "showarrow": false,
          "text": "0.24",
          "x": "CPU%c1",
          "xref": "x",
          "y": "C7s%",
          "yref": "y"
         },
         {
          "font": {
           "color": "#FFFFFF"
          },
          "showarrow": false,
          "text": "0.3",
          "x": "CPU%c3",
          "xref": "x",
          "y": "C7s%",
          "yref": "y"
         },
         {
          "font": {
           "color": "#FFFFFF"
          },
          "showarrow": false,
          "text": "0.13",
          "x": "CPU%c6",
          "xref": "x",
          "y": "C7s%",
          "yref": "y"
         },
         {
          "font": {
           "color": "#FFFFFF"
          },
          "showarrow": false,
          "text": "-0.26",
          "x": "CPU%c7",
          "xref": "x",
          "y": "C7s%",
          "yref": "y"
         },
         {
          "font": {
           "color": "#FFFFFF"
          },
          "showarrow": false,
          "text": "-0.02",
          "x": "CoreTmp",
          "xref": "x",
          "y": "C7s%",
          "yref": "y"
         },
         {
          "font": {
           "color": "#FFFFFF"
          },
          "showarrow": false,
          "text": "-0.01",
          "x": "PkgTmp",
          "xref": "x",
          "y": "C7s%",
          "yref": "y"
         },
         {
          "font": {
           "color": "#FFFFFF"
          },
          "showarrow": false,
          "text": "0.14",
          "x": "GFX%rc6",
          "xref": "x",
          "y": "C7s%",
          "yref": "y"
         },
         {
          "font": {
           "color": "#FFFFFF"
          },
          "showarrow": false,
          "text": "-0.05",
          "x": "GFXMHz",
          "xref": "x",
          "y": "C7s%",
          "yref": "y"
         },
         {
          "font": {
           "color": "#FFFFFF"
          },
          "showarrow": false,
          "text": "nan",
          "x": "GFXAMHz",
          "xref": "x",
          "y": "C7s%",
          "yref": "y"
         },
         {
          "font": {
           "color": "#FFFFFF"
          },
          "showarrow": false,
          "text": "0.28",
          "x": "Totl%C0",
          "xref": "x",
          "y": "C7s%",
          "yref": "y"
         },
         {
          "font": {
           "color": "#FFFFFF"
          },
          "showarrow": false,
          "text": "0.02",
          "x": "Any%C0",
          "xref": "x",
          "y": "C7s%",
          "yref": "y"
         },
         {
          "font": {
           "color": "#FFFFFF"
          },
          "showarrow": false,
          "text": "-0.04",
          "x": "GFX%C0",
          "xref": "x",
          "y": "C7s%",
          "yref": "y"
         },
         {
          "font": {
           "color": "#FFFFFF"
          },
          "showarrow": false,
          "text": "-0.04",
          "x": "CPUGFX%",
          "xref": "x",
          "y": "C7s%",
          "yref": "y"
         },
         {
          "font": {
           "color": "#FFFFFF"
          },
          "showarrow": false,
          "text": "0.2",
          "x": "Pkg_J",
          "xref": "x",
          "y": "C7s%",
          "yref": "y"
         },
         {
          "font": {
           "color": "#FFFFFF"
          },
          "showarrow": false,
          "text": "0.2",
          "x": "Cor_J",
          "xref": "x",
          "y": "C7s%",
          "yref": "y"
         },
         {
          "font": {
           "color": "#FFFFFF"
          },
          "showarrow": false,
          "text": "-0.06",
          "x": "GFX_J",
          "xref": "x",
          "y": "C7s%",
          "yref": "y"
         },
         {
          "font": {
           "color": "#FFFFFF"
          },
          "showarrow": false,
          "text": "0.13",
          "x": "RAM_J",
          "xref": "x",
          "y": "C7s%",
          "yref": "y"
         },
         {
          "font": {
           "color": "#FFFFFF"
          },
          "showarrow": false,
          "text": "0.33",
          "x": "time_elapsed",
          "xref": "x",
          "y": "C8%",
          "yref": "y"
         },
         {
          "font": {
           "color": "#FFFFFF"
          },
          "showarrow": false,
          "text": "0.31",
          "x": "Avg_MHz",
          "xref": "x",
          "y": "C8%",
          "yref": "y"
         },
         {
          "font": {
           "color": "#FFFFFF"
          },
          "showarrow": false,
          "text": "0.47",
          "x": "Busy%",
          "xref": "x",
          "y": "C8%",
          "yref": "y"
         },
         {
          "font": {
           "color": "#FFFFFF"
          },
          "showarrow": false,
          "text": "-0.34",
          "x": "IPC",
          "xref": "x",
          "y": "C8%",
          "yref": "y"
         },
         {
          "font": {
           "color": "#FFFFFF"
          },
          "showarrow": false,
          "text": "0.88",
          "x": "IRQ",
          "xref": "x",
          "y": "C8%",
          "yref": "y"
         },
         {
          "font": {
           "color": "#FFFFFF"
          },
          "showarrow": false,
          "text": "0.35",
          "x": "POLL",
          "xref": "x",
          "y": "C8%",
          "yref": "y"
         },
         {
          "font": {
           "color": "#FFFFFF"
          },
          "showarrow": false,
          "text": "0.42",
          "x": "C1%",
          "xref": "x",
          "y": "C8%",
          "yref": "y"
         },
         {
          "font": {
           "color": "#FFFFFF"
          },
          "showarrow": false,
          "text": "0.48",
          "x": "C1E%",
          "xref": "x",
          "y": "C8%",
          "yref": "y"
         },
         {
          "font": {
           "color": "#FFFFFF"
          },
          "showarrow": false,
          "text": "0.52",
          "x": "C3%",
          "xref": "x",
          "y": "C8%",
          "yref": "y"
         },
         {
          "font": {
           "color": "#FFFFFF"
          },
          "showarrow": false,
          "text": "0.83",
          "x": "C6%",
          "xref": "x",
          "y": "C8%",
          "yref": "y"
         },
         {
          "font": {
           "color": "#FFFFFF"
          },
          "showarrow": false,
          "text": "0.08",
          "x": "C7s%",
          "xref": "x",
          "y": "C8%",
          "yref": "y"
         },
         {
          "font": {
           "color": "#FFFFFF"
          },
          "showarrow": false,
          "text": "1.0",
          "x": "C8%",
          "xref": "x",
          "y": "C8%",
          "yref": "y"
         },
         {
          "font": {
           "color": "#FFFFFF"
          },
          "showarrow": false,
          "text": "0.78",
          "x": "C9%",
          "xref": "x",
          "y": "C8%",
          "yref": "y"
         },
         {
          "font": {
           "color": "#FFFFFF"
          },
          "showarrow": false,
          "text": "-0.95",
          "x": "C10%",
          "xref": "x",
          "y": "C8%",
          "yref": "y"
         },
         {
          "font": {
           "color": "#FFFFFF"
          },
          "showarrow": false,
          "text": "0.72",
          "x": "CPU%c1",
          "xref": "x",
          "y": "C8%",
          "yref": "y"
         },
         {
          "font": {
           "color": "#FFFFFF"
          },
          "showarrow": false,
          "text": "0.5",
          "x": "CPU%c3",
          "xref": "x",
          "y": "C8%",
          "yref": "y"
         },
         {
          "font": {
           "color": "#FFFFFF"
          },
          "showarrow": false,
          "text": "0.83",
          "x": "CPU%c6",
          "xref": "x",
          "y": "C8%",
          "yref": "y"
         },
         {
          "font": {
           "color": "#FFFFFF"
          },
          "showarrow": false,
          "text": "-0.69",
          "x": "CPU%c7",
          "xref": "x",
          "y": "C8%",
          "yref": "y"
         },
         {
          "font": {
           "color": "#FFFFFF"
          },
          "showarrow": false,
          "text": "0.44",
          "x": "CoreTmp",
          "xref": "x",
          "y": "C8%",
          "yref": "y"
         },
         {
          "font": {
           "color": "#FFFFFF"
          },
          "showarrow": false,
          "text": "0.48",
          "x": "PkgTmp",
          "xref": "x",
          "y": "C8%",
          "yref": "y"
         },
         {
          "font": {
           "color": "#FFFFFF"
          },
          "showarrow": false,
          "text": "0.08",
          "x": "GFX%rc6",
          "xref": "x",
          "y": "C8%",
          "yref": "y"
         },
         {
          "font": {
           "color": "#FFFFFF"
          },
          "showarrow": false,
          "text": "-0.1",
          "x": "GFXMHz",
          "xref": "x",
          "y": "C8%",
          "yref": "y"
         },
         {
          "font": {
           "color": "#FFFFFF"
          },
          "showarrow": false,
          "text": "nan",
          "x": "GFXAMHz",
          "xref": "x",
          "y": "C8%",
          "yref": "y"
         },
         {
          "font": {
           "color": "#FFFFFF"
          },
          "showarrow": false,
          "text": "0.48",
          "x": "Totl%C0",
          "xref": "x",
          "y": "C8%",
          "yref": "y"
         },
         {
          "font": {
           "color": "#FFFFFF"
          },
          "showarrow": false,
          "text": "-0.78",
          "x": "Any%C0",
          "xref": "x",
          "y": "C8%",
          "yref": "y"
         },
         {
          "font": {
           "color": "#FFFFFF"
          },
          "showarrow": false,
          "text": "0.02",
          "x": "GFX%C0",
          "xref": "x",
          "y": "C8%",
          "yref": "y"
         },
         {
          "font": {
           "color": "#FFFFFF"
          },
          "showarrow": false,
          "text": "-0.02",
          "x": "CPUGFX%",
          "xref": "x",
          "y": "C8%",
          "yref": "y"
         },
         {
          "font": {
           "color": "#FFFFFF"
          },
          "showarrow": false,
          "text": "0.32",
          "x": "Pkg_J",
          "xref": "x",
          "y": "C8%",
          "yref": "y"
         },
         {
          "font": {
           "color": "#FFFFFF"
          },
          "showarrow": false,
          "text": "0.28",
          "x": "Cor_J",
          "xref": "x",
          "y": "C8%",
          "yref": "y"
         },
         {
          "font": {
           "color": "#FFFFFF"
          },
          "showarrow": false,
          "text": "0.36",
          "x": "GFX_J",
          "xref": "x",
          "y": "C8%",
          "yref": "y"
         },
         {
          "font": {
           "color": "#FFFFFF"
          },
          "showarrow": false,
          "text": "0.49",
          "x": "RAM_J",
          "xref": "x",
          "y": "C8%",
          "yref": "y"
         },
         {
          "font": {
           "color": "#FFFFFF"
          },
          "showarrow": false,
          "text": "0.38",
          "x": "time_elapsed",
          "xref": "x",
          "y": "C9%",
          "yref": "y"
         },
         {
          "font": {
           "color": "#FFFFFF"
          },
          "showarrow": false,
          "text": "-0.09",
          "x": "Avg_MHz",
          "xref": "x",
          "y": "C9%",
          "yref": "y"
         },
         {
          "font": {
           "color": "#FFFFFF"
          },
          "showarrow": false,
          "text": "0.07",
          "x": "Busy%",
          "xref": "x",
          "y": "C9%",
          "yref": "y"
         },
         {
          "font": {
           "color": "#FFFFFF"
          },
          "showarrow": false,
          "text": "-0.14",
          "x": "IPC",
          "xref": "x",
          "y": "C9%",
          "yref": "y"
         },
         {
          "font": {
           "color": "#FFFFFF"
          },
          "showarrow": false,
          "text": "0.92",
          "x": "IRQ",
          "xref": "x",
          "y": "C9%",
          "yref": "y"
         },
         {
          "font": {
           "color": "#FFFFFF"
          },
          "showarrow": false,
          "text": "-0.0",
          "x": "POLL",
          "xref": "x",
          "y": "C9%",
          "yref": "y"
         },
         {
          "font": {
           "color": "#FFFFFF"
          },
          "showarrow": false,
          "text": "0.06",
          "x": "C1%",
          "xref": "x",
          "y": "C9%",
          "yref": "y"
         },
         {
          "font": {
           "color": "#FFFFFF"
          },
          "showarrow": false,
          "text": "0.06",
          "x": "C1E%",
          "xref": "x",
          "y": "C9%",
          "yref": "y"
         },
         {
          "font": {
           "color": "#FFFFFF"
          },
          "showarrow": false,
          "text": "0.13",
          "x": "C3%",
          "xref": "x",
          "y": "C9%",
          "yref": "y"
         },
         {
          "font": {
           "color": "#FFFFFF"
          },
          "showarrow": false,
          "text": "0.62",
          "x": "C6%",
          "xref": "x",
          "y": "C9%",
          "yref": "y"
         },
         {
          "font": {
           "color": "#FFFFFF"
          },
          "showarrow": false,
          "text": "-0.01",
          "x": "C7s%",
          "xref": "x",
          "y": "C9%",
          "yref": "y"
         },
         {
          "font": {
           "color": "#FFFFFF"
          },
          "showarrow": false,
          "text": "0.78",
          "x": "C8%",
          "xref": "x",
          "y": "C9%",
          "yref": "y"
         },
         {
          "font": {
           "color": "#FFFFFF"
          },
          "showarrow": false,
          "text": "1.0",
          "x": "C9%",
          "xref": "x",
          "y": "C9%",
          "yref": "y"
         },
         {
          "font": {
           "color": "#FFFFFF"
          },
          "showarrow": false,
          "text": "-0.9",
          "x": "C10%",
          "xref": "x",
          "y": "C9%",
          "yref": "y"
         },
         {
          "font": {
           "color": "#FFFFFF"
          },
          "showarrow": false,
          "text": "0.4",
          "x": "CPU%c1",
          "xref": "x",
          "y": "C9%",
          "yref": "y"
         },
         {
          "font": {
           "color": "#FFFFFF"
          },
          "showarrow": false,
          "text": "0.11",
          "x": "CPU%c3",
          "xref": "x",
          "y": "C9%",
          "yref": "y"
         },
         {
          "font": {
           "color": "#FFFFFF"
          },
          "showarrow": false,
          "text": "0.8",
          "x": "CPU%c6",
          "xref": "x",
          "y": "C9%",
          "yref": "y"
         },
         {
          "font": {
           "color": "#FFFFFF"
          },
          "showarrow": false,
          "text": "-0.35",
          "x": "CPU%c7",
          "xref": "x",
          "y": "C9%",
          "yref": "y"
         },
         {
          "font": {
           "color": "#FFFFFF"
          },
          "showarrow": false,
          "text": "0.54",
          "x": "CoreTmp",
          "xref": "x",
          "y": "C9%",
          "yref": "y"
         },
         {
          "font": {
           "color": "#FFFFFF"
          },
          "showarrow": false,
          "text": "0.58",
          "x": "PkgTmp",
          "xref": "x",
          "y": "C9%",
          "yref": "y"
         },
         {
          "font": {
           "color": "#FFFFFF"
          },
          "showarrow": false,
          "text": "-0.05",
          "x": "GFX%rc6",
          "xref": "x",
          "y": "C9%",
          "yref": "y"
         },
         {
          "font": {
           "color": "#FFFFFF"
          },
          "showarrow": false,
          "text": "-0.03",
          "x": "GFXMHz",
          "xref": "x",
          "y": "C9%",
          "yref": "y"
         },
         {
          "font": {
           "color": "#FFFFFF"
          },
          "showarrow": false,
          "text": "nan",
          "x": "GFXAMHz",
          "xref": "x",
          "y": "C9%",
          "yref": "y"
         },
         {
          "font": {
           "color": "#FFFFFF"
          },
          "showarrow": false,
          "text": "0.08",
          "x": "Totl%C0",
          "xref": "x",
          "y": "C9%",
          "yref": "y"
         },
         {
          "font": {
           "color": "#FFFFFF"
          },
          "showarrow": false,
          "text": "-0.94",
          "x": "Any%C0",
          "xref": "x",
          "y": "C9%",
          "yref": "y"
         },
         {
          "font": {
           "color": "#FFFFFF"
          },
          "showarrow": false,
          "text": "-0.03",
          "x": "GFX%C0",
          "xref": "x",
          "y": "C9%",
          "yref": "y"
         },
         {
          "font": {
           "color": "#FFFFFF"
          },
          "showarrow": false,
          "text": "-0.09",
          "x": "CPUGFX%",
          "xref": "x",
          "y": "C9%",
          "yref": "y"
         },
         {
          "font": {
           "color": "#FFFFFF"
          },
          "showarrow": false,
          "text": "0.22",
          "x": "Pkg_J",
          "xref": "x",
          "y": "C9%",
          "yref": "y"
         },
         {
          "font": {
           "color": "#FFFFFF"
          },
          "showarrow": false,
          "text": "0.17",
          "x": "Cor_J",
          "xref": "x",
          "y": "C9%",
          "yref": "y"
         },
         {
          "font": {
           "color": "#FFFFFF"
          },
          "showarrow": false,
          "text": "0.41",
          "x": "GFX_J",
          "xref": "x",
          "y": "C9%",
          "yref": "y"
         },
         {
          "font": {
           "color": "#FFFFFF"
          },
          "showarrow": false,
          "text": "0.34",
          "x": "RAM_J",
          "xref": "x",
          "y": "C9%",
          "yref": "y"
         },
         {
          "font": {
           "color": "#FFFFFF"
          },
          "showarrow": false,
          "text": "-0.4",
          "x": "time_elapsed",
          "xref": "x",
          "y": "C10%",
          "yref": "y"
         },
         {
          "font": {
           "color": "#FFFFFF"
          },
          "showarrow": false,
          "text": "-0.3",
          "x": "Avg_MHz",
          "xref": "x",
          "y": "C10%",
          "yref": "y"
         },
         {
          "font": {
           "color": "#FFFFFF"
          },
          "showarrow": false,
          "text": "-0.46",
          "x": "Busy%",
          "xref": "x",
          "y": "C10%",
          "yref": "y"
         },
         {
          "font": {
           "color": "#FFFFFF"
          },
          "showarrow": false,
          "text": "0.36",
          "x": "IPC",
          "xref": "x",
          "y": "C10%",
          "yref": "y"
         },
         {
          "font": {
           "color": "#FFFFFF"
          },
          "showarrow": false,
          "text": "-0.94",
          "x": "IRQ",
          "xref": "x",
          "y": "C10%",
          "yref": "y"
         },
         {
          "font": {
           "color": "#FFFFFF"
          },
          "showarrow": false,
          "text": "-0.29",
          "x": "POLL",
          "xref": "x",
          "y": "C10%",
          "yref": "y"
         },
         {
          "font": {
           "color": "#FFFFFF"
          },
          "showarrow": false,
          "text": "-0.41",
          "x": "C1%",
          "xref": "x",
          "y": "C10%",
          "yref": "y"
         },
         {
          "font": {
           "color": "#FFFFFF"
          },
          "showarrow": false,
          "text": "-0.44",
          "x": "C1E%",
          "xref": "x",
          "y": "C10%",
          "yref": "y"
         },
         {
          "font": {
           "color": "#FFFFFF"
          },
          "showarrow": false,
          "text": "-0.49",
          "x": "C3%",
          "xref": "x",
          "y": "C10%",
          "yref": "y"
         },
         {
          "font": {
           "color": "#FFFFFF"
          },
          "showarrow": false,
          "text": "-0.85",
          "x": "C6%",
          "xref": "x",
          "y": "C10%",
          "yref": "y"
         },
         {
          "font": {
           "color": "#FFFFFF"
          },
          "showarrow": false,
          "text": "-0.1",
          "x": "C7s%",
          "xref": "x",
          "y": "C10%",
          "yref": "y"
         },
         {
          "font": {
           "color": "#FFFFFF"
          },
          "showarrow": false,
          "text": "-0.95",
          "x": "C8%",
          "xref": "x",
          "y": "C10%",
          "yref": "y"
         },
         {
          "font": {
           "color": "#FFFFFF"
          },
          "showarrow": false,
          "text": "-0.9",
          "x": "C9%",
          "xref": "x",
          "y": "C10%",
          "yref": "y"
         },
         {
          "font": {
           "color": "#FFFFFF"
          },
          "showarrow": false,
          "text": "1.0",
          "x": "C10%",
          "xref": "x",
          "y": "C10%",
          "yref": "y"
         },
         {
          "font": {
           "color": "#FFFFFF"
          },
          "showarrow": false,
          "text": "-0.73",
          "x": "CPU%c1",
          "xref": "x",
          "y": "C10%",
          "yref": "y"
         },
         {
          "font": {
           "color": "#FFFFFF"
          },
          "showarrow": false,
          "text": "-0.46",
          "x": "CPU%c3",
          "xref": "x",
          "y": "C10%",
          "yref": "y"
         },
         {
          "font": {
           "color": "#FFFFFF"
          },
          "showarrow": false,
          "text": "-0.87",
          "x": "CPU%c6",
          "xref": "x",
          "y": "C10%",
          "yref": "y"
         },
         {
          "font": {
           "color": "#FFFFFF"
          },
          "showarrow": false,
          "text": "0.69",
          "x": "CPU%c7",
          "xref": "x",
          "y": "C10%",
          "yref": "y"
         },
         {
          "font": {
           "color": "#FFFFFF"
          },
          "showarrow": false,
          "text": "-0.5",
          "x": "CoreTmp",
          "xref": "x",
          "y": "C10%",
          "yref": "y"
         },
         {
          "font": {
           "color": "#FFFFFF"
          },
          "showarrow": false,
          "text": "-0.55",
          "x": "PkgTmp",
          "xref": "x",
          "y": "C10%",
          "yref": "y"
         },
         {
          "font": {
           "color": "#FFFFFF"
          },
          "showarrow": false,
          "text": "-0.06",
          "x": "GFX%rc6",
          "xref": "x",
          "y": "C10%",
          "yref": "y"
         },
         {
          "font": {
           "color": "#FFFFFF"
          },
          "showarrow": false,
          "text": "0.06",
          "x": "GFXMHz",
          "xref": "x",
          "y": "C10%",
          "yref": "y"
         },
         {
          "font": {
           "color": "#FFFFFF"
          },
          "showarrow": false,
          "text": "nan",
          "x": "GFXAMHz",
          "xref": "x",
          "y": "C10%",
          "yref": "y"
         },
         {
          "font": {
           "color": "#FFFFFF"
          },
          "showarrow": false,
          "text": "-0.47",
          "x": "Totl%C0",
          "xref": "x",
          "y": "C10%",
          "yref": "y"
         },
         {
          "font": {
           "color": "#FFFFFF"
          },
          "showarrow": false,
          "text": "0.86",
          "x": "Any%C0",
          "xref": "x",
          "y": "C10%",
          "yref": "y"
         },
         {
          "font": {
           "color": "#FFFFFF"
          },
          "showarrow": false,
          "text": "0.03",
          "x": "GFX%C0",
          "xref": "x",
          "y": "C10%",
          "yref": "y"
         },
         {
          "font": {
           "color": "#FFFFFF"
          },
          "showarrow": false,
          "text": "0.07",
          "x": "CPUGFX%",
          "xref": "x",
          "y": "C10%",
          "yref": "y"
         },
         {
          "font": {
           "color": "#FFFFFF"
          },
          "showarrow": false,
          "text": "-0.39",
          "x": "Pkg_J",
          "xref": "x",
          "y": "C10%",
          "yref": "y"
         },
         {
          "font": {
           "color": "#FFFFFF"
          },
          "showarrow": false,
          "text": "-0.34",
          "x": "Cor_J",
          "xref": "x",
          "y": "C10%",
          "yref": "y"
         },
         {
          "font": {
           "color": "#FFFFFF"
          },
          "showarrow": false,
          "text": "-0.4",
          "x": "GFX_J",
          "xref": "x",
          "y": "C10%",
          "yref": "y"
         },
         {
          "font": {
           "color": "#FFFFFF"
          },
          "showarrow": false,
          "text": "-0.53",
          "x": "RAM_J",
          "xref": "x",
          "y": "C10%",
          "yref": "y"
         },
         {
          "font": {
           "color": "#FFFFFF"
          },
          "showarrow": false,
          "text": "0.32",
          "x": "time_elapsed",
          "xref": "x",
          "y": "CPU%c1",
          "yref": "y"
         },
         {
          "font": {
           "color": "#FFFFFF"
          },
          "showarrow": false,
          "text": "0.81",
          "x": "Avg_MHz",
          "xref": "x",
          "y": "CPU%c1",
          "yref": "y"
         },
         {
          "font": {
           "color": "#FFFFFF"
          },
          "showarrow": false,
          "text": "0.92",
          "x": "Busy%",
          "xref": "x",
          "y": "CPU%c1",
          "yref": "y"
         },
         {
          "font": {
           "color": "#FFFFFF"
          },
          "showarrow": false,
          "text": "-0.62",
          "x": "IPC",
          "xref": "x",
          "y": "CPU%c1",
          "yref": "y"
         },
         {
          "font": {
           "color": "#FFFFFF"
          },
          "showarrow": false,
          "text": "0.6",
          "x": "IRQ",
          "xref": "x",
          "y": "CPU%c1",
          "yref": "y"
         },
         {
          "font": {
           "color": "#FFFFFF"
          },
          "showarrow": false,
          "text": "0.6",
          "x": "POLL",
          "xref": "x",
          "y": "CPU%c1",
          "yref": "y"
         },
         {
          "font": {
           "color": "#FFFFFF"
          },
          "showarrow": false,
          "text": "0.86",
          "x": "C1%",
          "xref": "x",
          "y": "CPU%c1",
          "yref": "y"
         },
         {
          "font": {
           "color": "#FFFFFF"
          },
          "showarrow": false,
          "text": "0.87",
          "x": "C1E%",
          "xref": "x",
          "y": "CPU%c1",
          "yref": "y"
         },
         {
          "font": {
           "color": "#FFFFFF"
          },
          "showarrow": false,
          "text": "0.85",
          "x": "C3%",
          "xref": "x",
          "y": "CPU%c1",
          "yref": "y"
         },
         {
          "font": {
           "color": "#FFFFFF"
          },
          "showarrow": false,
          "text": "0.83",
          "x": "C6%",
          "xref": "x",
          "y": "CPU%c1",
          "yref": "y"
         },
         {
          "font": {
           "color": "#FFFFFF"
          },
          "showarrow": false,
          "text": "0.24",
          "x": "C7s%",
          "xref": "x",
          "y": "CPU%c1",
          "yref": "y"
         },
         {
          "font": {
           "color": "#FFFFFF"
          },
          "showarrow": false,
          "text": "0.72",
          "x": "C8%",
          "xref": "x",
          "y": "CPU%c1",
          "yref": "y"
         },
         {
          "font": {
           "color": "#FFFFFF"
          },
          "showarrow": false,
          "text": "0.4",
          "x": "C9%",
          "xref": "x",
          "y": "CPU%c1",
          "yref": "y"
         },
         {
          "font": {
           "color": "#FFFFFF"
          },
          "showarrow": false,
          "text": "-0.73",
          "x": "C10%",
          "xref": "x",
          "y": "CPU%c1",
          "yref": "y"
         },
         {
          "font": {
           "color": "#FFFFFF"
          },
          "showarrow": false,
          "text": "1.0",
          "x": "CPU%c1",
          "xref": "x",
          "y": "CPU%c1",
          "yref": "y"
         },
         {
          "font": {
           "color": "#FFFFFF"
          },
          "showarrow": false,
          "text": "0.8",
          "x": "CPU%c3",
          "xref": "x",
          "y": "CPU%c1",
          "yref": "y"
         },
         {
          "font": {
           "color": "#FFFFFF"
          },
          "showarrow": false,
          "text": "0.6",
          "x": "CPU%c6",
          "xref": "x",
          "y": "CPU%c1",
          "yref": "y"
         },
         {
          "font": {
           "color": "#FFFFFF"
          },
          "showarrow": false,
          "text": "-0.99",
          "x": "CPU%c7",
          "xref": "x",
          "y": "CPU%c1",
          "yref": "y"
         },
         {
          "font": {
           "color": "#FFFFFF"
          },
          "showarrow": false,
          "text": "0.2",
          "x": "CoreTmp",
          "xref": "x",
          "y": "CPU%c1",
          "yref": "y"
         },
         {
          "font": {
           "color": "#FFFFFF"
          },
          "showarrow": false,
          "text": "0.24",
          "x": "PkgTmp",
          "xref": "x",
          "y": "CPU%c1",
          "yref": "y"
         },
         {
          "font": {
           "color": "#FFFFFF"
          },
          "showarrow": false,
          "text": "0.27",
          "x": "GFX%rc6",
          "xref": "x",
          "y": "CPU%c1",
          "yref": "y"
         },
         {
          "font": {
           "color": "#FFFFFF"
          },
          "showarrow": false,
          "text": "-0.03",
          "x": "GFXMHz",
          "xref": "x",
          "y": "CPU%c1",
          "yref": "y"
         },
         {
          "font": {
           "color": "#FFFFFF"
          },
          "showarrow": false,
          "text": "nan",
          "x": "GFXAMHz",
          "xref": "x",
          "y": "CPU%c1",
          "yref": "y"
         },
         {
          "font": {
           "color": "#FFFFFF"
          },
          "showarrow": false,
          "text": "0.93",
          "x": "Totl%C0",
          "xref": "x",
          "y": "CPU%c1",
          "yref": "y"
         },
         {
          "font": {
           "color": "#FFFFFF"
          },
          "showarrow": false,
          "text": "-0.38",
          "x": "Any%C0",
          "xref": "x",
          "y": "CPU%c1",
          "yref": "y"
         },
         {
          "font": {
           "color": "#FFFFFF"
          },
          "showarrow": false,
          "text": "-0.11",
          "x": "GFX%C0",
          "xref": "x",
          "y": "CPU%c1",
          "yref": "y"
         },
         {
          "font": {
           "color": "#FFFFFF"
          },
          "showarrow": false,
          "text": "-0.12",
          "x": "CPUGFX%",
          "xref": "x",
          "y": "CPU%c1",
          "yref": "y"
         },
         {
          "font": {
           "color": "#FFFFFF"
          },
          "showarrow": false,
          "text": "0.54",
          "x": "Pkg_J",
          "xref": "x",
          "y": "CPU%c1",
          "yref": "y"
         },
         {
          "font": {
           "color": "#FFFFFF"
          },
          "showarrow": false,
          "text": "0.52",
          "x": "Cor_J",
          "xref": "x",
          "y": "CPU%c1",
          "yref": "y"
         },
         {
          "font": {
           "color": "#FFFFFF"
          },
          "showarrow": false,
          "text": "0.19",
          "x": "GFX_J",
          "xref": "x",
          "y": "CPU%c1",
          "yref": "y"
         },
         {
          "font": {
           "color": "#FFFFFF"
          },
          "showarrow": false,
          "text": "0.68",
          "x": "RAM_J",
          "xref": "x",
          "y": "CPU%c1",
          "yref": "y"
         },
         {
          "font": {
           "color": "#FFFFFF"
          },
          "showarrow": false,
          "text": "0.2",
          "x": "time_elapsed",
          "xref": "x",
          "y": "CPU%c3",
          "yref": "y"
         },
         {
          "font": {
           "color": "#FFFFFF"
          },
          "showarrow": false,
          "text": "0.82",
          "x": "Avg_MHz",
          "xref": "x",
          "y": "CPU%c3",
          "yref": "y"
         },
         {
          "font": {
           "color": "#FFFFFF"
          },
          "showarrow": false,
          "text": "0.84",
          "x": "Busy%",
          "xref": "x",
          "y": "CPU%c3",
          "yref": "y"
         },
         {
          "font": {
           "color": "#FFFFFF"
          },
          "showarrow": false,
          "text": "-0.52",
          "x": "IPC",
          "xref": "x",
          "y": "CPU%c3",
          "yref": "y"
         },
         {
          "font": {
           "color": "#FFFFFF"
          },
          "showarrow": false,
          "text": "0.33",
          "x": "IRQ",
          "xref": "x",
          "y": "CPU%c3",
          "yref": "y"
         },
         {
          "font": {
           "color": "#FFFFFF"
          },
          "showarrow": false,
          "text": "0.63",
          "x": "POLL",
          "xref": "x",
          "y": "CPU%c3",
          "yref": "y"
         },
         {
          "font": {
           "color": "#FFFFFF"
          },
          "showarrow": false,
          "text": "0.67",
          "x": "C1%",
          "xref": "x",
          "y": "CPU%c3",
          "yref": "y"
         },
         {
          "font": {
           "color": "#FFFFFF"
          },
          "showarrow": false,
          "text": "0.9",
          "x": "C1E%",
          "xref": "x",
          "y": "CPU%c3",
          "yref": "y"
         },
         {
          "font": {
           "color": "#FFFFFF"
          },
          "showarrow": false,
          "text": "0.97",
          "x": "C3%",
          "xref": "x",
          "y": "CPU%c3",
          "yref": "y"
         },
         {
          "font": {
           "color": "#FFFFFF"
          },
          "showarrow": false,
          "text": "0.72",
          "x": "C6%",
          "xref": "x",
          "y": "CPU%c3",
          "yref": "y"
         },
         {
          "font": {
           "color": "#FFFFFF"
          },
          "showarrow": false,
          "text": "0.3",
          "x": "C7s%",
          "xref": "x",
          "y": "CPU%c3",
          "yref": "y"
         },
         {
          "font": {
           "color": "#FFFFFF"
          },
          "showarrow": false,
          "text": "0.5",
          "x": "C8%",
          "xref": "x",
          "y": "CPU%c3",
          "yref": "y"
         },
         {
          "font": {
           "color": "#FFFFFF"
          },
          "showarrow": false,
          "text": "0.11",
          "x": "C9%",
          "xref": "x",
          "y": "CPU%c3",
          "yref": "y"
         },
         {
          "font": {
           "color": "#FFFFFF"
          },
          "showarrow": false,
          "text": "-0.46",
          "x": "C10%",
          "xref": "x",
          "y": "CPU%c3",
          "yref": "y"
         },
         {
          "font": {
           "color": "#FFFFFF"
          },
          "showarrow": false,
          "text": "0.8",
          "x": "CPU%c1",
          "xref": "x",
          "y": "CPU%c3",
          "yref": "y"
         },
         {
          "font": {
           "color": "#FFFFFF"
          },
          "showarrow": false,
          "text": "1.0",
          "x": "CPU%c3",
          "xref": "x",
          "y": "CPU%c3",
          "yref": "y"
         },
         {
          "font": {
           "color": "#FFFFFF"
          },
          "showarrow": false,
          "text": "0.39",
          "x": "CPU%c6",
          "xref": "x",
          "y": "CPU%c3",
          "yref": "y"
         },
         {
          "font": {
           "color": "#FFFFFF"
          },
          "showarrow": false,
          "text": "-0.84",
          "x": "CPU%c7",
          "xref": "x",
          "y": "CPU%c3",
          "yref": "y"
         },
         {
          "font": {
           "color": "#FFFFFF"
          },
          "showarrow": false,
          "text": "0.09",
          "x": "CoreTmp",
          "xref": "x",
          "y": "CPU%c3",
          "yref": "y"
         },
         {
          "font": {
           "color": "#FFFFFF"
          },
          "showarrow": false,
          "text": "0.12",
          "x": "PkgTmp",
          "xref": "x",
          "y": "CPU%c3",
          "yref": "y"
         },
         {
          "font": {
           "color": "#FFFFFF"
          },
          "showarrow": false,
          "text": "0.17",
          "x": "GFX%rc6",
          "xref": "x",
          "y": "CPU%c3",
          "yref": "y"
         },
         {
          "font": {
           "color": "#FFFFFF"
          },
          "showarrow": false,
          "text": "-0.05",
          "x": "GFXMHz",
          "xref": "x",
          "y": "CPU%c3",
          "yref": "y"
         },
         {
          "font": {
           "color": "#FFFFFF"
          },
          "showarrow": false,
          "text": "nan",
          "x": "GFXAMHz",
          "xref": "x",
          "y": "CPU%c3",
          "yref": "y"
         },
         {
          "font": {
           "color": "#FFFFFF"
          },
          "showarrow": false,
          "text": "0.84",
          "x": "Totl%C0",
          "xref": "x",
          "y": "CPU%c3",
          "yref": "y"
         },
         {
          "font": {
           "color": "#FFFFFF"
          },
          "showarrow": false,
          "text": "-0.08",
          "x": "Any%C0",
          "xref": "x",
          "y": "CPU%c3",
          "yref": "y"
         },
         {
          "font": {
           "color": "#FFFFFF"
          },
          "showarrow": false,
          "text": "0.0",
          "x": "GFX%C0",
          "xref": "x",
          "y": "CPU%c3",
          "yref": "y"
         },
         {
          "font": {
           "color": "#FFFFFF"
          },
          "showarrow": false,
          "text": "0.01",
          "x": "CPUGFX%",
          "xref": "x",
          "y": "CPU%c3",
          "yref": "y"
         },
         {
          "font": {
           "color": "#FFFFFF"
          },
          "showarrow": false,
          "text": "0.52",
          "x": "Pkg_J",
          "xref": "x",
          "y": "CPU%c3",
          "yref": "y"
         },
         {
          "font": {
           "color": "#FFFFFF"
          },
          "showarrow": false,
          "text": "0.53",
          "x": "Cor_J",
          "xref": "x",
          "y": "CPU%c3",
          "yref": "y"
         },
         {
          "font": {
           "color": "#FFFFFF"
          },
          "showarrow": false,
          "text": "0.17",
          "x": "GFX_J",
          "xref": "x",
          "y": "CPU%c3",
          "yref": "y"
         },
         {
          "font": {
           "color": "#FFFFFF"
          },
          "showarrow": false,
          "text": "0.51",
          "x": "RAM_J",
          "xref": "x",
          "y": "CPU%c3",
          "yref": "y"
         },
         {
          "font": {
           "color": "#FFFFFF"
          },
          "showarrow": false,
          "text": "0.34",
          "x": "time_elapsed",
          "xref": "x",
          "y": "CPU%c6",
          "yref": "y"
         },
         {
          "font": {
           "color": "#FFFFFF"
          },
          "showarrow": false,
          "text": "0.19",
          "x": "Avg_MHz",
          "xref": "x",
          "y": "CPU%c6",
          "yref": "y"
         },
         {
          "font": {
           "color": "#FFFFFF"
          },
          "showarrow": false,
          "text": "0.32",
          "x": "Busy%",
          "xref": "x",
          "y": "CPU%c6",
          "yref": "y"
         },
         {
          "font": {
           "color": "#FFFFFF"
          },
          "showarrow": false,
          "text": "-0.27",
          "x": "IPC",
          "xref": "x",
          "y": "CPU%c6",
          "yref": "y"
         },
         {
          "font": {
           "color": "#FFFFFF"
          },
          "showarrow": false,
          "text": "0.9",
          "x": "IRQ",
          "xref": "x",
          "y": "CPU%c6",
          "yref": "y"
         },
         {
          "font": {
           "color": "#FFFFFF"
          },
          "showarrow": false,
          "text": "0.26",
          "x": "POLL",
          "xref": "x",
          "y": "CPU%c6",
          "yref": "y"
         },
         {
          "font": {
           "color": "#FFFFFF"
          },
          "showarrow": false,
          "text": "0.2",
          "x": "C1%",
          "xref": "x",
          "y": "CPU%c6",
          "yref": "y"
         },
         {
          "font": {
           "color": "#FFFFFF"
          },
          "showarrow": false,
          "text": "0.34",
          "x": "C1E%",
          "xref": "x",
          "y": "CPU%c6",
          "yref": "y"
         },
         {
          "font": {
           "color": "#FFFFFF"
          },
          "showarrow": false,
          "text": "0.41",
          "x": "C3%",
          "xref": "x",
          "y": "CPU%c6",
          "yref": "y"
         },
         {
          "font": {
           "color": "#FFFFFF"
          },
          "showarrow": false,
          "text": "0.89",
          "x": "C6%",
          "xref": "x",
          "y": "CPU%c6",
          "yref": "y"
         },
         {
          "font": {
           "color": "#FFFFFF"
          },
          "showarrow": false,
          "text": "0.13",
          "x": "C7s%",
          "xref": "x",
          "y": "CPU%c6",
          "yref": "y"
         },
         {
          "font": {
           "color": "#FFFFFF"
          },
          "showarrow": false,
          "text": "0.83",
          "x": "C8%",
          "xref": "x",
          "y": "CPU%c6",
          "yref": "y"
         },
         {
          "font": {
           "color": "#FFFFFF"
          },
          "showarrow": false,
          "text": "0.8",
          "x": "C9%",
          "xref": "x",
          "y": "CPU%c6",
          "yref": "y"
         },
         {
          "font": {
           "color": "#FFFFFF"
          },
          "showarrow": false,
          "text": "-0.87",
          "x": "C10%",
          "xref": "x",
          "y": "CPU%c6",
          "yref": "y"
         },
         {
          "font": {
           "color": "#FFFFFF"
          },
          "showarrow": false,
          "text": "0.6",
          "x": "CPU%c1",
          "xref": "x",
          "y": "CPU%c6",
          "yref": "y"
         },
         {
          "font": {
           "color": "#FFFFFF"
          },
          "showarrow": false,
          "text": "0.39",
          "x": "CPU%c3",
          "xref": "x",
          "y": "CPU%c6",
          "yref": "y"
         },
         {
          "font": {
           "color": "#FFFFFF"
          },
          "showarrow": false,
          "text": "1.0",
          "x": "CPU%c6",
          "xref": "x",
          "y": "CPU%c6",
          "yref": "y"
         },
         {
          "font": {
           "color": "#FFFFFF"
          },
          "showarrow": false,
          "text": "-0.59",
          "x": "CPU%c7",
          "xref": "x",
          "y": "CPU%c6",
          "yref": "y"
         },
         {
          "font": {
           "color": "#FFFFFF"
          },
          "showarrow": false,
          "text": "0.42",
          "x": "CoreTmp",
          "xref": "x",
          "y": "CPU%c6",
          "yref": "y"
         },
         {
          "font": {
           "color": "#FFFFFF"
          },
          "showarrow": false,
          "text": "0.48",
          "x": "PkgTmp",
          "xref": "x",
          "y": "CPU%c6",
          "yref": "y"
         },
         {
          "font": {
           "color": "#FFFFFF"
          },
          "showarrow": false,
          "text": "0.03",
          "x": "GFX%rc6",
          "xref": "x",
          "y": "CPU%c6",
          "yref": "y"
         },
         {
          "font": {
           "color": "#FFFFFF"
          },
          "showarrow": false,
          "text": "-0.06",
          "x": "GFXMHz",
          "xref": "x",
          "y": "CPU%c6",
          "yref": "y"
         },
         {
          "font": {
           "color": "#FFFFFF"
          },
          "showarrow": false,
          "text": "nan",
          "x": "GFXAMHz",
          "xref": "x",
          "y": "CPU%c6",
          "yref": "y"
         },
         {
          "font": {
           "color": "#FFFFFF"
          },
          "showarrow": false,
          "text": "0.33",
          "x": "Totl%C0",
          "xref": "x",
          "y": "CPU%c6",
          "yref": "y"
         },
         {
          "font": {
           "color": "#FFFFFF"
          },
          "showarrow": false,
          "text": "-0.84",
          "x": "Any%C0",
          "xref": "x",
          "y": "CPU%c6",
          "yref": "y"
         },
         {
          "font": {
           "color": "#FFFFFF"
          },
          "showarrow": false,
          "text": "0.03",
          "x": "GFX%C0",
          "xref": "x",
          "y": "CPU%c6",
          "yref": "y"
         },
         {
          "font": {
           "color": "#FFFFFF"
          },
          "showarrow": false,
          "text": "-0.03",
          "x": "CPUGFX%",
          "xref": "x",
          "y": "CPU%c6",
          "yref": "y"
         },
         {
          "font": {
           "color": "#FFFFFF"
          },
          "showarrow": false,
          "text": "0.33",
          "x": "Pkg_J",
          "xref": "x",
          "y": "CPU%c6",
          "yref": "y"
         },
         {
          "font": {
           "color": "#FFFFFF"
          },
          "showarrow": false,
          "text": "0.29",
          "x": "Cor_J",
          "xref": "x",
          "y": "CPU%c6",
          "yref": "y"
         },
         {
          "font": {
           "color": "#FFFFFF"
          },
          "showarrow": false,
          "text": "0.4",
          "x": "GFX_J",
          "xref": "x",
          "y": "CPU%c6",
          "yref": "y"
         },
         {
          "font": {
           "color": "#FFFFFF"
          },
          "showarrow": false,
          "text": "0.41",
          "x": "RAM_J",
          "xref": "x",
          "y": "CPU%c6",
          "yref": "y"
         },
         {
          "font": {
           "color": "#FFFFFF"
          },
          "showarrow": false,
          "text": "-0.29",
          "x": "time_elapsed",
          "xref": "x",
          "y": "CPU%c7",
          "yref": "y"
         },
         {
          "font": {
           "color": "#FFFFFF"
          },
          "showarrow": false,
          "text": "-0.85",
          "x": "Avg_MHz",
          "xref": "x",
          "y": "CPU%c7",
          "yref": "y"
         },
         {
          "font": {
           "color": "#FFFFFF"
          },
          "showarrow": false,
          "text": "-0.95",
          "x": "Busy%",
          "xref": "x",
          "y": "CPU%c7",
          "yref": "y"
         },
         {
          "font": {
           "color": "#FFFFFF"
          },
          "showarrow": false,
          "text": "0.63",
          "x": "IPC",
          "xref": "x",
          "y": "CPU%c7",
          "yref": "y"
         },
         {
          "font": {
           "color": "#FFFFFF"
          },
          "showarrow": false,
          "text": "-0.56",
          "x": "IRQ",
          "xref": "x",
          "y": "CPU%c7",
          "yref": "y"
         },
         {
          "font": {
           "color": "#FFFFFF"
          },
          "showarrow": false,
          "text": "-0.63",
          "x": "POLL",
          "xref": "x",
          "y": "CPU%c7",
          "yref": "y"
         },
         {
          "font": {
           "color": "#FFFFFF"
          },
          "showarrow": false,
          "text": "-0.86",
          "x": "C1%",
          "xref": "x",
          "y": "CPU%c7",
          "yref": "y"
         },
         {
          "font": {
           "color": "#FFFFFF"
          },
          "showarrow": false,
          "text": "-0.9",
          "x": "C1E%",
          "xref": "x",
          "y": "CPU%c7",
          "yref": "y"
         },
         {
          "font": {
           "color": "#FFFFFF"
          },
          "showarrow": false,
          "text": "-0.88",
          "x": "C3%",
          "xref": "x",
          "y": "CPU%c7",
          "yref": "y"
         },
         {
          "font": {
           "color": "#FFFFFF"
          },
          "showarrow": false,
          "text": "-0.84",
          "x": "C6%",
          "xref": "x",
          "y": "CPU%c7",
          "yref": "y"
         },
         {
          "font": {
           "color": "#FFFFFF"
          },
          "showarrow": false,
          "text": "-0.26",
          "x": "C7s%",
          "xref": "x",
          "y": "CPU%c7",
          "yref": "y"
         },
         {
          "font": {
           "color": "#FFFFFF"
          },
          "showarrow": false,
          "text": "-0.69",
          "x": "C8%",
          "xref": "x",
          "y": "CPU%c7",
          "yref": "y"
         },
         {
          "font": {
           "color": "#FFFFFF"
          },
          "showarrow": false,
          "text": "-0.35",
          "x": "C9%",
          "xref": "x",
          "y": "CPU%c7",
          "yref": "y"
         },
         {
          "font": {
           "color": "#FFFFFF"
          },
          "showarrow": false,
          "text": "0.69",
          "x": "C10%",
          "xref": "x",
          "y": "CPU%c7",
          "yref": "y"
         },
         {
          "font": {
           "color": "#FFFFFF"
          },
          "showarrow": false,
          "text": "-0.99",
          "x": "CPU%c1",
          "xref": "x",
          "y": "CPU%c7",
          "yref": "y"
         },
         {
          "font": {
           "color": "#FFFFFF"
          },
          "showarrow": false,
          "text": "-0.84",
          "x": "CPU%c3",
          "xref": "x",
          "y": "CPU%c7",
          "yref": "y"
         },
         {
          "font": {
           "color": "#FFFFFF"
          },
          "showarrow": false,
          "text": "-0.59",
          "x": "CPU%c6",
          "xref": "x",
          "y": "CPU%c7",
          "yref": "y"
         },
         {
          "font": {
           "color": "#FFFFFF"
          },
          "showarrow": false,
          "text": "1.0",
          "x": "CPU%c7",
          "xref": "x",
          "y": "CPU%c7",
          "yref": "y"
         },
         {
          "font": {
           "color": "#FFFFFF"
          },
          "showarrow": false,
          "text": "-0.2",
          "x": "CoreTmp",
          "xref": "x",
          "y": "CPU%c7",
          "yref": "y"
         },
         {
          "font": {
           "color": "#FFFFFF"
          },
          "showarrow": false,
          "text": "-0.24",
          "x": "PkgTmp",
          "xref": "x",
          "y": "CPU%c7",
          "yref": "y"
         },
         {
          "font": {
           "color": "#FFFFFF"
          },
          "showarrow": false,
          "text": "-0.23",
          "x": "GFX%rc6",
          "xref": "x",
          "y": "CPU%c7",
          "yref": "y"
         },
         {
          "font": {
           "color": "#FFFFFF"
          },
          "showarrow": false,
          "text": "0.04",
          "x": "GFXMHz",
          "xref": "x",
          "y": "CPU%c7",
          "yref": "y"
         },
         {
          "font": {
           "color": "#FFFFFF"
          },
          "showarrow": false,
          "text": "nan",
          "x": "GFXAMHz",
          "xref": "x",
          "y": "CPU%c7",
          "yref": "y"
         },
         {
          "font": {
           "color": "#FFFFFF"
          },
          "showarrow": false,
          "text": "-0.95",
          "x": "Totl%C0",
          "xref": "x",
          "y": "CPU%c7",
          "yref": "y"
         },
         {
          "font": {
           "color": "#FFFFFF"
          },
          "showarrow": false,
          "text": "0.32",
          "x": "Any%C0",
          "xref": "x",
          "y": "CPU%c7",
          "yref": "y"
         },
         {
          "font": {
           "color": "#FFFFFF"
          },
          "showarrow": false,
          "text": "0.07",
          "x": "GFX%C0",
          "xref": "x",
          "y": "CPU%c7",
          "yref": "y"
         },
         {
          "font": {
           "color": "#FFFFFF"
          },
          "showarrow": false,
          "text": "0.08",
          "x": "CPUGFX%",
          "xref": "x",
          "y": "CPU%c7",
          "yref": "y"
         },
         {
          "font": {
           "color": "#FFFFFF"
          },
          "showarrow": false,
          "text": "-0.56",
          "x": "Pkg_J",
          "xref": "x",
          "y": "CPU%c7",
          "yref": "y"
         },
         {
          "font": {
           "color": "#FFFFFF"
          },
          "showarrow": false,
          "text": "-0.54",
          "x": "Cor_J",
          "xref": "x",
          "y": "CPU%c7",
          "yref": "y"
         },
         {
          "font": {
           "color": "#FFFFFF"
          },
          "showarrow": false,
          "text": "-0.19",
          "x": "GFX_J",
          "xref": "x",
          "y": "CPU%c7",
          "yref": "y"
         },
         {
          "font": {
           "color": "#FFFFFF"
          },
          "showarrow": false,
          "text": "-0.68",
          "x": "RAM_J",
          "xref": "x",
          "y": "CPU%c7",
          "yref": "y"
         },
         {
          "font": {
           "color": "#FFFFFF"
          },
          "showarrow": false,
          "text": "0.47",
          "x": "time_elapsed",
          "xref": "x",
          "y": "CoreTmp",
          "yref": "y"
         },
         {
          "font": {
           "color": "#FFFFFF"
          },
          "showarrow": false,
          "text": "-0.08",
          "x": "Avg_MHz",
          "xref": "x",
          "y": "CoreTmp",
          "yref": "y"
         },
         {
          "font": {
           "color": "#FFFFFF"
          },
          "showarrow": false,
          "text": "0.08",
          "x": "Busy%",
          "xref": "x",
          "y": "CoreTmp",
          "yref": "y"
         },
         {
          "font": {
           "color": "#FFFFFF"
          },
          "showarrow": false,
          "text": "-0.13",
          "x": "IPC",
          "xref": "x",
          "y": "CoreTmp",
          "yref": "y"
         },
         {
          "font": {
           "color": "#FFFFFF"
          },
          "showarrow": false,
          "text": "0.48",
          "x": "IRQ",
          "xref": "x",
          "y": "CoreTmp",
          "yref": "y"
         },
         {
          "font": {
           "color": "#FFFFFF"
          },
          "showarrow": false,
          "text": "0.02",
          "x": "POLL",
          "xref": "x",
          "y": "CoreTmp",
          "yref": "y"
         },
         {
          "font": {
           "color": "#FFFFFF"
          },
          "showarrow": false,
          "text": "0.02",
          "x": "C1%",
          "xref": "x",
          "y": "CoreTmp",
          "yref": "y"
         },
         {
          "font": {
           "color": "#FFFFFF"
          },
          "showarrow": false,
          "text": "0.07",
          "x": "C1E%",
          "xref": "x",
          "y": "CoreTmp",
          "yref": "y"
         },
         {
          "font": {
           "color": "#FFFFFF"
          },
          "showarrow": false,
          "text": "0.13",
          "x": "C3%",
          "xref": "x",
          "y": "CoreTmp",
          "yref": "y"
         },
         {
          "font": {
           "color": "#FFFFFF"
          },
          "showarrow": false,
          "text": "0.34",
          "x": "C6%",
          "xref": "x",
          "y": "CoreTmp",
          "yref": "y"
         },
         {
          "font": {
           "color": "#FFFFFF"
          },
          "showarrow": false,
          "text": "-0.02",
          "x": "C7s%",
          "xref": "x",
          "y": "CoreTmp",
          "yref": "y"
         },
         {
          "font": {
           "color": "#FFFFFF"
          },
          "showarrow": false,
          "text": "0.44",
          "x": "C8%",
          "xref": "x",
          "y": "CoreTmp",
          "yref": "y"
         },
         {
          "font": {
           "color": "#FFFFFF"
          },
          "showarrow": false,
          "text": "0.54",
          "x": "C9%",
          "xref": "x",
          "y": "CoreTmp",
          "yref": "y"
         },
         {
          "font": {
           "color": "#FFFFFF"
          },
          "showarrow": false,
          "text": "-0.5",
          "x": "C10%",
          "xref": "x",
          "y": "CoreTmp",
          "yref": "y"
         },
         {
          "font": {
           "color": "#FFFFFF"
          },
          "showarrow": false,
          "text": "0.2",
          "x": "CPU%c1",
          "xref": "x",
          "y": "CoreTmp",
          "yref": "y"
         },
         {
          "font": {
           "color": "#FFFFFF"
          },
          "showarrow": false,
          "text": "0.09",
          "x": "CPU%c3",
          "xref": "x",
          "y": "CoreTmp",
          "yref": "y"
         },
         {
          "font": {
           "color": "#FFFFFF"
          },
          "showarrow": false,
          "text": "0.42",
          "x": "CPU%c6",
          "xref": "x",
          "y": "CoreTmp",
          "yref": "y"
         },
         {
          "font": {
           "color": "#FFFFFF"
          },
          "showarrow": false,
          "text": "-0.2",
          "x": "CPU%c7",
          "xref": "x",
          "y": "CoreTmp",
          "yref": "y"
         },
         {
          "font": {
           "color": "#FFFFFF"
          },
          "showarrow": false,
          "text": "1.0",
          "x": "CoreTmp",
          "xref": "x",
          "y": "CoreTmp",
          "yref": "y"
         },
         {
          "font": {
           "color": "#FFFFFF"
          },
          "showarrow": false,
          "text": "0.99",
          "x": "PkgTmp",
          "xref": "x",
          "y": "CoreTmp",
          "yref": "y"
         },
         {
          "font": {
           "color": "#FFFFFF"
          },
          "showarrow": false,
          "text": "-0.39",
          "x": "GFX%rc6",
          "xref": "x",
          "y": "CoreTmp",
          "yref": "y"
         },
         {
          "font": {
           "color": "#FFFFFF"
          },
          "showarrow": false,
          "text": "0.08",
          "x": "GFXMHz",
          "xref": "x",
          "y": "CoreTmp",
          "yref": "y"
         },
         {
          "font": {
           "color": "#FFFFFF"
          },
          "showarrow": false,
          "text": "nan",
          "x": "GFXAMHz",
          "xref": "x",
          "y": "CoreTmp",
          "yref": "y"
         },
         {
          "font": {
           "color": "#FFFFFF"
          },
          "showarrow": false,
          "text": "0.08",
          "x": "Totl%C0",
          "xref": "x",
          "y": "CoreTmp",
          "yref": "y"
         },
         {
          "font": {
           "color": "#FFFFFF"
          },
          "showarrow": false,
          "text": "-0.46",
          "x": "Any%C0",
          "xref": "x",
          "y": "CoreTmp",
          "yref": "y"
         },
         {
          "font": {
           "color": "#FFFFFF"
          },
          "showarrow": false,
          "text": "0.03",
          "x": "GFX%C0",
          "xref": "x",
          "y": "CoreTmp",
          "yref": "y"
         },
         {
          "font": {
           "color": "#FFFFFF"
          },
          "showarrow": false,
          "text": "-0.01",
          "x": "CPUGFX%",
          "xref": "x",
          "y": "CoreTmp",
          "yref": "y"
         },
         {
          "font": {
           "color": "#FFFFFF"
          },
          "showarrow": false,
          "text": "0.23",
          "x": "Pkg_J",
          "xref": "x",
          "y": "CoreTmp",
          "yref": "y"
         },
         {
          "font": {
           "color": "#FFFFFF"
          },
          "showarrow": false,
          "text": "0.16",
          "x": "Cor_J",
          "xref": "x",
          "y": "CoreTmp",
          "yref": "y"
         },
         {
          "font": {
           "color": "#FFFFFF"
          },
          "showarrow": false,
          "text": "0.57",
          "x": "GFX_J",
          "xref": "x",
          "y": "CoreTmp",
          "yref": "y"
         },
         {
          "font": {
           "color": "#FFFFFF"
          },
          "showarrow": false,
          "text": "0.43",
          "x": "RAM_J",
          "xref": "x",
          "y": "CoreTmp",
          "yref": "y"
         },
         {
          "font": {
           "color": "#FFFFFF"
          },
          "showarrow": false,
          "text": "0.5",
          "x": "time_elapsed",
          "xref": "x",
          "y": "PkgTmp",
          "yref": "y"
         },
         {
          "font": {
           "color": "#FFFFFF"
          },
          "showarrow": false,
          "text": "-0.07",
          "x": "Avg_MHz",
          "xref": "x",
          "y": "PkgTmp",
          "yref": "y"
         },
         {
          "font": {
           "color": "#FFFFFF"
          },
          "showarrow": false,
          "text": "0.1",
          "x": "Busy%",
          "xref": "x",
          "y": "PkgTmp",
          "yref": "y"
         },
         {
          "font": {
           "color": "#FFFFFF"
          },
          "showarrow": false,
          "text": "-0.15",
          "x": "IPC",
          "xref": "x",
          "y": "PkgTmp",
          "yref": "y"
         },
         {
          "font": {
           "color": "#FFFFFF"
          },
          "showarrow": false,
          "text": "0.54",
          "x": "IRQ",
          "xref": "x",
          "y": "PkgTmp",
          "yref": "y"
         },
         {
          "font": {
           "color": "#FFFFFF"
          },
          "showarrow": false,
          "text": "0.05",
          "x": "POLL",
          "xref": "x",
          "y": "PkgTmp",
          "yref": "y"
         },
         {
          "font": {
           "color": "#FFFFFF"
          },
          "showarrow": false,
          "text": "0.03",
          "x": "C1%",
          "xref": "x",
          "y": "PkgTmp",
          "yref": "y"
         },
         {
          "font": {
           "color": "#FFFFFF"
          },
          "showarrow": false,
          "text": "0.09",
          "x": "C1E%",
          "xref": "x",
          "y": "PkgTmp",
          "yref": "y"
         },
         {
          "font": {
           "color": "#FFFFFF"
          },
          "showarrow": false,
          "text": "0.16",
          "x": "C3%",
          "xref": "x",
          "y": "PkgTmp",
          "yref": "y"
         },
         {
          "font": {
           "color": "#FFFFFF"
          },
          "showarrow": false,
          "text": "0.4",
          "x": "C6%",
          "xref": "x",
          "y": "PkgTmp",
          "yref": "y"
         },
         {
          "font": {
           "color": "#FFFFFF"
          },
          "showarrow": false,
          "text": "-0.01",
          "x": "C7s%",
          "xref": "x",
          "y": "PkgTmp",
          "yref": "y"
         },
         {
          "font": {
           "color": "#FFFFFF"
          },
          "showarrow": false,
          "text": "0.48",
          "x": "C8%",
          "xref": "x",
          "y": "PkgTmp",
          "yref": "y"
         },
         {
          "font": {
           "color": "#FFFFFF"
          },
          "showarrow": false,
          "text": "0.58",
          "x": "C9%",
          "xref": "x",
          "y": "PkgTmp",
          "yref": "y"
         },
         {
          "font": {
           "color": "#FFFFFF"
          },
          "showarrow": false,
          "text": "-0.55",
          "x": "C10%",
          "xref": "x",
          "y": "PkgTmp",
          "yref": "y"
         },
         {
          "font": {
           "color": "#FFFFFF"
          },
          "showarrow": false,
          "text": "0.24",
          "x": "CPU%c1",
          "xref": "x",
          "y": "PkgTmp",
          "yref": "y"
         },
         {
          "font": {
           "color": "#FFFFFF"
          },
          "showarrow": false,
          "text": "0.12",
          "x": "CPU%c3",
          "xref": "x",
          "y": "PkgTmp",
          "yref": "y"
         },
         {
          "font": {
           "color": "#FFFFFF"
          },
          "showarrow": false,
          "text": "0.48",
          "x": "CPU%c6",
          "xref": "x",
          "y": "PkgTmp",
          "yref": "y"
         },
         {
          "font": {
           "color": "#FFFFFF"
          },
          "showarrow": false,
          "text": "-0.24",
          "x": "CPU%c7",
          "xref": "x",
          "y": "PkgTmp",
          "yref": "y"
         },
         {
          "font": {
           "color": "#FFFFFF"
          },
          "showarrow": false,
          "text": "0.99",
          "x": "CoreTmp",
          "xref": "x",
          "y": "PkgTmp",
          "yref": "y"
         },
         {
          "font": {
           "color": "#FFFFFF"
          },
          "showarrow": false,
          "text": "1.0",
          "x": "PkgTmp",
          "xref": "x",
          "y": "PkgTmp",
          "yref": "y"
         },
         {
          "font": {
           "color": "#FFFFFF"
          },
          "showarrow": false,
          "text": "-0.34",
          "x": "GFX%rc6",
          "xref": "x",
          "y": "PkgTmp",
          "yref": "y"
         },
         {
          "font": {
           "color": "#FFFFFF"
          },
          "showarrow": false,
          "text": "0.11",
          "x": "GFXMHz",
          "xref": "x",
          "y": "PkgTmp",
          "yref": "y"
         },
         {
          "font": {
           "color": "#FFFFFF"
          },
          "showarrow": false,
          "text": "nan",
          "x": "GFXAMHz",
          "xref": "x",
          "y": "PkgTmp",
          "yref": "y"
         },
         {
          "font": {
           "color": "#FFFFFF"
          },
          "showarrow": false,
          "text": "0.1",
          "x": "Totl%C0",
          "xref": "x",
          "y": "PkgTmp",
          "yref": "y"
         },
         {
          "font": {
           "color": "#FFFFFF"
          },
          "showarrow": false,
          "text": "-0.51",
          "x": "Any%C0",
          "xref": "x",
          "y": "PkgTmp",
          "yref": "y"
         },
         {
          "font": {
           "color": "#FFFFFF"
          },
          "showarrow": false,
          "text": "-0.0",
          "x": "GFX%C0",
          "xref": "x",
          "y": "PkgTmp",
          "yref": "y"
         },
         {
          "font": {
           "color": "#FFFFFF"
          },
          "showarrow": false,
          "text": "-0.05",
          "x": "CPUGFX%",
          "xref": "x",
          "y": "PkgTmp",
          "yref": "y"
         },
         {
          "font": {
           "color": "#FFFFFF"
          },
          "showarrow": false,
          "text": "0.25",
          "x": "Pkg_J",
          "xref": "x",
          "y": "PkgTmp",
          "yref": "y"
         },
         {
          "font": {
           "color": "#FFFFFF"
          },
          "showarrow": false,
          "text": "0.17",
          "x": "Cor_J",
          "xref": "x",
          "y": "PkgTmp",
          "yref": "y"
         },
         {
          "font": {
           "color": "#FFFFFF"
          },
          "showarrow": false,
          "text": "0.57",
          "x": "GFX_J",
          "xref": "x",
          "y": "PkgTmp",
          "yref": "y"
         },
         {
          "font": {
           "color": "#FFFFFF"
          },
          "showarrow": false,
          "text": "0.45",
          "x": "RAM_J",
          "xref": "x",
          "y": "PkgTmp",
          "yref": "y"
         },
         {
          "font": {
           "color": "#FFFFFF"
          },
          "showarrow": false,
          "text": "0.17",
          "x": "time_elapsed",
          "xref": "x",
          "y": "GFX%rc6",
          "yref": "y"
         },
         {
          "font": {
           "color": "#FFFFFF"
          },
          "showarrow": false,
          "text": "0.21",
          "x": "Avg_MHz",
          "xref": "x",
          "y": "GFX%rc6",
          "yref": "y"
         },
         {
          "font": {
           "color": "#FFFFFF"
          },
          "showarrow": false,
          "text": "0.23",
          "x": "Busy%",
          "xref": "x",
          "y": "GFX%rc6",
          "yref": "y"
         },
         {
          "font": {
           "color": "#FFFFFF"
          },
          "showarrow": false,
          "text": "-0.19",
          "x": "IPC",
          "xref": "x",
          "y": "GFX%rc6",
          "yref": "y"
         },
         {
          "font": {
           "color": "#FFFFFF"
          },
          "showarrow": false,
          "text": "0.1",
          "x": "IRQ",
          "xref": "x",
          "y": "GFX%rc6",
          "yref": "y"
         },
         {
          "font": {
           "color": "#FFFFFF"
          },
          "showarrow": false,
          "text": "0.21",
          "x": "POLL",
          "xref": "x",
          "y": "GFX%rc6",
          "yref": "y"
         },
         {
          "font": {
           "color": "#FFFFFF"
          },
          "showarrow": false,
          "text": "0.31",
          "x": "C1%",
          "xref": "x",
          "y": "GFX%rc6",
          "yref": "y"
         },
         {
          "font": {
           "color": "#FFFFFF"
          },
          "showarrow": false,
          "text": "0.24",
          "x": "C1E%",
          "xref": "x",
          "y": "GFX%rc6",
          "yref": "y"
         },
         {
          "font": {
           "color": "#FFFFFF"
          },
          "showarrow": false,
          "text": "0.17",
          "x": "C3%",
          "xref": "x",
          "y": "GFX%rc6",
          "yref": "y"
         },
         {
          "font": {
           "color": "#FFFFFF"
          },
          "showarrow": false,
          "text": "0.14",
          "x": "C6%",
          "xref": "x",
          "y": "GFX%rc6",
          "yref": "y"
         },
         {
          "font": {
           "color": "#FFFFFF"
          },
          "showarrow": false,
          "text": "0.14",
          "x": "C7s%",
          "xref": "x",
          "y": "GFX%rc6",
          "yref": "y"
         },
         {
          "font": {
           "color": "#FFFFFF"
          },
          "showarrow": false,
          "text": "0.08",
          "x": "C8%",
          "xref": "x",
          "y": "GFX%rc6",
          "yref": "y"
         },
         {
          "font": {
           "color": "#FFFFFF"
          },
          "showarrow": false,
          "text": "-0.05",
          "x": "C9%",
          "xref": "x",
          "y": "GFX%rc6",
          "yref": "y"
         },
         {
          "font": {
           "color": "#FFFFFF"
          },
          "showarrow": false,
          "text": "-0.06",
          "x": "C10%",
          "xref": "x",
          "y": "GFX%rc6",
          "yref": "y"
         },
         {
          "font": {
           "color": "#FFFFFF"
          },
          "showarrow": false,
          "text": "0.27",
          "x": "CPU%c1",
          "xref": "x",
          "y": "GFX%rc6",
          "yref": "y"
         },
         {
          "font": {
           "color": "#FFFFFF"
          },
          "showarrow": false,
          "text": "0.17",
          "x": "CPU%c3",
          "xref": "x",
          "y": "GFX%rc6",
          "yref": "y"
         },
         {
          "font": {
           "color": "#FFFFFF"
          },
          "showarrow": false,
          "text": "0.03",
          "x": "CPU%c6",
          "xref": "x",
          "y": "GFX%rc6",
          "yref": "y"
         },
         {
          "font": {
           "color": "#FFFFFF"
          },
          "showarrow": false,
          "text": "-0.23",
          "x": "CPU%c7",
          "xref": "x",
          "y": "GFX%rc6",
          "yref": "y"
         },
         {
          "font": {
           "color": "#FFFFFF"
          },
          "showarrow": false,
          "text": "-0.39",
          "x": "CoreTmp",
          "xref": "x",
          "y": "GFX%rc6",
          "yref": "y"
         },
         {
          "font": {
           "color": "#FFFFFF"
          },
          "showarrow": false,
          "text": "-0.34",
          "x": "PkgTmp",
          "xref": "x",
          "y": "GFX%rc6",
          "yref": "y"
         },
         {
          "font": {
           "color": "#FFFFFF"
          },
          "showarrow": false,
          "text": "1.0",
          "x": "GFX%rc6",
          "xref": "x",
          "y": "GFX%rc6",
          "yref": "y"
         },
         {
          "font": {
           "color": "#FFFFFF"
          },
          "showarrow": false,
          "text": "0.06",
          "x": "GFXMHz",
          "xref": "x",
          "y": "GFX%rc6",
          "yref": "y"
         },
         {
          "font": {
           "color": "#FFFFFF"
          },
          "showarrow": false,
          "text": "nan",
          "x": "GFXAMHz",
          "xref": "x",
          "y": "GFX%rc6",
          "yref": "y"
         },
         {
          "font": {
           "color": "#FFFFFF"
          },
          "showarrow": false,
          "text": "0.23",
          "x": "Totl%C0",
          "xref": "x",
          "y": "GFX%rc6",
          "yref": "y"
         },
         {
          "font": {
           "color": "#FFFFFF"
          },
          "showarrow": false,
          "text": "-0.1",
          "x": "Any%C0",
          "xref": "x",
          "y": "GFX%rc6",
          "yref": "y"
         },
         {
          "font": {
           "color": "#FFFFFF"
          },
          "showarrow": false,
          "text": "-0.68",
          "x": "GFX%C0",
          "xref": "x",
          "y": "GFX%rc6",
          "yref": "y"
         },
         {
          "font": {
           "color": "#FFFFFF"
          },
          "showarrow": false,
          "text": "-0.67",
          "x": "CPUGFX%",
          "xref": "x",
          "y": "GFX%rc6",
          "yref": "y"
         },
         {
          "font": {
           "color": "#FFFFFF"
          },
          "showarrow": false,
          "text": "-0.0",
          "x": "Pkg_J",
          "xref": "x",
          "y": "GFX%rc6",
          "yref": "y"
         },
         {
          "font": {
           "color": "#FFFFFF"
          },
          "showarrow": false,
          "text": "-0.01",
          "x": "Cor_J",
          "xref": "x",
          "y": "GFX%rc6",
          "yref": "y"
         },
         {
          "font": {
           "color": "#FFFFFF"
          },
          "showarrow": false,
          "text": "-0.56",
          "x": "GFX_J",
          "xref": "x",
          "y": "GFX%rc6",
          "yref": "y"
         },
         {
          "font": {
           "color": "#FFFFFF"
          },
          "showarrow": false,
          "text": "0.21",
          "x": "RAM_J",
          "xref": "x",
          "y": "GFX%rc6",
          "yref": "y"
         },
         {
          "font": {
           "color": "#FFFFFF"
          },
          "showarrow": false,
          "text": "0.25",
          "x": "time_elapsed",
          "xref": "x",
          "y": "GFXMHz",
          "yref": "y"
         },
         {
          "font": {
           "color": "#FFFFFF"
          },
          "showarrow": false,
          "text": "-0.07",
          "x": "Avg_MHz",
          "xref": "x",
          "y": "GFXMHz",
          "yref": "y"
         },
         {
          "font": {
           "color": "#FFFFFF"
          },
          "showarrow": false,
          "text": "-0.03",
          "x": "Busy%",
          "xref": "x",
          "y": "GFXMHz",
          "yref": "y"
         },
         {
          "font": {
           "color": "#FFFFFF"
          },
          "showarrow": false,
          "text": "-0.07",
          "x": "IPC",
          "xref": "x",
          "y": "GFXMHz",
          "yref": "y"
         },
         {
          "font": {
           "color": "#FFFFFF"
          },
          "showarrow": false,
          "text": "-0.03",
          "x": "IRQ",
          "xref": "x",
          "y": "GFXMHz",
          "yref": "y"
         },
         {
          "font": {
           "color": "#FFFFFF"
          },
          "showarrow": false,
          "text": "-0.03",
          "x": "POLL",
          "xref": "x",
          "y": "GFXMHz",
          "yref": "y"
         },
         {
          "font": {
           "color": "#FFFFFF"
          },
          "showarrow": false,
          "text": "-0.03",
          "x": "C1%",
          "xref": "x",
          "y": "GFXMHz",
          "yref": "y"
         },
         {
          "font": {
           "color": "#FFFFFF"
          },
          "showarrow": false,
          "text": "-0.03",
          "x": "C1E%",
          "xref": "x",
          "y": "GFXMHz",
          "yref": "y"
         },
         {
          "font": {
           "color": "#FFFFFF"
          },
          "showarrow": false,
          "text": "-0.04",
          "x": "C3%",
          "xref": "x",
          "y": "GFXMHz",
          "yref": "y"
         },
         {
          "font": {
           "color": "#FFFFFF"
          },
          "showarrow": false,
          "text": "-0.07",
          "x": "C6%",
          "xref": "x",
          "y": "GFXMHz",
          "yref": "y"
         },
         {
          "font": {
           "color": "#FFFFFF"
          },
          "showarrow": false,
          "text": "-0.05",
          "x": "C7s%",
          "xref": "x",
          "y": "GFXMHz",
          "yref": "y"
         },
         {
          "font": {
           "color": "#FFFFFF"
          },
          "showarrow": false,
          "text": "-0.1",
          "x": "C8%",
          "xref": "x",
          "y": "GFXMHz",
          "yref": "y"
         },
         {
          "font": {
           "color": "#FFFFFF"
          },
          "showarrow": false,
          "text": "-0.03",
          "x": "C9%",
          "xref": "x",
          "y": "GFXMHz",
          "yref": "y"
         },
         {
          "font": {
           "color": "#FFFFFF"
          },
          "showarrow": false,
          "text": "0.06",
          "x": "C10%",
          "xref": "x",
          "y": "GFXMHz",
          "yref": "y"
         },
         {
          "font": {
           "color": "#FFFFFF"
          },
          "showarrow": false,
          "text": "-0.03",
          "x": "CPU%c1",
          "xref": "x",
          "y": "GFXMHz",
          "yref": "y"
         },
         {
          "font": {
           "color": "#FFFFFF"
          },
          "showarrow": false,
          "text": "-0.05",
          "x": "CPU%c3",
          "xref": "x",
          "y": "GFXMHz",
          "yref": "y"
         },
         {
          "font": {
           "color": "#FFFFFF"
          },
          "showarrow": false,
          "text": "-0.06",
          "x": "CPU%c6",
          "xref": "x",
          "y": "GFXMHz",
          "yref": "y"
         },
         {
          "font": {
           "color": "#FFFFFF"
          },
          "showarrow": false,
          "text": "0.04",
          "x": "CPU%c7",
          "xref": "x",
          "y": "GFXMHz",
          "yref": "y"
         },
         {
          "font": {
           "color": "#FFFFFF"
          },
          "showarrow": false,
          "text": "0.08",
          "x": "CoreTmp",
          "xref": "x",
          "y": "GFXMHz",
          "yref": "y"
         },
         {
          "font": {
           "color": "#FFFFFF"
          },
          "showarrow": false,
          "text": "0.11",
          "x": "PkgTmp",
          "xref": "x",
          "y": "GFXMHz",
          "yref": "y"
         },
         {
          "font": {
           "color": "#FFFFFF"
          },
          "showarrow": false,
          "text": "0.06",
          "x": "GFX%rc6",
          "xref": "x",
          "y": "GFXMHz",
          "yref": "y"
         },
         {
          "font": {
           "color": "#FFFFFF"
          },
          "showarrow": false,
          "text": "1.0",
          "x": "GFXMHz",
          "xref": "x",
          "y": "GFXMHz",
          "yref": "y"
         },
         {
          "font": {
           "color": "#FFFFFF"
          },
          "showarrow": false,
          "text": "nan",
          "x": "GFXAMHz",
          "xref": "x",
          "y": "GFXMHz",
          "yref": "y"
         },
         {
          "font": {
           "color": "#FFFFFF"
          },
          "showarrow": false,
          "text": "-0.02",
          "x": "Totl%C0",
          "xref": "x",
          "y": "GFXMHz",
          "yref": "y"
         },
         {
          "font": {
           "color": "#FFFFFF"
          },
          "showarrow": false,
          "text": "0.02",
          "x": "Any%C0",
          "xref": "x",
          "y": "GFXMHz",
          "yref": "y"
         },
         {
          "font": {
           "color": "#FFFFFF"
          },
          "showarrow": false,
          "text": "-0.23",
          "x": "GFX%C0",
          "xref": "x",
          "y": "GFXMHz",
          "yref": "y"
         },
         {
          "font": {
           "color": "#FFFFFF"
          },
          "showarrow": false,
          "text": "-0.23",
          "x": "CPUGFX%",
          "xref": "x",
          "y": "GFXMHz",
          "yref": "y"
         },
         {
          "font": {
           "color": "#FFFFFF"
          },
          "showarrow": false,
          "text": "0.01",
          "x": "Pkg_J",
          "xref": "x",
          "y": "GFXMHz",
          "yref": "y"
         },
         {
          "font": {
           "color": "#FFFFFF"
          },
          "showarrow": false,
          "text": "-0.02",
          "x": "Cor_J",
          "xref": "x",
          "y": "GFXMHz",
          "yref": "y"
         },
         {
          "font": {
           "color": "#FFFFFF"
          },
          "showarrow": false,
          "text": "0.15",
          "x": "GFX_J",
          "xref": "x",
          "y": "GFXMHz",
          "yref": "y"
         },
         {
          "font": {
           "color": "#FFFFFF"
          },
          "showarrow": false,
          "text": "0.17",
          "x": "RAM_J",
          "xref": "x",
          "y": "GFXMHz",
          "yref": "y"
         },
         {
          "font": {
           "color": "#FFFFFF"
          },
          "showarrow": false,
          "text": "nan",
          "x": "time_elapsed",
          "xref": "x",
          "y": "GFXAMHz",
          "yref": "y"
         },
         {
          "font": {
           "color": "#FFFFFF"
          },
          "showarrow": false,
          "text": "nan",
          "x": "Avg_MHz",
          "xref": "x",
          "y": "GFXAMHz",
          "yref": "y"
         },
         {
          "font": {
           "color": "#FFFFFF"
          },
          "showarrow": false,
          "text": "nan",
          "x": "Busy%",
          "xref": "x",
          "y": "GFXAMHz",
          "yref": "y"
         },
         {
          "font": {
           "color": "#FFFFFF"
          },
          "showarrow": false,
          "text": "nan",
          "x": "IPC",
          "xref": "x",
          "y": "GFXAMHz",
          "yref": "y"
         },
         {
          "font": {
           "color": "#FFFFFF"
          },
          "showarrow": false,
          "text": "nan",
          "x": "IRQ",
          "xref": "x",
          "y": "GFXAMHz",
          "yref": "y"
         },
         {
          "font": {
           "color": "#FFFFFF"
          },
          "showarrow": false,
          "text": "nan",
          "x": "POLL",
          "xref": "x",
          "y": "GFXAMHz",
          "yref": "y"
         },
         {
          "font": {
           "color": "#FFFFFF"
          },
          "showarrow": false,
          "text": "nan",
          "x": "C1%",
          "xref": "x",
          "y": "GFXAMHz",
          "yref": "y"
         },
         {
          "font": {
           "color": "#FFFFFF"
          },
          "showarrow": false,
          "text": "nan",
          "x": "C1E%",
          "xref": "x",
          "y": "GFXAMHz",
          "yref": "y"
         },
         {
          "font": {
           "color": "#FFFFFF"
          },
          "showarrow": false,
          "text": "nan",
          "x": "C3%",
          "xref": "x",
          "y": "GFXAMHz",
          "yref": "y"
         },
         {
          "font": {
           "color": "#FFFFFF"
          },
          "showarrow": false,
          "text": "nan",
          "x": "C6%",
          "xref": "x",
          "y": "GFXAMHz",
          "yref": "y"
         },
         {
          "font": {
           "color": "#FFFFFF"
          },
          "showarrow": false,
          "text": "nan",
          "x": "C7s%",
          "xref": "x",
          "y": "GFXAMHz",
          "yref": "y"
         },
         {
          "font": {
           "color": "#FFFFFF"
          },
          "showarrow": false,
          "text": "nan",
          "x": "C8%",
          "xref": "x",
          "y": "GFXAMHz",
          "yref": "y"
         },
         {
          "font": {
           "color": "#FFFFFF"
          },
          "showarrow": false,
          "text": "nan",
          "x": "C9%",
          "xref": "x",
          "y": "GFXAMHz",
          "yref": "y"
         },
         {
          "font": {
           "color": "#FFFFFF"
          },
          "showarrow": false,
          "text": "nan",
          "x": "C10%",
          "xref": "x",
          "y": "GFXAMHz",
          "yref": "y"
         },
         {
          "font": {
           "color": "#FFFFFF"
          },
          "showarrow": false,
          "text": "nan",
          "x": "CPU%c1",
          "xref": "x",
          "y": "GFXAMHz",
          "yref": "y"
         },
         {
          "font": {
           "color": "#FFFFFF"
          },
          "showarrow": false,
          "text": "nan",
          "x": "CPU%c3",
          "xref": "x",
          "y": "GFXAMHz",
          "yref": "y"
         },
         {
          "font": {
           "color": "#FFFFFF"
          },
          "showarrow": false,
          "text": "nan",
          "x": "CPU%c6",
          "xref": "x",
          "y": "GFXAMHz",
          "yref": "y"
         },
         {
          "font": {
           "color": "#FFFFFF"
          },
          "showarrow": false,
          "text": "nan",
          "x": "CPU%c7",
          "xref": "x",
          "y": "GFXAMHz",
          "yref": "y"
         },
         {
          "font": {
           "color": "#FFFFFF"
          },
          "showarrow": false,
          "text": "nan",
          "x": "CoreTmp",
          "xref": "x",
          "y": "GFXAMHz",
          "yref": "y"
         },
         {
          "font": {
           "color": "#FFFFFF"
          },
          "showarrow": false,
          "text": "nan",
          "x": "PkgTmp",
          "xref": "x",
          "y": "GFXAMHz",
          "yref": "y"
         },
         {
          "font": {
           "color": "#FFFFFF"
          },
          "showarrow": false,
          "text": "nan",
          "x": "GFX%rc6",
          "xref": "x",
          "y": "GFXAMHz",
          "yref": "y"
         },
         {
          "font": {
           "color": "#FFFFFF"
          },
          "showarrow": false,
          "text": "nan",
          "x": "GFXMHz",
          "xref": "x",
          "y": "GFXAMHz",
          "yref": "y"
         },
         {
          "font": {
           "color": "#FFFFFF"
          },
          "showarrow": false,
          "text": "nan",
          "x": "GFXAMHz",
          "xref": "x",
          "y": "GFXAMHz",
          "yref": "y"
         },
         {
          "font": {
           "color": "#FFFFFF"
          },
          "showarrow": false,
          "text": "nan",
          "x": "Totl%C0",
          "xref": "x",
          "y": "GFXAMHz",
          "yref": "y"
         },
         {
          "font": {
           "color": "#FFFFFF"
          },
          "showarrow": false,
          "text": "nan",
          "x": "Any%C0",
          "xref": "x",
          "y": "GFXAMHz",
          "yref": "y"
         },
         {
          "font": {
           "color": "#FFFFFF"
          },
          "showarrow": false,
          "text": "nan",
          "x": "GFX%C0",
          "xref": "x",
          "y": "GFXAMHz",
          "yref": "y"
         },
         {
          "font": {
           "color": "#FFFFFF"
          },
          "showarrow": false,
          "text": "nan",
          "x": "CPUGFX%",
          "xref": "x",
          "y": "GFXAMHz",
          "yref": "y"
         },
         {
          "font": {
           "color": "#FFFFFF"
          },
          "showarrow": false,
          "text": "nan",
          "x": "Pkg_J",
          "xref": "x",
          "y": "GFXAMHz",
          "yref": "y"
         },
         {
          "font": {
           "color": "#FFFFFF"
          },
          "showarrow": false,
          "text": "nan",
          "x": "Cor_J",
          "xref": "x",
          "y": "GFXAMHz",
          "yref": "y"
         },
         {
          "font": {
           "color": "#FFFFFF"
          },
          "showarrow": false,
          "text": "nan",
          "x": "GFX_J",
          "xref": "x",
          "y": "GFXAMHz",
          "yref": "y"
         },
         {
          "font": {
           "color": "#FFFFFF"
          },
          "showarrow": false,
          "text": "nan",
          "x": "RAM_J",
          "xref": "x",
          "y": "GFXAMHz",
          "yref": "y"
         },
         {
          "font": {
           "color": "#FFFFFF"
          },
          "showarrow": false,
          "text": "0.2",
          "x": "time_elapsed",
          "xref": "x",
          "y": "Totl%C0",
          "yref": "y"
         },
         {
          "font": {
           "color": "#FFFFFF"
          },
          "showarrow": false,
          "text": "0.94",
          "x": "Avg_MHz",
          "xref": "x",
          "y": "Totl%C0",
          "yref": "y"
         },
         {
          "font": {
           "color": "#FFFFFF"
          },
          "showarrow": false,
          "text": "1.0",
          "x": "Busy%",
          "xref": "x",
          "y": "Totl%C0",
          "yref": "y"
         },
         {
          "font": {
           "color": "#FFFFFF"
          },
          "showarrow": false,
          "text": "-0.65",
          "x": "IPC",
          "xref": "x",
          "y": "Totl%C0",
          "yref": "y"
         },
         {
          "font": {
           "color": "#FFFFFF"
          },
          "showarrow": false,
          "text": "0.29",
          "x": "IRQ",
          "xref": "x",
          "y": "Totl%C0",
          "yref": "y"
         },
         {
          "font": {
           "color": "#FFFFFF"
          },
          "showarrow": false,
          "text": "0.65",
          "x": "POLL",
          "xref": "x",
          "y": "Totl%C0",
          "yref": "y"
         },
         {
          "font": {
           "color": "#FFFFFF"
          },
          "showarrow": false,
          "text": "0.91",
          "x": "C1%",
          "xref": "x",
          "y": "Totl%C0",
          "yref": "y"
         },
         {
          "font": {
           "color": "#FFFFFF"
          },
          "showarrow": false,
          "text": "0.92",
          "x": "C1E%",
          "xref": "x",
          "y": "Totl%C0",
          "yref": "y"
         },
         {
          "font": {
           "color": "#FFFFFF"
          },
          "showarrow": false,
          "text": "0.89",
          "x": "C3%",
          "xref": "x",
          "y": "Totl%C0",
          "yref": "y"
         },
         {
          "font": {
           "color": "#FFFFFF"
          },
          "showarrow": false,
          "text": "0.67",
          "x": "C6%",
          "xref": "x",
          "y": "Totl%C0",
          "yref": "y"
         },
         {
          "font": {
           "color": "#FFFFFF"
          },
          "showarrow": false,
          "text": "0.28",
          "x": "C7s%",
          "xref": "x",
          "y": "Totl%C0",
          "yref": "y"
         },
         {
          "font": {
           "color": "#FFFFFF"
          },
          "showarrow": false,
          "text": "0.48",
          "x": "C8%",
          "xref": "x",
          "y": "Totl%C0",
          "yref": "y"
         },
         {
          "font": {
           "color": "#FFFFFF"
          },
          "showarrow": false,
          "text": "0.08",
          "x": "C9%",
          "xref": "x",
          "y": "Totl%C0",
          "yref": "y"
         },
         {
          "font": {
           "color": "#FFFFFF"
          },
          "showarrow": false,
          "text": "-0.47",
          "x": "C10%",
          "xref": "x",
          "y": "Totl%C0",
          "yref": "y"
         },
         {
          "font": {
           "color": "#FFFFFF"
          },
          "showarrow": false,
          "text": "0.93",
          "x": "CPU%c1",
          "xref": "x",
          "y": "Totl%C0",
          "yref": "y"
         },
         {
          "font": {
           "color": "#FFFFFF"
          },
          "showarrow": false,
          "text": "0.84",
          "x": "CPU%c3",
          "xref": "x",
          "y": "Totl%C0",
          "yref": "y"
         },
         {
          "font": {
           "color": "#FFFFFF"
          },
          "showarrow": false,
          "text": "0.33",
          "x": "CPU%c6",
          "xref": "x",
          "y": "Totl%C0",
          "yref": "y"
         },
         {
          "font": {
           "color": "#FFFFFF"
          },
          "showarrow": false,
          "text": "-0.95",
          "x": "CPU%c7",
          "xref": "x",
          "y": "Totl%C0",
          "yref": "y"
         },
         {
          "font": {
           "color": "#FFFFFF"
          },
          "showarrow": false,
          "text": "0.08",
          "x": "CoreTmp",
          "xref": "x",
          "y": "Totl%C0",
          "yref": "y"
         },
         {
          "font": {
           "color": "#FFFFFF"
          },
          "showarrow": false,
          "text": "0.1",
          "x": "PkgTmp",
          "xref": "x",
          "y": "Totl%C0",
          "yref": "y"
         },
         {
          "font": {
           "color": "#FFFFFF"
          },
          "showarrow": false,
          "text": "0.23",
          "x": "GFX%rc6",
          "xref": "x",
          "y": "Totl%C0",
          "yref": "y"
         },
         {
          "font": {
           "color": "#FFFFFF"
          },
          "showarrow": false,
          "text": "-0.02",
          "x": "GFXMHz",
          "xref": "x",
          "y": "Totl%C0",
          "yref": "y"
         },
         {
          "font": {
           "color": "#FFFFFF"
          },
          "showarrow": false,
          "text": "nan",
          "x": "GFXAMHz",
          "xref": "x",
          "y": "Totl%C0",
          "yref": "y"
         },
         {
          "font": {
           "color": "#FFFFFF"
          },
          "showarrow": false,
          "text": "1.0",
          "x": "Totl%C0",
          "xref": "x",
          "y": "Totl%C0",
          "yref": "y"
         },
         {
          "font": {
           "color": "#FFFFFF"
          },
          "showarrow": false,
          "text": "-0.04",
          "x": "Any%C0",
          "xref": "x",
          "y": "Totl%C0",
          "yref": "y"
         },
         {
          "font": {
           "color": "#FFFFFF"
          },
          "showarrow": false,
          "text": "-0.06",
          "x": "GFX%C0",
          "xref": "x",
          "y": "Totl%C0",
          "yref": "y"
         },
         {
          "font": {
           "color": "#FFFFFF"
          },
          "showarrow": false,
          "text": "-0.05",
          "x": "CPUGFX%",
          "xref": "x",
          "y": "Totl%C0",
          "yref": "y"
         },
         {
          "font": {
           "color": "#FFFFFF"
          },
          "showarrow": false,
          "text": "0.54",
          "x": "Pkg_J",
          "xref": "x",
          "y": "Totl%C0",
          "yref": "y"
         },
         {
          "font": {
           "color": "#FFFFFF"
          },
          "showarrow": false,
          "text": "0.54",
          "x": "Cor_J",
          "xref": "x",
          "y": "Totl%C0",
          "yref": "y"
         },
         {
          "font": {
           "color": "#FFFFFF"
          },
          "showarrow": false,
          "text": "0.09",
          "x": "GFX_J",
          "xref": "x",
          "y": "Totl%C0",
          "yref": "y"
         },
         {
          "font": {
           "color": "#FFFFFF"
          },
          "showarrow": false,
          "text": "0.63",
          "x": "RAM_J",
          "xref": "x",
          "y": "Totl%C0",
          "yref": "y"
         },
         {
          "font": {
           "color": "#FFFFFF"
          },
          "showarrow": false,
          "text": "-0.38",
          "x": "time_elapsed",
          "xref": "x",
          "y": "Any%C0",
          "yref": "y"
         },
         {
          "font": {
           "color": "#FFFFFF"
          },
          "showarrow": false,
          "text": "0.14",
          "x": "Avg_MHz",
          "xref": "x",
          "y": "Any%C0",
          "yref": "y"
         },
         {
          "font": {
           "color": "#FFFFFF"
          },
          "showarrow": false,
          "text": "-0.02",
          "x": "Busy%",
          "xref": "x",
          "y": "Any%C0",
          "yref": "y"
         },
         {
          "font": {
           "color": "#FFFFFF"
          },
          "showarrow": false,
          "text": "0.1",
          "x": "IPC",
          "xref": "x",
          "y": "Any%C0",
          "yref": "y"
         },
         {
          "font": {
           "color": "#FFFFFF"
          },
          "showarrow": false,
          "text": "-0.94",
          "x": "IRQ",
          "xref": "x",
          "y": "Any%C0",
          "yref": "y"
         },
         {
          "font": {
           "color": "#FFFFFF"
          },
          "showarrow": false,
          "text": "0.01",
          "x": "POLL",
          "xref": "x",
          "y": "Any%C0",
          "yref": "y"
         },
         {
          "font": {
           "color": "#FFFFFF"
          },
          "showarrow": false,
          "text": "-0.02",
          "x": "C1%",
          "xref": "x",
          "y": "Any%C0",
          "yref": "y"
         },
         {
          "font": {
           "color": "#FFFFFF"
          },
          "showarrow": false,
          "text": "-0.03",
          "x": "C1E%",
          "xref": "x",
          "y": "Any%C0",
          "yref": "y"
         },
         {
          "font": {
           "color": "#FFFFFF"
          },
          "showarrow": false,
          "text": "-0.1",
          "x": "C3%",
          "xref": "x",
          "y": "Any%C0",
          "yref": "y"
         },
         {
          "font": {
           "color": "#FFFFFF"
          },
          "showarrow": false,
          "text": "-0.63",
          "x": "C6%",
          "xref": "x",
          "y": "Any%C0",
          "yref": "y"
         },
         {
          "font": {
           "color": "#FFFFFF"
          },
          "showarrow": false,
          "text": "0.02",
          "x": "C7s%",
          "xref": "x",
          "y": "Any%C0",
          "yref": "y"
         },
         {
          "font": {
           "color": "#FFFFFF"
          },
          "showarrow": false,
          "text": "-0.78",
          "x": "C8%",
          "xref": "x",
          "y": "Any%C0",
          "yref": "y"
         },
         {
          "font": {
           "color": "#FFFFFF"
          },
          "showarrow": false,
          "text": "-0.94",
          "x": "C9%",
          "xref": "x",
          "y": "Any%C0",
          "yref": "y"
         },
         {
          "font": {
           "color": "#FFFFFF"
          },
          "showarrow": false,
          "text": "0.86",
          "x": "C10%",
          "xref": "x",
          "y": "Any%C0",
          "yref": "y"
         },
         {
          "font": {
           "color": "#FFFFFF"
          },
          "showarrow": false,
          "text": "-0.38",
          "x": "CPU%c1",
          "xref": "x",
          "y": "Any%C0",
          "yref": "y"
         },
         {
          "font": {
           "color": "#FFFFFF"
          },
          "showarrow": false,
          "text": "-0.08",
          "x": "CPU%c3",
          "xref": "x",
          "y": "Any%C0",
          "yref": "y"
         },
         {
          "font": {
           "color": "#FFFFFF"
          },
          "showarrow": false,
          "text": "-0.84",
          "x": "CPU%c6",
          "xref": "x",
          "y": "Any%C0",
          "yref": "y"
         },
         {
          "font": {
           "color": "#FFFFFF"
          },
          "showarrow": false,
          "text": "0.32",
          "x": "CPU%c7",
          "xref": "x",
          "y": "Any%C0",
          "yref": "y"
         },
         {
          "font": {
           "color": "#FFFFFF"
          },
          "showarrow": false,
          "text": "-0.46",
          "x": "CoreTmp",
          "xref": "x",
          "y": "Any%C0",
          "yref": "y"
         },
         {
          "font": {
           "color": "#FFFFFF"
          },
          "showarrow": false,
          "text": "-0.51",
          "x": "PkgTmp",
          "xref": "x",
          "y": "Any%C0",
          "yref": "y"
         },
         {
          "font": {
           "color": "#FFFFFF"
          },
          "showarrow": false,
          "text": "-0.1",
          "x": "GFX%rc6",
          "xref": "x",
          "y": "Any%C0",
          "yref": "y"
         },
         {
          "font": {
           "color": "#FFFFFF"
          },
          "showarrow": false,
          "text": "0.02",
          "x": "GFXMHz",
          "xref": "x",
          "y": "Any%C0",
          "yref": "y"
         },
         {
          "font": {
           "color": "#FFFFFF"
          },
          "showarrow": false,
          "text": "nan",
          "x": "GFXAMHz",
          "xref": "x",
          "y": "Any%C0",
          "yref": "y"
         },
         {
          "font": {
           "color": "#FFFFFF"
          },
          "showarrow": false,
          "text": "-0.04",
          "x": "Totl%C0",
          "xref": "x",
          "y": "Any%C0",
          "yref": "y"
         },
         {
          "font": {
           "color": "#FFFFFF"
          },
          "showarrow": false,
          "text": "1.0",
          "x": "Any%C0",
          "xref": "x",
          "y": "Any%C0",
          "yref": "y"
         },
         {
          "font": {
           "color": "#FFFFFF"
          },
          "showarrow": false,
          "text": "0.09",
          "x": "GFX%C0",
          "xref": "x",
          "y": "Any%C0",
          "yref": "y"
         },
         {
          "font": {
           "color": "#FFFFFF"
          },
          "showarrow": false,
          "text": "0.15",
          "x": "CPUGFX%",
          "xref": "x",
          "y": "Any%C0",
          "yref": "y"
         },
         {
          "font": {
           "color": "#FFFFFF"
          },
          "showarrow": false,
          "text": "-0.15",
          "x": "Pkg_J",
          "xref": "x",
          "y": "Any%C0",
          "yref": "y"
         },
         {
          "font": {
           "color": "#FFFFFF"
          },
          "showarrow": false,
          "text": "-0.1",
          "x": "Cor_J",
          "xref": "x",
          "y": "Any%C0",
          "yref": "y"
         },
         {
          "font": {
           "color": "#FFFFFF"
          },
          "showarrow": false,
          "text": "-0.35",
          "x": "GFX_J",
          "xref": "x",
          "y": "Any%C0",
          "yref": "y"
         },
         {
          "font": {
           "color": "#FFFFFF"
          },
          "showarrow": false,
          "text": "-0.31",
          "x": "RAM_J",
          "xref": "x",
          "y": "Any%C0",
          "yref": "y"
         },
         {
          "font": {
           "color": "#FFFFFF"
          },
          "showarrow": false,
          "text": "-0.44",
          "x": "time_elapsed",
          "xref": "x",
          "y": "GFX%C0",
          "yref": "y"
         },
         {
          "font": {
           "color": "#FFFFFF"
          },
          "showarrow": false,
          "text": "-0.0",
          "x": "Avg_MHz",
          "xref": "x",
          "y": "GFX%C0",
          "yref": "y"
         },
         {
          "font": {
           "color": "#FFFFFF"
          },
          "showarrow": false,
          "text": "-0.06",
          "x": "Busy%",
          "xref": "x",
          "y": "GFX%C0",
          "yref": "y"
         },
         {
          "font": {
           "color": "#FFFFFF"
          },
          "showarrow": false,
          "text": "0.24",
          "x": "IPC",
          "xref": "x",
          "y": "GFX%C0",
          "yref": "y"
         },
         {
          "font": {
           "color": "#FFFFFF"
          },
          "showarrow": false,
          "text": "-0.09",
          "x": "IRQ",
          "xref": "x",
          "y": "GFX%C0",
          "yref": "y"
         },
         {
          "font": {
           "color": "#FFFFFF"
          },
          "showarrow": false,
          "text": "-0.1",
          "x": "POLL",
          "xref": "x",
          "y": "GFX%C0",
          "yref": "y"
         },
         {
          "font": {
           "color": "#FFFFFF"
          },
          "showarrow": false,
          "text": "-0.17",
          "x": "C1%",
          "xref": "x",
          "y": "GFX%C0",
          "yref": "y"
         },
         {
          "font": {
           "color": "#FFFFFF"
          },
          "showarrow": false,
          "text": "-0.05",
          "x": "C1E%",
          "xref": "x",
          "y": "GFX%C0",
          "yref": "y"
         },
         {
          "font": {
           "color": "#FFFFFF"
          },
          "showarrow": false,
          "text": "-0.01",
          "x": "C3%",
          "xref": "x",
          "y": "GFX%C0",
          "yref": "y"
         },
         {
          "font": {
           "color": "#FFFFFF"
          },
          "showarrow": false,
          "text": "0.01",
          "x": "C6%",
          "xref": "x",
          "y": "GFX%C0",
          "yref": "y"
         },
         {
          "font": {
           "color": "#FFFFFF"
          },
          "showarrow": false,
          "text": "-0.04",
          "x": "C7s%",
          "xref": "x",
          "y": "GFX%C0",
          "yref": "y"
         },
         {
          "font": {
           "color": "#FFFFFF"
          },
          "showarrow": false,
          "text": "0.02",
          "x": "C8%",
          "xref": "x",
          "y": "GFX%C0",
          "yref": "y"
         },
         {
          "font": {
           "color": "#FFFFFF"
          },
          "showarrow": false,
          "text": "-0.03",
          "x": "C9%",
          "xref": "x",
          "y": "GFX%C0",
          "yref": "y"
         },
         {
          "font": {
           "color": "#FFFFFF"
          },
          "showarrow": false,
          "text": "0.03",
          "x": "C10%",
          "xref": "x",
          "y": "GFX%C0",
          "yref": "y"
         },
         {
          "font": {
           "color": "#FFFFFF"
          },
          "showarrow": false,
          "text": "-0.11",
          "x": "CPU%c1",
          "xref": "x",
          "y": "GFX%C0",
          "yref": "y"
         },
         {
          "font": {
           "color": "#FFFFFF"
          },
          "showarrow": false,
          "text": "0.0",
          "x": "CPU%c3",
          "xref": "x",
          "y": "GFX%C0",
          "yref": "y"
         },
         {
          "font": {
           "color": "#FFFFFF"
          },
          "showarrow": false,
          "text": "0.03",
          "x": "CPU%c6",
          "xref": "x",
          "y": "GFX%C0",
          "yref": "y"
         },
         {
          "font": {
           "color": "#FFFFFF"
          },
          "showarrow": false,
          "text": "0.07",
          "x": "CPU%c7",
          "xref": "x",
          "y": "GFX%C0",
          "yref": "y"
         },
         {
          "font": {
           "color": "#FFFFFF"
          },
          "showarrow": false,
          "text": "0.03",
          "x": "CoreTmp",
          "xref": "x",
          "y": "GFX%C0",
          "yref": "y"
         },
         {
          "font": {
           "color": "#FFFFFF"
          },
          "showarrow": false,
          "text": "-0.0",
          "x": "PkgTmp",
          "xref": "x",
          "y": "GFX%C0",
          "yref": "y"
         },
         {
          "font": {
           "color": "#FFFFFF"
          },
          "showarrow": false,
          "text": "-0.68",
          "x": "GFX%rc6",
          "xref": "x",
          "y": "GFX%C0",
          "yref": "y"
         },
         {
          "font": {
           "color": "#FFFFFF"
          },
          "showarrow": false,
          "text": "-0.23",
          "x": "GFXMHz",
          "xref": "x",
          "y": "GFX%C0",
          "yref": "y"
         },
         {
          "font": {
           "color": "#FFFFFF"
          },
          "showarrow": false,
          "text": "nan",
          "x": "GFXAMHz",
          "xref": "x",
          "y": "GFX%C0",
          "yref": "y"
         },
         {
          "font": {
           "color": "#FFFFFF"
          },
          "showarrow": false,
          "text": "-0.06",
          "x": "Totl%C0",
          "xref": "x",
          "y": "GFX%C0",
          "yref": "y"
         },
         {
          "font": {
           "color": "#FFFFFF"
          },
          "showarrow": false,
          "text": "0.09",
          "x": "Any%C0",
          "xref": "x",
          "y": "GFX%C0",
          "yref": "y"
         },
         {
          "font": {
           "color": "#FFFFFF"
          },
          "showarrow": false,
          "text": "1.0",
          "x": "GFX%C0",
          "xref": "x",
          "y": "GFX%C0",
          "yref": "y"
         },
         {
          "font": {
           "color": "#FFFFFF"
          },
          "showarrow": false,
          "text": "0.99",
          "x": "CPUGFX%",
          "xref": "x",
          "y": "GFX%C0",
          "yref": "y"
         },
         {
          "font": {
           "color": "#FFFFFF"
          },
          "showarrow": false,
          "text": "-0.13",
          "x": "Pkg_J",
          "xref": "x",
          "y": "GFX%C0",
          "yref": "y"
         },
         {
          "font": {
           "color": "#FFFFFF"
          },
          "showarrow": false,
          "text": "-0.09",
          "x": "Cor_J",
          "xref": "x",
          "y": "GFX%C0",
          "yref": "y"
         },
         {
          "font": {
           "color": "#FFFFFF"
          },
          "showarrow": false,
          "text": "0.49",
          "x": "GFX_J",
          "xref": "x",
          "y": "GFX%C0",
          "yref": "y"
         },
         {
          "font": {
           "color": "#FFFFFF"
          },
          "showarrow": false,
          "text": "-0.33",
          "x": "RAM_J",
          "xref": "x",
          "y": "GFX%C0",
          "yref": "y"
         },
         {
          "font": {
           "color": "#FFFFFF"
          },
          "showarrow": false,
          "text": "-0.47",
          "x": "time_elapsed",
          "xref": "x",
          "y": "CPUGFX%",
          "yref": "y"
         },
         {
          "font": {
           "color": "#FFFFFF"
          },
          "showarrow": false,
          "text": "0.01",
          "x": "Avg_MHz",
          "xref": "x",
          "y": "CPUGFX%",
          "yref": "y"
         },
         {
          "font": {
           "color": "#FFFFFF"
          },
          "showarrow": false,
          "text": "-0.04",
          "x": "Busy%",
          "xref": "x",
          "y": "CPUGFX%",
          "yref": "y"
         },
         {
          "font": {
           "color": "#FFFFFF"
          },
          "showarrow": false,
          "text": "0.25",
          "x": "IPC",
          "xref": "x",
          "y": "CPUGFX%",
          "yref": "y"
         },
         {
          "font": {
           "color": "#FFFFFF"
          },
          "showarrow": false,
          "text": "-0.15",
          "x": "IRQ",
          "xref": "x",
          "y": "CPUGFX%",
          "yref": "y"
         },
         {
          "font": {
           "color": "#FFFFFF"
          },
          "showarrow": false,
          "text": "-0.1",
          "x": "POLL",
          "xref": "x",
          "y": "CPUGFX%",
          "yref": "y"
         },
         {
          "font": {
           "color": "#FFFFFF"
          },
          "showarrow": false,
          "text": "-0.15",
          "x": "C1%",
          "xref": "x",
          "y": "CPUGFX%",
          "yref": "y"
         },
         {
          "font": {
           "color": "#FFFFFF"
          },
          "showarrow": false,
          "text": "-0.04",
          "x": "C1E%",
          "xref": "x",
          "y": "CPUGFX%",
          "yref": "y"
         },
         {
          "font": {
           "color": "#FFFFFF"
          },
          "showarrow": false,
          "text": "0.0",
          "x": "C3%",
          "xref": "x",
          "y": "CPUGFX%",
          "yref": "y"
         },
         {
          "font": {
           "color": "#FFFFFF"
          },
          "showarrow": false,
          "text": "-0.02",
          "x": "C6%",
          "xref": "x",
          "y": "CPUGFX%",
          "yref": "y"
         },
         {
          "font": {
           "color": "#FFFFFF"
          },
          "showarrow": false,
          "text": "-0.04",
          "x": "C7s%",
          "xref": "x",
          "y": "CPUGFX%",
          "yref": "y"
         },
         {
          "font": {
           "color": "#FFFFFF"
          },
          "showarrow": false,
          "text": "-0.02",
          "x": "C8%",
          "xref": "x",
          "y": "CPUGFX%",
          "yref": "y"
         },
         {
          "font": {
           "color": "#FFFFFF"
          },
          "showarrow": false,
          "text": "-0.09",
          "x": "C9%",
          "xref": "x",
          "y": "CPUGFX%",
          "yref": "y"
         },
         {
          "font": {
           "color": "#FFFFFF"
          },
          "showarrow": false,
          "text": "0.07",
          "x": "C10%",
          "xref": "x",
          "y": "CPUGFX%",
          "yref": "y"
         },
         {
          "font": {
           "color": "#FFFFFF"
          },
          "showarrow": false,
          "text": "-0.12",
          "x": "CPU%c1",
          "xref": "x",
          "y": "CPUGFX%",
          "yref": "y"
         },
         {
          "font": {
           "color": "#FFFFFF"
          },
          "showarrow": false,
          "text": "0.01",
          "x": "CPU%c3",
          "xref": "x",
          "y": "CPUGFX%",
          "yref": "y"
         },
         {
          "font": {
           "color": "#FFFFFF"
          },
          "showarrow": false,
          "text": "-0.03",
          "x": "CPU%c6",
          "xref": "x",
          "y": "CPUGFX%",
          "yref": "y"
         },
         {
          "font": {
           "color": "#FFFFFF"
          },
          "showarrow": false,
          "text": "0.08",
          "x": "CPU%c7",
          "xref": "x",
          "y": "CPUGFX%",
          "yref": "y"
         },
         {
          "font": {
           "color": "#FFFFFF"
          },
          "showarrow": false,
          "text": "-0.01",
          "x": "CoreTmp",
          "xref": "x",
          "y": "CPUGFX%",
          "yref": "y"
         },
         {
          "font": {
           "color": "#FFFFFF"
          },
          "showarrow": false,
          "text": "-0.05",
          "x": "PkgTmp",
          "xref": "x",
          "y": "CPUGFX%",
          "yref": "y"
         },
         {
          "font": {
           "color": "#FFFFFF"
          },
          "showarrow": false,
          "text": "-0.67",
          "x": "GFX%rc6",
          "xref": "x",
          "y": "CPUGFX%",
          "yref": "y"
         },
         {
          "font": {
           "color": "#FFFFFF"
          },
          "showarrow": false,
          "text": "-0.23",
          "x": "GFXMHz",
          "xref": "x",
          "y": "CPUGFX%",
          "yref": "y"
         },
         {
          "font": {
           "color": "#FFFFFF"
          },
          "showarrow": false,
          "text": "nan",
          "x": "GFXAMHz",
          "xref": "x",
          "y": "CPUGFX%",
          "yref": "y"
         },
         {
          "font": {
           "color": "#FFFFFF"
          },
          "showarrow": false,
          "text": "-0.05",
          "x": "Totl%C0",
          "xref": "x",
          "y": "CPUGFX%",
          "yref": "y"
         },
         {
          "font": {
           "color": "#FFFFFF"
          },
          "showarrow": false,
          "text": "0.15",
          "x": "Any%C0",
          "xref": "x",
          "y": "CPUGFX%",
          "yref": "y"
         },
         {
          "font": {
           "color": "#FFFFFF"
          },
          "showarrow": false,
          "text": "0.99",
          "x": "GFX%C0",
          "xref": "x",
          "y": "CPUGFX%",
          "yref": "y"
         },
         {
          "font": {
           "color": "#FFFFFF"
          },
          "showarrow": false,
          "text": "1.0",
          "x": "CPUGFX%",
          "xref": "x",
          "y": "CPUGFX%",
          "yref": "y"
         },
         {
          "font": {
           "color": "#FFFFFF"
          },
          "showarrow": false,
          "text": "-0.16",
          "x": "Pkg_J",
          "xref": "x",
          "y": "CPUGFX%",
          "yref": "y"
         },
         {
          "font": {
           "color": "#FFFFFF"
          },
          "showarrow": false,
          "text": "-0.12",
          "x": "Cor_J",
          "xref": "x",
          "y": "CPUGFX%",
          "yref": "y"
         },
         {
          "font": {
           "color": "#FFFFFF"
          },
          "showarrow": false,
          "text": "0.45",
          "x": "GFX_J",
          "xref": "x",
          "y": "CPUGFX%",
          "yref": "y"
         },
         {
          "font": {
           "color": "#FFFFFF"
          },
          "showarrow": false,
          "text": "-0.36",
          "x": "RAM_J",
          "xref": "x",
          "y": "CPUGFX%",
          "yref": "y"
         },
         {
          "font": {
           "color": "#FFFFFF"
          },
          "showarrow": false,
          "text": "0.58",
          "x": "time_elapsed",
          "xref": "x",
          "y": "Pkg_J",
          "yref": "y"
         },
         {
          "font": {
           "color": "#FFFFFF"
          },
          "showarrow": false,
          "text": "0.61",
          "x": "Avg_MHz",
          "xref": "x",
          "y": "Pkg_J",
          "yref": "y"
         },
         {
          "font": {
           "color": "#FFFFFF"
          },
          "showarrow": false,
          "text": "0.54",
          "x": "Busy%",
          "xref": "x",
          "y": "Pkg_J",
          "yref": "y"
         },
         {
          "font": {
           "color": "#FFFFFF"
          },
          "showarrow": false,
          "text": "-0.76",
          "x": "IPC",
          "xref": "x",
          "y": "Pkg_J",
          "yref": "y"
         },
         {
          "font": {
           "color": "#FFFFFF"
          },
          "showarrow": false,
          "text": "0.35",
          "x": "IRQ",
          "xref": "x",
          "y": "Pkg_J",
          "yref": "y"
         },
         {
          "font": {
           "color": "#FFFFFF"
          },
          "showarrow": false,
          "text": "0.49",
          "x": "POLL",
          "xref": "x",
          "y": "Pkg_J",
          "yref": "y"
         },
         {
          "font": {
           "color": "#FFFFFF"
          },
          "showarrow": false,
          "text": "0.45",
          "x": "C1%",
          "xref": "x",
          "y": "Pkg_J",
          "yref": "y"
         },
         {
          "font": {
           "color": "#FFFFFF"
          },
          "showarrow": false,
          "text": "0.54",
          "x": "C1E%",
          "xref": "x",
          "y": "Pkg_J",
          "yref": "y"
         },
         {
          "font": {
           "color": "#FFFFFF"
          },
          "showarrow": false,
          "text": "0.54",
          "x": "C3%",
          "xref": "x",
          "y": "Pkg_J",
          "yref": "y"
         },
         {
          "font": {
           "color": "#FFFFFF"
          },
          "showarrow": false,
          "text": "0.48",
          "x": "C6%",
          "xref": "x",
          "y": "Pkg_J",
          "yref": "y"
         },
         {
          "font": {
           "color": "#FFFFFF"
          },
          "showarrow": false,
          "text": "0.2",
          "x": "C7s%",
          "xref": "x",
          "y": "Pkg_J",
          "yref": "y"
         },
         {
          "font": {
           "color": "#FFFFFF"
          },
          "showarrow": false,
          "text": "0.32",
          "x": "C8%",
          "xref": "x",
          "y": "Pkg_J",
          "yref": "y"
         },
         {
          "font": {
           "color": "#FFFFFF"
          },
          "showarrow": false,
          "text": "0.22",
          "x": "C9%",
          "xref": "x",
          "y": "Pkg_J",
          "yref": "y"
         },
         {
          "font": {
           "color": "#FFFFFF"
          },
          "showarrow": false,
          "text": "-0.39",
          "x": "C10%",
          "xref": "x",
          "y": "Pkg_J",
          "yref": "y"
         },
         {
          "font": {
           "color": "#FFFFFF"
          },
          "showarrow": false,
          "text": "0.54",
          "x": "CPU%c1",
          "xref": "x",
          "y": "Pkg_J",
          "yref": "y"
         },
         {
          "font": {
           "color": "#FFFFFF"
          },
          "showarrow": false,
          "text": "0.52",
          "x": "CPU%c3",
          "xref": "x",
          "y": "Pkg_J",
          "yref": "y"
         },
         {
          "font": {
           "color": "#FFFFFF"
          },
          "showarrow": false,
          "text": "0.33",
          "x": "CPU%c6",
          "xref": "x",
          "y": "Pkg_J",
          "yref": "y"
         },
         {
          "font": {
           "color": "#FFFFFF"
          },
          "showarrow": false,
          "text": "-0.56",
          "x": "CPU%c7",
          "xref": "x",
          "y": "Pkg_J",
          "yref": "y"
         },
         {
          "font": {
           "color": "#FFFFFF"
          },
          "showarrow": false,
          "text": "0.23",
          "x": "CoreTmp",
          "xref": "x",
          "y": "Pkg_J",
          "yref": "y"
         },
         {
          "font": {
           "color": "#FFFFFF"
          },
          "showarrow": false,
          "text": "0.25",
          "x": "PkgTmp",
          "xref": "x",
          "y": "Pkg_J",
          "yref": "y"
         },
         {
          "font": {
           "color": "#FFFFFF"
          },
          "showarrow": false,
          "text": "-0.0",
          "x": "GFX%rc6",
          "xref": "x",
          "y": "Pkg_J",
          "yref": "y"
         },
         {
          "font": {
           "color": "#FFFFFF"
          },
          "showarrow": false,
          "text": "0.01",
          "x": "GFXMHz",
          "xref": "x",
          "y": "Pkg_J",
          "yref": "y"
         },
         {
          "font": {
           "color": "#FFFFFF"
          },
          "showarrow": false,
          "text": "nan",
          "x": "GFXAMHz",
          "xref": "x",
          "y": "Pkg_J",
          "yref": "y"
         },
         {
          "font": {
           "color": "#FFFFFF"
          },
          "showarrow": false,
          "text": "0.54",
          "x": "Totl%C0",
          "xref": "x",
          "y": "Pkg_J",
          "yref": "y"
         },
         {
          "font": {
           "color": "#FFFFFF"
          },
          "showarrow": false,
          "text": "-0.15",
          "x": "Any%C0",
          "xref": "x",
          "y": "Pkg_J",
          "yref": "y"
         },
         {
          "font": {
           "color": "#FFFFFF"
          },
          "showarrow": false,
          "text": "-0.13",
          "x": "GFX%C0",
          "xref": "x",
          "y": "Pkg_J",
          "yref": "y"
         },
         {
          "font": {
           "color": "#FFFFFF"
          },
          "showarrow": false,
          "text": "-0.16",
          "x": "CPUGFX%",
          "xref": "x",
          "y": "Pkg_J",
          "yref": "y"
         },
         {
          "font": {
           "color": "#FFFFFF"
          },
          "showarrow": false,
          "text": "1.0",
          "x": "Pkg_J",
          "xref": "x",
          "y": "Pkg_J",
          "yref": "y"
         },
         {
          "font": {
           "color": "#FFFFFF"
          },
          "showarrow": false,
          "text": "0.99",
          "x": "Cor_J",
          "xref": "x",
          "y": "Pkg_J",
          "yref": "y"
         },
         {
          "font": {
           "color": "#FFFFFF"
          },
          "showarrow": false,
          "text": "0.37",
          "x": "GFX_J",
          "xref": "x",
          "y": "Pkg_J",
          "yref": "y"
         },
         {
          "font": {
           "color": "#FFFFFF"
          },
          "showarrow": false,
          "text": "0.7",
          "x": "RAM_J",
          "xref": "x",
          "y": "Pkg_J",
          "yref": "y"
         },
         {
          "font": {
           "color": "#FFFFFF"
          },
          "showarrow": false,
          "text": "0.48",
          "x": "time_elapsed",
          "xref": "x",
          "y": "Cor_J",
          "yref": "y"
         },
         {
          "font": {
           "color": "#FFFFFF"
          },
          "showarrow": false,
          "text": "0.64",
          "x": "Avg_MHz",
          "xref": "x",
          "y": "Cor_J",
          "yref": "y"
         },
         {
          "font": {
           "color": "#FFFFFF"
          },
          "showarrow": false,
          "text": "0.54",
          "x": "Busy%",
          "xref": "x",
          "y": "Cor_J",
          "yref": "y"
         },
         {
          "font": {
           "color": "#FFFFFF"
          },
          "showarrow": false,
          "text": "-0.73",
          "x": "IPC",
          "xref": "x",
          "y": "Cor_J",
          "yref": "y"
         },
         {
          "font": {
           "color": "#FFFFFF"
          },
          "showarrow": false,
          "text": "0.29",
          "x": "IRQ",
          "xref": "x",
          "y": "Cor_J",
          "yref": "y"
         },
         {
          "font": {
           "color": "#FFFFFF"
          },
          "showarrow": false,
          "text": "0.49",
          "x": "POLL",
          "xref": "x",
          "y": "Cor_J",
          "yref": "y"
         },
         {
          "font": {
           "color": "#FFFFFF"
          },
          "showarrow": false,
          "text": "0.45",
          "x": "C1%",
          "xref": "x",
          "y": "Cor_J",
          "yref": "y"
         },
         {
          "font": {
           "color": "#FFFFFF"
          },
          "showarrow": false,
          "text": "0.54",
          "x": "C1E%",
          "xref": "x",
          "y": "Cor_J",
          "yref": "y"
         },
         {
          "font": {
           "color": "#FFFFFF"
          },
          "showarrow": false,
          "text": "0.54",
          "x": "C3%",
          "xref": "x",
          "y": "Cor_J",
          "yref": "y"
         },
         {
          "font": {
           "color": "#FFFFFF"
          },
          "showarrow": false,
          "text": "0.45",
          "x": "C6%",
          "xref": "x",
          "y": "Cor_J",
          "yref": "y"
         },
         {
          "font": {
           "color": "#FFFFFF"
          },
          "showarrow": false,
          "text": "0.2",
          "x": "C7s%",
          "xref": "x",
          "y": "Cor_J",
          "yref": "y"
         },
         {
          "font": {
           "color": "#FFFFFF"
          },
          "showarrow": false,
          "text": "0.28",
          "x": "C8%",
          "xref": "x",
          "y": "Cor_J",
          "yref": "y"
         },
         {
          "font": {
           "color": "#FFFFFF"
          },
          "showarrow": false,
          "text": "0.17",
          "x": "C9%",
          "xref": "x",
          "y": "Cor_J",
          "yref": "y"
         },
         {
          "font": {
           "color": "#FFFFFF"
          },
          "showarrow": false,
          "text": "-0.34",
          "x": "C10%",
          "xref": "x",
          "y": "Cor_J",
          "yref": "y"
         },
         {
          "font": {
           "color": "#FFFFFF"
          },
          "showarrow": false,
          "text": "0.52",
          "x": "CPU%c1",
          "xref": "x",
          "y": "Cor_J",
          "yref": "y"
         },
         {
          "font": {
           "color": "#FFFFFF"
          },
          "showarrow": false,
          "text": "0.53",
          "x": "CPU%c3",
          "xref": "x",
          "y": "Cor_J",
          "yref": "y"
         },
         {
          "font": {
           "color": "#FFFFFF"
          },
          "showarrow": false,
          "text": "0.29",
          "x": "CPU%c6",
          "xref": "x",
          "y": "Cor_J",
          "yref": "y"
         },
         {
          "font": {
           "color": "#FFFFFF"
          },
          "showarrow": false,
          "text": "-0.54",
          "x": "CPU%c7",
          "xref": "x",
          "y": "Cor_J",
          "yref": "y"
         },
         {
          "font": {
           "color": "#FFFFFF"
          },
          "showarrow": false,
          "text": "0.16",
          "x": "CoreTmp",
          "xref": "x",
          "y": "Cor_J",
          "yref": "y"
         },
         {
          "font": {
           "color": "#FFFFFF"
          },
          "showarrow": false,
          "text": "0.17",
          "x": "PkgTmp",
          "xref": "x",
          "y": "Cor_J",
          "yref": "y"
         },
         {
          "font": {
           "color": "#FFFFFF"
          },
          "showarrow": false,
          "text": "-0.01",
          "x": "GFX%rc6",
          "xref": "x",
          "y": "Cor_J",
          "yref": "y"
         },
         {
          "font": {
           "color": "#FFFFFF"
          },
          "showarrow": false,
          "text": "-0.02",
          "x": "GFXMHz",
          "xref": "x",
          "y": "Cor_J",
          "yref": "y"
         },
         {
          "font": {
           "color": "#FFFFFF"
          },
          "showarrow": false,
          "text": "nan",
          "x": "GFXAMHz",
          "xref": "x",
          "y": "Cor_J",
          "yref": "y"
         },
         {
          "font": {
           "color": "#FFFFFF"
          },
          "showarrow": false,
          "text": "0.54",
          "x": "Totl%C0",
          "xref": "x",
          "y": "Cor_J",
          "yref": "y"
         },
         {
          "font": {
           "color": "#FFFFFF"
          },
          "showarrow": false,
          "text": "-0.1",
          "x": "Any%C0",
          "xref": "x",
          "y": "Cor_J",
          "yref": "y"
         },
         {
          "font": {
           "color": "#FFFFFF"
          },
          "showarrow": false,
          "text": "-0.09",
          "x": "GFX%C0",
          "xref": "x",
          "y": "Cor_J",
          "yref": "y"
         },
         {
          "font": {
           "color": "#FFFFFF"
          },
          "showarrow": false,
          "text": "-0.12",
          "x": "CPUGFX%",
          "xref": "x",
          "y": "Cor_J",
          "yref": "y"
         },
         {
          "font": {
           "color": "#FFFFFF"
          },
          "showarrow": false,
          "text": "0.99",
          "x": "Pkg_J",
          "xref": "x",
          "y": "Cor_J",
          "yref": "y"
         },
         {
          "font": {
           "color": "#FFFFFF"
          },
          "showarrow": false,
          "text": "1.0",
          "x": "Cor_J",
          "xref": "x",
          "y": "Cor_J",
          "yref": "y"
         },
         {
          "font": {
           "color": "#FFFFFF"
          },
          "showarrow": false,
          "text": "0.32",
          "x": "GFX_J",
          "xref": "x",
          "y": "Cor_J",
          "yref": "y"
         },
         {
          "font": {
           "color": "#FFFFFF"
          },
          "showarrow": false,
          "text": "0.62",
          "x": "RAM_J",
          "xref": "x",
          "y": "Cor_J",
          "yref": "y"
         },
         {
          "font": {
           "color": "#FFFFFF"
          },
          "showarrow": false,
          "text": "0.44",
          "x": "time_elapsed",
          "xref": "x",
          "y": "GFX_J",
          "yref": "y"
         },
         {
          "font": {
           "color": "#FFFFFF"
          },
          "showarrow": false,
          "text": "0.01",
          "x": "Avg_MHz",
          "xref": "x",
          "y": "GFX_J",
          "yref": "y"
         },
         {
          "font": {
           "color": "#FFFFFF"
          },
          "showarrow": false,
          "text": "0.08",
          "x": "Busy%",
          "xref": "x",
          "y": "GFX_J",
          "yref": "y"
         },
         {
          "font": {
           "color": "#FFFFFF"
          },
          "showarrow": false,
          "text": "-0.22",
          "x": "IPC",
          "xref": "x",
          "y": "GFX_J",
          "yref": "y"
         },
         {
          "font": {
           "color": "#FFFFFF"
          },
          "showarrow": false,
          "text": "0.4",
          "x": "IRQ",
          "xref": "x",
          "y": "GFX_J",
          "yref": "y"
         },
         {
          "font": {
           "color": "#FFFFFF"
          },
          "showarrow": false,
          "text": "0.03",
          "x": "POLL",
          "xref": "x",
          "y": "GFX_J",
          "yref": "y"
         },
         {
          "font": {
           "color": "#FFFFFF"
          },
          "showarrow": false,
          "text": "-0.01",
          "x": "C1%",
          "xref": "x",
          "y": "GFX_J",
          "yref": "y"
         },
         {
          "font": {
           "color": "#FFFFFF"
          },
          "showarrow": false,
          "text": "0.11",
          "x": "C1E%",
          "xref": "x",
          "y": "GFX_J",
          "yref": "y"
         },
         {
          "font": {
           "color": "#FFFFFF"
          },
          "showarrow": false,
          "text": "0.17",
          "x": "C3%",
          "xref": "x",
          "y": "GFX_J",
          "yref": "y"
         },
         {
          "font": {
           "color": "#FFFFFF"
          },
          "showarrow": false,
          "text": "0.34",
          "x": "C6%",
          "xref": "x",
          "y": "GFX_J",
          "yref": "y"
         },
         {
          "font": {
           "color": "#FFFFFF"
          },
          "showarrow": false,
          "text": "-0.06",
          "x": "C7s%",
          "xref": "x",
          "y": "GFX_J",
          "yref": "y"
         },
         {
          "font": {
           "color": "#FFFFFF"
          },
          "showarrow": false,
          "text": "0.36",
          "x": "C8%",
          "xref": "x",
          "y": "GFX_J",
          "yref": "y"
         },
         {
          "font": {
           "color": "#FFFFFF"
          },
          "showarrow": false,
          "text": "0.41",
          "x": "C9%",
          "xref": "x",
          "y": "GFX_J",
          "yref": "y"
         },
         {
          "font": {
           "color": "#FFFFFF"
          },
          "showarrow": false,
          "text": "-0.4",
          "x": "C10%",
          "xref": "x",
          "y": "GFX_J",
          "yref": "y"
         },
         {
          "font": {
           "color": "#FFFFFF"
          },
          "showarrow": false,
          "text": "0.19",
          "x": "CPU%c1",
          "xref": "x",
          "y": "GFX_J",
          "yref": "y"
         },
         {
          "font": {
           "color": "#FFFFFF"
          },
          "showarrow": false,
          "text": "0.17",
          "x": "CPU%c3",
          "xref": "x",
          "y": "GFX_J",
          "yref": "y"
         },
         {
          "font": {
           "color": "#FFFFFF"
          },
          "showarrow": false,
          "text": "0.4",
          "x": "CPU%c6",
          "xref": "x",
          "y": "GFX_J",
          "yref": "y"
         },
         {
          "font": {
           "color": "#FFFFFF"
          },
          "showarrow": false,
          "text": "-0.19",
          "x": "CPU%c7",
          "xref": "x",
          "y": "GFX_J",
          "yref": "y"
         },
         {
          "font": {
           "color": "#FFFFFF"
          },
          "showarrow": false,
          "text": "0.57",
          "x": "CoreTmp",
          "xref": "x",
          "y": "GFX_J",
          "yref": "y"
         },
         {
          "font": {
           "color": "#FFFFFF"
          },
          "showarrow": false,
          "text": "0.57",
          "x": "PkgTmp",
          "xref": "x",
          "y": "GFX_J",
          "yref": "y"
         },
         {
          "font": {
           "color": "#FFFFFF"
          },
          "showarrow": false,
          "text": "-0.56",
          "x": "GFX%rc6",
          "xref": "x",
          "y": "GFX_J",
          "yref": "y"
         },
         {
          "font": {
           "color": "#FFFFFF"
          },
          "showarrow": false,
          "text": "0.15",
          "x": "GFXMHz",
          "xref": "x",
          "y": "GFX_J",
          "yref": "y"
         },
         {
          "font": {
           "color": "#FFFFFF"
          },
          "showarrow": false,
          "text": "nan",
          "x": "GFXAMHz",
          "xref": "x",
          "y": "GFX_J",
          "yref": "y"
         },
         {
          "font": {
           "color": "#FFFFFF"
          },
          "showarrow": false,
          "text": "0.09",
          "x": "Totl%C0",
          "xref": "x",
          "y": "GFX_J",
          "yref": "y"
         },
         {
          "font": {
           "color": "#FFFFFF"
          },
          "showarrow": false,
          "text": "-0.35",
          "x": "Any%C0",
          "xref": "x",
          "y": "GFX_J",
          "yref": "y"
         },
         {
          "font": {
           "color": "#FFFFFF"
          },
          "showarrow": false,
          "text": "0.49",
          "x": "GFX%C0",
          "xref": "x",
          "y": "GFX_J",
          "yref": "y"
         },
         {
          "font": {
           "color": "#FFFFFF"
          },
          "showarrow": false,
          "text": "0.45",
          "x": "CPUGFX%",
          "xref": "x",
          "y": "GFX_J",
          "yref": "y"
         },
         {
          "font": {
           "color": "#FFFFFF"
          },
          "showarrow": false,
          "text": "0.37",
          "x": "Pkg_J",
          "xref": "x",
          "y": "GFX_J",
          "yref": "y"
         },
         {
          "font": {
           "color": "#FFFFFF"
          },
          "showarrow": false,
          "text": "0.32",
          "x": "Cor_J",
          "xref": "x",
          "y": "GFX_J",
          "yref": "y"
         },
         {
          "font": {
           "color": "#FFFFFF"
          },
          "showarrow": false,
          "text": "1.0",
          "x": "GFX_J",
          "xref": "x",
          "y": "GFX_J",
          "yref": "y"
         },
         {
          "font": {
           "color": "#FFFFFF"
          },
          "showarrow": false,
          "text": "0.41",
          "x": "RAM_J",
          "xref": "x",
          "y": "GFX_J",
          "yref": "y"
         },
         {
          "font": {
           "color": "#FFFFFF"
          },
          "showarrow": false,
          "text": "0.87",
          "x": "time_elapsed",
          "xref": "x",
          "y": "RAM_J",
          "yref": "y"
         },
         {
          "font": {
           "color": "#FFFFFF"
          },
          "showarrow": false,
          "text": "0.49",
          "x": "Avg_MHz",
          "xref": "x",
          "y": "RAM_J",
          "yref": "y"
         },
         {
          "font": {
           "color": "#FFFFFF"
          },
          "showarrow": false,
          "text": "0.62",
          "x": "Busy%",
          "xref": "x",
          "y": "RAM_J",
          "yref": "y"
         },
         {
          "font": {
           "color": "#FFFFFF"
          },
          "showarrow": false,
          "text": "-0.79",
          "x": "IPC",
          "xref": "x",
          "y": "RAM_J",
          "yref": "y"
         },
         {
          "font": {
           "color": "#FFFFFF"
          },
          "showarrow": false,
          "text": "0.48",
          "x": "IRQ",
          "xref": "x",
          "y": "RAM_J",
          "yref": "y"
         },
         {
          "font": {
           "color": "#FFFFFF"
          },
          "showarrow": false,
          "text": "0.44",
          "x": "POLL",
          "xref": "x",
          "y": "RAM_J",
          "yref": "y"
         },
         {
          "font": {
           "color": "#FFFFFF"
          },
          "showarrow": false,
          "text": "0.61",
          "x": "C1%",
          "xref": "x",
          "y": "RAM_J",
          "yref": "y"
         },
         {
          "font": {
           "color": "#FFFFFF"
          },
          "showarrow": false,
          "text": "0.57",
          "x": "C1E%",
          "xref": "x",
          "y": "RAM_J",
          "yref": "y"
         },
         {
          "font": {
           "color": "#FFFFFF"
          },
          "showarrow": false,
          "text": "0.54",
          "x": "C3%",
          "xref": "x",
          "y": "RAM_J",
          "yref": "y"
         },
         {
          "font": {
           "color": "#FFFFFF"
          },
          "showarrow": false,
          "text": "0.54",
          "x": "C6%",
          "xref": "x",
          "y": "RAM_J",
          "yref": "y"
         },
         {
          "font": {
           "color": "#FFFFFF"
          },
          "showarrow": false,
          "text": "0.13",
          "x": "C7s%",
          "xref": "x",
          "y": "RAM_J",
          "yref": "y"
         },
         {
          "font": {
           "color": "#FFFFFF"
          },
          "showarrow": false,
          "text": "0.49",
          "x": "C8%",
          "xref": "x",
          "y": "RAM_J",
          "yref": "y"
         },
         {
          "font": {
           "color": "#FFFFFF"
          },
          "showarrow": false,
          "text": "0.34",
          "x": "C9%",
          "xref": "x",
          "y": "RAM_J",
          "yref": "y"
         },
         {
          "font": {
           "color": "#FFFFFF"
          },
          "showarrow": false,
          "text": "-0.53",
          "x": "C10%",
          "xref": "x",
          "y": "RAM_J",
          "yref": "y"
         },
         {
          "font": {
           "color": "#FFFFFF"
          },
          "showarrow": false,
          "text": "0.68",
          "x": "CPU%c1",
          "xref": "x",
          "y": "RAM_J",
          "yref": "y"
         },
         {
          "font": {
           "color": "#FFFFFF"
          },
          "showarrow": false,
          "text": "0.51",
          "x": "CPU%c3",
          "xref": "x",
          "y": "RAM_J",
          "yref": "y"
         },
         {
          "font": {
           "color": "#FFFFFF"
          },
          "showarrow": false,
          "text": "0.41",
          "x": "CPU%c6",
          "xref": "x",
          "y": "RAM_J",
          "yref": "y"
         },
         {
          "font": {
           "color": "#FFFFFF"
          },
          "showarrow": false,
          "text": "-0.68",
          "x": "CPU%c7",
          "xref": "x",
          "y": "RAM_J",
          "yref": "y"
         },
         {
          "font": {
           "color": "#FFFFFF"
          },
          "showarrow": false,
          "text": "0.43",
          "x": "CoreTmp",
          "xref": "x",
          "y": "RAM_J",
          "yref": "y"
         },
         {
          "font": {
           "color": "#FFFFFF"
          },
          "showarrow": false,
          "text": "0.45",
          "x": "PkgTmp",
          "xref": "x",
          "y": "RAM_J",
          "yref": "y"
         },
         {
          "font": {
           "color": "#FFFFFF"
          },
          "showarrow": false,
          "text": "0.21",
          "x": "GFX%rc6",
          "xref": "x",
          "y": "RAM_J",
          "yref": "y"
         },
         {
          "font": {
           "color": "#FFFFFF"
          },
          "showarrow": false,
          "text": "0.17",
          "x": "GFXMHz",
          "xref": "x",
          "y": "RAM_J",
          "yref": "y"
         },
         {
          "font": {
           "color": "#FFFFFF"
          },
          "showarrow": false,
          "text": "nan",
          "x": "GFXAMHz",
          "xref": "x",
          "y": "RAM_J",
          "yref": "y"
         },
         {
          "font": {
           "color": "#FFFFFF"
          },
          "showarrow": false,
          "text": "0.63",
          "x": "Totl%C0",
          "xref": "x",
          "y": "RAM_J",
          "yref": "y"
         },
         {
          "font": {
           "color": "#FFFFFF"
          },
          "showarrow": false,
          "text": "-0.31",
          "x": "Any%C0",
          "xref": "x",
          "y": "RAM_J",
          "yref": "y"
         },
         {
          "font": {
           "color": "#FFFFFF"
          },
          "showarrow": false,
          "text": "-0.33",
          "x": "GFX%C0",
          "xref": "x",
          "y": "RAM_J",
          "yref": "y"
         },
         {
          "font": {
           "color": "#FFFFFF"
          },
          "showarrow": false,
          "text": "-0.36",
          "x": "CPUGFX%",
          "xref": "x",
          "y": "RAM_J",
          "yref": "y"
         },
         {
          "font": {
           "color": "#FFFFFF"
          },
          "showarrow": false,
          "text": "0.7",
          "x": "Pkg_J",
          "xref": "x",
          "y": "RAM_J",
          "yref": "y"
         },
         {
          "font": {
           "color": "#FFFFFF"
          },
          "showarrow": false,
          "text": "0.62",
          "x": "Cor_J",
          "xref": "x",
          "y": "RAM_J",
          "yref": "y"
         },
         {
          "font": {
           "color": "#FFFFFF"
          },
          "showarrow": false,
          "text": "0.41",
          "x": "GFX_J",
          "xref": "x",
          "y": "RAM_J",
          "yref": "y"
         },
         {
          "font": {
           "color": "#FFFFFF"
          },
          "showarrow": false,
          "text": "1.0",
          "x": "RAM_J",
          "xref": "x",
          "y": "RAM_J",
          "yref": "y"
         }
        ],
        "template": {
         "data": {
          "bar": [
           {
            "error_x": {
             "color": "#2a3f5f"
            },
            "error_y": {
             "color": "#2a3f5f"
            },
            "marker": {
             "line": {
              "color": "#E5ECF6",
              "width": 0.5
             },
             "pattern": {
              "fillmode": "overlay",
              "size": 10,
              "solidity": 0.2
             }
            },
            "type": "bar"
           }
          ],
          "barpolar": [
           {
            "marker": {
             "line": {
              "color": "#E5ECF6",
              "width": 0.5
             },
             "pattern": {
              "fillmode": "overlay",
              "size": 10,
              "solidity": 0.2
             }
            },
            "type": "barpolar"
           }
          ],
          "carpet": [
           {
            "aaxis": {
             "endlinecolor": "#2a3f5f",
             "gridcolor": "white",
             "linecolor": "white",
             "minorgridcolor": "white",
             "startlinecolor": "#2a3f5f"
            },
            "baxis": {
             "endlinecolor": "#2a3f5f",
             "gridcolor": "white",
             "linecolor": "white",
             "minorgridcolor": "white",
             "startlinecolor": "#2a3f5f"
            },
            "type": "carpet"
           }
          ],
          "choropleth": [
           {
            "colorbar": {
             "outlinewidth": 0,
             "ticks": ""
            },
            "type": "choropleth"
           }
          ],
          "contour": [
           {
            "colorbar": {
             "outlinewidth": 0,
             "ticks": ""
            },
            "colorscale": [
             [
              0,
              "#0d0887"
             ],
             [
              0.1111111111111111,
              "#46039f"
             ],
             [
              0.2222222222222222,
              "#7201a8"
             ],
             [
              0.3333333333333333,
              "#9c179e"
             ],
             [
              0.4444444444444444,
              "#bd3786"
             ],
             [
              0.5555555555555556,
              "#d8576b"
             ],
             [
              0.6666666666666666,
              "#ed7953"
             ],
             [
              0.7777777777777778,
              "#fb9f3a"
             ],
             [
              0.8888888888888888,
              "#fdca26"
             ],
             [
              1,
              "#f0f921"
             ]
            ],
            "type": "contour"
           }
          ],
          "contourcarpet": [
           {
            "colorbar": {
             "outlinewidth": 0,
             "ticks": ""
            },
            "type": "contourcarpet"
           }
          ],
          "heatmap": [
           {
            "colorbar": {
             "outlinewidth": 0,
             "ticks": ""
            },
            "colorscale": [
             [
              0,
              "#0d0887"
             ],
             [
              0.1111111111111111,
              "#46039f"
             ],
             [
              0.2222222222222222,
              "#7201a8"
             ],
             [
              0.3333333333333333,
              "#9c179e"
             ],
             [
              0.4444444444444444,
              "#bd3786"
             ],
             [
              0.5555555555555556,
              "#d8576b"
             ],
             [
              0.6666666666666666,
              "#ed7953"
             ],
             [
              0.7777777777777778,
              "#fb9f3a"
             ],
             [
              0.8888888888888888,
              "#fdca26"
             ],
             [
              1,
              "#f0f921"
             ]
            ],
            "type": "heatmap"
           }
          ],
          "heatmapgl": [
           {
            "colorbar": {
             "outlinewidth": 0,
             "ticks": ""
            },
            "colorscale": [
             [
              0,
              "#0d0887"
             ],
             [
              0.1111111111111111,
              "#46039f"
             ],
             [
              0.2222222222222222,
              "#7201a8"
             ],
             [
              0.3333333333333333,
              "#9c179e"
             ],
             [
              0.4444444444444444,
              "#bd3786"
             ],
             [
              0.5555555555555556,
              "#d8576b"
             ],
             [
              0.6666666666666666,
              "#ed7953"
             ],
             [
              0.7777777777777778,
              "#fb9f3a"
             ],
             [
              0.8888888888888888,
              "#fdca26"
             ],
             [
              1,
              "#f0f921"
             ]
            ],
            "type": "heatmapgl"
           }
          ],
          "histogram": [
           {
            "marker": {
             "pattern": {
              "fillmode": "overlay",
              "size": 10,
              "solidity": 0.2
             }
            },
            "type": "histogram"
           }
          ],
          "histogram2d": [
           {
            "colorbar": {
             "outlinewidth": 0,
             "ticks": ""
            },
            "colorscale": [
             [
              0,
              "#0d0887"
             ],
             [
              0.1111111111111111,
              "#46039f"
             ],
             [
              0.2222222222222222,
              "#7201a8"
             ],
             [
              0.3333333333333333,
              "#9c179e"
             ],
             [
              0.4444444444444444,
              "#bd3786"
             ],
             [
              0.5555555555555556,
              "#d8576b"
             ],
             [
              0.6666666666666666,
              "#ed7953"
             ],
             [
              0.7777777777777778,
              "#fb9f3a"
             ],
             [
              0.8888888888888888,
              "#fdca26"
             ],
             [
              1,
              "#f0f921"
             ]
            ],
            "type": "histogram2d"
           }
          ],
          "histogram2dcontour": [
           {
            "colorbar": {
             "outlinewidth": 0,
             "ticks": ""
            },
            "colorscale": [
             [
              0,
              "#0d0887"
             ],
             [
              0.1111111111111111,
              "#46039f"
             ],
             [
              0.2222222222222222,
              "#7201a8"
             ],
             [
              0.3333333333333333,
              "#9c179e"
             ],
             [
              0.4444444444444444,
              "#bd3786"
             ],
             [
              0.5555555555555556,
              "#d8576b"
             ],
             [
              0.6666666666666666,
              "#ed7953"
             ],
             [
              0.7777777777777778,
              "#fb9f3a"
             ],
             [
              0.8888888888888888,
              "#fdca26"
             ],
             [
              1,
              "#f0f921"
             ]
            ],
            "type": "histogram2dcontour"
           }
          ],
          "mesh3d": [
           {
            "colorbar": {
             "outlinewidth": 0,
             "ticks": ""
            },
            "type": "mesh3d"
           }
          ],
          "parcoords": [
           {
            "line": {
             "colorbar": {
              "outlinewidth": 0,
              "ticks": ""
             }
            },
            "type": "parcoords"
           }
          ],
          "pie": [
           {
            "automargin": true,
            "type": "pie"
           }
          ],
          "scatter": [
           {
            "fillpattern": {
             "fillmode": "overlay",
             "size": 10,
             "solidity": 0.2
            },
            "type": "scatter"
           }
          ],
          "scatter3d": [
           {
            "line": {
             "colorbar": {
              "outlinewidth": 0,
              "ticks": ""
             }
            },
            "marker": {
             "colorbar": {
              "outlinewidth": 0,
              "ticks": ""
             }
            },
            "type": "scatter3d"
           }
          ],
          "scattercarpet": [
           {
            "marker": {
             "colorbar": {
              "outlinewidth": 0,
              "ticks": ""
             }
            },
            "type": "scattercarpet"
           }
          ],
          "scattergeo": [
           {
            "marker": {
             "colorbar": {
              "outlinewidth": 0,
              "ticks": ""
             }
            },
            "type": "scattergeo"
           }
          ],
          "scattergl": [
           {
            "marker": {
             "colorbar": {
              "outlinewidth": 0,
              "ticks": ""
             }
            },
            "type": "scattergl"
           }
          ],
          "scattermapbox": [
           {
            "marker": {
             "colorbar": {
              "outlinewidth": 0,
              "ticks": ""
             }
            },
            "type": "scattermapbox"
           }
          ],
          "scatterpolar": [
           {
            "marker": {
             "colorbar": {
              "outlinewidth": 0,
              "ticks": ""
             }
            },
            "type": "scatterpolar"
           }
          ],
          "scatterpolargl": [
           {
            "marker": {
             "colorbar": {
              "outlinewidth": 0,
              "ticks": ""
             }
            },
            "type": "scatterpolargl"
           }
          ],
          "scatterternary": [
           {
            "marker": {
             "colorbar": {
              "outlinewidth": 0,
              "ticks": ""
             }
            },
            "type": "scatterternary"
           }
          ],
          "surface": [
           {
            "colorbar": {
             "outlinewidth": 0,
             "ticks": ""
            },
            "colorscale": [
             [
              0,
              "#0d0887"
             ],
             [
              0.1111111111111111,
              "#46039f"
             ],
             [
              0.2222222222222222,
              "#7201a8"
             ],
             [
              0.3333333333333333,
              "#9c179e"
             ],
             [
              0.4444444444444444,
              "#bd3786"
             ],
             [
              0.5555555555555556,
              "#d8576b"
             ],
             [
              0.6666666666666666,
              "#ed7953"
             ],
             [
              0.7777777777777778,
              "#fb9f3a"
             ],
             [
              0.8888888888888888,
              "#fdca26"
             ],
             [
              1,
              "#f0f921"
             ]
            ],
            "type": "surface"
           }
          ],
          "table": [
           {
            "cells": {
             "fill": {
              "color": "#EBF0F8"
             },
             "line": {
              "color": "white"
             }
            },
            "header": {
             "fill": {
              "color": "#C8D4E3"
             },
             "line": {
              "color": "white"
             }
            },
            "type": "table"
           }
          ]
         },
         "layout": {
          "annotationdefaults": {
           "arrowcolor": "#2a3f5f",
           "arrowhead": 0,
           "arrowwidth": 1
          },
          "autotypenumbers": "strict",
          "coloraxis": {
           "colorbar": {
            "outlinewidth": 0,
            "ticks": ""
           }
          },
          "colorscale": {
           "diverging": [
            [
             0,
             "#8e0152"
            ],
            [
             0.1,
             "#c51b7d"
            ],
            [
             0.2,
             "#de77ae"
            ],
            [
             0.3,
             "#f1b6da"
            ],
            [
             0.4,
             "#fde0ef"
            ],
            [
             0.5,
             "#f7f7f7"
            ],
            [
             0.6,
             "#e6f5d0"
            ],
            [
             0.7,
             "#b8e186"
            ],
            [
             0.8,
             "#7fbc41"
            ],
            [
             0.9,
             "#4d9221"
            ],
            [
             1,
             "#276419"
            ]
           ],
           "sequential": [
            [
             0,
             "#0d0887"
            ],
            [
             0.1111111111111111,
             "#46039f"
            ],
            [
             0.2222222222222222,
             "#7201a8"
            ],
            [
             0.3333333333333333,
             "#9c179e"
            ],
            [
             0.4444444444444444,
             "#bd3786"
            ],
            [
             0.5555555555555556,
             "#d8576b"
            ],
            [
             0.6666666666666666,
             "#ed7953"
            ],
            [
             0.7777777777777778,
             "#fb9f3a"
            ],
            [
             0.8888888888888888,
             "#fdca26"
            ],
            [
             1,
             "#f0f921"
            ]
           ],
           "sequentialminus": [
            [
             0,
             "#0d0887"
            ],
            [
             0.1111111111111111,
             "#46039f"
            ],
            [
             0.2222222222222222,
             "#7201a8"
            ],
            [
             0.3333333333333333,
             "#9c179e"
            ],
            [
             0.4444444444444444,
             "#bd3786"
            ],
            [
             0.5555555555555556,
             "#d8576b"
            ],
            [
             0.6666666666666666,
             "#ed7953"
            ],
            [
             0.7777777777777778,
             "#fb9f3a"
            ],
            [
             0.8888888888888888,
             "#fdca26"
            ],
            [
             1,
             "#f0f921"
            ]
           ]
          },
          "colorway": [
           "#636efa",
           "#EF553B",
           "#00cc96",
           "#ab63fa",
           "#FFA15A",
           "#19d3f3",
           "#FF6692",
           "#B6E880",
           "#FF97FF",
           "#FECB52"
          ],
          "font": {
           "color": "#2a3f5f"
          },
          "geo": {
           "bgcolor": "white",
           "lakecolor": "white",
           "landcolor": "#E5ECF6",
           "showlakes": true,
           "showland": true,
           "subunitcolor": "white"
          },
          "hoverlabel": {
           "align": "left"
          },
          "hovermode": "closest",
          "mapbox": {
           "style": "light"
          },
          "paper_bgcolor": "white",
          "plot_bgcolor": "#E5ECF6",
          "polar": {
           "angularaxis": {
            "gridcolor": "white",
            "linecolor": "white",
            "ticks": ""
           },
           "bgcolor": "#E5ECF6",
           "radialaxis": {
            "gridcolor": "white",
            "linecolor": "white",
            "ticks": ""
           }
          },
          "scene": {
           "xaxis": {
            "backgroundcolor": "#E5ECF6",
            "gridcolor": "white",
            "gridwidth": 2,
            "linecolor": "white",
            "showbackground": true,
            "ticks": "",
            "zerolinecolor": "white"
           },
           "yaxis": {
            "backgroundcolor": "#E5ECF6",
            "gridcolor": "white",
            "gridwidth": 2,
            "linecolor": "white",
            "showbackground": true,
            "ticks": "",
            "zerolinecolor": "white"
           },
           "zaxis": {
            "backgroundcolor": "#E5ECF6",
            "gridcolor": "white",
            "gridwidth": 2,
            "linecolor": "white",
            "showbackground": true,
            "ticks": "",
            "zerolinecolor": "white"
           }
          },
          "shapedefaults": {
           "line": {
            "color": "#2a3f5f"
           }
          },
          "ternary": {
           "aaxis": {
            "gridcolor": "white",
            "linecolor": "white",
            "ticks": ""
           },
           "baxis": {
            "gridcolor": "white",
            "linecolor": "white",
            "ticks": ""
           },
           "bgcolor": "#E5ECF6",
           "caxis": {
            "gridcolor": "white",
            "linecolor": "white",
            "ticks": ""
           }
          },
          "title": {
           "x": 0.05
          },
          "xaxis": {
           "automargin": true,
           "gridcolor": "white",
           "linecolor": "white",
           "ticks": "",
           "title": {
            "standoff": 15
           },
           "zerolinecolor": "white",
           "zerolinewidth": 2
          },
          "yaxis": {
           "automargin": true,
           "gridcolor": "white",
           "linecolor": "white",
           "ticks": "",
           "title": {
            "standoff": 15
           },
           "zerolinecolor": "white",
           "zerolinewidth": 2
          }
         }
        },
        "xaxis": {
         "dtick": 1,
         "gridcolor": "rgb(0, 0, 0)",
         "side": "top",
         "ticks": ""
        },
        "yaxis": {
         "dtick": 1,
         "ticks": "",
         "ticksuffix": "  "
        }
       }
      }
     },
     "metadata": {},
     "output_type": "display_data"
    }
   ],
   "source": [
    "corrs = df[['time_elapsed','Avg_MHz', 'Busy%', 'IPC', 'IRQ', 'POLL', 'C1%','C1E%','C3%','C6%','C7s%','C8%','C9%','C10%','CPU%c1','CPU%c3','CPU%c6','CPU%c7','CoreTmp','PkgTmp','GFX%rc6','GFXMHz','GFXAMHz','Totl%C0','Any%C0','GFX%C0','CPUGFX%','Pkg_J','Cor_J','GFX_J','RAM_J']].corr().round(2) \n",
    "\n",
    "figure = ff.create_annotated_heatmap(z=corrs.values,\n",
    "                                     x=list(corrs.columns),\n",
    "                                     y=list(corrs.index),\n",
    "                                     xgap=1, ygap=1,\n",
    "                                     annotation_text=corrs.round(2).values,\n",
    "                                     colorscale=\"Inferno\",\n",
    "                                     showscale=True, reversescale=True)\n",
    "figure.show()"
   ]
  },
  {
   "cell_type": "code",
   "execution_count": 98,
   "metadata": {},
   "outputs": [
    {
     "data": {
      "application/vnd.plotly.v1+json": {
       "config": {
        "plotlyServerURL": "https://plot.ly"
       },
       "data": [
        {
         "colorbar": {
          "thickness": 20,
          "ticklen": 3
         },
         "showscale": true,
         "texttemplate": "%{z}",
         "type": "heatmap",
         "x": [
          "time_elapsed",
          "Avg_MHz",
          "Busy%",
          "IPC",
          "IRQ",
          "POLL",
          "C1%",
          "C1E%",
          "C3%",
          "C6%",
          "C7s%",
          "C8%",
          "C9%",
          "C10%",
          "CPU%c1",
          "CPU%c3",
          "CPU%c6",
          "CPU%c7",
          "CoreTmp",
          "PkgTmp",
          "GFX%rc6",
          "GFXMHz",
          "GFXAMHz",
          "Totl%C0",
          "Any%C0",
          "GFX%C0",
          "CPUGFX%",
          "Pkg_J",
          "Cor_J",
          "GFX_J",
          "RAM_J"
         ],
         "xgap": 1,
         "y": [
          "time_elapsed",
          "Avg_MHz",
          "Busy%",
          "IPC",
          "IRQ",
          "POLL",
          "C1%",
          "C1E%",
          "C3%",
          "C6%",
          "C7s%",
          "C8%",
          "C9%",
          "C10%",
          "CPU%c1",
          "CPU%c3",
          "CPU%c6",
          "CPU%c7",
          "CoreTmp",
          "PkgTmp",
          "GFX%rc6",
          "GFXMHz",
          "GFXAMHz",
          "Totl%C0",
          "Any%C0",
          "GFX%C0",
          "CPUGFX%",
          "Pkg_J",
          "Cor_J",
          "GFX_J",
          "RAM_J"
         ],
         "ygap": 1,
         "z": [
          [
           1,
           0.07,
           0.19,
           -0.6,
           0.46,
           0.22,
           0.19,
           0.21,
           0.21,
           0.33,
           0.02,
           0.33,
           0.38,
           -0.4,
           0.32,
           0.2,
           0.34,
           -0.29,
           0.47,
           0.5,
           0.17,
           0.25,
           null,
           0.2,
           -0.38,
           -0.44,
           -0.47,
           0.58,
           0.48,
           0.44,
           0.87
          ],
          [
           0.07,
           1,
           0.95,
           -0.64,
           0.13,
           0.66,
           0.84,
           0.9,
           0.86,
           0.56,
           0.3,
           0.31,
           -0.09,
           -0.3,
           0.81,
           0.82,
           0.19,
           -0.85,
           -0.08,
           -0.07,
           0.21,
           -0.07,
           null,
           0.94,
           0.14,
           0,
           0.01,
           0.61,
           0.64,
           0.01,
           0.49
          ],
          [
           0.19,
           0.95,
           1,
           -0.65,
           0.28,
           0.66,
           0.91,
           0.92,
           0.89,
           0.66,
           0.28,
           0.47,
           0.07,
           -0.46,
           0.92,
           0.84,
           0.32,
           -0.95,
           0.08,
           0.1,
           0.23,
           -0.03,
           null,
           1,
           -0.02,
           -0.06,
           -0.04,
           0.54,
           0.54,
           0.08,
           0.62
          ],
          [
           -0.6,
           -0.64,
           -0.65,
           1,
           -0.3,
           -0.53,
           -0.63,
           -0.56,
           -0.53,
           -0.44,
           -0.22,
           -0.34,
           -0.14,
           0.36,
           -0.62,
           -0.52,
           -0.27,
           0.63,
           -0.13,
           -0.15,
           -0.19,
           -0.07,
           null,
           -0.65,
           0.1,
           0.24,
           0.25,
           -0.76,
           -0.73,
           -0.22,
           -0.79
          ],
          [
           0.46,
           0.13,
           0.28,
           -0.3,
           1,
           0.18,
           0.23,
           0.28,
           0.36,
           0.8,
           0.07,
           0.88,
           0.92,
           -0.94,
           0.6,
           0.33,
           0.9,
           -0.56,
           0.48,
           0.54,
           0.1,
           -0.03,
           null,
           0.29,
           -0.94,
           -0.09,
           -0.15,
           0.35,
           0.29,
           0.4,
           0.48
          ],
          [
           0.22,
           0.66,
           0.66,
           -0.53,
           0.18,
           1,
           0.57,
           0.68,
           0.65,
           0.51,
           0.45,
           0.35,
           0,
           -0.29,
           0.6,
           0.63,
           0.26,
           -0.63,
           0.02,
           0.05,
           0.21,
           -0.03,
           null,
           0.65,
           0.01,
           -0.1,
           -0.1,
           0.49,
           0.49,
           0.03,
           0.44
          ],
          [
           0.19,
           0.84,
           0.91,
           -0.63,
           0.23,
           0.57,
           1,
           0.79,
           0.72,
           0.51,
           0.18,
           0.42,
           0.06,
           -0.41,
           0.86,
           0.67,
           0.2,
           -0.86,
           0.02,
           0.03,
           0.31,
           -0.03,
           null,
           0.91,
           -0.02,
           -0.17,
           -0.15,
           0.45,
           0.45,
           -0.01,
           0.61
          ],
          [
           0.21,
           0.9,
           0.92,
           -0.56,
           0.28,
           0.68,
           0.79,
           1,
           0.93,
           0.69,
           0.31,
           0.48,
           0.06,
           -0.44,
           0.87,
           0.9,
           0.34,
           -0.9,
           0.07,
           0.09,
           0.24,
           -0.03,
           null,
           0.92,
           -0.03,
           -0.05,
           -0.04,
           0.54,
           0.54,
           0.11,
           0.57
          ],
          [
           0.21,
           0.86,
           0.89,
           -0.53,
           0.36,
           0.65,
           0.72,
           0.93,
           1,
           0.75,
           0.32,
           0.52,
           0.13,
           -0.49,
           0.85,
           0.97,
           0.41,
           -0.88,
           0.13,
           0.16,
           0.17,
           -0.04,
           null,
           0.89,
           -0.1,
           -0.01,
           0,
           0.54,
           0.54,
           0.17,
           0.54
          ],
          [
           0.33,
           0.56,
           0.66,
           -0.44,
           0.8,
           0.51,
           0.51,
           0.69,
           0.75,
           1,
           0.24,
           0.83,
           0.62,
           -0.85,
           0.83,
           0.72,
           0.89,
           -0.84,
           0.34,
           0.4,
           0.14,
           -0.07,
           null,
           0.67,
           -0.63,
           0.01,
           -0.02,
           0.48,
           0.45,
           0.34,
           0.54
          ],
          [
           0.02,
           0.3,
           0.28,
           -0.22,
           0.07,
           0.45,
           0.18,
           0.31,
           0.32,
           0.24,
           1,
           0.08,
           -0.01,
           -0.1,
           0.24,
           0.3,
           0.13,
           -0.26,
           -0.02,
           -0.01,
           0.14,
           -0.05,
           null,
           0.28,
           0.02,
           -0.04,
           -0.04,
           0.2,
           0.2,
           -0.06,
           0.13
          ],
          [
           0.33,
           0.31,
           0.47,
           -0.34,
           0.88,
           0.35,
           0.42,
           0.48,
           0.52,
           0.83,
           0.08,
           1,
           0.78,
           -0.95,
           0.72,
           0.5,
           0.83,
           -0.69,
           0.44,
           0.48,
           0.08,
           -0.1,
           null,
           0.48,
           -0.78,
           0.02,
           -0.02,
           0.32,
           0.28,
           0.36,
           0.49
          ],
          [
           0.38,
           -0.09,
           0.07,
           -0.14,
           0.92,
           0,
           0.06,
           0.06,
           0.13,
           0.62,
           -0.01,
           0.78,
           1,
           -0.9,
           0.4,
           0.11,
           0.8,
           -0.35,
           0.54,
           0.58,
           -0.05,
           -0.03,
           null,
           0.08,
           -0.94,
           -0.03,
           -0.09,
           0.22,
           0.17,
           0.41,
           0.34
          ],
          [
           -0.4,
           -0.3,
           -0.46,
           0.36,
           -0.94,
           -0.29,
           -0.41,
           -0.44,
           -0.49,
           -0.85,
           -0.1,
           -0.95,
           -0.9,
           1,
           -0.73,
           -0.46,
           -0.87,
           0.69,
           -0.5,
           -0.55,
           -0.06,
           0.06,
           null,
           -0.47,
           0.86,
           0.03,
           0.07,
           -0.39,
           -0.34,
           -0.4,
           -0.53
          ],
          [
           0.32,
           0.81,
           0.92,
           -0.62,
           0.6,
           0.6,
           0.86,
           0.87,
           0.85,
           0.83,
           0.24,
           0.72,
           0.4,
           -0.73,
           1,
           0.8,
           0.6,
           -0.99,
           0.2,
           0.24,
           0.27,
           -0.03,
           null,
           0.93,
           -0.38,
           -0.11,
           -0.12,
           0.54,
           0.52,
           0.19,
           0.68
          ],
          [
           0.2,
           0.82,
           0.84,
           -0.52,
           0.33,
           0.63,
           0.67,
           0.9,
           0.97,
           0.72,
           0.3,
           0.5,
           0.11,
           -0.46,
           0.8,
           1,
           0.39,
           -0.84,
           0.09,
           0.12,
           0.17,
           -0.05,
           null,
           0.84,
           -0.08,
           0,
           0.01,
           0.52,
           0.53,
           0.17,
           0.51
          ],
          [
           0.34,
           0.19,
           0.32,
           -0.27,
           0.9,
           0.26,
           0.2,
           0.34,
           0.41,
           0.89,
           0.13,
           0.83,
           0.8,
           -0.87,
           0.6,
           0.39,
           1,
           -0.59,
           0.42,
           0.48,
           0.03,
           -0.06,
           null,
           0.33,
           -0.84,
           0.03,
           -0.03,
           0.33,
           0.29,
           0.4,
           0.41
          ],
          [
           -0.29,
           -0.85,
           -0.95,
           0.63,
           -0.56,
           -0.63,
           -0.86,
           -0.9,
           -0.88,
           -0.84,
           -0.26,
           -0.69,
           -0.35,
           0.69,
           -0.99,
           -0.84,
           -0.59,
           1,
           -0.2,
           -0.24,
           -0.23,
           0.04,
           null,
           -0.95,
           0.32,
           0.07,
           0.08,
           -0.56,
           -0.54,
           -0.19,
           -0.68
          ],
          [
           0.47,
           -0.08,
           0.08,
           -0.13,
           0.48,
           0.02,
           0.02,
           0.07,
           0.13,
           0.34,
           -0.02,
           0.44,
           0.54,
           -0.5,
           0.2,
           0.09,
           0.42,
           -0.2,
           1,
           0.99,
           -0.39,
           0.08,
           null,
           0.08,
           -0.46,
           0.03,
           -0.01,
           0.23,
           0.16,
           0.57,
           0.43
          ],
          [
           0.5,
           -0.07,
           0.1,
           -0.15,
           0.54,
           0.05,
           0.03,
           0.09,
           0.16,
           0.4,
           -0.01,
           0.48,
           0.58,
           -0.55,
           0.24,
           0.12,
           0.48,
           -0.24,
           0.99,
           1,
           -0.34,
           0.11,
           null,
           0.1,
           -0.51,
           0,
           -0.05,
           0.25,
           0.17,
           0.57,
           0.45
          ],
          [
           0.17,
           0.21,
           0.23,
           -0.19,
           0.1,
           0.21,
           0.31,
           0.24,
           0.17,
           0.14,
           0.14,
           0.08,
           -0.05,
           -0.06,
           0.27,
           0.17,
           0.03,
           -0.23,
           -0.39,
           -0.34,
           1,
           0.06,
           null,
           0.23,
           -0.1,
           -0.68,
           -0.67,
           0,
           -0.01,
           -0.56,
           0.21
          ],
          [
           0.25,
           -0.07,
           -0.03,
           -0.07,
           -0.03,
           -0.03,
           -0.03,
           -0.03,
           -0.04,
           -0.07,
           -0.05,
           -0.1,
           -0.03,
           0.06,
           -0.03,
           -0.05,
           -0.06,
           0.04,
           0.08,
           0.11,
           0.06,
           1,
           null,
           -0.02,
           0.02,
           -0.23,
           -0.23,
           0.01,
           -0.02,
           0.15,
           0.17
          ],
          [
           null,
           null,
           null,
           null,
           null,
           null,
           null,
           null,
           null,
           null,
           null,
           null,
           null,
           null,
           null,
           null,
           null,
           null,
           null,
           null,
           null,
           null,
           null,
           null,
           null,
           null,
           null,
           null,
           null,
           null,
           null
          ],
          [
           0.2,
           0.94,
           1,
           -0.65,
           0.29,
           0.65,
           0.91,
           0.92,
           0.89,
           0.67,
           0.28,
           0.48,
           0.08,
           -0.47,
           0.93,
           0.84,
           0.33,
           -0.95,
           0.08,
           0.1,
           0.23,
           -0.02,
           null,
           1,
           -0.04,
           -0.06,
           -0.05,
           0.54,
           0.54,
           0.09,
           0.63
          ],
          [
           -0.38,
           0.14,
           -0.02,
           0.1,
           -0.94,
           0.01,
           -0.02,
           -0.03,
           -0.1,
           -0.63,
           0.02,
           -0.78,
           -0.94,
           0.86,
           -0.38,
           -0.08,
           -0.84,
           0.32,
           -0.46,
           -0.51,
           -0.1,
           0.02,
           null,
           -0.04,
           1,
           0.09,
           0.15,
           -0.15,
           -0.1,
           -0.35,
           -0.31
          ],
          [
           -0.44,
           0,
           -0.06,
           0.24,
           -0.09,
           -0.1,
           -0.17,
           -0.05,
           -0.01,
           0.01,
           -0.04,
           0.02,
           -0.03,
           0.03,
           -0.11,
           0,
           0.03,
           0.07,
           0.03,
           0,
           -0.68,
           -0.23,
           null,
           -0.06,
           0.09,
           1,
           0.99,
           -0.13,
           -0.09,
           0.49,
           -0.33
          ],
          [
           -0.47,
           0.01,
           -0.04,
           0.25,
           -0.15,
           -0.1,
           -0.15,
           -0.04,
           0,
           -0.02,
           -0.04,
           -0.02,
           -0.09,
           0.07,
           -0.12,
           0.01,
           -0.03,
           0.08,
           -0.01,
           -0.05,
           -0.67,
           -0.23,
           null,
           -0.05,
           0.15,
           0.99,
           1,
           -0.16,
           -0.12,
           0.45,
           -0.36
          ],
          [
           0.58,
           0.61,
           0.54,
           -0.76,
           0.35,
           0.49,
           0.45,
           0.54,
           0.54,
           0.48,
           0.2,
           0.32,
           0.22,
           -0.39,
           0.54,
           0.52,
           0.33,
           -0.56,
           0.23,
           0.25,
           0,
           0.01,
           null,
           0.54,
           -0.15,
           -0.13,
           -0.16,
           1,
           0.99,
           0.37,
           0.7
          ],
          [
           0.48,
           0.64,
           0.54,
           -0.73,
           0.29,
           0.49,
           0.45,
           0.54,
           0.54,
           0.45,
           0.2,
           0.28,
           0.17,
           -0.34,
           0.52,
           0.53,
           0.29,
           -0.54,
           0.16,
           0.17,
           -0.01,
           -0.02,
           null,
           0.54,
           -0.1,
           -0.09,
           -0.12,
           0.99,
           1,
           0.32,
           0.62
          ],
          [
           0.44,
           0.01,
           0.08,
           -0.22,
           0.4,
           0.03,
           -0.01,
           0.11,
           0.17,
           0.34,
           -0.06,
           0.36,
           0.41,
           -0.4,
           0.19,
           0.17,
           0.4,
           -0.19,
           0.57,
           0.57,
           -0.56,
           0.15,
           null,
           0.09,
           -0.35,
           0.49,
           0.45,
           0.37,
           0.32,
           1,
           0.41
          ],
          [
           0.87,
           0.49,
           0.62,
           -0.79,
           0.48,
           0.44,
           0.61,
           0.57,
           0.54,
           0.54,
           0.13,
           0.49,
           0.34,
           -0.53,
           0.68,
           0.51,
           0.41,
           -0.68,
           0.43,
           0.45,
           0.21,
           0.17,
           null,
           0.63,
           -0.31,
           -0.33,
           -0.36,
           0.7,
           0.62,
           0.41,
           1
          ]
         ]
        }
       ],
       "layout": {
        "height": 1500,
        "template": {
         "data": {
          "bar": [
           {
            "error_x": {
             "color": "#2a3f5f"
            },
            "error_y": {
             "color": "#2a3f5f"
            },
            "marker": {
             "line": {
              "color": "#E5ECF6",
              "width": 0.5
             },
             "pattern": {
              "fillmode": "overlay",
              "size": 10,
              "solidity": 0.2
             }
            },
            "type": "bar"
           }
          ],
          "barpolar": [
           {
            "marker": {
             "line": {
              "color": "#E5ECF6",
              "width": 0.5
             },
             "pattern": {
              "fillmode": "overlay",
              "size": 10,
              "solidity": 0.2
             }
            },
            "type": "barpolar"
           }
          ],
          "carpet": [
           {
            "aaxis": {
             "endlinecolor": "#2a3f5f",
             "gridcolor": "white",
             "linecolor": "white",
             "minorgridcolor": "white",
             "startlinecolor": "#2a3f5f"
            },
            "baxis": {
             "endlinecolor": "#2a3f5f",
             "gridcolor": "white",
             "linecolor": "white",
             "minorgridcolor": "white",
             "startlinecolor": "#2a3f5f"
            },
            "type": "carpet"
           }
          ],
          "choropleth": [
           {
            "colorbar": {
             "outlinewidth": 0,
             "ticks": ""
            },
            "type": "choropleth"
           }
          ],
          "contour": [
           {
            "colorbar": {
             "outlinewidth": 0,
             "ticks": ""
            },
            "colorscale": [
             [
              0,
              "#0d0887"
             ],
             [
              0.1111111111111111,
              "#46039f"
             ],
             [
              0.2222222222222222,
              "#7201a8"
             ],
             [
              0.3333333333333333,
              "#9c179e"
             ],
             [
              0.4444444444444444,
              "#bd3786"
             ],
             [
              0.5555555555555556,
              "#d8576b"
             ],
             [
              0.6666666666666666,
              "#ed7953"
             ],
             [
              0.7777777777777778,
              "#fb9f3a"
             ],
             [
              0.8888888888888888,
              "#fdca26"
             ],
             [
              1,
              "#f0f921"
             ]
            ],
            "type": "contour"
           }
          ],
          "contourcarpet": [
           {
            "colorbar": {
             "outlinewidth": 0,
             "ticks": ""
            },
            "type": "contourcarpet"
           }
          ],
          "heatmap": [
           {
            "colorbar": {
             "outlinewidth": 0,
             "ticks": ""
            },
            "colorscale": [
             [
              0,
              "#0d0887"
             ],
             [
              0.1111111111111111,
              "#46039f"
             ],
             [
              0.2222222222222222,
              "#7201a8"
             ],
             [
              0.3333333333333333,
              "#9c179e"
             ],
             [
              0.4444444444444444,
              "#bd3786"
             ],
             [
              0.5555555555555556,
              "#d8576b"
             ],
             [
              0.6666666666666666,
              "#ed7953"
             ],
             [
              0.7777777777777778,
              "#fb9f3a"
             ],
             [
              0.8888888888888888,
              "#fdca26"
             ],
             [
              1,
              "#f0f921"
             ]
            ],
            "type": "heatmap"
           }
          ],
          "heatmapgl": [
           {
            "colorbar": {
             "outlinewidth": 0,
             "ticks": ""
            },
            "colorscale": [
             [
              0,
              "#0d0887"
             ],
             [
              0.1111111111111111,
              "#46039f"
             ],
             [
              0.2222222222222222,
              "#7201a8"
             ],
             [
              0.3333333333333333,
              "#9c179e"
             ],
             [
              0.4444444444444444,
              "#bd3786"
             ],
             [
              0.5555555555555556,
              "#d8576b"
             ],
             [
              0.6666666666666666,
              "#ed7953"
             ],
             [
              0.7777777777777778,
              "#fb9f3a"
             ],
             [
              0.8888888888888888,
              "#fdca26"
             ],
             [
              1,
              "#f0f921"
             ]
            ],
            "type": "heatmapgl"
           }
          ],
          "histogram": [
           {
            "marker": {
             "pattern": {
              "fillmode": "overlay",
              "size": 10,
              "solidity": 0.2
             }
            },
            "type": "histogram"
           }
          ],
          "histogram2d": [
           {
            "colorbar": {
             "outlinewidth": 0,
             "ticks": ""
            },
            "colorscale": [
             [
              0,
              "#0d0887"
             ],
             [
              0.1111111111111111,
              "#46039f"
             ],
             [
              0.2222222222222222,
              "#7201a8"
             ],
             [
              0.3333333333333333,
              "#9c179e"
             ],
             [
              0.4444444444444444,
              "#bd3786"
             ],
             [
              0.5555555555555556,
              "#d8576b"
             ],
             [
              0.6666666666666666,
              "#ed7953"
             ],
             [
              0.7777777777777778,
              "#fb9f3a"
             ],
             [
              0.8888888888888888,
              "#fdca26"
             ],
             [
              1,
              "#f0f921"
             ]
            ],
            "type": "histogram2d"
           }
          ],
          "histogram2dcontour": [
           {
            "colorbar": {
             "outlinewidth": 0,
             "ticks": ""
            },
            "colorscale": [
             [
              0,
              "#0d0887"
             ],
             [
              0.1111111111111111,
              "#46039f"
             ],
             [
              0.2222222222222222,
              "#7201a8"
             ],
             [
              0.3333333333333333,
              "#9c179e"
             ],
             [
              0.4444444444444444,
              "#bd3786"
             ],
             [
              0.5555555555555556,
              "#d8576b"
             ],
             [
              0.6666666666666666,
              "#ed7953"
             ],
             [
              0.7777777777777778,
              "#fb9f3a"
             ],
             [
              0.8888888888888888,
              "#fdca26"
             ],
             [
              1,
              "#f0f921"
             ]
            ],
            "type": "histogram2dcontour"
           }
          ],
          "mesh3d": [
           {
            "colorbar": {
             "outlinewidth": 0,
             "ticks": ""
            },
            "type": "mesh3d"
           }
          ],
          "parcoords": [
           {
            "line": {
             "colorbar": {
              "outlinewidth": 0,
              "ticks": ""
             }
            },
            "type": "parcoords"
           }
          ],
          "pie": [
           {
            "automargin": true,
            "type": "pie"
           }
          ],
          "scatter": [
           {
            "fillpattern": {
             "fillmode": "overlay",
             "size": 10,
             "solidity": 0.2
            },
            "type": "scatter"
           }
          ],
          "scatter3d": [
           {
            "line": {
             "colorbar": {
              "outlinewidth": 0,
              "ticks": ""
             }
            },
            "marker": {
             "colorbar": {
              "outlinewidth": 0,
              "ticks": ""
             }
            },
            "type": "scatter3d"
           }
          ],
          "scattercarpet": [
           {
            "marker": {
             "colorbar": {
              "outlinewidth": 0,
              "ticks": ""
             }
            },
            "type": "scattercarpet"
           }
          ],
          "scattergeo": [
           {
            "marker": {
             "colorbar": {
              "outlinewidth": 0,
              "ticks": ""
             }
            },
            "type": "scattergeo"
           }
          ],
          "scattergl": [
           {
            "marker": {
             "colorbar": {
              "outlinewidth": 0,
              "ticks": ""
             }
            },
            "type": "scattergl"
           }
          ],
          "scattermapbox": [
           {
            "marker": {
             "colorbar": {
              "outlinewidth": 0,
              "ticks": ""
             }
            },
            "type": "scattermapbox"
           }
          ],
          "scatterpolar": [
           {
            "marker": {
             "colorbar": {
              "outlinewidth": 0,
              "ticks": ""
             }
            },
            "type": "scatterpolar"
           }
          ],
          "scatterpolargl": [
           {
            "marker": {
             "colorbar": {
              "outlinewidth": 0,
              "ticks": ""
             }
            },
            "type": "scatterpolargl"
           }
          ],
          "scatterternary": [
           {
            "marker": {
             "colorbar": {
              "outlinewidth": 0,
              "ticks": ""
             }
            },
            "type": "scatterternary"
           }
          ],
          "surface": [
           {
            "colorbar": {
             "outlinewidth": 0,
             "ticks": ""
            },
            "colorscale": [
             [
              0,
              "#0d0887"
             ],
             [
              0.1111111111111111,
              "#46039f"
             ],
             [
              0.2222222222222222,
              "#7201a8"
             ],
             [
              0.3333333333333333,
              "#9c179e"
             ],
             [
              0.4444444444444444,
              "#bd3786"
             ],
             [
              0.5555555555555556,
              "#d8576b"
             ],
             [
              0.6666666666666666,
              "#ed7953"
             ],
             [
              0.7777777777777778,
              "#fb9f3a"
             ],
             [
              0.8888888888888888,
              "#fdca26"
             ],
             [
              1,
              "#f0f921"
             ]
            ],
            "type": "surface"
           }
          ],
          "table": [
           {
            "cells": {
             "fill": {
              "color": "#EBF0F8"
             },
             "line": {
              "color": "white"
             }
            },
            "header": {
             "fill": {
              "color": "#C8D4E3"
             },
             "line": {
              "color": "white"
             }
            },
            "type": "table"
           }
          ]
         },
         "layout": {
          "annotationdefaults": {
           "arrowcolor": "#2a3f5f",
           "arrowhead": 0,
           "arrowwidth": 1
          },
          "autotypenumbers": "strict",
          "coloraxis": {
           "colorbar": {
            "outlinewidth": 0,
            "ticks": ""
           }
          },
          "colorscale": {
           "diverging": [
            [
             0,
             "#8e0152"
            ],
            [
             0.1,
             "#c51b7d"
            ],
            [
             0.2,
             "#de77ae"
            ],
            [
             0.3,
             "#f1b6da"
            ],
            [
             0.4,
             "#fde0ef"
            ],
            [
             0.5,
             "#f7f7f7"
            ],
            [
             0.6,
             "#e6f5d0"
            ],
            [
             0.7,
             "#b8e186"
            ],
            [
             0.8,
             "#7fbc41"
            ],
            [
             0.9,
             "#4d9221"
            ],
            [
             1,
             "#276419"
            ]
           ],
           "sequential": [
            [
             0,
             "#0d0887"
            ],
            [
             0.1111111111111111,
             "#46039f"
            ],
            [
             0.2222222222222222,
             "#7201a8"
            ],
            [
             0.3333333333333333,
             "#9c179e"
            ],
            [
             0.4444444444444444,
             "#bd3786"
            ],
            [
             0.5555555555555556,
             "#d8576b"
            ],
            [
             0.6666666666666666,
             "#ed7953"
            ],
            [
             0.7777777777777778,
             "#fb9f3a"
            ],
            [
             0.8888888888888888,
             "#fdca26"
            ],
            [
             1,
             "#f0f921"
            ]
           ],
           "sequentialminus": [
            [
             0,
             "#0d0887"
            ],
            [
             0.1111111111111111,
             "#46039f"
            ],
            [
             0.2222222222222222,
             "#7201a8"
            ],
            [
             0.3333333333333333,
             "#9c179e"
            ],
            [
             0.4444444444444444,
             "#bd3786"
            ],
            [
             0.5555555555555556,
             "#d8576b"
            ],
            [
             0.6666666666666666,
             "#ed7953"
            ],
            [
             0.7777777777777778,
             "#fb9f3a"
            ],
            [
             0.8888888888888888,
             "#fdca26"
            ],
            [
             1,
             "#f0f921"
            ]
           ]
          },
          "colorway": [
           "#636efa",
           "#EF553B",
           "#00cc96",
           "#ab63fa",
           "#FFA15A",
           "#19d3f3",
           "#FF6692",
           "#B6E880",
           "#FF97FF",
           "#FECB52"
          ],
          "font": {
           "color": "#2a3f5f"
          },
          "geo": {
           "bgcolor": "white",
           "lakecolor": "white",
           "landcolor": "#E5ECF6",
           "showlakes": true,
           "showland": true,
           "subunitcolor": "white"
          },
          "hoverlabel": {
           "align": "left"
          },
          "hovermode": "closest",
          "mapbox": {
           "style": "light"
          },
          "paper_bgcolor": "white",
          "plot_bgcolor": "#E5ECF6",
          "polar": {
           "angularaxis": {
            "gridcolor": "white",
            "linecolor": "white",
            "ticks": ""
           },
           "bgcolor": "#E5ECF6",
           "radialaxis": {
            "gridcolor": "white",
            "linecolor": "white",
            "ticks": ""
           }
          },
          "scene": {
           "xaxis": {
            "backgroundcolor": "#E5ECF6",
            "gridcolor": "white",
            "gridwidth": 2,
            "linecolor": "white",
            "showbackground": true,
            "ticks": "",
            "zerolinecolor": "white"
           },
           "yaxis": {
            "backgroundcolor": "#E5ECF6",
            "gridcolor": "white",
            "gridwidth": 2,
            "linecolor": "white",
            "showbackground": true,
            "ticks": "",
            "zerolinecolor": "white"
           },
           "zaxis": {
            "backgroundcolor": "#E5ECF6",
            "gridcolor": "white",
            "gridwidth": 2,
            "linecolor": "white",
            "showbackground": true,
            "ticks": "",
            "zerolinecolor": "white"
           }
          },
          "shapedefaults": {
           "line": {
            "color": "#2a3f5f"
           }
          },
          "ternary": {
           "aaxis": {
            "gridcolor": "white",
            "linecolor": "white",
            "ticks": ""
           },
           "baxis": {
            "gridcolor": "white",
            "linecolor": "white",
            "ticks": ""
           },
           "bgcolor": "#E5ECF6",
           "caxis": {
            "gridcolor": "white",
            "linecolor": "white",
            "ticks": ""
           }
          },
          "title": {
           "x": 0.05
          },
          "xaxis": {
           "automargin": true,
           "gridcolor": "white",
           "linecolor": "white",
           "ticks": "",
           "title": {
            "standoff": 15
           },
           "zerolinecolor": "white",
           "zerolinewidth": 2
          },
          "yaxis": {
           "automargin": true,
           "gridcolor": "white",
           "linecolor": "white",
           "ticks": "",
           "title": {
            "standoff": 15
           },
           "zerolinecolor": "white",
           "zerolinewidth": 2
          }
         }
        },
        "title": {
         "x": 0.5
        },
        "width": 1500,
        "xaxis": {
         "showgrid": false
        },
        "yaxis": {
         "autorange": "reversed",
         "showgrid": false
        }
       }
      }
     },
     "metadata": {},
     "output_type": "display_data"
    }
   ],
   "source": [
    "heat = go.Heatmap(z=corrs.values,\n",
    "                  x=list(corrs.columns),\n",
    "                  y=list(corrs.index),\n",
    "                  xgap=1, ygap=1,\n",
    "                  texttemplate=\"%{z}\",\n",
    "                  showscale=True,\n",
    "                  colorbar_thickness=20,\n",
    "                  colorbar_ticklen=3,\n",
    "                  )\n",
    "layout = go.Layout(title_x=0.5, \n",
    "                   width=1500, height=1500,\n",
    "                   xaxis_showgrid=False,\n",
    "                   yaxis_showgrid=False,\n",
    "                   yaxis_autorange='reversed')\n",
    "fig=go.Figure(data=[heat], layout=layout)        \n",
    "fig.show() "
   ]
  },
  {
   "cell_type": "code",
   "execution_count": 134,
   "metadata": {},
   "outputs": [
    {
     "data": {
      "application/vnd.plotly.v1+json": {
       "config": {
        "plotlyServerURL": "https://plot.ly"
       },
       "data": [
        {
         "hovertemplate": "path=binaryTrees_21_original<br>version=g++-4.4<br>time_elapsed=%{x}<br>Pkg_J=%{y}<extra></extra>",
         "legendgroup": "binaryTrees_21_original",
         "marker": {
          "color": "#636efa",
          "symbol": "circle"
         },
         "mode": "markers",
         "name": "binaryTrees_21_original",
         "orientation": "v",
         "showlegend": true,
         "type": "scatter",
         "x": [
          19.012345,
          19.068004,
          19.48595,
          19.485471,
          19.006089,
          19.268487,
          19.271215,
          19.474061,
          19.79699,
          19.25266
         ],
         "xaxis": "x",
         "y": [
          276.73,
          283.23,
          292.54,
          293.64,
          284.07,
          287.17,
          291.53,
          293.55,
          298.61,
          292.07
         ],
         "yaxis": "y"
        },
        {
         "hovertemplate": "<b>OLS trendline</b><br>Pkg_J = 23.0939 * time_elapsed + -156.678<br>R<sup>2</sup>=0.816604<br><br>path=binaryTrees_21_original<br>version=g++-4.4<br>time_elapsed=%{x}<br>Pkg_J=%{y} <b>(trend)</b><extra></extra>",
         "legendgroup": "binaryTrees_21_original",
         "marker": {
          "color": "#636efa",
          "symbol": "circle"
         },
         "mode": "lines",
         "name": "binaryTrees_21_original",
         "showlegend": false,
         "type": "scatter",
         "x": [
          19.006089,
          19.012345,
          19.068004,
          19.25266,
          19.268487,
          19.271215,
          19.474061,
          19.485471,
          19.48595,
          19.79699
         ],
         "xaxis": "x",
         "y": [
          282.24639360606255,
          282.3908688565394,
          283.6762505647057,
          287.94067221624755,
          288.30617889612233,
          288.36917897337634,
          293.053678119511,
          293.3171791757675,
          293.32824113947885,
          300.5113584521878
         ],
         "yaxis": "y"
        }
       ],
       "frames": [
        {
         "data": [
          {
           "hovertemplate": "path=binaryTrees_21_original<br>version=g++-4.4<br>time_elapsed=%{x}<br>Pkg_J=%{y}<extra></extra>",
           "legendgroup": "binaryTrees_21_original",
           "marker": {
            "color": "#636efa",
            "symbol": "circle"
           },
           "mode": "markers",
           "name": "binaryTrees_21_original",
           "orientation": "v",
           "showlegend": true,
           "type": "scatter",
           "x": [
            19.012345,
            19.068004,
            19.48595,
            19.485471,
            19.006089,
            19.268487,
            19.271215,
            19.474061,
            19.79699,
            19.25266
           ],
           "xaxis": "x",
           "y": [
            276.73,
            283.23,
            292.54,
            293.64,
            284.07,
            287.17,
            291.53,
            293.55,
            298.61,
            292.07
           ],
           "yaxis": "y"
          },
          {
           "hovertemplate": "<b>OLS trendline</b><br>Pkg_J = 23.0939 * time_elapsed + -156.678<br>R<sup>2</sup>=0.816604<br><br>path=binaryTrees_21_original<br>version=g++-4.4<br>time_elapsed=%{x}<br>Pkg_J=%{y} <b>(trend)</b><extra></extra>",
           "legendgroup": "binaryTrees_21_original",
           "marker": {
            "color": "#636efa",
            "symbol": "circle"
           },
           "mode": "lines",
           "name": "binaryTrees_21_original",
           "showlegend": false,
           "type": "scatter",
           "x": [
            19.006089,
            19.012345,
            19.068004,
            19.25266,
            19.268487,
            19.271215,
            19.474061,
            19.485471,
            19.48595,
            19.79699
           ],
           "xaxis": "x",
           "y": [
            282.24639360606255,
            282.3908688565394,
            283.6762505647057,
            287.94067221624755,
            288.30617889612233,
            288.36917897337634,
            293.053678119511,
            293.3171791757675,
            293.32824113947885,
            300.5113584521878
           ],
           "yaxis": "y"
          }
         ],
         "name": "g++-4.4"
        },
        {
         "data": [
          {
           "hovertemplate": "path=binaryTrees_21_original<br>version=g++-4.6<br>time_elapsed=%{x}<br>Pkg_J=%{y}<extra></extra>",
           "legendgroup": "binaryTrees_21_original",
           "marker": {
            "color": "#636efa",
            "symbol": "circle"
           },
           "mode": "markers",
           "name": "binaryTrees_21_original",
           "orientation": "v",
           "showlegend": true,
           "type": "scatter",
           "x": [
            18.45464,
            18.380234,
            18.344352,
            18.547231,
            18.600965,
            18.796496,
            18.774649,
            18.733993,
            18.663682,
            18.66999
           ],
           "xaxis": "x",
           "y": [
            269.19,
            269.33,
            271.38,
            280.13,
            278.99,
            275.38,
            279.64,
            276.84,
            279,
            278.88
           ],
           "yaxis": "y"
          },
          {
           "hovertemplate": "<b>OLS trendline</b><br>Pkg_J = 19.0027 * time_elapsed + -77.5105<br>R<sup>2</sup>=0.496849<br><br>path=binaryTrees_21_original<br>version=g++-4.6<br>time_elapsed=%{x}<br>Pkg_J=%{y} <b>(trend)</b><extra></extra>",
           "legendgroup": "binaryTrees_21_original",
           "marker": {
            "color": "#636efa",
            "symbol": "circle"
           },
           "mode": "lines",
           "name": "binaryTrees_21_original",
           "showlegend": false,
           "type": "scatter",
           "x": [
            18.344352,
            18.380234,
            18.45464,
            18.547231,
            18.600965,
            18.663682,
            18.66999,
            18.733993,
            18.774649,
            18.796496
           ],
           "xaxis": "x",
           "y": [
            271.0821593450704,
            271.7640151826779,
            273.1779320616985,
            274.9374135248252,
            275.9585060385646,
            277.15030004578904,
            277.2701692454888,
            278.4864007591834,
            279.2589756138116,
            279.674128182905
           ],
           "yaxis": "y"
          }
         ],
         "name": "g++-4.6"
        },
        {
         "data": [
          {
           "hovertemplate": "path=binaryTrees_21_original<br>version=g++-4.7<br>time_elapsed=%{x}<br>Pkg_J=%{y}<extra></extra>",
           "legendgroup": "binaryTrees_21_original",
           "marker": {
            "color": "#636efa",
            "symbol": "circle"
           },
           "mode": "markers",
           "name": "binaryTrees_21_original",
           "orientation": "v",
           "showlegend": true,
           "type": "scatter",
           "x": [
            18.649621,
            18.665314,
            18.606044,
            18.718517,
            18.707071,
            19.11845,
            18.809439,
            18.816295,
            18.996665,
            19.192968
           ],
           "xaxis": "x",
           "y": [
            270.35,
            279.98,
            279.53,
            283.89,
            282.44,
            277.3,
            283.81,
            281.06,
            275.63,
            274.91
           ],
           "yaxis": "y"
          },
          {
           "hovertemplate": "<b>OLS trendline</b><br>Pkg_J = -6.1833 * time_elapsed + 395.309<br>R<sup>2</sup>=0.085588<br><br>path=binaryTrees_21_original<br>version=g++-4.7<br>time_elapsed=%{x}<br>Pkg_J=%{y} <b>(trend)</b><extra></extra>",
           "legendgroup": "binaryTrees_21_original",
           "marker": {
            "color": "#636efa",
            "symbol": "circle"
           },
           "mode": "lines",
           "name": "binaryTrees_21_original",
           "showlegend": false,
           "type": "scatter",
           "x": [
            18.606044,
            18.649621,
            18.665314,
            18.707071,
            18.718517,
            18.809439,
            18.816295,
            18.996665,
            19.11845,
            19.192968
           ],
           "xaxis": "x",
           "y": [
            280.2626586322875,
            279.99320883887316,
            279.8961742654043,
            279.63797808339075,
            279.56720399762486,
            279.0050057252146,
            278.96261300006944,
            277.847330643823,
            277.09429709192705,
            276.6335297213955
           ],
           "yaxis": "y"
          }
         ],
         "name": "g++-4.7"
        },
        {
         "data": [
          {
           "hovertemplate": "path=binaryTrees_21_original<br>version=g++-4.8<br>time_elapsed=%{x}<br>Pkg_J=%{y}<extra></extra>",
           "legendgroup": "binaryTrees_21_original",
           "marker": {
            "color": "#636efa",
            "symbol": "circle"
           },
           "mode": "markers",
           "name": "binaryTrees_21_original",
           "orientation": "v",
           "showlegend": true,
           "type": "scatter",
           "x": [
            18.514033,
            18.728872,
            18.711322,
            18.60818,
            18.712145,
            18.905862,
            18.936769,
            18.821412,
            18.906184,
            18.811494
           ],
           "xaxis": "x",
           "y": [
            270.8,
            278.26,
            280.91,
            274.76,
            281.36,
            285.65,
            270.03,
            281.31,
            281.33,
            279.13
           ],
           "yaxis": "y"
          },
          {
           "hovertemplate": "<b>OLS trendline</b><br>Pkg_J = 14.1133 * time_elapsed + 13.5084<br>R<sup>2</sup>=0.148924<br><br>path=binaryTrees_21_original<br>version=g++-4.8<br>time_elapsed=%{x}<br>Pkg_J=%{y} <b>(trend)</b><extra></extra>",
           "legendgroup": "binaryTrees_21_original",
           "marker": {
            "color": "#636efa",
            "symbol": "circle"
           },
           "mode": "lines",
           "name": "binaryTrees_21_original",
           "showlegend": false,
           "type": "scatter",
           "x": [
            18.514033,
            18.60818,
            18.711322,
            18.712145,
            18.728872,
            18.811494,
            18.821412,
            18.905862,
            18.906184,
            18.936769
           ],
           "xaxis": "x",
           "y": [
            274.80316527010575,
            276.13189345399263,
            277.58757108941876,
            277.59918636441785,
            277.83526012493996,
            279.0013321188336,
            279.14130817890765,
            280.3331793498345,
            280.33772384381956,
            280.7693802057237
           ],
           "yaxis": "y"
          }
         ],
         "name": "g++-4.8"
        },
        {
         "data": [
          {
           "hovertemplate": "path=binaryTrees_21_original<br>version=g++-4.9<br>time_elapsed=%{x}<br>Pkg_J=%{y}<extra></extra>",
           "legendgroup": "binaryTrees_21_original",
           "marker": {
            "color": "#636efa",
            "symbol": "circle"
           },
           "mode": "markers",
           "name": "binaryTrees_21_original",
           "orientation": "v",
           "showlegend": true,
           "type": "scatter",
           "x": [
            18.395804,
            18.363616,
            18.423788,
            18.514807,
            18.471405,
            18.755247,
            18.725226,
            18.54685,
            18.778535,
            18.687344
           ],
           "xaxis": "x",
           "y": [
            269.7,
            273.86,
            270.55,
            281.56,
            276.88,
            268.72,
            276.19,
            276.35,
            271.26,
            276.17
           ],
           "yaxis": "y"
          },
          {
           "hovertemplate": "<b>OLS trendline</b><br>Pkg_J = -1.89794 * time_elapsed + 309.362<br>R<sup>2</sup>=0.005501<br><br>path=binaryTrees_21_original<br>version=g++-4.9<br>time_elapsed=%{x}<br>Pkg_J=%{y} <b>(trend)</b><extra></extra>",
           "legendgroup": "binaryTrees_21_original",
           "marker": {
            "color": "#636efa",
            "symbol": "circle"
           },
           "mode": "lines",
           "name": "binaryTrees_21_original",
           "showlegend": false,
           "type": "scatter",
           "x": [
            18.363616,
            18.395804,
            18.423788,
            18.471405,
            18.514807,
            18.54685,
            18.687344,
            18.725226,
            18.755247,
            18.778535
           ],
           "xaxis": "x",
           "y": [
            274.50860980576147,
            274.4475189961248,
            274.39440711539686,
            274.3040330293254,
            274.2216587494742,
            274.1608431407633,
            273.894194321045,
            273.8222966557457,
            273.76531867649555,
            273.7211195098863
           ],
           "yaxis": "y"
          }
         ],
         "name": "g++-4.9"
        },
        {
         "data": [
          {
           "hovertemplate": "path=binaryTrees_21_original<br>version=g++-5<br>time_elapsed=%{x}<br>Pkg_J=%{y}<extra></extra>",
           "legendgroup": "binaryTrees_21_original",
           "marker": {
            "color": "#636efa",
            "symbol": "circle"
           },
           "mode": "markers",
           "name": "binaryTrees_21_original",
           "orientation": "v",
           "showlegend": true,
           "type": "scatter",
           "x": [
            18.229085,
            18.21793,
            18.185922,
            18.346837,
            18.74941,
            18.302186,
            18.64373,
            18.799245,
            18.962127,
            18.661617
           ],
           "xaxis": "x",
           "y": [
            266.37,
            272.14,
            273.27,
            276.74,
            269.28,
            271.78,
            270.5,
            272.5,
            267.42,
            274.26
           ],
           "yaxis": "y"
          },
          {
           "hovertemplate": "<b>OLS trendline</b><br>Pkg_J = -2.80557 * time_elapsed + 323.357<br>R<sup>2</sup>=0.064486<br><br>path=binaryTrees_21_original<br>version=g++-5<br>time_elapsed=%{x}<br>Pkg_J=%{y} <b>(trend)</b><extra></extra>",
           "legendgroup": "binaryTrees_21_original",
           "marker": {
            "color": "#636efa",
            "symbol": "circle"
           },
           "mode": "lines",
           "name": "binaryTrees_21_original",
           "showlegend": false,
           "type": "scatter",
           "x": [
            18.185922,
            18.21793,
            18.229085,
            18.302186,
            18.346837,
            18.64373,
            18.661617,
            18.74941,
            18.799245,
            18.962127
           ],
           "xaxis": "x",
           "y": [
            272.33468638483225,
            272.2448857976344,
            272.2135896982158,
            272.008499948005,
            271.8832285777548,
            271.0502753868363,
            271.0000922106551,
            270.75378307069457,
            270.6139676413331,
            270.15699128404884
           ],
           "yaxis": "y"
          }
         ],
         "name": "g++-5"
        },
        {
         "data": [
          {
           "hovertemplate": "path=binaryTrees_21_original<br>version=g++-6<br>time_elapsed=%{x}<br>Pkg_J=%{y}<extra></extra>",
           "legendgroup": "binaryTrees_21_original",
           "marker": {
            "color": "#636efa",
            "symbol": "circle"
           },
           "mode": "markers",
           "name": "binaryTrees_21_original",
           "orientation": "v",
           "showlegend": true,
           "type": "scatter",
           "x": [
            18.535857,
            18.670766,
            18.720573,
            18.650063,
            18.777439,
            19.150556,
            19.153943,
            19.116595,
            19.00819,
            18.914761
           ],
           "xaxis": "x",
           "y": [
            269.48,
            281.78,
            278.86,
            282.06,
            282.84,
            273.75,
            273.98,
            271.36,
            276.66,
            271.33
           ],
           "yaxis": "y"
          },
          {
           "hovertemplate": "<b>OLS trendline</b><br>Pkg_J = -8.12286 * time_elapsed + 429.487<br>R<sup>2</sup>=0.141463<br><br>path=binaryTrees_21_original<br>version=g++-6<br>time_elapsed=%{x}<br>Pkg_J=%{y} <b>(trend)</b><extra></extra>",
           "legendgroup": "binaryTrees_21_original",
           "marker": {
            "color": "#636efa",
            "symbol": "circle"
           },
           "mode": "lines",
           "name": "binaryTrees_21_original",
           "showlegend": false,
           "type": "scatter",
           "x": [
            18.535857,
            18.650063,
            18.670766,
            18.720573,
            18.777439,
            18.914761,
            19.00819,
            19.116595,
            19.150556,
            19.153943
           ],
           "xaxis": "x",
           "y": [
            278.9231754781472,
            277.9954962272298,
            277.82732867445895,
            277.4227534292841,
            276.96083892144156,
            275.84539165864913,
            275.0864810520789,
            274.20592250703135,
            273.93006208778536,
            273.902549963879
           ],
           "yaxis": "y"
          }
         ],
         "name": "g++-6"
        },
        {
         "data": [
          {
           "hovertemplate": "path=binaryTrees_21_original<br>version=g++-7<br>time_elapsed=%{x}<br>Pkg_J=%{y}<extra></extra>",
           "legendgroup": "binaryTrees_21_original",
           "marker": {
            "color": "#636efa",
            "symbol": "circle"
           },
           "mode": "markers",
           "name": "binaryTrees_21_original",
           "orientation": "v",
           "showlegend": true,
           "type": "scatter",
           "x": [
            18.922215,
            18.9776,
            19.019648,
            19.012149,
            19.031726,
            19.524324,
            19.767512,
            19.200118,
            19.777524,
            19.652129
           ],
           "xaxis": "x",
           "y": [
            279.77,
            280.13,
            291.17,
            286.18,
            288.02,
            281.75,
            284.35,
            287.38,
            281.87,
            278.25
           ],
           "yaxis": "y"
          },
          {
           "hovertemplate": "<b>OLS trendline</b><br>Pkg_J = -4.14899 * time_elapsed + 363.915<br>R<sup>2</sup>=0.119931<br><br>path=binaryTrees_21_original<br>version=g++-7<br>time_elapsed=%{x}<br>Pkg_J=%{y} <b>(trend)</b><extra></extra>",
           "legendgroup": "binaryTrees_21_original",
           "marker": {
            "color": "#636efa",
            "symbol": "circle"
           },
           "mode": "lines",
           "name": "binaryTrees_21_original",
           "showlegend": false,
           "type": "scatter",
           "x": [
            18.922215,
            18.9776,
            19.012149,
            19.019648,
            19.031726,
            19.200118,
            19.524324,
            19.652129,
            19.767512,
            19.777524
           ],
           "xaxis": "x",
           "y": [
            285.40669143083755,
            285.1768994007159,
            285.03355580861194,
            285.0024425029537,
            284.9523309539818,
            284.2536735641424,
            282.9085448304123,
            282.3782826581688,
            281.8995592888173,
            281.85801956135356
           ],
           "yaxis": "y"
          }
         ],
         "name": "g++-7"
        },
        {
         "data": [
          {
           "hovertemplate": "path=binaryTrees_21_original<br>version=g++-8<br>time_elapsed=%{x}<br>Pkg_J=%{y}<extra></extra>",
           "legendgroup": "binaryTrees_21_original",
           "marker": {
            "color": "#636efa",
            "symbol": "circle"
           },
           "mode": "markers",
           "name": "binaryTrees_21_original",
           "orientation": "v",
           "showlegend": true,
           "type": "scatter",
           "x": [
            18.895485,
            18.969705,
            19.189305,
            19.079588,
            19.061486,
            20.189262,
            20.290944,
            19.049993,
            19.125067,
            19.697991
           ],
           "xaxis": "x",
           "y": [
            278.09,
            284.56,
            283.05,
            284.93,
            287.02,
            304.4,
            352.36,
            276.9,
            280.69,
            273.23
           ],
           "yaxis": "y"
          },
          {
           "hovertemplate": "<b>OLS trendline</b><br>Pkg_J = 34.2848 * time_elapsed + -373.056<br>R<sup>2</sup>=0.573526<br><br>path=binaryTrees_21_original<br>version=g++-8<br>time_elapsed=%{x}<br>Pkg_J=%{y} <b>(trend)</b><extra></extra>",
           "legendgroup": "binaryTrees_21_original",
           "marker": {
            "color": "#636efa",
            "symbol": "circle"
           },
           "mode": "lines",
           "name": "binaryTrees_21_original",
           "showlegend": false,
           "type": "scatter",
           "x": [
            18.895485,
            18.969705,
            19.049993,
            19.061486,
            19.079588,
            19.125067,
            19.189305,
            19.697991,
            20.189262,
            20.290944
           ],
           "xaxis": "x",
           "y": [
            274.77263848471136,
            277.3172574197357,
            280.06991660937786,
            280.4639519828652,
            281.0845756956355,
            282.64381477601785,
            284.846202692322,
            302.28640786049505,
            319.12954298348575,
            322.61569149535785
           ],
           "yaxis": "y"
          }
         ],
         "name": "g++-8"
        },
        {
         "data": [
          {
           "hovertemplate": "path=binaryTrees_21_original<br>version=g++-9<br>time_elapsed=%{x}<br>Pkg_J=%{y}<extra></extra>",
           "legendgroup": "binaryTrees_21_original",
           "marker": {
            "color": "#636efa",
            "symbol": "circle"
           },
           "mode": "markers",
           "name": "binaryTrees_21_original",
           "orientation": "v",
           "showlegend": true,
           "type": "scatter",
           "x": [
            19.382183,
            19.402305,
            19.529972,
            19.79632,
            19.472186,
            19.610724,
            19.73897,
            20.079884,
            20.065399,
            20.163658
           ],
           "xaxis": "x",
           "y": [
            288.96,
            291.21,
            290.62,
            292,
            294.08,
            289.67,
            289.76,
            287.17,
            286.6,
            281.55
           ],
           "yaxis": "y"
          },
          {
           "hovertemplate": "<b>OLS trendline</b><br>Pkg_J = -8.87005 * time_elapsed + 464.116<br>R<sup>2</sup>=0.567059<br><br>path=binaryTrees_21_original<br>version=g++-9<br>time_elapsed=%{x}<br>Pkg_J=%{y} <b>(trend)</b><extra></extra>",
           "legendgroup": "binaryTrees_21_original",
           "marker": {
            "color": "#636efa",
            "symbol": "circle"
           },
           "mode": "lines",
           "name": "binaryTrees_21_original",
           "showlegend": false,
           "type": "scatter",
           "x": [
            19.382183,
            19.402305,
            19.472186,
            19.529972,
            19.610724,
            19.73897,
            19.79632,
            20.065399,
            20.079884,
            20.163658
           ],
           "xaxis": "x",
           "y": [
            292.19535264280466,
            292.01686957514164,
            291.39702188349247,
            290.88445739944615,
            290.1681834366228,
            289.0306355042344,
            288.5219383602886,
            286.13519522522654,
            286.0067126074401,
            285.26363336529676
           ],
           "yaxis": "y"
          }
         ],
         "name": "g++-9"
        },
        {
         "data": [
          {
           "hovertemplate": "path=binaryTrees_21_original<br>version=g++-10<br>time_elapsed=%{x}<br>Pkg_J=%{y}<extra></extra>",
           "legendgroup": "binaryTrees_21_original",
           "marker": {
            "color": "#636efa",
            "symbol": "circle"
           },
           "mode": "markers",
           "name": "binaryTrees_21_original",
           "orientation": "v",
           "showlegend": true,
           "type": "scatter",
           "x": [
            19.198182,
            19.261238,
            19.531092,
            19.195272,
            19.40385,
            19.589156,
            20.036617,
            19.994316,
            20.031973,
            19.690765
           ],
           "xaxis": "x",
           "y": [
            275.79,
            285.48,
            291.66,
            288.9,
            294.17,
            290.75,
            287.99,
            287.16,
            286.31,
            293.54
           ],
           "yaxis": "y"
          },
          {
           "hovertemplate": "<b>OLS trendline</b><br>Pkg_J = 3.27424 * time_elapsed + 224.022<br>R<sup>2</sup>=0.044044<br><br>path=binaryTrees_21_original<br>version=g++-10<br>time_elapsed=%{x}<br>Pkg_J=%{y} <b>(trend)</b><extra></extra>",
           "legendgroup": "binaryTrees_21_original",
           "marker": {
            "color": "#636efa",
            "symbol": "circle"
           },
           "mode": "lines",
           "name": "binaryTrees_21_original",
           "showlegend": false,
           "type": "scatter",
           "x": [
            19.195272,
            19.198182,
            19.261238,
            19.40385,
            19.531092,
            19.589156,
            19.690765,
            19.994316,
            20.031973,
            20.036617
           ],
           "xaxis": "x",
           "y": [
            286.8719356893762,
            286.8814637394275,
            287.08792446933603,
            287.5548709552171,
            287.97149231075855,
            288.1616080145998,
            288.4943006735898,
            289.48820071521106,
            289.6114989216651,
            289.6267045108191
           ],
           "yaxis": "y"
          }
         ],
         "name": "g++-10"
        },
        {
         "data": [
          {
           "hovertemplate": "path=binaryTrees_21_original<br>version=g++-11<br>time_elapsed=%{x}<br>Pkg_J=%{y}<extra></extra>",
           "legendgroup": "binaryTrees_21_original",
           "marker": {
            "color": "#636efa",
            "symbol": "circle"
           },
           "mode": "markers",
           "name": "binaryTrees_21_original",
           "orientation": "v",
           "showlegend": true,
           "type": "scatter",
           "x": [
            19.393586,
            19.461703,
            19.533421,
            20.048278,
            19.826333,
            19.674986,
            19.769541,
            20.0185,
            19.618648,
            20.817297
           ],
           "xaxis": "x",
           "y": [
            286.25,
            304.56,
            294.95,
            297.5,
            299.43,
            299.54,
            290.95,
            285.99,
            293.17,
            269.07
           ],
           "yaxis": "y"
          },
          {
           "hovertemplate": "<b>OLS trendline</b><br>Pkg_J = -17.4545 * time_elapsed + 638.022<br>R<sup>2</sup>=0.518678<br><br>path=binaryTrees_21_original<br>version=g++-11<br>time_elapsed=%{x}<br>Pkg_J=%{y} <b>(trend)</b><extra></extra>",
           "legendgroup": "binaryTrees_21_original",
           "marker": {
            "color": "#636efa",
            "symbol": "circle"
           },
           "mode": "lines",
           "name": "binaryTrees_21_original",
           "showlegend": false,
           "type": "scatter",
           "x": [
            19.393586,
            19.461703,
            19.533421,
            19.618648,
            19.674986,
            19.769541,
            19.826333,
            20.0185,
            20.048278,
            20.817297
           ],
           "xaxis": "x",
           "y": [
            299.518006433135,
            298.32906164871304,
            297.077263389113,
            295.58967296173176,
            294.6063241462413,
            292.9559186073741,
            291.96464547149185,
            288.61047613948944,
            288.09071752136884,
            274.66791368133806
           ],
           "yaxis": "y"
          }
         ],
         "name": "g++-11"
        },
        {
         "data": [
          {
           "hovertemplate": "path=binaryTrees_21_original<br>version=g++-12<br>time_elapsed=%{x}<br>Pkg_J=%{y}<extra></extra>",
           "legendgroup": "binaryTrees_21_original",
           "marker": {
            "color": "#636efa",
            "symbol": "circle"
           },
           "mode": "markers",
           "name": "binaryTrees_21_original",
           "orientation": "v",
           "showlegend": true,
           "type": "scatter",
           "x": [
            19.594491,
            19.611646,
            19.45969,
            19.801702,
            19.731188,
            20.012951,
            20.194771,
            19.926438,
            20.195806,
            20.441522
           ],
           "xaxis": "x",
           "y": [
            282.32,
            292.88,
            292.5,
            294.83,
            296.52,
            300.36,
            290.87,
            293.35,
            289.18,
            281.43
           ],
           "yaxis": "y"
          },
          {
           "hovertemplate": "<b>OLS trendline</b><br>Pkg_J = -5.04332 * time_elapsed + 391.771<br>R<sup>2</sup>=0.072397<br><br>path=binaryTrees_21_original<br>version=g++-12<br>time_elapsed=%{x}<br>Pkg_J=%{y} <b>(trend)</b><extra></extra>",
           "legendgroup": "binaryTrees_21_original",
           "marker": {
            "color": "#636efa",
            "symbol": "circle"
           },
           "mode": "lines",
           "name": "binaryTrees_21_original",
           "showlegend": false,
           "type": "scatter",
           "x": [
            19.45969,
            19.594491,
            19.611646,
            19.731188,
            19.801702,
            19.926438,
            20.012951,
            20.194771,
            20.195806,
            20.441522
           ],
           "xaxis": "x",
           "y": [
            293.62959808548896,
            292.9497533741733,
            292.86323520277534,
            292.2603465262812,
            291.9047217907547,
            291.27563810509463,
            290.8393252772221,
            289.92234865678597,
            289.91712881957255,
            288.6779041618502
           ],
           "yaxis": "y"
          }
         ],
         "name": "g++-12"
        },
        {
         "data": [
          {
           "hovertemplate": "path=binaryTrees_21_original<br>version=g++-13<br>time_elapsed=%{x}<br>Pkg_J=%{y}<extra></extra>",
           "legendgroup": "binaryTrees_21_original",
           "marker": {
            "color": "#636efa",
            "symbol": "circle"
           },
           "mode": "markers",
           "name": "binaryTrees_21_original",
           "orientation": "v",
           "showlegend": true,
           "type": "scatter",
           "x": [
            19.228001,
            19.285689,
            19.812221,
            19.745607,
            19.578513,
            20.287041,
            19.587371,
            20.397967,
            19.797566,
            20.948406
           ],
           "xaxis": "x",
           "y": [
            281.68,
            295.24,
            298.2,
            292.67,
            296.15,
            309.72,
            296.12,
            293.94,
            291.21,
            264.71
           ],
           "yaxis": "y"
          },
          {
           "hovertemplate": "<b>OLS trendline</b><br>Pkg_J = -7.44436 * time_elapsed + 439.86<br>R<sup>2</sup>=0.113119<br><br>path=binaryTrees_21_original<br>version=g++-13<br>time_elapsed=%{x}<br>Pkg_J=%{y} <b>(trend)</b><extra></extra>",
           "legendgroup": "binaryTrees_21_original",
           "marker": {
            "color": "#636efa",
            "symbol": "circle"
           },
           "mode": "lines",
           "name": "binaryTrees_21_original",
           "showlegend": false,
           "type": "scatter",
           "x": [
            19.228001,
            19.285689,
            19.578513,
            19.587371,
            19.745607,
            19.797566,
            19.812221,
            20.287041,
            20.397967,
            20.948406
           ],
           "xaxis": "x",
           "y": [
            296.7197367635236,
            296.29028628316,
            294.1103977888115,
            294.0444556109745,
            292.8664892018286,
            292.47968748380737,
            292.3705903268643,
            288.83585733063944,
            288.0100837904784,
            283.91241541991894
           ],
           "yaxis": "y"
          }
         ],
         "name": "g++-13"
        }
       ],
       "layout": {
        "height": 800,
        "legend": {
         "title": {
          "text": "path"
         },
         "tracegroupgap": 0
        },
        "margin": {
         "t": 60
        },
        "sliders": [
         {
          "active": 0,
          "currentvalue": {
           "prefix": "version="
          },
          "len": 0.9,
          "pad": {
           "b": 10,
           "t": 60
          },
          "steps": [
           {
            "args": [
             [
              "g++-4.4"
             ],
             {
              "frame": {
               "duration": 0,
               "redraw": false
              },
              "fromcurrent": true,
              "mode": "immediate",
              "transition": {
               "duration": 0,
               "easing": "linear"
              }
             }
            ],
            "label": "g++-4.4",
            "method": "animate"
           },
           {
            "args": [
             [
              "g++-4.6"
             ],
             {
              "frame": {
               "duration": 0,
               "redraw": false
              },
              "fromcurrent": true,
              "mode": "immediate",
              "transition": {
               "duration": 0,
               "easing": "linear"
              }
             }
            ],
            "label": "g++-4.6",
            "method": "animate"
           },
           {
            "args": [
             [
              "g++-4.7"
             ],
             {
              "frame": {
               "duration": 0,
               "redraw": false
              },
              "fromcurrent": true,
              "mode": "immediate",
              "transition": {
               "duration": 0,
               "easing": "linear"
              }
             }
            ],
            "label": "g++-4.7",
            "method": "animate"
           },
           {
            "args": [
             [
              "g++-4.8"
             ],
             {
              "frame": {
               "duration": 0,
               "redraw": false
              },
              "fromcurrent": true,
              "mode": "immediate",
              "transition": {
               "duration": 0,
               "easing": "linear"
              }
             }
            ],
            "label": "g++-4.8",
            "method": "animate"
           },
           {
            "args": [
             [
              "g++-4.9"
             ],
             {
              "frame": {
               "duration": 0,
               "redraw": false
              },
              "fromcurrent": true,
              "mode": "immediate",
              "transition": {
               "duration": 0,
               "easing": "linear"
              }
             }
            ],
            "label": "g++-4.9",
            "method": "animate"
           },
           {
            "args": [
             [
              "g++-5"
             ],
             {
              "frame": {
               "duration": 0,
               "redraw": false
              },
              "fromcurrent": true,
              "mode": "immediate",
              "transition": {
               "duration": 0,
               "easing": "linear"
              }
             }
            ],
            "label": "g++-5",
            "method": "animate"
           },
           {
            "args": [
             [
              "g++-6"
             ],
             {
              "frame": {
               "duration": 0,
               "redraw": false
              },
              "fromcurrent": true,
              "mode": "immediate",
              "transition": {
               "duration": 0,
               "easing": "linear"
              }
             }
            ],
            "label": "g++-6",
            "method": "animate"
           },
           {
            "args": [
             [
              "g++-7"
             ],
             {
              "frame": {
               "duration": 0,
               "redraw": false
              },
              "fromcurrent": true,
              "mode": "immediate",
              "transition": {
               "duration": 0,
               "easing": "linear"
              }
             }
            ],
            "label": "g++-7",
            "method": "animate"
           },
           {
            "args": [
             [
              "g++-8"
             ],
             {
              "frame": {
               "duration": 0,
               "redraw": false
              },
              "fromcurrent": true,
              "mode": "immediate",
              "transition": {
               "duration": 0,
               "easing": "linear"
              }
             }
            ],
            "label": "g++-8",
            "method": "animate"
           },
           {
            "args": [
             [
              "g++-9"
             ],
             {
              "frame": {
               "duration": 0,
               "redraw": false
              },
              "fromcurrent": true,
              "mode": "immediate",
              "transition": {
               "duration": 0,
               "easing": "linear"
              }
             }
            ],
            "label": "g++-9",
            "method": "animate"
           },
           {
            "args": [
             [
              "g++-10"
             ],
             {
              "frame": {
               "duration": 0,
               "redraw": false
              },
              "fromcurrent": true,
              "mode": "immediate",
              "transition": {
               "duration": 0,
               "easing": "linear"
              }
             }
            ],
            "label": "g++-10",
            "method": "animate"
           },
           {
            "args": [
             [
              "g++-11"
             ],
             {
              "frame": {
               "duration": 0,
               "redraw": false
              },
              "fromcurrent": true,
              "mode": "immediate",
              "transition": {
               "duration": 0,
               "easing": "linear"
              }
             }
            ],
            "label": "g++-11",
            "method": "animate"
           },
           {
            "args": [
             [
              "g++-12"
             ],
             {
              "frame": {
               "duration": 0,
               "redraw": false
              },
              "fromcurrent": true,
              "mode": "immediate",
              "transition": {
               "duration": 0,
               "easing": "linear"
              }
             }
            ],
            "label": "g++-12",
            "method": "animate"
           },
           {
            "args": [
             [
              "g++-13"
             ],
             {
              "frame": {
               "duration": 0,
               "redraw": false
              },
              "fromcurrent": true,
              "mode": "immediate",
              "transition": {
               "duration": 0,
               "easing": "linear"
              }
             }
            ],
            "label": "g++-13",
            "method": "animate"
           }
          ],
          "x": 0.1,
          "xanchor": "left",
          "y": 0,
          "yanchor": "top"
         }
        ],
        "template": {
         "data": {
          "bar": [
           {
            "error_x": {
             "color": "#2a3f5f"
            },
            "error_y": {
             "color": "#2a3f5f"
            },
            "marker": {
             "line": {
              "color": "#E5ECF6",
              "width": 0.5
             },
             "pattern": {
              "fillmode": "overlay",
              "size": 10,
              "solidity": 0.2
             }
            },
            "type": "bar"
           }
          ],
          "barpolar": [
           {
            "marker": {
             "line": {
              "color": "#E5ECF6",
              "width": 0.5
             },
             "pattern": {
              "fillmode": "overlay",
              "size": 10,
              "solidity": 0.2
             }
            },
            "type": "barpolar"
           }
          ],
          "carpet": [
           {
            "aaxis": {
             "endlinecolor": "#2a3f5f",
             "gridcolor": "white",
             "linecolor": "white",
             "minorgridcolor": "white",
             "startlinecolor": "#2a3f5f"
            },
            "baxis": {
             "endlinecolor": "#2a3f5f",
             "gridcolor": "white",
             "linecolor": "white",
             "minorgridcolor": "white",
             "startlinecolor": "#2a3f5f"
            },
            "type": "carpet"
           }
          ],
          "choropleth": [
           {
            "colorbar": {
             "outlinewidth": 0,
             "ticks": ""
            },
            "type": "choropleth"
           }
          ],
          "contour": [
           {
            "colorbar": {
             "outlinewidth": 0,
             "ticks": ""
            },
            "colorscale": [
             [
              0,
              "#0d0887"
             ],
             [
              0.1111111111111111,
              "#46039f"
             ],
             [
              0.2222222222222222,
              "#7201a8"
             ],
             [
              0.3333333333333333,
              "#9c179e"
             ],
             [
              0.4444444444444444,
              "#bd3786"
             ],
             [
              0.5555555555555556,
              "#d8576b"
             ],
             [
              0.6666666666666666,
              "#ed7953"
             ],
             [
              0.7777777777777778,
              "#fb9f3a"
             ],
             [
              0.8888888888888888,
              "#fdca26"
             ],
             [
              1,
              "#f0f921"
             ]
            ],
            "type": "contour"
           }
          ],
          "contourcarpet": [
           {
            "colorbar": {
             "outlinewidth": 0,
             "ticks": ""
            },
            "type": "contourcarpet"
           }
          ],
          "heatmap": [
           {
            "colorbar": {
             "outlinewidth": 0,
             "ticks": ""
            },
            "colorscale": [
             [
              0,
              "#0d0887"
             ],
             [
              0.1111111111111111,
              "#46039f"
             ],
             [
              0.2222222222222222,
              "#7201a8"
             ],
             [
              0.3333333333333333,
              "#9c179e"
             ],
             [
              0.4444444444444444,
              "#bd3786"
             ],
             [
              0.5555555555555556,
              "#d8576b"
             ],
             [
              0.6666666666666666,
              "#ed7953"
             ],
             [
              0.7777777777777778,
              "#fb9f3a"
             ],
             [
              0.8888888888888888,
              "#fdca26"
             ],
             [
              1,
              "#f0f921"
             ]
            ],
            "type": "heatmap"
           }
          ],
          "heatmapgl": [
           {
            "colorbar": {
             "outlinewidth": 0,
             "ticks": ""
            },
            "colorscale": [
             [
              0,
              "#0d0887"
             ],
             [
              0.1111111111111111,
              "#46039f"
             ],
             [
              0.2222222222222222,
              "#7201a8"
             ],
             [
              0.3333333333333333,
              "#9c179e"
             ],
             [
              0.4444444444444444,
              "#bd3786"
             ],
             [
              0.5555555555555556,
              "#d8576b"
             ],
             [
              0.6666666666666666,
              "#ed7953"
             ],
             [
              0.7777777777777778,
              "#fb9f3a"
             ],
             [
              0.8888888888888888,
              "#fdca26"
             ],
             [
              1,
              "#f0f921"
             ]
            ],
            "type": "heatmapgl"
           }
          ],
          "histogram": [
           {
            "marker": {
             "pattern": {
              "fillmode": "overlay",
              "size": 10,
              "solidity": 0.2
             }
            },
            "type": "histogram"
           }
          ],
          "histogram2d": [
           {
            "colorbar": {
             "outlinewidth": 0,
             "ticks": ""
            },
            "colorscale": [
             [
              0,
              "#0d0887"
             ],
             [
              0.1111111111111111,
              "#46039f"
             ],
             [
              0.2222222222222222,
              "#7201a8"
             ],
             [
              0.3333333333333333,
              "#9c179e"
             ],
             [
              0.4444444444444444,
              "#bd3786"
             ],
             [
              0.5555555555555556,
              "#d8576b"
             ],
             [
              0.6666666666666666,
              "#ed7953"
             ],
             [
              0.7777777777777778,
              "#fb9f3a"
             ],
             [
              0.8888888888888888,
              "#fdca26"
             ],
             [
              1,
              "#f0f921"
             ]
            ],
            "type": "histogram2d"
           }
          ],
          "histogram2dcontour": [
           {
            "colorbar": {
             "outlinewidth": 0,
             "ticks": ""
            },
            "colorscale": [
             [
              0,
              "#0d0887"
             ],
             [
              0.1111111111111111,
              "#46039f"
             ],
             [
              0.2222222222222222,
              "#7201a8"
             ],
             [
              0.3333333333333333,
              "#9c179e"
             ],
             [
              0.4444444444444444,
              "#bd3786"
             ],
             [
              0.5555555555555556,
              "#d8576b"
             ],
             [
              0.6666666666666666,
              "#ed7953"
             ],
             [
              0.7777777777777778,
              "#fb9f3a"
             ],
             [
              0.8888888888888888,
              "#fdca26"
             ],
             [
              1,
              "#f0f921"
             ]
            ],
            "type": "histogram2dcontour"
           }
          ],
          "mesh3d": [
           {
            "colorbar": {
             "outlinewidth": 0,
             "ticks": ""
            },
            "type": "mesh3d"
           }
          ],
          "parcoords": [
           {
            "line": {
             "colorbar": {
              "outlinewidth": 0,
              "ticks": ""
             }
            },
            "type": "parcoords"
           }
          ],
          "pie": [
           {
            "automargin": true,
            "type": "pie"
           }
          ],
          "scatter": [
           {
            "fillpattern": {
             "fillmode": "overlay",
             "size": 10,
             "solidity": 0.2
            },
            "type": "scatter"
           }
          ],
          "scatter3d": [
           {
            "line": {
             "colorbar": {
              "outlinewidth": 0,
              "ticks": ""
             }
            },
            "marker": {
             "colorbar": {
              "outlinewidth": 0,
              "ticks": ""
             }
            },
            "type": "scatter3d"
           }
          ],
          "scattercarpet": [
           {
            "marker": {
             "colorbar": {
              "outlinewidth": 0,
              "ticks": ""
             }
            },
            "type": "scattercarpet"
           }
          ],
          "scattergeo": [
           {
            "marker": {
             "colorbar": {
              "outlinewidth": 0,
              "ticks": ""
             }
            },
            "type": "scattergeo"
           }
          ],
          "scattergl": [
           {
            "marker": {
             "colorbar": {
              "outlinewidth": 0,
              "ticks": ""
             }
            },
            "type": "scattergl"
           }
          ],
          "scattermapbox": [
           {
            "marker": {
             "colorbar": {
              "outlinewidth": 0,
              "ticks": ""
             }
            },
            "type": "scattermapbox"
           }
          ],
          "scatterpolar": [
           {
            "marker": {
             "colorbar": {
              "outlinewidth": 0,
              "ticks": ""
             }
            },
            "type": "scatterpolar"
           }
          ],
          "scatterpolargl": [
           {
            "marker": {
             "colorbar": {
              "outlinewidth": 0,
              "ticks": ""
             }
            },
            "type": "scatterpolargl"
           }
          ],
          "scatterternary": [
           {
            "marker": {
             "colorbar": {
              "outlinewidth": 0,
              "ticks": ""
             }
            },
            "type": "scatterternary"
           }
          ],
          "surface": [
           {
            "colorbar": {
             "outlinewidth": 0,
             "ticks": ""
            },
            "colorscale": [
             [
              0,
              "#0d0887"
             ],
             [
              0.1111111111111111,
              "#46039f"
             ],
             [
              0.2222222222222222,
              "#7201a8"
             ],
             [
              0.3333333333333333,
              "#9c179e"
             ],
             [
              0.4444444444444444,
              "#bd3786"
             ],
             [
              0.5555555555555556,
              "#d8576b"
             ],
             [
              0.6666666666666666,
              "#ed7953"
             ],
             [
              0.7777777777777778,
              "#fb9f3a"
             ],
             [
              0.8888888888888888,
              "#fdca26"
             ],
             [
              1,
              "#f0f921"
             ]
            ],
            "type": "surface"
           }
          ],
          "table": [
           {
            "cells": {
             "fill": {
              "color": "#EBF0F8"
             },
             "line": {
              "color": "white"
             }
            },
            "header": {
             "fill": {
              "color": "#C8D4E3"
             },
             "line": {
              "color": "white"
             }
            },
            "type": "table"
           }
          ]
         },
         "layout": {
          "annotationdefaults": {
           "arrowcolor": "#2a3f5f",
           "arrowhead": 0,
           "arrowwidth": 1
          },
          "autotypenumbers": "strict",
          "coloraxis": {
           "colorbar": {
            "outlinewidth": 0,
            "ticks": ""
           }
          },
          "colorscale": {
           "diverging": [
            [
             0,
             "#8e0152"
            ],
            [
             0.1,
             "#c51b7d"
            ],
            [
             0.2,
             "#de77ae"
            ],
            [
             0.3,
             "#f1b6da"
            ],
            [
             0.4,
             "#fde0ef"
            ],
            [
             0.5,
             "#f7f7f7"
            ],
            [
             0.6,
             "#e6f5d0"
            ],
            [
             0.7,
             "#b8e186"
            ],
            [
             0.8,
             "#7fbc41"
            ],
            [
             0.9,
             "#4d9221"
            ],
            [
             1,
             "#276419"
            ]
           ],
           "sequential": [
            [
             0,
             "#0d0887"
            ],
            [
             0.1111111111111111,
             "#46039f"
            ],
            [
             0.2222222222222222,
             "#7201a8"
            ],
            [
             0.3333333333333333,
             "#9c179e"
            ],
            [
             0.4444444444444444,
             "#bd3786"
            ],
            [
             0.5555555555555556,
             "#d8576b"
            ],
            [
             0.6666666666666666,
             "#ed7953"
            ],
            [
             0.7777777777777778,
             "#fb9f3a"
            ],
            [
             0.8888888888888888,
             "#fdca26"
            ],
            [
             1,
             "#f0f921"
            ]
           ],
           "sequentialminus": [
            [
             0,
             "#0d0887"
            ],
            [
             0.1111111111111111,
             "#46039f"
            ],
            [
             0.2222222222222222,
             "#7201a8"
            ],
            [
             0.3333333333333333,
             "#9c179e"
            ],
            [
             0.4444444444444444,
             "#bd3786"
            ],
            [
             0.5555555555555556,
             "#d8576b"
            ],
            [
             0.6666666666666666,
             "#ed7953"
            ],
            [
             0.7777777777777778,
             "#fb9f3a"
            ],
            [
             0.8888888888888888,
             "#fdca26"
            ],
            [
             1,
             "#f0f921"
            ]
           ]
          },
          "colorway": [
           "#636efa",
           "#EF553B",
           "#00cc96",
           "#ab63fa",
           "#FFA15A",
           "#19d3f3",
           "#FF6692",
           "#B6E880",
           "#FF97FF",
           "#FECB52"
          ],
          "font": {
           "color": "#2a3f5f"
          },
          "geo": {
           "bgcolor": "white",
           "lakecolor": "white",
           "landcolor": "#E5ECF6",
           "showlakes": true,
           "showland": true,
           "subunitcolor": "white"
          },
          "hoverlabel": {
           "align": "left"
          },
          "hovermode": "closest",
          "mapbox": {
           "style": "light"
          },
          "paper_bgcolor": "white",
          "plot_bgcolor": "#E5ECF6",
          "polar": {
           "angularaxis": {
            "gridcolor": "white",
            "linecolor": "white",
            "ticks": ""
           },
           "bgcolor": "#E5ECF6",
           "radialaxis": {
            "gridcolor": "white",
            "linecolor": "white",
            "ticks": ""
           }
          },
          "scene": {
           "xaxis": {
            "backgroundcolor": "#E5ECF6",
            "gridcolor": "white",
            "gridwidth": 2,
            "linecolor": "white",
            "showbackground": true,
            "ticks": "",
            "zerolinecolor": "white"
           },
           "yaxis": {
            "backgroundcolor": "#E5ECF6",
            "gridcolor": "white",
            "gridwidth": 2,
            "linecolor": "white",
            "showbackground": true,
            "ticks": "",
            "zerolinecolor": "white"
           },
           "zaxis": {
            "backgroundcolor": "#E5ECF6",
            "gridcolor": "white",
            "gridwidth": 2,
            "linecolor": "white",
            "showbackground": true,
            "ticks": "",
            "zerolinecolor": "white"
           }
          },
          "shapedefaults": {
           "line": {
            "color": "#2a3f5f"
           }
          },
          "ternary": {
           "aaxis": {
            "gridcolor": "white",
            "linecolor": "white",
            "ticks": ""
           },
           "baxis": {
            "gridcolor": "white",
            "linecolor": "white",
            "ticks": ""
           },
           "bgcolor": "#E5ECF6",
           "caxis": {
            "gridcolor": "white",
            "linecolor": "white",
            "ticks": ""
           }
          },
          "title": {
           "x": 0.05
          },
          "xaxis": {
           "automargin": true,
           "gridcolor": "white",
           "linecolor": "white",
           "ticks": "",
           "title": {
            "standoff": 15
           },
           "zerolinecolor": "white",
           "zerolinewidth": 2
          },
          "yaxis": {
           "automargin": true,
           "gridcolor": "white",
           "linecolor": "white",
           "ticks": "",
           "title": {
            "standoff": 15
           },
           "zerolinecolor": "white",
           "zerolinewidth": 2
          }
         }
        },
        "updatemenus": [
         {
          "buttons": [
           {
            "args": [
             null,
             {
              "frame": {
               "duration": 500,
               "redraw": false
              },
              "fromcurrent": true,
              "mode": "immediate",
              "transition": {
               "duration": 500,
               "easing": "linear"
              }
             }
            ],
            "label": "&#9654;",
            "method": "animate"
           },
           {
            "args": [
             [
              null
             ],
             {
              "frame": {
               "duration": 0,
               "redraw": false
              },
              "fromcurrent": true,
              "mode": "immediate",
              "transition": {
               "duration": 0,
               "easing": "linear"
              }
             }
            ],
            "label": "&#9724;",
            "method": "animate"
           }
          ],
          "direction": "left",
          "pad": {
           "r": 10,
           "t": 70
          },
          "showactive": false,
          "type": "buttons",
          "x": 0.1,
          "xanchor": "right",
          "y": 0,
          "yanchor": "top"
         }
        ],
        "width": 1000,
        "xaxis": {
         "anchor": "y",
         "domain": [
          0,
          1
         ],
         "range": [
          0,
          30
         ],
         "title": {
          "text": "time_elapsed"
         }
        },
        "yaxis": {
         "anchor": "x",
         "domain": [
          0,
          1
         ],
         "range": [
          250,
          360
         ],
         "title": {
          "text": "Pkg_J"
         }
        }
       }
      }
     },
     "metadata": {},
     "output_type": "display_data"
    }
   ],
   "source": [
    "px.scatter(df, y=\"Pkg_J\", x=\"time_elapsed\", trendline=\"ols\",\n",
    "           color=\"path\", animation_frame=\"version\",\n",
    "           width=1000, height=800,\n",
    "           range_x=[0,30], range_y=[250,360])"
   ]
  },
  {
   "cell_type": "code",
   "execution_count": 139,
   "metadata": {},
   "outputs": [
    {
     "data": {
      "application/vnd.plotly.v1+json": {
       "config": {
        "plotlyServerURL": "https://plot.ly"
       },
       "data": [
        {
         "hovertemplate": "version=g++-4.4<br>Pkg_J=%{x}<br>probability=%{y}<extra></extra>",
         "legendgroup": "g++-4.4",
         "line": {
          "dash": "solid",
          "shape": "hv"
         },
         "marker": {
          "color": "#636efa",
          "symbol": "circle"
         },
         "mode": "lines+markers",
         "name": "g++-4.4",
         "orientation": "v",
         "showlegend": true,
         "type": "scatter",
         "x": [
          276.73,
          283.23,
          284.07,
          287.17,
          291.53,
          292.07,
          292.54,
          293.55,
          293.64,
          298.61
         ],
         "xaxis": "x",
         "y": [
          0.1,
          0.2,
          0.3,
          0.4,
          0.5,
          0.6,
          0.7,
          0.8,
          0.9,
          1
         ],
         "yaxis": "y"
        },
        {
         "hovertemplate": "version=g++-4.6<br>Pkg_J=%{x}<br>probability=%{y}<extra></extra>",
         "legendgroup": "g++-4.6",
         "line": {
          "dash": "solid",
          "shape": "hv"
         },
         "marker": {
          "color": "#EF553B",
          "symbol": "circle"
         },
         "mode": "lines+markers",
         "name": "g++-4.6",
         "orientation": "v",
         "showlegend": true,
         "type": "scatter",
         "x": [
          269.19,
          269.33,
          271.38,
          275.38,
          276.84,
          278.88,
          278.99,
          279,
          279.64,
          280.13
         ],
         "xaxis": "x",
         "y": [
          0.1,
          0.2,
          0.3,
          0.4,
          0.5,
          0.6,
          0.7,
          0.8,
          0.9,
          1
         ],
         "yaxis": "y"
        },
        {
         "hovertemplate": "version=g++-4.7<br>Pkg_J=%{x}<br>probability=%{y}<extra></extra>",
         "legendgroup": "g++-4.7",
         "line": {
          "dash": "solid",
          "shape": "hv"
         },
         "marker": {
          "color": "#00cc96",
          "symbol": "circle"
         },
         "mode": "lines+markers",
         "name": "g++-4.7",
         "orientation": "v",
         "showlegend": true,
         "type": "scatter",
         "x": [
          270.35,
          274.91,
          275.63,
          277.3,
          279.53,
          279.98,
          281.06,
          282.44,
          283.81,
          283.89
         ],
         "xaxis": "x",
         "y": [
          0.1,
          0.2,
          0.3,
          0.4,
          0.5,
          0.6,
          0.7,
          0.8,
          0.9,
          1
         ],
         "yaxis": "y"
        },
        {
         "hovertemplate": "version=g++-4.8<br>Pkg_J=%{x}<br>probability=%{y}<extra></extra>",
         "legendgroup": "g++-4.8",
         "line": {
          "dash": "solid",
          "shape": "hv"
         },
         "marker": {
          "color": "#ab63fa",
          "symbol": "circle"
         },
         "mode": "lines+markers",
         "name": "g++-4.8",
         "orientation": "v",
         "showlegend": true,
         "type": "scatter",
         "x": [
          270.03,
          270.8,
          274.76,
          278.26,
          279.13,
          280.91,
          281.31,
          281.33,
          281.36,
          285.65
         ],
         "xaxis": "x",
         "y": [
          0.1,
          0.2,
          0.3,
          0.4,
          0.5,
          0.6,
          0.7,
          0.8,
          0.9,
          1
         ],
         "yaxis": "y"
        },
        {
         "hovertemplate": "version=g++-4.9<br>Pkg_J=%{x}<br>probability=%{y}<extra></extra>",
         "legendgroup": "g++-4.9",
         "line": {
          "dash": "solid",
          "shape": "hv"
         },
         "marker": {
          "color": "#FFA15A",
          "symbol": "circle"
         },
         "mode": "lines+markers",
         "name": "g++-4.9",
         "orientation": "v",
         "showlegend": true,
         "type": "scatter",
         "x": [
          268.72,
          269.7,
          270.55,
          271.26,
          273.86,
          276.17,
          276.19,
          276.35,
          276.88,
          281.56
         ],
         "xaxis": "x",
         "y": [
          0.1,
          0.2,
          0.3,
          0.4,
          0.5,
          0.6,
          0.7,
          0.8,
          0.9,
          1
         ],
         "yaxis": "y"
        },
        {
         "hovertemplate": "version=g++-5<br>Pkg_J=%{x}<br>probability=%{y}<extra></extra>",
         "legendgroup": "g++-5",
         "line": {
          "dash": "solid",
          "shape": "hv"
         },
         "marker": {
          "color": "#19d3f3",
          "symbol": "circle"
         },
         "mode": "lines+markers",
         "name": "g++-5",
         "orientation": "v",
         "showlegend": true,
         "type": "scatter",
         "x": [
          266.37,
          267.42,
          269.28,
          270.5,
          271.78,
          272.14,
          272.5,
          273.27,
          274.26,
          276.74
         ],
         "xaxis": "x",
         "y": [
          0.1,
          0.2,
          0.3,
          0.4,
          0.5,
          0.6,
          0.7,
          0.8,
          0.9,
          1
         ],
         "yaxis": "y"
        },
        {
         "hovertemplate": "version=g++-6<br>Pkg_J=%{x}<br>probability=%{y}<extra></extra>",
         "legendgroup": "g++-6",
         "line": {
          "dash": "solid",
          "shape": "hv"
         },
         "marker": {
          "color": "#FF6692",
          "symbol": "circle"
         },
         "mode": "lines+markers",
         "name": "g++-6",
         "orientation": "v",
         "showlegend": true,
         "type": "scatter",
         "x": [
          269.48,
          271.33,
          271.36,
          273.75,
          273.98,
          276.66,
          278.86,
          281.78,
          282.06,
          282.84
         ],
         "xaxis": "x",
         "y": [
          0.1,
          0.2,
          0.3,
          0.4,
          0.5,
          0.6,
          0.7,
          0.8,
          0.9,
          1
         ],
         "yaxis": "y"
        },
        {
         "hovertemplate": "version=g++-7<br>Pkg_J=%{x}<br>probability=%{y}<extra></extra>",
         "legendgroup": "g++-7",
         "line": {
          "dash": "solid",
          "shape": "hv"
         },
         "marker": {
          "color": "#B6E880",
          "symbol": "circle"
         },
         "mode": "lines+markers",
         "name": "g++-7",
         "orientation": "v",
         "showlegend": true,
         "type": "scatter",
         "x": [
          278.25,
          279.77,
          280.13,
          281.75,
          281.87,
          284.35,
          286.18,
          287.38,
          288.02,
          291.17
         ],
         "xaxis": "x",
         "y": [
          0.1,
          0.2,
          0.3,
          0.4,
          0.5,
          0.6,
          0.7,
          0.8,
          0.9,
          1
         ],
         "yaxis": "y"
        },
        {
         "hovertemplate": "version=g++-8<br>Pkg_J=%{x}<br>probability=%{y}<extra></extra>",
         "legendgroup": "g++-8",
         "line": {
          "dash": "solid",
          "shape": "hv"
         },
         "marker": {
          "color": "#FF97FF",
          "symbol": "circle"
         },
         "mode": "lines+markers",
         "name": "g++-8",
         "orientation": "v",
         "showlegend": true,
         "type": "scatter",
         "x": [
          273.23,
          276.9,
          278.09,
          280.69,
          283.05,
          284.56,
          284.93,
          287.02,
          304.4,
          352.36
         ],
         "xaxis": "x",
         "y": [
          0.1,
          0.2,
          0.3,
          0.4,
          0.5,
          0.6,
          0.7,
          0.8,
          0.9,
          1
         ],
         "yaxis": "y"
        },
        {
         "hovertemplate": "version=g++-9<br>Pkg_J=%{x}<br>probability=%{y}<extra></extra>",
         "legendgroup": "g++-9",
         "line": {
          "dash": "solid",
          "shape": "hv"
         },
         "marker": {
          "color": "#FECB52",
          "symbol": "circle"
         },
         "mode": "lines+markers",
         "name": "g++-9",
         "orientation": "v",
         "showlegend": true,
         "type": "scatter",
         "x": [
          281.55,
          286.6,
          287.17,
          288.96,
          289.67,
          289.76,
          290.62,
          291.21,
          292,
          294.08
         ],
         "xaxis": "x",
         "y": [
          0.1,
          0.2,
          0.3,
          0.4,
          0.5,
          0.6,
          0.7,
          0.8,
          0.9,
          1
         ],
         "yaxis": "y"
        },
        {
         "hovertemplate": "version=g++-10<br>Pkg_J=%{x}<br>probability=%{y}<extra></extra>",
         "legendgroup": "g++-10",
         "line": {
          "dash": "solid",
          "shape": "hv"
         },
         "marker": {
          "color": "#636efa",
          "symbol": "circle"
         },
         "mode": "lines+markers",
         "name": "g++-10",
         "orientation": "v",
         "showlegend": true,
         "type": "scatter",
         "x": [
          275.79,
          285.48,
          286.31,
          287.16,
          287.99,
          288.9,
          290.75,
          291.66,
          293.54,
          294.17
         ],
         "xaxis": "x",
         "y": [
          0.1,
          0.2,
          0.3,
          0.4,
          0.5,
          0.6,
          0.7,
          0.8,
          0.9,
          1
         ],
         "yaxis": "y"
        },
        {
         "hovertemplate": "version=g++-11<br>Pkg_J=%{x}<br>probability=%{y}<extra></extra>",
         "legendgroup": "g++-11",
         "line": {
          "dash": "solid",
          "shape": "hv"
         },
         "marker": {
          "color": "#EF553B",
          "symbol": "circle"
         },
         "mode": "lines+markers",
         "name": "g++-11",
         "orientation": "v",
         "showlegend": true,
         "type": "scatter",
         "x": [
          269.07,
          285.99,
          286.25,
          290.95,
          293.17,
          294.95,
          297.5,
          299.43,
          299.54,
          304.56
         ],
         "xaxis": "x",
         "y": [
          0.1,
          0.2,
          0.3,
          0.4,
          0.5,
          0.6,
          0.7,
          0.8,
          0.9,
          1
         ],
         "yaxis": "y"
        },
        {
         "hovertemplate": "version=g++-12<br>Pkg_J=%{x}<br>probability=%{y}<extra></extra>",
         "legendgroup": "g++-12",
         "line": {
          "dash": "solid",
          "shape": "hv"
         },
         "marker": {
          "color": "#00cc96",
          "symbol": "circle"
         },
         "mode": "lines+markers",
         "name": "g++-12",
         "orientation": "v",
         "showlegend": true,
         "type": "scatter",
         "x": [
          281.43,
          282.32,
          289.18,
          290.87,
          292.5,
          292.88,
          293.35,
          294.83,
          296.52,
          300.36
         ],
         "xaxis": "x",
         "y": [
          0.1,
          0.2,
          0.3,
          0.4,
          0.5,
          0.6,
          0.7,
          0.8,
          0.9,
          1
         ],
         "yaxis": "y"
        },
        {
         "hovertemplate": "version=g++-13<br>Pkg_J=%{x}<br>probability=%{y}<extra></extra>",
         "legendgroup": "g++-13",
         "line": {
          "dash": "solid",
          "shape": "hv"
         },
         "marker": {
          "color": "#ab63fa",
          "symbol": "circle"
         },
         "mode": "lines+markers",
         "name": "g++-13",
         "orientation": "v",
         "showlegend": true,
         "type": "scatter",
         "x": [
          264.71,
          281.68,
          291.21,
          292.67,
          293.94,
          295.24,
          296.12,
          296.15,
          298.2,
          309.72
         ],
         "xaxis": "x",
         "y": [
          0.1,
          0.2,
          0.3,
          0.4,
          0.5,
          0.6,
          0.7,
          0.8,
          0.9,
          1
         ],
         "yaxis": "y"
        }
       ],
       "layout": {
        "legend": {
         "title": {
          "text": "version"
         },
         "tracegroupgap": 0
        },
        "margin": {
         "t": 60
        },
        "template": {
         "data": {
          "bar": [
           {
            "error_x": {
             "color": "#2a3f5f"
            },
            "error_y": {
             "color": "#2a3f5f"
            },
            "marker": {
             "line": {
              "color": "#E5ECF6",
              "width": 0.5
             },
             "pattern": {
              "fillmode": "overlay",
              "size": 10,
              "solidity": 0.2
             }
            },
            "type": "bar"
           }
          ],
          "barpolar": [
           {
            "marker": {
             "line": {
              "color": "#E5ECF6",
              "width": 0.5
             },
             "pattern": {
              "fillmode": "overlay",
              "size": 10,
              "solidity": 0.2
             }
            },
            "type": "barpolar"
           }
          ],
          "carpet": [
           {
            "aaxis": {
             "endlinecolor": "#2a3f5f",
             "gridcolor": "white",
             "linecolor": "white",
             "minorgridcolor": "white",
             "startlinecolor": "#2a3f5f"
            },
            "baxis": {
             "endlinecolor": "#2a3f5f",
             "gridcolor": "white",
             "linecolor": "white",
             "minorgridcolor": "white",
             "startlinecolor": "#2a3f5f"
            },
            "type": "carpet"
           }
          ],
          "choropleth": [
           {
            "colorbar": {
             "outlinewidth": 0,
             "ticks": ""
            },
            "type": "choropleth"
           }
          ],
          "contour": [
           {
            "colorbar": {
             "outlinewidth": 0,
             "ticks": ""
            },
            "colorscale": [
             [
              0,
              "#0d0887"
             ],
             [
              0.1111111111111111,
              "#46039f"
             ],
             [
              0.2222222222222222,
              "#7201a8"
             ],
             [
              0.3333333333333333,
              "#9c179e"
             ],
             [
              0.4444444444444444,
              "#bd3786"
             ],
             [
              0.5555555555555556,
              "#d8576b"
             ],
             [
              0.6666666666666666,
              "#ed7953"
             ],
             [
              0.7777777777777778,
              "#fb9f3a"
             ],
             [
              0.8888888888888888,
              "#fdca26"
             ],
             [
              1,
              "#f0f921"
             ]
            ],
            "type": "contour"
           }
          ],
          "contourcarpet": [
           {
            "colorbar": {
             "outlinewidth": 0,
             "ticks": ""
            },
            "type": "contourcarpet"
           }
          ],
          "heatmap": [
           {
            "colorbar": {
             "outlinewidth": 0,
             "ticks": ""
            },
            "colorscale": [
             [
              0,
              "#0d0887"
             ],
             [
              0.1111111111111111,
              "#46039f"
             ],
             [
              0.2222222222222222,
              "#7201a8"
             ],
             [
              0.3333333333333333,
              "#9c179e"
             ],
             [
              0.4444444444444444,
              "#bd3786"
             ],
             [
              0.5555555555555556,
              "#d8576b"
             ],
             [
              0.6666666666666666,
              "#ed7953"
             ],
             [
              0.7777777777777778,
              "#fb9f3a"
             ],
             [
              0.8888888888888888,
              "#fdca26"
             ],
             [
              1,
              "#f0f921"
             ]
            ],
            "type": "heatmap"
           }
          ],
          "heatmapgl": [
           {
            "colorbar": {
             "outlinewidth": 0,
             "ticks": ""
            },
            "colorscale": [
             [
              0,
              "#0d0887"
             ],
             [
              0.1111111111111111,
              "#46039f"
             ],
             [
              0.2222222222222222,
              "#7201a8"
             ],
             [
              0.3333333333333333,
              "#9c179e"
             ],
             [
              0.4444444444444444,
              "#bd3786"
             ],
             [
              0.5555555555555556,
              "#d8576b"
             ],
             [
              0.6666666666666666,
              "#ed7953"
             ],
             [
              0.7777777777777778,
              "#fb9f3a"
             ],
             [
              0.8888888888888888,
              "#fdca26"
             ],
             [
              1,
              "#f0f921"
             ]
            ],
            "type": "heatmapgl"
           }
          ],
          "histogram": [
           {
            "marker": {
             "pattern": {
              "fillmode": "overlay",
              "size": 10,
              "solidity": 0.2
             }
            },
            "type": "histogram"
           }
          ],
          "histogram2d": [
           {
            "colorbar": {
             "outlinewidth": 0,
             "ticks": ""
            },
            "colorscale": [
             [
              0,
              "#0d0887"
             ],
             [
              0.1111111111111111,
              "#46039f"
             ],
             [
              0.2222222222222222,
              "#7201a8"
             ],
             [
              0.3333333333333333,
              "#9c179e"
             ],
             [
              0.4444444444444444,
              "#bd3786"
             ],
             [
              0.5555555555555556,
              "#d8576b"
             ],
             [
              0.6666666666666666,
              "#ed7953"
             ],
             [
              0.7777777777777778,
              "#fb9f3a"
             ],
             [
              0.8888888888888888,
              "#fdca26"
             ],
             [
              1,
              "#f0f921"
             ]
            ],
            "type": "histogram2d"
           }
          ],
          "histogram2dcontour": [
           {
            "colorbar": {
             "outlinewidth": 0,
             "ticks": ""
            },
            "colorscale": [
             [
              0,
              "#0d0887"
             ],
             [
              0.1111111111111111,
              "#46039f"
             ],
             [
              0.2222222222222222,
              "#7201a8"
             ],
             [
              0.3333333333333333,
              "#9c179e"
             ],
             [
              0.4444444444444444,
              "#bd3786"
             ],
             [
              0.5555555555555556,
              "#d8576b"
             ],
             [
              0.6666666666666666,
              "#ed7953"
             ],
             [
              0.7777777777777778,
              "#fb9f3a"
             ],
             [
              0.8888888888888888,
              "#fdca26"
             ],
             [
              1,
              "#f0f921"
             ]
            ],
            "type": "histogram2dcontour"
           }
          ],
          "mesh3d": [
           {
            "colorbar": {
             "outlinewidth": 0,
             "ticks": ""
            },
            "type": "mesh3d"
           }
          ],
          "parcoords": [
           {
            "line": {
             "colorbar": {
              "outlinewidth": 0,
              "ticks": ""
             }
            },
            "type": "parcoords"
           }
          ],
          "pie": [
           {
            "automargin": true,
            "type": "pie"
           }
          ],
          "scatter": [
           {
            "fillpattern": {
             "fillmode": "overlay",
             "size": 10,
             "solidity": 0.2
            },
            "type": "scatter"
           }
          ],
          "scatter3d": [
           {
            "line": {
             "colorbar": {
              "outlinewidth": 0,
              "ticks": ""
             }
            },
            "marker": {
             "colorbar": {
              "outlinewidth": 0,
              "ticks": ""
             }
            },
            "type": "scatter3d"
           }
          ],
          "scattercarpet": [
           {
            "marker": {
             "colorbar": {
              "outlinewidth": 0,
              "ticks": ""
             }
            },
            "type": "scattercarpet"
           }
          ],
          "scattergeo": [
           {
            "marker": {
             "colorbar": {
              "outlinewidth": 0,
              "ticks": ""
             }
            },
            "type": "scattergeo"
           }
          ],
          "scattergl": [
           {
            "marker": {
             "colorbar": {
              "outlinewidth": 0,
              "ticks": ""
             }
            },
            "type": "scattergl"
           }
          ],
          "scattermapbox": [
           {
            "marker": {
             "colorbar": {
              "outlinewidth": 0,
              "ticks": ""
             }
            },
            "type": "scattermapbox"
           }
          ],
          "scatterpolar": [
           {
            "marker": {
             "colorbar": {
              "outlinewidth": 0,
              "ticks": ""
             }
            },
            "type": "scatterpolar"
           }
          ],
          "scatterpolargl": [
           {
            "marker": {
             "colorbar": {
              "outlinewidth": 0,
              "ticks": ""
             }
            },
            "type": "scatterpolargl"
           }
          ],
          "scatterternary": [
           {
            "marker": {
             "colorbar": {
              "outlinewidth": 0,
              "ticks": ""
             }
            },
            "type": "scatterternary"
           }
          ],
          "surface": [
           {
            "colorbar": {
             "outlinewidth": 0,
             "ticks": ""
            },
            "colorscale": [
             [
              0,
              "#0d0887"
             ],
             [
              0.1111111111111111,
              "#46039f"
             ],
             [
              0.2222222222222222,
              "#7201a8"
             ],
             [
              0.3333333333333333,
              "#9c179e"
             ],
             [
              0.4444444444444444,
              "#bd3786"
             ],
             [
              0.5555555555555556,
              "#d8576b"
             ],
             [
              0.6666666666666666,
              "#ed7953"
             ],
             [
              0.7777777777777778,
              "#fb9f3a"
             ],
             [
              0.8888888888888888,
              "#fdca26"
             ],
             [
              1,
              "#f0f921"
             ]
            ],
            "type": "surface"
           }
          ],
          "table": [
           {
            "cells": {
             "fill": {
              "color": "#EBF0F8"
             },
             "line": {
              "color": "white"
             }
            },
            "header": {
             "fill": {
              "color": "#C8D4E3"
             },
             "line": {
              "color": "white"
             }
            },
            "type": "table"
           }
          ]
         },
         "layout": {
          "annotationdefaults": {
           "arrowcolor": "#2a3f5f",
           "arrowhead": 0,
           "arrowwidth": 1
          },
          "autotypenumbers": "strict",
          "coloraxis": {
           "colorbar": {
            "outlinewidth": 0,
            "ticks": ""
           }
          },
          "colorscale": {
           "diverging": [
            [
             0,
             "#8e0152"
            ],
            [
             0.1,
             "#c51b7d"
            ],
            [
             0.2,
             "#de77ae"
            ],
            [
             0.3,
             "#f1b6da"
            ],
            [
             0.4,
             "#fde0ef"
            ],
            [
             0.5,
             "#f7f7f7"
            ],
            [
             0.6,
             "#e6f5d0"
            ],
            [
             0.7,
             "#b8e186"
            ],
            [
             0.8,
             "#7fbc41"
            ],
            [
             0.9,
             "#4d9221"
            ],
            [
             1,
             "#276419"
            ]
           ],
           "sequential": [
            [
             0,
             "#0d0887"
            ],
            [
             0.1111111111111111,
             "#46039f"
            ],
            [
             0.2222222222222222,
             "#7201a8"
            ],
            [
             0.3333333333333333,
             "#9c179e"
            ],
            [
             0.4444444444444444,
             "#bd3786"
            ],
            [
             0.5555555555555556,
             "#d8576b"
            ],
            [
             0.6666666666666666,
             "#ed7953"
            ],
            [
             0.7777777777777778,
             "#fb9f3a"
            ],
            [
             0.8888888888888888,
             "#fdca26"
            ],
            [
             1,
             "#f0f921"
            ]
           ],
           "sequentialminus": [
            [
             0,
             "#0d0887"
            ],
            [
             0.1111111111111111,
             "#46039f"
            ],
            [
             0.2222222222222222,
             "#7201a8"
            ],
            [
             0.3333333333333333,
             "#9c179e"
            ],
            [
             0.4444444444444444,
             "#bd3786"
            ],
            [
             0.5555555555555556,
             "#d8576b"
            ],
            [
             0.6666666666666666,
             "#ed7953"
            ],
            [
             0.7777777777777778,
             "#fb9f3a"
            ],
            [
             0.8888888888888888,
             "#fdca26"
            ],
            [
             1,
             "#f0f921"
            ]
           ]
          },
          "colorway": [
           "#636efa",
           "#EF553B",
           "#00cc96",
           "#ab63fa",
           "#FFA15A",
           "#19d3f3",
           "#FF6692",
           "#B6E880",
           "#FF97FF",
           "#FECB52"
          ],
          "font": {
           "color": "#2a3f5f"
          },
          "geo": {
           "bgcolor": "white",
           "lakecolor": "white",
           "landcolor": "#E5ECF6",
           "showlakes": true,
           "showland": true,
           "subunitcolor": "white"
          },
          "hoverlabel": {
           "align": "left"
          },
          "hovermode": "closest",
          "mapbox": {
           "style": "light"
          },
          "paper_bgcolor": "white",
          "plot_bgcolor": "#E5ECF6",
          "polar": {
           "angularaxis": {
            "gridcolor": "white",
            "linecolor": "white",
            "ticks": ""
           },
           "bgcolor": "#E5ECF6",
           "radialaxis": {
            "gridcolor": "white",
            "linecolor": "white",
            "ticks": ""
           }
          },
          "scene": {
           "xaxis": {
            "backgroundcolor": "#E5ECF6",
            "gridcolor": "white",
            "gridwidth": 2,
            "linecolor": "white",
            "showbackground": true,
            "ticks": "",
            "zerolinecolor": "white"
           },
           "yaxis": {
            "backgroundcolor": "#E5ECF6",
            "gridcolor": "white",
            "gridwidth": 2,
            "linecolor": "white",
            "showbackground": true,
            "ticks": "",
            "zerolinecolor": "white"
           },
           "zaxis": {
            "backgroundcolor": "#E5ECF6",
            "gridcolor": "white",
            "gridwidth": 2,
            "linecolor": "white",
            "showbackground": true,
            "ticks": "",
            "zerolinecolor": "white"
           }
          },
          "shapedefaults": {
           "line": {
            "color": "#2a3f5f"
           }
          },
          "ternary": {
           "aaxis": {
            "gridcolor": "white",
            "linecolor": "white",
            "ticks": ""
           },
           "baxis": {
            "gridcolor": "white",
            "linecolor": "white",
            "ticks": ""
           },
           "bgcolor": "#E5ECF6",
           "caxis": {
            "gridcolor": "white",
            "linecolor": "white",
            "ticks": ""
           }
          },
          "title": {
           "x": 0.05
          },
          "xaxis": {
           "automargin": true,
           "gridcolor": "white",
           "linecolor": "white",
           "ticks": "",
           "title": {
            "standoff": 15
           },
           "zerolinecolor": "white",
           "zerolinewidth": 2
          },
          "yaxis": {
           "automargin": true,
           "gridcolor": "white",
           "linecolor": "white",
           "ticks": "",
           "title": {
            "standoff": 15
           },
           "zerolinecolor": "white",
           "zerolinewidth": 2
          }
         }
        },
        "xaxis": {
         "anchor": "y",
         "domain": [
          0,
          1
         ],
         "title": {
          "text": "Pkg_J"
         }
        },
        "yaxis": {
         "anchor": "x",
         "domain": [
          0,
          1
         ],
         "rangemode": "tozero",
         "title": {
          "text": "probability"
         }
        }
       }
      }
     },
     "metadata": {},
     "output_type": "display_data"
    }
   ],
   "source": [
    "fig = px.ecdf(df, x=\"Pkg_J\", color=\"version\", markers=True, lines=True)\n",
    "fig.show()"
   ]
  },
  {
   "cell_type": "code",
   "execution_count": null,
   "metadata": {},
   "outputs": [],
   "source": [
    "def general_df():\n",
    "    df_turbo = from_CSVfiles(\"turbostat\", norm=False)\n",
    "\n",
    "    df_perf = from_CSVfiles(\"perf\", norm=False)\n",
    "\n",
    "    df_top = from_CSVfiles(\"top\", norm=False)"
   ]
  }
 ],
 "metadata": {
  "kernelspec": {
   "display_name": "Python 3 (Spyder)",
   "language": "python3",
   "name": "python3"
  },
  "language_info": {
   "codemirror_mode": {
    "name": "ipython",
    "version": 3
   },
   "file_extension": ".py",
   "mimetype": "text/x-python",
   "name": "python",
   "nbconvert_exporter": "python",
   "pygments_lexer": "ipython3",
   "version": "3.8.10"
  }
 },
 "nbformat": 4,
 "nbformat_minor": 4
}
