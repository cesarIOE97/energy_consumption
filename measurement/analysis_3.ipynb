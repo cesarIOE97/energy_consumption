{
 "cells": [
  {
   "attachments": {},
   "cell_type": "markdown",
   "metadata": {},
   "source": [
    "# Analysis for Performance and Energy Consumption"
   ]
  },
  {
   "attachments": {},
   "cell_type": "markdown",
   "metadata": {},
   "source": [
    "## Extract information"
   ]
  },
  {
   "cell_type": "code",
   "execution_count": 4,
   "metadata": {},
   "outputs": [],
   "source": [
    "# Libraries\n",
    "\n",
    "import sys\n",
    "import os\n",
    "import glob\n",
    "import webbrowser\n",
    "import natsort\n",
    "import pandas as pd\n",
    "import matplotlib.pyplot as plt\n",
    "import seaborn as sns\n",
    "import plotly\n",
    "import plotly.express as px\n",
    "import plotly.graph_objects as go\n",
    "from sklearn.preprocessing import MaxAbsScaler\n",
    "from IPython.display import display, HTML\n"
   ]
  },
  {
   "cell_type": "code",
   "execution_count": 5,
   "metadata": {},
   "outputs": [],
   "source": [
    "# Directory\n",
    "actual_directory = os.getcwd() + '/'  \n",
    "\n",
    "python_releaseDates = {\n",
    "    'Python 3.13.0a0': '2023-06-07',\n",
    "    'Python 3.12.0b1': '2023-05-22',\n",
    "    'Python 3.11.3': '2023-04-05',\n",
    "    'Python 3.10.11': '2023-04-05',\n",
    "    'Python 3.9.16': '2022-12-06',\n",
    "    'Python 3.8.16': '2022-12-06',\n",
    "    'Python 3.7.16': '2022-12-06',\n",
    "    'Python 3.6.15': '2021-09-04',\n",
    "    'Python 3.5.10': '2020-09-05',\n",
    "    'Python 3.4.10': '2019-03-18',\n",
    "    'Python 3.3.7': '2017-09-19',\n",
    "    'Python 3.2.6': '2014-10-11',\n",
    "    'Python 3.1.5': '2012-04-09',\n",
    "    'Python 3.0.1': '2009-02-13',\n",
    "    'Python 2.7.18': '2020-04-20',\n",
    "    'Python 2.6.9': '2013-10-29',\n",
    "    'Python 2.5.6': '2011-05-26',\n",
    "}\n",
    "\n",
    "cplusplus_releaseDates = {\n",
    "    'g++-4.4 4.4.7': '2012-03-13',\n",
    "    'g++-4.6 4.6.4': '2013-04-12',\n",
    "    'g++-4.7 4.7.4': '2014-06-12',\n",
    "    'g++-4.8 4.8.5': '2015-06-23',\n",
    "    'g++-4.9 4.9.3': '2015-06-26',\n",
    "    'g++-5 5.5.0': '2017-10-10',\n",
    "    'g++-6 6.5.0': '2018-10-26',\n",
    "    'g++-7 7.5.0': '2019-11-14',\n",
    "    'g++-8 8.5.0': '2021-05-14',\n",
    "    'g++-8 ': '2021-05-14',\n",
    "    'g++-9 9.5.0': '2022-05-27',\n",
    "    'g++-10 10.4.0': '2022-06-28',\n",
    "    'g++-10 10.5.0': '2023-07-07',\n",
    "    'g++-11 11.4.0': '2023-05-29',\n",
    "    'g++-12 12.3.0': '2023-05-08',\n",
    "    'g++-13 13.1.0': '2023-04-26',\n",
    "}\n",
    "\n",
    "java_releaseDates = {\n",
    "    '1.8.0_362': '2023-04-18',\n",
    "    '9.0.4': '2018-01-16',\n",
    "    '10.0.2': '2018-07-17',\n",
    "    '11.0.19': '2020-10-20',\n",
    "    '12.0.2': '2019-07-16',\n",
    "    '13.0.2': '2020-01-14',\n",
    "    '14.0.2': '2020-07-14',\n",
    "    '15.0.2': '2021-01-19',\n",
    "    '16.0.2': '2021-07-20',\n",
    "    '17.0.7': '2023-04-18',\n",
    "    '18.0.2-ea': '2022-07-19',\n",
    "    '19.0.2': '2023-01-17',\n",
    "    '20.0.2': '2023-07-18',\n",
    "}\n",
    "\n",
    "js_releaseDates = {\n",
    "    '20.5.1': '2023-08-09',\n",
    "    '19.9.0': '2023-04-10',\n",
    "    '18.17.1': '2023-08-08',\n",
    "    '17.9.1': '2022-06-01',\n",
    "    '16.20.2': '2023-08-08',\n",
    "    '15.14.0': '2021-04-06',\n",
    "    '14.21.3': '2023-02-16',\n",
    "    '13.14.0': '2020-04-29',\n",
    "    '12.22.12': '2022-04-05',\n",
    "    '11.15.0': '2019-04-30',\n",
    "    '10.24.1': '2021-04-06',\n",
    "    '9.11.2': '2018-06-12',\n",
    "    '8.17.0': '2019-12-17',\n",
    "    '7.10.1': '2017-07-11',\n",
    "    '6.17.1': '2019-04-03',\n",
    "    '5.12.0': '2016-06-23',\n",
    "    '4.9.1': '2018-03-29',\n",
    "    '3.3.1': '2015-09-15',\n",
    "    '2.5.0': '2015-07-28',\n",
    "    '1.8.4': '2015-07-09',\n",
    "    '0.12.18': '2017-02-22',\n",
    "    '0.10.48': '2016-10-18',\n",
    "    '0.8.28': '2014-07-31'\n",
    "}\n",
    "\n",
    "# Function to get release date for a given Python version\n",
    "def get_release_date(version):\n",
    "    if language == 'python':\n",
    "        return python_releaseDates.get(version, 'Unknown')\n",
    "    elif language == 'c++':\n",
    "        return cplusplus_releaseDates.get(version, 'Unknown')\n",
    "    elif language == 'java':\n",
    "        return java_releaseDates.get(version, 'Unknown')\n",
    "    elif language == 'js':\n",
    "        return js_releaseDates.get(version, 'Unknown')\n",
    "\n",
    "# Function to convert \"g\", \"m\" or KiB to \"byte\"\n",
    "def convert_g_to_byte(value):\n",
    "    value_str = str(value)\n",
    "    if value_str[:-1] == \"\":\n",
    "        Byte_value = 0\n",
    "    elif value_str[-1].lower() == 'g':\n",
    "        g_value = float(value_str[:-1])\n",
    "        Byte_value = g_value * 1024 * 1024 * 1024  # 1 giga = 1,000,000,000\n",
    "    elif value_str[-1].lower() == 'm':\n",
    "        m_value = float(value_str[:-1])\n",
    "        Byte_value = m_value * 1024 * 1024 # 1 giga = 1,000,000\n",
    "    elif value_str[-1].lower() == 'k':\n",
    "        k_value = float(value_str[:-1])\n",
    "        Byte_value = k_value * 1024 # 1 kilo = 1,000\n",
    "    else:\n",
    "        k_value = float(value_str)\n",
    "        Byte_value = k_value * 1024 # 1 kilo = 1,000\n",
    "    return int(Byte_value)\n",
    "\n",
    "def convert_toUnit(column):\n",
    "    column = column.apply(convert_g_to_byte)\n",
    "    column = pd.to_numeric(column, errors='coerce')\n",
    "    return column\n",
    "    \n",
    "def Data_normalized(df, tool):\n",
    "    df_data = df[['version', 'release_date', 'path', 'appplication']]\n",
    "    if tool == \"turbostat\": \n",
    "        df_metric = df.loc[:, ~df.columns.isin(['version', 'release_date', 'path', 'appplication'])]\n",
    "    elif tool == \"top\":\n",
    "        df_metric = df[['virt', 'res', 'shr', 'percent_cpu', 'percent_mem',\n",
    "                    'nTH', 'P', 'SWAP', 'CODE', 'DATA', 'nMaj',\n",
    "                    'nDRT', 'USED']]\n",
    "\n",
    "    transformer = MaxAbsScaler().fit(df_metric)\n",
    "    scaled = transformer.transform(df_metric)\n",
    "\n",
    "    df_norm = pd.DataFrame(scaled, columns=df_metric.columns)\n",
    "    df = pd.concat([df_data,df_norm.reindex(df_data.index)], axis=1)\n",
    "    return df\n",
    "\n",
    "# Function to extract information in every file\n",
    "def from_CSVfile(file, directory, tool):\n",
    "     # Read CSV file\n",
    "    df = pd.read_csv(file)\n",
    "    if language == 'js': df['version'] = df['version'].str.replace('v', '')\n",
    "    \n",
    "    # New column 'release_date' as the second \n",
    "    df['release_date'] = df['version'].apply(get_release_date)\n",
    "    df.insert(1, 'release_date', df.pop('release_date'))\n",
    "\n",
    "    # Convert date into datetime\n",
    "    df['release_date'] = pd.to_datetime(df['release_date'])\n",
    "\n",
    "    # New column 'path' as the third\n",
    "    df['path'] = directory\n",
    "    df.insert(2, 'path', df.pop('path'))\n",
    "\n",
    "    # Clean and remove the unnecessary rows\n",
    "    df.replace(to_replace='-', value=0, inplace=True)\n",
    "\n",
    "    # Apply the conversion function to the DataFrame column\n",
    "    if tool == \"top\":\n",
    "        df = df.dropna(subset=['command'])\n",
    "        df['virt'] = convert_toUnit(df['virt'])\n",
    "        df['res'] = convert_toUnit(df['res'])\n",
    "        df['shr'] = convert_toUnit(df['shr'])\n",
    "        df['CODE'] = convert_toUnit(df['CODE'])\n",
    "        df['DATA'] = convert_toUnit(df['DATA'])\n",
    "        df['SWAP'] = convert_toUnit(df['SWAP'])\n",
    "        df['USED'] = convert_toUnit(df['USED'])\n",
    "        df['nMin'] = convert_toUnit(df['nMin'])\n",
    "        df['nMaj'] = convert_toUnit(df['nMaj'])\n",
    "\n",
    "    # Changes in the 'version' column\n",
    "    if language == 'python': df['version'] = df['version'].str.replace('Python ', '')\n",
    "    if language == 'c++': df['version'] = df['version'].str.split().str[0]\n",
    "\n",
    "    # with pd.option_context('display.max_rows', None, 'display.max_columns', None):  # more options can be specified also\n",
    "    #     print(df)\n",
    "\n",
    "    return df\n",
    "\n",
    "# Extract all information from ALL files\n",
    "def from_CSVfiles(tool, norm):\n",
    "\n",
    "    all_df = pd.DataFrame()\n",
    "\n",
    "    list_directories = next(os.walk(language))[1]\n",
    "    list_directories.sort()\n",
    "\n",
    "    for directory_name in list_directories:\n",
    "        # if directory_name != \"older\" and directory_name != \"test\" and directory_name != \"general_plots\" and directory_name != \"general_plots_v1\":\n",
    "        \n",
    "        if directory_name == \"binaryTrees_21_original\":\n",
    "\n",
    "            path = language + '/' + directory_name + '/' + tool + '/'\n",
    "            if tool == \"perf\": path = path + tool + extra\n",
    "\n",
    "            if tool == \"top\":\n",
    "\n",
    "                df = pd.DataFrame()\n",
    "                list_files = os.listdir(path)\n",
    "\n",
    "                # Get list of all files only in the given directory\n",
    "                list_files = natsort.natsorted(list_files)\n",
    "\n",
    "                for file_name in list_files:\n",
    "                    if file_name.startswith(\"temp_top_data_\") and file_name.endswith('.csv'):\n",
    "                        df_Top = from_CSVfile(path + file_name, directory_name, tool)\n",
    "                        df = pd.concat([df, df_Top])\n",
    "\n",
    "                df.to_csv(path + \"top_data_allVersions.csv\", index=False)\n",
    "            elif tool == \"turbostat\":\n",
    "\n",
    "                df = pd.DataFrame()\n",
    "                list_files = os.listdir(path)\n",
    "\n",
    "                # Get list of all files only in the given directory\n",
    "                list_files = natsort.natsorted(list_files)\n",
    "\n",
    "                for file_name in list_files:\n",
    "                    if file_name.startswith(\"turbostat_performance_data\") and file_name.endswith('.csv') and file_name != \"turbostat_performance_data_allVersions.csv\":\n",
    "                        df_Top = from_CSVfile(path + file_name, directory_name, tool)\n",
    "                        df = pd.concat([df, df_Top])\n",
    "\n",
    "            else:\n",
    "                df = from_CSVfile(path + '_data_allVersions.csv', directory_name, tool)\n",
    "                if norm: df = Data_normalized(df, tool)\n",
    "            all_df = pd.concat([all_df, df])\n",
    "\n",
    "    return all_df"
   ]
  },
  {
   "cell_type": "code",
   "execution_count": 6,
   "metadata": {},
   "outputs": [
    {
     "data": {
      "text/html": [
       "<div>\n",
       "<style scoped>\n",
       "    .dataframe tbody tr th:only-of-type {\n",
       "        vertical-align: middle;\n",
       "    }\n",
       "\n",
       "    .dataframe tbody tr th {\n",
       "        vertical-align: top;\n",
       "    }\n",
       "\n",
       "    .dataframe thead th {\n",
       "        text-align: right;\n",
       "    }\n",
       "</style>\n",
       "<table border=\"1\" class=\"dataframe\">\n",
       "  <thead>\n",
       "    <tr style=\"text-align: right;\">\n",
       "      <th></th>\n",
       "      <th>test</th>\n",
       "      <th>release_date</th>\n",
       "      <th>path</th>\n",
       "      <th>version</th>\n",
       "      <th>appplication</th>\n",
       "      <th>time_elapsed</th>\n",
       "      <th>usec</th>\n",
       "      <th>Time_Of_Day_Seconds</th>\n",
       "      <th>APIC</th>\n",
       "      <th>X2APIC</th>\n",
       "      <th>...</th>\n",
       "      <th>Pkg%pc9</th>\n",
       "      <th>Pk%pc10</th>\n",
       "      <th>CPU%LPI</th>\n",
       "      <th>SYS%LPI</th>\n",
       "      <th>Pkg_J</th>\n",
       "      <th>Cor_J</th>\n",
       "      <th>GFX_J</th>\n",
       "      <th>RAM_J</th>\n",
       "      <th>PKG_%</th>\n",
       "      <th>RAM_%</th>\n",
       "    </tr>\n",
       "  </thead>\n",
       "  <tbody>\n",
       "    <tr>\n",
       "      <th>0</th>\n",
       "      <td>1</td>\n",
       "      <td>2012-03-13</td>\n",
       "      <td>binaryTrees_21_original</td>\n",
       "      <td>g++-4.4</td>\n",
       "      <td>binaryTrees_2.c 21</td>\n",
       "      <td>19.012345</td>\n",
       "      <td>1575</td>\n",
       "      <td>1.692782e+09</td>\n",
       "      <td>0</td>\n",
       "      <td>0</td>\n",
       "      <td>...</td>\n",
       "      <td>0.0</td>\n",
       "      <td>0.0</td>\n",
       "      <td>0.0</td>\n",
       "      <td>0.0</td>\n",
       "      <td>276.73</td>\n",
       "      <td>228.10</td>\n",
       "      <td>0.26</td>\n",
       "      <td>14.03</td>\n",
       "      <td>0.0</td>\n",
       "      <td>0.0</td>\n",
       "    </tr>\n",
       "    <tr>\n",
       "      <th>1</th>\n",
       "      <td>2</td>\n",
       "      <td>2012-03-13</td>\n",
       "      <td>binaryTrees_21_original</td>\n",
       "      <td>g++-4.4</td>\n",
       "      <td>binaryTrees_2.c 21</td>\n",
       "      <td>19.068004</td>\n",
       "      <td>1643</td>\n",
       "      <td>1.692782e+09</td>\n",
       "      <td>0</td>\n",
       "      <td>0</td>\n",
       "      <td>...</td>\n",
       "      <td>0.0</td>\n",
       "      <td>0.0</td>\n",
       "      <td>0.0</td>\n",
       "      <td>0.0</td>\n",
       "      <td>283.23</td>\n",
       "      <td>234.26</td>\n",
       "      <td>0.28</td>\n",
       "      <td>14.00</td>\n",
       "      <td>0.0</td>\n",
       "      <td>0.0</td>\n",
       "    </tr>\n",
       "    <tr>\n",
       "      <th>2</th>\n",
       "      <td>3</td>\n",
       "      <td>2012-03-13</td>\n",
       "      <td>binaryTrees_21_original</td>\n",
       "      <td>g++-4.4</td>\n",
       "      <td>binaryTrees_2.c 21</td>\n",
       "      <td>19.485950</td>\n",
       "      <td>1584</td>\n",
       "      <td>1.692782e+09</td>\n",
       "      <td>0</td>\n",
       "      <td>0</td>\n",
       "      <td>...</td>\n",
       "      <td>0.0</td>\n",
       "      <td>0.0</td>\n",
       "      <td>0.0</td>\n",
       "      <td>0.0</td>\n",
       "      <td>292.54</td>\n",
       "      <td>242.32</td>\n",
       "      <td>0.27</td>\n",
       "      <td>14.19</td>\n",
       "      <td>0.0</td>\n",
       "      <td>0.0</td>\n",
       "    </tr>\n",
       "    <tr>\n",
       "      <th>3</th>\n",
       "      <td>4</td>\n",
       "      <td>2012-03-13</td>\n",
       "      <td>binaryTrees_21_original</td>\n",
       "      <td>g++-4.4</td>\n",
       "      <td>binaryTrees_2.c 21</td>\n",
       "      <td>19.485471</td>\n",
       "      <td>1601</td>\n",
       "      <td>1.692782e+09</td>\n",
       "      <td>0</td>\n",
       "      <td>0</td>\n",
       "      <td>...</td>\n",
       "      <td>0.0</td>\n",
       "      <td>0.0</td>\n",
       "      <td>0.0</td>\n",
       "      <td>0.0</td>\n",
       "      <td>293.64</td>\n",
       "      <td>243.25</td>\n",
       "      <td>0.28</td>\n",
       "      <td>14.27</td>\n",
       "      <td>0.0</td>\n",
       "      <td>0.0</td>\n",
       "    </tr>\n",
       "    <tr>\n",
       "      <th>4</th>\n",
       "      <td>5</td>\n",
       "      <td>2012-03-13</td>\n",
       "      <td>binaryTrees_21_original</td>\n",
       "      <td>g++-4.4</td>\n",
       "      <td>binaryTrees_2.c 21</td>\n",
       "      <td>19.006089</td>\n",
       "      <td>1641</td>\n",
       "      <td>1.692782e+09</td>\n",
       "      <td>0</td>\n",
       "      <td>0</td>\n",
       "      <td>...</td>\n",
       "      <td>0.0</td>\n",
       "      <td>0.0</td>\n",
       "      <td>0.0</td>\n",
       "      <td>0.0</td>\n",
       "      <td>284.07</td>\n",
       "      <td>234.74</td>\n",
       "      <td>0.27</td>\n",
       "      <td>13.97</td>\n",
       "      <td>0.0</td>\n",
       "      <td>0.0</td>\n",
       "    </tr>\n",
       "    <tr>\n",
       "      <th>...</th>\n",
       "      <td>...</td>\n",
       "      <td>...</td>\n",
       "      <td>...</td>\n",
       "      <td>...</td>\n",
       "      <td>...</td>\n",
       "      <td>...</td>\n",
       "      <td>...</td>\n",
       "      <td>...</td>\n",
       "      <td>...</td>\n",
       "      <td>...</td>\n",
       "      <td>...</td>\n",
       "      <td>...</td>\n",
       "      <td>...</td>\n",
       "      <td>...</td>\n",
       "      <td>...</td>\n",
       "      <td>...</td>\n",
       "      <td>...</td>\n",
       "      <td>...</td>\n",
       "      <td>...</td>\n",
       "      <td>...</td>\n",
       "      <td>...</td>\n",
       "    </tr>\n",
       "    <tr>\n",
       "      <th>5</th>\n",
       "      <td>6</td>\n",
       "      <td>2023-04-26</td>\n",
       "      <td>binaryTrees_21_original</td>\n",
       "      <td>g++-13</td>\n",
       "      <td>binaryTrees_2.c 21</td>\n",
       "      <td>20.287041</td>\n",
       "      <td>1659</td>\n",
       "      <td>1.692786e+09</td>\n",
       "      <td>0</td>\n",
       "      <td>0</td>\n",
       "      <td>...</td>\n",
       "      <td>0.0</td>\n",
       "      <td>0.0</td>\n",
       "      <td>0.0</td>\n",
       "      <td>0.0</td>\n",
       "      <td>309.72</td>\n",
       "      <td>256.90</td>\n",
       "      <td>0.28</td>\n",
       "      <td>14.76</td>\n",
       "      <td>0.0</td>\n",
       "      <td>0.0</td>\n",
       "    </tr>\n",
       "    <tr>\n",
       "      <th>6</th>\n",
       "      <td>7</td>\n",
       "      <td>2023-04-26</td>\n",
       "      <td>binaryTrees_21_original</td>\n",
       "      <td>g++-13</td>\n",
       "      <td>binaryTrees_2.c 21</td>\n",
       "      <td>19.587371</td>\n",
       "      <td>1647</td>\n",
       "      <td>1.692786e+09</td>\n",
       "      <td>0</td>\n",
       "      <td>0</td>\n",
       "      <td>...</td>\n",
       "      <td>0.0</td>\n",
       "      <td>0.0</td>\n",
       "      <td>0.0</td>\n",
       "      <td>0.0</td>\n",
       "      <td>296.12</td>\n",
       "      <td>245.20</td>\n",
       "      <td>0.29</td>\n",
       "      <td>14.47</td>\n",
       "      <td>0.0</td>\n",
       "      <td>0.0</td>\n",
       "    </tr>\n",
       "    <tr>\n",
       "      <th>7</th>\n",
       "      <td>8</td>\n",
       "      <td>2023-04-26</td>\n",
       "      <td>binaryTrees_21_original</td>\n",
       "      <td>g++-13</td>\n",
       "      <td>binaryTrees_2.c 21</td>\n",
       "      <td>20.397967</td>\n",
       "      <td>1678</td>\n",
       "      <td>1.692786e+09</td>\n",
       "      <td>0</td>\n",
       "      <td>0</td>\n",
       "      <td>...</td>\n",
       "      <td>0.0</td>\n",
       "      <td>0.0</td>\n",
       "      <td>0.0</td>\n",
       "      <td>0.0</td>\n",
       "      <td>293.94</td>\n",
       "      <td>240.95</td>\n",
       "      <td>0.28</td>\n",
       "      <td>14.87</td>\n",
       "      <td>0.0</td>\n",
       "      <td>0.0</td>\n",
       "    </tr>\n",
       "    <tr>\n",
       "      <th>8</th>\n",
       "      <td>9</td>\n",
       "      <td>2023-04-26</td>\n",
       "      <td>binaryTrees_21_original</td>\n",
       "      <td>g++-13</td>\n",
       "      <td>binaryTrees_2.c 21</td>\n",
       "      <td>19.797566</td>\n",
       "      <td>1581</td>\n",
       "      <td>1.692786e+09</td>\n",
       "      <td>0</td>\n",
       "      <td>0</td>\n",
       "      <td>...</td>\n",
       "      <td>0.0</td>\n",
       "      <td>0.0</td>\n",
       "      <td>0.0</td>\n",
       "      <td>0.0</td>\n",
       "      <td>291.21</td>\n",
       "      <td>239.59</td>\n",
       "      <td>0.28</td>\n",
       "      <td>14.61</td>\n",
       "      <td>0.0</td>\n",
       "      <td>0.0</td>\n",
       "    </tr>\n",
       "    <tr>\n",
       "      <th>9</th>\n",
       "      <td>10</td>\n",
       "      <td>2023-04-26</td>\n",
       "      <td>binaryTrees_21_original</td>\n",
       "      <td>g++-13</td>\n",
       "      <td>binaryTrees_2.c 21</td>\n",
       "      <td>20.948406</td>\n",
       "      <td>1589</td>\n",
       "      <td>1.692786e+09</td>\n",
       "      <td>0</td>\n",
       "      <td>0</td>\n",
       "      <td>...</td>\n",
       "      <td>0.0</td>\n",
       "      <td>0.0</td>\n",
       "      <td>0.0</td>\n",
       "      <td>0.0</td>\n",
       "      <td>264.71</td>\n",
       "      <td>210.28</td>\n",
       "      <td>0.28</td>\n",
       "      <td>15.17</td>\n",
       "      <td>0.0</td>\n",
       "      <td>0.0</td>\n",
       "    </tr>\n",
       "  </tbody>\n",
       "</table>\n",
       "<p>140 rows × 63 columns</p>\n",
       "</div>"
      ],
      "text/plain": [
       "    test release_date                     path  version        appplication  \\\n",
       "0      1   2012-03-13  binaryTrees_21_original  g++-4.4  binaryTrees_2.c 21   \n",
       "1      2   2012-03-13  binaryTrees_21_original  g++-4.4  binaryTrees_2.c 21   \n",
       "2      3   2012-03-13  binaryTrees_21_original  g++-4.4  binaryTrees_2.c 21   \n",
       "3      4   2012-03-13  binaryTrees_21_original  g++-4.4  binaryTrees_2.c 21   \n",
       "4      5   2012-03-13  binaryTrees_21_original  g++-4.4  binaryTrees_2.c 21   \n",
       "..   ...          ...                      ...      ...                 ...   \n",
       "5      6   2023-04-26  binaryTrees_21_original   g++-13  binaryTrees_2.c 21   \n",
       "6      7   2023-04-26  binaryTrees_21_original   g++-13  binaryTrees_2.c 21   \n",
       "7      8   2023-04-26  binaryTrees_21_original   g++-13  binaryTrees_2.c 21   \n",
       "8      9   2023-04-26  binaryTrees_21_original   g++-13  binaryTrees_2.c 21   \n",
       "9     10   2023-04-26  binaryTrees_21_original   g++-13  binaryTrees_2.c 21   \n",
       "\n",
       "    time_elapsed  usec  Time_Of_Day_Seconds  APIC  X2APIC  ...  Pkg%pc9  \\\n",
       "0      19.012345  1575         1.692782e+09     0       0  ...      0.0   \n",
       "1      19.068004  1643         1.692782e+09     0       0  ...      0.0   \n",
       "2      19.485950  1584         1.692782e+09     0       0  ...      0.0   \n",
       "3      19.485471  1601         1.692782e+09     0       0  ...      0.0   \n",
       "4      19.006089  1641         1.692782e+09     0       0  ...      0.0   \n",
       "..           ...   ...                  ...   ...     ...  ...      ...   \n",
       "5      20.287041  1659         1.692786e+09     0       0  ...      0.0   \n",
       "6      19.587371  1647         1.692786e+09     0       0  ...      0.0   \n",
       "7      20.397967  1678         1.692786e+09     0       0  ...      0.0   \n",
       "8      19.797566  1581         1.692786e+09     0       0  ...      0.0   \n",
       "9      20.948406  1589         1.692786e+09     0       0  ...      0.0   \n",
       "\n",
       "    Pk%pc10  CPU%LPI  SYS%LPI   Pkg_J   Cor_J  GFX_J  RAM_J  PKG_%  RAM_%  \n",
       "0       0.0      0.0      0.0  276.73  228.10   0.26  14.03    0.0    0.0  \n",
       "1       0.0      0.0      0.0  283.23  234.26   0.28  14.00    0.0    0.0  \n",
       "2       0.0      0.0      0.0  292.54  242.32   0.27  14.19    0.0    0.0  \n",
       "3       0.0      0.0      0.0  293.64  243.25   0.28  14.27    0.0    0.0  \n",
       "4       0.0      0.0      0.0  284.07  234.74   0.27  13.97    0.0    0.0  \n",
       "..      ...      ...      ...     ...     ...    ...    ...    ...    ...  \n",
       "5       0.0      0.0      0.0  309.72  256.90   0.28  14.76    0.0    0.0  \n",
       "6       0.0      0.0      0.0  296.12  245.20   0.29  14.47    0.0    0.0  \n",
       "7       0.0      0.0      0.0  293.94  240.95   0.28  14.87    0.0    0.0  \n",
       "8       0.0      0.0      0.0  291.21  239.59   0.28  14.61    0.0    0.0  \n",
       "9       0.0      0.0      0.0  264.71  210.28   0.28  15.17    0.0    0.0  \n",
       "\n",
       "[140 rows x 63 columns]"
      ]
     },
     "execution_count": 6,
     "metadata": {},
     "output_type": "execute_result"
    }
   ],
   "source": [
    "language = \"c++\"\n",
    "\n",
    "df = from_CSVfiles(\"turbostat\", norm=False)\n",
    "df"
   ]
  },
  {
   "cell_type": "code",
   "execution_count": 7,
   "metadata": {},
   "outputs": [],
   "source": [
    "df_median = df.groupby([\"version\",\"path\"], sort=False)[[\"Pkg_J\",\"Cor_J\"]].median().reset_index()"
   ]
  },
  {
   "cell_type": "code",
   "execution_count": 21,
   "metadata": {},
   "outputs": [
    {
     "data": {
      "application/vnd.plotly.v1+json": {
       "config": {
        "plotlyServerURL": "https://plot.ly"
       },
       "data": [
        {
         "hovertemplate": "version=g++-4.4<br>time_elapsed=%{x}<br>Pkg_J=%{y}<extra></extra>",
         "legendgroup": "g++-4.4",
         "marker": {
          "color": "#636efa",
          "symbol": "circle"
         },
         "mode": "markers",
         "name": "g++-4.4",
         "orientation": "v",
         "showlegend": true,
         "type": "scatter",
         "x": [
          19.012345,
          19.068004,
          19.48595,
          19.485471,
          19.006089,
          19.268487,
          19.271215,
          19.474061,
          19.79699,
          19.25266
         ],
         "xaxis": "x",
         "y": [
          276.73,
          283.23,
          292.54,
          293.64,
          284.07,
          287.17,
          291.53,
          293.55,
          298.61,
          292.07
         ],
         "yaxis": "y"
        },
        {
         "hovertemplate": "version=g++-4.6<br>time_elapsed=%{x}<br>Pkg_J=%{y}<extra></extra>",
         "legendgroup": "g++-4.6",
         "marker": {
          "color": "#EF553B",
          "symbol": "circle"
         },
         "mode": "markers",
         "name": "g++-4.6",
         "orientation": "v",
         "showlegend": true,
         "type": "scatter",
         "x": [
          18.45464,
          18.380234,
          18.344352,
          18.547231,
          18.600965,
          18.796496,
          18.774649,
          18.733993,
          18.663682,
          18.66999
         ],
         "xaxis": "x",
         "y": [
          269.19,
          269.33,
          271.38,
          280.13,
          278.99,
          275.38,
          279.64,
          276.84,
          279,
          278.88
         ],
         "yaxis": "y"
        },
        {
         "hovertemplate": "version=g++-4.7<br>time_elapsed=%{x}<br>Pkg_J=%{y}<extra></extra>",
         "legendgroup": "g++-4.7",
         "marker": {
          "color": "#00cc96",
          "symbol": "circle"
         },
         "mode": "markers",
         "name": "g++-4.7",
         "orientation": "v",
         "showlegend": true,
         "type": "scatter",
         "x": [
          18.649621,
          18.665314,
          18.606044,
          18.718517,
          18.707071,
          19.11845,
          18.809439,
          18.816295,
          18.996665,
          19.192968
         ],
         "xaxis": "x",
         "y": [
          270.35,
          279.98,
          279.53,
          283.89,
          282.44,
          277.3,
          283.81,
          281.06,
          275.63,
          274.91
         ],
         "yaxis": "y"
        },
        {
         "hovertemplate": "version=g++-4.8<br>time_elapsed=%{x}<br>Pkg_J=%{y}<extra></extra>",
         "legendgroup": "g++-4.8",
         "marker": {
          "color": "#ab63fa",
          "symbol": "circle"
         },
         "mode": "markers",
         "name": "g++-4.8",
         "orientation": "v",
         "showlegend": true,
         "type": "scatter",
         "x": [
          18.514033,
          18.728872,
          18.711322,
          18.60818,
          18.712145,
          18.905862,
          18.936769,
          18.821412,
          18.906184,
          18.811494
         ],
         "xaxis": "x",
         "y": [
          270.8,
          278.26,
          280.91,
          274.76,
          281.36,
          285.65,
          270.03,
          281.31,
          281.33,
          279.13
         ],
         "yaxis": "y"
        },
        {
         "hovertemplate": "version=g++-4.9<br>time_elapsed=%{x}<br>Pkg_J=%{y}<extra></extra>",
         "legendgroup": "g++-4.9",
         "marker": {
          "color": "#FFA15A",
          "symbol": "circle"
         },
         "mode": "markers",
         "name": "g++-4.9",
         "orientation": "v",
         "showlegend": true,
         "type": "scatter",
         "x": [
          18.395804,
          18.363616,
          18.423788,
          18.514807,
          18.471405,
          18.755247,
          18.725226,
          18.54685,
          18.778535,
          18.687344
         ],
         "xaxis": "x",
         "y": [
          269.7,
          273.86,
          270.55,
          281.56,
          276.88,
          268.72,
          276.19,
          276.35,
          271.26,
          276.17
         ],
         "yaxis": "y"
        },
        {
         "hovertemplate": "version=g++-5<br>time_elapsed=%{x}<br>Pkg_J=%{y}<extra></extra>",
         "legendgroup": "g++-5",
         "marker": {
          "color": "#19d3f3",
          "symbol": "circle"
         },
         "mode": "markers",
         "name": "g++-5",
         "orientation": "v",
         "showlegend": true,
         "type": "scatter",
         "x": [
          18.229085,
          18.21793,
          18.185922,
          18.346837,
          18.74941,
          18.302186,
          18.64373,
          18.799245,
          18.962127,
          18.661617
         ],
         "xaxis": "x",
         "y": [
          266.37,
          272.14,
          273.27,
          276.74,
          269.28,
          271.78,
          270.5,
          272.5,
          267.42,
          274.26
         ],
         "yaxis": "y"
        },
        {
         "hovertemplate": "version=g++-6<br>time_elapsed=%{x}<br>Pkg_J=%{y}<extra></extra>",
         "legendgroup": "g++-6",
         "marker": {
          "color": "#FF6692",
          "symbol": "circle"
         },
         "mode": "markers",
         "name": "g++-6",
         "orientation": "v",
         "showlegend": true,
         "type": "scatter",
         "x": [
          18.535857,
          18.670766,
          18.720573,
          18.650063,
          18.777439,
          19.150556,
          19.153943,
          19.116595,
          19.00819,
          18.914761
         ],
         "xaxis": "x",
         "y": [
          269.48,
          281.78,
          278.86,
          282.06,
          282.84,
          273.75,
          273.98,
          271.36,
          276.66,
          271.33
         ],
         "yaxis": "y"
        },
        {
         "hovertemplate": "version=g++-7<br>time_elapsed=%{x}<br>Pkg_J=%{y}<extra></extra>",
         "legendgroup": "g++-7",
         "marker": {
          "color": "#B6E880",
          "symbol": "circle"
         },
         "mode": "markers",
         "name": "g++-7",
         "orientation": "v",
         "showlegend": true,
         "type": "scatter",
         "x": [
          18.922215,
          18.9776,
          19.019648,
          19.012149,
          19.031726,
          19.524324,
          19.767512,
          19.200118,
          19.777524,
          19.652129
         ],
         "xaxis": "x",
         "y": [
          279.77,
          280.13,
          291.17,
          286.18,
          288.02,
          281.75,
          284.35,
          287.38,
          281.87,
          278.25
         ],
         "yaxis": "y"
        },
        {
         "hovertemplate": "version=g++-8<br>time_elapsed=%{x}<br>Pkg_J=%{y}<extra></extra>",
         "legendgroup": "g++-8",
         "marker": {
          "color": "#FF97FF",
          "symbol": "circle"
         },
         "mode": "markers",
         "name": "g++-8",
         "orientation": "v",
         "showlegend": true,
         "type": "scatter",
         "x": [
          18.895485,
          18.969705,
          19.189305,
          19.079588,
          19.061486,
          20.189262,
          20.290944,
          19.049993,
          19.125067,
          19.697991
         ],
         "xaxis": "x",
         "y": [
          278.09,
          284.56,
          283.05,
          284.93,
          287.02,
          304.4,
          352.36,
          276.9,
          280.69,
          273.23
         ],
         "yaxis": "y"
        },
        {
         "hovertemplate": "version=g++-9<br>time_elapsed=%{x}<br>Pkg_J=%{y}<extra></extra>",
         "legendgroup": "g++-9",
         "marker": {
          "color": "#FECB52",
          "symbol": "circle"
         },
         "mode": "markers",
         "name": "g++-9",
         "orientation": "v",
         "showlegend": true,
         "type": "scatter",
         "x": [
          19.382183,
          19.402305,
          19.529972,
          19.79632,
          19.472186,
          19.610724,
          19.73897,
          20.079884,
          20.065399,
          20.163658
         ],
         "xaxis": "x",
         "y": [
          288.96,
          291.21,
          290.62,
          292,
          294.08,
          289.67,
          289.76,
          287.17,
          286.6,
          281.55
         ],
         "yaxis": "y"
        },
        {
         "hovertemplate": "version=g++-10<br>time_elapsed=%{x}<br>Pkg_J=%{y}<extra></extra>",
         "legendgroup": "g++-10",
         "marker": {
          "color": "#636efa",
          "symbol": "circle"
         },
         "mode": "markers",
         "name": "g++-10",
         "orientation": "v",
         "showlegend": true,
         "type": "scatter",
         "x": [
          19.198182,
          19.261238,
          19.531092,
          19.195272,
          19.40385,
          19.589156,
          20.036617,
          19.994316,
          20.031973,
          19.690765
         ],
         "xaxis": "x",
         "y": [
          275.79,
          285.48,
          291.66,
          288.9,
          294.17,
          290.75,
          287.99,
          287.16,
          286.31,
          293.54
         ],
         "yaxis": "y"
        },
        {
         "hovertemplate": "version=g++-11<br>time_elapsed=%{x}<br>Pkg_J=%{y}<extra></extra>",
         "legendgroup": "g++-11",
         "marker": {
          "color": "#EF553B",
          "symbol": "circle"
         },
         "mode": "markers",
         "name": "g++-11",
         "orientation": "v",
         "showlegend": true,
         "type": "scatter",
         "x": [
          19.393586,
          19.461703,
          19.533421,
          20.048278,
          19.826333,
          19.674986,
          19.769541,
          20.0185,
          19.618648,
          20.817297
         ],
         "xaxis": "x",
         "y": [
          286.25,
          304.56,
          294.95,
          297.5,
          299.43,
          299.54,
          290.95,
          285.99,
          293.17,
          269.07
         ],
         "yaxis": "y"
        },
        {
         "hovertemplate": "version=g++-12<br>time_elapsed=%{x}<br>Pkg_J=%{y}<extra></extra>",
         "legendgroup": "g++-12",
         "marker": {
          "color": "#00cc96",
          "symbol": "circle"
         },
         "mode": "markers",
         "name": "g++-12",
         "orientation": "v",
         "showlegend": true,
         "type": "scatter",
         "x": [
          19.594491,
          19.611646,
          19.45969,
          19.801702,
          19.731188,
          20.012951,
          20.194771,
          19.926438,
          20.195806,
          20.441522
         ],
         "xaxis": "x",
         "y": [
          282.32,
          292.88,
          292.5,
          294.83,
          296.52,
          300.36,
          290.87,
          293.35,
          289.18,
          281.43
         ],
         "yaxis": "y"
        },
        {
         "hovertemplate": "version=g++-13<br>time_elapsed=%{x}<br>Pkg_J=%{y}<extra></extra>",
         "legendgroup": "g++-13",
         "marker": {
          "color": "#ab63fa",
          "symbol": "circle"
         },
         "mode": "markers",
         "name": "g++-13",
         "orientation": "v",
         "showlegend": true,
         "type": "scatter",
         "x": [
          19.228001,
          19.285689,
          19.812221,
          19.745607,
          19.578513,
          20.287041,
          19.587371,
          20.397967,
          19.797566,
          20.948406
         ],
         "xaxis": "x",
         "y": [
          281.68,
          295.24,
          298.2,
          292.67,
          296.15,
          309.72,
          296.12,
          293.94,
          291.21,
          264.71
         ],
         "yaxis": "y"
        }
       ],
       "layout": {
        "legend": {
         "title": {
          "text": "version"
         },
         "tracegroupgap": 0
        },
        "margin": {
         "t": 60
        },
        "template": {
         "data": {
          "bar": [
           {
            "error_x": {
             "color": "#2a3f5f"
            },
            "error_y": {
             "color": "#2a3f5f"
            },
            "marker": {
             "line": {
              "color": "#E5ECF6",
              "width": 0.5
             },
             "pattern": {
              "fillmode": "overlay",
              "size": 10,
              "solidity": 0.2
             }
            },
            "type": "bar"
           }
          ],
          "barpolar": [
           {
            "marker": {
             "line": {
              "color": "#E5ECF6",
              "width": 0.5
             },
             "pattern": {
              "fillmode": "overlay",
              "size": 10,
              "solidity": 0.2
             }
            },
            "type": "barpolar"
           }
          ],
          "carpet": [
           {
            "aaxis": {
             "endlinecolor": "#2a3f5f",
             "gridcolor": "white",
             "linecolor": "white",
             "minorgridcolor": "white",
             "startlinecolor": "#2a3f5f"
            },
            "baxis": {
             "endlinecolor": "#2a3f5f",
             "gridcolor": "white",
             "linecolor": "white",
             "minorgridcolor": "white",
             "startlinecolor": "#2a3f5f"
            },
            "type": "carpet"
           }
          ],
          "choropleth": [
           {
            "colorbar": {
             "outlinewidth": 0,
             "ticks": ""
            },
            "type": "choropleth"
           }
          ],
          "contour": [
           {
            "colorbar": {
             "outlinewidth": 0,
             "ticks": ""
            },
            "colorscale": [
             [
              0,
              "#0d0887"
             ],
             [
              0.1111111111111111,
              "#46039f"
             ],
             [
              0.2222222222222222,
              "#7201a8"
             ],
             [
              0.3333333333333333,
              "#9c179e"
             ],
             [
              0.4444444444444444,
              "#bd3786"
             ],
             [
              0.5555555555555556,
              "#d8576b"
             ],
             [
              0.6666666666666666,
              "#ed7953"
             ],
             [
              0.7777777777777778,
              "#fb9f3a"
             ],
             [
              0.8888888888888888,
              "#fdca26"
             ],
             [
              1,
              "#f0f921"
             ]
            ],
            "type": "contour"
           }
          ],
          "contourcarpet": [
           {
            "colorbar": {
             "outlinewidth": 0,
             "ticks": ""
            },
            "type": "contourcarpet"
           }
          ],
          "heatmap": [
           {
            "colorbar": {
             "outlinewidth": 0,
             "ticks": ""
            },
            "colorscale": [
             [
              0,
              "#0d0887"
             ],
             [
              0.1111111111111111,
              "#46039f"
             ],
             [
              0.2222222222222222,
              "#7201a8"
             ],
             [
              0.3333333333333333,
              "#9c179e"
             ],
             [
              0.4444444444444444,
              "#bd3786"
             ],
             [
              0.5555555555555556,
              "#d8576b"
             ],
             [
              0.6666666666666666,
              "#ed7953"
             ],
             [
              0.7777777777777778,
              "#fb9f3a"
             ],
             [
              0.8888888888888888,
              "#fdca26"
             ],
             [
              1,
              "#f0f921"
             ]
            ],
            "type": "heatmap"
           }
          ],
          "heatmapgl": [
           {
            "colorbar": {
             "outlinewidth": 0,
             "ticks": ""
            },
            "colorscale": [
             [
              0,
              "#0d0887"
             ],
             [
              0.1111111111111111,
              "#46039f"
             ],
             [
              0.2222222222222222,
              "#7201a8"
             ],
             [
              0.3333333333333333,
              "#9c179e"
             ],
             [
              0.4444444444444444,
              "#bd3786"
             ],
             [
              0.5555555555555556,
              "#d8576b"
             ],
             [
              0.6666666666666666,
              "#ed7953"
             ],
             [
              0.7777777777777778,
              "#fb9f3a"
             ],
             [
              0.8888888888888888,
              "#fdca26"
             ],
             [
              1,
              "#f0f921"
             ]
            ],
            "type": "heatmapgl"
           }
          ],
          "histogram": [
           {
            "marker": {
             "pattern": {
              "fillmode": "overlay",
              "size": 10,
              "solidity": 0.2
             }
            },
            "type": "histogram"
           }
          ],
          "histogram2d": [
           {
            "colorbar": {
             "outlinewidth": 0,
             "ticks": ""
            },
            "colorscale": [
             [
              0,
              "#0d0887"
             ],
             [
              0.1111111111111111,
              "#46039f"
             ],
             [
              0.2222222222222222,
              "#7201a8"
             ],
             [
              0.3333333333333333,
              "#9c179e"
             ],
             [
              0.4444444444444444,
              "#bd3786"
             ],
             [
              0.5555555555555556,
              "#d8576b"
             ],
             [
              0.6666666666666666,
              "#ed7953"
             ],
             [
              0.7777777777777778,
              "#fb9f3a"
             ],
             [
              0.8888888888888888,
              "#fdca26"
             ],
             [
              1,
              "#f0f921"
             ]
            ],
            "type": "histogram2d"
           }
          ],
          "histogram2dcontour": [
           {
            "colorbar": {
             "outlinewidth": 0,
             "ticks": ""
            },
            "colorscale": [
             [
              0,
              "#0d0887"
             ],
             [
              0.1111111111111111,
              "#46039f"
             ],
             [
              0.2222222222222222,
              "#7201a8"
             ],
             [
              0.3333333333333333,
              "#9c179e"
             ],
             [
              0.4444444444444444,
              "#bd3786"
             ],
             [
              0.5555555555555556,
              "#d8576b"
             ],
             [
              0.6666666666666666,
              "#ed7953"
             ],
             [
              0.7777777777777778,
              "#fb9f3a"
             ],
             [
              0.8888888888888888,
              "#fdca26"
             ],
             [
              1,
              "#f0f921"
             ]
            ],
            "type": "histogram2dcontour"
           }
          ],
          "mesh3d": [
           {
            "colorbar": {
             "outlinewidth": 0,
             "ticks": ""
            },
            "type": "mesh3d"
           }
          ],
          "parcoords": [
           {
            "line": {
             "colorbar": {
              "outlinewidth": 0,
              "ticks": ""
             }
            },
            "type": "parcoords"
           }
          ],
          "pie": [
           {
            "automargin": true,
            "type": "pie"
           }
          ],
          "scatter": [
           {
            "fillpattern": {
             "fillmode": "overlay",
             "size": 10,
             "solidity": 0.2
            },
            "type": "scatter"
           }
          ],
          "scatter3d": [
           {
            "line": {
             "colorbar": {
              "outlinewidth": 0,
              "ticks": ""
             }
            },
            "marker": {
             "colorbar": {
              "outlinewidth": 0,
              "ticks": ""
             }
            },
            "type": "scatter3d"
           }
          ],
          "scattercarpet": [
           {
            "marker": {
             "colorbar": {
              "outlinewidth": 0,
              "ticks": ""
             }
            },
            "type": "scattercarpet"
           }
          ],
          "scattergeo": [
           {
            "marker": {
             "colorbar": {
              "outlinewidth": 0,
              "ticks": ""
             }
            },
            "type": "scattergeo"
           }
          ],
          "scattergl": [
           {
            "marker": {
             "colorbar": {
              "outlinewidth": 0,
              "ticks": ""
             }
            },
            "type": "scattergl"
           }
          ],
          "scattermapbox": [
           {
            "marker": {
             "colorbar": {
              "outlinewidth": 0,
              "ticks": ""
             }
            },
            "type": "scattermapbox"
           }
          ],
          "scatterpolar": [
           {
            "marker": {
             "colorbar": {
              "outlinewidth": 0,
              "ticks": ""
             }
            },
            "type": "scatterpolar"
           }
          ],
          "scatterpolargl": [
           {
            "marker": {
             "colorbar": {
              "outlinewidth": 0,
              "ticks": ""
             }
            },
            "type": "scatterpolargl"
           }
          ],
          "scatterternary": [
           {
            "marker": {
             "colorbar": {
              "outlinewidth": 0,
              "ticks": ""
             }
            },
            "type": "scatterternary"
           }
          ],
          "surface": [
           {
            "colorbar": {
             "outlinewidth": 0,
             "ticks": ""
            },
            "colorscale": [
             [
              0,
              "#0d0887"
             ],
             [
              0.1111111111111111,
              "#46039f"
             ],
             [
              0.2222222222222222,
              "#7201a8"
             ],
             [
              0.3333333333333333,
              "#9c179e"
             ],
             [
              0.4444444444444444,
              "#bd3786"
             ],
             [
              0.5555555555555556,
              "#d8576b"
             ],
             [
              0.6666666666666666,
              "#ed7953"
             ],
             [
              0.7777777777777778,
              "#fb9f3a"
             ],
             [
              0.8888888888888888,
              "#fdca26"
             ],
             [
              1,
              "#f0f921"
             ]
            ],
            "type": "surface"
           }
          ],
          "table": [
           {
            "cells": {
             "fill": {
              "color": "#EBF0F8"
             },
             "line": {
              "color": "white"
             }
            },
            "header": {
             "fill": {
              "color": "#C8D4E3"
             },
             "line": {
              "color": "white"
             }
            },
            "type": "table"
           }
          ]
         },
         "layout": {
          "annotationdefaults": {
           "arrowcolor": "#2a3f5f",
           "arrowhead": 0,
           "arrowwidth": 1
          },
          "autotypenumbers": "strict",
          "coloraxis": {
           "colorbar": {
            "outlinewidth": 0,
            "ticks": ""
           }
          },
          "colorscale": {
           "diverging": [
            [
             0,
             "#8e0152"
            ],
            [
             0.1,
             "#c51b7d"
            ],
            [
             0.2,
             "#de77ae"
            ],
            [
             0.3,
             "#f1b6da"
            ],
            [
             0.4,
             "#fde0ef"
            ],
            [
             0.5,
             "#f7f7f7"
            ],
            [
             0.6,
             "#e6f5d0"
            ],
            [
             0.7,
             "#b8e186"
            ],
            [
             0.8,
             "#7fbc41"
            ],
            [
             0.9,
             "#4d9221"
            ],
            [
             1,
             "#276419"
            ]
           ],
           "sequential": [
            [
             0,
             "#0d0887"
            ],
            [
             0.1111111111111111,
             "#46039f"
            ],
            [
             0.2222222222222222,
             "#7201a8"
            ],
            [
             0.3333333333333333,
             "#9c179e"
            ],
            [
             0.4444444444444444,
             "#bd3786"
            ],
            [
             0.5555555555555556,
             "#d8576b"
            ],
            [
             0.6666666666666666,
             "#ed7953"
            ],
            [
             0.7777777777777778,
             "#fb9f3a"
            ],
            [
             0.8888888888888888,
             "#fdca26"
            ],
            [
             1,
             "#f0f921"
            ]
           ],
           "sequentialminus": [
            [
             0,
             "#0d0887"
            ],
            [
             0.1111111111111111,
             "#46039f"
            ],
            [
             0.2222222222222222,
             "#7201a8"
            ],
            [
             0.3333333333333333,
             "#9c179e"
            ],
            [
             0.4444444444444444,
             "#bd3786"
            ],
            [
             0.5555555555555556,
             "#d8576b"
            ],
            [
             0.6666666666666666,
             "#ed7953"
            ],
            [
             0.7777777777777778,
             "#fb9f3a"
            ],
            [
             0.8888888888888888,
             "#fdca26"
            ],
            [
             1,
             "#f0f921"
            ]
           ]
          },
          "colorway": [
           "#636efa",
           "#EF553B",
           "#00cc96",
           "#ab63fa",
           "#FFA15A",
           "#19d3f3",
           "#FF6692",
           "#B6E880",
           "#FF97FF",
           "#FECB52"
          ],
          "font": {
           "color": "#2a3f5f"
          },
          "geo": {
           "bgcolor": "white",
           "lakecolor": "white",
           "landcolor": "#E5ECF6",
           "showlakes": true,
           "showland": true,
           "subunitcolor": "white"
          },
          "hoverlabel": {
           "align": "left"
          },
          "hovermode": "closest",
          "mapbox": {
           "style": "light"
          },
          "paper_bgcolor": "white",
          "plot_bgcolor": "#E5ECF6",
          "polar": {
           "angularaxis": {
            "gridcolor": "white",
            "linecolor": "white",
            "ticks": ""
           },
           "bgcolor": "#E5ECF6",
           "radialaxis": {
            "gridcolor": "white",
            "linecolor": "white",
            "ticks": ""
           }
          },
          "scene": {
           "xaxis": {
            "backgroundcolor": "#E5ECF6",
            "gridcolor": "white",
            "gridwidth": 2,
            "linecolor": "white",
            "showbackground": true,
            "ticks": "",
            "zerolinecolor": "white"
           },
           "yaxis": {
            "backgroundcolor": "#E5ECF6",
            "gridcolor": "white",
            "gridwidth": 2,
            "linecolor": "white",
            "showbackground": true,
            "ticks": "",
            "zerolinecolor": "white"
           },
           "zaxis": {
            "backgroundcolor": "#E5ECF6",
            "gridcolor": "white",
            "gridwidth": 2,
            "linecolor": "white",
            "showbackground": true,
            "ticks": "",
            "zerolinecolor": "white"
           }
          },
          "shapedefaults": {
           "line": {
            "color": "#2a3f5f"
           }
          },
          "ternary": {
           "aaxis": {
            "gridcolor": "white",
            "linecolor": "white",
            "ticks": ""
           },
           "baxis": {
            "gridcolor": "white",
            "linecolor": "white",
            "ticks": ""
           },
           "bgcolor": "#E5ECF6",
           "caxis": {
            "gridcolor": "white",
            "linecolor": "white",
            "ticks": ""
           }
          },
          "title": {
           "x": 0.05
          },
          "xaxis": {
           "automargin": true,
           "gridcolor": "white",
           "linecolor": "white",
           "ticks": "",
           "title": {
            "standoff": 15
           },
           "zerolinecolor": "white",
           "zerolinewidth": 2
          },
          "yaxis": {
           "automargin": true,
           "gridcolor": "white",
           "linecolor": "white",
           "ticks": "",
           "title": {
            "standoff": 15
           },
           "zerolinecolor": "white",
           "zerolinewidth": 2
          }
         }
        },
        "xaxis": {
         "anchor": "y",
         "domain": [
          0,
          1
         ],
         "title": {
          "text": "time_elapsed"
         }
        },
        "yaxis": {
         "anchor": "x",
         "domain": [
          0,
          1
         ],
         "title": {
          "text": "Pkg_J"
         }
        }
       }
      }
     },
     "metadata": {},
     "output_type": "display_data"
    }
   ],
   "source": [
    "fig = px.scatter(df, x='time_elapsed', y='Pkg_J', color='version')\n",
    "fig.show()"
   ]
  },
  {
   "cell_type": "code",
   "execution_count": 24,
   "metadata": {},
   "outputs": [],
   "source": [
    "import plotly.figure_factory as ff"
   ]
  },
  {
   "cell_type": "code",
   "execution_count": 41,
   "metadata": {},
   "outputs": [
    {
     "data": {
      "application/vnd.plotly.v1+json": {
       "config": {
        "plotlyServerURL": "https://plot.ly"
       },
       "data": [
        {
         "marker": {
          "color": "rgb(31, 119, 180)"
         },
         "showlegend": false,
         "type": "histogram",
         "x": [
          19.012345,
          19.068004,
          19.48595,
          19.485471,
          19.006089,
          19.268487,
          19.271215,
          19.474061,
          19.79699,
          19.25266,
          18.45464,
          18.380234,
          18.344352,
          18.547231,
          18.600965,
          18.796496,
          18.774649,
          18.733993,
          18.663682,
          18.66999,
          18.649621,
          18.665314,
          18.606044,
          18.718517,
          18.707071,
          19.11845,
          18.809439,
          18.816295,
          18.996665,
          19.192968,
          18.514033,
          18.728872,
          18.711322,
          18.60818,
          18.712145,
          18.905862,
          18.936769,
          18.821412,
          18.906184,
          18.811494,
          18.395804,
          18.363616,
          18.423788,
          18.514807,
          18.471405,
          18.755247,
          18.725226,
          18.54685,
          18.778535,
          18.687344,
          18.229085,
          18.21793,
          18.185922,
          18.346837,
          18.74941,
          18.302186,
          18.64373,
          18.799245,
          18.962127,
          18.661617,
          18.535857,
          18.670766,
          18.720573,
          18.650063,
          18.777439,
          19.150556,
          19.153943,
          19.116595,
          19.00819,
          18.914761,
          18.922215,
          18.9776,
          19.019648,
          19.012149,
          19.031726,
          19.524324,
          19.767512,
          19.200118,
          19.777524,
          19.652129,
          18.895485,
          18.969705,
          19.189305,
          19.079588,
          19.061486,
          20.189262,
          20.290944,
          19.049993,
          19.125067,
          19.697991,
          19.382183,
          19.402305,
          19.529972,
          19.79632,
          19.472186,
          19.610724,
          19.73897,
          20.079884,
          20.065399,
          20.163658,
          19.198182,
          19.261238,
          19.531092,
          19.195272,
          19.40385,
          19.589156,
          20.036617,
          19.994316,
          20.031973,
          19.690765,
          19.393586,
          19.461703,
          19.533421,
          20.048278,
          19.826333,
          19.674986,
          19.769541,
          20.0185,
          19.618648,
          20.817297,
          19.594491,
          19.611646,
          19.45969,
          19.801702,
          19.731188,
          20.012951,
          20.194771,
          19.926438,
          20.195806,
          20.441522,
          19.228001,
          19.285689,
          19.812221,
          19.745607,
          19.578513,
          20.287041,
          19.587371,
          20.397967,
          19.797566,
          20.948406
         ],
         "xaxis": "x",
         "yaxis": "y"
        },
        {
         "marker": {
          "color": "rgb(31, 119, 180)",
          "size": 6
         },
         "mode": "markers",
         "name": "binaryTrees_21_original",
         "showlegend": true,
         "text": [
          "g++-4.4",
          "g++-4.4",
          "g++-4.4",
          "g++-4.4",
          "g++-4.4",
          "g++-4.4",
          "g++-4.4",
          "g++-4.4",
          "g++-4.4",
          "g++-4.4",
          "g++-4.6",
          "g++-4.6",
          "g++-4.6",
          "g++-4.6",
          "g++-4.6",
          "g++-4.6",
          "g++-4.6",
          "g++-4.6",
          "g++-4.6",
          "g++-4.6",
          "g++-4.7",
          "g++-4.7",
          "g++-4.7",
          "g++-4.7",
          "g++-4.7",
          "g++-4.7",
          "g++-4.7",
          "g++-4.7",
          "g++-4.7",
          "g++-4.7",
          "g++-4.8",
          "g++-4.8",
          "g++-4.8",
          "g++-4.8",
          "g++-4.8",
          "g++-4.8",
          "g++-4.8",
          "g++-4.8",
          "g++-4.8",
          "g++-4.8",
          "g++-4.9",
          "g++-4.9",
          "g++-4.9",
          "g++-4.9",
          "g++-4.9",
          "g++-4.9",
          "g++-4.9",
          "g++-4.9",
          "g++-4.9",
          "g++-4.9",
          "g++-5",
          "g++-5",
          "g++-5",
          "g++-5",
          "g++-5",
          "g++-5",
          "g++-5",
          "g++-5",
          "g++-5",
          "g++-5",
          "g++-6",
          "g++-6",
          "g++-6",
          "g++-6",
          "g++-6",
          "g++-6",
          "g++-6",
          "g++-6",
          "g++-6",
          "g++-6",
          "g++-7",
          "g++-7",
          "g++-7",
          "g++-7",
          "g++-7",
          "g++-7",
          "g++-7",
          "g++-7",
          "g++-7",
          "g++-7",
          "g++-8",
          "g++-8",
          "g++-8",
          "g++-8",
          "g++-8",
          "g++-8",
          "g++-8",
          "g++-8",
          "g++-8",
          "g++-8",
          "g++-9",
          "g++-9",
          "g++-9",
          "g++-9",
          "g++-9",
          "g++-9",
          "g++-9",
          "g++-9",
          "g++-9",
          "g++-9",
          "g++-10",
          "g++-10",
          "g++-10",
          "g++-10",
          "g++-10",
          "g++-10",
          "g++-10",
          "g++-10",
          "g++-10",
          "g++-10",
          "g++-11",
          "g++-11",
          "g++-11",
          "g++-11",
          "g++-11",
          "g++-11",
          "g++-11",
          "g++-11",
          "g++-11",
          "g++-11",
          "g++-12",
          "g++-12",
          "g++-12",
          "g++-12",
          "g++-12",
          "g++-12",
          "g++-12",
          "g++-12",
          "g++-12",
          "g++-12",
          "g++-13",
          "g++-13",
          "g++-13",
          "g++-13",
          "g++-13",
          "g++-13",
          "g++-13",
          "g++-13",
          "g++-13",
          "g++-13"
         ],
         "type": "scatter",
         "x": [
          276.73,
          283.23,
          292.54,
          293.64,
          284.07,
          287.17,
          291.53,
          293.55,
          298.61,
          292.07,
          269.19,
          269.33,
          271.38,
          280.13,
          278.99,
          275.38,
          279.64,
          276.84,
          279,
          278.88,
          270.35,
          279.98,
          279.53,
          283.89,
          282.44,
          277.3,
          283.81,
          281.06,
          275.63,
          274.91,
          270.8,
          278.26,
          280.91,
          274.76,
          281.36,
          285.65,
          270.03,
          281.31,
          281.33,
          279.13,
          269.7,
          273.86,
          270.55,
          281.56,
          276.88,
          268.72,
          276.19,
          276.35,
          271.26,
          276.17,
          266.37,
          272.14,
          273.27,
          276.74,
          269.28,
          271.78,
          270.5,
          272.5,
          267.42,
          274.26,
          269.48,
          281.78,
          278.86,
          282.06,
          282.84,
          273.75,
          273.98,
          271.36,
          276.66,
          271.33,
          279.77,
          280.13,
          291.17,
          286.18,
          288.02,
          281.75,
          284.35,
          287.38,
          281.87,
          278.25,
          278.09,
          284.56,
          283.05,
          284.93,
          287.02,
          304.4,
          352.36,
          276.9,
          280.69,
          273.23,
          288.96,
          291.21,
          290.62,
          292,
          294.08,
          289.67,
          289.76,
          287.17,
          286.6,
          281.55,
          275.79,
          285.48,
          291.66,
          288.9,
          294.17,
          290.75,
          287.99,
          287.16,
          286.31,
          293.54,
          286.25,
          304.56,
          294.95,
          297.5,
          299.43,
          299.54,
          290.95,
          285.99,
          293.17,
          269.07,
          282.32,
          292.88,
          292.5,
          294.83,
          296.52,
          300.36,
          290.87,
          293.35,
          289.18,
          281.43,
          281.68,
          295.24,
          298.2,
          292.67,
          296.15,
          309.72,
          296.12,
          293.94,
          291.21,
          264.71
         ],
         "xaxis": "x2",
         "y": [
          19.012345,
          19.068004,
          19.48595,
          19.485471,
          19.006089,
          19.268487,
          19.271215,
          19.474061,
          19.79699,
          19.25266,
          18.45464,
          18.380234,
          18.344352,
          18.547231,
          18.600965,
          18.796496,
          18.774649,
          18.733993,
          18.663682,
          18.66999,
          18.649621,
          18.665314,
          18.606044,
          18.718517,
          18.707071,
          19.11845,
          18.809439,
          18.816295,
          18.996665,
          19.192968,
          18.514033,
          18.728872,
          18.711322,
          18.60818,
          18.712145,
          18.905862,
          18.936769,
          18.821412,
          18.906184,
          18.811494,
          18.395804,
          18.363616,
          18.423788,
          18.514807,
          18.471405,
          18.755247,
          18.725226,
          18.54685,
          18.778535,
          18.687344,
          18.229085,
          18.21793,
          18.185922,
          18.346837,
          18.74941,
          18.302186,
          18.64373,
          18.799245,
          18.962127,
          18.661617,
          18.535857,
          18.670766,
          18.720573,
          18.650063,
          18.777439,
          19.150556,
          19.153943,
          19.116595,
          19.00819,
          18.914761,
          18.922215,
          18.9776,
          19.019648,
          19.012149,
          19.031726,
          19.524324,
          19.767512,
          19.200118,
          19.777524,
          19.652129,
          18.895485,
          18.969705,
          19.189305,
          19.079588,
          19.061486,
          20.189262,
          20.290944,
          19.049993,
          19.125067,
          19.697991,
          19.382183,
          19.402305,
          19.529972,
          19.79632,
          19.472186,
          19.610724,
          19.73897,
          20.079884,
          20.065399,
          20.163658,
          19.198182,
          19.261238,
          19.531092,
          19.195272,
          19.40385,
          19.589156,
          20.036617,
          19.994316,
          20.031973,
          19.690765,
          19.393586,
          19.461703,
          19.533421,
          20.048278,
          19.826333,
          19.674986,
          19.769541,
          20.0185,
          19.618648,
          20.817297,
          19.594491,
          19.611646,
          19.45969,
          19.801702,
          19.731188,
          20.012951,
          20.194771,
          19.926438,
          20.195806,
          20.441522,
          19.228001,
          19.285689,
          19.812221,
          19.745607,
          19.578513,
          20.287041,
          19.587371,
          20.397967,
          19.797566,
          20.948406
         ],
         "yaxis": "y2"
        },
        {
         "marker": {
          "color": "rgb(31, 119, 180)",
          "size": 6
         },
         "mode": "markers",
         "name": "binaryTrees_21_original",
         "showlegend": false,
         "text": [
          "g++-4.4",
          "g++-4.4",
          "g++-4.4",
          "g++-4.4",
          "g++-4.4",
          "g++-4.4",
          "g++-4.4",
          "g++-4.4",
          "g++-4.4",
          "g++-4.4",
          "g++-4.6",
          "g++-4.6",
          "g++-4.6",
          "g++-4.6",
          "g++-4.6",
          "g++-4.6",
          "g++-4.6",
          "g++-4.6",
          "g++-4.6",
          "g++-4.6",
          "g++-4.7",
          "g++-4.7",
          "g++-4.7",
          "g++-4.7",
          "g++-4.7",
          "g++-4.7",
          "g++-4.7",
          "g++-4.7",
          "g++-4.7",
          "g++-4.7",
          "g++-4.8",
          "g++-4.8",
          "g++-4.8",
          "g++-4.8",
          "g++-4.8",
          "g++-4.8",
          "g++-4.8",
          "g++-4.8",
          "g++-4.8",
          "g++-4.8",
          "g++-4.9",
          "g++-4.9",
          "g++-4.9",
          "g++-4.9",
          "g++-4.9",
          "g++-4.9",
          "g++-4.9",
          "g++-4.9",
          "g++-4.9",
          "g++-4.9",
          "g++-5",
          "g++-5",
          "g++-5",
          "g++-5",
          "g++-5",
          "g++-5",
          "g++-5",
          "g++-5",
          "g++-5",
          "g++-5",
          "g++-6",
          "g++-6",
          "g++-6",
          "g++-6",
          "g++-6",
          "g++-6",
          "g++-6",
          "g++-6",
          "g++-6",
          "g++-6",
          "g++-7",
          "g++-7",
          "g++-7",
          "g++-7",
          "g++-7",
          "g++-7",
          "g++-7",
          "g++-7",
          "g++-7",
          "g++-7",
          "g++-8",
          "g++-8",
          "g++-8",
          "g++-8",
          "g++-8",
          "g++-8",
          "g++-8",
          "g++-8",
          "g++-8",
          "g++-8",
          "g++-9",
          "g++-9",
          "g++-9",
          "g++-9",
          "g++-9",
          "g++-9",
          "g++-9",
          "g++-9",
          "g++-9",
          "g++-9",
          "g++-10",
          "g++-10",
          "g++-10",
          "g++-10",
          "g++-10",
          "g++-10",
          "g++-10",
          "g++-10",
          "g++-10",
          "g++-10",
          "g++-11",
          "g++-11",
          "g++-11",
          "g++-11",
          "g++-11",
          "g++-11",
          "g++-11",
          "g++-11",
          "g++-11",
          "g++-11",
          "g++-12",
          "g++-12",
          "g++-12",
          "g++-12",
          "g++-12",
          "g++-12",
          "g++-12",
          "g++-12",
          "g++-12",
          "g++-12",
          "g++-13",
          "g++-13",
          "g++-13",
          "g++-13",
          "g++-13",
          "g++-13",
          "g++-13",
          "g++-13",
          "g++-13",
          "g++-13"
         ],
         "type": "scatter",
         "x": [
          14.03,
          14,
          14.19,
          14.27,
          13.97,
          14.15,
          14.18,
          14.22,
          14.43,
          14.08,
          13.65,
          13.62,
          13.57,
          13.74,
          13.79,
          13.82,
          13.88,
          13.85,
          13.79,
          13.8,
          13.76,
          13.75,
          13.68,
          13.83,
          13.85,
          14.05,
          13.9,
          13.86,
          13.93,
          14.1,
          13.7,
          13.85,
          13.81,
          13.78,
          13.84,
          13.98,
          13.93,
          13.83,
          13.89,
          13.89,
          13.64,
          13.64,
          13.61,
          13.73,
          13.72,
          13.87,
          13.86,
          13.75,
          13.89,
          13.82,
          13.56,
          13.55,
          13.47,
          13.66,
          13.89,
          13.57,
          13.76,
          13.92,
          13.97,
          13.77,
          13.67,
          13.76,
          13.73,
          13.74,
          13.9,
          13.96,
          14.01,
          14,
          13.98,
          13.89,
          13.97,
          13.92,
          13.94,
          14.02,
          13.99,
          14.28,
          14.41,
          14.11,
          14.35,
          14.35,
          13.9,
          13.94,
          14.03,
          14.04,
          14.04,
          16.53,
          16.68,
          13.93,
          14.06,
          14.36,
          14.23,
          14.18,
          14.3,
          14.48,
          14.26,
          14.33,
          14.35,
          14.45,
          14.57,
          14.61,
          14.04,
          14.08,
          14.21,
          14.05,
          14.19,
          14.3,
          14.54,
          14.55,
          14.58,
          14.35,
          14.15,
          14.22,
          14.23,
          14.62,
          14.42,
          14.36,
          14.43,
          14.5,
          14.31,
          14.98,
          14.41,
          14.42,
          14.34,
          14.52,
          14.5,
          14.61,
          14.78,
          14.61,
          14.81,
          14.92,
          14.18,
          14.21,
          14.48,
          14.51,
          14.48,
          14.76,
          14.47,
          14.87,
          14.61,
          15.17
         ],
         "xaxis": "x3",
         "y": [
          19.012345,
          19.068004,
          19.48595,
          19.485471,
          19.006089,
          19.268487,
          19.271215,
          19.474061,
          19.79699,
          19.25266,
          18.45464,
          18.380234,
          18.344352,
          18.547231,
          18.600965,
          18.796496,
          18.774649,
          18.733993,
          18.663682,
          18.66999,
          18.649621,
          18.665314,
          18.606044,
          18.718517,
          18.707071,
          19.11845,
          18.809439,
          18.816295,
          18.996665,
          19.192968,
          18.514033,
          18.728872,
          18.711322,
          18.60818,
          18.712145,
          18.905862,
          18.936769,
          18.821412,
          18.906184,
          18.811494,
          18.395804,
          18.363616,
          18.423788,
          18.514807,
          18.471405,
          18.755247,
          18.725226,
          18.54685,
          18.778535,
          18.687344,
          18.229085,
          18.21793,
          18.185922,
          18.346837,
          18.74941,
          18.302186,
          18.64373,
          18.799245,
          18.962127,
          18.661617,
          18.535857,
          18.670766,
          18.720573,
          18.650063,
          18.777439,
          19.150556,
          19.153943,
          19.116595,
          19.00819,
          18.914761,
          18.922215,
          18.9776,
          19.019648,
          19.012149,
          19.031726,
          19.524324,
          19.767512,
          19.200118,
          19.777524,
          19.652129,
          18.895485,
          18.969705,
          19.189305,
          19.079588,
          19.061486,
          20.189262,
          20.290944,
          19.049993,
          19.125067,
          19.697991,
          19.382183,
          19.402305,
          19.529972,
          19.79632,
          19.472186,
          19.610724,
          19.73897,
          20.079884,
          20.065399,
          20.163658,
          19.198182,
          19.261238,
          19.531092,
          19.195272,
          19.40385,
          19.589156,
          20.036617,
          19.994316,
          20.031973,
          19.690765,
          19.393586,
          19.461703,
          19.533421,
          20.048278,
          19.826333,
          19.674986,
          19.769541,
          20.0185,
          19.618648,
          20.817297,
          19.594491,
          19.611646,
          19.45969,
          19.801702,
          19.731188,
          20.012951,
          20.194771,
          19.926438,
          20.195806,
          20.441522,
          19.228001,
          19.285689,
          19.812221,
          19.745607,
          19.578513,
          20.287041,
          19.587371,
          20.397967,
          19.797566,
          20.948406
         ],
         "yaxis": "y3"
        },
        {
         "marker": {
          "color": "rgb(31, 119, 180)",
          "size": 6
         },
         "mode": "markers",
         "name": "binaryTrees_21_original",
         "showlegend": false,
         "text": [
          "g++-4.4",
          "g++-4.4",
          "g++-4.4",
          "g++-4.4",
          "g++-4.4",
          "g++-4.4",
          "g++-4.4",
          "g++-4.4",
          "g++-4.4",
          "g++-4.4",
          "g++-4.6",
          "g++-4.6",
          "g++-4.6",
          "g++-4.6",
          "g++-4.6",
          "g++-4.6",
          "g++-4.6",
          "g++-4.6",
          "g++-4.6",
          "g++-4.6",
          "g++-4.7",
          "g++-4.7",
          "g++-4.7",
          "g++-4.7",
          "g++-4.7",
          "g++-4.7",
          "g++-4.7",
          "g++-4.7",
          "g++-4.7",
          "g++-4.7",
          "g++-4.8",
          "g++-4.8",
          "g++-4.8",
          "g++-4.8",
          "g++-4.8",
          "g++-4.8",
          "g++-4.8",
          "g++-4.8",
          "g++-4.8",
          "g++-4.8",
          "g++-4.9",
          "g++-4.9",
          "g++-4.9",
          "g++-4.9",
          "g++-4.9",
          "g++-4.9",
          "g++-4.9",
          "g++-4.9",
          "g++-4.9",
          "g++-4.9",
          "g++-5",
          "g++-5",
          "g++-5",
          "g++-5",
          "g++-5",
          "g++-5",
          "g++-5",
          "g++-5",
          "g++-5",
          "g++-5",
          "g++-6",
          "g++-6",
          "g++-6",
          "g++-6",
          "g++-6",
          "g++-6",
          "g++-6",
          "g++-6",
          "g++-6",
          "g++-6",
          "g++-7",
          "g++-7",
          "g++-7",
          "g++-7",
          "g++-7",
          "g++-7",
          "g++-7",
          "g++-7",
          "g++-7",
          "g++-7",
          "g++-8",
          "g++-8",
          "g++-8",
          "g++-8",
          "g++-8",
          "g++-8",
          "g++-8",
          "g++-8",
          "g++-8",
          "g++-8",
          "g++-9",
          "g++-9",
          "g++-9",
          "g++-9",
          "g++-9",
          "g++-9",
          "g++-9",
          "g++-9",
          "g++-9",
          "g++-9",
          "g++-10",
          "g++-10",
          "g++-10",
          "g++-10",
          "g++-10",
          "g++-10",
          "g++-10",
          "g++-10",
          "g++-10",
          "g++-10",
          "g++-11",
          "g++-11",
          "g++-11",
          "g++-11",
          "g++-11",
          "g++-11",
          "g++-11",
          "g++-11",
          "g++-11",
          "g++-11",
          "g++-12",
          "g++-12",
          "g++-12",
          "g++-12",
          "g++-12",
          "g++-12",
          "g++-12",
          "g++-12",
          "g++-12",
          "g++-12",
          "g++-13",
          "g++-13",
          "g++-13",
          "g++-13",
          "g++-13",
          "g++-13",
          "g++-13",
          "g++-13",
          "g++-13",
          "g++-13"
         ],
         "type": "scatter",
         "x": [
          19.012345,
          19.068004,
          19.48595,
          19.485471,
          19.006089,
          19.268487,
          19.271215,
          19.474061,
          19.79699,
          19.25266,
          18.45464,
          18.380234,
          18.344352,
          18.547231,
          18.600965,
          18.796496,
          18.774649,
          18.733993,
          18.663682,
          18.66999,
          18.649621,
          18.665314,
          18.606044,
          18.718517,
          18.707071,
          19.11845,
          18.809439,
          18.816295,
          18.996665,
          19.192968,
          18.514033,
          18.728872,
          18.711322,
          18.60818,
          18.712145,
          18.905862,
          18.936769,
          18.821412,
          18.906184,
          18.811494,
          18.395804,
          18.363616,
          18.423788,
          18.514807,
          18.471405,
          18.755247,
          18.725226,
          18.54685,
          18.778535,
          18.687344,
          18.229085,
          18.21793,
          18.185922,
          18.346837,
          18.74941,
          18.302186,
          18.64373,
          18.799245,
          18.962127,
          18.661617,
          18.535857,
          18.670766,
          18.720573,
          18.650063,
          18.777439,
          19.150556,
          19.153943,
          19.116595,
          19.00819,
          18.914761,
          18.922215,
          18.9776,
          19.019648,
          19.012149,
          19.031726,
          19.524324,
          19.767512,
          19.200118,
          19.777524,
          19.652129,
          18.895485,
          18.969705,
          19.189305,
          19.079588,
          19.061486,
          20.189262,
          20.290944,
          19.049993,
          19.125067,
          19.697991,
          19.382183,
          19.402305,
          19.529972,
          19.79632,
          19.472186,
          19.610724,
          19.73897,
          20.079884,
          20.065399,
          20.163658,
          19.198182,
          19.261238,
          19.531092,
          19.195272,
          19.40385,
          19.589156,
          20.036617,
          19.994316,
          20.031973,
          19.690765,
          19.393586,
          19.461703,
          19.533421,
          20.048278,
          19.826333,
          19.674986,
          19.769541,
          20.0185,
          19.618648,
          20.817297,
          19.594491,
          19.611646,
          19.45969,
          19.801702,
          19.731188,
          20.012951,
          20.194771,
          19.926438,
          20.195806,
          20.441522,
          19.228001,
          19.285689,
          19.812221,
          19.745607,
          19.578513,
          20.287041,
          19.587371,
          20.397967,
          19.797566,
          20.948406
         ],
         "xaxis": "x4",
         "y": [
          276.73,
          283.23,
          292.54,
          293.64,
          284.07,
          287.17,
          291.53,
          293.55,
          298.61,
          292.07,
          269.19,
          269.33,
          271.38,
          280.13,
          278.99,
          275.38,
          279.64,
          276.84,
          279,
          278.88,
          270.35,
          279.98,
          279.53,
          283.89,
          282.44,
          277.3,
          283.81,
          281.06,
          275.63,
          274.91,
          270.8,
          278.26,
          280.91,
          274.76,
          281.36,
          285.65,
          270.03,
          281.31,
          281.33,
          279.13,
          269.7,
          273.86,
          270.55,
          281.56,
          276.88,
          268.72,
          276.19,
          276.35,
          271.26,
          276.17,
          266.37,
          272.14,
          273.27,
          276.74,
          269.28,
          271.78,
          270.5,
          272.5,
          267.42,
          274.26,
          269.48,
          281.78,
          278.86,
          282.06,
          282.84,
          273.75,
          273.98,
          271.36,
          276.66,
          271.33,
          279.77,
          280.13,
          291.17,
          286.18,
          288.02,
          281.75,
          284.35,
          287.38,
          281.87,
          278.25,
          278.09,
          284.56,
          283.05,
          284.93,
          287.02,
          304.4,
          352.36,
          276.9,
          280.69,
          273.23,
          288.96,
          291.21,
          290.62,
          292,
          294.08,
          289.67,
          289.76,
          287.17,
          286.6,
          281.55,
          275.79,
          285.48,
          291.66,
          288.9,
          294.17,
          290.75,
          287.99,
          287.16,
          286.31,
          293.54,
          286.25,
          304.56,
          294.95,
          297.5,
          299.43,
          299.54,
          290.95,
          285.99,
          293.17,
          269.07,
          282.32,
          292.88,
          292.5,
          294.83,
          296.52,
          300.36,
          290.87,
          293.35,
          289.18,
          281.43,
          281.68,
          295.24,
          298.2,
          292.67,
          296.15,
          309.72,
          296.12,
          293.94,
          291.21,
          264.71
         ],
         "yaxis": "y4"
        },
        {
         "marker": {
          "color": "rgb(31, 119, 180)"
         },
         "showlegend": false,
         "type": "histogram",
         "x": [
          276.73,
          283.23,
          292.54,
          293.64,
          284.07,
          287.17,
          291.53,
          293.55,
          298.61,
          292.07,
          269.19,
          269.33,
          271.38,
          280.13,
          278.99,
          275.38,
          279.64,
          276.84,
          279,
          278.88,
          270.35,
          279.98,
          279.53,
          283.89,
          282.44,
          277.3,
          283.81,
          281.06,
          275.63,
          274.91,
          270.8,
          278.26,
          280.91,
          274.76,
          281.36,
          285.65,
          270.03,
          281.31,
          281.33,
          279.13,
          269.7,
          273.86,
          270.55,
          281.56,
          276.88,
          268.72,
          276.19,
          276.35,
          271.26,
          276.17,
          266.37,
          272.14,
          273.27,
          276.74,
          269.28,
          271.78,
          270.5,
          272.5,
          267.42,
          274.26,
          269.48,
          281.78,
          278.86,
          282.06,
          282.84,
          273.75,
          273.98,
          271.36,
          276.66,
          271.33,
          279.77,
          280.13,
          291.17,
          286.18,
          288.02,
          281.75,
          284.35,
          287.38,
          281.87,
          278.25,
          278.09,
          284.56,
          283.05,
          284.93,
          287.02,
          304.4,
          352.36,
          276.9,
          280.69,
          273.23,
          288.96,
          291.21,
          290.62,
          292,
          294.08,
          289.67,
          289.76,
          287.17,
          286.6,
          281.55,
          275.79,
          285.48,
          291.66,
          288.9,
          294.17,
          290.75,
          287.99,
          287.16,
          286.31,
          293.54,
          286.25,
          304.56,
          294.95,
          297.5,
          299.43,
          299.54,
          290.95,
          285.99,
          293.17,
          269.07,
          282.32,
          292.88,
          292.5,
          294.83,
          296.52,
          300.36,
          290.87,
          293.35,
          289.18,
          281.43,
          281.68,
          295.24,
          298.2,
          292.67,
          296.15,
          309.72,
          296.12,
          293.94,
          291.21,
          264.71
         ],
         "xaxis": "x5",
         "yaxis": "y5"
        },
        {
         "marker": {
          "color": "rgb(31, 119, 180)",
          "size": 6
         },
         "mode": "markers",
         "name": "binaryTrees_21_original",
         "showlegend": false,
         "text": [
          "g++-4.4",
          "g++-4.4",
          "g++-4.4",
          "g++-4.4",
          "g++-4.4",
          "g++-4.4",
          "g++-4.4",
          "g++-4.4",
          "g++-4.4",
          "g++-4.4",
          "g++-4.6",
          "g++-4.6",
          "g++-4.6",
          "g++-4.6",
          "g++-4.6",
          "g++-4.6",
          "g++-4.6",
          "g++-4.6",
          "g++-4.6",
          "g++-4.6",
          "g++-4.7",
          "g++-4.7",
          "g++-4.7",
          "g++-4.7",
          "g++-4.7",
          "g++-4.7",
          "g++-4.7",
          "g++-4.7",
          "g++-4.7",
          "g++-4.7",
          "g++-4.8",
          "g++-4.8",
          "g++-4.8",
          "g++-4.8",
          "g++-4.8",
          "g++-4.8",
          "g++-4.8",
          "g++-4.8",
          "g++-4.8",
          "g++-4.8",
          "g++-4.9",
          "g++-4.9",
          "g++-4.9",
          "g++-4.9",
          "g++-4.9",
          "g++-4.9",
          "g++-4.9",
          "g++-4.9",
          "g++-4.9",
          "g++-4.9",
          "g++-5",
          "g++-5",
          "g++-5",
          "g++-5",
          "g++-5",
          "g++-5",
          "g++-5",
          "g++-5",
          "g++-5",
          "g++-5",
          "g++-6",
          "g++-6",
          "g++-6",
          "g++-6",
          "g++-6",
          "g++-6",
          "g++-6",
          "g++-6",
          "g++-6",
          "g++-6",
          "g++-7",
          "g++-7",
          "g++-7",
          "g++-7",
          "g++-7",
          "g++-7",
          "g++-7",
          "g++-7",
          "g++-7",
          "g++-7",
          "g++-8",
          "g++-8",
          "g++-8",
          "g++-8",
          "g++-8",
          "g++-8",
          "g++-8",
          "g++-8",
          "g++-8",
          "g++-8",
          "g++-9",
          "g++-9",
          "g++-9",
          "g++-9",
          "g++-9",
          "g++-9",
          "g++-9",
          "g++-9",
          "g++-9",
          "g++-9",
          "g++-10",
          "g++-10",
          "g++-10",
          "g++-10",
          "g++-10",
          "g++-10",
          "g++-10",
          "g++-10",
          "g++-10",
          "g++-10",
          "g++-11",
          "g++-11",
          "g++-11",
          "g++-11",
          "g++-11",
          "g++-11",
          "g++-11",
          "g++-11",
          "g++-11",
          "g++-11",
          "g++-12",
          "g++-12",
          "g++-12",
          "g++-12",
          "g++-12",
          "g++-12",
          "g++-12",
          "g++-12",
          "g++-12",
          "g++-12",
          "g++-13",
          "g++-13",
          "g++-13",
          "g++-13",
          "g++-13",
          "g++-13",
          "g++-13",
          "g++-13",
          "g++-13",
          "g++-13"
         ],
         "type": "scatter",
         "x": [
          14.03,
          14,
          14.19,
          14.27,
          13.97,
          14.15,
          14.18,
          14.22,
          14.43,
          14.08,
          13.65,
          13.62,
          13.57,
          13.74,
          13.79,
          13.82,
          13.88,
          13.85,
          13.79,
          13.8,
          13.76,
          13.75,
          13.68,
          13.83,
          13.85,
          14.05,
          13.9,
          13.86,
          13.93,
          14.1,
          13.7,
          13.85,
          13.81,
          13.78,
          13.84,
          13.98,
          13.93,
          13.83,
          13.89,
          13.89,
          13.64,
          13.64,
          13.61,
          13.73,
          13.72,
          13.87,
          13.86,
          13.75,
          13.89,
          13.82,
          13.56,
          13.55,
          13.47,
          13.66,
          13.89,
          13.57,
          13.76,
          13.92,
          13.97,
          13.77,
          13.67,
          13.76,
          13.73,
          13.74,
          13.9,
          13.96,
          14.01,
          14,
          13.98,
          13.89,
          13.97,
          13.92,
          13.94,
          14.02,
          13.99,
          14.28,
          14.41,
          14.11,
          14.35,
          14.35,
          13.9,
          13.94,
          14.03,
          14.04,
          14.04,
          16.53,
          16.68,
          13.93,
          14.06,
          14.36,
          14.23,
          14.18,
          14.3,
          14.48,
          14.26,
          14.33,
          14.35,
          14.45,
          14.57,
          14.61,
          14.04,
          14.08,
          14.21,
          14.05,
          14.19,
          14.3,
          14.54,
          14.55,
          14.58,
          14.35,
          14.15,
          14.22,
          14.23,
          14.62,
          14.42,
          14.36,
          14.43,
          14.5,
          14.31,
          14.98,
          14.41,
          14.42,
          14.34,
          14.52,
          14.5,
          14.61,
          14.78,
          14.61,
          14.81,
          14.92,
          14.18,
          14.21,
          14.48,
          14.51,
          14.48,
          14.76,
          14.47,
          14.87,
          14.61,
          15.17
         ],
         "xaxis": "x6",
         "y": [
          276.73,
          283.23,
          292.54,
          293.64,
          284.07,
          287.17,
          291.53,
          293.55,
          298.61,
          292.07,
          269.19,
          269.33,
          271.38,
          280.13,
          278.99,
          275.38,
          279.64,
          276.84,
          279,
          278.88,
          270.35,
          279.98,
          279.53,
          283.89,
          282.44,
          277.3,
          283.81,
          281.06,
          275.63,
          274.91,
          270.8,
          278.26,
          280.91,
          274.76,
          281.36,
          285.65,
          270.03,
          281.31,
          281.33,
          279.13,
          269.7,
          273.86,
          270.55,
          281.56,
          276.88,
          268.72,
          276.19,
          276.35,
          271.26,
          276.17,
          266.37,
          272.14,
          273.27,
          276.74,
          269.28,
          271.78,
          270.5,
          272.5,
          267.42,
          274.26,
          269.48,
          281.78,
          278.86,
          282.06,
          282.84,
          273.75,
          273.98,
          271.36,
          276.66,
          271.33,
          279.77,
          280.13,
          291.17,
          286.18,
          288.02,
          281.75,
          284.35,
          287.38,
          281.87,
          278.25,
          278.09,
          284.56,
          283.05,
          284.93,
          287.02,
          304.4,
          352.36,
          276.9,
          280.69,
          273.23,
          288.96,
          291.21,
          290.62,
          292,
          294.08,
          289.67,
          289.76,
          287.17,
          286.6,
          281.55,
          275.79,
          285.48,
          291.66,
          288.9,
          294.17,
          290.75,
          287.99,
          287.16,
          286.31,
          293.54,
          286.25,
          304.56,
          294.95,
          297.5,
          299.43,
          299.54,
          290.95,
          285.99,
          293.17,
          269.07,
          282.32,
          292.88,
          292.5,
          294.83,
          296.52,
          300.36,
          290.87,
          293.35,
          289.18,
          281.43,
          281.68,
          295.24,
          298.2,
          292.67,
          296.15,
          309.72,
          296.12,
          293.94,
          291.21,
          264.71
         ],
         "yaxis": "y6"
        },
        {
         "marker": {
          "color": "rgb(31, 119, 180)",
          "size": 6
         },
         "mode": "markers",
         "name": "binaryTrees_21_original",
         "showlegend": false,
         "text": [
          "g++-4.4",
          "g++-4.4",
          "g++-4.4",
          "g++-4.4",
          "g++-4.4",
          "g++-4.4",
          "g++-4.4",
          "g++-4.4",
          "g++-4.4",
          "g++-4.4",
          "g++-4.6",
          "g++-4.6",
          "g++-4.6",
          "g++-4.6",
          "g++-4.6",
          "g++-4.6",
          "g++-4.6",
          "g++-4.6",
          "g++-4.6",
          "g++-4.6",
          "g++-4.7",
          "g++-4.7",
          "g++-4.7",
          "g++-4.7",
          "g++-4.7",
          "g++-4.7",
          "g++-4.7",
          "g++-4.7",
          "g++-4.7",
          "g++-4.7",
          "g++-4.8",
          "g++-4.8",
          "g++-4.8",
          "g++-4.8",
          "g++-4.8",
          "g++-4.8",
          "g++-4.8",
          "g++-4.8",
          "g++-4.8",
          "g++-4.8",
          "g++-4.9",
          "g++-4.9",
          "g++-4.9",
          "g++-4.9",
          "g++-4.9",
          "g++-4.9",
          "g++-4.9",
          "g++-4.9",
          "g++-4.9",
          "g++-4.9",
          "g++-5",
          "g++-5",
          "g++-5",
          "g++-5",
          "g++-5",
          "g++-5",
          "g++-5",
          "g++-5",
          "g++-5",
          "g++-5",
          "g++-6",
          "g++-6",
          "g++-6",
          "g++-6",
          "g++-6",
          "g++-6",
          "g++-6",
          "g++-6",
          "g++-6",
          "g++-6",
          "g++-7",
          "g++-7",
          "g++-7",
          "g++-7",
          "g++-7",
          "g++-7",
          "g++-7",
          "g++-7",
          "g++-7",
          "g++-7",
          "g++-8",
          "g++-8",
          "g++-8",
          "g++-8",
          "g++-8",
          "g++-8",
          "g++-8",
          "g++-8",
          "g++-8",
          "g++-8",
          "g++-9",
          "g++-9",
          "g++-9",
          "g++-9",
          "g++-9",
          "g++-9",
          "g++-9",
          "g++-9",
          "g++-9",
          "g++-9",
          "g++-10",
          "g++-10",
          "g++-10",
          "g++-10",
          "g++-10",
          "g++-10",
          "g++-10",
          "g++-10",
          "g++-10",
          "g++-10",
          "g++-11",
          "g++-11",
          "g++-11",
          "g++-11",
          "g++-11",
          "g++-11",
          "g++-11",
          "g++-11",
          "g++-11",
          "g++-11",
          "g++-12",
          "g++-12",
          "g++-12",
          "g++-12",
          "g++-12",
          "g++-12",
          "g++-12",
          "g++-12",
          "g++-12",
          "g++-12",
          "g++-13",
          "g++-13",
          "g++-13",
          "g++-13",
          "g++-13",
          "g++-13",
          "g++-13",
          "g++-13",
          "g++-13",
          "g++-13"
         ],
         "type": "scatter",
         "x": [
          19.012345,
          19.068004,
          19.48595,
          19.485471,
          19.006089,
          19.268487,
          19.271215,
          19.474061,
          19.79699,
          19.25266,
          18.45464,
          18.380234,
          18.344352,
          18.547231,
          18.600965,
          18.796496,
          18.774649,
          18.733993,
          18.663682,
          18.66999,
          18.649621,
          18.665314,
          18.606044,
          18.718517,
          18.707071,
          19.11845,
          18.809439,
          18.816295,
          18.996665,
          19.192968,
          18.514033,
          18.728872,
          18.711322,
          18.60818,
          18.712145,
          18.905862,
          18.936769,
          18.821412,
          18.906184,
          18.811494,
          18.395804,
          18.363616,
          18.423788,
          18.514807,
          18.471405,
          18.755247,
          18.725226,
          18.54685,
          18.778535,
          18.687344,
          18.229085,
          18.21793,
          18.185922,
          18.346837,
          18.74941,
          18.302186,
          18.64373,
          18.799245,
          18.962127,
          18.661617,
          18.535857,
          18.670766,
          18.720573,
          18.650063,
          18.777439,
          19.150556,
          19.153943,
          19.116595,
          19.00819,
          18.914761,
          18.922215,
          18.9776,
          19.019648,
          19.012149,
          19.031726,
          19.524324,
          19.767512,
          19.200118,
          19.777524,
          19.652129,
          18.895485,
          18.969705,
          19.189305,
          19.079588,
          19.061486,
          20.189262,
          20.290944,
          19.049993,
          19.125067,
          19.697991,
          19.382183,
          19.402305,
          19.529972,
          19.79632,
          19.472186,
          19.610724,
          19.73897,
          20.079884,
          20.065399,
          20.163658,
          19.198182,
          19.261238,
          19.531092,
          19.195272,
          19.40385,
          19.589156,
          20.036617,
          19.994316,
          20.031973,
          19.690765,
          19.393586,
          19.461703,
          19.533421,
          20.048278,
          19.826333,
          19.674986,
          19.769541,
          20.0185,
          19.618648,
          20.817297,
          19.594491,
          19.611646,
          19.45969,
          19.801702,
          19.731188,
          20.012951,
          20.194771,
          19.926438,
          20.195806,
          20.441522,
          19.228001,
          19.285689,
          19.812221,
          19.745607,
          19.578513,
          20.287041,
          19.587371,
          20.397967,
          19.797566,
          20.948406
         ],
         "xaxis": "x7",
         "y": [
          14.03,
          14,
          14.19,
          14.27,
          13.97,
          14.15,
          14.18,
          14.22,
          14.43,
          14.08,
          13.65,
          13.62,
          13.57,
          13.74,
          13.79,
          13.82,
          13.88,
          13.85,
          13.79,
          13.8,
          13.76,
          13.75,
          13.68,
          13.83,
          13.85,
          14.05,
          13.9,
          13.86,
          13.93,
          14.1,
          13.7,
          13.85,
          13.81,
          13.78,
          13.84,
          13.98,
          13.93,
          13.83,
          13.89,
          13.89,
          13.64,
          13.64,
          13.61,
          13.73,
          13.72,
          13.87,
          13.86,
          13.75,
          13.89,
          13.82,
          13.56,
          13.55,
          13.47,
          13.66,
          13.89,
          13.57,
          13.76,
          13.92,
          13.97,
          13.77,
          13.67,
          13.76,
          13.73,
          13.74,
          13.9,
          13.96,
          14.01,
          14,
          13.98,
          13.89,
          13.97,
          13.92,
          13.94,
          14.02,
          13.99,
          14.28,
          14.41,
          14.11,
          14.35,
          14.35,
          13.9,
          13.94,
          14.03,
          14.04,
          14.04,
          16.53,
          16.68,
          13.93,
          14.06,
          14.36,
          14.23,
          14.18,
          14.3,
          14.48,
          14.26,
          14.33,
          14.35,
          14.45,
          14.57,
          14.61,
          14.04,
          14.08,
          14.21,
          14.05,
          14.19,
          14.3,
          14.54,
          14.55,
          14.58,
          14.35,
          14.15,
          14.22,
          14.23,
          14.62,
          14.42,
          14.36,
          14.43,
          14.5,
          14.31,
          14.98,
          14.41,
          14.42,
          14.34,
          14.52,
          14.5,
          14.61,
          14.78,
          14.61,
          14.81,
          14.92,
          14.18,
          14.21,
          14.48,
          14.51,
          14.48,
          14.76,
          14.47,
          14.87,
          14.61,
          15.17
         ],
         "yaxis": "y7"
        },
        {
         "marker": {
          "color": "rgb(31, 119, 180)",
          "size": 6
         },
         "mode": "markers",
         "name": "binaryTrees_21_original",
         "showlegend": false,
         "text": [
          "g++-4.4",
          "g++-4.4",
          "g++-4.4",
          "g++-4.4",
          "g++-4.4",
          "g++-4.4",
          "g++-4.4",
          "g++-4.4",
          "g++-4.4",
          "g++-4.4",
          "g++-4.6",
          "g++-4.6",
          "g++-4.6",
          "g++-4.6",
          "g++-4.6",
          "g++-4.6",
          "g++-4.6",
          "g++-4.6",
          "g++-4.6",
          "g++-4.6",
          "g++-4.7",
          "g++-4.7",
          "g++-4.7",
          "g++-4.7",
          "g++-4.7",
          "g++-4.7",
          "g++-4.7",
          "g++-4.7",
          "g++-4.7",
          "g++-4.7",
          "g++-4.8",
          "g++-4.8",
          "g++-4.8",
          "g++-4.8",
          "g++-4.8",
          "g++-4.8",
          "g++-4.8",
          "g++-4.8",
          "g++-4.8",
          "g++-4.8",
          "g++-4.9",
          "g++-4.9",
          "g++-4.9",
          "g++-4.9",
          "g++-4.9",
          "g++-4.9",
          "g++-4.9",
          "g++-4.9",
          "g++-4.9",
          "g++-4.9",
          "g++-5",
          "g++-5",
          "g++-5",
          "g++-5",
          "g++-5",
          "g++-5",
          "g++-5",
          "g++-5",
          "g++-5",
          "g++-5",
          "g++-6",
          "g++-6",
          "g++-6",
          "g++-6",
          "g++-6",
          "g++-6",
          "g++-6",
          "g++-6",
          "g++-6",
          "g++-6",
          "g++-7",
          "g++-7",
          "g++-7",
          "g++-7",
          "g++-7",
          "g++-7",
          "g++-7",
          "g++-7",
          "g++-7",
          "g++-7",
          "g++-8",
          "g++-8",
          "g++-8",
          "g++-8",
          "g++-8",
          "g++-8",
          "g++-8",
          "g++-8",
          "g++-8",
          "g++-8",
          "g++-9",
          "g++-9",
          "g++-9",
          "g++-9",
          "g++-9",
          "g++-9",
          "g++-9",
          "g++-9",
          "g++-9",
          "g++-9",
          "g++-10",
          "g++-10",
          "g++-10",
          "g++-10",
          "g++-10",
          "g++-10",
          "g++-10",
          "g++-10",
          "g++-10",
          "g++-10",
          "g++-11",
          "g++-11",
          "g++-11",
          "g++-11",
          "g++-11",
          "g++-11",
          "g++-11",
          "g++-11",
          "g++-11",
          "g++-11",
          "g++-12",
          "g++-12",
          "g++-12",
          "g++-12",
          "g++-12",
          "g++-12",
          "g++-12",
          "g++-12",
          "g++-12",
          "g++-12",
          "g++-13",
          "g++-13",
          "g++-13",
          "g++-13",
          "g++-13",
          "g++-13",
          "g++-13",
          "g++-13",
          "g++-13",
          "g++-13"
         ],
         "type": "scatter",
         "x": [
          276.73,
          283.23,
          292.54,
          293.64,
          284.07,
          287.17,
          291.53,
          293.55,
          298.61,
          292.07,
          269.19,
          269.33,
          271.38,
          280.13,
          278.99,
          275.38,
          279.64,
          276.84,
          279,
          278.88,
          270.35,
          279.98,
          279.53,
          283.89,
          282.44,
          277.3,
          283.81,
          281.06,
          275.63,
          274.91,
          270.8,
          278.26,
          280.91,
          274.76,
          281.36,
          285.65,
          270.03,
          281.31,
          281.33,
          279.13,
          269.7,
          273.86,
          270.55,
          281.56,
          276.88,
          268.72,
          276.19,
          276.35,
          271.26,
          276.17,
          266.37,
          272.14,
          273.27,
          276.74,
          269.28,
          271.78,
          270.5,
          272.5,
          267.42,
          274.26,
          269.48,
          281.78,
          278.86,
          282.06,
          282.84,
          273.75,
          273.98,
          271.36,
          276.66,
          271.33,
          279.77,
          280.13,
          291.17,
          286.18,
          288.02,
          281.75,
          284.35,
          287.38,
          281.87,
          278.25,
          278.09,
          284.56,
          283.05,
          284.93,
          287.02,
          304.4,
          352.36,
          276.9,
          280.69,
          273.23,
          288.96,
          291.21,
          290.62,
          292,
          294.08,
          289.67,
          289.76,
          287.17,
          286.6,
          281.55,
          275.79,
          285.48,
          291.66,
          288.9,
          294.17,
          290.75,
          287.99,
          287.16,
          286.31,
          293.54,
          286.25,
          304.56,
          294.95,
          297.5,
          299.43,
          299.54,
          290.95,
          285.99,
          293.17,
          269.07,
          282.32,
          292.88,
          292.5,
          294.83,
          296.52,
          300.36,
          290.87,
          293.35,
          289.18,
          281.43,
          281.68,
          295.24,
          298.2,
          292.67,
          296.15,
          309.72,
          296.12,
          293.94,
          291.21,
          264.71
         ],
         "xaxis": "x8",
         "y": [
          14.03,
          14,
          14.19,
          14.27,
          13.97,
          14.15,
          14.18,
          14.22,
          14.43,
          14.08,
          13.65,
          13.62,
          13.57,
          13.74,
          13.79,
          13.82,
          13.88,
          13.85,
          13.79,
          13.8,
          13.76,
          13.75,
          13.68,
          13.83,
          13.85,
          14.05,
          13.9,
          13.86,
          13.93,
          14.1,
          13.7,
          13.85,
          13.81,
          13.78,
          13.84,
          13.98,
          13.93,
          13.83,
          13.89,
          13.89,
          13.64,
          13.64,
          13.61,
          13.73,
          13.72,
          13.87,
          13.86,
          13.75,
          13.89,
          13.82,
          13.56,
          13.55,
          13.47,
          13.66,
          13.89,
          13.57,
          13.76,
          13.92,
          13.97,
          13.77,
          13.67,
          13.76,
          13.73,
          13.74,
          13.9,
          13.96,
          14.01,
          14,
          13.98,
          13.89,
          13.97,
          13.92,
          13.94,
          14.02,
          13.99,
          14.28,
          14.41,
          14.11,
          14.35,
          14.35,
          13.9,
          13.94,
          14.03,
          14.04,
          14.04,
          16.53,
          16.68,
          13.93,
          14.06,
          14.36,
          14.23,
          14.18,
          14.3,
          14.48,
          14.26,
          14.33,
          14.35,
          14.45,
          14.57,
          14.61,
          14.04,
          14.08,
          14.21,
          14.05,
          14.19,
          14.3,
          14.54,
          14.55,
          14.58,
          14.35,
          14.15,
          14.22,
          14.23,
          14.62,
          14.42,
          14.36,
          14.43,
          14.5,
          14.31,
          14.98,
          14.41,
          14.42,
          14.34,
          14.52,
          14.5,
          14.61,
          14.78,
          14.61,
          14.81,
          14.92,
          14.18,
          14.21,
          14.48,
          14.51,
          14.48,
          14.76,
          14.47,
          14.87,
          14.61,
          15.17
         ],
         "yaxis": "y8"
        },
        {
         "marker": {
          "color": "rgb(31, 119, 180)"
         },
         "showlegend": false,
         "type": "histogram",
         "x": [
          14.03,
          14,
          14.19,
          14.27,
          13.97,
          14.15,
          14.18,
          14.22,
          14.43,
          14.08,
          13.65,
          13.62,
          13.57,
          13.74,
          13.79,
          13.82,
          13.88,
          13.85,
          13.79,
          13.8,
          13.76,
          13.75,
          13.68,
          13.83,
          13.85,
          14.05,
          13.9,
          13.86,
          13.93,
          14.1,
          13.7,
          13.85,
          13.81,
          13.78,
          13.84,
          13.98,
          13.93,
          13.83,
          13.89,
          13.89,
          13.64,
          13.64,
          13.61,
          13.73,
          13.72,
          13.87,
          13.86,
          13.75,
          13.89,
          13.82,
          13.56,
          13.55,
          13.47,
          13.66,
          13.89,
          13.57,
          13.76,
          13.92,
          13.97,
          13.77,
          13.67,
          13.76,
          13.73,
          13.74,
          13.9,
          13.96,
          14.01,
          14,
          13.98,
          13.89,
          13.97,
          13.92,
          13.94,
          14.02,
          13.99,
          14.28,
          14.41,
          14.11,
          14.35,
          14.35,
          13.9,
          13.94,
          14.03,
          14.04,
          14.04,
          16.53,
          16.68,
          13.93,
          14.06,
          14.36,
          14.23,
          14.18,
          14.3,
          14.48,
          14.26,
          14.33,
          14.35,
          14.45,
          14.57,
          14.61,
          14.04,
          14.08,
          14.21,
          14.05,
          14.19,
          14.3,
          14.54,
          14.55,
          14.58,
          14.35,
          14.15,
          14.22,
          14.23,
          14.62,
          14.42,
          14.36,
          14.43,
          14.5,
          14.31,
          14.98,
          14.41,
          14.42,
          14.34,
          14.52,
          14.5,
          14.61,
          14.78,
          14.61,
          14.81,
          14.92,
          14.18,
          14.21,
          14.48,
          14.51,
          14.48,
          14.76,
          14.47,
          14.87,
          14.61,
          15.17
         ],
         "xaxis": "x9",
         "yaxis": "y9"
        }
       ],
       "layout": {
        "barmode": "stack",
        "height": 1000,
        "showlegend": true,
        "template": {
         "data": {
          "bar": [
           {
            "error_x": {
             "color": "#2a3f5f"
            },
            "error_y": {
             "color": "#2a3f5f"
            },
            "marker": {
             "line": {
              "color": "#E5ECF6",
              "width": 0.5
             },
             "pattern": {
              "fillmode": "overlay",
              "size": 10,
              "solidity": 0.2
             }
            },
            "type": "bar"
           }
          ],
          "barpolar": [
           {
            "marker": {
             "line": {
              "color": "#E5ECF6",
              "width": 0.5
             },
             "pattern": {
              "fillmode": "overlay",
              "size": 10,
              "solidity": 0.2
             }
            },
            "type": "barpolar"
           }
          ],
          "carpet": [
           {
            "aaxis": {
             "endlinecolor": "#2a3f5f",
             "gridcolor": "white",
             "linecolor": "white",
             "minorgridcolor": "white",
             "startlinecolor": "#2a3f5f"
            },
            "baxis": {
             "endlinecolor": "#2a3f5f",
             "gridcolor": "white",
             "linecolor": "white",
             "minorgridcolor": "white",
             "startlinecolor": "#2a3f5f"
            },
            "type": "carpet"
           }
          ],
          "choropleth": [
           {
            "colorbar": {
             "outlinewidth": 0,
             "ticks": ""
            },
            "type": "choropleth"
           }
          ],
          "contour": [
           {
            "colorbar": {
             "outlinewidth": 0,
             "ticks": ""
            },
            "colorscale": [
             [
              0,
              "#0d0887"
             ],
             [
              0.1111111111111111,
              "#46039f"
             ],
             [
              0.2222222222222222,
              "#7201a8"
             ],
             [
              0.3333333333333333,
              "#9c179e"
             ],
             [
              0.4444444444444444,
              "#bd3786"
             ],
             [
              0.5555555555555556,
              "#d8576b"
             ],
             [
              0.6666666666666666,
              "#ed7953"
             ],
             [
              0.7777777777777778,
              "#fb9f3a"
             ],
             [
              0.8888888888888888,
              "#fdca26"
             ],
             [
              1,
              "#f0f921"
             ]
            ],
            "type": "contour"
           }
          ],
          "contourcarpet": [
           {
            "colorbar": {
             "outlinewidth": 0,
             "ticks": ""
            },
            "type": "contourcarpet"
           }
          ],
          "heatmap": [
           {
            "colorbar": {
             "outlinewidth": 0,
             "ticks": ""
            },
            "colorscale": [
             [
              0,
              "#0d0887"
             ],
             [
              0.1111111111111111,
              "#46039f"
             ],
             [
              0.2222222222222222,
              "#7201a8"
             ],
             [
              0.3333333333333333,
              "#9c179e"
             ],
             [
              0.4444444444444444,
              "#bd3786"
             ],
             [
              0.5555555555555556,
              "#d8576b"
             ],
             [
              0.6666666666666666,
              "#ed7953"
             ],
             [
              0.7777777777777778,
              "#fb9f3a"
             ],
             [
              0.8888888888888888,
              "#fdca26"
             ],
             [
              1,
              "#f0f921"
             ]
            ],
            "type": "heatmap"
           }
          ],
          "heatmapgl": [
           {
            "colorbar": {
             "outlinewidth": 0,
             "ticks": ""
            },
            "colorscale": [
             [
              0,
              "#0d0887"
             ],
             [
              0.1111111111111111,
              "#46039f"
             ],
             [
              0.2222222222222222,
              "#7201a8"
             ],
             [
              0.3333333333333333,
              "#9c179e"
             ],
             [
              0.4444444444444444,
              "#bd3786"
             ],
             [
              0.5555555555555556,
              "#d8576b"
             ],
             [
              0.6666666666666666,
              "#ed7953"
             ],
             [
              0.7777777777777778,
              "#fb9f3a"
             ],
             [
              0.8888888888888888,
              "#fdca26"
             ],
             [
              1,
              "#f0f921"
             ]
            ],
            "type": "heatmapgl"
           }
          ],
          "histogram": [
           {
            "marker": {
             "pattern": {
              "fillmode": "overlay",
              "size": 10,
              "solidity": 0.2
             }
            },
            "type": "histogram"
           }
          ],
          "histogram2d": [
           {
            "colorbar": {
             "outlinewidth": 0,
             "ticks": ""
            },
            "colorscale": [
             [
              0,
              "#0d0887"
             ],
             [
              0.1111111111111111,
              "#46039f"
             ],
             [
              0.2222222222222222,
              "#7201a8"
             ],
             [
              0.3333333333333333,
              "#9c179e"
             ],
             [
              0.4444444444444444,
              "#bd3786"
             ],
             [
              0.5555555555555556,
              "#d8576b"
             ],
             [
              0.6666666666666666,
              "#ed7953"
             ],
             [
              0.7777777777777778,
              "#fb9f3a"
             ],
             [
              0.8888888888888888,
              "#fdca26"
             ],
             [
              1,
              "#f0f921"
             ]
            ],
            "type": "histogram2d"
           }
          ],
          "histogram2dcontour": [
           {
            "colorbar": {
             "outlinewidth": 0,
             "ticks": ""
            },
            "colorscale": [
             [
              0,
              "#0d0887"
             ],
             [
              0.1111111111111111,
              "#46039f"
             ],
             [
              0.2222222222222222,
              "#7201a8"
             ],
             [
              0.3333333333333333,
              "#9c179e"
             ],
             [
              0.4444444444444444,
              "#bd3786"
             ],
             [
              0.5555555555555556,
              "#d8576b"
             ],
             [
              0.6666666666666666,
              "#ed7953"
             ],
             [
              0.7777777777777778,
              "#fb9f3a"
             ],
             [
              0.8888888888888888,
              "#fdca26"
             ],
             [
              1,
              "#f0f921"
             ]
            ],
            "type": "histogram2dcontour"
           }
          ],
          "mesh3d": [
           {
            "colorbar": {
             "outlinewidth": 0,
             "ticks": ""
            },
            "type": "mesh3d"
           }
          ],
          "parcoords": [
           {
            "line": {
             "colorbar": {
              "outlinewidth": 0,
              "ticks": ""
             }
            },
            "type": "parcoords"
           }
          ],
          "pie": [
           {
            "automargin": true,
            "type": "pie"
           }
          ],
          "scatter": [
           {
            "fillpattern": {
             "fillmode": "overlay",
             "size": 10,
             "solidity": 0.2
            },
            "type": "scatter"
           }
          ],
          "scatter3d": [
           {
            "line": {
             "colorbar": {
              "outlinewidth": 0,
              "ticks": ""
             }
            },
            "marker": {
             "colorbar": {
              "outlinewidth": 0,
              "ticks": ""
             }
            },
            "type": "scatter3d"
           }
          ],
          "scattercarpet": [
           {
            "marker": {
             "colorbar": {
              "outlinewidth": 0,
              "ticks": ""
             }
            },
            "type": "scattercarpet"
           }
          ],
          "scattergeo": [
           {
            "marker": {
             "colorbar": {
              "outlinewidth": 0,
              "ticks": ""
             }
            },
            "type": "scattergeo"
           }
          ],
          "scattergl": [
           {
            "marker": {
             "colorbar": {
              "outlinewidth": 0,
              "ticks": ""
             }
            },
            "type": "scattergl"
           }
          ],
          "scattermapbox": [
           {
            "marker": {
             "colorbar": {
              "outlinewidth": 0,
              "ticks": ""
             }
            },
            "type": "scattermapbox"
           }
          ],
          "scatterpolar": [
           {
            "marker": {
             "colorbar": {
              "outlinewidth": 0,
              "ticks": ""
             }
            },
            "type": "scatterpolar"
           }
          ],
          "scatterpolargl": [
           {
            "marker": {
             "colorbar": {
              "outlinewidth": 0,
              "ticks": ""
             }
            },
            "type": "scatterpolargl"
           }
          ],
          "scatterternary": [
           {
            "marker": {
             "colorbar": {
              "outlinewidth": 0,
              "ticks": ""
             }
            },
            "type": "scatterternary"
           }
          ],
          "surface": [
           {
            "colorbar": {
             "outlinewidth": 0,
             "ticks": ""
            },
            "colorscale": [
             [
              0,
              "#0d0887"
             ],
             [
              0.1111111111111111,
              "#46039f"
             ],
             [
              0.2222222222222222,
              "#7201a8"
             ],
             [
              0.3333333333333333,
              "#9c179e"
             ],
             [
              0.4444444444444444,
              "#bd3786"
             ],
             [
              0.5555555555555556,
              "#d8576b"
             ],
             [
              0.6666666666666666,
              "#ed7953"
             ],
             [
              0.7777777777777778,
              "#fb9f3a"
             ],
             [
              0.8888888888888888,
              "#fdca26"
             ],
             [
              1,
              "#f0f921"
             ]
            ],
            "type": "surface"
           }
          ],
          "table": [
           {
            "cells": {
             "fill": {
              "color": "#EBF0F8"
             },
             "line": {
              "color": "white"
             }
            },
            "header": {
             "fill": {
              "color": "#C8D4E3"
             },
             "line": {
              "color": "white"
             }
            },
            "type": "table"
           }
          ]
         },
         "layout": {
          "annotationdefaults": {
           "arrowcolor": "#2a3f5f",
           "arrowhead": 0,
           "arrowwidth": 1
          },
          "autotypenumbers": "strict",
          "coloraxis": {
           "colorbar": {
            "outlinewidth": 0,
            "ticks": ""
           }
          },
          "colorscale": {
           "diverging": [
            [
             0,
             "#8e0152"
            ],
            [
             0.1,
             "#c51b7d"
            ],
            [
             0.2,
             "#de77ae"
            ],
            [
             0.3,
             "#f1b6da"
            ],
            [
             0.4,
             "#fde0ef"
            ],
            [
             0.5,
             "#f7f7f7"
            ],
            [
             0.6,
             "#e6f5d0"
            ],
            [
             0.7,
             "#b8e186"
            ],
            [
             0.8,
             "#7fbc41"
            ],
            [
             0.9,
             "#4d9221"
            ],
            [
             1,
             "#276419"
            ]
           ],
           "sequential": [
            [
             0,
             "#0d0887"
            ],
            [
             0.1111111111111111,
             "#46039f"
            ],
            [
             0.2222222222222222,
             "#7201a8"
            ],
            [
             0.3333333333333333,
             "#9c179e"
            ],
            [
             0.4444444444444444,
             "#bd3786"
            ],
            [
             0.5555555555555556,
             "#d8576b"
            ],
            [
             0.6666666666666666,
             "#ed7953"
            ],
            [
             0.7777777777777778,
             "#fb9f3a"
            ],
            [
             0.8888888888888888,
             "#fdca26"
            ],
            [
             1,
             "#f0f921"
            ]
           ],
           "sequentialminus": [
            [
             0,
             "#0d0887"
            ],
            [
             0.1111111111111111,
             "#46039f"
            ],
            [
             0.2222222222222222,
             "#7201a8"
            ],
            [
             0.3333333333333333,
             "#9c179e"
            ],
            [
             0.4444444444444444,
             "#bd3786"
            ],
            [
             0.5555555555555556,
             "#d8576b"
            ],
            [
             0.6666666666666666,
             "#ed7953"
            ],
            [
             0.7777777777777778,
             "#fb9f3a"
            ],
            [
             0.8888888888888888,
             "#fdca26"
            ],
            [
             1,
             "#f0f921"
            ]
           ]
          },
          "colorway": [
           "#636efa",
           "#EF553B",
           "#00cc96",
           "#ab63fa",
           "#FFA15A",
           "#19d3f3",
           "#FF6692",
           "#B6E880",
           "#FF97FF",
           "#FECB52"
          ],
          "font": {
           "color": "#2a3f5f"
          },
          "geo": {
           "bgcolor": "white",
           "lakecolor": "white",
           "landcolor": "#E5ECF6",
           "showlakes": true,
           "showland": true,
           "subunitcolor": "white"
          },
          "hoverlabel": {
           "align": "left"
          },
          "hovermode": "closest",
          "mapbox": {
           "style": "light"
          },
          "paper_bgcolor": "white",
          "plot_bgcolor": "#E5ECF6",
          "polar": {
           "angularaxis": {
            "gridcolor": "white",
            "linecolor": "white",
            "ticks": ""
           },
           "bgcolor": "#E5ECF6",
           "radialaxis": {
            "gridcolor": "white",
            "linecolor": "white",
            "ticks": ""
           }
          },
          "scene": {
           "xaxis": {
            "backgroundcolor": "#E5ECF6",
            "gridcolor": "white",
            "gridwidth": 2,
            "linecolor": "white",
            "showbackground": true,
            "ticks": "",
            "zerolinecolor": "white"
           },
           "yaxis": {
            "backgroundcolor": "#E5ECF6",
            "gridcolor": "white",
            "gridwidth": 2,
            "linecolor": "white",
            "showbackground": true,
            "ticks": "",
            "zerolinecolor": "white"
           },
           "zaxis": {
            "backgroundcolor": "#E5ECF6",
            "gridcolor": "white",
            "gridwidth": 2,
            "linecolor": "white",
            "showbackground": true,
            "ticks": "",
            "zerolinecolor": "white"
           }
          },
          "shapedefaults": {
           "line": {
            "color": "#2a3f5f"
           }
          },
          "ternary": {
           "aaxis": {
            "gridcolor": "white",
            "linecolor": "white",
            "ticks": ""
           },
           "baxis": {
            "gridcolor": "white",
            "linecolor": "white",
            "ticks": ""
           },
           "bgcolor": "#E5ECF6",
           "caxis": {
            "gridcolor": "white",
            "linecolor": "white",
            "ticks": ""
           }
          },
          "title": {
           "x": 0.05
          },
          "xaxis": {
           "automargin": true,
           "gridcolor": "white",
           "linecolor": "white",
           "ticks": "",
           "title": {
            "standoff": 15
           },
           "zerolinecolor": "white",
           "zerolinewidth": 2
          },
          "yaxis": {
           "automargin": true,
           "gridcolor": "white",
           "linecolor": "white",
           "ticks": "",
           "title": {
            "standoff": 15
           },
           "zerolinecolor": "white",
           "zerolinewidth": 2
          }
         }
        },
        "title": {
         "text": "Scatterplot Matrix"
        },
        "width": 1000,
        "xaxis": {
         "anchor": "y",
         "domain": [
          0,
          0.2888888888888889
         ]
        },
        "xaxis2": {
         "anchor": "y2",
         "domain": [
          0.35555555555555557,
          0.6444444444444445
         ]
        },
        "xaxis3": {
         "anchor": "y3",
         "domain": [
          0.7111111111111111,
          1
         ]
        },
        "xaxis4": {
         "anchor": "y4",
         "domain": [
          0,
          0.2888888888888889
         ]
        },
        "xaxis5": {
         "anchor": "y5",
         "domain": [
          0.35555555555555557,
          0.6444444444444445
         ]
        },
        "xaxis6": {
         "anchor": "y6",
         "domain": [
          0.7111111111111111,
          1
         ]
        },
        "xaxis7": {
         "anchor": "y7",
         "domain": [
          0,
          0.2888888888888889
         ],
         "title": {
          "text": "time_elapsed"
         }
        },
        "xaxis8": {
         "anchor": "y8",
         "domain": [
          0.35555555555555557,
          0.6444444444444445
         ],
         "title": {
          "text": "Pkg_J"
         }
        },
        "xaxis9": {
         "anchor": "y9",
         "domain": [
          0.7111111111111111,
          1
         ],
         "title": {
          "text": "RAM_J"
         }
        },
        "yaxis": {
         "anchor": "x",
         "domain": [
          0.7333333333333333,
          1
         ],
         "title": {
          "text": "time_elapsed"
         }
        },
        "yaxis2": {
         "anchor": "x2",
         "domain": [
          0.7333333333333333,
          1
         ]
        },
        "yaxis3": {
         "anchor": "x3",
         "domain": [
          0.7333333333333333,
          1
         ]
        },
        "yaxis4": {
         "anchor": "x4",
         "domain": [
          0.36666666666666664,
          0.6333333333333333
         ],
         "title": {
          "text": "Pkg_J"
         }
        },
        "yaxis5": {
         "anchor": "x5",
         "domain": [
          0.36666666666666664,
          0.6333333333333333
         ]
        },
        "yaxis6": {
         "anchor": "x6",
         "domain": [
          0.36666666666666664,
          0.6333333333333333
         ]
        },
        "yaxis7": {
         "anchor": "x7",
         "domain": [
          0,
          0.26666666666666666
         ],
         "title": {
          "text": "RAM_J"
         }
        },
        "yaxis8": {
         "anchor": "x8",
         "domain": [
          0,
          0.26666666666666666
         ]
        },
        "yaxis9": {
         "anchor": "x9",
         "domain": [
          0,
          0.26666666666666666
         ]
        }
       }
      }
     },
     "metadata": {},
     "output_type": "display_data"
    }
   ],
   "source": [
    "fig = ff.create_scatterplotmatrix(df[['time_elapsed', 'Pkg_J', 'RAM_J', 'path']], \n",
    "                                  height=1000,\n",
    "                                  width=1000,\n",
    "                                  diag='histogram',\n",
    "                                  text=df['version'],\n",
    "                                  index='path')\n",
    "fig.show()"
   ]
  },
  {
   "cell_type": "code",
   "execution_count": 51,
   "metadata": {},
   "outputs": [
    {
     "data": {
      "text/html": [
       "<div>\n",
       "<style scoped>\n",
       "    .dataframe tbody tr th:only-of-type {\n",
       "        vertical-align: middle;\n",
       "    }\n",
       "\n",
       "    .dataframe tbody tr th {\n",
       "        vertical-align: top;\n",
       "    }\n",
       "\n",
       "    .dataframe thead th {\n",
       "        text-align: right;\n",
       "    }\n",
       "</style>\n",
       "<table border=\"1\" class=\"dataframe\">\n",
       "  <thead>\n",
       "    <tr style=\"text-align: right;\">\n",
       "      <th></th>\n",
       "      <th>Avg_MHz</th>\n",
       "      <th>Busy%</th>\n",
       "      <th>IPC</th>\n",
       "      <th>IRQ</th>\n",
       "      <th>POLL</th>\n",
       "      <th>C1%</th>\n",
       "      <th>C1E%</th>\n",
       "      <th>C3%</th>\n",
       "      <th>C6%</th>\n",
       "      <th>C7s%</th>\n",
       "      <th>...</th>\n",
       "      <th>CPU%c7</th>\n",
       "      <th>CoreTmp</th>\n",
       "      <th>PkgTmp</th>\n",
       "      <th>GFX%rc6</th>\n",
       "      <th>GFXMHz</th>\n",
       "      <th>GFXAMHz</th>\n",
       "      <th>Totl%C0</th>\n",
       "      <th>Any%C0</th>\n",
       "      <th>GFX%C0</th>\n",
       "      <th>CPUGFX%</th>\n",
       "    </tr>\n",
       "  </thead>\n",
       "  <tbody>\n",
       "    <tr>\n",
       "      <th>Avg_MHz</th>\n",
       "      <td>1.000000</td>\n",
       "      <td>0.949295</td>\n",
       "      <td>-0.639685</td>\n",
       "      <td>0.127118</td>\n",
       "      <td>0.664125</td>\n",
       "      <td>0.843616</td>\n",
       "      <td>0.896732</td>\n",
       "      <td>0.863040</td>\n",
       "      <td>0.562058</td>\n",
       "      <td>0.297209</td>\n",
       "      <td>...</td>\n",
       "      <td>-0.854500</td>\n",
       "      <td>-0.081253</td>\n",
       "      <td>-0.066351</td>\n",
       "      <td>0.214902</td>\n",
       "      <td>-0.068422</td>\n",
       "      <td>NaN</td>\n",
       "      <td>0.943248</td>\n",
       "      <td>0.135033</td>\n",
       "      <td>-0.004125</td>\n",
       "      <td>0.011713</td>\n",
       "    </tr>\n",
       "    <tr>\n",
       "      <th>Busy%</th>\n",
       "      <td>0.949295</td>\n",
       "      <td>1.000000</td>\n",
       "      <td>-0.649045</td>\n",
       "      <td>0.275152</td>\n",
       "      <td>0.656393</td>\n",
       "      <td>0.909427</td>\n",
       "      <td>0.923712</td>\n",
       "      <td>0.891452</td>\n",
       "      <td>0.663989</td>\n",
       "      <td>0.279340</td>\n",
       "      <td>...</td>\n",
       "      <td>-0.946757</td>\n",
       "      <td>0.082701</td>\n",
       "      <td>0.101449</td>\n",
       "      <td>0.227728</td>\n",
       "      <td>-0.025784</td>\n",
       "      <td>NaN</td>\n",
       "      <td>0.998492</td>\n",
       "      <td>-0.016913</td>\n",
       "      <td>-0.055614</td>\n",
       "      <td>-0.043858</td>\n",
       "    </tr>\n",
       "    <tr>\n",
       "      <th>IPC</th>\n",
       "      <td>-0.639685</td>\n",
       "      <td>-0.649045</td>\n",
       "      <td>1.000000</td>\n",
       "      <td>-0.301365</td>\n",
       "      <td>-0.530760</td>\n",
       "      <td>-0.634232</td>\n",
       "      <td>-0.563347</td>\n",
       "      <td>-0.531579</td>\n",
       "      <td>-0.442463</td>\n",
       "      <td>-0.222202</td>\n",
       "      <td>...</td>\n",
       "      <td>0.633362</td>\n",
       "      <td>-0.127857</td>\n",
       "      <td>-0.151094</td>\n",
       "      <td>-0.190811</td>\n",
       "      <td>-0.069360</td>\n",
       "      <td>NaN</td>\n",
       "      <td>-0.645058</td>\n",
       "      <td>0.102184</td>\n",
       "      <td>0.240681</td>\n",
       "      <td>0.251673</td>\n",
       "    </tr>\n",
       "    <tr>\n",
       "      <th>IRQ</th>\n",
       "      <td>0.127118</td>\n",
       "      <td>0.275152</td>\n",
       "      <td>-0.301365</td>\n",
       "      <td>1.000000</td>\n",
       "      <td>0.182587</td>\n",
       "      <td>0.230824</td>\n",
       "      <td>0.279776</td>\n",
       "      <td>0.359766</td>\n",
       "      <td>0.795369</td>\n",
       "      <td>0.070062</td>\n",
       "      <td>...</td>\n",
       "      <td>-0.555162</td>\n",
       "      <td>0.479205</td>\n",
       "      <td>0.536046</td>\n",
       "      <td>0.100105</td>\n",
       "      <td>-0.027448</td>\n",
       "      <td>NaN</td>\n",
       "      <td>0.291727</td>\n",
       "      <td>-0.943534</td>\n",
       "      <td>-0.093802</td>\n",
       "      <td>-0.147461</td>\n",
       "    </tr>\n",
       "    <tr>\n",
       "      <th>POLL</th>\n",
       "      <td>0.664125</td>\n",
       "      <td>0.656393</td>\n",
       "      <td>-0.530760</td>\n",
       "      <td>0.182587</td>\n",
       "      <td>1.000000</td>\n",
       "      <td>0.570681</td>\n",
       "      <td>0.681866</td>\n",
       "      <td>0.649342</td>\n",
       "      <td>0.509147</td>\n",
       "      <td>0.449100</td>\n",
       "      <td>...</td>\n",
       "      <td>-0.628899</td>\n",
       "      <td>0.015621</td>\n",
       "      <td>0.049007</td>\n",
       "      <td>0.213706</td>\n",
       "      <td>-0.032209</td>\n",
       "      <td>NaN</td>\n",
       "      <td>0.651839</td>\n",
       "      <td>0.009984</td>\n",
       "      <td>-0.095825</td>\n",
       "      <td>-0.098435</td>\n",
       "    </tr>\n",
       "    <tr>\n",
       "      <th>C1%</th>\n",
       "      <td>0.843616</td>\n",
       "      <td>0.909427</td>\n",
       "      <td>-0.634232</td>\n",
       "      <td>0.230824</td>\n",
       "      <td>0.570681</td>\n",
       "      <td>1.000000</td>\n",
       "      <td>0.790677</td>\n",
       "      <td>0.717365</td>\n",
       "      <td>0.509290</td>\n",
       "      <td>0.182891</td>\n",
       "      <td>...</td>\n",
       "      <td>-0.858664</td>\n",
       "      <td>0.018379</td>\n",
       "      <td>0.031918</td>\n",
       "      <td>0.306434</td>\n",
       "      <td>-0.027028</td>\n",
       "      <td>NaN</td>\n",
       "      <td>0.909934</td>\n",
       "      <td>-0.019958</td>\n",
       "      <td>-0.170989</td>\n",
       "      <td>-0.154625</td>\n",
       "    </tr>\n",
       "    <tr>\n",
       "      <th>C1E%</th>\n",
       "      <td>0.896732</td>\n",
       "      <td>0.923712</td>\n",
       "      <td>-0.563347</td>\n",
       "      <td>0.279776</td>\n",
       "      <td>0.681866</td>\n",
       "      <td>0.790677</td>\n",
       "      <td>1.000000</td>\n",
       "      <td>0.933318</td>\n",
       "      <td>0.687771</td>\n",
       "      <td>0.305797</td>\n",
       "      <td>...</td>\n",
       "      <td>-0.895891</td>\n",
       "      <td>0.066967</td>\n",
       "      <td>0.088624</td>\n",
       "      <td>0.236198</td>\n",
       "      <td>-0.025132</td>\n",
       "      <td>NaN</td>\n",
       "      <td>0.921857</td>\n",
       "      <td>-0.025989</td>\n",
       "      <td>-0.047873</td>\n",
       "      <td>-0.041727</td>\n",
       "    </tr>\n",
       "    <tr>\n",
       "      <th>C3%</th>\n",
       "      <td>0.863040</td>\n",
       "      <td>0.891452</td>\n",
       "      <td>-0.531579</td>\n",
       "      <td>0.359766</td>\n",
       "      <td>0.649342</td>\n",
       "      <td>0.717365</td>\n",
       "      <td>0.933318</td>\n",
       "      <td>1.000000</td>\n",
       "      <td>0.752257</td>\n",
       "      <td>0.317717</td>\n",
       "      <td>...</td>\n",
       "      <td>-0.884374</td>\n",
       "      <td>0.134988</td>\n",
       "      <td>0.163151</td>\n",
       "      <td>0.172945</td>\n",
       "      <td>-0.042543</td>\n",
       "      <td>NaN</td>\n",
       "      <td>0.887375</td>\n",
       "      <td>-0.095814</td>\n",
       "      <td>-0.005547</td>\n",
       "      <td>0.002550</td>\n",
       "    </tr>\n",
       "    <tr>\n",
       "      <th>C6%</th>\n",
       "      <td>0.562058</td>\n",
       "      <td>0.663989</td>\n",
       "      <td>-0.442463</td>\n",
       "      <td>0.795369</td>\n",
       "      <td>0.509147</td>\n",
       "      <td>0.509290</td>\n",
       "      <td>0.687771</td>\n",
       "      <td>0.752257</td>\n",
       "      <td>1.000000</td>\n",
       "      <td>0.239579</td>\n",
       "      <td>...</td>\n",
       "      <td>-0.841668</td>\n",
       "      <td>0.340964</td>\n",
       "      <td>0.395172</td>\n",
       "      <td>0.136172</td>\n",
       "      <td>-0.073616</td>\n",
       "      <td>NaN</td>\n",
       "      <td>0.671625</td>\n",
       "      <td>-0.629711</td>\n",
       "      <td>0.012703</td>\n",
       "      <td>-0.022963</td>\n",
       "    </tr>\n",
       "    <tr>\n",
       "      <th>C7s%</th>\n",
       "      <td>0.297209</td>\n",
       "      <td>0.279340</td>\n",
       "      <td>-0.222202</td>\n",
       "      <td>0.070062</td>\n",
       "      <td>0.449100</td>\n",
       "      <td>0.182891</td>\n",
       "      <td>0.305797</td>\n",
       "      <td>0.317717</td>\n",
       "      <td>0.239579</td>\n",
       "      <td>1.000000</td>\n",
       "      <td>...</td>\n",
       "      <td>-0.264949</td>\n",
       "      <td>-0.024045</td>\n",
       "      <td>-0.011224</td>\n",
       "      <td>0.139709</td>\n",
       "      <td>-0.050443</td>\n",
       "      <td>NaN</td>\n",
       "      <td>0.276290</td>\n",
       "      <td>0.015901</td>\n",
       "      <td>-0.042598</td>\n",
       "      <td>-0.041842</td>\n",
       "    </tr>\n",
       "    <tr>\n",
       "      <th>C8%</th>\n",
       "      <td>0.313326</td>\n",
       "      <td>0.471300</td>\n",
       "      <td>-0.336851</td>\n",
       "      <td>0.879418</td>\n",
       "      <td>0.346791</td>\n",
       "      <td>0.420253</td>\n",
       "      <td>0.478604</td>\n",
       "      <td>0.521689</td>\n",
       "      <td>0.834892</td>\n",
       "      <td>0.076169</td>\n",
       "      <td>...</td>\n",
       "      <td>-0.691231</td>\n",
       "      <td>0.437115</td>\n",
       "      <td>0.483482</td>\n",
       "      <td>0.079124</td>\n",
       "      <td>-0.097888</td>\n",
       "      <td>NaN</td>\n",
       "      <td>0.482676</td>\n",
       "      <td>-0.779695</td>\n",
       "      <td>0.020914</td>\n",
       "      <td>-0.018328</td>\n",
       "    </tr>\n",
       "    <tr>\n",
       "      <th>C9%</th>\n",
       "      <td>-0.085636</td>\n",
       "      <td>0.066012</td>\n",
       "      <td>-0.137674</td>\n",
       "      <td>0.915503</td>\n",
       "      <td>-0.002995</td>\n",
       "      <td>0.057653</td>\n",
       "      <td>0.056682</td>\n",
       "      <td>0.133392</td>\n",
       "      <td>0.621930</td>\n",
       "      <td>-0.010093</td>\n",
       "      <td>...</td>\n",
       "      <td>-0.345720</td>\n",
       "      <td>0.538260</td>\n",
       "      <td>0.579247</td>\n",
       "      <td>-0.049126</td>\n",
       "      <td>-0.032415</td>\n",
       "      <td>NaN</td>\n",
       "      <td>0.081723</td>\n",
       "      <td>-0.943872</td>\n",
       "      <td>-0.032035</td>\n",
       "      <td>-0.090685</td>\n",
       "    </tr>\n",
       "    <tr>\n",
       "      <th>C10%</th>\n",
       "      <td>-0.296402</td>\n",
       "      <td>-0.455515</td>\n",
       "      <td>0.363605</td>\n",
       "      <td>-0.942666</td>\n",
       "      <td>-0.289056</td>\n",
       "      <td>-0.407429</td>\n",
       "      <td>-0.439048</td>\n",
       "      <td>-0.494633</td>\n",
       "      <td>-0.850805</td>\n",
       "      <td>-0.095803</td>\n",
       "      <td>...</td>\n",
       "      <td>0.693484</td>\n",
       "      <td>-0.500906</td>\n",
       "      <td>-0.548044</td>\n",
       "      <td>-0.059041</td>\n",
       "      <td>0.061492</td>\n",
       "      <td>NaN</td>\n",
       "      <td>-0.468745</td>\n",
       "      <td>0.859896</td>\n",
       "      <td>0.027388</td>\n",
       "      <td>0.074652</td>\n",
       "    </tr>\n",
       "    <tr>\n",
       "      <th>CPU%c1</th>\n",
       "      <td>0.811367</td>\n",
       "      <td>0.916425</td>\n",
       "      <td>-0.617030</td>\n",
       "      <td>0.604021</td>\n",
       "      <td>0.597984</td>\n",
       "      <td>0.861864</td>\n",
       "      <td>0.870589</td>\n",
       "      <td>0.848913</td>\n",
       "      <td>0.830733</td>\n",
       "      <td>0.240131</td>\n",
       "      <td>...</td>\n",
       "      <td>-0.991468</td>\n",
       "      <td>0.204868</td>\n",
       "      <td>0.241437</td>\n",
       "      <td>0.265705</td>\n",
       "      <td>-0.031212</td>\n",
       "      <td>NaN</td>\n",
       "      <td>0.927354</td>\n",
       "      <td>-0.383790</td>\n",
       "      <td>-0.108474</td>\n",
       "      <td>-0.119021</td>\n",
       "    </tr>\n",
       "    <tr>\n",
       "      <th>CPU%c3</th>\n",
       "      <td>0.819194</td>\n",
       "      <td>0.843325</td>\n",
       "      <td>-0.516490</td>\n",
       "      <td>0.331619</td>\n",
       "      <td>0.631175</td>\n",
       "      <td>0.670682</td>\n",
       "      <td>0.901049</td>\n",
       "      <td>0.967418</td>\n",
       "      <td>0.720822</td>\n",
       "      <td>0.297903</td>\n",
       "      <td>...</td>\n",
       "      <td>-0.838745</td>\n",
       "      <td>0.088703</td>\n",
       "      <td>0.115498</td>\n",
       "      <td>0.165535</td>\n",
       "      <td>-0.051590</td>\n",
       "      <td>NaN</td>\n",
       "      <td>0.840312</td>\n",
       "      <td>-0.079052</td>\n",
       "      <td>0.000486</td>\n",
       "      <td>0.010165</td>\n",
       "    </tr>\n",
       "    <tr>\n",
       "      <th>CPU%c6</th>\n",
       "      <td>0.190644</td>\n",
       "      <td>0.316256</td>\n",
       "      <td>-0.266207</td>\n",
       "      <td>0.902556</td>\n",
       "      <td>0.257211</td>\n",
       "      <td>0.197144</td>\n",
       "      <td>0.337692</td>\n",
       "      <td>0.411210</td>\n",
       "      <td>0.886821</td>\n",
       "      <td>0.132764</td>\n",
       "      <td>...</td>\n",
       "      <td>-0.585401</td>\n",
       "      <td>0.424773</td>\n",
       "      <td>0.479609</td>\n",
       "      <td>0.026077</td>\n",
       "      <td>-0.056485</td>\n",
       "      <td>NaN</td>\n",
       "      <td>0.333377</td>\n",
       "      <td>-0.836240</td>\n",
       "      <td>0.025918</td>\n",
       "      <td>-0.028501</td>\n",
       "    </tr>\n",
       "    <tr>\n",
       "      <th>CPU%c7</th>\n",
       "      <td>-0.854500</td>\n",
       "      <td>-0.946757</td>\n",
       "      <td>0.633362</td>\n",
       "      <td>-0.555162</td>\n",
       "      <td>-0.628899</td>\n",
       "      <td>-0.858664</td>\n",
       "      <td>-0.895891</td>\n",
       "      <td>-0.884374</td>\n",
       "      <td>-0.841668</td>\n",
       "      <td>-0.264949</td>\n",
       "      <td>...</td>\n",
       "      <td>1.000000</td>\n",
       "      <td>-0.201196</td>\n",
       "      <td>-0.235959</td>\n",
       "      <td>-0.234938</td>\n",
       "      <td>0.037147</td>\n",
       "      <td>NaN</td>\n",
       "      <td>-0.953841</td>\n",
       "      <td>0.319951</td>\n",
       "      <td>0.071945</td>\n",
       "      <td>0.079824</td>\n",
       "    </tr>\n",
       "    <tr>\n",
       "      <th>CoreTmp</th>\n",
       "      <td>-0.081253</td>\n",
       "      <td>0.082701</td>\n",
       "      <td>-0.127857</td>\n",
       "      <td>0.479205</td>\n",
       "      <td>0.015621</td>\n",
       "      <td>0.018379</td>\n",
       "      <td>0.066967</td>\n",
       "      <td>0.134988</td>\n",
       "      <td>0.340964</td>\n",
       "      <td>-0.024045</td>\n",
       "      <td>...</td>\n",
       "      <td>-0.201196</td>\n",
       "      <td>1.000000</td>\n",
       "      <td>0.986074</td>\n",
       "      <td>-0.388518</td>\n",
       "      <td>0.083657</td>\n",
       "      <td>NaN</td>\n",
       "      <td>0.079385</td>\n",
       "      <td>-0.458491</td>\n",
       "      <td>0.031520</td>\n",
       "      <td>-0.013636</td>\n",
       "    </tr>\n",
       "    <tr>\n",
       "      <th>PkgTmp</th>\n",
       "      <td>-0.066351</td>\n",
       "      <td>0.101449</td>\n",
       "      <td>-0.151094</td>\n",
       "      <td>0.536046</td>\n",
       "      <td>0.049007</td>\n",
       "      <td>0.031918</td>\n",
       "      <td>0.088624</td>\n",
       "      <td>0.163151</td>\n",
       "      <td>0.395172</td>\n",
       "      <td>-0.011224</td>\n",
       "      <td>...</td>\n",
       "      <td>-0.235959</td>\n",
       "      <td>0.986074</td>\n",
       "      <td>1.000000</td>\n",
       "      <td>-0.341627</td>\n",
       "      <td>0.113207</td>\n",
       "      <td>NaN</td>\n",
       "      <td>0.098624</td>\n",
       "      <td>-0.514378</td>\n",
       "      <td>-0.000531</td>\n",
       "      <td>-0.049744</td>\n",
       "    </tr>\n",
       "    <tr>\n",
       "      <th>GFX%rc6</th>\n",
       "      <td>0.214902</td>\n",
       "      <td>0.227728</td>\n",
       "      <td>-0.190811</td>\n",
       "      <td>0.100105</td>\n",
       "      <td>0.213706</td>\n",
       "      <td>0.306434</td>\n",
       "      <td>0.236198</td>\n",
       "      <td>0.172945</td>\n",
       "      <td>0.136172</td>\n",
       "      <td>0.139709</td>\n",
       "      <td>...</td>\n",
       "      <td>-0.234938</td>\n",
       "      <td>-0.388518</td>\n",
       "      <td>-0.341627</td>\n",
       "      <td>1.000000</td>\n",
       "      <td>0.064360</td>\n",
       "      <td>NaN</td>\n",
       "      <td>0.229198</td>\n",
       "      <td>-0.101059</td>\n",
       "      <td>-0.680747</td>\n",
       "      <td>-0.672435</td>\n",
       "    </tr>\n",
       "    <tr>\n",
       "      <th>GFXMHz</th>\n",
       "      <td>-0.068422</td>\n",
       "      <td>-0.025784</td>\n",
       "      <td>-0.069360</td>\n",
       "      <td>-0.027448</td>\n",
       "      <td>-0.032209</td>\n",
       "      <td>-0.027028</td>\n",
       "      <td>-0.025132</td>\n",
       "      <td>-0.042543</td>\n",
       "      <td>-0.073616</td>\n",
       "      <td>-0.050443</td>\n",
       "      <td>...</td>\n",
       "      <td>0.037147</td>\n",
       "      <td>0.083657</td>\n",
       "      <td>0.113207</td>\n",
       "      <td>0.064360</td>\n",
       "      <td>1.000000</td>\n",
       "      <td>NaN</td>\n",
       "      <td>-0.024421</td>\n",
       "      <td>0.024651</td>\n",
       "      <td>-0.225247</td>\n",
       "      <td>-0.233421</td>\n",
       "    </tr>\n",
       "    <tr>\n",
       "      <th>GFXAMHz</th>\n",
       "      <td>NaN</td>\n",
       "      <td>NaN</td>\n",
       "      <td>NaN</td>\n",
       "      <td>NaN</td>\n",
       "      <td>NaN</td>\n",
       "      <td>NaN</td>\n",
       "      <td>NaN</td>\n",
       "      <td>NaN</td>\n",
       "      <td>NaN</td>\n",
       "      <td>NaN</td>\n",
       "      <td>...</td>\n",
       "      <td>NaN</td>\n",
       "      <td>NaN</td>\n",
       "      <td>NaN</td>\n",
       "      <td>NaN</td>\n",
       "      <td>NaN</td>\n",
       "      <td>NaN</td>\n",
       "      <td>NaN</td>\n",
       "      <td>NaN</td>\n",
       "      <td>NaN</td>\n",
       "      <td>NaN</td>\n",
       "    </tr>\n",
       "    <tr>\n",
       "      <th>Totl%C0</th>\n",
       "      <td>0.943248</td>\n",
       "      <td>0.998492</td>\n",
       "      <td>-0.645058</td>\n",
       "      <td>0.291727</td>\n",
       "      <td>0.651839</td>\n",
       "      <td>0.909934</td>\n",
       "      <td>0.921857</td>\n",
       "      <td>0.887375</td>\n",
       "      <td>0.671625</td>\n",
       "      <td>0.276290</td>\n",
       "      <td>...</td>\n",
       "      <td>-0.953841</td>\n",
       "      <td>0.079385</td>\n",
       "      <td>0.098624</td>\n",
       "      <td>0.229198</td>\n",
       "      <td>-0.024421</td>\n",
       "      <td>NaN</td>\n",
       "      <td>1.000000</td>\n",
       "      <td>-0.035098</td>\n",
       "      <td>-0.057085</td>\n",
       "      <td>-0.046397</td>\n",
       "    </tr>\n",
       "    <tr>\n",
       "      <th>Any%C0</th>\n",
       "      <td>0.135033</td>\n",
       "      <td>-0.016913</td>\n",
       "      <td>0.102184</td>\n",
       "      <td>-0.943534</td>\n",
       "      <td>0.009984</td>\n",
       "      <td>-0.019958</td>\n",
       "      <td>-0.025989</td>\n",
       "      <td>-0.095814</td>\n",
       "      <td>-0.629711</td>\n",
       "      <td>0.015901</td>\n",
       "      <td>...</td>\n",
       "      <td>0.319951</td>\n",
       "      <td>-0.458491</td>\n",
       "      <td>-0.514378</td>\n",
       "      <td>-0.101059</td>\n",
       "      <td>0.024651</td>\n",
       "      <td>NaN</td>\n",
       "      <td>-0.035098</td>\n",
       "      <td>1.000000</td>\n",
       "      <td>0.092347</td>\n",
       "      <td>0.153467</td>\n",
       "    </tr>\n",
       "    <tr>\n",
       "      <th>GFX%C0</th>\n",
       "      <td>-0.004125</td>\n",
       "      <td>-0.055614</td>\n",
       "      <td>0.240681</td>\n",
       "      <td>-0.093802</td>\n",
       "      <td>-0.095825</td>\n",
       "      <td>-0.170989</td>\n",
       "      <td>-0.047873</td>\n",
       "      <td>-0.005547</td>\n",
       "      <td>0.012703</td>\n",
       "      <td>-0.042598</td>\n",
       "      <td>...</td>\n",
       "      <td>0.071945</td>\n",
       "      <td>0.031520</td>\n",
       "      <td>-0.000531</td>\n",
       "      <td>-0.680747</td>\n",
       "      <td>-0.225247</td>\n",
       "      <td>NaN</td>\n",
       "      <td>-0.057085</td>\n",
       "      <td>0.092347</td>\n",
       "      <td>1.000000</td>\n",
       "      <td>0.992428</td>\n",
       "    </tr>\n",
       "    <tr>\n",
       "      <th>CPUGFX%</th>\n",
       "      <td>0.011713</td>\n",
       "      <td>-0.043858</td>\n",
       "      <td>0.251673</td>\n",
       "      <td>-0.147461</td>\n",
       "      <td>-0.098435</td>\n",
       "      <td>-0.154625</td>\n",
       "      <td>-0.041727</td>\n",
       "      <td>0.002550</td>\n",
       "      <td>-0.022963</td>\n",
       "      <td>-0.041842</td>\n",
       "      <td>...</td>\n",
       "      <td>0.079824</td>\n",
       "      <td>-0.013636</td>\n",
       "      <td>-0.049744</td>\n",
       "      <td>-0.672435</td>\n",
       "      <td>-0.233421</td>\n",
       "      <td>NaN</td>\n",
       "      <td>-0.046397</td>\n",
       "      <td>0.153467</td>\n",
       "      <td>0.992428</td>\n",
       "      <td>1.000000</td>\n",
       "    </tr>\n",
       "  </tbody>\n",
       "</table>\n",
       "<p>26 rows × 26 columns</p>\n",
       "</div>"
      ],
      "text/plain": [
       "          Avg_MHz     Busy%       IPC       IRQ      POLL       C1%      C1E%  \\\n",
       "Avg_MHz  1.000000  0.949295 -0.639685  0.127118  0.664125  0.843616  0.896732   \n",
       "Busy%    0.949295  1.000000 -0.649045  0.275152  0.656393  0.909427  0.923712   \n",
       "IPC     -0.639685 -0.649045  1.000000 -0.301365 -0.530760 -0.634232 -0.563347   \n",
       "IRQ      0.127118  0.275152 -0.301365  1.000000  0.182587  0.230824  0.279776   \n",
       "POLL     0.664125  0.656393 -0.530760  0.182587  1.000000  0.570681  0.681866   \n",
       "C1%      0.843616  0.909427 -0.634232  0.230824  0.570681  1.000000  0.790677   \n",
       "C1E%     0.896732  0.923712 -0.563347  0.279776  0.681866  0.790677  1.000000   \n",
       "C3%      0.863040  0.891452 -0.531579  0.359766  0.649342  0.717365  0.933318   \n",
       "C6%      0.562058  0.663989 -0.442463  0.795369  0.509147  0.509290  0.687771   \n",
       "C7s%     0.297209  0.279340 -0.222202  0.070062  0.449100  0.182891  0.305797   \n",
       "C8%      0.313326  0.471300 -0.336851  0.879418  0.346791  0.420253  0.478604   \n",
       "C9%     -0.085636  0.066012 -0.137674  0.915503 -0.002995  0.057653  0.056682   \n",
       "C10%    -0.296402 -0.455515  0.363605 -0.942666 -0.289056 -0.407429 -0.439048   \n",
       "CPU%c1   0.811367  0.916425 -0.617030  0.604021  0.597984  0.861864  0.870589   \n",
       "CPU%c3   0.819194  0.843325 -0.516490  0.331619  0.631175  0.670682  0.901049   \n",
       "CPU%c6   0.190644  0.316256 -0.266207  0.902556  0.257211  0.197144  0.337692   \n",
       "CPU%c7  -0.854500 -0.946757  0.633362 -0.555162 -0.628899 -0.858664 -0.895891   \n",
       "CoreTmp -0.081253  0.082701 -0.127857  0.479205  0.015621  0.018379  0.066967   \n",
       "PkgTmp  -0.066351  0.101449 -0.151094  0.536046  0.049007  0.031918  0.088624   \n",
       "GFX%rc6  0.214902  0.227728 -0.190811  0.100105  0.213706  0.306434  0.236198   \n",
       "GFXMHz  -0.068422 -0.025784 -0.069360 -0.027448 -0.032209 -0.027028 -0.025132   \n",
       "GFXAMHz       NaN       NaN       NaN       NaN       NaN       NaN       NaN   \n",
       "Totl%C0  0.943248  0.998492 -0.645058  0.291727  0.651839  0.909934  0.921857   \n",
       "Any%C0   0.135033 -0.016913  0.102184 -0.943534  0.009984 -0.019958 -0.025989   \n",
       "GFX%C0  -0.004125 -0.055614  0.240681 -0.093802 -0.095825 -0.170989 -0.047873   \n",
       "CPUGFX%  0.011713 -0.043858  0.251673 -0.147461 -0.098435 -0.154625 -0.041727   \n",
       "\n",
       "              C3%       C6%      C7s%  ...    CPU%c7   CoreTmp    PkgTmp  \\\n",
       "Avg_MHz  0.863040  0.562058  0.297209  ... -0.854500 -0.081253 -0.066351   \n",
       "Busy%    0.891452  0.663989  0.279340  ... -0.946757  0.082701  0.101449   \n",
       "IPC     -0.531579 -0.442463 -0.222202  ...  0.633362 -0.127857 -0.151094   \n",
       "IRQ      0.359766  0.795369  0.070062  ... -0.555162  0.479205  0.536046   \n",
       "POLL     0.649342  0.509147  0.449100  ... -0.628899  0.015621  0.049007   \n",
       "C1%      0.717365  0.509290  0.182891  ... -0.858664  0.018379  0.031918   \n",
       "C1E%     0.933318  0.687771  0.305797  ... -0.895891  0.066967  0.088624   \n",
       "C3%      1.000000  0.752257  0.317717  ... -0.884374  0.134988  0.163151   \n",
       "C6%      0.752257  1.000000  0.239579  ... -0.841668  0.340964  0.395172   \n",
       "C7s%     0.317717  0.239579  1.000000  ... -0.264949 -0.024045 -0.011224   \n",
       "C8%      0.521689  0.834892  0.076169  ... -0.691231  0.437115  0.483482   \n",
       "C9%      0.133392  0.621930 -0.010093  ... -0.345720  0.538260  0.579247   \n",
       "C10%    -0.494633 -0.850805 -0.095803  ...  0.693484 -0.500906 -0.548044   \n",
       "CPU%c1   0.848913  0.830733  0.240131  ... -0.991468  0.204868  0.241437   \n",
       "CPU%c3   0.967418  0.720822  0.297903  ... -0.838745  0.088703  0.115498   \n",
       "CPU%c6   0.411210  0.886821  0.132764  ... -0.585401  0.424773  0.479609   \n",
       "CPU%c7  -0.884374 -0.841668 -0.264949  ...  1.000000 -0.201196 -0.235959   \n",
       "CoreTmp  0.134988  0.340964 -0.024045  ... -0.201196  1.000000  0.986074   \n",
       "PkgTmp   0.163151  0.395172 -0.011224  ... -0.235959  0.986074  1.000000   \n",
       "GFX%rc6  0.172945  0.136172  0.139709  ... -0.234938 -0.388518 -0.341627   \n",
       "GFXMHz  -0.042543 -0.073616 -0.050443  ...  0.037147  0.083657  0.113207   \n",
       "GFXAMHz       NaN       NaN       NaN  ...       NaN       NaN       NaN   \n",
       "Totl%C0  0.887375  0.671625  0.276290  ... -0.953841  0.079385  0.098624   \n",
       "Any%C0  -0.095814 -0.629711  0.015901  ...  0.319951 -0.458491 -0.514378   \n",
       "GFX%C0  -0.005547  0.012703 -0.042598  ...  0.071945  0.031520 -0.000531   \n",
       "CPUGFX%  0.002550 -0.022963 -0.041842  ...  0.079824 -0.013636 -0.049744   \n",
       "\n",
       "          GFX%rc6    GFXMHz  GFXAMHz   Totl%C0    Any%C0    GFX%C0   CPUGFX%  \n",
       "Avg_MHz  0.214902 -0.068422      NaN  0.943248  0.135033 -0.004125  0.011713  \n",
       "Busy%    0.227728 -0.025784      NaN  0.998492 -0.016913 -0.055614 -0.043858  \n",
       "IPC     -0.190811 -0.069360      NaN -0.645058  0.102184  0.240681  0.251673  \n",
       "IRQ      0.100105 -0.027448      NaN  0.291727 -0.943534 -0.093802 -0.147461  \n",
       "POLL     0.213706 -0.032209      NaN  0.651839  0.009984 -0.095825 -0.098435  \n",
       "C1%      0.306434 -0.027028      NaN  0.909934 -0.019958 -0.170989 -0.154625  \n",
       "C1E%     0.236198 -0.025132      NaN  0.921857 -0.025989 -0.047873 -0.041727  \n",
       "C3%      0.172945 -0.042543      NaN  0.887375 -0.095814 -0.005547  0.002550  \n",
       "C6%      0.136172 -0.073616      NaN  0.671625 -0.629711  0.012703 -0.022963  \n",
       "C7s%     0.139709 -0.050443      NaN  0.276290  0.015901 -0.042598 -0.041842  \n",
       "C8%      0.079124 -0.097888      NaN  0.482676 -0.779695  0.020914 -0.018328  \n",
       "C9%     -0.049126 -0.032415      NaN  0.081723 -0.943872 -0.032035 -0.090685  \n",
       "C10%    -0.059041  0.061492      NaN -0.468745  0.859896  0.027388  0.074652  \n",
       "CPU%c1   0.265705 -0.031212      NaN  0.927354 -0.383790 -0.108474 -0.119021  \n",
       "CPU%c3   0.165535 -0.051590      NaN  0.840312 -0.079052  0.000486  0.010165  \n",
       "CPU%c6   0.026077 -0.056485      NaN  0.333377 -0.836240  0.025918 -0.028501  \n",
       "CPU%c7  -0.234938  0.037147      NaN -0.953841  0.319951  0.071945  0.079824  \n",
       "CoreTmp -0.388518  0.083657      NaN  0.079385 -0.458491  0.031520 -0.013636  \n",
       "PkgTmp  -0.341627  0.113207      NaN  0.098624 -0.514378 -0.000531 -0.049744  \n",
       "GFX%rc6  1.000000  0.064360      NaN  0.229198 -0.101059 -0.680747 -0.672435  \n",
       "GFXMHz   0.064360  1.000000      NaN -0.024421  0.024651 -0.225247 -0.233421  \n",
       "GFXAMHz       NaN       NaN      NaN       NaN       NaN       NaN       NaN  \n",
       "Totl%C0  0.229198 -0.024421      NaN  1.000000 -0.035098 -0.057085 -0.046397  \n",
       "Any%C0  -0.101059  0.024651      NaN -0.035098  1.000000  0.092347  0.153467  \n",
       "GFX%C0  -0.680747 -0.225247      NaN -0.057085  0.092347  1.000000  0.992428  \n",
       "CPUGFX% -0.672435 -0.233421      NaN -0.046397  0.153467  0.992428  1.000000  \n",
       "\n",
       "[26 rows x 26 columns]"
      ]
     },
     "execution_count": 51,
     "metadata": {},
     "output_type": "execute_result"
    }
   ],
   "source": [
    "df[['Avg_MHz', 'Busy%', 'IPC', 'IRQ', 'POLL', 'C1%','C1E%','C3%','C6%','C7s%','C8%','C9%','C10%','CPU%c1','CPU%c3','CPU%c6','CPU%c7','CoreTmp','PkgTmp','GFX%rc6','GFXMHz','GFXAMHz','Totl%C0','Any%C0','GFX%C0','CPUGFX%']].corr()"
   ]
  },
  {
   "cell_type": "code",
   "execution_count": 55,
   "metadata": {},
   "outputs": [
    {
     "data": {
      "application/vnd.plotly.v1+json": {
       "config": {
        "plotlyServerURL": "https://plot.ly"
       },
       "data": [
        {
         "colorscale": [
          [
           0,
           "#0d0887"
          ],
          [
           0.1111111111111111,
           "#46039f"
          ],
          [
           0.2222222222222222,
           "#7201a8"
          ],
          [
           0.3333333333333333,
           "#9c179e"
          ],
          [
           0.4444444444444444,
           "#bd3786"
          ],
          [
           0.5555555555555556,
           "#d8576b"
          ],
          [
           0.6666666666666666,
           "#ed7953"
          ],
          [
           0.7777777777777778,
           "#fb9f3a"
          ],
          [
           0.8888888888888888,
           "#fdca26"
          ],
          [
           1,
           "#f0f921"
          ]
         ],
         "reversescale": true,
         "showscale": true,
         "type": "heatmap",
         "x": [
          "Avg_MHz",
          "Busy%",
          "IPC",
          "IRQ",
          "POLL",
          "C1%",
          "C1E%",
          "C3%",
          "C6%",
          "C7s%",
          "C8%",
          "C9%",
          "C10%",
          "CPU%c1",
          "CPU%c3",
          "CPU%c6",
          "CPU%c7",
          "CoreTmp",
          "PkgTmp",
          "GFX%rc6",
          "GFXMHz",
          "GFXAMHz",
          "Totl%C0",
          "Any%C0",
          "GFX%C0",
          "CPUGFX%",
          "Pkg_J",
          "Cor_J",
          "GFX_J",
          "RAM_J"
         ],
         "y": [
          "Avg_MHz",
          "Busy%",
          "IPC",
          "IRQ",
          "POLL",
          "C1%",
          "C1E%",
          "C3%",
          "C6%",
          "C7s%",
          "C8%",
          "C9%",
          "C10%",
          "CPU%c1",
          "CPU%c3",
          "CPU%c6",
          "CPU%c7",
          "CoreTmp",
          "PkgTmp",
          "GFX%rc6",
          "GFXMHz",
          "GFXAMHz",
          "Totl%C0",
          "Any%C0",
          "GFX%C0",
          "CPUGFX%",
          "Pkg_J",
          "Cor_J",
          "GFX_J",
          "RAM_J"
         ],
         "z": [
          [
           1,
           0.9492951437826168,
           -0.6396852062651356,
           0.1271180442119141,
           0.6641251803632593,
           0.8436160138624296,
           0.8967318979617921,
           0.8630399777013025,
           0.5620575601446193,
           0.2972089510627967,
           0.31332611689185863,
           -0.08563597902308205,
           -0.29640225254266717,
           0.8113671425289682,
           0.8191937024437579,
           0.1906443876076473,
           -0.8545003648048631,
           -0.08125272660537701,
           -0.06635135655601226,
           0.21490229564268973,
           -0.06842162781916741,
           null,
           0.9432483763126106,
           0.13503304063717514,
           -0.004124950725417483,
           0.011713072097126081,
           0.6075794615162443,
           0.6411231264817906,
           0.005460680116180351,
           0.49093873878899197
          ],
          [
           0.9492951437826168,
           1,
           -0.6490445400658513,
           0.2751521530942059,
           0.6563927162585967,
           0.9094266204821054,
           0.9237118245615101,
           0.8914523249336507,
           0.6639890555057052,
           0.27934038337800954,
           0.4713002564068049,
           0.06601171868935043,
           -0.45551517496656685,
           0.9164251669618284,
           0.8433252635334456,
           0.31625603758671483,
           -0.9467572817574224,
           0.08270081178764675,
           0.1014487567450616,
           0.22772839148838941,
           -0.025784343055237205,
           null,
           0.9984916996839611,
           -0.01691336272513732,
           -0.055614259441934044,
           -0.04385837135421906,
           0.5396451848806711,
           0.54383673864636,
           0.08056664699408671,
           0.624436826993114
          ],
          [
           -0.6396852062651356,
           -0.6490445400658513,
           1,
           -0.3013652281320809,
           -0.53075959226783,
           -0.6342316040177159,
           -0.5633472120066625,
           -0.5315792310268451,
           -0.4424629616852591,
           -0.22220204547878794,
           -0.33685136951711553,
           -0.13767403484280002,
           0.3636053035445745,
           -0.6170302564137091,
           -0.5164896910610643,
           -0.26620662976126075,
           0.6333616475546208,
           -0.1278574003244547,
           -0.15109351542183969,
           -0.19081076003562694,
           -0.06936017638906958,
           null,
           -0.6450576087321488,
           0.10218445267779622,
           0.24068082324496576,
           0.2516725991390592,
           -0.7607641469961014,
           -0.7322111143274915,
           -0.21537642833649512,
           -0.7922500505254709
          ],
          [
           0.1271180442119141,
           0.2751521530942059,
           -0.3013652281320809,
           1,
           0.18258745454559386,
           0.23082448221605475,
           0.2797761396946904,
           0.35976630268470083,
           0.7953690859841066,
           0.07006168575395146,
           0.879417963672032,
           0.9155034684173254,
           -0.942666241995696,
           0.6040207038025137,
           0.3316186044544621,
           0.9025561708917914,
           -0.5551622527133366,
           0.4792045749805625,
           0.5360457179826768,
           0.10010539591444235,
           -0.02744842431310375,
           null,
           0.29172684413232935,
           -0.9435336610584325,
           -0.0938016754331332,
           -0.14746081295190475,
           0.3506260520771052,
           0.2949672324258774,
           0.39771660766499367,
           0.48275116769674487
          ],
          [
           0.6641251803632593,
           0.6563927162585967,
           -0.53075959226783,
           0.18258745454559386,
           1,
           0.5706813180549536,
           0.6818664248444597,
           0.6493421455047251,
           0.5091472352142951,
           0.44910006347019066,
           0.3467907810658791,
           -0.0029953452178801887,
           -0.2890564944974524,
           0.5979844735157024,
           0.6311750465749113,
           0.257211041616935,
           -0.6288994744752682,
           0.015620862392084931,
           0.04900685193918288,
           0.2137058982919267,
           -0.03220936179093147,
           null,
           0.651839480686498,
           0.009983697401463171,
           -0.09582452709706354,
           -0.09843501065118439,
           0.4850158116740248,
           0.486841478624586,
           0.03063321976336125,
           0.4410508514080252
          ],
          [
           0.8436160138624296,
           0.9094266204821054,
           -0.6342316040177159,
           0.23082448221605475,
           0.5706813180549536,
           1,
           0.7906770624087962,
           0.7173647354935286,
           0.5092901224824986,
           0.1828912413107386,
           0.42025284615420483,
           0.05765338758294499,
           -0.40742889144879746,
           0.8618636765543509,
           0.6706819486859317,
           0.19714434255878793,
           -0.8586642938583691,
           0.01837946309417134,
           0.031918196640520966,
           0.30643387150386103,
           -0.02702848046707299,
           null,
           0.9099337202227827,
           -0.019957589901858974,
           -0.17098882095039622,
           -0.15462514454765025,
           0.44775440161127056,
           0.44811956609172304,
           -0.01215138356648646,
           0.606979603536504
          ],
          [
           0.8967318979617921,
           0.9237118245615101,
           -0.5633472120066625,
           0.2797761396946904,
           0.6818664248444597,
           0.7906770624087962,
           1,
           0.9333179112155575,
           0.6877712484702274,
           0.3057967929073968,
           0.47860371975451377,
           0.056682309263512455,
           -0.43904794792383484,
           0.8705889671072601,
           0.9010493067367912,
           0.3376920892612061,
           -0.8958910153299674,
           0.0669671857147615,
           0.08862356859239358,
           0.23619775790507766,
           -0.02513234109235666,
           null,
           0.9218570876873118,
           -0.025988772066818655,
           -0.04787253955512983,
           -0.04172722199660103,
           0.5411296908619619,
           0.542302138079923,
           0.105143287505866,
           0.5739834809390937
          ],
          [
           0.8630399777013025,
           0.8914523249336507,
           -0.5315792310268451,
           0.35976630268470083,
           0.6493421455047251,
           0.7173647354935286,
           0.9333179112155575,
           1,
           0.7522570586362342,
           0.3177173341289033,
           0.5216889342943688,
           0.1333919270304222,
           -0.49463349920691374,
           0.8489127208708015,
           0.9674176078942891,
           0.4112100394278291,
           -0.8843744617418052,
           0.13498845348026708,
           0.16315113141731533,
           0.17294496920231547,
           -0.04254336623203848,
           null,
           0.8873746650076818,
           -0.09581394517032106,
           -0.005547344120387037,
           0.002549725185193666,
           0.5368722820495492,
           0.5363002840775155,
           0.17238316905466472,
           0.5414041586364462
          ],
          [
           0.5620575601446193,
           0.6639890555057052,
           -0.4424629616852591,
           0.7953690859841066,
           0.5091472352142951,
           0.5092901224824986,
           0.6877712484702274,
           0.7522570586362342,
           1,
           0.23957869889019687,
           0.8348920473928463,
           0.621930096868535,
           -0.850804764979866,
           0.8307330965266497,
           0.7208216985956659,
           0.8868206726190679,
           -0.8416682203047031,
           0.3409638631527899,
           0.3951719895884585,
           0.13617166666405905,
           -0.07361612786460399,
           null,
           0.6716250586386503,
           -0.6297108315557066,
           0.012702785118426633,
           -0.022963062384809926,
           0.47640294385524157,
           0.44733730838573804,
           0.33714496290407187,
           0.5433198256483613
          ],
          [
           0.2972089510627967,
           0.27934038337800954,
           -0.22220204547878794,
           0.07006168575395146,
           0.44910006347019066,
           0.1828912413107386,
           0.3057967929073968,
           0.3177173341289033,
           0.23957869889019687,
           1,
           0.0761692190062714,
           -0.010092568694775334,
           -0.09580305024544962,
           0.24013122675171736,
           0.297902956375904,
           0.13276372516384966,
           -0.26494891538098564,
           -0.024045135726787386,
           -0.011224196660416146,
           0.13970904842991186,
           -0.05044332723053198,
           null,
           0.276290360612363,
           0.015901029645274362,
           -0.04259824683503948,
           -0.04184228707169487,
           0.19634281814789364,
           0.2049666361446852,
           -0.06050218918830345,
           0.1303451449454538
          ],
          [
           0.31332611689185863,
           0.4713002564068049,
           -0.33685136951711553,
           0.879417963672032,
           0.3467907810658791,
           0.42025284615420483,
           0.47860371975451377,
           0.5216889342943688,
           0.8348920473928463,
           0.0761692190062714,
           1,
           0.7790687834754367,
           -0.9461294040735283,
           0.7225837536852135,
           0.5016164768734402,
           0.8289242892301796,
           -0.6912311813152852,
           0.43711535482536285,
           0.4834815428995423,
           0.07912366206889201,
           -0.0978875886690614,
           null,
           0.4826763939814024,
           -0.7796949716442294,
           0.02091362567109749,
           -0.01832776676020934,
           0.3179087971299181,
           0.27572510261157784,
           0.36275049515948704,
           0.4911639841721433
          ],
          [
           -0.08563597902308205,
           0.06601171868935043,
           -0.13767403484280002,
           0.9155034684173254,
           -0.0029953452178801887,
           0.05765338758294499,
           0.056682309263512455,
           0.1333919270304222,
           0.621930096868535,
           -0.010092568694775334,
           0.7790687834754367,
           1,
           -0.9029011979163235,
           0.40142804585993447,
           0.11417161124465676,
           0.8023934303368487,
           -0.345720308839025,
           0.538260414791024,
           0.5792469960248261,
           -0.049126180635293254,
           -0.03241462580868169,
           null,
           0.08172300264903591,
           -0.943871689983427,
           -0.03203473435862623,
           -0.09068452832456786,
           0.22326749694574508,
           0.1681226506336346,
           0.4115590602393096,
           0.33835228597565126
          ],
          [
           -0.29640225254266717,
           -0.45551517496656685,
           0.3636053035445745,
           -0.942666241995696,
           -0.2890564944974524,
           -0.40742889144879746,
           -0.43904794792383484,
           -0.49463349920691374,
           -0.850804764979866,
           -0.09580305024544962,
           -0.9461294040735283,
           -0.9029011979163235,
           1,
           -0.7304228774447779,
           -0.46423293839038415,
           -0.8714883383682813,
           0.6934835349918108,
           -0.5009058486808265,
           -0.5480438260781103,
           -0.059040785775264254,
           0.061491535384188854,
           null,
           -0.46874508546581933,
           0.8598962945856161,
           0.027387741473873798,
           0.07465226915383365,
           -0.3861884205631674,
           -0.33858299577316137,
           -0.4008494082597485,
           -0.534635820789462
          ],
          [
           0.8113671425289682,
           0.9164251669618284,
           -0.6170302564137091,
           0.6040207038025137,
           0.5979844735157024,
           0.8618636765543509,
           0.8705889671072601,
           0.8489127208708015,
           0.8307330965266497,
           0.24013122675171736,
           0.7225837536852135,
           0.40142804585993447,
           -0.7304228774447779,
           1,
           0.8027557324938139,
           0.5959122123386912,
           -0.9914680782686269,
           0.20486773320723908,
           0.24143656886334713,
           0.26570480818001707,
           -0.03121200403895359,
           null,
           0.9273544763991957,
           -0.3837904914101663,
           -0.10847370021534829,
           -0.11902118554388366,
           0.537218608929003,
           0.5191138415049926,
           0.1872730344171587,
           0.6846720742499243
          ],
          [
           0.8191937024437579,
           0.8433252635334456,
           -0.5164896910610643,
           0.3316186044544621,
           0.6311750465749113,
           0.6706819486859317,
           0.9010493067367912,
           0.9674176078942891,
           0.7208216985956659,
           0.297902956375904,
           0.5016164768734402,
           0.11417161124465676,
           -0.46423293839038415,
           0.8027557324938139,
           1,
           0.39160910672982585,
           -0.8387447615486571,
           0.08870307664984615,
           0.11549752831359326,
           0.1655348267870642,
           -0.05158998813669791,
           null,
           0.8403115234567109,
           -0.0790517576542391,
           0.00048625822695735687,
           0.01016489301056582,
           0.5239614601062691,
           0.5258702130513438,
           0.17411662171920836,
           0.5100849318179003
          ],
          [
           0.1906443876076473,
           0.31625603758671483,
           -0.26620662976126075,
           0.9025561708917914,
           0.257211041616935,
           0.19714434255878793,
           0.3376920892612061,
           0.4112100394278291,
           0.8868206726190679,
           0.13276372516384966,
           0.8289242892301796,
           0.8023934303368487,
           -0.8714883383682813,
           0.5959122123386912,
           0.39160910672982585,
           1,
           -0.5854010575535354,
           0.42477317770827516,
           0.4796088185266097,
           0.026077208238728576,
           -0.05648487240996448,
           null,
           0.3333768585953279,
           -0.836239721385846,
           0.025917746171692988,
           -0.028501039773650358,
           0.3309889990294867,
           0.2890722336368136,
           0.3956856470419926,
           0.40626763954905365
          ],
          [
           -0.8545003648048631,
           -0.9467572817574224,
           0.6333616475546208,
           -0.5551622527133366,
           -0.6288994744752682,
           -0.8586642938583691,
           -0.8958910153299674,
           -0.8843744617418052,
           -0.8416682203047031,
           -0.26494891538098564,
           -0.6912311813152852,
           -0.345720308839025,
           0.6934835349918108,
           -0.9914680782686269,
           -0.8387447615486571,
           -0.5854010575535354,
           1,
           -0.20119593141625725,
           -0.23595852247688395,
           -0.2349377877226684,
           0.03714721981203009,
           null,
           -0.9538406497523819,
           0.31995097235481945,
           0.07194484812908888,
           0.07982442643622067,
           -0.5570016054588565,
           -0.5438561175463721,
           -0.18953081916181225,
           -0.6761543524685498
          ],
          [
           -0.08125272660537701,
           0.08270081178764675,
           -0.1278574003244547,
           0.4792045749805625,
           0.015620862392084931,
           0.01837946309417134,
           0.0669671857147615,
           0.13498845348026708,
           0.3409638631527899,
           -0.024045135726787386,
           0.43711535482536285,
           0.538260414791024,
           -0.5009058486808265,
           0.20486773320723908,
           0.08870307664984615,
           0.42477317770827516,
           -0.20119593141625725,
           1,
           0.9860738986975709,
           -0.38851762657925853,
           0.08365696143759305,
           null,
           0.07938549070720007,
           -0.45849070433409406,
           0.03151960679345145,
           -0.013635656405296551,
           0.2329804389445711,
           0.15909727925263142,
           0.5742124172497433,
           0.42500365327177425
          ],
          [
           -0.06635135655601226,
           0.1014487567450616,
           -0.15109351542183969,
           0.5360457179826768,
           0.04900685193918288,
           0.031918196640520966,
           0.08862356859239358,
           0.16315113141731533,
           0.3951719895884585,
           -0.011224196660416146,
           0.4834815428995423,
           0.5792469960248261,
           -0.5480438260781103,
           0.24143656886334713,
           0.11549752831359326,
           0.4796088185266097,
           -0.23595852247688395,
           0.9860738986975709,
           1,
           -0.3416268358953274,
           0.11320736575429205,
           null,
           0.09862439334673363,
           -0.5143780435203672,
           -0.0005313068489563771,
           -0.04974418946131498,
           0.24998551953096104,
           0.17296104215375888,
           0.5705307830945979,
           0.45460656505595115
          ],
          [
           0.21490229564268973,
           0.22772839148838941,
           -0.19081076003562694,
           0.10010539591444235,
           0.2137058982919267,
           0.30643387150386103,
           0.23619775790507766,
           0.17294496920231547,
           0.13617166666405905,
           0.13970904842991186,
           0.07912366206889201,
           -0.049126180635293254,
           -0.059040785775264254,
           0.26570480818001707,
           0.1655348267870642,
           0.026077208238728576,
           -0.2349377877226684,
           -0.38851762657925853,
           -0.3416268358953274,
           1,
           0.06436017527269022,
           null,
           0.22919766976917935,
           -0.10105945655937051,
           -0.68074730940832,
           -0.672435341713881,
           -0.0030929612386327225,
           -0.013856574395351408,
           -0.5571880020559121,
           0.20760807275803878
          ],
          [
           -0.06842162781916741,
           -0.025784343055237205,
           -0.06936017638906958,
           -0.02744842431310375,
           -0.03220936179093147,
           -0.02702848046707299,
           -0.02513234109235666,
           -0.04254336623203848,
           -0.07361612786460399,
           -0.05044332723053198,
           -0.0978875886690614,
           -0.03241462580868169,
           0.061491535384188854,
           -0.03121200403895359,
           -0.05158998813669791,
           -0.05648487240996448,
           0.03714721981203009,
           0.08365696143759305,
           0.11320736575429205,
           0.06436017527269022,
           1,
           null,
           -0.024420804589602812,
           0.02465123253491546,
           -0.22524701924071572,
           -0.23342055057364583,
           0.011002693788303047,
           -0.024054929941413165,
           0.1466362306761534,
           0.1663336653816877
          ],
          [
           null,
           null,
           null,
           null,
           null,
           null,
           null,
           null,
           null,
           null,
           null,
           null,
           null,
           null,
           null,
           null,
           null,
           null,
           null,
           null,
           null,
           null,
           null,
           null,
           null,
           null,
           null,
           null,
           null,
           null
          ],
          [
           0.9432483763126106,
           0.9984916996839611,
           -0.6450576087321488,
           0.29172684413232935,
           0.651839480686498,
           0.9099337202227827,
           0.9218570876873118,
           0.8873746650076818,
           0.6716250586386503,
           0.276290360612363,
           0.4826763939814024,
           0.08172300264903591,
           -0.46874508546581933,
           0.9273544763991957,
           0.8403115234567109,
           0.3333768585953279,
           -0.9538406497523819,
           0.07938549070720007,
           0.09862439334673363,
           0.22919766976917935,
           -0.024420804589602812,
           null,
           1,
           -0.035097909111679364,
           -0.057085016815720376,
           -0.046397091416369794,
           0.5379750729530001,
           0.5413757164756539,
           0.08537629599081457,
           0.6283670107493909
          ],
          [
           0.13503304063717514,
           -0.01691336272513732,
           0.10218445267779622,
           -0.9435336610584325,
           0.009983697401463171,
           -0.019957589901858974,
           -0.025988772066818655,
           -0.09581394517032106,
           -0.6297108315557066,
           0.015901029645274362,
           -0.7796949716442294,
           -0.943871689983427,
           0.8598962945856161,
           -0.3837904914101663,
           -0.0790517576542391,
           -0.836239721385846,
           0.31995097235481945,
           -0.45849070433409406,
           -0.5143780435203672,
           -0.10105945655937051,
           0.02465123253491546,
           null,
           -0.035097909111679364,
           1,
           0.09234705060910356,
           0.15346703869586323,
           -0.15345854313441684,
           -0.09600944690924887,
           -0.35275161003255184,
           -0.31327483187797023
          ],
          [
           -0.004124950725417483,
           -0.055614259441934044,
           0.24068082324496576,
           -0.0938016754331332,
           -0.09582452709706354,
           -0.17098882095039622,
           -0.04787253955512983,
           -0.005547344120387037,
           0.012702785118426633,
           -0.04259824683503948,
           0.02091362567109749,
           -0.03203473435862623,
           0.027387741473873798,
           -0.10847370021534829,
           0.00048625822695735687,
           0.025917746171692988,
           0.07194484812908888,
           0.03151960679345145,
           -0.0005313068489563771,
           -0.68074730940832,
           -0.22524701924071572,
           null,
           -0.057085016815720376,
           0.09234705060910356,
           1,
           0.9924279622995996,
           -0.13268102090513506,
           -0.08842403468219304,
           0.49109534661579496,
           -0.3337600647067431
          ],
          [
           0.011713072097126081,
           -0.04385837135421906,
           0.2516725991390592,
           -0.14746081295190475,
           -0.09843501065118439,
           -0.15462514454765025,
           -0.04172722199660103,
           0.002549725185193666,
           -0.022963062384809926,
           -0.04184228707169487,
           -0.01832776676020934,
           -0.09068452832456786,
           0.07465226915383365,
           -0.11902118554388366,
           0.01016489301056582,
           -0.028501039773650358,
           0.07982442643622067,
           -0.013635656405296551,
           -0.04974418946131498,
           -0.672435341713881,
           -0.23342055057364583,
           null,
           -0.046397091416369794,
           0.15346703869586323,
           0.9924279622995996,
           1,
           -0.1639238835158284,
           -0.11585338913142053,
           0.4473862021727098,
           -0.3582849216354528
          ],
          [
           0.6075794615162443,
           0.5396451848806711,
           -0.7607641469961014,
           0.3506260520771052,
           0.4850158116740248,
           0.44775440161127056,
           0.5411296908619619,
           0.5368722820495492,
           0.47640294385524157,
           0.19634281814789364,
           0.3179087971299181,
           0.22326749694574508,
           -0.3861884205631674,
           0.537218608929003,
           0.5239614601062691,
           0.3309889990294867,
           -0.5570016054588565,
           0.2329804389445711,
           0.24998551953096104,
           -0.0030929612386327225,
           0.011002693788303047,
           null,
           0.5379750729530001,
           -0.15345854313441684,
           -0.13268102090513506,
           -0.1639238835158284,
           1,
           0.9919503748701577,
           0.3689903112044537,
           0.7005577706546886
          ],
          [
           0.6411231264817906,
           0.54383673864636,
           -0.7322111143274915,
           0.2949672324258774,
           0.486841478624586,
           0.44811956609172304,
           0.542302138079923,
           0.5363002840775155,
           0.44733730838573804,
           0.2049666361446852,
           0.27572510261157784,
           0.1681226506336346,
           -0.33858299577316137,
           0.5191138415049926,
           0.5258702130513438,
           0.2890722336368136,
           -0.5438561175463721,
           0.15909727925263142,
           0.17296104215375888,
           -0.013856574395351408,
           -0.024054929941413165,
           null,
           0.5413757164756539,
           -0.09600944690924887,
           -0.08842403468219304,
           -0.11585338913142053,
           0.9919503748701577,
           1,
           0.317621588890776,
           0.6210288943090359
          ],
          [
           0.005460680116180351,
           0.08056664699408671,
           -0.21537642833649512,
           0.39771660766499367,
           0.03063321976336125,
           -0.01215138356648646,
           0.105143287505866,
           0.17238316905466472,
           0.33714496290407187,
           -0.06050218918830345,
           0.36275049515948704,
           0.4115590602393096,
           -0.4008494082597485,
           0.1872730344171587,
           0.17411662171920836,
           0.3956856470419926,
           -0.18953081916181225,
           0.5742124172497433,
           0.5705307830945979,
           -0.5571880020559121,
           0.1466362306761534,
           null,
           0.08537629599081457,
           -0.35275161003255184,
           0.49109534661579496,
           0.4473862021727098,
           0.3689903112044537,
           0.317621588890776,
           1,
           0.4102183400963884
          ],
          [
           0.49093873878899197,
           0.624436826993114,
           -0.7922500505254709,
           0.48275116769674487,
           0.4410508514080252,
           0.606979603536504,
           0.5739834809390937,
           0.5414041586364462,
           0.5433198256483613,
           0.1303451449454538,
           0.4911639841721433,
           0.33835228597565126,
           -0.534635820789462,
           0.6846720742499243,
           0.5100849318179003,
           0.40626763954905365,
           -0.6761543524685498,
           0.42500365327177425,
           0.45460656505595115,
           0.20760807275803878,
           0.1663336653816877,
           null,
           0.6283670107493909,
           -0.31327483187797023,
           -0.3337600647067431,
           -0.3582849216354528,
           0.7005577706546886,
           0.6210288943090359,
           0.4102183400963884,
           1
          ]
         ]
        }
       ],
       "layout": {
        "annotations": [
         {
          "font": {
           "color": "#FFFFFF"
          },
          "showarrow": false,
          "text": "1.0",
          "x": "Avg_MHz",
          "xref": "x",
          "y": "Avg_MHz",
          "yref": "y"
         },
         {
          "font": {
           "color": "#FFFFFF"
          },
          "showarrow": false,
          "text": "0.95",
          "x": "Busy%",
          "xref": "x",
          "y": "Avg_MHz",
          "yref": "y"
         },
         {
          "font": {
           "color": "#FFFFFF"
          },
          "showarrow": false,
          "text": "-0.64",
          "x": "IPC",
          "xref": "x",
          "y": "Avg_MHz",
          "yref": "y"
         },
         {
          "font": {
           "color": "#FFFFFF"
          },
          "showarrow": false,
          "text": "0.13",
          "x": "IRQ",
          "xref": "x",
          "y": "Avg_MHz",
          "yref": "y"
         },
         {
          "font": {
           "color": "#FFFFFF"
          },
          "showarrow": false,
          "text": "0.66",
          "x": "POLL",
          "xref": "x",
          "y": "Avg_MHz",
          "yref": "y"
         },
         {
          "font": {
           "color": "#FFFFFF"
          },
          "showarrow": false,
          "text": "0.84",
          "x": "C1%",
          "xref": "x",
          "y": "Avg_MHz",
          "yref": "y"
         },
         {
          "font": {
           "color": "#FFFFFF"
          },
          "showarrow": false,
          "text": "0.9",
          "x": "C1E%",
          "xref": "x",
          "y": "Avg_MHz",
          "yref": "y"
         },
         {
          "font": {
           "color": "#FFFFFF"
          },
          "showarrow": false,
          "text": "0.86",
          "x": "C3%",
          "xref": "x",
          "y": "Avg_MHz",
          "yref": "y"
         },
         {
          "font": {
           "color": "#FFFFFF"
          },
          "showarrow": false,
          "text": "0.56",
          "x": "C6%",
          "xref": "x",
          "y": "Avg_MHz",
          "yref": "y"
         },
         {
          "font": {
           "color": "#FFFFFF"
          },
          "showarrow": false,
          "text": "0.3",
          "x": "C7s%",
          "xref": "x",
          "y": "Avg_MHz",
          "yref": "y"
         },
         {
          "font": {
           "color": "#FFFFFF"
          },
          "showarrow": false,
          "text": "0.31",
          "x": "C8%",
          "xref": "x",
          "y": "Avg_MHz",
          "yref": "y"
         },
         {
          "font": {
           "color": "#FFFFFF"
          },
          "showarrow": false,
          "text": "-0.09",
          "x": "C9%",
          "xref": "x",
          "y": "Avg_MHz",
          "yref": "y"
         },
         {
          "font": {
           "color": "#FFFFFF"
          },
          "showarrow": false,
          "text": "-0.3",
          "x": "C10%",
          "xref": "x",
          "y": "Avg_MHz",
          "yref": "y"
         },
         {
          "font": {
           "color": "#FFFFFF"
          },
          "showarrow": false,
          "text": "0.81",
          "x": "CPU%c1",
          "xref": "x",
          "y": "Avg_MHz",
          "yref": "y"
         },
         {
          "font": {
           "color": "#FFFFFF"
          },
          "showarrow": false,
          "text": "0.82",
          "x": "CPU%c3",
          "xref": "x",
          "y": "Avg_MHz",
          "yref": "y"
         },
         {
          "font": {
           "color": "#FFFFFF"
          },
          "showarrow": false,
          "text": "0.19",
          "x": "CPU%c6",
          "xref": "x",
          "y": "Avg_MHz",
          "yref": "y"
         },
         {
          "font": {
           "color": "#FFFFFF"
          },
          "showarrow": false,
          "text": "-0.85",
          "x": "CPU%c7",
          "xref": "x",
          "y": "Avg_MHz",
          "yref": "y"
         },
         {
          "font": {
           "color": "#FFFFFF"
          },
          "showarrow": false,
          "text": "-0.08",
          "x": "CoreTmp",
          "xref": "x",
          "y": "Avg_MHz",
          "yref": "y"
         },
         {
          "font": {
           "color": "#FFFFFF"
          },
          "showarrow": false,
          "text": "-0.07",
          "x": "PkgTmp",
          "xref": "x",
          "y": "Avg_MHz",
          "yref": "y"
         },
         {
          "font": {
           "color": "#FFFFFF"
          },
          "showarrow": false,
          "text": "0.21",
          "x": "GFX%rc6",
          "xref": "x",
          "y": "Avg_MHz",
          "yref": "y"
         },
         {
          "font": {
           "color": "#FFFFFF"
          },
          "showarrow": false,
          "text": "-0.07",
          "x": "GFXMHz",
          "xref": "x",
          "y": "Avg_MHz",
          "yref": "y"
         },
         {
          "font": {
           "color": "#FFFFFF"
          },
          "showarrow": false,
          "text": "nan",
          "x": "GFXAMHz",
          "xref": "x",
          "y": "Avg_MHz",
          "yref": "y"
         },
         {
          "font": {
           "color": "#FFFFFF"
          },
          "showarrow": false,
          "text": "0.94",
          "x": "Totl%C0",
          "xref": "x",
          "y": "Avg_MHz",
          "yref": "y"
         },
         {
          "font": {
           "color": "#FFFFFF"
          },
          "showarrow": false,
          "text": "0.14",
          "x": "Any%C0",
          "xref": "x",
          "y": "Avg_MHz",
          "yref": "y"
         },
         {
          "font": {
           "color": "#FFFFFF"
          },
          "showarrow": false,
          "text": "-0.0",
          "x": "GFX%C0",
          "xref": "x",
          "y": "Avg_MHz",
          "yref": "y"
         },
         {
          "font": {
           "color": "#FFFFFF"
          },
          "showarrow": false,
          "text": "0.01",
          "x": "CPUGFX%",
          "xref": "x",
          "y": "Avg_MHz",
          "yref": "y"
         },
         {
          "font": {
           "color": "#FFFFFF"
          },
          "showarrow": false,
          "text": "0.61",
          "x": "Pkg_J",
          "xref": "x",
          "y": "Avg_MHz",
          "yref": "y"
         },
         {
          "font": {
           "color": "#FFFFFF"
          },
          "showarrow": false,
          "text": "0.64",
          "x": "Cor_J",
          "xref": "x",
          "y": "Avg_MHz",
          "yref": "y"
         },
         {
          "font": {
           "color": "#FFFFFF"
          },
          "showarrow": false,
          "text": "0.01",
          "x": "GFX_J",
          "xref": "x",
          "y": "Avg_MHz",
          "yref": "y"
         },
         {
          "font": {
           "color": "#FFFFFF"
          },
          "showarrow": false,
          "text": "0.49",
          "x": "RAM_J",
          "xref": "x",
          "y": "Avg_MHz",
          "yref": "y"
         },
         {
          "font": {
           "color": "#FFFFFF"
          },
          "showarrow": false,
          "text": "0.95",
          "x": "Avg_MHz",
          "xref": "x",
          "y": "Busy%",
          "yref": "y"
         },
         {
          "font": {
           "color": "#FFFFFF"
          },
          "showarrow": false,
          "text": "1.0",
          "x": "Busy%",
          "xref": "x",
          "y": "Busy%",
          "yref": "y"
         },
         {
          "font": {
           "color": "#FFFFFF"
          },
          "showarrow": false,
          "text": "-0.65",
          "x": "IPC",
          "xref": "x",
          "y": "Busy%",
          "yref": "y"
         },
         {
          "font": {
           "color": "#FFFFFF"
          },
          "showarrow": false,
          "text": "0.28",
          "x": "IRQ",
          "xref": "x",
          "y": "Busy%",
          "yref": "y"
         },
         {
          "font": {
           "color": "#FFFFFF"
          },
          "showarrow": false,
          "text": "0.66",
          "x": "POLL",
          "xref": "x",
          "y": "Busy%",
          "yref": "y"
         },
         {
          "font": {
           "color": "#FFFFFF"
          },
          "showarrow": false,
          "text": "0.91",
          "x": "C1%",
          "xref": "x",
          "y": "Busy%",
          "yref": "y"
         },
         {
          "font": {
           "color": "#FFFFFF"
          },
          "showarrow": false,
          "text": "0.92",
          "x": "C1E%",
          "xref": "x",
          "y": "Busy%",
          "yref": "y"
         },
         {
          "font": {
           "color": "#FFFFFF"
          },
          "showarrow": false,
          "text": "0.89",
          "x": "C3%",
          "xref": "x",
          "y": "Busy%",
          "yref": "y"
         },
         {
          "font": {
           "color": "#FFFFFF"
          },
          "showarrow": false,
          "text": "0.66",
          "x": "C6%",
          "xref": "x",
          "y": "Busy%",
          "yref": "y"
         },
         {
          "font": {
           "color": "#FFFFFF"
          },
          "showarrow": false,
          "text": "0.28",
          "x": "C7s%",
          "xref": "x",
          "y": "Busy%",
          "yref": "y"
         },
         {
          "font": {
           "color": "#FFFFFF"
          },
          "showarrow": false,
          "text": "0.47",
          "x": "C8%",
          "xref": "x",
          "y": "Busy%",
          "yref": "y"
         },
         {
          "font": {
           "color": "#FFFFFF"
          },
          "showarrow": false,
          "text": "0.07",
          "x": "C9%",
          "xref": "x",
          "y": "Busy%",
          "yref": "y"
         },
         {
          "font": {
           "color": "#FFFFFF"
          },
          "showarrow": false,
          "text": "-0.46",
          "x": "C10%",
          "xref": "x",
          "y": "Busy%",
          "yref": "y"
         },
         {
          "font": {
           "color": "#FFFFFF"
          },
          "showarrow": false,
          "text": "0.92",
          "x": "CPU%c1",
          "xref": "x",
          "y": "Busy%",
          "yref": "y"
         },
         {
          "font": {
           "color": "#FFFFFF"
          },
          "showarrow": false,
          "text": "0.84",
          "x": "CPU%c3",
          "xref": "x",
          "y": "Busy%",
          "yref": "y"
         },
         {
          "font": {
           "color": "#FFFFFF"
          },
          "showarrow": false,
          "text": "0.32",
          "x": "CPU%c6",
          "xref": "x",
          "y": "Busy%",
          "yref": "y"
         },
         {
          "font": {
           "color": "#FFFFFF"
          },
          "showarrow": false,
          "text": "-0.95",
          "x": "CPU%c7",
          "xref": "x",
          "y": "Busy%",
          "yref": "y"
         },
         {
          "font": {
           "color": "#FFFFFF"
          },
          "showarrow": false,
          "text": "0.08",
          "x": "CoreTmp",
          "xref": "x",
          "y": "Busy%",
          "yref": "y"
         },
         {
          "font": {
           "color": "#FFFFFF"
          },
          "showarrow": false,
          "text": "0.1",
          "x": "PkgTmp",
          "xref": "x",
          "y": "Busy%",
          "yref": "y"
         },
         {
          "font": {
           "color": "#FFFFFF"
          },
          "showarrow": false,
          "text": "0.23",
          "x": "GFX%rc6",
          "xref": "x",
          "y": "Busy%",
          "yref": "y"
         },
         {
          "font": {
           "color": "#FFFFFF"
          },
          "showarrow": false,
          "text": "-0.03",
          "x": "GFXMHz",
          "xref": "x",
          "y": "Busy%",
          "yref": "y"
         },
         {
          "font": {
           "color": "#FFFFFF"
          },
          "showarrow": false,
          "text": "nan",
          "x": "GFXAMHz",
          "xref": "x",
          "y": "Busy%",
          "yref": "y"
         },
         {
          "font": {
           "color": "#FFFFFF"
          },
          "showarrow": false,
          "text": "1.0",
          "x": "Totl%C0",
          "xref": "x",
          "y": "Busy%",
          "yref": "y"
         },
         {
          "font": {
           "color": "#FFFFFF"
          },
          "showarrow": false,
          "text": "-0.02",
          "x": "Any%C0",
          "xref": "x",
          "y": "Busy%",
          "yref": "y"
         },
         {
          "font": {
           "color": "#FFFFFF"
          },
          "showarrow": false,
          "text": "-0.06",
          "x": "GFX%C0",
          "xref": "x",
          "y": "Busy%",
          "yref": "y"
         },
         {
          "font": {
           "color": "#FFFFFF"
          },
          "showarrow": false,
          "text": "-0.04",
          "x": "CPUGFX%",
          "xref": "x",
          "y": "Busy%",
          "yref": "y"
         },
         {
          "font": {
           "color": "#FFFFFF"
          },
          "showarrow": false,
          "text": "0.54",
          "x": "Pkg_J",
          "xref": "x",
          "y": "Busy%",
          "yref": "y"
         },
         {
          "font": {
           "color": "#FFFFFF"
          },
          "showarrow": false,
          "text": "0.54",
          "x": "Cor_J",
          "xref": "x",
          "y": "Busy%",
          "yref": "y"
         },
         {
          "font": {
           "color": "#FFFFFF"
          },
          "showarrow": false,
          "text": "0.08",
          "x": "GFX_J",
          "xref": "x",
          "y": "Busy%",
          "yref": "y"
         },
         {
          "font": {
           "color": "#FFFFFF"
          },
          "showarrow": false,
          "text": "0.62",
          "x": "RAM_J",
          "xref": "x",
          "y": "Busy%",
          "yref": "y"
         },
         {
          "font": {
           "color": "#FFFFFF"
          },
          "showarrow": false,
          "text": "-0.64",
          "x": "Avg_MHz",
          "xref": "x",
          "y": "IPC",
          "yref": "y"
         },
         {
          "font": {
           "color": "#FFFFFF"
          },
          "showarrow": false,
          "text": "-0.65",
          "x": "Busy%",
          "xref": "x",
          "y": "IPC",
          "yref": "y"
         },
         {
          "font": {
           "color": "#FFFFFF"
          },
          "showarrow": false,
          "text": "1.0",
          "x": "IPC",
          "xref": "x",
          "y": "IPC",
          "yref": "y"
         },
         {
          "font": {
           "color": "#FFFFFF"
          },
          "showarrow": false,
          "text": "-0.3",
          "x": "IRQ",
          "xref": "x",
          "y": "IPC",
          "yref": "y"
         },
         {
          "font": {
           "color": "#FFFFFF"
          },
          "showarrow": false,
          "text": "-0.53",
          "x": "POLL",
          "xref": "x",
          "y": "IPC",
          "yref": "y"
         },
         {
          "font": {
           "color": "#FFFFFF"
          },
          "showarrow": false,
          "text": "-0.63",
          "x": "C1%",
          "xref": "x",
          "y": "IPC",
          "yref": "y"
         },
         {
          "font": {
           "color": "#FFFFFF"
          },
          "showarrow": false,
          "text": "-0.56",
          "x": "C1E%",
          "xref": "x",
          "y": "IPC",
          "yref": "y"
         },
         {
          "font": {
           "color": "#FFFFFF"
          },
          "showarrow": false,
          "text": "-0.53",
          "x": "C3%",
          "xref": "x",
          "y": "IPC",
          "yref": "y"
         },
         {
          "font": {
           "color": "#FFFFFF"
          },
          "showarrow": false,
          "text": "-0.44",
          "x": "C6%",
          "xref": "x",
          "y": "IPC",
          "yref": "y"
         },
         {
          "font": {
           "color": "#FFFFFF"
          },
          "showarrow": false,
          "text": "-0.22",
          "x": "C7s%",
          "xref": "x",
          "y": "IPC",
          "yref": "y"
         },
         {
          "font": {
           "color": "#FFFFFF"
          },
          "showarrow": false,
          "text": "-0.34",
          "x": "C8%",
          "xref": "x",
          "y": "IPC",
          "yref": "y"
         },
         {
          "font": {
           "color": "#FFFFFF"
          },
          "showarrow": false,
          "text": "-0.14",
          "x": "C9%",
          "xref": "x",
          "y": "IPC",
          "yref": "y"
         },
         {
          "font": {
           "color": "#FFFFFF"
          },
          "showarrow": false,
          "text": "0.36",
          "x": "C10%",
          "xref": "x",
          "y": "IPC",
          "yref": "y"
         },
         {
          "font": {
           "color": "#FFFFFF"
          },
          "showarrow": false,
          "text": "-0.62",
          "x": "CPU%c1",
          "xref": "x",
          "y": "IPC",
          "yref": "y"
         },
         {
          "font": {
           "color": "#FFFFFF"
          },
          "showarrow": false,
          "text": "-0.52",
          "x": "CPU%c3",
          "xref": "x",
          "y": "IPC",
          "yref": "y"
         },
         {
          "font": {
           "color": "#FFFFFF"
          },
          "showarrow": false,
          "text": "-0.27",
          "x": "CPU%c6",
          "xref": "x",
          "y": "IPC",
          "yref": "y"
         },
         {
          "font": {
           "color": "#FFFFFF"
          },
          "showarrow": false,
          "text": "0.63",
          "x": "CPU%c7",
          "xref": "x",
          "y": "IPC",
          "yref": "y"
         },
         {
          "font": {
           "color": "#FFFFFF"
          },
          "showarrow": false,
          "text": "-0.13",
          "x": "CoreTmp",
          "xref": "x",
          "y": "IPC",
          "yref": "y"
         },
         {
          "font": {
           "color": "#FFFFFF"
          },
          "showarrow": false,
          "text": "-0.15",
          "x": "PkgTmp",
          "xref": "x",
          "y": "IPC",
          "yref": "y"
         },
         {
          "font": {
           "color": "#FFFFFF"
          },
          "showarrow": false,
          "text": "-0.19",
          "x": "GFX%rc6",
          "xref": "x",
          "y": "IPC",
          "yref": "y"
         },
         {
          "font": {
           "color": "#FFFFFF"
          },
          "showarrow": false,
          "text": "-0.07",
          "x": "GFXMHz",
          "xref": "x",
          "y": "IPC",
          "yref": "y"
         },
         {
          "font": {
           "color": "#FFFFFF"
          },
          "showarrow": false,
          "text": "nan",
          "x": "GFXAMHz",
          "xref": "x",
          "y": "IPC",
          "yref": "y"
         },
         {
          "font": {
           "color": "#FFFFFF"
          },
          "showarrow": false,
          "text": "-0.65",
          "x": "Totl%C0",
          "xref": "x",
          "y": "IPC",
          "yref": "y"
         },
         {
          "font": {
           "color": "#FFFFFF"
          },
          "showarrow": false,
          "text": "0.1",
          "x": "Any%C0",
          "xref": "x",
          "y": "IPC",
          "yref": "y"
         },
         {
          "font": {
           "color": "#FFFFFF"
          },
          "showarrow": false,
          "text": "0.24",
          "x": "GFX%C0",
          "xref": "x",
          "y": "IPC",
          "yref": "y"
         },
         {
          "font": {
           "color": "#FFFFFF"
          },
          "showarrow": false,
          "text": "0.25",
          "x": "CPUGFX%",
          "xref": "x",
          "y": "IPC",
          "yref": "y"
         },
         {
          "font": {
           "color": "#FFFFFF"
          },
          "showarrow": false,
          "text": "-0.76",
          "x": "Pkg_J",
          "xref": "x",
          "y": "IPC",
          "yref": "y"
         },
         {
          "font": {
           "color": "#FFFFFF"
          },
          "showarrow": false,
          "text": "-0.73",
          "x": "Cor_J",
          "xref": "x",
          "y": "IPC",
          "yref": "y"
         },
         {
          "font": {
           "color": "#FFFFFF"
          },
          "showarrow": false,
          "text": "-0.22",
          "x": "GFX_J",
          "xref": "x",
          "y": "IPC",
          "yref": "y"
         },
         {
          "font": {
           "color": "#FFFFFF"
          },
          "showarrow": false,
          "text": "-0.79",
          "x": "RAM_J",
          "xref": "x",
          "y": "IPC",
          "yref": "y"
         },
         {
          "font": {
           "color": "#FFFFFF"
          },
          "showarrow": false,
          "text": "0.13",
          "x": "Avg_MHz",
          "xref": "x",
          "y": "IRQ",
          "yref": "y"
         },
         {
          "font": {
           "color": "#FFFFFF"
          },
          "showarrow": false,
          "text": "0.28",
          "x": "Busy%",
          "xref": "x",
          "y": "IRQ",
          "yref": "y"
         },
         {
          "font": {
           "color": "#FFFFFF"
          },
          "showarrow": false,
          "text": "-0.3",
          "x": "IPC",
          "xref": "x",
          "y": "IRQ",
          "yref": "y"
         },
         {
          "font": {
           "color": "#FFFFFF"
          },
          "showarrow": false,
          "text": "1.0",
          "x": "IRQ",
          "xref": "x",
          "y": "IRQ",
          "yref": "y"
         },
         {
          "font": {
           "color": "#FFFFFF"
          },
          "showarrow": false,
          "text": "0.18",
          "x": "POLL",
          "xref": "x",
          "y": "IRQ",
          "yref": "y"
         },
         {
          "font": {
           "color": "#FFFFFF"
          },
          "showarrow": false,
          "text": "0.23",
          "x": "C1%",
          "xref": "x",
          "y": "IRQ",
          "yref": "y"
         },
         {
          "font": {
           "color": "#FFFFFF"
          },
          "showarrow": false,
          "text": "0.28",
          "x": "C1E%",
          "xref": "x",
          "y": "IRQ",
          "yref": "y"
         },
         {
          "font": {
           "color": "#FFFFFF"
          },
          "showarrow": false,
          "text": "0.36",
          "x": "C3%",
          "xref": "x",
          "y": "IRQ",
          "yref": "y"
         },
         {
          "font": {
           "color": "#FFFFFF"
          },
          "showarrow": false,
          "text": "0.8",
          "x": "C6%",
          "xref": "x",
          "y": "IRQ",
          "yref": "y"
         },
         {
          "font": {
           "color": "#FFFFFF"
          },
          "showarrow": false,
          "text": "0.07",
          "x": "C7s%",
          "xref": "x",
          "y": "IRQ",
          "yref": "y"
         },
         {
          "font": {
           "color": "#FFFFFF"
          },
          "showarrow": false,
          "text": "0.88",
          "x": "C8%",
          "xref": "x",
          "y": "IRQ",
          "yref": "y"
         },
         {
          "font": {
           "color": "#FFFFFF"
          },
          "showarrow": false,
          "text": "0.92",
          "x": "C9%",
          "xref": "x",
          "y": "IRQ",
          "yref": "y"
         },
         {
          "font": {
           "color": "#FFFFFF"
          },
          "showarrow": false,
          "text": "-0.94",
          "x": "C10%",
          "xref": "x",
          "y": "IRQ",
          "yref": "y"
         },
         {
          "font": {
           "color": "#FFFFFF"
          },
          "showarrow": false,
          "text": "0.6",
          "x": "CPU%c1",
          "xref": "x",
          "y": "IRQ",
          "yref": "y"
         },
         {
          "font": {
           "color": "#FFFFFF"
          },
          "showarrow": false,
          "text": "0.33",
          "x": "CPU%c3",
          "xref": "x",
          "y": "IRQ",
          "yref": "y"
         },
         {
          "font": {
           "color": "#FFFFFF"
          },
          "showarrow": false,
          "text": "0.9",
          "x": "CPU%c6",
          "xref": "x",
          "y": "IRQ",
          "yref": "y"
         },
         {
          "font": {
           "color": "#FFFFFF"
          },
          "showarrow": false,
          "text": "-0.56",
          "x": "CPU%c7",
          "xref": "x",
          "y": "IRQ",
          "yref": "y"
         },
         {
          "font": {
           "color": "#FFFFFF"
          },
          "showarrow": false,
          "text": "0.48",
          "x": "CoreTmp",
          "xref": "x",
          "y": "IRQ",
          "yref": "y"
         },
         {
          "font": {
           "color": "#FFFFFF"
          },
          "showarrow": false,
          "text": "0.54",
          "x": "PkgTmp",
          "xref": "x",
          "y": "IRQ",
          "yref": "y"
         },
         {
          "font": {
           "color": "#FFFFFF"
          },
          "showarrow": false,
          "text": "0.1",
          "x": "GFX%rc6",
          "xref": "x",
          "y": "IRQ",
          "yref": "y"
         },
         {
          "font": {
           "color": "#FFFFFF"
          },
          "showarrow": false,
          "text": "-0.03",
          "x": "GFXMHz",
          "xref": "x",
          "y": "IRQ",
          "yref": "y"
         },
         {
          "font": {
           "color": "#FFFFFF"
          },
          "showarrow": false,
          "text": "nan",
          "x": "GFXAMHz",
          "xref": "x",
          "y": "IRQ",
          "yref": "y"
         },
         {
          "font": {
           "color": "#FFFFFF"
          },
          "showarrow": false,
          "text": "0.29",
          "x": "Totl%C0",
          "xref": "x",
          "y": "IRQ",
          "yref": "y"
         },
         {
          "font": {
           "color": "#FFFFFF"
          },
          "showarrow": false,
          "text": "-0.94",
          "x": "Any%C0",
          "xref": "x",
          "y": "IRQ",
          "yref": "y"
         },
         {
          "font": {
           "color": "#FFFFFF"
          },
          "showarrow": false,
          "text": "-0.09",
          "x": "GFX%C0",
          "xref": "x",
          "y": "IRQ",
          "yref": "y"
         },
         {
          "font": {
           "color": "#FFFFFF"
          },
          "showarrow": false,
          "text": "-0.15",
          "x": "CPUGFX%",
          "xref": "x",
          "y": "IRQ",
          "yref": "y"
         },
         {
          "font": {
           "color": "#FFFFFF"
          },
          "showarrow": false,
          "text": "0.35",
          "x": "Pkg_J",
          "xref": "x",
          "y": "IRQ",
          "yref": "y"
         },
         {
          "font": {
           "color": "#FFFFFF"
          },
          "showarrow": false,
          "text": "0.29",
          "x": "Cor_J",
          "xref": "x",
          "y": "IRQ",
          "yref": "y"
         },
         {
          "font": {
           "color": "#FFFFFF"
          },
          "showarrow": false,
          "text": "0.4",
          "x": "GFX_J",
          "xref": "x",
          "y": "IRQ",
          "yref": "y"
         },
         {
          "font": {
           "color": "#FFFFFF"
          },
          "showarrow": false,
          "text": "0.48",
          "x": "RAM_J",
          "xref": "x",
          "y": "IRQ",
          "yref": "y"
         },
         {
          "font": {
           "color": "#FFFFFF"
          },
          "showarrow": false,
          "text": "0.66",
          "x": "Avg_MHz",
          "xref": "x",
          "y": "POLL",
          "yref": "y"
         },
         {
          "font": {
           "color": "#FFFFFF"
          },
          "showarrow": false,
          "text": "0.66",
          "x": "Busy%",
          "xref": "x",
          "y": "POLL",
          "yref": "y"
         },
         {
          "font": {
           "color": "#FFFFFF"
          },
          "showarrow": false,
          "text": "-0.53",
          "x": "IPC",
          "xref": "x",
          "y": "POLL",
          "yref": "y"
         },
         {
          "font": {
           "color": "#FFFFFF"
          },
          "showarrow": false,
          "text": "0.18",
          "x": "IRQ",
          "xref": "x",
          "y": "POLL",
          "yref": "y"
         },
         {
          "font": {
           "color": "#FFFFFF"
          },
          "showarrow": false,
          "text": "1.0",
          "x": "POLL",
          "xref": "x",
          "y": "POLL",
          "yref": "y"
         },
         {
          "font": {
           "color": "#FFFFFF"
          },
          "showarrow": false,
          "text": "0.57",
          "x": "C1%",
          "xref": "x",
          "y": "POLL",
          "yref": "y"
         },
         {
          "font": {
           "color": "#FFFFFF"
          },
          "showarrow": false,
          "text": "0.68",
          "x": "C1E%",
          "xref": "x",
          "y": "POLL",
          "yref": "y"
         },
         {
          "font": {
           "color": "#FFFFFF"
          },
          "showarrow": false,
          "text": "0.65",
          "x": "C3%",
          "xref": "x",
          "y": "POLL",
          "yref": "y"
         },
         {
          "font": {
           "color": "#FFFFFF"
          },
          "showarrow": false,
          "text": "0.51",
          "x": "C6%",
          "xref": "x",
          "y": "POLL",
          "yref": "y"
         },
         {
          "font": {
           "color": "#FFFFFF"
          },
          "showarrow": false,
          "text": "0.45",
          "x": "C7s%",
          "xref": "x",
          "y": "POLL",
          "yref": "y"
         },
         {
          "font": {
           "color": "#FFFFFF"
          },
          "showarrow": false,
          "text": "0.35",
          "x": "C8%",
          "xref": "x",
          "y": "POLL",
          "yref": "y"
         },
         {
          "font": {
           "color": "#FFFFFF"
          },
          "showarrow": false,
          "text": "-0.0",
          "x": "C9%",
          "xref": "x",
          "y": "POLL",
          "yref": "y"
         },
         {
          "font": {
           "color": "#FFFFFF"
          },
          "showarrow": false,
          "text": "-0.29",
          "x": "C10%",
          "xref": "x",
          "y": "POLL",
          "yref": "y"
         },
         {
          "font": {
           "color": "#FFFFFF"
          },
          "showarrow": false,
          "text": "0.6",
          "x": "CPU%c1",
          "xref": "x",
          "y": "POLL",
          "yref": "y"
         },
         {
          "font": {
           "color": "#FFFFFF"
          },
          "showarrow": false,
          "text": "0.63",
          "x": "CPU%c3",
          "xref": "x",
          "y": "POLL",
          "yref": "y"
         },
         {
          "font": {
           "color": "#FFFFFF"
          },
          "showarrow": false,
          "text": "0.26",
          "x": "CPU%c6",
          "xref": "x",
          "y": "POLL",
          "yref": "y"
         },
         {
          "font": {
           "color": "#FFFFFF"
          },
          "showarrow": false,
          "text": "-0.63",
          "x": "CPU%c7",
          "xref": "x",
          "y": "POLL",
          "yref": "y"
         },
         {
          "font": {
           "color": "#FFFFFF"
          },
          "showarrow": false,
          "text": "0.02",
          "x": "CoreTmp",
          "xref": "x",
          "y": "POLL",
          "yref": "y"
         },
         {
          "font": {
           "color": "#FFFFFF"
          },
          "showarrow": false,
          "text": "0.05",
          "x": "PkgTmp",
          "xref": "x",
          "y": "POLL",
          "yref": "y"
         },
         {
          "font": {
           "color": "#FFFFFF"
          },
          "showarrow": false,
          "text": "0.21",
          "x": "GFX%rc6",
          "xref": "x",
          "y": "POLL",
          "yref": "y"
         },
         {
          "font": {
           "color": "#FFFFFF"
          },
          "showarrow": false,
          "text": "-0.03",
          "x": "GFXMHz",
          "xref": "x",
          "y": "POLL",
          "yref": "y"
         },
         {
          "font": {
           "color": "#FFFFFF"
          },
          "showarrow": false,
          "text": "nan",
          "x": "GFXAMHz",
          "xref": "x",
          "y": "POLL",
          "yref": "y"
         },
         {
          "font": {
           "color": "#FFFFFF"
          },
          "showarrow": false,
          "text": "0.65",
          "x": "Totl%C0",
          "xref": "x",
          "y": "POLL",
          "yref": "y"
         },
         {
          "font": {
           "color": "#FFFFFF"
          },
          "showarrow": false,
          "text": "0.01",
          "x": "Any%C0",
          "xref": "x",
          "y": "POLL",
          "yref": "y"
         },
         {
          "font": {
           "color": "#FFFFFF"
          },
          "showarrow": false,
          "text": "-0.1",
          "x": "GFX%C0",
          "xref": "x",
          "y": "POLL",
          "yref": "y"
         },
         {
          "font": {
           "color": "#FFFFFF"
          },
          "showarrow": false,
          "text": "-0.1",
          "x": "CPUGFX%",
          "xref": "x",
          "y": "POLL",
          "yref": "y"
         },
         {
          "font": {
           "color": "#FFFFFF"
          },
          "showarrow": false,
          "text": "0.49",
          "x": "Pkg_J",
          "xref": "x",
          "y": "POLL",
          "yref": "y"
         },
         {
          "font": {
           "color": "#FFFFFF"
          },
          "showarrow": false,
          "text": "0.49",
          "x": "Cor_J",
          "xref": "x",
          "y": "POLL",
          "yref": "y"
         },
         {
          "font": {
           "color": "#FFFFFF"
          },
          "showarrow": false,
          "text": "0.03",
          "x": "GFX_J",
          "xref": "x",
          "y": "POLL",
          "yref": "y"
         },
         {
          "font": {
           "color": "#FFFFFF"
          },
          "showarrow": false,
          "text": "0.44",
          "x": "RAM_J",
          "xref": "x",
          "y": "POLL",
          "yref": "y"
         },
         {
          "font": {
           "color": "#FFFFFF"
          },
          "showarrow": false,
          "text": "0.84",
          "x": "Avg_MHz",
          "xref": "x",
          "y": "C1%",
          "yref": "y"
         },
         {
          "font": {
           "color": "#FFFFFF"
          },
          "showarrow": false,
          "text": "0.91",
          "x": "Busy%",
          "xref": "x",
          "y": "C1%",
          "yref": "y"
         },
         {
          "font": {
           "color": "#FFFFFF"
          },
          "showarrow": false,
          "text": "-0.63",
          "x": "IPC",
          "xref": "x",
          "y": "C1%",
          "yref": "y"
         },
         {
          "font": {
           "color": "#FFFFFF"
          },
          "showarrow": false,
          "text": "0.23",
          "x": "IRQ",
          "xref": "x",
          "y": "C1%",
          "yref": "y"
         },
         {
          "font": {
           "color": "#FFFFFF"
          },
          "showarrow": false,
          "text": "0.57",
          "x": "POLL",
          "xref": "x",
          "y": "C1%",
          "yref": "y"
         },
         {
          "font": {
           "color": "#FFFFFF"
          },
          "showarrow": false,
          "text": "1.0",
          "x": "C1%",
          "xref": "x",
          "y": "C1%",
          "yref": "y"
         },
         {
          "font": {
           "color": "#FFFFFF"
          },
          "showarrow": false,
          "text": "0.79",
          "x": "C1E%",
          "xref": "x",
          "y": "C1%",
          "yref": "y"
         },
         {
          "font": {
           "color": "#FFFFFF"
          },
          "showarrow": false,
          "text": "0.72",
          "x": "C3%",
          "xref": "x",
          "y": "C1%",
          "yref": "y"
         },
         {
          "font": {
           "color": "#FFFFFF"
          },
          "showarrow": false,
          "text": "0.51",
          "x": "C6%",
          "xref": "x",
          "y": "C1%",
          "yref": "y"
         },
         {
          "font": {
           "color": "#FFFFFF"
          },
          "showarrow": false,
          "text": "0.18",
          "x": "C7s%",
          "xref": "x",
          "y": "C1%",
          "yref": "y"
         },
         {
          "font": {
           "color": "#FFFFFF"
          },
          "showarrow": false,
          "text": "0.42",
          "x": "C8%",
          "xref": "x",
          "y": "C1%",
          "yref": "y"
         },
         {
          "font": {
           "color": "#FFFFFF"
          },
          "showarrow": false,
          "text": "0.06",
          "x": "C9%",
          "xref": "x",
          "y": "C1%",
          "yref": "y"
         },
         {
          "font": {
           "color": "#FFFFFF"
          },
          "showarrow": false,
          "text": "-0.41",
          "x": "C10%",
          "xref": "x",
          "y": "C1%",
          "yref": "y"
         },
         {
          "font": {
           "color": "#FFFFFF"
          },
          "showarrow": false,
          "text": "0.86",
          "x": "CPU%c1",
          "xref": "x",
          "y": "C1%",
          "yref": "y"
         },
         {
          "font": {
           "color": "#FFFFFF"
          },
          "showarrow": false,
          "text": "0.67",
          "x": "CPU%c3",
          "xref": "x",
          "y": "C1%",
          "yref": "y"
         },
         {
          "font": {
           "color": "#FFFFFF"
          },
          "showarrow": false,
          "text": "0.2",
          "x": "CPU%c6",
          "xref": "x",
          "y": "C1%",
          "yref": "y"
         },
         {
          "font": {
           "color": "#FFFFFF"
          },
          "showarrow": false,
          "text": "-0.86",
          "x": "CPU%c7",
          "xref": "x",
          "y": "C1%",
          "yref": "y"
         },
         {
          "font": {
           "color": "#FFFFFF"
          },
          "showarrow": false,
          "text": "0.02",
          "x": "CoreTmp",
          "xref": "x",
          "y": "C1%",
          "yref": "y"
         },
         {
          "font": {
           "color": "#FFFFFF"
          },
          "showarrow": false,
          "text": "0.03",
          "x": "PkgTmp",
          "xref": "x",
          "y": "C1%",
          "yref": "y"
         },
         {
          "font": {
           "color": "#FFFFFF"
          },
          "showarrow": false,
          "text": "0.31",
          "x": "GFX%rc6",
          "xref": "x",
          "y": "C1%",
          "yref": "y"
         },
         {
          "font": {
           "color": "#FFFFFF"
          },
          "showarrow": false,
          "text": "-0.03",
          "x": "GFXMHz",
          "xref": "x",
          "y": "C1%",
          "yref": "y"
         },
         {
          "font": {
           "color": "#FFFFFF"
          },
          "showarrow": false,
          "text": "nan",
          "x": "GFXAMHz",
          "xref": "x",
          "y": "C1%",
          "yref": "y"
         },
         {
          "font": {
           "color": "#FFFFFF"
          },
          "showarrow": false,
          "text": "0.91",
          "x": "Totl%C0",
          "xref": "x",
          "y": "C1%",
          "yref": "y"
         },
         {
          "font": {
           "color": "#FFFFFF"
          },
          "showarrow": false,
          "text": "-0.02",
          "x": "Any%C0",
          "xref": "x",
          "y": "C1%",
          "yref": "y"
         },
         {
          "font": {
           "color": "#FFFFFF"
          },
          "showarrow": false,
          "text": "-0.17",
          "x": "GFX%C0",
          "xref": "x",
          "y": "C1%",
          "yref": "y"
         },
         {
          "font": {
           "color": "#FFFFFF"
          },
          "showarrow": false,
          "text": "-0.15",
          "x": "CPUGFX%",
          "xref": "x",
          "y": "C1%",
          "yref": "y"
         },
         {
          "font": {
           "color": "#FFFFFF"
          },
          "showarrow": false,
          "text": "0.45",
          "x": "Pkg_J",
          "xref": "x",
          "y": "C1%",
          "yref": "y"
         },
         {
          "font": {
           "color": "#FFFFFF"
          },
          "showarrow": false,
          "text": "0.45",
          "x": "Cor_J",
          "xref": "x",
          "y": "C1%",
          "yref": "y"
         },
         {
          "font": {
           "color": "#FFFFFF"
          },
          "showarrow": false,
          "text": "-0.01",
          "x": "GFX_J",
          "xref": "x",
          "y": "C1%",
          "yref": "y"
         },
         {
          "font": {
           "color": "#FFFFFF"
          },
          "showarrow": false,
          "text": "0.61",
          "x": "RAM_J",
          "xref": "x",
          "y": "C1%",
          "yref": "y"
         },
         {
          "font": {
           "color": "#FFFFFF"
          },
          "showarrow": false,
          "text": "0.9",
          "x": "Avg_MHz",
          "xref": "x",
          "y": "C1E%",
          "yref": "y"
         },
         {
          "font": {
           "color": "#FFFFFF"
          },
          "showarrow": false,
          "text": "0.92",
          "x": "Busy%",
          "xref": "x",
          "y": "C1E%",
          "yref": "y"
         },
         {
          "font": {
           "color": "#FFFFFF"
          },
          "showarrow": false,
          "text": "-0.56",
          "x": "IPC",
          "xref": "x",
          "y": "C1E%",
          "yref": "y"
         },
         {
          "font": {
           "color": "#FFFFFF"
          },
          "showarrow": false,
          "text": "0.28",
          "x": "IRQ",
          "xref": "x",
          "y": "C1E%",
          "yref": "y"
         },
         {
          "font": {
           "color": "#FFFFFF"
          },
          "showarrow": false,
          "text": "0.68",
          "x": "POLL",
          "xref": "x",
          "y": "C1E%",
          "yref": "y"
         },
         {
          "font": {
           "color": "#FFFFFF"
          },
          "showarrow": false,
          "text": "0.79",
          "x": "C1%",
          "xref": "x",
          "y": "C1E%",
          "yref": "y"
         },
         {
          "font": {
           "color": "#FFFFFF"
          },
          "showarrow": false,
          "text": "1.0",
          "x": "C1E%",
          "xref": "x",
          "y": "C1E%",
          "yref": "y"
         },
         {
          "font": {
           "color": "#FFFFFF"
          },
          "showarrow": false,
          "text": "0.93",
          "x": "C3%",
          "xref": "x",
          "y": "C1E%",
          "yref": "y"
         },
         {
          "font": {
           "color": "#FFFFFF"
          },
          "showarrow": false,
          "text": "0.69",
          "x": "C6%",
          "xref": "x",
          "y": "C1E%",
          "yref": "y"
         },
         {
          "font": {
           "color": "#FFFFFF"
          },
          "showarrow": false,
          "text": "0.31",
          "x": "C7s%",
          "xref": "x",
          "y": "C1E%",
          "yref": "y"
         },
         {
          "font": {
           "color": "#FFFFFF"
          },
          "showarrow": false,
          "text": "0.48",
          "x": "C8%",
          "xref": "x",
          "y": "C1E%",
          "yref": "y"
         },
         {
          "font": {
           "color": "#FFFFFF"
          },
          "showarrow": false,
          "text": "0.06",
          "x": "C9%",
          "xref": "x",
          "y": "C1E%",
          "yref": "y"
         },
         {
          "font": {
           "color": "#FFFFFF"
          },
          "showarrow": false,
          "text": "-0.44",
          "x": "C10%",
          "xref": "x",
          "y": "C1E%",
          "yref": "y"
         },
         {
          "font": {
           "color": "#FFFFFF"
          },
          "showarrow": false,
          "text": "0.87",
          "x": "CPU%c1",
          "xref": "x",
          "y": "C1E%",
          "yref": "y"
         },
         {
          "font": {
           "color": "#FFFFFF"
          },
          "showarrow": false,
          "text": "0.9",
          "x": "CPU%c3",
          "xref": "x",
          "y": "C1E%",
          "yref": "y"
         },
         {
          "font": {
           "color": "#FFFFFF"
          },
          "showarrow": false,
          "text": "0.34",
          "x": "CPU%c6",
          "xref": "x",
          "y": "C1E%",
          "yref": "y"
         },
         {
          "font": {
           "color": "#FFFFFF"
          },
          "showarrow": false,
          "text": "-0.9",
          "x": "CPU%c7",
          "xref": "x",
          "y": "C1E%",
          "yref": "y"
         },
         {
          "font": {
           "color": "#FFFFFF"
          },
          "showarrow": false,
          "text": "0.07",
          "x": "CoreTmp",
          "xref": "x",
          "y": "C1E%",
          "yref": "y"
         },
         {
          "font": {
           "color": "#FFFFFF"
          },
          "showarrow": false,
          "text": "0.09",
          "x": "PkgTmp",
          "xref": "x",
          "y": "C1E%",
          "yref": "y"
         },
         {
          "font": {
           "color": "#FFFFFF"
          },
          "showarrow": false,
          "text": "0.24",
          "x": "GFX%rc6",
          "xref": "x",
          "y": "C1E%",
          "yref": "y"
         },
         {
          "font": {
           "color": "#FFFFFF"
          },
          "showarrow": false,
          "text": "-0.03",
          "x": "GFXMHz",
          "xref": "x",
          "y": "C1E%",
          "yref": "y"
         },
         {
          "font": {
           "color": "#FFFFFF"
          },
          "showarrow": false,
          "text": "nan",
          "x": "GFXAMHz",
          "xref": "x",
          "y": "C1E%",
          "yref": "y"
         },
         {
          "font": {
           "color": "#FFFFFF"
          },
          "showarrow": false,
          "text": "0.92",
          "x": "Totl%C0",
          "xref": "x",
          "y": "C1E%",
          "yref": "y"
         },
         {
          "font": {
           "color": "#FFFFFF"
          },
          "showarrow": false,
          "text": "-0.03",
          "x": "Any%C0",
          "xref": "x",
          "y": "C1E%",
          "yref": "y"
         },
         {
          "font": {
           "color": "#FFFFFF"
          },
          "showarrow": false,
          "text": "-0.05",
          "x": "GFX%C0",
          "xref": "x",
          "y": "C1E%",
          "yref": "y"
         },
         {
          "font": {
           "color": "#FFFFFF"
          },
          "showarrow": false,
          "text": "-0.04",
          "x": "CPUGFX%",
          "xref": "x",
          "y": "C1E%",
          "yref": "y"
         },
         {
          "font": {
           "color": "#FFFFFF"
          },
          "showarrow": false,
          "text": "0.54",
          "x": "Pkg_J",
          "xref": "x",
          "y": "C1E%",
          "yref": "y"
         },
         {
          "font": {
           "color": "#FFFFFF"
          },
          "showarrow": false,
          "text": "0.54",
          "x": "Cor_J",
          "xref": "x",
          "y": "C1E%",
          "yref": "y"
         },
         {
          "font": {
           "color": "#FFFFFF"
          },
          "showarrow": false,
          "text": "0.11",
          "x": "GFX_J",
          "xref": "x",
          "y": "C1E%",
          "yref": "y"
         },
         {
          "font": {
           "color": "#FFFFFF"
          },
          "showarrow": false,
          "text": "0.57",
          "x": "RAM_J",
          "xref": "x",
          "y": "C1E%",
          "yref": "y"
         },
         {
          "font": {
           "color": "#FFFFFF"
          },
          "showarrow": false,
          "text": "0.86",
          "x": "Avg_MHz",
          "xref": "x",
          "y": "C3%",
          "yref": "y"
         },
         {
          "font": {
           "color": "#FFFFFF"
          },
          "showarrow": false,
          "text": "0.89",
          "x": "Busy%",
          "xref": "x",
          "y": "C3%",
          "yref": "y"
         },
         {
          "font": {
           "color": "#FFFFFF"
          },
          "showarrow": false,
          "text": "-0.53",
          "x": "IPC",
          "xref": "x",
          "y": "C3%",
          "yref": "y"
         },
         {
          "font": {
           "color": "#FFFFFF"
          },
          "showarrow": false,
          "text": "0.36",
          "x": "IRQ",
          "xref": "x",
          "y": "C3%",
          "yref": "y"
         },
         {
          "font": {
           "color": "#FFFFFF"
          },
          "showarrow": false,
          "text": "0.65",
          "x": "POLL",
          "xref": "x",
          "y": "C3%",
          "yref": "y"
         },
         {
          "font": {
           "color": "#FFFFFF"
          },
          "showarrow": false,
          "text": "0.72",
          "x": "C1%",
          "xref": "x",
          "y": "C3%",
          "yref": "y"
         },
         {
          "font": {
           "color": "#FFFFFF"
          },
          "showarrow": false,
          "text": "0.93",
          "x": "C1E%",
          "xref": "x",
          "y": "C3%",
          "yref": "y"
         },
         {
          "font": {
           "color": "#FFFFFF"
          },
          "showarrow": false,
          "text": "1.0",
          "x": "C3%",
          "xref": "x",
          "y": "C3%",
          "yref": "y"
         },
         {
          "font": {
           "color": "#FFFFFF"
          },
          "showarrow": false,
          "text": "0.75",
          "x": "C6%",
          "xref": "x",
          "y": "C3%",
          "yref": "y"
         },
         {
          "font": {
           "color": "#FFFFFF"
          },
          "showarrow": false,
          "text": "0.32",
          "x": "C7s%",
          "xref": "x",
          "y": "C3%",
          "yref": "y"
         },
         {
          "font": {
           "color": "#FFFFFF"
          },
          "showarrow": false,
          "text": "0.52",
          "x": "C8%",
          "xref": "x",
          "y": "C3%",
          "yref": "y"
         },
         {
          "font": {
           "color": "#FFFFFF"
          },
          "showarrow": false,
          "text": "0.13",
          "x": "C9%",
          "xref": "x",
          "y": "C3%",
          "yref": "y"
         },
         {
          "font": {
           "color": "#FFFFFF"
          },
          "showarrow": false,
          "text": "-0.49",
          "x": "C10%",
          "xref": "x",
          "y": "C3%",
          "yref": "y"
         },
         {
          "font": {
           "color": "#FFFFFF"
          },
          "showarrow": false,
          "text": "0.85",
          "x": "CPU%c1",
          "xref": "x",
          "y": "C3%",
          "yref": "y"
         },
         {
          "font": {
           "color": "#FFFFFF"
          },
          "showarrow": false,
          "text": "0.97",
          "x": "CPU%c3",
          "xref": "x",
          "y": "C3%",
          "yref": "y"
         },
         {
          "font": {
           "color": "#FFFFFF"
          },
          "showarrow": false,
          "text": "0.41",
          "x": "CPU%c6",
          "xref": "x",
          "y": "C3%",
          "yref": "y"
         },
         {
          "font": {
           "color": "#FFFFFF"
          },
          "showarrow": false,
          "text": "-0.88",
          "x": "CPU%c7",
          "xref": "x",
          "y": "C3%",
          "yref": "y"
         },
         {
          "font": {
           "color": "#FFFFFF"
          },
          "showarrow": false,
          "text": "0.13",
          "x": "CoreTmp",
          "xref": "x",
          "y": "C3%",
          "yref": "y"
         },
         {
          "font": {
           "color": "#FFFFFF"
          },
          "showarrow": false,
          "text": "0.16",
          "x": "PkgTmp",
          "xref": "x",
          "y": "C3%",
          "yref": "y"
         },
         {
          "font": {
           "color": "#FFFFFF"
          },
          "showarrow": false,
          "text": "0.17",
          "x": "GFX%rc6",
          "xref": "x",
          "y": "C3%",
          "yref": "y"
         },
         {
          "font": {
           "color": "#FFFFFF"
          },
          "showarrow": false,
          "text": "-0.04",
          "x": "GFXMHz",
          "xref": "x",
          "y": "C3%",
          "yref": "y"
         },
         {
          "font": {
           "color": "#FFFFFF"
          },
          "showarrow": false,
          "text": "nan",
          "x": "GFXAMHz",
          "xref": "x",
          "y": "C3%",
          "yref": "y"
         },
         {
          "font": {
           "color": "#FFFFFF"
          },
          "showarrow": false,
          "text": "0.89",
          "x": "Totl%C0",
          "xref": "x",
          "y": "C3%",
          "yref": "y"
         },
         {
          "font": {
           "color": "#FFFFFF"
          },
          "showarrow": false,
          "text": "-0.1",
          "x": "Any%C0",
          "xref": "x",
          "y": "C3%",
          "yref": "y"
         },
         {
          "font": {
           "color": "#FFFFFF"
          },
          "showarrow": false,
          "text": "-0.01",
          "x": "GFX%C0",
          "xref": "x",
          "y": "C3%",
          "yref": "y"
         },
         {
          "font": {
           "color": "#FFFFFF"
          },
          "showarrow": false,
          "text": "0.0",
          "x": "CPUGFX%",
          "xref": "x",
          "y": "C3%",
          "yref": "y"
         },
         {
          "font": {
           "color": "#FFFFFF"
          },
          "showarrow": false,
          "text": "0.54",
          "x": "Pkg_J",
          "xref": "x",
          "y": "C3%",
          "yref": "y"
         },
         {
          "font": {
           "color": "#FFFFFF"
          },
          "showarrow": false,
          "text": "0.54",
          "x": "Cor_J",
          "xref": "x",
          "y": "C3%",
          "yref": "y"
         },
         {
          "font": {
           "color": "#FFFFFF"
          },
          "showarrow": false,
          "text": "0.17",
          "x": "GFX_J",
          "xref": "x",
          "y": "C3%",
          "yref": "y"
         },
         {
          "font": {
           "color": "#FFFFFF"
          },
          "showarrow": false,
          "text": "0.54",
          "x": "RAM_J",
          "xref": "x",
          "y": "C3%",
          "yref": "y"
         },
         {
          "font": {
           "color": "#FFFFFF"
          },
          "showarrow": false,
          "text": "0.56",
          "x": "Avg_MHz",
          "xref": "x",
          "y": "C6%",
          "yref": "y"
         },
         {
          "font": {
           "color": "#FFFFFF"
          },
          "showarrow": false,
          "text": "0.66",
          "x": "Busy%",
          "xref": "x",
          "y": "C6%",
          "yref": "y"
         },
         {
          "font": {
           "color": "#FFFFFF"
          },
          "showarrow": false,
          "text": "-0.44",
          "x": "IPC",
          "xref": "x",
          "y": "C6%",
          "yref": "y"
         },
         {
          "font": {
           "color": "#FFFFFF"
          },
          "showarrow": false,
          "text": "0.8",
          "x": "IRQ",
          "xref": "x",
          "y": "C6%",
          "yref": "y"
         },
         {
          "font": {
           "color": "#FFFFFF"
          },
          "showarrow": false,
          "text": "0.51",
          "x": "POLL",
          "xref": "x",
          "y": "C6%",
          "yref": "y"
         },
         {
          "font": {
           "color": "#FFFFFF"
          },
          "showarrow": false,
          "text": "0.51",
          "x": "C1%",
          "xref": "x",
          "y": "C6%",
          "yref": "y"
         },
         {
          "font": {
           "color": "#FFFFFF"
          },
          "showarrow": false,
          "text": "0.69",
          "x": "C1E%",
          "xref": "x",
          "y": "C6%",
          "yref": "y"
         },
         {
          "font": {
           "color": "#FFFFFF"
          },
          "showarrow": false,
          "text": "0.75",
          "x": "C3%",
          "xref": "x",
          "y": "C6%",
          "yref": "y"
         },
         {
          "font": {
           "color": "#FFFFFF"
          },
          "showarrow": false,
          "text": "1.0",
          "x": "C6%",
          "xref": "x",
          "y": "C6%",
          "yref": "y"
         },
         {
          "font": {
           "color": "#FFFFFF"
          },
          "showarrow": false,
          "text": "0.24",
          "x": "C7s%",
          "xref": "x",
          "y": "C6%",
          "yref": "y"
         },
         {
          "font": {
           "color": "#FFFFFF"
          },
          "showarrow": false,
          "text": "0.83",
          "x": "C8%",
          "xref": "x",
          "y": "C6%",
          "yref": "y"
         },
         {
          "font": {
           "color": "#FFFFFF"
          },
          "showarrow": false,
          "text": "0.62",
          "x": "C9%",
          "xref": "x",
          "y": "C6%",
          "yref": "y"
         },
         {
          "font": {
           "color": "#FFFFFF"
          },
          "showarrow": false,
          "text": "-0.85",
          "x": "C10%",
          "xref": "x",
          "y": "C6%",
          "yref": "y"
         },
         {
          "font": {
           "color": "#FFFFFF"
          },
          "showarrow": false,
          "text": "0.83",
          "x": "CPU%c1",
          "xref": "x",
          "y": "C6%",
          "yref": "y"
         },
         {
          "font": {
           "color": "#FFFFFF"
          },
          "showarrow": false,
          "text": "0.72",
          "x": "CPU%c3",
          "xref": "x",
          "y": "C6%",
          "yref": "y"
         },
         {
          "font": {
           "color": "#FFFFFF"
          },
          "showarrow": false,
          "text": "0.89",
          "x": "CPU%c6",
          "xref": "x",
          "y": "C6%",
          "yref": "y"
         },
         {
          "font": {
           "color": "#FFFFFF"
          },
          "showarrow": false,
          "text": "-0.84",
          "x": "CPU%c7",
          "xref": "x",
          "y": "C6%",
          "yref": "y"
         },
         {
          "font": {
           "color": "#FFFFFF"
          },
          "showarrow": false,
          "text": "0.34",
          "x": "CoreTmp",
          "xref": "x",
          "y": "C6%",
          "yref": "y"
         },
         {
          "font": {
           "color": "#FFFFFF"
          },
          "showarrow": false,
          "text": "0.4",
          "x": "PkgTmp",
          "xref": "x",
          "y": "C6%",
          "yref": "y"
         },
         {
          "font": {
           "color": "#FFFFFF"
          },
          "showarrow": false,
          "text": "0.14",
          "x": "GFX%rc6",
          "xref": "x",
          "y": "C6%",
          "yref": "y"
         },
         {
          "font": {
           "color": "#FFFFFF"
          },
          "showarrow": false,
          "text": "-0.07",
          "x": "GFXMHz",
          "xref": "x",
          "y": "C6%",
          "yref": "y"
         },
         {
          "font": {
           "color": "#FFFFFF"
          },
          "showarrow": false,
          "text": "nan",
          "x": "GFXAMHz",
          "xref": "x",
          "y": "C6%",
          "yref": "y"
         },
         {
          "font": {
           "color": "#FFFFFF"
          },
          "showarrow": false,
          "text": "0.67",
          "x": "Totl%C0",
          "xref": "x",
          "y": "C6%",
          "yref": "y"
         },
         {
          "font": {
           "color": "#FFFFFF"
          },
          "showarrow": false,
          "text": "-0.63",
          "x": "Any%C0",
          "xref": "x",
          "y": "C6%",
          "yref": "y"
         },
         {
          "font": {
           "color": "#FFFFFF"
          },
          "showarrow": false,
          "text": "0.01",
          "x": "GFX%C0",
          "xref": "x",
          "y": "C6%",
          "yref": "y"
         },
         {
          "font": {
           "color": "#FFFFFF"
          },
          "showarrow": false,
          "text": "-0.02",
          "x": "CPUGFX%",
          "xref": "x",
          "y": "C6%",
          "yref": "y"
         },
         {
          "font": {
           "color": "#FFFFFF"
          },
          "showarrow": false,
          "text": "0.48",
          "x": "Pkg_J",
          "xref": "x",
          "y": "C6%",
          "yref": "y"
         },
         {
          "font": {
           "color": "#FFFFFF"
          },
          "showarrow": false,
          "text": "0.45",
          "x": "Cor_J",
          "xref": "x",
          "y": "C6%",
          "yref": "y"
         },
         {
          "font": {
           "color": "#FFFFFF"
          },
          "showarrow": false,
          "text": "0.34",
          "x": "GFX_J",
          "xref": "x",
          "y": "C6%",
          "yref": "y"
         },
         {
          "font": {
           "color": "#FFFFFF"
          },
          "showarrow": false,
          "text": "0.54",
          "x": "RAM_J",
          "xref": "x",
          "y": "C6%",
          "yref": "y"
         },
         {
          "font": {
           "color": "#FFFFFF"
          },
          "showarrow": false,
          "text": "0.3",
          "x": "Avg_MHz",
          "xref": "x",
          "y": "C7s%",
          "yref": "y"
         },
         {
          "font": {
           "color": "#FFFFFF"
          },
          "showarrow": false,
          "text": "0.28",
          "x": "Busy%",
          "xref": "x",
          "y": "C7s%",
          "yref": "y"
         },
         {
          "font": {
           "color": "#FFFFFF"
          },
          "showarrow": false,
          "text": "-0.22",
          "x": "IPC",
          "xref": "x",
          "y": "C7s%",
          "yref": "y"
         },
         {
          "font": {
           "color": "#FFFFFF"
          },
          "showarrow": false,
          "text": "0.07",
          "x": "IRQ",
          "xref": "x",
          "y": "C7s%",
          "yref": "y"
         },
         {
          "font": {
           "color": "#FFFFFF"
          },
          "showarrow": false,
          "text": "0.45",
          "x": "POLL",
          "xref": "x",
          "y": "C7s%",
          "yref": "y"
         },
         {
          "font": {
           "color": "#FFFFFF"
          },
          "showarrow": false,
          "text": "0.18",
          "x": "C1%",
          "xref": "x",
          "y": "C7s%",
          "yref": "y"
         },
         {
          "font": {
           "color": "#FFFFFF"
          },
          "showarrow": false,
          "text": "0.31",
          "x": "C1E%",
          "xref": "x",
          "y": "C7s%",
          "yref": "y"
         },
         {
          "font": {
           "color": "#FFFFFF"
          },
          "showarrow": false,
          "text": "0.32",
          "x": "C3%",
          "xref": "x",
          "y": "C7s%",
          "yref": "y"
         },
         {
          "font": {
           "color": "#FFFFFF"
          },
          "showarrow": false,
          "text": "0.24",
          "x": "C6%",
          "xref": "x",
          "y": "C7s%",
          "yref": "y"
         },
         {
          "font": {
           "color": "#FFFFFF"
          },
          "showarrow": false,
          "text": "1.0",
          "x": "C7s%",
          "xref": "x",
          "y": "C7s%",
          "yref": "y"
         },
         {
          "font": {
           "color": "#FFFFFF"
          },
          "showarrow": false,
          "text": "0.08",
          "x": "C8%",
          "xref": "x",
          "y": "C7s%",
          "yref": "y"
         },
         {
          "font": {
           "color": "#FFFFFF"
          },
          "showarrow": false,
          "text": "-0.01",
          "x": "C9%",
          "xref": "x",
          "y": "C7s%",
          "yref": "y"
         },
         {
          "font": {
           "color": "#FFFFFF"
          },
          "showarrow": false,
          "text": "-0.1",
          "x": "C10%",
          "xref": "x",
          "y": "C7s%",
          "yref": "y"
         },
         {
          "font": {
           "color": "#FFFFFF"
          },
          "showarrow": false,
          "text": "0.24",
          "x": "CPU%c1",
          "xref": "x",
          "y": "C7s%",
          "yref": "y"
         },
         {
          "font": {
           "color": "#FFFFFF"
          },
          "showarrow": false,
          "text": "0.3",
          "x": "CPU%c3",
          "xref": "x",
          "y": "C7s%",
          "yref": "y"
         },
         {
          "font": {
           "color": "#FFFFFF"
          },
          "showarrow": false,
          "text": "0.13",
          "x": "CPU%c6",
          "xref": "x",
          "y": "C7s%",
          "yref": "y"
         },
         {
          "font": {
           "color": "#FFFFFF"
          },
          "showarrow": false,
          "text": "-0.26",
          "x": "CPU%c7",
          "xref": "x",
          "y": "C7s%",
          "yref": "y"
         },
         {
          "font": {
           "color": "#FFFFFF"
          },
          "showarrow": false,
          "text": "-0.02",
          "x": "CoreTmp",
          "xref": "x",
          "y": "C7s%",
          "yref": "y"
         },
         {
          "font": {
           "color": "#FFFFFF"
          },
          "showarrow": false,
          "text": "-0.01",
          "x": "PkgTmp",
          "xref": "x",
          "y": "C7s%",
          "yref": "y"
         },
         {
          "font": {
           "color": "#FFFFFF"
          },
          "showarrow": false,
          "text": "0.14",
          "x": "GFX%rc6",
          "xref": "x",
          "y": "C7s%",
          "yref": "y"
         },
         {
          "font": {
           "color": "#FFFFFF"
          },
          "showarrow": false,
          "text": "-0.05",
          "x": "GFXMHz",
          "xref": "x",
          "y": "C7s%",
          "yref": "y"
         },
         {
          "font": {
           "color": "#FFFFFF"
          },
          "showarrow": false,
          "text": "nan",
          "x": "GFXAMHz",
          "xref": "x",
          "y": "C7s%",
          "yref": "y"
         },
         {
          "font": {
           "color": "#FFFFFF"
          },
          "showarrow": false,
          "text": "0.28",
          "x": "Totl%C0",
          "xref": "x",
          "y": "C7s%",
          "yref": "y"
         },
         {
          "font": {
           "color": "#FFFFFF"
          },
          "showarrow": false,
          "text": "0.02",
          "x": "Any%C0",
          "xref": "x",
          "y": "C7s%",
          "yref": "y"
         },
         {
          "font": {
           "color": "#FFFFFF"
          },
          "showarrow": false,
          "text": "-0.04",
          "x": "GFX%C0",
          "xref": "x",
          "y": "C7s%",
          "yref": "y"
         },
         {
          "font": {
           "color": "#FFFFFF"
          },
          "showarrow": false,
          "text": "-0.04",
          "x": "CPUGFX%",
          "xref": "x",
          "y": "C7s%",
          "yref": "y"
         },
         {
          "font": {
           "color": "#FFFFFF"
          },
          "showarrow": false,
          "text": "0.2",
          "x": "Pkg_J",
          "xref": "x",
          "y": "C7s%",
          "yref": "y"
         },
         {
          "font": {
           "color": "#FFFFFF"
          },
          "showarrow": false,
          "text": "0.2",
          "x": "Cor_J",
          "xref": "x",
          "y": "C7s%",
          "yref": "y"
         },
         {
          "font": {
           "color": "#FFFFFF"
          },
          "showarrow": false,
          "text": "-0.06",
          "x": "GFX_J",
          "xref": "x",
          "y": "C7s%",
          "yref": "y"
         },
         {
          "font": {
           "color": "#FFFFFF"
          },
          "showarrow": false,
          "text": "0.13",
          "x": "RAM_J",
          "xref": "x",
          "y": "C7s%",
          "yref": "y"
         },
         {
          "font": {
           "color": "#FFFFFF"
          },
          "showarrow": false,
          "text": "0.31",
          "x": "Avg_MHz",
          "xref": "x",
          "y": "C8%",
          "yref": "y"
         },
         {
          "font": {
           "color": "#FFFFFF"
          },
          "showarrow": false,
          "text": "0.47",
          "x": "Busy%",
          "xref": "x",
          "y": "C8%",
          "yref": "y"
         },
         {
          "font": {
           "color": "#FFFFFF"
          },
          "showarrow": false,
          "text": "-0.34",
          "x": "IPC",
          "xref": "x",
          "y": "C8%",
          "yref": "y"
         },
         {
          "font": {
           "color": "#FFFFFF"
          },
          "showarrow": false,
          "text": "0.88",
          "x": "IRQ",
          "xref": "x",
          "y": "C8%",
          "yref": "y"
         },
         {
          "font": {
           "color": "#FFFFFF"
          },
          "showarrow": false,
          "text": "0.35",
          "x": "POLL",
          "xref": "x",
          "y": "C8%",
          "yref": "y"
         },
         {
          "font": {
           "color": "#FFFFFF"
          },
          "showarrow": false,
          "text": "0.42",
          "x": "C1%",
          "xref": "x",
          "y": "C8%",
          "yref": "y"
         },
         {
          "font": {
           "color": "#FFFFFF"
          },
          "showarrow": false,
          "text": "0.48",
          "x": "C1E%",
          "xref": "x",
          "y": "C8%",
          "yref": "y"
         },
         {
          "font": {
           "color": "#FFFFFF"
          },
          "showarrow": false,
          "text": "0.52",
          "x": "C3%",
          "xref": "x",
          "y": "C8%",
          "yref": "y"
         },
         {
          "font": {
           "color": "#FFFFFF"
          },
          "showarrow": false,
          "text": "0.83",
          "x": "C6%",
          "xref": "x",
          "y": "C8%",
          "yref": "y"
         },
         {
          "font": {
           "color": "#FFFFFF"
          },
          "showarrow": false,
          "text": "0.08",
          "x": "C7s%",
          "xref": "x",
          "y": "C8%",
          "yref": "y"
         },
         {
          "font": {
           "color": "#FFFFFF"
          },
          "showarrow": false,
          "text": "1.0",
          "x": "C8%",
          "xref": "x",
          "y": "C8%",
          "yref": "y"
         },
         {
          "font": {
           "color": "#FFFFFF"
          },
          "showarrow": false,
          "text": "0.78",
          "x": "C9%",
          "xref": "x",
          "y": "C8%",
          "yref": "y"
         },
         {
          "font": {
           "color": "#FFFFFF"
          },
          "showarrow": false,
          "text": "-0.95",
          "x": "C10%",
          "xref": "x",
          "y": "C8%",
          "yref": "y"
         },
         {
          "font": {
           "color": "#FFFFFF"
          },
          "showarrow": false,
          "text": "0.72",
          "x": "CPU%c1",
          "xref": "x",
          "y": "C8%",
          "yref": "y"
         },
         {
          "font": {
           "color": "#FFFFFF"
          },
          "showarrow": false,
          "text": "0.5",
          "x": "CPU%c3",
          "xref": "x",
          "y": "C8%",
          "yref": "y"
         },
         {
          "font": {
           "color": "#FFFFFF"
          },
          "showarrow": false,
          "text": "0.83",
          "x": "CPU%c6",
          "xref": "x",
          "y": "C8%",
          "yref": "y"
         },
         {
          "font": {
           "color": "#FFFFFF"
          },
          "showarrow": false,
          "text": "-0.69",
          "x": "CPU%c7",
          "xref": "x",
          "y": "C8%",
          "yref": "y"
         },
         {
          "font": {
           "color": "#FFFFFF"
          },
          "showarrow": false,
          "text": "0.44",
          "x": "CoreTmp",
          "xref": "x",
          "y": "C8%",
          "yref": "y"
         },
         {
          "font": {
           "color": "#FFFFFF"
          },
          "showarrow": false,
          "text": "0.48",
          "x": "PkgTmp",
          "xref": "x",
          "y": "C8%",
          "yref": "y"
         },
         {
          "font": {
           "color": "#FFFFFF"
          },
          "showarrow": false,
          "text": "0.08",
          "x": "GFX%rc6",
          "xref": "x",
          "y": "C8%",
          "yref": "y"
         },
         {
          "font": {
           "color": "#FFFFFF"
          },
          "showarrow": false,
          "text": "-0.1",
          "x": "GFXMHz",
          "xref": "x",
          "y": "C8%",
          "yref": "y"
         },
         {
          "font": {
           "color": "#FFFFFF"
          },
          "showarrow": false,
          "text": "nan",
          "x": "GFXAMHz",
          "xref": "x",
          "y": "C8%",
          "yref": "y"
         },
         {
          "font": {
           "color": "#FFFFFF"
          },
          "showarrow": false,
          "text": "0.48",
          "x": "Totl%C0",
          "xref": "x",
          "y": "C8%",
          "yref": "y"
         },
         {
          "font": {
           "color": "#FFFFFF"
          },
          "showarrow": false,
          "text": "-0.78",
          "x": "Any%C0",
          "xref": "x",
          "y": "C8%",
          "yref": "y"
         },
         {
          "font": {
           "color": "#FFFFFF"
          },
          "showarrow": false,
          "text": "0.02",
          "x": "GFX%C0",
          "xref": "x",
          "y": "C8%",
          "yref": "y"
         },
         {
          "font": {
           "color": "#FFFFFF"
          },
          "showarrow": false,
          "text": "-0.02",
          "x": "CPUGFX%",
          "xref": "x",
          "y": "C8%",
          "yref": "y"
         },
         {
          "font": {
           "color": "#FFFFFF"
          },
          "showarrow": false,
          "text": "0.32",
          "x": "Pkg_J",
          "xref": "x",
          "y": "C8%",
          "yref": "y"
         },
         {
          "font": {
           "color": "#FFFFFF"
          },
          "showarrow": false,
          "text": "0.28",
          "x": "Cor_J",
          "xref": "x",
          "y": "C8%",
          "yref": "y"
         },
         {
          "font": {
           "color": "#FFFFFF"
          },
          "showarrow": false,
          "text": "0.36",
          "x": "GFX_J",
          "xref": "x",
          "y": "C8%",
          "yref": "y"
         },
         {
          "font": {
           "color": "#FFFFFF"
          },
          "showarrow": false,
          "text": "0.49",
          "x": "RAM_J",
          "xref": "x",
          "y": "C8%",
          "yref": "y"
         },
         {
          "font": {
           "color": "#FFFFFF"
          },
          "showarrow": false,
          "text": "-0.09",
          "x": "Avg_MHz",
          "xref": "x",
          "y": "C9%",
          "yref": "y"
         },
         {
          "font": {
           "color": "#FFFFFF"
          },
          "showarrow": false,
          "text": "0.07",
          "x": "Busy%",
          "xref": "x",
          "y": "C9%",
          "yref": "y"
         },
         {
          "font": {
           "color": "#FFFFFF"
          },
          "showarrow": false,
          "text": "-0.14",
          "x": "IPC",
          "xref": "x",
          "y": "C9%",
          "yref": "y"
         },
         {
          "font": {
           "color": "#FFFFFF"
          },
          "showarrow": false,
          "text": "0.92",
          "x": "IRQ",
          "xref": "x",
          "y": "C9%",
          "yref": "y"
         },
         {
          "font": {
           "color": "#FFFFFF"
          },
          "showarrow": false,
          "text": "-0.0",
          "x": "POLL",
          "xref": "x",
          "y": "C9%",
          "yref": "y"
         },
         {
          "font": {
           "color": "#FFFFFF"
          },
          "showarrow": false,
          "text": "0.06",
          "x": "C1%",
          "xref": "x",
          "y": "C9%",
          "yref": "y"
         },
         {
          "font": {
           "color": "#FFFFFF"
          },
          "showarrow": false,
          "text": "0.06",
          "x": "C1E%",
          "xref": "x",
          "y": "C9%",
          "yref": "y"
         },
         {
          "font": {
           "color": "#FFFFFF"
          },
          "showarrow": false,
          "text": "0.13",
          "x": "C3%",
          "xref": "x",
          "y": "C9%",
          "yref": "y"
         },
         {
          "font": {
           "color": "#FFFFFF"
          },
          "showarrow": false,
          "text": "0.62",
          "x": "C6%",
          "xref": "x",
          "y": "C9%",
          "yref": "y"
         },
         {
          "font": {
           "color": "#FFFFFF"
          },
          "showarrow": false,
          "text": "-0.01",
          "x": "C7s%",
          "xref": "x",
          "y": "C9%",
          "yref": "y"
         },
         {
          "font": {
           "color": "#FFFFFF"
          },
          "showarrow": false,
          "text": "0.78",
          "x": "C8%",
          "xref": "x",
          "y": "C9%",
          "yref": "y"
         },
         {
          "font": {
           "color": "#FFFFFF"
          },
          "showarrow": false,
          "text": "1.0",
          "x": "C9%",
          "xref": "x",
          "y": "C9%",
          "yref": "y"
         },
         {
          "font": {
           "color": "#FFFFFF"
          },
          "showarrow": false,
          "text": "-0.9",
          "x": "C10%",
          "xref": "x",
          "y": "C9%",
          "yref": "y"
         },
         {
          "font": {
           "color": "#FFFFFF"
          },
          "showarrow": false,
          "text": "0.4",
          "x": "CPU%c1",
          "xref": "x",
          "y": "C9%",
          "yref": "y"
         },
         {
          "font": {
           "color": "#FFFFFF"
          },
          "showarrow": false,
          "text": "0.11",
          "x": "CPU%c3",
          "xref": "x",
          "y": "C9%",
          "yref": "y"
         },
         {
          "font": {
           "color": "#FFFFFF"
          },
          "showarrow": false,
          "text": "0.8",
          "x": "CPU%c6",
          "xref": "x",
          "y": "C9%",
          "yref": "y"
         },
         {
          "font": {
           "color": "#FFFFFF"
          },
          "showarrow": false,
          "text": "-0.35",
          "x": "CPU%c7",
          "xref": "x",
          "y": "C9%",
          "yref": "y"
         },
         {
          "font": {
           "color": "#FFFFFF"
          },
          "showarrow": false,
          "text": "0.54",
          "x": "CoreTmp",
          "xref": "x",
          "y": "C9%",
          "yref": "y"
         },
         {
          "font": {
           "color": "#FFFFFF"
          },
          "showarrow": false,
          "text": "0.58",
          "x": "PkgTmp",
          "xref": "x",
          "y": "C9%",
          "yref": "y"
         },
         {
          "font": {
           "color": "#FFFFFF"
          },
          "showarrow": false,
          "text": "-0.05",
          "x": "GFX%rc6",
          "xref": "x",
          "y": "C9%",
          "yref": "y"
         },
         {
          "font": {
           "color": "#FFFFFF"
          },
          "showarrow": false,
          "text": "-0.03",
          "x": "GFXMHz",
          "xref": "x",
          "y": "C9%",
          "yref": "y"
         },
         {
          "font": {
           "color": "#FFFFFF"
          },
          "showarrow": false,
          "text": "nan",
          "x": "GFXAMHz",
          "xref": "x",
          "y": "C9%",
          "yref": "y"
         },
         {
          "font": {
           "color": "#FFFFFF"
          },
          "showarrow": false,
          "text": "0.08",
          "x": "Totl%C0",
          "xref": "x",
          "y": "C9%",
          "yref": "y"
         },
         {
          "font": {
           "color": "#FFFFFF"
          },
          "showarrow": false,
          "text": "-0.94",
          "x": "Any%C0",
          "xref": "x",
          "y": "C9%",
          "yref": "y"
         },
         {
          "font": {
           "color": "#FFFFFF"
          },
          "showarrow": false,
          "text": "-0.03",
          "x": "GFX%C0",
          "xref": "x",
          "y": "C9%",
          "yref": "y"
         },
         {
          "font": {
           "color": "#FFFFFF"
          },
          "showarrow": false,
          "text": "-0.09",
          "x": "CPUGFX%",
          "xref": "x",
          "y": "C9%",
          "yref": "y"
         },
         {
          "font": {
           "color": "#FFFFFF"
          },
          "showarrow": false,
          "text": "0.22",
          "x": "Pkg_J",
          "xref": "x",
          "y": "C9%",
          "yref": "y"
         },
         {
          "font": {
           "color": "#FFFFFF"
          },
          "showarrow": false,
          "text": "0.17",
          "x": "Cor_J",
          "xref": "x",
          "y": "C9%",
          "yref": "y"
         },
         {
          "font": {
           "color": "#FFFFFF"
          },
          "showarrow": false,
          "text": "0.41",
          "x": "GFX_J",
          "xref": "x",
          "y": "C9%",
          "yref": "y"
         },
         {
          "font": {
           "color": "#FFFFFF"
          },
          "showarrow": false,
          "text": "0.34",
          "x": "RAM_J",
          "xref": "x",
          "y": "C9%",
          "yref": "y"
         },
         {
          "font": {
           "color": "#FFFFFF"
          },
          "showarrow": false,
          "text": "-0.3",
          "x": "Avg_MHz",
          "xref": "x",
          "y": "C10%",
          "yref": "y"
         },
         {
          "font": {
           "color": "#FFFFFF"
          },
          "showarrow": false,
          "text": "-0.46",
          "x": "Busy%",
          "xref": "x",
          "y": "C10%",
          "yref": "y"
         },
         {
          "font": {
           "color": "#FFFFFF"
          },
          "showarrow": false,
          "text": "0.36",
          "x": "IPC",
          "xref": "x",
          "y": "C10%",
          "yref": "y"
         },
         {
          "font": {
           "color": "#FFFFFF"
          },
          "showarrow": false,
          "text": "-0.94",
          "x": "IRQ",
          "xref": "x",
          "y": "C10%",
          "yref": "y"
         },
         {
          "font": {
           "color": "#FFFFFF"
          },
          "showarrow": false,
          "text": "-0.29",
          "x": "POLL",
          "xref": "x",
          "y": "C10%",
          "yref": "y"
         },
         {
          "font": {
           "color": "#FFFFFF"
          },
          "showarrow": false,
          "text": "-0.41",
          "x": "C1%",
          "xref": "x",
          "y": "C10%",
          "yref": "y"
         },
         {
          "font": {
           "color": "#FFFFFF"
          },
          "showarrow": false,
          "text": "-0.44",
          "x": "C1E%",
          "xref": "x",
          "y": "C10%",
          "yref": "y"
         },
         {
          "font": {
           "color": "#FFFFFF"
          },
          "showarrow": false,
          "text": "-0.49",
          "x": "C3%",
          "xref": "x",
          "y": "C10%",
          "yref": "y"
         },
         {
          "font": {
           "color": "#FFFFFF"
          },
          "showarrow": false,
          "text": "-0.85",
          "x": "C6%",
          "xref": "x",
          "y": "C10%",
          "yref": "y"
         },
         {
          "font": {
           "color": "#FFFFFF"
          },
          "showarrow": false,
          "text": "-0.1",
          "x": "C7s%",
          "xref": "x",
          "y": "C10%",
          "yref": "y"
         },
         {
          "font": {
           "color": "#FFFFFF"
          },
          "showarrow": false,
          "text": "-0.95",
          "x": "C8%",
          "xref": "x",
          "y": "C10%",
          "yref": "y"
         },
         {
          "font": {
           "color": "#FFFFFF"
          },
          "showarrow": false,
          "text": "-0.9",
          "x": "C9%",
          "xref": "x",
          "y": "C10%",
          "yref": "y"
         },
         {
          "font": {
           "color": "#FFFFFF"
          },
          "showarrow": false,
          "text": "1.0",
          "x": "C10%",
          "xref": "x",
          "y": "C10%",
          "yref": "y"
         },
         {
          "font": {
           "color": "#FFFFFF"
          },
          "showarrow": false,
          "text": "-0.73",
          "x": "CPU%c1",
          "xref": "x",
          "y": "C10%",
          "yref": "y"
         },
         {
          "font": {
           "color": "#FFFFFF"
          },
          "showarrow": false,
          "text": "-0.46",
          "x": "CPU%c3",
          "xref": "x",
          "y": "C10%",
          "yref": "y"
         },
         {
          "font": {
           "color": "#FFFFFF"
          },
          "showarrow": false,
          "text": "-0.87",
          "x": "CPU%c6",
          "xref": "x",
          "y": "C10%",
          "yref": "y"
         },
         {
          "font": {
           "color": "#FFFFFF"
          },
          "showarrow": false,
          "text": "0.69",
          "x": "CPU%c7",
          "xref": "x",
          "y": "C10%",
          "yref": "y"
         },
         {
          "font": {
           "color": "#FFFFFF"
          },
          "showarrow": false,
          "text": "-0.5",
          "x": "CoreTmp",
          "xref": "x",
          "y": "C10%",
          "yref": "y"
         },
         {
          "font": {
           "color": "#FFFFFF"
          },
          "showarrow": false,
          "text": "-0.55",
          "x": "PkgTmp",
          "xref": "x",
          "y": "C10%",
          "yref": "y"
         },
         {
          "font": {
           "color": "#FFFFFF"
          },
          "showarrow": false,
          "text": "-0.06",
          "x": "GFX%rc6",
          "xref": "x",
          "y": "C10%",
          "yref": "y"
         },
         {
          "font": {
           "color": "#FFFFFF"
          },
          "showarrow": false,
          "text": "0.06",
          "x": "GFXMHz",
          "xref": "x",
          "y": "C10%",
          "yref": "y"
         },
         {
          "font": {
           "color": "#FFFFFF"
          },
          "showarrow": false,
          "text": "nan",
          "x": "GFXAMHz",
          "xref": "x",
          "y": "C10%",
          "yref": "y"
         },
         {
          "font": {
           "color": "#FFFFFF"
          },
          "showarrow": false,
          "text": "-0.47",
          "x": "Totl%C0",
          "xref": "x",
          "y": "C10%",
          "yref": "y"
         },
         {
          "font": {
           "color": "#FFFFFF"
          },
          "showarrow": false,
          "text": "0.86",
          "x": "Any%C0",
          "xref": "x",
          "y": "C10%",
          "yref": "y"
         },
         {
          "font": {
           "color": "#FFFFFF"
          },
          "showarrow": false,
          "text": "0.03",
          "x": "GFX%C0",
          "xref": "x",
          "y": "C10%",
          "yref": "y"
         },
         {
          "font": {
           "color": "#FFFFFF"
          },
          "showarrow": false,
          "text": "0.07",
          "x": "CPUGFX%",
          "xref": "x",
          "y": "C10%",
          "yref": "y"
         },
         {
          "font": {
           "color": "#FFFFFF"
          },
          "showarrow": false,
          "text": "-0.39",
          "x": "Pkg_J",
          "xref": "x",
          "y": "C10%",
          "yref": "y"
         },
         {
          "font": {
           "color": "#FFFFFF"
          },
          "showarrow": false,
          "text": "-0.34",
          "x": "Cor_J",
          "xref": "x",
          "y": "C10%",
          "yref": "y"
         },
         {
          "font": {
           "color": "#FFFFFF"
          },
          "showarrow": false,
          "text": "-0.4",
          "x": "GFX_J",
          "xref": "x",
          "y": "C10%",
          "yref": "y"
         },
         {
          "font": {
           "color": "#FFFFFF"
          },
          "showarrow": false,
          "text": "-0.53",
          "x": "RAM_J",
          "xref": "x",
          "y": "C10%",
          "yref": "y"
         },
         {
          "font": {
           "color": "#FFFFFF"
          },
          "showarrow": false,
          "text": "0.81",
          "x": "Avg_MHz",
          "xref": "x",
          "y": "CPU%c1",
          "yref": "y"
         },
         {
          "font": {
           "color": "#FFFFFF"
          },
          "showarrow": false,
          "text": "0.92",
          "x": "Busy%",
          "xref": "x",
          "y": "CPU%c1",
          "yref": "y"
         },
         {
          "font": {
           "color": "#FFFFFF"
          },
          "showarrow": false,
          "text": "-0.62",
          "x": "IPC",
          "xref": "x",
          "y": "CPU%c1",
          "yref": "y"
         },
         {
          "font": {
           "color": "#FFFFFF"
          },
          "showarrow": false,
          "text": "0.6",
          "x": "IRQ",
          "xref": "x",
          "y": "CPU%c1",
          "yref": "y"
         },
         {
          "font": {
           "color": "#FFFFFF"
          },
          "showarrow": false,
          "text": "0.6",
          "x": "POLL",
          "xref": "x",
          "y": "CPU%c1",
          "yref": "y"
         },
         {
          "font": {
           "color": "#FFFFFF"
          },
          "showarrow": false,
          "text": "0.86",
          "x": "C1%",
          "xref": "x",
          "y": "CPU%c1",
          "yref": "y"
         },
         {
          "font": {
           "color": "#FFFFFF"
          },
          "showarrow": false,
          "text": "0.87",
          "x": "C1E%",
          "xref": "x",
          "y": "CPU%c1",
          "yref": "y"
         },
         {
          "font": {
           "color": "#FFFFFF"
          },
          "showarrow": false,
          "text": "0.85",
          "x": "C3%",
          "xref": "x",
          "y": "CPU%c1",
          "yref": "y"
         },
         {
          "font": {
           "color": "#FFFFFF"
          },
          "showarrow": false,
          "text": "0.83",
          "x": "C6%",
          "xref": "x",
          "y": "CPU%c1",
          "yref": "y"
         },
         {
          "font": {
           "color": "#FFFFFF"
          },
          "showarrow": false,
          "text": "0.24",
          "x": "C7s%",
          "xref": "x",
          "y": "CPU%c1",
          "yref": "y"
         },
         {
          "font": {
           "color": "#FFFFFF"
          },
          "showarrow": false,
          "text": "0.72",
          "x": "C8%",
          "xref": "x",
          "y": "CPU%c1",
          "yref": "y"
         },
         {
          "font": {
           "color": "#FFFFFF"
          },
          "showarrow": false,
          "text": "0.4",
          "x": "C9%",
          "xref": "x",
          "y": "CPU%c1",
          "yref": "y"
         },
         {
          "font": {
           "color": "#FFFFFF"
          },
          "showarrow": false,
          "text": "-0.73",
          "x": "C10%",
          "xref": "x",
          "y": "CPU%c1",
          "yref": "y"
         },
         {
          "font": {
           "color": "#FFFFFF"
          },
          "showarrow": false,
          "text": "1.0",
          "x": "CPU%c1",
          "xref": "x",
          "y": "CPU%c1",
          "yref": "y"
         },
         {
          "font": {
           "color": "#FFFFFF"
          },
          "showarrow": false,
          "text": "0.8",
          "x": "CPU%c3",
          "xref": "x",
          "y": "CPU%c1",
          "yref": "y"
         },
         {
          "font": {
           "color": "#FFFFFF"
          },
          "showarrow": false,
          "text": "0.6",
          "x": "CPU%c6",
          "xref": "x",
          "y": "CPU%c1",
          "yref": "y"
         },
         {
          "font": {
           "color": "#FFFFFF"
          },
          "showarrow": false,
          "text": "-0.99",
          "x": "CPU%c7",
          "xref": "x",
          "y": "CPU%c1",
          "yref": "y"
         },
         {
          "font": {
           "color": "#FFFFFF"
          },
          "showarrow": false,
          "text": "0.2",
          "x": "CoreTmp",
          "xref": "x",
          "y": "CPU%c1",
          "yref": "y"
         },
         {
          "font": {
           "color": "#FFFFFF"
          },
          "showarrow": false,
          "text": "0.24",
          "x": "PkgTmp",
          "xref": "x",
          "y": "CPU%c1",
          "yref": "y"
         },
         {
          "font": {
           "color": "#FFFFFF"
          },
          "showarrow": false,
          "text": "0.27",
          "x": "GFX%rc6",
          "xref": "x",
          "y": "CPU%c1",
          "yref": "y"
         },
         {
          "font": {
           "color": "#FFFFFF"
          },
          "showarrow": false,
          "text": "-0.03",
          "x": "GFXMHz",
          "xref": "x",
          "y": "CPU%c1",
          "yref": "y"
         },
         {
          "font": {
           "color": "#FFFFFF"
          },
          "showarrow": false,
          "text": "nan",
          "x": "GFXAMHz",
          "xref": "x",
          "y": "CPU%c1",
          "yref": "y"
         },
         {
          "font": {
           "color": "#FFFFFF"
          },
          "showarrow": false,
          "text": "0.93",
          "x": "Totl%C0",
          "xref": "x",
          "y": "CPU%c1",
          "yref": "y"
         },
         {
          "font": {
           "color": "#FFFFFF"
          },
          "showarrow": false,
          "text": "-0.38",
          "x": "Any%C0",
          "xref": "x",
          "y": "CPU%c1",
          "yref": "y"
         },
         {
          "font": {
           "color": "#FFFFFF"
          },
          "showarrow": false,
          "text": "-0.11",
          "x": "GFX%C0",
          "xref": "x",
          "y": "CPU%c1",
          "yref": "y"
         },
         {
          "font": {
           "color": "#FFFFFF"
          },
          "showarrow": false,
          "text": "-0.12",
          "x": "CPUGFX%",
          "xref": "x",
          "y": "CPU%c1",
          "yref": "y"
         },
         {
          "font": {
           "color": "#FFFFFF"
          },
          "showarrow": false,
          "text": "0.54",
          "x": "Pkg_J",
          "xref": "x",
          "y": "CPU%c1",
          "yref": "y"
         },
         {
          "font": {
           "color": "#FFFFFF"
          },
          "showarrow": false,
          "text": "0.52",
          "x": "Cor_J",
          "xref": "x",
          "y": "CPU%c1",
          "yref": "y"
         },
         {
          "font": {
           "color": "#FFFFFF"
          },
          "showarrow": false,
          "text": "0.19",
          "x": "GFX_J",
          "xref": "x",
          "y": "CPU%c1",
          "yref": "y"
         },
         {
          "font": {
           "color": "#FFFFFF"
          },
          "showarrow": false,
          "text": "0.68",
          "x": "RAM_J",
          "xref": "x",
          "y": "CPU%c1",
          "yref": "y"
         },
         {
          "font": {
           "color": "#FFFFFF"
          },
          "showarrow": false,
          "text": "0.82",
          "x": "Avg_MHz",
          "xref": "x",
          "y": "CPU%c3",
          "yref": "y"
         },
         {
          "font": {
           "color": "#FFFFFF"
          },
          "showarrow": false,
          "text": "0.84",
          "x": "Busy%",
          "xref": "x",
          "y": "CPU%c3",
          "yref": "y"
         },
         {
          "font": {
           "color": "#FFFFFF"
          },
          "showarrow": false,
          "text": "-0.52",
          "x": "IPC",
          "xref": "x",
          "y": "CPU%c3",
          "yref": "y"
         },
         {
          "font": {
           "color": "#FFFFFF"
          },
          "showarrow": false,
          "text": "0.33",
          "x": "IRQ",
          "xref": "x",
          "y": "CPU%c3",
          "yref": "y"
         },
         {
          "font": {
           "color": "#FFFFFF"
          },
          "showarrow": false,
          "text": "0.63",
          "x": "POLL",
          "xref": "x",
          "y": "CPU%c3",
          "yref": "y"
         },
         {
          "font": {
           "color": "#FFFFFF"
          },
          "showarrow": false,
          "text": "0.67",
          "x": "C1%",
          "xref": "x",
          "y": "CPU%c3",
          "yref": "y"
         },
         {
          "font": {
           "color": "#FFFFFF"
          },
          "showarrow": false,
          "text": "0.9",
          "x": "C1E%",
          "xref": "x",
          "y": "CPU%c3",
          "yref": "y"
         },
         {
          "font": {
           "color": "#FFFFFF"
          },
          "showarrow": false,
          "text": "0.97",
          "x": "C3%",
          "xref": "x",
          "y": "CPU%c3",
          "yref": "y"
         },
         {
          "font": {
           "color": "#FFFFFF"
          },
          "showarrow": false,
          "text": "0.72",
          "x": "C6%",
          "xref": "x",
          "y": "CPU%c3",
          "yref": "y"
         },
         {
          "font": {
           "color": "#FFFFFF"
          },
          "showarrow": false,
          "text": "0.3",
          "x": "C7s%",
          "xref": "x",
          "y": "CPU%c3",
          "yref": "y"
         },
         {
          "font": {
           "color": "#FFFFFF"
          },
          "showarrow": false,
          "text": "0.5",
          "x": "C8%",
          "xref": "x",
          "y": "CPU%c3",
          "yref": "y"
         },
         {
          "font": {
           "color": "#FFFFFF"
          },
          "showarrow": false,
          "text": "0.11",
          "x": "C9%",
          "xref": "x",
          "y": "CPU%c3",
          "yref": "y"
         },
         {
          "font": {
           "color": "#FFFFFF"
          },
          "showarrow": false,
          "text": "-0.46",
          "x": "C10%",
          "xref": "x",
          "y": "CPU%c3",
          "yref": "y"
         },
         {
          "font": {
           "color": "#FFFFFF"
          },
          "showarrow": false,
          "text": "0.8",
          "x": "CPU%c1",
          "xref": "x",
          "y": "CPU%c3",
          "yref": "y"
         },
         {
          "font": {
           "color": "#FFFFFF"
          },
          "showarrow": false,
          "text": "1.0",
          "x": "CPU%c3",
          "xref": "x",
          "y": "CPU%c3",
          "yref": "y"
         },
         {
          "font": {
           "color": "#FFFFFF"
          },
          "showarrow": false,
          "text": "0.39",
          "x": "CPU%c6",
          "xref": "x",
          "y": "CPU%c3",
          "yref": "y"
         },
         {
          "font": {
           "color": "#FFFFFF"
          },
          "showarrow": false,
          "text": "-0.84",
          "x": "CPU%c7",
          "xref": "x",
          "y": "CPU%c3",
          "yref": "y"
         },
         {
          "font": {
           "color": "#FFFFFF"
          },
          "showarrow": false,
          "text": "0.09",
          "x": "CoreTmp",
          "xref": "x",
          "y": "CPU%c3",
          "yref": "y"
         },
         {
          "font": {
           "color": "#FFFFFF"
          },
          "showarrow": false,
          "text": "0.12",
          "x": "PkgTmp",
          "xref": "x",
          "y": "CPU%c3",
          "yref": "y"
         },
         {
          "font": {
           "color": "#FFFFFF"
          },
          "showarrow": false,
          "text": "0.17",
          "x": "GFX%rc6",
          "xref": "x",
          "y": "CPU%c3",
          "yref": "y"
         },
         {
          "font": {
           "color": "#FFFFFF"
          },
          "showarrow": false,
          "text": "-0.05",
          "x": "GFXMHz",
          "xref": "x",
          "y": "CPU%c3",
          "yref": "y"
         },
         {
          "font": {
           "color": "#FFFFFF"
          },
          "showarrow": false,
          "text": "nan",
          "x": "GFXAMHz",
          "xref": "x",
          "y": "CPU%c3",
          "yref": "y"
         },
         {
          "font": {
           "color": "#FFFFFF"
          },
          "showarrow": false,
          "text": "0.84",
          "x": "Totl%C0",
          "xref": "x",
          "y": "CPU%c3",
          "yref": "y"
         },
         {
          "font": {
           "color": "#FFFFFF"
          },
          "showarrow": false,
          "text": "-0.08",
          "x": "Any%C0",
          "xref": "x",
          "y": "CPU%c3",
          "yref": "y"
         },
         {
          "font": {
           "color": "#FFFFFF"
          },
          "showarrow": false,
          "text": "0.0",
          "x": "GFX%C0",
          "xref": "x",
          "y": "CPU%c3",
          "yref": "y"
         },
         {
          "font": {
           "color": "#FFFFFF"
          },
          "showarrow": false,
          "text": "0.01",
          "x": "CPUGFX%",
          "xref": "x",
          "y": "CPU%c3",
          "yref": "y"
         },
         {
          "font": {
           "color": "#FFFFFF"
          },
          "showarrow": false,
          "text": "0.52",
          "x": "Pkg_J",
          "xref": "x",
          "y": "CPU%c3",
          "yref": "y"
         },
         {
          "font": {
           "color": "#FFFFFF"
          },
          "showarrow": false,
          "text": "0.53",
          "x": "Cor_J",
          "xref": "x",
          "y": "CPU%c3",
          "yref": "y"
         },
         {
          "font": {
           "color": "#FFFFFF"
          },
          "showarrow": false,
          "text": "0.17",
          "x": "GFX_J",
          "xref": "x",
          "y": "CPU%c3",
          "yref": "y"
         },
         {
          "font": {
           "color": "#FFFFFF"
          },
          "showarrow": false,
          "text": "0.51",
          "x": "RAM_J",
          "xref": "x",
          "y": "CPU%c3",
          "yref": "y"
         },
         {
          "font": {
           "color": "#FFFFFF"
          },
          "showarrow": false,
          "text": "0.19",
          "x": "Avg_MHz",
          "xref": "x",
          "y": "CPU%c6",
          "yref": "y"
         },
         {
          "font": {
           "color": "#FFFFFF"
          },
          "showarrow": false,
          "text": "0.32",
          "x": "Busy%",
          "xref": "x",
          "y": "CPU%c6",
          "yref": "y"
         },
         {
          "font": {
           "color": "#FFFFFF"
          },
          "showarrow": false,
          "text": "-0.27",
          "x": "IPC",
          "xref": "x",
          "y": "CPU%c6",
          "yref": "y"
         },
         {
          "font": {
           "color": "#FFFFFF"
          },
          "showarrow": false,
          "text": "0.9",
          "x": "IRQ",
          "xref": "x",
          "y": "CPU%c6",
          "yref": "y"
         },
         {
          "font": {
           "color": "#FFFFFF"
          },
          "showarrow": false,
          "text": "0.26",
          "x": "POLL",
          "xref": "x",
          "y": "CPU%c6",
          "yref": "y"
         },
         {
          "font": {
           "color": "#FFFFFF"
          },
          "showarrow": false,
          "text": "0.2",
          "x": "C1%",
          "xref": "x",
          "y": "CPU%c6",
          "yref": "y"
         },
         {
          "font": {
           "color": "#FFFFFF"
          },
          "showarrow": false,
          "text": "0.34",
          "x": "C1E%",
          "xref": "x",
          "y": "CPU%c6",
          "yref": "y"
         },
         {
          "font": {
           "color": "#FFFFFF"
          },
          "showarrow": false,
          "text": "0.41",
          "x": "C3%",
          "xref": "x",
          "y": "CPU%c6",
          "yref": "y"
         },
         {
          "font": {
           "color": "#FFFFFF"
          },
          "showarrow": false,
          "text": "0.89",
          "x": "C6%",
          "xref": "x",
          "y": "CPU%c6",
          "yref": "y"
         },
         {
          "font": {
           "color": "#FFFFFF"
          },
          "showarrow": false,
          "text": "0.13",
          "x": "C7s%",
          "xref": "x",
          "y": "CPU%c6",
          "yref": "y"
         },
         {
          "font": {
           "color": "#FFFFFF"
          },
          "showarrow": false,
          "text": "0.83",
          "x": "C8%",
          "xref": "x",
          "y": "CPU%c6",
          "yref": "y"
         },
         {
          "font": {
           "color": "#FFFFFF"
          },
          "showarrow": false,
          "text": "0.8",
          "x": "C9%",
          "xref": "x",
          "y": "CPU%c6",
          "yref": "y"
         },
         {
          "font": {
           "color": "#FFFFFF"
          },
          "showarrow": false,
          "text": "-0.87",
          "x": "C10%",
          "xref": "x",
          "y": "CPU%c6",
          "yref": "y"
         },
         {
          "font": {
           "color": "#FFFFFF"
          },
          "showarrow": false,
          "text": "0.6",
          "x": "CPU%c1",
          "xref": "x",
          "y": "CPU%c6",
          "yref": "y"
         },
         {
          "font": {
           "color": "#FFFFFF"
          },
          "showarrow": false,
          "text": "0.39",
          "x": "CPU%c3",
          "xref": "x",
          "y": "CPU%c6",
          "yref": "y"
         },
         {
          "font": {
           "color": "#FFFFFF"
          },
          "showarrow": false,
          "text": "1.0",
          "x": "CPU%c6",
          "xref": "x",
          "y": "CPU%c6",
          "yref": "y"
         },
         {
          "font": {
           "color": "#FFFFFF"
          },
          "showarrow": false,
          "text": "-0.59",
          "x": "CPU%c7",
          "xref": "x",
          "y": "CPU%c6",
          "yref": "y"
         },
         {
          "font": {
           "color": "#FFFFFF"
          },
          "showarrow": false,
          "text": "0.42",
          "x": "CoreTmp",
          "xref": "x",
          "y": "CPU%c6",
          "yref": "y"
         },
         {
          "font": {
           "color": "#FFFFFF"
          },
          "showarrow": false,
          "text": "0.48",
          "x": "PkgTmp",
          "xref": "x",
          "y": "CPU%c6",
          "yref": "y"
         },
         {
          "font": {
           "color": "#FFFFFF"
          },
          "showarrow": false,
          "text": "0.03",
          "x": "GFX%rc6",
          "xref": "x",
          "y": "CPU%c6",
          "yref": "y"
         },
         {
          "font": {
           "color": "#FFFFFF"
          },
          "showarrow": false,
          "text": "-0.06",
          "x": "GFXMHz",
          "xref": "x",
          "y": "CPU%c6",
          "yref": "y"
         },
         {
          "font": {
           "color": "#FFFFFF"
          },
          "showarrow": false,
          "text": "nan",
          "x": "GFXAMHz",
          "xref": "x",
          "y": "CPU%c6",
          "yref": "y"
         },
         {
          "font": {
           "color": "#FFFFFF"
          },
          "showarrow": false,
          "text": "0.33",
          "x": "Totl%C0",
          "xref": "x",
          "y": "CPU%c6",
          "yref": "y"
         },
         {
          "font": {
           "color": "#FFFFFF"
          },
          "showarrow": false,
          "text": "-0.84",
          "x": "Any%C0",
          "xref": "x",
          "y": "CPU%c6",
          "yref": "y"
         },
         {
          "font": {
           "color": "#FFFFFF"
          },
          "showarrow": false,
          "text": "0.03",
          "x": "GFX%C0",
          "xref": "x",
          "y": "CPU%c6",
          "yref": "y"
         },
         {
          "font": {
           "color": "#FFFFFF"
          },
          "showarrow": false,
          "text": "-0.03",
          "x": "CPUGFX%",
          "xref": "x",
          "y": "CPU%c6",
          "yref": "y"
         },
         {
          "font": {
           "color": "#FFFFFF"
          },
          "showarrow": false,
          "text": "0.33",
          "x": "Pkg_J",
          "xref": "x",
          "y": "CPU%c6",
          "yref": "y"
         },
         {
          "font": {
           "color": "#FFFFFF"
          },
          "showarrow": false,
          "text": "0.29",
          "x": "Cor_J",
          "xref": "x",
          "y": "CPU%c6",
          "yref": "y"
         },
         {
          "font": {
           "color": "#FFFFFF"
          },
          "showarrow": false,
          "text": "0.4",
          "x": "GFX_J",
          "xref": "x",
          "y": "CPU%c6",
          "yref": "y"
         },
         {
          "font": {
           "color": "#FFFFFF"
          },
          "showarrow": false,
          "text": "0.41",
          "x": "RAM_J",
          "xref": "x",
          "y": "CPU%c6",
          "yref": "y"
         },
         {
          "font": {
           "color": "#FFFFFF"
          },
          "showarrow": false,
          "text": "-0.85",
          "x": "Avg_MHz",
          "xref": "x",
          "y": "CPU%c7",
          "yref": "y"
         },
         {
          "font": {
           "color": "#FFFFFF"
          },
          "showarrow": false,
          "text": "-0.95",
          "x": "Busy%",
          "xref": "x",
          "y": "CPU%c7",
          "yref": "y"
         },
         {
          "font": {
           "color": "#FFFFFF"
          },
          "showarrow": false,
          "text": "0.63",
          "x": "IPC",
          "xref": "x",
          "y": "CPU%c7",
          "yref": "y"
         },
         {
          "font": {
           "color": "#FFFFFF"
          },
          "showarrow": false,
          "text": "-0.56",
          "x": "IRQ",
          "xref": "x",
          "y": "CPU%c7",
          "yref": "y"
         },
         {
          "font": {
           "color": "#FFFFFF"
          },
          "showarrow": false,
          "text": "-0.63",
          "x": "POLL",
          "xref": "x",
          "y": "CPU%c7",
          "yref": "y"
         },
         {
          "font": {
           "color": "#FFFFFF"
          },
          "showarrow": false,
          "text": "-0.86",
          "x": "C1%",
          "xref": "x",
          "y": "CPU%c7",
          "yref": "y"
         },
         {
          "font": {
           "color": "#FFFFFF"
          },
          "showarrow": false,
          "text": "-0.9",
          "x": "C1E%",
          "xref": "x",
          "y": "CPU%c7",
          "yref": "y"
         },
         {
          "font": {
           "color": "#FFFFFF"
          },
          "showarrow": false,
          "text": "-0.88",
          "x": "C3%",
          "xref": "x",
          "y": "CPU%c7",
          "yref": "y"
         },
         {
          "font": {
           "color": "#FFFFFF"
          },
          "showarrow": false,
          "text": "-0.84",
          "x": "C6%",
          "xref": "x",
          "y": "CPU%c7",
          "yref": "y"
         },
         {
          "font": {
           "color": "#FFFFFF"
          },
          "showarrow": false,
          "text": "-0.26",
          "x": "C7s%",
          "xref": "x",
          "y": "CPU%c7",
          "yref": "y"
         },
         {
          "font": {
           "color": "#FFFFFF"
          },
          "showarrow": false,
          "text": "-0.69",
          "x": "C8%",
          "xref": "x",
          "y": "CPU%c7",
          "yref": "y"
         },
         {
          "font": {
           "color": "#FFFFFF"
          },
          "showarrow": false,
          "text": "-0.35",
          "x": "C9%",
          "xref": "x",
          "y": "CPU%c7",
          "yref": "y"
         },
         {
          "font": {
           "color": "#FFFFFF"
          },
          "showarrow": false,
          "text": "0.69",
          "x": "C10%",
          "xref": "x",
          "y": "CPU%c7",
          "yref": "y"
         },
         {
          "font": {
           "color": "#FFFFFF"
          },
          "showarrow": false,
          "text": "-0.99",
          "x": "CPU%c1",
          "xref": "x",
          "y": "CPU%c7",
          "yref": "y"
         },
         {
          "font": {
           "color": "#FFFFFF"
          },
          "showarrow": false,
          "text": "-0.84",
          "x": "CPU%c3",
          "xref": "x",
          "y": "CPU%c7",
          "yref": "y"
         },
         {
          "font": {
           "color": "#FFFFFF"
          },
          "showarrow": false,
          "text": "-0.59",
          "x": "CPU%c6",
          "xref": "x",
          "y": "CPU%c7",
          "yref": "y"
         },
         {
          "font": {
           "color": "#FFFFFF"
          },
          "showarrow": false,
          "text": "1.0",
          "x": "CPU%c7",
          "xref": "x",
          "y": "CPU%c7",
          "yref": "y"
         },
         {
          "font": {
           "color": "#FFFFFF"
          },
          "showarrow": false,
          "text": "-0.2",
          "x": "CoreTmp",
          "xref": "x",
          "y": "CPU%c7",
          "yref": "y"
         },
         {
          "font": {
           "color": "#FFFFFF"
          },
          "showarrow": false,
          "text": "-0.24",
          "x": "PkgTmp",
          "xref": "x",
          "y": "CPU%c7",
          "yref": "y"
         },
         {
          "font": {
           "color": "#FFFFFF"
          },
          "showarrow": false,
          "text": "-0.23",
          "x": "GFX%rc6",
          "xref": "x",
          "y": "CPU%c7",
          "yref": "y"
         },
         {
          "font": {
           "color": "#FFFFFF"
          },
          "showarrow": false,
          "text": "0.04",
          "x": "GFXMHz",
          "xref": "x",
          "y": "CPU%c7",
          "yref": "y"
         },
         {
          "font": {
           "color": "#FFFFFF"
          },
          "showarrow": false,
          "text": "nan",
          "x": "GFXAMHz",
          "xref": "x",
          "y": "CPU%c7",
          "yref": "y"
         },
         {
          "font": {
           "color": "#FFFFFF"
          },
          "showarrow": false,
          "text": "-0.95",
          "x": "Totl%C0",
          "xref": "x",
          "y": "CPU%c7",
          "yref": "y"
         },
         {
          "font": {
           "color": "#FFFFFF"
          },
          "showarrow": false,
          "text": "0.32",
          "x": "Any%C0",
          "xref": "x",
          "y": "CPU%c7",
          "yref": "y"
         },
         {
          "font": {
           "color": "#FFFFFF"
          },
          "showarrow": false,
          "text": "0.07",
          "x": "GFX%C0",
          "xref": "x",
          "y": "CPU%c7",
          "yref": "y"
         },
         {
          "font": {
           "color": "#FFFFFF"
          },
          "showarrow": false,
          "text": "0.08",
          "x": "CPUGFX%",
          "xref": "x",
          "y": "CPU%c7",
          "yref": "y"
         },
         {
          "font": {
           "color": "#FFFFFF"
          },
          "showarrow": false,
          "text": "-0.56",
          "x": "Pkg_J",
          "xref": "x",
          "y": "CPU%c7",
          "yref": "y"
         },
         {
          "font": {
           "color": "#FFFFFF"
          },
          "showarrow": false,
          "text": "-0.54",
          "x": "Cor_J",
          "xref": "x",
          "y": "CPU%c7",
          "yref": "y"
         },
         {
          "font": {
           "color": "#FFFFFF"
          },
          "showarrow": false,
          "text": "-0.19",
          "x": "GFX_J",
          "xref": "x",
          "y": "CPU%c7",
          "yref": "y"
         },
         {
          "font": {
           "color": "#FFFFFF"
          },
          "showarrow": false,
          "text": "-0.68",
          "x": "RAM_J",
          "xref": "x",
          "y": "CPU%c7",
          "yref": "y"
         },
         {
          "font": {
           "color": "#FFFFFF"
          },
          "showarrow": false,
          "text": "-0.08",
          "x": "Avg_MHz",
          "xref": "x",
          "y": "CoreTmp",
          "yref": "y"
         },
         {
          "font": {
           "color": "#FFFFFF"
          },
          "showarrow": false,
          "text": "0.08",
          "x": "Busy%",
          "xref": "x",
          "y": "CoreTmp",
          "yref": "y"
         },
         {
          "font": {
           "color": "#FFFFFF"
          },
          "showarrow": false,
          "text": "-0.13",
          "x": "IPC",
          "xref": "x",
          "y": "CoreTmp",
          "yref": "y"
         },
         {
          "font": {
           "color": "#FFFFFF"
          },
          "showarrow": false,
          "text": "0.48",
          "x": "IRQ",
          "xref": "x",
          "y": "CoreTmp",
          "yref": "y"
         },
         {
          "font": {
           "color": "#FFFFFF"
          },
          "showarrow": false,
          "text": "0.02",
          "x": "POLL",
          "xref": "x",
          "y": "CoreTmp",
          "yref": "y"
         },
         {
          "font": {
           "color": "#FFFFFF"
          },
          "showarrow": false,
          "text": "0.02",
          "x": "C1%",
          "xref": "x",
          "y": "CoreTmp",
          "yref": "y"
         },
         {
          "font": {
           "color": "#FFFFFF"
          },
          "showarrow": false,
          "text": "0.07",
          "x": "C1E%",
          "xref": "x",
          "y": "CoreTmp",
          "yref": "y"
         },
         {
          "font": {
           "color": "#FFFFFF"
          },
          "showarrow": false,
          "text": "0.13",
          "x": "C3%",
          "xref": "x",
          "y": "CoreTmp",
          "yref": "y"
         },
         {
          "font": {
           "color": "#FFFFFF"
          },
          "showarrow": false,
          "text": "0.34",
          "x": "C6%",
          "xref": "x",
          "y": "CoreTmp",
          "yref": "y"
         },
         {
          "font": {
           "color": "#FFFFFF"
          },
          "showarrow": false,
          "text": "-0.02",
          "x": "C7s%",
          "xref": "x",
          "y": "CoreTmp",
          "yref": "y"
         },
         {
          "font": {
           "color": "#FFFFFF"
          },
          "showarrow": false,
          "text": "0.44",
          "x": "C8%",
          "xref": "x",
          "y": "CoreTmp",
          "yref": "y"
         },
         {
          "font": {
           "color": "#FFFFFF"
          },
          "showarrow": false,
          "text": "0.54",
          "x": "C9%",
          "xref": "x",
          "y": "CoreTmp",
          "yref": "y"
         },
         {
          "font": {
           "color": "#FFFFFF"
          },
          "showarrow": false,
          "text": "-0.5",
          "x": "C10%",
          "xref": "x",
          "y": "CoreTmp",
          "yref": "y"
         },
         {
          "font": {
           "color": "#FFFFFF"
          },
          "showarrow": false,
          "text": "0.2",
          "x": "CPU%c1",
          "xref": "x",
          "y": "CoreTmp",
          "yref": "y"
         },
         {
          "font": {
           "color": "#FFFFFF"
          },
          "showarrow": false,
          "text": "0.09",
          "x": "CPU%c3",
          "xref": "x",
          "y": "CoreTmp",
          "yref": "y"
         },
         {
          "font": {
           "color": "#FFFFFF"
          },
          "showarrow": false,
          "text": "0.42",
          "x": "CPU%c6",
          "xref": "x",
          "y": "CoreTmp",
          "yref": "y"
         },
         {
          "font": {
           "color": "#FFFFFF"
          },
          "showarrow": false,
          "text": "-0.2",
          "x": "CPU%c7",
          "xref": "x",
          "y": "CoreTmp",
          "yref": "y"
         },
         {
          "font": {
           "color": "#FFFFFF"
          },
          "showarrow": false,
          "text": "1.0",
          "x": "CoreTmp",
          "xref": "x",
          "y": "CoreTmp",
          "yref": "y"
         },
         {
          "font": {
           "color": "#FFFFFF"
          },
          "showarrow": false,
          "text": "0.99",
          "x": "PkgTmp",
          "xref": "x",
          "y": "CoreTmp",
          "yref": "y"
         },
         {
          "font": {
           "color": "#FFFFFF"
          },
          "showarrow": false,
          "text": "-0.39",
          "x": "GFX%rc6",
          "xref": "x",
          "y": "CoreTmp",
          "yref": "y"
         },
         {
          "font": {
           "color": "#FFFFFF"
          },
          "showarrow": false,
          "text": "0.08",
          "x": "GFXMHz",
          "xref": "x",
          "y": "CoreTmp",
          "yref": "y"
         },
         {
          "font": {
           "color": "#FFFFFF"
          },
          "showarrow": false,
          "text": "nan",
          "x": "GFXAMHz",
          "xref": "x",
          "y": "CoreTmp",
          "yref": "y"
         },
         {
          "font": {
           "color": "#FFFFFF"
          },
          "showarrow": false,
          "text": "0.08",
          "x": "Totl%C0",
          "xref": "x",
          "y": "CoreTmp",
          "yref": "y"
         },
         {
          "font": {
           "color": "#FFFFFF"
          },
          "showarrow": false,
          "text": "-0.46",
          "x": "Any%C0",
          "xref": "x",
          "y": "CoreTmp",
          "yref": "y"
         },
         {
          "font": {
           "color": "#FFFFFF"
          },
          "showarrow": false,
          "text": "0.03",
          "x": "GFX%C0",
          "xref": "x",
          "y": "CoreTmp",
          "yref": "y"
         },
         {
          "font": {
           "color": "#FFFFFF"
          },
          "showarrow": false,
          "text": "-0.01",
          "x": "CPUGFX%",
          "xref": "x",
          "y": "CoreTmp",
          "yref": "y"
         },
         {
          "font": {
           "color": "#FFFFFF"
          },
          "showarrow": false,
          "text": "0.23",
          "x": "Pkg_J",
          "xref": "x",
          "y": "CoreTmp",
          "yref": "y"
         },
         {
          "font": {
           "color": "#FFFFFF"
          },
          "showarrow": false,
          "text": "0.16",
          "x": "Cor_J",
          "xref": "x",
          "y": "CoreTmp",
          "yref": "y"
         },
         {
          "font": {
           "color": "#FFFFFF"
          },
          "showarrow": false,
          "text": "0.57",
          "x": "GFX_J",
          "xref": "x",
          "y": "CoreTmp",
          "yref": "y"
         },
         {
          "font": {
           "color": "#FFFFFF"
          },
          "showarrow": false,
          "text": "0.43",
          "x": "RAM_J",
          "xref": "x",
          "y": "CoreTmp",
          "yref": "y"
         },
         {
          "font": {
           "color": "#FFFFFF"
          },
          "showarrow": false,
          "text": "-0.07",
          "x": "Avg_MHz",
          "xref": "x",
          "y": "PkgTmp",
          "yref": "y"
         },
         {
          "font": {
           "color": "#FFFFFF"
          },
          "showarrow": false,
          "text": "0.1",
          "x": "Busy%",
          "xref": "x",
          "y": "PkgTmp",
          "yref": "y"
         },
         {
          "font": {
           "color": "#FFFFFF"
          },
          "showarrow": false,
          "text": "-0.15",
          "x": "IPC",
          "xref": "x",
          "y": "PkgTmp",
          "yref": "y"
         },
         {
          "font": {
           "color": "#FFFFFF"
          },
          "showarrow": false,
          "text": "0.54",
          "x": "IRQ",
          "xref": "x",
          "y": "PkgTmp",
          "yref": "y"
         },
         {
          "font": {
           "color": "#FFFFFF"
          },
          "showarrow": false,
          "text": "0.05",
          "x": "POLL",
          "xref": "x",
          "y": "PkgTmp",
          "yref": "y"
         },
         {
          "font": {
           "color": "#FFFFFF"
          },
          "showarrow": false,
          "text": "0.03",
          "x": "C1%",
          "xref": "x",
          "y": "PkgTmp",
          "yref": "y"
         },
         {
          "font": {
           "color": "#FFFFFF"
          },
          "showarrow": false,
          "text": "0.09",
          "x": "C1E%",
          "xref": "x",
          "y": "PkgTmp",
          "yref": "y"
         },
         {
          "font": {
           "color": "#FFFFFF"
          },
          "showarrow": false,
          "text": "0.16",
          "x": "C3%",
          "xref": "x",
          "y": "PkgTmp",
          "yref": "y"
         },
         {
          "font": {
           "color": "#FFFFFF"
          },
          "showarrow": false,
          "text": "0.4",
          "x": "C6%",
          "xref": "x",
          "y": "PkgTmp",
          "yref": "y"
         },
         {
          "font": {
           "color": "#FFFFFF"
          },
          "showarrow": false,
          "text": "-0.01",
          "x": "C7s%",
          "xref": "x",
          "y": "PkgTmp",
          "yref": "y"
         },
         {
          "font": {
           "color": "#FFFFFF"
          },
          "showarrow": false,
          "text": "0.48",
          "x": "C8%",
          "xref": "x",
          "y": "PkgTmp",
          "yref": "y"
         },
         {
          "font": {
           "color": "#FFFFFF"
          },
          "showarrow": false,
          "text": "0.58",
          "x": "C9%",
          "xref": "x",
          "y": "PkgTmp",
          "yref": "y"
         },
         {
          "font": {
           "color": "#FFFFFF"
          },
          "showarrow": false,
          "text": "-0.55",
          "x": "C10%",
          "xref": "x",
          "y": "PkgTmp",
          "yref": "y"
         },
         {
          "font": {
           "color": "#FFFFFF"
          },
          "showarrow": false,
          "text": "0.24",
          "x": "CPU%c1",
          "xref": "x",
          "y": "PkgTmp",
          "yref": "y"
         },
         {
          "font": {
           "color": "#FFFFFF"
          },
          "showarrow": false,
          "text": "0.12",
          "x": "CPU%c3",
          "xref": "x",
          "y": "PkgTmp",
          "yref": "y"
         },
         {
          "font": {
           "color": "#FFFFFF"
          },
          "showarrow": false,
          "text": "0.48",
          "x": "CPU%c6",
          "xref": "x",
          "y": "PkgTmp",
          "yref": "y"
         },
         {
          "font": {
           "color": "#FFFFFF"
          },
          "showarrow": false,
          "text": "-0.24",
          "x": "CPU%c7",
          "xref": "x",
          "y": "PkgTmp",
          "yref": "y"
         },
         {
          "font": {
           "color": "#FFFFFF"
          },
          "showarrow": false,
          "text": "0.99",
          "x": "CoreTmp",
          "xref": "x",
          "y": "PkgTmp",
          "yref": "y"
         },
         {
          "font": {
           "color": "#FFFFFF"
          },
          "showarrow": false,
          "text": "1.0",
          "x": "PkgTmp",
          "xref": "x",
          "y": "PkgTmp",
          "yref": "y"
         },
         {
          "font": {
           "color": "#FFFFFF"
          },
          "showarrow": false,
          "text": "-0.34",
          "x": "GFX%rc6",
          "xref": "x",
          "y": "PkgTmp",
          "yref": "y"
         },
         {
          "font": {
           "color": "#FFFFFF"
          },
          "showarrow": false,
          "text": "0.11",
          "x": "GFXMHz",
          "xref": "x",
          "y": "PkgTmp",
          "yref": "y"
         },
         {
          "font": {
           "color": "#FFFFFF"
          },
          "showarrow": false,
          "text": "nan",
          "x": "GFXAMHz",
          "xref": "x",
          "y": "PkgTmp",
          "yref": "y"
         },
         {
          "font": {
           "color": "#FFFFFF"
          },
          "showarrow": false,
          "text": "0.1",
          "x": "Totl%C0",
          "xref": "x",
          "y": "PkgTmp",
          "yref": "y"
         },
         {
          "font": {
           "color": "#FFFFFF"
          },
          "showarrow": false,
          "text": "-0.51",
          "x": "Any%C0",
          "xref": "x",
          "y": "PkgTmp",
          "yref": "y"
         },
         {
          "font": {
           "color": "#FFFFFF"
          },
          "showarrow": false,
          "text": "-0.0",
          "x": "GFX%C0",
          "xref": "x",
          "y": "PkgTmp",
          "yref": "y"
         },
         {
          "font": {
           "color": "#FFFFFF"
          },
          "showarrow": false,
          "text": "-0.05",
          "x": "CPUGFX%",
          "xref": "x",
          "y": "PkgTmp",
          "yref": "y"
         },
         {
          "font": {
           "color": "#FFFFFF"
          },
          "showarrow": false,
          "text": "0.25",
          "x": "Pkg_J",
          "xref": "x",
          "y": "PkgTmp",
          "yref": "y"
         },
         {
          "font": {
           "color": "#FFFFFF"
          },
          "showarrow": false,
          "text": "0.17",
          "x": "Cor_J",
          "xref": "x",
          "y": "PkgTmp",
          "yref": "y"
         },
         {
          "font": {
           "color": "#FFFFFF"
          },
          "showarrow": false,
          "text": "0.57",
          "x": "GFX_J",
          "xref": "x",
          "y": "PkgTmp",
          "yref": "y"
         },
         {
          "font": {
           "color": "#FFFFFF"
          },
          "showarrow": false,
          "text": "0.45",
          "x": "RAM_J",
          "xref": "x",
          "y": "PkgTmp",
          "yref": "y"
         },
         {
          "font": {
           "color": "#FFFFFF"
          },
          "showarrow": false,
          "text": "0.21",
          "x": "Avg_MHz",
          "xref": "x",
          "y": "GFX%rc6",
          "yref": "y"
         },
         {
          "font": {
           "color": "#FFFFFF"
          },
          "showarrow": false,
          "text": "0.23",
          "x": "Busy%",
          "xref": "x",
          "y": "GFX%rc6",
          "yref": "y"
         },
         {
          "font": {
           "color": "#FFFFFF"
          },
          "showarrow": false,
          "text": "-0.19",
          "x": "IPC",
          "xref": "x",
          "y": "GFX%rc6",
          "yref": "y"
         },
         {
          "font": {
           "color": "#FFFFFF"
          },
          "showarrow": false,
          "text": "0.1",
          "x": "IRQ",
          "xref": "x",
          "y": "GFX%rc6",
          "yref": "y"
         },
         {
          "font": {
           "color": "#FFFFFF"
          },
          "showarrow": false,
          "text": "0.21",
          "x": "POLL",
          "xref": "x",
          "y": "GFX%rc6",
          "yref": "y"
         },
         {
          "font": {
           "color": "#FFFFFF"
          },
          "showarrow": false,
          "text": "0.31",
          "x": "C1%",
          "xref": "x",
          "y": "GFX%rc6",
          "yref": "y"
         },
         {
          "font": {
           "color": "#FFFFFF"
          },
          "showarrow": false,
          "text": "0.24",
          "x": "C1E%",
          "xref": "x",
          "y": "GFX%rc6",
          "yref": "y"
         },
         {
          "font": {
           "color": "#FFFFFF"
          },
          "showarrow": false,
          "text": "0.17",
          "x": "C3%",
          "xref": "x",
          "y": "GFX%rc6",
          "yref": "y"
         },
         {
          "font": {
           "color": "#FFFFFF"
          },
          "showarrow": false,
          "text": "0.14",
          "x": "C6%",
          "xref": "x",
          "y": "GFX%rc6",
          "yref": "y"
         },
         {
          "font": {
           "color": "#FFFFFF"
          },
          "showarrow": false,
          "text": "0.14",
          "x": "C7s%",
          "xref": "x",
          "y": "GFX%rc6",
          "yref": "y"
         },
         {
          "font": {
           "color": "#FFFFFF"
          },
          "showarrow": false,
          "text": "0.08",
          "x": "C8%",
          "xref": "x",
          "y": "GFX%rc6",
          "yref": "y"
         },
         {
          "font": {
           "color": "#FFFFFF"
          },
          "showarrow": false,
          "text": "-0.05",
          "x": "C9%",
          "xref": "x",
          "y": "GFX%rc6",
          "yref": "y"
         },
         {
          "font": {
           "color": "#FFFFFF"
          },
          "showarrow": false,
          "text": "-0.06",
          "x": "C10%",
          "xref": "x",
          "y": "GFX%rc6",
          "yref": "y"
         },
         {
          "font": {
           "color": "#FFFFFF"
          },
          "showarrow": false,
          "text": "0.27",
          "x": "CPU%c1",
          "xref": "x",
          "y": "GFX%rc6",
          "yref": "y"
         },
         {
          "font": {
           "color": "#FFFFFF"
          },
          "showarrow": false,
          "text": "0.17",
          "x": "CPU%c3",
          "xref": "x",
          "y": "GFX%rc6",
          "yref": "y"
         },
         {
          "font": {
           "color": "#FFFFFF"
          },
          "showarrow": false,
          "text": "0.03",
          "x": "CPU%c6",
          "xref": "x",
          "y": "GFX%rc6",
          "yref": "y"
         },
         {
          "font": {
           "color": "#FFFFFF"
          },
          "showarrow": false,
          "text": "-0.23",
          "x": "CPU%c7",
          "xref": "x",
          "y": "GFX%rc6",
          "yref": "y"
         },
         {
          "font": {
           "color": "#FFFFFF"
          },
          "showarrow": false,
          "text": "-0.39",
          "x": "CoreTmp",
          "xref": "x",
          "y": "GFX%rc6",
          "yref": "y"
         },
         {
          "font": {
           "color": "#FFFFFF"
          },
          "showarrow": false,
          "text": "-0.34",
          "x": "PkgTmp",
          "xref": "x",
          "y": "GFX%rc6",
          "yref": "y"
         },
         {
          "font": {
           "color": "#FFFFFF"
          },
          "showarrow": false,
          "text": "1.0",
          "x": "GFX%rc6",
          "xref": "x",
          "y": "GFX%rc6",
          "yref": "y"
         },
         {
          "font": {
           "color": "#FFFFFF"
          },
          "showarrow": false,
          "text": "0.06",
          "x": "GFXMHz",
          "xref": "x",
          "y": "GFX%rc6",
          "yref": "y"
         },
         {
          "font": {
           "color": "#FFFFFF"
          },
          "showarrow": false,
          "text": "nan",
          "x": "GFXAMHz",
          "xref": "x",
          "y": "GFX%rc6",
          "yref": "y"
         },
         {
          "font": {
           "color": "#FFFFFF"
          },
          "showarrow": false,
          "text": "0.23",
          "x": "Totl%C0",
          "xref": "x",
          "y": "GFX%rc6",
          "yref": "y"
         },
         {
          "font": {
           "color": "#FFFFFF"
          },
          "showarrow": false,
          "text": "-0.1",
          "x": "Any%C0",
          "xref": "x",
          "y": "GFX%rc6",
          "yref": "y"
         },
         {
          "font": {
           "color": "#FFFFFF"
          },
          "showarrow": false,
          "text": "-0.68",
          "x": "GFX%C0",
          "xref": "x",
          "y": "GFX%rc6",
          "yref": "y"
         },
         {
          "font": {
           "color": "#FFFFFF"
          },
          "showarrow": false,
          "text": "-0.67",
          "x": "CPUGFX%",
          "xref": "x",
          "y": "GFX%rc6",
          "yref": "y"
         },
         {
          "font": {
           "color": "#FFFFFF"
          },
          "showarrow": false,
          "text": "-0.0",
          "x": "Pkg_J",
          "xref": "x",
          "y": "GFX%rc6",
          "yref": "y"
         },
         {
          "font": {
           "color": "#FFFFFF"
          },
          "showarrow": false,
          "text": "-0.01",
          "x": "Cor_J",
          "xref": "x",
          "y": "GFX%rc6",
          "yref": "y"
         },
         {
          "font": {
           "color": "#FFFFFF"
          },
          "showarrow": false,
          "text": "-0.56",
          "x": "GFX_J",
          "xref": "x",
          "y": "GFX%rc6",
          "yref": "y"
         },
         {
          "font": {
           "color": "#FFFFFF"
          },
          "showarrow": false,
          "text": "0.21",
          "x": "RAM_J",
          "xref": "x",
          "y": "GFX%rc6",
          "yref": "y"
         },
         {
          "font": {
           "color": "#FFFFFF"
          },
          "showarrow": false,
          "text": "-0.07",
          "x": "Avg_MHz",
          "xref": "x",
          "y": "GFXMHz",
          "yref": "y"
         },
         {
          "font": {
           "color": "#FFFFFF"
          },
          "showarrow": false,
          "text": "-0.03",
          "x": "Busy%",
          "xref": "x",
          "y": "GFXMHz",
          "yref": "y"
         },
         {
          "font": {
           "color": "#FFFFFF"
          },
          "showarrow": false,
          "text": "-0.07",
          "x": "IPC",
          "xref": "x",
          "y": "GFXMHz",
          "yref": "y"
         },
         {
          "font": {
           "color": "#FFFFFF"
          },
          "showarrow": false,
          "text": "-0.03",
          "x": "IRQ",
          "xref": "x",
          "y": "GFXMHz",
          "yref": "y"
         },
         {
          "font": {
           "color": "#FFFFFF"
          },
          "showarrow": false,
          "text": "-0.03",
          "x": "POLL",
          "xref": "x",
          "y": "GFXMHz",
          "yref": "y"
         },
         {
          "font": {
           "color": "#FFFFFF"
          },
          "showarrow": false,
          "text": "-0.03",
          "x": "C1%",
          "xref": "x",
          "y": "GFXMHz",
          "yref": "y"
         },
         {
          "font": {
           "color": "#FFFFFF"
          },
          "showarrow": false,
          "text": "-0.03",
          "x": "C1E%",
          "xref": "x",
          "y": "GFXMHz",
          "yref": "y"
         },
         {
          "font": {
           "color": "#FFFFFF"
          },
          "showarrow": false,
          "text": "-0.04",
          "x": "C3%",
          "xref": "x",
          "y": "GFXMHz",
          "yref": "y"
         },
         {
          "font": {
           "color": "#FFFFFF"
          },
          "showarrow": false,
          "text": "-0.07",
          "x": "C6%",
          "xref": "x",
          "y": "GFXMHz",
          "yref": "y"
         },
         {
          "font": {
           "color": "#FFFFFF"
          },
          "showarrow": false,
          "text": "-0.05",
          "x": "C7s%",
          "xref": "x",
          "y": "GFXMHz",
          "yref": "y"
         },
         {
          "font": {
           "color": "#FFFFFF"
          },
          "showarrow": false,
          "text": "-0.1",
          "x": "C8%",
          "xref": "x",
          "y": "GFXMHz",
          "yref": "y"
         },
         {
          "font": {
           "color": "#FFFFFF"
          },
          "showarrow": false,
          "text": "-0.03",
          "x": "C9%",
          "xref": "x",
          "y": "GFXMHz",
          "yref": "y"
         },
         {
          "font": {
           "color": "#FFFFFF"
          },
          "showarrow": false,
          "text": "0.06",
          "x": "C10%",
          "xref": "x",
          "y": "GFXMHz",
          "yref": "y"
         },
         {
          "font": {
           "color": "#FFFFFF"
          },
          "showarrow": false,
          "text": "-0.03",
          "x": "CPU%c1",
          "xref": "x",
          "y": "GFXMHz",
          "yref": "y"
         },
         {
          "font": {
           "color": "#FFFFFF"
          },
          "showarrow": false,
          "text": "-0.05",
          "x": "CPU%c3",
          "xref": "x",
          "y": "GFXMHz",
          "yref": "y"
         },
         {
          "font": {
           "color": "#FFFFFF"
          },
          "showarrow": false,
          "text": "-0.06",
          "x": "CPU%c6",
          "xref": "x",
          "y": "GFXMHz",
          "yref": "y"
         },
         {
          "font": {
           "color": "#FFFFFF"
          },
          "showarrow": false,
          "text": "0.04",
          "x": "CPU%c7",
          "xref": "x",
          "y": "GFXMHz",
          "yref": "y"
         },
         {
          "font": {
           "color": "#FFFFFF"
          },
          "showarrow": false,
          "text": "0.08",
          "x": "CoreTmp",
          "xref": "x",
          "y": "GFXMHz",
          "yref": "y"
         },
         {
          "font": {
           "color": "#FFFFFF"
          },
          "showarrow": false,
          "text": "0.11",
          "x": "PkgTmp",
          "xref": "x",
          "y": "GFXMHz",
          "yref": "y"
         },
         {
          "font": {
           "color": "#FFFFFF"
          },
          "showarrow": false,
          "text": "0.06",
          "x": "GFX%rc6",
          "xref": "x",
          "y": "GFXMHz",
          "yref": "y"
         },
         {
          "font": {
           "color": "#FFFFFF"
          },
          "showarrow": false,
          "text": "1.0",
          "x": "GFXMHz",
          "xref": "x",
          "y": "GFXMHz",
          "yref": "y"
         },
         {
          "font": {
           "color": "#FFFFFF"
          },
          "showarrow": false,
          "text": "nan",
          "x": "GFXAMHz",
          "xref": "x",
          "y": "GFXMHz",
          "yref": "y"
         },
         {
          "font": {
           "color": "#FFFFFF"
          },
          "showarrow": false,
          "text": "-0.02",
          "x": "Totl%C0",
          "xref": "x",
          "y": "GFXMHz",
          "yref": "y"
         },
         {
          "font": {
           "color": "#FFFFFF"
          },
          "showarrow": false,
          "text": "0.02",
          "x": "Any%C0",
          "xref": "x",
          "y": "GFXMHz",
          "yref": "y"
         },
         {
          "font": {
           "color": "#FFFFFF"
          },
          "showarrow": false,
          "text": "-0.23",
          "x": "GFX%C0",
          "xref": "x",
          "y": "GFXMHz",
          "yref": "y"
         },
         {
          "font": {
           "color": "#FFFFFF"
          },
          "showarrow": false,
          "text": "-0.23",
          "x": "CPUGFX%",
          "xref": "x",
          "y": "GFXMHz",
          "yref": "y"
         },
         {
          "font": {
           "color": "#FFFFFF"
          },
          "showarrow": false,
          "text": "0.01",
          "x": "Pkg_J",
          "xref": "x",
          "y": "GFXMHz",
          "yref": "y"
         },
         {
          "font": {
           "color": "#FFFFFF"
          },
          "showarrow": false,
          "text": "-0.02",
          "x": "Cor_J",
          "xref": "x",
          "y": "GFXMHz",
          "yref": "y"
         },
         {
          "font": {
           "color": "#FFFFFF"
          },
          "showarrow": false,
          "text": "0.15",
          "x": "GFX_J",
          "xref": "x",
          "y": "GFXMHz",
          "yref": "y"
         },
         {
          "font": {
           "color": "#FFFFFF"
          },
          "showarrow": false,
          "text": "0.17",
          "x": "RAM_J",
          "xref": "x",
          "y": "GFXMHz",
          "yref": "y"
         },
         {
          "font": {
           "color": "#FFFFFF"
          },
          "showarrow": false,
          "text": "nan",
          "x": "Avg_MHz",
          "xref": "x",
          "y": "GFXAMHz",
          "yref": "y"
         },
         {
          "font": {
           "color": "#FFFFFF"
          },
          "showarrow": false,
          "text": "nan",
          "x": "Busy%",
          "xref": "x",
          "y": "GFXAMHz",
          "yref": "y"
         },
         {
          "font": {
           "color": "#FFFFFF"
          },
          "showarrow": false,
          "text": "nan",
          "x": "IPC",
          "xref": "x",
          "y": "GFXAMHz",
          "yref": "y"
         },
         {
          "font": {
           "color": "#FFFFFF"
          },
          "showarrow": false,
          "text": "nan",
          "x": "IRQ",
          "xref": "x",
          "y": "GFXAMHz",
          "yref": "y"
         },
         {
          "font": {
           "color": "#FFFFFF"
          },
          "showarrow": false,
          "text": "nan",
          "x": "POLL",
          "xref": "x",
          "y": "GFXAMHz",
          "yref": "y"
         },
         {
          "font": {
           "color": "#FFFFFF"
          },
          "showarrow": false,
          "text": "nan",
          "x": "C1%",
          "xref": "x",
          "y": "GFXAMHz",
          "yref": "y"
         },
         {
          "font": {
           "color": "#FFFFFF"
          },
          "showarrow": false,
          "text": "nan",
          "x": "C1E%",
          "xref": "x",
          "y": "GFXAMHz",
          "yref": "y"
         },
         {
          "font": {
           "color": "#FFFFFF"
          },
          "showarrow": false,
          "text": "nan",
          "x": "C3%",
          "xref": "x",
          "y": "GFXAMHz",
          "yref": "y"
         },
         {
          "font": {
           "color": "#FFFFFF"
          },
          "showarrow": false,
          "text": "nan",
          "x": "C6%",
          "xref": "x",
          "y": "GFXAMHz",
          "yref": "y"
         },
         {
          "font": {
           "color": "#FFFFFF"
          },
          "showarrow": false,
          "text": "nan",
          "x": "C7s%",
          "xref": "x",
          "y": "GFXAMHz",
          "yref": "y"
         },
         {
          "font": {
           "color": "#FFFFFF"
          },
          "showarrow": false,
          "text": "nan",
          "x": "C8%",
          "xref": "x",
          "y": "GFXAMHz",
          "yref": "y"
         },
         {
          "font": {
           "color": "#FFFFFF"
          },
          "showarrow": false,
          "text": "nan",
          "x": "C9%",
          "xref": "x",
          "y": "GFXAMHz",
          "yref": "y"
         },
         {
          "font": {
           "color": "#FFFFFF"
          },
          "showarrow": false,
          "text": "nan",
          "x": "C10%",
          "xref": "x",
          "y": "GFXAMHz",
          "yref": "y"
         },
         {
          "font": {
           "color": "#FFFFFF"
          },
          "showarrow": false,
          "text": "nan",
          "x": "CPU%c1",
          "xref": "x",
          "y": "GFXAMHz",
          "yref": "y"
         },
         {
          "font": {
           "color": "#FFFFFF"
          },
          "showarrow": false,
          "text": "nan",
          "x": "CPU%c3",
          "xref": "x",
          "y": "GFXAMHz",
          "yref": "y"
         },
         {
          "font": {
           "color": "#FFFFFF"
          },
          "showarrow": false,
          "text": "nan",
          "x": "CPU%c6",
          "xref": "x",
          "y": "GFXAMHz",
          "yref": "y"
         },
         {
          "font": {
           "color": "#FFFFFF"
          },
          "showarrow": false,
          "text": "nan",
          "x": "CPU%c7",
          "xref": "x",
          "y": "GFXAMHz",
          "yref": "y"
         },
         {
          "font": {
           "color": "#FFFFFF"
          },
          "showarrow": false,
          "text": "nan",
          "x": "CoreTmp",
          "xref": "x",
          "y": "GFXAMHz",
          "yref": "y"
         },
         {
          "font": {
           "color": "#FFFFFF"
          },
          "showarrow": false,
          "text": "nan",
          "x": "PkgTmp",
          "xref": "x",
          "y": "GFXAMHz",
          "yref": "y"
         },
         {
          "font": {
           "color": "#FFFFFF"
          },
          "showarrow": false,
          "text": "nan",
          "x": "GFX%rc6",
          "xref": "x",
          "y": "GFXAMHz",
          "yref": "y"
         },
         {
          "font": {
           "color": "#FFFFFF"
          },
          "showarrow": false,
          "text": "nan",
          "x": "GFXMHz",
          "xref": "x",
          "y": "GFXAMHz",
          "yref": "y"
         },
         {
          "font": {
           "color": "#FFFFFF"
          },
          "showarrow": false,
          "text": "nan",
          "x": "GFXAMHz",
          "xref": "x",
          "y": "GFXAMHz",
          "yref": "y"
         },
         {
          "font": {
           "color": "#FFFFFF"
          },
          "showarrow": false,
          "text": "nan",
          "x": "Totl%C0",
          "xref": "x",
          "y": "GFXAMHz",
          "yref": "y"
         },
         {
          "font": {
           "color": "#FFFFFF"
          },
          "showarrow": false,
          "text": "nan",
          "x": "Any%C0",
          "xref": "x",
          "y": "GFXAMHz",
          "yref": "y"
         },
         {
          "font": {
           "color": "#FFFFFF"
          },
          "showarrow": false,
          "text": "nan",
          "x": "GFX%C0",
          "xref": "x",
          "y": "GFXAMHz",
          "yref": "y"
         },
         {
          "font": {
           "color": "#FFFFFF"
          },
          "showarrow": false,
          "text": "nan",
          "x": "CPUGFX%",
          "xref": "x",
          "y": "GFXAMHz",
          "yref": "y"
         },
         {
          "font": {
           "color": "#FFFFFF"
          },
          "showarrow": false,
          "text": "nan",
          "x": "Pkg_J",
          "xref": "x",
          "y": "GFXAMHz",
          "yref": "y"
         },
         {
          "font": {
           "color": "#FFFFFF"
          },
          "showarrow": false,
          "text": "nan",
          "x": "Cor_J",
          "xref": "x",
          "y": "GFXAMHz",
          "yref": "y"
         },
         {
          "font": {
           "color": "#FFFFFF"
          },
          "showarrow": false,
          "text": "nan",
          "x": "GFX_J",
          "xref": "x",
          "y": "GFXAMHz",
          "yref": "y"
         },
         {
          "font": {
           "color": "#FFFFFF"
          },
          "showarrow": false,
          "text": "nan",
          "x": "RAM_J",
          "xref": "x",
          "y": "GFXAMHz",
          "yref": "y"
         },
         {
          "font": {
           "color": "#FFFFFF"
          },
          "showarrow": false,
          "text": "0.94",
          "x": "Avg_MHz",
          "xref": "x",
          "y": "Totl%C0",
          "yref": "y"
         },
         {
          "font": {
           "color": "#FFFFFF"
          },
          "showarrow": false,
          "text": "1.0",
          "x": "Busy%",
          "xref": "x",
          "y": "Totl%C0",
          "yref": "y"
         },
         {
          "font": {
           "color": "#FFFFFF"
          },
          "showarrow": false,
          "text": "-0.65",
          "x": "IPC",
          "xref": "x",
          "y": "Totl%C0",
          "yref": "y"
         },
         {
          "font": {
           "color": "#FFFFFF"
          },
          "showarrow": false,
          "text": "0.29",
          "x": "IRQ",
          "xref": "x",
          "y": "Totl%C0",
          "yref": "y"
         },
         {
          "font": {
           "color": "#FFFFFF"
          },
          "showarrow": false,
          "text": "0.65",
          "x": "POLL",
          "xref": "x",
          "y": "Totl%C0",
          "yref": "y"
         },
         {
          "font": {
           "color": "#FFFFFF"
          },
          "showarrow": false,
          "text": "0.91",
          "x": "C1%",
          "xref": "x",
          "y": "Totl%C0",
          "yref": "y"
         },
         {
          "font": {
           "color": "#FFFFFF"
          },
          "showarrow": false,
          "text": "0.92",
          "x": "C1E%",
          "xref": "x",
          "y": "Totl%C0",
          "yref": "y"
         },
         {
          "font": {
           "color": "#FFFFFF"
          },
          "showarrow": false,
          "text": "0.89",
          "x": "C3%",
          "xref": "x",
          "y": "Totl%C0",
          "yref": "y"
         },
         {
          "font": {
           "color": "#FFFFFF"
          },
          "showarrow": false,
          "text": "0.67",
          "x": "C6%",
          "xref": "x",
          "y": "Totl%C0",
          "yref": "y"
         },
         {
          "font": {
           "color": "#FFFFFF"
          },
          "showarrow": false,
          "text": "0.28",
          "x": "C7s%",
          "xref": "x",
          "y": "Totl%C0",
          "yref": "y"
         },
         {
          "font": {
           "color": "#FFFFFF"
          },
          "showarrow": false,
          "text": "0.48",
          "x": "C8%",
          "xref": "x",
          "y": "Totl%C0",
          "yref": "y"
         },
         {
          "font": {
           "color": "#FFFFFF"
          },
          "showarrow": false,
          "text": "0.08",
          "x": "C9%",
          "xref": "x",
          "y": "Totl%C0",
          "yref": "y"
         },
         {
          "font": {
           "color": "#FFFFFF"
          },
          "showarrow": false,
          "text": "-0.47",
          "x": "C10%",
          "xref": "x",
          "y": "Totl%C0",
          "yref": "y"
         },
         {
          "font": {
           "color": "#FFFFFF"
          },
          "showarrow": false,
          "text": "0.93",
          "x": "CPU%c1",
          "xref": "x",
          "y": "Totl%C0",
          "yref": "y"
         },
         {
          "font": {
           "color": "#FFFFFF"
          },
          "showarrow": false,
          "text": "0.84",
          "x": "CPU%c3",
          "xref": "x",
          "y": "Totl%C0",
          "yref": "y"
         },
         {
          "font": {
           "color": "#FFFFFF"
          },
          "showarrow": false,
          "text": "0.33",
          "x": "CPU%c6",
          "xref": "x",
          "y": "Totl%C0",
          "yref": "y"
         },
         {
          "font": {
           "color": "#FFFFFF"
          },
          "showarrow": false,
          "text": "-0.95",
          "x": "CPU%c7",
          "xref": "x",
          "y": "Totl%C0",
          "yref": "y"
         },
         {
          "font": {
           "color": "#FFFFFF"
          },
          "showarrow": false,
          "text": "0.08",
          "x": "CoreTmp",
          "xref": "x",
          "y": "Totl%C0",
          "yref": "y"
         },
         {
          "font": {
           "color": "#FFFFFF"
          },
          "showarrow": false,
          "text": "0.1",
          "x": "PkgTmp",
          "xref": "x",
          "y": "Totl%C0",
          "yref": "y"
         },
         {
          "font": {
           "color": "#FFFFFF"
          },
          "showarrow": false,
          "text": "0.23",
          "x": "GFX%rc6",
          "xref": "x",
          "y": "Totl%C0",
          "yref": "y"
         },
         {
          "font": {
           "color": "#FFFFFF"
          },
          "showarrow": false,
          "text": "-0.02",
          "x": "GFXMHz",
          "xref": "x",
          "y": "Totl%C0",
          "yref": "y"
         },
         {
          "font": {
           "color": "#FFFFFF"
          },
          "showarrow": false,
          "text": "nan",
          "x": "GFXAMHz",
          "xref": "x",
          "y": "Totl%C0",
          "yref": "y"
         },
         {
          "font": {
           "color": "#FFFFFF"
          },
          "showarrow": false,
          "text": "1.0",
          "x": "Totl%C0",
          "xref": "x",
          "y": "Totl%C0",
          "yref": "y"
         },
         {
          "font": {
           "color": "#FFFFFF"
          },
          "showarrow": false,
          "text": "-0.04",
          "x": "Any%C0",
          "xref": "x",
          "y": "Totl%C0",
          "yref": "y"
         },
         {
          "font": {
           "color": "#FFFFFF"
          },
          "showarrow": false,
          "text": "-0.06",
          "x": "GFX%C0",
          "xref": "x",
          "y": "Totl%C0",
          "yref": "y"
         },
         {
          "font": {
           "color": "#FFFFFF"
          },
          "showarrow": false,
          "text": "-0.05",
          "x": "CPUGFX%",
          "xref": "x",
          "y": "Totl%C0",
          "yref": "y"
         },
         {
          "font": {
           "color": "#FFFFFF"
          },
          "showarrow": false,
          "text": "0.54",
          "x": "Pkg_J",
          "xref": "x",
          "y": "Totl%C0",
          "yref": "y"
         },
         {
          "font": {
           "color": "#FFFFFF"
          },
          "showarrow": false,
          "text": "0.54",
          "x": "Cor_J",
          "xref": "x",
          "y": "Totl%C0",
          "yref": "y"
         },
         {
          "font": {
           "color": "#FFFFFF"
          },
          "showarrow": false,
          "text": "0.09",
          "x": "GFX_J",
          "xref": "x",
          "y": "Totl%C0",
          "yref": "y"
         },
         {
          "font": {
           "color": "#FFFFFF"
          },
          "showarrow": false,
          "text": "0.63",
          "x": "RAM_J",
          "xref": "x",
          "y": "Totl%C0",
          "yref": "y"
         },
         {
          "font": {
           "color": "#FFFFFF"
          },
          "showarrow": false,
          "text": "0.14",
          "x": "Avg_MHz",
          "xref": "x",
          "y": "Any%C0",
          "yref": "y"
         },
         {
          "font": {
           "color": "#FFFFFF"
          },
          "showarrow": false,
          "text": "-0.02",
          "x": "Busy%",
          "xref": "x",
          "y": "Any%C0",
          "yref": "y"
         },
         {
          "font": {
           "color": "#FFFFFF"
          },
          "showarrow": false,
          "text": "0.1",
          "x": "IPC",
          "xref": "x",
          "y": "Any%C0",
          "yref": "y"
         },
         {
          "font": {
           "color": "#FFFFFF"
          },
          "showarrow": false,
          "text": "-0.94",
          "x": "IRQ",
          "xref": "x",
          "y": "Any%C0",
          "yref": "y"
         },
         {
          "font": {
           "color": "#FFFFFF"
          },
          "showarrow": false,
          "text": "0.01",
          "x": "POLL",
          "xref": "x",
          "y": "Any%C0",
          "yref": "y"
         },
         {
          "font": {
           "color": "#FFFFFF"
          },
          "showarrow": false,
          "text": "-0.02",
          "x": "C1%",
          "xref": "x",
          "y": "Any%C0",
          "yref": "y"
         },
         {
          "font": {
           "color": "#FFFFFF"
          },
          "showarrow": false,
          "text": "-0.03",
          "x": "C1E%",
          "xref": "x",
          "y": "Any%C0",
          "yref": "y"
         },
         {
          "font": {
           "color": "#FFFFFF"
          },
          "showarrow": false,
          "text": "-0.1",
          "x": "C3%",
          "xref": "x",
          "y": "Any%C0",
          "yref": "y"
         },
         {
          "font": {
           "color": "#FFFFFF"
          },
          "showarrow": false,
          "text": "-0.63",
          "x": "C6%",
          "xref": "x",
          "y": "Any%C0",
          "yref": "y"
         },
         {
          "font": {
           "color": "#FFFFFF"
          },
          "showarrow": false,
          "text": "0.02",
          "x": "C7s%",
          "xref": "x",
          "y": "Any%C0",
          "yref": "y"
         },
         {
          "font": {
           "color": "#FFFFFF"
          },
          "showarrow": false,
          "text": "-0.78",
          "x": "C8%",
          "xref": "x",
          "y": "Any%C0",
          "yref": "y"
         },
         {
          "font": {
           "color": "#FFFFFF"
          },
          "showarrow": false,
          "text": "-0.94",
          "x": "C9%",
          "xref": "x",
          "y": "Any%C0",
          "yref": "y"
         },
         {
          "font": {
           "color": "#FFFFFF"
          },
          "showarrow": false,
          "text": "0.86",
          "x": "C10%",
          "xref": "x",
          "y": "Any%C0",
          "yref": "y"
         },
         {
          "font": {
           "color": "#FFFFFF"
          },
          "showarrow": false,
          "text": "-0.38",
          "x": "CPU%c1",
          "xref": "x",
          "y": "Any%C0",
          "yref": "y"
         },
         {
          "font": {
           "color": "#FFFFFF"
          },
          "showarrow": false,
          "text": "-0.08",
          "x": "CPU%c3",
          "xref": "x",
          "y": "Any%C0",
          "yref": "y"
         },
         {
          "font": {
           "color": "#FFFFFF"
          },
          "showarrow": false,
          "text": "-0.84",
          "x": "CPU%c6",
          "xref": "x",
          "y": "Any%C0",
          "yref": "y"
         },
         {
          "font": {
           "color": "#FFFFFF"
          },
          "showarrow": false,
          "text": "0.32",
          "x": "CPU%c7",
          "xref": "x",
          "y": "Any%C0",
          "yref": "y"
         },
         {
          "font": {
           "color": "#FFFFFF"
          },
          "showarrow": false,
          "text": "-0.46",
          "x": "CoreTmp",
          "xref": "x",
          "y": "Any%C0",
          "yref": "y"
         },
         {
          "font": {
           "color": "#FFFFFF"
          },
          "showarrow": false,
          "text": "-0.51",
          "x": "PkgTmp",
          "xref": "x",
          "y": "Any%C0",
          "yref": "y"
         },
         {
          "font": {
           "color": "#FFFFFF"
          },
          "showarrow": false,
          "text": "-0.1",
          "x": "GFX%rc6",
          "xref": "x",
          "y": "Any%C0",
          "yref": "y"
         },
         {
          "font": {
           "color": "#FFFFFF"
          },
          "showarrow": false,
          "text": "0.02",
          "x": "GFXMHz",
          "xref": "x",
          "y": "Any%C0",
          "yref": "y"
         },
         {
          "font": {
           "color": "#FFFFFF"
          },
          "showarrow": false,
          "text": "nan",
          "x": "GFXAMHz",
          "xref": "x",
          "y": "Any%C0",
          "yref": "y"
         },
         {
          "font": {
           "color": "#FFFFFF"
          },
          "showarrow": false,
          "text": "-0.04",
          "x": "Totl%C0",
          "xref": "x",
          "y": "Any%C0",
          "yref": "y"
         },
         {
          "font": {
           "color": "#FFFFFF"
          },
          "showarrow": false,
          "text": "1.0",
          "x": "Any%C0",
          "xref": "x",
          "y": "Any%C0",
          "yref": "y"
         },
         {
          "font": {
           "color": "#FFFFFF"
          },
          "showarrow": false,
          "text": "0.09",
          "x": "GFX%C0",
          "xref": "x",
          "y": "Any%C0",
          "yref": "y"
         },
         {
          "font": {
           "color": "#FFFFFF"
          },
          "showarrow": false,
          "text": "0.15",
          "x": "CPUGFX%",
          "xref": "x",
          "y": "Any%C0",
          "yref": "y"
         },
         {
          "font": {
           "color": "#FFFFFF"
          },
          "showarrow": false,
          "text": "-0.15",
          "x": "Pkg_J",
          "xref": "x",
          "y": "Any%C0",
          "yref": "y"
         },
         {
          "font": {
           "color": "#FFFFFF"
          },
          "showarrow": false,
          "text": "-0.1",
          "x": "Cor_J",
          "xref": "x",
          "y": "Any%C0",
          "yref": "y"
         },
         {
          "font": {
           "color": "#FFFFFF"
          },
          "showarrow": false,
          "text": "-0.35",
          "x": "GFX_J",
          "xref": "x",
          "y": "Any%C0",
          "yref": "y"
         },
         {
          "font": {
           "color": "#FFFFFF"
          },
          "showarrow": false,
          "text": "-0.31",
          "x": "RAM_J",
          "xref": "x",
          "y": "Any%C0",
          "yref": "y"
         },
         {
          "font": {
           "color": "#FFFFFF"
          },
          "showarrow": false,
          "text": "-0.0",
          "x": "Avg_MHz",
          "xref": "x",
          "y": "GFX%C0",
          "yref": "y"
         },
         {
          "font": {
           "color": "#FFFFFF"
          },
          "showarrow": false,
          "text": "-0.06",
          "x": "Busy%",
          "xref": "x",
          "y": "GFX%C0",
          "yref": "y"
         },
         {
          "font": {
           "color": "#FFFFFF"
          },
          "showarrow": false,
          "text": "0.24",
          "x": "IPC",
          "xref": "x",
          "y": "GFX%C0",
          "yref": "y"
         },
         {
          "font": {
           "color": "#FFFFFF"
          },
          "showarrow": false,
          "text": "-0.09",
          "x": "IRQ",
          "xref": "x",
          "y": "GFX%C0",
          "yref": "y"
         },
         {
          "font": {
           "color": "#FFFFFF"
          },
          "showarrow": false,
          "text": "-0.1",
          "x": "POLL",
          "xref": "x",
          "y": "GFX%C0",
          "yref": "y"
         },
         {
          "font": {
           "color": "#FFFFFF"
          },
          "showarrow": false,
          "text": "-0.17",
          "x": "C1%",
          "xref": "x",
          "y": "GFX%C0",
          "yref": "y"
         },
         {
          "font": {
           "color": "#FFFFFF"
          },
          "showarrow": false,
          "text": "-0.05",
          "x": "C1E%",
          "xref": "x",
          "y": "GFX%C0",
          "yref": "y"
         },
         {
          "font": {
           "color": "#FFFFFF"
          },
          "showarrow": false,
          "text": "-0.01",
          "x": "C3%",
          "xref": "x",
          "y": "GFX%C0",
          "yref": "y"
         },
         {
          "font": {
           "color": "#FFFFFF"
          },
          "showarrow": false,
          "text": "0.01",
          "x": "C6%",
          "xref": "x",
          "y": "GFX%C0",
          "yref": "y"
         },
         {
          "font": {
           "color": "#FFFFFF"
          },
          "showarrow": false,
          "text": "-0.04",
          "x": "C7s%",
          "xref": "x",
          "y": "GFX%C0",
          "yref": "y"
         },
         {
          "font": {
           "color": "#FFFFFF"
          },
          "showarrow": false,
          "text": "0.02",
          "x": "C8%",
          "xref": "x",
          "y": "GFX%C0",
          "yref": "y"
         },
         {
          "font": {
           "color": "#FFFFFF"
          },
          "showarrow": false,
          "text": "-0.03",
          "x": "C9%",
          "xref": "x",
          "y": "GFX%C0",
          "yref": "y"
         },
         {
          "font": {
           "color": "#FFFFFF"
          },
          "showarrow": false,
          "text": "0.03",
          "x": "C10%",
          "xref": "x",
          "y": "GFX%C0",
          "yref": "y"
         },
         {
          "font": {
           "color": "#FFFFFF"
          },
          "showarrow": false,
          "text": "-0.11",
          "x": "CPU%c1",
          "xref": "x",
          "y": "GFX%C0",
          "yref": "y"
         },
         {
          "font": {
           "color": "#FFFFFF"
          },
          "showarrow": false,
          "text": "0.0",
          "x": "CPU%c3",
          "xref": "x",
          "y": "GFX%C0",
          "yref": "y"
         },
         {
          "font": {
           "color": "#FFFFFF"
          },
          "showarrow": false,
          "text": "0.03",
          "x": "CPU%c6",
          "xref": "x",
          "y": "GFX%C0",
          "yref": "y"
         },
         {
          "font": {
           "color": "#FFFFFF"
          },
          "showarrow": false,
          "text": "0.07",
          "x": "CPU%c7",
          "xref": "x",
          "y": "GFX%C0",
          "yref": "y"
         },
         {
          "font": {
           "color": "#FFFFFF"
          },
          "showarrow": false,
          "text": "0.03",
          "x": "CoreTmp",
          "xref": "x",
          "y": "GFX%C0",
          "yref": "y"
         },
         {
          "font": {
           "color": "#FFFFFF"
          },
          "showarrow": false,
          "text": "-0.0",
          "x": "PkgTmp",
          "xref": "x",
          "y": "GFX%C0",
          "yref": "y"
         },
         {
          "font": {
           "color": "#FFFFFF"
          },
          "showarrow": false,
          "text": "-0.68",
          "x": "GFX%rc6",
          "xref": "x",
          "y": "GFX%C0",
          "yref": "y"
         },
         {
          "font": {
           "color": "#FFFFFF"
          },
          "showarrow": false,
          "text": "-0.23",
          "x": "GFXMHz",
          "xref": "x",
          "y": "GFX%C0",
          "yref": "y"
         },
         {
          "font": {
           "color": "#FFFFFF"
          },
          "showarrow": false,
          "text": "nan",
          "x": "GFXAMHz",
          "xref": "x",
          "y": "GFX%C0",
          "yref": "y"
         },
         {
          "font": {
           "color": "#FFFFFF"
          },
          "showarrow": false,
          "text": "-0.06",
          "x": "Totl%C0",
          "xref": "x",
          "y": "GFX%C0",
          "yref": "y"
         },
         {
          "font": {
           "color": "#FFFFFF"
          },
          "showarrow": false,
          "text": "0.09",
          "x": "Any%C0",
          "xref": "x",
          "y": "GFX%C0",
          "yref": "y"
         },
         {
          "font": {
           "color": "#FFFFFF"
          },
          "showarrow": false,
          "text": "1.0",
          "x": "GFX%C0",
          "xref": "x",
          "y": "GFX%C0",
          "yref": "y"
         },
         {
          "font": {
           "color": "#FFFFFF"
          },
          "showarrow": false,
          "text": "0.99",
          "x": "CPUGFX%",
          "xref": "x",
          "y": "GFX%C0",
          "yref": "y"
         },
         {
          "font": {
           "color": "#FFFFFF"
          },
          "showarrow": false,
          "text": "-0.13",
          "x": "Pkg_J",
          "xref": "x",
          "y": "GFX%C0",
          "yref": "y"
         },
         {
          "font": {
           "color": "#FFFFFF"
          },
          "showarrow": false,
          "text": "-0.09",
          "x": "Cor_J",
          "xref": "x",
          "y": "GFX%C0",
          "yref": "y"
         },
         {
          "font": {
           "color": "#FFFFFF"
          },
          "showarrow": false,
          "text": "0.49",
          "x": "GFX_J",
          "xref": "x",
          "y": "GFX%C0",
          "yref": "y"
         },
         {
          "font": {
           "color": "#FFFFFF"
          },
          "showarrow": false,
          "text": "-0.33",
          "x": "RAM_J",
          "xref": "x",
          "y": "GFX%C0",
          "yref": "y"
         },
         {
          "font": {
           "color": "#FFFFFF"
          },
          "showarrow": false,
          "text": "0.01",
          "x": "Avg_MHz",
          "xref": "x",
          "y": "CPUGFX%",
          "yref": "y"
         },
         {
          "font": {
           "color": "#FFFFFF"
          },
          "showarrow": false,
          "text": "-0.04",
          "x": "Busy%",
          "xref": "x",
          "y": "CPUGFX%",
          "yref": "y"
         },
         {
          "font": {
           "color": "#FFFFFF"
          },
          "showarrow": false,
          "text": "0.25",
          "x": "IPC",
          "xref": "x",
          "y": "CPUGFX%",
          "yref": "y"
         },
         {
          "font": {
           "color": "#FFFFFF"
          },
          "showarrow": false,
          "text": "-0.15",
          "x": "IRQ",
          "xref": "x",
          "y": "CPUGFX%",
          "yref": "y"
         },
         {
          "font": {
           "color": "#FFFFFF"
          },
          "showarrow": false,
          "text": "-0.1",
          "x": "POLL",
          "xref": "x",
          "y": "CPUGFX%",
          "yref": "y"
         },
         {
          "font": {
           "color": "#FFFFFF"
          },
          "showarrow": false,
          "text": "-0.15",
          "x": "C1%",
          "xref": "x",
          "y": "CPUGFX%",
          "yref": "y"
         },
         {
          "font": {
           "color": "#FFFFFF"
          },
          "showarrow": false,
          "text": "-0.04",
          "x": "C1E%",
          "xref": "x",
          "y": "CPUGFX%",
          "yref": "y"
         },
         {
          "font": {
           "color": "#FFFFFF"
          },
          "showarrow": false,
          "text": "0.0",
          "x": "C3%",
          "xref": "x",
          "y": "CPUGFX%",
          "yref": "y"
         },
         {
          "font": {
           "color": "#FFFFFF"
          },
          "showarrow": false,
          "text": "-0.02",
          "x": "C6%",
          "xref": "x",
          "y": "CPUGFX%",
          "yref": "y"
         },
         {
          "font": {
           "color": "#FFFFFF"
          },
          "showarrow": false,
          "text": "-0.04",
          "x": "C7s%",
          "xref": "x",
          "y": "CPUGFX%",
          "yref": "y"
         },
         {
          "font": {
           "color": "#FFFFFF"
          },
          "showarrow": false,
          "text": "-0.02",
          "x": "C8%",
          "xref": "x",
          "y": "CPUGFX%",
          "yref": "y"
         },
         {
          "font": {
           "color": "#FFFFFF"
          },
          "showarrow": false,
          "text": "-0.09",
          "x": "C9%",
          "xref": "x",
          "y": "CPUGFX%",
          "yref": "y"
         },
         {
          "font": {
           "color": "#FFFFFF"
          },
          "showarrow": false,
          "text": "0.07",
          "x": "C10%",
          "xref": "x",
          "y": "CPUGFX%",
          "yref": "y"
         },
         {
          "font": {
           "color": "#FFFFFF"
          },
          "showarrow": false,
          "text": "-0.12",
          "x": "CPU%c1",
          "xref": "x",
          "y": "CPUGFX%",
          "yref": "y"
         },
         {
          "font": {
           "color": "#FFFFFF"
          },
          "showarrow": false,
          "text": "0.01",
          "x": "CPU%c3",
          "xref": "x",
          "y": "CPUGFX%",
          "yref": "y"
         },
         {
          "font": {
           "color": "#FFFFFF"
          },
          "showarrow": false,
          "text": "-0.03",
          "x": "CPU%c6",
          "xref": "x",
          "y": "CPUGFX%",
          "yref": "y"
         },
         {
          "font": {
           "color": "#FFFFFF"
          },
          "showarrow": false,
          "text": "0.08",
          "x": "CPU%c7",
          "xref": "x",
          "y": "CPUGFX%",
          "yref": "y"
         },
         {
          "font": {
           "color": "#FFFFFF"
          },
          "showarrow": false,
          "text": "-0.01",
          "x": "CoreTmp",
          "xref": "x",
          "y": "CPUGFX%",
          "yref": "y"
         },
         {
          "font": {
           "color": "#FFFFFF"
          },
          "showarrow": false,
          "text": "-0.05",
          "x": "PkgTmp",
          "xref": "x",
          "y": "CPUGFX%",
          "yref": "y"
         },
         {
          "font": {
           "color": "#FFFFFF"
          },
          "showarrow": false,
          "text": "-0.67",
          "x": "GFX%rc6",
          "xref": "x",
          "y": "CPUGFX%",
          "yref": "y"
         },
         {
          "font": {
           "color": "#FFFFFF"
          },
          "showarrow": false,
          "text": "-0.23",
          "x": "GFXMHz",
          "xref": "x",
          "y": "CPUGFX%",
          "yref": "y"
         },
         {
          "font": {
           "color": "#FFFFFF"
          },
          "showarrow": false,
          "text": "nan",
          "x": "GFXAMHz",
          "xref": "x",
          "y": "CPUGFX%",
          "yref": "y"
         },
         {
          "font": {
           "color": "#FFFFFF"
          },
          "showarrow": false,
          "text": "-0.05",
          "x": "Totl%C0",
          "xref": "x",
          "y": "CPUGFX%",
          "yref": "y"
         },
         {
          "font": {
           "color": "#FFFFFF"
          },
          "showarrow": false,
          "text": "0.15",
          "x": "Any%C0",
          "xref": "x",
          "y": "CPUGFX%",
          "yref": "y"
         },
         {
          "font": {
           "color": "#FFFFFF"
          },
          "showarrow": false,
          "text": "0.99",
          "x": "GFX%C0",
          "xref": "x",
          "y": "CPUGFX%",
          "yref": "y"
         },
         {
          "font": {
           "color": "#FFFFFF"
          },
          "showarrow": false,
          "text": "1.0",
          "x": "CPUGFX%",
          "xref": "x",
          "y": "CPUGFX%",
          "yref": "y"
         },
         {
          "font": {
           "color": "#FFFFFF"
          },
          "showarrow": false,
          "text": "-0.16",
          "x": "Pkg_J",
          "xref": "x",
          "y": "CPUGFX%",
          "yref": "y"
         },
         {
          "font": {
           "color": "#FFFFFF"
          },
          "showarrow": false,
          "text": "-0.12",
          "x": "Cor_J",
          "xref": "x",
          "y": "CPUGFX%",
          "yref": "y"
         },
         {
          "font": {
           "color": "#FFFFFF"
          },
          "showarrow": false,
          "text": "0.45",
          "x": "GFX_J",
          "xref": "x",
          "y": "CPUGFX%",
          "yref": "y"
         },
         {
          "font": {
           "color": "#FFFFFF"
          },
          "showarrow": false,
          "text": "-0.36",
          "x": "RAM_J",
          "xref": "x",
          "y": "CPUGFX%",
          "yref": "y"
         },
         {
          "font": {
           "color": "#FFFFFF"
          },
          "showarrow": false,
          "text": "0.61",
          "x": "Avg_MHz",
          "xref": "x",
          "y": "Pkg_J",
          "yref": "y"
         },
         {
          "font": {
           "color": "#FFFFFF"
          },
          "showarrow": false,
          "text": "0.54",
          "x": "Busy%",
          "xref": "x",
          "y": "Pkg_J",
          "yref": "y"
         },
         {
          "font": {
           "color": "#FFFFFF"
          },
          "showarrow": false,
          "text": "-0.76",
          "x": "IPC",
          "xref": "x",
          "y": "Pkg_J",
          "yref": "y"
         },
         {
          "font": {
           "color": "#FFFFFF"
          },
          "showarrow": false,
          "text": "0.35",
          "x": "IRQ",
          "xref": "x",
          "y": "Pkg_J",
          "yref": "y"
         },
         {
          "font": {
           "color": "#FFFFFF"
          },
          "showarrow": false,
          "text": "0.49",
          "x": "POLL",
          "xref": "x",
          "y": "Pkg_J",
          "yref": "y"
         },
         {
          "font": {
           "color": "#FFFFFF"
          },
          "showarrow": false,
          "text": "0.45",
          "x": "C1%",
          "xref": "x",
          "y": "Pkg_J",
          "yref": "y"
         },
         {
          "font": {
           "color": "#FFFFFF"
          },
          "showarrow": false,
          "text": "0.54",
          "x": "C1E%",
          "xref": "x",
          "y": "Pkg_J",
          "yref": "y"
         },
         {
          "font": {
           "color": "#FFFFFF"
          },
          "showarrow": false,
          "text": "0.54",
          "x": "C3%",
          "xref": "x",
          "y": "Pkg_J",
          "yref": "y"
         },
         {
          "font": {
           "color": "#FFFFFF"
          },
          "showarrow": false,
          "text": "0.48",
          "x": "C6%",
          "xref": "x",
          "y": "Pkg_J",
          "yref": "y"
         },
         {
          "font": {
           "color": "#FFFFFF"
          },
          "showarrow": false,
          "text": "0.2",
          "x": "C7s%",
          "xref": "x",
          "y": "Pkg_J",
          "yref": "y"
         },
         {
          "font": {
           "color": "#FFFFFF"
          },
          "showarrow": false,
          "text": "0.32",
          "x": "C8%",
          "xref": "x",
          "y": "Pkg_J",
          "yref": "y"
         },
         {
          "font": {
           "color": "#FFFFFF"
          },
          "showarrow": false,
          "text": "0.22",
          "x": "C9%",
          "xref": "x",
          "y": "Pkg_J",
          "yref": "y"
         },
         {
          "font": {
           "color": "#FFFFFF"
          },
          "showarrow": false,
          "text": "-0.39",
          "x": "C10%",
          "xref": "x",
          "y": "Pkg_J",
          "yref": "y"
         },
         {
          "font": {
           "color": "#FFFFFF"
          },
          "showarrow": false,
          "text": "0.54",
          "x": "CPU%c1",
          "xref": "x",
          "y": "Pkg_J",
          "yref": "y"
         },
         {
          "font": {
           "color": "#FFFFFF"
          },
          "showarrow": false,
          "text": "0.52",
          "x": "CPU%c3",
          "xref": "x",
          "y": "Pkg_J",
          "yref": "y"
         },
         {
          "font": {
           "color": "#FFFFFF"
          },
          "showarrow": false,
          "text": "0.33",
          "x": "CPU%c6",
          "xref": "x",
          "y": "Pkg_J",
          "yref": "y"
         },
         {
          "font": {
           "color": "#FFFFFF"
          },
          "showarrow": false,
          "text": "-0.56",
          "x": "CPU%c7",
          "xref": "x",
          "y": "Pkg_J",
          "yref": "y"
         },
         {
          "font": {
           "color": "#FFFFFF"
          },
          "showarrow": false,
          "text": "0.23",
          "x": "CoreTmp",
          "xref": "x",
          "y": "Pkg_J",
          "yref": "y"
         },
         {
          "font": {
           "color": "#FFFFFF"
          },
          "showarrow": false,
          "text": "0.25",
          "x": "PkgTmp",
          "xref": "x",
          "y": "Pkg_J",
          "yref": "y"
         },
         {
          "font": {
           "color": "#FFFFFF"
          },
          "showarrow": false,
          "text": "-0.0",
          "x": "GFX%rc6",
          "xref": "x",
          "y": "Pkg_J",
          "yref": "y"
         },
         {
          "font": {
           "color": "#FFFFFF"
          },
          "showarrow": false,
          "text": "0.01",
          "x": "GFXMHz",
          "xref": "x",
          "y": "Pkg_J",
          "yref": "y"
         },
         {
          "font": {
           "color": "#FFFFFF"
          },
          "showarrow": false,
          "text": "nan",
          "x": "GFXAMHz",
          "xref": "x",
          "y": "Pkg_J",
          "yref": "y"
         },
         {
          "font": {
           "color": "#FFFFFF"
          },
          "showarrow": false,
          "text": "0.54",
          "x": "Totl%C0",
          "xref": "x",
          "y": "Pkg_J",
          "yref": "y"
         },
         {
          "font": {
           "color": "#FFFFFF"
          },
          "showarrow": false,
          "text": "-0.15",
          "x": "Any%C0",
          "xref": "x",
          "y": "Pkg_J",
          "yref": "y"
         },
         {
          "font": {
           "color": "#FFFFFF"
          },
          "showarrow": false,
          "text": "-0.13",
          "x": "GFX%C0",
          "xref": "x",
          "y": "Pkg_J",
          "yref": "y"
         },
         {
          "font": {
           "color": "#FFFFFF"
          },
          "showarrow": false,
          "text": "-0.16",
          "x": "CPUGFX%",
          "xref": "x",
          "y": "Pkg_J",
          "yref": "y"
         },
         {
          "font": {
           "color": "#FFFFFF"
          },
          "showarrow": false,
          "text": "1.0",
          "x": "Pkg_J",
          "xref": "x",
          "y": "Pkg_J",
          "yref": "y"
         },
         {
          "font": {
           "color": "#FFFFFF"
          },
          "showarrow": false,
          "text": "0.99",
          "x": "Cor_J",
          "xref": "x",
          "y": "Pkg_J",
          "yref": "y"
         },
         {
          "font": {
           "color": "#FFFFFF"
          },
          "showarrow": false,
          "text": "0.37",
          "x": "GFX_J",
          "xref": "x",
          "y": "Pkg_J",
          "yref": "y"
         },
         {
          "font": {
           "color": "#FFFFFF"
          },
          "showarrow": false,
          "text": "0.7",
          "x": "RAM_J",
          "xref": "x",
          "y": "Pkg_J",
          "yref": "y"
         },
         {
          "font": {
           "color": "#FFFFFF"
          },
          "showarrow": false,
          "text": "0.64",
          "x": "Avg_MHz",
          "xref": "x",
          "y": "Cor_J",
          "yref": "y"
         },
         {
          "font": {
           "color": "#FFFFFF"
          },
          "showarrow": false,
          "text": "0.54",
          "x": "Busy%",
          "xref": "x",
          "y": "Cor_J",
          "yref": "y"
         },
         {
          "font": {
           "color": "#FFFFFF"
          },
          "showarrow": false,
          "text": "-0.73",
          "x": "IPC",
          "xref": "x",
          "y": "Cor_J",
          "yref": "y"
         },
         {
          "font": {
           "color": "#FFFFFF"
          },
          "showarrow": false,
          "text": "0.29",
          "x": "IRQ",
          "xref": "x",
          "y": "Cor_J",
          "yref": "y"
         },
         {
          "font": {
           "color": "#FFFFFF"
          },
          "showarrow": false,
          "text": "0.49",
          "x": "POLL",
          "xref": "x",
          "y": "Cor_J",
          "yref": "y"
         },
         {
          "font": {
           "color": "#FFFFFF"
          },
          "showarrow": false,
          "text": "0.45",
          "x": "C1%",
          "xref": "x",
          "y": "Cor_J",
          "yref": "y"
         },
         {
          "font": {
           "color": "#FFFFFF"
          },
          "showarrow": false,
          "text": "0.54",
          "x": "C1E%",
          "xref": "x",
          "y": "Cor_J",
          "yref": "y"
         },
         {
          "font": {
           "color": "#FFFFFF"
          },
          "showarrow": false,
          "text": "0.54",
          "x": "C3%",
          "xref": "x",
          "y": "Cor_J",
          "yref": "y"
         },
         {
          "font": {
           "color": "#FFFFFF"
          },
          "showarrow": false,
          "text": "0.45",
          "x": "C6%",
          "xref": "x",
          "y": "Cor_J",
          "yref": "y"
         },
         {
          "font": {
           "color": "#FFFFFF"
          },
          "showarrow": false,
          "text": "0.2",
          "x": "C7s%",
          "xref": "x",
          "y": "Cor_J",
          "yref": "y"
         },
         {
          "font": {
           "color": "#FFFFFF"
          },
          "showarrow": false,
          "text": "0.28",
          "x": "C8%",
          "xref": "x",
          "y": "Cor_J",
          "yref": "y"
         },
         {
          "font": {
           "color": "#FFFFFF"
          },
          "showarrow": false,
          "text": "0.17",
          "x": "C9%",
          "xref": "x",
          "y": "Cor_J",
          "yref": "y"
         },
         {
          "font": {
           "color": "#FFFFFF"
          },
          "showarrow": false,
          "text": "-0.34",
          "x": "C10%",
          "xref": "x",
          "y": "Cor_J",
          "yref": "y"
         },
         {
          "font": {
           "color": "#FFFFFF"
          },
          "showarrow": false,
          "text": "0.52",
          "x": "CPU%c1",
          "xref": "x",
          "y": "Cor_J",
          "yref": "y"
         },
         {
          "font": {
           "color": "#FFFFFF"
          },
          "showarrow": false,
          "text": "0.53",
          "x": "CPU%c3",
          "xref": "x",
          "y": "Cor_J",
          "yref": "y"
         },
         {
          "font": {
           "color": "#FFFFFF"
          },
          "showarrow": false,
          "text": "0.29",
          "x": "CPU%c6",
          "xref": "x",
          "y": "Cor_J",
          "yref": "y"
         },
         {
          "font": {
           "color": "#FFFFFF"
          },
          "showarrow": false,
          "text": "-0.54",
          "x": "CPU%c7",
          "xref": "x",
          "y": "Cor_J",
          "yref": "y"
         },
         {
          "font": {
           "color": "#FFFFFF"
          },
          "showarrow": false,
          "text": "0.16",
          "x": "CoreTmp",
          "xref": "x",
          "y": "Cor_J",
          "yref": "y"
         },
         {
          "font": {
           "color": "#FFFFFF"
          },
          "showarrow": false,
          "text": "0.17",
          "x": "PkgTmp",
          "xref": "x",
          "y": "Cor_J",
          "yref": "y"
         },
         {
          "font": {
           "color": "#FFFFFF"
          },
          "showarrow": false,
          "text": "-0.01",
          "x": "GFX%rc6",
          "xref": "x",
          "y": "Cor_J",
          "yref": "y"
         },
         {
          "font": {
           "color": "#FFFFFF"
          },
          "showarrow": false,
          "text": "-0.02",
          "x": "GFXMHz",
          "xref": "x",
          "y": "Cor_J",
          "yref": "y"
         },
         {
          "font": {
           "color": "#FFFFFF"
          },
          "showarrow": false,
          "text": "nan",
          "x": "GFXAMHz",
          "xref": "x",
          "y": "Cor_J",
          "yref": "y"
         },
         {
          "font": {
           "color": "#FFFFFF"
          },
          "showarrow": false,
          "text": "0.54",
          "x": "Totl%C0",
          "xref": "x",
          "y": "Cor_J",
          "yref": "y"
         },
         {
          "font": {
           "color": "#FFFFFF"
          },
          "showarrow": false,
          "text": "-0.1",
          "x": "Any%C0",
          "xref": "x",
          "y": "Cor_J",
          "yref": "y"
         },
         {
          "font": {
           "color": "#FFFFFF"
          },
          "showarrow": false,
          "text": "-0.09",
          "x": "GFX%C0",
          "xref": "x",
          "y": "Cor_J",
          "yref": "y"
         },
         {
          "font": {
           "color": "#FFFFFF"
          },
          "showarrow": false,
          "text": "-0.12",
          "x": "CPUGFX%",
          "xref": "x",
          "y": "Cor_J",
          "yref": "y"
         },
         {
          "font": {
           "color": "#FFFFFF"
          },
          "showarrow": false,
          "text": "0.99",
          "x": "Pkg_J",
          "xref": "x",
          "y": "Cor_J",
          "yref": "y"
         },
         {
          "font": {
           "color": "#FFFFFF"
          },
          "showarrow": false,
          "text": "1.0",
          "x": "Cor_J",
          "xref": "x",
          "y": "Cor_J",
          "yref": "y"
         },
         {
          "font": {
           "color": "#FFFFFF"
          },
          "showarrow": false,
          "text": "0.32",
          "x": "GFX_J",
          "xref": "x",
          "y": "Cor_J",
          "yref": "y"
         },
         {
          "font": {
           "color": "#FFFFFF"
          },
          "showarrow": false,
          "text": "0.62",
          "x": "RAM_J",
          "xref": "x",
          "y": "Cor_J",
          "yref": "y"
         },
         {
          "font": {
           "color": "#FFFFFF"
          },
          "showarrow": false,
          "text": "0.01",
          "x": "Avg_MHz",
          "xref": "x",
          "y": "GFX_J",
          "yref": "y"
         },
         {
          "font": {
           "color": "#FFFFFF"
          },
          "showarrow": false,
          "text": "0.08",
          "x": "Busy%",
          "xref": "x",
          "y": "GFX_J",
          "yref": "y"
         },
         {
          "font": {
           "color": "#FFFFFF"
          },
          "showarrow": false,
          "text": "-0.22",
          "x": "IPC",
          "xref": "x",
          "y": "GFX_J",
          "yref": "y"
         },
         {
          "font": {
           "color": "#FFFFFF"
          },
          "showarrow": false,
          "text": "0.4",
          "x": "IRQ",
          "xref": "x",
          "y": "GFX_J",
          "yref": "y"
         },
         {
          "font": {
           "color": "#FFFFFF"
          },
          "showarrow": false,
          "text": "0.03",
          "x": "POLL",
          "xref": "x",
          "y": "GFX_J",
          "yref": "y"
         },
         {
          "font": {
           "color": "#FFFFFF"
          },
          "showarrow": false,
          "text": "-0.01",
          "x": "C1%",
          "xref": "x",
          "y": "GFX_J",
          "yref": "y"
         },
         {
          "font": {
           "color": "#FFFFFF"
          },
          "showarrow": false,
          "text": "0.11",
          "x": "C1E%",
          "xref": "x",
          "y": "GFX_J",
          "yref": "y"
         },
         {
          "font": {
           "color": "#FFFFFF"
          },
          "showarrow": false,
          "text": "0.17",
          "x": "C3%",
          "xref": "x",
          "y": "GFX_J",
          "yref": "y"
         },
         {
          "font": {
           "color": "#FFFFFF"
          },
          "showarrow": false,
          "text": "0.34",
          "x": "C6%",
          "xref": "x",
          "y": "GFX_J",
          "yref": "y"
         },
         {
          "font": {
           "color": "#FFFFFF"
          },
          "showarrow": false,
          "text": "-0.06",
          "x": "C7s%",
          "xref": "x",
          "y": "GFX_J",
          "yref": "y"
         },
         {
          "font": {
           "color": "#FFFFFF"
          },
          "showarrow": false,
          "text": "0.36",
          "x": "C8%",
          "xref": "x",
          "y": "GFX_J",
          "yref": "y"
         },
         {
          "font": {
           "color": "#FFFFFF"
          },
          "showarrow": false,
          "text": "0.41",
          "x": "C9%",
          "xref": "x",
          "y": "GFX_J",
          "yref": "y"
         },
         {
          "font": {
           "color": "#FFFFFF"
          },
          "showarrow": false,
          "text": "-0.4",
          "x": "C10%",
          "xref": "x",
          "y": "GFX_J",
          "yref": "y"
         },
         {
          "font": {
           "color": "#FFFFFF"
          },
          "showarrow": false,
          "text": "0.19",
          "x": "CPU%c1",
          "xref": "x",
          "y": "GFX_J",
          "yref": "y"
         },
         {
          "font": {
           "color": "#FFFFFF"
          },
          "showarrow": false,
          "text": "0.17",
          "x": "CPU%c3",
          "xref": "x",
          "y": "GFX_J",
          "yref": "y"
         },
         {
          "font": {
           "color": "#FFFFFF"
          },
          "showarrow": false,
          "text": "0.4",
          "x": "CPU%c6",
          "xref": "x",
          "y": "GFX_J",
          "yref": "y"
         },
         {
          "font": {
           "color": "#FFFFFF"
          },
          "showarrow": false,
          "text": "-0.19",
          "x": "CPU%c7",
          "xref": "x",
          "y": "GFX_J",
          "yref": "y"
         },
         {
          "font": {
           "color": "#FFFFFF"
          },
          "showarrow": false,
          "text": "0.57",
          "x": "CoreTmp",
          "xref": "x",
          "y": "GFX_J",
          "yref": "y"
         },
         {
          "font": {
           "color": "#FFFFFF"
          },
          "showarrow": false,
          "text": "0.57",
          "x": "PkgTmp",
          "xref": "x",
          "y": "GFX_J",
          "yref": "y"
         },
         {
          "font": {
           "color": "#FFFFFF"
          },
          "showarrow": false,
          "text": "-0.56",
          "x": "GFX%rc6",
          "xref": "x",
          "y": "GFX_J",
          "yref": "y"
         },
         {
          "font": {
           "color": "#FFFFFF"
          },
          "showarrow": false,
          "text": "0.15",
          "x": "GFXMHz",
          "xref": "x",
          "y": "GFX_J",
          "yref": "y"
         },
         {
          "font": {
           "color": "#FFFFFF"
          },
          "showarrow": false,
          "text": "nan",
          "x": "GFXAMHz",
          "xref": "x",
          "y": "GFX_J",
          "yref": "y"
         },
         {
          "font": {
           "color": "#FFFFFF"
          },
          "showarrow": false,
          "text": "0.09",
          "x": "Totl%C0",
          "xref": "x",
          "y": "GFX_J",
          "yref": "y"
         },
         {
          "font": {
           "color": "#FFFFFF"
          },
          "showarrow": false,
          "text": "-0.35",
          "x": "Any%C0",
          "xref": "x",
          "y": "GFX_J",
          "yref": "y"
         },
         {
          "font": {
           "color": "#FFFFFF"
          },
          "showarrow": false,
          "text": "0.49",
          "x": "GFX%C0",
          "xref": "x",
          "y": "GFX_J",
          "yref": "y"
         },
         {
          "font": {
           "color": "#FFFFFF"
          },
          "showarrow": false,
          "text": "0.45",
          "x": "CPUGFX%",
          "xref": "x",
          "y": "GFX_J",
          "yref": "y"
         },
         {
          "font": {
           "color": "#FFFFFF"
          },
          "showarrow": false,
          "text": "0.37",
          "x": "Pkg_J",
          "xref": "x",
          "y": "GFX_J",
          "yref": "y"
         },
         {
          "font": {
           "color": "#FFFFFF"
          },
          "showarrow": false,
          "text": "0.32",
          "x": "Cor_J",
          "xref": "x",
          "y": "GFX_J",
          "yref": "y"
         },
         {
          "font": {
           "color": "#FFFFFF"
          },
          "showarrow": false,
          "text": "1.0",
          "x": "GFX_J",
          "xref": "x",
          "y": "GFX_J",
          "yref": "y"
         },
         {
          "font": {
           "color": "#FFFFFF"
          },
          "showarrow": false,
          "text": "0.41",
          "x": "RAM_J",
          "xref": "x",
          "y": "GFX_J",
          "yref": "y"
         },
         {
          "font": {
           "color": "#FFFFFF"
          },
          "showarrow": false,
          "text": "0.49",
          "x": "Avg_MHz",
          "xref": "x",
          "y": "RAM_J",
          "yref": "y"
         },
         {
          "font": {
           "color": "#FFFFFF"
          },
          "showarrow": false,
          "text": "0.62",
          "x": "Busy%",
          "xref": "x",
          "y": "RAM_J",
          "yref": "y"
         },
         {
          "font": {
           "color": "#FFFFFF"
          },
          "showarrow": false,
          "text": "-0.79",
          "x": "IPC",
          "xref": "x",
          "y": "RAM_J",
          "yref": "y"
         },
         {
          "font": {
           "color": "#FFFFFF"
          },
          "showarrow": false,
          "text": "0.48",
          "x": "IRQ",
          "xref": "x",
          "y": "RAM_J",
          "yref": "y"
         },
         {
          "font": {
           "color": "#FFFFFF"
          },
          "showarrow": false,
          "text": "0.44",
          "x": "POLL",
          "xref": "x",
          "y": "RAM_J",
          "yref": "y"
         },
         {
          "font": {
           "color": "#FFFFFF"
          },
          "showarrow": false,
          "text": "0.61",
          "x": "C1%",
          "xref": "x",
          "y": "RAM_J",
          "yref": "y"
         },
         {
          "font": {
           "color": "#FFFFFF"
          },
          "showarrow": false,
          "text": "0.57",
          "x": "C1E%",
          "xref": "x",
          "y": "RAM_J",
          "yref": "y"
         },
         {
          "font": {
           "color": "#FFFFFF"
          },
          "showarrow": false,
          "text": "0.54",
          "x": "C3%",
          "xref": "x",
          "y": "RAM_J",
          "yref": "y"
         },
         {
          "font": {
           "color": "#FFFFFF"
          },
          "showarrow": false,
          "text": "0.54",
          "x": "C6%",
          "xref": "x",
          "y": "RAM_J",
          "yref": "y"
         },
         {
          "font": {
           "color": "#FFFFFF"
          },
          "showarrow": false,
          "text": "0.13",
          "x": "C7s%",
          "xref": "x",
          "y": "RAM_J",
          "yref": "y"
         },
         {
          "font": {
           "color": "#FFFFFF"
          },
          "showarrow": false,
          "text": "0.49",
          "x": "C8%",
          "xref": "x",
          "y": "RAM_J",
          "yref": "y"
         },
         {
          "font": {
           "color": "#FFFFFF"
          },
          "showarrow": false,
          "text": "0.34",
          "x": "C9%",
          "xref": "x",
          "y": "RAM_J",
          "yref": "y"
         },
         {
          "font": {
           "color": "#FFFFFF"
          },
          "showarrow": false,
          "text": "-0.53",
          "x": "C10%",
          "xref": "x",
          "y": "RAM_J",
          "yref": "y"
         },
         {
          "font": {
           "color": "#FFFFFF"
          },
          "showarrow": false,
          "text": "0.68",
          "x": "CPU%c1",
          "xref": "x",
          "y": "RAM_J",
          "yref": "y"
         },
         {
          "font": {
           "color": "#FFFFFF"
          },
          "showarrow": false,
          "text": "0.51",
          "x": "CPU%c3",
          "xref": "x",
          "y": "RAM_J",
          "yref": "y"
         },
         {
          "font": {
           "color": "#FFFFFF"
          },
          "showarrow": false,
          "text": "0.41",
          "x": "CPU%c6",
          "xref": "x",
          "y": "RAM_J",
          "yref": "y"
         },
         {
          "font": {
           "color": "#FFFFFF"
          },
          "showarrow": false,
          "text": "-0.68",
          "x": "CPU%c7",
          "xref": "x",
          "y": "RAM_J",
          "yref": "y"
         },
         {
          "font": {
           "color": "#FFFFFF"
          },
          "showarrow": false,
          "text": "0.43",
          "x": "CoreTmp",
          "xref": "x",
          "y": "RAM_J",
          "yref": "y"
         },
         {
          "font": {
           "color": "#FFFFFF"
          },
          "showarrow": false,
          "text": "0.45",
          "x": "PkgTmp",
          "xref": "x",
          "y": "RAM_J",
          "yref": "y"
         },
         {
          "font": {
           "color": "#FFFFFF"
          },
          "showarrow": false,
          "text": "0.21",
          "x": "GFX%rc6",
          "xref": "x",
          "y": "RAM_J",
          "yref": "y"
         },
         {
          "font": {
           "color": "#FFFFFF"
          },
          "showarrow": false,
          "text": "0.17",
          "x": "GFXMHz",
          "xref": "x",
          "y": "RAM_J",
          "yref": "y"
         },
         {
          "font": {
           "color": "#FFFFFF"
          },
          "showarrow": false,
          "text": "nan",
          "x": "GFXAMHz",
          "xref": "x",
          "y": "RAM_J",
          "yref": "y"
         },
         {
          "font": {
           "color": "#FFFFFF"
          },
          "showarrow": false,
          "text": "0.63",
          "x": "Totl%C0",
          "xref": "x",
          "y": "RAM_J",
          "yref": "y"
         },
         {
          "font": {
           "color": "#FFFFFF"
          },
          "showarrow": false,
          "text": "-0.31",
          "x": "Any%C0",
          "xref": "x",
          "y": "RAM_J",
          "yref": "y"
         },
         {
          "font": {
           "color": "#FFFFFF"
          },
          "showarrow": false,
          "text": "-0.33",
          "x": "GFX%C0",
          "xref": "x",
          "y": "RAM_J",
          "yref": "y"
         },
         {
          "font": {
           "color": "#FFFFFF"
          },
          "showarrow": false,
          "text": "-0.36",
          "x": "CPUGFX%",
          "xref": "x",
          "y": "RAM_J",
          "yref": "y"
         },
         {
          "font": {
           "color": "#FFFFFF"
          },
          "showarrow": false,
          "text": "0.7",
          "x": "Pkg_J",
          "xref": "x",
          "y": "RAM_J",
          "yref": "y"
         },
         {
          "font": {
           "color": "#FFFFFF"
          },
          "showarrow": false,
          "text": "0.62",
          "x": "Cor_J",
          "xref": "x",
          "y": "RAM_J",
          "yref": "y"
         },
         {
          "font": {
           "color": "#FFFFFF"
          },
          "showarrow": false,
          "text": "0.41",
          "x": "GFX_J",
          "xref": "x",
          "y": "RAM_J",
          "yref": "y"
         },
         {
          "font": {
           "color": "#FFFFFF"
          },
          "showarrow": false,
          "text": "1.0",
          "x": "RAM_J",
          "xref": "x",
          "y": "RAM_J",
          "yref": "y"
         }
        ],
        "template": {
         "data": {
          "bar": [
           {
            "error_x": {
             "color": "#2a3f5f"
            },
            "error_y": {
             "color": "#2a3f5f"
            },
            "marker": {
             "line": {
              "color": "#E5ECF6",
              "width": 0.5
             },
             "pattern": {
              "fillmode": "overlay",
              "size": 10,
              "solidity": 0.2
             }
            },
            "type": "bar"
           }
          ],
          "barpolar": [
           {
            "marker": {
             "line": {
              "color": "#E5ECF6",
              "width": 0.5
             },
             "pattern": {
              "fillmode": "overlay",
              "size": 10,
              "solidity": 0.2
             }
            },
            "type": "barpolar"
           }
          ],
          "carpet": [
           {
            "aaxis": {
             "endlinecolor": "#2a3f5f",
             "gridcolor": "white",
             "linecolor": "white",
             "minorgridcolor": "white",
             "startlinecolor": "#2a3f5f"
            },
            "baxis": {
             "endlinecolor": "#2a3f5f",
             "gridcolor": "white",
             "linecolor": "white",
             "minorgridcolor": "white",
             "startlinecolor": "#2a3f5f"
            },
            "type": "carpet"
           }
          ],
          "choropleth": [
           {
            "colorbar": {
             "outlinewidth": 0,
             "ticks": ""
            },
            "type": "choropleth"
           }
          ],
          "contour": [
           {
            "colorbar": {
             "outlinewidth": 0,
             "ticks": ""
            },
            "colorscale": [
             [
              0,
              "#0d0887"
             ],
             [
              0.1111111111111111,
              "#46039f"
             ],
             [
              0.2222222222222222,
              "#7201a8"
             ],
             [
              0.3333333333333333,
              "#9c179e"
             ],
             [
              0.4444444444444444,
              "#bd3786"
             ],
             [
              0.5555555555555556,
              "#d8576b"
             ],
             [
              0.6666666666666666,
              "#ed7953"
             ],
             [
              0.7777777777777778,
              "#fb9f3a"
             ],
             [
              0.8888888888888888,
              "#fdca26"
             ],
             [
              1,
              "#f0f921"
             ]
            ],
            "type": "contour"
           }
          ],
          "contourcarpet": [
           {
            "colorbar": {
             "outlinewidth": 0,
             "ticks": ""
            },
            "type": "contourcarpet"
           }
          ],
          "heatmap": [
           {
            "colorbar": {
             "outlinewidth": 0,
             "ticks": ""
            },
            "colorscale": [
             [
              0,
              "#0d0887"
             ],
             [
              0.1111111111111111,
              "#46039f"
             ],
             [
              0.2222222222222222,
              "#7201a8"
             ],
             [
              0.3333333333333333,
              "#9c179e"
             ],
             [
              0.4444444444444444,
              "#bd3786"
             ],
             [
              0.5555555555555556,
              "#d8576b"
             ],
             [
              0.6666666666666666,
              "#ed7953"
             ],
             [
              0.7777777777777778,
              "#fb9f3a"
             ],
             [
              0.8888888888888888,
              "#fdca26"
             ],
             [
              1,
              "#f0f921"
             ]
            ],
            "type": "heatmap"
           }
          ],
          "heatmapgl": [
           {
            "colorbar": {
             "outlinewidth": 0,
             "ticks": ""
            },
            "colorscale": [
             [
              0,
              "#0d0887"
             ],
             [
              0.1111111111111111,
              "#46039f"
             ],
             [
              0.2222222222222222,
              "#7201a8"
             ],
             [
              0.3333333333333333,
              "#9c179e"
             ],
             [
              0.4444444444444444,
              "#bd3786"
             ],
             [
              0.5555555555555556,
              "#d8576b"
             ],
             [
              0.6666666666666666,
              "#ed7953"
             ],
             [
              0.7777777777777778,
              "#fb9f3a"
             ],
             [
              0.8888888888888888,
              "#fdca26"
             ],
             [
              1,
              "#f0f921"
             ]
            ],
            "type": "heatmapgl"
           }
          ],
          "histogram": [
           {
            "marker": {
             "pattern": {
              "fillmode": "overlay",
              "size": 10,
              "solidity": 0.2
             }
            },
            "type": "histogram"
           }
          ],
          "histogram2d": [
           {
            "colorbar": {
             "outlinewidth": 0,
             "ticks": ""
            },
            "colorscale": [
             [
              0,
              "#0d0887"
             ],
             [
              0.1111111111111111,
              "#46039f"
             ],
             [
              0.2222222222222222,
              "#7201a8"
             ],
             [
              0.3333333333333333,
              "#9c179e"
             ],
             [
              0.4444444444444444,
              "#bd3786"
             ],
             [
              0.5555555555555556,
              "#d8576b"
             ],
             [
              0.6666666666666666,
              "#ed7953"
             ],
             [
              0.7777777777777778,
              "#fb9f3a"
             ],
             [
              0.8888888888888888,
              "#fdca26"
             ],
             [
              1,
              "#f0f921"
             ]
            ],
            "type": "histogram2d"
           }
          ],
          "histogram2dcontour": [
           {
            "colorbar": {
             "outlinewidth": 0,
             "ticks": ""
            },
            "colorscale": [
             [
              0,
              "#0d0887"
             ],
             [
              0.1111111111111111,
              "#46039f"
             ],
             [
              0.2222222222222222,
              "#7201a8"
             ],
             [
              0.3333333333333333,
              "#9c179e"
             ],
             [
              0.4444444444444444,
              "#bd3786"
             ],
             [
              0.5555555555555556,
              "#d8576b"
             ],
             [
              0.6666666666666666,
              "#ed7953"
             ],
             [
              0.7777777777777778,
              "#fb9f3a"
             ],
             [
              0.8888888888888888,
              "#fdca26"
             ],
             [
              1,
              "#f0f921"
             ]
            ],
            "type": "histogram2dcontour"
           }
          ],
          "mesh3d": [
           {
            "colorbar": {
             "outlinewidth": 0,
             "ticks": ""
            },
            "type": "mesh3d"
           }
          ],
          "parcoords": [
           {
            "line": {
             "colorbar": {
              "outlinewidth": 0,
              "ticks": ""
             }
            },
            "type": "parcoords"
           }
          ],
          "pie": [
           {
            "automargin": true,
            "type": "pie"
           }
          ],
          "scatter": [
           {
            "fillpattern": {
             "fillmode": "overlay",
             "size": 10,
             "solidity": 0.2
            },
            "type": "scatter"
           }
          ],
          "scatter3d": [
           {
            "line": {
             "colorbar": {
              "outlinewidth": 0,
              "ticks": ""
             }
            },
            "marker": {
             "colorbar": {
              "outlinewidth": 0,
              "ticks": ""
             }
            },
            "type": "scatter3d"
           }
          ],
          "scattercarpet": [
           {
            "marker": {
             "colorbar": {
              "outlinewidth": 0,
              "ticks": ""
             }
            },
            "type": "scattercarpet"
           }
          ],
          "scattergeo": [
           {
            "marker": {
             "colorbar": {
              "outlinewidth": 0,
              "ticks": ""
             }
            },
            "type": "scattergeo"
           }
          ],
          "scattergl": [
           {
            "marker": {
             "colorbar": {
              "outlinewidth": 0,
              "ticks": ""
             }
            },
            "type": "scattergl"
           }
          ],
          "scattermapbox": [
           {
            "marker": {
             "colorbar": {
              "outlinewidth": 0,
              "ticks": ""
             }
            },
            "type": "scattermapbox"
           }
          ],
          "scatterpolar": [
           {
            "marker": {
             "colorbar": {
              "outlinewidth": 0,
              "ticks": ""
             }
            },
            "type": "scatterpolar"
           }
          ],
          "scatterpolargl": [
           {
            "marker": {
             "colorbar": {
              "outlinewidth": 0,
              "ticks": ""
             }
            },
            "type": "scatterpolargl"
           }
          ],
          "scatterternary": [
           {
            "marker": {
             "colorbar": {
              "outlinewidth": 0,
              "ticks": ""
             }
            },
            "type": "scatterternary"
           }
          ],
          "surface": [
           {
            "colorbar": {
             "outlinewidth": 0,
             "ticks": ""
            },
            "colorscale": [
             [
              0,
              "#0d0887"
             ],
             [
              0.1111111111111111,
              "#46039f"
             ],
             [
              0.2222222222222222,
              "#7201a8"
             ],
             [
              0.3333333333333333,
              "#9c179e"
             ],
             [
              0.4444444444444444,
              "#bd3786"
             ],
             [
              0.5555555555555556,
              "#d8576b"
             ],
             [
              0.6666666666666666,
              "#ed7953"
             ],
             [
              0.7777777777777778,
              "#fb9f3a"
             ],
             [
              0.8888888888888888,
              "#fdca26"
             ],
             [
              1,
              "#f0f921"
             ]
            ],
            "type": "surface"
           }
          ],
          "table": [
           {
            "cells": {
             "fill": {
              "color": "#EBF0F8"
             },
             "line": {
              "color": "white"
             }
            },
            "header": {
             "fill": {
              "color": "#C8D4E3"
             },
             "line": {
              "color": "white"
             }
            },
            "type": "table"
           }
          ]
         },
         "layout": {
          "annotationdefaults": {
           "arrowcolor": "#2a3f5f",
           "arrowhead": 0,
           "arrowwidth": 1
          },
          "autotypenumbers": "strict",
          "coloraxis": {
           "colorbar": {
            "outlinewidth": 0,
            "ticks": ""
           }
          },
          "colorscale": {
           "diverging": [
            [
             0,
             "#8e0152"
            ],
            [
             0.1,
             "#c51b7d"
            ],
            [
             0.2,
             "#de77ae"
            ],
            [
             0.3,
             "#f1b6da"
            ],
            [
             0.4,
             "#fde0ef"
            ],
            [
             0.5,
             "#f7f7f7"
            ],
            [
             0.6,
             "#e6f5d0"
            ],
            [
             0.7,
             "#b8e186"
            ],
            [
             0.8,
             "#7fbc41"
            ],
            [
             0.9,
             "#4d9221"
            ],
            [
             1,
             "#276419"
            ]
           ],
           "sequential": [
            [
             0,
             "#0d0887"
            ],
            [
             0.1111111111111111,
             "#46039f"
            ],
            [
             0.2222222222222222,
             "#7201a8"
            ],
            [
             0.3333333333333333,
             "#9c179e"
            ],
            [
             0.4444444444444444,
             "#bd3786"
            ],
            [
             0.5555555555555556,
             "#d8576b"
            ],
            [
             0.6666666666666666,
             "#ed7953"
            ],
            [
             0.7777777777777778,
             "#fb9f3a"
            ],
            [
             0.8888888888888888,
             "#fdca26"
            ],
            [
             1,
             "#f0f921"
            ]
           ],
           "sequentialminus": [
            [
             0,
             "#0d0887"
            ],
            [
             0.1111111111111111,
             "#46039f"
            ],
            [
             0.2222222222222222,
             "#7201a8"
            ],
            [
             0.3333333333333333,
             "#9c179e"
            ],
            [
             0.4444444444444444,
             "#bd3786"
            ],
            [
             0.5555555555555556,
             "#d8576b"
            ],
            [
             0.6666666666666666,
             "#ed7953"
            ],
            [
             0.7777777777777778,
             "#fb9f3a"
            ],
            [
             0.8888888888888888,
             "#fdca26"
            ],
            [
             1,
             "#f0f921"
            ]
           ]
          },
          "colorway": [
           "#636efa",
           "#EF553B",
           "#00cc96",
           "#ab63fa",
           "#FFA15A",
           "#19d3f3",
           "#FF6692",
           "#B6E880",
           "#FF97FF",
           "#FECB52"
          ],
          "font": {
           "color": "#2a3f5f"
          },
          "geo": {
           "bgcolor": "white",
           "lakecolor": "white",
           "landcolor": "#E5ECF6",
           "showlakes": true,
           "showland": true,
           "subunitcolor": "white"
          },
          "hoverlabel": {
           "align": "left"
          },
          "hovermode": "closest",
          "mapbox": {
           "style": "light"
          },
          "paper_bgcolor": "white",
          "plot_bgcolor": "#E5ECF6",
          "polar": {
           "angularaxis": {
            "gridcolor": "white",
            "linecolor": "white",
            "ticks": ""
           },
           "bgcolor": "#E5ECF6",
           "radialaxis": {
            "gridcolor": "white",
            "linecolor": "white",
            "ticks": ""
           }
          },
          "scene": {
           "xaxis": {
            "backgroundcolor": "#E5ECF6",
            "gridcolor": "white",
            "gridwidth": 2,
            "linecolor": "white",
            "showbackground": true,
            "ticks": "",
            "zerolinecolor": "white"
           },
           "yaxis": {
            "backgroundcolor": "#E5ECF6",
            "gridcolor": "white",
            "gridwidth": 2,
            "linecolor": "white",
            "showbackground": true,
            "ticks": "",
            "zerolinecolor": "white"
           },
           "zaxis": {
            "backgroundcolor": "#E5ECF6",
            "gridcolor": "white",
            "gridwidth": 2,
            "linecolor": "white",
            "showbackground": true,
            "ticks": "",
            "zerolinecolor": "white"
           }
          },
          "shapedefaults": {
           "line": {
            "color": "#2a3f5f"
           }
          },
          "ternary": {
           "aaxis": {
            "gridcolor": "white",
            "linecolor": "white",
            "ticks": ""
           },
           "baxis": {
            "gridcolor": "white",
            "linecolor": "white",
            "ticks": ""
           },
           "bgcolor": "#E5ECF6",
           "caxis": {
            "gridcolor": "white",
            "linecolor": "white",
            "ticks": ""
           }
          },
          "title": {
           "x": 0.05
          },
          "xaxis": {
           "automargin": true,
           "gridcolor": "white",
           "linecolor": "white",
           "ticks": "",
           "title": {
            "standoff": 15
           },
           "zerolinecolor": "white",
           "zerolinewidth": 2
          },
          "yaxis": {
           "automargin": true,
           "gridcolor": "white",
           "linecolor": "white",
           "ticks": "",
           "title": {
            "standoff": 15
           },
           "zerolinecolor": "white",
           "zerolinewidth": 2
          }
         }
        },
        "xaxis": {
         "dtick": 1,
         "gridcolor": "rgb(0, 0, 0)",
         "side": "top",
         "ticks": ""
        },
        "yaxis": {
         "dtick": 1,
         "ticks": "",
         "ticksuffix": "  "
        }
       }
      }
     },
     "metadata": {},
     "output_type": "display_data"
    }
   ],
   "source": [
    "corrs = df[['Avg_MHz', 'Busy%', 'IPC', 'IRQ', 'POLL', 'C1%','C1E%','C3%','C6%','C7s%','C8%','C9%','C10%','CPU%c1','CPU%c3','CPU%c6','CPU%c7','CoreTmp','PkgTmp','GFX%rc6','GFXMHz','GFXAMHz','Totl%C0','Any%C0','GFX%C0','CPUGFX%','Pkg_J','Cor_J','GFX_J','RAM_J']].corr()\n",
    "\n",
    "figure = ff.create_annotated_heatmap(z=corrs.values,\n",
    "                                     x=list(corrs.columns),\n",
    "                                     y=list(corrs.index),\n",
    "                                     annotation_text=corrs.round(2).values,\n",
    "                                     showscale=True, reversescale=True)\n",
    "figure.show()"
   ]
  }
 ],
 "metadata": {
  "kernelspec": {
   "display_name": "Python 3 (Spyder)",
   "language": "python3",
   "name": "python3"
  },
  "language_info": {
   "codemirror_mode": {
    "name": "ipython",
    "version": 3
   },
   "file_extension": ".py",
   "mimetype": "text/x-python",
   "name": "python",
   "nbconvert_exporter": "python",
   "pygments_lexer": "ipython3",
   "version": "3.8.10"
  }
 },
 "nbformat": 4,
 "nbformat_minor": 4
}
