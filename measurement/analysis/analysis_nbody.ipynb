{
 "cells": [
  {
   "attachments": {},
   "cell_type": "markdown",
   "metadata": {},
   "source": [
    "# Analysis for Performance and Energy Consumption"
   ]
  },
  {
   "attachments": {},
   "cell_type": "markdown",
   "metadata": {},
   "source": [
    "## Extract information"
   ]
  },
  {
   "cell_type": "code",
   "execution_count": 10,
   "metadata": {},
   "outputs": [],
   "source": [
    "# Libraries\n",
    "import pandas as pd\n",
    "import matplotlib.pyplot as plt\n",
    "import seaborn as sns\n",
    "import plotly.express as px\n",
    "import plotly"
   ]
  },
  {
   "cell_type": "code",
   "execution_count": 11,
   "metadata": {},
   "outputs": [
    {
     "data": {
      "text/html": [
       "<div>\n",
       "<style scoped>\n",
       "    .dataframe tbody tr th:only-of-type {\n",
       "        vertical-align: middle;\n",
       "    }\n",
       "\n",
       "    .dataframe tbody tr th {\n",
       "        vertical-align: top;\n",
       "    }\n",
       "\n",
       "    .dataframe thead th {\n",
       "        text-align: right;\n",
       "    }\n",
       "</style>\n",
       "<table border=\"1\" class=\"dataframe\">\n",
       "  <thead>\n",
       "    <tr style=\"text-align: right;\">\n",
       "      <th></th>\n",
       "      <th>python_version</th>\n",
       "      <th>release_date</th>\n",
       "      <th>first_release</th>\n",
       "      <th>appplication</th>\n",
       "      <th>time_elapsed</th>\n",
       "      <th>usec</th>\n",
       "      <th>Time_Of_Day_Seconds</th>\n",
       "      <th>APIC</th>\n",
       "      <th>X2APIC</th>\n",
       "      <th>Avg_MHz</th>\n",
       "      <th>...</th>\n",
       "      <th>Pkg%pc9</th>\n",
       "      <th>Pk%pc10</th>\n",
       "      <th>CPU%LPI</th>\n",
       "      <th>SYS%LPI</th>\n",
       "      <th>Pkg_J</th>\n",
       "      <th>Cor_J</th>\n",
       "      <th>GFX_J</th>\n",
       "      <th>RAM_J</th>\n",
       "      <th>PKG_%</th>\n",
       "      <th>RAM_%</th>\n",
       "    </tr>\n",
       "  </thead>\n",
       "  <tbody>\n",
       "    <tr>\n",
       "      <th>0</th>\n",
       "      <td>2.5.6</td>\n",
       "      <td>2011-05-26</td>\n",
       "      <td>2006-09-19</td>\n",
       "      <td>nbody.py 50000000</td>\n",
       "      <td>479.614960</td>\n",
       "      <td>1166</td>\n",
       "      <td>1.686091e+09</td>\n",
       "      <td>-</td>\n",
       "      <td>-</td>\n",
       "      <td>501</td>\n",
       "      <td>...</td>\n",
       "      <td>0.0</td>\n",
       "      <td>0.0</td>\n",
       "      <td>0.0</td>\n",
       "      <td>0.0</td>\n",
       "      <td>7797.35</td>\n",
       "      <td>6784.47</td>\n",
       "      <td>2.27</td>\n",
       "      <td>141.15</td>\n",
       "      <td>0.0</td>\n",
       "      <td>0.0</td>\n",
       "    </tr>\n",
       "    <tr>\n",
       "      <th>1</th>\n",
       "      <td>2.7.18</td>\n",
       "      <td>2020-04-20</td>\n",
       "      <td>2010-07-04</td>\n",
       "      <td>nbody.py 50000000</td>\n",
       "      <td>425.678408</td>\n",
       "      <td>1229</td>\n",
       "      <td>1.686092e+09</td>\n",
       "      <td>-</td>\n",
       "      <td>-</td>\n",
       "      <td>469</td>\n",
       "      <td>...</td>\n",
       "      <td>0.0</td>\n",
       "      <td>0.0</td>\n",
       "      <td>0.0</td>\n",
       "      <td>0.0</td>\n",
       "      <td>5839.56</td>\n",
       "      <td>4958.45</td>\n",
       "      <td>0.37</td>\n",
       "      <td>124.54</td>\n",
       "      <td>0.0</td>\n",
       "      <td>0.0</td>\n",
       "    </tr>\n",
       "    <tr>\n",
       "      <th>2</th>\n",
       "      <td>3.0.1</td>\n",
       "      <td>2009-02-13</td>\n",
       "      <td>2008-12-03</td>\n",
       "      <td>nbody.py 50000000</td>\n",
       "      <td>568.032331</td>\n",
       "      <td>1257</td>\n",
       "      <td>1.686092e+09</td>\n",
       "      <td>-</td>\n",
       "      <td>-</td>\n",
       "      <td>464</td>\n",
       "      <td>...</td>\n",
       "      <td>0.0</td>\n",
       "      <td>0.0</td>\n",
       "      <td>0.0</td>\n",
       "      <td>0.0</td>\n",
       "      <td>7287.92</td>\n",
       "      <td>6119.00</td>\n",
       "      <td>0.29</td>\n",
       "      <td>162.74</td>\n",
       "      <td>0.0</td>\n",
       "      <td>0.0</td>\n",
       "    </tr>\n",
       "    <tr>\n",
       "      <th>3</th>\n",
       "      <td>3.4.10</td>\n",
       "      <td>2019-03-18</td>\n",
       "      <td>2014-03-16</td>\n",
       "      <td>nbody.py 50000000</td>\n",
       "      <td>467.307295</td>\n",
       "      <td>1326</td>\n",
       "      <td>1.686093e+09</td>\n",
       "      <td>-</td>\n",
       "      <td>-</td>\n",
       "      <td>466</td>\n",
       "      <td>...</td>\n",
       "      <td>0.0</td>\n",
       "      <td>0.0</td>\n",
       "      <td>0.0</td>\n",
       "      <td>0.0</td>\n",
       "      <td>6396.37</td>\n",
       "      <td>5427.70</td>\n",
       "      <td>0.27</td>\n",
       "      <td>132.80</td>\n",
       "      <td>0.0</td>\n",
       "      <td>0.0</td>\n",
       "    </tr>\n",
       "    <tr>\n",
       "      <th>4</th>\n",
       "      <td>3.5.10</td>\n",
       "      <td>2020-09-05</td>\n",
       "      <td>2015-09-13</td>\n",
       "      <td>nbody.py 50000000</td>\n",
       "      <td>471.275601</td>\n",
       "      <td>1567</td>\n",
       "      <td>1.686093e+09</td>\n",
       "      <td>-</td>\n",
       "      <td>-</td>\n",
       "      <td>468</td>\n",
       "      <td>...</td>\n",
       "      <td>0.0</td>\n",
       "      <td>0.0</td>\n",
       "      <td>0.0</td>\n",
       "      <td>0.0</td>\n",
       "      <td>6507.68</td>\n",
       "      <td>5529.96</td>\n",
       "      <td>0.28</td>\n",
       "      <td>134.70</td>\n",
       "      <td>0.0</td>\n",
       "      <td>0.0</td>\n",
       "    </tr>\n",
       "    <tr>\n",
       "      <th>5</th>\n",
       "      <td>3.6.15</td>\n",
       "      <td>2021-09-04</td>\n",
       "      <td>2016-12-23</td>\n",
       "      <td>nbody.py 50000000</td>\n",
       "      <td>453.812160</td>\n",
       "      <td>1238</td>\n",
       "      <td>1.686094e+09</td>\n",
       "      <td>-</td>\n",
       "      <td>-</td>\n",
       "      <td>470</td>\n",
       "      <td>...</td>\n",
       "      <td>0.0</td>\n",
       "      <td>0.0</td>\n",
       "      <td>0.0</td>\n",
       "      <td>0.0</td>\n",
       "      <td>6319.58</td>\n",
       "      <td>5375.88</td>\n",
       "      <td>0.27</td>\n",
       "      <td>129.24</td>\n",
       "      <td>0.0</td>\n",
       "      <td>0.0</td>\n",
       "    </tr>\n",
       "    <tr>\n",
       "      <th>6</th>\n",
       "      <td>3.7.16</td>\n",
       "      <td>2022-12-06</td>\n",
       "      <td>2018-06-27</td>\n",
       "      <td>nbody.py 50000000</td>\n",
       "      <td>443.662878</td>\n",
       "      <td>1228</td>\n",
       "      <td>1.686095e+09</td>\n",
       "      <td>-</td>\n",
       "      <td>-</td>\n",
       "      <td>469</td>\n",
       "      <td>...</td>\n",
       "      <td>0.0</td>\n",
       "      <td>0.0</td>\n",
       "      <td>0.0</td>\n",
       "      <td>0.0</td>\n",
       "      <td>6201.01</td>\n",
       "      <td>5277.95</td>\n",
       "      <td>0.28</td>\n",
       "      <td>126.19</td>\n",
       "      <td>0.0</td>\n",
       "      <td>0.0</td>\n",
       "    </tr>\n",
       "    <tr>\n",
       "      <th>7</th>\n",
       "      <td>3.8.16</td>\n",
       "      <td>2022-12-06</td>\n",
       "      <td>2019-10-14</td>\n",
       "      <td>nbody.py 50000000</td>\n",
       "      <td>515.991584</td>\n",
       "      <td>1264</td>\n",
       "      <td>1.686095e+09</td>\n",
       "      <td>-</td>\n",
       "      <td>-</td>\n",
       "      <td>468</td>\n",
       "      <td>...</td>\n",
       "      <td>0.0</td>\n",
       "      <td>0.0</td>\n",
       "      <td>0.0</td>\n",
       "      <td>0.0</td>\n",
       "      <td>7046.15</td>\n",
       "      <td>5973.53</td>\n",
       "      <td>0.28</td>\n",
       "      <td>148.41</td>\n",
       "      <td>0.0</td>\n",
       "      <td>0.0</td>\n",
       "    </tr>\n",
       "    <tr>\n",
       "      <th>8</th>\n",
       "      <td>3.9.16</td>\n",
       "      <td>2022-12-06</td>\n",
       "      <td>2020-10-05</td>\n",
       "      <td>nbody.py 50000000</td>\n",
       "      <td>508.880494</td>\n",
       "      <td>1280</td>\n",
       "      <td>1.686096e+09</td>\n",
       "      <td>-</td>\n",
       "      <td>-</td>\n",
       "      <td>469</td>\n",
       "      <td>...</td>\n",
       "      <td>0.0</td>\n",
       "      <td>0.0</td>\n",
       "      <td>0.0</td>\n",
       "      <td>0.0</td>\n",
       "      <td>6882.41</td>\n",
       "      <td>5823.72</td>\n",
       "      <td>0.30</td>\n",
       "      <td>145.78</td>\n",
       "      <td>0.0</td>\n",
       "      <td>0.0</td>\n",
       "    </tr>\n",
       "    <tr>\n",
       "      <th>9</th>\n",
       "      <td>3.10.11</td>\n",
       "      <td>2023-04-05</td>\n",
       "      <td>2021-10-04</td>\n",
       "      <td>nbody.py 50000000</td>\n",
       "      <td>508.644763</td>\n",
       "      <td>1222</td>\n",
       "      <td>1.686096e+09</td>\n",
       "      <td>-</td>\n",
       "      <td>-</td>\n",
       "      <td>468</td>\n",
       "      <td>...</td>\n",
       "      <td>0.0</td>\n",
       "      <td>0.0</td>\n",
       "      <td>0.0</td>\n",
       "      <td>0.0</td>\n",
       "      <td>6969.09</td>\n",
       "      <td>5912.49</td>\n",
       "      <td>0.30</td>\n",
       "      <td>144.52</td>\n",
       "      <td>0.0</td>\n",
       "      <td>0.0</td>\n",
       "    </tr>\n",
       "    <tr>\n",
       "      <th>10</th>\n",
       "      <td>3.11.3</td>\n",
       "      <td>2023-04-05</td>\n",
       "      <td>2022-10-24</td>\n",
       "      <td>nbody.py 50000000</td>\n",
       "      <td>258.717028</td>\n",
       "      <td>1279</td>\n",
       "      <td>1.686097e+09</td>\n",
       "      <td>-</td>\n",
       "      <td>-</td>\n",
       "      <td>491</td>\n",
       "      <td>...</td>\n",
       "      <td>0.0</td>\n",
       "      <td>0.0</td>\n",
       "      <td>0.0</td>\n",
       "      <td>0.0</td>\n",
       "      <td>3976.95</td>\n",
       "      <td>3431.58</td>\n",
       "      <td>0.26</td>\n",
       "      <td>74.65</td>\n",
       "      <td>0.0</td>\n",
       "      <td>0.0</td>\n",
       "    </tr>\n",
       "    <tr>\n",
       "      <th>11</th>\n",
       "      <td>3.12.0b1</td>\n",
       "      <td>2023-05-22</td>\n",
       "      <td>2023-05-22</td>\n",
       "      <td>nbody.py 50000000</td>\n",
       "      <td>301.811331</td>\n",
       "      <td>1305</td>\n",
       "      <td>1.686133e+09</td>\n",
       "      <td>-</td>\n",
       "      <td>-</td>\n",
       "      <td>509</td>\n",
       "      <td>...</td>\n",
       "      <td>0.0</td>\n",
       "      <td>0.0</td>\n",
       "      <td>0.0</td>\n",
       "      <td>0.0</td>\n",
       "      <td>5023.36</td>\n",
       "      <td>4254.20</td>\n",
       "      <td>0.37</td>\n",
       "      <td>184.06</td>\n",
       "      <td>0.0</td>\n",
       "      <td>0.0</td>\n",
       "    </tr>\n",
       "    <tr>\n",
       "      <th>12</th>\n",
       "      <td>3.13.0a0</td>\n",
       "      <td>2023-06-07</td>\n",
       "      <td>2023-06-07</td>\n",
       "      <td>nbody.py 50000000</td>\n",
       "      <td>277.392607</td>\n",
       "      <td>1085</td>\n",
       "      <td>1.686136e+09</td>\n",
       "      <td>-</td>\n",
       "      <td>-</td>\n",
       "      <td>513</td>\n",
       "      <td>...</td>\n",
       "      <td>0.0</td>\n",
       "      <td>0.0</td>\n",
       "      <td>0.0</td>\n",
       "      <td>0.0</td>\n",
       "      <td>4959.71</td>\n",
       "      <td>4252.95</td>\n",
       "      <td>0.29</td>\n",
       "      <td>166.89</td>\n",
       "      <td>0.0</td>\n",
       "      <td>0.0</td>\n",
       "    </tr>\n",
       "  </tbody>\n",
       "</table>\n",
       "<p>13 rows × 62 columns</p>\n",
       "</div>"
      ],
      "text/plain": [
       "   python_version release_date first_release       appplication  time_elapsed  \\\n",
       "0           2.5.6   2011-05-26    2006-09-19  nbody.py 50000000    479.614960   \n",
       "1          2.7.18   2020-04-20    2010-07-04  nbody.py 50000000    425.678408   \n",
       "2           3.0.1   2009-02-13    2008-12-03  nbody.py 50000000    568.032331   \n",
       "3          3.4.10   2019-03-18    2014-03-16  nbody.py 50000000    467.307295   \n",
       "4          3.5.10   2020-09-05    2015-09-13  nbody.py 50000000    471.275601   \n",
       "5          3.6.15   2021-09-04    2016-12-23  nbody.py 50000000    453.812160   \n",
       "6          3.7.16   2022-12-06    2018-06-27  nbody.py 50000000    443.662878   \n",
       "7          3.8.16   2022-12-06    2019-10-14  nbody.py 50000000    515.991584   \n",
       "8          3.9.16   2022-12-06    2020-10-05  nbody.py 50000000    508.880494   \n",
       "9         3.10.11   2023-04-05    2021-10-04  nbody.py 50000000    508.644763   \n",
       "10         3.11.3   2023-04-05    2022-10-24  nbody.py 50000000    258.717028   \n",
       "11       3.12.0b1   2023-05-22    2023-05-22  nbody.py 50000000    301.811331   \n",
       "12       3.13.0a0   2023-06-07    2023-06-07  nbody.py 50000000    277.392607   \n",
       "\n",
       "    usec  Time_Of_Day_Seconds APIC X2APIC  Avg_MHz  ...  Pkg%pc9  Pk%pc10  \\\n",
       "0   1166         1.686091e+09    -      -      501  ...      0.0      0.0   \n",
       "1   1229         1.686092e+09    -      -      469  ...      0.0      0.0   \n",
       "2   1257         1.686092e+09    -      -      464  ...      0.0      0.0   \n",
       "3   1326         1.686093e+09    -      -      466  ...      0.0      0.0   \n",
       "4   1567         1.686093e+09    -      -      468  ...      0.0      0.0   \n",
       "5   1238         1.686094e+09    -      -      470  ...      0.0      0.0   \n",
       "6   1228         1.686095e+09    -      -      469  ...      0.0      0.0   \n",
       "7   1264         1.686095e+09    -      -      468  ...      0.0      0.0   \n",
       "8   1280         1.686096e+09    -      -      469  ...      0.0      0.0   \n",
       "9   1222         1.686096e+09    -      -      468  ...      0.0      0.0   \n",
       "10  1279         1.686097e+09    -      -      491  ...      0.0      0.0   \n",
       "11  1305         1.686133e+09    -      -      509  ...      0.0      0.0   \n",
       "12  1085         1.686136e+09    -      -      513  ...      0.0      0.0   \n",
       "\n",
       "    CPU%LPI  SYS%LPI    Pkg_J    Cor_J  GFX_J   RAM_J  PKG_%  RAM_%  \n",
       "0       0.0      0.0  7797.35  6784.47   2.27  141.15    0.0    0.0  \n",
       "1       0.0      0.0  5839.56  4958.45   0.37  124.54    0.0    0.0  \n",
       "2       0.0      0.0  7287.92  6119.00   0.29  162.74    0.0    0.0  \n",
       "3       0.0      0.0  6396.37  5427.70   0.27  132.80    0.0    0.0  \n",
       "4       0.0      0.0  6507.68  5529.96   0.28  134.70    0.0    0.0  \n",
       "5       0.0      0.0  6319.58  5375.88   0.27  129.24    0.0    0.0  \n",
       "6       0.0      0.0  6201.01  5277.95   0.28  126.19    0.0    0.0  \n",
       "7       0.0      0.0  7046.15  5973.53   0.28  148.41    0.0    0.0  \n",
       "8       0.0      0.0  6882.41  5823.72   0.30  145.78    0.0    0.0  \n",
       "9       0.0      0.0  6969.09  5912.49   0.30  144.52    0.0    0.0  \n",
       "10      0.0      0.0  3976.95  3431.58   0.26   74.65    0.0    0.0  \n",
       "11      0.0      0.0  5023.36  4254.20   0.37  184.06    0.0    0.0  \n",
       "12      0.0      0.0  4959.71  4252.95   0.29  166.89    0.0    0.0  \n",
       "\n",
       "[13 rows x 62 columns]"
      ]
     },
     "execution_count": 11,
     "metadata": {},
     "output_type": "execute_result"
    }
   ],
   "source": [
    "# Read the CSV df into a DataFrame\n",
    "df = pd.read_csv('../nbody_50000000/performance_data_allVersions_nbody.csv')\n",
    "\n",
    "# Mapping of Python versions to release dates\n",
    "release_dates = {\n",
    "    'Python 3.13.0a0': '2023-06-07',\n",
    "    'Python 3.12.0b1': '2023-05-22',\n",
    "    'Python 3.11.3': '2023-04-05',\n",
    "    'Python 3.10.11': '2023-04-05',\n",
    "    'Python 3.9.16': '2022-12-06',\n",
    "    'Python 3.8.16': '2022-12-06',\n",
    "    'Python 3.7.16': '2022-12-06',\n",
    "    'Python 3.6.15': '2021-09-04',\n",
    "    'Python 3.5.10': '2020-09-05',\n",
    "    'Python 3.4.10': '2019-03-18',\n",
    "    'Python 3.3.7': '2017-09-19',\n",
    "    'Python 3.2.6': '2014-10-11',\n",
    "    'Python 3.1.5': '2012-04-09',\n",
    "    'Python 3.0.1': '2009-02-13',\n",
    "    'Python 2.7.18': '2020-04-20',\n",
    "    'Python 2.6.9': '2013-10-29',\n",
    "    'Python 2.5.6': '2011-05-26',\n",
    "}\n",
    "\n",
    "# Mapping of Python versions to first releases\n",
    "first_release = {\n",
    "    'Python 3.13.0a0': '2023-06-07',\n",
    "    'Python 3.12.0b1': '2023-05-22',\n",
    "    'Python 3.11.3': '2022-10-24',\n",
    "    'Python 3.10.11': '2021-10-04',\n",
    "    'Python 3.9.16': '2020-10-05',\n",
    "    'Python 3.8.16': '2019-10-14',\n",
    "    'Python 3.7.16': '2018-06-27',\n",
    "    'Python 3.6.15': '2016-12-23',\n",
    "    'Python 3.5.10': '2015-09-13',\n",
    "    'Python 3.4.10': '2014-03-16',\n",
    "    'Python 3.3.7': '2012-09-29',\n",
    "    'Python 3.2.6': '2011-02-20',\n",
    "    'Python 3.1.5': '2009-06-27',\n",
    "    'Python 3.0.1': '2008-12-03',\n",
    "    'Python 2.7.18': '2010-07-04',\n",
    "    'Python 2.6.9': '2008-10-01',\n",
    "    'Python 2.5.6': '2006-09-19',\n",
    "}\n",
    "\n",
    "# Function to get release date for a given Python version\n",
    "def get_release_date(version):\n",
    "    return release_dates.get(version, 'Unknown')\n",
    "\n",
    "# Function to get release date for a given Python version\n",
    "def get_first_date(version):\n",
    "    return first_release.get(version, 'Unknown')\n",
    "\n",
    "# New column 'release_date' as the second \n",
    "df['release_date'] = df['python_version'].apply(get_release_date)\n",
    "df.insert(1, 'release_date', df.pop('release_date'))\n",
    "\n",
    "# New column 'first_date' as the second \n",
    "df['first_release'] = df['python_version'].apply(get_first_date)\n",
    "df.insert(2, 'first_release', df.pop('first_release'))\n",
    "\n",
    "# Convert date into datetime\n",
    "df['release_date'] = pd.to_datetime(df['release_date'])\n",
    "df['first_release'] = pd.to_datetime(df['first_release'])\n",
    "\n",
    "# Remove the word 'Python '\n",
    "df['python_version'] = df['python_version'].str.replace('Python ', '')\n",
    "df"
   ]
  },
  {
   "cell_type": "code",
   "execution_count": 12,
   "metadata": {},
   "outputs": [
    {
     "data": {
      "text/html": [
       "<div>\n",
       "<style scoped>\n",
       "    .dataframe tbody tr th:only-of-type {\n",
       "        vertical-align: middle;\n",
       "    }\n",
       "\n",
       "    .dataframe tbody tr th {\n",
       "        vertical-align: top;\n",
       "    }\n",
       "\n",
       "    .dataframe thead th {\n",
       "        text-align: right;\n",
       "    }\n",
       "</style>\n",
       "<table border=\"1\" class=\"dataframe\">\n",
       "  <thead>\n",
       "    <tr style=\"text-align: right;\">\n",
       "      <th></th>\n",
       "      <th>python_version</th>\n",
       "      <th>release_date</th>\n",
       "      <th>first_release</th>\n",
       "      <th>appplication</th>\n",
       "    </tr>\n",
       "  </thead>\n",
       "  <tbody>\n",
       "    <tr>\n",
       "      <th>0</th>\n",
       "      <td>2.5.6</td>\n",
       "      <td>2011-05-26</td>\n",
       "      <td>2006-09-19</td>\n",
       "      <td>nbody.py 50000000</td>\n",
       "    </tr>\n",
       "    <tr>\n",
       "      <th>1</th>\n",
       "      <td>2.7.18</td>\n",
       "      <td>2020-04-20</td>\n",
       "      <td>2010-07-04</td>\n",
       "      <td>nbody.py 50000000</td>\n",
       "    </tr>\n",
       "    <tr>\n",
       "      <th>2</th>\n",
       "      <td>3.0.1</td>\n",
       "      <td>2009-02-13</td>\n",
       "      <td>2008-12-03</td>\n",
       "      <td>nbody.py 50000000</td>\n",
       "    </tr>\n",
       "    <tr>\n",
       "      <th>3</th>\n",
       "      <td>3.4.10</td>\n",
       "      <td>2019-03-18</td>\n",
       "      <td>2014-03-16</td>\n",
       "      <td>nbody.py 50000000</td>\n",
       "    </tr>\n",
       "    <tr>\n",
       "      <th>4</th>\n",
       "      <td>3.5.10</td>\n",
       "      <td>2020-09-05</td>\n",
       "      <td>2015-09-13</td>\n",
       "      <td>nbody.py 50000000</td>\n",
       "    </tr>\n",
       "    <tr>\n",
       "      <th>5</th>\n",
       "      <td>3.6.15</td>\n",
       "      <td>2021-09-04</td>\n",
       "      <td>2016-12-23</td>\n",
       "      <td>nbody.py 50000000</td>\n",
       "    </tr>\n",
       "    <tr>\n",
       "      <th>6</th>\n",
       "      <td>3.7.16</td>\n",
       "      <td>2022-12-06</td>\n",
       "      <td>2018-06-27</td>\n",
       "      <td>nbody.py 50000000</td>\n",
       "    </tr>\n",
       "    <tr>\n",
       "      <th>7</th>\n",
       "      <td>3.8.16</td>\n",
       "      <td>2022-12-06</td>\n",
       "      <td>2019-10-14</td>\n",
       "      <td>nbody.py 50000000</td>\n",
       "    </tr>\n",
       "    <tr>\n",
       "      <th>8</th>\n",
       "      <td>3.9.16</td>\n",
       "      <td>2022-12-06</td>\n",
       "      <td>2020-10-05</td>\n",
       "      <td>nbody.py 50000000</td>\n",
       "    </tr>\n",
       "    <tr>\n",
       "      <th>9</th>\n",
       "      <td>3.10.11</td>\n",
       "      <td>2023-04-05</td>\n",
       "      <td>2021-10-04</td>\n",
       "      <td>nbody.py 50000000</td>\n",
       "    </tr>\n",
       "    <tr>\n",
       "      <th>10</th>\n",
       "      <td>3.11.3</td>\n",
       "      <td>2023-04-05</td>\n",
       "      <td>2022-10-24</td>\n",
       "      <td>nbody.py 50000000</td>\n",
       "    </tr>\n",
       "    <tr>\n",
       "      <th>11</th>\n",
       "      <td>3.12.0b1</td>\n",
       "      <td>2023-05-22</td>\n",
       "      <td>2023-05-22</td>\n",
       "      <td>nbody.py 50000000</td>\n",
       "    </tr>\n",
       "    <tr>\n",
       "      <th>12</th>\n",
       "      <td>3.13.0a0</td>\n",
       "      <td>2023-06-07</td>\n",
       "      <td>2023-06-07</td>\n",
       "      <td>nbody.py 50000000</td>\n",
       "    </tr>\n",
       "  </tbody>\n",
       "</table>\n",
       "</div>"
      ],
      "text/plain": [
       "   python_version release_date first_release       appplication\n",
       "0           2.5.6   2011-05-26    2006-09-19  nbody.py 50000000\n",
       "1          2.7.18   2020-04-20    2010-07-04  nbody.py 50000000\n",
       "2           3.0.1   2009-02-13    2008-12-03  nbody.py 50000000\n",
       "3          3.4.10   2019-03-18    2014-03-16  nbody.py 50000000\n",
       "4          3.5.10   2020-09-05    2015-09-13  nbody.py 50000000\n",
       "5          3.6.15   2021-09-04    2016-12-23  nbody.py 50000000\n",
       "6          3.7.16   2022-12-06    2018-06-27  nbody.py 50000000\n",
       "7          3.8.16   2022-12-06    2019-10-14  nbody.py 50000000\n",
       "8          3.9.16   2022-12-06    2020-10-05  nbody.py 50000000\n",
       "9         3.10.11   2023-04-05    2021-10-04  nbody.py 50000000\n",
       "10         3.11.3   2023-04-05    2022-10-24  nbody.py 50000000\n",
       "11       3.12.0b1   2023-05-22    2023-05-22  nbody.py 50000000\n",
       "12       3.13.0a0   2023-06-07    2023-06-07  nbody.py 50000000"
      ]
     },
     "execution_count": 12,
     "metadata": {},
     "output_type": "execute_result"
    }
   ],
   "source": [
    "df_data = df[['python_version', 'release_date', 'first_release', 'appplication']]\n",
    "df_data"
   ]
  },
  {
   "cell_type": "code",
   "execution_count": 13,
   "metadata": {},
   "outputs": [
    {
     "data": {
      "text/html": [
       "<div>\n",
       "<style scoped>\n",
       "    .dataframe tbody tr th:only-of-type {\n",
       "        vertical-align: middle;\n",
       "    }\n",
       "\n",
       "    .dataframe tbody tr th {\n",
       "        vertical-align: top;\n",
       "    }\n",
       "\n",
       "    .dataframe thead th {\n",
       "        text-align: right;\n",
       "    }\n",
       "</style>\n",
       "<table border=\"1\" class=\"dataframe\">\n",
       "  <thead>\n",
       "    <tr style=\"text-align: right;\">\n",
       "      <th></th>\n",
       "      <th>time_elapsed</th>\n",
       "      <th>usec</th>\n",
       "      <th>Time_Of_Day_Seconds</th>\n",
       "      <th>APIC</th>\n",
       "      <th>X2APIC</th>\n",
       "      <th>Avg_MHz</th>\n",
       "      <th>Busy%</th>\n",
       "      <th>Bzy_MHz</th>\n",
       "      <th>TSC_MHz</th>\n",
       "      <th>IPC</th>\n",
       "      <th>...</th>\n",
       "      <th>Pkg%pc9</th>\n",
       "      <th>Pk%pc10</th>\n",
       "      <th>CPU%LPI</th>\n",
       "      <th>SYS%LPI</th>\n",
       "      <th>Pkg_J</th>\n",
       "      <th>Cor_J</th>\n",
       "      <th>GFX_J</th>\n",
       "      <th>RAM_J</th>\n",
       "      <th>PKG_%</th>\n",
       "      <th>RAM_%</th>\n",
       "    </tr>\n",
       "  </thead>\n",
       "  <tbody>\n",
       "    <tr>\n",
       "      <th>0</th>\n",
       "      <td>479.614960</td>\n",
       "      <td>1166</td>\n",
       "      <td>1.686091e+09</td>\n",
       "      <td>-</td>\n",
       "      <td>-</td>\n",
       "      <td>501</td>\n",
       "      <td>13.01</td>\n",
       "      <td>3854</td>\n",
       "      <td>1896</td>\n",
       "      <td>1.87</td>\n",
       "      <td>...</td>\n",
       "      <td>0.0</td>\n",
       "      <td>0.0</td>\n",
       "      <td>0.0</td>\n",
       "      <td>0.0</td>\n",
       "      <td>7797.35</td>\n",
       "      <td>6784.47</td>\n",
       "      <td>2.27</td>\n",
       "      <td>141.15</td>\n",
       "      <td>0.0</td>\n",
       "      <td>0.0</td>\n",
       "    </tr>\n",
       "    <tr>\n",
       "      <th>1</th>\n",
       "      <td>425.678408</td>\n",
       "      <td>1229</td>\n",
       "      <td>1.686092e+09</td>\n",
       "      <td>-</td>\n",
       "      <td>-</td>\n",
       "      <td>469</td>\n",
       "      <td>13.20</td>\n",
       "      <td>3554</td>\n",
       "      <td>1896</td>\n",
       "      <td>2.01</td>\n",
       "      <td>...</td>\n",
       "      <td>0.0</td>\n",
       "      <td>0.0</td>\n",
       "      <td>0.0</td>\n",
       "      <td>0.0</td>\n",
       "      <td>5839.56</td>\n",
       "      <td>4958.45</td>\n",
       "      <td>0.37</td>\n",
       "      <td>124.54</td>\n",
       "      <td>0.0</td>\n",
       "      <td>0.0</td>\n",
       "    </tr>\n",
       "    <tr>\n",
       "      <th>2</th>\n",
       "      <td>568.032331</td>\n",
       "      <td>1257</td>\n",
       "      <td>1.686092e+09</td>\n",
       "      <td>-</td>\n",
       "      <td>-</td>\n",
       "      <td>464</td>\n",
       "      <td>13.25</td>\n",
       "      <td>3502</td>\n",
       "      <td>1896</td>\n",
       "      <td>1.71</td>\n",
       "      <td>...</td>\n",
       "      <td>0.0</td>\n",
       "      <td>0.0</td>\n",
       "      <td>0.0</td>\n",
       "      <td>0.0</td>\n",
       "      <td>7287.92</td>\n",
       "      <td>6119.00</td>\n",
       "      <td>0.29</td>\n",
       "      <td>162.74</td>\n",
       "      <td>0.0</td>\n",
       "      <td>0.0</td>\n",
       "    </tr>\n",
       "    <tr>\n",
       "      <th>3</th>\n",
       "      <td>467.307295</td>\n",
       "      <td>1326</td>\n",
       "      <td>1.686093e+09</td>\n",
       "      <td>-</td>\n",
       "      <td>-</td>\n",
       "      <td>466</td>\n",
       "      <td>13.02</td>\n",
       "      <td>3578</td>\n",
       "      <td>1896</td>\n",
       "      <td>1.85</td>\n",
       "      <td>...</td>\n",
       "      <td>0.0</td>\n",
       "      <td>0.0</td>\n",
       "      <td>0.0</td>\n",
       "      <td>0.0</td>\n",
       "      <td>6396.37</td>\n",
       "      <td>5427.70</td>\n",
       "      <td>0.27</td>\n",
       "      <td>132.80</td>\n",
       "      <td>0.0</td>\n",
       "      <td>0.0</td>\n",
       "    </tr>\n",
       "    <tr>\n",
       "      <th>4</th>\n",
       "      <td>471.275601</td>\n",
       "      <td>1567</td>\n",
       "      <td>1.686093e+09</td>\n",
       "      <td>-</td>\n",
       "      <td>-</td>\n",
       "      <td>468</td>\n",
       "      <td>13.13</td>\n",
       "      <td>3568</td>\n",
       "      <td>1896</td>\n",
       "      <td>1.82</td>\n",
       "      <td>...</td>\n",
       "      <td>0.0</td>\n",
       "      <td>0.0</td>\n",
       "      <td>0.0</td>\n",
       "      <td>0.0</td>\n",
       "      <td>6507.68</td>\n",
       "      <td>5529.96</td>\n",
       "      <td>0.28</td>\n",
       "      <td>134.70</td>\n",
       "      <td>0.0</td>\n",
       "      <td>0.0</td>\n",
       "    </tr>\n",
       "    <tr>\n",
       "      <th>5</th>\n",
       "      <td>453.812160</td>\n",
       "      <td>1238</td>\n",
       "      <td>1.686094e+09</td>\n",
       "      <td>-</td>\n",
       "      <td>-</td>\n",
       "      <td>470</td>\n",
       "      <td>13.07</td>\n",
       "      <td>3594</td>\n",
       "      <td>1896</td>\n",
       "      <td>1.85</td>\n",
       "      <td>...</td>\n",
       "      <td>0.0</td>\n",
       "      <td>0.0</td>\n",
       "      <td>0.0</td>\n",
       "      <td>0.0</td>\n",
       "      <td>6319.58</td>\n",
       "      <td>5375.88</td>\n",
       "      <td>0.27</td>\n",
       "      <td>129.24</td>\n",
       "      <td>0.0</td>\n",
       "      <td>0.0</td>\n",
       "    </tr>\n",
       "    <tr>\n",
       "      <th>6</th>\n",
       "      <td>443.662878</td>\n",
       "      <td>1228</td>\n",
       "      <td>1.686095e+09</td>\n",
       "      <td>-</td>\n",
       "      <td>-</td>\n",
       "      <td>469</td>\n",
       "      <td>13.04</td>\n",
       "      <td>3597</td>\n",
       "      <td>1896</td>\n",
       "      <td>1.93</td>\n",
       "      <td>...</td>\n",
       "      <td>0.0</td>\n",
       "      <td>0.0</td>\n",
       "      <td>0.0</td>\n",
       "      <td>0.0</td>\n",
       "      <td>6201.01</td>\n",
       "      <td>5277.95</td>\n",
       "      <td>0.28</td>\n",
       "      <td>126.19</td>\n",
       "      <td>0.0</td>\n",
       "      <td>0.0</td>\n",
       "    </tr>\n",
       "    <tr>\n",
       "      <th>7</th>\n",
       "      <td>515.991584</td>\n",
       "      <td>1264</td>\n",
       "      <td>1.686095e+09</td>\n",
       "      <td>-</td>\n",
       "      <td>-</td>\n",
       "      <td>468</td>\n",
       "      <td>13.18</td>\n",
       "      <td>3550</td>\n",
       "      <td>1896</td>\n",
       "      <td>1.79</td>\n",
       "      <td>...</td>\n",
       "      <td>0.0</td>\n",
       "      <td>0.0</td>\n",
       "      <td>0.0</td>\n",
       "      <td>0.0</td>\n",
       "      <td>7046.15</td>\n",
       "      <td>5973.53</td>\n",
       "      <td>0.28</td>\n",
       "      <td>148.41</td>\n",
       "      <td>0.0</td>\n",
       "      <td>0.0</td>\n",
       "    </tr>\n",
       "    <tr>\n",
       "      <th>8</th>\n",
       "      <td>508.880494</td>\n",
       "      <td>1280</td>\n",
       "      <td>1.686096e+09</td>\n",
       "      <td>-</td>\n",
       "      <td>-</td>\n",
       "      <td>469</td>\n",
       "      <td>13.20</td>\n",
       "      <td>3553</td>\n",
       "      <td>1896</td>\n",
       "      <td>1.87</td>\n",
       "      <td>...</td>\n",
       "      <td>0.0</td>\n",
       "      <td>0.0</td>\n",
       "      <td>0.0</td>\n",
       "      <td>0.0</td>\n",
       "      <td>6882.41</td>\n",
       "      <td>5823.72</td>\n",
       "      <td>0.30</td>\n",
       "      <td>145.78</td>\n",
       "      <td>0.0</td>\n",
       "      <td>0.0</td>\n",
       "    </tr>\n",
       "    <tr>\n",
       "      <th>9</th>\n",
       "      <td>508.644763</td>\n",
       "      <td>1222</td>\n",
       "      <td>1.686096e+09</td>\n",
       "      <td>-</td>\n",
       "      <td>-</td>\n",
       "      <td>468</td>\n",
       "      <td>13.04</td>\n",
       "      <td>3591</td>\n",
       "      <td>1896</td>\n",
       "      <td>1.84</td>\n",
       "      <td>...</td>\n",
       "      <td>0.0</td>\n",
       "      <td>0.0</td>\n",
       "      <td>0.0</td>\n",
       "      <td>0.0</td>\n",
       "      <td>6969.09</td>\n",
       "      <td>5912.49</td>\n",
       "      <td>0.30</td>\n",
       "      <td>144.52</td>\n",
       "      <td>0.0</td>\n",
       "      <td>0.0</td>\n",
       "    </tr>\n",
       "    <tr>\n",
       "      <th>10</th>\n",
       "      <td>258.717028</td>\n",
       "      <td>1279</td>\n",
       "      <td>1.686097e+09</td>\n",
       "      <td>-</td>\n",
       "      <td>-</td>\n",
       "      <td>491</td>\n",
       "      <td>13.16</td>\n",
       "      <td>3729</td>\n",
       "      <td>1896</td>\n",
       "      <td>1.91</td>\n",
       "      <td>...</td>\n",
       "      <td>0.0</td>\n",
       "      <td>0.0</td>\n",
       "      <td>0.0</td>\n",
       "      <td>0.0</td>\n",
       "      <td>3976.95</td>\n",
       "      <td>3431.58</td>\n",
       "      <td>0.26</td>\n",
       "      <td>74.65</td>\n",
       "      <td>0.0</td>\n",
       "      <td>0.0</td>\n",
       "    </tr>\n",
       "    <tr>\n",
       "      <th>11</th>\n",
       "      <td>301.811331</td>\n",
       "      <td>1305</td>\n",
       "      <td>1.686133e+09</td>\n",
       "      <td>-</td>\n",
       "      <td>-</td>\n",
       "      <td>509</td>\n",
       "      <td>13.42</td>\n",
       "      <td>3794</td>\n",
       "      <td>1896</td>\n",
       "      <td>1.68</td>\n",
       "      <td>...</td>\n",
       "      <td>0.0</td>\n",
       "      <td>0.0</td>\n",
       "      <td>0.0</td>\n",
       "      <td>0.0</td>\n",
       "      <td>5023.36</td>\n",
       "      <td>4254.20</td>\n",
       "      <td>0.37</td>\n",
       "      <td>184.06</td>\n",
       "      <td>0.0</td>\n",
       "      <td>0.0</td>\n",
       "    </tr>\n",
       "    <tr>\n",
       "      <th>12</th>\n",
       "      <td>277.392607</td>\n",
       "      <td>1085</td>\n",
       "      <td>1.686136e+09</td>\n",
       "      <td>-</td>\n",
       "      <td>-</td>\n",
       "      <td>513</td>\n",
       "      <td>12.94</td>\n",
       "      <td>3963</td>\n",
       "      <td>1896</td>\n",
       "      <td>1.84</td>\n",
       "      <td>...</td>\n",
       "      <td>0.0</td>\n",
       "      <td>0.0</td>\n",
       "      <td>0.0</td>\n",
       "      <td>0.0</td>\n",
       "      <td>4959.71</td>\n",
       "      <td>4252.95</td>\n",
       "      <td>0.29</td>\n",
       "      <td>166.89</td>\n",
       "      <td>0.0</td>\n",
       "      <td>0.0</td>\n",
       "    </tr>\n",
       "  </tbody>\n",
       "</table>\n",
       "<p>13 rows × 58 columns</p>\n",
       "</div>"
      ],
      "text/plain": [
       "    time_elapsed  usec  Time_Of_Day_Seconds APIC X2APIC  Avg_MHz  Busy%  \\\n",
       "0     479.614960  1166         1.686091e+09    -      -      501  13.01   \n",
       "1     425.678408  1229         1.686092e+09    -      -      469  13.20   \n",
       "2     568.032331  1257         1.686092e+09    -      -      464  13.25   \n",
       "3     467.307295  1326         1.686093e+09    -      -      466  13.02   \n",
       "4     471.275601  1567         1.686093e+09    -      -      468  13.13   \n",
       "5     453.812160  1238         1.686094e+09    -      -      470  13.07   \n",
       "6     443.662878  1228         1.686095e+09    -      -      469  13.04   \n",
       "7     515.991584  1264         1.686095e+09    -      -      468  13.18   \n",
       "8     508.880494  1280         1.686096e+09    -      -      469  13.20   \n",
       "9     508.644763  1222         1.686096e+09    -      -      468  13.04   \n",
       "10    258.717028  1279         1.686097e+09    -      -      491  13.16   \n",
       "11    301.811331  1305         1.686133e+09    -      -      509  13.42   \n",
       "12    277.392607  1085         1.686136e+09    -      -      513  12.94   \n",
       "\n",
       "    Bzy_MHz  TSC_MHz   IPC  ...  Pkg%pc9  Pk%pc10  CPU%LPI  SYS%LPI    Pkg_J  \\\n",
       "0      3854     1896  1.87  ...      0.0      0.0      0.0      0.0  7797.35   \n",
       "1      3554     1896  2.01  ...      0.0      0.0      0.0      0.0  5839.56   \n",
       "2      3502     1896  1.71  ...      0.0      0.0      0.0      0.0  7287.92   \n",
       "3      3578     1896  1.85  ...      0.0      0.0      0.0      0.0  6396.37   \n",
       "4      3568     1896  1.82  ...      0.0      0.0      0.0      0.0  6507.68   \n",
       "5      3594     1896  1.85  ...      0.0      0.0      0.0      0.0  6319.58   \n",
       "6      3597     1896  1.93  ...      0.0      0.0      0.0      0.0  6201.01   \n",
       "7      3550     1896  1.79  ...      0.0      0.0      0.0      0.0  7046.15   \n",
       "8      3553     1896  1.87  ...      0.0      0.0      0.0      0.0  6882.41   \n",
       "9      3591     1896  1.84  ...      0.0      0.0      0.0      0.0  6969.09   \n",
       "10     3729     1896  1.91  ...      0.0      0.0      0.0      0.0  3976.95   \n",
       "11     3794     1896  1.68  ...      0.0      0.0      0.0      0.0  5023.36   \n",
       "12     3963     1896  1.84  ...      0.0      0.0      0.0      0.0  4959.71   \n",
       "\n",
       "      Cor_J  GFX_J   RAM_J  PKG_%  RAM_%  \n",
       "0   6784.47   2.27  141.15    0.0    0.0  \n",
       "1   4958.45   0.37  124.54    0.0    0.0  \n",
       "2   6119.00   0.29  162.74    0.0    0.0  \n",
       "3   5427.70   0.27  132.80    0.0    0.0  \n",
       "4   5529.96   0.28  134.70    0.0    0.0  \n",
       "5   5375.88   0.27  129.24    0.0    0.0  \n",
       "6   5277.95   0.28  126.19    0.0    0.0  \n",
       "7   5973.53   0.28  148.41    0.0    0.0  \n",
       "8   5823.72   0.30  145.78    0.0    0.0  \n",
       "9   5912.49   0.30  144.52    0.0    0.0  \n",
       "10  3431.58   0.26   74.65    0.0    0.0  \n",
       "11  4254.20   0.37  184.06    0.0    0.0  \n",
       "12  4252.95   0.29  166.89    0.0    0.0  \n",
       "\n",
       "[13 rows x 58 columns]"
      ]
     },
     "execution_count": 13,
     "metadata": {},
     "output_type": "execute_result"
    }
   ],
   "source": [
    "df_metric = df.loc[:, ~df.columns.isin(['python_version', 'release_date', 'first_release', 'appplication'])]\n",
    "df_metric"
   ]
  },
  {
   "cell_type": "code",
   "execution_count": 14,
   "metadata": {},
   "outputs": [],
   "source": [
    "# Extract relevant columns\n",
    "python_version = df['python_version']\n",
    "release = df['release_date']\n",
    "first_release = df['first_release']\n",
    "time_elapsed = df['time_elapsed']\n",
    "avg_mhz = df['Avg_MHz']                       # no. of cycles executed divided by time elapsed\n",
    "busy_percent = df['Busy%']                    # % of time in C0 state\n",
    "busy_mhz = df['Bzy_MHz']                      # Avg clock rate while the CPU was not idle in C0 state\n",
    "ipc = df['IPC']\n",
    "irq = df['IRQ']\n",
    "poll = df['POLL']\n",
    "c1 = df['C1']\n",
    "c1e = df['C1E']\n",
    "c3 = df['C3']\n",
    "c6 = df['C6']\n",
    "c7s = df['C7s']\n",
    "c8 = df['C8']\n",
    "coreTemperature = df['CoreTmp']\n",
    "pkgTemperature = df['PkgTmp']\n",
    "gfx_percent = df['GFX%rc6']\n",
    "gfx_mhz = df['GFXMHz']\n",
    "total_c0_percent = df['Totl%C0']\n",
    "any_c0_percent = df['Any%C0']\n",
    "gfx_c0_percent = df['GFX%C0']\n",
    "cpugfx_percent = df['CPUGFX%']\n",
    "energy_pkg = df['Pkg_J']\n",
    "energy_core = df['Cor_J']\n",
    "energy_gfx = df['GFX_J']\n",
    "energy_ram = df['RAM_J']\n",
    "\n"
   ]
  },
  {
   "attachments": {},
   "cell_type": "markdown",
   "metadata": {},
   "source": [
    "## Trend Plots"
   ]
  },
  {
   "attachments": {},
   "cell_type": "markdown",
   "metadata": {},
   "source": [
    "### Time elapsed vs CPU usage"
   ]
  },
  {
   "cell_type": "code",
   "execution_count": 15,
   "metadata": {},
   "outputs": [
    {
     "name": "stderr",
     "output_type": "stream",
     "text": [
      "No artists with labels found to put in legend.  Note that artists whose label start with an underscore are ignored when legend() is called with no argument.\n"
     ]
    },
    {
     "data": {
      "image/png": "[encoded data removed]",
      "text/plain": [
       "<Figure size 800x600 with 1 Axes>"
      ]
     },
     "metadata": {},
     "output_type": "display_data"
    }
   ],
   "source": [
    "# Plot time elapsed vs CPU usage\n",
    "plt.figure(figsize=(8, 6))\n",
    "plt.scatter(time_elapsed, energy_pkg)\n",
    "plt.xlabel('Time Elapsed')\n",
    "plt.ylabel('Energy Pkg')\n",
    "plt.title('Time Elapsed vs Pkg_J')\n",
    "plt.legend()\n",
    "plt.show()"
   ]
  },
  {
   "attachments": {},
   "cell_type": "markdown",
   "metadata": {},
   "source": [
    "### Time elapsed vs Avg MHz"
   ]
  },
  {
   "cell_type": "code",
   "execution_count": 16,
   "metadata": {},
   "outputs": [
    {
     "name": "stderr",
     "output_type": "stream",
     "text": [
      "No artists with labels found to put in legend.  Note that artists whose label start with an underscore are ignored when legend() is called with no argument.\n"
     ]
    },
    {
     "data": {
      "image/png": "[encoded data removed]",
      "text/plain": [
       "<Figure size 800x600 with 1 Axes>"
      ]
     },
     "metadata": {},
     "output_type": "display_data"
    }
   ],
   "source": [
    "\n",
    "# Plot time elapsed vs Memory usage\n",
    "plt.figure(figsize=(8, 6))\n",
    "plt.scatter(time_elapsed, avg_mhz)\n",
    "plt.xlabel('Time Elapsed')\n",
    "plt.ylabel('Avg MHz')\n",
    "plt.title('Time Elapsed vs Avg MHz')\n",
    "plt.legend()\n",
    "plt.show()"
   ]
  },
  {
   "attachments": {},
   "cell_type": "markdown",
   "metadata": {},
   "source": [
    "### Energy Consumption through different Python versions"
   ]
  },
  {
   "cell_type": "code",
   "execution_count": 17,
   "metadata": {},
   "outputs": [
    {
     "data": {
      "image/png": "[encoded data removed]",
      "text/plain": [
       "<Figure size 800x600 with 1 Axes>"
      ]
     },
     "metadata": {},
     "output_type": "display_data"
    }
   ],
   "source": [
    "\n",
    "# Plot Python version vs Energy Consumption\n",
    "plt.figure(figsize=(8,6))\n",
    "plt.plot(python_version, energy_pkg, label='energy pkg')\n",
    "plt.plot(python_version, energy_core, label='energy core')\n",
    "plt.plot(python_version, energy_ram, label='energy ram')\n",
    "plt.plot(python_version, energy_gfx, label='energy gfx')\n",
    "plt.xlabel('Python version')\n",
    "plt.ylabel('Energy (Joules)')\n",
    "plt.xticks(rotation=45)\n",
    "plt.title('Python versions vs Energy Consumption')\n",
    "plt.legend()\n",
    "plt.show()"
   ]
  },
  {
   "cell_type": "code",
   "execution_count": 18,
   "metadata": {},
   "outputs": [
    {
     "data": {
      "application/vnd.plotly.v1+json": {
       "config": {
        "plotlyServerURL": "https://plot.ly"
       },
       "data": [
        {
         "hovertemplate": "variable=Pkg_J<br>python_version=%{x}<br>value=%{y}<br>text=%{text}<extra></extra>",
         "legendgroup": "Pkg_J",
         "line": {
          "color": "#636efa",
          "dash": "solid"
         },
         "marker": {
          "symbol": "circle"
         },
         "mode": "text+markers+lines",
         "name": "Pkg_J",
         "orientation": "v",
         "showlegend": true,
         "text": [
          2006,
          2010,
          2008,
          2014,
          2015,
          2016,
          2018,
          2019,
          2020,
          2021,
          2022,
          2023,
          2023
         ],
         "textposition": "bottom right",
         "type": "scatter",
         "x": [
          "2.5.6",
          "2.7.18",
          "3.0.1",
          "3.4.10",
          "3.5.10",
          "3.6.15",
          "3.7.16",
          "3.8.16",
          "3.9.16",
          "3.10.11",
          "3.11.3",
          "3.12.0b1",
          "3.13.0a0"
         ],
         "xaxis": "x",
         "y": [
          7797.35,
          5839.56,
          7287.92,
          6396.37,
          6507.68,
          6319.58,
          6201.01,
          7046.15,
          6882.41,
          6969.09,
          3976.95,
          5023.36,
          4959.71
         ],
         "yaxis": "y"
        },
        {
         "hovertemplate": "variable=Cor_J<br>python_version=%{x}<br>value=%{y}<br>text=%{text}<extra></extra>",
         "legendgroup": "Cor_J",
         "line": {
          "color": "#EF553B",
          "dash": "solid"
         },
         "marker": {
          "symbol": "circle"
         },
         "mode": "text+markers+lines",
         "name": "Cor_J",
         "orientation": "v",
         "showlegend": true,
         "text": [
          2006,
          2010,
          2008,
          2014,
          2015,
          2016,
          2018,
          2019,
          2020,
          2021,
          2022,
          2023,
          2023
         ],
         "textposition": "bottom right",
         "type": "scatter",
         "x": [
          "2.5.6",
          "2.7.18",
          "3.0.1",
          "3.4.10",
          "3.5.10",
          "3.6.15",
          "3.7.16",
          "3.8.16",
          "3.9.16",
          "3.10.11",
          "3.11.3",
          "3.12.0b1",
          "3.13.0a0"
         ],
         "xaxis": "x",
         "y": [
          6784.47,
          4958.45,
          6119,
          5427.7,
          5529.96,
          5375.88,
          5277.95,
          5973.53,
          5823.72,
          5912.49,
          3431.58,
          4254.2,
          4252.95
         ],
         "yaxis": "y"
        },
        {
         "hovertemplate": "variable=GFX_J<br>python_version=%{x}<br>value=%{y}<br>text=%{text}<extra></extra>",
         "legendgroup": "GFX_J",
         "line": {
          "color": "#00cc96",
          "dash": "solid"
         },
         "marker": {
          "symbol": "circle"
         },
         "mode": "text+markers+lines",
         "name": "GFX_J",
         "orientation": "v",
         "showlegend": true,
         "text": [
          2006,
          2010,
          2008,
          2014,
          2015,
          2016,
          2018,
          2019,
          2020,
          2021,
          2022,
          2023,
          2023
         ],
         "textposition": "bottom right",
         "type": "scatter",
         "x": [
          "2.5.6",
          "2.7.18",
          "3.0.1",
          "3.4.10",
          "3.5.10",
          "3.6.15",
          "3.7.16",
          "3.8.16",
          "3.9.16",
          "3.10.11",
          "3.11.3",
          "3.12.0b1",
          "3.13.0a0"
         ],
         "xaxis": "x",
         "y": [
          2.27,
          0.37,
          0.29,
          0.27,
          0.28,
          0.27,
          0.28,
          0.28,
          0.3,
          0.3,
          0.26,
          0.37,
          0.29
         ],
         "yaxis": "y"
        },
        {
         "hovertemplate": "variable=RAM_J<br>python_version=%{x}<br>value=%{y}<br>text=%{text}<extra></extra>",
         "legendgroup": "RAM_J",
         "line": {
          "color": "#ab63fa",
          "dash": "solid"
         },
         "marker": {
          "symbol": "circle"
         },
         "mode": "text+markers+lines",
         "name": "RAM_J",
         "orientation": "v",
         "showlegend": true,
         "text": [
          2006,
          2010,
          2008,
          2014,
          2015,
          2016,
          2018,
          2019,
          2020,
          2021,
          2022,
          2023,
          2023
         ],
         "textposition": "bottom right",
         "type": "scatter",
         "x": [
          "2.5.6",
          "2.7.18",
          "3.0.1",
          "3.4.10",
          "3.5.10",
          "3.6.15",
          "3.7.16",
          "3.8.16",
          "3.9.16",
          "3.10.11",
          "3.11.3",
          "3.12.0b1",
          "3.13.0a0"
         ],
         "xaxis": "x",
         "y": [
          141.15,
          124.54,
          162.74,
          132.8,
          134.7,
          129.24,
          126.19,
          148.41,
          145.78,
          144.52,
          74.65,
          184.06,
          166.89
         ],
         "yaxis": "y"
        }
       ],
       "layout": {
        "legend": {
         "title": {
          "text": "variable"
         },
         "tracegroupgap": 0
        },
        "margin": {
         "t": 60
        },
        "template": {
         "data": {
          "bar": [
           {
            "error_x": {
             "color": "#2a3f5f"
            },
            "error_y": {
             "color": "#2a3f5f"
            },
            "marker": {
             "line": {
              "color": "#E5ECF6",
              "width": 0.5
             },
             "pattern": {
              "fillmode": "overlay",
              "size": 10,
              "solidity": 0.2
             }
            },
            "type": "bar"
           }
          ],
          "barpolar": [
           {
            "marker": {
             "line": {
              "color": "#E5ECF6",
              "width": 0.5
             },
             "pattern": {
              "fillmode": "overlay",
              "size": 10,
              "solidity": 0.2
             }
            },
            "type": "barpolar"
           }
          ],
          "carpet": [
           {
            "aaxis": {
             "endlinecolor": "#2a3f5f",
             "gridcolor": "white",
             "linecolor": "white",
             "minorgridcolor": "white",
             "startlinecolor": "#2a3f5f"
            },
            "baxis": {
             "endlinecolor": "#2a3f5f",
             "gridcolor": "white",
             "linecolor": "white",
             "minorgridcolor": "white",
             "startlinecolor": "#2a3f5f"
            },
            "type": "carpet"
           }
          ],
          "choropleth": [
           {
            "colorbar": {
             "outlinewidth": 0,
             "ticks": ""
            },
            "type": "choropleth"
           }
          ],
          "contour": [
           {
            "colorbar": {
             "outlinewidth": 0,
             "ticks": ""
            },
            "colorscale": [
             [
              0,
              "#0d0887"
             ],
             [
              0.1111111111111111,
              "#46039f"
             ],
             [
              0.2222222222222222,
              "#7201a8"
             ],
             [
              0.3333333333333333,
              "#9c179e"
             ],
             [
              0.4444444444444444,
              "#bd3786"
             ],
             [
              0.5555555555555556,
              "#d8576b"
             ],
             [
              0.6666666666666666,
              "#ed7953"
             ],
             [
              0.7777777777777778,
              "#fb9f3a"
             ],
             [
              0.8888888888888888,
              "#fdca26"
             ],
             [
              1,
              "#f0f921"
             ]
            ],
            "type": "contour"
           }
          ],
          "contourcarpet": [
           {
            "colorbar": {
             "outlinewidth": 0,
             "ticks": ""
            },
            "type": "contourcarpet"
           }
          ],
          "heatmap": [
           {
            "colorbar": {
             "outlinewidth": 0,
             "ticks": ""
            },
            "colorscale": [
             [
              0,
              "#0d0887"
             ],
             [
              0.1111111111111111,
              "#46039f"
             ],
             [
              0.2222222222222222,
              "#7201a8"
             ],
             [
              0.3333333333333333,
              "#9c179e"
             ],
             [
              0.4444444444444444,
              "#bd3786"
             ],
             [
              0.5555555555555556,
              "#d8576b"
             ],
             [
              0.6666666666666666,
              "#ed7953"
             ],
             [
              0.7777777777777778,
              "#fb9f3a"
             ],
             [
              0.8888888888888888,
              "#fdca26"
             ],
             [
              1,
              "#f0f921"
             ]
            ],
            "type": "heatmap"
           }
          ],
          "heatmapgl": [
           {
            "colorbar": {
             "outlinewidth": 0,
             "ticks": ""
            },
            "colorscale": [
             [
              0,
              "#0d0887"
             ],
             [
              0.1111111111111111,
              "#46039f"
             ],
             [
              0.2222222222222222,
              "#7201a8"
             ],
             [
              0.3333333333333333,
              "#9c179e"
             ],
             [
              0.4444444444444444,
              "#bd3786"
             ],
             [
              0.5555555555555556,
              "#d8576b"
             ],
             [
              0.6666666666666666,
              "#ed7953"
             ],
             [
              0.7777777777777778,
              "#fb9f3a"
             ],
             [
              0.8888888888888888,
              "#fdca26"
             ],
             [
              1,
              "#f0f921"
             ]
            ],
            "type": "heatmapgl"
           }
          ],
          "histogram": [
           {
            "marker": {
             "pattern": {
              "fillmode": "overlay",
              "size": 10,
              "solidity": 0.2
             }
            },
            "type": "histogram"
           }
          ],
          "histogram2d": [
           {
            "colorbar": {
             "outlinewidth": 0,
             "ticks": ""
            },
            "colorscale": [
             [
              0,
              "#0d0887"
             ],
             [
              0.1111111111111111,
              "#46039f"
             ],
             [
              0.2222222222222222,
              "#7201a8"
             ],
             [
              0.3333333333333333,
              "#9c179e"
             ],
             [
              0.4444444444444444,
              "#bd3786"
             ],
             [
              0.5555555555555556,
              "#d8576b"
             ],
             [
              0.6666666666666666,
              "#ed7953"
             ],
             [
              0.7777777777777778,
              "#fb9f3a"
             ],
             [
              0.8888888888888888,
              "#fdca26"
             ],
             [
              1,
              "#f0f921"
             ]
            ],
            "type": "histogram2d"
           }
          ],
          "histogram2dcontour": [
           {
            "colorbar": {
             "outlinewidth": 0,
             "ticks": ""
            },
            "colorscale": [
             [
              0,
              "#0d0887"
             ],
             [
              0.1111111111111111,
              "#46039f"
             ],
             [
              0.2222222222222222,
              "#7201a8"
             ],
             [
              0.3333333333333333,
              "#9c179e"
             ],
             [
              0.4444444444444444,
              "#bd3786"
             ],
             [
              0.5555555555555556,
              "#d8576b"
             ],
             [
              0.6666666666666666,
              "#ed7953"
             ],
             [
              0.7777777777777778,
              "#fb9f3a"
             ],
             [
              0.8888888888888888,
              "#fdca26"
             ],
             [
              1,
              "#f0f921"
             ]
            ],
            "type": "histogram2dcontour"
           }
          ],
          "mesh3d": [
           {
            "colorbar": {
             "outlinewidth": 0,
             "ticks": ""
            },
            "type": "mesh3d"
           }
          ],
          "parcoords": [
           {
            "line": {
             "colorbar": {
              "outlinewidth": 0,
              "ticks": ""
             }
            },
            "type": "parcoords"
           }
          ],
          "pie": [
           {
            "automargin": true,
            "type": "pie"
           }
          ],
          "scatter": [
           {
            "fillpattern": {
             "fillmode": "overlay",
             "size": 10,
             "solidity": 0.2
            },
            "type": "scatter"
           }
          ],
          "scatter3d": [
           {
            "line": {
             "colorbar": {
              "outlinewidth": 0,
              "ticks": ""
             }
            },
            "marker": {
             "colorbar": {
              "outlinewidth": 0,
              "ticks": ""
             }
            },
            "type": "scatter3d"
           }
          ],
          "scattercarpet": [
           {
            "marker": {
             "colorbar": {
              "outlinewidth": 0,
              "ticks": ""
             }
            },
            "type": "scattercarpet"
           }
          ],
          "scattergeo": [
           {
            "marker": {
             "colorbar": {
              "outlinewidth": 0,
              "ticks": ""
             }
            },
            "type": "scattergeo"
           }
          ],
          "scattergl": [
           {
            "marker": {
             "colorbar": {
              "outlinewidth": 0,
              "ticks": ""
             }
            },
            "type": "scattergl"
           }
          ],
          "scattermapbox": [
           {
            "marker": {
             "colorbar": {
              "outlinewidth": 0,
              "ticks": ""
             }
            },
            "type": "scattermapbox"
           }
          ],
          "scatterpolar": [
           {
            "marker": {
             "colorbar": {
              "outlinewidth": 0,
              "ticks": ""
             }
            },
            "type": "scatterpolar"
           }
          ],
          "scatterpolargl": [
           {
            "marker": {
             "colorbar": {
              "outlinewidth": 0,
              "ticks": ""
             }
            },
            "type": "scatterpolargl"
           }
          ],
          "scatterternary": [
           {
            "marker": {
             "colorbar": {
              "outlinewidth": 0,
              "ticks": ""
             }
            },
            "type": "scatterternary"
           }
          ],
          "surface": [
           {
            "colorbar": {
             "outlinewidth": 0,
             "ticks": ""
            },
            "colorscale": [
             [
              0,
              "#0d0887"
             ],
             [
              0.1111111111111111,
              "#46039f"
             ],
             [
              0.2222222222222222,
              "#7201a8"
             ],
             [
              0.3333333333333333,
              "#9c179e"
             ],
             [
              0.4444444444444444,
              "#bd3786"
             ],
             [
              0.5555555555555556,
              "#d8576b"
             ],
             [
              0.6666666666666666,
              "#ed7953"
             ],
             [
              0.7777777777777778,
              "#fb9f3a"
             ],
             [
              0.8888888888888888,
              "#fdca26"
             ],
             [
              1,
              "#f0f921"
             ]
            ],
            "type": "surface"
           }
          ],
          "table": [
           {
            "cells": {
             "fill": {
              "color": "#EBF0F8"
             },
             "line": {
              "color": "white"
             }
            },
            "header": {
             "fill": {
              "color": "#C8D4E3"
             },
             "line": {
              "color": "white"
             }
            },
            "type": "table"
           }
          ]
         },
         "layout": {
          "annotationdefaults": {
           "arrowcolor": "#2a3f5f",
           "arrowhead": 0,
           "arrowwidth": 1
          },
          "autotypenumbers": "strict",
          "coloraxis": {
           "colorbar": {
            "outlinewidth": 0,
            "ticks": ""
           }
          },
          "colorscale": {
           "diverging": [
            [
             0,
             "#8e0152"
            ],
            [
             0.1,
             "#c51b7d"
            ],
            [
             0.2,
             "#de77ae"
            ],
            [
             0.3,
             "#f1b6da"
            ],
            [
             0.4,
             "#fde0ef"
            ],
            [
             0.5,
             "#f7f7f7"
            ],
            [
             0.6,
             "#e6f5d0"
            ],
            [
             0.7,
             "#b8e186"
            ],
            [
             0.8,
             "#7fbc41"
            ],
            [
             0.9,
             "#4d9221"
            ],
            [
             1,
             "#276419"
            ]
           ],
           "sequential": [
            [
             0,
             "#0d0887"
            ],
            [
             0.1111111111111111,
             "#46039f"
            ],
            [
             0.2222222222222222,
             "#7201a8"
            ],
            [
             0.3333333333333333,
             "#9c179e"
            ],
            [
             0.4444444444444444,
             "#bd3786"
            ],
            [
             0.5555555555555556,
             "#d8576b"
            ],
            [
             0.6666666666666666,
             "#ed7953"
            ],
            [
             0.7777777777777778,
             "#fb9f3a"
            ],
            [
             0.8888888888888888,
             "#fdca26"
            ],
            [
             1,
             "#f0f921"
            ]
           ],
           "sequentialminus": [
            [
             0,
             "#0d0887"
            ],
            [
             0.1111111111111111,
             "#46039f"
            ],
            [
             0.2222222222222222,
             "#7201a8"
            ],
            [
             0.3333333333333333,
             "#9c179e"
            ],
            [
             0.4444444444444444,
             "#bd3786"
            ],
            [
             0.5555555555555556,
             "#d8576b"
            ],
            [
             0.6666666666666666,
             "#ed7953"
            ],
            [
             0.7777777777777778,
             "#fb9f3a"
            ],
            [
             0.8888888888888888,
             "#fdca26"
            ],
            [
             1,
             "#f0f921"
            ]
           ]
          },
          "colorway": [
           "#636efa",
           "#EF553B",
           "#00cc96",
           "#ab63fa",
           "#FFA15A",
           "#19d3f3",
           "#FF6692",
           "#B6E880",
           "#FF97FF",
           "#FECB52"
          ],
          "font": {
           "color": "#2a3f5f"
          },
          "geo": {
           "bgcolor": "white",
           "lakecolor": "white",
           "landcolor": "#E5ECF6",
           "showlakes": true,
           "showland": true,
           "subunitcolor": "white"
          },
          "hoverlabel": {
           "align": "left"
          },
          "hovermode": "closest",
          "mapbox": {
           "style": "light"
          },
          "paper_bgcolor": "white",
          "plot_bgcolor": "#E5ECF6",
          "polar": {
           "angularaxis": {
            "gridcolor": "white",
            "linecolor": "white",
            "ticks": ""
           },
           "bgcolor": "#E5ECF6",
           "radialaxis": {
            "gridcolor": "white",
            "linecolor": "white",
            "ticks": ""
           }
          },
          "scene": {
           "xaxis": {
            "backgroundcolor": "#E5ECF6",
            "gridcolor": "white",
            "gridwidth": 2,
            "linecolor": "white",
            "showbackground": true,
            "ticks": "",
            "zerolinecolor": "white"
           },
           "yaxis": {
            "backgroundcolor": "#E5ECF6",
            "gridcolor": "white",
            "gridwidth": 2,
            "linecolor": "white",
            "showbackground": true,
            "ticks": "",
            "zerolinecolor": "white"
           },
           "zaxis": {
            "backgroundcolor": "#E5ECF6",
            "gridcolor": "white",
            "gridwidth": 2,
            "linecolor": "white",
            "showbackground": true,
            "ticks": "",
            "zerolinecolor": "white"
           }
          },
          "shapedefaults": {
           "line": {
            "color": "#2a3f5f"
           }
          },
          "ternary": {
           "aaxis": {
            "gridcolor": "white",
            "linecolor": "white",
            "ticks": ""
           },
           "baxis": {
            "gridcolor": "white",
            "linecolor": "white",
            "ticks": ""
           },
           "bgcolor": "#E5ECF6",
           "caxis": {
            "gridcolor": "white",
            "linecolor": "white",
            "ticks": ""
           }
          },
          "title": {
           "x": 0.05
          },
          "xaxis": {
           "automargin": true,
           "gridcolor": "white",
           "linecolor": "white",
           "ticks": "",
           "title": {
            "standoff": 15
           },
           "zerolinecolor": "white",
           "zerolinewidth": 2
          },
          "yaxis": {
           "automargin": true,
           "gridcolor": "white",
           "linecolor": "white",
           "ticks": "",
           "title": {
            "standoff": 15
           },
           "zerolinecolor": "white",
           "zerolinewidth": 2
          }
         }
        },
        "xaxis": {
         "anchor": "y",
         "domain": [
          0,
          1
         ],
         "title": {
          "text": "python_version"
         }
        },
        "yaxis": {
         "anchor": "x",
         "domain": [
          0,
          1
         ],
         "title": {
          "text": "value"
         }
        }
       }
      }
     },
     "metadata": {},
     "output_type": "display_data"
    }
   ],
   "source": [
    "fig = px.line(df, x=\"python_version\", y=[\"Pkg_J\",\"Cor_J\",\"GFX_J\",\"RAM_J\"], text=pd.to_datetime(df['first_release']).dt.year)\n",
    "fig.update_traces(textposition=\"bottom right\")\n",
    "fig.show()"
   ]
  },
  {
   "attachments": {},
   "cell_type": "markdown",
   "metadata": {},
   "source": [
    "### Energy Consumption through releases (based on Python version)"
   ]
  },
  {
   "cell_type": "code",
   "execution_count": 19,
   "metadata": {},
   "outputs": [
    {
     "data": {
      "application/vnd.plotly.v1+json": {
       "config": {
        "plotlyServerURL": "https://plot.ly"
       },
       "data": [
        {
         "hovertemplate": "variable=Pkg_J<br>first_release=%{x}<br>value=%{y}<br>python_version=%{text}<extra></extra>",
         "legendgroup": "Pkg_J",
         "line": {
          "color": "#636efa",
          "dash": "solid"
         },
         "marker": {
          "symbol": "circle"
         },
         "mode": "text+markers+lines",
         "name": "Pkg_J",
         "orientation": "v",
         "showlegend": true,
         "text": [
          "2.5.6",
          "2.7.18",
          "3.0.1",
          "3.4.10",
          "3.5.10",
          "3.6.15",
          "3.7.16",
          "3.8.16",
          "3.9.16",
          "3.10.11",
          "3.11.3",
          "3.12.0b1",
          "3.13.0a0"
         ],
         "textposition": "bottom right",
         "type": "scatter",
         "x": [
          "2006-09-19T00:00:00",
          "2010-07-04T00:00:00",
          "2008-12-03T00:00:00",
          "2014-03-16T00:00:00",
          "2015-09-13T00:00:00",
          "2016-12-23T00:00:00",
          "2018-06-27T00:00:00",
          "2019-10-14T00:00:00",
          "2020-10-05T00:00:00",
          "2021-10-04T00:00:00",
          "2022-10-24T00:00:00",
          "2023-05-22T00:00:00",
          "2023-06-07T00:00:00"
         ],
         "xaxis": "x",
         "y": [
          7797.35,
          5839.56,
          7287.92,
          6396.37,
          6507.68,
          6319.58,
          6201.01,
          7046.15,
          6882.41,
          6969.09,
          3976.95,
          5023.36,
          4959.71
         ],
         "yaxis": "y"
        },
        {
         "hovertemplate": "variable=Cor_J<br>first_release=%{x}<br>value=%{y}<br>python_version=%{text}<extra></extra>",
         "legendgroup": "Cor_J",
         "line": {
          "color": "#EF553B",
          "dash": "solid"
         },
         "marker": {
          "symbol": "circle"
         },
         "mode": "text+markers+lines",
         "name": "Cor_J",
         "orientation": "v",
         "showlegend": true,
         "text": [
          "2.5.6",
          "2.7.18",
          "3.0.1",
          "3.4.10",
          "3.5.10",
          "3.6.15",
          "3.7.16",
          "3.8.16",
          "3.9.16",
          "3.10.11",
          "3.11.3",
          "3.12.0b1",
          "3.13.0a0"
         ],
         "textposition": "bottom right",
         "type": "scatter",
         "x": [
          "2006-09-19T00:00:00",
          "2010-07-04T00:00:00",
          "2008-12-03T00:00:00",
          "2014-03-16T00:00:00",
          "2015-09-13T00:00:00",
          "2016-12-23T00:00:00",
          "2018-06-27T00:00:00",
          "2019-10-14T00:00:00",
          "2020-10-05T00:00:00",
          "2021-10-04T00:00:00",
          "2022-10-24T00:00:00",
          "2023-05-22T00:00:00",
          "2023-06-07T00:00:00"
         ],
         "xaxis": "x",
         "y": [
          6784.47,
          4958.45,
          6119,
          5427.7,
          5529.96,
          5375.88,
          5277.95,
          5973.53,
          5823.72,
          5912.49,
          3431.58,
          4254.2,
          4252.95
         ],
         "yaxis": "y"
        },
        {
         "hovertemplate": "variable=GFX_J<br>first_release=%{x}<br>value=%{y}<br>python_version=%{text}<extra></extra>",
         "legendgroup": "GFX_J",
         "line": {
          "color": "#00cc96",
          "dash": "solid"
         },
         "marker": {
          "symbol": "circle"
         },
         "mode": "text+markers+lines",
         "name": "GFX_J",
         "orientation": "v",
         "showlegend": true,
         "text": [
          "2.5.6",
          "2.7.18",
          "3.0.1",
          "3.4.10",
          "3.5.10",
          "3.6.15",
          "3.7.16",
          "3.8.16",
          "3.9.16",
          "3.10.11",
          "3.11.3",
          "3.12.0b1",
          "3.13.0a0"
         ],
         "textposition": "bottom right",
         "type": "scatter",
         "x": [
          "2006-09-19T00:00:00",
          "2010-07-04T00:00:00",
          "2008-12-03T00:00:00",
          "2014-03-16T00:00:00",
          "2015-09-13T00:00:00",
          "2016-12-23T00:00:00",
          "2018-06-27T00:00:00",
          "2019-10-14T00:00:00",
          "2020-10-05T00:00:00",
          "2021-10-04T00:00:00",
          "2022-10-24T00:00:00",
          "2023-05-22T00:00:00",
          "2023-06-07T00:00:00"
         ],
         "xaxis": "x",
         "y": [
          2.27,
          0.37,
          0.29,
          0.27,
          0.28,
          0.27,
          0.28,
          0.28,
          0.3,
          0.3,
          0.26,
          0.37,
          0.29
         ],
         "yaxis": "y"
        },
        {
         "hovertemplate": "variable=RAM_J<br>first_release=%{x}<br>value=%{y}<br>python_version=%{text}<extra></extra>",
         "legendgroup": "RAM_J",
         "line": {
          "color": "#ab63fa",
          "dash": "solid"
         },
         "marker": {
          "symbol": "circle"
         },
         "mode": "text+markers+lines",
         "name": "RAM_J",
         "orientation": "v",
         "showlegend": true,
         "text": [
          "2.5.6",
          "2.7.18",
          "3.0.1",
          "3.4.10",
          "3.5.10",
          "3.6.15",
          "3.7.16",
          "3.8.16",
          "3.9.16",
          "3.10.11",
          "3.11.3",
          "3.12.0b1",
          "3.13.0a0"
         ],
         "textposition": "bottom right",
         "type": "scatter",
         "x": [
          "2006-09-19T00:00:00",
          "2010-07-04T00:00:00",
          "2008-12-03T00:00:00",
          "2014-03-16T00:00:00",
          "2015-09-13T00:00:00",
          "2016-12-23T00:00:00",
          "2018-06-27T00:00:00",
          "2019-10-14T00:00:00",
          "2020-10-05T00:00:00",
          "2021-10-04T00:00:00",
          "2022-10-24T00:00:00",
          "2023-05-22T00:00:00",
          "2023-06-07T00:00:00"
         ],
         "xaxis": "x",
         "y": [
          141.15,
          124.54,
          162.74,
          132.8,
          134.7,
          129.24,
          126.19,
          148.41,
          145.78,
          144.52,
          74.65,
          184.06,
          166.89
         ],
         "yaxis": "y"
        }
       ],
       "layout": {
        "legend": {
         "title": {
          "text": "variable"
         },
         "tracegroupgap": 0
        },
        "margin": {
         "t": 60
        },
        "template": {
         "data": {
          "bar": [
           {
            "error_x": {
             "color": "#2a3f5f"
            },
            "error_y": {
             "color": "#2a3f5f"
            },
            "marker": {
             "line": {
              "color": "#E5ECF6",
              "width": 0.5
             },
             "pattern": {
              "fillmode": "overlay",
              "size": 10,
              "solidity": 0.2
             }
            },
            "type": "bar"
           }
          ],
          "barpolar": [
           {
            "marker": {
             "line": {
              "color": "#E5ECF6",
              "width": 0.5
             },
             "pattern": {
              "fillmode": "overlay",
              "size": 10,
              "solidity": 0.2
             }
            },
            "type": "barpolar"
           }
          ],
          "carpet": [
           {
            "aaxis": {
             "endlinecolor": "#2a3f5f",
             "gridcolor": "white",
             "linecolor": "white",
             "minorgridcolor": "white",
             "startlinecolor": "#2a3f5f"
            },
            "baxis": {
             "endlinecolor": "#2a3f5f",
             "gridcolor": "white",
             "linecolor": "white",
             "minorgridcolor": "white",
             "startlinecolor": "#2a3f5f"
            },
            "type": "carpet"
           }
          ],
          "choropleth": [
           {
            "colorbar": {
             "outlinewidth": 0,
             "ticks": ""
            },
            "type": "choropleth"
           }
          ],
          "contour": [
           {
            "colorbar": {
             "outlinewidth": 0,
             "ticks": ""
            },
            "colorscale": [
             [
              0,
              "#0d0887"
             ],
             [
              0.1111111111111111,
              "#46039f"
             ],
             [
              0.2222222222222222,
              "#7201a8"
             ],
             [
              0.3333333333333333,
              "#9c179e"
             ],
             [
              0.4444444444444444,
              "#bd3786"
             ],
             [
              0.5555555555555556,
              "#d8576b"
             ],
             [
              0.6666666666666666,
              "#ed7953"
             ],
             [
              0.7777777777777778,
              "#fb9f3a"
             ],
             [
              0.8888888888888888,
              "#fdca26"
             ],
             [
              1,
              "#f0f921"
             ]
            ],
            "type": "contour"
           }
          ],
          "contourcarpet": [
           {
            "colorbar": {
             "outlinewidth": 0,
             "ticks": ""
            },
            "type": "contourcarpet"
           }
          ],
          "heatmap": [
           {
            "colorbar": {
             "outlinewidth": 0,
             "ticks": ""
            },
            "colorscale": [
             [
              0,
              "#0d0887"
             ],
             [
              0.1111111111111111,
              "#46039f"
             ],
             [
              0.2222222222222222,
              "#7201a8"
             ],
             [
              0.3333333333333333,
              "#9c179e"
             ],
             [
              0.4444444444444444,
              "#bd3786"
             ],
             [
              0.5555555555555556,
              "#d8576b"
             ],
             [
              0.6666666666666666,
              "#ed7953"
             ],
             [
              0.7777777777777778,
              "#fb9f3a"
             ],
             [
              0.8888888888888888,
              "#fdca26"
             ],
             [
              1,
              "#f0f921"
             ]
            ],
            "type": "heatmap"
           }
          ],
          "heatmapgl": [
           {
            "colorbar": {
             "outlinewidth": 0,
             "ticks": ""
            },
            "colorscale": [
             [
              0,
              "#0d0887"
             ],
             [
              0.1111111111111111,
              "#46039f"
             ],
             [
              0.2222222222222222,
              "#7201a8"
             ],
             [
              0.3333333333333333,
              "#9c179e"
             ],
             [
              0.4444444444444444,
              "#bd3786"
             ],
             [
              0.5555555555555556,
              "#d8576b"
             ],
             [
              0.6666666666666666,
              "#ed7953"
             ],
             [
              0.7777777777777778,
              "#fb9f3a"
             ],
             [
              0.8888888888888888,
              "#fdca26"
             ],
             [
              1,
              "#f0f921"
             ]
            ],
            "type": "heatmapgl"
           }
          ],
          "histogram": [
           {
            "marker": {
             "pattern": {
              "fillmode": "overlay",
              "size": 10,
              "solidity": 0.2
             }
            },
            "type": "histogram"
           }
          ],
          "histogram2d": [
           {
            "colorbar": {
             "outlinewidth": 0,
             "ticks": ""
            },
            "colorscale": [
             [
              0,
              "#0d0887"
             ],
             [
              0.1111111111111111,
              "#46039f"
             ],
             [
              0.2222222222222222,
              "#7201a8"
             ],
             [
              0.3333333333333333,
              "#9c179e"
             ],
             [
              0.4444444444444444,
              "#bd3786"
             ],
             [
              0.5555555555555556,
              "#d8576b"
             ],
             [
              0.6666666666666666,
              "#ed7953"
             ],
             [
              0.7777777777777778,
              "#fb9f3a"
             ],
             [
              0.8888888888888888,
              "#fdca26"
             ],
             [
              1,
              "#f0f921"
             ]
            ],
            "type": "histogram2d"
           }
          ],
          "histogram2dcontour": [
           {
            "colorbar": {
             "outlinewidth": 0,
             "ticks": ""
            },
            "colorscale": [
             [
              0,
              "#0d0887"
             ],
             [
              0.1111111111111111,
              "#46039f"
             ],
             [
              0.2222222222222222,
              "#7201a8"
             ],
             [
              0.3333333333333333,
              "#9c179e"
             ],
             [
              0.4444444444444444,
              "#bd3786"
             ],
             [
              0.5555555555555556,
              "#d8576b"
             ],
             [
              0.6666666666666666,
              "#ed7953"
             ],
             [
              0.7777777777777778,
              "#fb9f3a"
             ],
             [
              0.8888888888888888,
              "#fdca26"
             ],
             [
              1,
              "#f0f921"
             ]
            ],
            "type": "histogram2dcontour"
           }
          ],
          "mesh3d": [
           {
            "colorbar": {
             "outlinewidth": 0,
             "ticks": ""
            },
            "type": "mesh3d"
           }
          ],
          "parcoords": [
           {
            "line": {
             "colorbar": {
              "outlinewidth": 0,
              "ticks": ""
             }
            },
            "type": "parcoords"
           }
          ],
          "pie": [
           {
            "automargin": true,
            "type": "pie"
           }
          ],
          "scatter": [
           {
            "fillpattern": {
             "fillmode": "overlay",
             "size": 10,
             "solidity": 0.2
            },
            "type": "scatter"
           }
          ],
          "scatter3d": [
           {
            "line": {
             "colorbar": {
              "outlinewidth": 0,
              "ticks": ""
             }
            },
            "marker": {
             "colorbar": {
              "outlinewidth": 0,
              "ticks": ""
             }
            },
            "type": "scatter3d"
           }
          ],
          "scattercarpet": [
           {
            "marker": {
             "colorbar": {
              "outlinewidth": 0,
              "ticks": ""
             }
            },
            "type": "scattercarpet"
           }
          ],
          "scattergeo": [
           {
            "marker": {
             "colorbar": {
              "outlinewidth": 0,
              "ticks": ""
             }
            },
            "type": "scattergeo"
           }
          ],
          "scattergl": [
           {
            "marker": {
             "colorbar": {
              "outlinewidth": 0,
              "ticks": ""
             }
            },
            "type": "scattergl"
           }
          ],
          "scattermapbox": [
           {
            "marker": {
             "colorbar": {
              "outlinewidth": 0,
              "ticks": ""
             }
            },
            "type": "scattermapbox"
           }
          ],
          "scatterpolar": [
           {
            "marker": {
             "colorbar": {
              "outlinewidth": 0,
              "ticks": ""
             }
            },
            "type": "scatterpolar"
           }
          ],
          "scatterpolargl": [
           {
            "marker": {
             "colorbar": {
              "outlinewidth": 0,
              "ticks": ""
             }
            },
            "type": "scatterpolargl"
           }
          ],
          "scatterternary": [
           {
            "marker": {
             "colorbar": {
              "outlinewidth": 0,
              "ticks": ""
             }
            },
            "type": "scatterternary"
           }
          ],
          "surface": [
           {
            "colorbar": {
             "outlinewidth": 0,
             "ticks": ""
            },
            "colorscale": [
             [
              0,
              "#0d0887"
             ],
             [
              0.1111111111111111,
              "#46039f"
             ],
             [
              0.2222222222222222,
              "#7201a8"
             ],
             [
              0.3333333333333333,
              "#9c179e"
             ],
             [
              0.4444444444444444,
              "#bd3786"
             ],
             [
              0.5555555555555556,
              "#d8576b"
             ],
             [
              0.6666666666666666,
              "#ed7953"
             ],
             [
              0.7777777777777778,
              "#fb9f3a"
             ],
             [
              0.8888888888888888,
              "#fdca26"
             ],
             [
              1,
              "#f0f921"
             ]
            ],
            "type": "surface"
           }
          ],
          "table": [
           {
            "cells": {
             "fill": {
              "color": "#EBF0F8"
             },
             "line": {
              "color": "white"
             }
            },
            "header": {
             "fill": {
              "color": "#C8D4E3"
             },
             "line": {
              "color": "white"
             }
            },
            "type": "table"
           }
          ]
         },
         "layout": {
          "annotationdefaults": {
           "arrowcolor": "#2a3f5f",
           "arrowhead": 0,
           "arrowwidth": 1
          },
          "autotypenumbers": "strict",
          "coloraxis": {
           "colorbar": {
            "outlinewidth": 0,
            "ticks": ""
           }
          },
          "colorscale": {
           "diverging": [
            [
             0,
             "#8e0152"
            ],
            [
             0.1,
             "#c51b7d"
            ],
            [
             0.2,
             "#de77ae"
            ],
            [
             0.3,
             "#f1b6da"
            ],
            [
             0.4,
             "#fde0ef"
            ],
            [
             0.5,
             "#f7f7f7"
            ],
            [
             0.6,
             "#e6f5d0"
            ],
            [
             0.7,
             "#b8e186"
            ],
            [
             0.8,
             "#7fbc41"
            ],
            [
             0.9,
             "#4d9221"
            ],
            [
             1,
             "#276419"
            ]
           ],
           "sequential": [
            [
             0,
             "#0d0887"
            ],
            [
             0.1111111111111111,
             "#46039f"
            ],
            [
             0.2222222222222222,
             "#7201a8"
            ],
            [
             0.3333333333333333,
             "#9c179e"
            ],
            [
             0.4444444444444444,
             "#bd3786"
            ],
            [
             0.5555555555555556,
             "#d8576b"
            ],
            [
             0.6666666666666666,
             "#ed7953"
            ],
            [
             0.7777777777777778,
             "#fb9f3a"
            ],
            [
             0.8888888888888888,
             "#fdca26"
            ],
            [
             1,
             "#f0f921"
            ]
           ],
           "sequentialminus": [
            [
             0,
             "#0d0887"
            ],
            [
             0.1111111111111111,
             "#46039f"
            ],
            [
             0.2222222222222222,
             "#7201a8"
            ],
            [
             0.3333333333333333,
             "#9c179e"
            ],
            [
             0.4444444444444444,
             "#bd3786"
            ],
            [
             0.5555555555555556,
             "#d8576b"
            ],
            [
             0.6666666666666666,
             "#ed7953"
            ],
            [
             0.7777777777777778,
             "#fb9f3a"
            ],
            [
             0.8888888888888888,
             "#fdca26"
            ],
            [
             1,
             "#f0f921"
            ]
           ]
          },
          "colorway": [
           "#636efa",
           "#EF553B",
           "#00cc96",
           "#ab63fa",
           "#FFA15A",
           "#19d3f3",
           "#FF6692",
           "#B6E880",
           "#FF97FF",
           "#FECB52"
          ],
          "font": {
           "color": "#2a3f5f"
          },
          "geo": {
           "bgcolor": "white",
           "lakecolor": "white",
           "landcolor": "#E5ECF6",
           "showlakes": true,
           "showland": true,
           "subunitcolor": "white"
          },
          "hoverlabel": {
           "align": "left"
          },
          "hovermode": "closest",
          "mapbox": {
           "style": "light"
          },
          "paper_bgcolor": "white",
          "plot_bgcolor": "#E5ECF6",
          "polar": {
           "angularaxis": {
            "gridcolor": "white",
            "linecolor": "white",
            "ticks": ""
           },
           "bgcolor": "#E5ECF6",
           "radialaxis": {
            "gridcolor": "white",
            "linecolor": "white",
            "ticks": ""
           }
          },
          "scene": {
           "xaxis": {
            "backgroundcolor": "#E5ECF6",
            "gridcolor": "white",
            "gridwidth": 2,
            "linecolor": "white",
            "showbackground": true,
            "ticks": "",
            "zerolinecolor": "white"
           },
           "yaxis": {
            "backgroundcolor": "#E5ECF6",
            "gridcolor": "white",
            "gridwidth": 2,
            "linecolor": "white",
            "showbackground": true,
            "ticks": "",
            "zerolinecolor": "white"
           },
           "zaxis": {
            "backgroundcolor": "#E5ECF6",
            "gridcolor": "white",
            "gridwidth": 2,
            "linecolor": "white",
            "showbackground": true,
            "ticks": "",
            "zerolinecolor": "white"
           }
          },
          "shapedefaults": {
           "line": {
            "color": "#2a3f5f"
           }
          },
          "ternary": {
           "aaxis": {
            "gridcolor": "white",
            "linecolor": "white",
            "ticks": ""
           },
           "baxis": {
            "gridcolor": "white",
            "linecolor": "white",
            "ticks": ""
           },
           "bgcolor": "#E5ECF6",
           "caxis": {
            "gridcolor": "white",
            "linecolor": "white",
            "ticks": ""
           }
          },
          "title": {
           "x": 0.05
          },
          "xaxis": {
           "automargin": true,
           "gridcolor": "white",
           "linecolor": "white",
           "ticks": "",
           "title": {
            "standoff": 15
           },
           "zerolinecolor": "white",
           "zerolinewidth": 2
          },
          "yaxis": {
           "automargin": true,
           "gridcolor": "white",
           "linecolor": "white",
           "ticks": "",
           "title": {
            "standoff": 15
           },
           "zerolinecolor": "white",
           "zerolinewidth": 2
          }
         }
        },
        "xaxis": {
         "anchor": "y",
         "domain": [
          0,
          1
         ],
         "title": {
          "text": "first_release"
         }
        },
        "yaxis": {
         "anchor": "x",
         "domain": [
          0,
          1
         ],
         "title": {
          "text": "value"
         }
        }
       }
      }
     },
     "metadata": {},
     "output_type": "display_data"
    }
   ],
   "source": [
    "fig = px.line(df, x=\"first_release\", y=[\"Pkg_J\",\"Cor_J\",\"GFX_J\",\"RAM_J\"], text=\"python_version\")\n",
    "fig.update_traces(textposition=\"bottom right\")\n",
    "fig.show()"
   ]
  },
  {
   "attachments": {},
   "cell_type": "markdown",
   "metadata": {},
   "source": [
    "### Time elapsed and more parameters through different Python versions"
   ]
  },
  {
   "cell_type": "code",
   "execution_count": 20,
   "metadata": {},
   "outputs": [
    {
     "data": {
      "application/vnd.plotly.v1+json": {
       "config": {
        "plotlyServerURL": "https://plot.ly"
       },
       "data": [
        {
         "hovertemplate": "variable=time_elapsed<br>python_version=%{x}<br>value=%{y}<br>text=%{text}<extra></extra>",
         "legendgroup": "time_elapsed",
         "line": {
          "color": "#636efa",
          "dash": "solid"
         },
         "marker": {
          "symbol": "circle"
         },
         "mode": "text+markers+lines",
         "name": "time_elapsed",
         "orientation": "v",
         "showlegend": true,
         "text": [
          2011,
          2020,
          2009,
          2019,
          2020,
          2021,
          2022,
          2022,
          2022,
          2023,
          2023,
          2023,
          2023
         ],
         "textposition": "bottom right",
         "type": "scatter",
         "x": [
          "2.5.6",
          "2.7.18",
          "3.0.1",
          "3.4.10",
          "3.5.10",
          "3.6.15",
          "3.7.16",
          "3.8.16",
          "3.9.16",
          "3.10.11",
          "3.11.3",
          "3.12.0b1",
          "3.13.0a0"
         ],
         "xaxis": "x",
         "y": [
          479.61496,
          425.678408,
          568.032331,
          467.307295,
          471.275601,
          453.81216,
          443.662878,
          515.991584,
          508.880494,
          508.644763,
          258.717028,
          301.811331,
          277.392607
         ],
         "yaxis": "y"
        },
        {
         "hovertemplate": "variable=Avg_MHz<br>python_version=%{x}<br>value=%{y}<br>text=%{text}<extra></extra>",
         "legendgroup": "Avg_MHz",
         "line": {
          "color": "#EF553B",
          "dash": "solid"
         },
         "marker": {
          "symbol": "circle"
         },
         "mode": "text+markers+lines",
         "name": "Avg_MHz",
         "orientation": "v",
         "showlegend": true,
         "text": [
          2011,
          2020,
          2009,
          2019,
          2020,
          2021,
          2022,
          2022,
          2022,
          2023,
          2023,
          2023,
          2023
         ],
         "textposition": "bottom right",
         "type": "scatter",
         "x": [
          "2.5.6",
          "2.7.18",
          "3.0.1",
          "3.4.10",
          "3.5.10",
          "3.6.15",
          "3.7.16",
          "3.8.16",
          "3.9.16",
          "3.10.11",
          "3.11.3",
          "3.12.0b1",
          "3.13.0a0"
         ],
         "xaxis": "x",
         "y": [
          501,
          469,
          464,
          466,
          468,
          470,
          469,
          468,
          469,
          468,
          491,
          509,
          513
         ],
         "yaxis": "y"
        },
        {
         "hovertemplate": "variable=Busy%<br>python_version=%{x}<br>value=%{y}<br>text=%{text}<extra></extra>",
         "legendgroup": "Busy%",
         "line": {
          "color": "#00cc96",
          "dash": "solid"
         },
         "marker": {
          "symbol": "circle"
         },
         "mode": "text+markers+lines",
         "name": "Busy%",
         "orientation": "v",
         "showlegend": true,
         "text": [
          2011,
          2020,
          2009,
          2019,
          2020,
          2021,
          2022,
          2022,
          2022,
          2023,
          2023,
          2023,
          2023
         ],
         "textposition": "bottom right",
         "type": "scatter",
         "x": [
          "2.5.6",
          "2.7.18",
          "3.0.1",
          "3.4.10",
          "3.5.10",
          "3.6.15",
          "3.7.16",
          "3.8.16",
          "3.9.16",
          "3.10.11",
          "3.11.3",
          "3.12.0b1",
          "3.13.0a0"
         ],
         "xaxis": "x",
         "y": [
          13.01,
          13.2,
          13.25,
          13.02,
          13.13,
          13.07,
          13.04,
          13.18,
          13.2,
          13.04,
          13.16,
          13.42,
          12.94
         ],
         "yaxis": "y"
        },
        {
         "hovertemplate": "variable=Bzy_MHz<br>python_version=%{x}<br>value=%{y}<br>text=%{text}<extra></extra>",
         "legendgroup": "Bzy_MHz",
         "line": {
          "color": "#ab63fa",
          "dash": "solid"
         },
         "marker": {
          "symbol": "circle"
         },
         "mode": "text+markers+lines",
         "name": "Bzy_MHz",
         "orientation": "v",
         "showlegend": true,
         "text": [
          2011,
          2020,
          2009,
          2019,
          2020,
          2021,
          2022,
          2022,
          2022,
          2023,
          2023,
          2023,
          2023
         ],
         "textposition": "bottom right",
         "type": "scatter",
         "x": [
          "2.5.6",
          "2.7.18",
          "3.0.1",
          "3.4.10",
          "3.5.10",
          "3.6.15",
          "3.7.16",
          "3.8.16",
          "3.9.16",
          "3.10.11",
          "3.11.3",
          "3.12.0b1",
          "3.13.0a0"
         ],
         "xaxis": "x",
         "y": [
          3854,
          3554,
          3502,
          3578,
          3568,
          3594,
          3597,
          3550,
          3553,
          3591,
          3729,
          3794,
          3963
         ],
         "yaxis": "y"
        },
        {
         "hovertemplate": "variable=IPC<br>python_version=%{x}<br>value=%{y}<br>text=%{text}<extra></extra>",
         "legendgroup": "IPC",
         "line": {
          "color": "#FFA15A",
          "dash": "solid"
         },
         "marker": {
          "symbol": "circle"
         },
         "mode": "text+markers+lines",
         "name": "IPC",
         "orientation": "v",
         "showlegend": true,
         "text": [
          2011,
          2020,
          2009,
          2019,
          2020,
          2021,
          2022,
          2022,
          2022,
          2023,
          2023,
          2023,
          2023
         ],
         "textposition": "bottom right",
         "type": "scatter",
         "x": [
          "2.5.6",
          "2.7.18",
          "3.0.1",
          "3.4.10",
          "3.5.10",
          "3.6.15",
          "3.7.16",
          "3.8.16",
          "3.9.16",
          "3.10.11",
          "3.11.3",
          "3.12.0b1",
          "3.13.0a0"
         ],
         "xaxis": "x",
         "y": [
          1.87,
          2.01,
          1.71,
          1.85,
          1.82,
          1.85,
          1.93,
          1.79,
          1.87,
          1.84,
          1.91,
          1.68,
          1.84
         ],
         "yaxis": "y"
        },
        {
         "hovertemplate": "variable=IRQ<br>python_version=%{x}<br>value=%{y}<br>text=%{text}<extra></extra>",
         "legendgroup": "IRQ",
         "line": {
          "color": "#19d3f3",
          "dash": "solid"
         },
         "marker": {
          "symbol": "circle"
         },
         "mode": "text+markers+lines",
         "name": "IRQ",
         "orientation": "v",
         "showlegend": true,
         "text": [
          2011,
          2020,
          2009,
          2019,
          2020,
          2021,
          2022,
          2022,
          2022,
          2023,
          2023,
          2023,
          2023
         ],
         "textposition": "bottom right",
         "type": "scatter",
         "x": [
          "2.5.6",
          "2.7.18",
          "3.0.1",
          "3.4.10",
          "3.5.10",
          "3.6.15",
          "3.7.16",
          "3.8.16",
          "3.9.16",
          "3.10.11",
          "3.11.3",
          "3.12.0b1",
          "3.13.0a0"
         ],
         "xaxis": "x",
         "y": [
          2237823,
          1832397,
          2405011,
          1960552,
          2054803,
          1998232,
          1959757,
          2292899,
          2143175,
          2215355,
          1245882,
          1588189,
          1343179
         ],
         "yaxis": "y"
        },
        {
         "hovertemplate": "variable=POLL<br>python_version=%{x}<br>value=%{y}<br>text=%{text}<extra></extra>",
         "legendgroup": "POLL",
         "line": {
          "color": "#FF6692",
          "dash": "solid"
         },
         "marker": {
          "symbol": "circle"
         },
         "mode": "text+markers+lines",
         "name": "POLL",
         "orientation": "v",
         "showlegend": true,
         "text": [
          2011,
          2020,
          2009,
          2019,
          2020,
          2021,
          2022,
          2022,
          2022,
          2023,
          2023,
          2023,
          2023
         ],
         "textposition": "bottom right",
         "type": "scatter",
         "x": [
          "2.5.6",
          "2.7.18",
          "3.0.1",
          "3.4.10",
          "3.5.10",
          "3.6.15",
          "3.7.16",
          "3.8.16",
          "3.9.16",
          "3.10.11",
          "3.11.3",
          "3.12.0b1",
          "3.13.0a0"
         ],
         "xaxis": "x",
         "y": [
          5610,
          10437,
          3857,
          3654,
          5080,
          2322,
          1709,
          2879,
          2961,
          5313,
          2264,
          3099,
          2652
         ],
         "yaxis": "y"
        }
       ],
       "layout": {
        "legend": {
         "title": {
          "text": "variable"
         },
         "tracegroupgap": 0
        },
        "margin": {
         "t": 60
        },
        "template": {
         "data": {
          "bar": [
           {
            "error_x": {
             "color": "#2a3f5f"
            },
            "error_y": {
             "color": "#2a3f5f"
            },
            "marker": {
             "line": {
              "color": "#E5ECF6",
              "width": 0.5
             },
             "pattern": {
              "fillmode": "overlay",
              "size": 10,
              "solidity": 0.2
             }
            },
            "type": "bar"
           }
          ],
          "barpolar": [
           {
            "marker": {
             "line": {
              "color": "#E5ECF6",
              "width": 0.5
             },
             "pattern": {
              "fillmode": "overlay",
              "size": 10,
              "solidity": 0.2
             }
            },
            "type": "barpolar"
           }
          ],
          "carpet": [
           {
            "aaxis": {
             "endlinecolor": "#2a3f5f",
             "gridcolor": "white",
             "linecolor": "white",
             "minorgridcolor": "white",
             "startlinecolor": "#2a3f5f"
            },
            "baxis": {
             "endlinecolor": "#2a3f5f",
             "gridcolor": "white",
             "linecolor": "white",
             "minorgridcolor": "white",
             "startlinecolor": "#2a3f5f"
            },
            "type": "carpet"
           }
          ],
          "choropleth": [
           {
            "colorbar": {
             "outlinewidth": 0,
             "ticks": ""
            },
            "type": "choropleth"
           }
          ],
          "contour": [
           {
            "colorbar": {
             "outlinewidth": 0,
             "ticks": ""
            },
            "colorscale": [
             [
              0,
              "#0d0887"
             ],
             [
              0.1111111111111111,
              "#46039f"
             ],
             [
              0.2222222222222222,
              "#7201a8"
             ],
             [
              0.3333333333333333,
              "#9c179e"
             ],
             [
              0.4444444444444444,
              "#bd3786"
             ],
             [
              0.5555555555555556,
              "#d8576b"
             ],
             [
              0.6666666666666666,
              "#ed7953"
             ],
             [
              0.7777777777777778,
              "#fb9f3a"
             ],
             [
              0.8888888888888888,
              "#fdca26"
             ],
             [
              1,
              "#f0f921"
             ]
            ],
            "type": "contour"
           }
          ],
          "contourcarpet": [
           {
            "colorbar": {
             "outlinewidth": 0,
             "ticks": ""
            },
            "type": "contourcarpet"
           }
          ],
          "heatmap": [
           {
            "colorbar": {
             "outlinewidth": 0,
             "ticks": ""
            },
            "colorscale": [
             [
              0,
              "#0d0887"
             ],
             [
              0.1111111111111111,
              "#46039f"
             ],
             [
              0.2222222222222222,
              "#7201a8"
             ],
             [
              0.3333333333333333,
              "#9c179e"
             ],
             [
              0.4444444444444444,
              "#bd3786"
             ],
             [
              0.5555555555555556,
              "#d8576b"
             ],
             [
              0.6666666666666666,
              "#ed7953"
             ],
             [
              0.7777777777777778,
              "#fb9f3a"
             ],
             [
              0.8888888888888888,
              "#fdca26"
             ],
             [
              1,
              "#f0f921"
             ]
            ],
            "type": "heatmap"
           }
          ],
          "heatmapgl": [
           {
            "colorbar": {
             "outlinewidth": 0,
             "ticks": ""
            },
            "colorscale": [
             [
              0,
              "#0d0887"
             ],
             [
              0.1111111111111111,
              "#46039f"
             ],
             [
              0.2222222222222222,
              "#7201a8"
             ],
             [
              0.3333333333333333,
              "#9c179e"
             ],
             [
              0.4444444444444444,
              "#bd3786"
             ],
             [
              0.5555555555555556,
              "#d8576b"
             ],
             [
              0.6666666666666666,
              "#ed7953"
             ],
             [
              0.7777777777777778,
              "#fb9f3a"
             ],
             [
              0.8888888888888888,
              "#fdca26"
             ],
             [
              1,
              "#f0f921"
             ]
            ],
            "type": "heatmapgl"
           }
          ],
          "histogram": [
           {
            "marker": {
             "pattern": {
              "fillmode": "overlay",
              "size": 10,
              "solidity": 0.2
             }
            },
            "type": "histogram"
           }
          ],
          "histogram2d": [
           {
            "colorbar": {
             "outlinewidth": 0,
             "ticks": ""
            },
            "colorscale": [
             [
              0,
              "#0d0887"
             ],
             [
              0.1111111111111111,
              "#46039f"
             ],
             [
              0.2222222222222222,
              "#7201a8"
             ],
             [
              0.3333333333333333,
              "#9c179e"
             ],
             [
              0.4444444444444444,
              "#bd3786"
             ],
             [
              0.5555555555555556,
              "#d8576b"
             ],
             [
              0.6666666666666666,
              "#ed7953"
             ],
             [
              0.7777777777777778,
              "#fb9f3a"
             ],
             [
              0.8888888888888888,
              "#fdca26"
             ],
             [
              1,
              "#f0f921"
             ]
            ],
            "type": "histogram2d"
           }
          ],
          "histogram2dcontour": [
           {
            "colorbar": {
             "outlinewidth": 0,
             "ticks": ""
            },
            "colorscale": [
             [
              0,
              "#0d0887"
             ],
             [
              0.1111111111111111,
              "#46039f"
             ],
             [
              0.2222222222222222,
              "#7201a8"
             ],
             [
              0.3333333333333333,
              "#9c179e"
             ],
             [
              0.4444444444444444,
              "#bd3786"
             ],
             [
              0.5555555555555556,
              "#d8576b"
             ],
             [
              0.6666666666666666,
              "#ed7953"
             ],
             [
              0.7777777777777778,
              "#fb9f3a"
             ],
             [
              0.8888888888888888,
              "#fdca26"
             ],
             [
              1,
              "#f0f921"
             ]
            ],
            "type": "histogram2dcontour"
           }
          ],
          "mesh3d": [
           {
            "colorbar": {
             "outlinewidth": 0,
             "ticks": ""
            },
            "type": "mesh3d"
           }
          ],
          "parcoords": [
           {
            "line": {
             "colorbar": {
              "outlinewidth": 0,
              "ticks": ""
             }
            },
            "type": "parcoords"
           }
          ],
          "pie": [
           {
            "automargin": true,
            "type": "pie"
           }
          ],
          "scatter": [
           {
            "fillpattern": {
             "fillmode": "overlay",
             "size": 10,
             "solidity": 0.2
            },
            "type": "scatter"
           }
          ],
          "scatter3d": [
           {
            "line": {
             "colorbar": {
              "outlinewidth": 0,
              "ticks": ""
             }
            },
            "marker": {
             "colorbar": {
              "outlinewidth": 0,
              "ticks": ""
             }
            },
            "type": "scatter3d"
           }
          ],
          "scattercarpet": [
           {
            "marker": {
             "colorbar": {
              "outlinewidth": 0,
              "ticks": ""
             }
            },
            "type": "scattercarpet"
           }
          ],
          "scattergeo": [
           {
            "marker": {
             "colorbar": {
              "outlinewidth": 0,
              "ticks": ""
             }
            },
            "type": "scattergeo"
           }
          ],
          "scattergl": [
           {
            "marker": {
             "colorbar": {
              "outlinewidth": 0,
              "ticks": ""
             }
            },
            "type": "scattergl"
           }
          ],
          "scattermapbox": [
           {
            "marker": {
             "colorbar": {
              "outlinewidth": 0,
              "ticks": ""
             }
            },
            "type": "scattermapbox"
           }
          ],
          "scatterpolar": [
           {
            "marker": {
             "colorbar": {
              "outlinewidth": 0,
              "ticks": ""
             }
            },
            "type": "scatterpolar"
           }
          ],
          "scatterpolargl": [
           {
            "marker": {
             "colorbar": {
              "outlinewidth": 0,
              "ticks": ""
             }
            },
            "type": "scatterpolargl"
           }
          ],
          "scatterternary": [
           {
            "marker": {
             "colorbar": {
              "outlinewidth": 0,
              "ticks": ""
             }
            },
            "type": "scatterternary"
           }
          ],
          "surface": [
           {
            "colorbar": {
             "outlinewidth": 0,
             "ticks": ""
            },
            "colorscale": [
             [
              0,
              "#0d0887"
             ],
             [
              0.1111111111111111,
              "#46039f"
             ],
             [
              0.2222222222222222,
              "#7201a8"
             ],
             [
              0.3333333333333333,
              "#9c179e"
             ],
             [
              0.4444444444444444,
              "#bd3786"
             ],
             [
              0.5555555555555556,
              "#d8576b"
             ],
             [
              0.6666666666666666,
              "#ed7953"
             ],
             [
              0.7777777777777778,
              "#fb9f3a"
             ],
             [
              0.8888888888888888,
              "#fdca26"
             ],
             [
              1,
              "#f0f921"
             ]
            ],
            "type": "surface"
           }
          ],
          "table": [
           {
            "cells": {
             "fill": {
              "color": "#EBF0F8"
             },
             "line": {
              "color": "white"
             }
            },
            "header": {
             "fill": {
              "color": "#C8D4E3"
             },
             "line": {
              "color": "white"
             }
            },
            "type": "table"
           }
          ]
         },
         "layout": {
          "annotationdefaults": {
           "arrowcolor": "#2a3f5f",
           "arrowhead": 0,
           "arrowwidth": 1
          },
          "autotypenumbers": "strict",
          "coloraxis": {
           "colorbar": {
            "outlinewidth": 0,
            "ticks": ""
           }
          },
          "colorscale": {
           "diverging": [
            [
             0,
             "#8e0152"
            ],
            [
             0.1,
             "#c51b7d"
            ],
            [
             0.2,
             "#de77ae"
            ],
            [
             0.3,
             "#f1b6da"
            ],
            [
             0.4,
             "#fde0ef"
            ],
            [
             0.5,
             "#f7f7f7"
            ],
            [
             0.6,
             "#e6f5d0"
            ],
            [
             0.7,
             "#b8e186"
            ],
            [
             0.8,
             "#7fbc41"
            ],
            [
             0.9,
             "#4d9221"
            ],
            [
             1,
             "#276419"
            ]
           ],
           "sequential": [
            [
             0,
             "#0d0887"
            ],
            [
             0.1111111111111111,
             "#46039f"
            ],
            [
             0.2222222222222222,
             "#7201a8"
            ],
            [
             0.3333333333333333,
             "#9c179e"
            ],
            [
             0.4444444444444444,
             "#bd3786"
            ],
            [
             0.5555555555555556,
             "#d8576b"
            ],
            [
             0.6666666666666666,
             "#ed7953"
            ],
            [
             0.7777777777777778,
             "#fb9f3a"
            ],
            [
             0.8888888888888888,
             "#fdca26"
            ],
            [
             1,
             "#f0f921"
            ]
           ],
           "sequentialminus": [
            [
             0,
             "#0d0887"
            ],
            [
             0.1111111111111111,
             "#46039f"
            ],
            [
             0.2222222222222222,
             "#7201a8"
            ],
            [
             0.3333333333333333,
             "#9c179e"
            ],
            [
             0.4444444444444444,
             "#bd3786"
            ],
            [
             0.5555555555555556,
             "#d8576b"
            ],
            [
             0.6666666666666666,
             "#ed7953"
            ],
            [
             0.7777777777777778,
             "#fb9f3a"
            ],
            [
             0.8888888888888888,
             "#fdca26"
            ],
            [
             1,
             "#f0f921"
            ]
           ]
          },
          "colorway": [
           "#636efa",
           "#EF553B",
           "#00cc96",
           "#ab63fa",
           "#FFA15A",
           "#19d3f3",
           "#FF6692",
           "#B6E880",
           "#FF97FF",
           "#FECB52"
          ],
          "font": {
           "color": "#2a3f5f"
          },
          "geo": {
           "bgcolor": "white",
           "lakecolor": "white",
           "landcolor": "#E5ECF6",
           "showlakes": true,
           "showland": true,
           "subunitcolor": "white"
          },
          "hoverlabel": {
           "align": "left"
          },
          "hovermode": "closest",
          "mapbox": {
           "style": "light"
          },
          "paper_bgcolor": "white",
          "plot_bgcolor": "#E5ECF6",
          "polar": {
           "angularaxis": {
            "gridcolor": "white",
            "linecolor": "white",
            "ticks": ""
           },
           "bgcolor": "#E5ECF6",
           "radialaxis": {
            "gridcolor": "white",
            "linecolor": "white",
            "ticks": ""
           }
          },
          "scene": {
           "xaxis": {
            "backgroundcolor": "#E5ECF6",
            "gridcolor": "white",
            "gridwidth": 2,
            "linecolor": "white",
            "showbackground": true,
            "ticks": "",
            "zerolinecolor": "white"
           },
           "yaxis": {
            "backgroundcolor": "#E5ECF6",
            "gridcolor": "white",
            "gridwidth": 2,
            "linecolor": "white",
            "showbackground": true,
            "ticks": "",
            "zerolinecolor": "white"
           },
           "zaxis": {
            "backgroundcolor": "#E5ECF6",
            "gridcolor": "white",
            "gridwidth": 2,
            "linecolor": "white",
            "showbackground": true,
            "ticks": "",
            "zerolinecolor": "white"
           }
          },
          "shapedefaults": {
           "line": {
            "color": "#2a3f5f"
           }
          },
          "ternary": {
           "aaxis": {
            "gridcolor": "white",
            "linecolor": "white",
            "ticks": ""
           },
           "baxis": {
            "gridcolor": "white",
            "linecolor": "white",
            "ticks": ""
           },
           "bgcolor": "#E5ECF6",
           "caxis": {
            "gridcolor": "white",
            "linecolor": "white",
            "ticks": ""
           }
          },
          "title": {
           "x": 0.05
          },
          "xaxis": {
           "automargin": true,
           "gridcolor": "white",
           "linecolor": "white",
           "ticks": "",
           "title": {
            "standoff": 15
           },
           "zerolinecolor": "white",
           "zerolinewidth": 2
          },
          "yaxis": {
           "automargin": true,
           "gridcolor": "white",
           "linecolor": "white",
           "ticks": "",
           "title": {
            "standoff": 15
           },
           "zerolinecolor": "white",
           "zerolinewidth": 2
          }
         }
        },
        "xaxis": {
         "anchor": "y",
         "domain": [
          0,
          1
         ],
         "title": {
          "text": "python_version"
         }
        },
        "yaxis": {
         "anchor": "x",
         "domain": [
          0,
          1
         ],
         "title": {
          "text": "value"
         }
        }
       }
      }
     },
     "metadata": {},
     "output_type": "display_data"
    },
    {
     "data": {
      "text/plain": [
       "'test1.html'"
      ]
     },
     "execution_count": 20,
     "metadata": {},
     "output_type": "execute_result"
    }
   ],
   "source": [
    "fig = px.line(df, x=\"python_version\", y=[\"time_elapsed\",\"Avg_MHz\",\"Busy%\",\"Bzy_MHz\",\"IPC\",\"IRQ\",\"POLL\"], text=pd.to_datetime(df['release_date']).dt.year)\n",
    "fig.update_traces(textposition=\"bottom right\")\n",
    "fig.show()\n",
    "#plotly.offline.plot(fig, filename='test1.html')"
   ]
  },
  {
   "attachments": {},
   "cell_type": "markdown",
   "metadata": {},
   "source": [
    "### More parameters through different Python versions"
   ]
  },
  {
   "cell_type": "code",
   "execution_count": 21,
   "metadata": {},
   "outputs": [
    {
     "data": {
      "application/vnd.plotly.v1+json": {
       "config": {
        "plotlyServerURL": "https://plot.ly"
       },
       "data": [
        {
         "hovertemplate": "variable=C1<br>python_version=%{x}<br>value=%{y}<br>text=%{text}<extra></extra>",
         "legendgroup": "C1",
         "line": {
          "color": "#636efa",
          "dash": "solid"
         },
         "marker": {
          "symbol": "circle"
         },
         "mode": "text+markers+lines",
         "name": "C1",
         "orientation": "v",
         "showlegend": true,
         "text": [
          2011,
          2020,
          2009,
          2019,
          2020,
          2021,
          2022,
          2022,
          2022,
          2023,
          2023,
          2023,
          2023
         ],
         "textposition": "bottom right",
         "type": "scatter",
         "x": [
          "2.5.6",
          "2.7.18",
          "3.0.1",
          "3.4.10",
          "3.5.10",
          "3.6.15",
          "3.7.16",
          "3.8.16",
          "3.9.16",
          "3.10.11",
          "3.11.3",
          "3.12.0b1",
          "3.13.0a0"
         ],
         "xaxis": "x",
         "y": [
          67375,
          23037,
          35706,
          13907,
          20530,
          14216,
          12847,
          22196,
          30369,
          13158,
          15115,
          44841,
          18348
         ],
         "yaxis": "y"
        },
        {
         "hovertemplate": "variable=C1E<br>python_version=%{x}<br>value=%{y}<br>text=%{text}<extra></extra>",
         "legendgroup": "C1E",
         "line": {
          "color": "#EF553B",
          "dash": "solid"
         },
         "marker": {
          "symbol": "circle"
         },
         "mode": "text+markers+lines",
         "name": "C1E",
         "orientation": "v",
         "showlegend": true,
         "text": [
          2011,
          2020,
          2009,
          2019,
          2020,
          2021,
          2022,
          2022,
          2022,
          2023,
          2023,
          2023,
          2023
         ],
         "textposition": "bottom right",
         "type": "scatter",
         "x": [
          "2.5.6",
          "2.7.18",
          "3.0.1",
          "3.4.10",
          "3.5.10",
          "3.6.15",
          "3.7.16",
          "3.8.16",
          "3.9.16",
          "3.10.11",
          "3.11.3",
          "3.12.0b1",
          "3.13.0a0"
         ],
         "xaxis": "x",
         "y": [
          26141,
          12791,
          24957,
          8650,
          18792,
          12432,
          11740,
          15828,
          20927,
          12430,
          12997,
          27148,
          11693
         ],
         "yaxis": "y"
        },
        {
         "hovertemplate": "variable=C3<br>python_version=%{x}<br>value=%{y}<br>text=%{text}<extra></extra>",
         "legendgroup": "C3",
         "line": {
          "color": "#00cc96",
          "dash": "solid"
         },
         "marker": {
          "symbol": "circle"
         },
         "mode": "text+markers+lines",
         "name": "C3",
         "orientation": "v",
         "showlegend": true,
         "text": [
          2011,
          2020,
          2009,
          2019,
          2020,
          2021,
          2022,
          2022,
          2022,
          2023,
          2023,
          2023,
          2023
         ],
         "textposition": "bottom right",
         "type": "scatter",
         "x": [
          "2.5.6",
          "2.7.18",
          "3.0.1",
          "3.4.10",
          "3.5.10",
          "3.6.15",
          "3.7.16",
          "3.8.16",
          "3.9.16",
          "3.10.11",
          "3.11.3",
          "3.12.0b1",
          "3.13.0a0"
         ],
         "xaxis": "x",
         "y": [
          28807,
          11806,
          19580,
          9912,
          22935,
          13229,
          12935,
          15510,
          16494,
          13737,
          14845,
          30518,
          12150
         ],
         "yaxis": "y"
        },
        {
         "hovertemplate": "variable=C6<br>python_version=%{x}<br>value=%{y}<br>text=%{text}<extra></extra>",
         "legendgroup": "C6",
         "line": {
          "color": "#ab63fa",
          "dash": "solid"
         },
         "marker": {
          "symbol": "circle"
         },
         "mode": "text+markers+lines",
         "name": "C6",
         "orientation": "v",
         "showlegend": true,
         "text": [
          2011,
          2020,
          2009,
          2019,
          2020,
          2021,
          2022,
          2022,
          2022,
          2023,
          2023,
          2023,
          2023
         ],
         "textposition": "bottom right",
         "type": "scatter",
         "x": [
          "2.5.6",
          "2.7.18",
          "3.0.1",
          "3.4.10",
          "3.5.10",
          "3.6.15",
          "3.7.16",
          "3.8.16",
          "3.9.16",
          "3.10.11",
          "3.11.3",
          "3.12.0b1",
          "3.13.0a0"
         ],
         "xaxis": "x",
         "y": [
          949069,
          820943,
          1095284,
          893244,
          927180,
          892915,
          879295,
          1010871,
          982175,
          999343,
          525297,
          698512,
          578462
         ],
         "yaxis": "y"
        },
        {
         "hovertemplate": "variable=C7s<br>python_version=%{x}<br>value=%{y}<br>text=%{text}<extra></extra>",
         "legendgroup": "C7s",
         "line": {
          "color": "#FFA15A",
          "dash": "solid"
         },
         "marker": {
          "symbol": "circle"
         },
         "mode": "text+markers+lines",
         "name": "C7s",
         "orientation": "v",
         "showlegend": true,
         "text": [
          2011,
          2020,
          2009,
          2019,
          2020,
          2021,
          2022,
          2022,
          2022,
          2023,
          2023,
          2023,
          2023
         ],
         "textposition": "bottom right",
         "type": "scatter",
         "x": [
          "2.5.6",
          "2.7.18",
          "3.0.1",
          "3.4.10",
          "3.5.10",
          "3.6.15",
          "3.7.16",
          "3.8.16",
          "3.9.16",
          "3.10.11",
          "3.11.3",
          "3.12.0b1",
          "3.13.0a0"
         ],
         "xaxis": "x",
         "y": [
          349,
          270,
          453,
          312,
          339,
          295,
          175,
          210,
          165,
          172,
          89,
          118,
          128
         ],
         "yaxis": "y"
        },
        {
         "hovertemplate": "variable=C8<br>python_version=%{x}<br>value=%{y}<br>text=%{text}<extra></extra>",
         "legendgroup": "C8",
         "line": {
          "color": "#19d3f3",
          "dash": "solid"
         },
         "marker": {
          "symbol": "circle"
         },
         "mode": "text+markers+lines",
         "name": "C8",
         "orientation": "v",
         "showlegend": true,
         "text": [
          2011,
          2020,
          2009,
          2019,
          2020,
          2021,
          2022,
          2022,
          2022,
          2023,
          2023,
          2023,
          2023
         ],
         "textposition": "bottom right",
         "type": "scatter",
         "x": [
          "2.5.6",
          "2.7.18",
          "3.0.1",
          "3.4.10",
          "3.5.10",
          "3.6.15",
          "3.7.16",
          "3.8.16",
          "3.9.16",
          "3.10.11",
          "3.11.3",
          "3.12.0b1",
          "3.13.0a0"
         ],
         "xaxis": "x",
         "y": [
          889364,
          747454,
          1002951,
          824708,
          866601,
          841191,
          829131,
          970894,
          893133,
          937385,
          530814,
          672348,
          593265
         ],
         "yaxis": "y"
        }
       ],
       "layout": {
        "legend": {
         "title": {
          "text": "variable"
         },
         "tracegroupgap": 0
        },
        "margin": {
         "t": 60
        },
        "template": {
         "data": {
          "bar": [
           {
            "error_x": {
             "color": "#2a3f5f"
            },
            "error_y": {
             "color": "#2a3f5f"
            },
            "marker": {
             "line": {
              "color": "#E5ECF6",
              "width": 0.5
             },
             "pattern": {
              "fillmode": "overlay",
              "size": 10,
              "solidity": 0.2
             }
            },
            "type": "bar"
           }
          ],
          "barpolar": [
           {
            "marker": {
             "line": {
              "color": "#E5ECF6",
              "width": 0.5
             },
             "pattern": {
              "fillmode": "overlay",
              "size": 10,
              "solidity": 0.2
             }
            },
            "type": "barpolar"
           }
          ],
          "carpet": [
           {
            "aaxis": {
             "endlinecolor": "#2a3f5f",
             "gridcolor": "white",
             "linecolor": "white",
             "minorgridcolor": "white",
             "startlinecolor": "#2a3f5f"
            },
            "baxis": {
             "endlinecolor": "#2a3f5f",
             "gridcolor": "white",
             "linecolor": "white",
             "minorgridcolor": "white",
             "startlinecolor": "#2a3f5f"
            },
            "type": "carpet"
           }
          ],
          "choropleth": [
           {
            "colorbar": {
             "outlinewidth": 0,
             "ticks": ""
            },
            "type": "choropleth"
           }
          ],
          "contour": [
           {
            "colorbar": {
             "outlinewidth": 0,
             "ticks": ""
            },
            "colorscale": [
             [
              0,
              "#0d0887"
             ],
             [
              0.1111111111111111,
              "#46039f"
             ],
             [
              0.2222222222222222,
              "#7201a8"
             ],
             [
              0.3333333333333333,
              "#9c179e"
             ],
             [
              0.4444444444444444,
              "#bd3786"
             ],
             [
              0.5555555555555556,
              "#d8576b"
             ],
             [
              0.6666666666666666,
              "#ed7953"
             ],
             [
              0.7777777777777778,
              "#fb9f3a"
             ],
             [
              0.8888888888888888,
              "#fdca26"
             ],
             [
              1,
              "#f0f921"
             ]
            ],
            "type": "contour"
           }
          ],
          "contourcarpet": [
           {
            "colorbar": {
             "outlinewidth": 0,
             "ticks": ""
            },
            "type": "contourcarpet"
           }
          ],
          "heatmap": [
           {
            "colorbar": {
             "outlinewidth": 0,
             "ticks": ""
            },
            "colorscale": [
             [
              0,
              "#0d0887"
             ],
             [
              0.1111111111111111,
              "#46039f"
             ],
             [
              0.2222222222222222,
              "#7201a8"
             ],
             [
              0.3333333333333333,
              "#9c179e"
             ],
             [
              0.4444444444444444,
              "#bd3786"
             ],
             [
              0.5555555555555556,
              "#d8576b"
             ],
             [
              0.6666666666666666,
              "#ed7953"
             ],
             [
              0.7777777777777778,
              "#fb9f3a"
             ],
             [
              0.8888888888888888,
              "#fdca26"
             ],
             [
              1,
              "#f0f921"
             ]
            ],
            "type": "heatmap"
           }
          ],
          "heatmapgl": [
           {
            "colorbar": {
             "outlinewidth": 0,
             "ticks": ""
            },
            "colorscale": [
             [
              0,
              "#0d0887"
             ],
             [
              0.1111111111111111,
              "#46039f"
             ],
             [
              0.2222222222222222,
              "#7201a8"
             ],
             [
              0.3333333333333333,
              "#9c179e"
             ],
             [
              0.4444444444444444,
              "#bd3786"
             ],
             [
              0.5555555555555556,
              "#d8576b"
             ],
             [
              0.6666666666666666,
              "#ed7953"
             ],
             [
              0.7777777777777778,
              "#fb9f3a"
             ],
             [
              0.8888888888888888,
              "#fdca26"
             ],
             [
              1,
              "#f0f921"
             ]
            ],
            "type": "heatmapgl"
           }
          ],
          "histogram": [
           {
            "marker": {
             "pattern": {
              "fillmode": "overlay",
              "size": 10,
              "solidity": 0.2
             }
            },
            "type": "histogram"
           }
          ],
          "histogram2d": [
           {
            "colorbar": {
             "outlinewidth": 0,
             "ticks": ""
            },
            "colorscale": [
             [
              0,
              "#0d0887"
             ],
             [
              0.1111111111111111,
              "#46039f"
             ],
             [
              0.2222222222222222,
              "#7201a8"
             ],
             [
              0.3333333333333333,
              "#9c179e"
             ],
             [
              0.4444444444444444,
              "#bd3786"
             ],
             [
              0.5555555555555556,
              "#d8576b"
             ],
             [
              0.6666666666666666,
              "#ed7953"
             ],
             [
              0.7777777777777778,
              "#fb9f3a"
             ],
             [
              0.8888888888888888,
              "#fdca26"
             ],
             [
              1,
              "#f0f921"
             ]
            ],
            "type": "histogram2d"
           }
          ],
          "histogram2dcontour": [
           {
            "colorbar": {
             "outlinewidth": 0,
             "ticks": ""
            },
            "colorscale": [
             [
              0,
              "#0d0887"
             ],
             [
              0.1111111111111111,
              "#46039f"
             ],
             [
              0.2222222222222222,
              "#7201a8"
             ],
             [
              0.3333333333333333,
              "#9c179e"
             ],
             [
              0.4444444444444444,
              "#bd3786"
             ],
             [
              0.5555555555555556,
              "#d8576b"
             ],
             [
              0.6666666666666666,
              "#ed7953"
             ],
             [
              0.7777777777777778,
              "#fb9f3a"
             ],
             [
              0.8888888888888888,
              "#fdca26"
             ],
             [
              1,
              "#f0f921"
             ]
            ],
            "type": "histogram2dcontour"
           }
          ],
          "mesh3d": [
           {
            "colorbar": {
             "outlinewidth": 0,
             "ticks": ""
            },
            "type": "mesh3d"
           }
          ],
          "parcoords": [
           {
            "line": {
             "colorbar": {
              "outlinewidth": 0,
              "ticks": ""
             }
            },
            "type": "parcoords"
           }
          ],
          "pie": [
           {
            "automargin": true,
            "type": "pie"
           }
          ],
          "scatter": [
           {
            "fillpattern": {
             "fillmode": "overlay",
             "size": 10,
             "solidity": 0.2
            },
            "type": "scatter"
           }
          ],
          "scatter3d": [
           {
            "line": {
             "colorbar": {
              "outlinewidth": 0,
              "ticks": ""
             }
            },
            "marker": {
             "colorbar": {
              "outlinewidth": 0,
              "ticks": ""
             }
            },
            "type": "scatter3d"
           }
          ],
          "scattercarpet": [
           {
            "marker": {
             "colorbar": {
              "outlinewidth": 0,
              "ticks": ""
             }
            },
            "type": "scattercarpet"
           }
          ],
          "scattergeo": [
           {
            "marker": {
             "colorbar": {
              "outlinewidth": 0,
              "ticks": ""
             }
            },
            "type": "scattergeo"
           }
          ],
          "scattergl": [
           {
            "marker": {
             "colorbar": {
              "outlinewidth": 0,
              "ticks": ""
             }
            },
            "type": "scattergl"
           }
          ],
          "scattermapbox": [
           {
            "marker": {
             "colorbar": {
              "outlinewidth": 0,
              "ticks": ""
             }
            },
            "type": "scattermapbox"
           }
          ],
          "scatterpolar": [
           {
            "marker": {
             "colorbar": {
              "outlinewidth": 0,
              "ticks": ""
             }
            },
            "type": "scatterpolar"
           }
          ],
          "scatterpolargl": [
           {
            "marker": {
             "colorbar": {
              "outlinewidth": 0,
              "ticks": ""
             }
            },
            "type": "scatterpolargl"
           }
          ],
          "scatterternary": [
           {
            "marker": {
             "colorbar": {
              "outlinewidth": 0,
              "ticks": ""
             }
            },
            "type": "scatterternary"
           }
          ],
          "surface": [
           {
            "colorbar": {
             "outlinewidth": 0,
             "ticks": ""
            },
            "colorscale": [
             [
              0,
              "#0d0887"
             ],
             [
              0.1111111111111111,
              "#46039f"
             ],
             [
              0.2222222222222222,
              "#7201a8"
             ],
             [
              0.3333333333333333,
              "#9c179e"
             ],
             [
              0.4444444444444444,
              "#bd3786"
             ],
             [
              0.5555555555555556,
              "#d8576b"
             ],
             [
              0.6666666666666666,
              "#ed7953"
             ],
             [
              0.7777777777777778,
              "#fb9f3a"
             ],
             [
              0.8888888888888888,
              "#fdca26"
             ],
             [
              1,
              "#f0f921"
             ]
            ],
            "type": "surface"
           }
          ],
          "table": [
           {
            "cells": {
             "fill": {
              "color": "#EBF0F8"
             },
             "line": {
              "color": "white"
             }
            },
            "header": {
             "fill": {
              "color": "#C8D4E3"
             },
             "line": {
              "color": "white"
             }
            },
            "type": "table"
           }
          ]
         },
         "layout": {
          "annotationdefaults": {
           "arrowcolor": "#2a3f5f",
           "arrowhead": 0,
           "arrowwidth": 1
          },
          "autotypenumbers": "strict",
          "coloraxis": {
           "colorbar": {
            "outlinewidth": 0,
            "ticks": ""
           }
          },
          "colorscale": {
           "diverging": [
            [
             0,
             "#8e0152"
            ],
            [
             0.1,
             "#c51b7d"
            ],
            [
             0.2,
             "#de77ae"
            ],
            [
             0.3,
             "#f1b6da"
            ],
            [
             0.4,
             "#fde0ef"
            ],
            [
             0.5,
             "#f7f7f7"
            ],
            [
             0.6,
             "#e6f5d0"
            ],
            [
             0.7,
             "#b8e186"
            ],
            [
             0.8,
             "#7fbc41"
            ],
            [
             0.9,
             "#4d9221"
            ],
            [
             1,
             "#276419"
            ]
           ],
           "sequential": [
            [
             0,
             "#0d0887"
            ],
            [
             0.1111111111111111,
             "#46039f"
            ],
            [
             0.2222222222222222,
             "#7201a8"
            ],
            [
             0.3333333333333333,
             "#9c179e"
            ],
            [
             0.4444444444444444,
             "#bd3786"
            ],
            [
             0.5555555555555556,
             "#d8576b"
            ],
            [
             0.6666666666666666,
             "#ed7953"
            ],
            [
             0.7777777777777778,
             "#fb9f3a"
            ],
            [
             0.8888888888888888,
             "#fdca26"
            ],
            [
             1,
             "#f0f921"
            ]
           ],
           "sequentialminus": [
            [
             0,
             "#0d0887"
            ],
            [
             0.1111111111111111,
             "#46039f"
            ],
            [
             0.2222222222222222,
             "#7201a8"
            ],
            [
             0.3333333333333333,
             "#9c179e"
            ],
            [
             0.4444444444444444,
             "#bd3786"
            ],
            [
             0.5555555555555556,
             "#d8576b"
            ],
            [
             0.6666666666666666,
             "#ed7953"
            ],
            [
             0.7777777777777778,
             "#fb9f3a"
            ],
            [
             0.8888888888888888,
             "#fdca26"
            ],
            [
             1,
             "#f0f921"
            ]
           ]
          },
          "colorway": [
           "#636efa",
           "#EF553B",
           "#00cc96",
           "#ab63fa",
           "#FFA15A",
           "#19d3f3",
           "#FF6692",
           "#B6E880",
           "#FF97FF",
           "#FECB52"
          ],
          "font": {
           "color": "#2a3f5f"
          },
          "geo": {
           "bgcolor": "white",
           "lakecolor": "white",
           "landcolor": "#E5ECF6",
           "showlakes": true,
           "showland": true,
           "subunitcolor": "white"
          },
          "hoverlabel": {
           "align": "left"
          },
          "hovermode": "closest",
          "mapbox": {
           "style": "light"
          },
          "paper_bgcolor": "white",
          "plot_bgcolor": "#E5ECF6",
          "polar": {
           "angularaxis": {
            "gridcolor": "white",
            "linecolor": "white",
            "ticks": ""
           },
           "bgcolor": "#E5ECF6",
           "radialaxis": {
            "gridcolor": "white",
            "linecolor": "white",
            "ticks": ""
           }
          },
          "scene": {
           "xaxis": {
            "backgroundcolor": "#E5ECF6",
            "gridcolor": "white",
            "gridwidth": 2,
            "linecolor": "white",
            "showbackground": true,
            "ticks": "",
            "zerolinecolor": "white"
           },
           "yaxis": {
            "backgroundcolor": "#E5ECF6",
            "gridcolor": "white",
            "gridwidth": 2,
            "linecolor": "white",
            "showbackground": true,
            "ticks": "",
            "zerolinecolor": "white"
           },
           "zaxis": {
            "backgroundcolor": "#E5ECF6",
            "gridcolor": "white",
            "gridwidth": 2,
            "linecolor": "white",
            "showbackground": true,
            "ticks": "",
            "zerolinecolor": "white"
           }
          },
          "shapedefaults": {
           "line": {
            "color": "#2a3f5f"
           }
          },
          "ternary": {
           "aaxis": {
            "gridcolor": "white",
            "linecolor": "white",
            "ticks": ""
           },
           "baxis": {
            "gridcolor": "white",
            "linecolor": "white",
            "ticks": ""
           },
           "bgcolor": "#E5ECF6",
           "caxis": {
            "gridcolor": "white",
            "linecolor": "white",
            "ticks": ""
           }
          },
          "title": {
           "x": 0.05
          },
          "xaxis": {
           "automargin": true,
           "gridcolor": "white",
           "linecolor": "white",
           "ticks": "",
           "title": {
            "standoff": 15
           },
           "zerolinecolor": "white",
           "zerolinewidth": 2
          },
          "yaxis": {
           "automargin": true,
           "gridcolor": "white",
           "linecolor": "white",
           "ticks": "",
           "title": {
            "standoff": 15
           },
           "zerolinecolor": "white",
           "zerolinewidth": 2
          }
         }
        },
        "xaxis": {
         "anchor": "y",
         "domain": [
          0,
          1
         ],
         "title": {
          "text": "python_version"
         }
        },
        "yaxis": {
         "anchor": "x",
         "domain": [
          0,
          1
         ],
         "title": {
          "text": "value"
         }
        }
       }
      }
     },
     "metadata": {},
     "output_type": "display_data"
    }
   ],
   "source": [
    "fig = px.line(df, x=\"python_version\", y=[\"C1\",\"C1E\",\"C3\",\"C6\",\"C7s\",\"C8\"], text=pd.to_datetime(df['release_date']).dt.year)\n",
    "fig.update_traces(textposition=\"bottom right\")\n",
    "fig.show()"
   ]
  },
  {
   "attachments": {},
   "cell_type": "markdown",
   "metadata": {},
   "source": [
    "### Temperature through different Python versions"
   ]
  },
  {
   "cell_type": "code",
   "execution_count": 22,
   "metadata": {},
   "outputs": [
    {
     "data": {
      "application/vnd.plotly.v1+json": {
       "config": {
        "plotlyServerURL": "https://plot.ly"
       },
       "data": [
        {
         "hovertemplate": "variable=CoreTmp<br>python_version=%{x}<br>value=%{y}<br>text=%{text}<extra></extra>",
         "legendgroup": "CoreTmp",
         "line": {
          "color": "#636efa",
          "dash": "solid"
         },
         "marker": {
          "symbol": "circle"
         },
         "mode": "text+markers+lines",
         "name": "CoreTmp",
         "orientation": "v",
         "showlegend": true,
         "text": [
          2011,
          2020,
          2009,
          2019,
          2020,
          2021,
          2022,
          2022,
          2022,
          2023,
          2023,
          2023,
          2023
         ],
         "textposition": "bottom right",
         "type": "scatter",
         "x": [
          "2.5.6",
          "2.7.18",
          "3.0.1",
          "3.4.10",
          "3.5.10",
          "3.6.15",
          "3.7.16",
          "3.8.16",
          "3.9.16",
          "3.10.11",
          "3.11.3",
          "3.12.0b1",
          "3.13.0a0"
         ],
         "xaxis": "x",
         "y": [
          82,
          78,
          77,
          78,
          76,
          79,
          78,
          80,
          80,
          80,
          81,
          80,
          92
         ],
         "yaxis": "y"
        },
        {
         "hovertemplate": "variable=PkgTmp<br>python_version=%{x}<br>value=%{y}<br>text=%{text}<extra></extra>",
         "legendgroup": "PkgTmp",
         "line": {
          "color": "#EF553B",
          "dash": "solid"
         },
         "marker": {
          "symbol": "circle"
         },
         "mode": "text+markers+lines",
         "name": "PkgTmp",
         "orientation": "v",
         "showlegend": true,
         "text": [
          2011,
          2020,
          2009,
          2019,
          2020,
          2021,
          2022,
          2022,
          2022,
          2023,
          2023,
          2023,
          2023
         ],
         "textposition": "bottom right",
         "type": "scatter",
         "x": [
          "2.5.6",
          "2.7.18",
          "3.0.1",
          "3.4.10",
          "3.5.10",
          "3.6.15",
          "3.7.16",
          "3.8.16",
          "3.9.16",
          "3.10.11",
          "3.11.3",
          "3.12.0b1",
          "3.13.0a0"
         ],
         "xaxis": "x",
         "y": [
          85,
          78,
          77,
          78,
          77,
          79,
          79,
          81,
          81,
          80,
          81,
          81,
          94
         ],
         "yaxis": "y"
        }
       ],
       "layout": {
        "legend": {
         "title": {
          "text": "variable"
         },
         "tracegroupgap": 0
        },
        "margin": {
         "t": 60
        },
        "template": {
         "data": {
          "bar": [
           {
            "error_x": {
             "color": "#2a3f5f"
            },
            "error_y": {
             "color": "#2a3f5f"
            },
            "marker": {
             "line": {
              "color": "#E5ECF6",
              "width": 0.5
             },
             "pattern": {
              "fillmode": "overlay",
              "size": 10,
              "solidity": 0.2
             }
            },
            "type": "bar"
           }
          ],
          "barpolar": [
           {
            "marker": {
             "line": {
              "color": "#E5ECF6",
              "width": 0.5
             },
             "pattern": {
              "fillmode": "overlay",
              "size": 10,
              "solidity": 0.2
             }
            },
            "type": "barpolar"
           }
          ],
          "carpet": [
           {
            "aaxis": {
             "endlinecolor": "#2a3f5f",
             "gridcolor": "white",
             "linecolor": "white",
             "minorgridcolor": "white",
             "startlinecolor": "#2a3f5f"
            },
            "baxis": {
             "endlinecolor": "#2a3f5f",
             "gridcolor": "white",
             "linecolor": "white",
             "minorgridcolor": "white",
             "startlinecolor": "#2a3f5f"
            },
            "type": "carpet"
           }
          ],
          "choropleth": [
           {
            "colorbar": {
             "outlinewidth": 0,
             "ticks": ""
            },
            "type": "choropleth"
           }
          ],
          "contour": [
           {
            "colorbar": {
             "outlinewidth": 0,
             "ticks": ""
            },
            "colorscale": [
             [
              0,
              "#0d0887"
             ],
             [
              0.1111111111111111,
              "#46039f"
             ],
             [
              0.2222222222222222,
              "#7201a8"
             ],
             [
              0.3333333333333333,
              "#9c179e"
             ],
             [
              0.4444444444444444,
              "#bd3786"
             ],
             [
              0.5555555555555556,
              "#d8576b"
             ],
             [
              0.6666666666666666,
              "#ed7953"
             ],
             [
              0.7777777777777778,
              "#fb9f3a"
             ],
             [
              0.8888888888888888,
              "#fdca26"
             ],
             [
              1,
              "#f0f921"
             ]
            ],
            "type": "contour"
           }
          ],
          "contourcarpet": [
           {
            "colorbar": {
             "outlinewidth": 0,
             "ticks": ""
            },
            "type": "contourcarpet"
           }
          ],
          "heatmap": [
           {
            "colorbar": {
             "outlinewidth": 0,
             "ticks": ""
            },
            "colorscale": [
             [
              0,
              "#0d0887"
             ],
             [
              0.1111111111111111,
              "#46039f"
             ],
             [
              0.2222222222222222,
              "#7201a8"
             ],
             [
              0.3333333333333333,
              "#9c179e"
             ],
             [
              0.4444444444444444,
              "#bd3786"
             ],
             [
              0.5555555555555556,
              "#d8576b"
             ],
             [
              0.6666666666666666,
              "#ed7953"
             ],
             [
              0.7777777777777778,
              "#fb9f3a"
             ],
             [
              0.8888888888888888,
              "#fdca26"
             ],
             [
              1,
              "#f0f921"
             ]
            ],
            "type": "heatmap"
           }
          ],
          "heatmapgl": [
           {
            "colorbar": {
             "outlinewidth": 0,
             "ticks": ""
            },
            "colorscale": [
             [
              0,
              "#0d0887"
             ],
             [
              0.1111111111111111,
              "#46039f"
             ],
             [
              0.2222222222222222,
              "#7201a8"
             ],
             [
              0.3333333333333333,
              "#9c179e"
             ],
             [
              0.4444444444444444,
              "#bd3786"
             ],
             [
              0.5555555555555556,
              "#d8576b"
             ],
             [
              0.6666666666666666,
              "#ed7953"
             ],
             [
              0.7777777777777778,
              "#fb9f3a"
             ],
             [
              0.8888888888888888,
              "#fdca26"
             ],
             [
              1,
              "#f0f921"
             ]
            ],
            "type": "heatmapgl"
           }
          ],
          "histogram": [
           {
            "marker": {
             "pattern": {
              "fillmode": "overlay",
              "size": 10,
              "solidity": 0.2
             }
            },
            "type": "histogram"
           }
          ],
          "histogram2d": [
           {
            "colorbar": {
             "outlinewidth": 0,
             "ticks": ""
            },
            "colorscale": [
             [
              0,
              "#0d0887"
             ],
             [
              0.1111111111111111,
              "#46039f"
             ],
             [
              0.2222222222222222,
              "#7201a8"
             ],
             [
              0.3333333333333333,
              "#9c179e"
             ],
             [
              0.4444444444444444,
              "#bd3786"
             ],
             [
              0.5555555555555556,
              "#d8576b"
             ],
             [
              0.6666666666666666,
              "#ed7953"
             ],
             [
              0.7777777777777778,
              "#fb9f3a"
             ],
             [
              0.8888888888888888,
              "#fdca26"
             ],
             [
              1,
              "#f0f921"
             ]
            ],
            "type": "histogram2d"
           }
          ],
          "histogram2dcontour": [
           {
            "colorbar": {
             "outlinewidth": 0,
             "ticks": ""
            },
            "colorscale": [
             [
              0,
              "#0d0887"
             ],
             [
              0.1111111111111111,
              "#46039f"
             ],
             [
              0.2222222222222222,
              "#7201a8"
             ],
             [
              0.3333333333333333,
              "#9c179e"
             ],
             [
              0.4444444444444444,
              "#bd3786"
             ],
             [
              0.5555555555555556,
              "#d8576b"
             ],
             [
              0.6666666666666666,
              "#ed7953"
             ],
             [
              0.7777777777777778,
              "#fb9f3a"
             ],
             [
              0.8888888888888888,
              "#fdca26"
             ],
             [
              1,
              "#f0f921"
             ]
            ],
            "type": "histogram2dcontour"
           }
          ],
          "mesh3d": [
           {
            "colorbar": {
             "outlinewidth": 0,
             "ticks": ""
            },
            "type": "mesh3d"
           }
          ],
          "parcoords": [
           {
            "line": {
             "colorbar": {
              "outlinewidth": 0,
              "ticks": ""
             }
            },
            "type": "parcoords"
           }
          ],
          "pie": [
           {
            "automargin": true,
            "type": "pie"
           }
          ],
          "scatter": [
           {
            "fillpattern": {
             "fillmode": "overlay",
             "size": 10,
             "solidity": 0.2
            },
            "type": "scatter"
           }
          ],
          "scatter3d": [
           {
            "line": {
             "colorbar": {
              "outlinewidth": 0,
              "ticks": ""
             }
            },
            "marker": {
             "colorbar": {
              "outlinewidth": 0,
              "ticks": ""
             }
            },
            "type": "scatter3d"
           }
          ],
          "scattercarpet": [
           {
            "marker": {
             "colorbar": {
              "outlinewidth": 0,
              "ticks": ""
             }
            },
            "type": "scattercarpet"
           }
          ],
          "scattergeo": [
           {
            "marker": {
             "colorbar": {
              "outlinewidth": 0,
              "ticks": ""
             }
            },
            "type": "scattergeo"
           }
          ],
          "scattergl": [
           {
            "marker": {
             "colorbar": {
              "outlinewidth": 0,
              "ticks": ""
             }
            },
            "type": "scattergl"
           }
          ],
          "scattermapbox": [
           {
            "marker": {
             "colorbar": {
              "outlinewidth": 0,
              "ticks": ""
             }
            },
            "type": "scattermapbox"
           }
          ],
          "scatterpolar": [
           {
            "marker": {
             "colorbar": {
              "outlinewidth": 0,
              "ticks": ""
             }
            },
            "type": "scatterpolar"
           }
          ],
          "scatterpolargl": [
           {
            "marker": {
             "colorbar": {
              "outlinewidth": 0,
              "ticks": ""
             }
            },
            "type": "scatterpolargl"
           }
          ],
          "scatterternary": [
           {
            "marker": {
             "colorbar": {
              "outlinewidth": 0,
              "ticks": ""
             }
            },
            "type": "scatterternary"
           }
          ],
          "surface": [
           {
            "colorbar": {
             "outlinewidth": 0,
             "ticks": ""
            },
            "colorscale": [
             [
              0,
              "#0d0887"
             ],
             [
              0.1111111111111111,
              "#46039f"
             ],
             [
              0.2222222222222222,
              "#7201a8"
             ],
             [
              0.3333333333333333,
              "#9c179e"
             ],
             [
              0.4444444444444444,
              "#bd3786"
             ],
             [
              0.5555555555555556,
              "#d8576b"
             ],
             [
              0.6666666666666666,
              "#ed7953"
             ],
             [
              0.7777777777777778,
              "#fb9f3a"
             ],
             [
              0.8888888888888888,
              "#fdca26"
             ],
             [
              1,
              "#f0f921"
             ]
            ],
            "type": "surface"
           }
          ],
          "table": [
           {
            "cells": {
             "fill": {
              "color": "#EBF0F8"
             },
             "line": {
              "color": "white"
             }
            },
            "header": {
             "fill": {
              "color": "#C8D4E3"
             },
             "line": {
              "color": "white"
             }
            },
            "type": "table"
           }
          ]
         },
         "layout": {
          "annotationdefaults": {
           "arrowcolor": "#2a3f5f",
           "arrowhead": 0,
           "arrowwidth": 1
          },
          "autotypenumbers": "strict",
          "coloraxis": {
           "colorbar": {
            "outlinewidth": 0,
            "ticks": ""
           }
          },
          "colorscale": {
           "diverging": [
            [
             0,
             "#8e0152"
            ],
            [
             0.1,
             "#c51b7d"
            ],
            [
             0.2,
             "#de77ae"
            ],
            [
             0.3,
             "#f1b6da"
            ],
            [
             0.4,
             "#fde0ef"
            ],
            [
             0.5,
             "#f7f7f7"
            ],
            [
             0.6,
             "#e6f5d0"
            ],
            [
             0.7,
             "#b8e186"
            ],
            [
             0.8,
             "#7fbc41"
            ],
            [
             0.9,
             "#4d9221"
            ],
            [
             1,
             "#276419"
            ]
           ],
           "sequential": [
            [
             0,
             "#0d0887"
            ],
            [
             0.1111111111111111,
             "#46039f"
            ],
            [
             0.2222222222222222,
             "#7201a8"
            ],
            [
             0.3333333333333333,
             "#9c179e"
            ],
            [
             0.4444444444444444,
             "#bd3786"
            ],
            [
             0.5555555555555556,
             "#d8576b"
            ],
            [
             0.6666666666666666,
             "#ed7953"
            ],
            [
             0.7777777777777778,
             "#fb9f3a"
            ],
            [
             0.8888888888888888,
             "#fdca26"
            ],
            [
             1,
             "#f0f921"
            ]
           ],
           "sequentialminus": [
            [
             0,
             "#0d0887"
            ],
            [
             0.1111111111111111,
             "#46039f"
            ],
            [
             0.2222222222222222,
             "#7201a8"
            ],
            [
             0.3333333333333333,
             "#9c179e"
            ],
            [
             0.4444444444444444,
             "#bd3786"
            ],
            [
             0.5555555555555556,
             "#d8576b"
            ],
            [
             0.6666666666666666,
             "#ed7953"
            ],
            [
             0.7777777777777778,
             "#fb9f3a"
            ],
            [
             0.8888888888888888,
             "#fdca26"
            ],
            [
             1,
             "#f0f921"
            ]
           ]
          },
          "colorway": [
           "#636efa",
           "#EF553B",
           "#00cc96",
           "#ab63fa",
           "#FFA15A",
           "#19d3f3",
           "#FF6692",
           "#B6E880",
           "#FF97FF",
           "#FECB52"
          ],
          "font": {
           "color": "#2a3f5f"
          },
          "geo": {
           "bgcolor": "white",
           "lakecolor": "white",
           "landcolor": "#E5ECF6",
           "showlakes": true,
           "showland": true,
           "subunitcolor": "white"
          },
          "hoverlabel": {
           "align": "left"
          },
          "hovermode": "closest",
          "mapbox": {
           "style": "light"
          },
          "paper_bgcolor": "white",
          "plot_bgcolor": "#E5ECF6",
          "polar": {
           "angularaxis": {
            "gridcolor": "white",
            "linecolor": "white",
            "ticks": ""
           },
           "bgcolor": "#E5ECF6",
           "radialaxis": {
            "gridcolor": "white",
            "linecolor": "white",
            "ticks": ""
           }
          },
          "scene": {
           "xaxis": {
            "backgroundcolor": "#E5ECF6",
            "gridcolor": "white",
            "gridwidth": 2,
            "linecolor": "white",
            "showbackground": true,
            "ticks": "",
            "zerolinecolor": "white"
           },
           "yaxis": {
            "backgroundcolor": "#E5ECF6",
            "gridcolor": "white",
            "gridwidth": 2,
            "linecolor": "white",
            "showbackground": true,
            "ticks": "",
            "zerolinecolor": "white"
           },
           "zaxis": {
            "backgroundcolor": "#E5ECF6",
            "gridcolor": "white",
            "gridwidth": 2,
            "linecolor": "white",
            "showbackground": true,
            "ticks": "",
            "zerolinecolor": "white"
           }
          },
          "shapedefaults": {
           "line": {
            "color": "#2a3f5f"
           }
          },
          "ternary": {
           "aaxis": {
            "gridcolor": "white",
            "linecolor": "white",
            "ticks": ""
           },
           "baxis": {
            "gridcolor": "white",
            "linecolor": "white",
            "ticks": ""
           },
           "bgcolor": "#E5ECF6",
           "caxis": {
            "gridcolor": "white",
            "linecolor": "white",
            "ticks": ""
           }
          },
          "title": {
           "x": 0.05
          },
          "xaxis": {
           "automargin": true,
           "gridcolor": "white",
           "linecolor": "white",
           "ticks": "",
           "title": {
            "standoff": 15
           },
           "zerolinecolor": "white",
           "zerolinewidth": 2
          },
          "yaxis": {
           "automargin": true,
           "gridcolor": "white",
           "linecolor": "white",
           "ticks": "",
           "title": {
            "standoff": 15
           },
           "zerolinecolor": "white",
           "zerolinewidth": 2
          }
         }
        },
        "xaxis": {
         "anchor": "y",
         "domain": [
          0,
          1
         ],
         "title": {
          "text": "python_version"
         }
        },
        "yaxis": {
         "anchor": "x",
         "domain": [
          0,
          1
         ],
         "title": {
          "text": "value"
         }
        }
       }
      }
     },
     "metadata": {},
     "output_type": "display_data"
    }
   ],
   "source": [
    "fig = px.line(df, x=\"python_version\", y=[\"CoreTmp\",\"PkgTmp\"], text=pd.to_datetime(df['release_date']).dt.year)\n",
    "fig.update_traces(textposition=\"bottom right\")\n",
    "fig.show()"
   ]
  },
  {
   "attachments": {},
   "cell_type": "markdown",
   "metadata": {},
   "source": [
    "### More parameters through different Python versions"
   ]
  },
  {
   "cell_type": "code",
   "execution_count": 23,
   "metadata": {},
   "outputs": [
    {
     "data": {
      "application/vnd.plotly.v1+json": {
       "config": {
        "plotlyServerURL": "https://plot.ly"
       },
       "data": [
        {
         "hovertemplate": "variable=GFX%rc6<br>python_version=%{x}<br>value=%{y}<br>text=%{text}<extra></extra>",
         "legendgroup": "GFX%rc6",
         "line": {
          "color": "#636efa",
          "dash": "solid"
         },
         "marker": {
          "symbol": "circle"
         },
         "mode": "text+markers+lines",
         "name": "GFX%rc6",
         "orientation": "v",
         "showlegend": true,
         "text": [
          2011,
          2020,
          2009,
          2019,
          2020,
          2021,
          2022,
          2022,
          2022,
          2023,
          2023,
          2023,
          2023
         ],
         "textposition": "bottom right",
         "type": "scatter",
         "x": [
          "2.5.6",
          "2.7.18",
          "3.0.1",
          "3.4.10",
          "3.5.10",
          "3.6.15",
          "3.7.16",
          "3.8.16",
          "3.9.16",
          "3.10.11",
          "3.11.3",
          "3.12.0b1",
          "3.13.0a0"
         ],
         "xaxis": "x",
         "y": [
          99.36,
          99.87,
          99.81,
          99.86,
          99.95,
          99.92,
          99.92,
          99.95,
          99.88,
          99.91,
          99.8,
          99.77,
          99.71
         ],
         "yaxis": "y"
        },
        {
         "hovertemplate": "variable=GFXMHz<br>python_version=%{x}<br>value=%{y}<br>text=%{text}<extra></extra>",
         "legendgroup": "GFXMHz",
         "line": {
          "color": "#EF553B",
          "dash": "solid"
         },
         "marker": {
          "symbol": "circle"
         },
         "mode": "text+markers+lines",
         "name": "GFXMHz",
         "orientation": "v",
         "showlegend": true,
         "text": [
          2011,
          2020,
          2009,
          2019,
          2020,
          2021,
          2022,
          2022,
          2022,
          2023,
          2023,
          2023,
          2023
         ],
         "textposition": "bottom right",
         "type": "scatter",
         "x": [
          "2.5.6",
          "2.7.18",
          "3.0.1",
          "3.4.10",
          "3.5.10",
          "3.6.15",
          "3.7.16",
          "3.8.16",
          "3.9.16",
          "3.10.11",
          "3.11.3",
          "3.12.0b1",
          "3.13.0a0"
         ],
         "xaxis": "x",
         "y": [
          450,
          450,
          300,
          300,
          300,
          300,
          300,
          300,
          300,
          300,
          300,
          300,
          450
         ],
         "yaxis": "y"
        },
        {
         "hovertemplate": "variable=Totl%C0<br>python_version=%{x}<br>value=%{y}<br>text=%{text}<extra></extra>",
         "legendgroup": "Totl%C0",
         "line": {
          "color": "#00cc96",
          "dash": "solid"
         },
         "marker": {
          "symbol": "circle"
         },
         "mode": "text+markers+lines",
         "name": "Totl%C0",
         "orientation": "v",
         "showlegend": true,
         "text": [
          2011,
          2020,
          2009,
          2019,
          2020,
          2021,
          2022,
          2022,
          2022,
          2023,
          2023,
          2023,
          2023
         ],
         "textposition": "bottom right",
         "type": "scatter",
         "x": [
          "2.5.6",
          "2.7.18",
          "3.0.1",
          "3.4.10",
          "3.5.10",
          "3.6.15",
          "3.7.16",
          "3.8.16",
          "3.9.16",
          "3.10.11",
          "3.11.3",
          "3.12.0b1",
          "3.13.0a0"
         ],
         "xaxis": "x",
         "y": [
          103.6,
          104.87,
          105.06,
          103.62,
          104.39,
          104.01,
          103.86,
          104.85,
          104.52,
          103.9,
          104.37,
          105.92,
          102.59
         ],
         "yaxis": "y"
        },
        {
         "hovertemplate": "variable=Any%C0<br>python_version=%{x}<br>value=%{y}<br>text=%{text}<extra></extra>",
         "legendgroup": "Any%C0",
         "line": {
          "color": "#ab63fa",
          "dash": "solid"
         },
         "marker": {
          "symbol": "circle"
         },
         "mode": "text+markers+lines",
         "name": "Any%C0",
         "orientation": "v",
         "showlegend": true,
         "text": [
          2011,
          2020,
          2009,
          2019,
          2020,
          2021,
          2022,
          2022,
          2022,
          2023,
          2023,
          2023,
          2023
         ],
         "textposition": "bottom right",
         "type": "scatter",
         "x": [
          "2.5.6",
          "2.7.18",
          "3.0.1",
          "3.4.10",
          "3.5.10",
          "3.6.15",
          "3.7.16",
          "3.8.16",
          "3.9.16",
          "3.10.11",
          "3.11.3",
          "3.12.0b1",
          "3.13.0a0"
         ],
         "xaxis": "x",
         "y": [
          98.42,
          99.24,
          99.46,
          99.24,
          99.07,
          99.01,
          99,
          99.17,
          99.27,
          99.06,
          98.47,
          98.13,
          97.86
         ],
         "yaxis": "y"
        },
        {
         "hovertemplate": "variable=GFX%C0<br>python_version=%{x}<br>value=%{y}<br>text=%{text}<extra></extra>",
         "legendgroup": "GFX%C0",
         "line": {
          "color": "#FFA15A",
          "dash": "solid"
         },
         "marker": {
          "symbol": "circle"
         },
         "mode": "text+markers+lines",
         "name": "GFX%C0",
         "orientation": "v",
         "showlegend": true,
         "text": [
          2011,
          2020,
          2009,
          2019,
          2020,
          2021,
          2022,
          2022,
          2022,
          2023,
          2023,
          2023,
          2023
         ],
         "textposition": "bottom right",
         "type": "scatter",
         "x": [
          "2.5.6",
          "2.7.18",
          "3.0.1",
          "3.4.10",
          "3.5.10",
          "3.6.15",
          "3.7.16",
          "3.8.16",
          "3.9.16",
          "3.10.11",
          "3.11.3",
          "3.12.0b1",
          "3.13.0a0"
         ],
         "xaxis": "x",
         "y": [
          0.54,
          0.13,
          0.08,
          0.09,
          0.09,
          0.09,
          0.1,
          0.09,
          0.1,
          0.1,
          0.16,
          0.14,
          0.14
         ],
         "yaxis": "y"
        },
        {
         "hovertemplate": "variable=CPUGFX%<br>python_version=%{x}<br>value=%{y}<br>text=%{text}<extra></extra>",
         "legendgroup": "CPUGFX%",
         "line": {
          "color": "#19d3f3",
          "dash": "solid"
         },
         "marker": {
          "symbol": "circle"
         },
         "mode": "text+markers+lines",
         "name": "CPUGFX%",
         "orientation": "v",
         "showlegend": true,
         "text": [
          2011,
          2020,
          2009,
          2019,
          2020,
          2021,
          2022,
          2022,
          2022,
          2023,
          2023,
          2023,
          2023
         ],
         "textposition": "bottom right",
         "type": "scatter",
         "x": [
          "2.5.6",
          "2.7.18",
          "3.0.1",
          "3.4.10",
          "3.5.10",
          "3.6.15",
          "3.7.16",
          "3.8.16",
          "3.9.16",
          "3.10.11",
          "3.11.3",
          "3.12.0b1",
          "3.13.0a0"
         ],
         "xaxis": "x",
         "y": [
          0.54,
          0.12,
          0.08,
          0.09,
          0.09,
          0.09,
          0.1,
          0.08,
          0.09,
          0.09,
          0.15,
          0.13,
          0.14
         ],
         "yaxis": "y"
        }
       ],
       "layout": {
        "legend": {
         "title": {
          "text": "variable"
         },
         "tracegroupgap": 0
        },
        "margin": {
         "t": 60
        },
        "template": {
         "data": {
          "bar": [
           {
            "error_x": {
             "color": "#2a3f5f"
            },
            "error_y": {
             "color": "#2a3f5f"
            },
            "marker": {
             "line": {
              "color": "#E5ECF6",
              "width": 0.5
             },
             "pattern": {
              "fillmode": "overlay",
              "size": 10,
              "solidity": 0.2
             }
            },
            "type": "bar"
           }
          ],
          "barpolar": [
           {
            "marker": {
             "line": {
              "color": "#E5ECF6",
              "width": 0.5
             },
             "pattern": {
              "fillmode": "overlay",
              "size": 10,
              "solidity": 0.2
             }
            },
            "type": "barpolar"
           }
          ],
          "carpet": [
           {
            "aaxis": {
             "endlinecolor": "#2a3f5f",
             "gridcolor": "white",
             "linecolor": "white",
             "minorgridcolor": "white",
             "startlinecolor": "#2a3f5f"
            },
            "baxis": {
             "endlinecolor": "#2a3f5f",
             "gridcolor": "white",
             "linecolor": "white",
             "minorgridcolor": "white",
             "startlinecolor": "#2a3f5f"
            },
            "type": "carpet"
           }
          ],
          "choropleth": [
           {
            "colorbar": {
             "outlinewidth": 0,
             "ticks": ""
            },
            "type": "choropleth"
           }
          ],
          "contour": [
           {
            "colorbar": {
             "outlinewidth": 0,
             "ticks": ""
            },
            "colorscale": [
             [
              0,
              "#0d0887"
             ],
             [
              0.1111111111111111,
              "#46039f"
             ],
             [
              0.2222222222222222,
              "#7201a8"
             ],
             [
              0.3333333333333333,
              "#9c179e"
             ],
             [
              0.4444444444444444,
              "#bd3786"
             ],
             [
              0.5555555555555556,
              "#d8576b"
             ],
             [
              0.6666666666666666,
              "#ed7953"
             ],
             [
              0.7777777777777778,
              "#fb9f3a"
             ],
             [
              0.8888888888888888,
              "#fdca26"
             ],
             [
              1,
              "#f0f921"
             ]
            ],
            "type": "contour"
           }
          ],
          "contourcarpet": [
           {
            "colorbar": {
             "outlinewidth": 0,
             "ticks": ""
            },
            "type": "contourcarpet"
           }
          ],
          "heatmap": [
           {
            "colorbar": {
             "outlinewidth": 0,
             "ticks": ""
            },
            "colorscale": [
             [
              0,
              "#0d0887"
             ],
             [
              0.1111111111111111,
              "#46039f"
             ],
             [
              0.2222222222222222,
              "#7201a8"
             ],
             [
              0.3333333333333333,
              "#9c179e"
             ],
             [
              0.4444444444444444,
              "#bd3786"
             ],
             [
              0.5555555555555556,
              "#d8576b"
             ],
             [
              0.6666666666666666,
              "#ed7953"
             ],
             [
              0.7777777777777778,
              "#fb9f3a"
             ],
             [
              0.8888888888888888,
              "#fdca26"
             ],
             [
              1,
              "#f0f921"
             ]
            ],
            "type": "heatmap"
           }
          ],
          "heatmapgl": [
           {
            "colorbar": {
             "outlinewidth": 0,
             "ticks": ""
            },
            "colorscale": [
             [
              0,
              "#0d0887"
             ],
             [
              0.1111111111111111,
              "#46039f"
             ],
             [
              0.2222222222222222,
              "#7201a8"
             ],
             [
              0.3333333333333333,
              "#9c179e"
             ],
             [
              0.4444444444444444,
              "#bd3786"
             ],
             [
              0.5555555555555556,
              "#d8576b"
             ],
             [
              0.6666666666666666,
              "#ed7953"
             ],
             [
              0.7777777777777778,
              "#fb9f3a"
             ],
             [
              0.8888888888888888,
              "#fdca26"
             ],
             [
              1,
              "#f0f921"
             ]
            ],
            "type": "heatmapgl"
           }
          ],
          "histogram": [
           {
            "marker": {
             "pattern": {
              "fillmode": "overlay",
              "size": 10,
              "solidity": 0.2
             }
            },
            "type": "histogram"
           }
          ],
          "histogram2d": [
           {
            "colorbar": {
             "outlinewidth": 0,
             "ticks": ""
            },
            "colorscale": [
             [
              0,
              "#0d0887"
             ],
             [
              0.1111111111111111,
              "#46039f"
             ],
             [
              0.2222222222222222,
              "#7201a8"
             ],
             [
              0.3333333333333333,
              "#9c179e"
             ],
             [
              0.4444444444444444,
              "#bd3786"
             ],
             [
              0.5555555555555556,
              "#d8576b"
             ],
             [
              0.6666666666666666,
              "#ed7953"
             ],
             [
              0.7777777777777778,
              "#fb9f3a"
             ],
             [
              0.8888888888888888,
              "#fdca26"
             ],
             [
              1,
              "#f0f921"
             ]
            ],
            "type": "histogram2d"
           }
          ],
          "histogram2dcontour": [
           {
            "colorbar": {
             "outlinewidth": 0,
             "ticks": ""
            },
            "colorscale": [
             [
              0,
              "#0d0887"
             ],
             [
              0.1111111111111111,
              "#46039f"
             ],
             [
              0.2222222222222222,
              "#7201a8"
             ],
             [
              0.3333333333333333,
              "#9c179e"
             ],
             [
              0.4444444444444444,
              "#bd3786"
             ],
             [
              0.5555555555555556,
              "#d8576b"
             ],
             [
              0.6666666666666666,
              "#ed7953"
             ],
             [
              0.7777777777777778,
              "#fb9f3a"
             ],
             [
              0.8888888888888888,
              "#fdca26"
             ],
             [
              1,
              "#f0f921"
             ]
            ],
            "type": "histogram2dcontour"
           }
          ],
          "mesh3d": [
           {
            "colorbar": {
             "outlinewidth": 0,
             "ticks": ""
            },
            "type": "mesh3d"
           }
          ],
          "parcoords": [
           {
            "line": {
             "colorbar": {
              "outlinewidth": 0,
              "ticks": ""
             }
            },
            "type": "parcoords"
           }
          ],
          "pie": [
           {
            "automargin": true,
            "type": "pie"
           }
          ],
          "scatter": [
           {
            "fillpattern": {
             "fillmode": "overlay",
             "size": 10,
             "solidity": 0.2
            },
            "type": "scatter"
           }
          ],
          "scatter3d": [
           {
            "line": {
             "colorbar": {
              "outlinewidth": 0,
              "ticks": ""
             }
            },
            "marker": {
             "colorbar": {
              "outlinewidth": 0,
              "ticks": ""
             }
            },
            "type": "scatter3d"
           }
          ],
          "scattercarpet": [
           {
            "marker": {
             "colorbar": {
              "outlinewidth": 0,
              "ticks": ""
             }
            },
            "type": "scattercarpet"
           }
          ],
          "scattergeo": [
           {
            "marker": {
             "colorbar": {
              "outlinewidth": 0,
              "ticks": ""
             }
            },
            "type": "scattergeo"
           }
          ],
          "scattergl": [
           {
            "marker": {
             "colorbar": {
              "outlinewidth": 0,
              "ticks": ""
             }
            },
            "type": "scattergl"
           }
          ],
          "scattermapbox": [
           {
            "marker": {
             "colorbar": {
              "outlinewidth": 0,
              "ticks": ""
             }
            },
            "type": "scattermapbox"
           }
          ],
          "scatterpolar": [
           {
            "marker": {
             "colorbar": {
              "outlinewidth": 0,
              "ticks": ""
             }
            },
            "type": "scatterpolar"
           }
          ],
          "scatterpolargl": [
           {
            "marker": {
             "colorbar": {
              "outlinewidth": 0,
              "ticks": ""
             }
            },
            "type": "scatterpolargl"
           }
          ],
          "scatterternary": [
           {
            "marker": {
             "colorbar": {
              "outlinewidth": 0,
              "ticks": ""
             }
            },
            "type": "scatterternary"
           }
          ],
          "surface": [
           {
            "colorbar": {
             "outlinewidth": 0,
             "ticks": ""
            },
            "colorscale": [
             [
              0,
              "#0d0887"
             ],
             [
              0.1111111111111111,
              "#46039f"
             ],
             [
              0.2222222222222222,
              "#7201a8"
             ],
             [
              0.3333333333333333,
              "#9c179e"
             ],
             [
              0.4444444444444444,
              "#bd3786"
             ],
             [
              0.5555555555555556,
              "#d8576b"
             ],
             [
              0.6666666666666666,
              "#ed7953"
             ],
             [
              0.7777777777777778,
              "#fb9f3a"
             ],
             [
              0.8888888888888888,
              "#fdca26"
             ],
             [
              1,
              "#f0f921"
             ]
            ],
            "type": "surface"
           }
          ],
          "table": [
           {
            "cells": {
             "fill": {
              "color": "#EBF0F8"
             },
             "line": {
              "color": "white"
             }
            },
            "header": {
             "fill": {
              "color": "#C8D4E3"
             },
             "line": {
              "color": "white"
             }
            },
            "type": "table"
           }
          ]
         },
         "layout": {
          "annotationdefaults": {
           "arrowcolor": "#2a3f5f",
           "arrowhead": 0,
           "arrowwidth": 1
          },
          "autotypenumbers": "strict",
          "coloraxis": {
           "colorbar": {
            "outlinewidth": 0,
            "ticks": ""
           }
          },
          "colorscale": {
           "diverging": [
            [
             0,
             "#8e0152"
            ],
            [
             0.1,
             "#c51b7d"
            ],
            [
             0.2,
             "#de77ae"
            ],
            [
             0.3,
             "#f1b6da"
            ],
            [
             0.4,
             "#fde0ef"
            ],
            [
             0.5,
             "#f7f7f7"
            ],
            [
             0.6,
             "#e6f5d0"
            ],
            [
             0.7,
             "#b8e186"
            ],
            [
             0.8,
             "#7fbc41"
            ],
            [
             0.9,
             "#4d9221"
            ],
            [
             1,
             "#276419"
            ]
           ],
           "sequential": [
            [
             0,
             "#0d0887"
            ],
            [
             0.1111111111111111,
             "#46039f"
            ],
            [
             0.2222222222222222,
             "#7201a8"
            ],
            [
             0.3333333333333333,
             "#9c179e"
            ],
            [
             0.4444444444444444,
             "#bd3786"
            ],
            [
             0.5555555555555556,
             "#d8576b"
            ],
            [
             0.6666666666666666,
             "#ed7953"
            ],
            [
             0.7777777777777778,
             "#fb9f3a"
            ],
            [
             0.8888888888888888,
             "#fdca26"
            ],
            [
             1,
             "#f0f921"
            ]
           ],
           "sequentialminus": [
            [
             0,
             "#0d0887"
            ],
            [
             0.1111111111111111,
             "#46039f"
            ],
            [
             0.2222222222222222,
             "#7201a8"
            ],
            [
             0.3333333333333333,
             "#9c179e"
            ],
            [
             0.4444444444444444,
             "#bd3786"
            ],
            [
             0.5555555555555556,
             "#d8576b"
            ],
            [
             0.6666666666666666,
             "#ed7953"
            ],
            [
             0.7777777777777778,
             "#fb9f3a"
            ],
            [
             0.8888888888888888,
             "#fdca26"
            ],
            [
             1,
             "#f0f921"
            ]
           ]
          },
          "colorway": [
           "#636efa",
           "#EF553B",
           "#00cc96",
           "#ab63fa",
           "#FFA15A",
           "#19d3f3",
           "#FF6692",
           "#B6E880",
           "#FF97FF",
           "#FECB52"
          ],
          "font": {
           "color": "#2a3f5f"
          },
          "geo": {
           "bgcolor": "white",
           "lakecolor": "white",
           "landcolor": "#E5ECF6",
           "showlakes": true,
           "showland": true,
           "subunitcolor": "white"
          },
          "hoverlabel": {
           "align": "left"
          },
          "hovermode": "closest",
          "mapbox": {
           "style": "light"
          },
          "paper_bgcolor": "white",
          "plot_bgcolor": "#E5ECF6",
          "polar": {
           "angularaxis": {
            "gridcolor": "white",
            "linecolor": "white",
            "ticks": ""
           },
           "bgcolor": "#E5ECF6",
           "radialaxis": {
            "gridcolor": "white",
            "linecolor": "white",
            "ticks": ""
           }
          },
          "scene": {
           "xaxis": {
            "backgroundcolor": "#E5ECF6",
            "gridcolor": "white",
            "gridwidth": 2,
            "linecolor": "white",
            "showbackground": true,
            "ticks": "",
            "zerolinecolor": "white"
           },
           "yaxis": {
            "backgroundcolor": "#E5ECF6",
            "gridcolor": "white",
            "gridwidth": 2,
            "linecolor": "white",
            "showbackground": true,
            "ticks": "",
            "zerolinecolor": "white"
           },
           "zaxis": {
            "backgroundcolor": "#E5ECF6",
            "gridcolor": "white",
            "gridwidth": 2,
            "linecolor": "white",
            "showbackground": true,
            "ticks": "",
            "zerolinecolor": "white"
           }
          },
          "shapedefaults": {
           "line": {
            "color": "#2a3f5f"
           }
          },
          "ternary": {
           "aaxis": {
            "gridcolor": "white",
            "linecolor": "white",
            "ticks": ""
           },
           "baxis": {
            "gridcolor": "white",
            "linecolor": "white",
            "ticks": ""
           },
           "bgcolor": "#E5ECF6",
           "caxis": {
            "gridcolor": "white",
            "linecolor": "white",
            "ticks": ""
           }
          },
          "title": {
           "x": 0.05
          },
          "xaxis": {
           "automargin": true,
           "gridcolor": "white",
           "linecolor": "white",
           "ticks": "",
           "title": {
            "standoff": 15
           },
           "zerolinecolor": "white",
           "zerolinewidth": 2
          },
          "yaxis": {
           "automargin": true,
           "gridcolor": "white",
           "linecolor": "white",
           "ticks": "",
           "title": {
            "standoff": 15
           },
           "zerolinecolor": "white",
           "zerolinewidth": 2
          }
         }
        },
        "xaxis": {
         "anchor": "y",
         "domain": [
          0,
          1
         ],
         "title": {
          "text": "python_version"
         }
        },
        "yaxis": {
         "anchor": "x",
         "domain": [
          0,
          1
         ],
         "title": {
          "text": "value"
         }
        }
       }
      }
     },
     "metadata": {},
     "output_type": "display_data"
    }
   ],
   "source": [
    "fig = px.line(df, x=\"python_version\", y=[\"GFX%rc6\",\"GFXMHz\",\"Totl%C0\",\"Any%C0\",\"GFX%C0\",\"CPUGFX%\"], text=pd.to_datetime(df['release_date']).dt.year)\n",
    "fig.update_traces(textposition=\"bottom right\")\n",
    "fig.show()"
   ]
  },
  {
   "attachments": {},
   "cell_type": "markdown",
   "metadata": {},
   "source": [
    "## Correlations"
   ]
  },
  {
   "attachments": {},
   "cell_type": "markdown",
   "metadata": {},
   "source": [
    "### Energy"
   ]
  },
  {
   "cell_type": "code",
   "execution_count": 24,
   "metadata": {},
   "outputs": [],
   "source": [
    "energy = pd.concat([python_version,time_elapsed,energy_core,energy_pkg,energy_gfx,energy_ram], axis=1)"
   ]
  },
  {
   "attachments": {},
   "cell_type": "markdown",
   "metadata": {},
   "source": [
    "### CPU"
   ]
  },
  {
   "cell_type": "code",
   "execution_count": 25,
   "metadata": {},
   "outputs": [],
   "source": [
    "cpu = pd.concat([time_elapsed,avg_mhz,busy_mhz,busy_percent,ipc,irq,poll,c1,c1e,c3,c6,c7s,c8,coreTemperature,pkgTemperature,total_c0_percent,any_c0_percent,cpugfx_percent,gfx_c0_percent,gfx_percent,gfx_mhz], axis=1)"
   ]
  },
  {
   "attachments": {},
   "cell_type": "markdown",
   "metadata": {},
   "source": [
    "## Notes"
   ]
  },
  {
   "cell_type": "code",
   "execution_count": 26,
   "metadata": {},
   "outputs": [],
   "source": [
    "# Normalize the data\n",
    "# Observe the correlation between the values\n",
    "# Select which parameters\n",
    "# Find information regarding the memory consumption/usage\n",
    "# Select algorithms/application\n",
    "\n",
    "\n",
    "# MEMORY DATA\n",
    "# READ ABOUT THE CHANGES IN THE LAST PYTHON VERSIONS - FINDING THE REASON!!!!!\n",
    "# MEANING OF EACH MEASUREMENT\n"
   ]
  }
 ],
 "metadata": {
  "kernelspec": {
   "display_name": "Python 3 (Spyder)",
   "language": "python3",
   "name": "python3"
  },
  "language_info": {
   "codemirror_mode": {
    "name": "ipython",
    "version": 3
   },
   "file_extension": ".py",
   "mimetype": "text/x-python",
   "name": "python",
   "nbconvert_exporter": "python",
   "pygments_lexer": "ipython3",
   "version": "3.11.3"
  }
 },
 "nbformat": 4,
 "nbformat_minor": 4
}
