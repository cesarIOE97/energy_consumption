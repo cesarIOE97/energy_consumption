{
 "cells": [
  {
   "attachments": {},
   "cell_type": "markdown",
   "metadata": {},
   "source": [
    "# Analysis for Performance and Energy Consumption"
   ]
  },
  {
   "attachments": {},
   "cell_type": "markdown",
   "metadata": {},
   "source": [
    "## Extract information"
   ]
  },
  {
   "cell_type": "code",
   "execution_count": 26,
   "metadata": {},
   "outputs": [],
   "source": [
    "# Libraries\n",
    "import pandas as pd\n",
    "import matplotlib.pyplot as plt\n",
    "import seaborn as sns\n",
    "import plotly.express as px\n",
    "import plotly"
   ]
  },
  {
   "cell_type": "code",
   "execution_count": 27,
   "metadata": {},
   "outputs": [],
   "source": [
    "# Read the CSV df into a DataFrame\n",
    "df = pd.read_csv('../nbody_50000000/performance_data_allVersions_nbody.csv')\n",
    "\n",
    "# Mapping of Python versions to release dates\n",
    "release_dates = {\n",
    "    'Python 3.13.0a0': '2023-06-07',\n",
    "    'Python 3.12.0b1': '2023-05-22',\n",
    "    'Python 3.11.3': '2023-04-05',\n",
    "    'Python 3.10.11': '2023-04-05',\n",
    "    'Python 3.9.16': '2022-12-06',\n",
    "    'Python 3.8.16': '2022-12-06',\n",
    "    'Python 3.7.16': '2022-12-06',\n",
    "    'Python 3.6.15': '2021-09-04',\n",
    "    'Python 3.5.10': '2020-09-05',\n",
    "    'Python 3.4.10': '2019-03-18',\n",
    "    'Python 3.3.7': '2017-09-19',\n",
    "    'Python 3.2.6': '2014-10-11',\n",
    "    'Python 3.1.5': '2012-04-09',\n",
    "    'Python 3.0.1': '2009-02-13',\n",
    "    'Python 2.7.18': '2020-04-20',\n",
    "    'Python 2.6.9': '2013-10-29',\n",
    "    'Python 2.5.6': '2011-05-26',\n",
    "}\n",
    "\n",
    "# Mapping of Python versions to first releases\n",
    "first_release = {\n",
    "    'Python 3.13.0a0': '2023-06-07',\n",
    "    'Python 3.12.0b1': '2023-05-22',\n",
    "    'Python 3.11.3': '2022-10-24',\n",
    "    'Python 3.10.11': '2021-10-04',\n",
    "    'Python 3.9.16': '2020-10-05',\n",
    "    'Python 3.8.16': '2019-10-14',\n",
    "    'Python 3.7.16': '2018-06-27',\n",
    "    'Python 3.6.15': '2016-12-23',\n",
    "    'Python 3.5.10': '2015-09-13',\n",
    "    'Python 3.4.10': '2014-03-16',\n",
    "    'Python 3.3.7': '2012-09-29',\n",
    "    'Python 3.2.6': '2011-02-20',\n",
    "    'Python 3.1.5': '2009-06-27',\n",
    "    'Python 3.0.1': '2008-12-03',\n",
    "    'Python 2.7.18': '2010-07-04',\n",
    "    'Python 2.6.9': '2008-10-01',\n",
    "    'Python 2.5.6': '2006-09-19',\n",
    "}\n",
    "\n",
    "# Function to get release date for a given Python version\n",
    "def get_release_date(version):\n",
    "    return release_dates.get(version, 'Unknown')\n",
    "\n",
    "# Function to get release date for a given Python version\n",
    "def get_first_date(version):\n",
    "    return first_release.get(version, 'Unknown')\n",
    "\n",
    "# New column 'release_date' as the second \n",
    "df['release_date'] = df['python_version'].apply(get_release_date)\n",
    "df.insert(1, 'release_date', df.pop('release_date'))\n",
    "\n",
    "# New column 'first_date' as the second \n",
    "df['first_release'] = df['python_version'].apply(get_first_date)\n",
    "df.insert(2, 'first_release', df.pop('first_release'))\n",
    "\n",
    "# Convert date into datetime\n",
    "df['release_date'] = pd.to_datetime(df['release_date'])\n",
    "df['first_release'] = pd.to_datetime(df['first_release'])\n",
    "\n",
    "# Remove the word 'Python '\n",
    "df['python_version'] = df['python_version'].str.replace('Python ', '')\n",
    "df = df.replace('-',0)"
   ]
  },
  {
   "cell_type": "code",
   "execution_count": 28,
   "metadata": {},
   "outputs": [
    {
     "data": {
      "text/html": [
       "<div>\n",
       "<style scoped>\n",
       "    .dataframe tbody tr th:only-of-type {\n",
       "        vertical-align: middle;\n",
       "    }\n",
       "\n",
       "    .dataframe tbody tr th {\n",
       "        vertical-align: top;\n",
       "    }\n",
       "\n",
       "    .dataframe thead th {\n",
       "        text-align: right;\n",
       "    }\n",
       "</style>\n",
       "<table border=\"1\" class=\"dataframe\">\n",
       "  <thead>\n",
       "    <tr style=\"text-align: right;\">\n",
       "      <th></th>\n",
       "      <th>python_version</th>\n",
       "      <th>release_date</th>\n",
       "      <th>first_release</th>\n",
       "      <th>appplication</th>\n",
       "    </tr>\n",
       "  </thead>\n",
       "  <tbody>\n",
       "    <tr>\n",
       "      <th>0</th>\n",
       "      <td>2.5.6</td>\n",
       "      <td>2011-05-26</td>\n",
       "      <td>2006-09-19</td>\n",
       "      <td>nbody.py 50000000</td>\n",
       "    </tr>\n",
       "    <tr>\n",
       "      <th>1</th>\n",
       "      <td>2.7.18</td>\n",
       "      <td>2020-04-20</td>\n",
       "      <td>2010-07-04</td>\n",
       "      <td>nbody.py 50000000</td>\n",
       "    </tr>\n",
       "    <tr>\n",
       "      <th>2</th>\n",
       "      <td>3.0.1</td>\n",
       "      <td>2009-02-13</td>\n",
       "      <td>2008-12-03</td>\n",
       "      <td>nbody.py 50000000</td>\n",
       "    </tr>\n",
       "    <tr>\n",
       "      <th>3</th>\n",
       "      <td>3.4.10</td>\n",
       "      <td>2019-03-18</td>\n",
       "      <td>2014-03-16</td>\n",
       "      <td>nbody.py 50000000</td>\n",
       "    </tr>\n",
       "    <tr>\n",
       "      <th>4</th>\n",
       "      <td>3.5.10</td>\n",
       "      <td>2020-09-05</td>\n",
       "      <td>2015-09-13</td>\n",
       "      <td>nbody.py 50000000</td>\n",
       "    </tr>\n",
       "    <tr>\n",
       "      <th>5</th>\n",
       "      <td>3.6.15</td>\n",
       "      <td>2021-09-04</td>\n",
       "      <td>2016-12-23</td>\n",
       "      <td>nbody.py 50000000</td>\n",
       "    </tr>\n",
       "    <tr>\n",
       "      <th>6</th>\n",
       "      <td>3.7.16</td>\n",
       "      <td>2022-12-06</td>\n",
       "      <td>2018-06-27</td>\n",
       "      <td>nbody.py 50000000</td>\n",
       "    </tr>\n",
       "    <tr>\n",
       "      <th>7</th>\n",
       "      <td>3.8.16</td>\n",
       "      <td>2022-12-06</td>\n",
       "      <td>2019-10-14</td>\n",
       "      <td>nbody.py 50000000</td>\n",
       "    </tr>\n",
       "    <tr>\n",
       "      <th>8</th>\n",
       "      <td>3.9.16</td>\n",
       "      <td>2022-12-06</td>\n",
       "      <td>2020-10-05</td>\n",
       "      <td>nbody.py 50000000</td>\n",
       "    </tr>\n",
       "    <tr>\n",
       "      <th>9</th>\n",
       "      <td>3.10.11</td>\n",
       "      <td>2023-04-05</td>\n",
       "      <td>2021-10-04</td>\n",
       "      <td>nbody.py 50000000</td>\n",
       "    </tr>\n",
       "    <tr>\n",
       "      <th>10</th>\n",
       "      <td>3.11.3</td>\n",
       "      <td>2023-04-05</td>\n",
       "      <td>2022-10-24</td>\n",
       "      <td>nbody.py 50000000</td>\n",
       "    </tr>\n",
       "    <tr>\n",
       "      <th>11</th>\n",
       "      <td>3.12.0b1</td>\n",
       "      <td>2023-05-22</td>\n",
       "      <td>2023-05-22</td>\n",
       "      <td>nbody.py 50000000</td>\n",
       "    </tr>\n",
       "    <tr>\n",
       "      <th>12</th>\n",
       "      <td>3.13.0a0</td>\n",
       "      <td>2023-06-07</td>\n",
       "      <td>2023-06-07</td>\n",
       "      <td>nbody.py 50000000</td>\n",
       "    </tr>\n",
       "  </tbody>\n",
       "</table>\n",
       "</div>"
      ],
      "text/plain": [
       "   python_version release_date first_release       appplication\n",
       "0           2.5.6   2011-05-26    2006-09-19  nbody.py 50000000\n",
       "1          2.7.18   2020-04-20    2010-07-04  nbody.py 50000000\n",
       "2           3.0.1   2009-02-13    2008-12-03  nbody.py 50000000\n",
       "3          3.4.10   2019-03-18    2014-03-16  nbody.py 50000000\n",
       "4          3.5.10   2020-09-05    2015-09-13  nbody.py 50000000\n",
       "5          3.6.15   2021-09-04    2016-12-23  nbody.py 50000000\n",
       "6          3.7.16   2022-12-06    2018-06-27  nbody.py 50000000\n",
       "7          3.8.16   2022-12-06    2019-10-14  nbody.py 50000000\n",
       "8          3.9.16   2022-12-06    2020-10-05  nbody.py 50000000\n",
       "9         3.10.11   2023-04-05    2021-10-04  nbody.py 50000000\n",
       "10         3.11.3   2023-04-05    2022-10-24  nbody.py 50000000\n",
       "11       3.12.0b1   2023-05-22    2023-05-22  nbody.py 50000000\n",
       "12       3.13.0a0   2023-06-07    2023-06-07  nbody.py 50000000"
      ]
     },
     "execution_count": 28,
     "metadata": {},
     "output_type": "execute_result"
    }
   ],
   "source": [
    "df_data = df[['python_version', 'release_date', 'first_release', 'appplication']]\n",
    "df_data"
   ]
  },
  {
   "cell_type": "code",
   "execution_count": 29,
   "metadata": {},
   "outputs": [
    {
     "data": {
      "text/html": [
       "<div>\n",
       "<style scoped>\n",
       "    .dataframe tbody tr th:only-of-type {\n",
       "        vertical-align: middle;\n",
       "    }\n",
       "\n",
       "    .dataframe tbody tr th {\n",
       "        vertical-align: top;\n",
       "    }\n",
       "\n",
       "    .dataframe thead th {\n",
       "        text-align: right;\n",
       "    }\n",
       "</style>\n",
       "<table border=\"1\" class=\"dataframe\">\n",
       "  <thead>\n",
       "    <tr style=\"text-align: right;\">\n",
       "      <th></th>\n",
       "      <th>time_elapsed</th>\n",
       "      <th>usec</th>\n",
       "      <th>Time_Of_Day_Seconds</th>\n",
       "      <th>APIC</th>\n",
       "      <th>X2APIC</th>\n",
       "      <th>Avg_MHz</th>\n",
       "      <th>Busy%</th>\n",
       "      <th>Bzy_MHz</th>\n",
       "      <th>TSC_MHz</th>\n",
       "      <th>IPC</th>\n",
       "      <th>...</th>\n",
       "      <th>Pkg%pc9</th>\n",
       "      <th>Pk%pc10</th>\n",
       "      <th>CPU%LPI</th>\n",
       "      <th>SYS%LPI</th>\n",
       "      <th>Pkg_J</th>\n",
       "      <th>Cor_J</th>\n",
       "      <th>GFX_J</th>\n",
       "      <th>RAM_J</th>\n",
       "      <th>PKG_%</th>\n",
       "      <th>RAM_%</th>\n",
       "    </tr>\n",
       "  </thead>\n",
       "  <tbody>\n",
       "    <tr>\n",
       "      <th>0</th>\n",
       "      <td>479.614960</td>\n",
       "      <td>1166</td>\n",
       "      <td>1.686091e+09</td>\n",
       "      <td>0</td>\n",
       "      <td>0</td>\n",
       "      <td>501</td>\n",
       "      <td>13.01</td>\n",
       "      <td>3854</td>\n",
       "      <td>1896</td>\n",
       "      <td>1.87</td>\n",
       "      <td>...</td>\n",
       "      <td>0.0</td>\n",
       "      <td>0.0</td>\n",
       "      <td>0.0</td>\n",
       "      <td>0.0</td>\n",
       "      <td>7797.35</td>\n",
       "      <td>6784.47</td>\n",
       "      <td>2.27</td>\n",
       "      <td>141.15</td>\n",
       "      <td>0.0</td>\n",
       "      <td>0.0</td>\n",
       "    </tr>\n",
       "    <tr>\n",
       "      <th>1</th>\n",
       "      <td>425.678408</td>\n",
       "      <td>1229</td>\n",
       "      <td>1.686092e+09</td>\n",
       "      <td>0</td>\n",
       "      <td>0</td>\n",
       "      <td>469</td>\n",
       "      <td>13.20</td>\n",
       "      <td>3554</td>\n",
       "      <td>1896</td>\n",
       "      <td>2.01</td>\n",
       "      <td>...</td>\n",
       "      <td>0.0</td>\n",
       "      <td>0.0</td>\n",
       "      <td>0.0</td>\n",
       "      <td>0.0</td>\n",
       "      <td>5839.56</td>\n",
       "      <td>4958.45</td>\n",
       "      <td>0.37</td>\n",
       "      <td>124.54</td>\n",
       "      <td>0.0</td>\n",
       "      <td>0.0</td>\n",
       "    </tr>\n",
       "    <tr>\n",
       "      <th>2</th>\n",
       "      <td>568.032331</td>\n",
       "      <td>1257</td>\n",
       "      <td>1.686092e+09</td>\n",
       "      <td>0</td>\n",
       "      <td>0</td>\n",
       "      <td>464</td>\n",
       "      <td>13.25</td>\n",
       "      <td>3502</td>\n",
       "      <td>1896</td>\n",
       "      <td>1.71</td>\n",
       "      <td>...</td>\n",
       "      <td>0.0</td>\n",
       "      <td>0.0</td>\n",
       "      <td>0.0</td>\n",
       "      <td>0.0</td>\n",
       "      <td>7287.92</td>\n",
       "      <td>6119.00</td>\n",
       "      <td>0.29</td>\n",
       "      <td>162.74</td>\n",
       "      <td>0.0</td>\n",
       "      <td>0.0</td>\n",
       "    </tr>\n",
       "    <tr>\n",
       "      <th>3</th>\n",
       "      <td>467.307295</td>\n",
       "      <td>1326</td>\n",
       "      <td>1.686093e+09</td>\n",
       "      <td>0</td>\n",
       "      <td>0</td>\n",
       "      <td>466</td>\n",
       "      <td>13.02</td>\n",
       "      <td>3578</td>\n",
       "      <td>1896</td>\n",
       "      <td>1.85</td>\n",
       "      <td>...</td>\n",
       "      <td>0.0</td>\n",
       "      <td>0.0</td>\n",
       "      <td>0.0</td>\n",
       "      <td>0.0</td>\n",
       "      <td>6396.37</td>\n",
       "      <td>5427.70</td>\n",
       "      <td>0.27</td>\n",
       "      <td>132.80</td>\n",
       "      <td>0.0</td>\n",
       "      <td>0.0</td>\n",
       "    </tr>\n",
       "    <tr>\n",
       "      <th>4</th>\n",
       "      <td>471.275601</td>\n",
       "      <td>1567</td>\n",
       "      <td>1.686093e+09</td>\n",
       "      <td>0</td>\n",
       "      <td>0</td>\n",
       "      <td>468</td>\n",
       "      <td>13.13</td>\n",
       "      <td>3568</td>\n",
       "      <td>1896</td>\n",
       "      <td>1.82</td>\n",
       "      <td>...</td>\n",
       "      <td>0.0</td>\n",
       "      <td>0.0</td>\n",
       "      <td>0.0</td>\n",
       "      <td>0.0</td>\n",
       "      <td>6507.68</td>\n",
       "      <td>5529.96</td>\n",
       "      <td>0.28</td>\n",
       "      <td>134.70</td>\n",
       "      <td>0.0</td>\n",
       "      <td>0.0</td>\n",
       "    </tr>\n",
       "    <tr>\n",
       "      <th>5</th>\n",
       "      <td>453.812160</td>\n",
       "      <td>1238</td>\n",
       "      <td>1.686094e+09</td>\n",
       "      <td>0</td>\n",
       "      <td>0</td>\n",
       "      <td>470</td>\n",
       "      <td>13.07</td>\n",
       "      <td>3594</td>\n",
       "      <td>1896</td>\n",
       "      <td>1.85</td>\n",
       "      <td>...</td>\n",
       "      <td>0.0</td>\n",
       "      <td>0.0</td>\n",
       "      <td>0.0</td>\n",
       "      <td>0.0</td>\n",
       "      <td>6319.58</td>\n",
       "      <td>5375.88</td>\n",
       "      <td>0.27</td>\n",
       "      <td>129.24</td>\n",
       "      <td>0.0</td>\n",
       "      <td>0.0</td>\n",
       "    </tr>\n",
       "    <tr>\n",
       "      <th>6</th>\n",
       "      <td>443.662878</td>\n",
       "      <td>1228</td>\n",
       "      <td>1.686095e+09</td>\n",
       "      <td>0</td>\n",
       "      <td>0</td>\n",
       "      <td>469</td>\n",
       "      <td>13.04</td>\n",
       "      <td>3597</td>\n",
       "      <td>1896</td>\n",
       "      <td>1.93</td>\n",
       "      <td>...</td>\n",
       "      <td>0.0</td>\n",
       "      <td>0.0</td>\n",
       "      <td>0.0</td>\n",
       "      <td>0.0</td>\n",
       "      <td>6201.01</td>\n",
       "      <td>5277.95</td>\n",
       "      <td>0.28</td>\n",
       "      <td>126.19</td>\n",
       "      <td>0.0</td>\n",
       "      <td>0.0</td>\n",
       "    </tr>\n",
       "    <tr>\n",
       "      <th>7</th>\n",
       "      <td>515.991584</td>\n",
       "      <td>1264</td>\n",
       "      <td>1.686095e+09</td>\n",
       "      <td>0</td>\n",
       "      <td>0</td>\n",
       "      <td>468</td>\n",
       "      <td>13.18</td>\n",
       "      <td>3550</td>\n",
       "      <td>1896</td>\n",
       "      <td>1.79</td>\n",
       "      <td>...</td>\n",
       "      <td>0.0</td>\n",
       "      <td>0.0</td>\n",
       "      <td>0.0</td>\n",
       "      <td>0.0</td>\n",
       "      <td>7046.15</td>\n",
       "      <td>5973.53</td>\n",
       "      <td>0.28</td>\n",
       "      <td>148.41</td>\n",
       "      <td>0.0</td>\n",
       "      <td>0.0</td>\n",
       "    </tr>\n",
       "    <tr>\n",
       "      <th>8</th>\n",
       "      <td>508.880494</td>\n",
       "      <td>1280</td>\n",
       "      <td>1.686096e+09</td>\n",
       "      <td>0</td>\n",
       "      <td>0</td>\n",
       "      <td>469</td>\n",
       "      <td>13.20</td>\n",
       "      <td>3553</td>\n",
       "      <td>1896</td>\n",
       "      <td>1.87</td>\n",
       "      <td>...</td>\n",
       "      <td>0.0</td>\n",
       "      <td>0.0</td>\n",
       "      <td>0.0</td>\n",
       "      <td>0.0</td>\n",
       "      <td>6882.41</td>\n",
       "      <td>5823.72</td>\n",
       "      <td>0.30</td>\n",
       "      <td>145.78</td>\n",
       "      <td>0.0</td>\n",
       "      <td>0.0</td>\n",
       "    </tr>\n",
       "    <tr>\n",
       "      <th>9</th>\n",
       "      <td>508.644763</td>\n",
       "      <td>1222</td>\n",
       "      <td>1.686096e+09</td>\n",
       "      <td>0</td>\n",
       "      <td>0</td>\n",
       "      <td>468</td>\n",
       "      <td>13.04</td>\n",
       "      <td>3591</td>\n",
       "      <td>1896</td>\n",
       "      <td>1.84</td>\n",
       "      <td>...</td>\n",
       "      <td>0.0</td>\n",
       "      <td>0.0</td>\n",
       "      <td>0.0</td>\n",
       "      <td>0.0</td>\n",
       "      <td>6969.09</td>\n",
       "      <td>5912.49</td>\n",
       "      <td>0.30</td>\n",
       "      <td>144.52</td>\n",
       "      <td>0.0</td>\n",
       "      <td>0.0</td>\n",
       "    </tr>\n",
       "    <tr>\n",
       "      <th>10</th>\n",
       "      <td>258.717028</td>\n",
       "      <td>1279</td>\n",
       "      <td>1.686097e+09</td>\n",
       "      <td>0</td>\n",
       "      <td>0</td>\n",
       "      <td>491</td>\n",
       "      <td>13.16</td>\n",
       "      <td>3729</td>\n",
       "      <td>1896</td>\n",
       "      <td>1.91</td>\n",
       "      <td>...</td>\n",
       "      <td>0.0</td>\n",
       "      <td>0.0</td>\n",
       "      <td>0.0</td>\n",
       "      <td>0.0</td>\n",
       "      <td>3976.95</td>\n",
       "      <td>3431.58</td>\n",
       "      <td>0.26</td>\n",
       "      <td>74.65</td>\n",
       "      <td>0.0</td>\n",
       "      <td>0.0</td>\n",
       "    </tr>\n",
       "    <tr>\n",
       "      <th>11</th>\n",
       "      <td>301.811331</td>\n",
       "      <td>1305</td>\n",
       "      <td>1.686133e+09</td>\n",
       "      <td>0</td>\n",
       "      <td>0</td>\n",
       "      <td>509</td>\n",
       "      <td>13.42</td>\n",
       "      <td>3794</td>\n",
       "      <td>1896</td>\n",
       "      <td>1.68</td>\n",
       "      <td>...</td>\n",
       "      <td>0.0</td>\n",
       "      <td>0.0</td>\n",
       "      <td>0.0</td>\n",
       "      <td>0.0</td>\n",
       "      <td>5023.36</td>\n",
       "      <td>4254.20</td>\n",
       "      <td>0.37</td>\n",
       "      <td>184.06</td>\n",
       "      <td>0.0</td>\n",
       "      <td>0.0</td>\n",
       "    </tr>\n",
       "    <tr>\n",
       "      <th>12</th>\n",
       "      <td>277.392607</td>\n",
       "      <td>1085</td>\n",
       "      <td>1.686136e+09</td>\n",
       "      <td>0</td>\n",
       "      <td>0</td>\n",
       "      <td>513</td>\n",
       "      <td>12.94</td>\n",
       "      <td>3963</td>\n",
       "      <td>1896</td>\n",
       "      <td>1.84</td>\n",
       "      <td>...</td>\n",
       "      <td>0.0</td>\n",
       "      <td>0.0</td>\n",
       "      <td>0.0</td>\n",
       "      <td>0.0</td>\n",
       "      <td>4959.71</td>\n",
       "      <td>4252.95</td>\n",
       "      <td>0.29</td>\n",
       "      <td>166.89</td>\n",
       "      <td>0.0</td>\n",
       "      <td>0.0</td>\n",
       "    </tr>\n",
       "  </tbody>\n",
       "</table>\n",
       "<p>13 rows × 58 columns</p>\n",
       "</div>"
      ],
      "text/plain": [
       "    time_elapsed  usec  Time_Of_Day_Seconds  APIC  X2APIC  Avg_MHz  Busy%  \\\n",
       "0     479.614960  1166         1.686091e+09     0       0      501  13.01   \n",
       "1     425.678408  1229         1.686092e+09     0       0      469  13.20   \n",
       "2     568.032331  1257         1.686092e+09     0       0      464  13.25   \n",
       "3     467.307295  1326         1.686093e+09     0       0      466  13.02   \n",
       "4     471.275601  1567         1.686093e+09     0       0      468  13.13   \n",
       "5     453.812160  1238         1.686094e+09     0       0      470  13.07   \n",
       "6     443.662878  1228         1.686095e+09     0       0      469  13.04   \n",
       "7     515.991584  1264         1.686095e+09     0       0      468  13.18   \n",
       "8     508.880494  1280         1.686096e+09     0       0      469  13.20   \n",
       "9     508.644763  1222         1.686096e+09     0       0      468  13.04   \n",
       "10    258.717028  1279         1.686097e+09     0       0      491  13.16   \n",
       "11    301.811331  1305         1.686133e+09     0       0      509  13.42   \n",
       "12    277.392607  1085         1.686136e+09     0       0      513  12.94   \n",
       "\n",
       "    Bzy_MHz  TSC_MHz   IPC  ...  Pkg%pc9  Pk%pc10  CPU%LPI  SYS%LPI    Pkg_J  \\\n",
       "0      3854     1896  1.87  ...      0.0      0.0      0.0      0.0  7797.35   \n",
       "1      3554     1896  2.01  ...      0.0      0.0      0.0      0.0  5839.56   \n",
       "2      3502     1896  1.71  ...      0.0      0.0      0.0      0.0  7287.92   \n",
       "3      3578     1896  1.85  ...      0.0      0.0      0.0      0.0  6396.37   \n",
       "4      3568     1896  1.82  ...      0.0      0.0      0.0      0.0  6507.68   \n",
       "5      3594     1896  1.85  ...      0.0      0.0      0.0      0.0  6319.58   \n",
       "6      3597     1896  1.93  ...      0.0      0.0      0.0      0.0  6201.01   \n",
       "7      3550     1896  1.79  ...      0.0      0.0      0.0      0.0  7046.15   \n",
       "8      3553     1896  1.87  ...      0.0      0.0      0.0      0.0  6882.41   \n",
       "9      3591     1896  1.84  ...      0.0      0.0      0.0      0.0  6969.09   \n",
       "10     3729     1896  1.91  ...      0.0      0.0      0.0      0.0  3976.95   \n",
       "11     3794     1896  1.68  ...      0.0      0.0      0.0      0.0  5023.36   \n",
       "12     3963     1896  1.84  ...      0.0      0.0      0.0      0.0  4959.71   \n",
       "\n",
       "      Cor_J  GFX_J   RAM_J  PKG_%  RAM_%  \n",
       "0   6784.47   2.27  141.15    0.0    0.0  \n",
       "1   4958.45   0.37  124.54    0.0    0.0  \n",
       "2   6119.00   0.29  162.74    0.0    0.0  \n",
       "3   5427.70   0.27  132.80    0.0    0.0  \n",
       "4   5529.96   0.28  134.70    0.0    0.0  \n",
       "5   5375.88   0.27  129.24    0.0    0.0  \n",
       "6   5277.95   0.28  126.19    0.0    0.0  \n",
       "7   5973.53   0.28  148.41    0.0    0.0  \n",
       "8   5823.72   0.30  145.78    0.0    0.0  \n",
       "9   5912.49   0.30  144.52    0.0    0.0  \n",
       "10  3431.58   0.26   74.65    0.0    0.0  \n",
       "11  4254.20   0.37  184.06    0.0    0.0  \n",
       "12  4252.95   0.29  166.89    0.0    0.0  \n",
       "\n",
       "[13 rows x 58 columns]"
      ]
     },
     "execution_count": 29,
     "metadata": {},
     "output_type": "execute_result"
    }
   ],
   "source": [
    "df_metric = df.loc[:, ~df.columns.isin(['python_version', 'release_date', 'first_release', 'appplication'])]\n",
    "df_metric"
   ]
  },
  {
   "cell_type": "code",
   "execution_count": 30,
   "metadata": {},
   "outputs": [
    {
     "data": {
      "text/html": [
       "<div>\n",
       "<style scoped>\n",
       "    .dataframe tbody tr th:only-of-type {\n",
       "        vertical-align: middle;\n",
       "    }\n",
       "\n",
       "    .dataframe tbody tr th {\n",
       "        vertical-align: top;\n",
       "    }\n",
       "\n",
       "    .dataframe thead th {\n",
       "        text-align: right;\n",
       "    }\n",
       "</style>\n",
       "<table border=\"1\" class=\"dataframe\">\n",
       "  <thead>\n",
       "    <tr style=\"text-align: right;\">\n",
       "      <th></th>\n",
       "      <th>time_elapsed</th>\n",
       "      <th>usec</th>\n",
       "      <th>Time_Of_Day_Seconds</th>\n",
       "      <th>APIC</th>\n",
       "      <th>X2APIC</th>\n",
       "      <th>Avg_MHz</th>\n",
       "      <th>Busy%</th>\n",
       "      <th>Bzy_MHz</th>\n",
       "      <th>TSC_MHz</th>\n",
       "      <th>IPC</th>\n",
       "      <th>...</th>\n",
       "      <th>Pkg%pc9</th>\n",
       "      <th>Pk%pc10</th>\n",
       "      <th>CPU%LPI</th>\n",
       "      <th>SYS%LPI</th>\n",
       "      <th>Pkg_J</th>\n",
       "      <th>Cor_J</th>\n",
       "      <th>GFX_J</th>\n",
       "      <th>RAM_J</th>\n",
       "      <th>PKG_%</th>\n",
       "      <th>RAM_%</th>\n",
       "    </tr>\n",
       "  </thead>\n",
       "  <tbody>\n",
       "    <tr>\n",
       "      <th>0</th>\n",
       "      <td>0.714151</td>\n",
       "      <td>0.168050</td>\n",
       "      <td>0.000000</td>\n",
       "      <td>0.0</td>\n",
       "      <td>0.0</td>\n",
       "      <td>0.755102</td>\n",
       "      <td>0.145833</td>\n",
       "      <td>0.763557</td>\n",
       "      <td>0.0</td>\n",
       "      <td>0.575758</td>\n",
       "      <td>...</td>\n",
       "      <td>0.0</td>\n",
       "      <td>0.0</td>\n",
       "      <td>0.0</td>\n",
       "      <td>0.0</td>\n",
       "      <td>1.000000</td>\n",
       "      <td>1.000000</td>\n",
       "      <td>1.000000</td>\n",
       "      <td>0.607806</td>\n",
       "      <td>0.0</td>\n",
       "      <td>0.0</td>\n",
       "    </tr>\n",
       "    <tr>\n",
       "      <th>1</th>\n",
       "      <td>0.539777</td>\n",
       "      <td>0.298755</td>\n",
       "      <td>0.012062</td>\n",
       "      <td>0.0</td>\n",
       "      <td>0.0</td>\n",
       "      <td>0.102041</td>\n",
       "      <td>0.541667</td>\n",
       "      <td>0.112798</td>\n",
       "      <td>0.0</td>\n",
       "      <td>1.000000</td>\n",
       "      <td>...</td>\n",
       "      <td>0.0</td>\n",
       "      <td>0.0</td>\n",
       "      <td>0.0</td>\n",
       "      <td>0.0</td>\n",
       "      <td>0.487543</td>\n",
       "      <td>0.455389</td>\n",
       "      <td>0.054726</td>\n",
       "      <td>0.455991</td>\n",
       "      <td>0.0</td>\n",
       "      <td>0.0</td>\n",
       "    </tr>\n",
       "    <tr>\n",
       "      <th>2</th>\n",
       "      <td>1.000000</td>\n",
       "      <td>0.356846</td>\n",
       "      <td>0.027272</td>\n",
       "      <td>0.0</td>\n",
       "      <td>0.0</td>\n",
       "      <td>0.000000</td>\n",
       "      <td>0.645833</td>\n",
       "      <td>0.000000</td>\n",
       "      <td>0.0</td>\n",
       "      <td>0.090909</td>\n",
       "      <td>...</td>\n",
       "      <td>0.0</td>\n",
       "      <td>0.0</td>\n",
       "      <td>0.0</td>\n",
       "      <td>0.0</td>\n",
       "      <td>0.866655</td>\n",
       "      <td>0.801523</td>\n",
       "      <td>0.014925</td>\n",
       "      <td>0.805137</td>\n",
       "      <td>0.0</td>\n",
       "      <td>0.0</td>\n",
       "    </tr>\n",
       "    <tr>\n",
       "      <th>3</th>\n",
       "      <td>0.674361</td>\n",
       "      <td>0.500000</td>\n",
       "      <td>0.040255</td>\n",
       "      <td>0.0</td>\n",
       "      <td>0.0</td>\n",
       "      <td>0.040816</td>\n",
       "      <td>0.166667</td>\n",
       "      <td>0.164859</td>\n",
       "      <td>0.0</td>\n",
       "      <td>0.515152</td>\n",
       "      <td>...</td>\n",
       "      <td>0.0</td>\n",
       "      <td>0.0</td>\n",
       "      <td>0.0</td>\n",
       "      <td>0.0</td>\n",
       "      <td>0.633290</td>\n",
       "      <td>0.595343</td>\n",
       "      <td>0.004975</td>\n",
       "      <td>0.531487</td>\n",
       "      <td>0.0</td>\n",
       "      <td>0.0</td>\n",
       "    </tr>\n",
       "    <tr>\n",
       "      <th>4</th>\n",
       "      <td>0.687191</td>\n",
       "      <td>1.000000</td>\n",
       "      <td>0.053326</td>\n",
       "      <td>0.0</td>\n",
       "      <td>0.0</td>\n",
       "      <td>0.081633</td>\n",
       "      <td>0.395833</td>\n",
       "      <td>0.143167</td>\n",
       "      <td>0.0</td>\n",
       "      <td>0.424242</td>\n",
       "      <td>...</td>\n",
       "      <td>0.0</td>\n",
       "      <td>0.0</td>\n",
       "      <td>0.0</td>\n",
       "      <td>0.0</td>\n",
       "      <td>0.662425</td>\n",
       "      <td>0.625842</td>\n",
       "      <td>0.009950</td>\n",
       "      <td>0.548853</td>\n",
       "      <td>0.0</td>\n",
       "      <td>0.0</td>\n",
       "    </tr>\n",
       "    <tr>\n",
       "      <th>5</th>\n",
       "      <td>0.630732</td>\n",
       "      <td>0.317427</td>\n",
       "      <td>0.066011</td>\n",
       "      <td>0.0</td>\n",
       "      <td>0.0</td>\n",
       "      <td>0.122449</td>\n",
       "      <td>0.270833</td>\n",
       "      <td>0.199566</td>\n",
       "      <td>0.0</td>\n",
       "      <td>0.515152</td>\n",
       "      <td>...</td>\n",
       "      <td>0.0</td>\n",
       "      <td>0.0</td>\n",
       "      <td>0.0</td>\n",
       "      <td>0.0</td>\n",
       "      <td>0.613190</td>\n",
       "      <td>0.579888</td>\n",
       "      <td>0.004975</td>\n",
       "      <td>0.498949</td>\n",
       "      <td>0.0</td>\n",
       "      <td>0.0</td>\n",
       "    </tr>\n",
       "    <tr>\n",
       "      <th>6</th>\n",
       "      <td>0.597920</td>\n",
       "      <td>0.296680</td>\n",
       "      <td>0.078472</td>\n",
       "      <td>0.0</td>\n",
       "      <td>0.0</td>\n",
       "      <td>0.102041</td>\n",
       "      <td>0.208333</td>\n",
       "      <td>0.206074</td>\n",
       "      <td>0.0</td>\n",
       "      <td>0.757576</td>\n",
       "      <td>...</td>\n",
       "      <td>0.0</td>\n",
       "      <td>0.0</td>\n",
       "      <td>0.0</td>\n",
       "      <td>0.0</td>\n",
       "      <td>0.582154</td>\n",
       "      <td>0.550680</td>\n",
       "      <td>0.009950</td>\n",
       "      <td>0.471072</td>\n",
       "      <td>0.0</td>\n",
       "      <td>0.0</td>\n",
       "    </tr>\n",
       "    <tr>\n",
       "      <th>7</th>\n",
       "      <td>0.831755</td>\n",
       "      <td>0.371369</td>\n",
       "      <td>0.092532</td>\n",
       "      <td>0.0</td>\n",
       "      <td>0.0</td>\n",
       "      <td>0.081633</td>\n",
       "      <td>0.500000</td>\n",
       "      <td>0.104121</td>\n",
       "      <td>0.0</td>\n",
       "      <td>0.333333</td>\n",
       "      <td>...</td>\n",
       "      <td>0.0</td>\n",
       "      <td>0.0</td>\n",
       "      <td>0.0</td>\n",
       "      <td>0.0</td>\n",
       "      <td>0.803371</td>\n",
       "      <td>0.758137</td>\n",
       "      <td>0.009950</td>\n",
       "      <td>0.674161</td>\n",
       "      <td>0.0</td>\n",
       "      <td>0.0</td>\n",
       "    </tr>\n",
       "    <tr>\n",
       "      <th>8</th>\n",
       "      <td>0.808765</td>\n",
       "      <td>0.404564</td>\n",
       "      <td>0.106435</td>\n",
       "      <td>0.0</td>\n",
       "      <td>0.0</td>\n",
       "      <td>0.102041</td>\n",
       "      <td>0.541667</td>\n",
       "      <td>0.110629</td>\n",
       "      <td>0.0</td>\n",
       "      <td>0.575758</td>\n",
       "      <td>...</td>\n",
       "      <td>0.0</td>\n",
       "      <td>0.0</td>\n",
       "      <td>0.0</td>\n",
       "      <td>0.0</td>\n",
       "      <td>0.760512</td>\n",
       "      <td>0.713456</td>\n",
       "      <td>0.019900</td>\n",
       "      <td>0.650123</td>\n",
       "      <td>0.0</td>\n",
       "      <td>0.0</td>\n",
       "    </tr>\n",
       "    <tr>\n",
       "      <th>9</th>\n",
       "      <td>0.808003</td>\n",
       "      <td>0.284232</td>\n",
       "      <td>0.120333</td>\n",
       "      <td>0.0</td>\n",
       "      <td>0.0</td>\n",
       "      <td>0.081633</td>\n",
       "      <td>0.208333</td>\n",
       "      <td>0.193059</td>\n",
       "      <td>0.0</td>\n",
       "      <td>0.484848</td>\n",
       "      <td>...</td>\n",
       "      <td>0.0</td>\n",
       "      <td>0.0</td>\n",
       "      <td>0.0</td>\n",
       "      <td>0.0</td>\n",
       "      <td>0.783201</td>\n",
       "      <td>0.739932</td>\n",
       "      <td>0.019900</td>\n",
       "      <td>0.638607</td>\n",
       "      <td>0.0</td>\n",
       "      <td>0.0</td>\n",
       "    </tr>\n",
       "    <tr>\n",
       "      <th>10</th>\n",
       "      <td>0.000000</td>\n",
       "      <td>0.402490</td>\n",
       "      <td>0.128708</td>\n",
       "      <td>0.0</td>\n",
       "      <td>0.0</td>\n",
       "      <td>0.551020</td>\n",
       "      <td>0.458333</td>\n",
       "      <td>0.492408</td>\n",
       "      <td>0.0</td>\n",
       "      <td>0.696970</td>\n",
       "      <td>...</td>\n",
       "      <td>0.0</td>\n",
       "      <td>0.0</td>\n",
       "      <td>0.0</td>\n",
       "      <td>0.0</td>\n",
       "      <td>0.000000</td>\n",
       "      <td>0.000000</td>\n",
       "      <td>0.000000</td>\n",
       "      <td>0.000000</td>\n",
       "      <td>0.0</td>\n",
       "      <td>0.0</td>\n",
       "    </tr>\n",
       "    <tr>\n",
       "      <th>11</th>\n",
       "      <td>0.139322</td>\n",
       "      <td>0.456432</td>\n",
       "      <td>0.922047</td>\n",
       "      <td>0.0</td>\n",
       "      <td>0.0</td>\n",
       "      <td>0.918367</td>\n",
       "      <td>1.000000</td>\n",
       "      <td>0.633406</td>\n",
       "      <td>0.0</td>\n",
       "      <td>0.000000</td>\n",
       "      <td>...</td>\n",
       "      <td>0.0</td>\n",
       "      <td>0.0</td>\n",
       "      <td>0.0</td>\n",
       "      <td>0.0</td>\n",
       "      <td>0.273901</td>\n",
       "      <td>0.245347</td>\n",
       "      <td>0.054726</td>\n",
       "      <td>1.000000</td>\n",
       "      <td>0.0</td>\n",
       "      <td>0.0</td>\n",
       "    </tr>\n",
       "    <tr>\n",
       "      <th>12</th>\n",
       "      <td>0.060377</td>\n",
       "      <td>0.000000</td>\n",
       "      <td>1.000000</td>\n",
       "      <td>0.0</td>\n",
       "      <td>0.0</td>\n",
       "      <td>1.000000</td>\n",
       "      <td>0.000000</td>\n",
       "      <td>1.000000</td>\n",
       "      <td>0.0</td>\n",
       "      <td>0.484848</td>\n",
       "      <td>...</td>\n",
       "      <td>0.0</td>\n",
       "      <td>0.0</td>\n",
       "      <td>0.0</td>\n",
       "      <td>0.0</td>\n",
       "      <td>0.257240</td>\n",
       "      <td>0.244974</td>\n",
       "      <td>0.014925</td>\n",
       "      <td>0.843067</td>\n",
       "      <td>0.0</td>\n",
       "      <td>0.0</td>\n",
       "    </tr>\n",
       "  </tbody>\n",
       "</table>\n",
       "<p>13 rows × 58 columns</p>\n",
       "</div>"
      ],
      "text/plain": [
       "    time_elapsed      usec  Time_Of_Day_Seconds  APIC  X2APIC   Avg_MHz  \\\n",
       "0       0.714151  0.168050             0.000000   0.0     0.0  0.755102   \n",
       "1       0.539777  0.298755             0.012062   0.0     0.0  0.102041   \n",
       "2       1.000000  0.356846             0.027272   0.0     0.0  0.000000   \n",
       "3       0.674361  0.500000             0.040255   0.0     0.0  0.040816   \n",
       "4       0.687191  1.000000             0.053326   0.0     0.0  0.081633   \n",
       "5       0.630732  0.317427             0.066011   0.0     0.0  0.122449   \n",
       "6       0.597920  0.296680             0.078472   0.0     0.0  0.102041   \n",
       "7       0.831755  0.371369             0.092532   0.0     0.0  0.081633   \n",
       "8       0.808765  0.404564             0.106435   0.0     0.0  0.102041   \n",
       "9       0.808003  0.284232             0.120333   0.0     0.0  0.081633   \n",
       "10      0.000000  0.402490             0.128708   0.0     0.0  0.551020   \n",
       "11      0.139322  0.456432             0.922047   0.0     0.0  0.918367   \n",
       "12      0.060377  0.000000             1.000000   0.0     0.0  1.000000   \n",
       "\n",
       "       Busy%   Bzy_MHz  TSC_MHz       IPC  ...  Pkg%pc9  Pk%pc10  CPU%LPI  \\\n",
       "0   0.145833  0.763557      0.0  0.575758  ...      0.0      0.0      0.0   \n",
       "1   0.541667  0.112798      0.0  1.000000  ...      0.0      0.0      0.0   \n",
       "2   0.645833  0.000000      0.0  0.090909  ...      0.0      0.0      0.0   \n",
       "3   0.166667  0.164859      0.0  0.515152  ...      0.0      0.0      0.0   \n",
       "4   0.395833  0.143167      0.0  0.424242  ...      0.0      0.0      0.0   \n",
       "5   0.270833  0.199566      0.0  0.515152  ...      0.0      0.0      0.0   \n",
       "6   0.208333  0.206074      0.0  0.757576  ...      0.0      0.0      0.0   \n",
       "7   0.500000  0.104121      0.0  0.333333  ...      0.0      0.0      0.0   \n",
       "8   0.541667  0.110629      0.0  0.575758  ...      0.0      0.0      0.0   \n",
       "9   0.208333  0.193059      0.0  0.484848  ...      0.0      0.0      0.0   \n",
       "10  0.458333  0.492408      0.0  0.696970  ...      0.0      0.0      0.0   \n",
       "11  1.000000  0.633406      0.0  0.000000  ...      0.0      0.0      0.0   \n",
       "12  0.000000  1.000000      0.0  0.484848  ...      0.0      0.0      0.0   \n",
       "\n",
       "    SYS%LPI     Pkg_J     Cor_J     GFX_J     RAM_J  PKG_%  RAM_%  \n",
       "0       0.0  1.000000  1.000000  1.000000  0.607806    0.0    0.0  \n",
       "1       0.0  0.487543  0.455389  0.054726  0.455991    0.0    0.0  \n",
       "2       0.0  0.866655  0.801523  0.014925  0.805137    0.0    0.0  \n",
       "3       0.0  0.633290  0.595343  0.004975  0.531487    0.0    0.0  \n",
       "4       0.0  0.662425  0.625842  0.009950  0.548853    0.0    0.0  \n",
       "5       0.0  0.613190  0.579888  0.004975  0.498949    0.0    0.0  \n",
       "6       0.0  0.582154  0.550680  0.009950  0.471072    0.0    0.0  \n",
       "7       0.0  0.803371  0.758137  0.009950  0.674161    0.0    0.0  \n",
       "8       0.0  0.760512  0.713456  0.019900  0.650123    0.0    0.0  \n",
       "9       0.0  0.783201  0.739932  0.019900  0.638607    0.0    0.0  \n",
       "10      0.0  0.000000  0.000000  0.000000  0.000000    0.0    0.0  \n",
       "11      0.0  0.273901  0.245347  0.054726  1.000000    0.0    0.0  \n",
       "12      0.0  0.257240  0.244974  0.014925  0.843067    0.0    0.0  \n",
       "\n",
       "[13 rows x 58 columns]"
      ]
     },
     "execution_count": 30,
     "metadata": {},
     "output_type": "execute_result"
    }
   ],
   "source": [
    "from sklearn.preprocessing import MinMaxScaler\n",
    "\n",
    "scaler = MinMaxScaler()\n",
    "scaler.fit(df_metric)\n",
    "\n",
    "# get max values in each column\n",
    "max = scaler.data_max_\n",
    "\n",
    "test_2 = pd.DataFrame(scaler.transform(df_metric), columns=df_metric.columns)\n",
    "test_2"
   ]
  },
  {
   "cell_type": "code",
   "execution_count": 31,
   "metadata": {},
   "outputs": [],
   "source": [
    "df = pd.concat([df_data,test_2.reindex(df_data.index)], axis=1)"
   ]
  },
  {
   "cell_type": "code",
   "execution_count": 32,
   "metadata": {},
   "outputs": [],
   "source": [
    "# Extract relevant columns\n",
    "python_version = df['python_version']\n",
    "release = df['release_date']\n",
    "first_release = df['first_release']\n",
    "time_elapsed = df['time_elapsed']\n",
    "avg_mhz = df['Avg_MHz']                       # no. of cycles executed divided by time elapsed\n",
    "busy_percent = df['Busy%']                    # % of time in C0 state\n",
    "busy_mhz = df['Bzy_MHz']                      # Avg clock rate while the CPU was not idle in C0 state\n",
    "ipc = df['IPC']\n",
    "irq = df['IRQ']\n",
    "poll = df['POLL']\n",
    "c1 = df['C1']\n",
    "c1e = df['C1E']\n",
    "c3 = df['C3']\n",
    "c6 = df['C6']\n",
    "c7s = df['C7s']\n",
    "c8 = df['C8']\n",
    "coreTemperature = df['CoreTmp']\n",
    "pkgTemperature = df['PkgTmp']\n",
    "gfx_percent = df['GFX%rc6']\n",
    "gfx_mhz = df['GFXMHz']\n",
    "total_c0_percent = df['Totl%C0']\n",
    "any_c0_percent = df['Any%C0']\n",
    "gfx_c0_percent = df['GFX%C0']\n",
    "cpugfx_percent = df['CPUGFX%']\n",
    "energy_pkg = df['Pkg_J']\n",
    "energy_core = df['Cor_J']\n",
    "energy_gfx = df['GFX_J']\n",
    "energy_ram = df['RAM_J']\n",
    "\n"
   ]
  },
  {
   "attachments": {},
   "cell_type": "markdown",
   "metadata": {},
   "source": [
    "## Trend Plots"
   ]
  },
  {
   "attachments": {},
   "cell_type": "markdown",
   "metadata": {},
   "source": [
    "### Time elapsed vs CPU usage"
   ]
  },
  {
   "cell_type": "code",
   "execution_count": 33,
   "metadata": {},
   "outputs": [
    {
     "name": "stderr",
     "output_type": "stream",
     "text": [
      "No artists with labels found to put in legend.  Note that artists whose label start with an underscore are ignored when legend() is called with no argument.\n"
     ]
    },
    {
     "data": {
      "image/png": "[encoded data removed]",
      "text/plain": [
       "<Figure size 800x600 with 1 Axes>"
      ]
     },
     "metadata": {},
     "output_type": "display_data"
    }
   ],
   "source": [
    "# Plot time elapsed vs CPU usage\n",
    "plt.figure(figsize=(8, 6))\n",
    "plt.scatter(time_elapsed, energy_pkg)\n",
    "plt.xlabel('Time Elapsed')\n",
    "plt.ylabel('Energy Pkg')\n",
    "plt.title('Time Elapsed vs Pkg_J')\n",
    "plt.legend()\n",
    "plt.show()"
   ]
  },
  {
   "attachments": {},
   "cell_type": "markdown",
   "metadata": {},
   "source": [
    "### Time elapsed vs Avg MHz"
   ]
  },
  {
   "cell_type": "code",
   "execution_count": 34,
   "metadata": {},
   "outputs": [
    {
     "name": "stderr",
     "output_type": "stream",
     "text": [
      "No artists with labels found to put in legend.  Note that artists whose label start with an underscore are ignored when legend() is called with no argument.\n"
     ]
    },
    {
     "data": {
      "image/png": "[encoded data removed]",
      "text/plain": [
       "<Figure size 800x600 with 1 Axes>"
      ]
     },
     "metadata": {},
     "output_type": "display_data"
    }
   ],
   "source": [
    "\n",
    "# Plot time elapsed vs Memory usage\n",
    "plt.figure(figsize=(8, 6))\n",
    "plt.scatter(time_elapsed, avg_mhz)\n",
    "plt.xlabel('Time Elapsed')\n",
    "plt.ylabel('Avg MHz')\n",
    "plt.title('Time Elapsed vs Avg MHz')\n",
    "plt.legend()\n",
    "plt.show()"
   ]
  },
  {
   "attachments": {},
   "cell_type": "markdown",
   "metadata": {},
   "source": [
    "### Energy Consumption through different Python versions"
   ]
  },
  {
   "cell_type": "code",
   "execution_count": 35,
   "metadata": {},
   "outputs": [
    {
     "data": {
      "image/png": "[encoded data removed]",
      "text/plain": [
       "<Figure size 800x600 with 1 Axes>"
      ]
     },
     "metadata": {},
     "output_type": "display_data"
    }
   ],
   "source": [
    "\n",
    "# Plot Python version vs Energy Consumption\n",
    "plt.figure(figsize=(8,6))\n",
    "plt.plot(python_version, energy_pkg, label='energy pkg')\n",
    "plt.plot(python_version, energy_core, label='energy core')\n",
    "plt.plot(python_version, energy_ram, label='energy ram')\n",
    "plt.plot(python_version, energy_gfx, label='energy gfx')\n",
    "plt.xlabel('Python version')\n",
    "plt.ylabel('Energy (Joules)')\n",
    "plt.xticks(rotation=45)\n",
    "plt.title('Python versions vs Energy Consumption')\n",
    "plt.legend()\n",
    "plt.show()"
   ]
  },
  {
   "cell_type": "code",
   "execution_count": 36,
   "metadata": {},
   "outputs": [
    {
     "data": {
      "application/vnd.plotly.v1+json": {
       "config": {
        "plotlyServerURL": "https://plot.ly"
       },
       "data": [
        {
         "hovertemplate": "variable=Pkg_J<br>python_version=%{x}<br>value=%{y}<br>text=%{text}<extra></extra>",
         "legendgroup": "Pkg_J",
         "line": {
          "color": "#636efa",
          "dash": "solid"
         },
         "marker": {
          "symbol": "circle"
         },
         "mode": "lines+markers+text",
         "name": "Pkg_J",
         "orientation": "v",
         "showlegend": true,
         "text": [
          2006,
          2010,
          2008,
          2014,
          2015,
          2016,
          2018,
          2019,
          2020,
          2021,
          2022,
          2023,
          2023
         ],
         "textposition": "bottom right",
         "type": "scatter",
         "x": [
          "2.5.6",
          "2.7.18",
          "3.0.1",
          "3.4.10",
          "3.5.10",
          "3.6.15",
          "3.7.16",
          "3.8.16",
          "3.9.16",
          "3.10.11",
          "3.11.3",
          "3.12.0b1",
          "3.13.0a0"
         ],
         "xaxis": "x",
         "y": [
          1.0000000000000002,
          0.48754318919484874,
          0.8666553240498378,
          0.6332897078839912,
          0.662425400481625,
          0.6131897183540991,
          0.5821537011831222,
          0.8033713747251596,
          0.7605119882734792,
          0.7832007119673332,
          0,
          0.2739006386765783,
          0.2572400795728196
         ],
         "yaxis": "y"
        },
        {
         "hovertemplate": "variable=Cor_J<br>python_version=%{x}<br>value=%{y}<br>text=%{text}<extra></extra>",
         "legendgroup": "Cor_J",
         "line": {
          "color": "#EF553B",
          "dash": "solid"
         },
         "marker": {
          "symbol": "circle"
         },
         "mode": "lines+markers+text",
         "name": "Cor_J",
         "orientation": "v",
         "showlegend": true,
         "text": [
          2006,
          2010,
          2008,
          2014,
          2015,
          2016,
          2018,
          2019,
          2020,
          2021,
          2022,
          2023,
          2023
         ],
         "textposition": "bottom right",
         "type": "scatter",
         "x": [
          "2.5.6",
          "2.7.18",
          "3.0.1",
          "3.4.10",
          "3.5.10",
          "3.6.15",
          "3.7.16",
          "3.8.16",
          "3.9.16",
          "3.10.11",
          "3.11.3",
          "3.12.0b1",
          "3.13.0a0"
         ],
         "xaxis": "x",
         "y": [
          1.0000000000000002,
          0.4553892313794965,
          0.8015234618493299,
          0.5953431219037904,
          0.6258421839070176,
          0.5798877982874475,
          0.5506801595041888,
          0.7581370101613831,
          0.7134561527518053,
          0.7399318200119895,
          0,
          0.24534655178070253,
          0.24497373907285946
         ],
         "yaxis": "y"
        },
        {
         "hovertemplate": "variable=GFX_J<br>python_version=%{x}<br>value=%{y}<br>text=%{text}<extra></extra>",
         "legendgroup": "GFX_J",
         "line": {
          "color": "#00cc96",
          "dash": "solid"
         },
         "marker": {
          "symbol": "circle"
         },
         "mode": "lines+markers+text",
         "name": "GFX_J",
         "orientation": "v",
         "showlegend": true,
         "text": [
          2006,
          2010,
          2008,
          2014,
          2015,
          2016,
          2018,
          2019,
          2020,
          2021,
          2022,
          2023,
          2023
         ],
         "textposition": "bottom right",
         "type": "scatter",
         "x": [
          "2.5.6",
          "2.7.18",
          "3.0.1",
          "3.4.10",
          "3.5.10",
          "3.6.15",
          "3.7.16",
          "3.8.16",
          "3.9.16",
          "3.10.11",
          "3.11.3",
          "3.12.0b1",
          "3.13.0a0"
         ],
         "xaxis": "x",
         "y": [
          1,
          0.05472636815920398,
          0.014925373134328346,
          0.004975124378109458,
          0.009950248756218916,
          0.004975124378109458,
          0.009950248756218916,
          0.009950248756218916,
          0.019900497512437804,
          0.019900497512437804,
          0,
          0.05472636815920398,
          0.014925373134328346
         ],
         "yaxis": "y"
        },
        {
         "hovertemplate": "variable=RAM_J<br>python_version=%{x}<br>value=%{y}<br>text=%{text}<extra></extra>",
         "legendgroup": "RAM_J",
         "line": {
          "color": "#ab63fa",
          "dash": "solid"
         },
         "marker": {
          "symbol": "circle"
         },
         "mode": "lines+markers+text",
         "name": "RAM_J",
         "orientation": "v",
         "showlegend": true,
         "text": [
          2006,
          2010,
          2008,
          2014,
          2015,
          2016,
          2018,
          2019,
          2020,
          2021,
          2022,
          2023,
          2023
         ],
         "textposition": "bottom right",
         "type": "scatter",
         "x": [
          "2.5.6",
          "2.7.18",
          "3.0.1",
          "3.4.10",
          "3.5.10",
          "3.6.15",
          "3.7.16",
          "3.8.16",
          "3.9.16",
          "3.10.11",
          "3.11.3",
          "3.12.0b1",
          "3.13.0a0"
         ],
         "xaxis": "x",
         "y": [
          0.6078055022392835,
          0.45599122566493,
          0.8051366419888494,
          0.5314870669957042,
          0.5488529384882551,
          0.49894890777808254,
          0.47107211406635596,
          0.6741614112055571,
          0.6501233890869208,
          0.6386070743076503,
          0,
          0.9999999999999999,
          0.8430673613015262
         ],
         "yaxis": "y"
        }
       ],
       "layout": {
        "legend": {
         "title": {
          "text": "variable"
         },
         "tracegroupgap": 0
        },
        "margin": {
         "t": 60
        },
        "template": {
         "data": {
          "bar": [
           {
            "error_x": {
             "color": "#2a3f5f"
            },
            "error_y": {
             "color": "#2a3f5f"
            },
            "marker": {
             "line": {
              "color": "#E5ECF6",
              "width": 0.5
             },
             "pattern": {
              "fillmode": "overlay",
              "size": 10,
              "solidity": 0.2
             }
            },
            "type": "bar"
           }
          ],
          "barpolar": [
           {
            "marker": {
             "line": {
              "color": "#E5ECF6",
              "width": 0.5
             },
             "pattern": {
              "fillmode": "overlay",
              "size": 10,
              "solidity": 0.2
             }
            },
            "type": "barpolar"
           }
          ],
          "carpet": [
           {
            "aaxis": {
             "endlinecolor": "#2a3f5f",
             "gridcolor": "white",
             "linecolor": "white",
             "minorgridcolor": "white",
             "startlinecolor": "#2a3f5f"
            },
            "baxis": {
             "endlinecolor": "#2a3f5f",
             "gridcolor": "white",
             "linecolor": "white",
             "minorgridcolor": "white",
             "startlinecolor": "#2a3f5f"
            },
            "type": "carpet"
           }
          ],
          "choropleth": [
           {
            "colorbar": {
             "outlinewidth": 0,
             "ticks": ""
            },
            "type": "choropleth"
           }
          ],
          "contour": [
           {
            "colorbar": {
             "outlinewidth": 0,
             "ticks": ""
            },
            "colorscale": [
             [
              0,
              "#0d0887"
             ],
             [
              0.1111111111111111,
              "#46039f"
             ],
             [
              0.2222222222222222,
              "#7201a8"
             ],
             [
              0.3333333333333333,
              "#9c179e"
             ],
             [
              0.4444444444444444,
              "#bd3786"
             ],
             [
              0.5555555555555556,
              "#d8576b"
             ],
             [
              0.6666666666666666,
              "#ed7953"
             ],
             [
              0.7777777777777778,
              "#fb9f3a"
             ],
             [
              0.8888888888888888,
              "#fdca26"
             ],
             [
              1,
              "#f0f921"
             ]
            ],
            "type": "contour"
           }
          ],
          "contourcarpet": [
           {
            "colorbar": {
             "outlinewidth": 0,
             "ticks": ""
            },
            "type": "contourcarpet"
           }
          ],
          "heatmap": [
           {
            "colorbar": {
             "outlinewidth": 0,
             "ticks": ""
            },
            "colorscale": [
             [
              0,
              "#0d0887"
             ],
             [
              0.1111111111111111,
              "#46039f"
             ],
             [
              0.2222222222222222,
              "#7201a8"
             ],
             [
              0.3333333333333333,
              "#9c179e"
             ],
             [
              0.4444444444444444,
              "#bd3786"
             ],
             [
              0.5555555555555556,
              "#d8576b"
             ],
             [
              0.6666666666666666,
              "#ed7953"
             ],
             [
              0.7777777777777778,
              "#fb9f3a"
             ],
             [
              0.8888888888888888,
              "#fdca26"
             ],
             [
              1,
              "#f0f921"
             ]
            ],
            "type": "heatmap"
           }
          ],
          "heatmapgl": [
           {
            "colorbar": {
             "outlinewidth": 0,
             "ticks": ""
            },
            "colorscale": [
             [
              0,
              "#0d0887"
             ],
             [
              0.1111111111111111,
              "#46039f"
             ],
             [
              0.2222222222222222,
              "#7201a8"
             ],
             [
              0.3333333333333333,
              "#9c179e"
             ],
             [
              0.4444444444444444,
              "#bd3786"
             ],
             [
              0.5555555555555556,
              "#d8576b"
             ],
             [
              0.6666666666666666,
              "#ed7953"
             ],
             [
              0.7777777777777778,
              "#fb9f3a"
             ],
             [
              0.8888888888888888,
              "#fdca26"
             ],
             [
              1,
              "#f0f921"
             ]
            ],
            "type": "heatmapgl"
           }
          ],
          "histogram": [
           {
            "marker": {
             "pattern": {
              "fillmode": "overlay",
              "size": 10,
              "solidity": 0.2
             }
            },
            "type": "histogram"
           }
          ],
          "histogram2d": [
           {
            "colorbar": {
             "outlinewidth": 0,
             "ticks": ""
            },
            "colorscale": [
             [
              0,
              "#0d0887"
             ],
             [
              0.1111111111111111,
              "#46039f"
             ],
             [
              0.2222222222222222,
              "#7201a8"
             ],
             [
              0.3333333333333333,
              "#9c179e"
             ],
             [
              0.4444444444444444,
              "#bd3786"
             ],
             [
              0.5555555555555556,
              "#d8576b"
             ],
             [
              0.6666666666666666,
              "#ed7953"
             ],
             [
              0.7777777777777778,
              "#fb9f3a"
             ],
             [
              0.8888888888888888,
              "#fdca26"
             ],
             [
              1,
              "#f0f921"
             ]
            ],
            "type": "histogram2d"
           }
          ],
          "histogram2dcontour": [
           {
            "colorbar": {
             "outlinewidth": 0,
             "ticks": ""
            },
            "colorscale": [
             [
              0,
              "#0d0887"
             ],
             [
              0.1111111111111111,
              "#46039f"
             ],
             [
              0.2222222222222222,
              "#7201a8"
             ],
             [
              0.3333333333333333,
              "#9c179e"
             ],
             [
              0.4444444444444444,
              "#bd3786"
             ],
             [
              0.5555555555555556,
              "#d8576b"
             ],
             [
              0.6666666666666666,
              "#ed7953"
             ],
             [
              0.7777777777777778,
              "#fb9f3a"
             ],
             [
              0.8888888888888888,
              "#fdca26"
             ],
             [
              1,
              "#f0f921"
             ]
            ],
            "type": "histogram2dcontour"
           }
          ],
          "mesh3d": [
           {
            "colorbar": {
             "outlinewidth": 0,
             "ticks": ""
            },
            "type": "mesh3d"
           }
          ],
          "parcoords": [
           {
            "line": {
             "colorbar": {
              "outlinewidth": 0,
              "ticks": ""
             }
            },
            "type": "parcoords"
           }
          ],
          "pie": [
           {
            "automargin": true,
            "type": "pie"
           }
          ],
          "scatter": [
           {
            "fillpattern": {
             "fillmode": "overlay",
             "size": 10,
             "solidity": 0.2
            },
            "type": "scatter"
           }
          ],
          "scatter3d": [
           {
            "line": {
             "colorbar": {
              "outlinewidth": 0,
              "ticks": ""
             }
            },
            "marker": {
             "colorbar": {
              "outlinewidth": 0,
              "ticks": ""
             }
            },
            "type": "scatter3d"
           }
          ],
          "scattercarpet": [
           {
            "marker": {
             "colorbar": {
              "outlinewidth": 0,
              "ticks": ""
             }
            },
            "type": "scattercarpet"
           }
          ],
          "scattergeo": [
           {
            "marker": {
             "colorbar": {
              "outlinewidth": 0,
              "ticks": ""
             }
            },
            "type": "scattergeo"
           }
          ],
          "scattergl": [
           {
            "marker": {
             "colorbar": {
              "outlinewidth": 0,
              "ticks": ""
             }
            },
            "type": "scattergl"
           }
          ],
          "scattermapbox": [
           {
            "marker": {
             "colorbar": {
              "outlinewidth": 0,
              "ticks": ""
             }
            },
            "type": "scattermapbox"
           }
          ],
          "scatterpolar": [
           {
            "marker": {
             "colorbar": {
              "outlinewidth": 0,
              "ticks": ""
             }
            },
            "type": "scatterpolar"
           }
          ],
          "scatterpolargl": [
           {
            "marker": {
             "colorbar": {
              "outlinewidth": 0,
              "ticks": ""
             }
            },
            "type": "scatterpolargl"
           }
          ],
          "scatterternary": [
           {
            "marker": {
             "colorbar": {
              "outlinewidth": 0,
              "ticks": ""
             }
            },
            "type": "scatterternary"
           }
          ],
          "surface": [
           {
            "colorbar": {
             "outlinewidth": 0,
             "ticks": ""
            },
            "colorscale": [
             [
              0,
              "#0d0887"
             ],
             [
              0.1111111111111111,
              "#46039f"
             ],
             [
              0.2222222222222222,
              "#7201a8"
             ],
             [
              0.3333333333333333,
              "#9c179e"
             ],
             [
              0.4444444444444444,
              "#bd3786"
             ],
             [
              0.5555555555555556,
              "#d8576b"
             ],
             [
              0.6666666666666666,
              "#ed7953"
             ],
             [
              0.7777777777777778,
              "#fb9f3a"
             ],
             [
              0.8888888888888888,
              "#fdca26"
             ],
             [
              1,
              "#f0f921"
             ]
            ],
            "type": "surface"
           }
          ],
          "table": [
           {
            "cells": {
             "fill": {
              "color": "#EBF0F8"
             },
             "line": {
              "color": "white"
             }
            },
            "header": {
             "fill": {
              "color": "#C8D4E3"
             },
             "line": {
              "color": "white"
             }
            },
            "type": "table"
           }
          ]
         },
         "layout": {
          "annotationdefaults": {
           "arrowcolor": "#2a3f5f",
           "arrowhead": 0,
           "arrowwidth": 1
          },
          "autotypenumbers": "strict",
          "coloraxis": {
           "colorbar": {
            "outlinewidth": 0,
            "ticks": ""
           }
          },
          "colorscale": {
           "diverging": [
            [
             0,
             "#8e0152"
            ],
            [
             0.1,
             "#c51b7d"
            ],
            [
             0.2,
             "#de77ae"
            ],
            [
             0.3,
             "#f1b6da"
            ],
            [
             0.4,
             "#fde0ef"
            ],
            [
             0.5,
             "#f7f7f7"
            ],
            [
             0.6,
             "#e6f5d0"
            ],
            [
             0.7,
             "#b8e186"
            ],
            [
             0.8,
             "#7fbc41"
            ],
            [
             0.9,
             "#4d9221"
            ],
            [
             1,
             "#276419"
            ]
           ],
           "sequential": [
            [
             0,
             "#0d0887"
            ],
            [
             0.1111111111111111,
             "#46039f"
            ],
            [
             0.2222222222222222,
             "#7201a8"
            ],
            [
             0.3333333333333333,
             "#9c179e"
            ],
            [
             0.4444444444444444,
             "#bd3786"
            ],
            [
             0.5555555555555556,
             "#d8576b"
            ],
            [
             0.6666666666666666,
             "#ed7953"
            ],
            [
             0.7777777777777778,
             "#fb9f3a"
            ],
            [
             0.8888888888888888,
             "#fdca26"
            ],
            [
             1,
             "#f0f921"
            ]
           ],
           "sequentialminus": [
            [
             0,
             "#0d0887"
            ],
            [
             0.1111111111111111,
             "#46039f"
            ],
            [
             0.2222222222222222,
             "#7201a8"
            ],
            [
             0.3333333333333333,
             "#9c179e"
            ],
            [
             0.4444444444444444,
             "#bd3786"
            ],
            [
             0.5555555555555556,
             "#d8576b"
            ],
            [
             0.6666666666666666,
             "#ed7953"
            ],
            [
             0.7777777777777778,
             "#fb9f3a"
            ],
            [
             0.8888888888888888,
             "#fdca26"
            ],
            [
             1,
             "#f0f921"
            ]
           ]
          },
          "colorway": [
           "#636efa",
           "#EF553B",
           "#00cc96",
           "#ab63fa",
           "#FFA15A",
           "#19d3f3",
           "#FF6692",
           "#B6E880",
           "#FF97FF",
           "#FECB52"
          ],
          "font": {
           "color": "#2a3f5f"
          },
          "geo": {
           "bgcolor": "white",
           "lakecolor": "white",
           "landcolor": "#E5ECF6",
           "showlakes": true,
           "showland": true,
           "subunitcolor": "white"
          },
          "hoverlabel": {
           "align": "left"
          },
          "hovermode": "closest",
          "mapbox": {
           "style": "light"
          },
          "paper_bgcolor": "white",
          "plot_bgcolor": "#E5ECF6",
          "polar": {
           "angularaxis": {
            "gridcolor": "white",
            "linecolor": "white",
            "ticks": ""
           },
           "bgcolor": "#E5ECF6",
           "radialaxis": {
            "gridcolor": "white",
            "linecolor": "white",
            "ticks": ""
           }
          },
          "scene": {
           "xaxis": {
            "backgroundcolor": "#E5ECF6",
            "gridcolor": "white",
            "gridwidth": 2,
            "linecolor": "white",
            "showbackground": true,
            "ticks": "",
            "zerolinecolor": "white"
           },
           "yaxis": {
            "backgroundcolor": "#E5ECF6",
            "gridcolor": "white",
            "gridwidth": 2,
            "linecolor": "white",
            "showbackground": true,
            "ticks": "",
            "zerolinecolor": "white"
           },
           "zaxis": {
            "backgroundcolor": "#E5ECF6",
            "gridcolor": "white",
            "gridwidth": 2,
            "linecolor": "white",
            "showbackground": true,
            "ticks": "",
            "zerolinecolor": "white"
           }
          },
          "shapedefaults": {
           "line": {
            "color": "#2a3f5f"
           }
          },
          "ternary": {
           "aaxis": {
            "gridcolor": "white",
            "linecolor": "white",
            "ticks": ""
           },
           "baxis": {
            "gridcolor": "white",
            "linecolor": "white",
            "ticks": ""
           },
           "bgcolor": "#E5ECF6",
           "caxis": {
            "gridcolor": "white",
            "linecolor": "white",
            "ticks": ""
           }
          },
          "title": {
           "x": 0.05
          },
          "xaxis": {
           "automargin": true,
           "gridcolor": "white",
           "linecolor": "white",
           "ticks": "",
           "title": {
            "standoff": 15
           },
           "zerolinecolor": "white",
           "zerolinewidth": 2
          },
          "yaxis": {
           "automargin": true,
           "gridcolor": "white",
           "linecolor": "white",
           "ticks": "",
           "title": {
            "standoff": 15
           },
           "zerolinecolor": "white",
           "zerolinewidth": 2
          }
         }
        },
        "xaxis": {
         "anchor": "y",
         "domain": [
          0,
          1
         ],
         "title": {
          "text": "python_version"
         }
        },
        "yaxis": {
         "anchor": "x",
         "domain": [
          0,
          1
         ],
         "title": {
          "text": "value"
         }
        }
       }
      }
     },
     "metadata": {},
     "output_type": "display_data"
    }
   ],
   "source": [
    "fig = px.line(df, x=\"python_version\", y=[\"Pkg_J\",\"Cor_J\",\"GFX_J\",\"RAM_J\"], text=pd.to_datetime(df['first_release']).dt.year)\n",
    "fig.update_traces(textposition=\"bottom right\")\n",
    "fig.show()"
   ]
  },
  {
   "attachments": {},
   "cell_type": "markdown",
   "metadata": {},
   "source": [
    "### Energy Consumption through releases (based on Python version)"
   ]
  },
  {
   "cell_type": "code",
   "execution_count": 37,
   "metadata": {},
   "outputs": [
    {
     "data": {
      "application/vnd.plotly.v1+json": {
       "config": {
        "plotlyServerURL": "https://plot.ly"
       },
       "data": [
        {
         "hovertemplate": "variable=Pkg_J<br>first_release=%{x}<br>value=%{y}<br>python_version=%{text}<extra></extra>",
         "legendgroup": "Pkg_J",
         "line": {
          "color": "#636efa",
          "dash": "solid"
         },
         "marker": {
          "symbol": "circle"
         },
         "mode": "lines+markers+text",
         "name": "Pkg_J",
         "orientation": "v",
         "showlegend": true,
         "text": [
          "2.5.6",
          "2.7.18",
          "3.0.1",
          "3.4.10",
          "3.5.10",
          "3.6.15",
          "3.7.16",
          "3.8.16",
          "3.9.16",
          "3.10.11",
          "3.11.3",
          "3.12.0b1",
          "3.13.0a0"
         ],
         "textposition": "bottom right",
         "type": "scatter",
         "x": [
          "2006-09-19T00:00:00",
          "2010-07-04T00:00:00",
          "2008-12-03T00:00:00",
          "2014-03-16T00:00:00",
          "2015-09-13T00:00:00",
          "2016-12-23T00:00:00",
          "2018-06-27T00:00:00",
          "2019-10-14T00:00:00",
          "2020-10-05T00:00:00",
          "2021-10-04T00:00:00",
          "2022-10-24T00:00:00",
          "2023-05-22T00:00:00",
          "2023-06-07T00:00:00"
         ],
         "xaxis": "x",
         "y": [
          1.0000000000000002,
          0.48754318919484874,
          0.8666553240498378,
          0.6332897078839912,
          0.662425400481625,
          0.6131897183540991,
          0.5821537011831222,
          0.8033713747251596,
          0.7605119882734792,
          0.7832007119673332,
          0,
          0.2739006386765783,
          0.2572400795728196
         ],
         "yaxis": "y"
        },
        {
         "hovertemplate": "variable=Cor_J<br>first_release=%{x}<br>value=%{y}<br>python_version=%{text}<extra></extra>",
         "legendgroup": "Cor_J",
         "line": {
          "color": "#EF553B",
          "dash": "solid"
         },
         "marker": {
          "symbol": "circle"
         },
         "mode": "lines+markers+text",
         "name": "Cor_J",
         "orientation": "v",
         "showlegend": true,
         "text": [
          "2.5.6",
          "2.7.18",
          "3.0.1",
          "3.4.10",
          "3.5.10",
          "3.6.15",
          "3.7.16",
          "3.8.16",
          "3.9.16",
          "3.10.11",
          "3.11.3",
          "3.12.0b1",
          "3.13.0a0"
         ],
         "textposition": "bottom right",
         "type": "scatter",
         "x": [
          "2006-09-19T00:00:00",
          "2010-07-04T00:00:00",
          "2008-12-03T00:00:00",
          "2014-03-16T00:00:00",
          "2015-09-13T00:00:00",
          "2016-12-23T00:00:00",
          "2018-06-27T00:00:00",
          "2019-10-14T00:00:00",
          "2020-10-05T00:00:00",
          "2021-10-04T00:00:00",
          "2022-10-24T00:00:00",
          "2023-05-22T00:00:00",
          "2023-06-07T00:00:00"
         ],
         "xaxis": "x",
         "y": [
          1.0000000000000002,
          0.4553892313794965,
          0.8015234618493299,
          0.5953431219037904,
          0.6258421839070176,
          0.5798877982874475,
          0.5506801595041888,
          0.7581370101613831,
          0.7134561527518053,
          0.7399318200119895,
          0,
          0.24534655178070253,
          0.24497373907285946
         ],
         "yaxis": "y"
        },
        {
         "hovertemplate": "variable=GFX_J<br>first_release=%{x}<br>value=%{y}<br>python_version=%{text}<extra></extra>",
         "legendgroup": "GFX_J",
         "line": {
          "color": "#00cc96",
          "dash": "solid"
         },
         "marker": {
          "symbol": "circle"
         },
         "mode": "lines+markers+text",
         "name": "GFX_J",
         "orientation": "v",
         "showlegend": true,
         "text": [
          "2.5.6",
          "2.7.18",
          "3.0.1",
          "3.4.10",
          "3.5.10",
          "3.6.15",
          "3.7.16",
          "3.8.16",
          "3.9.16",
          "3.10.11",
          "3.11.3",
          "3.12.0b1",
          "3.13.0a0"
         ],
         "textposition": "bottom right",
         "type": "scatter",
         "x": [
          "2006-09-19T00:00:00",
          "2010-07-04T00:00:00",
          "2008-12-03T00:00:00",
          "2014-03-16T00:00:00",
          "2015-09-13T00:00:00",
          "2016-12-23T00:00:00",
          "2018-06-27T00:00:00",
          "2019-10-14T00:00:00",
          "2020-10-05T00:00:00",
          "2021-10-04T00:00:00",
          "2022-10-24T00:00:00",
          "2023-05-22T00:00:00",
          "2023-06-07T00:00:00"
         ],
         "xaxis": "x",
         "y": [
          1,
          0.05472636815920398,
          0.014925373134328346,
          0.004975124378109458,
          0.009950248756218916,
          0.004975124378109458,
          0.009950248756218916,
          0.009950248756218916,
          0.019900497512437804,
          0.019900497512437804,
          0,
          0.05472636815920398,
          0.014925373134328346
         ],
         "yaxis": "y"
        },
        {
         "hovertemplate": "variable=RAM_J<br>first_release=%{x}<br>value=%{y}<br>python_version=%{text}<extra></extra>",
         "legendgroup": "RAM_J",
         "line": {
          "color": "#ab63fa",
          "dash": "solid"
         },
         "marker": {
          "symbol": "circle"
         },
         "mode": "lines+markers+text",
         "name": "RAM_J",
         "orientation": "v",
         "showlegend": true,
         "text": [
          "2.5.6",
          "2.7.18",
          "3.0.1",
          "3.4.10",
          "3.5.10",
          "3.6.15",
          "3.7.16",
          "3.8.16",
          "3.9.16",
          "3.10.11",
          "3.11.3",
          "3.12.0b1",
          "3.13.0a0"
         ],
         "textposition": "bottom right",
         "type": "scatter",
         "x": [
          "2006-09-19T00:00:00",
          "2010-07-04T00:00:00",
          "2008-12-03T00:00:00",
          "2014-03-16T00:00:00",
          "2015-09-13T00:00:00",
          "2016-12-23T00:00:00",
          "2018-06-27T00:00:00",
          "2019-10-14T00:00:00",
          "2020-10-05T00:00:00",
          "2021-10-04T00:00:00",
          "2022-10-24T00:00:00",
          "2023-05-22T00:00:00",
          "2023-06-07T00:00:00"
         ],
         "xaxis": "x",
         "y": [
          0.6078055022392835,
          0.45599122566493,
          0.8051366419888494,
          0.5314870669957042,
          0.5488529384882551,
          0.49894890777808254,
          0.47107211406635596,
          0.6741614112055571,
          0.6501233890869208,
          0.6386070743076503,
          0,
          0.9999999999999999,
          0.8430673613015262
         ],
         "yaxis": "y"
        }
       ],
       "layout": {
        "legend": {
         "title": {
          "text": "variable"
         },
         "tracegroupgap": 0
        },
        "margin": {
         "t": 60
        },
        "template": {
         "data": {
          "bar": [
           {
            "error_x": {
             "color": "#2a3f5f"
            },
            "error_y": {
             "color": "#2a3f5f"
            },
            "marker": {
             "line": {
              "color": "#E5ECF6",
              "width": 0.5
             },
             "pattern": {
              "fillmode": "overlay",
              "size": 10,
              "solidity": 0.2
             }
            },
            "type": "bar"
           }
          ],
          "barpolar": [
           {
            "marker": {
             "line": {
              "color": "#E5ECF6",
              "width": 0.5
             },
             "pattern": {
              "fillmode": "overlay",
              "size": 10,
              "solidity": 0.2
             }
            },
            "type": "barpolar"
           }
          ],
          "carpet": [
           {
            "aaxis": {
             "endlinecolor": "#2a3f5f",
             "gridcolor": "white",
             "linecolor": "white",
             "minorgridcolor": "white",
             "startlinecolor": "#2a3f5f"
            },
            "baxis": {
             "endlinecolor": "#2a3f5f",
             "gridcolor": "white",
             "linecolor": "white",
             "minorgridcolor": "white",
             "startlinecolor": "#2a3f5f"
            },
            "type": "carpet"
           }
          ],
          "choropleth": [
           {
            "colorbar": {
             "outlinewidth": 0,
             "ticks": ""
            },
            "type": "choropleth"
           }
          ],
          "contour": [
           {
            "colorbar": {
             "outlinewidth": 0,
             "ticks": ""
            },
            "colorscale": [
             [
              0,
              "#0d0887"
             ],
             [
              0.1111111111111111,
              "#46039f"
             ],
             [
              0.2222222222222222,
              "#7201a8"
             ],
             [
              0.3333333333333333,
              "#9c179e"
             ],
             [
              0.4444444444444444,
              "#bd3786"
             ],
             [
              0.5555555555555556,
              "#d8576b"
             ],
             [
              0.6666666666666666,
              "#ed7953"
             ],
             [
              0.7777777777777778,
              "#fb9f3a"
             ],
             [
              0.8888888888888888,
              "#fdca26"
             ],
             [
              1,
              "#f0f921"
             ]
            ],
            "type": "contour"
           }
          ],
          "contourcarpet": [
           {
            "colorbar": {
             "outlinewidth": 0,
             "ticks": ""
            },
            "type": "contourcarpet"
           }
          ],
          "heatmap": [
           {
            "colorbar": {
             "outlinewidth": 0,
             "ticks": ""
            },
            "colorscale": [
             [
              0,
              "#0d0887"
             ],
             [
              0.1111111111111111,
              "#46039f"
             ],
             [
              0.2222222222222222,
              "#7201a8"
             ],
             [
              0.3333333333333333,
              "#9c179e"
             ],
             [
              0.4444444444444444,
              "#bd3786"
             ],
             [
              0.5555555555555556,
              "#d8576b"
             ],
             [
              0.6666666666666666,
              "#ed7953"
             ],
             [
              0.7777777777777778,
              "#fb9f3a"
             ],
             [
              0.8888888888888888,
              "#fdca26"
             ],
             [
              1,
              "#f0f921"
             ]
            ],
            "type": "heatmap"
           }
          ],
          "heatmapgl": [
           {
            "colorbar": {
             "outlinewidth": 0,
             "ticks": ""
            },
            "colorscale": [
             [
              0,
              "#0d0887"
             ],
             [
              0.1111111111111111,
              "#46039f"
             ],
             [
              0.2222222222222222,
              "#7201a8"
             ],
             [
              0.3333333333333333,
              "#9c179e"
             ],
             [
              0.4444444444444444,
              "#bd3786"
             ],
             [
              0.5555555555555556,
              "#d8576b"
             ],
             [
              0.6666666666666666,
              "#ed7953"
             ],
             [
              0.7777777777777778,
              "#fb9f3a"
             ],
             [
              0.8888888888888888,
              "#fdca26"
             ],
             [
              1,
              "#f0f921"
             ]
            ],
            "type": "heatmapgl"
           }
          ],
          "histogram": [
           {
            "marker": {
             "pattern": {
              "fillmode": "overlay",
              "size": 10,
              "solidity": 0.2
             }
            },
            "type": "histogram"
           }
          ],
          "histogram2d": [
           {
            "colorbar": {
             "outlinewidth": 0,
             "ticks": ""
            },
            "colorscale": [
             [
              0,
              "#0d0887"
             ],
             [
              0.1111111111111111,
              "#46039f"
             ],
             [
              0.2222222222222222,
              "#7201a8"
             ],
             [
              0.3333333333333333,
              "#9c179e"
             ],
             [
              0.4444444444444444,
              "#bd3786"
             ],
             [
              0.5555555555555556,
              "#d8576b"
             ],
             [
              0.6666666666666666,
              "#ed7953"
             ],
             [
              0.7777777777777778,
              "#fb9f3a"
             ],
             [
              0.8888888888888888,
              "#fdca26"
             ],
             [
              1,
              "#f0f921"
             ]
            ],
            "type": "histogram2d"
           }
          ],
          "histogram2dcontour": [
           {
            "colorbar": {
             "outlinewidth": 0,
             "ticks": ""
            },
            "colorscale": [
             [
              0,
              "#0d0887"
             ],
             [
              0.1111111111111111,
              "#46039f"
             ],
             [
              0.2222222222222222,
              "#7201a8"
             ],
             [
              0.3333333333333333,
              "#9c179e"
             ],
             [
              0.4444444444444444,
              "#bd3786"
             ],
             [
              0.5555555555555556,
              "#d8576b"
             ],
             [
              0.6666666666666666,
              "#ed7953"
             ],
             [
              0.7777777777777778,
              "#fb9f3a"
             ],
             [
              0.8888888888888888,
              "#fdca26"
             ],
             [
              1,
              "#f0f921"
             ]
            ],
            "type": "histogram2dcontour"
           }
          ],
          "mesh3d": [
           {
            "colorbar": {
             "outlinewidth": 0,
             "ticks": ""
            },
            "type": "mesh3d"
           }
          ],
          "parcoords": [
           {
            "line": {
             "colorbar": {
              "outlinewidth": 0,
              "ticks": ""
             }
            },
            "type": "parcoords"
           }
          ],
          "pie": [
           {
            "automargin": true,
            "type": "pie"
           }
          ],
          "scatter": [
           {
            "fillpattern": {
             "fillmode": "overlay",
             "size": 10,
             "solidity": 0.2
            },
            "type": "scatter"
           }
          ],
          "scatter3d": [
           {
            "line": {
             "colorbar": {
              "outlinewidth": 0,
              "ticks": ""
             }
            },
            "marker": {
             "colorbar": {
              "outlinewidth": 0,
              "ticks": ""
             }
            },
            "type": "scatter3d"
           }
          ],
          "scattercarpet": [
           {
            "marker": {
             "colorbar": {
              "outlinewidth": 0,
              "ticks": ""
             }
            },
            "type": "scattercarpet"
           }
          ],
          "scattergeo": [
           {
            "marker": {
             "colorbar": {
              "outlinewidth": 0,
              "ticks": ""
             }
            },
            "type": "scattergeo"
           }
          ],
          "scattergl": [
           {
            "marker": {
             "colorbar": {
              "outlinewidth": 0,
              "ticks": ""
             }
            },
            "type": "scattergl"
           }
          ],
          "scattermapbox": [
           {
            "marker": {
             "colorbar": {
              "outlinewidth": 0,
              "ticks": ""
             }
            },
            "type": "scattermapbox"
           }
          ],
          "scatterpolar": [
           {
            "marker": {
             "colorbar": {
              "outlinewidth": 0,
              "ticks": ""
             }
            },
            "type": "scatterpolar"
           }
          ],
          "scatterpolargl": [
           {
            "marker": {
             "colorbar": {
              "outlinewidth": 0,
              "ticks": ""
             }
            },
            "type": "scatterpolargl"
           }
          ],
          "scatterternary": [
           {
            "marker": {
             "colorbar": {
              "outlinewidth": 0,
              "ticks": ""
             }
            },
            "type": "scatterternary"
           }
          ],
          "surface": [
           {
            "colorbar": {
             "outlinewidth": 0,
             "ticks": ""
            },
            "colorscale": [
             [
              0,
              "#0d0887"
             ],
             [
              0.1111111111111111,
              "#46039f"
             ],
             [
              0.2222222222222222,
              "#7201a8"
             ],
             [
              0.3333333333333333,
              "#9c179e"
             ],
             [
              0.4444444444444444,
              "#bd3786"
             ],
             [
              0.5555555555555556,
              "#d8576b"
             ],
             [
              0.6666666666666666,
              "#ed7953"
             ],
             [
              0.7777777777777778,
              "#fb9f3a"
             ],
             [
              0.8888888888888888,
              "#fdca26"
             ],
             [
              1,
              "#f0f921"
             ]
            ],
            "type": "surface"
           }
          ],
          "table": [
           {
            "cells": {
             "fill": {
              "color": "#EBF0F8"
             },
             "line": {
              "color": "white"
             }
            },
            "header": {
             "fill": {
              "color": "#C8D4E3"
             },
             "line": {
              "color": "white"
             }
            },
            "type": "table"
           }
          ]
         },
         "layout": {
          "annotationdefaults": {
           "arrowcolor": "#2a3f5f",
           "arrowhead": 0,
           "arrowwidth": 1
          },
          "autotypenumbers": "strict",
          "coloraxis": {
           "colorbar": {
            "outlinewidth": 0,
            "ticks": ""
           }
          },
          "colorscale": {
           "diverging": [
            [
             0,
             "#8e0152"
            ],
            [
             0.1,
             "#c51b7d"
            ],
            [
             0.2,
             "#de77ae"
            ],
            [
             0.3,
             "#f1b6da"
            ],
            [
             0.4,
             "#fde0ef"
            ],
            [
             0.5,
             "#f7f7f7"
            ],
            [
             0.6,
             "#e6f5d0"
            ],
            [
             0.7,
             "#b8e186"
            ],
            [
             0.8,
             "#7fbc41"
            ],
            [
             0.9,
             "#4d9221"
            ],
            [
             1,
             "#276419"
            ]
           ],
           "sequential": [
            [
             0,
             "#0d0887"
            ],
            [
             0.1111111111111111,
             "#46039f"
            ],
            [
             0.2222222222222222,
             "#7201a8"
            ],
            [
             0.3333333333333333,
             "#9c179e"
            ],
            [
             0.4444444444444444,
             "#bd3786"
            ],
            [
             0.5555555555555556,
             "#d8576b"
            ],
            [
             0.6666666666666666,
             "#ed7953"
            ],
            [
             0.7777777777777778,
             "#fb9f3a"
            ],
            [
             0.8888888888888888,
             "#fdca26"
            ],
            [
             1,
             "#f0f921"
            ]
           ],
           "sequentialminus": [
            [
             0,
             "#0d0887"
            ],
            [
             0.1111111111111111,
             "#46039f"
            ],
            [
             0.2222222222222222,
             "#7201a8"
            ],
            [
             0.3333333333333333,
             "#9c179e"
            ],
            [
             0.4444444444444444,
             "#bd3786"
            ],
            [
             0.5555555555555556,
             "#d8576b"
            ],
            [
             0.6666666666666666,
             "#ed7953"
            ],
            [
             0.7777777777777778,
             "#fb9f3a"
            ],
            [
             0.8888888888888888,
             "#fdca26"
            ],
            [
             1,
             "#f0f921"
            ]
           ]
          },
          "colorway": [
           "#636efa",
           "#EF553B",
           "#00cc96",
           "#ab63fa",
           "#FFA15A",
           "#19d3f3",
           "#FF6692",
           "#B6E880",
           "#FF97FF",
           "#FECB52"
          ],
          "font": {
           "color": "#2a3f5f"
          },
          "geo": {
           "bgcolor": "white",
           "lakecolor": "white",
           "landcolor": "#E5ECF6",
           "showlakes": true,
           "showland": true,
           "subunitcolor": "white"
          },
          "hoverlabel": {
           "align": "left"
          },
          "hovermode": "closest",
          "mapbox": {
           "style": "light"
          },
          "paper_bgcolor": "white",
          "plot_bgcolor": "#E5ECF6",
          "polar": {
           "angularaxis": {
            "gridcolor": "white",
            "linecolor": "white",
            "ticks": ""
           },
           "bgcolor": "#E5ECF6",
           "radialaxis": {
            "gridcolor": "white",
            "linecolor": "white",
            "ticks": ""
           }
          },
          "scene": {
           "xaxis": {
            "backgroundcolor": "#E5ECF6",
            "gridcolor": "white",
            "gridwidth": 2,
            "linecolor": "white",
            "showbackground": true,
            "ticks": "",
            "zerolinecolor": "white"
           },
           "yaxis": {
            "backgroundcolor": "#E5ECF6",
            "gridcolor": "white",
            "gridwidth": 2,
            "linecolor": "white",
            "showbackground": true,
            "ticks": "",
            "zerolinecolor": "white"
           },
           "zaxis": {
            "backgroundcolor": "#E5ECF6",
            "gridcolor": "white",
            "gridwidth": 2,
            "linecolor": "white",
            "showbackground": true,
            "ticks": "",
            "zerolinecolor": "white"
           }
          },
          "shapedefaults": {
           "line": {
            "color": "#2a3f5f"
           }
          },
          "ternary": {
           "aaxis": {
            "gridcolor": "white",
            "linecolor": "white",
            "ticks": ""
           },
           "baxis": {
            "gridcolor": "white",
            "linecolor": "white",
            "ticks": ""
           },
           "bgcolor": "#E5ECF6",
           "caxis": {
            "gridcolor": "white",
            "linecolor": "white",
            "ticks": ""
           }
          },
          "title": {
           "x": 0.05
          },
          "xaxis": {
           "automargin": true,
           "gridcolor": "white",
           "linecolor": "white",
           "ticks": "",
           "title": {
            "standoff": 15
           },
           "zerolinecolor": "white",
           "zerolinewidth": 2
          },
          "yaxis": {
           "automargin": true,
           "gridcolor": "white",
           "linecolor": "white",
           "ticks": "",
           "title": {
            "standoff": 15
           },
           "zerolinecolor": "white",
           "zerolinewidth": 2
          }
         }
        },
        "xaxis": {
         "anchor": "y",
         "domain": [
          0,
          1
         ],
         "title": {
          "text": "first_release"
         }
        },
        "yaxis": {
         "anchor": "x",
         "domain": [
          0,
          1
         ],
         "title": {
          "text": "value"
         }
        }
       }
      }
     },
     "metadata": {},
     "output_type": "display_data"
    }
   ],
   "source": [
    "fig = px.line(df, x=\"first_release\", y=[\"Pkg_J\",\"Cor_J\",\"GFX_J\",\"RAM_J\"], text=\"python_version\")\n",
    "fig.update_traces(textposition=\"bottom right\")\n",
    "fig.show()"
   ]
  },
  {
   "attachments": {},
   "cell_type": "markdown",
   "metadata": {},
   "source": [
    "### Time elapsed and more parameters through different Python versions"
   ]
  },
  {
   "cell_type": "code",
   "execution_count": 46,
   "metadata": {},
   "outputs": [
    {
     "data": {
      "application/vnd.plotly.v1+json": {
       "config": {
        "plotlyServerURL": "https://plot.ly"
       },
       "data": [
        {
         "hovertemplate": "variable=time_elapsed<br>python_version=%{x}<br>value=%{y}<br>text=%{text}<extra></extra>",
         "legendgroup": "time_elapsed",
         "line": {
          "color": "#636efa",
          "dash": "solid"
         },
         "marker": {
          "symbol": "circle"
         },
         "mode": "lines+markers+text",
         "name": "time_elapsed",
         "orientation": "v",
         "showlegend": true,
         "text": [
          2011,
          2020,
          2009,
          2019,
          2020,
          2021,
          2022,
          2022,
          2022,
          2023,
          2023,
          2023,
          2023
         ],
         "textposition": "bottom right",
         "type": "scatter",
         "x": [
          "2.5.6",
          "2.7.18",
          "3.0.1",
          "3.4.10",
          "3.5.10",
          "3.6.15",
          "3.7.16",
          "3.8.16",
          "3.9.16",
          "3.10.11",
          "3.11.3",
          "3.12.0b1",
          "3.13.0a0"
         ],
         "xaxis": "x",
         "y": [
          0.7141513202145061,
          0.5397773029031155,
          1,
          0.6743612908152817,
          0.6871906140382585,
          0.6307322337685956,
          0.5979201423474348,
          0.8317550198930829,
          0.808765242371471,
          0.8080031365276487,
          0,
          0.13932160026366358,
          0.0603771582552447
         ],
         "yaxis": "y"
        },
        {
         "hovertemplate": "variable=Pkg_J<br>python_version=%{x}<br>value=%{y}<br>text=%{text}<extra></extra>",
         "legendgroup": "Pkg_J",
         "line": {
          "color": "#EF553B",
          "dash": "solid"
         },
         "marker": {
          "symbol": "circle"
         },
         "mode": "lines+markers+text",
         "name": "Pkg_J",
         "orientation": "v",
         "showlegend": true,
         "text": [
          2011,
          2020,
          2009,
          2019,
          2020,
          2021,
          2022,
          2022,
          2022,
          2023,
          2023,
          2023,
          2023
         ],
         "textposition": "bottom right",
         "type": "scatter",
         "x": [
          "2.5.6",
          "2.7.18",
          "3.0.1",
          "3.4.10",
          "3.5.10",
          "3.6.15",
          "3.7.16",
          "3.8.16",
          "3.9.16",
          "3.10.11",
          "3.11.3",
          "3.12.0b1",
          "3.13.0a0"
         ],
         "xaxis": "x",
         "y": [
          1.0000000000000002,
          0.48754318919484874,
          0.8666553240498378,
          0.6332897078839912,
          0.662425400481625,
          0.6131897183540991,
          0.5821537011831222,
          0.8033713747251596,
          0.7605119882734792,
          0.7832007119673332,
          0,
          0.2739006386765783,
          0.2572400795728196
         ],
         "yaxis": "y"
        },
        {
         "hovertemplate": "variable=Avg_MHz<br>python_version=%{x}<br>value=%{y}<br>text=%{text}<extra></extra>",
         "legendgroup": "Avg_MHz",
         "line": {
          "color": "#00cc96",
          "dash": "solid"
         },
         "marker": {
          "symbol": "circle"
         },
         "mode": "lines+markers+text",
         "name": "Avg_MHz",
         "orientation": "v",
         "showlegend": true,
         "text": [
          2011,
          2020,
          2009,
          2019,
          2020,
          2021,
          2022,
          2022,
          2022,
          2023,
          2023,
          2023,
          2023
         ],
         "textposition": "bottom right",
         "type": "scatter",
         "x": [
          "2.5.6",
          "2.7.18",
          "3.0.1",
          "3.4.10",
          "3.5.10",
          "3.6.15",
          "3.7.16",
          "3.8.16",
          "3.9.16",
          "3.10.11",
          "3.11.3",
          "3.12.0b1",
          "3.13.0a0"
         ],
         "xaxis": "x",
         "y": [
          0.7551020408163254,
          0.1020408163265305,
          0,
          0.040816326530611846,
          0.08163265306122369,
          0.12244897959183554,
          0.1020408163265305,
          0.08163265306122369,
          0.1020408163265305,
          0.08163265306122369,
          0.5510204081632644,
          0.9183673469387745,
          1
         ],
         "yaxis": "y"
        },
        {
         "hovertemplate": "variable=Busy%<br>python_version=%{x}<br>value=%{y}<br>text=%{text}<extra></extra>",
         "legendgroup": "Busy%",
         "line": {
          "color": "#ab63fa",
          "dash": "solid"
         },
         "marker": {
          "symbol": "circle"
         },
         "mode": "lines+markers+text",
         "name": "Busy%",
         "orientation": "v",
         "showlegend": true,
         "text": [
          2011,
          2020,
          2009,
          2019,
          2020,
          2021,
          2022,
          2022,
          2022,
          2023,
          2023,
          2023,
          2023
         ],
         "textposition": "bottom right",
         "type": "scatter",
         "x": [
          "2.5.6",
          "2.7.18",
          "3.0.1",
          "3.4.10",
          "3.5.10",
          "3.6.15",
          "3.7.16",
          "3.8.16",
          "3.9.16",
          "3.10.11",
          "3.11.3",
          "3.12.0b1",
          "3.13.0a0"
         ],
         "xaxis": "x",
         "y": [
          0.1458333333333357,
          0.5416666666666679,
          0.6458333333333357,
          0.16666666666666785,
          0.3958333333333357,
          0.2708333333333357,
          0.20833333333333215,
          0.5,
          0.5416666666666679,
          0.20833333333333215,
          0.4583333333333357,
          1,
          0
         ],
         "yaxis": "y"
        },
        {
         "hovertemplate": "variable=Bzy_MHz<br>python_version=%{x}<br>value=%{y}<br>text=%{text}<extra></extra>",
         "legendgroup": "Bzy_MHz",
         "line": {
          "color": "#FFA15A",
          "dash": "solid"
         },
         "marker": {
          "symbol": "circle"
         },
         "mode": "lines+markers+text",
         "name": "Bzy_MHz",
         "orientation": "v",
         "showlegend": true,
         "text": [
          2011,
          2020,
          2009,
          2019,
          2020,
          2021,
          2022,
          2022,
          2022,
          2023,
          2023,
          2023,
          2023
         ],
         "textposition": "bottom right",
         "type": "scatter",
         "x": [
          "2.5.6",
          "2.7.18",
          "3.0.1",
          "3.4.10",
          "3.5.10",
          "3.6.15",
          "3.7.16",
          "3.8.16",
          "3.9.16",
          "3.10.11",
          "3.11.3",
          "3.12.0b1",
          "3.13.0a0"
         ],
         "xaxis": "x",
         "y": [
          0.7635574837310202,
          0.1127982646420822,
          0,
          0.16485900216919713,
          0.14316702819956628,
          0.19956616052060738,
          0.20607375271149664,
          0.10412147505422986,
          0.11062906724511912,
          0.19305856832971813,
          0.4924078091106292,
          0.6334056399132315,
          1
         ],
         "yaxis": "y"
        },
        {
         "hovertemplate": "variable=IPC<br>python_version=%{x}<br>value=%{y}<br>text=%{text}<extra></extra>",
         "legendgroup": "IPC",
         "line": {
          "color": "#19d3f3",
          "dash": "solid"
         },
         "marker": {
          "symbol": "circle"
         },
         "mode": "lines+markers+text",
         "name": "IPC",
         "orientation": "v",
         "showlegend": true,
         "text": [
          2011,
          2020,
          2009,
          2019,
          2020,
          2021,
          2022,
          2022,
          2022,
          2023,
          2023,
          2023,
          2023
         ],
         "textposition": "bottom right",
         "type": "scatter",
         "x": [
          "2.5.6",
          "2.7.18",
          "3.0.1",
          "3.4.10",
          "3.5.10",
          "3.6.15",
          "3.7.16",
          "3.8.16",
          "3.9.16",
          "3.10.11",
          "3.11.3",
          "3.12.0b1",
          "3.13.0a0"
         ],
         "xaxis": "x",
         "y": [
          0.575757575757577,
          1,
          0.09090909090909172,
          0.5151515151515165,
          0.42424242424242475,
          0.5151515151515165,
          0.7575757575757578,
          0.3333333333333339,
          0.575757575757577,
          0.4848484848484862,
          0.6969696969696972,
          0,
          0.4848484848484862
         ],
         "yaxis": "y"
        },
        {
         "hovertemplate": "variable=IRQ<br>python_version=%{x}<br>value=%{y}<br>text=%{text}<extra></extra>",
         "legendgroup": "IRQ",
         "line": {
          "color": "#FF6692",
          "dash": "solid"
         },
         "marker": {
          "symbol": "circle"
         },
         "mode": "lines+markers+text",
         "name": "IRQ",
         "orientation": "v",
         "showlegend": true,
         "text": [
          2011,
          2020,
          2009,
          2019,
          2020,
          2021,
          2022,
          2022,
          2022,
          2023,
          2023,
          2023,
          2023
         ],
         "textposition": "bottom right",
         "type": "scatter",
         "x": [
          "2.5.6",
          "2.7.18",
          "3.0.1",
          "3.4.10",
          "3.5.10",
          "3.6.15",
          "3.7.16",
          "3.8.16",
          "3.9.16",
          "3.10.11",
          "3.11.3",
          "3.12.0b1",
          "3.13.0a0"
         ],
         "xaxis": "x",
         "y": [
          0.8557641125362232,
          0.5059963127486242,
          0.9999999999999998,
          0.6165577774346083,
          0.69786969353713,
          0.6490649444539822,
          0.6158719176209033,
          0.903279100082907,
          0.7741096978852224,
          0.8363805926691508,
          0,
          0.29531398144641363,
          0.08393975131327047
         ],
         "yaxis": "y"
        },
        {
         "hovertemplate": "variable=POLL<br>python_version=%{x}<br>value=%{y}<br>text=%{text}<extra></extra>",
         "legendgroup": "POLL",
         "line": {
          "color": "#B6E880",
          "dash": "solid"
         },
         "marker": {
          "symbol": "circle"
         },
         "mode": "lines+markers+text",
         "name": "POLL",
         "orientation": "v",
         "showlegend": true,
         "text": [
          2011,
          2020,
          2009,
          2019,
          2020,
          2021,
          2022,
          2022,
          2022,
          2023,
          2023,
          2023,
          2023
         ],
         "textposition": "bottom right",
         "type": "scatter",
         "x": [
          "2.5.6",
          "2.7.18",
          "3.0.1",
          "3.4.10",
          "3.5.10",
          "3.6.15",
          "3.7.16",
          "3.8.16",
          "3.9.16",
          "3.10.11",
          "3.11.3",
          "3.12.0b1",
          "3.13.0a0"
         ],
         "xaxis": "x",
         "y": [
          0.44695233730522455,
          1.0000000000000002,
          0.24610449129239229,
          0.222846012832264,
          0.38622823098075154,
          0.07023373052245649,
          0,
          0.13405132905591202,
          0.14344637946837765,
          0.4129239230064161,
          0.0635884509624198,
          0.15925756186984422,
          0.10804307974335473
         ],
         "yaxis": "y"
        }
       ],
       "layout": {
        "legend": {
         "title": {
          "text": "variable"
         },
         "tracegroupgap": 0
        },
        "margin": {
         "t": 60
        },
        "template": {
         "data": {
          "bar": [
           {
            "error_x": {
             "color": "#2a3f5f"
            },
            "error_y": {
             "color": "#2a3f5f"
            },
            "marker": {
             "line": {
              "color": "#E5ECF6",
              "width": 0.5
             },
             "pattern": {
              "fillmode": "overlay",
              "size": 10,
              "solidity": 0.2
             }
            },
            "type": "bar"
           }
          ],
          "barpolar": [
           {
            "marker": {
             "line": {
              "color": "#E5ECF6",
              "width": 0.5
             },
             "pattern": {
              "fillmode": "overlay",
              "size": 10,
              "solidity": 0.2
             }
            },
            "type": "barpolar"
           }
          ],
          "carpet": [
           {
            "aaxis": {
             "endlinecolor": "#2a3f5f",
             "gridcolor": "white",
             "linecolor": "white",
             "minorgridcolor": "white",
             "startlinecolor": "#2a3f5f"
            },
            "baxis": {
             "endlinecolor": "#2a3f5f",
             "gridcolor": "white",
             "linecolor": "white",
             "minorgridcolor": "white",
             "startlinecolor": "#2a3f5f"
            },
            "type": "carpet"
           }
          ],
          "choropleth": [
           {
            "colorbar": {
             "outlinewidth": 0,
             "ticks": ""
            },
            "type": "choropleth"
           }
          ],
          "contour": [
           {
            "colorbar": {
             "outlinewidth": 0,
             "ticks": ""
            },
            "colorscale": [
             [
              0,
              "#0d0887"
             ],
             [
              0.1111111111111111,
              "#46039f"
             ],
             [
              0.2222222222222222,
              "#7201a8"
             ],
             [
              0.3333333333333333,
              "#9c179e"
             ],
             [
              0.4444444444444444,
              "#bd3786"
             ],
             [
              0.5555555555555556,
              "#d8576b"
             ],
             [
              0.6666666666666666,
              "#ed7953"
             ],
             [
              0.7777777777777778,
              "#fb9f3a"
             ],
             [
              0.8888888888888888,
              "#fdca26"
             ],
             [
              1,
              "#f0f921"
             ]
            ],
            "type": "contour"
           }
          ],
          "contourcarpet": [
           {
            "colorbar": {
             "outlinewidth": 0,
             "ticks": ""
            },
            "type": "contourcarpet"
           }
          ],
          "heatmap": [
           {
            "colorbar": {
             "outlinewidth": 0,
             "ticks": ""
            },
            "colorscale": [
             [
              0,
              "#0d0887"
             ],
             [
              0.1111111111111111,
              "#46039f"
             ],
             [
              0.2222222222222222,
              "#7201a8"
             ],
             [
              0.3333333333333333,
              "#9c179e"
             ],
             [
              0.4444444444444444,
              "#bd3786"
             ],
             [
              0.5555555555555556,
              "#d8576b"
             ],
             [
              0.6666666666666666,
              "#ed7953"
             ],
             [
              0.7777777777777778,
              "#fb9f3a"
             ],
             [
              0.8888888888888888,
              "#fdca26"
             ],
             [
              1,
              "#f0f921"
             ]
            ],
            "type": "heatmap"
           }
          ],
          "heatmapgl": [
           {
            "colorbar": {
             "outlinewidth": 0,
             "ticks": ""
            },
            "colorscale": [
             [
              0,
              "#0d0887"
             ],
             [
              0.1111111111111111,
              "#46039f"
             ],
             [
              0.2222222222222222,
              "#7201a8"
             ],
             [
              0.3333333333333333,
              "#9c179e"
             ],
             [
              0.4444444444444444,
              "#bd3786"
             ],
             [
              0.5555555555555556,
              "#d8576b"
             ],
             [
              0.6666666666666666,
              "#ed7953"
             ],
             [
              0.7777777777777778,
              "#fb9f3a"
             ],
             [
              0.8888888888888888,
              "#fdca26"
             ],
             [
              1,
              "#f0f921"
             ]
            ],
            "type": "heatmapgl"
           }
          ],
          "histogram": [
           {
            "marker": {
             "pattern": {
              "fillmode": "overlay",
              "size": 10,
              "solidity": 0.2
             }
            },
            "type": "histogram"
           }
          ],
          "histogram2d": [
           {
            "colorbar": {
             "outlinewidth": 0,
             "ticks": ""
            },
            "colorscale": [
             [
              0,
              "#0d0887"
             ],
             [
              0.1111111111111111,
              "#46039f"
             ],
             [
              0.2222222222222222,
              "#7201a8"
             ],
             [
              0.3333333333333333,
              "#9c179e"
             ],
             [
              0.4444444444444444,
              "#bd3786"
             ],
             [
              0.5555555555555556,
              "#d8576b"
             ],
             [
              0.6666666666666666,
              "#ed7953"
             ],
             [
              0.7777777777777778,
              "#fb9f3a"
             ],
             [
              0.8888888888888888,
              "#fdca26"
             ],
             [
              1,
              "#f0f921"
             ]
            ],
            "type": "histogram2d"
           }
          ],
          "histogram2dcontour": [
           {
            "colorbar": {
             "outlinewidth": 0,
             "ticks": ""
            },
            "colorscale": [
             [
              0,
              "#0d0887"
             ],
             [
              0.1111111111111111,
              "#46039f"
             ],
             [
              0.2222222222222222,
              "#7201a8"
             ],
             [
              0.3333333333333333,
              "#9c179e"
             ],
             [
              0.4444444444444444,
              "#bd3786"
             ],
             [
              0.5555555555555556,
              "#d8576b"
             ],
             [
              0.6666666666666666,
              "#ed7953"
             ],
             [
              0.7777777777777778,
              "#fb9f3a"
             ],
             [
              0.8888888888888888,
              "#fdca26"
             ],
             [
              1,
              "#f0f921"
             ]
            ],
            "type": "histogram2dcontour"
           }
          ],
          "mesh3d": [
           {
            "colorbar": {
             "outlinewidth": 0,
             "ticks": ""
            },
            "type": "mesh3d"
           }
          ],
          "parcoords": [
           {
            "line": {
             "colorbar": {
              "outlinewidth": 0,
              "ticks": ""
             }
            },
            "type": "parcoords"
           }
          ],
          "pie": [
           {
            "automargin": true,
            "type": "pie"
           }
          ],
          "scatter": [
           {
            "fillpattern": {
             "fillmode": "overlay",
             "size": 10,
             "solidity": 0.2
            },
            "type": "scatter"
           }
          ],
          "scatter3d": [
           {
            "line": {
             "colorbar": {
              "outlinewidth": 0,
              "ticks": ""
             }
            },
            "marker": {
             "colorbar": {
              "outlinewidth": 0,
              "ticks": ""
             }
            },
            "type": "scatter3d"
           }
          ],
          "scattercarpet": [
           {
            "marker": {
             "colorbar": {
              "outlinewidth": 0,
              "ticks": ""
             }
            },
            "type": "scattercarpet"
           }
          ],
          "scattergeo": [
           {
            "marker": {
             "colorbar": {
              "outlinewidth": 0,
              "ticks": ""
             }
            },
            "type": "scattergeo"
           }
          ],
          "scattergl": [
           {
            "marker": {
             "colorbar": {
              "outlinewidth": 0,
              "ticks": ""
             }
            },
            "type": "scattergl"
           }
          ],
          "scattermapbox": [
           {
            "marker": {
             "colorbar": {
              "outlinewidth": 0,
              "ticks": ""
             }
            },
            "type": "scattermapbox"
           }
          ],
          "scatterpolar": [
           {
            "marker": {
             "colorbar": {
              "outlinewidth": 0,
              "ticks": ""
             }
            },
            "type": "scatterpolar"
           }
          ],
          "scatterpolargl": [
           {
            "marker": {
             "colorbar": {
              "outlinewidth": 0,
              "ticks": ""
             }
            },
            "type": "scatterpolargl"
           }
          ],
          "scatterternary": [
           {
            "marker": {
             "colorbar": {
              "outlinewidth": 0,
              "ticks": ""
             }
            },
            "type": "scatterternary"
           }
          ],
          "surface": [
           {
            "colorbar": {
             "outlinewidth": 0,
             "ticks": ""
            },
            "colorscale": [
             [
              0,
              "#0d0887"
             ],
             [
              0.1111111111111111,
              "#46039f"
             ],
             [
              0.2222222222222222,
              "#7201a8"
             ],
             [
              0.3333333333333333,
              "#9c179e"
             ],
             [
              0.4444444444444444,
              "#bd3786"
             ],
             [
              0.5555555555555556,
              "#d8576b"
             ],
             [
              0.6666666666666666,
              "#ed7953"
             ],
             [
              0.7777777777777778,
              "#fb9f3a"
             ],
             [
              0.8888888888888888,
              "#fdca26"
             ],
             [
              1,
              "#f0f921"
             ]
            ],
            "type": "surface"
           }
          ],
          "table": [
           {
            "cells": {
             "fill": {
              "color": "#EBF0F8"
             },
             "line": {
              "color": "white"
             }
            },
            "header": {
             "fill": {
              "color": "#C8D4E3"
             },
             "line": {
              "color": "white"
             }
            },
            "type": "table"
           }
          ]
         },
         "layout": {
          "annotationdefaults": {
           "arrowcolor": "#2a3f5f",
           "arrowhead": 0,
           "arrowwidth": 1
          },
          "autotypenumbers": "strict",
          "coloraxis": {
           "colorbar": {
            "outlinewidth": 0,
            "ticks": ""
           }
          },
          "colorscale": {
           "diverging": [
            [
             0,
             "#8e0152"
            ],
            [
             0.1,
             "#c51b7d"
            ],
            [
             0.2,
             "#de77ae"
            ],
            [
             0.3,
             "#f1b6da"
            ],
            [
             0.4,
             "#fde0ef"
            ],
            [
             0.5,
             "#f7f7f7"
            ],
            [
             0.6,
             "#e6f5d0"
            ],
            [
             0.7,
             "#b8e186"
            ],
            [
             0.8,
             "#7fbc41"
            ],
            [
             0.9,
             "#4d9221"
            ],
            [
             1,
             "#276419"
            ]
           ],
           "sequential": [
            [
             0,
             "#0d0887"
            ],
            [
             0.1111111111111111,
             "#46039f"
            ],
            [
             0.2222222222222222,
             "#7201a8"
            ],
            [
             0.3333333333333333,
             "#9c179e"
            ],
            [
             0.4444444444444444,
             "#bd3786"
            ],
            [
             0.5555555555555556,
             "#d8576b"
            ],
            [
             0.6666666666666666,
             "#ed7953"
            ],
            [
             0.7777777777777778,
             "#fb9f3a"
            ],
            [
             0.8888888888888888,
             "#fdca26"
            ],
            [
             1,
             "#f0f921"
            ]
           ],
           "sequentialminus": [
            [
             0,
             "#0d0887"
            ],
            [
             0.1111111111111111,
             "#46039f"
            ],
            [
             0.2222222222222222,
             "#7201a8"
            ],
            [
             0.3333333333333333,
             "#9c179e"
            ],
            [
             0.4444444444444444,
             "#bd3786"
            ],
            [
             0.5555555555555556,
             "#d8576b"
            ],
            [
             0.6666666666666666,
             "#ed7953"
            ],
            [
             0.7777777777777778,
             "#fb9f3a"
            ],
            [
             0.8888888888888888,
             "#fdca26"
            ],
            [
             1,
             "#f0f921"
            ]
           ]
          },
          "colorway": [
           "#636efa",
           "#EF553B",
           "#00cc96",
           "#ab63fa",
           "#FFA15A",
           "#19d3f3",
           "#FF6692",
           "#B6E880",
           "#FF97FF",
           "#FECB52"
          ],
          "font": {
           "color": "#2a3f5f"
          },
          "geo": {
           "bgcolor": "white",
           "lakecolor": "white",
           "landcolor": "#E5ECF6",
           "showlakes": true,
           "showland": true,
           "subunitcolor": "white"
          },
          "hoverlabel": {
           "align": "left"
          },
          "hovermode": "closest",
          "mapbox": {
           "style": "light"
          },
          "paper_bgcolor": "white",
          "plot_bgcolor": "#E5ECF6",
          "polar": {
           "angularaxis": {
            "gridcolor": "white",
            "linecolor": "white",
            "ticks": ""
           },
           "bgcolor": "#E5ECF6",
           "radialaxis": {
            "gridcolor": "white",
            "linecolor": "white",
            "ticks": ""
           }
          },
          "scene": {
           "xaxis": {
            "backgroundcolor": "#E5ECF6",
            "gridcolor": "white",
            "gridwidth": 2,
            "linecolor": "white",
            "showbackground": true,
            "ticks": "",
            "zerolinecolor": "white"
           },
           "yaxis": {
            "backgroundcolor": "#E5ECF6",
            "gridcolor": "white",
            "gridwidth": 2,
            "linecolor": "white",
            "showbackground": true,
            "ticks": "",
            "zerolinecolor": "white"
           },
           "zaxis": {
            "backgroundcolor": "#E5ECF6",
            "gridcolor": "white",
            "gridwidth": 2,
            "linecolor": "white",
            "showbackground": true,
            "ticks": "",
            "zerolinecolor": "white"
           }
          },
          "shapedefaults": {
           "line": {
            "color": "#2a3f5f"
           }
          },
          "ternary": {
           "aaxis": {
            "gridcolor": "white",
            "linecolor": "white",
            "ticks": ""
           },
           "baxis": {
            "gridcolor": "white",
            "linecolor": "white",
            "ticks": ""
           },
           "bgcolor": "#E5ECF6",
           "caxis": {
            "gridcolor": "white",
            "linecolor": "white",
            "ticks": ""
           }
          },
          "title": {
           "x": 0.05
          },
          "xaxis": {
           "automargin": true,
           "gridcolor": "white",
           "linecolor": "white",
           "ticks": "",
           "title": {
            "standoff": 15
           },
           "zerolinecolor": "white",
           "zerolinewidth": 2
          },
          "yaxis": {
           "automargin": true,
           "gridcolor": "white",
           "linecolor": "white",
           "ticks": "",
           "title": {
            "standoff": 15
           },
           "zerolinecolor": "white",
           "zerolinewidth": 2
          }
         }
        },
        "xaxis": {
         "anchor": "y",
         "domain": [
          0,
          1
         ],
         "title": {
          "text": "python_version"
         }
        },
        "yaxis": {
         "anchor": "x",
         "domain": [
          0,
          1
         ],
         "title": {
          "text": "value"
         }
        }
       }
      }
     },
     "metadata": {},
     "output_type": "display_data"
    },
    {
     "data": {
      "text/plain": [
       "'test1.html'"
      ]
     },
     "execution_count": 46,
     "metadata": {},
     "output_type": "execute_result"
    }
   ],
   "source": [
    "fig = px.line(df, x=\"python_version\", y=[\"time_elapsed\",\"Pkg_J\",\"Avg_MHz\",\"Busy%\",\"Bzy_MHz\",\"IPC\",\"IRQ\",\"POLL\"], text=pd.to_datetime(df['release_date']).dt.year)\n",
    "fig.update_traces(textposition=\"bottom right\")\n",
    "fig.show()\n",
    "#plotly.offline.plot(fig, filename='test1.html')"
   ]
  },
  {
   "attachments": {},
   "cell_type": "markdown",
   "metadata": {},
   "source": [
    "### More parameters through different Python versions"
   ]
  },
  {
   "cell_type": "code",
   "execution_count": 45,
   "metadata": {},
   "outputs": [
    {
     "data": {
      "application/vnd.plotly.v1+json": {
       "config": {
        "plotlyServerURL": "https://plot.ly"
       },
       "data": [
        {
         "hovertemplate": "variable=time_elapsed<br>python_version=%{x}<br>value=%{y}<br>text=%{text}<extra></extra>",
         "legendgroup": "time_elapsed",
         "line": {
          "color": "#636efa",
          "dash": "solid"
         },
         "marker": {
          "symbol": "circle"
         },
         "mode": "lines+markers+text",
         "name": "time_elapsed",
         "orientation": "v",
         "showlegend": true,
         "text": [
          2011,
          2020,
          2009,
          2019,
          2020,
          2021,
          2022,
          2022,
          2022,
          2023,
          2023,
          2023,
          2023
         ],
         "textposition": "bottom right",
         "type": "scatter",
         "x": [
          "2.5.6",
          "2.7.18",
          "3.0.1",
          "3.4.10",
          "3.5.10",
          "3.6.15",
          "3.7.16",
          "3.8.16",
          "3.9.16",
          "3.10.11",
          "3.11.3",
          "3.12.0b1",
          "3.13.0a0"
         ],
         "xaxis": "x",
         "y": [
          0.7141513202145061,
          0.5397773029031155,
          1,
          0.6743612908152817,
          0.6871906140382585,
          0.6307322337685956,
          0.5979201423474348,
          0.8317550198930829,
          0.808765242371471,
          0.8080031365276487,
          0,
          0.13932160026366358,
          0.0603771582552447
         ],
         "yaxis": "y"
        },
        {
         "hovertemplate": "variable=Pkg_J<br>python_version=%{x}<br>value=%{y}<br>text=%{text}<extra></extra>",
         "legendgroup": "Pkg_J",
         "line": {
          "color": "#EF553B",
          "dash": "solid"
         },
         "marker": {
          "symbol": "circle"
         },
         "mode": "lines+markers+text",
         "name": "Pkg_J",
         "orientation": "v",
         "showlegend": true,
         "text": [
          2011,
          2020,
          2009,
          2019,
          2020,
          2021,
          2022,
          2022,
          2022,
          2023,
          2023,
          2023,
          2023
         ],
         "textposition": "bottom right",
         "type": "scatter",
         "x": [
          "2.5.6",
          "2.7.18",
          "3.0.1",
          "3.4.10",
          "3.5.10",
          "3.6.15",
          "3.7.16",
          "3.8.16",
          "3.9.16",
          "3.10.11",
          "3.11.3",
          "3.12.0b1",
          "3.13.0a0"
         ],
         "xaxis": "x",
         "y": [
          1.0000000000000002,
          0.48754318919484874,
          0.8666553240498378,
          0.6332897078839912,
          0.662425400481625,
          0.6131897183540991,
          0.5821537011831222,
          0.8033713747251596,
          0.7605119882734792,
          0.7832007119673332,
          0,
          0.2739006386765783,
          0.2572400795728196
         ],
         "yaxis": "y"
        },
        {
         "hovertemplate": "variable=C1<br>python_version=%{x}<br>value=%{y}<br>text=%{text}<extra></extra>",
         "legendgroup": "C1",
         "line": {
          "color": "#00cc96",
          "dash": "solid"
         },
         "marker": {
          "symbol": "circle"
         },
         "mode": "lines+markers+text",
         "name": "C1",
         "orientation": "v",
         "showlegend": true,
         "text": [
          2011,
          2020,
          2009,
          2019,
          2020,
          2021,
          2022,
          2022,
          2022,
          2023,
          2023,
          2023,
          2023
         ],
         "textposition": "bottom right",
         "type": "scatter",
         "x": [
          "2.5.6",
          "2.7.18",
          "3.0.1",
          "3.4.10",
          "3.5.10",
          "3.6.15",
          "3.7.16",
          "3.8.16",
          "3.9.16",
          "3.10.11",
          "3.11.3",
          "3.12.0b1",
          "3.13.0a0"
         ],
         "xaxis": "x",
         "y": [
          1.0000000000000002,
          0.18687646713615022,
          0.4192158157276995,
          0.019439553990610342,
          0.14090008802816903,
          0.02510636737089203,
          0,
          0.17145319835680753,
          0.32133949530516426,
          0.005703491784037562,
          0.041593309859154964,
          0.5867444248826291,
          0.10088394953051646
         ],
         "yaxis": "y"
        },
        {
         "hovertemplate": "variable=C1E<br>python_version=%{x}<br>value=%{y}<br>text=%{text}<extra></extra>",
         "legendgroup": "C1E",
         "line": {
          "color": "#ab63fa",
          "dash": "solid"
         },
         "marker": {
          "symbol": "circle"
         },
         "mode": "lines+markers+text",
         "name": "C1E",
         "orientation": "v",
         "showlegend": true,
         "text": [
          2011,
          2020,
          2009,
          2019,
          2020,
          2021,
          2022,
          2022,
          2022,
          2023,
          2023,
          2023,
          2023
         ],
         "textposition": "bottom right",
         "type": "scatter",
         "x": [
          "2.5.6",
          "2.7.18",
          "3.0.1",
          "3.4.10",
          "3.5.10",
          "3.6.15",
          "3.7.16",
          "3.8.16",
          "3.9.16",
          "3.10.11",
          "3.11.3",
          "3.12.0b1",
          "3.13.0a0"
         ],
         "xaxis": "x",
         "y": [
          0.9455616823440373,
          0.22386203913936642,
          0.8815547626770462,
          0,
          0.5482754892420801,
          0.204454535625473,
          0.16704508595523837,
          0.3880419504811331,
          0.6636933722564601,
          0.20434641582873825,
          0.23499837820304903,
          1,
          0.16450427073197105
         ],
         "yaxis": "y"
        },
        {
         "hovertemplate": "variable=C3<br>python_version=%{x}<br>value=%{y}<br>text=%{text}<extra></extra>",
         "legendgroup": "C3",
         "line": {
          "color": "#FFA15A",
          "dash": "solid"
         },
         "marker": {
          "symbol": "circle"
         },
         "mode": "lines+markers+text",
         "name": "C3",
         "orientation": "v",
         "showlegend": true,
         "text": [
          2011,
          2020,
          2009,
          2019,
          2020,
          2021,
          2022,
          2022,
          2022,
          2023,
          2023,
          2023,
          2023
         ],
         "textposition": "bottom right",
         "type": "scatter",
         "x": [
          "2.5.6",
          "2.7.18",
          "3.0.1",
          "3.4.10",
          "3.5.10",
          "3.6.15",
          "3.7.16",
          "3.8.16",
          "3.9.16",
          "3.10.11",
          "3.11.3",
          "3.12.0b1",
          "3.13.0a0"
         ],
         "xaxis": "x",
         "y": [
          0.9169659322527419,
          0.09191497622051831,
          0.4691837328933321,
          0,
          0.632000388236436,
          0.16097253227215375,
          0.14670484324953897,
          0.27166844608366497,
          0.31942152771037563,
          0.1856255459574881,
          0.23939629234203635,
          1,
          0.10860914296806762
         ],
         "yaxis": "y"
        },
        {
         "hovertemplate": "variable=C6<br>python_version=%{x}<br>value=%{y}<br>text=%{text}<extra></extra>",
         "legendgroup": "C6",
         "line": {
          "color": "#19d3f3",
          "dash": "solid"
         },
         "marker": {
          "symbol": "circle"
         },
         "mode": "lines+markers+text",
         "name": "C6",
         "orientation": "v",
         "showlegend": true,
         "text": [
          2011,
          2020,
          2009,
          2019,
          2020,
          2021,
          2022,
          2022,
          2022,
          2023,
          2023,
          2023,
          2023
         ],
         "textposition": "bottom right",
         "type": "scatter",
         "x": [
          "2.5.6",
          "2.7.18",
          "3.0.1",
          "3.4.10",
          "3.5.10",
          "3.6.15",
          "3.7.16",
          "3.8.16",
          "3.9.16",
          "3.10.11",
          "3.11.3",
          "3.12.0b1",
          "3.13.0a0"
         ],
         "xaxis": "x",
         "y": [
          0.7434766056067945,
          0.5186890227320973,
          1,
          0.6455357753773332,
          0.7050739753713682,
          0.6449585692305262,
          0.6210632874083093,
          0.8519036399075768,
          0.8015586320389763,
          0.8316786172316211,
          0,
          0.3038928958028868,
          0.09327405712761871
         ],
         "yaxis": "y"
        },
        {
         "hovertemplate": "variable=C7s<br>python_version=%{x}<br>value=%{y}<br>text=%{text}<extra></extra>",
         "legendgroup": "C7s",
         "line": {
          "color": "#FF6692",
          "dash": "solid"
         },
         "marker": {
          "symbol": "circle"
         },
         "mode": "lines+markers+text",
         "name": "C7s",
         "orientation": "v",
         "showlegend": true,
         "text": [
          2011,
          2020,
          2009,
          2019,
          2020,
          2021,
          2022,
          2022,
          2022,
          2023,
          2023,
          2023,
          2023
         ],
         "textposition": "bottom right",
         "type": "scatter",
         "x": [
          "2.5.6",
          "2.7.18",
          "3.0.1",
          "3.4.10",
          "3.5.10",
          "3.6.15",
          "3.7.16",
          "3.8.16",
          "3.9.16",
          "3.10.11",
          "3.11.3",
          "3.12.0b1",
          "3.13.0a0"
         ],
         "xaxis": "x",
         "y": [
          0.7142857142857143,
          0.49725274725274726,
          1,
          0.6126373626373627,
          0.6868131868131868,
          0.565934065934066,
          0.23626373626373626,
          0.33241758241758246,
          0.20879120879120883,
          0.22802197802197804,
          0,
          0.07967032967032966,
          0.10714285714285715
         ],
         "yaxis": "y"
        },
        {
         "hovertemplate": "variable=C8<br>python_version=%{x}<br>value=%{y}<br>text=%{text}<extra></extra>",
         "legendgroup": "C8",
         "line": {
          "color": "#B6E880",
          "dash": "solid"
         },
         "marker": {
          "symbol": "circle"
         },
         "mode": "lines+markers+text",
         "name": "C8",
         "orientation": "v",
         "showlegend": true,
         "text": [
          2011,
          2020,
          2009,
          2019,
          2020,
          2021,
          2022,
          2022,
          2022,
          2023,
          2023,
          2023,
          2023
         ],
         "textposition": "bottom right",
         "type": "scatter",
         "x": [
          "2.5.6",
          "2.7.18",
          "3.0.1",
          "3.4.10",
          "3.5.10",
          "3.6.15",
          "3.7.16",
          "3.8.16",
          "3.9.16",
          "3.10.11",
          "3.11.3",
          "3.12.0b1",
          "3.13.0a0"
         ],
         "xaxis": "x",
         "y": [
          0.7594194058080601,
          0.4588498677290702,
          1.0000000000000002,
          0.6224761033344137,
          0.7112067048335549,
          0.657387580299786,
          0.6318441469319287,
          0.9321023347036983,
          0.7674022582428406,
          0.8611292908626098,
          0,
          0.2997731590618826,
          0.13227304786534422
         ],
         "yaxis": "y"
        }
       ],
       "layout": {
        "legend": {
         "title": {
          "text": "variable"
         },
         "tracegroupgap": 0
        },
        "margin": {
         "t": 60
        },
        "template": {
         "data": {
          "bar": [
           {
            "error_x": {
             "color": "#2a3f5f"
            },
            "error_y": {
             "color": "#2a3f5f"
            },
            "marker": {
             "line": {
              "color": "#E5ECF6",
              "width": 0.5
             },
             "pattern": {
              "fillmode": "overlay",
              "size": 10,
              "solidity": 0.2
             }
            },
            "type": "bar"
           }
          ],
          "barpolar": [
           {
            "marker": {
             "line": {
              "color": "#E5ECF6",
              "width": 0.5
             },
             "pattern": {
              "fillmode": "overlay",
              "size": 10,
              "solidity": 0.2
             }
            },
            "type": "barpolar"
           }
          ],
          "carpet": [
           {
            "aaxis": {
             "endlinecolor": "#2a3f5f",
             "gridcolor": "white",
             "linecolor": "white",
             "minorgridcolor": "white",
             "startlinecolor": "#2a3f5f"
            },
            "baxis": {
             "endlinecolor": "#2a3f5f",
             "gridcolor": "white",
             "linecolor": "white",
             "minorgridcolor": "white",
             "startlinecolor": "#2a3f5f"
            },
            "type": "carpet"
           }
          ],
          "choropleth": [
           {
            "colorbar": {
             "outlinewidth": 0,
             "ticks": ""
            },
            "type": "choropleth"
           }
          ],
          "contour": [
           {
            "colorbar": {
             "outlinewidth": 0,
             "ticks": ""
            },
            "colorscale": [
             [
              0,
              "#0d0887"
             ],
             [
              0.1111111111111111,
              "#46039f"
             ],
             [
              0.2222222222222222,
              "#7201a8"
             ],
             [
              0.3333333333333333,
              "#9c179e"
             ],
             [
              0.4444444444444444,
              "#bd3786"
             ],
             [
              0.5555555555555556,
              "#d8576b"
             ],
             [
              0.6666666666666666,
              "#ed7953"
             ],
             [
              0.7777777777777778,
              "#fb9f3a"
             ],
             [
              0.8888888888888888,
              "#fdca26"
             ],
             [
              1,
              "#f0f921"
             ]
            ],
            "type": "contour"
           }
          ],
          "contourcarpet": [
           {
            "colorbar": {
             "outlinewidth": 0,
             "ticks": ""
            },
            "type": "contourcarpet"
           }
          ],
          "heatmap": [
           {
            "colorbar": {
             "outlinewidth": 0,
             "ticks": ""
            },
            "colorscale": [
             [
              0,
              "#0d0887"
             ],
             [
              0.1111111111111111,
              "#46039f"
             ],
             [
              0.2222222222222222,
              "#7201a8"
             ],
             [
              0.3333333333333333,
              "#9c179e"
             ],
             [
              0.4444444444444444,
              "#bd3786"
             ],
             [
              0.5555555555555556,
              "#d8576b"
             ],
             [
              0.6666666666666666,
              "#ed7953"
             ],
             [
              0.7777777777777778,
              "#fb9f3a"
             ],
             [
              0.8888888888888888,
              "#fdca26"
             ],
             [
              1,
              "#f0f921"
             ]
            ],
            "type": "heatmap"
           }
          ],
          "heatmapgl": [
           {
            "colorbar": {
             "outlinewidth": 0,
             "ticks": ""
            },
            "colorscale": [
             [
              0,
              "#0d0887"
             ],
             [
              0.1111111111111111,
              "#46039f"
             ],
             [
              0.2222222222222222,
              "#7201a8"
             ],
             [
              0.3333333333333333,
              "#9c179e"
             ],
             [
              0.4444444444444444,
              "#bd3786"
             ],
             [
              0.5555555555555556,
              "#d8576b"
             ],
             [
              0.6666666666666666,
              "#ed7953"
             ],
             [
              0.7777777777777778,
              "#fb9f3a"
             ],
             [
              0.8888888888888888,
              "#fdca26"
             ],
             [
              1,
              "#f0f921"
             ]
            ],
            "type": "heatmapgl"
           }
          ],
          "histogram": [
           {
            "marker": {
             "pattern": {
              "fillmode": "overlay",
              "size": 10,
              "solidity": 0.2
             }
            },
            "type": "histogram"
           }
          ],
          "histogram2d": [
           {
            "colorbar": {
             "outlinewidth": 0,
             "ticks": ""
            },
            "colorscale": [
             [
              0,
              "#0d0887"
             ],
             [
              0.1111111111111111,
              "#46039f"
             ],
             [
              0.2222222222222222,
              "#7201a8"
             ],
             [
              0.3333333333333333,
              "#9c179e"
             ],
             [
              0.4444444444444444,
              "#bd3786"
             ],
             [
              0.5555555555555556,
              "#d8576b"
             ],
             [
              0.6666666666666666,
              "#ed7953"
             ],
             [
              0.7777777777777778,
              "#fb9f3a"
             ],
             [
              0.8888888888888888,
              "#fdca26"
             ],
             [
              1,
              "#f0f921"
             ]
            ],
            "type": "histogram2d"
           }
          ],
          "histogram2dcontour": [
           {
            "colorbar": {
             "outlinewidth": 0,
             "ticks": ""
            },
            "colorscale": [
             [
              0,
              "#0d0887"
             ],
             [
              0.1111111111111111,
              "#46039f"
             ],
             [
              0.2222222222222222,
              "#7201a8"
             ],
             [
              0.3333333333333333,
              "#9c179e"
             ],
             [
              0.4444444444444444,
              "#bd3786"
             ],
             [
              0.5555555555555556,
              "#d8576b"
             ],
             [
              0.6666666666666666,
              "#ed7953"
             ],
             [
              0.7777777777777778,
              "#fb9f3a"
             ],
             [
              0.8888888888888888,
              "#fdca26"
             ],
             [
              1,
              "#f0f921"
             ]
            ],
            "type": "histogram2dcontour"
           }
          ],
          "mesh3d": [
           {
            "colorbar": {
             "outlinewidth": 0,
             "ticks": ""
            },
            "type": "mesh3d"
           }
          ],
          "parcoords": [
           {
            "line": {
             "colorbar": {
              "outlinewidth": 0,
              "ticks": ""
             }
            },
            "type": "parcoords"
           }
          ],
          "pie": [
           {
            "automargin": true,
            "type": "pie"
           }
          ],
          "scatter": [
           {
            "fillpattern": {
             "fillmode": "overlay",
             "size": 10,
             "solidity": 0.2
            },
            "type": "scatter"
           }
          ],
          "scatter3d": [
           {
            "line": {
             "colorbar": {
              "outlinewidth": 0,
              "ticks": ""
             }
            },
            "marker": {
             "colorbar": {
              "outlinewidth": 0,
              "ticks": ""
             }
            },
            "type": "scatter3d"
           }
          ],
          "scattercarpet": [
           {
            "marker": {
             "colorbar": {
              "outlinewidth": 0,
              "ticks": ""
             }
            },
            "type": "scattercarpet"
           }
          ],
          "scattergeo": [
           {
            "marker": {
             "colorbar": {
              "outlinewidth": 0,
              "ticks": ""
             }
            },
            "type": "scattergeo"
           }
          ],
          "scattergl": [
           {
            "marker": {
             "colorbar": {
              "outlinewidth": 0,
              "ticks": ""
             }
            },
            "type": "scattergl"
           }
          ],
          "scattermapbox": [
           {
            "marker": {
             "colorbar": {
              "outlinewidth": 0,
              "ticks": ""
             }
            },
            "type": "scattermapbox"
           }
          ],
          "scatterpolar": [
           {
            "marker": {
             "colorbar": {
              "outlinewidth": 0,
              "ticks": ""
             }
            },
            "type": "scatterpolar"
           }
          ],
          "scatterpolargl": [
           {
            "marker": {
             "colorbar": {
              "outlinewidth": 0,
              "ticks": ""
             }
            },
            "type": "scatterpolargl"
           }
          ],
          "scatterternary": [
           {
            "marker": {
             "colorbar": {
              "outlinewidth": 0,
              "ticks": ""
             }
            },
            "type": "scatterternary"
           }
          ],
          "surface": [
           {
            "colorbar": {
             "outlinewidth": 0,
             "ticks": ""
            },
            "colorscale": [
             [
              0,
              "#0d0887"
             ],
             [
              0.1111111111111111,
              "#46039f"
             ],
             [
              0.2222222222222222,
              "#7201a8"
             ],
             [
              0.3333333333333333,
              "#9c179e"
             ],
             [
              0.4444444444444444,
              "#bd3786"
             ],
             [
              0.5555555555555556,
              "#d8576b"
             ],
             [
              0.6666666666666666,
              "#ed7953"
             ],
             [
              0.7777777777777778,
              "#fb9f3a"
             ],
             [
              0.8888888888888888,
              "#fdca26"
             ],
             [
              1,
              "#f0f921"
             ]
            ],
            "type": "surface"
           }
          ],
          "table": [
           {
            "cells": {
             "fill": {
              "color": "#EBF0F8"
             },
             "line": {
              "color": "white"
             }
            },
            "header": {
             "fill": {
              "color": "#C8D4E3"
             },
             "line": {
              "color": "white"
             }
            },
            "type": "table"
           }
          ]
         },
         "layout": {
          "annotationdefaults": {
           "arrowcolor": "#2a3f5f",
           "arrowhead": 0,
           "arrowwidth": 1
          },
          "autotypenumbers": "strict",
          "coloraxis": {
           "colorbar": {
            "outlinewidth": 0,
            "ticks": ""
           }
          },
          "colorscale": {
           "diverging": [
            [
             0,
             "#8e0152"
            ],
            [
             0.1,
             "#c51b7d"
            ],
            [
             0.2,
             "#de77ae"
            ],
            [
             0.3,
             "#f1b6da"
            ],
            [
             0.4,
             "#fde0ef"
            ],
            [
             0.5,
             "#f7f7f7"
            ],
            [
             0.6,
             "#e6f5d0"
            ],
            [
             0.7,
             "#b8e186"
            ],
            [
             0.8,
             "#7fbc41"
            ],
            [
             0.9,
             "#4d9221"
            ],
            [
             1,
             "#276419"
            ]
           ],
           "sequential": [
            [
             0,
             "#0d0887"
            ],
            [
             0.1111111111111111,
             "#46039f"
            ],
            [
             0.2222222222222222,
             "#7201a8"
            ],
            [
             0.3333333333333333,
             "#9c179e"
            ],
            [
             0.4444444444444444,
             "#bd3786"
            ],
            [
             0.5555555555555556,
             "#d8576b"
            ],
            [
             0.6666666666666666,
             "#ed7953"
            ],
            [
             0.7777777777777778,
             "#fb9f3a"
            ],
            [
             0.8888888888888888,
             "#fdca26"
            ],
            [
             1,
             "#f0f921"
            ]
           ],
           "sequentialminus": [
            [
             0,
             "#0d0887"
            ],
            [
             0.1111111111111111,
             "#46039f"
            ],
            [
             0.2222222222222222,
             "#7201a8"
            ],
            [
             0.3333333333333333,
             "#9c179e"
            ],
            [
             0.4444444444444444,
             "#bd3786"
            ],
            [
             0.5555555555555556,
             "#d8576b"
            ],
            [
             0.6666666666666666,
             "#ed7953"
            ],
            [
             0.7777777777777778,
             "#fb9f3a"
            ],
            [
             0.8888888888888888,
             "#fdca26"
            ],
            [
             1,
             "#f0f921"
            ]
           ]
          },
          "colorway": [
           "#636efa",
           "#EF553B",
           "#00cc96",
           "#ab63fa",
           "#FFA15A",
           "#19d3f3",
           "#FF6692",
           "#B6E880",
           "#FF97FF",
           "#FECB52"
          ],
          "font": {
           "color": "#2a3f5f"
          },
          "geo": {
           "bgcolor": "white",
           "lakecolor": "white",
           "landcolor": "#E5ECF6",
           "showlakes": true,
           "showland": true,
           "subunitcolor": "white"
          },
          "hoverlabel": {
           "align": "left"
          },
          "hovermode": "closest",
          "mapbox": {
           "style": "light"
          },
          "paper_bgcolor": "white",
          "plot_bgcolor": "#E5ECF6",
          "polar": {
           "angularaxis": {
            "gridcolor": "white",
            "linecolor": "white",
            "ticks": ""
           },
           "bgcolor": "#E5ECF6",
           "radialaxis": {
            "gridcolor": "white",
            "linecolor": "white",
            "ticks": ""
           }
          },
          "scene": {
           "xaxis": {
            "backgroundcolor": "#E5ECF6",
            "gridcolor": "white",
            "gridwidth": 2,
            "linecolor": "white",
            "showbackground": true,
            "ticks": "",
            "zerolinecolor": "white"
           },
           "yaxis": {
            "backgroundcolor": "#E5ECF6",
            "gridcolor": "white",
            "gridwidth": 2,
            "linecolor": "white",
            "showbackground": true,
            "ticks": "",
            "zerolinecolor": "white"
           },
           "zaxis": {
            "backgroundcolor": "#E5ECF6",
            "gridcolor": "white",
            "gridwidth": 2,
            "linecolor": "white",
            "showbackground": true,
            "ticks": "",
            "zerolinecolor": "white"
           }
          },
          "shapedefaults": {
           "line": {
            "color": "#2a3f5f"
           }
          },
          "ternary": {
           "aaxis": {
            "gridcolor": "white",
            "linecolor": "white",
            "ticks": ""
           },
           "baxis": {
            "gridcolor": "white",
            "linecolor": "white",
            "ticks": ""
           },
           "bgcolor": "#E5ECF6",
           "caxis": {
            "gridcolor": "white",
            "linecolor": "white",
            "ticks": ""
           }
          },
          "title": {
           "x": 0.05
          },
          "xaxis": {
           "automargin": true,
           "gridcolor": "white",
           "linecolor": "white",
           "ticks": "",
           "title": {
            "standoff": 15
           },
           "zerolinecolor": "white",
           "zerolinewidth": 2
          },
          "yaxis": {
           "automargin": true,
           "gridcolor": "white",
           "linecolor": "white",
           "ticks": "",
           "title": {
            "standoff": 15
           },
           "zerolinecolor": "white",
           "zerolinewidth": 2
          }
         }
        },
        "xaxis": {
         "anchor": "y",
         "domain": [
          0,
          1
         ],
         "title": {
          "text": "python_version"
         }
        },
        "yaxis": {
         "anchor": "x",
         "domain": [
          0,
          1
         ],
         "title": {
          "text": "value"
         }
        }
       }
      }
     },
     "metadata": {},
     "output_type": "display_data"
    }
   ],
   "source": [
    "fig = px.line(df, x=\"python_version\", y=[\"time_elapsed\",\"Pkg_J\",\"C1\",\"C1E\",\"C3\",\"C6\",\"C7s\",\"C8\"], text=pd.to_datetime(df['release_date']).dt.year)\n",
    "fig.update_traces(textposition=\"bottom right\")\n",
    "fig.show()"
   ]
  },
  {
   "attachments": {},
   "cell_type": "markdown",
   "metadata": {},
   "source": [
    "### Temperature through different Python versions"
   ]
  },
  {
   "cell_type": "code",
   "execution_count": 40,
   "metadata": {},
   "outputs": [
    {
     "data": {
      "application/vnd.plotly.v1+json": {
       "config": {
        "plotlyServerURL": "https://plot.ly"
       },
       "data": [
        {
         "hovertemplate": "variable=CoreTmp<br>python_version=%{x}<br>value=%{y}<br>text=%{text}<extra></extra>",
         "legendgroup": "CoreTmp",
         "line": {
          "color": "#636efa",
          "dash": "solid"
         },
         "marker": {
          "symbol": "circle"
         },
         "mode": "lines+markers+text",
         "name": "CoreTmp",
         "orientation": "v",
         "showlegend": true,
         "text": [
          2011,
          2020,
          2009,
          2019,
          2020,
          2021,
          2022,
          2022,
          2022,
          2023,
          2023,
          2023,
          2023
         ],
         "textposition": "bottom right",
         "type": "scatter",
         "x": [
          "2.5.6",
          "2.7.18",
          "3.0.1",
          "3.4.10",
          "3.5.10",
          "3.6.15",
          "3.7.16",
          "3.8.16",
          "3.9.16",
          "3.10.11",
          "3.11.3",
          "3.12.0b1",
          "3.13.0a0"
         ],
         "xaxis": "x",
         "y": [
          0.375,
          0.125,
          0.0625,
          0.125,
          0,
          0.1875,
          0.125,
          0.25,
          0.25,
          0.25,
          0.3125,
          0.25,
          1
         ],
         "yaxis": "y"
        },
        {
         "hovertemplate": "variable=PkgTmp<br>python_version=%{x}<br>value=%{y}<br>text=%{text}<extra></extra>",
         "legendgroup": "PkgTmp",
         "line": {
          "color": "#EF553B",
          "dash": "solid"
         },
         "marker": {
          "symbol": "circle"
         },
         "mode": "lines+markers+text",
         "name": "PkgTmp",
         "orientation": "v",
         "showlegend": true,
         "text": [
          2011,
          2020,
          2009,
          2019,
          2020,
          2021,
          2022,
          2022,
          2022,
          2023,
          2023,
          2023,
          2023
         ],
         "textposition": "bottom right",
         "type": "scatter",
         "x": [
          "2.5.6",
          "2.7.18",
          "3.0.1",
          "3.4.10",
          "3.5.10",
          "3.6.15",
          "3.7.16",
          "3.8.16",
          "3.9.16",
          "3.10.11",
          "3.11.3",
          "3.12.0b1",
          "3.13.0a0"
         ],
         "xaxis": "x",
         "y": [
          0.47058823529411775,
          0.0588235294117645,
          0,
          0.0588235294117645,
          0,
          0.11764705882352988,
          0.11764705882352988,
          0.23529411764705888,
          0.23529411764705888,
          0.17647058823529438,
          0.23529411764705888,
          0.23529411764705888,
          1
         ],
         "yaxis": "y"
        }
       ],
       "layout": {
        "legend": {
         "title": {
          "text": "variable"
         },
         "tracegroupgap": 0
        },
        "margin": {
         "t": 60
        },
        "template": {
         "data": {
          "bar": [
           {
            "error_x": {
             "color": "#2a3f5f"
            },
            "error_y": {
             "color": "#2a3f5f"
            },
            "marker": {
             "line": {
              "color": "#E5ECF6",
              "width": 0.5
             },
             "pattern": {
              "fillmode": "overlay",
              "size": 10,
              "solidity": 0.2
             }
            },
            "type": "bar"
           }
          ],
          "barpolar": [
           {
            "marker": {
             "line": {
              "color": "#E5ECF6",
              "width": 0.5
             },
             "pattern": {
              "fillmode": "overlay",
              "size": 10,
              "solidity": 0.2
             }
            },
            "type": "barpolar"
           }
          ],
          "carpet": [
           {
            "aaxis": {
             "endlinecolor": "#2a3f5f",
             "gridcolor": "white",
             "linecolor": "white",
             "minorgridcolor": "white",
             "startlinecolor": "#2a3f5f"
            },
            "baxis": {
             "endlinecolor": "#2a3f5f",
             "gridcolor": "white",
             "linecolor": "white",
             "minorgridcolor": "white",
             "startlinecolor": "#2a3f5f"
            },
            "type": "carpet"
           }
          ],
          "choropleth": [
           {
            "colorbar": {
             "outlinewidth": 0,
             "ticks": ""
            },
            "type": "choropleth"
           }
          ],
          "contour": [
           {
            "colorbar": {
             "outlinewidth": 0,
             "ticks": ""
            },
            "colorscale": [
             [
              0,
              "#0d0887"
             ],
             [
              0.1111111111111111,
              "#46039f"
             ],
             [
              0.2222222222222222,
              "#7201a8"
             ],
             [
              0.3333333333333333,
              "#9c179e"
             ],
             [
              0.4444444444444444,
              "#bd3786"
             ],
             [
              0.5555555555555556,
              "#d8576b"
             ],
             [
              0.6666666666666666,
              "#ed7953"
             ],
             [
              0.7777777777777778,
              "#fb9f3a"
             ],
             [
              0.8888888888888888,
              "#fdca26"
             ],
             [
              1,
              "#f0f921"
             ]
            ],
            "type": "contour"
           }
          ],
          "contourcarpet": [
           {
            "colorbar": {
             "outlinewidth": 0,
             "ticks": ""
            },
            "type": "contourcarpet"
           }
          ],
          "heatmap": [
           {
            "colorbar": {
             "outlinewidth": 0,
             "ticks": ""
            },
            "colorscale": [
             [
              0,
              "#0d0887"
             ],
             [
              0.1111111111111111,
              "#46039f"
             ],
             [
              0.2222222222222222,
              "#7201a8"
             ],
             [
              0.3333333333333333,
              "#9c179e"
             ],
             [
              0.4444444444444444,
              "#bd3786"
             ],
             [
              0.5555555555555556,
              "#d8576b"
             ],
             [
              0.6666666666666666,
              "#ed7953"
             ],
             [
              0.7777777777777778,
              "#fb9f3a"
             ],
             [
              0.8888888888888888,
              "#fdca26"
             ],
             [
              1,
              "#f0f921"
             ]
            ],
            "type": "heatmap"
           }
          ],
          "heatmapgl": [
           {
            "colorbar": {
             "outlinewidth": 0,
             "ticks": ""
            },
            "colorscale": [
             [
              0,
              "#0d0887"
             ],
             [
              0.1111111111111111,
              "#46039f"
             ],
             [
              0.2222222222222222,
              "#7201a8"
             ],
             [
              0.3333333333333333,
              "#9c179e"
             ],
             [
              0.4444444444444444,
              "#bd3786"
             ],
             [
              0.5555555555555556,
              "#d8576b"
             ],
             [
              0.6666666666666666,
              "#ed7953"
             ],
             [
              0.7777777777777778,
              "#fb9f3a"
             ],
             [
              0.8888888888888888,
              "#fdca26"
             ],
             [
              1,
              "#f0f921"
             ]
            ],
            "type": "heatmapgl"
           }
          ],
          "histogram": [
           {
            "marker": {
             "pattern": {
              "fillmode": "overlay",
              "size": 10,
              "solidity": 0.2
             }
            },
            "type": "histogram"
           }
          ],
          "histogram2d": [
           {
            "colorbar": {
             "outlinewidth": 0,
             "ticks": ""
            },
            "colorscale": [
             [
              0,
              "#0d0887"
             ],
             [
              0.1111111111111111,
              "#46039f"
             ],
             [
              0.2222222222222222,
              "#7201a8"
             ],
             [
              0.3333333333333333,
              "#9c179e"
             ],
             [
              0.4444444444444444,
              "#bd3786"
             ],
             [
              0.5555555555555556,
              "#d8576b"
             ],
             [
              0.6666666666666666,
              "#ed7953"
             ],
             [
              0.7777777777777778,
              "#fb9f3a"
             ],
             [
              0.8888888888888888,
              "#fdca26"
             ],
             [
              1,
              "#f0f921"
             ]
            ],
            "type": "histogram2d"
           }
          ],
          "histogram2dcontour": [
           {
            "colorbar": {
             "outlinewidth": 0,
             "ticks": ""
            },
            "colorscale": [
             [
              0,
              "#0d0887"
             ],
             [
              0.1111111111111111,
              "#46039f"
             ],
             [
              0.2222222222222222,
              "#7201a8"
             ],
             [
              0.3333333333333333,
              "#9c179e"
             ],
             [
              0.4444444444444444,
              "#bd3786"
             ],
             [
              0.5555555555555556,
              "#d8576b"
             ],
             [
              0.6666666666666666,
              "#ed7953"
             ],
             [
              0.7777777777777778,
              "#fb9f3a"
             ],
             [
              0.8888888888888888,
              "#fdca26"
             ],
             [
              1,
              "#f0f921"
             ]
            ],
            "type": "histogram2dcontour"
           }
          ],
          "mesh3d": [
           {
            "colorbar": {
             "outlinewidth": 0,
             "ticks": ""
            },
            "type": "mesh3d"
           }
          ],
          "parcoords": [
           {
            "line": {
             "colorbar": {
              "outlinewidth": 0,
              "ticks": ""
             }
            },
            "type": "parcoords"
           }
          ],
          "pie": [
           {
            "automargin": true,
            "type": "pie"
           }
          ],
          "scatter": [
           {
            "fillpattern": {
             "fillmode": "overlay",
             "size": 10,
             "solidity": 0.2
            },
            "type": "scatter"
           }
          ],
          "scatter3d": [
           {
            "line": {
             "colorbar": {
              "outlinewidth": 0,
              "ticks": ""
             }
            },
            "marker": {
             "colorbar": {
              "outlinewidth": 0,
              "ticks": ""
             }
            },
            "type": "scatter3d"
           }
          ],
          "scattercarpet": [
           {
            "marker": {
             "colorbar": {
              "outlinewidth": 0,
              "ticks": ""
             }
            },
            "type": "scattercarpet"
           }
          ],
          "scattergeo": [
           {
            "marker": {
             "colorbar": {
              "outlinewidth": 0,
              "ticks": ""
             }
            },
            "type": "scattergeo"
           }
          ],
          "scattergl": [
           {
            "marker": {
             "colorbar": {
              "outlinewidth": 0,
              "ticks": ""
             }
            },
            "type": "scattergl"
           }
          ],
          "scattermapbox": [
           {
            "marker": {
             "colorbar": {
              "outlinewidth": 0,
              "ticks": ""
             }
            },
            "type": "scattermapbox"
           }
          ],
          "scatterpolar": [
           {
            "marker": {
             "colorbar": {
              "outlinewidth": 0,
              "ticks": ""
             }
            },
            "type": "scatterpolar"
           }
          ],
          "scatterpolargl": [
           {
            "marker": {
             "colorbar": {
              "outlinewidth": 0,
              "ticks": ""
             }
            },
            "type": "scatterpolargl"
           }
          ],
          "scatterternary": [
           {
            "marker": {
             "colorbar": {
              "outlinewidth": 0,
              "ticks": ""
             }
            },
            "type": "scatterternary"
           }
          ],
          "surface": [
           {
            "colorbar": {
             "outlinewidth": 0,
             "ticks": ""
            },
            "colorscale": [
             [
              0,
              "#0d0887"
             ],
             [
              0.1111111111111111,
              "#46039f"
             ],
             [
              0.2222222222222222,
              "#7201a8"
             ],
             [
              0.3333333333333333,
              "#9c179e"
             ],
             [
              0.4444444444444444,
              "#bd3786"
             ],
             [
              0.5555555555555556,
              "#d8576b"
             ],
             [
              0.6666666666666666,
              "#ed7953"
             ],
             [
              0.7777777777777778,
              "#fb9f3a"
             ],
             [
              0.8888888888888888,
              "#fdca26"
             ],
             [
              1,
              "#f0f921"
             ]
            ],
            "type": "surface"
           }
          ],
          "table": [
           {
            "cells": {
             "fill": {
              "color": "#EBF0F8"
             },
             "line": {
              "color": "white"
             }
            },
            "header": {
             "fill": {
              "color": "#C8D4E3"
             },
             "line": {
              "color": "white"
             }
            },
            "type": "table"
           }
          ]
         },
         "layout": {
          "annotationdefaults": {
           "arrowcolor": "#2a3f5f",
           "arrowhead": 0,
           "arrowwidth": 1
          },
          "autotypenumbers": "strict",
          "coloraxis": {
           "colorbar": {
            "outlinewidth": 0,
            "ticks": ""
           }
          },
          "colorscale": {
           "diverging": [
            [
             0,
             "#8e0152"
            ],
            [
             0.1,
             "#c51b7d"
            ],
            [
             0.2,
             "#de77ae"
            ],
            [
             0.3,
             "#f1b6da"
            ],
            [
             0.4,
             "#fde0ef"
            ],
            [
             0.5,
             "#f7f7f7"
            ],
            [
             0.6,
             "#e6f5d0"
            ],
            [
             0.7,
             "#b8e186"
            ],
            [
             0.8,
             "#7fbc41"
            ],
            [
             0.9,
             "#4d9221"
            ],
            [
             1,
             "#276419"
            ]
           ],
           "sequential": [
            [
             0,
             "#0d0887"
            ],
            [
             0.1111111111111111,
             "#46039f"
            ],
            [
             0.2222222222222222,
             "#7201a8"
            ],
            [
             0.3333333333333333,
             "#9c179e"
            ],
            [
             0.4444444444444444,
             "#bd3786"
            ],
            [
             0.5555555555555556,
             "#d8576b"
            ],
            [
             0.6666666666666666,
             "#ed7953"
            ],
            [
             0.7777777777777778,
             "#fb9f3a"
            ],
            [
             0.8888888888888888,
             "#fdca26"
            ],
            [
             1,
             "#f0f921"
            ]
           ],
           "sequentialminus": [
            [
             0,
             "#0d0887"
            ],
            [
             0.1111111111111111,
             "#46039f"
            ],
            [
             0.2222222222222222,
             "#7201a8"
            ],
            [
             0.3333333333333333,
             "#9c179e"
            ],
            [
             0.4444444444444444,
             "#bd3786"
            ],
            [
             0.5555555555555556,
             "#d8576b"
            ],
            [
             0.6666666666666666,
             "#ed7953"
            ],
            [
             0.7777777777777778,
             "#fb9f3a"
            ],
            [
             0.8888888888888888,
             "#fdca26"
            ],
            [
             1,
             "#f0f921"
            ]
           ]
          },
          "colorway": [
           "#636efa",
           "#EF553B",
           "#00cc96",
           "#ab63fa",
           "#FFA15A",
           "#19d3f3",
           "#FF6692",
           "#B6E880",
           "#FF97FF",
           "#FECB52"
          ],
          "font": {
           "color": "#2a3f5f"
          },
          "geo": {
           "bgcolor": "white",
           "lakecolor": "white",
           "landcolor": "#E5ECF6",
           "showlakes": true,
           "showland": true,
           "subunitcolor": "white"
          },
          "hoverlabel": {
           "align": "left"
          },
          "hovermode": "closest",
          "mapbox": {
           "style": "light"
          },
          "paper_bgcolor": "white",
          "plot_bgcolor": "#E5ECF6",
          "polar": {
           "angularaxis": {
            "gridcolor": "white",
            "linecolor": "white",
            "ticks": ""
           },
           "bgcolor": "#E5ECF6",
           "radialaxis": {
            "gridcolor": "white",
            "linecolor": "white",
            "ticks": ""
           }
          },
          "scene": {
           "xaxis": {
            "backgroundcolor": "#E5ECF6",
            "gridcolor": "white",
            "gridwidth": 2,
            "linecolor": "white",
            "showbackground": true,
            "ticks": "",
            "zerolinecolor": "white"
           },
           "yaxis": {
            "backgroundcolor": "#E5ECF6",
            "gridcolor": "white",
            "gridwidth": 2,
            "linecolor": "white",
            "showbackground": true,
            "ticks": "",
            "zerolinecolor": "white"
           },
           "zaxis": {
            "backgroundcolor": "#E5ECF6",
            "gridcolor": "white",
            "gridwidth": 2,
            "linecolor": "white",
            "showbackground": true,
            "ticks": "",
            "zerolinecolor": "white"
           }
          },
          "shapedefaults": {
           "line": {
            "color": "#2a3f5f"
           }
          },
          "ternary": {
           "aaxis": {
            "gridcolor": "white",
            "linecolor": "white",
            "ticks": ""
           },
           "baxis": {
            "gridcolor": "white",
            "linecolor": "white",
            "ticks": ""
           },
           "bgcolor": "#E5ECF6",
           "caxis": {
            "gridcolor": "white",
            "linecolor": "white",
            "ticks": ""
           }
          },
          "title": {
           "x": 0.05
          },
          "xaxis": {
           "automargin": true,
           "gridcolor": "white",
           "linecolor": "white",
           "ticks": "",
           "title": {
            "standoff": 15
           },
           "zerolinecolor": "white",
           "zerolinewidth": 2
          },
          "yaxis": {
           "automargin": true,
           "gridcolor": "white",
           "linecolor": "white",
           "ticks": "",
           "title": {
            "standoff": 15
           },
           "zerolinecolor": "white",
           "zerolinewidth": 2
          }
         }
        },
        "xaxis": {
         "anchor": "y",
         "domain": [
          0,
          1
         ],
         "title": {
          "text": "python_version"
         }
        },
        "yaxis": {
         "anchor": "x",
         "domain": [
          0,
          1
         ],
         "title": {
          "text": "value"
         }
        }
       }
      }
     },
     "metadata": {},
     "output_type": "display_data"
    }
   ],
   "source": [
    "fig = px.line(df, x=\"python_version\", y=[\"CoreTmp\",\"PkgTmp\"], text=pd.to_datetime(df['release_date']).dt.year)\n",
    "fig.update_traces(textposition=\"bottom right\")\n",
    "fig.show()"
   ]
  },
  {
   "attachments": {},
   "cell_type": "markdown",
   "metadata": {},
   "source": [
    "### More parameters through different Python versions"
   ]
  },
  {
   "cell_type": "code",
   "execution_count": 41,
   "metadata": {},
   "outputs": [
    {
     "data": {
      "application/vnd.plotly.v1+json": {
       "config": {
        "plotlyServerURL": "https://plot.ly"
       },
       "data": [
        {
         "hovertemplate": "variable=GFX%rc6<br>python_version=%{x}<br>value=%{y}<br>text=%{text}<extra></extra>",
         "legendgroup": "GFX%rc6",
         "line": {
          "color": "#636efa",
          "dash": "solid"
         },
         "marker": {
          "symbol": "circle"
         },
         "mode": "lines+markers+text",
         "name": "GFX%rc6",
         "orientation": "v",
         "showlegend": true,
         "text": [
          2011,
          2020,
          2009,
          2019,
          2020,
          2021,
          2022,
          2022,
          2022,
          2023,
          2023,
          2023,
          2023
         ],
         "textposition": "bottom right",
         "type": "scatter",
         "x": [
          "2.5.6",
          "2.7.18",
          "3.0.1",
          "3.4.10",
          "3.5.10",
          "3.6.15",
          "3.7.16",
          "3.8.16",
          "3.9.16",
          "3.10.11",
          "3.11.3",
          "3.12.0b1",
          "3.13.0a0"
         ],
         "xaxis": "x",
         "y": [
          0,
          0.8644067796610102,
          0.7627118644067821,
          0.8474576271186436,
          1,
          0.9491525423728717,
          0.9491525423728717,
          1,
          0.8813559322033768,
          0.9322033898305051,
          0.745762711864387,
          0.6949152542372872,
          0.5932203389830306
         ],
         "yaxis": "y"
        },
        {
         "hovertemplate": "variable=GFXMHz<br>python_version=%{x}<br>value=%{y}<br>text=%{text}<extra></extra>",
         "legendgroup": "GFXMHz",
         "line": {
          "color": "#EF553B",
          "dash": "solid"
         },
         "marker": {
          "symbol": "circle"
         },
         "mode": "lines+markers+text",
         "name": "GFXMHz",
         "orientation": "v",
         "showlegend": true,
         "text": [
          2011,
          2020,
          2009,
          2019,
          2020,
          2021,
          2022,
          2022,
          2022,
          2023,
          2023,
          2023,
          2023
         ],
         "textposition": "bottom right",
         "type": "scatter",
         "x": [
          "2.5.6",
          "2.7.18",
          "3.0.1",
          "3.4.10",
          "3.5.10",
          "3.6.15",
          "3.7.16",
          "3.8.16",
          "3.9.16",
          "3.10.11",
          "3.11.3",
          "3.12.0b1",
          "3.13.0a0"
         ],
         "xaxis": "x",
         "y": [
          1,
          1,
          0,
          0,
          0,
          0,
          0,
          0,
          0,
          0,
          0,
          0,
          1
         ],
         "yaxis": "y"
        },
        {
         "hovertemplate": "variable=Totl%C0<br>python_version=%{x}<br>value=%{y}<br>text=%{text}<extra></extra>",
         "legendgroup": "Totl%C0",
         "line": {
          "color": "#00cc96",
          "dash": "solid"
         },
         "marker": {
          "symbol": "circle"
         },
         "mode": "lines+markers+text",
         "name": "Totl%C0",
         "orientation": "v",
         "showlegend": true,
         "text": [
          2011,
          2020,
          2009,
          2019,
          2020,
          2021,
          2022,
          2022,
          2022,
          2023,
          2023,
          2023,
          2023
         ],
         "textposition": "bottom right",
         "type": "scatter",
         "x": [
          "2.5.6",
          "2.7.18",
          "3.0.1",
          "3.4.10",
          "3.5.10",
          "3.6.15",
          "3.7.16",
          "3.8.16",
          "3.9.16",
          "3.10.11",
          "3.11.3",
          "3.12.0b1",
          "3.13.0a0"
         ],
         "xaxis": "x",
         "y": [
          0.30330330330330213,
          0.6846846846846866,
          0.7417417417417411,
          0.30930930930930955,
          0.5405405405405403,
          0.4264264264264277,
          0.3813813813813809,
          0.6786786786786756,
          0.5795795795795762,
          0.39339339339339574,
          0.5345345345345365,
          1,
          0
         ],
         "yaxis": "y"
        },
        {
         "hovertemplate": "variable=Any%C0<br>python_version=%{x}<br>value=%{y}<br>text=%{text}<extra></extra>",
         "legendgroup": "Any%C0",
         "line": {
          "color": "#ab63fa",
          "dash": "solid"
         },
         "marker": {
          "symbol": "circle"
         },
         "mode": "lines+markers+text",
         "name": "Any%C0",
         "orientation": "v",
         "showlegend": true,
         "text": [
          2011,
          2020,
          2009,
          2019,
          2020,
          2021,
          2022,
          2022,
          2022,
          2023,
          2023,
          2023,
          2023
         ],
         "textposition": "bottom right",
         "type": "scatter",
         "x": [
          "2.5.6",
          "2.7.18",
          "3.0.1",
          "3.4.10",
          "3.5.10",
          "3.6.15",
          "3.7.16",
          "3.8.16",
          "3.9.16",
          "3.10.11",
          "3.11.3",
          "3.12.0b1",
          "3.13.0a0"
         ],
         "xaxis": "x",
         "y": [
          0.3500000000000085,
          0.8625000000000043,
          1,
          0.8625000000000043,
          0.7562500000000014,
          0.7187500000000071,
          0.7125000000000057,
          0.8187500000000085,
          0.8812500000000014,
          0.7500000000000071,
          0.3812500000000014,
          0.16875000000000284,
          0
         ],
         "yaxis": "y"
        },
        {
         "hovertemplate": "variable=GFX%C0<br>python_version=%{x}<br>value=%{y}<br>text=%{text}<extra></extra>",
         "legendgroup": "GFX%C0",
         "line": {
          "color": "#FFA15A",
          "dash": "solid"
         },
         "marker": {
          "symbol": "circle"
         },
         "mode": "lines+markers+text",
         "name": "GFX%C0",
         "orientation": "v",
         "showlegend": true,
         "text": [
          2011,
          2020,
          2009,
          2019,
          2020,
          2021,
          2022,
          2022,
          2022,
          2023,
          2023,
          2023,
          2023
         ],
         "textposition": "bottom right",
         "type": "scatter",
         "x": [
          "2.5.6",
          "2.7.18",
          "3.0.1",
          "3.4.10",
          "3.5.10",
          "3.6.15",
          "3.7.16",
          "3.8.16",
          "3.9.16",
          "3.10.11",
          "3.11.3",
          "3.12.0b1",
          "3.13.0a0"
         ],
         "xaxis": "x",
         "y": [
          1,
          0.10869565217391303,
          0,
          0.021739130434782594,
          0.021739130434782594,
          0.021739130434782594,
          0.043478260869565216,
          0.021739130434782594,
          0.043478260869565216,
          0.043478260869565216,
          0.17391304347826086,
          0.13043478260869568,
          0.13043478260869568
         ],
         "yaxis": "y"
        },
        {
         "hovertemplate": "variable=CPUGFX%<br>python_version=%{x}<br>value=%{y}<br>text=%{text}<extra></extra>",
         "legendgroup": "CPUGFX%",
         "line": {
          "color": "#19d3f3",
          "dash": "solid"
         },
         "marker": {
          "symbol": "circle"
         },
         "mode": "lines+markers+text",
         "name": "CPUGFX%",
         "orientation": "v",
         "showlegend": true,
         "text": [
          2011,
          2020,
          2009,
          2019,
          2020,
          2021,
          2022,
          2022,
          2022,
          2023,
          2023,
          2023,
          2023
         ],
         "textposition": "bottom right",
         "type": "scatter",
         "x": [
          "2.5.6",
          "2.7.18",
          "3.0.1",
          "3.4.10",
          "3.5.10",
          "3.6.15",
          "3.7.16",
          "3.8.16",
          "3.9.16",
          "3.10.11",
          "3.11.3",
          "3.12.0b1",
          "3.13.0a0"
         ],
         "xaxis": "x",
         "y": [
          1,
          0.08695652173913043,
          0,
          0.021739130434782594,
          0.021739130434782594,
          0.021739130434782594,
          0.043478260869565216,
          0,
          0.021739130434782594,
          0.021739130434782594,
          0.15217391304347822,
          0.10869565217391303,
          0.13043478260869568
         ],
         "yaxis": "y"
        }
       ],
       "layout": {
        "legend": {
         "title": {
          "text": "variable"
         },
         "tracegroupgap": 0
        },
        "margin": {
         "t": 60
        },
        "template": {
         "data": {
          "bar": [
           {
            "error_x": {
             "color": "#2a3f5f"
            },
            "error_y": {
             "color": "#2a3f5f"
            },
            "marker": {
             "line": {
              "color": "#E5ECF6",
              "width": 0.5
             },
             "pattern": {
              "fillmode": "overlay",
              "size": 10,
              "solidity": 0.2
             }
            },
            "type": "bar"
           }
          ],
          "barpolar": [
           {
            "marker": {
             "line": {
              "color": "#E5ECF6",
              "width": 0.5
             },
             "pattern": {
              "fillmode": "overlay",
              "size": 10,
              "solidity": 0.2
             }
            },
            "type": "barpolar"
           }
          ],
          "carpet": [
           {
            "aaxis": {
             "endlinecolor": "#2a3f5f",
             "gridcolor": "white",
             "linecolor": "white",
             "minorgridcolor": "white",
             "startlinecolor": "#2a3f5f"
            },
            "baxis": {
             "endlinecolor": "#2a3f5f",
             "gridcolor": "white",
             "linecolor": "white",
             "minorgridcolor": "white",
             "startlinecolor": "#2a3f5f"
            },
            "type": "carpet"
           }
          ],
          "choropleth": [
           {
            "colorbar": {
             "outlinewidth": 0,
             "ticks": ""
            },
            "type": "choropleth"
           }
          ],
          "contour": [
           {
            "colorbar": {
             "outlinewidth": 0,
             "ticks": ""
            },
            "colorscale": [
             [
              0,
              "#0d0887"
             ],
             [
              0.1111111111111111,
              "#46039f"
             ],
             [
              0.2222222222222222,
              "#7201a8"
             ],
             [
              0.3333333333333333,
              "#9c179e"
             ],
             [
              0.4444444444444444,
              "#bd3786"
             ],
             [
              0.5555555555555556,
              "#d8576b"
             ],
             [
              0.6666666666666666,
              "#ed7953"
             ],
             [
              0.7777777777777778,
              "#fb9f3a"
             ],
             [
              0.8888888888888888,
              "#fdca26"
             ],
             [
              1,
              "#f0f921"
             ]
            ],
            "type": "contour"
           }
          ],
          "contourcarpet": [
           {
            "colorbar": {
             "outlinewidth": 0,
             "ticks": ""
            },
            "type": "contourcarpet"
           }
          ],
          "heatmap": [
           {
            "colorbar": {
             "outlinewidth": 0,
             "ticks": ""
            },
            "colorscale": [
             [
              0,
              "#0d0887"
             ],
             [
              0.1111111111111111,
              "#46039f"
             ],
             [
              0.2222222222222222,
              "#7201a8"
             ],
             [
              0.3333333333333333,
              "#9c179e"
             ],
             [
              0.4444444444444444,
              "#bd3786"
             ],
             [
              0.5555555555555556,
              "#d8576b"
             ],
             [
              0.6666666666666666,
              "#ed7953"
             ],
             [
              0.7777777777777778,
              "#fb9f3a"
             ],
             [
              0.8888888888888888,
              "#fdca26"
             ],
             [
              1,
              "#f0f921"
             ]
            ],
            "type": "heatmap"
           }
          ],
          "heatmapgl": [
           {
            "colorbar": {
             "outlinewidth": 0,
             "ticks": ""
            },
            "colorscale": [
             [
              0,
              "#0d0887"
             ],
             [
              0.1111111111111111,
              "#46039f"
             ],
             [
              0.2222222222222222,
              "#7201a8"
             ],
             [
              0.3333333333333333,
              "#9c179e"
             ],
             [
              0.4444444444444444,
              "#bd3786"
             ],
             [
              0.5555555555555556,
              "#d8576b"
             ],
             [
              0.6666666666666666,
              "#ed7953"
             ],
             [
              0.7777777777777778,
              "#fb9f3a"
             ],
             [
              0.8888888888888888,
              "#fdca26"
             ],
             [
              1,
              "#f0f921"
             ]
            ],
            "type": "heatmapgl"
           }
          ],
          "histogram": [
           {
            "marker": {
             "pattern": {
              "fillmode": "overlay",
              "size": 10,
              "solidity": 0.2
             }
            },
            "type": "histogram"
           }
          ],
          "histogram2d": [
           {
            "colorbar": {
             "outlinewidth": 0,
             "ticks": ""
            },
            "colorscale": [
             [
              0,
              "#0d0887"
             ],
             [
              0.1111111111111111,
              "#46039f"
             ],
             [
              0.2222222222222222,
              "#7201a8"
             ],
             [
              0.3333333333333333,
              "#9c179e"
             ],
             [
              0.4444444444444444,
              "#bd3786"
             ],
             [
              0.5555555555555556,
              "#d8576b"
             ],
             [
              0.6666666666666666,
              "#ed7953"
             ],
             [
              0.7777777777777778,
              "#fb9f3a"
             ],
             [
              0.8888888888888888,
              "#fdca26"
             ],
             [
              1,
              "#f0f921"
             ]
            ],
            "type": "histogram2d"
           }
          ],
          "histogram2dcontour": [
           {
            "colorbar": {
             "outlinewidth": 0,
             "ticks": ""
            },
            "colorscale": [
             [
              0,
              "#0d0887"
             ],
             [
              0.1111111111111111,
              "#46039f"
             ],
             [
              0.2222222222222222,
              "#7201a8"
             ],
             [
              0.3333333333333333,
              "#9c179e"
             ],
             [
              0.4444444444444444,
              "#bd3786"
             ],
             [
              0.5555555555555556,
              "#d8576b"
             ],
             [
              0.6666666666666666,
              "#ed7953"
             ],
             [
              0.7777777777777778,
              "#fb9f3a"
             ],
             [
              0.8888888888888888,
              "#fdca26"
             ],
             [
              1,
              "#f0f921"
             ]
            ],
            "type": "histogram2dcontour"
           }
          ],
          "mesh3d": [
           {
            "colorbar": {
             "outlinewidth": 0,
             "ticks": ""
            },
            "type": "mesh3d"
           }
          ],
          "parcoords": [
           {
            "line": {
             "colorbar": {
              "outlinewidth": 0,
              "ticks": ""
             }
            },
            "type": "parcoords"
           }
          ],
          "pie": [
           {
            "automargin": true,
            "type": "pie"
           }
          ],
          "scatter": [
           {
            "fillpattern": {
             "fillmode": "overlay",
             "size": 10,
             "solidity": 0.2
            },
            "type": "scatter"
           }
          ],
          "scatter3d": [
           {
            "line": {
             "colorbar": {
              "outlinewidth": 0,
              "ticks": ""
             }
            },
            "marker": {
             "colorbar": {
              "outlinewidth": 0,
              "ticks": ""
             }
            },
            "type": "scatter3d"
           }
          ],
          "scattercarpet": [
           {
            "marker": {
             "colorbar": {
              "outlinewidth": 0,
              "ticks": ""
             }
            },
            "type": "scattercarpet"
           }
          ],
          "scattergeo": [
           {
            "marker": {
             "colorbar": {
              "outlinewidth": 0,
              "ticks": ""
             }
            },
            "type": "scattergeo"
           }
          ],
          "scattergl": [
           {
            "marker": {
             "colorbar": {
              "outlinewidth": 0,
              "ticks": ""
             }
            },
            "type": "scattergl"
           }
          ],
          "scattermapbox": [
           {
            "marker": {
             "colorbar": {
              "outlinewidth": 0,
              "ticks": ""
             }
            },
            "type": "scattermapbox"
           }
          ],
          "scatterpolar": [
           {
            "marker": {
             "colorbar": {
              "outlinewidth": 0,
              "ticks": ""
             }
            },
            "type": "scatterpolar"
           }
          ],
          "scatterpolargl": [
           {
            "marker": {
             "colorbar": {
              "outlinewidth": 0,
              "ticks": ""
             }
            },
            "type": "scatterpolargl"
           }
          ],
          "scatterternary": [
           {
            "marker": {
             "colorbar": {
              "outlinewidth": 0,
              "ticks": ""
             }
            },
            "type": "scatterternary"
           }
          ],
          "surface": [
           {
            "colorbar": {
             "outlinewidth": 0,
             "ticks": ""
            },
            "colorscale": [
             [
              0,
              "#0d0887"
             ],
             [
              0.1111111111111111,
              "#46039f"
             ],
             [
              0.2222222222222222,
              "#7201a8"
             ],
             [
              0.3333333333333333,
              "#9c179e"
             ],
             [
              0.4444444444444444,
              "#bd3786"
             ],
             [
              0.5555555555555556,
              "#d8576b"
             ],
             [
              0.6666666666666666,
              "#ed7953"
             ],
             [
              0.7777777777777778,
              "#fb9f3a"
             ],
             [
              0.8888888888888888,
              "#fdca26"
             ],
             [
              1,
              "#f0f921"
             ]
            ],
            "type": "surface"
           }
          ],
          "table": [
           {
            "cells": {
             "fill": {
              "color": "#EBF0F8"
             },
             "line": {
              "color": "white"
             }
            },
            "header": {
             "fill": {
              "color": "#C8D4E3"
             },
             "line": {
              "color": "white"
             }
            },
            "type": "table"
           }
          ]
         },
         "layout": {
          "annotationdefaults": {
           "arrowcolor": "#2a3f5f",
           "arrowhead": 0,
           "arrowwidth": 1
          },
          "autotypenumbers": "strict",
          "coloraxis": {
           "colorbar": {
            "outlinewidth": 0,
            "ticks": ""
           }
          },
          "colorscale": {
           "diverging": [
            [
             0,
             "#8e0152"
            ],
            [
             0.1,
             "#c51b7d"
            ],
            [
             0.2,
             "#de77ae"
            ],
            [
             0.3,
             "#f1b6da"
            ],
            [
             0.4,
             "#fde0ef"
            ],
            [
             0.5,
             "#f7f7f7"
            ],
            [
             0.6,
             "#e6f5d0"
            ],
            [
             0.7,
             "#b8e186"
            ],
            [
             0.8,
             "#7fbc41"
            ],
            [
             0.9,
             "#4d9221"
            ],
            [
             1,
             "#276419"
            ]
           ],
           "sequential": [
            [
             0,
             "#0d0887"
            ],
            [
             0.1111111111111111,
             "#46039f"
            ],
            [
             0.2222222222222222,
             "#7201a8"
            ],
            [
             0.3333333333333333,
             "#9c179e"
            ],
            [
             0.4444444444444444,
             "#bd3786"
            ],
            [
             0.5555555555555556,
             "#d8576b"
            ],
            [
             0.6666666666666666,
             "#ed7953"
            ],
            [
             0.7777777777777778,
             "#fb9f3a"
            ],
            [
             0.8888888888888888,
             "#fdca26"
            ],
            [
             1,
             "#f0f921"
            ]
           ],
           "sequentialminus": [
            [
             0,
             "#0d0887"
            ],
            [
             0.1111111111111111,
             "#46039f"
            ],
            [
             0.2222222222222222,
             "#7201a8"
            ],
            [
             0.3333333333333333,
             "#9c179e"
            ],
            [
             0.4444444444444444,
             "#bd3786"
            ],
            [
             0.5555555555555556,
             "#d8576b"
            ],
            [
             0.6666666666666666,
             "#ed7953"
            ],
            [
             0.7777777777777778,
             "#fb9f3a"
            ],
            [
             0.8888888888888888,
             "#fdca26"
            ],
            [
             1,
             "#f0f921"
            ]
           ]
          },
          "colorway": [
           "#636efa",
           "#EF553B",
           "#00cc96",
           "#ab63fa",
           "#FFA15A",
           "#19d3f3",
           "#FF6692",
           "#B6E880",
           "#FF97FF",
           "#FECB52"
          ],
          "font": {
           "color": "#2a3f5f"
          },
          "geo": {
           "bgcolor": "white",
           "lakecolor": "white",
           "landcolor": "#E5ECF6",
           "showlakes": true,
           "showland": true,
           "subunitcolor": "white"
          },
          "hoverlabel": {
           "align": "left"
          },
          "hovermode": "closest",
          "mapbox": {
           "style": "light"
          },
          "paper_bgcolor": "white",
          "plot_bgcolor": "#E5ECF6",
          "polar": {
           "angularaxis": {
            "gridcolor": "white",
            "linecolor": "white",
            "ticks": ""
           },
           "bgcolor": "#E5ECF6",
           "radialaxis": {
            "gridcolor": "white",
            "linecolor": "white",
            "ticks": ""
           }
          },
          "scene": {
           "xaxis": {
            "backgroundcolor": "#E5ECF6",
            "gridcolor": "white",
            "gridwidth": 2,
            "linecolor": "white",
            "showbackground": true,
            "ticks": "",
            "zerolinecolor": "white"
           },
           "yaxis": {
            "backgroundcolor": "#E5ECF6",
            "gridcolor": "white",
            "gridwidth": 2,
            "linecolor": "white",
            "showbackground": true,
            "ticks": "",
            "zerolinecolor": "white"
           },
           "zaxis": {
            "backgroundcolor": "#E5ECF6",
            "gridcolor": "white",
            "gridwidth": 2,
            "linecolor": "white",
            "showbackground": true,
            "ticks": "",
            "zerolinecolor": "white"
           }
          },
          "shapedefaults": {
           "line": {
            "color": "#2a3f5f"
           }
          },
          "ternary": {
           "aaxis": {
            "gridcolor": "white",
            "linecolor": "white",
            "ticks": ""
           },
           "baxis": {
            "gridcolor": "white",
            "linecolor": "white",
            "ticks": ""
           },
           "bgcolor": "#E5ECF6",
           "caxis": {
            "gridcolor": "white",
            "linecolor": "white",
            "ticks": ""
           }
          },
          "title": {
           "x": 0.05
          },
          "xaxis": {
           "automargin": true,
           "gridcolor": "white",
           "linecolor": "white",
           "ticks": "",
           "title": {
            "standoff": 15
           },
           "zerolinecolor": "white",
           "zerolinewidth": 2
          },
          "yaxis": {
           "automargin": true,
           "gridcolor": "white",
           "linecolor": "white",
           "ticks": "",
           "title": {
            "standoff": 15
           },
           "zerolinecolor": "white",
           "zerolinewidth": 2
          }
         }
        },
        "xaxis": {
         "anchor": "y",
         "domain": [
          0,
          1
         ],
         "title": {
          "text": "python_version"
         }
        },
        "yaxis": {
         "anchor": "x",
         "domain": [
          0,
          1
         ],
         "title": {
          "text": "value"
         }
        }
       }
      }
     },
     "metadata": {},
     "output_type": "display_data"
    }
   ],
   "source": [
    "fig = px.line(df, x=\"python_version\", y=[\"GFX%rc6\",\"GFXMHz\",\"Totl%C0\",\"Any%C0\",\"GFX%C0\",\"CPUGFX%\"], text=pd.to_datetime(df['release_date']).dt.year)\n",
    "fig.update_traces(textposition=\"bottom right\")\n",
    "fig.show()"
   ]
  },
  {
   "attachments": {},
   "cell_type": "markdown",
   "metadata": {},
   "source": [
    "## Correlations"
   ]
  },
  {
   "attachments": {},
   "cell_type": "markdown",
   "metadata": {},
   "source": [
    "### Energy"
   ]
  },
  {
   "cell_type": "code",
   "execution_count": 42,
   "metadata": {},
   "outputs": [],
   "source": [
    "energy = pd.concat([python_version,time_elapsed,energy_core,energy_pkg,energy_gfx,energy_ram], axis=1)"
   ]
  },
  {
   "attachments": {},
   "cell_type": "markdown",
   "metadata": {},
   "source": [
    "### CPU"
   ]
  },
  {
   "cell_type": "code",
   "execution_count": 43,
   "metadata": {},
   "outputs": [],
   "source": [
    "cpu = pd.concat([time_elapsed,avg_mhz,busy_mhz,busy_percent,ipc,irq,poll,c1,c1e,c3,c6,c7s,c8,coreTemperature,pkgTemperature,total_c0_percent,any_c0_percent,cpugfx_percent,gfx_c0_percent,gfx_percent,gfx_mhz], axis=1)"
   ]
  },
  {
   "attachments": {},
   "cell_type": "markdown",
   "metadata": {},
   "source": [
    "## Notes"
   ]
  },
  {
   "cell_type": "code",
   "execution_count": 44,
   "metadata": {},
   "outputs": [],
   "source": [
    "# Normalize the data\n",
    "# Observe the correlation between the values\n",
    "# Select which parameters\n",
    "# Find information regarding the memory consumption/usage\n",
    "# Select algorithms/application\n",
    "\n",
    "\n",
    "# MEMORY DATA\n",
    "# READ ABOUT THE CHANGES IN THE LAST PYTHON VERSIONS - FINDING THE REASON!!!!!\n",
    "# MEANING OF EACH MEASUREMENT\n"
   ]
  }
 ],
 "metadata": {
  "kernelspec": {
   "display_name": "Python 3 (Spyder)",
   "language": "python3",
   "name": "python3"
  },
  "language_info": {
   "codemirror_mode": {
    "name": "ipython",
    "version": 3
   },
   "file_extension": ".py",
   "mimetype": "text/x-python",
   "name": "python",
   "nbconvert_exporter": "python",
   "pygments_lexer": "ipython3",
   "version": "3.11.3"
  }
 },
 "nbformat": 4,
 "nbformat_minor": 4
}
