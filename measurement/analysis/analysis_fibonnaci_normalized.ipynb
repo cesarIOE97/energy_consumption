{
 "cells": [
  {
   "attachments": {},
   "cell_type": "markdown",
   "metadata": {},
   "source": [
    "# Analysis for Performance and Energy Consumption"
   ]
  },
  {
   "attachments": {},
   "cell_type": "markdown",
   "metadata": {},
   "source": [
    "## Extract information"
   ]
  },
  {
   "cell_type": "code",
   "execution_count": 63,
   "metadata": {},
   "outputs": [],
   "source": [
    "# Libraries\n",
    "import pandas as pd\n",
    "import matplotlib.pyplot as plt\n",
    "import seaborn as sns\n",
    "import plotly.express as px\n",
    "import plotly"
   ]
  },
  {
   "cell_type": "code",
   "execution_count": 64,
   "metadata": {},
   "outputs": [
    {
     "data": {
      "text/html": [
       "<div>\n",
       "<style scoped>\n",
       "    .dataframe tbody tr th:only-of-type {\n",
       "        vertical-align: middle;\n",
       "    }\n",
       "\n",
       "    .dataframe tbody tr th {\n",
       "        vertical-align: top;\n",
       "    }\n",
       "\n",
       "    .dataframe thead th {\n",
       "        text-align: right;\n",
       "    }\n",
       "</style>\n",
       "<table border=\"1\" class=\"dataframe\">\n",
       "  <thead>\n",
       "    <tr style=\"text-align: right;\">\n",
       "      <th></th>\n",
       "      <th>python_version</th>\n",
       "      <th>release_date</th>\n",
       "      <th>first_release</th>\n",
       "      <th>appplication</th>\n",
       "      <th>time_elapsed</th>\n",
       "      <th>usec</th>\n",
       "      <th>Time_Of_Day_Seconds</th>\n",
       "      <th>APIC</th>\n",
       "      <th>X2APIC</th>\n",
       "      <th>Avg_MHz</th>\n",
       "      <th>...</th>\n",
       "      <th>Pkg%pc9</th>\n",
       "      <th>Pk%pc10</th>\n",
       "      <th>CPU%LPI</th>\n",
       "      <th>SYS%LPI</th>\n",
       "      <th>Pkg_J</th>\n",
       "      <th>Cor_J</th>\n",
       "      <th>GFX_J</th>\n",
       "      <th>RAM_J</th>\n",
       "      <th>PKG_%</th>\n",
       "      <th>RAM_%</th>\n",
       "    </tr>\n",
       "  </thead>\n",
       "  <tbody>\n",
       "    <tr>\n",
       "      <th>0</th>\n",
       "      <td>2.5.6</td>\n",
       "      <td>2011-05-26</td>\n",
       "      <td>2006-09-19</td>\n",
       "      <td>fibonacci_oldVersions.py 506999</td>\n",
       "      <td>7.41879</td>\n",
       "      <td>1113.7</td>\n",
       "      <td>1.686841e+09</td>\n",
       "      <td>0.0</td>\n",
       "      <td>0.0</td>\n",
       "      <td>528.9</td>\n",
       "      <td>...</td>\n",
       "      <td>0.0</td>\n",
       "      <td>0.0</td>\n",
       "      <td>0.0</td>\n",
       "      <td>0.0</td>\n",
       "      <td>135.09</td>\n",
       "      <td>115.14</td>\n",
       "      <td>0.04</td>\n",
       "      <td>6.33</td>\n",
       "      <td>0.0</td>\n",
       "      <td>0.0</td>\n",
       "    </tr>\n",
       "    <tr>\n",
       "      <th>1</th>\n",
       "      <td>2.7.18</td>\n",
       "      <td>2020-04-20</td>\n",
       "      <td>2010-07-04</td>\n",
       "      <td>fibonacci_oldVersions.py 506999</td>\n",
       "      <td>4.71534</td>\n",
       "      <td>1096.1</td>\n",
       "      <td>1.686841e+09</td>\n",
       "      <td>0.0</td>\n",
       "      <td>0.0</td>\n",
       "      <td>526.1</td>\n",
       "      <td>...</td>\n",
       "      <td>0.0</td>\n",
       "      <td>0.0</td>\n",
       "      <td>0.0</td>\n",
       "      <td>0.0</td>\n",
       "      <td>85.29</td>\n",
       "      <td>72.16</td>\n",
       "      <td>0.03</td>\n",
       "      <td>4.69</td>\n",
       "      <td>0.0</td>\n",
       "      <td>0.0</td>\n",
       "    </tr>\n",
       "    <tr>\n",
       "      <th>2</th>\n",
       "      <td>3.0.1</td>\n",
       "      <td>2009-02-13</td>\n",
       "      <td>2008-12-03</td>\n",
       "      <td>fibonacci_oldVersions.py 506999</td>\n",
       "      <td>7.50869</td>\n",
       "      <td>1199.4</td>\n",
       "      <td>1.686841e+09</td>\n",
       "      <td>0.0</td>\n",
       "      <td>0.0</td>\n",
       "      <td>446.3</td>\n",
       "      <td>...</td>\n",
       "      <td>0.0</td>\n",
       "      <td>0.0</td>\n",
       "      <td>0.0</td>\n",
       "      <td>0.0</td>\n",
       "      <td>91.97</td>\n",
       "      <td>71.72</td>\n",
       "      <td>0.04</td>\n",
       "      <td>6.40</td>\n",
       "      <td>0.0</td>\n",
       "      <td>0.0</td>\n",
       "    </tr>\n",
       "    <tr>\n",
       "      <th>3</th>\n",
       "      <td>3.4.10</td>\n",
       "      <td>2019-03-18</td>\n",
       "      <td>2014-03-16</td>\n",
       "      <td>fibonacci_oldVersions.py 506999</td>\n",
       "      <td>5.55466</td>\n",
       "      <td>1191.9</td>\n",
       "      <td>1.686841e+09</td>\n",
       "      <td>0.0</td>\n",
       "      <td>0.0</td>\n",
       "      <td>445.5</td>\n",
       "      <td>...</td>\n",
       "      <td>0.0</td>\n",
       "      <td>0.0</td>\n",
       "      <td>0.0</td>\n",
       "      <td>0.0</td>\n",
       "      <td>65.83</td>\n",
       "      <td>50.70</td>\n",
       "      <td>0.03</td>\n",
       "      <td>5.23</td>\n",
       "      <td>0.0</td>\n",
       "      <td>0.0</td>\n",
       "    </tr>\n",
       "    <tr>\n",
       "      <th>4</th>\n",
       "      <td>3.5.10</td>\n",
       "      <td>2020-09-05</td>\n",
       "      <td>2015-09-13</td>\n",
       "      <td>fibonacci_oldVersions.py 506999</td>\n",
       "      <td>5.57666</td>\n",
       "      <td>1193.9</td>\n",
       "      <td>1.686841e+09</td>\n",
       "      <td>0.0</td>\n",
       "      <td>0.0</td>\n",
       "      <td>451.5</td>\n",
       "      <td>...</td>\n",
       "      <td>0.0</td>\n",
       "      <td>0.0</td>\n",
       "      <td>0.0</td>\n",
       "      <td>0.0</td>\n",
       "      <td>66.08</td>\n",
       "      <td>50.72</td>\n",
       "      <td>0.03</td>\n",
       "      <td>5.26</td>\n",
       "      <td>0.0</td>\n",
       "      <td>0.0</td>\n",
       "    </tr>\n",
       "    <tr>\n",
       "      <th>5</th>\n",
       "      <td>3.6.15</td>\n",
       "      <td>2021-09-04</td>\n",
       "      <td>2016-12-23</td>\n",
       "      <td>fibonacci_oldVersions.py 506999</td>\n",
       "      <td>5.56470</td>\n",
       "      <td>1180.7</td>\n",
       "      <td>1.686841e+09</td>\n",
       "      <td>0.0</td>\n",
       "      <td>0.0</td>\n",
       "      <td>446.7</td>\n",
       "      <td>...</td>\n",
       "      <td>0.0</td>\n",
       "      <td>0.0</td>\n",
       "      <td>0.0</td>\n",
       "      <td>0.0</td>\n",
       "      <td>65.98</td>\n",
       "      <td>50.88</td>\n",
       "      <td>0.03</td>\n",
       "      <td>5.23</td>\n",
       "      <td>0.0</td>\n",
       "      <td>0.0</td>\n",
       "    </tr>\n",
       "    <tr>\n",
       "      <th>6</th>\n",
       "      <td>3.7.16</td>\n",
       "      <td>2022-12-06</td>\n",
       "      <td>2018-06-27</td>\n",
       "      <td>fibonacci_oldVersions.py 506999</td>\n",
       "      <td>5.54157</td>\n",
       "      <td>1199.3</td>\n",
       "      <td>1.686841e+09</td>\n",
       "      <td>0.0</td>\n",
       "      <td>0.0</td>\n",
       "      <td>443.6</td>\n",
       "      <td>...</td>\n",
       "      <td>0.0</td>\n",
       "      <td>0.0</td>\n",
       "      <td>0.0</td>\n",
       "      <td>0.0</td>\n",
       "      <td>65.66</td>\n",
       "      <td>50.62</td>\n",
       "      <td>0.03</td>\n",
       "      <td>5.21</td>\n",
       "      <td>0.0</td>\n",
       "      <td>0.0</td>\n",
       "    </tr>\n",
       "    <tr>\n",
       "      <th>7</th>\n",
       "      <td>3.8.16</td>\n",
       "      <td>2022-12-06</td>\n",
       "      <td>2019-10-14</td>\n",
       "      <td>fibonacci_oldVersions.py 506999</td>\n",
       "      <td>5.51648</td>\n",
       "      <td>1199.8</td>\n",
       "      <td>1.686841e+09</td>\n",
       "      <td>0.0</td>\n",
       "      <td>0.0</td>\n",
       "      <td>445.3</td>\n",
       "      <td>...</td>\n",
       "      <td>0.0</td>\n",
       "      <td>0.0</td>\n",
       "      <td>0.0</td>\n",
       "      <td>0.0</td>\n",
       "      <td>65.38</td>\n",
       "      <td>50.33</td>\n",
       "      <td>0.03</td>\n",
       "      <td>5.19</td>\n",
       "      <td>0.0</td>\n",
       "      <td>0.0</td>\n",
       "    </tr>\n",
       "    <tr>\n",
       "      <th>8</th>\n",
       "      <td>3.9.16</td>\n",
       "      <td>2022-12-06</td>\n",
       "      <td>2020-10-05</td>\n",
       "      <td>fibonacci_oldVersions.py 506999</td>\n",
       "      <td>5.50998</td>\n",
       "      <td>1200.8</td>\n",
       "      <td>1.686841e+09</td>\n",
       "      <td>0.0</td>\n",
       "      <td>0.0</td>\n",
       "      <td>444.2</td>\n",
       "      <td>...</td>\n",
       "      <td>0.0</td>\n",
       "      <td>0.0</td>\n",
       "      <td>0.0</td>\n",
       "      <td>0.0</td>\n",
       "      <td>65.27</td>\n",
       "      <td>50.27</td>\n",
       "      <td>0.03</td>\n",
       "      <td>5.18</td>\n",
       "      <td>0.0</td>\n",
       "      <td>0.0</td>\n",
       "    </tr>\n",
       "    <tr>\n",
       "      <th>9</th>\n",
       "      <td>3.10.11</td>\n",
       "      <td>2023-04-05</td>\n",
       "      <td>2021-10-04</td>\n",
       "      <td>fibonacci_oldVersions.py 506999</td>\n",
       "      <td>5.55412</td>\n",
       "      <td>1197.9</td>\n",
       "      <td>1.686841e+09</td>\n",
       "      <td>0.0</td>\n",
       "      <td>0.0</td>\n",
       "      <td>447.2</td>\n",
       "      <td>...</td>\n",
       "      <td>0.0</td>\n",
       "      <td>0.0</td>\n",
       "      <td>0.0</td>\n",
       "      <td>0.0</td>\n",
       "      <td>65.81</td>\n",
       "      <td>50.68</td>\n",
       "      <td>0.03</td>\n",
       "      <td>5.21</td>\n",
       "      <td>0.0</td>\n",
       "      <td>0.0</td>\n",
       "    </tr>\n",
       "    <tr>\n",
       "      <th>10</th>\n",
       "      <td>3.11.3</td>\n",
       "      <td>2023-04-05</td>\n",
       "      <td>2022-10-24</td>\n",
       "      <td>fibonacci_oldVersions.py 506999</td>\n",
       "      <td>5.46455</td>\n",
       "      <td>1201.7</td>\n",
       "      <td>1.686841e+09</td>\n",
       "      <td>0.0</td>\n",
       "      <td>0.0</td>\n",
       "      <td>443.1</td>\n",
       "      <td>...</td>\n",
       "      <td>0.0</td>\n",
       "      <td>0.0</td>\n",
       "      <td>0.0</td>\n",
       "      <td>0.0</td>\n",
       "      <td>64.72</td>\n",
       "      <td>49.77</td>\n",
       "      <td>0.03</td>\n",
       "      <td>5.14</td>\n",
       "      <td>0.0</td>\n",
       "      <td>0.0</td>\n",
       "    </tr>\n",
       "    <tr>\n",
       "      <th>11</th>\n",
       "      <td>3.12.0b1</td>\n",
       "      <td>2023-05-22</td>\n",
       "      <td>2023-05-22</td>\n",
       "      <td>fibonacci_oldVersions.py 506999</td>\n",
       "      <td>5.49865</td>\n",
       "      <td>1191.4</td>\n",
       "      <td>1.686841e+09</td>\n",
       "      <td>0.0</td>\n",
       "      <td>0.0</td>\n",
       "      <td>443.9</td>\n",
       "      <td>...</td>\n",
       "      <td>0.0</td>\n",
       "      <td>0.0</td>\n",
       "      <td>0.0</td>\n",
       "      <td>0.0</td>\n",
       "      <td>65.13</td>\n",
       "      <td>50.11</td>\n",
       "      <td>0.03</td>\n",
       "      <td>5.17</td>\n",
       "      <td>0.0</td>\n",
       "      <td>0.0</td>\n",
       "    </tr>\n",
       "    <tr>\n",
       "      <th>12</th>\n",
       "      <td>3.13.0a0</td>\n",
       "      <td>2023-06-07</td>\n",
       "      <td>2023-06-07</td>\n",
       "      <td>fibonacci_oldVersions.py 506999</td>\n",
       "      <td>5.46132</td>\n",
       "      <td>1194.0</td>\n",
       "      <td>1.686841e+09</td>\n",
       "      <td>0.0</td>\n",
       "      <td>0.0</td>\n",
       "      <td>444.3</td>\n",
       "      <td>...</td>\n",
       "      <td>0.0</td>\n",
       "      <td>0.0</td>\n",
       "      <td>0.0</td>\n",
       "      <td>0.0</td>\n",
       "      <td>64.69</td>\n",
       "      <td>49.84</td>\n",
       "      <td>0.03</td>\n",
       "      <td>5.14</td>\n",
       "      <td>0.0</td>\n",
       "      <td>0.0</td>\n",
       "    </tr>\n",
       "  </tbody>\n",
       "</table>\n",
       "<p>13 rows × 62 columns</p>\n",
       "</div>"
      ],
      "text/plain": [
       "   python_version release_date first_release                     appplication  \\\n",
       "0           2.5.6   2011-05-26    2006-09-19  fibonacci_oldVersions.py 506999   \n",
       "1          2.7.18   2020-04-20    2010-07-04  fibonacci_oldVersions.py 506999   \n",
       "2           3.0.1   2009-02-13    2008-12-03  fibonacci_oldVersions.py 506999   \n",
       "3          3.4.10   2019-03-18    2014-03-16  fibonacci_oldVersions.py 506999   \n",
       "4          3.5.10   2020-09-05    2015-09-13  fibonacci_oldVersions.py 506999   \n",
       "5          3.6.15   2021-09-04    2016-12-23  fibonacci_oldVersions.py 506999   \n",
       "6          3.7.16   2022-12-06    2018-06-27  fibonacci_oldVersions.py 506999   \n",
       "7          3.8.16   2022-12-06    2019-10-14  fibonacci_oldVersions.py 506999   \n",
       "8          3.9.16   2022-12-06    2020-10-05  fibonacci_oldVersions.py 506999   \n",
       "9         3.10.11   2023-04-05    2021-10-04  fibonacci_oldVersions.py 506999   \n",
       "10         3.11.3   2023-04-05    2022-10-24  fibonacci_oldVersions.py 506999   \n",
       "11       3.12.0b1   2023-05-22    2023-05-22  fibonacci_oldVersions.py 506999   \n",
       "12       3.13.0a0   2023-06-07    2023-06-07  fibonacci_oldVersions.py 506999   \n",
       "\n",
       "    time_elapsed    usec  Time_Of_Day_Seconds  APIC  X2APIC  Avg_MHz  ...  \\\n",
       "0        7.41879  1113.7         1.686841e+09   0.0     0.0    528.9  ...   \n",
       "1        4.71534  1096.1         1.686841e+09   0.0     0.0    526.1  ...   \n",
       "2        7.50869  1199.4         1.686841e+09   0.0     0.0    446.3  ...   \n",
       "3        5.55466  1191.9         1.686841e+09   0.0     0.0    445.5  ...   \n",
       "4        5.57666  1193.9         1.686841e+09   0.0     0.0    451.5  ...   \n",
       "5        5.56470  1180.7         1.686841e+09   0.0     0.0    446.7  ...   \n",
       "6        5.54157  1199.3         1.686841e+09   0.0     0.0    443.6  ...   \n",
       "7        5.51648  1199.8         1.686841e+09   0.0     0.0    445.3  ...   \n",
       "8        5.50998  1200.8         1.686841e+09   0.0     0.0    444.2  ...   \n",
       "9        5.55412  1197.9         1.686841e+09   0.0     0.0    447.2  ...   \n",
       "10       5.46455  1201.7         1.686841e+09   0.0     0.0    443.1  ...   \n",
       "11       5.49865  1191.4         1.686841e+09   0.0     0.0    443.9  ...   \n",
       "12       5.46132  1194.0         1.686841e+09   0.0     0.0    444.3  ...   \n",
       "\n",
       "    Pkg%pc9  Pk%pc10  CPU%LPI  SYS%LPI   Pkg_J   Cor_J  GFX_J  RAM_J  PKG_%  \\\n",
       "0       0.0      0.0      0.0      0.0  135.09  115.14   0.04   6.33    0.0   \n",
       "1       0.0      0.0      0.0      0.0   85.29   72.16   0.03   4.69    0.0   \n",
       "2       0.0      0.0      0.0      0.0   91.97   71.72   0.04   6.40    0.0   \n",
       "3       0.0      0.0      0.0      0.0   65.83   50.70   0.03   5.23    0.0   \n",
       "4       0.0      0.0      0.0      0.0   66.08   50.72   0.03   5.26    0.0   \n",
       "5       0.0      0.0      0.0      0.0   65.98   50.88   0.03   5.23    0.0   \n",
       "6       0.0      0.0      0.0      0.0   65.66   50.62   0.03   5.21    0.0   \n",
       "7       0.0      0.0      0.0      0.0   65.38   50.33   0.03   5.19    0.0   \n",
       "8       0.0      0.0      0.0      0.0   65.27   50.27   0.03   5.18    0.0   \n",
       "9       0.0      0.0      0.0      0.0   65.81   50.68   0.03   5.21    0.0   \n",
       "10      0.0      0.0      0.0      0.0   64.72   49.77   0.03   5.14    0.0   \n",
       "11      0.0      0.0      0.0      0.0   65.13   50.11   0.03   5.17    0.0   \n",
       "12      0.0      0.0      0.0      0.0   64.69   49.84   0.03   5.14    0.0   \n",
       "\n",
       "    RAM_%  \n",
       "0     0.0  \n",
       "1     0.0  \n",
       "2     0.0  \n",
       "3     0.0  \n",
       "4     0.0  \n",
       "5     0.0  \n",
       "6     0.0  \n",
       "7     0.0  \n",
       "8     0.0  \n",
       "9     0.0  \n",
       "10    0.0  \n",
       "11    0.0  \n",
       "12    0.0  \n",
       "\n",
       "[13 rows x 62 columns]"
      ]
     },
     "execution_count": 64,
     "metadata": {},
     "output_type": "execute_result"
    }
   ],
   "source": [
    "# Read the CSV df into a DataFrame\n",
    "df = pd.read_csv('../fibonacci_506999_2/performance_data_allVersions_fibonacci_oldVersions.csv')\n",
    "\n",
    "# Mapping of Python versions to release dates\n",
    "release_dates = {\n",
    "    'Python 3.13.0a0': '2023-06-07',\n",
    "    'Python 3.12.0b1': '2023-05-22',\n",
    "    'Python 3.11.3': '2023-04-05',\n",
    "    'Python 3.10.11': '2023-04-05',\n",
    "    'Python 3.9.16': '2022-12-06',\n",
    "    'Python 3.8.16': '2022-12-06',\n",
    "    'Python 3.7.16': '2022-12-06',\n",
    "    'Python 3.6.15': '2021-09-04',\n",
    "    'Python 3.5.10': '2020-09-05',\n",
    "    'Python 3.4.10': '2019-03-18',\n",
    "    'Python 3.3.7': '2017-09-19',\n",
    "    'Python 3.2.6': '2014-10-11',\n",
    "    'Python 3.1.5': '2012-04-09',\n",
    "    'Python 3.0.1': '2009-02-13',\n",
    "    'Python 2.7.18': '2020-04-20',\n",
    "    'Python 2.6.9': '2013-10-29',\n",
    "    'Python 2.5.6': '2011-05-26',\n",
    "}\n",
    "\n",
    "# Mapping of Python versions to first releases\n",
    "first_release = {\n",
    "    'Python 3.13.0a0': '2023-06-07',\n",
    "    'Python 3.12.0b1': '2023-05-22',\n",
    "    'Python 3.11.3': '2022-10-24',\n",
    "    'Python 3.10.11': '2021-10-04',\n",
    "    'Python 3.9.16': '2020-10-05',\n",
    "    'Python 3.8.16': '2019-10-14',\n",
    "    'Python 3.7.16': '2018-06-27',\n",
    "    'Python 3.6.15': '2016-12-23',\n",
    "    'Python 3.5.10': '2015-09-13',\n",
    "    'Python 3.4.10': '2014-03-16',\n",
    "    'Python 3.3.7': '2012-09-29',\n",
    "    'Python 3.2.6': '2011-02-20',\n",
    "    'Python 3.1.5': '2009-06-27',\n",
    "    'Python 3.0.1': '2008-12-03',\n",
    "    'Python 2.7.18': '2010-07-04',\n",
    "    'Python 2.6.9': '2008-10-01',\n",
    "    'Python 2.5.6': '2006-09-19',\n",
    "}\n",
    "\n",
    "# Function to get release date for a given Python version\n",
    "def get_release_date(version):\n",
    "    return release_dates.get(version, 'Unknown')\n",
    "\n",
    "# Function to get release date for a given Python version\n",
    "def get_first_date(version):\n",
    "    return first_release.get(version, 'Unknown')\n",
    "\n",
    "# New column 'release_date' as the second \n",
    "df['release_date'] = df['python_version'].apply(get_release_date)\n",
    "df.insert(1, 'release_date', df.pop('release_date'))\n",
    "\n",
    "# New column 'first_date' as the second \n",
    "df['first_release'] = df['python_version'].apply(get_first_date)\n",
    "df.insert(2, 'first_release', df.pop('first_release'))\n",
    "\n",
    "# Convert date into datetime\n",
    "df['release_date'] = pd.to_datetime(df['release_date'])\n",
    "df['first_release'] = pd.to_datetime(df['first_release'])\n",
    "\n",
    "# Remove the word 'Python '\n",
    "df['python_version'] = df['python_version'].str.replace('Python ', '')\n",
    "df"
   ]
  },
  {
   "cell_type": "code",
   "execution_count": 65,
   "metadata": {},
   "outputs": [
    {
     "data": {
      "text/html": [
       "<div>\n",
       "<style scoped>\n",
       "    .dataframe tbody tr th:only-of-type {\n",
       "        vertical-align: middle;\n",
       "    }\n",
       "\n",
       "    .dataframe tbody tr th {\n",
       "        vertical-align: top;\n",
       "    }\n",
       "\n",
       "    .dataframe thead th {\n",
       "        text-align: right;\n",
       "    }\n",
       "</style>\n",
       "<table border=\"1\" class=\"dataframe\">\n",
       "  <thead>\n",
       "    <tr style=\"text-align: right;\">\n",
       "      <th></th>\n",
       "      <th>python_version</th>\n",
       "      <th>release_date</th>\n",
       "      <th>first_release</th>\n",
       "      <th>appplication</th>\n",
       "    </tr>\n",
       "  </thead>\n",
       "  <tbody>\n",
       "    <tr>\n",
       "      <th>0</th>\n",
       "      <td>2.5.6</td>\n",
       "      <td>2011-05-26</td>\n",
       "      <td>2006-09-19</td>\n",
       "      <td>fibonacci_oldVersions.py 506999</td>\n",
       "    </tr>\n",
       "    <tr>\n",
       "      <th>1</th>\n",
       "      <td>2.7.18</td>\n",
       "      <td>2020-04-20</td>\n",
       "      <td>2010-07-04</td>\n",
       "      <td>fibonacci_oldVersions.py 506999</td>\n",
       "    </tr>\n",
       "    <tr>\n",
       "      <th>2</th>\n",
       "      <td>3.0.1</td>\n",
       "      <td>2009-02-13</td>\n",
       "      <td>2008-12-03</td>\n",
       "      <td>fibonacci_oldVersions.py 506999</td>\n",
       "    </tr>\n",
       "    <tr>\n",
       "      <th>3</th>\n",
       "      <td>3.4.10</td>\n",
       "      <td>2019-03-18</td>\n",
       "      <td>2014-03-16</td>\n",
       "      <td>fibonacci_oldVersions.py 506999</td>\n",
       "    </tr>\n",
       "    <tr>\n",
       "      <th>4</th>\n",
       "      <td>3.5.10</td>\n",
       "      <td>2020-09-05</td>\n",
       "      <td>2015-09-13</td>\n",
       "      <td>fibonacci_oldVersions.py 506999</td>\n",
       "    </tr>\n",
       "    <tr>\n",
       "      <th>5</th>\n",
       "      <td>3.6.15</td>\n",
       "      <td>2021-09-04</td>\n",
       "      <td>2016-12-23</td>\n",
       "      <td>fibonacci_oldVersions.py 506999</td>\n",
       "    </tr>\n",
       "    <tr>\n",
       "      <th>6</th>\n",
       "      <td>3.7.16</td>\n",
       "      <td>2022-12-06</td>\n",
       "      <td>2018-06-27</td>\n",
       "      <td>fibonacci_oldVersions.py 506999</td>\n",
       "    </tr>\n",
       "    <tr>\n",
       "      <th>7</th>\n",
       "      <td>3.8.16</td>\n",
       "      <td>2022-12-06</td>\n",
       "      <td>2019-10-14</td>\n",
       "      <td>fibonacci_oldVersions.py 506999</td>\n",
       "    </tr>\n",
       "    <tr>\n",
       "      <th>8</th>\n",
       "      <td>3.9.16</td>\n",
       "      <td>2022-12-06</td>\n",
       "      <td>2020-10-05</td>\n",
       "      <td>fibonacci_oldVersions.py 506999</td>\n",
       "    </tr>\n",
       "    <tr>\n",
       "      <th>9</th>\n",
       "      <td>3.10.11</td>\n",
       "      <td>2023-04-05</td>\n",
       "      <td>2021-10-04</td>\n",
       "      <td>fibonacci_oldVersions.py 506999</td>\n",
       "    </tr>\n",
       "    <tr>\n",
       "      <th>10</th>\n",
       "      <td>3.11.3</td>\n",
       "      <td>2023-04-05</td>\n",
       "      <td>2022-10-24</td>\n",
       "      <td>fibonacci_oldVersions.py 506999</td>\n",
       "    </tr>\n",
       "    <tr>\n",
       "      <th>11</th>\n",
       "      <td>3.12.0b1</td>\n",
       "      <td>2023-05-22</td>\n",
       "      <td>2023-05-22</td>\n",
       "      <td>fibonacci_oldVersions.py 506999</td>\n",
       "    </tr>\n",
       "    <tr>\n",
       "      <th>12</th>\n",
       "      <td>3.13.0a0</td>\n",
       "      <td>2023-06-07</td>\n",
       "      <td>2023-06-07</td>\n",
       "      <td>fibonacci_oldVersions.py 506999</td>\n",
       "    </tr>\n",
       "  </tbody>\n",
       "</table>\n",
       "</div>"
      ],
      "text/plain": [
       "   python_version release_date first_release                     appplication\n",
       "0           2.5.6   2011-05-26    2006-09-19  fibonacci_oldVersions.py 506999\n",
       "1          2.7.18   2020-04-20    2010-07-04  fibonacci_oldVersions.py 506999\n",
       "2           3.0.1   2009-02-13    2008-12-03  fibonacci_oldVersions.py 506999\n",
       "3          3.4.10   2019-03-18    2014-03-16  fibonacci_oldVersions.py 506999\n",
       "4          3.5.10   2020-09-05    2015-09-13  fibonacci_oldVersions.py 506999\n",
       "5          3.6.15   2021-09-04    2016-12-23  fibonacci_oldVersions.py 506999\n",
       "6          3.7.16   2022-12-06    2018-06-27  fibonacci_oldVersions.py 506999\n",
       "7          3.8.16   2022-12-06    2019-10-14  fibonacci_oldVersions.py 506999\n",
       "8          3.9.16   2022-12-06    2020-10-05  fibonacci_oldVersions.py 506999\n",
       "9         3.10.11   2023-04-05    2021-10-04  fibonacci_oldVersions.py 506999\n",
       "10         3.11.3   2023-04-05    2022-10-24  fibonacci_oldVersions.py 506999\n",
       "11       3.12.0b1   2023-05-22    2023-05-22  fibonacci_oldVersions.py 506999\n",
       "12       3.13.0a0   2023-06-07    2023-06-07  fibonacci_oldVersions.py 506999"
      ]
     },
     "execution_count": 65,
     "metadata": {},
     "output_type": "execute_result"
    }
   ],
   "source": [
    "df_data = df[['python_version', 'release_date', 'first_release', 'appplication']]\n",
    "df_data"
   ]
  },
  {
   "cell_type": "code",
   "execution_count": 66,
   "metadata": {},
   "outputs": [
    {
     "data": {
      "text/html": [
       "<div>\n",
       "<style scoped>\n",
       "    .dataframe tbody tr th:only-of-type {\n",
       "        vertical-align: middle;\n",
       "    }\n",
       "\n",
       "    .dataframe tbody tr th {\n",
       "        vertical-align: top;\n",
       "    }\n",
       "\n",
       "    .dataframe thead th {\n",
       "        text-align: right;\n",
       "    }\n",
       "</style>\n",
       "<table border=\"1\" class=\"dataframe\">\n",
       "  <thead>\n",
       "    <tr style=\"text-align: right;\">\n",
       "      <th></th>\n",
       "      <th>time_elapsed</th>\n",
       "      <th>usec</th>\n",
       "      <th>Time_Of_Day_Seconds</th>\n",
       "      <th>APIC</th>\n",
       "      <th>X2APIC</th>\n",
       "      <th>Avg_MHz</th>\n",
       "      <th>Busy%</th>\n",
       "      <th>Bzy_MHz</th>\n",
       "      <th>TSC_MHz</th>\n",
       "      <th>IPC</th>\n",
       "      <th>...</th>\n",
       "      <th>Pkg%pc9</th>\n",
       "      <th>Pk%pc10</th>\n",
       "      <th>CPU%LPI</th>\n",
       "      <th>SYS%LPI</th>\n",
       "      <th>Pkg_J</th>\n",
       "      <th>Cor_J</th>\n",
       "      <th>GFX_J</th>\n",
       "      <th>RAM_J</th>\n",
       "      <th>PKG_%</th>\n",
       "      <th>RAM_%</th>\n",
       "    </tr>\n",
       "  </thead>\n",
       "  <tbody>\n",
       "    <tr>\n",
       "      <th>0</th>\n",
       "      <td>7.41879</td>\n",
       "      <td>1113.7</td>\n",
       "      <td>1.686841e+09</td>\n",
       "      <td>0.0</td>\n",
       "      <td>0.0</td>\n",
       "      <td>528.9</td>\n",
       "      <td>12.99</td>\n",
       "      <td>4070.2</td>\n",
       "      <td>1896.0</td>\n",
       "      <td>2.91</td>\n",
       "      <td>...</td>\n",
       "      <td>0.0</td>\n",
       "      <td>0.0</td>\n",
       "      <td>0.0</td>\n",
       "      <td>0.0</td>\n",
       "      <td>135.09</td>\n",
       "      <td>115.14</td>\n",
       "      <td>0.04</td>\n",
       "      <td>6.33</td>\n",
       "      <td>0.0</td>\n",
       "      <td>0.0</td>\n",
       "    </tr>\n",
       "    <tr>\n",
       "      <th>1</th>\n",
       "      <td>4.71534</td>\n",
       "      <td>1096.1</td>\n",
       "      <td>1.686841e+09</td>\n",
       "      <td>0.0</td>\n",
       "      <td>0.0</td>\n",
       "      <td>526.1</td>\n",
       "      <td>13.14</td>\n",
       "      <td>4003.5</td>\n",
       "      <td>1896.0</td>\n",
       "      <td>2.20</td>\n",
       "      <td>...</td>\n",
       "      <td>0.0</td>\n",
       "      <td>0.0</td>\n",
       "      <td>0.0</td>\n",
       "      <td>0.0</td>\n",
       "      <td>85.29</td>\n",
       "      <td>72.16</td>\n",
       "      <td>0.03</td>\n",
       "      <td>4.69</td>\n",
       "      <td>0.0</td>\n",
       "      <td>0.0</td>\n",
       "    </tr>\n",
       "    <tr>\n",
       "      <th>2</th>\n",
       "      <td>7.50869</td>\n",
       "      <td>1199.4</td>\n",
       "      <td>1.686841e+09</td>\n",
       "      <td>0.0</td>\n",
       "      <td>0.0</td>\n",
       "      <td>446.3</td>\n",
       "      <td>13.12</td>\n",
       "      <td>3401.6</td>\n",
       "      <td>1896.0</td>\n",
       "      <td>2.76</td>\n",
       "      <td>...</td>\n",
       "      <td>0.0</td>\n",
       "      <td>0.0</td>\n",
       "      <td>0.0</td>\n",
       "      <td>0.0</td>\n",
       "      <td>91.97</td>\n",
       "      <td>71.72</td>\n",
       "      <td>0.04</td>\n",
       "      <td>6.40</td>\n",
       "      <td>0.0</td>\n",
       "      <td>0.0</td>\n",
       "    </tr>\n",
       "    <tr>\n",
       "      <th>3</th>\n",
       "      <td>5.55466</td>\n",
       "      <td>1191.9</td>\n",
       "      <td>1.686841e+09</td>\n",
       "      <td>0.0</td>\n",
       "      <td>0.0</td>\n",
       "      <td>445.5</td>\n",
       "      <td>13.29</td>\n",
       "      <td>3354.4</td>\n",
       "      <td>1896.0</td>\n",
       "      <td>2.22</td>\n",
       "      <td>...</td>\n",
       "      <td>0.0</td>\n",
       "      <td>0.0</td>\n",
       "      <td>0.0</td>\n",
       "      <td>0.0</td>\n",
       "      <td>65.83</td>\n",
       "      <td>50.70</td>\n",
       "      <td>0.03</td>\n",
       "      <td>5.23</td>\n",
       "      <td>0.0</td>\n",
       "      <td>0.0</td>\n",
       "    </tr>\n",
       "    <tr>\n",
       "      <th>4</th>\n",
       "      <td>5.57666</td>\n",
       "      <td>1193.9</td>\n",
       "      <td>1.686841e+09</td>\n",
       "      <td>0.0</td>\n",
       "      <td>0.0</td>\n",
       "      <td>451.5</td>\n",
       "      <td>13.52</td>\n",
       "      <td>3347.5</td>\n",
       "      <td>1896.0</td>\n",
       "      <td>2.22</td>\n",
       "      <td>...</td>\n",
       "      <td>0.0</td>\n",
       "      <td>0.0</td>\n",
       "      <td>0.0</td>\n",
       "      <td>0.0</td>\n",
       "      <td>66.08</td>\n",
       "      <td>50.72</td>\n",
       "      <td>0.03</td>\n",
       "      <td>5.26</td>\n",
       "      <td>0.0</td>\n",
       "      <td>0.0</td>\n",
       "    </tr>\n",
       "    <tr>\n",
       "      <th>5</th>\n",
       "      <td>5.56470</td>\n",
       "      <td>1180.7</td>\n",
       "      <td>1.686841e+09</td>\n",
       "      <td>0.0</td>\n",
       "      <td>0.0</td>\n",
       "      <td>446.7</td>\n",
       "      <td>13.23</td>\n",
       "      <td>3377.1</td>\n",
       "      <td>1896.0</td>\n",
       "      <td>2.21</td>\n",
       "      <td>...</td>\n",
       "      <td>0.0</td>\n",
       "      <td>0.0</td>\n",
       "      <td>0.0</td>\n",
       "      <td>0.0</td>\n",
       "      <td>65.98</td>\n",
       "      <td>50.88</td>\n",
       "      <td>0.03</td>\n",
       "      <td>5.23</td>\n",
       "      <td>0.0</td>\n",
       "      <td>0.0</td>\n",
       "    </tr>\n",
       "    <tr>\n",
       "      <th>6</th>\n",
       "      <td>5.54157</td>\n",
       "      <td>1199.3</td>\n",
       "      <td>1.686841e+09</td>\n",
       "      <td>0.0</td>\n",
       "      <td>0.0</td>\n",
       "      <td>443.6</td>\n",
       "      <td>13.20</td>\n",
       "      <td>3359.6</td>\n",
       "      <td>1896.0</td>\n",
       "      <td>2.23</td>\n",
       "      <td>...</td>\n",
       "      <td>0.0</td>\n",
       "      <td>0.0</td>\n",
       "      <td>0.0</td>\n",
       "      <td>0.0</td>\n",
       "      <td>65.66</td>\n",
       "      <td>50.62</td>\n",
       "      <td>0.03</td>\n",
       "      <td>5.21</td>\n",
       "      <td>0.0</td>\n",
       "      <td>0.0</td>\n",
       "    </tr>\n",
       "    <tr>\n",
       "      <th>7</th>\n",
       "      <td>5.51648</td>\n",
       "      <td>1199.8</td>\n",
       "      <td>1.686841e+09</td>\n",
       "      <td>0.0</td>\n",
       "      <td>0.0</td>\n",
       "      <td>445.3</td>\n",
       "      <td>13.18</td>\n",
       "      <td>3376.7</td>\n",
       "      <td>1896.0</td>\n",
       "      <td>2.24</td>\n",
       "      <td>...</td>\n",
       "      <td>0.0</td>\n",
       "      <td>0.0</td>\n",
       "      <td>0.0</td>\n",
       "      <td>0.0</td>\n",
       "      <td>65.38</td>\n",
       "      <td>50.33</td>\n",
       "      <td>0.03</td>\n",
       "      <td>5.19</td>\n",
       "      <td>0.0</td>\n",
       "      <td>0.0</td>\n",
       "    </tr>\n",
       "    <tr>\n",
       "      <th>8</th>\n",
       "      <td>5.50998</td>\n",
       "      <td>1200.8</td>\n",
       "      <td>1.686841e+09</td>\n",
       "      <td>0.0</td>\n",
       "      <td>0.0</td>\n",
       "      <td>444.2</td>\n",
       "      <td>13.15</td>\n",
       "      <td>3378.7</td>\n",
       "      <td>1896.0</td>\n",
       "      <td>2.24</td>\n",
       "      <td>...</td>\n",
       "      <td>0.0</td>\n",
       "      <td>0.0</td>\n",
       "      <td>0.0</td>\n",
       "      <td>0.0</td>\n",
       "      <td>65.27</td>\n",
       "      <td>50.27</td>\n",
       "      <td>0.03</td>\n",
       "      <td>5.18</td>\n",
       "      <td>0.0</td>\n",
       "      <td>0.0</td>\n",
       "    </tr>\n",
       "    <tr>\n",
       "      <th>9</th>\n",
       "      <td>5.55412</td>\n",
       "      <td>1197.9</td>\n",
       "      <td>1.686841e+09</td>\n",
       "      <td>0.0</td>\n",
       "      <td>0.0</td>\n",
       "      <td>447.2</td>\n",
       "      <td>13.27</td>\n",
       "      <td>3371.3</td>\n",
       "      <td>1896.0</td>\n",
       "      <td>2.21</td>\n",
       "      <td>...</td>\n",
       "      <td>0.0</td>\n",
       "      <td>0.0</td>\n",
       "      <td>0.0</td>\n",
       "      <td>0.0</td>\n",
       "      <td>65.81</td>\n",
       "      <td>50.68</td>\n",
       "      <td>0.03</td>\n",
       "      <td>5.21</td>\n",
       "      <td>0.0</td>\n",
       "      <td>0.0</td>\n",
       "    </tr>\n",
       "    <tr>\n",
       "      <th>10</th>\n",
       "      <td>5.46455</td>\n",
       "      <td>1201.7</td>\n",
       "      <td>1.686841e+09</td>\n",
       "      <td>0.0</td>\n",
       "      <td>0.0</td>\n",
       "      <td>443.1</td>\n",
       "      <td>13.20</td>\n",
       "      <td>3358.5</td>\n",
       "      <td>1896.0</td>\n",
       "      <td>2.24</td>\n",
       "      <td>...</td>\n",
       "      <td>0.0</td>\n",
       "      <td>0.0</td>\n",
       "      <td>0.0</td>\n",
       "      <td>0.0</td>\n",
       "      <td>64.72</td>\n",
       "      <td>49.77</td>\n",
       "      <td>0.03</td>\n",
       "      <td>5.14</td>\n",
       "      <td>0.0</td>\n",
       "      <td>0.0</td>\n",
       "    </tr>\n",
       "    <tr>\n",
       "      <th>11</th>\n",
       "      <td>5.49865</td>\n",
       "      <td>1191.4</td>\n",
       "      <td>1.686841e+09</td>\n",
       "      <td>0.0</td>\n",
       "      <td>0.0</td>\n",
       "      <td>443.9</td>\n",
       "      <td>13.23</td>\n",
       "      <td>3356.3</td>\n",
       "      <td>1896.0</td>\n",
       "      <td>2.23</td>\n",
       "      <td>...</td>\n",
       "      <td>0.0</td>\n",
       "      <td>0.0</td>\n",
       "      <td>0.0</td>\n",
       "      <td>0.0</td>\n",
       "      <td>65.13</td>\n",
       "      <td>50.11</td>\n",
       "      <td>0.03</td>\n",
       "      <td>5.17</td>\n",
       "      <td>0.0</td>\n",
       "      <td>0.0</td>\n",
       "    </tr>\n",
       "    <tr>\n",
       "      <th>12</th>\n",
       "      <td>5.46132</td>\n",
       "      <td>1194.0</td>\n",
       "      <td>1.686841e+09</td>\n",
       "      <td>0.0</td>\n",
       "      <td>0.0</td>\n",
       "      <td>444.3</td>\n",
       "      <td>13.15</td>\n",
       "      <td>3379.3</td>\n",
       "      <td>1896.0</td>\n",
       "      <td>2.24</td>\n",
       "      <td>...</td>\n",
       "      <td>0.0</td>\n",
       "      <td>0.0</td>\n",
       "      <td>0.0</td>\n",
       "      <td>0.0</td>\n",
       "      <td>64.69</td>\n",
       "      <td>49.84</td>\n",
       "      <td>0.03</td>\n",
       "      <td>5.14</td>\n",
       "      <td>0.0</td>\n",
       "      <td>0.0</td>\n",
       "    </tr>\n",
       "  </tbody>\n",
       "</table>\n",
       "<p>13 rows × 58 columns</p>\n",
       "</div>"
      ],
      "text/plain": [
       "    time_elapsed    usec  Time_Of_Day_Seconds  APIC  X2APIC  Avg_MHz  Busy%  \\\n",
       "0        7.41879  1113.7         1.686841e+09   0.0     0.0    528.9  12.99   \n",
       "1        4.71534  1096.1         1.686841e+09   0.0     0.0    526.1  13.14   \n",
       "2        7.50869  1199.4         1.686841e+09   0.0     0.0    446.3  13.12   \n",
       "3        5.55466  1191.9         1.686841e+09   0.0     0.0    445.5  13.29   \n",
       "4        5.57666  1193.9         1.686841e+09   0.0     0.0    451.5  13.52   \n",
       "5        5.56470  1180.7         1.686841e+09   0.0     0.0    446.7  13.23   \n",
       "6        5.54157  1199.3         1.686841e+09   0.0     0.0    443.6  13.20   \n",
       "7        5.51648  1199.8         1.686841e+09   0.0     0.0    445.3  13.18   \n",
       "8        5.50998  1200.8         1.686841e+09   0.0     0.0    444.2  13.15   \n",
       "9        5.55412  1197.9         1.686841e+09   0.0     0.0    447.2  13.27   \n",
       "10       5.46455  1201.7         1.686841e+09   0.0     0.0    443.1  13.20   \n",
       "11       5.49865  1191.4         1.686841e+09   0.0     0.0    443.9  13.23   \n",
       "12       5.46132  1194.0         1.686841e+09   0.0     0.0    444.3  13.15   \n",
       "\n",
       "    Bzy_MHz  TSC_MHz   IPC  ...  Pkg%pc9  Pk%pc10  CPU%LPI  SYS%LPI   Pkg_J  \\\n",
       "0    4070.2   1896.0  2.91  ...      0.0      0.0      0.0      0.0  135.09   \n",
       "1    4003.5   1896.0  2.20  ...      0.0      0.0      0.0      0.0   85.29   \n",
       "2    3401.6   1896.0  2.76  ...      0.0      0.0      0.0      0.0   91.97   \n",
       "3    3354.4   1896.0  2.22  ...      0.0      0.0      0.0      0.0   65.83   \n",
       "4    3347.5   1896.0  2.22  ...      0.0      0.0      0.0      0.0   66.08   \n",
       "5    3377.1   1896.0  2.21  ...      0.0      0.0      0.0      0.0   65.98   \n",
       "6    3359.6   1896.0  2.23  ...      0.0      0.0      0.0      0.0   65.66   \n",
       "7    3376.7   1896.0  2.24  ...      0.0      0.0      0.0      0.0   65.38   \n",
       "8    3378.7   1896.0  2.24  ...      0.0      0.0      0.0      0.0   65.27   \n",
       "9    3371.3   1896.0  2.21  ...      0.0      0.0      0.0      0.0   65.81   \n",
       "10   3358.5   1896.0  2.24  ...      0.0      0.0      0.0      0.0   64.72   \n",
       "11   3356.3   1896.0  2.23  ...      0.0      0.0      0.0      0.0   65.13   \n",
       "12   3379.3   1896.0  2.24  ...      0.0      0.0      0.0      0.0   64.69   \n",
       "\n",
       "     Cor_J  GFX_J  RAM_J  PKG_%  RAM_%  \n",
       "0   115.14   0.04   6.33    0.0    0.0  \n",
       "1    72.16   0.03   4.69    0.0    0.0  \n",
       "2    71.72   0.04   6.40    0.0    0.0  \n",
       "3    50.70   0.03   5.23    0.0    0.0  \n",
       "4    50.72   0.03   5.26    0.0    0.0  \n",
       "5    50.88   0.03   5.23    0.0    0.0  \n",
       "6    50.62   0.03   5.21    0.0    0.0  \n",
       "7    50.33   0.03   5.19    0.0    0.0  \n",
       "8    50.27   0.03   5.18    0.0    0.0  \n",
       "9    50.68   0.03   5.21    0.0    0.0  \n",
       "10   49.77   0.03   5.14    0.0    0.0  \n",
       "11   50.11   0.03   5.17    0.0    0.0  \n",
       "12   49.84   0.03   5.14    0.0    0.0  \n",
       "\n",
       "[13 rows x 58 columns]"
      ]
     },
     "execution_count": 66,
     "metadata": {},
     "output_type": "execute_result"
    }
   ],
   "source": [
    "df_metric = df.loc[:, ~df.columns.isin(['python_version', 'release_date', 'first_release', 'appplication'])]\n",
    "df_metric"
   ]
  },
  {
   "cell_type": "code",
   "execution_count": 67,
   "metadata": {},
   "outputs": [
    {
     "data": {
      "text/html": [
       "<div>\n",
       "<style scoped>\n",
       "    .dataframe tbody tr th:only-of-type {\n",
       "        vertical-align: middle;\n",
       "    }\n",
       "\n",
       "    .dataframe tbody tr th {\n",
       "        vertical-align: top;\n",
       "    }\n",
       "\n",
       "    .dataframe thead th {\n",
       "        text-align: right;\n",
       "    }\n",
       "</style>\n",
       "<table border=\"1\" class=\"dataframe\">\n",
       "  <thead>\n",
       "    <tr style=\"text-align: right;\">\n",
       "      <th></th>\n",
       "      <th>time_elapsed</th>\n",
       "      <th>usec</th>\n",
       "      <th>Time_Of_Day_Seconds</th>\n",
       "      <th>APIC</th>\n",
       "      <th>X2APIC</th>\n",
       "      <th>Avg_MHz</th>\n",
       "      <th>Busy%</th>\n",
       "      <th>Bzy_MHz</th>\n",
       "      <th>TSC_MHz</th>\n",
       "      <th>IPC</th>\n",
       "      <th>...</th>\n",
       "      <th>Pkg%pc9</th>\n",
       "      <th>Pk%pc10</th>\n",
       "      <th>CPU%LPI</th>\n",
       "      <th>SYS%LPI</th>\n",
       "      <th>Pkg_J</th>\n",
       "      <th>Cor_J</th>\n",
       "      <th>GFX_J</th>\n",
       "      <th>RAM_J</th>\n",
       "      <th>PKG_%</th>\n",
       "      <th>RAM_%</th>\n",
       "    </tr>\n",
       "  </thead>\n",
       "  <tbody>\n",
       "    <tr>\n",
       "      <th>0</th>\n",
       "      <td>0.988027</td>\n",
       "      <td>0.926770</td>\n",
       "      <td>1.0</td>\n",
       "      <td>0.0</td>\n",
       "      <td>0.0</td>\n",
       "      <td>1.000000</td>\n",
       "      <td>0.960799</td>\n",
       "      <td>1.000000</td>\n",
       "      <td>1.0</td>\n",
       "      <td>1.000000</td>\n",
       "      <td>...</td>\n",
       "      <td>0.0</td>\n",
       "      <td>0.0</td>\n",
       "      <td>0.0</td>\n",
       "      <td>0.0</td>\n",
       "      <td>1.000000</td>\n",
       "      <td>1.000000</td>\n",
       "      <td>1.00</td>\n",
       "      <td>0.989062</td>\n",
       "      <td>0.0</td>\n",
       "      <td>0.0</td>\n",
       "    </tr>\n",
       "    <tr>\n",
       "      <th>1</th>\n",
       "      <td>0.627984</td>\n",
       "      <td>0.912124</td>\n",
       "      <td>1.0</td>\n",
       "      <td>0.0</td>\n",
       "      <td>0.0</td>\n",
       "      <td>0.994706</td>\n",
       "      <td>0.971893</td>\n",
       "      <td>0.983613</td>\n",
       "      <td>1.0</td>\n",
       "      <td>0.756014</td>\n",
       "      <td>...</td>\n",
       "      <td>0.0</td>\n",
       "      <td>0.0</td>\n",
       "      <td>0.0</td>\n",
       "      <td>0.0</td>\n",
       "      <td>0.631357</td>\n",
       "      <td>0.626715</td>\n",
       "      <td>0.75</td>\n",
       "      <td>0.732812</td>\n",
       "      <td>0.0</td>\n",
       "      <td>0.0</td>\n",
       "    </tr>\n",
       "    <tr>\n",
       "      <th>2</th>\n",
       "      <td>1.000000</td>\n",
       "      <td>0.998086</td>\n",
       "      <td>1.0</td>\n",
       "      <td>0.0</td>\n",
       "      <td>0.0</td>\n",
       "      <td>0.843827</td>\n",
       "      <td>0.970414</td>\n",
       "      <td>0.835733</td>\n",
       "      <td>1.0</td>\n",
       "      <td>0.948454</td>\n",
       "      <td>...</td>\n",
       "      <td>0.0</td>\n",
       "      <td>0.0</td>\n",
       "      <td>0.0</td>\n",
       "      <td>0.0</td>\n",
       "      <td>0.680805</td>\n",
       "      <td>0.622894</td>\n",
       "      <td>1.00</td>\n",
       "      <td>1.000000</td>\n",
       "      <td>0.0</td>\n",
       "      <td>0.0</td>\n",
       "    </tr>\n",
       "    <tr>\n",
       "      <th>3</th>\n",
       "      <td>0.739764</td>\n",
       "      <td>0.991845</td>\n",
       "      <td>1.0</td>\n",
       "      <td>0.0</td>\n",
       "      <td>0.0</td>\n",
       "      <td>0.842314</td>\n",
       "      <td>0.982988</td>\n",
       "      <td>0.824136</td>\n",
       "      <td>1.0</td>\n",
       "      <td>0.762887</td>\n",
       "      <td>...</td>\n",
       "      <td>0.0</td>\n",
       "      <td>0.0</td>\n",
       "      <td>0.0</td>\n",
       "      <td>0.0</td>\n",
       "      <td>0.487305</td>\n",
       "      <td>0.440334</td>\n",
       "      <td>0.75</td>\n",
       "      <td>0.817188</td>\n",
       "      <td>0.0</td>\n",
       "      <td>0.0</td>\n",
       "    </tr>\n",
       "    <tr>\n",
       "      <th>4</th>\n",
       "      <td>0.742694</td>\n",
       "      <td>0.993509</td>\n",
       "      <td>1.0</td>\n",
       "      <td>0.0</td>\n",
       "      <td>0.0</td>\n",
       "      <td>0.853659</td>\n",
       "      <td>1.000000</td>\n",
       "      <td>0.822441</td>\n",
       "      <td>1.0</td>\n",
       "      <td>0.762887</td>\n",
       "      <td>...</td>\n",
       "      <td>0.0</td>\n",
       "      <td>0.0</td>\n",
       "      <td>0.0</td>\n",
       "      <td>0.0</td>\n",
       "      <td>0.489155</td>\n",
       "      <td>0.440507</td>\n",
       "      <td>0.75</td>\n",
       "      <td>0.821875</td>\n",
       "      <td>0.0</td>\n",
       "      <td>0.0</td>\n",
       "    </tr>\n",
       "    <tr>\n",
       "      <th>5</th>\n",
       "      <td>0.741101</td>\n",
       "      <td>0.982525</td>\n",
       "      <td>1.0</td>\n",
       "      <td>0.0</td>\n",
       "      <td>0.0</td>\n",
       "      <td>0.844583</td>\n",
       "      <td>0.978550</td>\n",
       "      <td>0.829714</td>\n",
       "      <td>1.0</td>\n",
       "      <td>0.759450</td>\n",
       "      <td>...</td>\n",
       "      <td>0.0</td>\n",
       "      <td>0.0</td>\n",
       "      <td>0.0</td>\n",
       "      <td>0.0</td>\n",
       "      <td>0.488415</td>\n",
       "      <td>0.441897</td>\n",
       "      <td>0.75</td>\n",
       "      <td>0.817188</td>\n",
       "      <td>0.0</td>\n",
       "      <td>0.0</td>\n",
       "    </tr>\n",
       "    <tr>\n",
       "      <th>6</th>\n",
       "      <td>0.738021</td>\n",
       "      <td>0.998003</td>\n",
       "      <td>1.0</td>\n",
       "      <td>0.0</td>\n",
       "      <td>0.0</td>\n",
       "      <td>0.838722</td>\n",
       "      <td>0.976331</td>\n",
       "      <td>0.825414</td>\n",
       "      <td>1.0</td>\n",
       "      <td>0.766323</td>\n",
       "      <td>...</td>\n",
       "      <td>0.0</td>\n",
       "      <td>0.0</td>\n",
       "      <td>0.0</td>\n",
       "      <td>0.0</td>\n",
       "      <td>0.486046</td>\n",
       "      <td>0.439639</td>\n",
       "      <td>0.75</td>\n",
       "      <td>0.814062</td>\n",
       "      <td>0.0</td>\n",
       "      <td>0.0</td>\n",
       "    </tr>\n",
       "    <tr>\n",
       "      <th>7</th>\n",
       "      <td>0.734679</td>\n",
       "      <td>0.998419</td>\n",
       "      <td>1.0</td>\n",
       "      <td>0.0</td>\n",
       "      <td>0.0</td>\n",
       "      <td>0.841936</td>\n",
       "      <td>0.974852</td>\n",
       "      <td>0.829615</td>\n",
       "      <td>1.0</td>\n",
       "      <td>0.769759</td>\n",
       "      <td>...</td>\n",
       "      <td>0.0</td>\n",
       "      <td>0.0</td>\n",
       "      <td>0.0</td>\n",
       "      <td>0.0</td>\n",
       "      <td>0.483974</td>\n",
       "      <td>0.437120</td>\n",
       "      <td>0.75</td>\n",
       "      <td>0.810937</td>\n",
       "      <td>0.0</td>\n",
       "      <td>0.0</td>\n",
       "    </tr>\n",
       "    <tr>\n",
       "      <th>8</th>\n",
       "      <td>0.733814</td>\n",
       "      <td>0.999251</td>\n",
       "      <td>1.0</td>\n",
       "      <td>0.0</td>\n",
       "      <td>0.0</td>\n",
       "      <td>0.839856</td>\n",
       "      <td>0.972633</td>\n",
       "      <td>0.830107</td>\n",
       "      <td>1.0</td>\n",
       "      <td>0.769759</td>\n",
       "      <td>...</td>\n",
       "      <td>0.0</td>\n",
       "      <td>0.0</td>\n",
       "      <td>0.0</td>\n",
       "      <td>0.0</td>\n",
       "      <td>0.483159</td>\n",
       "      <td>0.436599</td>\n",
       "      <td>0.75</td>\n",
       "      <td>0.809375</td>\n",
       "      <td>0.0</td>\n",
       "      <td>0.0</td>\n",
       "    </tr>\n",
       "    <tr>\n",
       "      <th>9</th>\n",
       "      <td>0.739692</td>\n",
       "      <td>0.996838</td>\n",
       "      <td>1.0</td>\n",
       "      <td>0.0</td>\n",
       "      <td>0.0</td>\n",
       "      <td>0.845528</td>\n",
       "      <td>0.981509</td>\n",
       "      <td>0.828289</td>\n",
       "      <td>1.0</td>\n",
       "      <td>0.759450</td>\n",
       "      <td>...</td>\n",
       "      <td>0.0</td>\n",
       "      <td>0.0</td>\n",
       "      <td>0.0</td>\n",
       "      <td>0.0</td>\n",
       "      <td>0.487157</td>\n",
       "      <td>0.440160</td>\n",
       "      <td>0.75</td>\n",
       "      <td>0.814062</td>\n",
       "      <td>0.0</td>\n",
       "      <td>0.0</td>\n",
       "    </tr>\n",
       "    <tr>\n",
       "      <th>10</th>\n",
       "      <td>0.727763</td>\n",
       "      <td>1.000000</td>\n",
       "      <td>1.0</td>\n",
       "      <td>0.0</td>\n",
       "      <td>0.0</td>\n",
       "      <td>0.837777</td>\n",
       "      <td>0.976331</td>\n",
       "      <td>0.825144</td>\n",
       "      <td>1.0</td>\n",
       "      <td>0.769759</td>\n",
       "      <td>...</td>\n",
       "      <td>0.0</td>\n",
       "      <td>0.0</td>\n",
       "      <td>0.0</td>\n",
       "      <td>0.0</td>\n",
       "      <td>0.479088</td>\n",
       "      <td>0.432256</td>\n",
       "      <td>0.75</td>\n",
       "      <td>0.803125</td>\n",
       "      <td>0.0</td>\n",
       "      <td>0.0</td>\n",
       "    </tr>\n",
       "    <tr>\n",
       "      <th>11</th>\n",
       "      <td>0.732305</td>\n",
       "      <td>0.991429</td>\n",
       "      <td>1.0</td>\n",
       "      <td>0.0</td>\n",
       "      <td>0.0</td>\n",
       "      <td>0.839289</td>\n",
       "      <td>0.978550</td>\n",
       "      <td>0.824603</td>\n",
       "      <td>1.0</td>\n",
       "      <td>0.766323</td>\n",
       "      <td>...</td>\n",
       "      <td>0.0</td>\n",
       "      <td>0.0</td>\n",
       "      <td>0.0</td>\n",
       "      <td>0.0</td>\n",
       "      <td>0.482123</td>\n",
       "      <td>0.435209</td>\n",
       "      <td>0.75</td>\n",
       "      <td>0.807812</td>\n",
       "      <td>0.0</td>\n",
       "      <td>0.0</td>\n",
       "    </tr>\n",
       "    <tr>\n",
       "      <th>12</th>\n",
       "      <td>0.727333</td>\n",
       "      <td>0.993592</td>\n",
       "      <td>1.0</td>\n",
       "      <td>0.0</td>\n",
       "      <td>0.0</td>\n",
       "      <td>0.840045</td>\n",
       "      <td>0.972633</td>\n",
       "      <td>0.830254</td>\n",
       "      <td>1.0</td>\n",
       "      <td>0.769759</td>\n",
       "      <td>...</td>\n",
       "      <td>0.0</td>\n",
       "      <td>0.0</td>\n",
       "      <td>0.0</td>\n",
       "      <td>0.0</td>\n",
       "      <td>0.478866</td>\n",
       "      <td>0.432864</td>\n",
       "      <td>0.75</td>\n",
       "      <td>0.803125</td>\n",
       "      <td>0.0</td>\n",
       "      <td>0.0</td>\n",
       "    </tr>\n",
       "  </tbody>\n",
       "</table>\n",
       "<p>13 rows × 58 columns</p>\n",
       "</div>"
      ],
      "text/plain": [
       "    time_elapsed      usec  Time_Of_Day_Seconds  APIC  X2APIC   Avg_MHz  \\\n",
       "0       0.988027  0.926770                  1.0   0.0     0.0  1.000000   \n",
       "1       0.627984  0.912124                  1.0   0.0     0.0  0.994706   \n",
       "2       1.000000  0.998086                  1.0   0.0     0.0  0.843827   \n",
       "3       0.739764  0.991845                  1.0   0.0     0.0  0.842314   \n",
       "4       0.742694  0.993509                  1.0   0.0     0.0  0.853659   \n",
       "5       0.741101  0.982525                  1.0   0.0     0.0  0.844583   \n",
       "6       0.738021  0.998003                  1.0   0.0     0.0  0.838722   \n",
       "7       0.734679  0.998419                  1.0   0.0     0.0  0.841936   \n",
       "8       0.733814  0.999251                  1.0   0.0     0.0  0.839856   \n",
       "9       0.739692  0.996838                  1.0   0.0     0.0  0.845528   \n",
       "10      0.727763  1.000000                  1.0   0.0     0.0  0.837777   \n",
       "11      0.732305  0.991429                  1.0   0.0     0.0  0.839289   \n",
       "12      0.727333  0.993592                  1.0   0.0     0.0  0.840045   \n",
       "\n",
       "       Busy%   Bzy_MHz  TSC_MHz       IPC  ...  Pkg%pc9  Pk%pc10  CPU%LPI  \\\n",
       "0   0.960799  1.000000      1.0  1.000000  ...      0.0      0.0      0.0   \n",
       "1   0.971893  0.983613      1.0  0.756014  ...      0.0      0.0      0.0   \n",
       "2   0.970414  0.835733      1.0  0.948454  ...      0.0      0.0      0.0   \n",
       "3   0.982988  0.824136      1.0  0.762887  ...      0.0      0.0      0.0   \n",
       "4   1.000000  0.822441      1.0  0.762887  ...      0.0      0.0      0.0   \n",
       "5   0.978550  0.829714      1.0  0.759450  ...      0.0      0.0      0.0   \n",
       "6   0.976331  0.825414      1.0  0.766323  ...      0.0      0.0      0.0   \n",
       "7   0.974852  0.829615      1.0  0.769759  ...      0.0      0.0      0.0   \n",
       "8   0.972633  0.830107      1.0  0.769759  ...      0.0      0.0      0.0   \n",
       "9   0.981509  0.828289      1.0  0.759450  ...      0.0      0.0      0.0   \n",
       "10  0.976331  0.825144      1.0  0.769759  ...      0.0      0.0      0.0   \n",
       "11  0.978550  0.824603      1.0  0.766323  ...      0.0      0.0      0.0   \n",
       "12  0.972633  0.830254      1.0  0.769759  ...      0.0      0.0      0.0   \n",
       "\n",
       "    SYS%LPI     Pkg_J     Cor_J  GFX_J     RAM_J  PKG_%  RAM_%  \n",
       "0       0.0  1.000000  1.000000   1.00  0.989062    0.0    0.0  \n",
       "1       0.0  0.631357  0.626715   0.75  0.732812    0.0    0.0  \n",
       "2       0.0  0.680805  0.622894   1.00  1.000000    0.0    0.0  \n",
       "3       0.0  0.487305  0.440334   0.75  0.817188    0.0    0.0  \n",
       "4       0.0  0.489155  0.440507   0.75  0.821875    0.0    0.0  \n",
       "5       0.0  0.488415  0.441897   0.75  0.817188    0.0    0.0  \n",
       "6       0.0  0.486046  0.439639   0.75  0.814062    0.0    0.0  \n",
       "7       0.0  0.483974  0.437120   0.75  0.810937    0.0    0.0  \n",
       "8       0.0  0.483159  0.436599   0.75  0.809375    0.0    0.0  \n",
       "9       0.0  0.487157  0.440160   0.75  0.814062    0.0    0.0  \n",
       "10      0.0  0.479088  0.432256   0.75  0.803125    0.0    0.0  \n",
       "11      0.0  0.482123  0.435209   0.75  0.807812    0.0    0.0  \n",
       "12      0.0  0.478866  0.432864   0.75  0.803125    0.0    0.0  \n",
       "\n",
       "[13 rows x 58 columns]"
      ]
     },
     "execution_count": 67,
     "metadata": {},
     "output_type": "execute_result"
    }
   ],
   "source": [
    "from sklearn.preprocessing import MaxAbsScaler\n",
    "transformer = MaxAbsScaler().fit(df_metric)\n",
    "scaled = transformer.transform(df_metric)\n",
    "\n",
    "\n",
    "test_1 = pd.DataFrame(scaled, columns=df_metric.columns)\n",
    "test_1"
   ]
  },
  {
   "cell_type": "code",
   "execution_count": 68,
   "metadata": {},
   "outputs": [
    {
     "data": {
      "text/html": [
       "<div>\n",
       "<style scoped>\n",
       "    .dataframe tbody tr th:only-of-type {\n",
       "        vertical-align: middle;\n",
       "    }\n",
       "\n",
       "    .dataframe tbody tr th {\n",
       "        vertical-align: top;\n",
       "    }\n",
       "\n",
       "    .dataframe thead th {\n",
       "        text-align: right;\n",
       "    }\n",
       "</style>\n",
       "<table border=\"1\" class=\"dataframe\">\n",
       "  <thead>\n",
       "    <tr style=\"text-align: right;\">\n",
       "      <th></th>\n",
       "      <th>time_elapsed</th>\n",
       "      <th>usec</th>\n",
       "      <th>Time_Of_Day_Seconds</th>\n",
       "      <th>APIC</th>\n",
       "      <th>X2APIC</th>\n",
       "      <th>Avg_MHz</th>\n",
       "      <th>Busy%</th>\n",
       "      <th>Bzy_MHz</th>\n",
       "      <th>TSC_MHz</th>\n",
       "      <th>IPC</th>\n",
       "      <th>...</th>\n",
       "      <th>Pkg%pc9</th>\n",
       "      <th>Pk%pc10</th>\n",
       "      <th>CPU%LPI</th>\n",
       "      <th>SYS%LPI</th>\n",
       "      <th>Pkg_J</th>\n",
       "      <th>Cor_J</th>\n",
       "      <th>GFX_J</th>\n",
       "      <th>RAM_J</th>\n",
       "      <th>PKG_%</th>\n",
       "      <th>RAM_%</th>\n",
       "    </tr>\n",
       "  </thead>\n",
       "  <tbody>\n",
       "    <tr>\n",
       "      <th>0</th>\n",
       "      <td>0.967816</td>\n",
       "      <td>0.166667</td>\n",
       "      <td>0.000000</td>\n",
       "      <td>0.0</td>\n",
       "      <td>0.0</td>\n",
       "      <td>1.000000</td>\n",
       "      <td>0.000000</td>\n",
       "      <td>1.000000</td>\n",
       "      <td>0.0</td>\n",
       "      <td>1.000000</td>\n",
       "      <td>...</td>\n",
       "      <td>0.0</td>\n",
       "      <td>0.0</td>\n",
       "      <td>0.0</td>\n",
       "      <td>0.0</td>\n",
       "      <td>1.000000</td>\n",
       "      <td>1.000000</td>\n",
       "      <td>1.0</td>\n",
       "      <td>0.959064</td>\n",
       "      <td>0.0</td>\n",
       "      <td>0.0</td>\n",
       "    </tr>\n",
       "    <tr>\n",
       "      <th>1</th>\n",
       "      <td>0.000000</td>\n",
       "      <td>0.000000</td>\n",
       "      <td>0.069924</td>\n",
       "      <td>0.0</td>\n",
       "      <td>0.0</td>\n",
       "      <td>0.967366</td>\n",
       "      <td>0.283019</td>\n",
       "      <td>0.907707</td>\n",
       "      <td>0.0</td>\n",
       "      <td>0.000000</td>\n",
       "      <td>...</td>\n",
       "      <td>0.0</td>\n",
       "      <td>0.0</td>\n",
       "      <td>0.0</td>\n",
       "      <td>0.0</td>\n",
       "      <td>0.292614</td>\n",
       "      <td>0.342512</td>\n",
       "      <td>0.0</td>\n",
       "      <td>0.000000</td>\n",
       "      <td>0.0</td>\n",
       "      <td>0.0</td>\n",
       "    </tr>\n",
       "    <tr>\n",
       "      <th>2</th>\n",
       "      <td>1.000000</td>\n",
       "      <td>0.978220</td>\n",
       "      <td>0.180988</td>\n",
       "      <td>0.0</td>\n",
       "      <td>0.0</td>\n",
       "      <td>0.037296</td>\n",
       "      <td>0.245283</td>\n",
       "      <td>0.074858</td>\n",
       "      <td>0.0</td>\n",
       "      <td>0.788732</td>\n",
       "      <td>...</td>\n",
       "      <td>0.0</td>\n",
       "      <td>0.0</td>\n",
       "      <td>0.0</td>\n",
       "      <td>0.0</td>\n",
       "      <td>0.387500</td>\n",
       "      <td>0.335781</td>\n",
       "      <td>1.0</td>\n",
       "      <td>1.000000</td>\n",
       "      <td>0.0</td>\n",
       "      <td>0.0</td>\n",
       "    </tr>\n",
       "    <tr>\n",
       "      <th>3</th>\n",
       "      <td>0.300471</td>\n",
       "      <td>0.907197</td>\n",
       "      <td>0.263331</td>\n",
       "      <td>0.0</td>\n",
       "      <td>0.0</td>\n",
       "      <td>0.027972</td>\n",
       "      <td>0.566038</td>\n",
       "      <td>0.009548</td>\n",
       "      <td>0.0</td>\n",
       "      <td>0.028169</td>\n",
       "      <td>...</td>\n",
       "      <td>0.0</td>\n",
       "      <td>0.0</td>\n",
       "      <td>0.0</td>\n",
       "      <td>0.0</td>\n",
       "      <td>0.016193</td>\n",
       "      <td>0.014227</td>\n",
       "      <td>0.0</td>\n",
       "      <td>0.315789</td>\n",
       "      <td>0.0</td>\n",
       "      <td>0.0</td>\n",
       "    </tr>\n",
       "    <tr>\n",
       "      <th>4</th>\n",
       "      <td>0.308347</td>\n",
       "      <td>0.926136</td>\n",
       "      <td>0.345993</td>\n",
       "      <td>0.0</td>\n",
       "      <td>0.0</td>\n",
       "      <td>0.097902</td>\n",
       "      <td>1.000000</td>\n",
       "      <td>0.000000</td>\n",
       "      <td>0.0</td>\n",
       "      <td>0.028169</td>\n",
       "      <td>...</td>\n",
       "      <td>0.0</td>\n",
       "      <td>0.0</td>\n",
       "      <td>0.0</td>\n",
       "      <td>0.0</td>\n",
       "      <td>0.019744</td>\n",
       "      <td>0.014533</td>\n",
       "      <td>0.0</td>\n",
       "      <td>0.333333</td>\n",
       "      <td>0.0</td>\n",
       "      <td>0.0</td>\n",
       "    </tr>\n",
       "    <tr>\n",
       "      <th>5</th>\n",
       "      <td>0.304065</td>\n",
       "      <td>0.801136</td>\n",
       "      <td>0.428481</td>\n",
       "      <td>0.0</td>\n",
       "      <td>0.0</td>\n",
       "      <td>0.041958</td>\n",
       "      <td>0.452830</td>\n",
       "      <td>0.040958</td>\n",
       "      <td>0.0</td>\n",
       "      <td>0.014085</td>\n",
       "      <td>...</td>\n",
       "      <td>0.0</td>\n",
       "      <td>0.0</td>\n",
       "      <td>0.0</td>\n",
       "      <td>0.0</td>\n",
       "      <td>0.018324</td>\n",
       "      <td>0.016980</td>\n",
       "      <td>0.0</td>\n",
       "      <td>0.315789</td>\n",
       "      <td>0.0</td>\n",
       "      <td>0.0</td>\n",
       "    </tr>\n",
       "    <tr>\n",
       "      <th>6</th>\n",
       "      <td>0.295785</td>\n",
       "      <td>0.977273</td>\n",
       "      <td>0.510630</td>\n",
       "      <td>0.0</td>\n",
       "      <td>0.0</td>\n",
       "      <td>0.005828</td>\n",
       "      <td>0.396226</td>\n",
       "      <td>0.016743</td>\n",
       "      <td>0.0</td>\n",
       "      <td>0.042254</td>\n",
       "      <td>...</td>\n",
       "      <td>0.0</td>\n",
       "      <td>0.0</td>\n",
       "      <td>0.0</td>\n",
       "      <td>0.0</td>\n",
       "      <td>0.013778</td>\n",
       "      <td>0.013003</td>\n",
       "      <td>0.0</td>\n",
       "      <td>0.304094</td>\n",
       "      <td>0.0</td>\n",
       "      <td>0.0</td>\n",
       "    </tr>\n",
       "    <tr>\n",
       "      <th>7</th>\n",
       "      <td>0.286803</td>\n",
       "      <td>0.982008</td>\n",
       "      <td>0.592407</td>\n",
       "      <td>0.0</td>\n",
       "      <td>0.0</td>\n",
       "      <td>0.025641</td>\n",
       "      <td>0.358491</td>\n",
       "      <td>0.040404</td>\n",
       "      <td>0.0</td>\n",
       "      <td>0.056338</td>\n",
       "      <td>...</td>\n",
       "      <td>0.0</td>\n",
       "      <td>0.0</td>\n",
       "      <td>0.0</td>\n",
       "      <td>0.0</td>\n",
       "      <td>0.009801</td>\n",
       "      <td>0.008567</td>\n",
       "      <td>0.0</td>\n",
       "      <td>0.292398</td>\n",
       "      <td>0.0</td>\n",
       "      <td>0.0</td>\n",
       "    </tr>\n",
       "    <tr>\n",
       "      <th>8</th>\n",
       "      <td>0.284476</td>\n",
       "      <td>0.991477</td>\n",
       "      <td>0.674090</td>\n",
       "      <td>0.0</td>\n",
       "      <td>0.0</td>\n",
       "      <td>0.012821</td>\n",
       "      <td>0.301887</td>\n",
       "      <td>0.043171</td>\n",
       "      <td>0.0</td>\n",
       "      <td>0.056338</td>\n",
       "      <td>...</td>\n",
       "      <td>0.0</td>\n",
       "      <td>0.0</td>\n",
       "      <td>0.0</td>\n",
       "      <td>0.0</td>\n",
       "      <td>0.008239</td>\n",
       "      <td>0.007649</td>\n",
       "      <td>0.0</td>\n",
       "      <td>0.286550</td>\n",
       "      <td>0.0</td>\n",
       "      <td>0.0</td>\n",
       "    </tr>\n",
       "    <tr>\n",
       "      <th>9</th>\n",
       "      <td>0.300277</td>\n",
       "      <td>0.964015</td>\n",
       "      <td>0.756415</td>\n",
       "      <td>0.0</td>\n",
       "      <td>0.0</td>\n",
       "      <td>0.047786</td>\n",
       "      <td>0.528302</td>\n",
       "      <td>0.032932</td>\n",
       "      <td>0.0</td>\n",
       "      <td>0.014085</td>\n",
       "      <td>...</td>\n",
       "      <td>0.0</td>\n",
       "      <td>0.0</td>\n",
       "      <td>0.0</td>\n",
       "      <td>0.0</td>\n",
       "      <td>0.015909</td>\n",
       "      <td>0.013921</td>\n",
       "      <td>0.0</td>\n",
       "      <td>0.304094</td>\n",
       "      <td>0.0</td>\n",
       "      <td>0.0</td>\n",
       "    </tr>\n",
       "    <tr>\n",
       "      <th>10</th>\n",
       "      <td>0.268212</td>\n",
       "      <td>1.000000</td>\n",
       "      <td>0.837490</td>\n",
       "      <td>0.0</td>\n",
       "      <td>0.0</td>\n",
       "      <td>0.000000</td>\n",
       "      <td>0.396226</td>\n",
       "      <td>0.015221</td>\n",
       "      <td>0.0</td>\n",
       "      <td>0.056338</td>\n",
       "      <td>...</td>\n",
       "      <td>0.0</td>\n",
       "      <td>0.0</td>\n",
       "      <td>0.0</td>\n",
       "      <td>0.0</td>\n",
       "      <td>0.000426</td>\n",
       "      <td>0.000000</td>\n",
       "      <td>0.0</td>\n",
       "      <td>0.263158</td>\n",
       "      <td>0.0</td>\n",
       "      <td>0.0</td>\n",
       "    </tr>\n",
       "    <tr>\n",
       "      <th>11</th>\n",
       "      <td>0.280420</td>\n",
       "      <td>0.902462</td>\n",
       "      <td>0.919014</td>\n",
       "      <td>0.0</td>\n",
       "      <td>0.0</td>\n",
       "      <td>0.009324</td>\n",
       "      <td>0.452830</td>\n",
       "      <td>0.012177</td>\n",
       "      <td>0.0</td>\n",
       "      <td>0.042254</td>\n",
       "      <td>...</td>\n",
       "      <td>0.0</td>\n",
       "      <td>0.0</td>\n",
       "      <td>0.0</td>\n",
       "      <td>0.0</td>\n",
       "      <td>0.006250</td>\n",
       "      <td>0.005201</td>\n",
       "      <td>0.0</td>\n",
       "      <td>0.280702</td>\n",
       "      <td>0.0</td>\n",
       "      <td>0.0</td>\n",
       "    </tr>\n",
       "    <tr>\n",
       "      <th>12</th>\n",
       "      <td>0.267056</td>\n",
       "      <td>0.927083</td>\n",
       "      <td>1.000000</td>\n",
       "      <td>0.0</td>\n",
       "      <td>0.0</td>\n",
       "      <td>0.013986</td>\n",
       "      <td>0.301887</td>\n",
       "      <td>0.044002</td>\n",
       "      <td>0.0</td>\n",
       "      <td>0.056338</td>\n",
       "      <td>...</td>\n",
       "      <td>0.0</td>\n",
       "      <td>0.0</td>\n",
       "      <td>0.0</td>\n",
       "      <td>0.0</td>\n",
       "      <td>0.000000</td>\n",
       "      <td>0.001071</td>\n",
       "      <td>0.0</td>\n",
       "      <td>0.263158</td>\n",
       "      <td>0.0</td>\n",
       "      <td>0.0</td>\n",
       "    </tr>\n",
       "  </tbody>\n",
       "</table>\n",
       "<p>13 rows × 58 columns</p>\n",
       "</div>"
      ],
      "text/plain": [
       "    time_elapsed      usec  Time_Of_Day_Seconds  APIC  X2APIC   Avg_MHz  \\\n",
       "0       0.967816  0.166667             0.000000   0.0     0.0  1.000000   \n",
       "1       0.000000  0.000000             0.069924   0.0     0.0  0.967366   \n",
       "2       1.000000  0.978220             0.180988   0.0     0.0  0.037296   \n",
       "3       0.300471  0.907197             0.263331   0.0     0.0  0.027972   \n",
       "4       0.308347  0.926136             0.345993   0.0     0.0  0.097902   \n",
       "5       0.304065  0.801136             0.428481   0.0     0.0  0.041958   \n",
       "6       0.295785  0.977273             0.510630   0.0     0.0  0.005828   \n",
       "7       0.286803  0.982008             0.592407   0.0     0.0  0.025641   \n",
       "8       0.284476  0.991477             0.674090   0.0     0.0  0.012821   \n",
       "9       0.300277  0.964015             0.756415   0.0     0.0  0.047786   \n",
       "10      0.268212  1.000000             0.837490   0.0     0.0  0.000000   \n",
       "11      0.280420  0.902462             0.919014   0.0     0.0  0.009324   \n",
       "12      0.267056  0.927083             1.000000   0.0     0.0  0.013986   \n",
       "\n",
       "       Busy%   Bzy_MHz  TSC_MHz       IPC  ...  Pkg%pc9  Pk%pc10  CPU%LPI  \\\n",
       "0   0.000000  1.000000      0.0  1.000000  ...      0.0      0.0      0.0   \n",
       "1   0.283019  0.907707      0.0  0.000000  ...      0.0      0.0      0.0   \n",
       "2   0.245283  0.074858      0.0  0.788732  ...      0.0      0.0      0.0   \n",
       "3   0.566038  0.009548      0.0  0.028169  ...      0.0      0.0      0.0   \n",
       "4   1.000000  0.000000      0.0  0.028169  ...      0.0      0.0      0.0   \n",
       "5   0.452830  0.040958      0.0  0.014085  ...      0.0      0.0      0.0   \n",
       "6   0.396226  0.016743      0.0  0.042254  ...      0.0      0.0      0.0   \n",
       "7   0.358491  0.040404      0.0  0.056338  ...      0.0      0.0      0.0   \n",
       "8   0.301887  0.043171      0.0  0.056338  ...      0.0      0.0      0.0   \n",
       "9   0.528302  0.032932      0.0  0.014085  ...      0.0      0.0      0.0   \n",
       "10  0.396226  0.015221      0.0  0.056338  ...      0.0      0.0      0.0   \n",
       "11  0.452830  0.012177      0.0  0.042254  ...      0.0      0.0      0.0   \n",
       "12  0.301887  0.044002      0.0  0.056338  ...      0.0      0.0      0.0   \n",
       "\n",
       "    SYS%LPI     Pkg_J     Cor_J  GFX_J     RAM_J  PKG_%  RAM_%  \n",
       "0       0.0  1.000000  1.000000    1.0  0.959064    0.0    0.0  \n",
       "1       0.0  0.292614  0.342512    0.0  0.000000    0.0    0.0  \n",
       "2       0.0  0.387500  0.335781    1.0  1.000000    0.0    0.0  \n",
       "3       0.0  0.016193  0.014227    0.0  0.315789    0.0    0.0  \n",
       "4       0.0  0.019744  0.014533    0.0  0.333333    0.0    0.0  \n",
       "5       0.0  0.018324  0.016980    0.0  0.315789    0.0    0.0  \n",
       "6       0.0  0.013778  0.013003    0.0  0.304094    0.0    0.0  \n",
       "7       0.0  0.009801  0.008567    0.0  0.292398    0.0    0.0  \n",
       "8       0.0  0.008239  0.007649    0.0  0.286550    0.0    0.0  \n",
       "9       0.0  0.015909  0.013921    0.0  0.304094    0.0    0.0  \n",
       "10      0.0  0.000426  0.000000    0.0  0.263158    0.0    0.0  \n",
       "11      0.0  0.006250  0.005201    0.0  0.280702    0.0    0.0  \n",
       "12      0.0  0.000000  0.001071    0.0  0.263158    0.0    0.0  \n",
       "\n",
       "[13 rows x 58 columns]"
      ]
     },
     "execution_count": 68,
     "metadata": {},
     "output_type": "execute_result"
    }
   ],
   "source": [
    "from sklearn.preprocessing import MinMaxScaler\n",
    "\n",
    "scaler = MinMaxScaler()\n",
    "scaler.fit(df_metric)\n",
    "\n",
    "# get max values in each column\n",
    "max = scaler.data_max_\n",
    "\n",
    "test_2 = pd.DataFrame(scaler.transform(df_metric), columns=df_metric.columns)\n",
    "test_2"
   ]
  },
  {
   "cell_type": "code",
   "execution_count": 69,
   "metadata": {},
   "outputs": [],
   "source": [
    "df = pd.concat([df_data,test_2.reindex(df_data.index)], axis=1)"
   ]
  },
  {
   "cell_type": "code",
   "execution_count": 70,
   "metadata": {},
   "outputs": [],
   "source": [
    "# Extract relevant columns\n",
    "python_version = df['python_version']\n",
    "release = df['release_date']\n",
    "first_release = df['first_release']\n",
    "time_elapsed = df['time_elapsed']\n",
    "avg_mhz = df['Avg_MHz']                       # no. of cycles executed divided by time elapsed\n",
    "busy_percent = df['Busy%']                    # % of time in C0 state\n",
    "busy_mhz = df['Bzy_MHz']                      # Avg clock rate while the CPU was not idle in C0 state\n",
    "ipc = df['IPC']\n",
    "irq = df['IRQ']\n",
    "poll = df['POLL']\n",
    "c1 = df['C1']\n",
    "c1e = df['C1E']\n",
    "c3 = df['C3']\n",
    "c6 = df['C6']\n",
    "c7s = df['C7s']\n",
    "c8 = df['C8']\n",
    "coreTemperature = df['CoreTmp']\n",
    "pkgTemperature = df['PkgTmp']\n",
    "gfx_percent = df['GFX%rc6']\n",
    "gfx_mhz = df['GFXMHz']\n",
    "total_c0_percent = df['Totl%C0']\n",
    "any_c0_percent = df['Any%C0']\n",
    "gfx_c0_percent = df['GFX%C0']\n",
    "cpugfx_percent = df['CPUGFX%']\n",
    "energy_pkg = df['Pkg_J']\n",
    "energy_core = df['Cor_J']\n",
    "energy_gfx = df['GFX_J']\n",
    "energy_ram = df['RAM_J']\n",
    "\n"
   ]
  },
  {
   "attachments": {},
   "cell_type": "markdown",
   "metadata": {},
   "source": [
    "## Trend Plots"
   ]
  },
  {
   "attachments": {},
   "cell_type": "markdown",
   "metadata": {},
   "source": [
    "### Time elapsed vs CPU usage"
   ]
  },
  {
   "cell_type": "code",
   "execution_count": 71,
   "metadata": {},
   "outputs": [
    {
     "name": "stderr",
     "output_type": "stream",
     "text": [
      "No artists with labels found to put in legend.  Note that artists whose label start with an underscore are ignored when legend() is called with no argument.\n"
     ]
    },
    {
     "data": {
      "image/png": "[encoded data removed]",
      "text/plain": [
       "<Figure size 800x600 with 1 Axes>"
      ]
     },
     "metadata": {},
     "output_type": "display_data"
    }
   ],
   "source": [
    "# Plot time elapsed vs CPU usage\n",
    "plt.figure(figsize=(8, 6))\n",
    "plt.scatter(time_elapsed, energy_pkg)\n",
    "plt.xlabel('Time Elapsed')\n",
    "plt.ylabel('Energy Pkg')\n",
    "plt.title('Time Elapsed vs Pkg_J')\n",
    "plt.legend()\n",
    "plt.show()"
   ]
  },
  {
   "attachments": {},
   "cell_type": "markdown",
   "metadata": {},
   "source": [
    "### Time elapsed vs Avg MHz"
   ]
  },
  {
   "cell_type": "code",
   "execution_count": 72,
   "metadata": {},
   "outputs": [
    {
     "name": "stderr",
     "output_type": "stream",
     "text": [
      "No artists with labels found to put in legend.  Note that artists whose label start with an underscore are ignored when legend() is called with no argument.\n"
     ]
    },
    {
     "data": {
      "image/png": "[encoded data removed]",
      "text/plain": [
       "<Figure size 800x600 with 1 Axes>"
      ]
     },
     "metadata": {},
     "output_type": "display_data"
    }
   ],
   "source": [
    "\n",
    "# Plot time elapsed vs Memory usage\n",
    "plt.figure(figsize=(8, 6))\n",
    "plt.scatter(time_elapsed, avg_mhz)\n",
    "plt.xlabel('Time Elapsed')\n",
    "plt.ylabel('Avg MHz')\n",
    "plt.title('Time Elapsed vs Avg MHz')\n",
    "plt.legend()\n",
    "plt.show()"
   ]
  },
  {
   "attachments": {},
   "cell_type": "markdown",
   "metadata": {},
   "source": [
    "### Energy Consumption through different Python versions"
   ]
  },
  {
   "cell_type": "code",
   "execution_count": 73,
   "metadata": {},
   "outputs": [
    {
     "data": {
      "image/png": "[encoded data removed]",
      "text/plain": [
       "<Figure size 800x600 with 1 Axes>"
      ]
     },
     "metadata": {},
     "output_type": "display_data"
    }
   ],
   "source": [
    "\n",
    "# Plot Python version vs Energy Consumption\n",
    "plt.figure(figsize=(8,6))\n",
    "plt.plot(python_version, energy_pkg, label='energy pkg')\n",
    "plt.plot(python_version, energy_core, label='energy core')\n",
    "plt.plot(python_version, energy_ram, label='energy ram')\n",
    "plt.plot(python_version, energy_gfx, label='energy gfx')\n",
    "plt.xlabel('Python version')\n",
    "plt.ylabel('Energy (Joules)')\n",
    "plt.xticks(rotation=45)\n",
    "plt.title('Python versions vs Energy Consumption')\n",
    "plt.legend()\n",
    "plt.show()"
   ]
  },
  {
   "cell_type": "code",
   "execution_count": 74,
   "metadata": {},
   "outputs": [
    {
     "data": {
      "application/vnd.plotly.v1+json": {
       "config": {
        "plotlyServerURL": "https://plot.ly"
       },
       "data": [
        {
         "hovertemplate": "variable=Pkg_J<br>python_version=%{x}<br>value=%{y}<br>text=%{text}<extra></extra>",
         "legendgroup": "Pkg_J",
         "line": {
          "color": "#636efa",
          "dash": "solid"
         },
         "marker": {
          "symbol": "circle"
         },
         "mode": "text+lines+markers",
         "name": "Pkg_J",
         "orientation": "v",
         "showlegend": true,
         "text": [
          2006,
          2010,
          2008,
          2014,
          2015,
          2016,
          2018,
          2019,
          2020,
          2021,
          2022,
          2023,
          2023
         ],
         "textposition": "bottom right",
         "type": "scatter",
         "x": [
          "2.5.6",
          "2.7.18",
          "3.0.1",
          "3.4.10",
          "3.5.10",
          "3.6.15",
          "3.7.16",
          "3.8.16",
          "3.9.16",
          "3.10.11",
          "3.11.3",
          "3.12.0b1",
          "3.13.0a0"
         ],
         "xaxis": "x",
         "y": [
          1,
          0.2926136363636366,
          0.38750000000000007,
          0.016193181818181857,
          0.01974431818181821,
          0.018323863636363735,
          0.013778409090909105,
          0.009801136363636331,
          0.00823863636363631,
          0.015909090909090984,
          0.00042613636363642016,
          0.006249999999999978,
          0
         ],
         "yaxis": "y"
        },
        {
         "hovertemplate": "variable=Cor_J<br>python_version=%{x}<br>value=%{y}<br>text=%{text}<extra></extra>",
         "legendgroup": "Cor_J",
         "line": {
          "color": "#EF553B",
          "dash": "solid"
         },
         "marker": {
          "symbol": "circle"
         },
         "mode": "text+lines+markers",
         "name": "Cor_J",
         "orientation": "v",
         "showlegend": true,
         "text": [
          2006,
          2010,
          2008,
          2014,
          2015,
          2016,
          2018,
          2019,
          2020,
          2021,
          2022,
          2023,
          2023
         ],
         "textposition": "bottom right",
         "type": "scatter",
         "x": [
          "2.5.6",
          "2.7.18",
          "3.0.1",
          "3.4.10",
          "3.5.10",
          "3.6.15",
          "3.7.16",
          "3.8.16",
          "3.9.16",
          "3.10.11",
          "3.11.3",
          "3.12.0b1",
          "3.13.0a0"
         ],
         "xaxis": "x",
         "y": [
          0.9999999999999999,
          0.34251185559124975,
          0.3357809392687777,
          0.014226709499770562,
          0.014532660241700968,
          0.01698026617714543,
          0.013002906532048275,
          0.008566620774055234,
          0.007648768548263685,
          0.013920758757839935,
          0,
          0.005201162612819221,
          0.001070827596756918
         ],
         "yaxis": "y"
        },
        {
         "hovertemplate": "variable=GFX_J<br>python_version=%{x}<br>value=%{y}<br>text=%{text}<extra></extra>",
         "legendgroup": "GFX_J",
         "line": {
          "color": "#00cc96",
          "dash": "solid"
         },
         "marker": {
          "symbol": "circle"
         },
         "mode": "text+lines+markers",
         "name": "GFX_J",
         "orientation": "v",
         "showlegend": true,
         "text": [
          2006,
          2010,
          2008,
          2014,
          2015,
          2016,
          2018,
          2019,
          2020,
          2021,
          2022,
          2023,
          2023
         ],
         "textposition": "bottom right",
         "type": "scatter",
         "x": [
          "2.5.6",
          "2.7.18",
          "3.0.1",
          "3.4.10",
          "3.5.10",
          "3.6.15",
          "3.7.16",
          "3.8.16",
          "3.9.16",
          "3.10.11",
          "3.11.3",
          "3.12.0b1",
          "3.13.0a0"
         ],
         "xaxis": "x",
         "y": [
          1,
          0,
          1,
          0,
          0,
          0,
          0,
          0,
          0,
          0,
          0,
          0,
          0
         ],
         "yaxis": "y"
        },
        {
         "hovertemplate": "variable=RAM_J<br>python_version=%{x}<br>value=%{y}<br>text=%{text}<extra></extra>",
         "legendgroup": "RAM_J",
         "line": {
          "color": "#ab63fa",
          "dash": "solid"
         },
         "marker": {
          "symbol": "circle"
         },
         "mode": "text+lines+markers",
         "name": "RAM_J",
         "orientation": "v",
         "showlegend": true,
         "text": [
          2006,
          2010,
          2008,
          2014,
          2015,
          2016,
          2018,
          2019,
          2020,
          2021,
          2022,
          2023,
          2023
         ],
         "textposition": "bottom right",
         "type": "scatter",
         "x": [
          "2.5.6",
          "2.7.18",
          "3.0.1",
          "3.4.10",
          "3.5.10",
          "3.6.15",
          "3.7.16",
          "3.8.16",
          "3.9.16",
          "3.10.11",
          "3.11.3",
          "3.12.0b1",
          "3.13.0a0"
         ],
         "xaxis": "x",
         "y": [
          0.9590643274853798,
          0,
          0.9999999999999996,
          0.3157894736842102,
          0.3333333333333326,
          0.3157894736842102,
          0.30409356725146175,
          0.2923976608187133,
          0.28654970760233844,
          0.30409356725146175,
          0.2631578947368416,
          0.28070175438596445,
          0.2631578947368416
         ],
         "yaxis": "y"
        }
       ],
       "layout": {
        "legend": {
         "title": {
          "text": "variable"
         },
         "tracegroupgap": 0
        },
        "margin": {
         "t": 60
        },
        "template": {
         "data": {
          "bar": [
           {
            "error_x": {
             "color": "#2a3f5f"
            },
            "error_y": {
             "color": "#2a3f5f"
            },
            "marker": {
             "line": {
              "color": "#E5ECF6",
              "width": 0.5
             },
             "pattern": {
              "fillmode": "overlay",
              "size": 10,
              "solidity": 0.2
             }
            },
            "type": "bar"
           }
          ],
          "barpolar": [
           {
            "marker": {
             "line": {
              "color": "#E5ECF6",
              "width": 0.5
             },
             "pattern": {
              "fillmode": "overlay",
              "size": 10,
              "solidity": 0.2
             }
            },
            "type": "barpolar"
           }
          ],
          "carpet": [
           {
            "aaxis": {
             "endlinecolor": "#2a3f5f",
             "gridcolor": "white",
             "linecolor": "white",
             "minorgridcolor": "white",
             "startlinecolor": "#2a3f5f"
            },
            "baxis": {
             "endlinecolor": "#2a3f5f",
             "gridcolor": "white",
             "linecolor": "white",
             "minorgridcolor": "white",
             "startlinecolor": "#2a3f5f"
            },
            "type": "carpet"
           }
          ],
          "choropleth": [
           {
            "colorbar": {
             "outlinewidth": 0,
             "ticks": ""
            },
            "type": "choropleth"
           }
          ],
          "contour": [
           {
            "colorbar": {
             "outlinewidth": 0,
             "ticks": ""
            },
            "colorscale": [
             [
              0,
              "#0d0887"
             ],
             [
              0.1111111111111111,
              "#46039f"
             ],
             [
              0.2222222222222222,
              "#7201a8"
             ],
             [
              0.3333333333333333,
              "#9c179e"
             ],
             [
              0.4444444444444444,
              "#bd3786"
             ],
             [
              0.5555555555555556,
              "#d8576b"
             ],
             [
              0.6666666666666666,
              "#ed7953"
             ],
             [
              0.7777777777777778,
              "#fb9f3a"
             ],
             [
              0.8888888888888888,
              "#fdca26"
             ],
             [
              1,
              "#f0f921"
             ]
            ],
            "type": "contour"
           }
          ],
          "contourcarpet": [
           {
            "colorbar": {
             "outlinewidth": 0,
             "ticks": ""
            },
            "type": "contourcarpet"
           }
          ],
          "heatmap": [
           {
            "colorbar": {
             "outlinewidth": 0,
             "ticks": ""
            },
            "colorscale": [
             [
              0,
              "#0d0887"
             ],
             [
              0.1111111111111111,
              "#46039f"
             ],
             [
              0.2222222222222222,
              "#7201a8"
             ],
             [
              0.3333333333333333,
              "#9c179e"
             ],
             [
              0.4444444444444444,
              "#bd3786"
             ],
             [
              0.5555555555555556,
              "#d8576b"
             ],
             [
              0.6666666666666666,
              "#ed7953"
             ],
             [
              0.7777777777777778,
              "#fb9f3a"
             ],
             [
              0.8888888888888888,
              "#fdca26"
             ],
             [
              1,
              "#f0f921"
             ]
            ],
            "type": "heatmap"
           }
          ],
          "heatmapgl": [
           {
            "colorbar": {
             "outlinewidth": 0,
             "ticks": ""
            },
            "colorscale": [
             [
              0,
              "#0d0887"
             ],
             [
              0.1111111111111111,
              "#46039f"
             ],
             [
              0.2222222222222222,
              "#7201a8"
             ],
             [
              0.3333333333333333,
              "#9c179e"
             ],
             [
              0.4444444444444444,
              "#bd3786"
             ],
             [
              0.5555555555555556,
              "#d8576b"
             ],
             [
              0.6666666666666666,
              "#ed7953"
             ],
             [
              0.7777777777777778,
              "#fb9f3a"
             ],
             [
              0.8888888888888888,
              "#fdca26"
             ],
             [
              1,
              "#f0f921"
             ]
            ],
            "type": "heatmapgl"
           }
          ],
          "histogram": [
           {
            "marker": {
             "pattern": {
              "fillmode": "overlay",
              "size": 10,
              "solidity": 0.2
             }
            },
            "type": "histogram"
           }
          ],
          "histogram2d": [
           {
            "colorbar": {
             "outlinewidth": 0,
             "ticks": ""
            },
            "colorscale": [
             [
              0,
              "#0d0887"
             ],
             [
              0.1111111111111111,
              "#46039f"
             ],
             [
              0.2222222222222222,
              "#7201a8"
             ],
             [
              0.3333333333333333,
              "#9c179e"
             ],
             [
              0.4444444444444444,
              "#bd3786"
             ],
             [
              0.5555555555555556,
              "#d8576b"
             ],
             [
              0.6666666666666666,
              "#ed7953"
             ],
             [
              0.7777777777777778,
              "#fb9f3a"
             ],
             [
              0.8888888888888888,
              "#fdca26"
             ],
             [
              1,
              "#f0f921"
             ]
            ],
            "type": "histogram2d"
           }
          ],
          "histogram2dcontour": [
           {
            "colorbar": {
             "outlinewidth": 0,
             "ticks": ""
            },
            "colorscale": [
             [
              0,
              "#0d0887"
             ],
             [
              0.1111111111111111,
              "#46039f"
             ],
             [
              0.2222222222222222,
              "#7201a8"
             ],
             [
              0.3333333333333333,
              "#9c179e"
             ],
             [
              0.4444444444444444,
              "#bd3786"
             ],
             [
              0.5555555555555556,
              "#d8576b"
             ],
             [
              0.6666666666666666,
              "#ed7953"
             ],
             [
              0.7777777777777778,
              "#fb9f3a"
             ],
             [
              0.8888888888888888,
              "#fdca26"
             ],
             [
              1,
              "#f0f921"
             ]
            ],
            "type": "histogram2dcontour"
           }
          ],
          "mesh3d": [
           {
            "colorbar": {
             "outlinewidth": 0,
             "ticks": ""
            },
            "type": "mesh3d"
           }
          ],
          "parcoords": [
           {
            "line": {
             "colorbar": {
              "outlinewidth": 0,
              "ticks": ""
             }
            },
            "type": "parcoords"
           }
          ],
          "pie": [
           {
            "automargin": true,
            "type": "pie"
           }
          ],
          "scatter": [
           {
            "fillpattern": {
             "fillmode": "overlay",
             "size": 10,
             "solidity": 0.2
            },
            "type": "scatter"
           }
          ],
          "scatter3d": [
           {
            "line": {
             "colorbar": {
              "outlinewidth": 0,
              "ticks": ""
             }
            },
            "marker": {
             "colorbar": {
              "outlinewidth": 0,
              "ticks": ""
             }
            },
            "type": "scatter3d"
           }
          ],
          "scattercarpet": [
           {
            "marker": {
             "colorbar": {
              "outlinewidth": 0,
              "ticks": ""
             }
            },
            "type": "scattercarpet"
           }
          ],
          "scattergeo": [
           {
            "marker": {
             "colorbar": {
              "outlinewidth": 0,
              "ticks": ""
             }
            },
            "type": "scattergeo"
           }
          ],
          "scattergl": [
           {
            "marker": {
             "colorbar": {
              "outlinewidth": 0,
              "ticks": ""
             }
            },
            "type": "scattergl"
           }
          ],
          "scattermapbox": [
           {
            "marker": {
             "colorbar": {
              "outlinewidth": 0,
              "ticks": ""
             }
            },
            "type": "scattermapbox"
           }
          ],
          "scatterpolar": [
           {
            "marker": {
             "colorbar": {
              "outlinewidth": 0,
              "ticks": ""
             }
            },
            "type": "scatterpolar"
           }
          ],
          "scatterpolargl": [
           {
            "marker": {
             "colorbar": {
              "outlinewidth": 0,
              "ticks": ""
             }
            },
            "type": "scatterpolargl"
           }
          ],
          "scatterternary": [
           {
            "marker": {
             "colorbar": {
              "outlinewidth": 0,
              "ticks": ""
             }
            },
            "type": "scatterternary"
           }
          ],
          "surface": [
           {
            "colorbar": {
             "outlinewidth": 0,
             "ticks": ""
            },
            "colorscale": [
             [
              0,
              "#0d0887"
             ],
             [
              0.1111111111111111,
              "#46039f"
             ],
             [
              0.2222222222222222,
              "#7201a8"
             ],
             [
              0.3333333333333333,
              "#9c179e"
             ],
             [
              0.4444444444444444,
              "#bd3786"
             ],
             [
              0.5555555555555556,
              "#d8576b"
             ],
             [
              0.6666666666666666,
              "#ed7953"
             ],
             [
              0.7777777777777778,
              "#fb9f3a"
             ],
             [
              0.8888888888888888,
              "#fdca26"
             ],
             [
              1,
              "#f0f921"
             ]
            ],
            "type": "surface"
           }
          ],
          "table": [
           {
            "cells": {
             "fill": {
              "color": "#EBF0F8"
             },
             "line": {
              "color": "white"
             }
            },
            "header": {
             "fill": {
              "color": "#C8D4E3"
             },
             "line": {
              "color": "white"
             }
            },
            "type": "table"
           }
          ]
         },
         "layout": {
          "annotationdefaults": {
           "arrowcolor": "#2a3f5f",
           "arrowhead": 0,
           "arrowwidth": 1
          },
          "autotypenumbers": "strict",
          "coloraxis": {
           "colorbar": {
            "outlinewidth": 0,
            "ticks": ""
           }
          },
          "colorscale": {
           "diverging": [
            [
             0,
             "#8e0152"
            ],
            [
             0.1,
             "#c51b7d"
            ],
            [
             0.2,
             "#de77ae"
            ],
            [
             0.3,
             "#f1b6da"
            ],
            [
             0.4,
             "#fde0ef"
            ],
            [
             0.5,
             "#f7f7f7"
            ],
            [
             0.6,
             "#e6f5d0"
            ],
            [
             0.7,
             "#b8e186"
            ],
            [
             0.8,
             "#7fbc41"
            ],
            [
             0.9,
             "#4d9221"
            ],
            [
             1,
             "#276419"
            ]
           ],
           "sequential": [
            [
             0,
             "#0d0887"
            ],
            [
             0.1111111111111111,
             "#46039f"
            ],
            [
             0.2222222222222222,
             "#7201a8"
            ],
            [
             0.3333333333333333,
             "#9c179e"
            ],
            [
             0.4444444444444444,
             "#bd3786"
            ],
            [
             0.5555555555555556,
             "#d8576b"
            ],
            [
             0.6666666666666666,
             "#ed7953"
            ],
            [
             0.7777777777777778,
             "#fb9f3a"
            ],
            [
             0.8888888888888888,
             "#fdca26"
            ],
            [
             1,
             "#f0f921"
            ]
           ],
           "sequentialminus": [
            [
             0,
             "#0d0887"
            ],
            [
             0.1111111111111111,
             "#46039f"
            ],
            [
             0.2222222222222222,
             "#7201a8"
            ],
            [
             0.3333333333333333,
             "#9c179e"
            ],
            [
             0.4444444444444444,
             "#bd3786"
            ],
            [
             0.5555555555555556,
             "#d8576b"
            ],
            [
             0.6666666666666666,
             "#ed7953"
            ],
            [
             0.7777777777777778,
             "#fb9f3a"
            ],
            [
             0.8888888888888888,
             "#fdca26"
            ],
            [
             1,
             "#f0f921"
            ]
           ]
          },
          "colorway": [
           "#636efa",
           "#EF553B",
           "#00cc96",
           "#ab63fa",
           "#FFA15A",
           "#19d3f3",
           "#FF6692",
           "#B6E880",
           "#FF97FF",
           "#FECB52"
          ],
          "font": {
           "color": "#2a3f5f"
          },
          "geo": {
           "bgcolor": "white",
           "lakecolor": "white",
           "landcolor": "#E5ECF6",
           "showlakes": true,
           "showland": true,
           "subunitcolor": "white"
          },
          "hoverlabel": {
           "align": "left"
          },
          "hovermode": "closest",
          "mapbox": {
           "style": "light"
          },
          "paper_bgcolor": "white",
          "plot_bgcolor": "#E5ECF6",
          "polar": {
           "angularaxis": {
            "gridcolor": "white",
            "linecolor": "white",
            "ticks": ""
           },
           "bgcolor": "#E5ECF6",
           "radialaxis": {
            "gridcolor": "white",
            "linecolor": "white",
            "ticks": ""
           }
          },
          "scene": {
           "xaxis": {
            "backgroundcolor": "#E5ECF6",
            "gridcolor": "white",
            "gridwidth": 2,
            "linecolor": "white",
            "showbackground": true,
            "ticks": "",
            "zerolinecolor": "white"
           },
           "yaxis": {
            "backgroundcolor": "#E5ECF6",
            "gridcolor": "white",
            "gridwidth": 2,
            "linecolor": "white",
            "showbackground": true,
            "ticks": "",
            "zerolinecolor": "white"
           },
           "zaxis": {
            "backgroundcolor": "#E5ECF6",
            "gridcolor": "white",
            "gridwidth": 2,
            "linecolor": "white",
            "showbackground": true,
            "ticks": "",
            "zerolinecolor": "white"
           }
          },
          "shapedefaults": {
           "line": {
            "color": "#2a3f5f"
           }
          },
          "ternary": {
           "aaxis": {
            "gridcolor": "white",
            "linecolor": "white",
            "ticks": ""
           },
           "baxis": {
            "gridcolor": "white",
            "linecolor": "white",
            "ticks": ""
           },
           "bgcolor": "#E5ECF6",
           "caxis": {
            "gridcolor": "white",
            "linecolor": "white",
            "ticks": ""
           }
          },
          "title": {
           "x": 0.05
          },
          "xaxis": {
           "automargin": true,
           "gridcolor": "white",
           "linecolor": "white",
           "ticks": "",
           "title": {
            "standoff": 15
           },
           "zerolinecolor": "white",
           "zerolinewidth": 2
          },
          "yaxis": {
           "automargin": true,
           "gridcolor": "white",
           "linecolor": "white",
           "ticks": "",
           "title": {
            "standoff": 15
           },
           "zerolinecolor": "white",
           "zerolinewidth": 2
          }
         }
        },
        "xaxis": {
         "anchor": "y",
         "domain": [
          0,
          1
         ],
         "title": {
          "text": "python_version"
         }
        },
        "yaxis": {
         "anchor": "x",
         "domain": [
          0,
          1
         ],
         "title": {
          "text": "value"
         }
        }
       }
      }
     },
     "metadata": {},
     "output_type": "display_data"
    }
   ],
   "source": [
    "fig = px.line(df, x=\"python_version\", y=[\"Pkg_J\",\"Cor_J\",\"GFX_J\",\"RAM_J\"], text=pd.to_datetime(df['first_release']).dt.year)\n",
    "fig.update_traces(textposition=\"bottom right\")\n",
    "fig.show()"
   ]
  },
  {
   "attachments": {},
   "cell_type": "markdown",
   "metadata": {},
   "source": [
    "### Energy Consumption through releases (based on Python version)"
   ]
  },
  {
   "cell_type": "code",
   "execution_count": 75,
   "metadata": {},
   "outputs": [
    {
     "data": {
      "application/vnd.plotly.v1+json": {
       "config": {
        "plotlyServerURL": "https://plot.ly"
       },
       "data": [
        {
         "hovertemplate": "variable=Pkg_J<br>first_release=%{x}<br>value=%{y}<br>python_version=%{text}<extra></extra>",
         "legendgroup": "Pkg_J",
         "line": {
          "color": "#636efa",
          "dash": "solid"
         },
         "marker": {
          "symbol": "circle"
         },
         "mode": "text+lines+markers",
         "name": "Pkg_J",
         "orientation": "v",
         "showlegend": true,
         "text": [
          "2.5.6",
          "2.7.18",
          "3.0.1",
          "3.4.10",
          "3.5.10",
          "3.6.15",
          "3.7.16",
          "3.8.16",
          "3.9.16",
          "3.10.11",
          "3.11.3",
          "3.12.0b1",
          "3.13.0a0"
         ],
         "textposition": "bottom right",
         "type": "scatter",
         "x": [
          "2006-09-19T00:00:00",
          "2010-07-04T00:00:00",
          "2008-12-03T00:00:00",
          "2014-03-16T00:00:00",
          "2015-09-13T00:00:00",
          "2016-12-23T00:00:00",
          "2018-06-27T00:00:00",
          "2019-10-14T00:00:00",
          "2020-10-05T00:00:00",
          "2021-10-04T00:00:00",
          "2022-10-24T00:00:00",
          "2023-05-22T00:00:00",
          "2023-06-07T00:00:00"
         ],
         "xaxis": "x",
         "y": [
          1,
          0.2926136363636366,
          0.38750000000000007,
          0.016193181818181857,
          0.01974431818181821,
          0.018323863636363735,
          0.013778409090909105,
          0.009801136363636331,
          0.00823863636363631,
          0.015909090909090984,
          0.00042613636363642016,
          0.006249999999999978,
          0
         ],
         "yaxis": "y"
        },
        {
         "hovertemplate": "variable=Cor_J<br>first_release=%{x}<br>value=%{y}<br>python_version=%{text}<extra></extra>",
         "legendgroup": "Cor_J",
         "line": {
          "color": "#EF553B",
          "dash": "solid"
         },
         "marker": {
          "symbol": "circle"
         },
         "mode": "text+lines+markers",
         "name": "Cor_J",
         "orientation": "v",
         "showlegend": true,
         "text": [
          "2.5.6",
          "2.7.18",
          "3.0.1",
          "3.4.10",
          "3.5.10",
          "3.6.15",
          "3.7.16",
          "3.8.16",
          "3.9.16",
          "3.10.11",
          "3.11.3",
          "3.12.0b1",
          "3.13.0a0"
         ],
         "textposition": "bottom right",
         "type": "scatter",
         "x": [
          "2006-09-19T00:00:00",
          "2010-07-04T00:00:00",
          "2008-12-03T00:00:00",
          "2014-03-16T00:00:00",
          "2015-09-13T00:00:00",
          "2016-12-23T00:00:00",
          "2018-06-27T00:00:00",
          "2019-10-14T00:00:00",
          "2020-10-05T00:00:00",
          "2021-10-04T00:00:00",
          "2022-10-24T00:00:00",
          "2023-05-22T00:00:00",
          "2023-06-07T00:00:00"
         ],
         "xaxis": "x",
         "y": [
          0.9999999999999999,
          0.34251185559124975,
          0.3357809392687777,
          0.014226709499770562,
          0.014532660241700968,
          0.01698026617714543,
          0.013002906532048275,
          0.008566620774055234,
          0.007648768548263685,
          0.013920758757839935,
          0,
          0.005201162612819221,
          0.001070827596756918
         ],
         "yaxis": "y"
        },
        {
         "hovertemplate": "variable=GFX_J<br>first_release=%{x}<br>value=%{y}<br>python_version=%{text}<extra></extra>",
         "legendgroup": "GFX_J",
         "line": {
          "color": "#00cc96",
          "dash": "solid"
         },
         "marker": {
          "symbol": "circle"
         },
         "mode": "text+lines+markers",
         "name": "GFX_J",
         "orientation": "v",
         "showlegend": true,
         "text": [
          "2.5.6",
          "2.7.18",
          "3.0.1",
          "3.4.10",
          "3.5.10",
          "3.6.15",
          "3.7.16",
          "3.8.16",
          "3.9.16",
          "3.10.11",
          "3.11.3",
          "3.12.0b1",
          "3.13.0a0"
         ],
         "textposition": "bottom right",
         "type": "scatter",
         "x": [
          "2006-09-19T00:00:00",
          "2010-07-04T00:00:00",
          "2008-12-03T00:00:00",
          "2014-03-16T00:00:00",
          "2015-09-13T00:00:00",
          "2016-12-23T00:00:00",
          "2018-06-27T00:00:00",
          "2019-10-14T00:00:00",
          "2020-10-05T00:00:00",
          "2021-10-04T00:00:00",
          "2022-10-24T00:00:00",
          "2023-05-22T00:00:00",
          "2023-06-07T00:00:00"
         ],
         "xaxis": "x",
         "y": [
          1,
          0,
          1,
          0,
          0,
          0,
          0,
          0,
          0,
          0,
          0,
          0,
          0
         ],
         "yaxis": "y"
        },
        {
         "hovertemplate": "variable=RAM_J<br>first_release=%{x}<br>value=%{y}<br>python_version=%{text}<extra></extra>",
         "legendgroup": "RAM_J",
         "line": {
          "color": "#ab63fa",
          "dash": "solid"
         },
         "marker": {
          "symbol": "circle"
         },
         "mode": "text+lines+markers",
         "name": "RAM_J",
         "orientation": "v",
         "showlegend": true,
         "text": [
          "2.5.6",
          "2.7.18",
          "3.0.1",
          "3.4.10",
          "3.5.10",
          "3.6.15",
          "3.7.16",
          "3.8.16",
          "3.9.16",
          "3.10.11",
          "3.11.3",
          "3.12.0b1",
          "3.13.0a0"
         ],
         "textposition": "bottom right",
         "type": "scatter",
         "x": [
          "2006-09-19T00:00:00",
          "2010-07-04T00:00:00",
          "2008-12-03T00:00:00",
          "2014-03-16T00:00:00",
          "2015-09-13T00:00:00",
          "2016-12-23T00:00:00",
          "2018-06-27T00:00:00",
          "2019-10-14T00:00:00",
          "2020-10-05T00:00:00",
          "2021-10-04T00:00:00",
          "2022-10-24T00:00:00",
          "2023-05-22T00:00:00",
          "2023-06-07T00:00:00"
         ],
         "xaxis": "x",
         "y": [
          0.9590643274853798,
          0,
          0.9999999999999996,
          0.3157894736842102,
          0.3333333333333326,
          0.3157894736842102,
          0.30409356725146175,
          0.2923976608187133,
          0.28654970760233844,
          0.30409356725146175,
          0.2631578947368416,
          0.28070175438596445,
          0.2631578947368416
         ],
         "yaxis": "y"
        }
       ],
       "layout": {
        "legend": {
         "title": {
          "text": "variable"
         },
         "tracegroupgap": 0
        },
        "margin": {
         "t": 60
        },
        "template": {
         "data": {
          "bar": [
           {
            "error_x": {
             "color": "#2a3f5f"
            },
            "error_y": {
             "color": "#2a3f5f"
            },
            "marker": {
             "line": {
              "color": "#E5ECF6",
              "width": 0.5
             },
             "pattern": {
              "fillmode": "overlay",
              "size": 10,
              "solidity": 0.2
             }
            },
            "type": "bar"
           }
          ],
          "barpolar": [
           {
            "marker": {
             "line": {
              "color": "#E5ECF6",
              "width": 0.5
             },
             "pattern": {
              "fillmode": "overlay",
              "size": 10,
              "solidity": 0.2
             }
            },
            "type": "barpolar"
           }
          ],
          "carpet": [
           {
            "aaxis": {
             "endlinecolor": "#2a3f5f",
             "gridcolor": "white",
             "linecolor": "white",
             "minorgridcolor": "white",
             "startlinecolor": "#2a3f5f"
            },
            "baxis": {
             "endlinecolor": "#2a3f5f",
             "gridcolor": "white",
             "linecolor": "white",
             "minorgridcolor": "white",
             "startlinecolor": "#2a3f5f"
            },
            "type": "carpet"
           }
          ],
          "choropleth": [
           {
            "colorbar": {
             "outlinewidth": 0,
             "ticks": ""
            },
            "type": "choropleth"
           }
          ],
          "contour": [
           {
            "colorbar": {
             "outlinewidth": 0,
             "ticks": ""
            },
            "colorscale": [
             [
              0,
              "#0d0887"
             ],
             [
              0.1111111111111111,
              "#46039f"
             ],
             [
              0.2222222222222222,
              "#7201a8"
             ],
             [
              0.3333333333333333,
              "#9c179e"
             ],
             [
              0.4444444444444444,
              "#bd3786"
             ],
             [
              0.5555555555555556,
              "#d8576b"
             ],
             [
              0.6666666666666666,
              "#ed7953"
             ],
             [
              0.7777777777777778,
              "#fb9f3a"
             ],
             [
              0.8888888888888888,
              "#fdca26"
             ],
             [
              1,
              "#f0f921"
             ]
            ],
            "type": "contour"
           }
          ],
          "contourcarpet": [
           {
            "colorbar": {
             "outlinewidth": 0,
             "ticks": ""
            },
            "type": "contourcarpet"
           }
          ],
          "heatmap": [
           {
            "colorbar": {
             "outlinewidth": 0,
             "ticks": ""
            },
            "colorscale": [
             [
              0,
              "#0d0887"
             ],
             [
              0.1111111111111111,
              "#46039f"
             ],
             [
              0.2222222222222222,
              "#7201a8"
             ],
             [
              0.3333333333333333,
              "#9c179e"
             ],
             [
              0.4444444444444444,
              "#bd3786"
             ],
             [
              0.5555555555555556,
              "#d8576b"
             ],
             [
              0.6666666666666666,
              "#ed7953"
             ],
             [
              0.7777777777777778,
              "#fb9f3a"
             ],
             [
              0.8888888888888888,
              "#fdca26"
             ],
             [
              1,
              "#f0f921"
             ]
            ],
            "type": "heatmap"
           }
          ],
          "heatmapgl": [
           {
            "colorbar": {
             "outlinewidth": 0,
             "ticks": ""
            },
            "colorscale": [
             [
              0,
              "#0d0887"
             ],
             [
              0.1111111111111111,
              "#46039f"
             ],
             [
              0.2222222222222222,
              "#7201a8"
             ],
             [
              0.3333333333333333,
              "#9c179e"
             ],
             [
              0.4444444444444444,
              "#bd3786"
             ],
             [
              0.5555555555555556,
              "#d8576b"
             ],
             [
              0.6666666666666666,
              "#ed7953"
             ],
             [
              0.7777777777777778,
              "#fb9f3a"
             ],
             [
              0.8888888888888888,
              "#fdca26"
             ],
             [
              1,
              "#f0f921"
             ]
            ],
            "type": "heatmapgl"
           }
          ],
          "histogram": [
           {
            "marker": {
             "pattern": {
              "fillmode": "overlay",
              "size": 10,
              "solidity": 0.2
             }
            },
            "type": "histogram"
           }
          ],
          "histogram2d": [
           {
            "colorbar": {
             "outlinewidth": 0,
             "ticks": ""
            },
            "colorscale": [
             [
              0,
              "#0d0887"
             ],
             [
              0.1111111111111111,
              "#46039f"
             ],
             [
              0.2222222222222222,
              "#7201a8"
             ],
             [
              0.3333333333333333,
              "#9c179e"
             ],
             [
              0.4444444444444444,
              "#bd3786"
             ],
             [
              0.5555555555555556,
              "#d8576b"
             ],
             [
              0.6666666666666666,
              "#ed7953"
             ],
             [
              0.7777777777777778,
              "#fb9f3a"
             ],
             [
              0.8888888888888888,
              "#fdca26"
             ],
             [
              1,
              "#f0f921"
             ]
            ],
            "type": "histogram2d"
           }
          ],
          "histogram2dcontour": [
           {
            "colorbar": {
             "outlinewidth": 0,
             "ticks": ""
            },
            "colorscale": [
             [
              0,
              "#0d0887"
             ],
             [
              0.1111111111111111,
              "#46039f"
             ],
             [
              0.2222222222222222,
              "#7201a8"
             ],
             [
              0.3333333333333333,
              "#9c179e"
             ],
             [
              0.4444444444444444,
              "#bd3786"
             ],
             [
              0.5555555555555556,
              "#d8576b"
             ],
             [
              0.6666666666666666,
              "#ed7953"
             ],
             [
              0.7777777777777778,
              "#fb9f3a"
             ],
             [
              0.8888888888888888,
              "#fdca26"
             ],
             [
              1,
              "#f0f921"
             ]
            ],
            "type": "histogram2dcontour"
           }
          ],
          "mesh3d": [
           {
            "colorbar": {
             "outlinewidth": 0,
             "ticks": ""
            },
            "type": "mesh3d"
           }
          ],
          "parcoords": [
           {
            "line": {
             "colorbar": {
              "outlinewidth": 0,
              "ticks": ""
             }
            },
            "type": "parcoords"
           }
          ],
          "pie": [
           {
            "automargin": true,
            "type": "pie"
           }
          ],
          "scatter": [
           {
            "fillpattern": {
             "fillmode": "overlay",
             "size": 10,
             "solidity": 0.2
            },
            "type": "scatter"
           }
          ],
          "scatter3d": [
           {
            "line": {
             "colorbar": {
              "outlinewidth": 0,
              "ticks": ""
             }
            },
            "marker": {
             "colorbar": {
              "outlinewidth": 0,
              "ticks": ""
             }
            },
            "type": "scatter3d"
           }
          ],
          "scattercarpet": [
           {
            "marker": {
             "colorbar": {
              "outlinewidth": 0,
              "ticks": ""
             }
            },
            "type": "scattercarpet"
           }
          ],
          "scattergeo": [
           {
            "marker": {
             "colorbar": {
              "outlinewidth": 0,
              "ticks": ""
             }
            },
            "type": "scattergeo"
           }
          ],
          "scattergl": [
           {
            "marker": {
             "colorbar": {
              "outlinewidth": 0,
              "ticks": ""
             }
            },
            "type": "scattergl"
           }
          ],
          "scattermapbox": [
           {
            "marker": {
             "colorbar": {
              "outlinewidth": 0,
              "ticks": ""
             }
            },
            "type": "scattermapbox"
           }
          ],
          "scatterpolar": [
           {
            "marker": {
             "colorbar": {
              "outlinewidth": 0,
              "ticks": ""
             }
            },
            "type": "scatterpolar"
           }
          ],
          "scatterpolargl": [
           {
            "marker": {
             "colorbar": {
              "outlinewidth": 0,
              "ticks": ""
             }
            },
            "type": "scatterpolargl"
           }
          ],
          "scatterternary": [
           {
            "marker": {
             "colorbar": {
              "outlinewidth": 0,
              "ticks": ""
             }
            },
            "type": "scatterternary"
           }
          ],
          "surface": [
           {
            "colorbar": {
             "outlinewidth": 0,
             "ticks": ""
            },
            "colorscale": [
             [
              0,
              "#0d0887"
             ],
             [
              0.1111111111111111,
              "#46039f"
             ],
             [
              0.2222222222222222,
              "#7201a8"
             ],
             [
              0.3333333333333333,
              "#9c179e"
             ],
             [
              0.4444444444444444,
              "#bd3786"
             ],
             [
              0.5555555555555556,
              "#d8576b"
             ],
             [
              0.6666666666666666,
              "#ed7953"
             ],
             [
              0.7777777777777778,
              "#fb9f3a"
             ],
             [
              0.8888888888888888,
              "#fdca26"
             ],
             [
              1,
              "#f0f921"
             ]
            ],
            "type": "surface"
           }
          ],
          "table": [
           {
            "cells": {
             "fill": {
              "color": "#EBF0F8"
             },
             "line": {
              "color": "white"
             }
            },
            "header": {
             "fill": {
              "color": "#C8D4E3"
             },
             "line": {
              "color": "white"
             }
            },
            "type": "table"
           }
          ]
         },
         "layout": {
          "annotationdefaults": {
           "arrowcolor": "#2a3f5f",
           "arrowhead": 0,
           "arrowwidth": 1
          },
          "autotypenumbers": "strict",
          "coloraxis": {
           "colorbar": {
            "outlinewidth": 0,
            "ticks": ""
           }
          },
          "colorscale": {
           "diverging": [
            [
             0,
             "#8e0152"
            ],
            [
             0.1,
             "#c51b7d"
            ],
            [
             0.2,
             "#de77ae"
            ],
            [
             0.3,
             "#f1b6da"
            ],
            [
             0.4,
             "#fde0ef"
            ],
            [
             0.5,
             "#f7f7f7"
            ],
            [
             0.6,
             "#e6f5d0"
            ],
            [
             0.7,
             "#b8e186"
            ],
            [
             0.8,
             "#7fbc41"
            ],
            [
             0.9,
             "#4d9221"
            ],
            [
             1,
             "#276419"
            ]
           ],
           "sequential": [
            [
             0,
             "#0d0887"
            ],
            [
             0.1111111111111111,
             "#46039f"
            ],
            [
             0.2222222222222222,
             "#7201a8"
            ],
            [
             0.3333333333333333,
             "#9c179e"
            ],
            [
             0.4444444444444444,
             "#bd3786"
            ],
            [
             0.5555555555555556,
             "#d8576b"
            ],
            [
             0.6666666666666666,
             "#ed7953"
            ],
            [
             0.7777777777777778,
             "#fb9f3a"
            ],
            [
             0.8888888888888888,
             "#fdca26"
            ],
            [
             1,
             "#f0f921"
            ]
           ],
           "sequentialminus": [
            [
             0,
             "#0d0887"
            ],
            [
             0.1111111111111111,
             "#46039f"
            ],
            [
             0.2222222222222222,
             "#7201a8"
            ],
            [
             0.3333333333333333,
             "#9c179e"
            ],
            [
             0.4444444444444444,
             "#bd3786"
            ],
            [
             0.5555555555555556,
             "#d8576b"
            ],
            [
             0.6666666666666666,
             "#ed7953"
            ],
            [
             0.7777777777777778,
             "#fb9f3a"
            ],
            [
             0.8888888888888888,
             "#fdca26"
            ],
            [
             1,
             "#f0f921"
            ]
           ]
          },
          "colorway": [
           "#636efa",
           "#EF553B",
           "#00cc96",
           "#ab63fa",
           "#FFA15A",
           "#19d3f3",
           "#FF6692",
           "#B6E880",
           "#FF97FF",
           "#FECB52"
          ],
          "font": {
           "color": "#2a3f5f"
          },
          "geo": {
           "bgcolor": "white",
           "lakecolor": "white",
           "landcolor": "#E5ECF6",
           "showlakes": true,
           "showland": true,
           "subunitcolor": "white"
          },
          "hoverlabel": {
           "align": "left"
          },
          "hovermode": "closest",
          "mapbox": {
           "style": "light"
          },
          "paper_bgcolor": "white",
          "plot_bgcolor": "#E5ECF6",
          "polar": {
           "angularaxis": {
            "gridcolor": "white",
            "linecolor": "white",
            "ticks": ""
           },
           "bgcolor": "#E5ECF6",
           "radialaxis": {
            "gridcolor": "white",
            "linecolor": "white",
            "ticks": ""
           }
          },
          "scene": {
           "xaxis": {
            "backgroundcolor": "#E5ECF6",
            "gridcolor": "white",
            "gridwidth": 2,
            "linecolor": "white",
            "showbackground": true,
            "ticks": "",
            "zerolinecolor": "white"
           },
           "yaxis": {
            "backgroundcolor": "#E5ECF6",
            "gridcolor": "white",
            "gridwidth": 2,
            "linecolor": "white",
            "showbackground": true,
            "ticks": "",
            "zerolinecolor": "white"
           },
           "zaxis": {
            "backgroundcolor": "#E5ECF6",
            "gridcolor": "white",
            "gridwidth": 2,
            "linecolor": "white",
            "showbackground": true,
            "ticks": "",
            "zerolinecolor": "white"
           }
          },
          "shapedefaults": {
           "line": {
            "color": "#2a3f5f"
           }
          },
          "ternary": {
           "aaxis": {
            "gridcolor": "white",
            "linecolor": "white",
            "ticks": ""
           },
           "baxis": {
            "gridcolor": "white",
            "linecolor": "white",
            "ticks": ""
           },
           "bgcolor": "#E5ECF6",
           "caxis": {
            "gridcolor": "white",
            "linecolor": "white",
            "ticks": ""
           }
          },
          "title": {
           "x": 0.05
          },
          "xaxis": {
           "automargin": true,
           "gridcolor": "white",
           "linecolor": "white",
           "ticks": "",
           "title": {
            "standoff": 15
           },
           "zerolinecolor": "white",
           "zerolinewidth": 2
          },
          "yaxis": {
           "automargin": true,
           "gridcolor": "white",
           "linecolor": "white",
           "ticks": "",
           "title": {
            "standoff": 15
           },
           "zerolinecolor": "white",
           "zerolinewidth": 2
          }
         }
        },
        "xaxis": {
         "anchor": "y",
         "domain": [
          0,
          1
         ],
         "title": {
          "text": "first_release"
         }
        },
        "yaxis": {
         "anchor": "x",
         "domain": [
          0,
          1
         ],
         "title": {
          "text": "value"
         }
        }
       }
      }
     },
     "metadata": {},
     "output_type": "display_data"
    }
   ],
   "source": [
    "fig = px.line(df, x=\"first_release\", y=[\"Pkg_J\",\"Cor_J\",\"GFX_J\",\"RAM_J\"], text=\"python_version\")\n",
    "fig.update_traces(textposition=\"bottom right\")\n",
    "fig.show()"
   ]
  },
  {
   "attachments": {},
   "cell_type": "markdown",
   "metadata": {},
   "source": [
    "### Time elapsed and more parameters through different Python versions"
   ]
  },
  {
   "cell_type": "code",
   "execution_count": 76,
   "metadata": {},
   "outputs": [
    {
     "data": {
      "application/vnd.plotly.v1+json": {
       "config": {
        "plotlyServerURL": "https://plot.ly"
       },
       "data": [
        {
         "hovertemplate": "variable=time_elapsed<br>python_version=%{x}<br>value=%{y}<br>text=%{text}<extra></extra>",
         "legendgroup": "time_elapsed",
         "line": {
          "color": "#636efa",
          "dash": "solid"
         },
         "marker": {
          "symbol": "circle"
         },
         "mode": "text+lines+markers",
         "name": "time_elapsed",
         "orientation": "v",
         "showlegend": true,
         "text": [
          2011,
          2020,
          2009,
          2019,
          2020,
          2021,
          2022,
          2022,
          2022,
          2023,
          2023,
          2023,
          2023
         ],
         "textposition": "bottom right",
         "type": "scatter",
         "x": [
          "2.5.6",
          "2.7.18",
          "3.0.1",
          "3.4.10",
          "3.5.10",
          "3.6.15",
          "3.7.16",
          "3.8.16",
          "3.9.16",
          "3.10.11",
          "3.11.3",
          "3.12.0b1",
          "3.13.0a0"
         ],
         "xaxis": "x",
         "y": [
          0.9678164211430722,
          0,
          0.9999999999999998,
          0.30047076091431424,
          0.3083466089104481,
          0.3040650115452772,
          0.2957846313566148,
          0.28680258471011477,
          0.2844756296203481,
          0.30027744464531825,
          0.2682120035083322,
          0.28041956790233913,
          0.2670556858252633
         ],
         "yaxis": "y"
        },
        {
         "hovertemplate": "variable=Avg_MHz<br>python_version=%{x}<br>value=%{y}<br>text=%{text}<extra></extra>",
         "legendgroup": "Avg_MHz",
         "line": {
          "color": "#EF553B",
          "dash": "solid"
         },
         "marker": {
          "symbol": "circle"
         },
         "mode": "text+lines+markers",
         "name": "Avg_MHz",
         "orientation": "v",
         "showlegend": true,
         "text": [
          2011,
          2020,
          2009,
          2019,
          2020,
          2021,
          2022,
          2022,
          2022,
          2023,
          2023,
          2023,
          2023
         ],
         "textposition": "bottom right",
         "type": "scatter",
         "x": [
          "2.5.6",
          "2.7.18",
          "3.0.1",
          "3.4.10",
          "3.5.10",
          "3.6.15",
          "3.7.16",
          "3.8.16",
          "3.9.16",
          "3.10.11",
          "3.11.3",
          "3.12.0b1",
          "3.13.0a0"
         ],
         "xaxis": "x",
         "y": [
          1,
          0.9673659673659678,
          0.03729603729603692,
          0.02797202797202747,
          0.09790209790209747,
          0.04195804195804076,
          0.005827505827505242,
          0.025641025641024662,
          0.012820512820511887,
          0.04778554778554689,
          0,
          0.009324009324008564,
          0.01398601398601329
         ],
         "yaxis": "y"
        },
        {
         "hovertemplate": "variable=Busy%<br>python_version=%{x}<br>value=%{y}<br>text=%{text}<extra></extra>",
         "legendgroup": "Busy%",
         "line": {
          "color": "#00cc96",
          "dash": "solid"
         },
         "marker": {
          "symbol": "circle"
         },
         "mode": "text+lines+markers",
         "name": "Busy%",
         "orientation": "v",
         "showlegend": true,
         "text": [
          2011,
          2020,
          2009,
          2019,
          2020,
          2021,
          2022,
          2022,
          2022,
          2023,
          2023,
          2023,
          2023
         ],
         "textposition": "bottom right",
         "type": "scatter",
         "x": [
          "2.5.6",
          "2.7.18",
          "3.0.1",
          "3.4.10",
          "3.5.10",
          "3.6.15",
          "3.7.16",
          "3.8.16",
          "3.9.16",
          "3.10.11",
          "3.11.3",
          "3.12.0b1",
          "3.13.0a0"
         ],
         "xaxis": "x",
         "y": [
          0,
          0.28301886792453246,
          0.24528301886792292,
          0.5660377358490578,
          1,
          0.45283018867924696,
          0.39622641509433976,
          0.3584905660377373,
          0.3018867924528337,
          0.5283018867924554,
          0.39622641509433976,
          0.45283018867924696,
          0.3018867924528337
         ],
         "yaxis": "y"
        },
        {
         "hovertemplate": "variable=Bzy_MHz<br>python_version=%{x}<br>value=%{y}<br>text=%{text}<extra></extra>",
         "legendgroup": "Bzy_MHz",
         "line": {
          "color": "#ab63fa",
          "dash": "solid"
         },
         "marker": {
          "symbol": "circle"
         },
         "mode": "text+lines+markers",
         "name": "Bzy_MHz",
         "orientation": "v",
         "showlegend": true,
         "text": [
          2011,
          2020,
          2009,
          2019,
          2020,
          2021,
          2022,
          2022,
          2022,
          2023,
          2023,
          2023,
          2023
         ],
         "textposition": "bottom right",
         "type": "scatter",
         "x": [
          "2.5.6",
          "2.7.18",
          "3.0.1",
          "3.4.10",
          "3.5.10",
          "3.6.15",
          "3.7.16",
          "3.8.16",
          "3.9.16",
          "3.10.11",
          "3.11.3",
          "3.12.0b1",
          "3.13.0a0"
         ],
         "xaxis": "x",
         "y": [
          1,
          0.9077072090770715,
          0.07485817074858137,
          0.009547530095475487,
          0,
          0.04095752040957468,
          0.016742770167427423,
          0.040404040404039776,
          0.04317144043171339,
          0.032932060329320834,
          0.015220700152206668,
          0.012176560121765156,
          0.04400166044001619
         ],
         "yaxis": "y"
        },
        {
         "hovertemplate": "variable=IPC<br>python_version=%{x}<br>value=%{y}<br>text=%{text}<extra></extra>",
         "legendgroup": "IPC",
         "line": {
          "color": "#FFA15A",
          "dash": "solid"
         },
         "marker": {
          "symbol": "circle"
         },
         "mode": "text+lines+markers",
         "name": "IPC",
         "orientation": "v",
         "showlegend": true,
         "text": [
          2011,
          2020,
          2009,
          2019,
          2020,
          2021,
          2022,
          2022,
          2022,
          2023,
          2023,
          2023,
          2023
         ],
         "textposition": "bottom right",
         "type": "scatter",
         "x": [
          "2.5.6",
          "2.7.18",
          "3.0.1",
          "3.4.10",
          "3.5.10",
          "3.6.15",
          "3.7.16",
          "3.8.16",
          "3.9.16",
          "3.10.11",
          "3.11.3",
          "3.12.0b1",
          "3.13.0a0"
         ],
         "xaxis": "x",
         "y": [
          1,
          0,
          0.788732394366197,
          0.02816901408450745,
          0.02816901408450745,
          0.014084507042253502,
          0.04225352112676051,
          0.056338028169014454,
          0.056338028169014454,
          0.014084507042253502,
          0.056338028169014454,
          0.04225352112676051,
          0.056338028169014454
         ],
         "yaxis": "y"
        },
        {
         "hovertemplate": "variable=IRQ<br>python_version=%{x}<br>value=%{y}<br>text=%{text}<extra></extra>",
         "legendgroup": "IRQ",
         "line": {
          "color": "#19d3f3",
          "dash": "solid"
         },
         "marker": {
          "symbol": "circle"
         },
         "mode": "text+lines+markers",
         "name": "IRQ",
         "orientation": "v",
         "showlegend": true,
         "text": [
          2011,
          2020,
          2009,
          2019,
          2020,
          2021,
          2022,
          2022,
          2022,
          2023,
          2023,
          2023,
          2023
         ],
         "textposition": "bottom right",
         "type": "scatter",
         "x": [
          "2.5.6",
          "2.7.18",
          "3.0.1",
          "3.4.10",
          "3.5.10",
          "3.6.15",
          "3.7.16",
          "3.8.16",
          "3.9.16",
          "3.10.11",
          "3.11.3",
          "3.12.0b1",
          "3.13.0a0"
         ],
         "xaxis": "x",
         "y": [
          1,
          0.6552419641208473,
          0.3518600059656549,
          0.05634703066630686,
          0.13243753817308923,
          0.0467593710495291,
          0.038861980313338984,
          0.024729059841199996,
          0.0077837592148062296,
          0.060409357555786025,
          0.02676022328593952,
          0.025879578995213315,
          0
         ],
         "yaxis": "y"
        },
        {
         "hovertemplate": "variable=POLL<br>python_version=%{x}<br>value=%{y}<br>text=%{text}<extra></extra>",
         "legendgroup": "POLL",
         "line": {
          "color": "#FF6692",
          "dash": "solid"
         },
         "marker": {
          "symbol": "circle"
         },
         "mode": "text+lines+markers",
         "name": "POLL",
         "orientation": "v",
         "showlegend": true,
         "text": [
          2011,
          2020,
          2009,
          2019,
          2020,
          2021,
          2022,
          2022,
          2022,
          2023,
          2023,
          2023,
          2023
         ],
         "textposition": "bottom right",
         "type": "scatter",
         "x": [
          "2.5.6",
          "2.7.18",
          "3.0.1",
          "3.4.10",
          "3.5.10",
          "3.6.15",
          "3.7.16",
          "3.8.16",
          "3.9.16",
          "3.10.11",
          "3.11.3",
          "3.12.0b1",
          "3.13.0a0"
         ],
         "xaxis": "x",
         "y": [
          0.27701863354037265,
          0.2198757763975155,
          0.45590062111801233,
          0.26335403726708073,
          1,
          0.06459627329192547,
          0.11511387163561076,
          0.15031055900621115,
          0.10559006211180122,
          0.2554865424430641,
          0.1084886128364389,
          0.1271221532091097,
          0
         ],
         "yaxis": "y"
        }
       ],
       "layout": {
        "legend": {
         "title": {
          "text": "variable"
         },
         "tracegroupgap": 0
        },
        "margin": {
         "t": 60
        },
        "template": {
         "data": {
          "bar": [
           {
            "error_x": {
             "color": "#2a3f5f"
            },
            "error_y": {
             "color": "#2a3f5f"
            },
            "marker": {
             "line": {
              "color": "#E5ECF6",
              "width": 0.5
             },
             "pattern": {
              "fillmode": "overlay",
              "size": 10,
              "solidity": 0.2
             }
            },
            "type": "bar"
           }
          ],
          "barpolar": [
           {
            "marker": {
             "line": {
              "color": "#E5ECF6",
              "width": 0.5
             },
             "pattern": {
              "fillmode": "overlay",
              "size": 10,
              "solidity": 0.2
             }
            },
            "type": "barpolar"
           }
          ],
          "carpet": [
           {
            "aaxis": {
             "endlinecolor": "#2a3f5f",
             "gridcolor": "white",
             "linecolor": "white",
             "minorgridcolor": "white",
             "startlinecolor": "#2a3f5f"
            },
            "baxis": {
             "endlinecolor": "#2a3f5f",
             "gridcolor": "white",
             "linecolor": "white",
             "minorgridcolor": "white",
             "startlinecolor": "#2a3f5f"
            },
            "type": "carpet"
           }
          ],
          "choropleth": [
           {
            "colorbar": {
             "outlinewidth": 0,
             "ticks": ""
            },
            "type": "choropleth"
           }
          ],
          "contour": [
           {
            "colorbar": {
             "outlinewidth": 0,
             "ticks": ""
            },
            "colorscale": [
             [
              0,
              "#0d0887"
             ],
             [
              0.1111111111111111,
              "#46039f"
             ],
             [
              0.2222222222222222,
              "#7201a8"
             ],
             [
              0.3333333333333333,
              "#9c179e"
             ],
             [
              0.4444444444444444,
              "#bd3786"
             ],
             [
              0.5555555555555556,
              "#d8576b"
             ],
             [
              0.6666666666666666,
              "#ed7953"
             ],
             [
              0.7777777777777778,
              "#fb9f3a"
             ],
             [
              0.8888888888888888,
              "#fdca26"
             ],
             [
              1,
              "#f0f921"
             ]
            ],
            "type": "contour"
           }
          ],
          "contourcarpet": [
           {
            "colorbar": {
             "outlinewidth": 0,
             "ticks": ""
            },
            "type": "contourcarpet"
           }
          ],
          "heatmap": [
           {
            "colorbar": {
             "outlinewidth": 0,
             "ticks": ""
            },
            "colorscale": [
             [
              0,
              "#0d0887"
             ],
             [
              0.1111111111111111,
              "#46039f"
             ],
             [
              0.2222222222222222,
              "#7201a8"
             ],
             [
              0.3333333333333333,
              "#9c179e"
             ],
             [
              0.4444444444444444,
              "#bd3786"
             ],
             [
              0.5555555555555556,
              "#d8576b"
             ],
             [
              0.6666666666666666,
              "#ed7953"
             ],
             [
              0.7777777777777778,
              "#fb9f3a"
             ],
             [
              0.8888888888888888,
              "#fdca26"
             ],
             [
              1,
              "#f0f921"
             ]
            ],
            "type": "heatmap"
           }
          ],
          "heatmapgl": [
           {
            "colorbar": {
             "outlinewidth": 0,
             "ticks": ""
            },
            "colorscale": [
             [
              0,
              "#0d0887"
             ],
             [
              0.1111111111111111,
              "#46039f"
             ],
             [
              0.2222222222222222,
              "#7201a8"
             ],
             [
              0.3333333333333333,
              "#9c179e"
             ],
             [
              0.4444444444444444,
              "#bd3786"
             ],
             [
              0.5555555555555556,
              "#d8576b"
             ],
             [
              0.6666666666666666,
              "#ed7953"
             ],
             [
              0.7777777777777778,
              "#fb9f3a"
             ],
             [
              0.8888888888888888,
              "#fdca26"
             ],
             [
              1,
              "#f0f921"
             ]
            ],
            "type": "heatmapgl"
           }
          ],
          "histogram": [
           {
            "marker": {
             "pattern": {
              "fillmode": "overlay",
              "size": 10,
              "solidity": 0.2
             }
            },
            "type": "histogram"
           }
          ],
          "histogram2d": [
           {
            "colorbar": {
             "outlinewidth": 0,
             "ticks": ""
            },
            "colorscale": [
             [
              0,
              "#0d0887"
             ],
             [
              0.1111111111111111,
              "#46039f"
             ],
             [
              0.2222222222222222,
              "#7201a8"
             ],
             [
              0.3333333333333333,
              "#9c179e"
             ],
             [
              0.4444444444444444,
              "#bd3786"
             ],
             [
              0.5555555555555556,
              "#d8576b"
             ],
             [
              0.6666666666666666,
              "#ed7953"
             ],
             [
              0.7777777777777778,
              "#fb9f3a"
             ],
             [
              0.8888888888888888,
              "#fdca26"
             ],
             [
              1,
              "#f0f921"
             ]
            ],
            "type": "histogram2d"
           }
          ],
          "histogram2dcontour": [
           {
            "colorbar": {
             "outlinewidth": 0,
             "ticks": ""
            },
            "colorscale": [
             [
              0,
              "#0d0887"
             ],
             [
              0.1111111111111111,
              "#46039f"
             ],
             [
              0.2222222222222222,
              "#7201a8"
             ],
             [
              0.3333333333333333,
              "#9c179e"
             ],
             [
              0.4444444444444444,
              "#bd3786"
             ],
             [
              0.5555555555555556,
              "#d8576b"
             ],
             [
              0.6666666666666666,
              "#ed7953"
             ],
             [
              0.7777777777777778,
              "#fb9f3a"
             ],
             [
              0.8888888888888888,
              "#fdca26"
             ],
             [
              1,
              "#f0f921"
             ]
            ],
            "type": "histogram2dcontour"
           }
          ],
          "mesh3d": [
           {
            "colorbar": {
             "outlinewidth": 0,
             "ticks": ""
            },
            "type": "mesh3d"
           }
          ],
          "parcoords": [
           {
            "line": {
             "colorbar": {
              "outlinewidth": 0,
              "ticks": ""
             }
            },
            "type": "parcoords"
           }
          ],
          "pie": [
           {
            "automargin": true,
            "type": "pie"
           }
          ],
          "scatter": [
           {
            "fillpattern": {
             "fillmode": "overlay",
             "size": 10,
             "solidity": 0.2
            },
            "type": "scatter"
           }
          ],
          "scatter3d": [
           {
            "line": {
             "colorbar": {
              "outlinewidth": 0,
              "ticks": ""
             }
            },
            "marker": {
             "colorbar": {
              "outlinewidth": 0,
              "ticks": ""
             }
            },
            "type": "scatter3d"
           }
          ],
          "scattercarpet": [
           {
            "marker": {
             "colorbar": {
              "outlinewidth": 0,
              "ticks": ""
             }
            },
            "type": "scattercarpet"
           }
          ],
          "scattergeo": [
           {
            "marker": {
             "colorbar": {
              "outlinewidth": 0,
              "ticks": ""
             }
            },
            "type": "scattergeo"
           }
          ],
          "scattergl": [
           {
            "marker": {
             "colorbar": {
              "outlinewidth": 0,
              "ticks": ""
             }
            },
            "type": "scattergl"
           }
          ],
          "scattermapbox": [
           {
            "marker": {
             "colorbar": {
              "outlinewidth": 0,
              "ticks": ""
             }
            },
            "type": "scattermapbox"
           }
          ],
          "scatterpolar": [
           {
            "marker": {
             "colorbar": {
              "outlinewidth": 0,
              "ticks": ""
             }
            },
            "type": "scatterpolar"
           }
          ],
          "scatterpolargl": [
           {
            "marker": {
             "colorbar": {
              "outlinewidth": 0,
              "ticks": ""
             }
            },
            "type": "scatterpolargl"
           }
          ],
          "scatterternary": [
           {
            "marker": {
             "colorbar": {
              "outlinewidth": 0,
              "ticks": ""
             }
            },
            "type": "scatterternary"
           }
          ],
          "surface": [
           {
            "colorbar": {
             "outlinewidth": 0,
             "ticks": ""
            },
            "colorscale": [
             [
              0,
              "#0d0887"
             ],
             [
              0.1111111111111111,
              "#46039f"
             ],
             [
              0.2222222222222222,
              "#7201a8"
             ],
             [
              0.3333333333333333,
              "#9c179e"
             ],
             [
              0.4444444444444444,
              "#bd3786"
             ],
             [
              0.5555555555555556,
              "#d8576b"
             ],
             [
              0.6666666666666666,
              "#ed7953"
             ],
             [
              0.7777777777777778,
              "#fb9f3a"
             ],
             [
              0.8888888888888888,
              "#fdca26"
             ],
             [
              1,
              "#f0f921"
             ]
            ],
            "type": "surface"
           }
          ],
          "table": [
           {
            "cells": {
             "fill": {
              "color": "#EBF0F8"
             },
             "line": {
              "color": "white"
             }
            },
            "header": {
             "fill": {
              "color": "#C8D4E3"
             },
             "line": {
              "color": "white"
             }
            },
            "type": "table"
           }
          ]
         },
         "layout": {
          "annotationdefaults": {
           "arrowcolor": "#2a3f5f",
           "arrowhead": 0,
           "arrowwidth": 1
          },
          "autotypenumbers": "strict",
          "coloraxis": {
           "colorbar": {
            "outlinewidth": 0,
            "ticks": ""
           }
          },
          "colorscale": {
           "diverging": [
            [
             0,
             "#8e0152"
            ],
            [
             0.1,
             "#c51b7d"
            ],
            [
             0.2,
             "#de77ae"
            ],
            [
             0.3,
             "#f1b6da"
            ],
            [
             0.4,
             "#fde0ef"
            ],
            [
             0.5,
             "#f7f7f7"
            ],
            [
             0.6,
             "#e6f5d0"
            ],
            [
             0.7,
             "#b8e186"
            ],
            [
             0.8,
             "#7fbc41"
            ],
            [
             0.9,
             "#4d9221"
            ],
            [
             1,
             "#276419"
            ]
           ],
           "sequential": [
            [
             0,
             "#0d0887"
            ],
            [
             0.1111111111111111,
             "#46039f"
            ],
            [
             0.2222222222222222,
             "#7201a8"
            ],
            [
             0.3333333333333333,
             "#9c179e"
            ],
            [
             0.4444444444444444,
             "#bd3786"
            ],
            [
             0.5555555555555556,
             "#d8576b"
            ],
            [
             0.6666666666666666,
             "#ed7953"
            ],
            [
             0.7777777777777778,
             "#fb9f3a"
            ],
            [
             0.8888888888888888,
             "#fdca26"
            ],
            [
             1,
             "#f0f921"
            ]
           ],
           "sequentialminus": [
            [
             0,
             "#0d0887"
            ],
            [
             0.1111111111111111,
             "#46039f"
            ],
            [
             0.2222222222222222,
             "#7201a8"
            ],
            [
             0.3333333333333333,
             "#9c179e"
            ],
            [
             0.4444444444444444,
             "#bd3786"
            ],
            [
             0.5555555555555556,
             "#d8576b"
            ],
            [
             0.6666666666666666,
             "#ed7953"
            ],
            [
             0.7777777777777778,
             "#fb9f3a"
            ],
            [
             0.8888888888888888,
             "#fdca26"
            ],
            [
             1,
             "#f0f921"
            ]
           ]
          },
          "colorway": [
           "#636efa",
           "#EF553B",
           "#00cc96",
           "#ab63fa",
           "#FFA15A",
           "#19d3f3",
           "#FF6692",
           "#B6E880",
           "#FF97FF",
           "#FECB52"
          ],
          "font": {
           "color": "#2a3f5f"
          },
          "geo": {
           "bgcolor": "white",
           "lakecolor": "white",
           "landcolor": "#E5ECF6",
           "showlakes": true,
           "showland": true,
           "subunitcolor": "white"
          },
          "hoverlabel": {
           "align": "left"
          },
          "hovermode": "closest",
          "mapbox": {
           "style": "light"
          },
          "paper_bgcolor": "white",
          "plot_bgcolor": "#E5ECF6",
          "polar": {
           "angularaxis": {
            "gridcolor": "white",
            "linecolor": "white",
            "ticks": ""
           },
           "bgcolor": "#E5ECF6",
           "radialaxis": {
            "gridcolor": "white",
            "linecolor": "white",
            "ticks": ""
           }
          },
          "scene": {
           "xaxis": {
            "backgroundcolor": "#E5ECF6",
            "gridcolor": "white",
            "gridwidth": 2,
            "linecolor": "white",
            "showbackground": true,
            "ticks": "",
            "zerolinecolor": "white"
           },
           "yaxis": {
            "backgroundcolor": "#E5ECF6",
            "gridcolor": "white",
            "gridwidth": 2,
            "linecolor": "white",
            "showbackground": true,
            "ticks": "",
            "zerolinecolor": "white"
           },
           "zaxis": {
            "backgroundcolor": "#E5ECF6",
            "gridcolor": "white",
            "gridwidth": 2,
            "linecolor": "white",
            "showbackground": true,
            "ticks": "",
            "zerolinecolor": "white"
           }
          },
          "shapedefaults": {
           "line": {
            "color": "#2a3f5f"
           }
          },
          "ternary": {
           "aaxis": {
            "gridcolor": "white",
            "linecolor": "white",
            "ticks": ""
           },
           "baxis": {
            "gridcolor": "white",
            "linecolor": "white",
            "ticks": ""
           },
           "bgcolor": "#E5ECF6",
           "caxis": {
            "gridcolor": "white",
            "linecolor": "white",
            "ticks": ""
           }
          },
          "title": {
           "x": 0.05
          },
          "xaxis": {
           "automargin": true,
           "gridcolor": "white",
           "linecolor": "white",
           "ticks": "",
           "title": {
            "standoff": 15
           },
           "zerolinecolor": "white",
           "zerolinewidth": 2
          },
          "yaxis": {
           "automargin": true,
           "gridcolor": "white",
           "linecolor": "white",
           "ticks": "",
           "title": {
            "standoff": 15
           },
           "zerolinecolor": "white",
           "zerolinewidth": 2
          }
         }
        },
        "xaxis": {
         "anchor": "y",
         "domain": [
          0,
          1
         ],
         "title": {
          "text": "python_version"
         }
        },
        "yaxis": {
         "anchor": "x",
         "domain": [
          0,
          1
         ],
         "title": {
          "text": "value"
         }
        }
       }
      }
     },
     "metadata": {},
     "output_type": "display_data"
    },
    {
     "data": {
      "text/plain": [
       "'test1.html'"
      ]
     },
     "execution_count": 76,
     "metadata": {},
     "output_type": "execute_result"
    }
   ],
   "source": [
    "fig = px.line(df, x=\"python_version\", y=[\"time_elapsed\",\"Avg_MHz\",\"Busy%\",\"Bzy_MHz\",\"IPC\",\"IRQ\",\"POLL\"], text=pd.to_datetime(df['release_date']).dt.year)\n",
    "fig.update_traces(textposition=\"bottom right\")\n",
    "fig.show()\n",
    "plotly.offline.plot(fig, filename='test1.html')"
   ]
  },
  {
   "attachments": {},
   "cell_type": "markdown",
   "metadata": {},
   "source": [
    "### More parameters through different Python versions"
   ]
  },
  {
   "cell_type": "code",
   "execution_count": 77,
   "metadata": {},
   "outputs": [
    {
     "data": {
      "application/vnd.plotly.v1+json": {
       "config": {
        "plotlyServerURL": "https://plot.ly"
       },
       "data": [
        {
         "hovertemplate": "variable=C1<br>python_version=%{x}<br>value=%{y}<br>text=%{text}<extra></extra>",
         "legendgroup": "C1",
         "line": {
          "color": "#636efa",
          "dash": "solid"
         },
         "marker": {
          "symbol": "circle"
         },
         "mode": "text+lines+markers",
         "name": "C1",
         "orientation": "v",
         "showlegend": true,
         "text": [
          2011,
          2020,
          2009,
          2019,
          2020,
          2021,
          2022,
          2022,
          2022,
          2023,
          2023,
          2023,
          2023
         ],
         "textposition": "bottom right",
         "type": "scatter",
         "x": [
          "2.5.6",
          "2.7.18",
          "3.0.1",
          "3.4.10",
          "3.5.10",
          "3.6.15",
          "3.7.16",
          "3.8.16",
          "3.9.16",
          "3.10.11",
          "3.11.3",
          "3.12.0b1",
          "3.13.0a0"
         ],
         "xaxis": "x",
         "y": [
          1.0000000000000004,
          0.3381771829190572,
          0.49216061185468485,
          0.31051625239005753,
          0.20968769917144714,
          0.12619502868068855,
          0.20662842574888485,
          0.024346717654557537,
          0.48451242829827956,
          0,
          0.3762906309751437,
          0.7648183556405352,
          0.42115997450605525
         ],
         "yaxis": "y"
        },
        {
         "hovertemplate": "variable=C1E<br>python_version=%{x}<br>value=%{y}<br>text=%{text}<extra></extra>",
         "legendgroup": "C1E",
         "line": {
          "color": "#EF553B",
          "dash": "solid"
         },
         "marker": {
          "symbol": "circle"
         },
         "mode": "text+lines+markers",
         "name": "C1E",
         "orientation": "v",
         "showlegend": true,
         "text": [
          2011,
          2020,
          2009,
          2019,
          2020,
          2021,
          2022,
          2022,
          2022,
          2023,
          2023,
          2023,
          2023
         ],
         "textposition": "bottom right",
         "type": "scatter",
         "x": [
          "2.5.6",
          "2.7.18",
          "3.0.1",
          "3.4.10",
          "3.5.10",
          "3.6.15",
          "3.7.16",
          "3.8.16",
          "3.9.16",
          "3.10.11",
          "3.11.3",
          "3.12.0b1",
          "3.13.0a0"
         ],
         "xaxis": "x",
         "y": [
          0,
          0.15065722952477234,
          0.9587967644084938,
          0.7176440849342773,
          1,
          0.7649140546006068,
          0.4994944388270981,
          0.571284125379171,
          0.5829120323559152,
          0.9120323559150658,
          0.6349848331648134,
          0.6713852376137512,
          0.4433771486349851
         ],
         "yaxis": "y"
        },
        {
         "hovertemplate": "variable=C3<br>python_version=%{x}<br>value=%{y}<br>text=%{text}<extra></extra>",
         "legendgroup": "C3",
         "line": {
          "color": "#00cc96",
          "dash": "solid"
         },
         "marker": {
          "symbol": "circle"
         },
         "mode": "text+lines+markers",
         "name": "C3",
         "orientation": "v",
         "showlegend": true,
         "text": [
          2011,
          2020,
          2009,
          2019,
          2020,
          2021,
          2022,
          2022,
          2022,
          2023,
          2023,
          2023,
          2023
         ],
         "textposition": "bottom right",
         "type": "scatter",
         "x": [
          "2.5.6",
          "2.7.18",
          "3.0.1",
          "3.4.10",
          "3.5.10",
          "3.6.15",
          "3.7.16",
          "3.8.16",
          "3.9.16",
          "3.10.11",
          "3.11.3",
          "3.12.0b1",
          "3.13.0a0"
         ],
         "xaxis": "x",
         "y": [
          0.1651982378854625,
          0.5282672540381793,
          0.7481644640234949,
          0.7856093979441997,
          0.7426578560939795,
          0.44676945668135104,
          0.33590308370044053,
          0.6666666666666666,
          0,
          1,
          0.21732745961820843,
          0.12187958883994121,
          0.07819383259911883
         ],
         "yaxis": "y"
        },
        {
         "hovertemplate": "variable=C6<br>python_version=%{x}<br>value=%{y}<br>text=%{text}<extra></extra>",
         "legendgroup": "C6",
         "line": {
          "color": "#ab63fa",
          "dash": "solid"
         },
         "marker": {
          "symbol": "circle"
         },
         "mode": "text+lines+markers",
         "name": "C6",
         "orientation": "v",
         "showlegend": true,
         "text": [
          2011,
          2020,
          2009,
          2019,
          2020,
          2021,
          2022,
          2022,
          2022,
          2023,
          2023,
          2023,
          2023
         ],
         "textposition": "bottom right",
         "type": "scatter",
         "x": [
          "2.5.6",
          "2.7.18",
          "3.0.1",
          "3.4.10",
          "3.5.10",
          "3.6.15",
          "3.7.16",
          "3.8.16",
          "3.9.16",
          "3.10.11",
          "3.11.3",
          "3.12.0b1",
          "3.13.0a0"
         ],
         "xaxis": "x",
         "y": [
          1,
          0.8875479978058147,
          0.7092704333516182,
          0.5965441579813493,
          0.8129456939111357,
          0.27015907844212844,
          0.23944048272078994,
          0.37054306088864514,
          0.03510696653867251,
          0.771256171146462,
          0.1138233680746023,
          0.19637959407569944,
          0
         ],
         "yaxis": "y"
        },
        {
         "hovertemplate": "variable=C7s<br>python_version=%{x}<br>value=%{y}<br>text=%{text}<extra></extra>",
         "legendgroup": "C7s",
         "line": {
          "color": "#FFA15A",
          "dash": "solid"
         },
         "marker": {
          "symbol": "circle"
         },
         "mode": "text+lines+markers",
         "name": "C7s",
         "orientation": "v",
         "showlegend": true,
         "text": [
          2011,
          2020,
          2009,
          2019,
          2020,
          2021,
          2022,
          2022,
          2022,
          2023,
          2023,
          2023,
          2023
         ],
         "textposition": "bottom right",
         "type": "scatter",
         "x": [
          "2.5.6",
          "2.7.18",
          "3.0.1",
          "3.4.10",
          "3.5.10",
          "3.6.15",
          "3.7.16",
          "3.8.16",
          "3.9.16",
          "3.10.11",
          "3.11.3",
          "3.12.0b1",
          "3.13.0a0"
         ],
         "xaxis": "x",
         "y": [
          0.5365853658536586,
          0.17073170731707327,
          1.0000000000000002,
          0.5365853658536586,
          0.9268292682926831,
          0.26829268292682934,
          0.31707317073170743,
          0.14634146341463422,
          0.2439024390243903,
          0.5609756097560978,
          0,
          0.3658536585365854,
          0.04878048780487815
         ],
         "yaxis": "y"
        },
        {
         "hovertemplate": "variable=C8<br>python_version=%{x}<br>value=%{y}<br>text=%{text}<extra></extra>",
         "legendgroup": "C8",
         "line": {
          "color": "#19d3f3",
          "dash": "solid"
         },
         "marker": {
          "symbol": "circle"
         },
         "mode": "text+lines+markers",
         "name": "C8",
         "orientation": "v",
         "showlegend": true,
         "text": [
          2011,
          2020,
          2009,
          2019,
          2020,
          2021,
          2022,
          2022,
          2022,
          2023,
          2023,
          2023,
          2023
         ],
         "textposition": "bottom right",
         "type": "scatter",
         "x": [
          "2.5.6",
          "2.7.18",
          "3.0.1",
          "3.4.10",
          "3.5.10",
          "3.6.15",
          "3.7.16",
          "3.8.16",
          "3.9.16",
          "3.10.11",
          "3.11.3",
          "3.12.0b1",
          "3.13.0a0"
         ],
         "xaxis": "x",
         "y": [
          0.9999999999999998,
          0.6716403354788374,
          0.5298420128730252,
          0.10717768675638761,
          0.41993368441583767,
          0.17339574800078017,
          0.13897015798712675,
          0.05324751316559384,
          0.04729861517456602,
          0.22527794031597415,
          0.07353228008582025,
          0.10191144919055972,
          0
         ],
         "yaxis": "y"
        }
       ],
       "layout": {
        "legend": {
         "title": {
          "text": "variable"
         },
         "tracegroupgap": 0
        },
        "margin": {
         "t": 60
        },
        "template": {
         "data": {
          "bar": [
           {
            "error_x": {
             "color": "#2a3f5f"
            },
            "error_y": {
             "color": "#2a3f5f"
            },
            "marker": {
             "line": {
              "color": "#E5ECF6",
              "width": 0.5
             },
             "pattern": {
              "fillmode": "overlay",
              "size": 10,
              "solidity": 0.2
             }
            },
            "type": "bar"
           }
          ],
          "barpolar": [
           {
            "marker": {
             "line": {
              "color": "#E5ECF6",
              "width": 0.5
             },
             "pattern": {
              "fillmode": "overlay",
              "size": 10,
              "solidity": 0.2
             }
            },
            "type": "barpolar"
           }
          ],
          "carpet": [
           {
            "aaxis": {
             "endlinecolor": "#2a3f5f",
             "gridcolor": "white",
             "linecolor": "white",
             "minorgridcolor": "white",
             "startlinecolor": "#2a3f5f"
            },
            "baxis": {
             "endlinecolor": "#2a3f5f",
             "gridcolor": "white",
             "linecolor": "white",
             "minorgridcolor": "white",
             "startlinecolor": "#2a3f5f"
            },
            "type": "carpet"
           }
          ],
          "choropleth": [
           {
            "colorbar": {
             "outlinewidth": 0,
             "ticks": ""
            },
            "type": "choropleth"
           }
          ],
          "contour": [
           {
            "colorbar": {
             "outlinewidth": 0,
             "ticks": ""
            },
            "colorscale": [
             [
              0,
              "#0d0887"
             ],
             [
              0.1111111111111111,
              "#46039f"
             ],
             [
              0.2222222222222222,
              "#7201a8"
             ],
             [
              0.3333333333333333,
              "#9c179e"
             ],
             [
              0.4444444444444444,
              "#bd3786"
             ],
             [
              0.5555555555555556,
              "#d8576b"
             ],
             [
              0.6666666666666666,
              "#ed7953"
             ],
             [
              0.7777777777777778,
              "#fb9f3a"
             ],
             [
              0.8888888888888888,
              "#fdca26"
             ],
             [
              1,
              "#f0f921"
             ]
            ],
            "type": "contour"
           }
          ],
          "contourcarpet": [
           {
            "colorbar": {
             "outlinewidth": 0,
             "ticks": ""
            },
            "type": "contourcarpet"
           }
          ],
          "heatmap": [
           {
            "colorbar": {
             "outlinewidth": 0,
             "ticks": ""
            },
            "colorscale": [
             [
              0,
              "#0d0887"
             ],
             [
              0.1111111111111111,
              "#46039f"
             ],
             [
              0.2222222222222222,
              "#7201a8"
             ],
             [
              0.3333333333333333,
              "#9c179e"
             ],
             [
              0.4444444444444444,
              "#bd3786"
             ],
             [
              0.5555555555555556,
              "#d8576b"
             ],
             [
              0.6666666666666666,
              "#ed7953"
             ],
             [
              0.7777777777777778,
              "#fb9f3a"
             ],
             [
              0.8888888888888888,
              "#fdca26"
             ],
             [
              1,
              "#f0f921"
             ]
            ],
            "type": "heatmap"
           }
          ],
          "heatmapgl": [
           {
            "colorbar": {
             "outlinewidth": 0,
             "ticks": ""
            },
            "colorscale": [
             [
              0,
              "#0d0887"
             ],
             [
              0.1111111111111111,
              "#46039f"
             ],
             [
              0.2222222222222222,
              "#7201a8"
             ],
             [
              0.3333333333333333,
              "#9c179e"
             ],
             [
              0.4444444444444444,
              "#bd3786"
             ],
             [
              0.5555555555555556,
              "#d8576b"
             ],
             [
              0.6666666666666666,
              "#ed7953"
             ],
             [
              0.7777777777777778,
              "#fb9f3a"
             ],
             [
              0.8888888888888888,
              "#fdca26"
             ],
             [
              1,
              "#f0f921"
             ]
            ],
            "type": "heatmapgl"
           }
          ],
          "histogram": [
           {
            "marker": {
             "pattern": {
              "fillmode": "overlay",
              "size": 10,
              "solidity": 0.2
             }
            },
            "type": "histogram"
           }
          ],
          "histogram2d": [
           {
            "colorbar": {
             "outlinewidth": 0,
             "ticks": ""
            },
            "colorscale": [
             [
              0,
              "#0d0887"
             ],
             [
              0.1111111111111111,
              "#46039f"
             ],
             [
              0.2222222222222222,
              "#7201a8"
             ],
             [
              0.3333333333333333,
              "#9c179e"
             ],
             [
              0.4444444444444444,
              "#bd3786"
             ],
             [
              0.5555555555555556,
              "#d8576b"
             ],
             [
              0.6666666666666666,
              "#ed7953"
             ],
             [
              0.7777777777777778,
              "#fb9f3a"
             ],
             [
              0.8888888888888888,
              "#fdca26"
             ],
             [
              1,
              "#f0f921"
             ]
            ],
            "type": "histogram2d"
           }
          ],
          "histogram2dcontour": [
           {
            "colorbar": {
             "outlinewidth": 0,
             "ticks": ""
            },
            "colorscale": [
             [
              0,
              "#0d0887"
             ],
             [
              0.1111111111111111,
              "#46039f"
             ],
             [
              0.2222222222222222,
              "#7201a8"
             ],
             [
              0.3333333333333333,
              "#9c179e"
             ],
             [
              0.4444444444444444,
              "#bd3786"
             ],
             [
              0.5555555555555556,
              "#d8576b"
             ],
             [
              0.6666666666666666,
              "#ed7953"
             ],
             [
              0.7777777777777778,
              "#fb9f3a"
             ],
             [
              0.8888888888888888,
              "#fdca26"
             ],
             [
              1,
              "#f0f921"
             ]
            ],
            "type": "histogram2dcontour"
           }
          ],
          "mesh3d": [
           {
            "colorbar": {
             "outlinewidth": 0,
             "ticks": ""
            },
            "type": "mesh3d"
           }
          ],
          "parcoords": [
           {
            "line": {
             "colorbar": {
              "outlinewidth": 0,
              "ticks": ""
             }
            },
            "type": "parcoords"
           }
          ],
          "pie": [
           {
            "automargin": true,
            "type": "pie"
           }
          ],
          "scatter": [
           {
            "fillpattern": {
             "fillmode": "overlay",
             "size": 10,
             "solidity": 0.2
            },
            "type": "scatter"
           }
          ],
          "scatter3d": [
           {
            "line": {
             "colorbar": {
              "outlinewidth": 0,
              "ticks": ""
             }
            },
            "marker": {
             "colorbar": {
              "outlinewidth": 0,
              "ticks": ""
             }
            },
            "type": "scatter3d"
           }
          ],
          "scattercarpet": [
           {
            "marker": {
             "colorbar": {
              "outlinewidth": 0,
              "ticks": ""
             }
            },
            "type": "scattercarpet"
           }
          ],
          "scattergeo": [
           {
            "marker": {
             "colorbar": {
              "outlinewidth": 0,
              "ticks": ""
             }
            },
            "type": "scattergeo"
           }
          ],
          "scattergl": [
           {
            "marker": {
             "colorbar": {
              "outlinewidth": 0,
              "ticks": ""
             }
            },
            "type": "scattergl"
           }
          ],
          "scattermapbox": [
           {
            "marker": {
             "colorbar": {
              "outlinewidth": 0,
              "ticks": ""
             }
            },
            "type": "scattermapbox"
           }
          ],
          "scatterpolar": [
           {
            "marker": {
             "colorbar": {
              "outlinewidth": 0,
              "ticks": ""
             }
            },
            "type": "scatterpolar"
           }
          ],
          "scatterpolargl": [
           {
            "marker": {
             "colorbar": {
              "outlinewidth": 0,
              "ticks": ""
             }
            },
            "type": "scatterpolargl"
           }
          ],
          "scatterternary": [
           {
            "marker": {
             "colorbar": {
              "outlinewidth": 0,
              "ticks": ""
             }
            },
            "type": "scatterternary"
           }
          ],
          "surface": [
           {
            "colorbar": {
             "outlinewidth": 0,
             "ticks": ""
            },
            "colorscale": [
             [
              0,
              "#0d0887"
             ],
             [
              0.1111111111111111,
              "#46039f"
             ],
             [
              0.2222222222222222,
              "#7201a8"
             ],
             [
              0.3333333333333333,
              "#9c179e"
             ],
             [
              0.4444444444444444,
              "#bd3786"
             ],
             [
              0.5555555555555556,
              "#d8576b"
             ],
             [
              0.6666666666666666,
              "#ed7953"
             ],
             [
              0.7777777777777778,
              "#fb9f3a"
             ],
             [
              0.8888888888888888,
              "#fdca26"
             ],
             [
              1,
              "#f0f921"
             ]
            ],
            "type": "surface"
           }
          ],
          "table": [
           {
            "cells": {
             "fill": {
              "color": "#EBF0F8"
             },
             "line": {
              "color": "white"
             }
            },
            "header": {
             "fill": {
              "color": "#C8D4E3"
             },
             "line": {
              "color": "white"
             }
            },
            "type": "table"
           }
          ]
         },
         "layout": {
          "annotationdefaults": {
           "arrowcolor": "#2a3f5f",
           "arrowhead": 0,
           "arrowwidth": 1
          },
          "autotypenumbers": "strict",
          "coloraxis": {
           "colorbar": {
            "outlinewidth": 0,
            "ticks": ""
           }
          },
          "colorscale": {
           "diverging": [
            [
             0,
             "#8e0152"
            ],
            [
             0.1,
             "#c51b7d"
            ],
            [
             0.2,
             "#de77ae"
            ],
            [
             0.3,
             "#f1b6da"
            ],
            [
             0.4,
             "#fde0ef"
            ],
            [
             0.5,
             "#f7f7f7"
            ],
            [
             0.6,
             "#e6f5d0"
            ],
            [
             0.7,
             "#b8e186"
            ],
            [
             0.8,
             "#7fbc41"
            ],
            [
             0.9,
             "#4d9221"
            ],
            [
             1,
             "#276419"
            ]
           ],
           "sequential": [
            [
             0,
             "#0d0887"
            ],
            [
             0.1111111111111111,
             "#46039f"
            ],
            [
             0.2222222222222222,
             "#7201a8"
            ],
            [
             0.3333333333333333,
             "#9c179e"
            ],
            [
             0.4444444444444444,
             "#bd3786"
            ],
            [
             0.5555555555555556,
             "#d8576b"
            ],
            [
             0.6666666666666666,
             "#ed7953"
            ],
            [
             0.7777777777777778,
             "#fb9f3a"
            ],
            [
             0.8888888888888888,
             "#fdca26"
            ],
            [
             1,
             "#f0f921"
            ]
           ],
           "sequentialminus": [
            [
             0,
             "#0d0887"
            ],
            [
             0.1111111111111111,
             "#46039f"
            ],
            [
             0.2222222222222222,
             "#7201a8"
            ],
            [
             0.3333333333333333,
             "#9c179e"
            ],
            [
             0.4444444444444444,
             "#bd3786"
            ],
            [
             0.5555555555555556,
             "#d8576b"
            ],
            [
             0.6666666666666666,
             "#ed7953"
            ],
            [
             0.7777777777777778,
             "#fb9f3a"
            ],
            [
             0.8888888888888888,
             "#fdca26"
            ],
            [
             1,
             "#f0f921"
            ]
           ]
          },
          "colorway": [
           "#636efa",
           "#EF553B",
           "#00cc96",
           "#ab63fa",
           "#FFA15A",
           "#19d3f3",
           "#FF6692",
           "#B6E880",
           "#FF97FF",
           "#FECB52"
          ],
          "font": {
           "color": "#2a3f5f"
          },
          "geo": {
           "bgcolor": "white",
           "lakecolor": "white",
           "landcolor": "#E5ECF6",
           "showlakes": true,
           "showland": true,
           "subunitcolor": "white"
          },
          "hoverlabel": {
           "align": "left"
          },
          "hovermode": "closest",
          "mapbox": {
           "style": "light"
          },
          "paper_bgcolor": "white",
          "plot_bgcolor": "#E5ECF6",
          "polar": {
           "angularaxis": {
            "gridcolor": "white",
            "linecolor": "white",
            "ticks": ""
           },
           "bgcolor": "#E5ECF6",
           "radialaxis": {
            "gridcolor": "white",
            "linecolor": "white",
            "ticks": ""
           }
          },
          "scene": {
           "xaxis": {
            "backgroundcolor": "#E5ECF6",
            "gridcolor": "white",
            "gridwidth": 2,
            "linecolor": "white",
            "showbackground": true,
            "ticks": "",
            "zerolinecolor": "white"
           },
           "yaxis": {
            "backgroundcolor": "#E5ECF6",
            "gridcolor": "white",
            "gridwidth": 2,
            "linecolor": "white",
            "showbackground": true,
            "ticks": "",
            "zerolinecolor": "white"
           },
           "zaxis": {
            "backgroundcolor": "#E5ECF6",
            "gridcolor": "white",
            "gridwidth": 2,
            "linecolor": "white",
            "showbackground": true,
            "ticks": "",
            "zerolinecolor": "white"
           }
          },
          "shapedefaults": {
           "line": {
            "color": "#2a3f5f"
           }
          },
          "ternary": {
           "aaxis": {
            "gridcolor": "white",
            "linecolor": "white",
            "ticks": ""
           },
           "baxis": {
            "gridcolor": "white",
            "linecolor": "white",
            "ticks": ""
           },
           "bgcolor": "#E5ECF6",
           "caxis": {
            "gridcolor": "white",
            "linecolor": "white",
            "ticks": ""
           }
          },
          "title": {
           "x": 0.05
          },
          "xaxis": {
           "automargin": true,
           "gridcolor": "white",
           "linecolor": "white",
           "ticks": "",
           "title": {
            "standoff": 15
           },
           "zerolinecolor": "white",
           "zerolinewidth": 2
          },
          "yaxis": {
           "automargin": true,
           "gridcolor": "white",
           "linecolor": "white",
           "ticks": "",
           "title": {
            "standoff": 15
           },
           "zerolinecolor": "white",
           "zerolinewidth": 2
          }
         }
        },
        "xaxis": {
         "anchor": "y",
         "domain": [
          0,
          1
         ],
         "title": {
          "text": "python_version"
         }
        },
        "yaxis": {
         "anchor": "x",
         "domain": [
          0,
          1
         ],
         "title": {
          "text": "value"
         }
        }
       }
      }
     },
     "metadata": {},
     "output_type": "display_data"
    }
   ],
   "source": [
    "fig = px.line(df, x=\"python_version\", y=[\"C1\",\"C1E\",\"C3\",\"C6\",\"C7s\",\"C8\"], text=pd.to_datetime(df['release_date']).dt.year)\n",
    "fig.update_traces(textposition=\"bottom right\")\n",
    "fig.show()"
   ]
  },
  {
   "attachments": {},
   "cell_type": "markdown",
   "metadata": {},
   "source": [
    "### Temperature through different Python versions"
   ]
  },
  {
   "cell_type": "code",
   "execution_count": 78,
   "metadata": {},
   "outputs": [
    {
     "data": {
      "application/vnd.plotly.v1+json": {
       "config": {
        "plotlyServerURL": "https://plot.ly"
       },
       "data": [
        {
         "hovertemplate": "variable=CoreTmp<br>python_version=%{x}<br>value=%{y}<br>text=%{text}<extra></extra>",
         "legendgroup": "CoreTmp",
         "line": {
          "color": "#636efa",
          "dash": "solid"
         },
         "marker": {
          "symbol": "circle"
         },
         "mode": "text+lines+markers",
         "name": "CoreTmp",
         "orientation": "v",
         "showlegend": true,
         "text": [
          2011,
          2020,
          2009,
          2019,
          2020,
          2021,
          2022,
          2022,
          2022,
          2023,
          2023,
          2023,
          2023
         ],
         "textposition": "bottom right",
         "type": "scatter",
         "x": [
          "2.5.6",
          "2.7.18",
          "3.0.1",
          "3.4.10",
          "3.5.10",
          "3.6.15",
          "3.7.16",
          "3.8.16",
          "3.9.16",
          "3.10.11",
          "3.11.3",
          "3.12.0b1",
          "3.13.0a0"
         ],
         "xaxis": "x",
         "y": [
          0.7878787878787881,
          1,
          0.15151515151515138,
          0.03636363636363704,
          0.030303030303030276,
          0.012121212121212643,
          0.006060606060606766,
          0.024242424242425287,
          0.03636363636363704,
          0.030303030303030276,
          0,
          0.030303030303030276,
          0.05454545454545556
         ],
         "yaxis": "y"
        },
        {
         "hovertemplate": "variable=PkgTmp<br>python_version=%{x}<br>value=%{y}<br>text=%{text}<extra></extra>",
         "legendgroup": "PkgTmp",
         "line": {
          "color": "#EF553B",
          "dash": "solid"
         },
         "marker": {
          "symbol": "circle"
         },
         "mode": "text+lines+markers",
         "name": "PkgTmp",
         "orientation": "v",
         "showlegend": true,
         "text": [
          2011,
          2020,
          2009,
          2019,
          2020,
          2021,
          2022,
          2022,
          2022,
          2023,
          2023,
          2023,
          2023
         ],
         "textposition": "bottom right",
         "type": "scatter",
         "x": [
          "2.5.6",
          "2.7.18",
          "3.0.1",
          "3.4.10",
          "3.5.10",
          "3.6.15",
          "3.7.16",
          "3.8.16",
          "3.9.16",
          "3.10.11",
          "3.11.3",
          "3.12.0b1",
          "3.13.0a0"
         ],
         "xaxis": "x",
         "y": [
          0.7771084337349405,
          1,
          0.1626506024096388,
          0.04819277108433706,
          0.042168674698795705,
          0.05421686746988019,
          0.012048192771084487,
          0.06024096385542155,
          0.05421686746988019,
          0.024096385542168974,
          0,
          0.024096385542168974,
          0.06024096385542155
         ],
         "yaxis": "y"
        }
       ],
       "layout": {
        "legend": {
         "title": {
          "text": "variable"
         },
         "tracegroupgap": 0
        },
        "margin": {
         "t": 60
        },
        "template": {
         "data": {
          "bar": [
           {
            "error_x": {
             "color": "#2a3f5f"
            },
            "error_y": {
             "color": "#2a3f5f"
            },
            "marker": {
             "line": {
              "color": "#E5ECF6",
              "width": 0.5
             },
             "pattern": {
              "fillmode": "overlay",
              "size": 10,
              "solidity": 0.2
             }
            },
            "type": "bar"
           }
          ],
          "barpolar": [
           {
            "marker": {
             "line": {
              "color": "#E5ECF6",
              "width": 0.5
             },
             "pattern": {
              "fillmode": "overlay",
              "size": 10,
              "solidity": 0.2
             }
            },
            "type": "barpolar"
           }
          ],
          "carpet": [
           {
            "aaxis": {
             "endlinecolor": "#2a3f5f",
             "gridcolor": "white",
             "linecolor": "white",
             "minorgridcolor": "white",
             "startlinecolor": "#2a3f5f"
            },
            "baxis": {
             "endlinecolor": "#2a3f5f",
             "gridcolor": "white",
             "linecolor": "white",
             "minorgridcolor": "white",
             "startlinecolor": "#2a3f5f"
            },
            "type": "carpet"
           }
          ],
          "choropleth": [
           {
            "colorbar": {
             "outlinewidth": 0,
             "ticks": ""
            },
            "type": "choropleth"
           }
          ],
          "contour": [
           {
            "colorbar": {
             "outlinewidth": 0,
             "ticks": ""
            },
            "colorscale": [
             [
              0,
              "#0d0887"
             ],
             [
              0.1111111111111111,
              "#46039f"
             ],
             [
              0.2222222222222222,
              "#7201a8"
             ],
             [
              0.3333333333333333,
              "#9c179e"
             ],
             [
              0.4444444444444444,
              "#bd3786"
             ],
             [
              0.5555555555555556,
              "#d8576b"
             ],
             [
              0.6666666666666666,
              "#ed7953"
             ],
             [
              0.7777777777777778,
              "#fb9f3a"
             ],
             [
              0.8888888888888888,
              "#fdca26"
             ],
             [
              1,
              "#f0f921"
             ]
            ],
            "type": "contour"
           }
          ],
          "contourcarpet": [
           {
            "colorbar": {
             "outlinewidth": 0,
             "ticks": ""
            },
            "type": "contourcarpet"
           }
          ],
          "heatmap": [
           {
            "colorbar": {
             "outlinewidth": 0,
             "ticks": ""
            },
            "colorscale": [
             [
              0,
              "#0d0887"
             ],
             [
              0.1111111111111111,
              "#46039f"
             ],
             [
              0.2222222222222222,
              "#7201a8"
             ],
             [
              0.3333333333333333,
              "#9c179e"
             ],
             [
              0.4444444444444444,
              "#bd3786"
             ],
             [
              0.5555555555555556,
              "#d8576b"
             ],
             [
              0.6666666666666666,
              "#ed7953"
             ],
             [
              0.7777777777777778,
              "#fb9f3a"
             ],
             [
              0.8888888888888888,
              "#fdca26"
             ],
             [
              1,
              "#f0f921"
             ]
            ],
            "type": "heatmap"
           }
          ],
          "heatmapgl": [
           {
            "colorbar": {
             "outlinewidth": 0,
             "ticks": ""
            },
            "colorscale": [
             [
              0,
              "#0d0887"
             ],
             [
              0.1111111111111111,
              "#46039f"
             ],
             [
              0.2222222222222222,
              "#7201a8"
             ],
             [
              0.3333333333333333,
              "#9c179e"
             ],
             [
              0.4444444444444444,
              "#bd3786"
             ],
             [
              0.5555555555555556,
              "#d8576b"
             ],
             [
              0.6666666666666666,
              "#ed7953"
             ],
             [
              0.7777777777777778,
              "#fb9f3a"
             ],
             [
              0.8888888888888888,
              "#fdca26"
             ],
             [
              1,
              "#f0f921"
             ]
            ],
            "type": "heatmapgl"
           }
          ],
          "histogram": [
           {
            "marker": {
             "pattern": {
              "fillmode": "overlay",
              "size": 10,
              "solidity": 0.2
             }
            },
            "type": "histogram"
           }
          ],
          "histogram2d": [
           {
            "colorbar": {
             "outlinewidth": 0,
             "ticks": ""
            },
            "colorscale": [
             [
              0,
              "#0d0887"
             ],
             [
              0.1111111111111111,
              "#46039f"
             ],
             [
              0.2222222222222222,
              "#7201a8"
             ],
             [
              0.3333333333333333,
              "#9c179e"
             ],
             [
              0.4444444444444444,
              "#bd3786"
             ],
             [
              0.5555555555555556,
              "#d8576b"
             ],
             [
              0.6666666666666666,
              "#ed7953"
             ],
             [
              0.7777777777777778,
              "#fb9f3a"
             ],
             [
              0.8888888888888888,
              "#fdca26"
             ],
             [
              1,
              "#f0f921"
             ]
            ],
            "type": "histogram2d"
           }
          ],
          "histogram2dcontour": [
           {
            "colorbar": {
             "outlinewidth": 0,
             "ticks": ""
            },
            "colorscale": [
             [
              0,
              "#0d0887"
             ],
             [
              0.1111111111111111,
              "#46039f"
             ],
             [
              0.2222222222222222,
              "#7201a8"
             ],
             [
              0.3333333333333333,
              "#9c179e"
             ],
             [
              0.4444444444444444,
              "#bd3786"
             ],
             [
              0.5555555555555556,
              "#d8576b"
             ],
             [
              0.6666666666666666,
              "#ed7953"
             ],
             [
              0.7777777777777778,
              "#fb9f3a"
             ],
             [
              0.8888888888888888,
              "#fdca26"
             ],
             [
              1,
              "#f0f921"
             ]
            ],
            "type": "histogram2dcontour"
           }
          ],
          "mesh3d": [
           {
            "colorbar": {
             "outlinewidth": 0,
             "ticks": ""
            },
            "type": "mesh3d"
           }
          ],
          "parcoords": [
           {
            "line": {
             "colorbar": {
              "outlinewidth": 0,
              "ticks": ""
             }
            },
            "type": "parcoords"
           }
          ],
          "pie": [
           {
            "automargin": true,
            "type": "pie"
           }
          ],
          "scatter": [
           {
            "fillpattern": {
             "fillmode": "overlay",
             "size": 10,
             "solidity": 0.2
            },
            "type": "scatter"
           }
          ],
          "scatter3d": [
           {
            "line": {
             "colorbar": {
              "outlinewidth": 0,
              "ticks": ""
             }
            },
            "marker": {
             "colorbar": {
              "outlinewidth": 0,
              "ticks": ""
             }
            },
            "type": "scatter3d"
           }
          ],
          "scattercarpet": [
           {
            "marker": {
             "colorbar": {
              "outlinewidth": 0,
              "ticks": ""
             }
            },
            "type": "scattercarpet"
           }
          ],
          "scattergeo": [
           {
            "marker": {
             "colorbar": {
              "outlinewidth": 0,
              "ticks": ""
             }
            },
            "type": "scattergeo"
           }
          ],
          "scattergl": [
           {
            "marker": {
             "colorbar": {
              "outlinewidth": 0,
              "ticks": ""
             }
            },
            "type": "scattergl"
           }
          ],
          "scattermapbox": [
           {
            "marker": {
             "colorbar": {
              "outlinewidth": 0,
              "ticks": ""
             }
            },
            "type": "scattermapbox"
           }
          ],
          "scatterpolar": [
           {
            "marker": {
             "colorbar": {
              "outlinewidth": 0,
              "ticks": ""
             }
            },
            "type": "scatterpolar"
           }
          ],
          "scatterpolargl": [
           {
            "marker": {
             "colorbar": {
              "outlinewidth": 0,
              "ticks": ""
             }
            },
            "type": "scatterpolargl"
           }
          ],
          "scatterternary": [
           {
            "marker": {
             "colorbar": {
              "outlinewidth": 0,
              "ticks": ""
             }
            },
            "type": "scatterternary"
           }
          ],
          "surface": [
           {
            "colorbar": {
             "outlinewidth": 0,
             "ticks": ""
            },
            "colorscale": [
             [
              0,
              "#0d0887"
             ],
             [
              0.1111111111111111,
              "#46039f"
             ],
             [
              0.2222222222222222,
              "#7201a8"
             ],
             [
              0.3333333333333333,
              "#9c179e"
             ],
             [
              0.4444444444444444,
              "#bd3786"
             ],
             [
              0.5555555555555556,
              "#d8576b"
             ],
             [
              0.6666666666666666,
              "#ed7953"
             ],
             [
              0.7777777777777778,
              "#fb9f3a"
             ],
             [
              0.8888888888888888,
              "#fdca26"
             ],
             [
              1,
              "#f0f921"
             ]
            ],
            "type": "surface"
           }
          ],
          "table": [
           {
            "cells": {
             "fill": {
              "color": "#EBF0F8"
             },
             "line": {
              "color": "white"
             }
            },
            "header": {
             "fill": {
              "color": "#C8D4E3"
             },
             "line": {
              "color": "white"
             }
            },
            "type": "table"
           }
          ]
         },
         "layout": {
          "annotationdefaults": {
           "arrowcolor": "#2a3f5f",
           "arrowhead": 0,
           "arrowwidth": 1
          },
          "autotypenumbers": "strict",
          "coloraxis": {
           "colorbar": {
            "outlinewidth": 0,
            "ticks": ""
           }
          },
          "colorscale": {
           "diverging": [
            [
             0,
             "#8e0152"
            ],
            [
             0.1,
             "#c51b7d"
            ],
            [
             0.2,
             "#de77ae"
            ],
            [
             0.3,
             "#f1b6da"
            ],
            [
             0.4,
             "#fde0ef"
            ],
            [
             0.5,
             "#f7f7f7"
            ],
            [
             0.6,
             "#e6f5d0"
            ],
            [
             0.7,
             "#b8e186"
            ],
            [
             0.8,
             "#7fbc41"
            ],
            [
             0.9,
             "#4d9221"
            ],
            [
             1,
             "#276419"
            ]
           ],
           "sequential": [
            [
             0,
             "#0d0887"
            ],
            [
             0.1111111111111111,
             "#46039f"
            ],
            [
             0.2222222222222222,
             "#7201a8"
            ],
            [
             0.3333333333333333,
             "#9c179e"
            ],
            [
             0.4444444444444444,
             "#bd3786"
            ],
            [
             0.5555555555555556,
             "#d8576b"
            ],
            [
             0.6666666666666666,
             "#ed7953"
            ],
            [
             0.7777777777777778,
             "#fb9f3a"
            ],
            [
             0.8888888888888888,
             "#fdca26"
            ],
            [
             1,
             "#f0f921"
            ]
           ],
           "sequentialminus": [
            [
             0,
             "#0d0887"
            ],
            [
             0.1111111111111111,
             "#46039f"
            ],
            [
             0.2222222222222222,
             "#7201a8"
            ],
            [
             0.3333333333333333,
             "#9c179e"
            ],
            [
             0.4444444444444444,
             "#bd3786"
            ],
            [
             0.5555555555555556,
             "#d8576b"
            ],
            [
             0.6666666666666666,
             "#ed7953"
            ],
            [
             0.7777777777777778,
             "#fb9f3a"
            ],
            [
             0.8888888888888888,
             "#fdca26"
            ],
            [
             1,
             "#f0f921"
            ]
           ]
          },
          "colorway": [
           "#636efa",
           "#EF553B",
           "#00cc96",
           "#ab63fa",
           "#FFA15A",
           "#19d3f3",
           "#FF6692",
           "#B6E880",
           "#FF97FF",
           "#FECB52"
          ],
          "font": {
           "color": "#2a3f5f"
          },
          "geo": {
           "bgcolor": "white",
           "lakecolor": "white",
           "landcolor": "#E5ECF6",
           "showlakes": true,
           "showland": true,
           "subunitcolor": "white"
          },
          "hoverlabel": {
           "align": "left"
          },
          "hovermode": "closest",
          "mapbox": {
           "style": "light"
          },
          "paper_bgcolor": "white",
          "plot_bgcolor": "#E5ECF6",
          "polar": {
           "angularaxis": {
            "gridcolor": "white",
            "linecolor": "white",
            "ticks": ""
           },
           "bgcolor": "#E5ECF6",
           "radialaxis": {
            "gridcolor": "white",
            "linecolor": "white",
            "ticks": ""
           }
          },
          "scene": {
           "xaxis": {
            "backgroundcolor": "#E5ECF6",
            "gridcolor": "white",
            "gridwidth": 2,
            "linecolor": "white",
            "showbackground": true,
            "ticks": "",
            "zerolinecolor": "white"
           },
           "yaxis": {
            "backgroundcolor": "#E5ECF6",
            "gridcolor": "white",
            "gridwidth": 2,
            "linecolor": "white",
            "showbackground": true,
            "ticks": "",
            "zerolinecolor": "white"
           },
           "zaxis": {
            "backgroundcolor": "#E5ECF6",
            "gridcolor": "white",
            "gridwidth": 2,
            "linecolor": "white",
            "showbackground": true,
            "ticks": "",
            "zerolinecolor": "white"
           }
          },
          "shapedefaults": {
           "line": {
            "color": "#2a3f5f"
           }
          },
          "ternary": {
           "aaxis": {
            "gridcolor": "white",
            "linecolor": "white",
            "ticks": ""
           },
           "baxis": {
            "gridcolor": "white",
            "linecolor": "white",
            "ticks": ""
           },
           "bgcolor": "#E5ECF6",
           "caxis": {
            "gridcolor": "white",
            "linecolor": "white",
            "ticks": ""
           }
          },
          "title": {
           "x": 0.05
          },
          "xaxis": {
           "automargin": true,
           "gridcolor": "white",
           "linecolor": "white",
           "ticks": "",
           "title": {
            "standoff": 15
           },
           "zerolinecolor": "white",
           "zerolinewidth": 2
          },
          "yaxis": {
           "automargin": true,
           "gridcolor": "white",
           "linecolor": "white",
           "ticks": "",
           "title": {
            "standoff": 15
           },
           "zerolinecolor": "white",
           "zerolinewidth": 2
          }
         }
        },
        "xaxis": {
         "anchor": "y",
         "domain": [
          0,
          1
         ],
         "title": {
          "text": "python_version"
         }
        },
        "yaxis": {
         "anchor": "x",
         "domain": [
          0,
          1
         ],
         "title": {
          "text": "value"
         }
        }
       }
      }
     },
     "metadata": {},
     "output_type": "display_data"
    }
   ],
   "source": [
    "fig = px.line(df, x=\"python_version\", y=[\"CoreTmp\",\"PkgTmp\"], text=pd.to_datetime(df['release_date']).dt.year)\n",
    "fig.update_traces(textposition=\"bottom right\")\n",
    "fig.show()"
   ]
  },
  {
   "attachments": {},
   "cell_type": "markdown",
   "metadata": {},
   "source": [
    "### More parameters through different Python versions"
   ]
  },
  {
   "cell_type": "code",
   "execution_count": 79,
   "metadata": {},
   "outputs": [
    {
     "data": {
      "application/vnd.plotly.v1+json": {
       "config": {
        "plotlyServerURL": "https://plot.ly"
       },
       "data": [
        {
         "hovertemplate": "variable=GFX%rc6<br>python_version=%{x}<br>value=%{y}<br>text=%{text}<extra></extra>",
         "legendgroup": "GFX%rc6",
         "line": {
          "color": "#636efa",
          "dash": "solid"
         },
         "marker": {
          "symbol": "circle"
         },
         "mode": "text+lines+markers",
         "name": "GFX%rc6",
         "orientation": "v",
         "showlegend": true,
         "text": [
          2011,
          2020,
          2009,
          2019,
          2020,
          2021,
          2022,
          2022,
          2022,
          2023,
          2023,
          2023,
          2023
         ],
         "textposition": "bottom right",
         "type": "scatter",
         "x": [
          "2.5.6",
          "2.7.18",
          "3.0.1",
          "3.4.10",
          "3.5.10",
          "3.6.15",
          "3.7.16",
          "3.8.16",
          "3.9.16",
          "3.10.11",
          "3.11.3",
          "3.12.0b1",
          "3.13.0a0"
         ],
         "xaxis": "x",
         "y": [
          1,
          0.33333333333337123,
          0.5,
          0.24999999999994316,
          0.24999999999994316,
          0.20833333333331439,
          0.5,
          0,
          0.45833333333337123,
          0.16666666666662877,
          0.45833333333337123,
          0.33333333333337123,
          0.33333333333337123
         ],
         "yaxis": "y"
        },
        {
         "hovertemplate": "variable=GFXMHz<br>python_version=%{x}<br>value=%{y}<br>text=%{text}<extra></extra>",
         "legendgroup": "GFXMHz",
         "line": {
          "color": "#EF553B",
          "dash": "solid"
         },
         "marker": {
          "symbol": "circle"
         },
         "mode": "text+lines+markers",
         "name": "GFXMHz",
         "orientation": "v",
         "showlegend": true,
         "text": [
          2011,
          2020,
          2009,
          2019,
          2020,
          2021,
          2022,
          2022,
          2022,
          2023,
          2023,
          2023,
          2023
         ],
         "textposition": "bottom right",
         "type": "scatter",
         "x": [
          "2.5.6",
          "2.7.18",
          "3.0.1",
          "3.4.10",
          "3.5.10",
          "3.6.15",
          "3.7.16",
          "3.8.16",
          "3.9.16",
          "3.10.11",
          "3.11.3",
          "3.12.0b1",
          "3.13.0a0"
         ],
         "xaxis": "x",
         "y": [
          0,
          0,
          0,
          0,
          0,
          0,
          0,
          0,
          0,
          0,
          0,
          0,
          0
         ],
         "yaxis": "y"
        },
        {
         "hovertemplate": "variable=Totl%C0<br>python_version=%{x}<br>value=%{y}<br>text=%{text}<extra></extra>",
         "legendgroup": "Totl%C0",
         "line": {
          "color": "#00cc96",
          "dash": "solid"
         },
         "marker": {
          "symbol": "circle"
         },
         "mode": "text+lines+markers",
         "name": "Totl%C0",
         "orientation": "v",
         "showlegend": true,
         "text": [
          2011,
          2020,
          2009,
          2019,
          2020,
          2021,
          2022,
          2022,
          2022,
          2023,
          2023,
          2023,
          2023
         ],
         "textposition": "bottom right",
         "type": "scatter",
         "x": [
          "2.5.6",
          "2.7.18",
          "3.0.1",
          "3.4.10",
          "3.5.10",
          "3.6.15",
          "3.7.16",
          "3.8.16",
          "3.9.16",
          "3.10.11",
          "3.11.3",
          "3.12.0b1",
          "3.13.0a0"
         ],
         "xaxis": "x",
         "y": [
          0,
          0.21828908554572024,
          0.2359882005899685,
          0.4926253687315594,
          1,
          0.3746312684365769,
          0.29793510324483563,
          0.306784660766958,
          0.27138643067846147,
          0.44837758112094406,
          0.3598820058997063,
          0.38938053097345104,
          0.26253687315634266
         ],
         "yaxis": "y"
        },
        {
         "hovertemplate": "variable=Any%C0<br>python_version=%{x}<br>value=%{y}<br>text=%{text}<extra></extra>",
         "legendgroup": "Any%C0",
         "line": {
          "color": "#ab63fa",
          "dash": "solid"
         },
         "marker": {
          "symbol": "circle"
         },
         "mode": "text+lines+markers",
         "name": "Any%C0",
         "orientation": "v",
         "showlegend": true,
         "text": [
          2011,
          2020,
          2009,
          2019,
          2020,
          2021,
          2022,
          2022,
          2022,
          2023,
          2023,
          2023,
          2023
         ],
         "textposition": "bottom right",
         "type": "scatter",
         "x": [
          "2.5.6",
          "2.7.18",
          "3.0.1",
          "3.4.10",
          "3.5.10",
          "3.6.15",
          "3.7.16",
          "3.8.16",
          "3.9.16",
          "3.10.11",
          "3.11.3",
          "3.12.0b1",
          "3.13.0a0"
         ],
         "xaxis": "x",
         "y": [
          0.27777777777777146,
          0,
          0.87777777777778,
          0.98888888888888,
          0.98888888888888,
          1,
          0.98888888888888,
          0.98888888888888,
          0.98888888888888,
          0.9777777777777601,
          0.98888888888888,
          0.98888888888888,
          0.98888888888888
         ],
         "yaxis": "y"
        },
        {
         "hovertemplate": "variable=GFX%C0<br>python_version=%{x}<br>value=%{y}<br>text=%{text}<extra></extra>",
         "legendgroup": "GFX%C0",
         "line": {
          "color": "#FFA15A",
          "dash": "solid"
         },
         "marker": {
          "symbol": "circle"
         },
         "mode": "text+lines+markers",
         "name": "GFX%C0",
         "orientation": "v",
         "showlegend": true,
         "text": [
          2011,
          2020,
          2009,
          2019,
          2020,
          2021,
          2022,
          2022,
          2022,
          2023,
          2023,
          2023,
          2023
         ],
         "textposition": "bottom right",
         "type": "scatter",
         "x": [
          "2.5.6",
          "2.7.18",
          "3.0.1",
          "3.4.10",
          "3.5.10",
          "3.6.15",
          "3.7.16",
          "3.8.16",
          "3.9.16",
          "3.10.11",
          "3.11.3",
          "3.12.0b1",
          "3.13.0a0"
         ],
         "xaxis": "x",
         "y": [
          0.13333333333333375,
          1,
          0,
          0.4666666666666659,
          0.4666666666666659,
          0.4666666666666659,
          0.13333333333333375,
          0.6666666666666661,
          0.13333333333333375,
          0.5333333333333332,
          0.13333333333333375,
          0.3333333333333339,
          0.20000000000000018
         ],
         "yaxis": "y"
        },
        {
         "hovertemplate": "variable=CPUGFX%<br>python_version=%{x}<br>value=%{y}<br>text=%{text}<extra></extra>",
         "legendgroup": "CPUGFX%",
         "line": {
          "color": "#19d3f3",
          "dash": "solid"
         },
         "marker": {
          "symbol": "circle"
         },
         "mode": "text+lines+markers",
         "name": "CPUGFX%",
         "orientation": "v",
         "showlegend": true,
         "text": [
          2011,
          2020,
          2009,
          2019,
          2020,
          2021,
          2022,
          2022,
          2022,
          2023,
          2023,
          2023,
          2023
         ],
         "textposition": "bottom right",
         "type": "scatter",
         "x": [
          "2.5.6",
          "2.7.18",
          "3.0.1",
          "3.4.10",
          "3.5.10",
          "3.6.15",
          "3.7.16",
          "3.8.16",
          "3.9.16",
          "3.10.11",
          "3.11.3",
          "3.12.0b1",
          "3.13.0a0"
         ],
         "xaxis": "x",
         "y": [
          0,
          1,
          0,
          0.583333333333333,
          0.583333333333333,
          0.583333333333333,
          0.16666666666666696,
          0.8333333333333339,
          0.16666666666666696,
          0.6666666666666661,
          0.16666666666666696,
          0.41666666666666696,
          0.25
         ],
         "yaxis": "y"
        }
       ],
       "layout": {
        "legend": {
         "title": {
          "text": "variable"
         },
         "tracegroupgap": 0
        },
        "margin": {
         "t": 60
        },
        "template": {
         "data": {
          "bar": [
           {
            "error_x": {
             "color": "#2a3f5f"
            },
            "error_y": {
             "color": "#2a3f5f"
            },
            "marker": {
             "line": {
              "color": "#E5ECF6",
              "width": 0.5
             },
             "pattern": {
              "fillmode": "overlay",
              "size": 10,
              "solidity": 0.2
             }
            },
            "type": "bar"
           }
          ],
          "barpolar": [
           {
            "marker": {
             "line": {
              "color": "#E5ECF6",
              "width": 0.5
             },
             "pattern": {
              "fillmode": "overlay",
              "size": 10,
              "solidity": 0.2
             }
            },
            "type": "barpolar"
           }
          ],
          "carpet": [
           {
            "aaxis": {
             "endlinecolor": "#2a3f5f",
             "gridcolor": "white",
             "linecolor": "white",
             "minorgridcolor": "white",
             "startlinecolor": "#2a3f5f"
            },
            "baxis": {
             "endlinecolor": "#2a3f5f",
             "gridcolor": "white",
             "linecolor": "white",
             "minorgridcolor": "white",
             "startlinecolor": "#2a3f5f"
            },
            "type": "carpet"
           }
          ],
          "choropleth": [
           {
            "colorbar": {
             "outlinewidth": 0,
             "ticks": ""
            },
            "type": "choropleth"
           }
          ],
          "contour": [
           {
            "colorbar": {
             "outlinewidth": 0,
             "ticks": ""
            },
            "colorscale": [
             [
              0,
              "#0d0887"
             ],
             [
              0.1111111111111111,
              "#46039f"
             ],
             [
              0.2222222222222222,
              "#7201a8"
             ],
             [
              0.3333333333333333,
              "#9c179e"
             ],
             [
              0.4444444444444444,
              "#bd3786"
             ],
             [
              0.5555555555555556,
              "#d8576b"
             ],
             [
              0.6666666666666666,
              "#ed7953"
             ],
             [
              0.7777777777777778,
              "#fb9f3a"
             ],
             [
              0.8888888888888888,
              "#fdca26"
             ],
             [
              1,
              "#f0f921"
             ]
            ],
            "type": "contour"
           }
          ],
          "contourcarpet": [
           {
            "colorbar": {
             "outlinewidth": 0,
             "ticks": ""
            },
            "type": "contourcarpet"
           }
          ],
          "heatmap": [
           {
            "colorbar": {
             "outlinewidth": 0,
             "ticks": ""
            },
            "colorscale": [
             [
              0,
              "#0d0887"
             ],
             [
              0.1111111111111111,
              "#46039f"
             ],
             [
              0.2222222222222222,
              "#7201a8"
             ],
             [
              0.3333333333333333,
              "#9c179e"
             ],
             [
              0.4444444444444444,
              "#bd3786"
             ],
             [
              0.5555555555555556,
              "#d8576b"
             ],
             [
              0.6666666666666666,
              "#ed7953"
             ],
             [
              0.7777777777777778,
              "#fb9f3a"
             ],
             [
              0.8888888888888888,
              "#fdca26"
             ],
             [
              1,
              "#f0f921"
             ]
            ],
            "type": "heatmap"
           }
          ],
          "heatmapgl": [
           {
            "colorbar": {
             "outlinewidth": 0,
             "ticks": ""
            },
            "colorscale": [
             [
              0,
              "#0d0887"
             ],
             [
              0.1111111111111111,
              "#46039f"
             ],
             [
              0.2222222222222222,
              "#7201a8"
             ],
             [
              0.3333333333333333,
              "#9c179e"
             ],
             [
              0.4444444444444444,
              "#bd3786"
             ],
             [
              0.5555555555555556,
              "#d8576b"
             ],
             [
              0.6666666666666666,
              "#ed7953"
             ],
             [
              0.7777777777777778,
              "#fb9f3a"
             ],
             [
              0.8888888888888888,
              "#fdca26"
             ],
             [
              1,
              "#f0f921"
             ]
            ],
            "type": "heatmapgl"
           }
          ],
          "histogram": [
           {
            "marker": {
             "pattern": {
              "fillmode": "overlay",
              "size": 10,
              "solidity": 0.2
             }
            },
            "type": "histogram"
           }
          ],
          "histogram2d": [
           {
            "colorbar": {
             "outlinewidth": 0,
             "ticks": ""
            },
            "colorscale": [
             [
              0,
              "#0d0887"
             ],
             [
              0.1111111111111111,
              "#46039f"
             ],
             [
              0.2222222222222222,
              "#7201a8"
             ],
             [
              0.3333333333333333,
              "#9c179e"
             ],
             [
              0.4444444444444444,
              "#bd3786"
             ],
             [
              0.5555555555555556,
              "#d8576b"
             ],
             [
              0.6666666666666666,
              "#ed7953"
             ],
             [
              0.7777777777777778,
              "#fb9f3a"
             ],
             [
              0.8888888888888888,
              "#fdca26"
             ],
             [
              1,
              "#f0f921"
             ]
            ],
            "type": "histogram2d"
           }
          ],
          "histogram2dcontour": [
           {
            "colorbar": {
             "outlinewidth": 0,
             "ticks": ""
            },
            "colorscale": [
             [
              0,
              "#0d0887"
             ],
             [
              0.1111111111111111,
              "#46039f"
             ],
             [
              0.2222222222222222,
              "#7201a8"
             ],
             [
              0.3333333333333333,
              "#9c179e"
             ],
             [
              0.4444444444444444,
              "#bd3786"
             ],
             [
              0.5555555555555556,
              "#d8576b"
             ],
             [
              0.6666666666666666,
              "#ed7953"
             ],
             [
              0.7777777777777778,
              "#fb9f3a"
             ],
             [
              0.8888888888888888,
              "#fdca26"
             ],
             [
              1,
              "#f0f921"
             ]
            ],
            "type": "histogram2dcontour"
           }
          ],
          "mesh3d": [
           {
            "colorbar": {
             "outlinewidth": 0,
             "ticks": ""
            },
            "type": "mesh3d"
           }
          ],
          "parcoords": [
           {
            "line": {
             "colorbar": {
              "outlinewidth": 0,
              "ticks": ""
             }
            },
            "type": "parcoords"
           }
          ],
          "pie": [
           {
            "automargin": true,
            "type": "pie"
           }
          ],
          "scatter": [
           {
            "fillpattern": {
             "fillmode": "overlay",
             "size": 10,
             "solidity": 0.2
            },
            "type": "scatter"
           }
          ],
          "scatter3d": [
           {
            "line": {
             "colorbar": {
              "outlinewidth": 0,
              "ticks": ""
             }
            },
            "marker": {
             "colorbar": {
              "outlinewidth": 0,
              "ticks": ""
             }
            },
            "type": "scatter3d"
           }
          ],
          "scattercarpet": [
           {
            "marker": {
             "colorbar": {
              "outlinewidth": 0,
              "ticks": ""
             }
            },
            "type": "scattercarpet"
           }
          ],
          "scattergeo": [
           {
            "marker": {
             "colorbar": {
              "outlinewidth": 0,
              "ticks": ""
             }
            },
            "type": "scattergeo"
           }
          ],
          "scattergl": [
           {
            "marker": {
             "colorbar": {
              "outlinewidth": 0,
              "ticks": ""
             }
            },
            "type": "scattergl"
           }
          ],
          "scattermapbox": [
           {
            "marker": {
             "colorbar": {
              "outlinewidth": 0,
              "ticks": ""
             }
            },
            "type": "scattermapbox"
           }
          ],
          "scatterpolar": [
           {
            "marker": {
             "colorbar": {
              "outlinewidth": 0,
              "ticks": ""
             }
            },
            "type": "scatterpolar"
           }
          ],
          "scatterpolargl": [
           {
            "marker": {
             "colorbar": {
              "outlinewidth": 0,
              "ticks": ""
             }
            },
            "type": "scatterpolargl"
           }
          ],
          "scatterternary": [
           {
            "marker": {
             "colorbar": {
              "outlinewidth": 0,
              "ticks": ""
             }
            },
            "type": "scatterternary"
           }
          ],
          "surface": [
           {
            "colorbar": {
             "outlinewidth": 0,
             "ticks": ""
            },
            "colorscale": [
             [
              0,
              "#0d0887"
             ],
             [
              0.1111111111111111,
              "#46039f"
             ],
             [
              0.2222222222222222,
              "#7201a8"
             ],
             [
              0.3333333333333333,
              "#9c179e"
             ],
             [
              0.4444444444444444,
              "#bd3786"
             ],
             [
              0.5555555555555556,
              "#d8576b"
             ],
             [
              0.6666666666666666,
              "#ed7953"
             ],
             [
              0.7777777777777778,
              "#fb9f3a"
             ],
             [
              0.8888888888888888,
              "#fdca26"
             ],
             [
              1,
              "#f0f921"
             ]
            ],
            "type": "surface"
           }
          ],
          "table": [
           {
            "cells": {
             "fill": {
              "color": "#EBF0F8"
             },
             "line": {
              "color": "white"
             }
            },
            "header": {
             "fill": {
              "color": "#C8D4E3"
             },
             "line": {
              "color": "white"
             }
            },
            "type": "table"
           }
          ]
         },
         "layout": {
          "annotationdefaults": {
           "arrowcolor": "#2a3f5f",
           "arrowhead": 0,
           "arrowwidth": 1
          },
          "autotypenumbers": "strict",
          "coloraxis": {
           "colorbar": {
            "outlinewidth": 0,
            "ticks": ""
           }
          },
          "colorscale": {
           "diverging": [
            [
             0,
             "#8e0152"
            ],
            [
             0.1,
             "#c51b7d"
            ],
            [
             0.2,
             "#de77ae"
            ],
            [
             0.3,
             "#f1b6da"
            ],
            [
             0.4,
             "#fde0ef"
            ],
            [
             0.5,
             "#f7f7f7"
            ],
            [
             0.6,
             "#e6f5d0"
            ],
            [
             0.7,
             "#b8e186"
            ],
            [
             0.8,
             "#7fbc41"
            ],
            [
             0.9,
             "#4d9221"
            ],
            [
             1,
             "#276419"
            ]
           ],
           "sequential": [
            [
             0,
             "#0d0887"
            ],
            [
             0.1111111111111111,
             "#46039f"
            ],
            [
             0.2222222222222222,
             "#7201a8"
            ],
            [
             0.3333333333333333,
             "#9c179e"
            ],
            [
             0.4444444444444444,
             "#bd3786"
            ],
            [
             0.5555555555555556,
             "#d8576b"
            ],
            [
             0.6666666666666666,
             "#ed7953"
            ],
            [
             0.7777777777777778,
             "#fb9f3a"
            ],
            [
             0.8888888888888888,
             "#fdca26"
            ],
            [
             1,
             "#f0f921"
            ]
           ],
           "sequentialminus": [
            [
             0,
             "#0d0887"
            ],
            [
             0.1111111111111111,
             "#46039f"
            ],
            [
             0.2222222222222222,
             "#7201a8"
            ],
            [
             0.3333333333333333,
             "#9c179e"
            ],
            [
             0.4444444444444444,
             "#bd3786"
            ],
            [
             0.5555555555555556,
             "#d8576b"
            ],
            [
             0.6666666666666666,
             "#ed7953"
            ],
            [
             0.7777777777777778,
             "#fb9f3a"
            ],
            [
             0.8888888888888888,
             "#fdca26"
            ],
            [
             1,
             "#f0f921"
            ]
           ]
          },
          "colorway": [
           "#636efa",
           "#EF553B",
           "#00cc96",
           "#ab63fa",
           "#FFA15A",
           "#19d3f3",
           "#FF6692",
           "#B6E880",
           "#FF97FF",
           "#FECB52"
          ],
          "font": {
           "color": "#2a3f5f"
          },
          "geo": {
           "bgcolor": "white",
           "lakecolor": "white",
           "landcolor": "#E5ECF6",
           "showlakes": true,
           "showland": true,
           "subunitcolor": "white"
          },
          "hoverlabel": {
           "align": "left"
          },
          "hovermode": "closest",
          "mapbox": {
           "style": "light"
          },
          "paper_bgcolor": "white",
          "plot_bgcolor": "#E5ECF6",
          "polar": {
           "angularaxis": {
            "gridcolor": "white",
            "linecolor": "white",
            "ticks": ""
           },
           "bgcolor": "#E5ECF6",
           "radialaxis": {
            "gridcolor": "white",
            "linecolor": "white",
            "ticks": ""
           }
          },
          "scene": {
           "xaxis": {
            "backgroundcolor": "#E5ECF6",
            "gridcolor": "white",
            "gridwidth": 2,
            "linecolor": "white",
            "showbackground": true,
            "ticks": "",
            "zerolinecolor": "white"
           },
           "yaxis": {
            "backgroundcolor": "#E5ECF6",
            "gridcolor": "white",
            "gridwidth": 2,
            "linecolor": "white",
            "showbackground": true,
            "ticks": "",
            "zerolinecolor": "white"
           },
           "zaxis": {
            "backgroundcolor": "#E5ECF6",
            "gridcolor": "white",
            "gridwidth": 2,
            "linecolor": "white",
            "showbackground": true,
            "ticks": "",
            "zerolinecolor": "white"
           }
          },
          "shapedefaults": {
           "line": {
            "color": "#2a3f5f"
           }
          },
          "ternary": {
           "aaxis": {
            "gridcolor": "white",
            "linecolor": "white",
            "ticks": ""
           },
           "baxis": {
            "gridcolor": "white",
            "linecolor": "white",
            "ticks": ""
           },
           "bgcolor": "#E5ECF6",
           "caxis": {
            "gridcolor": "white",
            "linecolor": "white",
            "ticks": ""
           }
          },
          "title": {
           "x": 0.05
          },
          "xaxis": {
           "automargin": true,
           "gridcolor": "white",
           "linecolor": "white",
           "ticks": "",
           "title": {
            "standoff": 15
           },
           "zerolinecolor": "white",
           "zerolinewidth": 2
          },
          "yaxis": {
           "automargin": true,
           "gridcolor": "white",
           "linecolor": "white",
           "ticks": "",
           "title": {
            "standoff": 15
           },
           "zerolinecolor": "white",
           "zerolinewidth": 2
          }
         }
        },
        "xaxis": {
         "anchor": "y",
         "domain": [
          0,
          1
         ],
         "title": {
          "text": "python_version"
         }
        },
        "yaxis": {
         "anchor": "x",
         "domain": [
          0,
          1
         ],
         "title": {
          "text": "value"
         }
        }
       }
      }
     },
     "metadata": {},
     "output_type": "display_data"
    }
   ],
   "source": [
    "fig = px.line(df, x=\"python_version\", y=[\"GFX%rc6\",\"GFXMHz\",\"Totl%C0\",\"Any%C0\",\"GFX%C0\",\"CPUGFX%\"], text=pd.to_datetime(df['release_date']).dt.year)\n",
    "fig.update_traces(textposition=\"bottom right\")\n",
    "fig.show()"
   ]
  },
  {
   "attachments": {},
   "cell_type": "markdown",
   "metadata": {},
   "source": [
    "## Correlations"
   ]
  },
  {
   "attachments": {},
   "cell_type": "markdown",
   "metadata": {},
   "source": [
    "### Energy"
   ]
  },
  {
   "cell_type": "code",
   "execution_count": 80,
   "metadata": {},
   "outputs": [],
   "source": [
    "energy = pd.concat([python_version,time_elapsed,energy_core,energy_pkg,energy_gfx,energy_ram], axis=1)"
   ]
  },
  {
   "attachments": {},
   "cell_type": "markdown",
   "metadata": {},
   "source": [
    "### CPU"
   ]
  },
  {
   "cell_type": "code",
   "execution_count": 81,
   "metadata": {},
   "outputs": [],
   "source": [
    "cpu = pd.concat([time_elapsed,avg_mhz,busy_mhz,busy_percent,ipc,irq,poll,c1,c1e,c3,c6,c7s,c8,coreTemperature,pkgTemperature,total_c0_percent,any_c0_percent,cpugfx_percent,gfx_c0_percent,gfx_percent,gfx_mhz], axis=1)"
   ]
  },
  {
   "attachments": {},
   "cell_type": "markdown",
   "metadata": {},
   "source": [
    "## Notes"
   ]
  },
  {
   "cell_type": "code",
   "execution_count": 82,
   "metadata": {},
   "outputs": [],
   "source": [
    "# Normalize the data\n",
    "# Observe the correlation between the values\n",
    "# Select which parameters\n",
    "# Find information regarding the memory consumption/usage\n",
    "# Select algorithms/application\n",
    "\n",
    "\n",
    "# MEMORY DATA\n",
    "# READ ABOUT THE CHANGES IN THE LAST PYTHON VERSIONS - FINDING THE REASON!!!!!\n",
    "# MEANING OF EACH MEASUREMENT\n"
   ]
  }
 ],
 "metadata": {
  "kernelspec": {
   "display_name": "Python 3 (Spyder)",
   "language": "python3",
   "name": "python3"
  },
  "language_info": {
   "codemirror_mode": {
    "name": "ipython",
    "version": 3
   },
   "file_extension": ".py",
   "mimetype": "text/x-python",
   "name": "python",
   "nbconvert_exporter": "python",
   "pygments_lexer": "ipython3",
   "version": "3.11.3"
  }
 },
 "nbformat": 4,
 "nbformat_minor": 4
}
