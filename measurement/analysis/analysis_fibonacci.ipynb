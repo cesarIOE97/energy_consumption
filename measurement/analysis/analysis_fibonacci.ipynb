{
 "cells": [
  {
   "attachments": {},
   "cell_type": "markdown",
   "metadata": {},
   "source": [
    "# Analysis for Performance and Energy Consumption"
   ]
  },
  {
   "attachments": {},
   "cell_type": "markdown",
   "metadata": {},
   "source": [
    "## Extract information"
   ]
  },
  {
   "cell_type": "code",
   "execution_count": 1,
   "metadata": {},
   "outputs": [],
   "source": [
    "# Libraries\n",
    "import pandas as pd\n",
    "import matplotlib.pyplot as plt\n",
    "import seaborn as sns\n",
    "import plotly.express as px\n",
    "import plotly"
   ]
  },
  {
   "cell_type": "code",
   "execution_count": 2,
   "metadata": {},
   "outputs": [
    {
     "data": {
      "text/html": [
       "<div>\n",
       "<style scoped>\n",
       "    .dataframe tbody tr th:only-of-type {\n",
       "        vertical-align: middle;\n",
       "    }\n",
       "\n",
       "    .dataframe tbody tr th {\n",
       "        vertical-align: top;\n",
       "    }\n",
       "\n",
       "    .dataframe thead th {\n",
       "        text-align: right;\n",
       "    }\n",
       "</style>\n",
       "<table border=\"1\" class=\"dataframe\">\n",
       "  <thead>\n",
       "    <tr style=\"text-align: right;\">\n",
       "      <th></th>\n",
       "      <th>python_version</th>\n",
       "      <th>release_date</th>\n",
       "      <th>first_release</th>\n",
       "      <th>appplication</th>\n",
       "      <th>time_elapsed</th>\n",
       "      <th>usec</th>\n",
       "      <th>Time_Of_Day_Seconds</th>\n",
       "      <th>APIC</th>\n",
       "      <th>X2APIC</th>\n",
       "      <th>Avg_MHz</th>\n",
       "      <th>...</th>\n",
       "      <th>Pkg%pc9</th>\n",
       "      <th>Pk%pc10</th>\n",
       "      <th>CPU%LPI</th>\n",
       "      <th>SYS%LPI</th>\n",
       "      <th>Pkg_J</th>\n",
       "      <th>Cor_J</th>\n",
       "      <th>GFX_J</th>\n",
       "      <th>RAM_J</th>\n",
       "      <th>PKG_%</th>\n",
       "      <th>RAM_%</th>\n",
       "    </tr>\n",
       "  </thead>\n",
       "  <tbody>\n",
       "    <tr>\n",
       "      <th>0</th>\n",
       "      <td>2.5.6</td>\n",
       "      <td>2011-05-26</td>\n",
       "      <td>2006-09-19</td>\n",
       "      <td>fibonacci_oldVersions.py 506999</td>\n",
       "      <td>7.41879</td>\n",
       "      <td>1113.7</td>\n",
       "      <td>1.686841e+09</td>\n",
       "      <td>0.0</td>\n",
       "      <td>0.0</td>\n",
       "      <td>528.9</td>\n",
       "      <td>...</td>\n",
       "      <td>0.0</td>\n",
       "      <td>0.0</td>\n",
       "      <td>0.0</td>\n",
       "      <td>0.0</td>\n",
       "      <td>135.09</td>\n",
       "      <td>115.14</td>\n",
       "      <td>0.04</td>\n",
       "      <td>6.33</td>\n",
       "      <td>0.0</td>\n",
       "      <td>0.0</td>\n",
       "    </tr>\n",
       "    <tr>\n",
       "      <th>1</th>\n",
       "      <td>2.7.18</td>\n",
       "      <td>2020-04-20</td>\n",
       "      <td>2010-07-04</td>\n",
       "      <td>fibonacci_oldVersions.py 506999</td>\n",
       "      <td>4.71534</td>\n",
       "      <td>1096.1</td>\n",
       "      <td>1.686841e+09</td>\n",
       "      <td>0.0</td>\n",
       "      <td>0.0</td>\n",
       "      <td>526.1</td>\n",
       "      <td>...</td>\n",
       "      <td>0.0</td>\n",
       "      <td>0.0</td>\n",
       "      <td>0.0</td>\n",
       "      <td>0.0</td>\n",
       "      <td>85.29</td>\n",
       "      <td>72.16</td>\n",
       "      <td>0.03</td>\n",
       "      <td>4.69</td>\n",
       "      <td>0.0</td>\n",
       "      <td>0.0</td>\n",
       "    </tr>\n",
       "    <tr>\n",
       "      <th>2</th>\n",
       "      <td>3.0.1</td>\n",
       "      <td>2009-02-13</td>\n",
       "      <td>2008-12-03</td>\n",
       "      <td>fibonacci_oldVersions.py 506999</td>\n",
       "      <td>7.50869</td>\n",
       "      <td>1199.4</td>\n",
       "      <td>1.686841e+09</td>\n",
       "      <td>0.0</td>\n",
       "      <td>0.0</td>\n",
       "      <td>446.3</td>\n",
       "      <td>...</td>\n",
       "      <td>0.0</td>\n",
       "      <td>0.0</td>\n",
       "      <td>0.0</td>\n",
       "      <td>0.0</td>\n",
       "      <td>91.97</td>\n",
       "      <td>71.72</td>\n",
       "      <td>0.04</td>\n",
       "      <td>6.40</td>\n",
       "      <td>0.0</td>\n",
       "      <td>0.0</td>\n",
       "    </tr>\n",
       "    <tr>\n",
       "      <th>3</th>\n",
       "      <td>3.4.10</td>\n",
       "      <td>2019-03-18</td>\n",
       "      <td>2014-03-16</td>\n",
       "      <td>fibonacci_oldVersions.py 506999</td>\n",
       "      <td>5.55466</td>\n",
       "      <td>1191.9</td>\n",
       "      <td>1.686841e+09</td>\n",
       "      <td>0.0</td>\n",
       "      <td>0.0</td>\n",
       "      <td>445.5</td>\n",
       "      <td>...</td>\n",
       "      <td>0.0</td>\n",
       "      <td>0.0</td>\n",
       "      <td>0.0</td>\n",
       "      <td>0.0</td>\n",
       "      <td>65.83</td>\n",
       "      <td>50.70</td>\n",
       "      <td>0.03</td>\n",
       "      <td>5.23</td>\n",
       "      <td>0.0</td>\n",
       "      <td>0.0</td>\n",
       "    </tr>\n",
       "    <tr>\n",
       "      <th>4</th>\n",
       "      <td>3.5.10</td>\n",
       "      <td>2020-09-05</td>\n",
       "      <td>2015-09-13</td>\n",
       "      <td>fibonacci_oldVersions.py 506999</td>\n",
       "      <td>5.57666</td>\n",
       "      <td>1193.9</td>\n",
       "      <td>1.686841e+09</td>\n",
       "      <td>0.0</td>\n",
       "      <td>0.0</td>\n",
       "      <td>451.5</td>\n",
       "      <td>...</td>\n",
       "      <td>0.0</td>\n",
       "      <td>0.0</td>\n",
       "      <td>0.0</td>\n",
       "      <td>0.0</td>\n",
       "      <td>66.08</td>\n",
       "      <td>50.72</td>\n",
       "      <td>0.03</td>\n",
       "      <td>5.26</td>\n",
       "      <td>0.0</td>\n",
       "      <td>0.0</td>\n",
       "    </tr>\n",
       "    <tr>\n",
       "      <th>5</th>\n",
       "      <td>3.6.15</td>\n",
       "      <td>2021-09-04</td>\n",
       "      <td>2016-12-23</td>\n",
       "      <td>fibonacci_oldVersions.py 506999</td>\n",
       "      <td>5.56470</td>\n",
       "      <td>1180.7</td>\n",
       "      <td>1.686841e+09</td>\n",
       "      <td>0.0</td>\n",
       "      <td>0.0</td>\n",
       "      <td>446.7</td>\n",
       "      <td>...</td>\n",
       "      <td>0.0</td>\n",
       "      <td>0.0</td>\n",
       "      <td>0.0</td>\n",
       "      <td>0.0</td>\n",
       "      <td>65.98</td>\n",
       "      <td>50.88</td>\n",
       "      <td>0.03</td>\n",
       "      <td>5.23</td>\n",
       "      <td>0.0</td>\n",
       "      <td>0.0</td>\n",
       "    </tr>\n",
       "    <tr>\n",
       "      <th>6</th>\n",
       "      <td>3.7.16</td>\n",
       "      <td>2022-12-06</td>\n",
       "      <td>2018-06-27</td>\n",
       "      <td>fibonacci_oldVersions.py 506999</td>\n",
       "      <td>5.54157</td>\n",
       "      <td>1199.3</td>\n",
       "      <td>1.686841e+09</td>\n",
       "      <td>0.0</td>\n",
       "      <td>0.0</td>\n",
       "      <td>443.6</td>\n",
       "      <td>...</td>\n",
       "      <td>0.0</td>\n",
       "      <td>0.0</td>\n",
       "      <td>0.0</td>\n",
       "      <td>0.0</td>\n",
       "      <td>65.66</td>\n",
       "      <td>50.62</td>\n",
       "      <td>0.03</td>\n",
       "      <td>5.21</td>\n",
       "      <td>0.0</td>\n",
       "      <td>0.0</td>\n",
       "    </tr>\n",
       "    <tr>\n",
       "      <th>7</th>\n",
       "      <td>3.8.16</td>\n",
       "      <td>2022-12-06</td>\n",
       "      <td>2019-10-14</td>\n",
       "      <td>fibonacci_oldVersions.py 506999</td>\n",
       "      <td>5.51648</td>\n",
       "      <td>1199.8</td>\n",
       "      <td>1.686841e+09</td>\n",
       "      <td>0.0</td>\n",
       "      <td>0.0</td>\n",
       "      <td>445.3</td>\n",
       "      <td>...</td>\n",
       "      <td>0.0</td>\n",
       "      <td>0.0</td>\n",
       "      <td>0.0</td>\n",
       "      <td>0.0</td>\n",
       "      <td>65.38</td>\n",
       "      <td>50.33</td>\n",
       "      <td>0.03</td>\n",
       "      <td>5.19</td>\n",
       "      <td>0.0</td>\n",
       "      <td>0.0</td>\n",
       "    </tr>\n",
       "    <tr>\n",
       "      <th>8</th>\n",
       "      <td>3.9.16</td>\n",
       "      <td>2022-12-06</td>\n",
       "      <td>2020-10-05</td>\n",
       "      <td>fibonacci_oldVersions.py 506999</td>\n",
       "      <td>5.50998</td>\n",
       "      <td>1200.8</td>\n",
       "      <td>1.686841e+09</td>\n",
       "      <td>0.0</td>\n",
       "      <td>0.0</td>\n",
       "      <td>444.2</td>\n",
       "      <td>...</td>\n",
       "      <td>0.0</td>\n",
       "      <td>0.0</td>\n",
       "      <td>0.0</td>\n",
       "      <td>0.0</td>\n",
       "      <td>65.27</td>\n",
       "      <td>50.27</td>\n",
       "      <td>0.03</td>\n",
       "      <td>5.18</td>\n",
       "      <td>0.0</td>\n",
       "      <td>0.0</td>\n",
       "    </tr>\n",
       "    <tr>\n",
       "      <th>9</th>\n",
       "      <td>3.10.11</td>\n",
       "      <td>2023-04-05</td>\n",
       "      <td>2021-10-04</td>\n",
       "      <td>fibonacci_oldVersions.py 506999</td>\n",
       "      <td>5.55412</td>\n",
       "      <td>1197.9</td>\n",
       "      <td>1.686841e+09</td>\n",
       "      <td>0.0</td>\n",
       "      <td>0.0</td>\n",
       "      <td>447.2</td>\n",
       "      <td>...</td>\n",
       "      <td>0.0</td>\n",
       "      <td>0.0</td>\n",
       "      <td>0.0</td>\n",
       "      <td>0.0</td>\n",
       "      <td>65.81</td>\n",
       "      <td>50.68</td>\n",
       "      <td>0.03</td>\n",
       "      <td>5.21</td>\n",
       "      <td>0.0</td>\n",
       "      <td>0.0</td>\n",
       "    </tr>\n",
       "    <tr>\n",
       "      <th>10</th>\n",
       "      <td>3.11.3</td>\n",
       "      <td>2023-04-05</td>\n",
       "      <td>2022-10-24</td>\n",
       "      <td>fibonacci_oldVersions.py 506999</td>\n",
       "      <td>5.46455</td>\n",
       "      <td>1201.7</td>\n",
       "      <td>1.686841e+09</td>\n",
       "      <td>0.0</td>\n",
       "      <td>0.0</td>\n",
       "      <td>443.1</td>\n",
       "      <td>...</td>\n",
       "      <td>0.0</td>\n",
       "      <td>0.0</td>\n",
       "      <td>0.0</td>\n",
       "      <td>0.0</td>\n",
       "      <td>64.72</td>\n",
       "      <td>49.77</td>\n",
       "      <td>0.03</td>\n",
       "      <td>5.14</td>\n",
       "      <td>0.0</td>\n",
       "      <td>0.0</td>\n",
       "    </tr>\n",
       "    <tr>\n",
       "      <th>11</th>\n",
       "      <td>3.12.0b1</td>\n",
       "      <td>2023-05-22</td>\n",
       "      <td>2023-05-22</td>\n",
       "      <td>fibonacci_oldVersions.py 506999</td>\n",
       "      <td>5.49865</td>\n",
       "      <td>1191.4</td>\n",
       "      <td>1.686841e+09</td>\n",
       "      <td>0.0</td>\n",
       "      <td>0.0</td>\n",
       "      <td>443.9</td>\n",
       "      <td>...</td>\n",
       "      <td>0.0</td>\n",
       "      <td>0.0</td>\n",
       "      <td>0.0</td>\n",
       "      <td>0.0</td>\n",
       "      <td>65.13</td>\n",
       "      <td>50.11</td>\n",
       "      <td>0.03</td>\n",
       "      <td>5.17</td>\n",
       "      <td>0.0</td>\n",
       "      <td>0.0</td>\n",
       "    </tr>\n",
       "    <tr>\n",
       "      <th>12</th>\n",
       "      <td>3.13.0a0</td>\n",
       "      <td>2023-06-07</td>\n",
       "      <td>2023-06-07</td>\n",
       "      <td>fibonacci_oldVersions.py 506999</td>\n",
       "      <td>5.46132</td>\n",
       "      <td>1194.0</td>\n",
       "      <td>1.686841e+09</td>\n",
       "      <td>0.0</td>\n",
       "      <td>0.0</td>\n",
       "      <td>444.3</td>\n",
       "      <td>...</td>\n",
       "      <td>0.0</td>\n",
       "      <td>0.0</td>\n",
       "      <td>0.0</td>\n",
       "      <td>0.0</td>\n",
       "      <td>64.69</td>\n",
       "      <td>49.84</td>\n",
       "      <td>0.03</td>\n",
       "      <td>5.14</td>\n",
       "      <td>0.0</td>\n",
       "      <td>0.0</td>\n",
       "    </tr>\n",
       "  </tbody>\n",
       "</table>\n",
       "<p>13 rows × 62 columns</p>\n",
       "</div>"
      ],
      "text/plain": [
       "   python_version release_date first_release                     appplication  \\\n",
       "0           2.5.6   2011-05-26    2006-09-19  fibonacci_oldVersions.py 506999   \n",
       "1          2.7.18   2020-04-20    2010-07-04  fibonacci_oldVersions.py 506999   \n",
       "2           3.0.1   2009-02-13    2008-12-03  fibonacci_oldVersions.py 506999   \n",
       "3          3.4.10   2019-03-18    2014-03-16  fibonacci_oldVersions.py 506999   \n",
       "4          3.5.10   2020-09-05    2015-09-13  fibonacci_oldVersions.py 506999   \n",
       "5          3.6.15   2021-09-04    2016-12-23  fibonacci_oldVersions.py 506999   \n",
       "6          3.7.16   2022-12-06    2018-06-27  fibonacci_oldVersions.py 506999   \n",
       "7          3.8.16   2022-12-06    2019-10-14  fibonacci_oldVersions.py 506999   \n",
       "8          3.9.16   2022-12-06    2020-10-05  fibonacci_oldVersions.py 506999   \n",
       "9         3.10.11   2023-04-05    2021-10-04  fibonacci_oldVersions.py 506999   \n",
       "10         3.11.3   2023-04-05    2022-10-24  fibonacci_oldVersions.py 506999   \n",
       "11       3.12.0b1   2023-05-22    2023-05-22  fibonacci_oldVersions.py 506999   \n",
       "12       3.13.0a0   2023-06-07    2023-06-07  fibonacci_oldVersions.py 506999   \n",
       "\n",
       "    time_elapsed    usec  Time_Of_Day_Seconds  APIC  X2APIC  Avg_MHz  ...  \\\n",
       "0        7.41879  1113.7         1.686841e+09   0.0     0.0    528.9  ...   \n",
       "1        4.71534  1096.1         1.686841e+09   0.0     0.0    526.1  ...   \n",
       "2        7.50869  1199.4         1.686841e+09   0.0     0.0    446.3  ...   \n",
       "3        5.55466  1191.9         1.686841e+09   0.0     0.0    445.5  ...   \n",
       "4        5.57666  1193.9         1.686841e+09   0.0     0.0    451.5  ...   \n",
       "5        5.56470  1180.7         1.686841e+09   0.0     0.0    446.7  ...   \n",
       "6        5.54157  1199.3         1.686841e+09   0.0     0.0    443.6  ...   \n",
       "7        5.51648  1199.8         1.686841e+09   0.0     0.0    445.3  ...   \n",
       "8        5.50998  1200.8         1.686841e+09   0.0     0.0    444.2  ...   \n",
       "9        5.55412  1197.9         1.686841e+09   0.0     0.0    447.2  ...   \n",
       "10       5.46455  1201.7         1.686841e+09   0.0     0.0    443.1  ...   \n",
       "11       5.49865  1191.4         1.686841e+09   0.0     0.0    443.9  ...   \n",
       "12       5.46132  1194.0         1.686841e+09   0.0     0.0    444.3  ...   \n",
       "\n",
       "    Pkg%pc9  Pk%pc10  CPU%LPI  SYS%LPI   Pkg_J   Cor_J  GFX_J  RAM_J  PKG_%  \\\n",
       "0       0.0      0.0      0.0      0.0  135.09  115.14   0.04   6.33    0.0   \n",
       "1       0.0      0.0      0.0      0.0   85.29   72.16   0.03   4.69    0.0   \n",
       "2       0.0      0.0      0.0      0.0   91.97   71.72   0.04   6.40    0.0   \n",
       "3       0.0      0.0      0.0      0.0   65.83   50.70   0.03   5.23    0.0   \n",
       "4       0.0      0.0      0.0      0.0   66.08   50.72   0.03   5.26    0.0   \n",
       "5       0.0      0.0      0.0      0.0   65.98   50.88   0.03   5.23    0.0   \n",
       "6       0.0      0.0      0.0      0.0   65.66   50.62   0.03   5.21    0.0   \n",
       "7       0.0      0.0      0.0      0.0   65.38   50.33   0.03   5.19    0.0   \n",
       "8       0.0      0.0      0.0      0.0   65.27   50.27   0.03   5.18    0.0   \n",
       "9       0.0      0.0      0.0      0.0   65.81   50.68   0.03   5.21    0.0   \n",
       "10      0.0      0.0      0.0      0.0   64.72   49.77   0.03   5.14    0.0   \n",
       "11      0.0      0.0      0.0      0.0   65.13   50.11   0.03   5.17    0.0   \n",
       "12      0.0      0.0      0.0      0.0   64.69   49.84   0.03   5.14    0.0   \n",
       "\n",
       "    RAM_%  \n",
       "0     0.0  \n",
       "1     0.0  \n",
       "2     0.0  \n",
       "3     0.0  \n",
       "4     0.0  \n",
       "5     0.0  \n",
       "6     0.0  \n",
       "7     0.0  \n",
       "8     0.0  \n",
       "9     0.0  \n",
       "10    0.0  \n",
       "11    0.0  \n",
       "12    0.0  \n",
       "\n",
       "[13 rows x 62 columns]"
      ]
     },
     "execution_count": 2,
     "metadata": {},
     "output_type": "execute_result"
    }
   ],
   "source": [
    "# Read the CSV df into a DataFrame\n",
    "df = pd.read_csv('../fibonacci_506999_2/performance_data_allVersions_fibonacci_oldVersions.csv')\n",
    "\n",
    "# Mapping of Python versions to release dates\n",
    "release_dates = {\n",
    "    'Python 3.13.0a0': '2023-06-07',\n",
    "    'Python 3.12.0b1': '2023-05-22',\n",
    "    'Python 3.11.3': '2023-04-05',\n",
    "    'Python 3.10.11': '2023-04-05',\n",
    "    'Python 3.9.16': '2022-12-06',\n",
    "    'Python 3.8.16': '2022-12-06',\n",
    "    'Python 3.7.16': '2022-12-06',\n",
    "    'Python 3.6.15': '2021-09-04',\n",
    "    'Python 3.5.10': '2020-09-05',\n",
    "    'Python 3.4.10': '2019-03-18',\n",
    "    'Python 3.3.7': '2017-09-19',\n",
    "    'Python 3.2.6': '2014-10-11',\n",
    "    'Python 3.1.5': '2012-04-09',\n",
    "    'Python 3.0.1': '2009-02-13',\n",
    "    'Python 2.7.18': '2020-04-20',\n",
    "    'Python 2.6.9': '2013-10-29',\n",
    "    'Python 2.5.6': '2011-05-26',\n",
    "}\n",
    "\n",
    "# Mapping of Python versions to first releases\n",
    "first_release = {\n",
    "    'Python 3.13.0a0': '2023-06-07',\n",
    "    'Python 3.12.0b1': '2023-05-22',\n",
    "    'Python 3.11.3': '2022-10-24',\n",
    "    'Python 3.10.11': '2021-10-04',\n",
    "    'Python 3.9.16': '2020-10-05',\n",
    "    'Python 3.8.16': '2019-10-14',\n",
    "    'Python 3.7.16': '2018-06-27',\n",
    "    'Python 3.6.15': '2016-12-23',\n",
    "    'Python 3.5.10': '2015-09-13',\n",
    "    'Python 3.4.10': '2014-03-16',\n",
    "    'Python 3.3.7': '2012-09-29',\n",
    "    'Python 3.2.6': '2011-02-20',\n",
    "    'Python 3.1.5': '2009-06-27',\n",
    "    'Python 3.0.1': '2008-12-03',\n",
    "    'Python 2.7.18': '2010-07-04',\n",
    "    'Python 2.6.9': '2008-10-01',\n",
    "    'Python 2.5.6': '2006-09-19',\n",
    "}\n",
    "\n",
    "# Function to get release date for a given Python version\n",
    "def get_release_date(version):\n",
    "    return release_dates.get(version, 'Unknown')\n",
    "\n",
    "# Function to get release date for a given Python version\n",
    "def get_first_date(version):\n",
    "    return first_release.get(version, 'Unknown')\n",
    "\n",
    "# New column 'release_date' as the second \n",
    "df['release_date'] = df['python_version'].apply(get_release_date)\n",
    "df.insert(1, 'release_date', df.pop('release_date'))\n",
    "\n",
    "# New column 'first_date' as the second \n",
    "df['first_release'] = df['python_version'].apply(get_first_date)\n",
    "df.insert(2, 'first_release', df.pop('first_release'))\n",
    "\n",
    "# Convert date into datetime\n",
    "df['release_date'] = pd.to_datetime(df['release_date'])\n",
    "df['first_release'] = pd.to_datetime(df['first_release'])\n",
    "\n",
    "# Remove the word 'Python '\n",
    "df['python_version'] = df['python_version'].str.replace('Python ', '')\n",
    "df"
   ]
  },
  {
   "cell_type": "code",
   "execution_count": 3,
   "metadata": {},
   "outputs": [
    {
     "data": {
      "text/html": [
       "<div>\n",
       "<style scoped>\n",
       "    .dataframe tbody tr th:only-of-type {\n",
       "        vertical-align: middle;\n",
       "    }\n",
       "\n",
       "    .dataframe tbody tr th {\n",
       "        vertical-align: top;\n",
       "    }\n",
       "\n",
       "    .dataframe thead th {\n",
       "        text-align: right;\n",
       "    }\n",
       "</style>\n",
       "<table border=\"1\" class=\"dataframe\">\n",
       "  <thead>\n",
       "    <tr style=\"text-align: right;\">\n",
       "      <th></th>\n",
       "      <th>python_version</th>\n",
       "      <th>release_date</th>\n",
       "      <th>first_release</th>\n",
       "      <th>appplication</th>\n",
       "    </tr>\n",
       "  </thead>\n",
       "  <tbody>\n",
       "    <tr>\n",
       "      <th>0</th>\n",
       "      <td>2.5.6</td>\n",
       "      <td>2011-05-26</td>\n",
       "      <td>2006-09-19</td>\n",
       "      <td>fibonacci_oldVersions.py 506999</td>\n",
       "    </tr>\n",
       "    <tr>\n",
       "      <th>1</th>\n",
       "      <td>2.7.18</td>\n",
       "      <td>2020-04-20</td>\n",
       "      <td>2010-07-04</td>\n",
       "      <td>fibonacci_oldVersions.py 506999</td>\n",
       "    </tr>\n",
       "    <tr>\n",
       "      <th>2</th>\n",
       "      <td>3.0.1</td>\n",
       "      <td>2009-02-13</td>\n",
       "      <td>2008-12-03</td>\n",
       "      <td>fibonacci_oldVersions.py 506999</td>\n",
       "    </tr>\n",
       "    <tr>\n",
       "      <th>3</th>\n",
       "      <td>3.4.10</td>\n",
       "      <td>2019-03-18</td>\n",
       "      <td>2014-03-16</td>\n",
       "      <td>fibonacci_oldVersions.py 506999</td>\n",
       "    </tr>\n",
       "    <tr>\n",
       "      <th>4</th>\n",
       "      <td>3.5.10</td>\n",
       "      <td>2020-09-05</td>\n",
       "      <td>2015-09-13</td>\n",
       "      <td>fibonacci_oldVersions.py 506999</td>\n",
       "    </tr>\n",
       "    <tr>\n",
       "      <th>5</th>\n",
       "      <td>3.6.15</td>\n",
       "      <td>2021-09-04</td>\n",
       "      <td>2016-12-23</td>\n",
       "      <td>fibonacci_oldVersions.py 506999</td>\n",
       "    </tr>\n",
       "    <tr>\n",
       "      <th>6</th>\n",
       "      <td>3.7.16</td>\n",
       "      <td>2022-12-06</td>\n",
       "      <td>2018-06-27</td>\n",
       "      <td>fibonacci_oldVersions.py 506999</td>\n",
       "    </tr>\n",
       "    <tr>\n",
       "      <th>7</th>\n",
       "      <td>3.8.16</td>\n",
       "      <td>2022-12-06</td>\n",
       "      <td>2019-10-14</td>\n",
       "      <td>fibonacci_oldVersions.py 506999</td>\n",
       "    </tr>\n",
       "    <tr>\n",
       "      <th>8</th>\n",
       "      <td>3.9.16</td>\n",
       "      <td>2022-12-06</td>\n",
       "      <td>2020-10-05</td>\n",
       "      <td>fibonacci_oldVersions.py 506999</td>\n",
       "    </tr>\n",
       "    <tr>\n",
       "      <th>9</th>\n",
       "      <td>3.10.11</td>\n",
       "      <td>2023-04-05</td>\n",
       "      <td>2021-10-04</td>\n",
       "      <td>fibonacci_oldVersions.py 506999</td>\n",
       "    </tr>\n",
       "    <tr>\n",
       "      <th>10</th>\n",
       "      <td>3.11.3</td>\n",
       "      <td>2023-04-05</td>\n",
       "      <td>2022-10-24</td>\n",
       "      <td>fibonacci_oldVersions.py 506999</td>\n",
       "    </tr>\n",
       "    <tr>\n",
       "      <th>11</th>\n",
       "      <td>3.12.0b1</td>\n",
       "      <td>2023-05-22</td>\n",
       "      <td>2023-05-22</td>\n",
       "      <td>fibonacci_oldVersions.py 506999</td>\n",
       "    </tr>\n",
       "    <tr>\n",
       "      <th>12</th>\n",
       "      <td>3.13.0a0</td>\n",
       "      <td>2023-06-07</td>\n",
       "      <td>2023-06-07</td>\n",
       "      <td>fibonacci_oldVersions.py 506999</td>\n",
       "    </tr>\n",
       "  </tbody>\n",
       "</table>\n",
       "</div>"
      ],
      "text/plain": [
       "   python_version release_date first_release                     appplication\n",
       "0           2.5.6   2011-05-26    2006-09-19  fibonacci_oldVersions.py 506999\n",
       "1          2.7.18   2020-04-20    2010-07-04  fibonacci_oldVersions.py 506999\n",
       "2           3.0.1   2009-02-13    2008-12-03  fibonacci_oldVersions.py 506999\n",
       "3          3.4.10   2019-03-18    2014-03-16  fibonacci_oldVersions.py 506999\n",
       "4          3.5.10   2020-09-05    2015-09-13  fibonacci_oldVersions.py 506999\n",
       "5          3.6.15   2021-09-04    2016-12-23  fibonacci_oldVersions.py 506999\n",
       "6          3.7.16   2022-12-06    2018-06-27  fibonacci_oldVersions.py 506999\n",
       "7          3.8.16   2022-12-06    2019-10-14  fibonacci_oldVersions.py 506999\n",
       "8          3.9.16   2022-12-06    2020-10-05  fibonacci_oldVersions.py 506999\n",
       "9         3.10.11   2023-04-05    2021-10-04  fibonacci_oldVersions.py 506999\n",
       "10         3.11.3   2023-04-05    2022-10-24  fibonacci_oldVersions.py 506999\n",
       "11       3.12.0b1   2023-05-22    2023-05-22  fibonacci_oldVersions.py 506999\n",
       "12       3.13.0a0   2023-06-07    2023-06-07  fibonacci_oldVersions.py 506999"
      ]
     },
     "execution_count": 3,
     "metadata": {},
     "output_type": "execute_result"
    }
   ],
   "source": [
    "df_data = df[['python_version', 'release_date', 'first_release', 'appplication']]\n",
    "df_data"
   ]
  },
  {
   "cell_type": "code",
   "execution_count": 4,
   "metadata": {},
   "outputs": [
    {
     "data": {
      "text/html": [
       "<div>\n",
       "<style scoped>\n",
       "    .dataframe tbody tr th:only-of-type {\n",
       "        vertical-align: middle;\n",
       "    }\n",
       "\n",
       "    .dataframe tbody tr th {\n",
       "        vertical-align: top;\n",
       "    }\n",
       "\n",
       "    .dataframe thead th {\n",
       "        text-align: right;\n",
       "    }\n",
       "</style>\n",
       "<table border=\"1\" class=\"dataframe\">\n",
       "  <thead>\n",
       "    <tr style=\"text-align: right;\">\n",
       "      <th></th>\n",
       "      <th>time_elapsed</th>\n",
       "      <th>usec</th>\n",
       "      <th>Time_Of_Day_Seconds</th>\n",
       "      <th>APIC</th>\n",
       "      <th>X2APIC</th>\n",
       "      <th>Avg_MHz</th>\n",
       "      <th>Busy%</th>\n",
       "      <th>Bzy_MHz</th>\n",
       "      <th>TSC_MHz</th>\n",
       "      <th>IPC</th>\n",
       "      <th>...</th>\n",
       "      <th>Pkg%pc9</th>\n",
       "      <th>Pk%pc10</th>\n",
       "      <th>CPU%LPI</th>\n",
       "      <th>SYS%LPI</th>\n",
       "      <th>Pkg_J</th>\n",
       "      <th>Cor_J</th>\n",
       "      <th>GFX_J</th>\n",
       "      <th>RAM_J</th>\n",
       "      <th>PKG_%</th>\n",
       "      <th>RAM_%</th>\n",
       "    </tr>\n",
       "  </thead>\n",
       "  <tbody>\n",
       "    <tr>\n",
       "      <th>0</th>\n",
       "      <td>7.41879</td>\n",
       "      <td>1113.7</td>\n",
       "      <td>1.686841e+09</td>\n",
       "      <td>0.0</td>\n",
       "      <td>0.0</td>\n",
       "      <td>528.9</td>\n",
       "      <td>12.99</td>\n",
       "      <td>4070.2</td>\n",
       "      <td>1896.0</td>\n",
       "      <td>2.91</td>\n",
       "      <td>...</td>\n",
       "      <td>0.0</td>\n",
       "      <td>0.0</td>\n",
       "      <td>0.0</td>\n",
       "      <td>0.0</td>\n",
       "      <td>135.09</td>\n",
       "      <td>115.14</td>\n",
       "      <td>0.04</td>\n",
       "      <td>6.33</td>\n",
       "      <td>0.0</td>\n",
       "      <td>0.0</td>\n",
       "    </tr>\n",
       "    <tr>\n",
       "      <th>1</th>\n",
       "      <td>4.71534</td>\n",
       "      <td>1096.1</td>\n",
       "      <td>1.686841e+09</td>\n",
       "      <td>0.0</td>\n",
       "      <td>0.0</td>\n",
       "      <td>526.1</td>\n",
       "      <td>13.14</td>\n",
       "      <td>4003.5</td>\n",
       "      <td>1896.0</td>\n",
       "      <td>2.20</td>\n",
       "      <td>...</td>\n",
       "      <td>0.0</td>\n",
       "      <td>0.0</td>\n",
       "      <td>0.0</td>\n",
       "      <td>0.0</td>\n",
       "      <td>85.29</td>\n",
       "      <td>72.16</td>\n",
       "      <td>0.03</td>\n",
       "      <td>4.69</td>\n",
       "      <td>0.0</td>\n",
       "      <td>0.0</td>\n",
       "    </tr>\n",
       "    <tr>\n",
       "      <th>2</th>\n",
       "      <td>7.50869</td>\n",
       "      <td>1199.4</td>\n",
       "      <td>1.686841e+09</td>\n",
       "      <td>0.0</td>\n",
       "      <td>0.0</td>\n",
       "      <td>446.3</td>\n",
       "      <td>13.12</td>\n",
       "      <td>3401.6</td>\n",
       "      <td>1896.0</td>\n",
       "      <td>2.76</td>\n",
       "      <td>...</td>\n",
       "      <td>0.0</td>\n",
       "      <td>0.0</td>\n",
       "      <td>0.0</td>\n",
       "      <td>0.0</td>\n",
       "      <td>91.97</td>\n",
       "      <td>71.72</td>\n",
       "      <td>0.04</td>\n",
       "      <td>6.40</td>\n",
       "      <td>0.0</td>\n",
       "      <td>0.0</td>\n",
       "    </tr>\n",
       "    <tr>\n",
       "      <th>3</th>\n",
       "      <td>5.55466</td>\n",
       "      <td>1191.9</td>\n",
       "      <td>1.686841e+09</td>\n",
       "      <td>0.0</td>\n",
       "      <td>0.0</td>\n",
       "      <td>445.5</td>\n",
       "      <td>13.29</td>\n",
       "      <td>3354.4</td>\n",
       "      <td>1896.0</td>\n",
       "      <td>2.22</td>\n",
       "      <td>...</td>\n",
       "      <td>0.0</td>\n",
       "      <td>0.0</td>\n",
       "      <td>0.0</td>\n",
       "      <td>0.0</td>\n",
       "      <td>65.83</td>\n",
       "      <td>50.70</td>\n",
       "      <td>0.03</td>\n",
       "      <td>5.23</td>\n",
       "      <td>0.0</td>\n",
       "      <td>0.0</td>\n",
       "    </tr>\n",
       "    <tr>\n",
       "      <th>4</th>\n",
       "      <td>5.57666</td>\n",
       "      <td>1193.9</td>\n",
       "      <td>1.686841e+09</td>\n",
       "      <td>0.0</td>\n",
       "      <td>0.0</td>\n",
       "      <td>451.5</td>\n",
       "      <td>13.52</td>\n",
       "      <td>3347.5</td>\n",
       "      <td>1896.0</td>\n",
       "      <td>2.22</td>\n",
       "      <td>...</td>\n",
       "      <td>0.0</td>\n",
       "      <td>0.0</td>\n",
       "      <td>0.0</td>\n",
       "      <td>0.0</td>\n",
       "      <td>66.08</td>\n",
       "      <td>50.72</td>\n",
       "      <td>0.03</td>\n",
       "      <td>5.26</td>\n",
       "      <td>0.0</td>\n",
       "      <td>0.0</td>\n",
       "    </tr>\n",
       "    <tr>\n",
       "      <th>5</th>\n",
       "      <td>5.56470</td>\n",
       "      <td>1180.7</td>\n",
       "      <td>1.686841e+09</td>\n",
       "      <td>0.0</td>\n",
       "      <td>0.0</td>\n",
       "      <td>446.7</td>\n",
       "      <td>13.23</td>\n",
       "      <td>3377.1</td>\n",
       "      <td>1896.0</td>\n",
       "      <td>2.21</td>\n",
       "      <td>...</td>\n",
       "      <td>0.0</td>\n",
       "      <td>0.0</td>\n",
       "      <td>0.0</td>\n",
       "      <td>0.0</td>\n",
       "      <td>65.98</td>\n",
       "      <td>50.88</td>\n",
       "      <td>0.03</td>\n",
       "      <td>5.23</td>\n",
       "      <td>0.0</td>\n",
       "      <td>0.0</td>\n",
       "    </tr>\n",
       "    <tr>\n",
       "      <th>6</th>\n",
       "      <td>5.54157</td>\n",
       "      <td>1199.3</td>\n",
       "      <td>1.686841e+09</td>\n",
       "      <td>0.0</td>\n",
       "      <td>0.0</td>\n",
       "      <td>443.6</td>\n",
       "      <td>13.20</td>\n",
       "      <td>3359.6</td>\n",
       "      <td>1896.0</td>\n",
       "      <td>2.23</td>\n",
       "      <td>...</td>\n",
       "      <td>0.0</td>\n",
       "      <td>0.0</td>\n",
       "      <td>0.0</td>\n",
       "      <td>0.0</td>\n",
       "      <td>65.66</td>\n",
       "      <td>50.62</td>\n",
       "      <td>0.03</td>\n",
       "      <td>5.21</td>\n",
       "      <td>0.0</td>\n",
       "      <td>0.0</td>\n",
       "    </tr>\n",
       "    <tr>\n",
       "      <th>7</th>\n",
       "      <td>5.51648</td>\n",
       "      <td>1199.8</td>\n",
       "      <td>1.686841e+09</td>\n",
       "      <td>0.0</td>\n",
       "      <td>0.0</td>\n",
       "      <td>445.3</td>\n",
       "      <td>13.18</td>\n",
       "      <td>3376.7</td>\n",
       "      <td>1896.0</td>\n",
       "      <td>2.24</td>\n",
       "      <td>...</td>\n",
       "      <td>0.0</td>\n",
       "      <td>0.0</td>\n",
       "      <td>0.0</td>\n",
       "      <td>0.0</td>\n",
       "      <td>65.38</td>\n",
       "      <td>50.33</td>\n",
       "      <td>0.03</td>\n",
       "      <td>5.19</td>\n",
       "      <td>0.0</td>\n",
       "      <td>0.0</td>\n",
       "    </tr>\n",
       "    <tr>\n",
       "      <th>8</th>\n",
       "      <td>5.50998</td>\n",
       "      <td>1200.8</td>\n",
       "      <td>1.686841e+09</td>\n",
       "      <td>0.0</td>\n",
       "      <td>0.0</td>\n",
       "      <td>444.2</td>\n",
       "      <td>13.15</td>\n",
       "      <td>3378.7</td>\n",
       "      <td>1896.0</td>\n",
       "      <td>2.24</td>\n",
       "      <td>...</td>\n",
       "      <td>0.0</td>\n",
       "      <td>0.0</td>\n",
       "      <td>0.0</td>\n",
       "      <td>0.0</td>\n",
       "      <td>65.27</td>\n",
       "      <td>50.27</td>\n",
       "      <td>0.03</td>\n",
       "      <td>5.18</td>\n",
       "      <td>0.0</td>\n",
       "      <td>0.0</td>\n",
       "    </tr>\n",
       "    <tr>\n",
       "      <th>9</th>\n",
       "      <td>5.55412</td>\n",
       "      <td>1197.9</td>\n",
       "      <td>1.686841e+09</td>\n",
       "      <td>0.0</td>\n",
       "      <td>0.0</td>\n",
       "      <td>447.2</td>\n",
       "      <td>13.27</td>\n",
       "      <td>3371.3</td>\n",
       "      <td>1896.0</td>\n",
       "      <td>2.21</td>\n",
       "      <td>...</td>\n",
       "      <td>0.0</td>\n",
       "      <td>0.0</td>\n",
       "      <td>0.0</td>\n",
       "      <td>0.0</td>\n",
       "      <td>65.81</td>\n",
       "      <td>50.68</td>\n",
       "      <td>0.03</td>\n",
       "      <td>5.21</td>\n",
       "      <td>0.0</td>\n",
       "      <td>0.0</td>\n",
       "    </tr>\n",
       "    <tr>\n",
       "      <th>10</th>\n",
       "      <td>5.46455</td>\n",
       "      <td>1201.7</td>\n",
       "      <td>1.686841e+09</td>\n",
       "      <td>0.0</td>\n",
       "      <td>0.0</td>\n",
       "      <td>443.1</td>\n",
       "      <td>13.20</td>\n",
       "      <td>3358.5</td>\n",
       "      <td>1896.0</td>\n",
       "      <td>2.24</td>\n",
       "      <td>...</td>\n",
       "      <td>0.0</td>\n",
       "      <td>0.0</td>\n",
       "      <td>0.0</td>\n",
       "      <td>0.0</td>\n",
       "      <td>64.72</td>\n",
       "      <td>49.77</td>\n",
       "      <td>0.03</td>\n",
       "      <td>5.14</td>\n",
       "      <td>0.0</td>\n",
       "      <td>0.0</td>\n",
       "    </tr>\n",
       "    <tr>\n",
       "      <th>11</th>\n",
       "      <td>5.49865</td>\n",
       "      <td>1191.4</td>\n",
       "      <td>1.686841e+09</td>\n",
       "      <td>0.0</td>\n",
       "      <td>0.0</td>\n",
       "      <td>443.9</td>\n",
       "      <td>13.23</td>\n",
       "      <td>3356.3</td>\n",
       "      <td>1896.0</td>\n",
       "      <td>2.23</td>\n",
       "      <td>...</td>\n",
       "      <td>0.0</td>\n",
       "      <td>0.0</td>\n",
       "      <td>0.0</td>\n",
       "      <td>0.0</td>\n",
       "      <td>65.13</td>\n",
       "      <td>50.11</td>\n",
       "      <td>0.03</td>\n",
       "      <td>5.17</td>\n",
       "      <td>0.0</td>\n",
       "      <td>0.0</td>\n",
       "    </tr>\n",
       "    <tr>\n",
       "      <th>12</th>\n",
       "      <td>5.46132</td>\n",
       "      <td>1194.0</td>\n",
       "      <td>1.686841e+09</td>\n",
       "      <td>0.0</td>\n",
       "      <td>0.0</td>\n",
       "      <td>444.3</td>\n",
       "      <td>13.15</td>\n",
       "      <td>3379.3</td>\n",
       "      <td>1896.0</td>\n",
       "      <td>2.24</td>\n",
       "      <td>...</td>\n",
       "      <td>0.0</td>\n",
       "      <td>0.0</td>\n",
       "      <td>0.0</td>\n",
       "      <td>0.0</td>\n",
       "      <td>64.69</td>\n",
       "      <td>49.84</td>\n",
       "      <td>0.03</td>\n",
       "      <td>5.14</td>\n",
       "      <td>0.0</td>\n",
       "      <td>0.0</td>\n",
       "    </tr>\n",
       "  </tbody>\n",
       "</table>\n",
       "<p>13 rows × 58 columns</p>\n",
       "</div>"
      ],
      "text/plain": [
       "    time_elapsed    usec  Time_Of_Day_Seconds  APIC  X2APIC  Avg_MHz  Busy%  \\\n",
       "0        7.41879  1113.7         1.686841e+09   0.0     0.0    528.9  12.99   \n",
       "1        4.71534  1096.1         1.686841e+09   0.0     0.0    526.1  13.14   \n",
       "2        7.50869  1199.4         1.686841e+09   0.0     0.0    446.3  13.12   \n",
       "3        5.55466  1191.9         1.686841e+09   0.0     0.0    445.5  13.29   \n",
       "4        5.57666  1193.9         1.686841e+09   0.0     0.0    451.5  13.52   \n",
       "5        5.56470  1180.7         1.686841e+09   0.0     0.0    446.7  13.23   \n",
       "6        5.54157  1199.3         1.686841e+09   0.0     0.0    443.6  13.20   \n",
       "7        5.51648  1199.8         1.686841e+09   0.0     0.0    445.3  13.18   \n",
       "8        5.50998  1200.8         1.686841e+09   0.0     0.0    444.2  13.15   \n",
       "9        5.55412  1197.9         1.686841e+09   0.0     0.0    447.2  13.27   \n",
       "10       5.46455  1201.7         1.686841e+09   0.0     0.0    443.1  13.20   \n",
       "11       5.49865  1191.4         1.686841e+09   0.0     0.0    443.9  13.23   \n",
       "12       5.46132  1194.0         1.686841e+09   0.0     0.0    444.3  13.15   \n",
       "\n",
       "    Bzy_MHz  TSC_MHz   IPC  ...  Pkg%pc9  Pk%pc10  CPU%LPI  SYS%LPI   Pkg_J  \\\n",
       "0    4070.2   1896.0  2.91  ...      0.0      0.0      0.0      0.0  135.09   \n",
       "1    4003.5   1896.0  2.20  ...      0.0      0.0      0.0      0.0   85.29   \n",
       "2    3401.6   1896.0  2.76  ...      0.0      0.0      0.0      0.0   91.97   \n",
       "3    3354.4   1896.0  2.22  ...      0.0      0.0      0.0      0.0   65.83   \n",
       "4    3347.5   1896.0  2.22  ...      0.0      0.0      0.0      0.0   66.08   \n",
       "5    3377.1   1896.0  2.21  ...      0.0      0.0      0.0      0.0   65.98   \n",
       "6    3359.6   1896.0  2.23  ...      0.0      0.0      0.0      0.0   65.66   \n",
       "7    3376.7   1896.0  2.24  ...      0.0      0.0      0.0      0.0   65.38   \n",
       "8    3378.7   1896.0  2.24  ...      0.0      0.0      0.0      0.0   65.27   \n",
       "9    3371.3   1896.0  2.21  ...      0.0      0.0      0.0      0.0   65.81   \n",
       "10   3358.5   1896.0  2.24  ...      0.0      0.0      0.0      0.0   64.72   \n",
       "11   3356.3   1896.0  2.23  ...      0.0      0.0      0.0      0.0   65.13   \n",
       "12   3379.3   1896.0  2.24  ...      0.0      0.0      0.0      0.0   64.69   \n",
       "\n",
       "     Cor_J  GFX_J  RAM_J  PKG_%  RAM_%  \n",
       "0   115.14   0.04   6.33    0.0    0.0  \n",
       "1    72.16   0.03   4.69    0.0    0.0  \n",
       "2    71.72   0.04   6.40    0.0    0.0  \n",
       "3    50.70   0.03   5.23    0.0    0.0  \n",
       "4    50.72   0.03   5.26    0.0    0.0  \n",
       "5    50.88   0.03   5.23    0.0    0.0  \n",
       "6    50.62   0.03   5.21    0.0    0.0  \n",
       "7    50.33   0.03   5.19    0.0    0.0  \n",
       "8    50.27   0.03   5.18    0.0    0.0  \n",
       "9    50.68   0.03   5.21    0.0    0.0  \n",
       "10   49.77   0.03   5.14    0.0    0.0  \n",
       "11   50.11   0.03   5.17    0.0    0.0  \n",
       "12   49.84   0.03   5.14    0.0    0.0  \n",
       "\n",
       "[13 rows x 58 columns]"
      ]
     },
     "execution_count": 4,
     "metadata": {},
     "output_type": "execute_result"
    }
   ],
   "source": [
    "df_metric = df.loc[:, ~df.columns.isin(['python_version', 'release_date', 'first_release', 'appplication'])]\n",
    "df_metric"
   ]
  },
  {
   "cell_type": "code",
   "execution_count": 5,
   "metadata": {},
   "outputs": [],
   "source": [
    "# Extract relevant columns\n",
    "python_version = df['python_version']\n",
    "release = df['release_date']\n",
    "first_release = df['first_release']\n",
    "time_elapsed = df['time_elapsed']\n",
    "avg_mhz = df['Avg_MHz']                       # no. of cycles executed divided by time elapsed\n",
    "busy_percent = df['Busy%']                    # % of time in C0 state\n",
    "busy_mhz = df['Bzy_MHz']                      # Avg clock rate while the CPU was not idle in C0 state\n",
    "ipc = df['IPC']\n",
    "irq = df['IRQ']\n",
    "poll = df['POLL']\n",
    "c1 = df['C1']\n",
    "c1e = df['C1E']\n",
    "c3 = df['C3']\n",
    "c6 = df['C6']\n",
    "c7s = df['C7s']\n",
    "c8 = df['C8']\n",
    "coreTemperature = df['CoreTmp']\n",
    "pkgTemperature = df['PkgTmp']\n",
    "gfx_percent = df['GFX%rc6']\n",
    "gfx_mhz = df['GFXMHz']\n",
    "total_c0_percent = df['Totl%C0']\n",
    "any_c0_percent = df['Any%C0']\n",
    "gfx_c0_percent = df['GFX%C0']\n",
    "cpugfx_percent = df['CPUGFX%']\n",
    "energy_pkg = df['Pkg_J']\n",
    "energy_core = df['Cor_J']\n",
    "energy_gfx = df['GFX_J']\n",
    "energy_ram = df['RAM_J']\n",
    "\n"
   ]
  },
  {
   "attachments": {},
   "cell_type": "markdown",
   "metadata": {},
   "source": [
    "## Trend Plots"
   ]
  },
  {
   "attachments": {},
   "cell_type": "markdown",
   "metadata": {},
   "source": [
    "### Time elapsed vs CPU usage"
   ]
  },
  {
   "cell_type": "code",
   "execution_count": 6,
   "metadata": {},
   "outputs": [
    {
     "name": "stderr",
     "output_type": "stream",
     "text": [
      "No artists with labels found to put in legend.  Note that artists whose label start with an underscore are ignored when legend() is called with no argument.\n"
     ]
    },
    {
     "data": {
      "image/png": "[encoded data removed]",
      "text/plain": [
       "<Figure size 800x600 with 1 Axes>"
      ]
     },
     "metadata": {},
     "output_type": "display_data"
    }
   ],
   "source": [
    "# Plot time elapsed vs CPU usage\n",
    "plt.figure(figsize=(8, 6))\n",
    "plt.scatter(time_elapsed, energy_pkg)\n",
    "plt.xlabel('Time Elapsed')\n",
    "plt.ylabel('Energy Pkg')\n",
    "plt.title('Time Elapsed vs Pkg_J')\n",
    "plt.legend()\n",
    "plt.show()"
   ]
  },
  {
   "attachments": {},
   "cell_type": "markdown",
   "metadata": {},
   "source": [
    "### Time elapsed vs Avg MHz"
   ]
  },
  {
   "cell_type": "code",
   "execution_count": 7,
   "metadata": {},
   "outputs": [
    {
     "name": "stderr",
     "output_type": "stream",
     "text": [
      "No artists with labels found to put in legend.  Note that artists whose label start with an underscore are ignored when legend() is called with no argument.\n"
     ]
    },
    {
     "data": {
      "image/png": "[encoded data removed]",
      "text/plain": [
       "<Figure size 800x600 with 1 Axes>"
      ]
     },
     "metadata": {},
     "output_type": "display_data"
    }
   ],
   "source": [
    "\n",
    "# Plot time elapsed vs Memory usage\n",
    "plt.figure(figsize=(8, 6))\n",
    "plt.scatter(time_elapsed, avg_mhz)\n",
    "plt.xlabel('Time Elapsed')\n",
    "plt.ylabel('Avg MHz')\n",
    "plt.title('Time Elapsed vs Avg MHz')\n",
    "plt.legend()\n",
    "plt.show()"
   ]
  },
  {
   "attachments": {},
   "cell_type": "markdown",
   "metadata": {},
   "source": [
    "### Energy Consumption through different Python versions"
   ]
  },
  {
   "cell_type": "code",
   "execution_count": 8,
   "metadata": {},
   "outputs": [
    {
     "data": {
      "image/png": "[encoded data removed]",
      "text/plain": [
       "<Figure size 800x600 with 1 Axes>"
      ]
     },
     "metadata": {},
     "output_type": "display_data"
    }
   ],
   "source": [
    "\n",
    "# Plot Python version vs Energy Consumption\n",
    "plt.figure(figsize=(8,6))\n",
    "plt.plot(python_version, energy_pkg, label='energy pkg')\n",
    "plt.plot(python_version, energy_core, label='energy core')\n",
    "plt.plot(python_version, energy_ram, label='energy ram')\n",
    "plt.plot(python_version, energy_gfx, label='energy gfx')\n",
    "plt.xlabel('Python version')\n",
    "plt.ylabel('Energy (Joules)')\n",
    "plt.xticks(rotation=45)\n",
    "plt.title('Python versions vs Energy Consumption')\n",
    "plt.legend()\n",
    "plt.show()"
   ]
  },
  {
   "cell_type": "code",
   "execution_count": 9,
   "metadata": {},
   "outputs": [
    {
     "data": {
      "application/vnd.plotly.v1+json": {
       "config": {
        "plotlyServerURL": "https://plot.ly"
       },
       "data": [
        {
         "hovertemplate": "variable=Pkg_J<br>python_version=%{x}<br>value=%{y}<br>text=%{text}<extra></extra>",
         "legendgroup": "Pkg_J",
         "line": {
          "color": "#636efa",
          "dash": "solid"
         },
         "marker": {
          "symbol": "circle"
         },
         "mode": "markers+lines+text",
         "name": "Pkg_J",
         "orientation": "v",
         "showlegend": true,
         "text": [
          2006,
          2010,
          2008,
          2014,
          2015,
          2016,
          2018,
          2019,
          2020,
          2021,
          2022,
          2023,
          2023
         ],
         "textposition": "bottom right",
         "type": "scatter",
         "x": [
          "2.5.6",
          "2.7.18",
          "3.0.1",
          "3.4.10",
          "3.5.10",
          "3.6.15",
          "3.7.16",
          "3.8.16",
          "3.9.16",
          "3.10.11",
          "3.11.3",
          "3.12.0b1",
          "3.13.0a0"
         ],
         "xaxis": "x",
         "y": [
          135.09,
          85.29,
          91.97,
          65.83,
          66.08,
          65.98,
          65.66,
          65.38,
          65.27,
          65.81,
          64.72,
          65.13,
          64.69
         ],
         "yaxis": "y"
        },
        {
         "hovertemplate": "variable=Cor_J<br>python_version=%{x}<br>value=%{y}<br>text=%{text}<extra></extra>",
         "legendgroup": "Cor_J",
         "line": {
          "color": "#EF553B",
          "dash": "solid"
         },
         "marker": {
          "symbol": "circle"
         },
         "mode": "markers+lines+text",
         "name": "Cor_J",
         "orientation": "v",
         "showlegend": true,
         "text": [
          2006,
          2010,
          2008,
          2014,
          2015,
          2016,
          2018,
          2019,
          2020,
          2021,
          2022,
          2023,
          2023
         ],
         "textposition": "bottom right",
         "type": "scatter",
         "x": [
          "2.5.6",
          "2.7.18",
          "3.0.1",
          "3.4.10",
          "3.5.10",
          "3.6.15",
          "3.7.16",
          "3.8.16",
          "3.9.16",
          "3.10.11",
          "3.11.3",
          "3.12.0b1",
          "3.13.0a0"
         ],
         "xaxis": "x",
         "y": [
          115.14,
          72.16,
          71.72,
          50.7,
          50.72,
          50.88,
          50.62,
          50.33,
          50.27,
          50.68,
          49.77,
          50.11,
          49.84
         ],
         "yaxis": "y"
        },
        {
         "hovertemplate": "variable=GFX_J<br>python_version=%{x}<br>value=%{y}<br>text=%{text}<extra></extra>",
         "legendgroup": "GFX_J",
         "line": {
          "color": "#00cc96",
          "dash": "solid"
         },
         "marker": {
          "symbol": "circle"
         },
         "mode": "markers+lines+text",
         "name": "GFX_J",
         "orientation": "v",
         "showlegend": true,
         "text": [
          2006,
          2010,
          2008,
          2014,
          2015,
          2016,
          2018,
          2019,
          2020,
          2021,
          2022,
          2023,
          2023
         ],
         "textposition": "bottom right",
         "type": "scatter",
         "x": [
          "2.5.6",
          "2.7.18",
          "3.0.1",
          "3.4.10",
          "3.5.10",
          "3.6.15",
          "3.7.16",
          "3.8.16",
          "3.9.16",
          "3.10.11",
          "3.11.3",
          "3.12.0b1",
          "3.13.0a0"
         ],
         "xaxis": "x",
         "y": [
          0.04,
          0.03,
          0.04,
          0.03,
          0.03,
          0.03,
          0.03,
          0.03,
          0.03,
          0.03,
          0.03,
          0.03,
          0.03
         ],
         "yaxis": "y"
        },
        {
         "hovertemplate": "variable=RAM_J<br>python_version=%{x}<br>value=%{y}<br>text=%{text}<extra></extra>",
         "legendgroup": "RAM_J",
         "line": {
          "color": "#ab63fa",
          "dash": "solid"
         },
         "marker": {
          "symbol": "circle"
         },
         "mode": "markers+lines+text",
         "name": "RAM_J",
         "orientation": "v",
         "showlegend": true,
         "text": [
          2006,
          2010,
          2008,
          2014,
          2015,
          2016,
          2018,
          2019,
          2020,
          2021,
          2022,
          2023,
          2023
         ],
         "textposition": "bottom right",
         "type": "scatter",
         "x": [
          "2.5.6",
          "2.7.18",
          "3.0.1",
          "3.4.10",
          "3.5.10",
          "3.6.15",
          "3.7.16",
          "3.8.16",
          "3.9.16",
          "3.10.11",
          "3.11.3",
          "3.12.0b1",
          "3.13.0a0"
         ],
         "xaxis": "x",
         "y": [
          6.33,
          4.69,
          6.4,
          5.23,
          5.26,
          5.23,
          5.21,
          5.19,
          5.18,
          5.21,
          5.14,
          5.17,
          5.14
         ],
         "yaxis": "y"
        }
       ],
       "layout": {
        "legend": {
         "title": {
          "text": "variable"
         },
         "tracegroupgap": 0
        },
        "margin": {
         "t": 60
        },
        "template": {
         "data": {
          "bar": [
           {
            "error_x": {
             "color": "#2a3f5f"
            },
            "error_y": {
             "color": "#2a3f5f"
            },
            "marker": {
             "line": {
              "color": "#E5ECF6",
              "width": 0.5
             },
             "pattern": {
              "fillmode": "overlay",
              "size": 10,
              "solidity": 0.2
             }
            },
            "type": "bar"
           }
          ],
          "barpolar": [
           {
            "marker": {
             "line": {
              "color": "#E5ECF6",
              "width": 0.5
             },
             "pattern": {
              "fillmode": "overlay",
              "size": 10,
              "solidity": 0.2
             }
            },
            "type": "barpolar"
           }
          ],
          "carpet": [
           {
            "aaxis": {
             "endlinecolor": "#2a3f5f",
             "gridcolor": "white",
             "linecolor": "white",
             "minorgridcolor": "white",
             "startlinecolor": "#2a3f5f"
            },
            "baxis": {
             "endlinecolor": "#2a3f5f",
             "gridcolor": "white",
             "linecolor": "white",
             "minorgridcolor": "white",
             "startlinecolor": "#2a3f5f"
            },
            "type": "carpet"
           }
          ],
          "choropleth": [
           {
            "colorbar": {
             "outlinewidth": 0,
             "ticks": ""
            },
            "type": "choropleth"
           }
          ],
          "contour": [
           {
            "colorbar": {
             "outlinewidth": 0,
             "ticks": ""
            },
            "colorscale": [
             [
              0,
              "#0d0887"
             ],
             [
              0.1111111111111111,
              "#46039f"
             ],
             [
              0.2222222222222222,
              "#7201a8"
             ],
             [
              0.3333333333333333,
              "#9c179e"
             ],
             [
              0.4444444444444444,
              "#bd3786"
             ],
             [
              0.5555555555555556,
              "#d8576b"
             ],
             [
              0.6666666666666666,
              "#ed7953"
             ],
             [
              0.7777777777777778,
              "#fb9f3a"
             ],
             [
              0.8888888888888888,
              "#fdca26"
             ],
             [
              1,
              "#f0f921"
             ]
            ],
            "type": "contour"
           }
          ],
          "contourcarpet": [
           {
            "colorbar": {
             "outlinewidth": 0,
             "ticks": ""
            },
            "type": "contourcarpet"
           }
          ],
          "heatmap": [
           {
            "colorbar": {
             "outlinewidth": 0,
             "ticks": ""
            },
            "colorscale": [
             [
              0,
              "#0d0887"
             ],
             [
              0.1111111111111111,
              "#46039f"
             ],
             [
              0.2222222222222222,
              "#7201a8"
             ],
             [
              0.3333333333333333,
              "#9c179e"
             ],
             [
              0.4444444444444444,
              "#bd3786"
             ],
             [
              0.5555555555555556,
              "#d8576b"
             ],
             [
              0.6666666666666666,
              "#ed7953"
             ],
             [
              0.7777777777777778,
              "#fb9f3a"
             ],
             [
              0.8888888888888888,
              "#fdca26"
             ],
             [
              1,
              "#f0f921"
             ]
            ],
            "type": "heatmap"
           }
          ],
          "heatmapgl": [
           {
            "colorbar": {
             "outlinewidth": 0,
             "ticks": ""
            },
            "colorscale": [
             [
              0,
              "#0d0887"
             ],
             [
              0.1111111111111111,
              "#46039f"
             ],
             [
              0.2222222222222222,
              "#7201a8"
             ],
             [
              0.3333333333333333,
              "#9c179e"
             ],
             [
              0.4444444444444444,
              "#bd3786"
             ],
             [
              0.5555555555555556,
              "#d8576b"
             ],
             [
              0.6666666666666666,
              "#ed7953"
             ],
             [
              0.7777777777777778,
              "#fb9f3a"
             ],
             [
              0.8888888888888888,
              "#fdca26"
             ],
             [
              1,
              "#f0f921"
             ]
            ],
            "type": "heatmapgl"
           }
          ],
          "histogram": [
           {
            "marker": {
             "pattern": {
              "fillmode": "overlay",
              "size": 10,
              "solidity": 0.2
             }
            },
            "type": "histogram"
           }
          ],
          "histogram2d": [
           {
            "colorbar": {
             "outlinewidth": 0,
             "ticks": ""
            },
            "colorscale": [
             [
              0,
              "#0d0887"
             ],
             [
              0.1111111111111111,
              "#46039f"
             ],
             [
              0.2222222222222222,
              "#7201a8"
             ],
             [
              0.3333333333333333,
              "#9c179e"
             ],
             [
              0.4444444444444444,
              "#bd3786"
             ],
             [
              0.5555555555555556,
              "#d8576b"
             ],
             [
              0.6666666666666666,
              "#ed7953"
             ],
             [
              0.7777777777777778,
              "#fb9f3a"
             ],
             [
              0.8888888888888888,
              "#fdca26"
             ],
             [
              1,
              "#f0f921"
             ]
            ],
            "type": "histogram2d"
           }
          ],
          "histogram2dcontour": [
           {
            "colorbar": {
             "outlinewidth": 0,
             "ticks": ""
            },
            "colorscale": [
             [
              0,
              "#0d0887"
             ],
             [
              0.1111111111111111,
              "#46039f"
             ],
             [
              0.2222222222222222,
              "#7201a8"
             ],
             [
              0.3333333333333333,
              "#9c179e"
             ],
             [
              0.4444444444444444,
              "#bd3786"
             ],
             [
              0.5555555555555556,
              "#d8576b"
             ],
             [
              0.6666666666666666,
              "#ed7953"
             ],
             [
              0.7777777777777778,
              "#fb9f3a"
             ],
             [
              0.8888888888888888,
              "#fdca26"
             ],
             [
              1,
              "#f0f921"
             ]
            ],
            "type": "histogram2dcontour"
           }
          ],
          "mesh3d": [
           {
            "colorbar": {
             "outlinewidth": 0,
             "ticks": ""
            },
            "type": "mesh3d"
           }
          ],
          "parcoords": [
           {
            "line": {
             "colorbar": {
              "outlinewidth": 0,
              "ticks": ""
             }
            },
            "type": "parcoords"
           }
          ],
          "pie": [
           {
            "automargin": true,
            "type": "pie"
           }
          ],
          "scatter": [
           {
            "fillpattern": {
             "fillmode": "overlay",
             "size": 10,
             "solidity": 0.2
            },
            "type": "scatter"
           }
          ],
          "scatter3d": [
           {
            "line": {
             "colorbar": {
              "outlinewidth": 0,
              "ticks": ""
             }
            },
            "marker": {
             "colorbar": {
              "outlinewidth": 0,
              "ticks": ""
             }
            },
            "type": "scatter3d"
           }
          ],
          "scattercarpet": [
           {
            "marker": {
             "colorbar": {
              "outlinewidth": 0,
              "ticks": ""
             }
            },
            "type": "scattercarpet"
           }
          ],
          "scattergeo": [
           {
            "marker": {
             "colorbar": {
              "outlinewidth": 0,
              "ticks": ""
             }
            },
            "type": "scattergeo"
           }
          ],
          "scattergl": [
           {
            "marker": {
             "colorbar": {
              "outlinewidth": 0,
              "ticks": ""
             }
            },
            "type": "scattergl"
           }
          ],
          "scattermapbox": [
           {
            "marker": {
             "colorbar": {
              "outlinewidth": 0,
              "ticks": ""
             }
            },
            "type": "scattermapbox"
           }
          ],
          "scatterpolar": [
           {
            "marker": {
             "colorbar": {
              "outlinewidth": 0,
              "ticks": ""
             }
            },
            "type": "scatterpolar"
           }
          ],
          "scatterpolargl": [
           {
            "marker": {
             "colorbar": {
              "outlinewidth": 0,
              "ticks": ""
             }
            },
            "type": "scatterpolargl"
           }
          ],
          "scatterternary": [
           {
            "marker": {
             "colorbar": {
              "outlinewidth": 0,
              "ticks": ""
             }
            },
            "type": "scatterternary"
           }
          ],
          "surface": [
           {
            "colorbar": {
             "outlinewidth": 0,
             "ticks": ""
            },
            "colorscale": [
             [
              0,
              "#0d0887"
             ],
             [
              0.1111111111111111,
              "#46039f"
             ],
             [
              0.2222222222222222,
              "#7201a8"
             ],
             [
              0.3333333333333333,
              "#9c179e"
             ],
             [
              0.4444444444444444,
              "#bd3786"
             ],
             [
              0.5555555555555556,
              "#d8576b"
             ],
             [
              0.6666666666666666,
              "#ed7953"
             ],
             [
              0.7777777777777778,
              "#fb9f3a"
             ],
             [
              0.8888888888888888,
              "#fdca26"
             ],
             [
              1,
              "#f0f921"
             ]
            ],
            "type": "surface"
           }
          ],
          "table": [
           {
            "cells": {
             "fill": {
              "color": "#EBF0F8"
             },
             "line": {
              "color": "white"
             }
            },
            "header": {
             "fill": {
              "color": "#C8D4E3"
             },
             "line": {
              "color": "white"
             }
            },
            "type": "table"
           }
          ]
         },
         "layout": {
          "annotationdefaults": {
           "arrowcolor": "#2a3f5f",
           "arrowhead": 0,
           "arrowwidth": 1
          },
          "autotypenumbers": "strict",
          "coloraxis": {
           "colorbar": {
            "outlinewidth": 0,
            "ticks": ""
           }
          },
          "colorscale": {
           "diverging": [
            [
             0,
             "#8e0152"
            ],
            [
             0.1,
             "#c51b7d"
            ],
            [
             0.2,
             "#de77ae"
            ],
            [
             0.3,
             "#f1b6da"
            ],
            [
             0.4,
             "#fde0ef"
            ],
            [
             0.5,
             "#f7f7f7"
            ],
            [
             0.6,
             "#e6f5d0"
            ],
            [
             0.7,
             "#b8e186"
            ],
            [
             0.8,
             "#7fbc41"
            ],
            [
             0.9,
             "#4d9221"
            ],
            [
             1,
             "#276419"
            ]
           ],
           "sequential": [
            [
             0,
             "#0d0887"
            ],
            [
             0.1111111111111111,
             "#46039f"
            ],
            [
             0.2222222222222222,
             "#7201a8"
            ],
            [
             0.3333333333333333,
             "#9c179e"
            ],
            [
             0.4444444444444444,
             "#bd3786"
            ],
            [
             0.5555555555555556,
             "#d8576b"
            ],
            [
             0.6666666666666666,
             "#ed7953"
            ],
            [
             0.7777777777777778,
             "#fb9f3a"
            ],
            [
             0.8888888888888888,
             "#fdca26"
            ],
            [
             1,
             "#f0f921"
            ]
           ],
           "sequentialminus": [
            [
             0,
             "#0d0887"
            ],
            [
             0.1111111111111111,
             "#46039f"
            ],
            [
             0.2222222222222222,
             "#7201a8"
            ],
            [
             0.3333333333333333,
             "#9c179e"
            ],
            [
             0.4444444444444444,
             "#bd3786"
            ],
            [
             0.5555555555555556,
             "#d8576b"
            ],
            [
             0.6666666666666666,
             "#ed7953"
            ],
            [
             0.7777777777777778,
             "#fb9f3a"
            ],
            [
             0.8888888888888888,
             "#fdca26"
            ],
            [
             1,
             "#f0f921"
            ]
           ]
          },
          "colorway": [
           "#636efa",
           "#EF553B",
           "#00cc96",
           "#ab63fa",
           "#FFA15A",
           "#19d3f3",
           "#FF6692",
           "#B6E880",
           "#FF97FF",
           "#FECB52"
          ],
          "font": {
           "color": "#2a3f5f"
          },
          "geo": {
           "bgcolor": "white",
           "lakecolor": "white",
           "landcolor": "#E5ECF6",
           "showlakes": true,
           "showland": true,
           "subunitcolor": "white"
          },
          "hoverlabel": {
           "align": "left"
          },
          "hovermode": "closest",
          "mapbox": {
           "style": "light"
          },
          "paper_bgcolor": "white",
          "plot_bgcolor": "#E5ECF6",
          "polar": {
           "angularaxis": {
            "gridcolor": "white",
            "linecolor": "white",
            "ticks": ""
           },
           "bgcolor": "#E5ECF6",
           "radialaxis": {
            "gridcolor": "white",
            "linecolor": "white",
            "ticks": ""
           }
          },
          "scene": {
           "xaxis": {
            "backgroundcolor": "#E5ECF6",
            "gridcolor": "white",
            "gridwidth": 2,
            "linecolor": "white",
            "showbackground": true,
            "ticks": "",
            "zerolinecolor": "white"
           },
           "yaxis": {
            "backgroundcolor": "#E5ECF6",
            "gridcolor": "white",
            "gridwidth": 2,
            "linecolor": "white",
            "showbackground": true,
            "ticks": "",
            "zerolinecolor": "white"
           },
           "zaxis": {
            "backgroundcolor": "#E5ECF6",
            "gridcolor": "white",
            "gridwidth": 2,
            "linecolor": "white",
            "showbackground": true,
            "ticks": "",
            "zerolinecolor": "white"
           }
          },
          "shapedefaults": {
           "line": {
            "color": "#2a3f5f"
           }
          },
          "ternary": {
           "aaxis": {
            "gridcolor": "white",
            "linecolor": "white",
            "ticks": ""
           },
           "baxis": {
            "gridcolor": "white",
            "linecolor": "white",
            "ticks": ""
           },
           "bgcolor": "#E5ECF6",
           "caxis": {
            "gridcolor": "white",
            "linecolor": "white",
            "ticks": ""
           }
          },
          "title": {
           "x": 0.05
          },
          "xaxis": {
           "automargin": true,
           "gridcolor": "white",
           "linecolor": "white",
           "ticks": "",
           "title": {
            "standoff": 15
           },
           "zerolinecolor": "white",
           "zerolinewidth": 2
          },
          "yaxis": {
           "automargin": true,
           "gridcolor": "white",
           "linecolor": "white",
           "ticks": "",
           "title": {
            "standoff": 15
           },
           "zerolinecolor": "white",
           "zerolinewidth": 2
          }
         }
        },
        "xaxis": {
         "anchor": "y",
         "domain": [
          0,
          1
         ],
         "title": {
          "text": "python_version"
         }
        },
        "yaxis": {
         "anchor": "x",
         "domain": [
          0,
          1
         ],
         "title": {
          "text": "value"
         }
        }
       }
      }
     },
     "metadata": {},
     "output_type": "display_data"
    }
   ],
   "source": [
    "fig = px.line(df, x=\"python_version\", y=[\"Pkg_J\",\"Cor_J\",\"GFX_J\",\"RAM_J\"], text=pd.to_datetime(df['first_release']).dt.year)\n",
    "fig.update_traces(textposition=\"bottom right\")\n",
    "fig.show()"
   ]
  },
  {
   "attachments": {},
   "cell_type": "markdown",
   "metadata": {},
   "source": [
    "### Energy Consumption through releases (based on Python version)"
   ]
  },
  {
   "cell_type": "code",
   "execution_count": 10,
   "metadata": {},
   "outputs": [
    {
     "data": {
      "application/vnd.plotly.v1+json": {
       "config": {
        "plotlyServerURL": "https://plot.ly"
       },
       "data": [
        {
         "hovertemplate": "variable=Pkg_J<br>first_release=%{x}<br>value=%{y}<br>python_version=%{text}<extra></extra>",
         "legendgroup": "Pkg_J",
         "line": {
          "color": "#636efa",
          "dash": "solid"
         },
         "marker": {
          "symbol": "circle"
         },
         "mode": "markers+lines+text",
         "name": "Pkg_J",
         "orientation": "v",
         "showlegend": true,
         "text": [
          "2.5.6",
          "2.7.18",
          "3.0.1",
          "3.4.10",
          "3.5.10",
          "3.6.15",
          "3.7.16",
          "3.8.16",
          "3.9.16",
          "3.10.11",
          "3.11.3",
          "3.12.0b1",
          "3.13.0a0"
         ],
         "textposition": "bottom right",
         "type": "scatter",
         "x": [
          "2006-09-19T00:00:00",
          "2010-07-04T00:00:00",
          "2008-12-03T00:00:00",
          "2014-03-16T00:00:00",
          "2015-09-13T00:00:00",
          "2016-12-23T00:00:00",
          "2018-06-27T00:00:00",
          "2019-10-14T00:00:00",
          "2020-10-05T00:00:00",
          "2021-10-04T00:00:00",
          "2022-10-24T00:00:00",
          "2023-05-22T00:00:00",
          "2023-06-07T00:00:00"
         ],
         "xaxis": "x",
         "y": [
          135.09,
          85.29,
          91.97,
          65.83,
          66.08,
          65.98,
          65.66,
          65.38,
          65.27,
          65.81,
          64.72,
          65.13,
          64.69
         ],
         "yaxis": "y"
        },
        {
         "hovertemplate": "variable=Cor_J<br>first_release=%{x}<br>value=%{y}<br>python_version=%{text}<extra></extra>",
         "legendgroup": "Cor_J",
         "line": {
          "color": "#EF553B",
          "dash": "solid"
         },
         "marker": {
          "symbol": "circle"
         },
         "mode": "markers+lines+text",
         "name": "Cor_J",
         "orientation": "v",
         "showlegend": true,
         "text": [
          "2.5.6",
          "2.7.18",
          "3.0.1",
          "3.4.10",
          "3.5.10",
          "3.6.15",
          "3.7.16",
          "3.8.16",
          "3.9.16",
          "3.10.11",
          "3.11.3",
          "3.12.0b1",
          "3.13.0a0"
         ],
         "textposition": "bottom right",
         "type": "scatter",
         "x": [
          "2006-09-19T00:00:00",
          "2010-07-04T00:00:00",
          "2008-12-03T00:00:00",
          "2014-03-16T00:00:00",
          "2015-09-13T00:00:00",
          "2016-12-23T00:00:00",
          "2018-06-27T00:00:00",
          "2019-10-14T00:00:00",
          "2020-10-05T00:00:00",
          "2021-10-04T00:00:00",
          "2022-10-24T00:00:00",
          "2023-05-22T00:00:00",
          "2023-06-07T00:00:00"
         ],
         "xaxis": "x",
         "y": [
          115.14,
          72.16,
          71.72,
          50.7,
          50.72,
          50.88,
          50.62,
          50.33,
          50.27,
          50.68,
          49.77,
          50.11,
          49.84
         ],
         "yaxis": "y"
        },
        {
         "hovertemplate": "variable=GFX_J<br>first_release=%{x}<br>value=%{y}<br>python_version=%{text}<extra></extra>",
         "legendgroup": "GFX_J",
         "line": {
          "color": "#00cc96",
          "dash": "solid"
         },
         "marker": {
          "symbol": "circle"
         },
         "mode": "markers+lines+text",
         "name": "GFX_J",
         "orientation": "v",
         "showlegend": true,
         "text": [
          "2.5.6",
          "2.7.18",
          "3.0.1",
          "3.4.10",
          "3.5.10",
          "3.6.15",
          "3.7.16",
          "3.8.16",
          "3.9.16",
          "3.10.11",
          "3.11.3",
          "3.12.0b1",
          "3.13.0a0"
         ],
         "textposition": "bottom right",
         "type": "scatter",
         "x": [
          "2006-09-19T00:00:00",
          "2010-07-04T00:00:00",
          "2008-12-03T00:00:00",
          "2014-03-16T00:00:00",
          "2015-09-13T00:00:00",
          "2016-12-23T00:00:00",
          "2018-06-27T00:00:00",
          "2019-10-14T00:00:00",
          "2020-10-05T00:00:00",
          "2021-10-04T00:00:00",
          "2022-10-24T00:00:00",
          "2023-05-22T00:00:00",
          "2023-06-07T00:00:00"
         ],
         "xaxis": "x",
         "y": [
          0.04,
          0.03,
          0.04,
          0.03,
          0.03,
          0.03,
          0.03,
          0.03,
          0.03,
          0.03,
          0.03,
          0.03,
          0.03
         ],
         "yaxis": "y"
        },
        {
         "hovertemplate": "variable=RAM_J<br>first_release=%{x}<br>value=%{y}<br>python_version=%{text}<extra></extra>",
         "legendgroup": "RAM_J",
         "line": {
          "color": "#ab63fa",
          "dash": "solid"
         },
         "marker": {
          "symbol": "circle"
         },
         "mode": "markers+lines+text",
         "name": "RAM_J",
         "orientation": "v",
         "showlegend": true,
         "text": [
          "2.5.6",
          "2.7.18",
          "3.0.1",
          "3.4.10",
          "3.5.10",
          "3.6.15",
          "3.7.16",
          "3.8.16",
          "3.9.16",
          "3.10.11",
          "3.11.3",
          "3.12.0b1",
          "3.13.0a0"
         ],
         "textposition": "bottom right",
         "type": "scatter",
         "x": [
          "2006-09-19T00:00:00",
          "2010-07-04T00:00:00",
          "2008-12-03T00:00:00",
          "2014-03-16T00:00:00",
          "2015-09-13T00:00:00",
          "2016-12-23T00:00:00",
          "2018-06-27T00:00:00",
          "2019-10-14T00:00:00",
          "2020-10-05T00:00:00",
          "2021-10-04T00:00:00",
          "2022-10-24T00:00:00",
          "2023-05-22T00:00:00",
          "2023-06-07T00:00:00"
         ],
         "xaxis": "x",
         "y": [
          6.33,
          4.69,
          6.4,
          5.23,
          5.26,
          5.23,
          5.21,
          5.19,
          5.18,
          5.21,
          5.14,
          5.17,
          5.14
         ],
         "yaxis": "y"
        }
       ],
       "layout": {
        "legend": {
         "title": {
          "text": "variable"
         },
         "tracegroupgap": 0
        },
        "margin": {
         "t": 60
        },
        "template": {
         "data": {
          "bar": [
           {
            "error_x": {
             "color": "#2a3f5f"
            },
            "error_y": {
             "color": "#2a3f5f"
            },
            "marker": {
             "line": {
              "color": "#E5ECF6",
              "width": 0.5
             },
             "pattern": {
              "fillmode": "overlay",
              "size": 10,
              "solidity": 0.2
             }
            },
            "type": "bar"
           }
          ],
          "barpolar": [
           {
            "marker": {
             "line": {
              "color": "#E5ECF6",
              "width": 0.5
             },
             "pattern": {
              "fillmode": "overlay",
              "size": 10,
              "solidity": 0.2
             }
            },
            "type": "barpolar"
           }
          ],
          "carpet": [
           {
            "aaxis": {
             "endlinecolor": "#2a3f5f",
             "gridcolor": "white",
             "linecolor": "white",
             "minorgridcolor": "white",
             "startlinecolor": "#2a3f5f"
            },
            "baxis": {
             "endlinecolor": "#2a3f5f",
             "gridcolor": "white",
             "linecolor": "white",
             "minorgridcolor": "white",
             "startlinecolor": "#2a3f5f"
            },
            "type": "carpet"
           }
          ],
          "choropleth": [
           {
            "colorbar": {
             "outlinewidth": 0,
             "ticks": ""
            },
            "type": "choropleth"
           }
          ],
          "contour": [
           {
            "colorbar": {
             "outlinewidth": 0,
             "ticks": ""
            },
            "colorscale": [
             [
              0,
              "#0d0887"
             ],
             [
              0.1111111111111111,
              "#46039f"
             ],
             [
              0.2222222222222222,
              "#7201a8"
             ],
             [
              0.3333333333333333,
              "#9c179e"
             ],
             [
              0.4444444444444444,
              "#bd3786"
             ],
             [
              0.5555555555555556,
              "#d8576b"
             ],
             [
              0.6666666666666666,
              "#ed7953"
             ],
             [
              0.7777777777777778,
              "#fb9f3a"
             ],
             [
              0.8888888888888888,
              "#fdca26"
             ],
             [
              1,
              "#f0f921"
             ]
            ],
            "type": "contour"
           }
          ],
          "contourcarpet": [
           {
            "colorbar": {
             "outlinewidth": 0,
             "ticks": ""
            },
            "type": "contourcarpet"
           }
          ],
          "heatmap": [
           {
            "colorbar": {
             "outlinewidth": 0,
             "ticks": ""
            },
            "colorscale": [
             [
              0,
              "#0d0887"
             ],
             [
              0.1111111111111111,
              "#46039f"
             ],
             [
              0.2222222222222222,
              "#7201a8"
             ],
             [
              0.3333333333333333,
              "#9c179e"
             ],
             [
              0.4444444444444444,
              "#bd3786"
             ],
             [
              0.5555555555555556,
              "#d8576b"
             ],
             [
              0.6666666666666666,
              "#ed7953"
             ],
             [
              0.7777777777777778,
              "#fb9f3a"
             ],
             [
              0.8888888888888888,
              "#fdca26"
             ],
             [
              1,
              "#f0f921"
             ]
            ],
            "type": "heatmap"
           }
          ],
          "heatmapgl": [
           {
            "colorbar": {
             "outlinewidth": 0,
             "ticks": ""
            },
            "colorscale": [
             [
              0,
              "#0d0887"
             ],
             [
              0.1111111111111111,
              "#46039f"
             ],
             [
              0.2222222222222222,
              "#7201a8"
             ],
             [
              0.3333333333333333,
              "#9c179e"
             ],
             [
              0.4444444444444444,
              "#bd3786"
             ],
             [
              0.5555555555555556,
              "#d8576b"
             ],
             [
              0.6666666666666666,
              "#ed7953"
             ],
             [
              0.7777777777777778,
              "#fb9f3a"
             ],
             [
              0.8888888888888888,
              "#fdca26"
             ],
             [
              1,
              "#f0f921"
             ]
            ],
            "type": "heatmapgl"
           }
          ],
          "histogram": [
           {
            "marker": {
             "pattern": {
              "fillmode": "overlay",
              "size": 10,
              "solidity": 0.2
             }
            },
            "type": "histogram"
           }
          ],
          "histogram2d": [
           {
            "colorbar": {
             "outlinewidth": 0,
             "ticks": ""
            },
            "colorscale": [
             [
              0,
              "#0d0887"
             ],
             [
              0.1111111111111111,
              "#46039f"
             ],
             [
              0.2222222222222222,
              "#7201a8"
             ],
             [
              0.3333333333333333,
              "#9c179e"
             ],
             [
              0.4444444444444444,
              "#bd3786"
             ],
             [
              0.5555555555555556,
              "#d8576b"
             ],
             [
              0.6666666666666666,
              "#ed7953"
             ],
             [
              0.7777777777777778,
              "#fb9f3a"
             ],
             [
              0.8888888888888888,
              "#fdca26"
             ],
             [
              1,
              "#f0f921"
             ]
            ],
            "type": "histogram2d"
           }
          ],
          "histogram2dcontour": [
           {
            "colorbar": {
             "outlinewidth": 0,
             "ticks": ""
            },
            "colorscale": [
             [
              0,
              "#0d0887"
             ],
             [
              0.1111111111111111,
              "#46039f"
             ],
             [
              0.2222222222222222,
              "#7201a8"
             ],
             [
              0.3333333333333333,
              "#9c179e"
             ],
             [
              0.4444444444444444,
              "#bd3786"
             ],
             [
              0.5555555555555556,
              "#d8576b"
             ],
             [
              0.6666666666666666,
              "#ed7953"
             ],
             [
              0.7777777777777778,
              "#fb9f3a"
             ],
             [
              0.8888888888888888,
              "#fdca26"
             ],
             [
              1,
              "#f0f921"
             ]
            ],
            "type": "histogram2dcontour"
           }
          ],
          "mesh3d": [
           {
            "colorbar": {
             "outlinewidth": 0,
             "ticks": ""
            },
            "type": "mesh3d"
           }
          ],
          "parcoords": [
           {
            "line": {
             "colorbar": {
              "outlinewidth": 0,
              "ticks": ""
             }
            },
            "type": "parcoords"
           }
          ],
          "pie": [
           {
            "automargin": true,
            "type": "pie"
           }
          ],
          "scatter": [
           {
            "fillpattern": {
             "fillmode": "overlay",
             "size": 10,
             "solidity": 0.2
            },
            "type": "scatter"
           }
          ],
          "scatter3d": [
           {
            "line": {
             "colorbar": {
              "outlinewidth": 0,
              "ticks": ""
             }
            },
            "marker": {
             "colorbar": {
              "outlinewidth": 0,
              "ticks": ""
             }
            },
            "type": "scatter3d"
           }
          ],
          "scattercarpet": [
           {
            "marker": {
             "colorbar": {
              "outlinewidth": 0,
              "ticks": ""
             }
            },
            "type": "scattercarpet"
           }
          ],
          "scattergeo": [
           {
            "marker": {
             "colorbar": {
              "outlinewidth": 0,
              "ticks": ""
             }
            },
            "type": "scattergeo"
           }
          ],
          "scattergl": [
           {
            "marker": {
             "colorbar": {
              "outlinewidth": 0,
              "ticks": ""
             }
            },
            "type": "scattergl"
           }
          ],
          "scattermapbox": [
           {
            "marker": {
             "colorbar": {
              "outlinewidth": 0,
              "ticks": ""
             }
            },
            "type": "scattermapbox"
           }
          ],
          "scatterpolar": [
           {
            "marker": {
             "colorbar": {
              "outlinewidth": 0,
              "ticks": ""
             }
            },
            "type": "scatterpolar"
           }
          ],
          "scatterpolargl": [
           {
            "marker": {
             "colorbar": {
              "outlinewidth": 0,
              "ticks": ""
             }
            },
            "type": "scatterpolargl"
           }
          ],
          "scatterternary": [
           {
            "marker": {
             "colorbar": {
              "outlinewidth": 0,
              "ticks": ""
             }
            },
            "type": "scatterternary"
           }
          ],
          "surface": [
           {
            "colorbar": {
             "outlinewidth": 0,
             "ticks": ""
            },
            "colorscale": [
             [
              0,
              "#0d0887"
             ],
             [
              0.1111111111111111,
              "#46039f"
             ],
             [
              0.2222222222222222,
              "#7201a8"
             ],
             [
              0.3333333333333333,
              "#9c179e"
             ],
             [
              0.4444444444444444,
              "#bd3786"
             ],
             [
              0.5555555555555556,
              "#d8576b"
             ],
             [
              0.6666666666666666,
              "#ed7953"
             ],
             [
              0.7777777777777778,
              "#fb9f3a"
             ],
             [
              0.8888888888888888,
              "#fdca26"
             ],
             [
              1,
              "#f0f921"
             ]
            ],
            "type": "surface"
           }
          ],
          "table": [
           {
            "cells": {
             "fill": {
              "color": "#EBF0F8"
             },
             "line": {
              "color": "white"
             }
            },
            "header": {
             "fill": {
              "color": "#C8D4E3"
             },
             "line": {
              "color": "white"
             }
            },
            "type": "table"
           }
          ]
         },
         "layout": {
          "annotationdefaults": {
           "arrowcolor": "#2a3f5f",
           "arrowhead": 0,
           "arrowwidth": 1
          },
          "autotypenumbers": "strict",
          "coloraxis": {
           "colorbar": {
            "outlinewidth": 0,
            "ticks": ""
           }
          },
          "colorscale": {
           "diverging": [
            [
             0,
             "#8e0152"
            ],
            [
             0.1,
             "#c51b7d"
            ],
            [
             0.2,
             "#de77ae"
            ],
            [
             0.3,
             "#f1b6da"
            ],
            [
             0.4,
             "#fde0ef"
            ],
            [
             0.5,
             "#f7f7f7"
            ],
            [
             0.6,
             "#e6f5d0"
            ],
            [
             0.7,
             "#b8e186"
            ],
            [
             0.8,
             "#7fbc41"
            ],
            [
             0.9,
             "#4d9221"
            ],
            [
             1,
             "#276419"
            ]
           ],
           "sequential": [
            [
             0,
             "#0d0887"
            ],
            [
             0.1111111111111111,
             "#46039f"
            ],
            [
             0.2222222222222222,
             "#7201a8"
            ],
            [
             0.3333333333333333,
             "#9c179e"
            ],
            [
             0.4444444444444444,
             "#bd3786"
            ],
            [
             0.5555555555555556,
             "#d8576b"
            ],
            [
             0.6666666666666666,
             "#ed7953"
            ],
            [
             0.7777777777777778,
             "#fb9f3a"
            ],
            [
             0.8888888888888888,
             "#fdca26"
            ],
            [
             1,
             "#f0f921"
            ]
           ],
           "sequentialminus": [
            [
             0,
             "#0d0887"
            ],
            [
             0.1111111111111111,
             "#46039f"
            ],
            [
             0.2222222222222222,
             "#7201a8"
            ],
            [
             0.3333333333333333,
             "#9c179e"
            ],
            [
             0.4444444444444444,
             "#bd3786"
            ],
            [
             0.5555555555555556,
             "#d8576b"
            ],
            [
             0.6666666666666666,
             "#ed7953"
            ],
            [
             0.7777777777777778,
             "#fb9f3a"
            ],
            [
             0.8888888888888888,
             "#fdca26"
            ],
            [
             1,
             "#f0f921"
            ]
           ]
          },
          "colorway": [
           "#636efa",
           "#EF553B",
           "#00cc96",
           "#ab63fa",
           "#FFA15A",
           "#19d3f3",
           "#FF6692",
           "#B6E880",
           "#FF97FF",
           "#FECB52"
          ],
          "font": {
           "color": "#2a3f5f"
          },
          "geo": {
           "bgcolor": "white",
           "lakecolor": "white",
           "landcolor": "#E5ECF6",
           "showlakes": true,
           "showland": true,
           "subunitcolor": "white"
          },
          "hoverlabel": {
           "align": "left"
          },
          "hovermode": "closest",
          "mapbox": {
           "style": "light"
          },
          "paper_bgcolor": "white",
          "plot_bgcolor": "#E5ECF6",
          "polar": {
           "angularaxis": {
            "gridcolor": "white",
            "linecolor": "white",
            "ticks": ""
           },
           "bgcolor": "#E5ECF6",
           "radialaxis": {
            "gridcolor": "white",
            "linecolor": "white",
            "ticks": ""
           }
          },
          "scene": {
           "xaxis": {
            "backgroundcolor": "#E5ECF6",
            "gridcolor": "white",
            "gridwidth": 2,
            "linecolor": "white",
            "showbackground": true,
            "ticks": "",
            "zerolinecolor": "white"
           },
           "yaxis": {
            "backgroundcolor": "#E5ECF6",
            "gridcolor": "white",
            "gridwidth": 2,
            "linecolor": "white",
            "showbackground": true,
            "ticks": "",
            "zerolinecolor": "white"
           },
           "zaxis": {
            "backgroundcolor": "#E5ECF6",
            "gridcolor": "white",
            "gridwidth": 2,
            "linecolor": "white",
            "showbackground": true,
            "ticks": "",
            "zerolinecolor": "white"
           }
          },
          "shapedefaults": {
           "line": {
            "color": "#2a3f5f"
           }
          },
          "ternary": {
           "aaxis": {
            "gridcolor": "white",
            "linecolor": "white",
            "ticks": ""
           },
           "baxis": {
            "gridcolor": "white",
            "linecolor": "white",
            "ticks": ""
           },
           "bgcolor": "#E5ECF6",
           "caxis": {
            "gridcolor": "white",
            "linecolor": "white",
            "ticks": ""
           }
          },
          "title": {
           "x": 0.05
          },
          "xaxis": {
           "automargin": true,
           "gridcolor": "white",
           "linecolor": "white",
           "ticks": "",
           "title": {
            "standoff": 15
           },
           "zerolinecolor": "white",
           "zerolinewidth": 2
          },
          "yaxis": {
           "automargin": true,
           "gridcolor": "white",
           "linecolor": "white",
           "ticks": "",
           "title": {
            "standoff": 15
           },
           "zerolinecolor": "white",
           "zerolinewidth": 2
          }
         }
        },
        "xaxis": {
         "anchor": "y",
         "domain": [
          0,
          1
         ],
         "title": {
          "text": "first_release"
         }
        },
        "yaxis": {
         "anchor": "x",
         "domain": [
          0,
          1
         ],
         "title": {
          "text": "value"
         }
        }
       }
      }
     },
     "metadata": {},
     "output_type": "display_data"
    }
   ],
   "source": [
    "fig = px.line(df, x=\"first_release\", y=[\"Pkg_J\",\"Cor_J\",\"GFX_J\",\"RAM_J\"], text=\"python_version\")\n",
    "fig.update_traces(textposition=\"bottom right\")\n",
    "fig.show()"
   ]
  },
  {
   "attachments": {},
   "cell_type": "markdown",
   "metadata": {},
   "source": [
    "### Time elapsed and more parameters through different Python versions"
   ]
  },
  {
   "cell_type": "code",
   "execution_count": 11,
   "metadata": {},
   "outputs": [
    {
     "data": {
      "application/vnd.plotly.v1+json": {
       "config": {
        "plotlyServerURL": "https://plot.ly"
       },
       "data": [
        {
         "hovertemplate": "variable=time_elapsed<br>python_version=%{x}<br>value=%{y}<br>text=%{text}<extra></extra>",
         "legendgroup": "time_elapsed",
         "line": {
          "color": "#636efa",
          "dash": "solid"
         },
         "marker": {
          "symbol": "circle"
         },
         "mode": "markers+lines+text",
         "name": "time_elapsed",
         "orientation": "v",
         "showlegend": true,
         "text": [
          2011,
          2020,
          2009,
          2019,
          2020,
          2021,
          2022,
          2022,
          2022,
          2023,
          2023,
          2023,
          2023
         ],
         "textposition": "bottom right",
         "type": "scatter",
         "x": [
          "2.5.6",
          "2.7.18",
          "3.0.1",
          "3.4.10",
          "3.5.10",
          "3.6.15",
          "3.7.16",
          "3.8.16",
          "3.9.16",
          "3.10.11",
          "3.11.3",
          "3.12.0b1",
          "3.13.0a0"
         ],
         "xaxis": "x",
         "y": [
          7.41879,
          4.71534,
          7.50869,
          5.55466,
          5.57666,
          5.5647,
          5.54157,
          5.51648,
          5.50998,
          5.55412,
          5.46455,
          5.49865,
          5.46132
         ],
         "yaxis": "y"
        },
        {
         "hovertemplate": "variable=Avg_MHz<br>python_version=%{x}<br>value=%{y}<br>text=%{text}<extra></extra>",
         "legendgroup": "Avg_MHz",
         "line": {
          "color": "#EF553B",
          "dash": "solid"
         },
         "marker": {
          "symbol": "circle"
         },
         "mode": "markers+lines+text",
         "name": "Avg_MHz",
         "orientation": "v",
         "showlegend": true,
         "text": [
          2011,
          2020,
          2009,
          2019,
          2020,
          2021,
          2022,
          2022,
          2022,
          2023,
          2023,
          2023,
          2023
         ],
         "textposition": "bottom right",
         "type": "scatter",
         "x": [
          "2.5.6",
          "2.7.18",
          "3.0.1",
          "3.4.10",
          "3.5.10",
          "3.6.15",
          "3.7.16",
          "3.8.16",
          "3.9.16",
          "3.10.11",
          "3.11.3",
          "3.12.0b1",
          "3.13.0a0"
         ],
         "xaxis": "x",
         "y": [
          528.9,
          526.1,
          446.3,
          445.5,
          451.5,
          446.7,
          443.6,
          445.3,
          444.2,
          447.2,
          443.1,
          443.9,
          444.3
         ],
         "yaxis": "y"
        },
        {
         "hovertemplate": "variable=Busy%<br>python_version=%{x}<br>value=%{y}<br>text=%{text}<extra></extra>",
         "legendgroup": "Busy%",
         "line": {
          "color": "#00cc96",
          "dash": "solid"
         },
         "marker": {
          "symbol": "circle"
         },
         "mode": "markers+lines+text",
         "name": "Busy%",
         "orientation": "v",
         "showlegend": true,
         "text": [
          2011,
          2020,
          2009,
          2019,
          2020,
          2021,
          2022,
          2022,
          2022,
          2023,
          2023,
          2023,
          2023
         ],
         "textposition": "bottom right",
         "type": "scatter",
         "x": [
          "2.5.6",
          "2.7.18",
          "3.0.1",
          "3.4.10",
          "3.5.10",
          "3.6.15",
          "3.7.16",
          "3.8.16",
          "3.9.16",
          "3.10.11",
          "3.11.3",
          "3.12.0b1",
          "3.13.0a0"
         ],
         "xaxis": "x",
         "y": [
          12.99,
          13.14,
          13.12,
          13.29,
          13.52,
          13.23,
          13.2,
          13.18,
          13.15,
          13.27,
          13.2,
          13.23,
          13.15
         ],
         "yaxis": "y"
        },
        {
         "hovertemplate": "variable=Bzy_MHz<br>python_version=%{x}<br>value=%{y}<br>text=%{text}<extra></extra>",
         "legendgroup": "Bzy_MHz",
         "line": {
          "color": "#ab63fa",
          "dash": "solid"
         },
         "marker": {
          "symbol": "circle"
         },
         "mode": "markers+lines+text",
         "name": "Bzy_MHz",
         "orientation": "v",
         "showlegend": true,
         "text": [
          2011,
          2020,
          2009,
          2019,
          2020,
          2021,
          2022,
          2022,
          2022,
          2023,
          2023,
          2023,
          2023
         ],
         "textposition": "bottom right",
         "type": "scatter",
         "x": [
          "2.5.6",
          "2.7.18",
          "3.0.1",
          "3.4.10",
          "3.5.10",
          "3.6.15",
          "3.7.16",
          "3.8.16",
          "3.9.16",
          "3.10.11",
          "3.11.3",
          "3.12.0b1",
          "3.13.0a0"
         ],
         "xaxis": "x",
         "y": [
          4070.2,
          4003.5,
          3401.6,
          3354.4,
          3347.5,
          3377.1,
          3359.6,
          3376.7,
          3378.7,
          3371.3,
          3358.5,
          3356.3,
          3379.3
         ],
         "yaxis": "y"
        },
        {
         "hovertemplate": "variable=IPC<br>python_version=%{x}<br>value=%{y}<br>text=%{text}<extra></extra>",
         "legendgroup": "IPC",
         "line": {
          "color": "#FFA15A",
          "dash": "solid"
         },
         "marker": {
          "symbol": "circle"
         },
         "mode": "markers+lines+text",
         "name": "IPC",
         "orientation": "v",
         "showlegend": true,
         "text": [
          2011,
          2020,
          2009,
          2019,
          2020,
          2021,
          2022,
          2022,
          2022,
          2023,
          2023,
          2023,
          2023
         ],
         "textposition": "bottom right",
         "type": "scatter",
         "x": [
          "2.5.6",
          "2.7.18",
          "3.0.1",
          "3.4.10",
          "3.5.10",
          "3.6.15",
          "3.7.16",
          "3.8.16",
          "3.9.16",
          "3.10.11",
          "3.11.3",
          "3.12.0b1",
          "3.13.0a0"
         ],
         "xaxis": "x",
         "y": [
          2.91,
          2.2,
          2.76,
          2.22,
          2.22,
          2.21,
          2.23,
          2.24,
          2.24,
          2.21,
          2.24,
          2.23,
          2.24
         ],
         "yaxis": "y"
        },
        {
         "hovertemplate": "variable=IRQ<br>python_version=%{x}<br>value=%{y}<br>text=%{text}<extra></extra>",
         "legendgroup": "IRQ",
         "line": {
          "color": "#19d3f3",
          "dash": "solid"
         },
         "marker": {
          "symbol": "circle"
         },
         "mode": "markers+lines+text",
         "name": "IRQ",
         "orientation": "v",
         "showlegend": true,
         "text": [
          2011,
          2020,
          2009,
          2019,
          2020,
          2021,
          2022,
          2022,
          2022,
          2023,
          2023,
          2023,
          2023
         ],
         "textposition": "bottom right",
         "type": "scatter",
         "x": [
          "2.5.6",
          "2.7.18",
          "3.0.1",
          "3.4.10",
          "3.5.10",
          "3.6.15",
          "3.7.16",
          "3.8.16",
          "3.9.16",
          "3.10.11",
          "3.11.3",
          "3.12.0b1",
          "3.13.0a0"
         ],
         "xaxis": "x",
         "y": [
          10989.3,
          8562.1,
          6426.2,
          4345.7,
          4881.4,
          4278.2,
          4222.6,
          4123.1,
          4003.8,
          4374.3,
          4137.4,
          4131.2,
          3949
         ],
         "yaxis": "y"
        },
        {
         "hovertemplate": "variable=POLL<br>python_version=%{x}<br>value=%{y}<br>text=%{text}<extra></extra>",
         "legendgroup": "POLL",
         "line": {
          "color": "#FF6692",
          "dash": "solid"
         },
         "marker": {
          "symbol": "circle"
         },
         "mode": "markers+lines+text",
         "name": "POLL",
         "orientation": "v",
         "showlegend": true,
         "text": [
          2011,
          2020,
          2009,
          2019,
          2020,
          2021,
          2022,
          2022,
          2022,
          2023,
          2023,
          2023,
          2023
         ],
         "textposition": "bottom right",
         "type": "scatter",
         "x": [
          "2.5.6",
          "2.7.18",
          "3.0.1",
          "3.4.10",
          "3.5.10",
          "3.6.15",
          "3.7.16",
          "3.8.16",
          "3.9.16",
          "3.10.11",
          "3.11.3",
          "3.12.0b1",
          "3.13.0a0"
         ],
         "xaxis": "x",
         "y": [
          102,
          88.2,
          145.2,
          98.7,
          276.6,
          50.7,
          62.9,
          71.4,
          60.6,
          96.8,
          61.3,
          65.8,
          35.1
         ],
         "yaxis": "y"
        }
       ],
       "layout": {
        "legend": {
         "title": {
          "text": "variable"
         },
         "tracegroupgap": 0
        },
        "margin": {
         "t": 60
        },
        "template": {
         "data": {
          "bar": [
           {
            "error_x": {
             "color": "#2a3f5f"
            },
            "error_y": {
             "color": "#2a3f5f"
            },
            "marker": {
             "line": {
              "color": "#E5ECF6",
              "width": 0.5
             },
             "pattern": {
              "fillmode": "overlay",
              "size": 10,
              "solidity": 0.2
             }
            },
            "type": "bar"
           }
          ],
          "barpolar": [
           {
            "marker": {
             "line": {
              "color": "#E5ECF6",
              "width": 0.5
             },
             "pattern": {
              "fillmode": "overlay",
              "size": 10,
              "solidity": 0.2
             }
            },
            "type": "barpolar"
           }
          ],
          "carpet": [
           {
            "aaxis": {
             "endlinecolor": "#2a3f5f",
             "gridcolor": "white",
             "linecolor": "white",
             "minorgridcolor": "white",
             "startlinecolor": "#2a3f5f"
            },
            "baxis": {
             "endlinecolor": "#2a3f5f",
             "gridcolor": "white",
             "linecolor": "white",
             "minorgridcolor": "white",
             "startlinecolor": "#2a3f5f"
            },
            "type": "carpet"
           }
          ],
          "choropleth": [
           {
            "colorbar": {
             "outlinewidth": 0,
             "ticks": ""
            },
            "type": "choropleth"
           }
          ],
          "contour": [
           {
            "colorbar": {
             "outlinewidth": 0,
             "ticks": ""
            },
            "colorscale": [
             [
              0,
              "#0d0887"
             ],
             [
              0.1111111111111111,
              "#46039f"
             ],
             [
              0.2222222222222222,
              "#7201a8"
             ],
             [
              0.3333333333333333,
              "#9c179e"
             ],
             [
              0.4444444444444444,
              "#bd3786"
             ],
             [
              0.5555555555555556,
              "#d8576b"
             ],
             [
              0.6666666666666666,
              "#ed7953"
             ],
             [
              0.7777777777777778,
              "#fb9f3a"
             ],
             [
              0.8888888888888888,
              "#fdca26"
             ],
             [
              1,
              "#f0f921"
             ]
            ],
            "type": "contour"
           }
          ],
          "contourcarpet": [
           {
            "colorbar": {
             "outlinewidth": 0,
             "ticks": ""
            },
            "type": "contourcarpet"
           }
          ],
          "heatmap": [
           {
            "colorbar": {
             "outlinewidth": 0,
             "ticks": ""
            },
            "colorscale": [
             [
              0,
              "#0d0887"
             ],
             [
              0.1111111111111111,
              "#46039f"
             ],
             [
              0.2222222222222222,
              "#7201a8"
             ],
             [
              0.3333333333333333,
              "#9c179e"
             ],
             [
              0.4444444444444444,
              "#bd3786"
             ],
             [
              0.5555555555555556,
              "#d8576b"
             ],
             [
              0.6666666666666666,
              "#ed7953"
             ],
             [
              0.7777777777777778,
              "#fb9f3a"
             ],
             [
              0.8888888888888888,
              "#fdca26"
             ],
             [
              1,
              "#f0f921"
             ]
            ],
            "type": "heatmap"
           }
          ],
          "heatmapgl": [
           {
            "colorbar": {
             "outlinewidth": 0,
             "ticks": ""
            },
            "colorscale": [
             [
              0,
              "#0d0887"
             ],
             [
              0.1111111111111111,
              "#46039f"
             ],
             [
              0.2222222222222222,
              "#7201a8"
             ],
             [
              0.3333333333333333,
              "#9c179e"
             ],
             [
              0.4444444444444444,
              "#bd3786"
             ],
             [
              0.5555555555555556,
              "#d8576b"
             ],
             [
              0.6666666666666666,
              "#ed7953"
             ],
             [
              0.7777777777777778,
              "#fb9f3a"
             ],
             [
              0.8888888888888888,
              "#fdca26"
             ],
             [
              1,
              "#f0f921"
             ]
            ],
            "type": "heatmapgl"
           }
          ],
          "histogram": [
           {
            "marker": {
             "pattern": {
              "fillmode": "overlay",
              "size": 10,
              "solidity": 0.2
             }
            },
            "type": "histogram"
           }
          ],
          "histogram2d": [
           {
            "colorbar": {
             "outlinewidth": 0,
             "ticks": ""
            },
            "colorscale": [
             [
              0,
              "#0d0887"
             ],
             [
              0.1111111111111111,
              "#46039f"
             ],
             [
              0.2222222222222222,
              "#7201a8"
             ],
             [
              0.3333333333333333,
              "#9c179e"
             ],
             [
              0.4444444444444444,
              "#bd3786"
             ],
             [
              0.5555555555555556,
              "#d8576b"
             ],
             [
              0.6666666666666666,
              "#ed7953"
             ],
             [
              0.7777777777777778,
              "#fb9f3a"
             ],
             [
              0.8888888888888888,
              "#fdca26"
             ],
             [
              1,
              "#f0f921"
             ]
            ],
            "type": "histogram2d"
           }
          ],
          "histogram2dcontour": [
           {
            "colorbar": {
             "outlinewidth": 0,
             "ticks": ""
            },
            "colorscale": [
             [
              0,
              "#0d0887"
             ],
             [
              0.1111111111111111,
              "#46039f"
             ],
             [
              0.2222222222222222,
              "#7201a8"
             ],
             [
              0.3333333333333333,
              "#9c179e"
             ],
             [
              0.4444444444444444,
              "#bd3786"
             ],
             [
              0.5555555555555556,
              "#d8576b"
             ],
             [
              0.6666666666666666,
              "#ed7953"
             ],
             [
              0.7777777777777778,
              "#fb9f3a"
             ],
             [
              0.8888888888888888,
              "#fdca26"
             ],
             [
              1,
              "#f0f921"
             ]
            ],
            "type": "histogram2dcontour"
           }
          ],
          "mesh3d": [
           {
            "colorbar": {
             "outlinewidth": 0,
             "ticks": ""
            },
            "type": "mesh3d"
           }
          ],
          "parcoords": [
           {
            "line": {
             "colorbar": {
              "outlinewidth": 0,
              "ticks": ""
             }
            },
            "type": "parcoords"
           }
          ],
          "pie": [
           {
            "automargin": true,
            "type": "pie"
           }
          ],
          "scatter": [
           {
            "fillpattern": {
             "fillmode": "overlay",
             "size": 10,
             "solidity": 0.2
            },
            "type": "scatter"
           }
          ],
          "scatter3d": [
           {
            "line": {
             "colorbar": {
              "outlinewidth": 0,
              "ticks": ""
             }
            },
            "marker": {
             "colorbar": {
              "outlinewidth": 0,
              "ticks": ""
             }
            },
            "type": "scatter3d"
           }
          ],
          "scattercarpet": [
           {
            "marker": {
             "colorbar": {
              "outlinewidth": 0,
              "ticks": ""
             }
            },
            "type": "scattercarpet"
           }
          ],
          "scattergeo": [
           {
            "marker": {
             "colorbar": {
              "outlinewidth": 0,
              "ticks": ""
             }
            },
            "type": "scattergeo"
           }
          ],
          "scattergl": [
           {
            "marker": {
             "colorbar": {
              "outlinewidth": 0,
              "ticks": ""
             }
            },
            "type": "scattergl"
           }
          ],
          "scattermapbox": [
           {
            "marker": {
             "colorbar": {
              "outlinewidth": 0,
              "ticks": ""
             }
            },
            "type": "scattermapbox"
           }
          ],
          "scatterpolar": [
           {
            "marker": {
             "colorbar": {
              "outlinewidth": 0,
              "ticks": ""
             }
            },
            "type": "scatterpolar"
           }
          ],
          "scatterpolargl": [
           {
            "marker": {
             "colorbar": {
              "outlinewidth": 0,
              "ticks": ""
             }
            },
            "type": "scatterpolargl"
           }
          ],
          "scatterternary": [
           {
            "marker": {
             "colorbar": {
              "outlinewidth": 0,
              "ticks": ""
             }
            },
            "type": "scatterternary"
           }
          ],
          "surface": [
           {
            "colorbar": {
             "outlinewidth": 0,
             "ticks": ""
            },
            "colorscale": [
             [
              0,
              "#0d0887"
             ],
             [
              0.1111111111111111,
              "#46039f"
             ],
             [
              0.2222222222222222,
              "#7201a8"
             ],
             [
              0.3333333333333333,
              "#9c179e"
             ],
             [
              0.4444444444444444,
              "#bd3786"
             ],
             [
              0.5555555555555556,
              "#d8576b"
             ],
             [
              0.6666666666666666,
              "#ed7953"
             ],
             [
              0.7777777777777778,
              "#fb9f3a"
             ],
             [
              0.8888888888888888,
              "#fdca26"
             ],
             [
              1,
              "#f0f921"
             ]
            ],
            "type": "surface"
           }
          ],
          "table": [
           {
            "cells": {
             "fill": {
              "color": "#EBF0F8"
             },
             "line": {
              "color": "white"
             }
            },
            "header": {
             "fill": {
              "color": "#C8D4E3"
             },
             "line": {
              "color": "white"
             }
            },
            "type": "table"
           }
          ]
         },
         "layout": {
          "annotationdefaults": {
           "arrowcolor": "#2a3f5f",
           "arrowhead": 0,
           "arrowwidth": 1
          },
          "autotypenumbers": "strict",
          "coloraxis": {
           "colorbar": {
            "outlinewidth": 0,
            "ticks": ""
           }
          },
          "colorscale": {
           "diverging": [
            [
             0,
             "#8e0152"
            ],
            [
             0.1,
             "#c51b7d"
            ],
            [
             0.2,
             "#de77ae"
            ],
            [
             0.3,
             "#f1b6da"
            ],
            [
             0.4,
             "#fde0ef"
            ],
            [
             0.5,
             "#f7f7f7"
            ],
            [
             0.6,
             "#e6f5d0"
            ],
            [
             0.7,
             "#b8e186"
            ],
            [
             0.8,
             "#7fbc41"
            ],
            [
             0.9,
             "#4d9221"
            ],
            [
             1,
             "#276419"
            ]
           ],
           "sequential": [
            [
             0,
             "#0d0887"
            ],
            [
             0.1111111111111111,
             "#46039f"
            ],
            [
             0.2222222222222222,
             "#7201a8"
            ],
            [
             0.3333333333333333,
             "#9c179e"
            ],
            [
             0.4444444444444444,
             "#bd3786"
            ],
            [
             0.5555555555555556,
             "#d8576b"
            ],
            [
             0.6666666666666666,
             "#ed7953"
            ],
            [
             0.7777777777777778,
             "#fb9f3a"
            ],
            [
             0.8888888888888888,
             "#fdca26"
            ],
            [
             1,
             "#f0f921"
            ]
           ],
           "sequentialminus": [
            [
             0,
             "#0d0887"
            ],
            [
             0.1111111111111111,
             "#46039f"
            ],
            [
             0.2222222222222222,
             "#7201a8"
            ],
            [
             0.3333333333333333,
             "#9c179e"
            ],
            [
             0.4444444444444444,
             "#bd3786"
            ],
            [
             0.5555555555555556,
             "#d8576b"
            ],
            [
             0.6666666666666666,
             "#ed7953"
            ],
            [
             0.7777777777777778,
             "#fb9f3a"
            ],
            [
             0.8888888888888888,
             "#fdca26"
            ],
            [
             1,
             "#f0f921"
            ]
           ]
          },
          "colorway": [
           "#636efa",
           "#EF553B",
           "#00cc96",
           "#ab63fa",
           "#FFA15A",
           "#19d3f3",
           "#FF6692",
           "#B6E880",
           "#FF97FF",
           "#FECB52"
          ],
          "font": {
           "color": "#2a3f5f"
          },
          "geo": {
           "bgcolor": "white",
           "lakecolor": "white",
           "landcolor": "#E5ECF6",
           "showlakes": true,
           "showland": true,
           "subunitcolor": "white"
          },
          "hoverlabel": {
           "align": "left"
          },
          "hovermode": "closest",
          "mapbox": {
           "style": "light"
          },
          "paper_bgcolor": "white",
          "plot_bgcolor": "#E5ECF6",
          "polar": {
           "angularaxis": {
            "gridcolor": "white",
            "linecolor": "white",
            "ticks": ""
           },
           "bgcolor": "#E5ECF6",
           "radialaxis": {
            "gridcolor": "white",
            "linecolor": "white",
            "ticks": ""
           }
          },
          "scene": {
           "xaxis": {
            "backgroundcolor": "#E5ECF6",
            "gridcolor": "white",
            "gridwidth": 2,
            "linecolor": "white",
            "showbackground": true,
            "ticks": "",
            "zerolinecolor": "white"
           },
           "yaxis": {
            "backgroundcolor": "#E5ECF6",
            "gridcolor": "white",
            "gridwidth": 2,
            "linecolor": "white",
            "showbackground": true,
            "ticks": "",
            "zerolinecolor": "white"
           },
           "zaxis": {
            "backgroundcolor": "#E5ECF6",
            "gridcolor": "white",
            "gridwidth": 2,
            "linecolor": "white",
            "showbackground": true,
            "ticks": "",
            "zerolinecolor": "white"
           }
          },
          "shapedefaults": {
           "line": {
            "color": "#2a3f5f"
           }
          },
          "ternary": {
           "aaxis": {
            "gridcolor": "white",
            "linecolor": "white",
            "ticks": ""
           },
           "baxis": {
            "gridcolor": "white",
            "linecolor": "white",
            "ticks": ""
           },
           "bgcolor": "#E5ECF6",
           "caxis": {
            "gridcolor": "white",
            "linecolor": "white",
            "ticks": ""
           }
          },
          "title": {
           "x": 0.05
          },
          "xaxis": {
           "automargin": true,
           "gridcolor": "white",
           "linecolor": "white",
           "ticks": "",
           "title": {
            "standoff": 15
           },
           "zerolinecolor": "white",
           "zerolinewidth": 2
          },
          "yaxis": {
           "automargin": true,
           "gridcolor": "white",
           "linecolor": "white",
           "ticks": "",
           "title": {
            "standoff": 15
           },
           "zerolinecolor": "white",
           "zerolinewidth": 2
          }
         }
        },
        "xaxis": {
         "anchor": "y",
         "domain": [
          0,
          1
         ],
         "title": {
          "text": "python_version"
         }
        },
        "yaxis": {
         "anchor": "x",
         "domain": [
          0,
          1
         ],
         "title": {
          "text": "value"
         }
        }
       }
      }
     },
     "metadata": {},
     "output_type": "display_data"
    },
    {
     "data": {
      "text/plain": [
       "'test1.html'"
      ]
     },
     "execution_count": 11,
     "metadata": {},
     "output_type": "execute_result"
    }
   ],
   "source": [
    "fig = px.line(df, x=\"python_version\", y=[\"time_elapsed\",\"Avg_MHz\",\"Busy%\",\"Bzy_MHz\",\"IPC\",\"IRQ\",\"POLL\"], text=pd.to_datetime(df['release_date']).dt.year)\n",
    "fig.update_traces(textposition=\"bottom right\")\n",
    "fig.show()\n",
    "#plotly.offline.plot(fig, filename='test1.html')"
   ]
  },
  {
   "attachments": {},
   "cell_type": "markdown",
   "metadata": {},
   "source": [
    "### More parameters through different Python versions"
   ]
  },
  {
   "cell_type": "code",
   "execution_count": 12,
   "metadata": {},
   "outputs": [
    {
     "data": {
      "application/vnd.plotly.v1+json": {
       "config": {
        "plotlyServerURL": "https://plot.ly"
       },
       "data": [
        {
         "hovertemplate": "variable=C1<br>python_version=%{x}<br>value=%{y}<br>text=%{text}<extra></extra>",
         "legendgroup": "C1",
         "line": {
          "color": "#636efa",
          "dash": "solid"
         },
         "marker": {
          "symbol": "circle"
         },
         "mode": "markers+lines+text",
         "name": "C1",
         "orientation": "v",
         "showlegend": true,
         "text": [
          2011,
          2020,
          2009,
          2019,
          2020,
          2021,
          2022,
          2022,
          2022,
          2023,
          2023,
          2023,
          2023
         ],
         "textposition": "bottom right",
         "type": "scatter",
         "x": [
          "2.5.6",
          "2.7.18",
          "3.0.1",
          "3.4.10",
          "3.5.10",
          "3.6.15",
          "3.7.16",
          "3.8.16",
          "3.9.16",
          "3.10.11",
          "3.11.3",
          "3.12.0b1",
          "3.13.0a0"
         ],
         "xaxis": "x",
         "y": [
          3817.7,
          3298.5,
          3419.3,
          3276.8,
          3197.7,
          3132.2,
          3195.3,
          3052.3,
          3413.3,
          3033.2,
          3328.4,
          3633.2,
          3363.6
         ],
         "yaxis": "y"
        },
        {
         "hovertemplate": "variable=C1E<br>python_version=%{x}<br>value=%{y}<br>text=%{text}<extra></extra>",
         "legendgroup": "C1E",
         "line": {
          "color": "#EF553B",
          "dash": "solid"
         },
         "marker": {
          "symbol": "circle"
         },
         "mode": "markers+lines+text",
         "name": "C1E",
         "orientation": "v",
         "showlegend": true,
         "text": [
          2011,
          2020,
          2009,
          2019,
          2020,
          2021,
          2022,
          2022,
          2022,
          2023,
          2023,
          2023,
          2023
         ],
         "textposition": "bottom right",
         "type": "scatter",
         "x": [
          "2.5.6",
          "2.7.18",
          "3.0.1",
          "3.4.10",
          "3.5.10",
          "3.6.15",
          "3.7.16",
          "3.8.16",
          "3.9.16",
          "3.10.11",
          "3.11.3",
          "3.12.0b1",
          "3.13.0a0"
         ],
         "xaxis": "x",
         "y": [
          1182,
          1241.6,
          1561.3,
          1465.9,
          1577.6,
          1484.6,
          1379.6,
          1408,
          1412.6,
          1542.8,
          1433.2,
          1447.6,
          1357.4
         ],
         "yaxis": "y"
        },
        {
         "hovertemplate": "variable=C3<br>python_version=%{x}<br>value=%{y}<br>text=%{text}<extra></extra>",
         "legendgroup": "C3",
         "line": {
          "color": "#00cc96",
          "dash": "solid"
         },
         "marker": {
          "symbol": "circle"
         },
         "mode": "markers+lines+text",
         "name": "C3",
         "orientation": "v",
         "showlegend": true,
         "text": [
          2011,
          2020,
          2009,
          2019,
          2020,
          2021,
          2022,
          2022,
          2022,
          2023,
          2023,
          2023,
          2023
         ],
         "textposition": "bottom right",
         "type": "scatter",
         "x": [
          "2.5.6",
          "2.7.18",
          "3.0.1",
          "3.4.10",
          "3.5.10",
          "3.6.15",
          "3.7.16",
          "3.8.16",
          "3.9.16",
          "3.10.11",
          "3.11.3",
          "3.12.0b1",
          "3.13.0a0"
         ],
         "xaxis": "x",
         "y": [
          197.9,
          296.8,
          356.7,
          366.9,
          355.2,
          274.6,
          244.4,
          334.5,
          152.9,
          425.3,
          212.1,
          186.1,
          174.2
         ],
         "yaxis": "y"
        },
        {
         "hovertemplate": "variable=C6<br>python_version=%{x}<br>value=%{y}<br>text=%{text}<extra></extra>",
         "legendgroup": "C6",
         "line": {
          "color": "#ab63fa",
          "dash": "solid"
         },
         "marker": {
          "symbol": "circle"
         },
         "mode": "markers+lines+text",
         "name": "C6",
         "orientation": "v",
         "showlegend": true,
         "text": [
          2011,
          2020,
          2009,
          2019,
          2020,
          2021,
          2022,
          2022,
          2022,
          2023,
          2023,
          2023,
          2023
         ],
         "textposition": "bottom right",
         "type": "scatter",
         "x": [
          "2.5.6",
          "2.7.18",
          "3.0.1",
          "3.4.10",
          "3.5.10",
          "3.6.15",
          "3.7.16",
          "3.8.16",
          "3.9.16",
          "3.10.11",
          "3.11.3",
          "3.12.0b1",
          "3.13.0a0"
         ],
         "xaxis": "x",
         "y": [
          488.5,
          447.5,
          382.5,
          341.4,
          420.3,
          222.4,
          211.2,
          259,
          136.7,
          405.1,
          165.4,
          195.5,
          123.9
         ],
         "yaxis": "y"
        },
        {
         "hovertemplate": "variable=C7s<br>python_version=%{x}<br>value=%{y}<br>text=%{text}<extra></extra>",
         "legendgroup": "C7s",
         "line": {
          "color": "#FFA15A",
          "dash": "solid"
         },
         "marker": {
          "symbol": "circle"
         },
         "mode": "markers+lines+text",
         "name": "C7s",
         "orientation": "v",
         "showlegend": true,
         "text": [
          2011,
          2020,
          2009,
          2019,
          2020,
          2021,
          2022,
          2022,
          2022,
          2023,
          2023,
          2023,
          2023
         ],
         "textposition": "bottom right",
         "type": "scatter",
         "x": [
          "2.5.6",
          "2.7.18",
          "3.0.1",
          "3.4.10",
          "3.5.10",
          "3.6.15",
          "3.7.16",
          "3.8.16",
          "3.9.16",
          "3.10.11",
          "3.11.3",
          "3.12.0b1",
          "3.13.0a0"
         ],
         "xaxis": "x",
         "y": [
          4.1,
          2.6,
          6,
          4.1,
          5.7,
          3,
          3.2,
          2.5,
          2.9,
          4.2,
          1.9,
          3.4,
          2.1
         ],
         "yaxis": "y"
        },
        {
         "hovertemplate": "variable=C8<br>python_version=%{x}<br>value=%{y}<br>text=%{text}<extra></extra>",
         "legendgroup": "C8",
         "line": {
          "color": "#19d3f3",
          "dash": "solid"
         },
         "marker": {
          "symbol": "circle"
         },
         "mode": "markers+lines+text",
         "name": "C8",
         "orientation": "v",
         "showlegend": true,
         "text": [
          2011,
          2020,
          2009,
          2019,
          2020,
          2021,
          2022,
          2022,
          2022,
          2023,
          2023,
          2023,
          2023
         ],
         "textposition": "bottom right",
         "type": "scatter",
         "x": [
          "2.5.6",
          "2.7.18",
          "3.0.1",
          "3.4.10",
          "3.5.10",
          "3.6.15",
          "3.7.16",
          "3.8.16",
          "3.9.16",
          "3.10.11",
          "3.11.3",
          "3.12.0b1",
          "3.13.0a0"
         ],
         "xaxis": "x",
         "y": [
          2096,
          1759.3,
          1613.9,
          1180.5,
          1501.2,
          1248.4,
          1213.1,
          1125.2,
          1119.1,
          1301.6,
          1146,
          1175.1,
          1070.6
         ],
         "yaxis": "y"
        }
       ],
       "layout": {
        "legend": {
         "title": {
          "text": "variable"
         },
         "tracegroupgap": 0
        },
        "margin": {
         "t": 60
        },
        "template": {
         "data": {
          "bar": [
           {
            "error_x": {
             "color": "#2a3f5f"
            },
            "error_y": {
             "color": "#2a3f5f"
            },
            "marker": {
             "line": {
              "color": "#E5ECF6",
              "width": 0.5
             },
             "pattern": {
              "fillmode": "overlay",
              "size": 10,
              "solidity": 0.2
             }
            },
            "type": "bar"
           }
          ],
          "barpolar": [
           {
            "marker": {
             "line": {
              "color": "#E5ECF6",
              "width": 0.5
             },
             "pattern": {
              "fillmode": "overlay",
              "size": 10,
              "solidity": 0.2
             }
            },
            "type": "barpolar"
           }
          ],
          "carpet": [
           {
            "aaxis": {
             "endlinecolor": "#2a3f5f",
             "gridcolor": "white",
             "linecolor": "white",
             "minorgridcolor": "white",
             "startlinecolor": "#2a3f5f"
            },
            "baxis": {
             "endlinecolor": "#2a3f5f",
             "gridcolor": "white",
             "linecolor": "white",
             "minorgridcolor": "white",
             "startlinecolor": "#2a3f5f"
            },
            "type": "carpet"
           }
          ],
          "choropleth": [
           {
            "colorbar": {
             "outlinewidth": 0,
             "ticks": ""
            },
            "type": "choropleth"
           }
          ],
          "contour": [
           {
            "colorbar": {
             "outlinewidth": 0,
             "ticks": ""
            },
            "colorscale": [
             [
              0,
              "#0d0887"
             ],
             [
              0.1111111111111111,
              "#46039f"
             ],
             [
              0.2222222222222222,
              "#7201a8"
             ],
             [
              0.3333333333333333,
              "#9c179e"
             ],
             [
              0.4444444444444444,
              "#bd3786"
             ],
             [
              0.5555555555555556,
              "#d8576b"
             ],
             [
              0.6666666666666666,
              "#ed7953"
             ],
             [
              0.7777777777777778,
              "#fb9f3a"
             ],
             [
              0.8888888888888888,
              "#fdca26"
             ],
             [
              1,
              "#f0f921"
             ]
            ],
            "type": "contour"
           }
          ],
          "contourcarpet": [
           {
            "colorbar": {
             "outlinewidth": 0,
             "ticks": ""
            },
            "type": "contourcarpet"
           }
          ],
          "heatmap": [
           {
            "colorbar": {
             "outlinewidth": 0,
             "ticks": ""
            },
            "colorscale": [
             [
              0,
              "#0d0887"
             ],
             [
              0.1111111111111111,
              "#46039f"
             ],
             [
              0.2222222222222222,
              "#7201a8"
             ],
             [
              0.3333333333333333,
              "#9c179e"
             ],
             [
              0.4444444444444444,
              "#bd3786"
             ],
             [
              0.5555555555555556,
              "#d8576b"
             ],
             [
              0.6666666666666666,
              "#ed7953"
             ],
             [
              0.7777777777777778,
              "#fb9f3a"
             ],
             [
              0.8888888888888888,
              "#fdca26"
             ],
             [
              1,
              "#f0f921"
             ]
            ],
            "type": "heatmap"
           }
          ],
          "heatmapgl": [
           {
            "colorbar": {
             "outlinewidth": 0,
             "ticks": ""
            },
            "colorscale": [
             [
              0,
              "#0d0887"
             ],
             [
              0.1111111111111111,
              "#46039f"
             ],
             [
              0.2222222222222222,
              "#7201a8"
             ],
             [
              0.3333333333333333,
              "#9c179e"
             ],
             [
              0.4444444444444444,
              "#bd3786"
             ],
             [
              0.5555555555555556,
              "#d8576b"
             ],
             [
              0.6666666666666666,
              "#ed7953"
             ],
             [
              0.7777777777777778,
              "#fb9f3a"
             ],
             [
              0.8888888888888888,
              "#fdca26"
             ],
             [
              1,
              "#f0f921"
             ]
            ],
            "type": "heatmapgl"
           }
          ],
          "histogram": [
           {
            "marker": {
             "pattern": {
              "fillmode": "overlay",
              "size": 10,
              "solidity": 0.2
             }
            },
            "type": "histogram"
           }
          ],
          "histogram2d": [
           {
            "colorbar": {
             "outlinewidth": 0,
             "ticks": ""
            },
            "colorscale": [
             [
              0,
              "#0d0887"
             ],
             [
              0.1111111111111111,
              "#46039f"
             ],
             [
              0.2222222222222222,
              "#7201a8"
             ],
             [
              0.3333333333333333,
              "#9c179e"
             ],
             [
              0.4444444444444444,
              "#bd3786"
             ],
             [
              0.5555555555555556,
              "#d8576b"
             ],
             [
              0.6666666666666666,
              "#ed7953"
             ],
             [
              0.7777777777777778,
              "#fb9f3a"
             ],
             [
              0.8888888888888888,
              "#fdca26"
             ],
             [
              1,
              "#f0f921"
             ]
            ],
            "type": "histogram2d"
           }
          ],
          "histogram2dcontour": [
           {
            "colorbar": {
             "outlinewidth": 0,
             "ticks": ""
            },
            "colorscale": [
             [
              0,
              "#0d0887"
             ],
             [
              0.1111111111111111,
              "#46039f"
             ],
             [
              0.2222222222222222,
              "#7201a8"
             ],
             [
              0.3333333333333333,
              "#9c179e"
             ],
             [
              0.4444444444444444,
              "#bd3786"
             ],
             [
              0.5555555555555556,
              "#d8576b"
             ],
             [
              0.6666666666666666,
              "#ed7953"
             ],
             [
              0.7777777777777778,
              "#fb9f3a"
             ],
             [
              0.8888888888888888,
              "#fdca26"
             ],
             [
              1,
              "#f0f921"
             ]
            ],
            "type": "histogram2dcontour"
           }
          ],
          "mesh3d": [
           {
            "colorbar": {
             "outlinewidth": 0,
             "ticks": ""
            },
            "type": "mesh3d"
           }
          ],
          "parcoords": [
           {
            "line": {
             "colorbar": {
              "outlinewidth": 0,
              "ticks": ""
             }
            },
            "type": "parcoords"
           }
          ],
          "pie": [
           {
            "automargin": true,
            "type": "pie"
           }
          ],
          "scatter": [
           {
            "fillpattern": {
             "fillmode": "overlay",
             "size": 10,
             "solidity": 0.2
            },
            "type": "scatter"
           }
          ],
          "scatter3d": [
           {
            "line": {
             "colorbar": {
              "outlinewidth": 0,
              "ticks": ""
             }
            },
            "marker": {
             "colorbar": {
              "outlinewidth": 0,
              "ticks": ""
             }
            },
            "type": "scatter3d"
           }
          ],
          "scattercarpet": [
           {
            "marker": {
             "colorbar": {
              "outlinewidth": 0,
              "ticks": ""
             }
            },
            "type": "scattercarpet"
           }
          ],
          "scattergeo": [
           {
            "marker": {
             "colorbar": {
              "outlinewidth": 0,
              "ticks": ""
             }
            },
            "type": "scattergeo"
           }
          ],
          "scattergl": [
           {
            "marker": {
             "colorbar": {
              "outlinewidth": 0,
              "ticks": ""
             }
            },
            "type": "scattergl"
           }
          ],
          "scattermapbox": [
           {
            "marker": {
             "colorbar": {
              "outlinewidth": 0,
              "ticks": ""
             }
            },
            "type": "scattermapbox"
           }
          ],
          "scatterpolar": [
           {
            "marker": {
             "colorbar": {
              "outlinewidth": 0,
              "ticks": ""
             }
            },
            "type": "scatterpolar"
           }
          ],
          "scatterpolargl": [
           {
            "marker": {
             "colorbar": {
              "outlinewidth": 0,
              "ticks": ""
             }
            },
            "type": "scatterpolargl"
           }
          ],
          "scatterternary": [
           {
            "marker": {
             "colorbar": {
              "outlinewidth": 0,
              "ticks": ""
             }
            },
            "type": "scatterternary"
           }
          ],
          "surface": [
           {
            "colorbar": {
             "outlinewidth": 0,
             "ticks": ""
            },
            "colorscale": [
             [
              0,
              "#0d0887"
             ],
             [
              0.1111111111111111,
              "#46039f"
             ],
             [
              0.2222222222222222,
              "#7201a8"
             ],
             [
              0.3333333333333333,
              "#9c179e"
             ],
             [
              0.4444444444444444,
              "#bd3786"
             ],
             [
              0.5555555555555556,
              "#d8576b"
             ],
             [
              0.6666666666666666,
              "#ed7953"
             ],
             [
              0.7777777777777778,
              "#fb9f3a"
             ],
             [
              0.8888888888888888,
              "#fdca26"
             ],
             [
              1,
              "#f0f921"
             ]
            ],
            "type": "surface"
           }
          ],
          "table": [
           {
            "cells": {
             "fill": {
              "color": "#EBF0F8"
             },
             "line": {
              "color": "white"
             }
            },
            "header": {
             "fill": {
              "color": "#C8D4E3"
             },
             "line": {
              "color": "white"
             }
            },
            "type": "table"
           }
          ]
         },
         "layout": {
          "annotationdefaults": {
           "arrowcolor": "#2a3f5f",
           "arrowhead": 0,
           "arrowwidth": 1
          },
          "autotypenumbers": "strict",
          "coloraxis": {
           "colorbar": {
            "outlinewidth": 0,
            "ticks": ""
           }
          },
          "colorscale": {
           "diverging": [
            [
             0,
             "#8e0152"
            ],
            [
             0.1,
             "#c51b7d"
            ],
            [
             0.2,
             "#de77ae"
            ],
            [
             0.3,
             "#f1b6da"
            ],
            [
             0.4,
             "#fde0ef"
            ],
            [
             0.5,
             "#f7f7f7"
            ],
            [
             0.6,
             "#e6f5d0"
            ],
            [
             0.7,
             "#b8e186"
            ],
            [
             0.8,
             "#7fbc41"
            ],
            [
             0.9,
             "#4d9221"
            ],
            [
             1,
             "#276419"
            ]
           ],
           "sequential": [
            [
             0,
             "#0d0887"
            ],
            [
             0.1111111111111111,
             "#46039f"
            ],
            [
             0.2222222222222222,
             "#7201a8"
            ],
            [
             0.3333333333333333,
             "#9c179e"
            ],
            [
             0.4444444444444444,
             "#bd3786"
            ],
            [
             0.5555555555555556,
             "#d8576b"
            ],
            [
             0.6666666666666666,
             "#ed7953"
            ],
            [
             0.7777777777777778,
             "#fb9f3a"
            ],
            [
             0.8888888888888888,
             "#fdca26"
            ],
            [
             1,
             "#f0f921"
            ]
           ],
           "sequentialminus": [
            [
             0,
             "#0d0887"
            ],
            [
             0.1111111111111111,
             "#46039f"
            ],
            [
             0.2222222222222222,
             "#7201a8"
            ],
            [
             0.3333333333333333,
             "#9c179e"
            ],
            [
             0.4444444444444444,
             "#bd3786"
            ],
            [
             0.5555555555555556,
             "#d8576b"
            ],
            [
             0.6666666666666666,
             "#ed7953"
            ],
            [
             0.7777777777777778,
             "#fb9f3a"
            ],
            [
             0.8888888888888888,
             "#fdca26"
            ],
            [
             1,
             "#f0f921"
            ]
           ]
          },
          "colorway": [
           "#636efa",
           "#EF553B",
           "#00cc96",
           "#ab63fa",
           "#FFA15A",
           "#19d3f3",
           "#FF6692",
           "#B6E880",
           "#FF97FF",
           "#FECB52"
          ],
          "font": {
           "color": "#2a3f5f"
          },
          "geo": {
           "bgcolor": "white",
           "lakecolor": "white",
           "landcolor": "#E5ECF6",
           "showlakes": true,
           "showland": true,
           "subunitcolor": "white"
          },
          "hoverlabel": {
           "align": "left"
          },
          "hovermode": "closest",
          "mapbox": {
           "style": "light"
          },
          "paper_bgcolor": "white",
          "plot_bgcolor": "#E5ECF6",
          "polar": {
           "angularaxis": {
            "gridcolor": "white",
            "linecolor": "white",
            "ticks": ""
           },
           "bgcolor": "#E5ECF6",
           "radialaxis": {
            "gridcolor": "white",
            "linecolor": "white",
            "ticks": ""
           }
          },
          "scene": {
           "xaxis": {
            "backgroundcolor": "#E5ECF6",
            "gridcolor": "white",
            "gridwidth": 2,
            "linecolor": "white",
            "showbackground": true,
            "ticks": "",
            "zerolinecolor": "white"
           },
           "yaxis": {
            "backgroundcolor": "#E5ECF6",
            "gridcolor": "white",
            "gridwidth": 2,
            "linecolor": "white",
            "showbackground": true,
            "ticks": "",
            "zerolinecolor": "white"
           },
           "zaxis": {
            "backgroundcolor": "#E5ECF6",
            "gridcolor": "white",
            "gridwidth": 2,
            "linecolor": "white",
            "showbackground": true,
            "ticks": "",
            "zerolinecolor": "white"
           }
          },
          "shapedefaults": {
           "line": {
            "color": "#2a3f5f"
           }
          },
          "ternary": {
           "aaxis": {
            "gridcolor": "white",
            "linecolor": "white",
            "ticks": ""
           },
           "baxis": {
            "gridcolor": "white",
            "linecolor": "white",
            "ticks": ""
           },
           "bgcolor": "#E5ECF6",
           "caxis": {
            "gridcolor": "white",
            "linecolor": "white",
            "ticks": ""
           }
          },
          "title": {
           "x": 0.05
          },
          "xaxis": {
           "automargin": true,
           "gridcolor": "white",
           "linecolor": "white",
           "ticks": "",
           "title": {
            "standoff": 15
           },
           "zerolinecolor": "white",
           "zerolinewidth": 2
          },
          "yaxis": {
           "automargin": true,
           "gridcolor": "white",
           "linecolor": "white",
           "ticks": "",
           "title": {
            "standoff": 15
           },
           "zerolinecolor": "white",
           "zerolinewidth": 2
          }
         }
        },
        "xaxis": {
         "anchor": "y",
         "domain": [
          0,
          1
         ],
         "title": {
          "text": "python_version"
         }
        },
        "yaxis": {
         "anchor": "x",
         "domain": [
          0,
          1
         ],
         "title": {
          "text": "value"
         }
        }
       }
      }
     },
     "metadata": {},
     "output_type": "display_data"
    }
   ],
   "source": [
    "fig = px.line(df, x=\"python_version\", y=[\"C1\",\"C1E\",\"C3\",\"C6\",\"C7s\",\"C8\"], text=pd.to_datetime(df['release_date']).dt.year)\n",
    "fig.update_traces(textposition=\"bottom right\")\n",
    "fig.show()"
   ]
  },
  {
   "attachments": {},
   "cell_type": "markdown",
   "metadata": {},
   "source": [
    "### Temperature through different Python versions"
   ]
  },
  {
   "cell_type": "code",
   "execution_count": 13,
   "metadata": {},
   "outputs": [
    {
     "data": {
      "application/vnd.plotly.v1+json": {
       "config": {
        "plotlyServerURL": "https://plot.ly"
       },
       "data": [
        {
         "hovertemplate": "variable=CoreTmp<br>python_version=%{x}<br>value=%{y}<br>text=%{text}<extra></extra>",
         "legendgroup": "CoreTmp",
         "line": {
          "color": "#636efa",
          "dash": "solid"
         },
         "marker": {
          "symbol": "circle"
         },
         "mode": "markers+lines+text",
         "name": "CoreTmp",
         "orientation": "v",
         "showlegend": true,
         "text": [
          2011,
          2020,
          2009,
          2019,
          2020,
          2021,
          2022,
          2022,
          2022,
          2023,
          2023,
          2023,
          2023
         ],
         "textposition": "bottom right",
         "type": "scatter",
         "x": [
          "2.5.6",
          "2.7.18",
          "3.0.1",
          "3.4.10",
          "3.5.10",
          "3.6.15",
          "3.7.16",
          "3.8.16",
          "3.9.16",
          "3.10.11",
          "3.11.3",
          "3.12.0b1",
          "3.13.0a0"
         ],
         "xaxis": "x",
         "y": [
          91.3,
          94.8,
          80.8,
          78.9,
          78.8,
          78.5,
          78.4,
          78.7,
          78.9,
          78.8,
          78.3,
          78.8,
          79.2
         ],
         "yaxis": "y"
        },
        {
         "hovertemplate": "variable=PkgTmp<br>python_version=%{x}<br>value=%{y}<br>text=%{text}<extra></extra>",
         "legendgroup": "PkgTmp",
         "line": {
          "color": "#EF553B",
          "dash": "solid"
         },
         "marker": {
          "symbol": "circle"
         },
         "mode": "markers+lines+text",
         "name": "PkgTmp",
         "orientation": "v",
         "showlegend": true,
         "text": [
          2011,
          2020,
          2009,
          2019,
          2020,
          2021,
          2022,
          2022,
          2022,
          2023,
          2023,
          2023,
          2023
         ],
         "textposition": "bottom right",
         "type": "scatter",
         "x": [
          "2.5.6",
          "2.7.18",
          "3.0.1",
          "3.4.10",
          "3.5.10",
          "3.6.15",
          "3.7.16",
          "3.8.16",
          "3.9.16",
          "3.10.11",
          "3.11.3",
          "3.12.0b1",
          "3.13.0a0"
         ],
         "xaxis": "x",
         "y": [
          91.9,
          95.6,
          81.7,
          79.8,
          79.7,
          79.9,
          79.2,
          80,
          79.9,
          79.4,
          79,
          79.4,
          80
         ],
         "yaxis": "y"
        }
       ],
       "layout": {
        "legend": {
         "title": {
          "text": "variable"
         },
         "tracegroupgap": 0
        },
        "margin": {
         "t": 60
        },
        "template": {
         "data": {
          "bar": [
           {
            "error_x": {
             "color": "#2a3f5f"
            },
            "error_y": {
             "color": "#2a3f5f"
            },
            "marker": {
             "line": {
              "color": "#E5ECF6",
              "width": 0.5
             },
             "pattern": {
              "fillmode": "overlay",
              "size": 10,
              "solidity": 0.2
             }
            },
            "type": "bar"
           }
          ],
          "barpolar": [
           {
            "marker": {
             "line": {
              "color": "#E5ECF6",
              "width": 0.5
             },
             "pattern": {
              "fillmode": "overlay",
              "size": 10,
              "solidity": 0.2
             }
            },
            "type": "barpolar"
           }
          ],
          "carpet": [
           {
            "aaxis": {
             "endlinecolor": "#2a3f5f",
             "gridcolor": "white",
             "linecolor": "white",
             "minorgridcolor": "white",
             "startlinecolor": "#2a3f5f"
            },
            "baxis": {
             "endlinecolor": "#2a3f5f",
             "gridcolor": "white",
             "linecolor": "white",
             "minorgridcolor": "white",
             "startlinecolor": "#2a3f5f"
            },
            "type": "carpet"
           }
          ],
          "choropleth": [
           {
            "colorbar": {
             "outlinewidth": 0,
             "ticks": ""
            },
            "type": "choropleth"
           }
          ],
          "contour": [
           {
            "colorbar": {
             "outlinewidth": 0,
             "ticks": ""
            },
            "colorscale": [
             [
              0,
              "#0d0887"
             ],
             [
              0.1111111111111111,
              "#46039f"
             ],
             [
              0.2222222222222222,
              "#7201a8"
             ],
             [
              0.3333333333333333,
              "#9c179e"
             ],
             [
              0.4444444444444444,
              "#bd3786"
             ],
             [
              0.5555555555555556,
              "#d8576b"
             ],
             [
              0.6666666666666666,
              "#ed7953"
             ],
             [
              0.7777777777777778,
              "#fb9f3a"
             ],
             [
              0.8888888888888888,
              "#fdca26"
             ],
             [
              1,
              "#f0f921"
             ]
            ],
            "type": "contour"
           }
          ],
          "contourcarpet": [
           {
            "colorbar": {
             "outlinewidth": 0,
             "ticks": ""
            },
            "type": "contourcarpet"
           }
          ],
          "heatmap": [
           {
            "colorbar": {
             "outlinewidth": 0,
             "ticks": ""
            },
            "colorscale": [
             [
              0,
              "#0d0887"
             ],
             [
              0.1111111111111111,
              "#46039f"
             ],
             [
              0.2222222222222222,
              "#7201a8"
             ],
             [
              0.3333333333333333,
              "#9c179e"
             ],
             [
              0.4444444444444444,
              "#bd3786"
             ],
             [
              0.5555555555555556,
              "#d8576b"
             ],
             [
              0.6666666666666666,
              "#ed7953"
             ],
             [
              0.7777777777777778,
              "#fb9f3a"
             ],
             [
              0.8888888888888888,
              "#fdca26"
             ],
             [
              1,
              "#f0f921"
             ]
            ],
            "type": "heatmap"
           }
          ],
          "heatmapgl": [
           {
            "colorbar": {
             "outlinewidth": 0,
             "ticks": ""
            },
            "colorscale": [
             [
              0,
              "#0d0887"
             ],
             [
              0.1111111111111111,
              "#46039f"
             ],
             [
              0.2222222222222222,
              "#7201a8"
             ],
             [
              0.3333333333333333,
              "#9c179e"
             ],
             [
              0.4444444444444444,
              "#bd3786"
             ],
             [
              0.5555555555555556,
              "#d8576b"
             ],
             [
              0.6666666666666666,
              "#ed7953"
             ],
             [
              0.7777777777777778,
              "#fb9f3a"
             ],
             [
              0.8888888888888888,
              "#fdca26"
             ],
             [
              1,
              "#f0f921"
             ]
            ],
            "type": "heatmapgl"
           }
          ],
          "histogram": [
           {
            "marker": {
             "pattern": {
              "fillmode": "overlay",
              "size": 10,
              "solidity": 0.2
             }
            },
            "type": "histogram"
           }
          ],
          "histogram2d": [
           {
            "colorbar": {
             "outlinewidth": 0,
             "ticks": ""
            },
            "colorscale": [
             [
              0,
              "#0d0887"
             ],
             [
              0.1111111111111111,
              "#46039f"
             ],
             [
              0.2222222222222222,
              "#7201a8"
             ],
             [
              0.3333333333333333,
              "#9c179e"
             ],
             [
              0.4444444444444444,
              "#bd3786"
             ],
             [
              0.5555555555555556,
              "#d8576b"
             ],
             [
              0.6666666666666666,
              "#ed7953"
             ],
             [
              0.7777777777777778,
              "#fb9f3a"
             ],
             [
              0.8888888888888888,
              "#fdca26"
             ],
             [
              1,
              "#f0f921"
             ]
            ],
            "type": "histogram2d"
           }
          ],
          "histogram2dcontour": [
           {
            "colorbar": {
             "outlinewidth": 0,
             "ticks": ""
            },
            "colorscale": [
             [
              0,
              "#0d0887"
             ],
             [
              0.1111111111111111,
              "#46039f"
             ],
             [
              0.2222222222222222,
              "#7201a8"
             ],
             [
              0.3333333333333333,
              "#9c179e"
             ],
             [
              0.4444444444444444,
              "#bd3786"
             ],
             [
              0.5555555555555556,
              "#d8576b"
             ],
             [
              0.6666666666666666,
              "#ed7953"
             ],
             [
              0.7777777777777778,
              "#fb9f3a"
             ],
             [
              0.8888888888888888,
              "#fdca26"
             ],
             [
              1,
              "#f0f921"
             ]
            ],
            "type": "histogram2dcontour"
           }
          ],
          "mesh3d": [
           {
            "colorbar": {
             "outlinewidth": 0,
             "ticks": ""
            },
            "type": "mesh3d"
           }
          ],
          "parcoords": [
           {
            "line": {
             "colorbar": {
              "outlinewidth": 0,
              "ticks": ""
             }
            },
            "type": "parcoords"
           }
          ],
          "pie": [
           {
            "automargin": true,
            "type": "pie"
           }
          ],
          "scatter": [
           {
            "fillpattern": {
             "fillmode": "overlay",
             "size": 10,
             "solidity": 0.2
            },
            "type": "scatter"
           }
          ],
          "scatter3d": [
           {
            "line": {
             "colorbar": {
              "outlinewidth": 0,
              "ticks": ""
             }
            },
            "marker": {
             "colorbar": {
              "outlinewidth": 0,
              "ticks": ""
             }
            },
            "type": "scatter3d"
           }
          ],
          "scattercarpet": [
           {
            "marker": {
             "colorbar": {
              "outlinewidth": 0,
              "ticks": ""
             }
            },
            "type": "scattercarpet"
           }
          ],
          "scattergeo": [
           {
            "marker": {
             "colorbar": {
              "outlinewidth": 0,
              "ticks": ""
             }
            },
            "type": "scattergeo"
           }
          ],
          "scattergl": [
           {
            "marker": {
             "colorbar": {
              "outlinewidth": 0,
              "ticks": ""
             }
            },
            "type": "scattergl"
           }
          ],
          "scattermapbox": [
           {
            "marker": {
             "colorbar": {
              "outlinewidth": 0,
              "ticks": ""
             }
            },
            "type": "scattermapbox"
           }
          ],
          "scatterpolar": [
           {
            "marker": {
             "colorbar": {
              "outlinewidth": 0,
              "ticks": ""
             }
            },
            "type": "scatterpolar"
           }
          ],
          "scatterpolargl": [
           {
            "marker": {
             "colorbar": {
              "outlinewidth": 0,
              "ticks": ""
             }
            },
            "type": "scatterpolargl"
           }
          ],
          "scatterternary": [
           {
            "marker": {
             "colorbar": {
              "outlinewidth": 0,
              "ticks": ""
             }
            },
            "type": "scatterternary"
           }
          ],
          "surface": [
           {
            "colorbar": {
             "outlinewidth": 0,
             "ticks": ""
            },
            "colorscale": [
             [
              0,
              "#0d0887"
             ],
             [
              0.1111111111111111,
              "#46039f"
             ],
             [
              0.2222222222222222,
              "#7201a8"
             ],
             [
              0.3333333333333333,
              "#9c179e"
             ],
             [
              0.4444444444444444,
              "#bd3786"
             ],
             [
              0.5555555555555556,
              "#d8576b"
             ],
             [
              0.6666666666666666,
              "#ed7953"
             ],
             [
              0.7777777777777778,
              "#fb9f3a"
             ],
             [
              0.8888888888888888,
              "#fdca26"
             ],
             [
              1,
              "#f0f921"
             ]
            ],
            "type": "surface"
           }
          ],
          "table": [
           {
            "cells": {
             "fill": {
              "color": "#EBF0F8"
             },
             "line": {
              "color": "white"
             }
            },
            "header": {
             "fill": {
              "color": "#C8D4E3"
             },
             "line": {
              "color": "white"
             }
            },
            "type": "table"
           }
          ]
         },
         "layout": {
          "annotationdefaults": {
           "arrowcolor": "#2a3f5f",
           "arrowhead": 0,
           "arrowwidth": 1
          },
          "autotypenumbers": "strict",
          "coloraxis": {
           "colorbar": {
            "outlinewidth": 0,
            "ticks": ""
           }
          },
          "colorscale": {
           "diverging": [
            [
             0,
             "#8e0152"
            ],
            [
             0.1,
             "#c51b7d"
            ],
            [
             0.2,
             "#de77ae"
            ],
            [
             0.3,
             "#f1b6da"
            ],
            [
             0.4,
             "#fde0ef"
            ],
            [
             0.5,
             "#f7f7f7"
            ],
            [
             0.6,
             "#e6f5d0"
            ],
            [
             0.7,
             "#b8e186"
            ],
            [
             0.8,
             "#7fbc41"
            ],
            [
             0.9,
             "#4d9221"
            ],
            [
             1,
             "#276419"
            ]
           ],
           "sequential": [
            [
             0,
             "#0d0887"
            ],
            [
             0.1111111111111111,
             "#46039f"
            ],
            [
             0.2222222222222222,
             "#7201a8"
            ],
            [
             0.3333333333333333,
             "#9c179e"
            ],
            [
             0.4444444444444444,
             "#bd3786"
            ],
            [
             0.5555555555555556,
             "#d8576b"
            ],
            [
             0.6666666666666666,
             "#ed7953"
            ],
            [
             0.7777777777777778,
             "#fb9f3a"
            ],
            [
             0.8888888888888888,
             "#fdca26"
            ],
            [
             1,
             "#f0f921"
            ]
           ],
           "sequentialminus": [
            [
             0,
             "#0d0887"
            ],
            [
             0.1111111111111111,
             "#46039f"
            ],
            [
             0.2222222222222222,
             "#7201a8"
            ],
            [
             0.3333333333333333,
             "#9c179e"
            ],
            [
             0.4444444444444444,
             "#bd3786"
            ],
            [
             0.5555555555555556,
             "#d8576b"
            ],
            [
             0.6666666666666666,
             "#ed7953"
            ],
            [
             0.7777777777777778,
             "#fb9f3a"
            ],
            [
             0.8888888888888888,
             "#fdca26"
            ],
            [
             1,
             "#f0f921"
            ]
           ]
          },
          "colorway": [
           "#636efa",
           "#EF553B",
           "#00cc96",
           "#ab63fa",
           "#FFA15A",
           "#19d3f3",
           "#FF6692",
           "#B6E880",
           "#FF97FF",
           "#FECB52"
          ],
          "font": {
           "color": "#2a3f5f"
          },
          "geo": {
           "bgcolor": "white",
           "lakecolor": "white",
           "landcolor": "#E5ECF6",
           "showlakes": true,
           "showland": true,
           "subunitcolor": "white"
          },
          "hoverlabel": {
           "align": "left"
          },
          "hovermode": "closest",
          "mapbox": {
           "style": "light"
          },
          "paper_bgcolor": "white",
          "plot_bgcolor": "#E5ECF6",
          "polar": {
           "angularaxis": {
            "gridcolor": "white",
            "linecolor": "white",
            "ticks": ""
           },
           "bgcolor": "#E5ECF6",
           "radialaxis": {
            "gridcolor": "white",
            "linecolor": "white",
            "ticks": ""
           }
          },
          "scene": {
           "xaxis": {
            "backgroundcolor": "#E5ECF6",
            "gridcolor": "white",
            "gridwidth": 2,
            "linecolor": "white",
            "showbackground": true,
            "ticks": "",
            "zerolinecolor": "white"
           },
           "yaxis": {
            "backgroundcolor": "#E5ECF6",
            "gridcolor": "white",
            "gridwidth": 2,
            "linecolor": "white",
            "showbackground": true,
            "ticks": "",
            "zerolinecolor": "white"
           },
           "zaxis": {
            "backgroundcolor": "#E5ECF6",
            "gridcolor": "white",
            "gridwidth": 2,
            "linecolor": "white",
            "showbackground": true,
            "ticks": "",
            "zerolinecolor": "white"
           }
          },
          "shapedefaults": {
           "line": {
            "color": "#2a3f5f"
           }
          },
          "ternary": {
           "aaxis": {
            "gridcolor": "white",
            "linecolor": "white",
            "ticks": ""
           },
           "baxis": {
            "gridcolor": "white",
            "linecolor": "white",
            "ticks": ""
           },
           "bgcolor": "#E5ECF6",
           "caxis": {
            "gridcolor": "white",
            "linecolor": "white",
            "ticks": ""
           }
          },
          "title": {
           "x": 0.05
          },
          "xaxis": {
           "automargin": true,
           "gridcolor": "white",
           "linecolor": "white",
           "ticks": "",
           "title": {
            "standoff": 15
           },
           "zerolinecolor": "white",
           "zerolinewidth": 2
          },
          "yaxis": {
           "automargin": true,
           "gridcolor": "white",
           "linecolor": "white",
           "ticks": "",
           "title": {
            "standoff": 15
           },
           "zerolinecolor": "white",
           "zerolinewidth": 2
          }
         }
        },
        "xaxis": {
         "anchor": "y",
         "domain": [
          0,
          1
         ],
         "title": {
          "text": "python_version"
         }
        },
        "yaxis": {
         "anchor": "x",
         "domain": [
          0,
          1
         ],
         "title": {
          "text": "value"
         }
        }
       }
      }
     },
     "metadata": {},
     "output_type": "display_data"
    }
   ],
   "source": [
    "fig = px.line(df, x=\"python_version\", y=[\"CoreTmp\",\"PkgTmp\"], text=pd.to_datetime(df['release_date']).dt.year)\n",
    "fig.update_traces(textposition=\"bottom right\")\n",
    "fig.show()"
   ]
  },
  {
   "attachments": {},
   "cell_type": "markdown",
   "metadata": {},
   "source": [
    "### More parameters through different Python versions"
   ]
  },
  {
   "cell_type": "code",
   "execution_count": 14,
   "metadata": {},
   "outputs": [
    {
     "data": {
      "application/vnd.plotly.v1+json": {
       "config": {
        "plotlyServerURL": "https://plot.ly"
       },
       "data": [
        {
         "hovertemplate": "variable=GFX%rc6<br>python_version=%{x}<br>value=%{y}<br>text=%{text}<extra></extra>",
         "legendgroup": "GFX%rc6",
         "line": {
          "color": "#636efa",
          "dash": "solid"
         },
         "marker": {
          "symbol": "circle"
         },
         "mode": "markers+lines+text",
         "name": "GFX%rc6",
         "orientation": "v",
         "showlegend": true,
         "text": [
          2011,
          2020,
          2009,
          2019,
          2020,
          2021,
          2022,
          2022,
          2022,
          2023,
          2023,
          2023,
          2023
         ],
         "textposition": "bottom right",
         "type": "scatter",
         "x": [
          "2.5.6",
          "2.7.18",
          "3.0.1",
          "3.4.10",
          "3.5.10",
          "3.6.15",
          "3.7.16",
          "3.8.16",
          "3.9.16",
          "3.10.11",
          "3.11.3",
          "3.12.0b1",
          "3.13.0a0"
         ],
         "xaxis": "x",
         "y": [
          98.78,
          98.62,
          98.66,
          98.6,
          98.6,
          98.59,
          98.66,
          98.54,
          98.65,
          98.58,
          98.65,
          98.62,
          98.62
         ],
         "yaxis": "y"
        },
        {
         "hovertemplate": "variable=GFXMHz<br>python_version=%{x}<br>value=%{y}<br>text=%{text}<extra></extra>",
         "legendgroup": "GFXMHz",
         "line": {
          "color": "#EF553B",
          "dash": "solid"
         },
         "marker": {
          "symbol": "circle"
         },
         "mode": "markers+lines+text",
         "name": "GFXMHz",
         "orientation": "v",
         "showlegend": true,
         "text": [
          2011,
          2020,
          2009,
          2019,
          2020,
          2021,
          2022,
          2022,
          2022,
          2023,
          2023,
          2023,
          2023
         ],
         "textposition": "bottom right",
         "type": "scatter",
         "x": [
          "2.5.6",
          "2.7.18",
          "3.0.1",
          "3.4.10",
          "3.5.10",
          "3.6.15",
          "3.7.16",
          "3.8.16",
          "3.9.16",
          "3.10.11",
          "3.11.3",
          "3.12.0b1",
          "3.13.0a0"
         ],
         "xaxis": "x",
         "y": [
          300,
          300,
          300,
          300,
          300,
          300,
          300,
          300,
          300,
          300,
          300,
          300,
          300
         ],
         "yaxis": "y"
        },
        {
         "hovertemplate": "variable=Totl%C0<br>python_version=%{x}<br>value=%{y}<br>text=%{text}<extra></extra>",
         "legendgroup": "Totl%C0",
         "line": {
          "color": "#00cc96",
          "dash": "solid"
         },
         "marker": {
          "symbol": "circle"
         },
         "mode": "markers+lines+text",
         "name": "Totl%C0",
         "orientation": "v",
         "showlegend": true,
         "text": [
          2011,
          2020,
          2009,
          2019,
          2020,
          2021,
          2022,
          2022,
          2022,
          2023,
          2023,
          2023,
          2023
         ],
         "textposition": "bottom right",
         "type": "scatter",
         "x": [
          "2.5.6",
          "2.7.18",
          "3.0.1",
          "3.4.10",
          "3.5.10",
          "3.6.15",
          "3.7.16",
          "3.8.16",
          "3.9.16",
          "3.10.11",
          "3.11.3",
          "3.12.0b1",
          "3.13.0a0"
         ],
         "xaxis": "x",
         "y": [
          102.9,
          103.64,
          103.7,
          104.57,
          106.29,
          104.17,
          103.91,
          103.94,
          103.82,
          104.42,
          104.12,
          104.22,
          103.79
         ],
         "yaxis": "y"
        },
        {
         "hovertemplate": "variable=Any%C0<br>python_version=%{x}<br>value=%{y}<br>text=%{text}<extra></extra>",
         "legendgroup": "Any%C0",
         "line": {
          "color": "#ab63fa",
          "dash": "solid"
         },
         "marker": {
          "symbol": "circle"
         },
         "mode": "markers+lines+text",
         "name": "Any%C0",
         "orientation": "v",
         "showlegend": true,
         "text": [
          2011,
          2020,
          2009,
          2019,
          2020,
          2021,
          2022,
          2022,
          2022,
          2023,
          2023,
          2023,
          2023
         ],
         "textposition": "bottom right",
         "type": "scatter",
         "x": [
          "2.5.6",
          "2.7.18",
          "3.0.1",
          "3.4.10",
          "3.5.10",
          "3.6.15",
          "3.7.16",
          "3.8.16",
          "3.9.16",
          "3.10.11",
          "3.11.3",
          "3.12.0b1",
          "3.13.0a0"
         ],
         "xaxis": "x",
         "y": [
          99.14,
          98.89,
          99.68,
          99.78,
          99.78,
          99.79,
          99.78,
          99.78,
          99.78,
          99.77,
          99.78,
          99.78,
          99.78
         ],
         "yaxis": "y"
        },
        {
         "hovertemplate": "variable=GFX%C0<br>python_version=%{x}<br>value=%{y}<br>text=%{text}<extra></extra>",
         "legendgroup": "GFX%C0",
         "line": {
          "color": "#FFA15A",
          "dash": "solid"
         },
         "marker": {
          "symbol": "circle"
         },
         "mode": "markers+lines+text",
         "name": "GFX%C0",
         "orientation": "v",
         "showlegend": true,
         "text": [
          2011,
          2020,
          2009,
          2019,
          2020,
          2021,
          2022,
          2022,
          2022,
          2023,
          2023,
          2023,
          2023
         ],
         "textposition": "bottom right",
         "type": "scatter",
         "x": [
          "2.5.6",
          "2.7.18",
          "3.0.1",
          "3.4.10",
          "3.5.10",
          "3.6.15",
          "3.7.16",
          "3.8.16",
          "3.9.16",
          "3.10.11",
          "3.11.3",
          "3.12.0b1",
          "3.13.0a0"
         ],
         "xaxis": "x",
         "y": [
          0.9,
          1.03,
          0.88,
          0.95,
          0.95,
          0.95,
          0.9,
          0.98,
          0.9,
          0.96,
          0.9,
          0.93,
          0.91
         ],
         "yaxis": "y"
        },
        {
         "hovertemplate": "variable=CPUGFX%<br>python_version=%{x}<br>value=%{y}<br>text=%{text}<extra></extra>",
         "legendgroup": "CPUGFX%",
         "line": {
          "color": "#19d3f3",
          "dash": "solid"
         },
         "marker": {
          "symbol": "circle"
         },
         "mode": "markers+lines+text",
         "name": "CPUGFX%",
         "orientation": "v",
         "showlegend": true,
         "text": [
          2011,
          2020,
          2009,
          2019,
          2020,
          2021,
          2022,
          2022,
          2022,
          2023,
          2023,
          2023,
          2023
         ],
         "textposition": "bottom right",
         "type": "scatter",
         "x": [
          "2.5.6",
          "2.7.18",
          "3.0.1",
          "3.4.10",
          "3.5.10",
          "3.6.15",
          "3.7.16",
          "3.8.16",
          "3.9.16",
          "3.10.11",
          "3.11.3",
          "3.12.0b1",
          "3.13.0a0"
         ],
         "xaxis": "x",
         "y": [
          0.88,
          1,
          0.88,
          0.95,
          0.95,
          0.95,
          0.9,
          0.98,
          0.9,
          0.96,
          0.9,
          0.93,
          0.91
         ],
         "yaxis": "y"
        }
       ],
       "layout": {
        "legend": {
         "title": {
          "text": "variable"
         },
         "tracegroupgap": 0
        },
        "margin": {
         "t": 60
        },
        "template": {
         "data": {
          "bar": [
           {
            "error_x": {
             "color": "#2a3f5f"
            },
            "error_y": {
             "color": "#2a3f5f"
            },
            "marker": {
             "line": {
              "color": "#E5ECF6",
              "width": 0.5
             },
             "pattern": {
              "fillmode": "overlay",
              "size": 10,
              "solidity": 0.2
             }
            },
            "type": "bar"
           }
          ],
          "barpolar": [
           {
            "marker": {
             "line": {
              "color": "#E5ECF6",
              "width": 0.5
             },
             "pattern": {
              "fillmode": "overlay",
              "size": 10,
              "solidity": 0.2
             }
            },
            "type": "barpolar"
           }
          ],
          "carpet": [
           {
            "aaxis": {
             "endlinecolor": "#2a3f5f",
             "gridcolor": "white",
             "linecolor": "white",
             "minorgridcolor": "white",
             "startlinecolor": "#2a3f5f"
            },
            "baxis": {
             "endlinecolor": "#2a3f5f",
             "gridcolor": "white",
             "linecolor": "white",
             "minorgridcolor": "white",
             "startlinecolor": "#2a3f5f"
            },
            "type": "carpet"
           }
          ],
          "choropleth": [
           {
            "colorbar": {
             "outlinewidth": 0,
             "ticks": ""
            },
            "type": "choropleth"
           }
          ],
          "contour": [
           {
            "colorbar": {
             "outlinewidth": 0,
             "ticks": ""
            },
            "colorscale": [
             [
              0,
              "#0d0887"
             ],
             [
              0.1111111111111111,
              "#46039f"
             ],
             [
              0.2222222222222222,
              "#7201a8"
             ],
             [
              0.3333333333333333,
              "#9c179e"
             ],
             [
              0.4444444444444444,
              "#bd3786"
             ],
             [
              0.5555555555555556,
              "#d8576b"
             ],
             [
              0.6666666666666666,
              "#ed7953"
             ],
             [
              0.7777777777777778,
              "#fb9f3a"
             ],
             [
              0.8888888888888888,
              "#fdca26"
             ],
             [
              1,
              "#f0f921"
             ]
            ],
            "type": "contour"
           }
          ],
          "contourcarpet": [
           {
            "colorbar": {
             "outlinewidth": 0,
             "ticks": ""
            },
            "type": "contourcarpet"
           }
          ],
          "heatmap": [
           {
            "colorbar": {
             "outlinewidth": 0,
             "ticks": ""
            },
            "colorscale": [
             [
              0,
              "#0d0887"
             ],
             [
              0.1111111111111111,
              "#46039f"
             ],
             [
              0.2222222222222222,
              "#7201a8"
             ],
             [
              0.3333333333333333,
              "#9c179e"
             ],
             [
              0.4444444444444444,
              "#bd3786"
             ],
             [
              0.5555555555555556,
              "#d8576b"
             ],
             [
              0.6666666666666666,
              "#ed7953"
             ],
             [
              0.7777777777777778,
              "#fb9f3a"
             ],
             [
              0.8888888888888888,
              "#fdca26"
             ],
             [
              1,
              "#f0f921"
             ]
            ],
            "type": "heatmap"
           }
          ],
          "heatmapgl": [
           {
            "colorbar": {
             "outlinewidth": 0,
             "ticks": ""
            },
            "colorscale": [
             [
              0,
              "#0d0887"
             ],
             [
              0.1111111111111111,
              "#46039f"
             ],
             [
              0.2222222222222222,
              "#7201a8"
             ],
             [
              0.3333333333333333,
              "#9c179e"
             ],
             [
              0.4444444444444444,
              "#bd3786"
             ],
             [
              0.5555555555555556,
              "#d8576b"
             ],
             [
              0.6666666666666666,
              "#ed7953"
             ],
             [
              0.7777777777777778,
              "#fb9f3a"
             ],
             [
              0.8888888888888888,
              "#fdca26"
             ],
             [
              1,
              "#f0f921"
             ]
            ],
            "type": "heatmapgl"
           }
          ],
          "histogram": [
           {
            "marker": {
             "pattern": {
              "fillmode": "overlay",
              "size": 10,
              "solidity": 0.2
             }
            },
            "type": "histogram"
           }
          ],
          "histogram2d": [
           {
            "colorbar": {
             "outlinewidth": 0,
             "ticks": ""
            },
            "colorscale": [
             [
              0,
              "#0d0887"
             ],
             [
              0.1111111111111111,
              "#46039f"
             ],
             [
              0.2222222222222222,
              "#7201a8"
             ],
             [
              0.3333333333333333,
              "#9c179e"
             ],
             [
              0.4444444444444444,
              "#bd3786"
             ],
             [
              0.5555555555555556,
              "#d8576b"
             ],
             [
              0.6666666666666666,
              "#ed7953"
             ],
             [
              0.7777777777777778,
              "#fb9f3a"
             ],
             [
              0.8888888888888888,
              "#fdca26"
             ],
             [
              1,
              "#f0f921"
             ]
            ],
            "type": "histogram2d"
           }
          ],
          "histogram2dcontour": [
           {
            "colorbar": {
             "outlinewidth": 0,
             "ticks": ""
            },
            "colorscale": [
             [
              0,
              "#0d0887"
             ],
             [
              0.1111111111111111,
              "#46039f"
             ],
             [
              0.2222222222222222,
              "#7201a8"
             ],
             [
              0.3333333333333333,
              "#9c179e"
             ],
             [
              0.4444444444444444,
              "#bd3786"
             ],
             [
              0.5555555555555556,
              "#d8576b"
             ],
             [
              0.6666666666666666,
              "#ed7953"
             ],
             [
              0.7777777777777778,
              "#fb9f3a"
             ],
             [
              0.8888888888888888,
              "#fdca26"
             ],
             [
              1,
              "#f0f921"
             ]
            ],
            "type": "histogram2dcontour"
           }
          ],
          "mesh3d": [
           {
            "colorbar": {
             "outlinewidth": 0,
             "ticks": ""
            },
            "type": "mesh3d"
           }
          ],
          "parcoords": [
           {
            "line": {
             "colorbar": {
              "outlinewidth": 0,
              "ticks": ""
             }
            },
            "type": "parcoords"
           }
          ],
          "pie": [
           {
            "automargin": true,
            "type": "pie"
           }
          ],
          "scatter": [
           {
            "fillpattern": {
             "fillmode": "overlay",
             "size": 10,
             "solidity": 0.2
            },
            "type": "scatter"
           }
          ],
          "scatter3d": [
           {
            "line": {
             "colorbar": {
              "outlinewidth": 0,
              "ticks": ""
             }
            },
            "marker": {
             "colorbar": {
              "outlinewidth": 0,
              "ticks": ""
             }
            },
            "type": "scatter3d"
           }
          ],
          "scattercarpet": [
           {
            "marker": {
             "colorbar": {
              "outlinewidth": 0,
              "ticks": ""
             }
            },
            "type": "scattercarpet"
           }
          ],
          "scattergeo": [
           {
            "marker": {
             "colorbar": {
              "outlinewidth": 0,
              "ticks": ""
             }
            },
            "type": "scattergeo"
           }
          ],
          "scattergl": [
           {
            "marker": {
             "colorbar": {
              "outlinewidth": 0,
              "ticks": ""
             }
            },
            "type": "scattergl"
           }
          ],
          "scattermapbox": [
           {
            "marker": {
             "colorbar": {
              "outlinewidth": 0,
              "ticks": ""
             }
            },
            "type": "scattermapbox"
           }
          ],
          "scatterpolar": [
           {
            "marker": {
             "colorbar": {
              "outlinewidth": 0,
              "ticks": ""
             }
            },
            "type": "scatterpolar"
           }
          ],
          "scatterpolargl": [
           {
            "marker": {
             "colorbar": {
              "outlinewidth": 0,
              "ticks": ""
             }
            },
            "type": "scatterpolargl"
           }
          ],
          "scatterternary": [
           {
            "marker": {
             "colorbar": {
              "outlinewidth": 0,
              "ticks": ""
             }
            },
            "type": "scatterternary"
           }
          ],
          "surface": [
           {
            "colorbar": {
             "outlinewidth": 0,
             "ticks": ""
            },
            "colorscale": [
             [
              0,
              "#0d0887"
             ],
             [
              0.1111111111111111,
              "#46039f"
             ],
             [
              0.2222222222222222,
              "#7201a8"
             ],
             [
              0.3333333333333333,
              "#9c179e"
             ],
             [
              0.4444444444444444,
              "#bd3786"
             ],
             [
              0.5555555555555556,
              "#d8576b"
             ],
             [
              0.6666666666666666,
              "#ed7953"
             ],
             [
              0.7777777777777778,
              "#fb9f3a"
             ],
             [
              0.8888888888888888,
              "#fdca26"
             ],
             [
              1,
              "#f0f921"
             ]
            ],
            "type": "surface"
           }
          ],
          "table": [
           {
            "cells": {
             "fill": {
              "color": "#EBF0F8"
             },
             "line": {
              "color": "white"
             }
            },
            "header": {
             "fill": {
              "color": "#C8D4E3"
             },
             "line": {
              "color": "white"
             }
            },
            "type": "table"
           }
          ]
         },
         "layout": {
          "annotationdefaults": {
           "arrowcolor": "#2a3f5f",
           "arrowhead": 0,
           "arrowwidth": 1
          },
          "autotypenumbers": "strict",
          "coloraxis": {
           "colorbar": {
            "outlinewidth": 0,
            "ticks": ""
           }
          },
          "colorscale": {
           "diverging": [
            [
             0,
             "#8e0152"
            ],
            [
             0.1,
             "#c51b7d"
            ],
            [
             0.2,
             "#de77ae"
            ],
            [
             0.3,
             "#f1b6da"
            ],
            [
             0.4,
             "#fde0ef"
            ],
            [
             0.5,
             "#f7f7f7"
            ],
            [
             0.6,
             "#e6f5d0"
            ],
            [
             0.7,
             "#b8e186"
            ],
            [
             0.8,
             "#7fbc41"
            ],
            [
             0.9,
             "#4d9221"
            ],
            [
             1,
             "#276419"
            ]
           ],
           "sequential": [
            [
             0,
             "#0d0887"
            ],
            [
             0.1111111111111111,
             "#46039f"
            ],
            [
             0.2222222222222222,
             "#7201a8"
            ],
            [
             0.3333333333333333,
             "#9c179e"
            ],
            [
             0.4444444444444444,
             "#bd3786"
            ],
            [
             0.5555555555555556,
             "#d8576b"
            ],
            [
             0.6666666666666666,
             "#ed7953"
            ],
            [
             0.7777777777777778,
             "#fb9f3a"
            ],
            [
             0.8888888888888888,
             "#fdca26"
            ],
            [
             1,
             "#f0f921"
            ]
           ],
           "sequentialminus": [
            [
             0,
             "#0d0887"
            ],
            [
             0.1111111111111111,
             "#46039f"
            ],
            [
             0.2222222222222222,
             "#7201a8"
            ],
            [
             0.3333333333333333,
             "#9c179e"
            ],
            [
             0.4444444444444444,
             "#bd3786"
            ],
            [
             0.5555555555555556,
             "#d8576b"
            ],
            [
             0.6666666666666666,
             "#ed7953"
            ],
            [
             0.7777777777777778,
             "#fb9f3a"
            ],
            [
             0.8888888888888888,
             "#fdca26"
            ],
            [
             1,
             "#f0f921"
            ]
           ]
          },
          "colorway": [
           "#636efa",
           "#EF553B",
           "#00cc96",
           "#ab63fa",
           "#FFA15A",
           "#19d3f3",
           "#FF6692",
           "#B6E880",
           "#FF97FF",
           "#FECB52"
          ],
          "font": {
           "color": "#2a3f5f"
          },
          "geo": {
           "bgcolor": "white",
           "lakecolor": "white",
           "landcolor": "#E5ECF6",
           "showlakes": true,
           "showland": true,
           "subunitcolor": "white"
          },
          "hoverlabel": {
           "align": "left"
          },
          "hovermode": "closest",
          "mapbox": {
           "style": "light"
          },
          "paper_bgcolor": "white",
          "plot_bgcolor": "#E5ECF6",
          "polar": {
           "angularaxis": {
            "gridcolor": "white",
            "linecolor": "white",
            "ticks": ""
           },
           "bgcolor": "#E5ECF6",
           "radialaxis": {
            "gridcolor": "white",
            "linecolor": "white",
            "ticks": ""
           }
          },
          "scene": {
           "xaxis": {
            "backgroundcolor": "#E5ECF6",
            "gridcolor": "white",
            "gridwidth": 2,
            "linecolor": "white",
            "showbackground": true,
            "ticks": "",
            "zerolinecolor": "white"
           },
           "yaxis": {
            "backgroundcolor": "#E5ECF6",
            "gridcolor": "white",
            "gridwidth": 2,
            "linecolor": "white",
            "showbackground": true,
            "ticks": "",
            "zerolinecolor": "white"
           },
           "zaxis": {
            "backgroundcolor": "#E5ECF6",
            "gridcolor": "white",
            "gridwidth": 2,
            "linecolor": "white",
            "showbackground": true,
            "ticks": "",
            "zerolinecolor": "white"
           }
          },
          "shapedefaults": {
           "line": {
            "color": "#2a3f5f"
           }
          },
          "ternary": {
           "aaxis": {
            "gridcolor": "white",
            "linecolor": "white",
            "ticks": ""
           },
           "baxis": {
            "gridcolor": "white",
            "linecolor": "white",
            "ticks": ""
           },
           "bgcolor": "#E5ECF6",
           "caxis": {
            "gridcolor": "white",
            "linecolor": "white",
            "ticks": ""
           }
          },
          "title": {
           "x": 0.05
          },
          "xaxis": {
           "automargin": true,
           "gridcolor": "white",
           "linecolor": "white",
           "ticks": "",
           "title": {
            "standoff": 15
           },
           "zerolinecolor": "white",
           "zerolinewidth": 2
          },
          "yaxis": {
           "automargin": true,
           "gridcolor": "white",
           "linecolor": "white",
           "ticks": "",
           "title": {
            "standoff": 15
           },
           "zerolinecolor": "white",
           "zerolinewidth": 2
          }
         }
        },
        "xaxis": {
         "anchor": "y",
         "domain": [
          0,
          1
         ],
         "title": {
          "text": "python_version"
         }
        },
        "yaxis": {
         "anchor": "x",
         "domain": [
          0,
          1
         ],
         "title": {
          "text": "value"
         }
        }
       }
      }
     },
     "metadata": {},
     "output_type": "display_data"
    }
   ],
   "source": [
    "fig = px.line(df, x=\"python_version\", y=[\"GFX%rc6\",\"GFXMHz\",\"Totl%C0\",\"Any%C0\",\"GFX%C0\",\"CPUGFX%\"], text=pd.to_datetime(df['release_date']).dt.year)\n",
    "fig.update_traces(textposition=\"bottom right\")\n",
    "fig.show()"
   ]
  },
  {
   "attachments": {},
   "cell_type": "markdown",
   "metadata": {},
   "source": [
    "## Correlations"
   ]
  },
  {
   "attachments": {},
   "cell_type": "markdown",
   "metadata": {},
   "source": [
    "### Energy"
   ]
  },
  {
   "cell_type": "code",
   "execution_count": 15,
   "metadata": {},
   "outputs": [],
   "source": [
    "energy = pd.concat([python_version,time_elapsed,energy_core,energy_pkg,energy_gfx,energy_ram], axis=1)"
   ]
  },
  {
   "attachments": {},
   "cell_type": "markdown",
   "metadata": {},
   "source": [
    "### CPU"
   ]
  },
  {
   "cell_type": "code",
   "execution_count": 16,
   "metadata": {},
   "outputs": [],
   "source": [
    "cpu = pd.concat([time_elapsed,avg_mhz,busy_mhz,busy_percent,ipc,irq,poll,c1,c1e,c3,c6,c7s,c8,coreTemperature,pkgTemperature,total_c0_percent,any_c0_percent,cpugfx_percent,gfx_c0_percent,gfx_percent,gfx_mhz], axis=1)"
   ]
  },
  {
   "attachments": {},
   "cell_type": "markdown",
   "metadata": {},
   "source": [
    "## Notes"
   ]
  },
  {
   "cell_type": "code",
   "execution_count": 17,
   "metadata": {},
   "outputs": [],
   "source": [
    "# Normalize the data\n",
    "# Observe the correlation between the values\n",
    "# Select which parameters\n",
    "# Find information regarding the memory consumption/usage\n",
    "# Select algorithms/application\n",
    "\n",
    "\n",
    "# MEMORY DATA\n",
    "# READ ABOUT THE CHANGES IN THE LAST PYTHON VERSIONS - FINDING THE REASON!!!!!\n",
    "# MEANING OF EACH MEASUREMENT\n"
   ]
  }
 ],
 "metadata": {
  "kernelspec": {
   "display_name": "Python 3 (Spyder)",
   "language": "python3",
   "name": "python3"
  },
  "language_info": {
   "codemirror_mode": {
    "name": "ipython",
    "version": 3
   },
   "file_extension": ".py",
   "mimetype": "text/x-python",
   "name": "python",
   "nbconvert_exporter": "python",
   "pygments_lexer": "ipython3",
   "version": "3.11.3"
  }
 },
 "nbformat": 4,
 "nbformat_minor": 4
}
